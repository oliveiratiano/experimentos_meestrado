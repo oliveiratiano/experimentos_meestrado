{
 "cells": [
  {
   "cell_type": "code",
   "execution_count": 1,
   "metadata": {},
   "outputs": [
    {
     "name": "stderr",
     "output_type": "stream",
     "text": [
      "C:\\ProgramData\\Anaconda3\\lib\\site-packages\\tqdm\\std.py:648: FutureWarning: The Panel class is removed from pandas. Accessing it from the top-level namespace will also be removed in the next version\n",
      "  from pandas import Panel\n"
     ]
    }
   ],
   "source": [
    "from gensim.models import Word2Vec\n",
    "from gensim.models.word2vec import LineSentence\n",
    "import multiprocessing\n",
    "import pandas as pd\n",
    "import numpy as np\n",
    "from sklearn.decomposition import PCA\n",
    "import matplotlib.pyplot as plt\n",
    "from os import listdir\n",
    "from tqdm.auto import tqdm\n",
    "tqdm.pandas()"
   ]
  },
  {
   "cell_type": "code",
   "execution_count": 2,
   "metadata": {},
   "outputs": [],
   "source": [
    "corpus = \"dados/corpus_tratado/single/corpus_tratado.txt\"\n",
    "model = Word2Vec(LineSentence(corpus), size=100, window=5,                 \n",
    "                 min_count=5, sg=1, hs=1, iter=10, workers=multiprocessing.cpu_count(), sample = 0.00001)"
   ]
  },
  {
   "cell_type": "code",
   "execution_count": 3,
   "metadata": {
    "scrolled": true
   },
   "outputs": [
    {
     "name": "stdout",
     "output_type": "stream",
     "text": [
      "Word2Vec(vocab=39717, size=100, alpha=0.025)\n"
     ]
    }
   ],
   "source": [
    "print(model)"
   ]
  },
  {
   "cell_type": "code",
   "execution_count": 46,
   "metadata": {},
   "outputs": [],
   "source": [
    "words = list(model.wv.vocab)\n",
    "model.save(\"modelos/w2v_jur.model\")"
   ]
  },
  {
   "cell_type": "code",
   "execution_count": 5,
   "metadata": {},
   "outputs": [
    {
     "name": "stderr",
     "output_type": "stream",
     "text": [
      "C:\\ProgramData\\Anaconda3\\lib\\site-packages\\ipykernel_launcher.py:2: DeprecationWarning: Call to deprecated `__getitem__` (Method will be removed in 4.0.0, use self.wv.__getitem__() instead).\n",
      "  \n"
     ]
    },
    {
     "data": {
      "text/plain": [
       "{'pagamento': <gensim.models.keyedvectors.Vocab at 0x2106a736a08>,\n",
       " 'desembargadora': <gensim.models.keyedvectors.Vocab at 0x2106b0ab7c8>,\n",
       " 'dinheiro': <gensim.models.keyedvectors.Vocab at 0x2106a7c7f88>,\n",
       " 'desembargador': <gensim.models.keyedvectors.Vocab at 0x2106a803608>,\n",
       " 'mulher': <gensim.models.keyedvectors.Vocab at 0x2106a86c608>,\n",
       " 'salário': <gensim.models.keyedvectors.Vocab at 0x2106a781908>,\n",
       " 'homem': <gensim.models.keyedvectors.Vocab at 0x2106a86c5c8>}"
      ]
     },
     "execution_count": 5,
     "metadata": {},
     "output_type": "execute_result"
    }
   ],
   "source": [
    "l = ['homem', 'mulher', 'desembargador', 'desembargadora', 'salário', 'pagamento', 'dinheiro']\n",
    "X = model[l]\n",
    "dic = {k:model.wv.vocab[k] for k in set(model.wv.vocab).intersection(l)}\n",
    "dic"
   ]
  },
  {
   "cell_type": "code",
   "execution_count": 6,
   "metadata": {},
   "outputs": [
    {
     "data": {
      "image/png": "[encoded data removed]",
      "text/plain": [
       "<Figure size 432x288 with 1 Axes>"
      ]
     },
     "metadata": {
      "needs_background": "light"
     },
     "output_type": "display_data"
    }
   ],
   "source": [
    "pca = PCA(n_components=2)\n",
    "result = pca.fit_transform(X)\n",
    "plt.scatter(result[:, 0], result[:, 1])\n",
    "for i, word in enumerate(l):\n",
    "    plt.annotate(word, xy=(result[i, 0], result[i, 1]))\n",
    "plt.show()"
   ]
  },
  {
   "cell_type": "code",
   "execution_count": 41,
   "metadata": {},
   "outputs": [
    {
     "data": {
      "text/plain": [
       "[('rodrigo', 0.740486204624176),\n",
       " ('plastno', 0.7209423780441284),\n",
       " ('gomes', 0.7189576625823975),\n",
       " ('daniel', 0.7183153629302979),\n",
       " ('avilla', 0.7182043194770813),\n",
       " ('alexandra', 0.7131903171539307),\n",
       " ('antonio', 0.7095996141433716),\n",
       " ('mantilla', 0.7090675830841064),\n",
       " ('catapani', 0.7085869312286377),\n",
       " ('heloiza', 0.704072117805481),\n",
       " ('gesley', 0.7031880617141724),\n",
       " ('sandro', 0.7027162909507751),\n",
       " ('heiras', 0.6997817754745483),\n",
       " ('vixe', 0.6993074417114258),\n",
       " ('kästner', 0.6982036828994751),\n",
       " ('oliveira', 0.6955467462539673),\n",
       " ('coubói', 0.695537805557251),\n",
       " ('plastino', 0.6942404508590698),\n",
       " ('assessorá-lo', 0.6935888528823853),\n",
       " ('golmia', 0.6896857023239136),\n",
       " ('walter', 0.6880980134010315),\n",
       " ('franzini', 0.6880567073822021),\n",
       " ('martinsferreira', 0.6856468915939331),\n",
       " ('fontanezi', 0.6849033832550049),\n",
       " ('marilea', 0.6846143007278442),\n",
       " ('sanita', 0.6838554739952087),\n",
       " ('scarpin', 0.6835078597068787),\n",
       " ('jusciley', 0.6833661794662476),\n",
       " ('gardin', 0.6830035448074341),\n",
       " ('backes', 0.6827266812324524),\n",
       " ('dallaqua', 0.6825767755508423),\n",
       " ('ivanildomoreira', 0.6821098327636719),\n",
       " ('crotti', 0.6810004711151123),\n",
       " ('adalcina', 0.6801707744598389),\n",
       " ('elogiado', 0.6801231503486633),\n",
       " ('graca', 0.6794745326042175),\n",
       " ('márcio', 0.6793040633201599),\n",
       " ('rodelli', 0.6790041923522949),\n",
       " ('pumini', 0.6789602041244507),\n",
       " ('reunirão', 0.6783162355422974),\n",
       " ('elaino', 0.6780363917350769),\n",
       " ('chester', 0.677207350730896),\n",
       " ('calmona', 0.6771305799484253),\n",
       " ('abreu', 0.6768815517425537),\n",
       " ('pregucci', 0.6765972375869751),\n",
       " ('fasoli', 0.6764304637908936),\n",
       " ('rainer', 0.6761648654937744),\n",
       " ('antonello', 0.675597608089447),\n",
       " ('cantuário', 0.6748393177986145),\n",
       " ('montargil', 0.6747919321060181),\n",
       " ('tomazeti', 0.6741299629211426),\n",
       " ('glairton', 0.6741005778312683),\n",
       " ('edirlei', 0.6732879877090454),\n",
       " ('carminatti', 0.6722172498703003),\n",
       " ('adalbeerto', 0.6717756390571594),\n",
       " ('homenageou', 0.6716799736022949),\n",
       " ('missilaine', 0.6716501116752625),\n",
       " ('willian', 0.6714044809341431),\n",
       " ('zni', 0.6712583303451538),\n",
       " ('eliá', 0.6710143685340881),\n",
       " ('laudro', 0.6708943843841553),\n",
       " ('acusa-se', 0.6704619526863098),\n",
       " ('bisson', 0.6703648567199707),\n",
       " ('cesart', 0.6695409417152405),\n",
       " ('yasuo', 0.6693301796913147),\n",
       " ('chiesi', 0.6689245700836182),\n",
       " ('isa', 0.6687635183334351),\n",
       " ('romer', 0.6685736179351807),\n",
       " ('asseclas', 0.6680610179901123),\n",
       " ('bononi', 0.6678913831710815),\n",
       " ('helmer', 0.6676822900772095),\n",
       " ('viriato', 0.6671748161315918),\n",
       " ('timponi', 0.6668363213539124),\n",
       " ('magnopereira', 0.6663415431976318),\n",
       " ('quitéria', 0.6652891039848328),\n",
       " ('cariola', 0.6649676561355591),\n",
       " ('caubói', 0.6649606227874756),\n",
       " ('muryllo', 0.6648825407028198),\n",
       " ('pré-mortos', 0.6646856665611267),\n",
       " ('fiorese', 0.6646277904510498),\n",
       " ('berlato', 0.6641610264778137),\n",
       " ('malago', 0.6636197566986084),\n",
       " ('nitsch', 0.6634120345115662),\n",
       " ('carrascossi', 0.6632472276687622),\n",
       " ('angelo', 0.6627415418624878),\n",
       " ('roberto', 0.6620832681655884),\n",
       " ('merege', 0.6619052290916443),\n",
       " ('riesco', 0.6617642641067505),\n",
       " ('djaylom', 0.6617640852928162),\n",
       " ('bellodi', 0.6615993976593018),\n",
       " ('bovolon', 0.661494255065918),\n",
       " ('estefane', 0.661401093006134),\n",
       " ('sandré', 0.6613246202468872),\n",
       " ('david', 0.6610304117202759),\n",
       " ('laerte', 0.6609667539596558),\n",
       " ('zampiele', 0.6603473424911499),\n",
       " ('boller', 0.6602907180786133),\n",
       " ('niess', 0.6602340936660767),\n",
       " ('agobiti', 0.6598401069641113),\n",
       " ('katy', 0.6598002314567566)]"
      ]
     },
     "execution_count": 41,
     "metadata": {},
     "output_type": "execute_result"
    }
   ],
   "source": [
    "model.wv.similar_by_word('marcelo', topn=100)"
   ]
  },
  {
   "cell_type": "code",
   "execution_count": null,
   "metadata": {},
   "outputs": [],
   "source": [
    "model.wv.similar_by_vector((model['inquérito'] + model['administrativo'])/2, topn=100)"
   ]
  },
  {
   "cell_type": "code",
   "execution_count": null,
   "metadata": {},
   "outputs": [],
   "source": [
    "stopwords.words('portuguese')"
   ]
  },
  {
   "cell_type": "code",
   "execution_count": 42,
   "metadata": {},
   "outputs": [
    {
     "name": "stderr",
     "output_type": "stream",
     "text": [
      "C:\\ProgramData\\Anaconda3\\lib\\site-packages\\ipykernel_launcher.py:1: DeprecationWarning: Call to deprecated `__getitem__` (Method will be removed in 4.0.0, use self.wv.__getitem__() instead).\n",
      "  \"\"\"Entry point for launching an IPython kernel.\n"
     ]
    },
    {
     "data": {
      "text/plain": [
       "array([-0.22440654,  0.02982402, -0.11136705, -0.06795362, -0.06224841,\n",
       "       -0.37790564,  0.12705891, -0.21431443, -0.16176209,  0.12632868,\n",
       "        0.02940534,  0.40972397, -0.18543856, -0.12650499,  0.301375  ,\n",
       "        0.07625581, -0.12886643,  0.24217989, -0.18078662, -0.0371567 ,\n",
       "        0.24038248,  0.04001826,  0.18705499, -0.07399853,  0.3324826 ,\n",
       "       -0.14357741, -0.05287638,  0.42629462, -0.38504136,  0.01041055,\n",
       "       -0.03255651, -0.12201974,  0.41604468, -0.00956087,  0.27033526,\n",
       "       -0.04832914, -0.04318316, -0.1495626 , -0.53328645, -0.07166006,\n",
       "       -0.07311621, -0.02621359, -0.20827189,  0.134988  , -0.30662256,\n",
       "       -0.01503565, -0.09069635,  0.21374694,  0.15086295,  0.6915364 ,\n",
       "       -0.06190272,  0.20597172, -0.27286518, -0.15512179,  0.05176589,\n",
       "       -0.09029895,  0.15876578, -0.1642959 , -0.24876095,  0.16428964,\n",
       "       -0.046267  ,  0.22962663, -0.3111919 , -0.01826023, -0.27253157,\n",
       "        0.11262142, -0.3207784 , -0.5082788 , -0.18593879,  0.22434264,\n",
       "        0.10162587,  0.30065522,  0.079743  , -0.04731196,  0.25087595,\n",
       "        0.39535496,  0.36110938, -0.30386737, -0.01409589,  0.24033175,\n",
       "       -0.01900991,  0.05854103,  0.11569137,  0.10848206,  0.17523086,\n",
       "       -0.01246752,  0.01656428,  0.00189905,  0.3099192 , -0.00242815,\n",
       "       -0.39168033, -0.3412264 ,  0.35711214, -0.12865368, -0.09368017,\n",
       "        0.20023331, -0.20629722,  0.10209727, -0.12687497,  0.1841676 ],\n",
       "      dtype=float32)"
      ]
     },
     "execution_count": 42,
     "metadata": {},
     "output_type": "execute_result"
    }
   ],
   "source": [
    "(model['juiz'] + model['administrativa'])/2"
   ]
  },
  {
   "cell_type": "code",
   "execution_count": null,
   "metadata": {},
   "outputs": [],
   "source": []
  }
 ],
 "metadata": {
  "kernelspec": {
   "display_name": "Python 3",
   "language": "python",
   "name": "python3"
  },
  "language_info": {
   "codemirror_mode": {
    "name": "ipython",
    "version": 3
   },
   "file_extension": ".py",
   "mimetype": "text/x-python",
   "name": "python",
   "nbconvert_exporter": "python",
   "pygments_lexer": "ipython3",
   "version": "3.7.4"
  }
 },
 "nbformat": 4,
 "nbformat_minor": 2
}
