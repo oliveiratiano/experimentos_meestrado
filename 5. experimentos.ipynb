{
 "cells": [
  {
   "cell_type": "markdown",
   "metadata": {},
   "source": [
    "### Importação dos metadados"
   ]
  },
  {
   "cell_type": "code",
   "execution_count": 3,
   "metadata": {},
   "outputs": [
    {
     "name": "stdout",
     "output_type": "stream",
     "text": [
      "The autoreload extension is already loaded. To reload it, use:\n",
      "  %reload_ext autoreload\n"
     ]
    }
   ],
   "source": [
    "from src import grouper\n",
    "import pandas as pd\n",
    "import nltk\n",
    "%load_ext autoreload\n",
    "%autoreload 2\n",
    "df = pd.read_csv(\"dados/corpus_tratado/metadados.csv\")"
   ]
  },
  {
   "cell_type": "markdown",
   "metadata": {},
   "source": [
    "### Filtrando os ids por assuntos"
   ]
  },
  {
   "cell_type": "code",
   "execution_count": 4,
   "metadata": {},
   "outputs": [
    {
     "data": {
      "text/plain": [
       "35027"
      ]
     },
     "metadata": {},
     "output_type": "display_data"
    },
    {
     "data": {
      "text/plain": [
       "125"
      ]
     },
     "metadata": {},
     "output_type": "display_data"
    },
    {
     "data": {
      "text/html": [
       "<div>\n",
       "<style scoped>\n",
       "    .dataframe tbody tr th:only-of-type {\n",
       "        vertical-align: middle;\n",
       "    }\n",
       "\n",
       "    .dataframe tbody tr th {\n",
       "        vertical-align: top;\n",
       "    }\n",
       "\n",
       "    .dataframe thead th {\n",
       "        text-align: right;\n",
       "    }\n",
       "</style>\n",
       "<table border=\"1\" class=\"dataframe\">\n",
       "  <thead>\n",
       "    <tr style=\"text-align: right;\">\n",
       "      <th></th>\n",
       "      <th>id</th>\n",
       "      <th>Assunto</th>\n",
       "    </tr>\n",
       "  </thead>\n",
       "  <tbody>\n",
       "    <tr>\n",
       "      <td>0</td>\n",
       "      <td>1500075-43.2019.8.26.0569</td>\n",
       "      <td>Tráfico de Drogas e Condutas Afins</td>\n",
       "    </tr>\n",
       "    <tr>\n",
       "      <td>1</td>\n",
       "      <td>1019468-32.2019.8.26.0562</td>\n",
       "      <td>Alienação Fiduciária</td>\n",
       "    </tr>\n",
       "    <tr>\n",
       "      <td>2</td>\n",
       "      <td>0000043-68.2019.8.26.0616</td>\n",
       "      <td>Furto</td>\n",
       "    </tr>\n",
       "    <tr>\n",
       "      <td>3</td>\n",
       "      <td>1007259-02.2018.8.26.0292</td>\n",
       "      <td>DIREITO PREVIDENCIÁRIO</td>\n",
       "    </tr>\n",
       "    <tr>\n",
       "      <td>4</td>\n",
       "      <td>1000425-53.2019.8.26.0128</td>\n",
       "      <td>Rural (Art. 48/51)</td>\n",
       "    </tr>\n",
       "    <tr>\n",
       "      <td>...</td>\n",
       "      <td>...</td>\n",
       "      <td>...</td>\n",
       "    </tr>\n",
       "    <tr>\n",
       "      <td>35022</td>\n",
       "      <td>0001233-88.2018.8.26.0426</td>\n",
       "      <td>Cheque</td>\n",
       "    </tr>\n",
       "    <tr>\n",
       "      <td>35023</td>\n",
       "      <td>1514316-66.2019.8.26.0037</td>\n",
       "      <td>Impostos</td>\n",
       "    </tr>\n",
       "    <tr>\n",
       "      <td>35024</td>\n",
       "      <td>1008737-24.2019.8.26.0320</td>\n",
       "      <td>Indenização por Dano Material</td>\n",
       "    </tr>\n",
       "    <tr>\n",
       "      <td>35025</td>\n",
       "      <td>0000206-22.2019.8.26.0075</td>\n",
       "      <td>IPTU/ Imposto Predial e Territorial Urbano</td>\n",
       "    </tr>\n",
       "    <tr>\n",
       "      <td>35026</td>\n",
       "      <td>1002580-07.2019.8.26.0297</td>\n",
       "      <td>Indenização por Dano Moral</td>\n",
       "    </tr>\n",
       "  </tbody>\n",
       "</table>\n",
       "<p>35027 rows × 2 columns</p>\n",
       "</div>"
      ],
      "text/plain": [
       "                              id                                     Assunto\n",
       "0      1500075-43.2019.8.26.0569          Tráfico de Drogas e Condutas Afins\n",
       "1      1019468-32.2019.8.26.0562                        Alienação Fiduciária\n",
       "2      0000043-68.2019.8.26.0616                                       Furto\n",
       "3      1007259-02.2018.8.26.0292                      DIREITO PREVIDENCIÁRIO\n",
       "4      1000425-53.2019.8.26.0128                          Rural (Art. 48/51)\n",
       "...                          ...                                         ...\n",
       "35022  0001233-88.2018.8.26.0426                                      Cheque\n",
       "35023  1514316-66.2019.8.26.0037                                    Impostos\n",
       "35024  1008737-24.2019.8.26.0320               Indenização por Dano Material\n",
       "35025  0000206-22.2019.8.26.0075  IPTU/ Imposto Predial e Territorial Urbano\n",
       "35026  1002580-07.2019.8.26.0297                  Indenização por Dano Moral\n",
       "\n",
       "[35027 rows x 2 columns]"
      ]
     },
     "execution_count": 4,
     "metadata": {},
     "output_type": "execute_result"
    }
   ],
   "source": [
    "corte = 50\n",
    "df_validos = pd.DataFrame(df.groupby(\"Assunto\").size()).reset_index()\n",
    "df_validos.columns = [\"assunto\", \"quant\"]\n",
    "df_validos = df_validos.loc[df_validos.quant >= corte]\n",
    "display(df_validos.quant.sum())\n",
    "display(df_validos.assunto.nunique())\n",
    "documentos_validos = df[df.Assunto.isin(df_validos.assunto)][[\"id\", \"Assunto\"]].reset_index().drop('index', axis = 1)\n",
    "documentos_validos"
   ]
  },
  {
   "cell_type": "markdown",
   "metadata": {},
   "source": [
    "### Separando grupos de treino e teste de maneira que as distribuições de assuntos permaneçam similares"
   ]
  },
  {
   "cell_type": "code",
   "execution_count": 5,
   "metadata": {},
   "outputs": [],
   "source": [
    "from sklearn.model_selection import StratifiedShuffleSplit\n",
    "sss = StratifiedShuffleSplit(n_splits=1, test_size=0.2, random_state=0)\n",
    "X = documentos_validos.id\n",
    "y = documentos_validos.Assunto\n",
    "caminho_corpus = \"dados/corpus_tratado/\"\n",
    "\n",
    "#index[0] são os indices de treino, e index[1] são os de teste\n",
    "#i é o código do experimento\n",
    "for i, index in enumerate(sss.split(X, y)):    \n",
    "    exp = i+1\n",
    "    X_treino, X_teste = X[index[0]], X[index[1]]\n",
    "    y_treino, y_teste = y[index[0]], y[index[1]]    "
   ]
  },
  {
   "cell_type": "markdown",
   "metadata": {},
   "source": [
    "### Instanciando o corpus do conjunto de treinamento"
   ]
  },
  {
   "cell_type": "code",
   "execution_count": 6,
   "metadata": {},
   "outputs": [
    {
     "name": "stdout",
     "output_type": "stream",
     "text": [
      "criando base de treino para o experimento 1\n"
     ]
    },
    {
     "data": {
      "application/vnd.jupyter.widget-view+json": {
       "model_id": "0e651d8019c14d229e0896d65f78130a",
       "version_major": 2,
       "version_minor": 0
      },
      "text/plain": [
       "HBox(children=(IntProgress(value=0, max=28021), HTML(value='')))"
      ]
     },
     "metadata": {},
     "output_type": "display_data"
    },
    {
     "name": "stdout",
     "output_type": "stream",
     "text": [
      "\n",
      "16042036 tokens copiados com sucesso\n",
      "preparando documentos para extração do vocabulário:\n"
     ]
    },
    {
     "data": {
      "application/vnd.jupyter.widget-view+json": {
       "model_id": "004ce01a8cf842f082ceea2ae065d0ed",
       "version_major": 2,
       "version_minor": 0
      },
      "text/plain": [
       "HBox(children=(IntProgress(value=0, max=28021), HTML(value='')))"
      ]
     },
     "metadata": {},
     "output_type": "display_data"
    },
    {
     "name": "stdout",
     "output_type": "stream",
     "text": [
      "\n"
     ]
    },
    {
     "data": {
      "text/plain": [
       "(28021, 3)"
      ]
     },
     "execution_count": 6,
     "metadata": {},
     "output_type": "execute_result"
    }
   ],
   "source": [
    "from tqdm.notebook import tqdm\n",
    "import os\n",
    "diretorio = \"dados/corpus_tratado/\"\n",
    "X_treino = pd.DataFrame(X_treino)\n",
    "X_treino['id'] = X_treino.id + '.txt'\n",
    "\n",
    "print(\"criando base de treino para o experimento \"+str(exp))\n",
    "if not os.path.exists('dados/experimento_'+str(exp)):\n",
    "    os.makedirs('dados/experimento_'+str(exp))\n",
    "\n",
    "base_treino = open('dados/experimento_'+str(exp)+'/base_treino.txt', 'w+', encoding='utf8')\n",
    "tokens = 0\n",
    "for documento in tqdm(X_treino.id.values):\n",
    "    doc = open(diretorio + documento, 'r', encoding='utf8')\n",
    "    for frase in doc:\n",
    "        base_treino.write(frase)\n",
    "        tokens += len(frase.split(\" \"))\n",
    "base_treino.close()\n",
    "print(str(tokens)+ \" tokens copiados com sucesso\")\n",
    "print(\"preparando documentos para extração do vocabulário:\")\n",
    "X_treino['teores'] = [grouper.recuperar_teor(x, diretorio) for x in tqdm(X_treino.id)]\n",
    "X_treino['assunto'] = y_treino\n",
    "X_treino.shape"
   ]
  },
  {
   "cell_type": "markdown",
   "metadata": {},
   "source": [
    "### Vocabulário"
   ]
  },
  {
   "cell_type": "code",
   "execution_count": 7,
   "metadata": {
    "scrolled": false
   },
   "outputs": [
    {
     "name": "stdout",
     "output_type": "stream",
     "text": [
      "extraindo termos com base no ICA\n"
     ]
    },
    {
     "name": "stderr",
     "output_type": "stream",
     "text": [
      "100%|██████████| 125/125 [00:00<00:00, 331.20it/s]\n"
     ]
    },
    {
     "name": "stdout",
     "output_type": "stream",
     "text": [
      "-processando strings do corpus\n",
      "-treinando vetorizador\n",
      "-ICA processado\n",
      "extraindo termos com base na frequência\n",
      "extraindo termos do tesauro\n",
      "extração de vocabulário concluída!\n"
     ]
    }
   ],
   "source": [
    "freq_min = 100\n",
    "stopwords = nltk.corpus.stopwords.words('portuguese')\n",
    "vocab = grouper.extrair_vocabulario(X_treino, freq_min, stopwords)"
   ]
  },
  {
   "cell_type": "markdown",
   "metadata": {},
   "source": [
    "### Treinamento dos modelos"
   ]
  },
  {
   "cell_type": "code",
   "execution_count": 9,
   "metadata": {
    "scrolled": true
   },
   "outputs": [
    {
     "name": "stdout",
     "output_type": "stream",
     "text": [
      "treinando modelo word2vec\n"
     ]
    },
    {
     "name": "stderr",
     "output_type": "stream",
     "text": [
      "2021-02-23 19:48:59,890 : INFO : collecting all words and their counts\n",
      "2021-02-23 19:48:59,891 : INFO : PROGRESS: at sentence #0, processed 0 words, keeping 0 word types\n",
      "2021-02-23 19:48:59,959 : INFO : PROGRESS: at sentence #10000, processed 235769 words, keeping 13479 word types\n",
      "2021-02-23 19:49:00,028 : INFO : PROGRESS: at sentence #20000, processed 478506 words, keeping 18827 word types\n",
      "2021-02-23 19:49:00,100 : INFO : PROGRESS: at sentence #30000, processed 716990 words, keeping 22433 word types\n",
      "2021-02-23 19:49:00,170 : INFO : PROGRESS: at sentence #40000, processed 956912 words, keeping 25453 word types\n",
      "2021-02-23 19:49:00,238 : INFO : PROGRESS: at sentence #50000, processed 1198453 words, keeping 27868 word types\n",
      "2021-02-23 19:49:00,306 : INFO : PROGRESS: at sentence #60000, processed 1434600 words, keeping 30340 word types\n",
      "2021-02-23 19:49:00,375 : INFO : PROGRESS: at sentence #70000, processed 1678430 words, keeping 32461 word types\n",
      "2021-02-23 19:49:00,445 : INFO : PROGRESS: at sentence #80000, processed 1918098 words, keeping 34310 word types\n",
      "2021-02-23 19:49:00,514 : INFO : PROGRESS: at sentence #90000, processed 2156336 words, keeping 36035 word types\n",
      "2021-02-23 19:49:00,585 : INFO : PROGRESS: at sentence #100000, processed 2398940 words, keeping 37617 word types\n",
      "2021-02-23 19:49:00,661 : INFO : PROGRESS: at sentence #110000, processed 2637175 words, keeping 39115 word types\n",
      "2021-02-23 19:49:00,737 : INFO : PROGRESS: at sentence #120000, processed 2877198 words, keeping 40535 word types\n",
      "2021-02-23 19:49:00,815 : INFO : PROGRESS: at sentence #130000, processed 3116326 words, keeping 41914 word types\n",
      "2021-02-23 19:49:00,897 : INFO : PROGRESS: at sentence #140000, processed 3366816 words, keeping 43473 word types\n",
      "2021-02-23 19:49:00,985 : INFO : PROGRESS: at sentence #150000, processed 3614701 words, keeping 44786 word types\n",
      "2021-02-23 19:49:01,061 : INFO : PROGRESS: at sentence #160000, processed 3855422 words, keeping 46007 word types\n",
      "2021-02-23 19:49:01,134 : INFO : PROGRESS: at sentence #170000, processed 4094891 words, keeping 47124 word types\n",
      "2021-02-23 19:49:01,209 : INFO : PROGRESS: at sentence #180000, processed 4334237 words, keeping 48340 word types\n",
      "2021-02-23 19:49:01,287 : INFO : PROGRESS: at sentence #190000, processed 4576252 words, keeping 49342 word types\n",
      "2021-02-23 19:49:01,363 : INFO : PROGRESS: at sentence #200000, processed 4824132 words, keeping 50480 word types\n",
      "2021-02-23 19:49:01,438 : INFO : PROGRESS: at sentence #210000, processed 5062126 words, keeping 51483 word types\n",
      "2021-02-23 19:49:01,511 : INFO : PROGRESS: at sentence #220000, processed 5305266 words, keeping 52429 word types\n",
      "2021-02-23 19:49:01,584 : INFO : PROGRESS: at sentence #230000, processed 5550723 words, keeping 53444 word types\n",
      "2021-02-23 19:49:01,662 : INFO : PROGRESS: at sentence #240000, processed 5800318 words, keeping 54412 word types\n",
      "2021-02-23 19:49:01,739 : INFO : PROGRESS: at sentence #250000, processed 6049857 words, keeping 55457 word types\n",
      "2021-02-23 19:49:01,810 : INFO : PROGRESS: at sentence #260000, processed 6288867 words, keeping 56253 word types\n",
      "2021-02-23 19:49:01,888 : INFO : PROGRESS: at sentence #270000, processed 6539964 words, keeping 57133 word types\n",
      "2021-02-23 19:49:01,965 : INFO : PROGRESS: at sentence #280000, processed 6783410 words, keeping 57987 word types\n",
      "2021-02-23 19:49:02,041 : INFO : PROGRESS: at sentence #290000, processed 7025570 words, keeping 58857 word types\n",
      "2021-02-23 19:49:02,118 : INFO : PROGRESS: at sentence #300000, processed 7272182 words, keeping 59616 word types\n",
      "2021-02-23 19:49:02,190 : INFO : PROGRESS: at sentence #310000, processed 7515122 words, keeping 60294 word types\n",
      "2021-02-23 19:49:02,261 : INFO : PROGRESS: at sentence #320000, processed 7760803 words, keeping 61115 word types\n",
      "2021-02-23 19:49:02,333 : INFO : PROGRESS: at sentence #330000, processed 8007403 words, keeping 61972 word types\n",
      "2021-02-23 19:49:02,402 : INFO : PROGRESS: at sentence #340000, processed 8245032 words, keeping 62740 word types\n",
      "2021-02-23 19:49:02,476 : INFO : PROGRESS: at sentence #350000, processed 8486427 words, keeping 63495 word types\n",
      "2021-02-23 19:49:02,554 : INFO : PROGRESS: at sentence #360000, processed 8726848 words, keeping 64225 word types\n",
      "2021-02-23 19:49:02,631 : INFO : PROGRESS: at sentence #370000, processed 8973299 words, keeping 64913 word types\n",
      "2021-02-23 19:49:02,706 : INFO : PROGRESS: at sentence #380000, processed 9213292 words, keeping 65645 word types\n",
      "2021-02-23 19:49:02,783 : INFO : PROGRESS: at sentence #390000, processed 9460659 words, keeping 66427 word types\n",
      "2021-02-23 19:49:02,858 : INFO : PROGRESS: at sentence #400000, processed 9704171 words, keeping 67037 word types\n",
      "2021-02-23 19:49:02,933 : INFO : PROGRESS: at sentence #410000, processed 9944273 words, keeping 67717 word types\n",
      "2021-02-23 19:49:03,008 : INFO : PROGRESS: at sentence #420000, processed 10186493 words, keeping 68483 word types\n",
      "2021-02-23 19:49:03,081 : INFO : PROGRESS: at sentence #430000, processed 10430824 words, keeping 69260 word types\n",
      "2021-02-23 19:49:03,158 : INFO : PROGRESS: at sentence #440000, processed 10675104 words, keeping 69962 word types\n",
      "2021-02-23 19:49:03,236 : INFO : PROGRESS: at sentence #450000, processed 10916543 words, keeping 70624 word types\n",
      "2021-02-23 19:49:03,310 : INFO : PROGRESS: at sentence #460000, processed 11153599 words, keeping 71178 word types\n",
      "2021-02-23 19:49:03,386 : INFO : PROGRESS: at sentence #470000, processed 11400246 words, keeping 71873 word types\n",
      "2021-02-23 19:49:03,459 : INFO : PROGRESS: at sentence #480000, processed 11641081 words, keeping 72449 word types\n",
      "2021-02-23 19:49:03,533 : INFO : PROGRESS: at sentence #490000, processed 11879460 words, keeping 73023 word types\n",
      "2021-02-23 19:49:03,602 : INFO : PROGRESS: at sentence #500000, processed 12122776 words, keeping 73581 word types\n",
      "2021-02-23 19:49:03,673 : INFO : PROGRESS: at sentence #510000, processed 12367121 words, keeping 74255 word types\n",
      "2021-02-23 19:49:03,742 : INFO : PROGRESS: at sentence #520000, processed 12607611 words, keeping 74782 word types\n",
      "2021-02-23 19:49:03,816 : INFO : PROGRESS: at sentence #530000, processed 12851530 words, keeping 75319 word types\n",
      "2021-02-23 19:49:03,883 : INFO : PROGRESS: at sentence #540000, processed 13089923 words, keeping 75959 word types\n",
      "2021-02-23 19:49:03,949 : INFO : PROGRESS: at sentence #550000, processed 13327324 words, keeping 76489 word types\n",
      "2021-02-23 19:49:04,021 : INFO : PROGRESS: at sentence #560000, processed 13575962 words, keeping 77031 word types\n",
      "2021-02-23 19:49:04,093 : INFO : PROGRESS: at sentence #570000, processed 13817112 words, keeping 77602 word types\n",
      "2021-02-23 19:49:04,161 : INFO : PROGRESS: at sentence #580000, processed 14052857 words, keeping 78189 word types\n",
      "2021-02-23 19:49:04,234 : INFO : PROGRESS: at sentence #590000, processed 14300517 words, keeping 78737 word types\n",
      "2021-02-23 19:49:04,304 : INFO : PROGRESS: at sentence #600000, processed 14545068 words, keeping 79300 word types\n",
      "2021-02-23 19:49:04,376 : INFO : PROGRESS: at sentence #610000, processed 14792482 words, keeping 79812 word types\n",
      "2021-02-23 19:49:04,442 : INFO : PROGRESS: at sentence #620000, processed 15030477 words, keeping 80319 word types\n",
      "2021-02-23 19:49:04,513 : INFO : PROGRESS: at sentence #630000, processed 15269440 words, keeping 80955 word types\n",
      "2021-02-23 19:49:04,548 : INFO : collected 81218 word types from a corpus of 15387847 raw words and 634862 sentences\n",
      "2021-02-23 19:49:04,550 : INFO : Loading a fresh vocabulary\n",
      "2021-02-23 19:49:04,599 : INFO : effective_min_count=5 retains 32596 unique words (40% of original 81218, drops 48622)\n",
      "2021-02-23 19:49:04,600 : INFO : effective_min_count=5 leaves 15306026 word corpus (99% of original 15387847, drops 81821)\n",
      "2021-02-23 19:49:04,689 : INFO : deleting the raw counts dictionary of 81218 items\n",
      "2021-02-23 19:49:04,691 : INFO : sample=1e-05 downsamples 3206 most-common words\n",
      "2021-02-23 19:49:04,692 : INFO : downsampling leaves estimated 3697094 word corpus (24.2% of prior 15306026)\n",
      "2021-02-23 19:49:04,718 : INFO : constructing a huffman tree from 32596 words\n",
      "2021-02-23 19:49:05,468 : INFO : built huffman tree with maximum node depth 22\n"
     ]
    },
    {
     "name": "stderr",
     "output_type": "stream",
     "text": [
      "2021-02-23 19:49:05,525 : INFO : estimated required memory for 32596 words and 100 dimensions: 61932400 bytes\n",
      "2021-02-23 19:49:05,526 : INFO : resetting layer weights\n",
      "2021-02-23 19:49:05,851 : INFO : training model with 12 workers on 32596 vocabulary and 100 features, using sg=1 hs=1 sample=1e-05 negative=5 window=5\n",
      "2021-02-23 19:49:06,863 : INFO : EPOCH 1 - PROGRESS: at 9.06% examples, 327242 words/s, in_qsize 0, out_qsize 3\n",
      "2021-02-23 19:49:07,864 : INFO : EPOCH 1 - PROGRESS: at 17.97% examples, 326433 words/s, in_qsize 18, out_qsize 3\n",
      "2021-02-23 19:49:08,865 : INFO : EPOCH 1 - PROGRESS: at 26.88% examples, 328153 words/s, in_qsize 0, out_qsize 0\n",
      "2021-02-23 19:49:09,867 : INFO : EPOCH 1 - PROGRESS: at 35.51% examples, 326065 words/s, in_qsize 0, out_qsize 0\n",
      "2021-02-23 19:49:10,875 : INFO : EPOCH 1 - PROGRESS: at 42.69% examples, 314741 words/s, in_qsize 20, out_qsize 1\n",
      "2021-02-23 19:49:11,883 : INFO : EPOCH 1 - PROGRESS: at 51.44% examples, 316101 words/s, in_qsize 0, out_qsize 0\n",
      "2021-02-23 19:49:12,898 : INFO : EPOCH 1 - PROGRESS: at 59.00% examples, 309896 words/s, in_qsize 19, out_qsize 1\n",
      "2021-02-23 19:49:13,906 : INFO : EPOCH 1 - PROGRESS: at 65.97% examples, 303440 words/s, in_qsize 18, out_qsize 2\n",
      "2021-02-23 19:49:14,918 : INFO : EPOCH 1 - PROGRESS: at 74.56% examples, 304720 words/s, in_qsize 0, out_qsize 0\n",
      "2021-02-23 19:49:15,928 : INFO : EPOCH 1 - PROGRESS: at 82.63% examples, 303572 words/s, in_qsize 3, out_qsize 0\n",
      "2021-02-23 19:49:16,933 : INFO : EPOCH 1 - PROGRESS: at 90.82% examples, 303006 words/s, in_qsize 0, out_qsize 0\n",
      "2021-02-23 19:49:17,945 : INFO : EPOCH 1 - PROGRESS: at 97.71% examples, 298640 words/s, in_qsize 21, out_qsize 2\n",
      "2021-02-23 19:49:18,097 : INFO : worker thread finished; awaiting finish of 11 more threads\n",
      "2021-02-23 19:49:18,114 : INFO : worker thread finished; awaiting finish of 10 more threads\n",
      "2021-02-23 19:49:18,116 : INFO : worker thread finished; awaiting finish of 9 more threads\n",
      "2021-02-23 19:49:18,118 : INFO : worker thread finished; awaiting finish of 8 more threads\n",
      "2021-02-23 19:49:18,120 : INFO : worker thread finished; awaiting finish of 7 more threads\n",
      "2021-02-23 19:49:18,129 : INFO : worker thread finished; awaiting finish of 6 more threads\n",
      "2021-02-23 19:49:18,132 : INFO : worker thread finished; awaiting finish of 5 more threads\n",
      "2021-02-23 19:49:18,133 : INFO : worker thread finished; awaiting finish of 4 more threads\n",
      "2021-02-23 19:49:18,146 : INFO : worker thread finished; awaiting finish of 3 more threads\n",
      "2021-02-23 19:49:18,149 : INFO : worker thread finished; awaiting finish of 2 more threads\n",
      "2021-02-23 19:49:18,159 : INFO : worker thread finished; awaiting finish of 1 more threads\n",
      "2021-02-23 19:49:18,160 : INFO : worker thread finished; awaiting finish of 0 more threads\n",
      "2021-02-23 19:49:18,162 : INFO : EPOCH - 1 : training on 15387847 raw words (3696402 effective words) took 12.3s, 300425 effective words/s\n",
      "2021-02-23 19:49:19,167 : INFO : EPOCH 2 - PROGRESS: at 7.42% examples, 269433 words/s, in_qsize 0, out_qsize 0\n",
      "2021-02-23 19:49:20,167 : INFO : EPOCH 2 - PROGRESS: at 16.30% examples, 297648 words/s, in_qsize 0, out_qsize 0\n",
      "2021-02-23 19:49:21,167 : INFO : EPOCH 2 - PROGRESS: at 24.66% examples, 302492 words/s, in_qsize 1, out_qsize 0\n",
      "2021-02-23 19:49:22,179 : INFO : EPOCH 2 - PROGRESS: at 32.80% examples, 301208 words/s, in_qsize 0, out_qsize 1\n",
      "2021-02-23 19:49:23,188 : INFO : EPOCH 2 - PROGRESS: at 41.06% examples, 302246 words/s, in_qsize 0, out_qsize 0\n",
      "2021-02-23 19:49:24,204 : INFO : EPOCH 2 - PROGRESS: at 49.01% examples, 300650 words/s, in_qsize 0, out_qsize 0\n",
      "2021-02-23 19:49:25,222 : INFO : EPOCH 2 - PROGRESS: at 55.69% examples, 292261 words/s, in_qsize 23, out_qsize 0\n",
      "2021-02-23 19:49:26,240 : INFO : EPOCH 2 - PROGRESS: at 64.61% examples, 296224 words/s, in_qsize 17, out_qsize 1\n",
      "2021-02-23 19:49:27,242 : INFO : EPOCH 2 - PROGRESS: at 73.42% examples, 299630 words/s, in_qsize 0, out_qsize 0\n",
      "2021-02-23 19:49:28,247 : INFO : EPOCH 2 - PROGRESS: at 81.55% examples, 299404 words/s, in_qsize 12, out_qsize 0\n",
      "2021-02-23 19:49:29,260 : INFO : EPOCH 2 - PROGRESS: at 89.74% examples, 299000 words/s, in_qsize 23, out_qsize 0\n",
      "2021-02-23 19:49:30,273 : INFO : EPOCH 2 - PROGRESS: at 97.06% examples, 296348 words/s, in_qsize 19, out_qsize 0\n",
      "2021-02-23 19:49:30,553 : INFO : worker thread finished; awaiting finish of 11 more threads\n",
      "2021-02-23 19:49:30,567 : INFO : worker thread finished; awaiting finish of 10 more threads\n",
      "2021-02-23 19:49:30,572 : INFO : worker thread finished; awaiting finish of 9 more threads\n",
      "2021-02-23 19:49:30,577 : INFO : worker thread finished; awaiting finish of 8 more threads\n",
      "2021-02-23 19:49:30,580 : INFO : worker thread finished; awaiting finish of 7 more threads\n",
      "2021-02-23 19:49:30,589 : INFO : worker thread finished; awaiting finish of 6 more threads\n",
      "2021-02-23 19:49:30,599 : INFO : worker thread finished; awaiting finish of 5 more threads\n",
      "2021-02-23 19:49:30,602 : INFO : worker thread finished; awaiting finish of 4 more threads\n",
      "2021-02-23 19:49:30,610 : INFO : worker thread finished; awaiting finish of 3 more threads\n",
      "2021-02-23 19:49:30,611 : INFO : worker thread finished; awaiting finish of 2 more threads\n",
      "2021-02-23 19:49:30,616 : INFO : worker thread finished; awaiting finish of 1 more threads\n",
      "2021-02-23 19:49:30,620 : INFO : worker thread finished; awaiting finish of 0 more threads\n",
      "2021-02-23 19:49:30,621 : INFO : EPOCH - 2 : training on 15387847 raw words (3697742 effective words) took 12.5s, 296881 effective words/s\n",
      "2021-02-23 19:49:31,630 : INFO : EPOCH 3 - PROGRESS: at 7.02% examples, 255169 words/s, in_qsize 0, out_qsize 0\n",
      "2021-02-23 19:49:32,639 : INFO : EPOCH 3 - PROGRESS: at 14.56% examples, 263956 words/s, in_qsize 0, out_qsize 1\n",
      "2021-02-23 19:49:33,644 : INFO : EPOCH 3 - PROGRESS: at 22.60% examples, 275139 words/s, in_qsize 0, out_qsize 0\n",
      "2021-02-23 19:49:34,653 : INFO : EPOCH 3 - PROGRESS: at 30.68% examples, 280928 words/s, in_qsize 0, out_qsize 0\n",
      "2021-02-23 19:49:35,668 : INFO : EPOCH 3 - PROGRESS: at 37.72% examples, 276261 words/s, in_qsize 0, out_qsize 1\n",
      "2021-02-23 19:49:36,677 : INFO : EPOCH 3 - PROGRESS: at 45.31% examples, 277312 words/s, in_qsize 21, out_qsize 0\n",
      "2021-02-23 19:49:37,685 : INFO : EPOCH 3 - PROGRESS: at 53.20% examples, 279355 words/s, in_qsize 18, out_qsize 0\n",
      "2021-02-23 19:49:38,690 : INFO : EPOCH 3 - PROGRESS: at 62.19% examples, 285716 words/s, in_qsize 0, out_qsize 0\n",
      "2021-02-23 19:49:39,693 : INFO : EPOCH 3 - PROGRESS: at 70.50% examples, 287979 words/s, in_qsize 1, out_qsize 0\n",
      "2021-02-23 19:49:40,704 : INFO : EPOCH 3 - PROGRESS: at 78.64% examples, 288808 words/s, in_qsize 1, out_qsize 0\n",
      "2021-02-23 19:49:41,706 : INFO : EPOCH 3 - PROGRESS: at 86.91% examples, 289972 words/s, in_qsize 0, out_qsize 0\n",
      "2021-02-23 19:49:42,709 : INFO : EPOCH 3 - PROGRESS: at 94.29% examples, 288569 words/s, in_qsize 0, out_qsize 0\n",
      "2021-02-23 19:49:43,285 : INFO : worker thread finished; awaiting finish of 11 more threads\n",
      "2021-02-23 19:49:43,293 : INFO : worker thread finished; awaiting finish of 10 more threads\n",
      "2021-02-23 19:49:43,294 : INFO : worker thread finished; awaiting finish of 9 more threads\n",
      "2021-02-23 19:49:43,295 : INFO : worker thread finished; awaiting finish of 8 more threads\n",
      "2021-02-23 19:49:43,298 : INFO : worker thread finished; awaiting finish of 7 more threads\n",
      "2021-02-23 19:49:43,313 : INFO : worker thread finished; awaiting finish of 6 more threads\n",
      "2021-02-23 19:49:43,328 : INFO : worker thread finished; awaiting finish of 5 more threads\n",
      "2021-02-23 19:49:43,331 : INFO : worker thread finished; awaiting finish of 4 more threads\n",
      "2021-02-23 19:49:43,332 : INFO : worker thread finished; awaiting finish of 3 more threads\n",
      "2021-02-23 19:49:43,335 : INFO : worker thread finished; awaiting finish of 2 more threads\n",
      "2021-02-23 19:49:43,338 : INFO : worker thread finished; awaiting finish of 1 more threads\n",
      "2021-02-23 19:49:43,338 : INFO : worker thread finished; awaiting finish of 0 more threads\n",
      "2021-02-23 19:49:43,340 : INFO : EPOCH - 3 : training on 15387847 raw words (3698912 effective words) took 12.7s, 290934 effective words/s\n",
      "2021-02-23 19:49:44,346 : INFO : EPOCH 4 - PROGRESS: at 7.87% examples, 285760 words/s, in_qsize 0, out_qsize 0\n"
     ]
    },
    {
     "name": "stderr",
     "output_type": "stream",
     "text": [
      "2021-02-23 19:49:45,356 : INFO : EPOCH 4 - PROGRESS: at 15.79% examples, 286306 words/s, in_qsize 0, out_qsize 4\n",
      "2021-02-23 19:49:46,361 : INFO : EPOCH 4 - PROGRESS: at 22.99% examples, 279527 words/s, in_qsize 22, out_qsize 0\n",
      "2021-02-23 19:49:47,366 : INFO : EPOCH 4 - PROGRESS: at 31.98% examples, 293010 words/s, in_qsize 7, out_qsize 0\n",
      "2021-02-23 19:49:48,369 : INFO : EPOCH 4 - PROGRESS: at 40.28% examples, 296115 words/s, in_qsize 0, out_qsize 0\n",
      "2021-02-23 19:49:49,377 : INFO : EPOCH 4 - PROGRESS: at 47.92% examples, 294113 words/s, in_qsize 0, out_qsize 1\n",
      "2021-02-23 19:49:50,388 : INFO : EPOCH 4 - PROGRESS: at 56.15% examples, 295054 words/s, in_qsize 17, out_qsize 0\n",
      "2021-02-23 19:49:51,399 : INFO : EPOCH 4 - PROGRESS: at 65.00% examples, 298588 words/s, in_qsize 0, out_qsize 1\n",
      "2021-02-23 19:49:52,399 : INFO : EPOCH 4 - PROGRESS: at 72.66% examples, 296972 words/s, in_qsize 18, out_qsize 0\n",
      "2021-02-23 19:49:53,401 : INFO : EPOCH 4 - PROGRESS: at 81.69% examples, 300459 words/s, in_qsize 0, out_qsize 1\n",
      "2021-02-23 19:49:54,402 : INFO : EPOCH 4 - PROGRESS: at 89.68% examples, 299732 words/s, in_qsize 0, out_qsize 1\n",
      "2021-02-23 19:49:55,411 : INFO : EPOCH 4 - PROGRESS: at 96.99% examples, 297092 words/s, in_qsize 22, out_qsize 0\n",
      "2021-02-23 19:49:55,687 : INFO : worker thread finished; awaiting finish of 11 more threads\n",
      "2021-02-23 19:49:55,692 : INFO : worker thread finished; awaiting finish of 10 more threads\n",
      "2021-02-23 19:49:55,696 : INFO : worker thread finished; awaiting finish of 9 more threads\n",
      "2021-02-23 19:49:55,698 : INFO : worker thread finished; awaiting finish of 8 more threads\n",
      "2021-02-23 19:49:55,699 : INFO : worker thread finished; awaiting finish of 7 more threads\n",
      "2021-02-23 19:49:55,701 : INFO : worker thread finished; awaiting finish of 6 more threads\n",
      "2021-02-23 19:49:55,703 : INFO : worker thread finished; awaiting finish of 5 more threads\n",
      "2021-02-23 19:49:55,705 : INFO : worker thread finished; awaiting finish of 4 more threads\n",
      "2021-02-23 19:49:55,714 : INFO : worker thread finished; awaiting finish of 3 more threads\n",
      "2021-02-23 19:49:55,727 : INFO : worker thread finished; awaiting finish of 2 more threads\n",
      "2021-02-23 19:49:55,729 : INFO : worker thread finished; awaiting finish of 1 more threads\n",
      "2021-02-23 19:49:55,733 : INFO : worker thread finished; awaiting finish of 0 more threads\n",
      "2021-02-23 19:49:55,735 : INFO : EPOCH - 4 : training on 15387847 raw words (3697032 effective words) took 12.4s, 298357 effective words/s\n",
      "2021-02-23 19:49:56,741 : INFO : EPOCH 5 - PROGRESS: at 6.69% examples, 243725 words/s, in_qsize 17, out_qsize 3\n",
      "2021-02-23 19:49:57,742 : INFO : EPOCH 5 - PROGRESS: at 14.69% examples, 267938 words/s, in_qsize 16, out_qsize 0\n",
      "2021-02-23 19:49:58,745 : INFO : EPOCH 5 - PROGRESS: at 23.79% examples, 291949 words/s, in_qsize 0, out_qsize 0\n",
      "2021-02-23 19:49:59,749 : INFO : EPOCH 5 - PROGRESS: at 32.19% examples, 296109 words/s, in_qsize 0, out_qsize 0\n",
      "2021-02-23 19:50:00,754 : INFO : EPOCH 5 - PROGRESS: at 40.55% examples, 298823 words/s, in_qsize 14, out_qsize 0\n",
      "2021-02-23 19:50:01,771 : INFO : EPOCH 5 - PROGRESS: at 47.92% examples, 294351 words/s, in_qsize 24, out_qsize 0\n",
      "2021-02-23 19:50:02,781 : INFO : EPOCH 5 - PROGRESS: at 56.02% examples, 294613 words/s, in_qsize 0, out_qsize 1\n",
      "2021-02-23 19:50:03,789 : INFO : EPOCH 5 - PROGRESS: at 63.95% examples, 294141 words/s, in_qsize 24, out_qsize 0\n",
      "2021-02-23 19:50:04,794 : INFO : EPOCH 5 - PROGRESS: at 73.48% examples, 300654 words/s, in_qsize 0, out_qsize 0\n",
      "2021-02-23 19:50:05,801 : INFO : EPOCH 5 - PROGRESS: at 81.35% examples, 299319 words/s, in_qsize 23, out_qsize 1\n",
      "2021-02-23 19:50:06,810 : INFO : EPOCH 5 - PROGRESS: at 89.80% examples, 299984 words/s, in_qsize 23, out_qsize 0\n",
      "2021-02-23 19:50:07,819 : INFO : EPOCH 5 - PROGRESS: at 98.34% examples, 301096 words/s, in_qsize 0, out_qsize 0\n",
      "2021-02-23 19:50:07,973 : INFO : worker thread finished; awaiting finish of 11 more threads\n",
      "2021-02-23 19:50:07,975 : INFO : worker thread finished; awaiting finish of 10 more threads\n",
      "2021-02-23 19:50:07,978 : INFO : worker thread finished; awaiting finish of 9 more threads\n",
      "2021-02-23 19:50:07,980 : INFO : worker thread finished; awaiting finish of 8 more threads\n",
      "2021-02-23 19:50:07,997 : INFO : worker thread finished; awaiting finish of 7 more threads\n",
      "2021-02-23 19:50:08,001 : INFO : worker thread finished; awaiting finish of 6 more threads\n",
      "2021-02-23 19:50:08,002 : INFO : worker thread finished; awaiting finish of 5 more threads\n",
      "2021-02-23 19:50:08,003 : INFO : worker thread finished; awaiting finish of 4 more threads\n",
      "2021-02-23 19:50:08,006 : INFO : worker thread finished; awaiting finish of 3 more threads\n",
      "2021-02-23 19:50:08,008 : INFO : worker thread finished; awaiting finish of 2 more threads\n",
      "2021-02-23 19:50:08,009 : INFO : worker thread finished; awaiting finish of 1 more threads\n",
      "2021-02-23 19:50:08,016 : INFO : worker thread finished; awaiting finish of 0 more threads\n",
      "2021-02-23 19:50:08,017 : INFO : EPOCH - 5 : training on 15387847 raw words (3699288 effective words) took 12.3s, 301300 effective words/s\n",
      "2021-02-23 19:50:09,030 : INFO : EPOCH 6 - PROGRESS: at 7.87% examples, 284572 words/s, in_qsize 0, out_qsize 0\n",
      "2021-02-23 19:50:10,032 : INFO : EPOCH 6 - PROGRESS: at 16.64% examples, 302452 words/s, in_qsize 0, out_qsize 0\n",
      "2021-02-23 19:50:11,038 : INFO : EPOCH 6 - PROGRESS: at 24.19% examples, 295083 words/s, in_qsize 10, out_qsize 1\n",
      "2021-02-23 19:50:12,042 : INFO : EPOCH 6 - PROGRESS: at 33.19% examples, 303883 words/s, in_qsize 23, out_qsize 1\n",
      "2021-02-23 19:50:13,043 : INFO : EPOCH 6 - PROGRESS: at 41.82% examples, 307772 words/s, in_qsize 20, out_qsize 1\n",
      "2021-02-23 19:50:14,046 : INFO : EPOCH 6 - PROGRESS: at 51.20% examples, 314662 words/s, in_qsize 1, out_qsize 0\n",
      "2021-02-23 19:50:15,062 : INFO : EPOCH 6 - PROGRESS: at 58.93% examples, 309643 words/s, in_qsize 24, out_qsize 0\n",
      "2021-02-23 19:50:16,063 : INFO : EPOCH 6 - PROGRESS: at 67.63% examples, 311557 words/s, in_qsize 20, out_qsize 1\n",
      "2021-02-23 19:50:17,067 : INFO : EPOCH 6 - PROGRESS: at 76.95% examples, 314926 words/s, in_qsize 1, out_qsize 0\n",
      "2021-02-23 19:50:18,102 : INFO : EPOCH 6 - PROGRESS: at 85.19% examples, 312477 words/s, in_qsize 5, out_qsize 1\n",
      "2021-02-23 19:50:19,114 : INFO : EPOCH 6 - PROGRESS: at 93.45% examples, 311374 words/s, in_qsize 0, out_qsize 1\n",
      "2021-02-23 19:50:19,786 : INFO : worker thread finished; awaiting finish of 11 more threads\n",
      "2021-02-23 19:50:19,789 : INFO : worker thread finished; awaiting finish of 10 more threads\n",
      "2021-02-23 19:50:19,792 : INFO : worker thread finished; awaiting finish of 9 more threads\n",
      "2021-02-23 19:50:19,796 : INFO : worker thread finished; awaiting finish of 8 more threads\n",
      "2021-02-23 19:50:19,809 : INFO : worker thread finished; awaiting finish of 7 more threads\n",
      "2021-02-23 19:50:19,810 : INFO : worker thread finished; awaiting finish of 6 more threads\n",
      "2021-02-23 19:50:19,812 : INFO : worker thread finished; awaiting finish of 5 more threads\n",
      "2021-02-23 19:50:19,818 : INFO : worker thread finished; awaiting finish of 4 more threads\n",
      "2021-02-23 19:50:19,823 : INFO : worker thread finished; awaiting finish of 3 more threads\n",
      "2021-02-23 19:50:19,830 : INFO : worker thread finished; awaiting finish of 2 more threads\n",
      "2021-02-23 19:50:19,835 : INFO : worker thread finished; awaiting finish of 1 more threads\n",
      "2021-02-23 19:50:19,837 : INFO : worker thread finished; awaiting finish of 0 more threads\n",
      "2021-02-23 19:50:19,838 : INFO : EPOCH - 6 : training on 15387847 raw words (3696758 effective words) took 11.8s, 312912 effective words/s\n",
      "2021-02-23 19:50:20,846 : INFO : EPOCH 7 - PROGRESS: at 8.07% examples, 292693 words/s, in_qsize 7, out_qsize 1\n",
      "2021-02-23 19:50:21,852 : INFO : EPOCH 7 - PROGRESS: at 15.92% examples, 289428 words/s, in_qsize 23, out_qsize 0\n",
      "2021-02-23 19:50:22,864 : INFO : EPOCH 7 - PROGRESS: at 25.74% examples, 313995 words/s, in_qsize 0, out_qsize 0\n",
      "2021-02-23 19:50:23,880 : INFO : EPOCH 7 - PROGRESS: at 34.55% examples, 315269 words/s, in_qsize 0, out_qsize 2\n",
      "2021-02-23 19:50:24,880 : INFO : EPOCH 7 - PROGRESS: at 43.03% examples, 316145 words/s, in_qsize 16, out_qsize 0\n",
      "2021-02-23 19:50:25,900 : INFO : EPOCH 7 - PROGRESS: at 51.31% examples, 313930 words/s, in_qsize 23, out_qsize 0\n"
     ]
    },
    {
     "name": "stderr",
     "output_type": "stream",
     "text": [
      "2021-02-23 19:50:26,906 : INFO : EPOCH 7 - PROGRESS: at 60.97% examples, 319637 words/s, in_qsize 0, out_qsize 0\n",
      "2021-02-23 19:50:27,907 : INFO : EPOCH 7 - PROGRESS: at 68.87% examples, 316294 words/s, in_qsize 14, out_qsize 2\n",
      "2021-02-23 19:50:28,914 : INFO : EPOCH 7 - PROGRESS: at 76.88% examples, 313770 words/s, in_qsize 0, out_qsize 0\n",
      "2021-02-23 19:50:29,920 : INFO : EPOCH 7 - PROGRESS: at 84.48% examples, 310036 words/s, in_qsize 0, out_qsize 4\n",
      "2021-02-23 19:50:30,961 : INFO : EPOCH 7 - PROGRESS: at 92.17% examples, 306444 words/s, in_qsize 22, out_qsize 0\n",
      "2021-02-23 19:50:31,723 : INFO : worker thread finished; awaiting finish of 11 more threads\n",
      "2021-02-23 19:50:31,728 : INFO : worker thread finished; awaiting finish of 10 more threads\n",
      "2021-02-23 19:50:31,734 : INFO : worker thread finished; awaiting finish of 9 more threads\n",
      "2021-02-23 19:50:31,738 : INFO : worker thread finished; awaiting finish of 8 more threads\n",
      "2021-02-23 19:50:31,742 : INFO : worker thread finished; awaiting finish of 7 more threads\n",
      "2021-02-23 19:50:31,744 : INFO : worker thread finished; awaiting finish of 6 more threads\n",
      "2021-02-23 19:50:31,747 : INFO : worker thread finished; awaiting finish of 5 more threads\n",
      "2021-02-23 19:50:31,748 : INFO : worker thread finished; awaiting finish of 4 more threads\n",
      "2021-02-23 19:50:31,755 : INFO : worker thread finished; awaiting finish of 3 more threads\n",
      "2021-02-23 19:50:31,760 : INFO : worker thread finished; awaiting finish of 2 more threads\n",
      "2021-02-23 19:50:31,766 : INFO : worker thread finished; awaiting finish of 1 more threads\n",
      "2021-02-23 19:50:31,770 : INFO : worker thread finished; awaiting finish of 0 more threads\n",
      "2021-02-23 19:50:31,771 : INFO : EPOCH - 7 : training on 15387847 raw words (3696876 effective words) took 11.9s, 309980 effective words/s\n",
      "2021-02-23 19:50:32,783 : INFO : EPOCH 8 - PROGRESS: at 8.80% examples, 317478 words/s, in_qsize 0, out_qsize 0\n",
      "2021-02-23 19:50:33,789 : INFO : EPOCH 8 - PROGRESS: at 17.84% examples, 323204 words/s, in_qsize 0, out_qsize 1\n",
      "2021-02-23 19:50:34,789 : INFO : EPOCH 8 - PROGRESS: at 26.07% examples, 318330 words/s, in_qsize 0, out_qsize 0\n",
      "2021-02-23 19:50:35,839 : INFO : EPOCH 8 - PROGRESS: at 33.84% examples, 306350 words/s, in_qsize 22, out_qsize 1\n",
      "2021-02-23 19:50:36,850 : INFO : EPOCH 8 - PROGRESS: at 43.09% examples, 314053 words/s, in_qsize 0, out_qsize 1\n",
      "2021-02-23 19:50:37,866 : INFO : EPOCH 8 - PROGRESS: at 51.26% examples, 311650 words/s, in_qsize 19, out_qsize 4\n",
      "2021-02-23 19:50:38,870 : INFO : EPOCH 8 - PROGRESS: at 60.79% examples, 317157 words/s, in_qsize 0, out_qsize 0\n",
      "2021-02-23 19:50:39,885 : INFO : EPOCH 8 - PROGRESS: at 69.77% examples, 318700 words/s, in_qsize 0, out_qsize 0\n",
      "2021-02-23 19:50:40,905 : INFO : EPOCH 8 - PROGRESS: at 77.35% examples, 313564 words/s, in_qsize 17, out_qsize 8\n",
      "2021-02-23 19:50:41,908 : INFO : EPOCH 8 - PROGRESS: at 87.20% examples, 318159 words/s, in_qsize 0, out_qsize 0\n",
      "2021-02-23 19:50:42,909 : INFO : EPOCH 8 - PROGRESS: at 96.12% examples, 319236 words/s, in_qsize 0, out_qsize 0\n",
      "2021-02-23 19:50:43,307 : INFO : worker thread finished; awaiting finish of 11 more threads\n",
      "2021-02-23 19:50:43,310 : INFO : worker thread finished; awaiting finish of 10 more threads\n",
      "2021-02-23 19:50:43,310 : INFO : worker thread finished; awaiting finish of 9 more threads\n",
      "2021-02-23 19:50:43,313 : INFO : worker thread finished; awaiting finish of 8 more threads\n",
      "2021-02-23 19:50:43,314 : INFO : worker thread finished; awaiting finish of 7 more threads\n",
      "2021-02-23 19:50:43,315 : INFO : worker thread finished; awaiting finish of 6 more threads\n",
      "2021-02-23 19:50:43,317 : INFO : worker thread finished; awaiting finish of 5 more threads\n",
      "2021-02-23 19:50:43,330 : INFO : worker thread finished; awaiting finish of 4 more threads\n",
      "2021-02-23 19:50:43,332 : INFO : worker thread finished; awaiting finish of 3 more threads\n",
      "2021-02-23 19:50:43,334 : INFO : worker thread finished; awaiting finish of 2 more threads\n",
      "2021-02-23 19:50:43,343 : INFO : worker thread finished; awaiting finish of 1 more threads\n",
      "2021-02-23 19:50:43,347 : INFO : worker thread finished; awaiting finish of 0 more threads\n",
      "2021-02-23 19:50:43,348 : INFO : EPOCH - 8 : training on 15387847 raw words (3697140 effective words) took 11.6s, 319473 effective words/s\n",
      "2021-02-23 19:50:44,360 : INFO : EPOCH 9 - PROGRESS: at 8.40% examples, 304219 words/s, in_qsize 24, out_qsize 0\n",
      "2021-02-23 19:50:45,362 : INFO : EPOCH 9 - PROGRESS: at 17.49% examples, 318466 words/s, in_qsize 14, out_qsize 1\n",
      "2021-02-23 19:50:46,371 : INFO : EPOCH 9 - PROGRESS: at 25.29% examples, 308730 words/s, in_qsize 17, out_qsize 3\n",
      "2021-02-23 19:50:47,373 : INFO : EPOCH 9 - PROGRESS: at 35.06% examples, 321234 words/s, in_qsize 0, out_qsize 2\n",
      "2021-02-23 19:50:48,374 : INFO : EPOCH 9 - PROGRESS: at 43.46% examples, 320550 words/s, in_qsize 11, out_qsize 0\n",
      "2021-02-23 19:50:49,375 : INFO : EPOCH 9 - PROGRESS: at 52.61% examples, 323759 words/s, in_qsize 0, out_qsize 0\n",
      "2021-02-23 19:50:50,376 : INFO : EPOCH 9 - PROGRESS: at 61.17% examples, 322683 words/s, in_qsize 0, out_qsize 0\n",
      "2021-02-23 19:50:51,387 : INFO : EPOCH 9 - PROGRESS: at 69.69% examples, 321475 words/s, in_qsize 1, out_qsize 1\n",
      "2021-02-23 19:50:52,393 : INFO : EPOCH 9 - PROGRESS: at 77.87% examples, 318681 words/s, in_qsize 0, out_qsize 0\n",
      "2021-02-23 19:50:53,411 : INFO : EPOCH 9 - PROGRESS: at 85.99% examples, 316005 words/s, in_qsize 1, out_qsize 0\n",
      "2021-02-23 19:50:54,419 : INFO : EPOCH 9 - PROGRESS: at 94.53% examples, 315916 words/s, in_qsize 0, out_qsize 0\n",
      "2021-02-23 19:50:54,986 : INFO : worker thread finished; awaiting finish of 11 more threads\n",
      "2021-02-23 19:50:54,988 : INFO : worker thread finished; awaiting finish of 10 more threads\n",
      "2021-02-23 19:50:54,990 : INFO : worker thread finished; awaiting finish of 9 more threads\n",
      "2021-02-23 19:50:54,994 : INFO : worker thread finished; awaiting finish of 8 more threads\n",
      "2021-02-23 19:50:55,005 : INFO : worker thread finished; awaiting finish of 7 more threads\n",
      "2021-02-23 19:50:55,009 : INFO : worker thread finished; awaiting finish of 6 more threads\n",
      "2021-02-23 19:50:55,011 : INFO : worker thread finished; awaiting finish of 5 more threads\n",
      "2021-02-23 19:50:55,015 : INFO : worker thread finished; awaiting finish of 4 more threads\n",
      "2021-02-23 19:50:55,023 : INFO : worker thread finished; awaiting finish of 3 more threads\n",
      "2021-02-23 19:50:55,025 : INFO : worker thread finished; awaiting finish of 2 more threads\n",
      "2021-02-23 19:50:55,033 : INFO : worker thread finished; awaiting finish of 1 more threads\n",
      "2021-02-23 19:50:55,035 : INFO : worker thread finished; awaiting finish of 0 more threads\n",
      "2021-02-23 19:50:55,036 : INFO : EPOCH - 9 : training on 15387847 raw words (3697730 effective words) took 11.7s, 316527 effective words/s\n",
      "2021-02-23 19:50:56,049 : INFO : EPOCH 10 - PROGRESS: at 8.59% examples, 310320 words/s, in_qsize 3, out_qsize 1\n",
      "2021-02-23 19:50:57,075 : INFO : EPOCH 10 - PROGRESS: at 17.24% examples, 308981 words/s, in_qsize 8, out_qsize 2\n",
      "2021-02-23 19:50:58,081 : INFO : EPOCH 10 - PROGRESS: at 26.14% examples, 316073 words/s, in_qsize 1, out_qsize 0\n",
      "2021-02-23 19:50:59,086 : INFO : EPOCH 10 - PROGRESS: at 35.19% examples, 319972 words/s, in_qsize 0, out_qsize 0\n",
      "2021-02-23 19:51:00,096 : INFO : EPOCH 10 - PROGRESS: at 43.52% examples, 318436 words/s, in_qsize 8, out_qsize 0\n",
      "2021-02-23 19:51:01,099 : INFO : EPOCH 10 - PROGRESS: at 52.42% examples, 320181 words/s, in_qsize 15, out_qsize 2\n",
      "2021-02-23 19:51:02,100 : INFO : EPOCH 10 - PROGRESS: at 60.35% examples, 316140 words/s, in_qsize 20, out_qsize 0\n",
      "2021-02-23 19:51:03,101 : INFO : EPOCH 10 - PROGRESS: at 69.49% examples, 319280 words/s, in_qsize 17, out_qsize 0\n",
      "2021-02-23 19:51:04,107 : INFO : EPOCH 10 - PROGRESS: at 78.39% examples, 319698 words/s, in_qsize 15, out_qsize 3\n",
      "2021-02-23 19:51:05,117 : INFO : EPOCH 10 - PROGRESS: at 86.97% examples, 318884 words/s, in_qsize 0, out_qsize 0\n",
      "2021-02-23 19:51:06,119 : INFO : EPOCH 10 - PROGRESS: at 95.93% examples, 320116 words/s, in_qsize 1, out_qsize 0\n",
      "2021-02-23 19:51:06,569 : INFO : worker thread finished; awaiting finish of 11 more threads\n",
      "2021-02-23 19:51:06,572 : INFO : worker thread finished; awaiting finish of 10 more threads\n"
     ]
    },
    {
     "name": "stderr",
     "output_type": "stream",
     "text": [
      "2021-02-23 19:51:06,574 : INFO : worker thread finished; awaiting finish of 9 more threads\n",
      "2021-02-23 19:51:06,575 : INFO : worker thread finished; awaiting finish of 8 more threads\n",
      "2021-02-23 19:51:06,576 : INFO : worker thread finished; awaiting finish of 7 more threads\n",
      "2021-02-23 19:51:06,577 : INFO : worker thread finished; awaiting finish of 6 more threads\n",
      "2021-02-23 19:51:06,579 : INFO : worker thread finished; awaiting finish of 5 more threads\n",
      "2021-02-23 19:51:06,579 : INFO : worker thread finished; awaiting finish of 4 more threads\n",
      "2021-02-23 19:51:06,591 : INFO : worker thread finished; awaiting finish of 3 more threads\n",
      "2021-02-23 19:51:06,602 : INFO : worker thread finished; awaiting finish of 2 more threads\n",
      "2021-02-23 19:51:06,605 : INFO : worker thread finished; awaiting finish of 1 more threads\n",
      "2021-02-23 19:51:06,608 : INFO : worker thread finished; awaiting finish of 0 more threads\n",
      "2021-02-23 19:51:06,610 : INFO : EPOCH - 10 : training on 15387847 raw words (3696864 effective words) took 11.6s, 319573 effective words/s\n",
      "2021-02-23 19:51:06,611 : INFO : training on a 153878470 raw words (36974744 effective words) took 120.8s, 306189 effective words/s\n",
      "2021-02-23 19:51:06,612 : INFO : saving Word2Vec object under dados/experimento_1/w2v_jur.model, separately None\n",
      "2021-02-23 19:51:06,613 : INFO : not storing attribute vectors_norm\n",
      "2021-02-23 19:51:06,614 : INFO : not storing attribute cum_table\n",
      "2021-02-23 19:51:07,521 : INFO : saved dados/experimento_1/w2v_jur.model\n"
     ]
    }
   ],
   "source": [
    "w2v_jur = grouper.treinar_word2vec('dados/experimento_'+str(exp)+'/base_treino.txt', exp)"
   ]
  },
  {
   "cell_type": "code",
   "execution_count": 10,
   "metadata": {
    "scrolled": true
   },
   "outputs": [
    {
     "name": "stdout",
     "output_type": "stream",
     "text": [
      "treinando modelo word2vec\n"
     ]
    },
    {
     "name": "stderr",
     "output_type": "stream",
     "text": [
      "2021-02-23 19:51:45,110 : INFO : resetting layer weights\n",
      "2021-02-23 19:51:50,073 : INFO : collecting all words and their counts\n",
      "2021-02-23 19:51:50,074 : INFO : PROGRESS: at sentence #0, processed 0 words, keeping 0 word types\n",
      "2021-02-23 19:51:50,144 : INFO : PROGRESS: at sentence #10000, processed 235769 words, keeping 13479 word types\n",
      "2021-02-23 19:51:50,213 : INFO : PROGRESS: at sentence #20000, processed 478506 words, keeping 18827 word types\n",
      "2021-02-23 19:51:50,283 : INFO : PROGRESS: at sentence #30000, processed 716990 words, keeping 22433 word types\n",
      "2021-02-23 19:51:50,353 : INFO : PROGRESS: at sentence #40000, processed 956912 words, keeping 25453 word types\n",
      "2021-02-23 19:51:50,425 : INFO : PROGRESS: at sentence #50000, processed 1198453 words, keeping 27868 word types\n",
      "2021-02-23 19:51:50,493 : INFO : PROGRESS: at sentence #60000, processed 1434600 words, keeping 30340 word types\n",
      "2021-02-23 19:51:50,563 : INFO : PROGRESS: at sentence #70000, processed 1678430 words, keeping 32461 word types\n",
      "2021-02-23 19:51:50,634 : INFO : PROGRESS: at sentence #80000, processed 1918098 words, keeping 34310 word types\n",
      "2021-02-23 19:51:50,705 : INFO : PROGRESS: at sentence #90000, processed 2156336 words, keeping 36035 word types\n",
      "2021-02-23 19:51:50,775 : INFO : PROGRESS: at sentence #100000, processed 2398940 words, keeping 37617 word types\n",
      "2021-02-23 19:51:50,845 : INFO : PROGRESS: at sentence #110000, processed 2637175 words, keeping 39115 word types\n",
      "2021-02-23 19:51:50,918 : INFO : PROGRESS: at sentence #120000, processed 2877198 words, keeping 40535 word types\n",
      "2021-02-23 19:51:50,991 : INFO : PROGRESS: at sentence #130000, processed 3116326 words, keeping 41914 word types\n",
      "2021-02-23 19:51:51,069 : INFO : PROGRESS: at sentence #140000, processed 3366816 words, keeping 43473 word types\n",
      "2021-02-23 19:51:51,146 : INFO : PROGRESS: at sentence #150000, processed 3614701 words, keeping 44786 word types\n",
      "2021-02-23 19:51:51,216 : INFO : PROGRESS: at sentence #160000, processed 3855422 words, keeping 46007 word types\n",
      "2021-02-23 19:51:51,287 : INFO : PROGRESS: at sentence #170000, processed 4094891 words, keeping 47124 word types\n",
      "2021-02-23 19:51:51,357 : INFO : PROGRESS: at sentence #180000, processed 4334237 words, keeping 48340 word types\n",
      "2021-02-23 19:51:51,431 : INFO : PROGRESS: at sentence #190000, processed 4576252 words, keeping 49342 word types\n",
      "2021-02-23 19:51:51,507 : INFO : PROGRESS: at sentence #200000, processed 4824132 words, keeping 50480 word types\n",
      "2021-02-23 19:51:51,580 : INFO : PROGRESS: at sentence #210000, processed 5062126 words, keeping 51483 word types\n",
      "2021-02-23 19:51:51,654 : INFO : PROGRESS: at sentence #220000, processed 5305266 words, keeping 52429 word types\n",
      "2021-02-23 19:51:51,727 : INFO : PROGRESS: at sentence #230000, processed 5550723 words, keeping 53444 word types\n",
      "2021-02-23 19:51:51,801 : INFO : PROGRESS: at sentence #240000, processed 5800318 words, keeping 54412 word types\n",
      "2021-02-23 19:51:51,873 : INFO : PROGRESS: at sentence #250000, processed 6049857 words, keeping 55457 word types\n",
      "2021-02-23 19:51:51,945 : INFO : PROGRESS: at sentence #260000, processed 6288867 words, keeping 56253 word types\n",
      "2021-02-23 19:51:52,023 : INFO : PROGRESS: at sentence #270000, processed 6539964 words, keeping 57133 word types\n",
      "2021-02-23 19:51:52,098 : INFO : PROGRESS: at sentence #280000, processed 6783410 words, keeping 57987 word types\n",
      "2021-02-23 19:51:52,173 : INFO : PROGRESS: at sentence #290000, processed 7025570 words, keeping 58857 word types\n",
      "2021-02-23 19:51:52,248 : INFO : PROGRESS: at sentence #300000, processed 7272182 words, keeping 59616 word types\n",
      "2021-02-23 19:51:52,320 : INFO : PROGRESS: at sentence #310000, processed 7515122 words, keeping 60294 word types\n",
      "2021-02-23 19:51:52,394 : INFO : PROGRESS: at sentence #320000, processed 7760803 words, keeping 61115 word types\n",
      "2021-02-23 19:51:52,467 : INFO : PROGRESS: at sentence #330000, processed 8007403 words, keeping 61972 word types\n",
      "2021-02-23 19:51:52,537 : INFO : PROGRESS: at sentence #340000, processed 8245032 words, keeping 62740 word types\n",
      "2021-02-23 19:51:52,614 : INFO : PROGRESS: at sentence #350000, processed 8486427 words, keeping 63495 word types\n",
      "2021-02-23 19:51:52,688 : INFO : PROGRESS: at sentence #360000, processed 8726848 words, keeping 64225 word types\n",
      "2021-02-23 19:51:52,761 : INFO : PROGRESS: at sentence #370000, processed 8973299 words, keeping 64913 word types\n",
      "2021-02-23 19:51:52,836 : INFO : PROGRESS: at sentence #380000, processed 9213292 words, keeping 65645 word types\n",
      "2021-02-23 19:51:52,908 : INFO : PROGRESS: at sentence #390000, processed 9460659 words, keeping 66427 word types\n",
      "2021-02-23 19:51:52,983 : INFO : PROGRESS: at sentence #400000, processed 9704171 words, keeping 67037 word types\n",
      "2021-02-23 19:51:53,054 : INFO : PROGRESS: at sentence #410000, processed 9944273 words, keeping 67717 word types\n",
      "2021-02-23 19:51:53,128 : INFO : PROGRESS: at sentence #420000, processed 10186493 words, keeping 68483 word types\n",
      "2021-02-23 19:51:53,201 : INFO : PROGRESS: at sentence #430000, processed 10430824 words, keeping 69260 word types\n",
      "2021-02-23 19:51:53,273 : INFO : PROGRESS: at sentence #440000, processed 10675104 words, keeping 69962 word types\n",
      "2021-02-23 19:51:53,347 : INFO : PROGRESS: at sentence #450000, processed 10916543 words, keeping 70624 word types\n",
      "2021-02-23 19:51:53,417 : INFO : PROGRESS: at sentence #460000, processed 11153599 words, keeping 71178 word types\n",
      "2021-02-23 19:51:53,490 : INFO : PROGRESS: at sentence #470000, processed 11400246 words, keeping 71873 word types\n",
      "2021-02-23 19:51:53,564 : INFO : PROGRESS: at sentence #480000, processed 11641081 words, keeping 72449 word types\n",
      "2021-02-23 19:51:53,640 : INFO : PROGRESS: at sentence #490000, processed 11879460 words, keeping 73023 word types\n",
      "2021-02-23 19:51:53,711 : INFO : PROGRESS: at sentence #500000, processed 12122776 words, keeping 73581 word types\n",
      "2021-02-23 19:51:53,784 : INFO : PROGRESS: at sentence #510000, processed 12367121 words, keeping 74255 word types\n",
      "2021-02-23 19:51:53,855 : INFO : PROGRESS: at sentence #520000, processed 12607611 words, keeping 74782 word types\n",
      "2021-02-23 19:51:53,930 : INFO : PROGRESS: at sentence #530000, processed 12851530 words, keeping 75319 word types\n",
      "2021-02-23 19:51:54,006 : INFO : PROGRESS: at sentence #540000, processed 13089923 words, keeping 75959 word types\n",
      "2021-02-23 19:51:54,083 : INFO : PROGRESS: at sentence #550000, processed 13327324 words, keeping 76489 word types\n",
      "2021-02-23 19:51:54,162 : INFO : PROGRESS: at sentence #560000, processed 13575962 words, keeping 77031 word types\n",
      "2021-02-23 19:51:54,237 : INFO : PROGRESS: at sentence #570000, processed 13817112 words, keeping 77602 word types\n",
      "2021-02-23 19:51:54,310 : INFO : PROGRESS: at sentence #580000, processed 14052857 words, keeping 78189 word types\n",
      "2021-02-23 19:51:54,384 : INFO : PROGRESS: at sentence #590000, processed 14300517 words, keeping 78737 word types\n",
      "2021-02-23 19:51:54,459 : INFO : PROGRESS: at sentence #600000, processed 14545068 words, keeping 79300 word types\n",
      "2021-02-23 19:51:54,538 : INFO : PROGRESS: at sentence #610000, processed 14792482 words, keeping 79812 word types\n",
      "2021-02-23 19:51:54,613 : INFO : PROGRESS: at sentence #620000, processed 15030477 words, keeping 80319 word types\n",
      "2021-02-23 19:51:54,687 : INFO : PROGRESS: at sentence #630000, processed 15269440 words, keeping 80955 word types\n",
      "2021-02-23 19:51:54,722 : INFO : collected 81218 word types from a corpus of 15387847 raw words and 634862 sentences\n",
      "2021-02-23 19:51:54,723 : INFO : Loading a fresh vocabulary\n",
      "2021-02-23 19:51:54,773 : INFO : effective_min_count=5 retains 32596 unique words (40% of original 81218, drops 48622)\n",
      "2021-02-23 19:51:54,774 : INFO : effective_min_count=5 leaves 15306026 word corpus (99% of original 15387847, drops 81821)\n",
      "2021-02-23 19:51:54,856 : INFO : deleting the raw counts dictionary of 81218 items\n",
      "2021-02-23 19:51:54,859 : INFO : sample=0.001 downsamples 37 most-common words\n",
      "2021-02-23 19:51:54,859 : INFO : downsampling leaves estimated 11075722 word corpus (72.4% of prior 15306026)\n",
      "2021-02-23 19:51:54,884 : INFO : constructing a huffman tree from 32596 words\n",
      "2021-02-23 19:51:55,678 : INFO : built huffman tree with maximum node depth 22\n"
     ]
    },
    {
     "name": "stderr",
     "output_type": "stream",
     "text": [
      "2021-02-23 19:51:56,048 : INFO : estimated required memory for 32596 words, 138020 buckets and 100 dimensions: 125922344 bytes\n",
      "2021-02-23 19:51:56,053 : INFO : resetting layer weights\n",
      "2021-02-23 19:51:59,511 : INFO : training model with 12 workers on 32596 vocabulary and 100 features, using sg=1 hs=1 sample=0.001 negative=5 window=5\n",
      "2021-02-23 19:52:54,518 : INFO : EPOCH 1 - PROGRESS: at 8.34% words, 16824 words/s, in_qsize -1, out_qsize 1\n",
      "2021-02-23 19:52:54,519 : INFO : worker thread finished; awaiting finish of 11 more threads\n",
      "2021-02-23 19:52:54,529 : INFO : worker thread finished; awaiting finish of 10 more threads\n",
      "2021-02-23 19:52:54,604 : INFO : worker thread finished; awaiting finish of 9 more threads\n",
      "2021-02-23 19:52:54,715 : INFO : worker thread finished; awaiting finish of 8 more threads\n",
      "2021-02-23 19:52:55,319 : INFO : worker thread finished; awaiting finish of 7 more threads\n",
      "2021-02-23 19:52:55,478 : INFO : worker thread finished; awaiting finish of 6 more threads\n",
      "2021-02-23 19:52:55,493 : INFO : worker thread finished; awaiting finish of 5 more threads\n",
      "2021-02-23 19:52:55,547 : INFO : EPOCH 1 - PROGRESS: at 66.69% words, 131997 words/s, in_qsize -1, out_qsize 1\n",
      "2021-02-23 19:52:55,548 : INFO : worker thread finished; awaiting finish of 4 more threads\n",
      "2021-02-23 19:52:56,140 : INFO : worker thread finished; awaiting finish of 3 more threads\n",
      "2021-02-23 19:52:56,241 : INFO : worker thread finished; awaiting finish of 2 more threads\n",
      "2021-02-23 19:52:56,328 : INFO : worker thread finished; awaiting finish of 1 more threads\n",
      "2021-02-23 19:52:56,387 : INFO : worker thread finished; awaiting finish of 0 more threads\n",
      "2021-02-23 19:52:56,388 : INFO : EPOCH - 1 : training on 15394371 raw words (11081995 effective words) took 56.8s, 195013 effective words/s\n",
      "2021-02-23 19:53:48,556 : INFO : EPOCH 2 - PROGRESS: at 8.34% words, 17703 words/s, in_qsize -1, out_qsize 1\n",
      "2021-02-23 19:53:48,558 : INFO : worker thread finished; awaiting finish of 11 more threads\n",
      "2021-02-23 19:53:48,637 : INFO : worker thread finished; awaiting finish of 10 more threads\n",
      "2021-02-23 19:53:48,717 : INFO : worker thread finished; awaiting finish of 9 more threads\n",
      "2021-02-23 19:53:48,795 : INFO : worker thread finished; awaiting finish of 8 more threads\n",
      "2021-02-23 19:53:49,615 : INFO : EPOCH 2 - PROGRESS: at 41.68% words, 86820 words/s, in_qsize -1, out_qsize 1\n",
      "2021-02-23 19:53:49,616 : INFO : worker thread finished; awaiting finish of 7 more threads\n",
      "2021-02-23 19:53:49,818 : INFO : worker thread finished; awaiting finish of 6 more threads\n",
      "2021-02-23 19:53:49,850 : INFO : worker thread finished; awaiting finish of 5 more threads\n",
      "2021-02-23 19:53:49,921 : INFO : worker thread finished; awaiting finish of 4 more threads\n",
      "2021-02-23 19:53:50,342 : INFO : worker thread finished; awaiting finish of 3 more threads\n",
      "2021-02-23 19:53:50,433 : INFO : worker thread finished; awaiting finish of 2 more threads\n",
      "2021-02-23 19:53:50,496 : INFO : worker thread finished; awaiting finish of 1 more threads\n",
      "2021-02-23 19:53:50,516 : INFO : worker thread finished; awaiting finish of 0 more threads\n",
      "2021-02-23 19:53:50,518 : INFO : EPOCH - 2 : training on 15394371 raw words (11079956 effective words) took 54.1s, 204890 effective words/s\n",
      "2021-02-23 19:54:44,226 : INFO : EPOCH 3 - PROGRESS: at 8.33% words, 17209 words/s, in_qsize -1, out_qsize 1\n",
      "2021-02-23 19:54:44,229 : INFO : worker thread finished; awaiting finish of 11 more threads\n",
      "2021-02-23 19:54:44,231 : INFO : worker thread finished; awaiting finish of 10 more threads\n",
      "2021-02-23 19:54:44,377 : INFO : worker thread finished; awaiting finish of 9 more threads\n",
      "2021-02-23 19:54:44,899 : INFO : worker thread finished; awaiting finish of 8 more threads\n",
      "2021-02-23 19:54:44,965 : INFO : worker thread finished; awaiting finish of 7 more threads\n",
      "2021-02-23 19:54:45,124 : INFO : worker thread finished; awaiting finish of 6 more threads\n",
      "2021-02-23 19:54:45,126 : INFO : worker thread finished; awaiting finish of 5 more threads\n",
      "2021-02-23 19:54:45,310 : INFO : EPOCH 3 - PROGRESS: at 66.69% words, 135010 words/s, in_qsize -1, out_qsize 1\n",
      "2021-02-23 19:54:45,310 : INFO : worker thread finished; awaiting finish of 4 more threads\n",
      "2021-02-23 19:54:45,575 : INFO : worker thread finished; awaiting finish of 3 more threads\n",
      "2021-02-23 19:54:45,624 : INFO : worker thread finished; awaiting finish of 2 more threads\n",
      "2021-02-23 19:54:45,771 : INFO : worker thread finished; awaiting finish of 1 more threads\n",
      "2021-02-23 19:54:45,792 : INFO : worker thread finished; awaiting finish of 0 more threads\n",
      "2021-02-23 19:54:45,793 : INFO : EPOCH - 3 : training on 15394371 raw words (11081885 effective words) took 55.2s, 200669 effective words/s\n",
      "2021-02-23 19:55:39,182 : INFO : EPOCH 4 - PROGRESS: at 8.34% words, 17320 words/s, in_qsize -1, out_qsize 1\n",
      "2021-02-23 19:55:39,184 : INFO : worker thread finished; awaiting finish of 11 more threads\n",
      "2021-02-23 19:55:39,225 : INFO : worker thread finished; awaiting finish of 10 more threads\n",
      "2021-02-23 19:55:39,227 : INFO : worker thread finished; awaiting finish of 9 more threads\n",
      "2021-02-23 19:55:39,285 : INFO : worker thread finished; awaiting finish of 8 more threads\n",
      "2021-02-23 19:55:39,737 : INFO : worker thread finished; awaiting finish of 7 more threads\n",
      "2021-02-23 19:55:39,830 : INFO : worker thread finished; awaiting finish of 6 more threads\n",
      "2021-02-23 19:55:39,904 : INFO : worker thread finished; awaiting finish of 5 more threads\n",
      "2021-02-23 19:55:40,051 : INFO : worker thread finished; awaiting finish of 4 more threads\n",
      "2021-02-23 19:55:40,237 : INFO : EPOCH 4 - PROGRESS: at 75.03% words, 152835 words/s, in_qsize -1, out_qsize 1\n",
      "2021-02-23 19:55:40,239 : INFO : worker thread finished; awaiting finish of 3 more threads\n",
      "2021-02-23 19:55:40,254 : INFO : worker thread finished; awaiting finish of 2 more threads\n",
      "2021-02-23 19:55:40,256 : INFO : worker thread finished; awaiting finish of 1 more threads\n",
      "2021-02-23 19:55:40,492 : INFO : worker thread finished; awaiting finish of 0 more threads\n",
      "2021-02-23 19:55:40,493 : INFO : EPOCH - 4 : training on 15394371 raw words (11081172 effective words) took 54.7s, 202763 effective words/s\n",
      "2021-02-23 19:56:33,354 : INFO : EPOCH 5 - PROGRESS: at 8.33% words, 17486 words/s, in_qsize -1, out_qsize 1\n",
      "2021-02-23 19:56:33,355 : INFO : worker thread finished; awaiting finish of 11 more threads\n",
      "2021-02-23 19:56:33,374 : INFO : worker thread finished; awaiting finish of 10 more threads\n",
      "2021-02-23 19:56:33,562 : INFO : worker thread finished; awaiting finish of 9 more threads\n",
      "2021-02-23 19:56:34,461 : INFO : EPOCH 5 - PROGRESS: at 33.35% words, 68536 words/s, in_qsize -1, out_qsize 1\n",
      "2021-02-23 19:56:34,463 : INFO : worker thread finished; awaiting finish of 8 more threads\n",
      "2021-02-23 19:56:34,605 : INFO : worker thread finished; awaiting finish of 7 more threads\n",
      "2021-02-23 19:56:34,662 : INFO : worker thread finished; awaiting finish of 6 more threads\n",
      "2021-02-23 19:56:34,756 : INFO : worker thread finished; awaiting finish of 5 more threads\n",
      "2021-02-23 19:56:35,312 : INFO : worker thread finished; awaiting finish of 4 more threads\n",
      "2021-02-23 19:56:35,499 : INFO : EPOCH 5 - PROGRESS: at 75.03% words, 151214 words/s, in_qsize -1, out_qsize 1\n",
      "2021-02-23 19:56:35,501 : INFO : worker thread finished; awaiting finish of 3 more threads\n",
      "2021-02-23 19:56:35,619 : INFO : worker thread finished; awaiting finish of 2 more threads\n",
      "2021-02-23 19:56:35,799 : INFO : worker thread finished; awaiting finish of 1 more threads\n",
      "2021-02-23 19:56:35,839 : INFO : worker thread finished; awaiting finish of 0 more threads\n",
      "2021-02-23 19:56:35,840 : INFO : EPOCH - 5 : training on 15394371 raw words (11080062 effective words) took 55.3s, 200368 effective words/s\n",
      "2021-02-23 19:56:35,843 : INFO : training on a 76971855 raw words (55405070 effective words) took 276.3s, 200503 effective words/s\n",
      "2021-02-23 19:56:35,844 : WARNING : under 10 jobs per worker: consider setting a smaller `batch_words' for smoother alpha decay\n",
      "2021-02-23 19:56:37,400 : INFO : saving FastText object under dados/experimento_1/ftt_jur.model, separately None\n",
      "2021-02-23 19:56:37,402 : INFO : storing np array 'vectors_ngrams' to dados/experimento_1/ftt_jur.model.wv.vectors_ngrams.npy\n"
     ]
    },
    {
     "name": "stderr",
     "output_type": "stream",
     "text": [
      "2021-02-23 19:56:44,205 : INFO : not storing attribute vectors_norm\n",
      "2021-02-23 19:56:44,208 : INFO : not storing attribute vectors_vocab_norm\n",
      "2021-02-23 19:56:44,209 : INFO : not storing attribute vectors_ngrams_norm\n",
      "2021-02-23 19:56:44,209 : INFO : not storing attribute buckets_word\n",
      "2021-02-23 19:56:44,211 : INFO : storing np array 'vectors_ngrams_lockf' to dados/experimento_1/ftt_jur.model.trainables.vectors_ngrams_lockf.npy\n",
      "2021-02-23 19:56:51,993 : INFO : saved dados/experimento_1/ftt_jur.model\n"
     ]
    }
   ],
   "source": [
    "ftt_jur = grouper.treinar_fasttext('dados/experimento_'+str(exp)+'/base_treino.txt', exp)"
   ]
  },
  {
   "cell_type": "code",
   "execution_count": null,
   "metadata": {},
   "outputs": [],
   "source": []
  }
 ],
 "metadata": {
  "kernelspec": {
   "display_name": "Python 3",
   "language": "python",
   "name": "python3"
  },
  "language_info": {
   "codemirror_mode": {
    "name": "ipython",
    "version": 3
   },
   "file_extension": ".py",
   "mimetype": "text/x-python",
   "name": "python",
   "nbconvert_exporter": "python",
   "pygments_lexer": "ipython3",
   "version": "3.7.4"
  }
 },
 "nbformat": 4,
 "nbformat_minor": 2
}
