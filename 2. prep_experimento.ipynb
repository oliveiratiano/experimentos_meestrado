{
 "cells": [
  {
   "cell_type": "markdown",
   "metadata": {},
   "source": [
    "## Introdução\n",
    "Este notebook prepara o texto do teor das decisões jurídicas extraídas do e-Saj com o webscrapper. Do diretório raiz do projeto é possível acessar o diretório _dados_. Dentro dele, o diretório _raw_data_ contém arquivos csv com código do processo, classe, assunto, magistrado, comarca, foro, vara, data da disponibilização no e-Saj e teor de 500 decisões de segunda instância. Uma vez que existem muitos arquivos csv, é preciso percorrê-los, um a um, aplicando o tratamento textual.\n",
    "\n",
    "As informações estruturadas supracitadas se repetem no teor dos documentos, então é necessário separar o conteúdo textual do teor destas informações, o que é feito com uma expressão regular. Em seguida, é preciso percorrer todos os arquivos csv de _raw_data_ e aplicar a remoção de _stopwords_, colcoar todo o conteúdo em caixa baixa, remover acentuação e substituir os números por uma expressão genérica, _NUM_. Os arquivos tratados substituem os originais. Uma vez que os arquivos tratados contém o teor original, a substituição não implica em perda de dados originais.\n",
    "\n"
   ]
  },
  {
   "cell_type": "code",
   "execution_count": 4,
   "metadata": {},
   "outputs": [
    {
     "name": "stdout",
     "output_type": "stream",
     "text": [
      "The autoreload extension is already loaded. To reload it, use:\n",
      "  %reload_ext autoreload\n"
     ]
    },
    {
     "name": "stderr",
     "output_type": "stream",
     "text": [
      "C:\\ProgramData\\Anaconda3\\lib\\site-packages\\tqdm\\std.py:648: FutureWarning: The Panel class is removed from pandas. Accessing it from the top-level namespace will also be removed in the next version\n",
      "  from pandas import Panel\n"
     ]
    }
   ],
   "source": [
    "%load_ext autoreload\n",
    "%autoreload 2\n",
    "\n",
    "import string\n",
    "import unidecode\n",
    "import re\n",
    "import nltk\n",
    "import matplotlib.pyplot as plt\n",
    "import pandas as pd\n",
    "import os\n",
    "import sys\n",
    "from tqdm import tqdm\n",
    "\n",
    "expr_teor = re.compile('(\\\\n\\\\t\\\\t\\\\t\\\\t\\\\t\\\\t\\\\t\\\\t\\\\t\\\\t\\\\t\\\\t\\\\t\\\\n\\\\n\\\\n.*TRIBUNAL DE JUSTI.*V[iI][sS][tT][oO][sS]|\\\\n\\\\t\\\\t\\\\t\\\\t\\\\t\\\\t\\\\t\\\\t\\\\t\\\\t\\\\t\\\\t\\\\t\\\\n\\\\n\\\\nTRIBUNAL DE JUSTIÇA DO ESTADO DE SÃO PAULO\\\\n\\\\n.*Juiz.* de Direito:.+?\\\\n)', re.S)\n",
    "tqdm.pandas(desc=\"barra de progresso\")\n",
    "stemmer = nltk.stem.RSLPStemmer()\n",
    "\n",
    "def tratar_textos(raw_corpus):\n",
    "    raw_corpus = raw_corpus.str.replace('[\\r\\n\\,\\.,\\(\\)\\-\\$\\%\\*\\@\\!\\?]',' ')\n",
    "    pt_stopwords = set([unidecode.unidecode(i) for i in nltk.corpus.stopwords.words('portuguese')])  \n",
    "    def preprocess(x, *stopwords_list):\n",
    "        x = unidecode.unidecode(x.lower())\n",
    "        x = [stemmer.stem(w) for w in x.split() if w not in set(pt_stopwords)]\n",
    "        return ' '.join(x)\n",
    "    \n",
    "    \n",
    "    clean_text = raw_corpus.apply(preprocess, args = pt_stopwords)\n",
    "    clean_text = clean_text.str.replace('\\d+', '_NUM_')\n",
    "    return clean_text\n",
    "\n",
    "def preparar_teores(df, expr):\n",
    "    lista = df['Teor'].apply(lambda x: True if expr.search(str(x)) else False)\n",
    "    df = df[lista]\n",
    "    textos_raw = df['Teor'].apply(lambda x: re.sub(expr, '', str(x)))\n",
    "    df['Teor_preprocessado'] = tratar_textos(textos_raw)\n",
    "    return df"
   ]
  },
  {
   "cell_type": "markdown",
   "metadata": {},
   "source": [
    "#### Extração do teor prepocessado"
   ]
  },
  {
   "cell_type": "code",
   "execution_count": 35,
   "metadata": {
    "scrolled": true
   },
   "outputs": [
    {
     "name": "stderr",
     "output_type": "stream",
     "text": [
      "100%|██████████| 434/434 [3:47:34<00:00, 31.46s/it]  \n"
     ]
    }
   ],
   "source": [
    "directory = \"dados/raw_data/\"\n",
    "for filename in tqdm(os.listdir(directory)):\n",
    "    try:      \n",
    "        df = pd.read_csv(os.path.join(directory, filename), index_col=0)\n",
    "        lista = df['Teor'].apply(lambda x: True if expr_teor.search(str(x)) else False)\n",
    "        df = df[lista]\n",
    "        textos_raw = df['Teor'].apply(lambda x: re.sub(expr_teor, '', str(x)))\n",
    "        df_prep = preparar_teores(df, expr_teor)\n",
    "        df_prep.to_csv(os.path.join(directory, filename))\n",
    "    except:\n",
    "            e = sys.exc_info()[0]\n",
    "            print(e)"
   ]
  }
 ],
 "metadata": {
  "kernelspec": {
   "display_name": "Python 3",
   "language": "python",
   "name": "python3"
  },
  "language_info": {
   "codemirror_mode": {
    "name": "ipython",
    "version": 3
   },
   "file_extension": ".py",
   "mimetype": "text/x-python",
   "name": "python",
   "nbconvert_exporter": "python",
   "pygments_lexer": "ipython3",
   "version": "3.7.4"
  }
 },
 "nbformat": 4,
 "nbformat_minor": 2
}
