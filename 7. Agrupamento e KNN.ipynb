{
 "cells": [
  {
   "cell_type": "code",
   "execution_count": 5,
   "metadata": {},
   "outputs": [],
   "source": [
    "%load_ext autoreload\n",
    "%autoreload 2\n",
    "import pandas as pd\n",
    "from src import analyzer\n",
    "import numpy as np\n",
    "import seaborn as sns\n",
    "from matplotlib import pyplot as plt\n",
    "from tqdm import tqdm_notebook as tqdm\n",
    "from sklearn.preprocessing import LabelEncoder\n",
    "import seaborn as sns"
   ]
  },
  {
   "cell_type": "code",
   "execution_count": 3,
   "metadata": {
    "scrolled": false
   },
   "outputs": [
    {
     "name": "stdout",
     "output_type": "stream",
     "text": [
      "--------- agrupamentos do experimento 1 ---------\n",
      "agrupando vetores gerados pelo modelo vec_w2v_ger_soma\n"
     ]
    },
    {
     "data": {
      "application/vnd.jupyter.widget-view+json": {
       "model_id": "fdc545ac327d40a0bf555581cc3b3853",
       "version_major": 2,
       "version_minor": 0
      },
      "text/plain": [
       "HBox(children=(IntProgress(value=0, max=18), HTML(value='')))"
      ]
     },
     "metadata": {},
     "output_type": "display_data"
    },
    {
     "name": "stdout",
     "output_type": "stream",
     "text": [
      "\n",
      "agrupando vetores gerados pelo modelo vec_ftt_ger_soma\n"
     ]
    },
    {
     "data": {
      "application/vnd.jupyter.widget-view+json": {
       "model_id": "9fcf64672eea4b059d827b9566bc052b",
       "version_major": 2,
       "version_minor": 0
      },
      "text/plain": [
       "HBox(children=(IntProgress(value=0, max=18), HTML(value='')))"
      ]
     },
     "metadata": {},
     "output_type": "display_data"
    },
    {
     "name": "stdout",
     "output_type": "stream",
     "text": [
      "\n",
      "agrupando vetores gerados pelo modelo vec_glv_ger_soma\n"
     ]
    },
    {
     "data": {
      "application/vnd.jupyter.widget-view+json": {
       "model_id": "9d2d497db1484f228ceb23af6b0644df",
       "version_major": 2,
       "version_minor": 0
      },
      "text/plain": [
       "HBox(children=(IntProgress(value=0, max=18), HTML(value='')))"
      ]
     },
     "metadata": {},
     "output_type": "display_data"
    },
    {
     "name": "stdout",
     "output_type": "stream",
     "text": [
      "\n",
      "agrupando vetores gerados pelo modelo vec_w2v_jur_soma\n"
     ]
    },
    {
     "data": {
      "application/vnd.jupyter.widget-view+json": {
       "model_id": "625e93037a4b4d738b110c365e5ba376",
       "version_major": 2,
       "version_minor": 0
      },
      "text/plain": [
       "HBox(children=(IntProgress(value=0, max=18), HTML(value='')))"
      ]
     },
     "metadata": {},
     "output_type": "display_data"
    },
    {
     "name": "stdout",
     "output_type": "stream",
     "text": [
      "\n",
      "agrupando vetores gerados pelo modelo vec_ftt_jur_soma\n"
     ]
    },
    {
     "data": {
      "application/vnd.jupyter.widget-view+json": {
       "model_id": "9befec47f7ac48bca47b71c4a8f4bdaf",
       "version_major": 2,
       "version_minor": 0
      },
      "text/plain": [
       "HBox(children=(IntProgress(value=0, max=18), HTML(value='')))"
      ]
     },
     "metadata": {},
     "output_type": "display_data"
    },
    {
     "name": "stdout",
     "output_type": "stream",
     "text": [
      "\n",
      "agrupando vetores gerados pelo modelo vec_glv_jur_soma\n"
     ]
    },
    {
     "data": {
      "application/vnd.jupyter.widget-view+json": {
       "model_id": "9290263d4b004d16914fa44fd642e384",
       "version_major": 2,
       "version_minor": 0
      },
      "text/plain": [
       "HBox(children=(IntProgress(value=0, max=18), HTML(value='')))"
      ]
     },
     "metadata": {},
     "output_type": "display_data"
    },
    {
     "name": "stdout",
     "output_type": "stream",
     "text": [
      "\n",
      "agrupando vetores gerados pelo modelo doc2vec_jur\n"
     ]
    },
    {
     "data": {
      "application/vnd.jupyter.widget-view+json": {
       "model_id": "d258a332eae04159b29dcddee3b3f2ec",
       "version_major": 2,
       "version_minor": 0
      },
      "text/plain": [
       "HBox(children=(IntProgress(value=0, max=18), HTML(value='')))"
      ]
     },
     "metadata": {},
     "output_type": "display_data"
    },
    {
     "name": "stdout",
     "output_type": "stream",
     "text": [
      "\n"
     ]
    }
   ],
   "source": [
    "lista_k = range(2, 20)\n",
    "lista_experimentos = np.arange(0,1)\n",
    "le = LabelEncoder()\n",
    "for i in lista_experimentos:\n",
    "    exp = i+1\n",
    "    print('--------- agrupamentos do experimento '+ str(exp)+' ---------')\n",
    "    dir_experimento = 'experimento_'+str(exp)\n",
    "    df = pd.read_csv('dados/'+dir_experimento+'/vetores_teste.csv')\n",
    "\n",
    "    for modelo in df.iloc[:,3:]:\n",
    "        print('agrupando vetores gerados pelo modelo '+modelo)\n",
    "        df[modelo] = df[modelo].apply(lambda x: analyzer.converter_string_array(x).reshape(-1))\n",
    "        X = np.stack(df[modelo])\n",
    "        y = df['assunto']\n",
    "        le.fit(y)\n",
    "        y = le.transform(y)\n",
    "\n",
    "        lista_scores_k = analyzer.computar_scores_agrupamento(X, y, dir_experimento, modelo, lista_k)\n",
    "        analyzer.gerar_graficos_kmeans(lista_scores_k, dir_experimento, modelo)"
   ]
  },
  {
   "cell_type": "code",
   "execution_count": 3,
   "metadata": {},
   "outputs": [
    {
     "data": {
      "text/plain": [
       "[array([[-1.75337559, -1.37420784, -1.85380514, -0.2483768 ],\n",
       "        [ 1.58627154,  1.63047037,  0.27436612,  1.74448475],\n",
       "        [ 0.14963845,  1.39846274,  0.97595348,  0.49302216]]),\n",
       " array([[-0.54832643,  1.95269766, -0.77442282,  0.96836788],\n",
       "        [ 0.41381138, -0.52557561,  0.14372263, -1.39850914],\n",
       "        [-0.22425534,  0.3495785 , -0.40275713,  0.38131942]]),\n",
       " array([[ 0.32950958,  1.73482668,  0.37695322,  1.49951611],\n",
       "        [ 0.2979788 ,  0.34682243,  0.27531613,  1.67223478],\n",
       "        [-0.42088268,  0.32011149,  1.00762807,  0.43223204]]),\n",
       " array([[ 0.15774154,  0.81600037, -1.81531063,  0.93656625],\n",
       "        [ 0.71327102, -1.13530628,  0.2524412 ,  0.28457662],\n",
       "        [ 0.4501278 , -0.82184863,  0.18448236, -1.01363359]]),\n",
       " array([[-0.46818736,  0.29599649,  0.02163768, -0.21838599],\n",
       "        [ 0.54320704,  0.53628504,  0.95016793, -0.77760301],\n",
       "        [ 0.00391397,  0.39549368, -1.63534492,  0.53434401]]),\n",
       " array([[ 0.25605156,  0.70728728, -0.14525677, -0.16282297],\n",
       "        [-0.16931861,  1.42444247, -0.42482207, -0.50172808],\n",
       "        [ 0.1088665 , -0.89595747, -0.62462763,  0.31895634]]),\n",
       " array([[ 1.8379008 , -0.04315402,  0.68657699, -0.17022627],\n",
       "        [ 0.2309161 ,  0.54209312, -0.0520543 , -1.12793861],\n",
       "        [-0.67844316, -0.16395425, -0.93850459, -0.67445938]]),\n",
       " array([[ 1.43042765,  2.05433747, -0.16372095,  0.08565678],\n",
       "        [-0.03579459, -0.99929395, -0.56868958,  1.57037784],\n",
       "        [-1.04547898, -0.82270515, -0.51369468, -0.00839275]]),\n",
       " array([[-0.5985797 ,  2.11183672, -1.38225521, -1.02456715],\n",
       "        [-0.85363424,  0.47746027, -0.23604806, -1.01913437],\n",
       "        [ 1.77432621, -0.66716312, -0.22774161,  0.91254564]]),\n",
       " array([[-1.56644618, -0.77548607, -1.81604257,  1.33629421],\n",
       "        [-0.9344935 ,  0.26852941, -0.1590564 ,  2.0228737 ],\n",
       "        [ 1.53925781,  1.13236958, -0.80030783,  1.04048704]])]"
      ]
     },
     "execution_count": 3,
     "metadata": {},
     "output_type": "execute_result"
    }
   ],
   "source": [
    "import numpy as np\n",
    "arrays = [np.random.randn(3, 4) for _ in range(10)]\n",
    "arrays"
   ]
  },
  {
   "cell_type": "code",
   "execution_count": 7,
   "metadata": {},
   "outputs": [],
   "source": [
    "plt.rcParams.update(plt.rcParamsDefault)"
   ]
  },
  {
   "cell_type": "code",
   "execution_count": null,
   "metadata": {},
   "outputs": [],
   "source": []
  }
 ],
 "metadata": {
  "kernelspec": {
   "display_name": "Python 3",
   "language": "python",
   "name": "python3"
  },
  "language_info": {
   "codemirror_mode": {
    "name": "ipython",
    "version": 3
   },
   "file_extension": ".py",
   "mimetype": "text/x-python",
   "name": "python",
   "nbconvert_exporter": "python",
   "pygments_lexer": "ipython3",
   "version": "3.7.4"
  }
 },
 "nbformat": 4,
 "nbformat_minor": 2
}
