{
 "cells": [
  {
   "cell_type": "markdown",
   "metadata": {},
   "source": [
    "## Introdução\n",
    "Este notebook extrai o texto do teor das decisões jurídicas capturadas no e-Saj com o webscrapper. Do diretório raiz do projeto é possível acessar o diretório _dados_. Dentro dele, o diretório _raw_data_ contém arquivos csv com código do processo, classe, assunto, magistrado, comarca, foro, vara, data da disponibilização no e-Saj e teor de 500 decisões de segunda instância. Uma vez que existem muitos arquivos csv, é preciso percorrê-los, um a um, aplicando o tratamento textual.\n",
    "\n",
    "As informações estruturadas supracitadas se repetem no teor dos documentos, então é necessário remover este conteúdo, o que é feito com uma expressão regular. Em seguida, os documentos de texto são salvos em formato txt para posterior treinamento de modelos de linguagem."
   ]
  },
  {
   "cell_type": "code",
   "execution_count": 1,
   "metadata": {},
   "outputs": [
    {
     "name": "stderr",
     "output_type": "stream",
     "text": [
      "C:\\ProgramData\\Anaconda3\\lib\\site-packages\\tqdm\\std.py:648: FutureWarning: The Panel class is removed from pandas. Accessing it from the top-level namespace will also be removed in the next version\n",
      "  from pandas import Panel\n"
     ]
    }
   ],
   "source": [
    "%load_ext autoreload\n",
    "%autoreload 2\n",
    "\n",
    "import string\n",
    "import unidecode\n",
    "import re\n",
    "import nltk\n",
    "import matplotlib.pyplot as plt\n",
    "import pandas as pd\n",
    "import os\n",
    "import glob\n",
    "import sys\n",
    "from tqdm import tqdm\n",
    "import preprocessing"
   ]
  },
  {
   "cell_type": "markdown",
   "metadata": {},
   "source": [
    "#### Gera um txt para cada teor"
   ]
  },
  {
   "cell_type": "code",
   "execution_count": 2,
   "metadata": {
    "scrolled": true
   },
   "outputs": [
    {
     "name": "stderr",
     "output_type": "stream",
     "text": [
      "100%|██████████| 435/435 [3:17:03<00:00, 27.18s/it]  \n"
     ]
    }
   ],
   "source": [
    "caminho = \"dados/raw_data/\"\n",
    "expr_teor = re.compile('(\\\\n\\\\t\\\\t\\\\t\\\\t\\\\t\\\\t\\\\t\\\\t\\\\t\\\\t\\\\t\\\\t\\\\t\\\\n\\\\n\\\\n.*TRIBUNAL DE JUSTI.*V[iI][sS][tT][oO][sS]|\\\\n\\\\t\\\\t\\\\t\\\\t\\\\t\\\\t\\\\t\\\\t\\\\t\\\\t\\\\t\\\\t\\\\t\\\\n\\\\n\\\\nTRIBUNAL DE JUSTIÇA DO ESTADO DE SÃO PAULO\\\\n\\\\n.*Juiz.* de Direito:.+?\\\\n)', re.S)\n",
    "tokens = 0\n",
    "documentos = 0\n",
    "\n",
    "for arquivo in tqdm(os.listdir(caminho)):    \n",
    "    dados = pd.read_csv(caminho + arquivo, usecols=['id','Teor'])\n",
    "    lista = dados['Teor'].apply(lambda x: True if expr_teor.search(str(x)) else False)\n",
    "    dados = dados[lista]\n",
    "    textos_raw = dados['Teor'].apply(lambda x: re.sub('[\\n\\r\\t]+', ' ', re.sub(expr_teor, '', str(x))))\n",
    "    for i, dado in enumerate(textos_raw.values):\n",
    "        documento = open(\"dados/corpus_tratado/\" + dados['id'][i]+ \".txt\", mode=\"w+\",encoding=\"utf-8\")\n",
    "        preprocessing.preprocessar_texto(textos_raw.values[i], documento, tokens)\n",
    "        documento.close()"
   ]
  },
  {
   "cell_type": "markdown",
   "metadata": {},
   "source": [
    "### Gera um txt para o corpus inteiro"
   ]
  },
  {
   "cell_type": "code",
   "execution_count": 3,
   "metadata": {},
   "outputs": [
    {
     "name": "stderr",
     "output_type": "stream",
     "text": [
      "100%|██████████| 40019/40019 [07:10<00:00, 92.97it/s] \n"
     ]
    }
   ],
   "source": [
    "caminho_corpus = \"dados/corpus_tratado/\"\n",
    "corpus_tratado = open('dados/corpus_tratado/single/corpus_tratado.txt', 'w+', encoding='utf8')\n",
    "for documento in tqdm(glob.glob(\"dados/corpus_tratado/*.txt\")):\n",
    "    doc = open(documento, 'r', encoding='utf8')\n",
    "    for frase in doc:\n",
    "        corpus_tratado.write(frase)\n",
    "corpus_tratado.close() "
   ]
  },
  {
   "cell_type": "code",
   "execution_count": 4,
   "metadata": {},
   "outputs": [
    {
     "data": {
      "text/plain": [
       "0"
      ]
     },
     "execution_count": 4,
     "metadata": {},
     "output_type": "execute_result"
    }
   ],
   "source": [
    "tokens"
   ]
  },
  {
   "cell_type": "code",
   "execution_count": null,
   "metadata": {},
   "outputs": [],
   "source": []
  }
 ],
 "metadata": {
  "kernelspec": {
   "display_name": "Python 3",
   "language": "python",
   "name": "python3"
  },
  "language_info": {
   "codemirror_mode": {
    "name": "ipython",
    "version": 3
   },
   "file_extension": ".py",
   "mimetype": "text/x-python",
   "name": "python",
   "nbconvert_exporter": "python",
   "pygments_lexer": "ipython3",
   "version": "3.7.4"
  }
 },
 "nbformat": 4,
 "nbformat_minor": 2
}
