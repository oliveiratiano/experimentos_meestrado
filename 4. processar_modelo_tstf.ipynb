{
 "cells": [
  {
   "cell_type": "code",
   "execution_count": 2,
   "metadata": {},
   "outputs": [],
   "source": [
    "%load_ext autoreload\n",
    "%autoreload 2\n",
    "from src import quali\n",
    "from gensim.models import Word2Vec\n",
    "from gensim.models import FastText\n",
    "from gensim.test.utils import datapath, get_tmpfile\n",
    "from gensim.models import KeyedVectors\n",
    "from gensim.scripts.glove2word2vec import glove2word2vec\n",
    "from gensim.models import KeyedVectors\n",
    "import pandas as pd\n",
    "\n",
    "import statistics"
   ]
  },
  {
   "cell_type": "markdown",
   "metadata": {},
   "source": [
    "### Word2Vec Jurídico"
   ]
  },
  {
   "cell_type": "code",
   "execution_count": 3,
   "metadata": {},
   "outputs": [
    {
     "data": {
      "text/plain": [
       "<gensim.models.word2vec.Word2Vec at 0x21891a69208>"
      ]
     },
     "metadata": {},
     "output_type": "display_data"
    },
    {
     "data": {
      "text/plain": [
       "(15795, 8)"
      ]
     },
     "metadata": {},
     "output_type": "display_data"
    },
    {
     "data": {
      "text/plain": [
       "39717"
      ]
     },
     "metadata": {},
     "output_type": "display_data"
    },
    {
     "data": {
      "text/plain": [
       "'Rank TSTF Word2Vec Jur:'"
      ]
     },
     "metadata": {},
     "output_type": "display_data"
    },
    {
     "data": {
      "text/plain": [
       "'rank médio use: 3371.039603960396 - rank mediano use: 145 - total: 101'"
      ]
     },
     "metadata": {},
     "output_type": "display_data"
    },
    {
     "data": {
      "text/plain": [
       "'rank médio up: 3410.990099009901 - rank mediano up: 138 - total: 101'"
      ]
     },
     "metadata": {},
     "output_type": "display_data"
    },
    {
     "data": {
      "text/plain": [
       "'rank médio te: 3638.9859154929577 - rank mediano te: 179 - total: 71'"
      ]
     },
     "metadata": {},
     "output_type": "display_data"
    },
    {
     "data": {
      "text/plain": [
       "'rank médio tr: 4316.506862745098 - rank mediano tr: 476.0 - total: 2040'"
      ]
     },
     "metadata": {},
     "output_type": "display_data"
    },
    {
     "data": {
      "text/plain": [
       "'rank médio tg: 3748.1408450704225 - rank mediano tg: 299 - total: 71'"
      ]
     },
     "metadata": {},
     "output_type": "display_data"
    },
    {
     "data": {
      "text/plain": [
       "'rank médio podenrado Word2Vec Jur: 4200.9836409395975'"
      ]
     },
     "metadata": {},
     "output_type": "display_data"
    }
   ],
   "source": [
    "w2v_jur = Word2Vec.load(\"modelos/w2v_jur.model\")\n",
    "tesauro = pd.read_csv(\"tesauro_stf.csv\")\n",
    "display(w2v_jur)\n",
    "display(tesauro.shape)\n",
    "display(len(w2v_jur.wv.vocab))\n",
    "quali.calcular_desempenho(tesauro, w2v_jur, 'Word2Vec Jur')"
   ]
  },
  {
   "cell_type": "markdown",
   "metadata": {},
   "source": [
    "### FastText Jurídico"
   ]
  },
  {
   "cell_type": "code",
   "execution_count": 4,
   "metadata": {},
   "outputs": [
    {
     "data": {
      "text/plain": [
       "<gensim.models.fasttext.FastText at 0x21893123e88>"
      ]
     },
     "metadata": {},
     "output_type": "display_data"
    },
    {
     "data": {
      "text/plain": [
       "(15795, 8)"
      ]
     },
     "metadata": {},
     "output_type": "display_data"
    },
    {
     "data": {
      "text/plain": [
       "39717"
      ]
     },
     "metadata": {},
     "output_type": "display_data"
    },
    {
     "data": {
      "text/plain": [
       "'Rank TSTF FastText Jur:'"
      ]
     },
     "metadata": {},
     "output_type": "display_data"
    },
    {
     "data": {
      "text/plain": [
       "'rank médio use: 2261.039603960396 - rank mediano use: 25 - total: 101'"
      ]
     },
     "metadata": {},
     "output_type": "display_data"
    },
    {
     "data": {
      "text/plain": [
       "'rank médio up: 1844.6138613861385 - rank mediano up: 26 - total: 101'"
      ]
     },
     "metadata": {},
     "output_type": "display_data"
    },
    {
     "data": {
      "text/plain": [
       "'rank médio te: 2572.0845070422533 - rank mediano te: 314 - total: 71'"
      ]
     },
     "metadata": {},
     "output_type": "display_data"
    },
    {
     "data": {
      "text/plain": [
       "'rank médio tr: 4235.88431372549 - rank mediano tr: 554.0 - total: 2040'"
      ]
     },
     "metadata": {},
     "output_type": "display_data"
    },
    {
     "data": {
      "text/plain": [
       "'rank médio tg: 3122.2957746478874 - rank mediano tg: 579 - total: 71'"
      ]
     },
     "metadata": {},
     "output_type": "display_data"
    },
    {
     "data": {
      "text/plain": [
       "'rank médio podenrado FastText Jur: 3968.1946308724832'"
      ]
     },
     "metadata": {},
     "output_type": "display_data"
    }
   ],
   "source": [
    "ftt_jur = FastText.load(\"modelos/ftt_jur.model\")\n",
    "tesauro = pd.read_csv(\"tesauro_stf.csv\")\n",
    "display(ftt_jur)\n",
    "display(tesauro.shape)\n",
    "display(len(ftt_jur.wv.vocab))\n",
    "quali.calcular_desempenho(tesauro, ftt_jur, 'FastText Jur')"
   ]
  },
  {
   "cell_type": "markdown",
   "metadata": {},
   "source": [
    "### GloVe Jurídico"
   ]
  },
  {
   "cell_type": "code",
   "execution_count": 5,
   "metadata": {},
   "outputs": [
    {
     "data": {
      "text/plain": [
       "<gensim.models.keyedvectors.Word2VecKeyedVectors at 0x2188ac7cdc8>"
      ]
     },
     "metadata": {},
     "output_type": "display_data"
    },
    {
     "data": {
      "text/plain": [
       "(15795, 8)"
      ]
     },
     "metadata": {},
     "output_type": "display_data"
    },
    {
     "data": {
      "text/plain": [
       "39717"
      ]
     },
     "metadata": {},
     "output_type": "display_data"
    },
    {
     "data": {
      "text/plain": [
       "'Rank TSTF GloVe Jur:'"
      ]
     },
     "metadata": {},
     "output_type": "display_data"
    },
    {
     "data": {
      "text/plain": [
       "'rank médio use: 8525.336633663366 - rank mediano use: 2043 - total: 101'"
      ]
     },
     "metadata": {},
     "output_type": "display_data"
    },
    {
     "data": {
      "text/plain": [
       "'rank médio up: 5286.227722772277 - rank mediano up: 562 - total: 101'"
      ]
     },
     "metadata": {},
     "output_type": "display_data"
    },
    {
     "data": {
      "text/plain": [
       "'rank médio te: 5177.380281690141 - rank mediano te: 520 - total: 71'"
      ]
     },
     "metadata": {},
     "output_type": "display_data"
    },
    {
     "data": {
      "text/plain": [
       "'rank médio tr: 9416.494607843137 - rank mediano tr: 3618.5 - total: 2040'"
      ]
     },
     "metadata": {},
     "output_type": "display_data"
    },
    {
     "data": {
      "text/plain": [
       "'rank médio tg: 9582.084507042253 - rank mediano tg: 3009 - total: 71'"
      ]
     },
     "metadata": {},
     "output_type": "display_data"
    },
    {
     "data": {
      "text/plain": [
       "'rank médio podenrado GloVe Jur: 9082.440855704697'"
      ]
     },
     "metadata": {},
     "output_type": "display_data"
    }
   ],
   "source": [
    "glove_file = 'modelos/glove_jur.txt'\n",
    "tmp_file = get_tmpfile(\"test_word2vec.txt\")\n",
    "_ = glove2word2vec(glove_file, tmp_file)\n",
    "glv_jur = KeyedVectors.load_word2vec_format(tmp_file)\n",
    "tesauro = pd.read_csv(\"tesauro_stf.csv\")\n",
    "display(glv_jur)\n",
    "display(tesauro.shape)\n",
    "display(len(ftt_jur.wv.vocab))\n",
    "quali.calcular_desempenho(tesauro, glv_jur, 'GloVe Jur')"
   ]
  },
  {
   "cell_type": "markdown",
   "metadata": {},
   "source": [
    "### W2V CBOW 100 NILC"
   ]
  },
  {
   "cell_type": "code",
   "execution_count": 6,
   "metadata": {},
   "outputs": [
    {
     "data": {
      "text/plain": [
       "<gensim.models.keyedvectors.Word2VecKeyedVectors at 0x218965f8c48>"
      ]
     },
     "metadata": {},
     "output_type": "display_data"
    },
    {
     "data": {
      "text/plain": [
       "(15795, 8)"
      ]
     },
     "metadata": {},
     "output_type": "display_data"
    },
    {
     "name": "stderr",
     "output_type": "stream",
     "text": [
      "C:\\ProgramData\\Anaconda3\\lib\\site-packages\\ipykernel_launcher.py:7: DeprecationWarning: Call to deprecated `wv` (Attribute will be removed in 4.0.0, use self instead).\n",
      "  import sys\n",
      "C:\\ProgramData\\Anaconda3\\lib\\site-packages\\ipykernel_launcher.py:11: DeprecationWarning: Call to deprecated `wv` (Attribute will be removed in 4.0.0, use self instead).\n",
      "  # This is added back by InteractiveShellApp.init_path()\n"
     ]
    },
    {
     "data": {
      "text/plain": [
       "37163"
      ]
     },
     "metadata": {},
     "output_type": "display_data"
    },
    {
     "data": {
      "text/plain": [
       "'Rank TSTF Word2Vec CBOW NILC:'"
      ]
     },
     "metadata": {},
     "output_type": "display_data"
    },
    {
     "data": {
      "text/plain": [
       "'rank médio use: 1664.4242424242425 - rank mediano use: 84 - total: 99'"
      ]
     },
     "metadata": {},
     "output_type": "display_data"
    },
    {
     "data": {
      "text/plain": [
       "'rank médio up: 1874.7777777777778 - rank mediano up: 133 - total: 99'"
      ]
     },
     "metadata": {},
     "output_type": "display_data"
    },
    {
     "data": {
      "text/plain": [
       "'rank médio te: 1755.4366197183099 - rank mediano te: 346 - total: 71'"
      ]
     },
     "metadata": {},
     "output_type": "display_data"
    },
    {
     "data": {
      "text/plain": [
       "'rank médio tr: 3935.8512315270937 - rank mediano tr: 1344.0 - total: 2030'"
      ]
     },
     "metadata": {},
     "output_type": "display_data"
    },
    {
     "data": {
      "text/plain": [
       "'rank médio tg: 2140.3802816901407 - rank mediano tg: 297 - total: 71'"
      ]
     },
     "metadata": {},
     "output_type": "display_data"
    },
    {
     "data": {
      "text/plain": [
       "'rank médio podenrado Word2Vec CBOW NILC: 3635.7645569620254'"
      ]
     },
     "metadata": {},
     "output_type": "display_data"
    }
   ],
   "source": [
    "model = KeyedVectors.load_word2vec_format('modelos/w2v_cbow_nilc.txt')\n",
    "tesauro = pd.read_csv(\"tesauro_stf.csv\")\n",
    "display(model)\n",
    "display(tesauro.shape)\n",
    "\n",
    "#removendo os vetores que não estão no vocabulário dos modelos juridicos\n",
    "restricted_word_set = set([c for c, v in glv_jur.wv.vocab.items()])\n",
    "model.init_sims()\n",
    "quali.restrict_w2v(model, restricted_word_set)\n",
    "\n",
    "display(len(model.wv.vocab))\n",
    "quali.calcular_desempenho(tesauro, model, 'Word2Vec CBOW NILC')"
   ]
  },
  {
   "cell_type": "markdown",
   "metadata": {},
   "source": [
    "### W2V SKIPGRAM 100 NILC"
   ]
  },
  {
   "cell_type": "code",
   "execution_count": 7,
   "metadata": {},
   "outputs": [
    {
     "data": {
      "text/plain": [
       "<gensim.models.keyedvectors.Word2VecKeyedVectors at 0x2191d6f8c88>"
      ]
     },
     "metadata": {},
     "output_type": "display_data"
    },
    {
     "data": {
      "text/plain": [
       "(15795, 8)"
      ]
     },
     "metadata": {},
     "output_type": "display_data"
    },
    {
     "name": "stderr",
     "output_type": "stream",
     "text": [
      "C:\\ProgramData\\Anaconda3\\lib\\site-packages\\ipykernel_launcher.py:7: DeprecationWarning: Call to deprecated `wv` (Attribute will be removed in 4.0.0, use self instead).\n",
      "  import sys\n",
      "C:\\ProgramData\\Anaconda3\\lib\\site-packages\\ipykernel_launcher.py:11: DeprecationWarning: Call to deprecated `wv` (Attribute will be removed in 4.0.0, use self instead).\n",
      "  # This is added back by InteractiveShellApp.init_path()\n"
     ]
    },
    {
     "data": {
      "text/plain": [
       "37163"
      ]
     },
     "metadata": {},
     "output_type": "display_data"
    },
    {
     "data": {
      "text/plain": [
       "'Rank TSTF Word2Vec SKIP NILC:'"
      ]
     },
     "metadata": {},
     "output_type": "display_data"
    },
    {
     "data": {
      "text/plain": [
       "'rank médio use: 1305.171717171717 - rank mediano use: 33 - total: 99'"
      ]
     },
     "metadata": {},
     "output_type": "display_data"
    },
    {
     "data": {
      "text/plain": [
       "'rank médio up: 1294.5757575757575 - rank mediano up: 48 - total: 99'"
      ]
     },
     "metadata": {},
     "output_type": "display_data"
    },
    {
     "data": {
      "text/plain": [
       "'rank médio te: 2361.5774647887324 - rank mediano te: 145 - total: 71'"
      ]
     },
     "metadata": {},
     "output_type": "display_data"
    },
    {
     "data": {
      "text/plain": [
       "'rank médio tr: 3025.607881773399 - rank mediano tr: 520.0 - total: 2030'"
      ]
     },
     "metadata": {},
     "output_type": "display_data"
    },
    {
     "data": {
      "text/plain": [
       "'rank médio tg: 2458.450704225352 - rank mediano tg: 153 - total: 71'"
      ]
     },
     "metadata": {},
     "output_type": "display_data"
    },
    {
     "data": {
      "text/plain": [
       "'rank médio podenrado Word2Vec SKIP NILC: 2844.548945147679'"
      ]
     },
     "metadata": {},
     "output_type": "display_data"
    }
   ],
   "source": [
    "model = KeyedVectors.load_word2vec_format('modelos/w2v_skip_nilc.txt')\n",
    "tesauro = pd.read_csv(\"tesauro_stf.csv\")\n",
    "display(model)\n",
    "display(tesauro.shape)\n",
    "\n",
    "#removendo os vetores que não estão no vocabulário dos modelos juridicos\n",
    "restricted_word_set = set([c for c, v in glv_jur.wv.vocab.items()])\n",
    "model.init_sims()\n",
    "quali.restrict_w2v(model, restricted_word_set)\n",
    "\n",
    "display(len(model.wv.vocab))\n",
    "quali.calcular_desempenho(tesauro, model, 'Word2Vec SKIP NILC')"
   ]
  },
  {
   "cell_type": "markdown",
   "metadata": {},
   "source": [
    "### FTT CBOW 100 NILC"
   ]
  },
  {
   "cell_type": "code",
   "execution_count": null,
   "metadata": {},
   "outputs": [],
   "source": [
    "model = KeyedVectors.load_word2vec_format('modelos/ftt_cbow_nilc.txt')\n",
    "tesauro = pd.read_csv(\"tesauro_stf.csv\")\n",
    "display(model)\n",
    "display(tesauro.shape)\n",
    "\n",
    "#removendo os vetores que não estão no vocabulário dos modelos juridicos\n",
    "restricted_word_set = set([c for c, v in glv_jur.wv.vocab.items()])\n",
    "model.init_sims()\n",
    "quali.restrict_w2v(model, restricted_word_set)\n",
    "\n",
    "display(len(model.wv.vocab))\n",
    "quali.calcular_desempenho(tesauro, model, 'FastText CBOW NILC')"
   ]
  },
  {
   "cell_type": "markdown",
   "metadata": {},
   "source": [
    "### FTT SKIPGRAM 100 NILC"
   ]
  },
  {
   "cell_type": "code",
   "execution_count": null,
   "metadata": {
    "scrolled": false
   },
   "outputs": [],
   "source": [
    "model = KeyedVectors.load_word2vec_format('modelos/ftt_skip_nilc.txt')\n",
    "tesauro = pd.read_csv(\"tesauro_stf.csv\")\n",
    "display(model)\n",
    "display(tesauro.shape)\n",
    "\n",
    "#removendo os vetores que não estão no vocabulário dos modelos juridicos\n",
    "restricted_word_set = set([c for c, v in glv_jur.wv.vocab.items()])\n",
    "model.init_sims()\n",
    "quali.restrict_w2v(model, restricted_word_set)\n",
    "\n",
    "display(len(model.wv.vocab))\n",
    "quali.calcular_desempenho(tesauro, model, 'FastText SKIPGRAM NILC')"
   ]
  },
  {
   "cell_type": "markdown",
   "metadata": {},
   "source": [
    "### FTT SKIPGRAM 100 NILC"
   ]
  },
  {
   "cell_type": "code",
   "execution_count": null,
   "metadata": {},
   "outputs": [],
   "source": [
    "model = KeyedVectors.load_word2vec_format('modelos/glove_nilc.txt')\n",
    "tesauro = pd.read_csv(\"tesauro_stf.csv\")\n",
    "display(model)\n",
    "display(tesauro.shape)\n",
    "\n",
    "#removendo os vetores que não estão no vocabulário dos modelos juridicos\n",
    "restricted_word_set = set([c for c, v in glv_jur.wv.vocab.items()])\n",
    "model.init_sims()\n",
    "quali.restrict_w2v(model, restricted_word_set)\n",
    "\n",
    "display(len(model.wv.vocab))\n",
    "quali.calcular_desempenho(tesauro, model, 'GloVe NILC')"
   ]
  },
  {
   "cell_type": "markdown",
   "metadata": {},
   "source": [
    "#### FastText com vocabulário equivalente"
   ]
  },
  {
   "cell_type": "code",
   "execution_count": null,
   "metadata": {
    "scrolled": false
   },
   "outputs": [],
   "source": [
    "ftt_jur = KeyedVectors.load(\"modelos/ftt_jur.model\")\n",
    "tesauro = pd.read_csv(\"tesauro_stf.csv\")\n",
    "display(ftt_jur)\n",
    "display(tesauro.shape)\n",
    "\n",
    "ftt_jur.wv.save_word2vec_format(\"modelos/ftt_jur_fmt.model\")\n",
    "ftt_jur = KeyedVectors.load_word2vec_format(\"modelos/ftt_jur_fmt.model\")\n",
    "\n",
    "ftt_jur.init_sims()\n",
    "restricted_word_set = set([c for c, v in model.wv.vocab.items()])\n",
    "quali.restrict_w2v(ftt_jur, restricted_word_set)\n",
    "\n",
    "display(len(ftt_jur.wv.vocab))\n",
    "quali.calcular_desempenho(tesauro, ftt_jur, 'FastText Jur')"
   ]
  },
  {
   "cell_type": "code",
   "execution_count": null,
   "metadata": {},
   "outputs": [],
   "source": [
    "df_tg"
   ]
  },
  {
   "cell_type": "code",
   "execution_count": null,
   "metadata": {},
   "outputs": [],
   "source": [
    "tesauro[tesauro.unico == 1]"
   ]
  },
  {
   "cell_type": "code",
   "execution_count": null,
   "metadata": {},
   "outputs": [],
   "source": []
  }
 ],
 "metadata": {
  "kernelspec": {
   "display_name": "Python 3",
   "language": "python",
   "name": "python3"
  },
  "language_info": {
   "codemirror_mode": {
    "name": "ipython",
    "version": 3
   },
   "file_extension": ".py",
   "mimetype": "text/x-python",
   "name": "python",
   "nbconvert_exporter": "python",
   "pygments_lexer": "ipython3",
   "version": "3.7.4"
  }
 },
 "nbformat": 4,
 "nbformat_minor": 2
}
