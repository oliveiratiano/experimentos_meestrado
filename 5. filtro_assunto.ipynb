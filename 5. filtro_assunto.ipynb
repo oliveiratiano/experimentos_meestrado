{
 "cells": [
  {
   "cell_type": "code",
   "execution_count": 1,
   "metadata": {},
   "outputs": [],
   "source": [
    "def recuperar_teor(idx):\n",
    "    with open(diretorio + idx + \".txt\", \"r\", encoding='utf-8') as f:\n",
    "        contents = f.read()\n",
    "    return contents"
   ]
  },
  {
   "cell_type": "markdown",
   "metadata": {},
   "source": [
    "### Importação dos metadados"
   ]
  },
  {
   "cell_type": "code",
   "execution_count": 2,
   "metadata": {},
   "outputs": [],
   "source": [
    "%load_ext autoreload\n",
    "%autoreload 2\n",
    "import pandas as pd\n",
    "df = pd.read_csv(\"dados/corpus_tratado/metadados.csv\")"
   ]
  },
  {
   "cell_type": "markdown",
   "metadata": {},
   "source": [
    "### Filtrando os ids por assuntos"
   ]
  },
  {
   "cell_type": "code",
   "execution_count": 3,
   "metadata": {},
   "outputs": [
    {
     "data": {
      "text/plain": [
       "35027"
      ]
     },
     "metadata": {},
     "output_type": "display_data"
    },
    {
     "data": {
      "text/plain": [
       "125"
      ]
     },
     "metadata": {},
     "output_type": "display_data"
    },
    {
     "data": {
      "text/html": [
       "<div>\n",
       "<style scoped>\n",
       "    .dataframe tbody tr th:only-of-type {\n",
       "        vertical-align: middle;\n",
       "    }\n",
       "\n",
       "    .dataframe tbody tr th {\n",
       "        vertical-align: top;\n",
       "    }\n",
       "\n",
       "    .dataframe thead th {\n",
       "        text-align: right;\n",
       "    }\n",
       "</style>\n",
       "<table border=\"1\" class=\"dataframe\">\n",
       "  <thead>\n",
       "    <tr style=\"text-align: right;\">\n",
       "      <th></th>\n",
       "      <th>id</th>\n",
       "      <th>Assunto</th>\n",
       "    </tr>\n",
       "  </thead>\n",
       "  <tbody>\n",
       "    <tr>\n",
       "      <td>0</td>\n",
       "      <td>1500075-43.2019.8.26.0569</td>\n",
       "      <td>Tráfico de Drogas e Condutas Afins</td>\n",
       "    </tr>\n",
       "    <tr>\n",
       "      <td>1</td>\n",
       "      <td>1019468-32.2019.8.26.0562</td>\n",
       "      <td>Alienação Fiduciária</td>\n",
       "    </tr>\n",
       "    <tr>\n",
       "      <td>2</td>\n",
       "      <td>0000043-68.2019.8.26.0616</td>\n",
       "      <td>Furto</td>\n",
       "    </tr>\n",
       "    <tr>\n",
       "      <td>3</td>\n",
       "      <td>1007259-02.2018.8.26.0292</td>\n",
       "      <td>DIREITO PREVIDENCIÁRIO</td>\n",
       "    </tr>\n",
       "    <tr>\n",
       "      <td>4</td>\n",
       "      <td>1000425-53.2019.8.26.0128</td>\n",
       "      <td>Rural (Art. 48/51)</td>\n",
       "    </tr>\n",
       "    <tr>\n",
       "      <td>...</td>\n",
       "      <td>...</td>\n",
       "      <td>...</td>\n",
       "    </tr>\n",
       "    <tr>\n",
       "      <td>35022</td>\n",
       "      <td>0001233-88.2018.8.26.0426</td>\n",
       "      <td>Cheque</td>\n",
       "    </tr>\n",
       "    <tr>\n",
       "      <td>35023</td>\n",
       "      <td>1514316-66.2019.8.26.0037</td>\n",
       "      <td>Impostos</td>\n",
       "    </tr>\n",
       "    <tr>\n",
       "      <td>35024</td>\n",
       "      <td>1008737-24.2019.8.26.0320</td>\n",
       "      <td>Indenização por Dano Material</td>\n",
       "    </tr>\n",
       "    <tr>\n",
       "      <td>35025</td>\n",
       "      <td>0000206-22.2019.8.26.0075</td>\n",
       "      <td>IPTU/ Imposto Predial e Territorial Urbano</td>\n",
       "    </tr>\n",
       "    <tr>\n",
       "      <td>35026</td>\n",
       "      <td>1002580-07.2019.8.26.0297</td>\n",
       "      <td>Indenização por Dano Moral</td>\n",
       "    </tr>\n",
       "  </tbody>\n",
       "</table>\n",
       "<p>35027 rows × 2 columns</p>\n",
       "</div>"
      ],
      "text/plain": [
       "                              id                                     Assunto\n",
       "0      1500075-43.2019.8.26.0569          Tráfico de Drogas e Condutas Afins\n",
       "1      1019468-32.2019.8.26.0562                        Alienação Fiduciária\n",
       "2      0000043-68.2019.8.26.0616                                       Furto\n",
       "3      1007259-02.2018.8.26.0292                      DIREITO PREVIDENCIÁRIO\n",
       "4      1000425-53.2019.8.26.0128                          Rural (Art. 48/51)\n",
       "...                          ...                                         ...\n",
       "35022  0001233-88.2018.8.26.0426                                      Cheque\n",
       "35023  1514316-66.2019.8.26.0037                                    Impostos\n",
       "35024  1008737-24.2019.8.26.0320               Indenização por Dano Material\n",
       "35025  0000206-22.2019.8.26.0075  IPTU/ Imposto Predial e Territorial Urbano\n",
       "35026  1002580-07.2019.8.26.0297                  Indenização por Dano Moral\n",
       "\n",
       "[35027 rows x 2 columns]"
      ]
     },
     "execution_count": 3,
     "metadata": {},
     "output_type": "execute_result"
    }
   ],
   "source": [
    "corte = 50\n",
    "df_validos = pd.DataFrame(df.groupby(\"Assunto\").size()).reset_index()\n",
    "df_validos.columns = [\"assunto\", \"quant\"]\n",
    "df_validos = df_validos.loc[df_validos.quant >= corte]\n",
    "display(df_validos.quant.sum())\n",
    "display(df_validos.assunto.nunique())\n",
    "documentos_validos = df[df.Assunto.isin(df_validos.assunto)][[\"id\", \"Assunto\"]].reset_index().drop('index', axis = 1)\n",
    "documentos_validos"
   ]
  },
  {
   "cell_type": "markdown",
   "metadata": {},
   "source": [
    "### Separando grupos de treino e teste de maneira que as distribuições de assuntos permaneçam similares"
   ]
  },
  {
   "cell_type": "code",
   "execution_count": 4,
   "metadata": {},
   "outputs": [
    {
     "name": "stdout",
     "output_type": "stream",
     "text": [
      "TRAIN: (28021,) TEST: (7006,)\n"
     ]
    }
   ],
   "source": [
    "from sklearn.model_selection import StratifiedShuffleSplit\n",
    "sss = StratifiedShuffleSplit(n_splits=1, test_size=0.2, random_state=0)\n",
    "X = documentos_validos.id\n",
    "y = documentos_validos.Assunto\n",
    "for train_index, test_index in sss.split(X, y):\n",
    "    print(\"TRAIN:\", train_index.shape, \"TEST:\", test_index.shape)\n",
    "    X_treino, X_teste = X[train_index], X[test_index]\n",
    "    y_treino, y_teste = y[train_index], y[test_index]"
   ]
  },
  {
   "cell_type": "markdown",
   "metadata": {},
   "source": [
    "### Instanciando o corpus do conjunto de treinamento"
   ]
  },
  {
   "cell_type": "code",
   "execution_count": 5,
   "metadata": {},
   "outputs": [
    {
     "data": {
      "application/vnd.jupyter.widget-view+json": {
       "model_id": "80a82f37119841478c04e7683adfe7ae",
       "version_major": 2,
       "version_minor": 0
      },
      "text/plain": [
       "HBox(children=(IntProgress(value=0, max=28021), HTML(value='')))"
      ]
     },
     "metadata": {},
     "output_type": "display_data"
    },
    {
     "name": "stdout",
     "output_type": "stream",
     "text": [
      "\n"
     ]
    },
    {
     "data": {
      "text/plain": [
       "(28021, 3)"
      ]
     },
     "execution_count": 5,
     "metadata": {},
     "output_type": "execute_result"
    }
   ],
   "source": [
    "from tqdm.notebook import tqdm\n",
    "diretorio = \"dados/corpus_tratado/\"\n",
    "X_treino = pd.DataFrame(X_treino)\n",
    "X_treino['teores'] = [recuperar_teor(x) for x in tqdm(X_treino.id)]\n",
    "X_treino['assunto'] = y_treino\n",
    "X_treino.shape"
   ]
  },
  {
   "cell_type": "markdown",
   "metadata": {},
   "source": [
    "#### ICA"
   ]
  },
  {
   "cell_type": "code",
   "execution_count": 27,
   "metadata": {},
   "outputs": [
    {
     "data": {
      "application/vnd.jupyter.widget-view+json": {
       "model_id": "7703eb9c7afc43a1b581b8fa1ca21a7b",
       "version_major": 2,
       "version_minor": 0
      },
      "text/plain": [
       "HBox(children=(IntProgress(value=0, max=125), HTML(value='')))"
      ]
     },
     "metadata": {},
     "output_type": "display_data"
    },
    {
     "name": "stdout",
     "output_type": "stream",
     "text": [
      "\n"
     ]
    }
   ],
   "source": [
    "from tqdm.notebook import tqdm\n",
    "lista_tuplas = []\n",
    "df_assuntos = pd.DataFrame()\n",
    "for classe in tqdm(X_treino['assunto'].unique()):\n",
    "    concat = ' '.join(X_treino.loc[X_treino['assunto'] == classe].teores)\n",
    "    df_assuntos = pd.concat([df_assuntos, pd.DataFrame([(classe, concat)])], ignore_index = True)\n",
    "df_assuntos.columns = ['assuntos', 'teores']"
   ]
  },
  {
   "cell_type": "code",
   "execution_count": 103,
   "metadata": {},
   "outputs": [
    {
     "data": {
      "text/plain": [
       "TfidfVectorizer(analyzer='word', binary=False, decode_error='strict',\n",
       "                dtype=<class 'numpy.float64'>, encoding='utf-8',\n",
       "                input='content', lowercase=True, max_df=50, max_features=None,\n",
       "                min_df=1, ngram_range=(1, 1), norm='l2', preprocessor=None,\n",
       "                smooth_idf=False,\n",
       "                stop_words=['de', 'a', 'o', 'que', 'e', 'é', 'do', 'da', 'em',\n",
       "                            'um', 'para', 'com', 'não', 'uma', 'os', 'no', 'se',\n",
       "                            'na', 'por', 'mais', 'as', 'dos', 'como', 'mas',\n",
       "                            'ao', 'ele', 'das', 'à', 'seu', 'sua', ...],\n",
       "                strip_accents=None, sublinear_tf=False,\n",
       "                token_pattern='(?u)\\\\b\\\\w\\\\w+\\\\b', tokenizer=None, use_idf=True,\n",
       "                vocabulary=None)"
      ]
     },
     "execution_count": 103,
     "metadata": {},
     "output_type": "execute_result"
    }
   ],
   "source": [
    "from sklearn.feature_extraction.text import TfidfVectorizer\n",
    "import nltk\n",
    "stopwords = nltk.corpus.stopwords.words('portuguese')\n",
    "df_assuntos['teores'] = df_assuntos.teores.str.replace('\\n', ' ').str.strip()\n",
    "vectorizer = TfidfVectorizer(stop_words = stopwords, max_df = 50, smooth_idf = False)\n",
    "vec = vectorizer.fit(df_assuntos.teores)\n",
    "vec"
   ]
  },
  {
   "cell_type": "code",
   "execution_count": 104,
   "metadata": {},
   "outputs": [
    {
     "data": {
      "text/html": [
       "<div>\n",
       "<style scoped>\n",
       "    .dataframe tbody tr th:only-of-type {\n",
       "        vertical-align: middle;\n",
       "    }\n",
       "\n",
       "    .dataframe tbody tr th {\n",
       "        vertical-align: top;\n",
       "    }\n",
       "\n",
       "    .dataframe thead th {\n",
       "        text-align: right;\n",
       "    }\n",
       "</style>\n",
       "<table border=\"1\" class=\"dataframe\">\n",
       "  <thead>\n",
       "    <tr style=\"text-align: right;\">\n",
       "      <th></th>\n",
       "      <th>termo</th>\n",
       "      <th>idf</th>\n",
       "    </tr>\n",
       "  </thead>\n",
       "  <tbody>\n",
       "    <tr>\n",
       "      <td>68615</td>\n",
       "      <td>iinformou</td>\n",
       "      <td>5.828314</td>\n",
       "    </tr>\n",
       "    <tr>\n",
       "      <td>56936</td>\n",
       "      <td>faina</td>\n",
       "      <td>5.828314</td>\n",
       "    </tr>\n",
       "    <tr>\n",
       "      <td>29187</td>\n",
       "      <td>celebrantes</td>\n",
       "      <td>5.828314</td>\n",
       "    </tr>\n",
       "    <tr>\n",
       "      <td>29188</td>\n",
       "      <td>pouquíssima</td>\n",
       "      <td>5.828314</td>\n",
       "    </tr>\n",
       "    <tr>\n",
       "      <td>56934</td>\n",
       "      <td>constituintes</td>\n",
       "      <td>5.828314</td>\n",
       "    </tr>\n",
       "    <tr>\n",
       "      <td>...</td>\n",
       "      <td>...</td>\n",
       "      <td>...</td>\n",
       "    </tr>\n",
       "    <tr>\n",
       "      <td>19736</td>\n",
       "      <td>amuamento</td>\n",
       "      <td>1.916291</td>\n",
       "    </tr>\n",
       "    <tr>\n",
       "      <td>6604</td>\n",
       "      <td>captados</td>\n",
       "      <td>1.916291</td>\n",
       "    </tr>\n",
       "    <tr>\n",
       "      <td>55094</td>\n",
       "      <td>ressocializador</td>\n",
       "      <td>1.916291</td>\n",
       "    </tr>\n",
       "    <tr>\n",
       "      <td>1056</td>\n",
       "      <td>sylvia</td>\n",
       "      <td>1.916291</td>\n",
       "    </tr>\n",
       "    <tr>\n",
       "      <td>50133</td>\n",
       "      <td>espaçamento</td>\n",
       "      <td>1.916291</td>\n",
       "    </tr>\n",
       "  </tbody>\n",
       "</table>\n",
       "<p>68616 rows × 2 columns</p>\n",
       "</div>"
      ],
      "text/plain": [
       "                 termo       idf\n",
       "68615        iinformou  5.828314\n",
       "56936            faina  5.828314\n",
       "29187      celebrantes  5.828314\n",
       "29188      pouquíssima  5.828314\n",
       "56934    constituintes  5.828314\n",
       "...                ...       ...\n",
       "19736        amuamento  1.916291\n",
       "6604          captados  1.916291\n",
       "55094  ressocializador  1.916291\n",
       "1056            sylvia  1.916291\n",
       "50133      espaçamento  1.916291\n",
       "\n",
       "[68616 rows x 2 columns]"
      ]
     },
     "execution_count": 104,
     "metadata": {},
     "output_type": "execute_result"
    }
   ],
   "source": [
    "import matplotlib.pyplot as plt\n",
    "import seaborn as sns\n",
    "df = pd.DataFrame(list(zip([k for k, v in vec.vocabulary_.items()], vec.idf_)), columns = ['termo', 'idf']).sort_values(by='idf', ascending = False)\n",
    "df"
   ]
  },
  {
   "cell_type": "code",
   "execution_count": 99,
   "metadata": {},
   "outputs": [
    {
     "data": {
      "text/html": [
       "<div>\n",
       "<style scoped>\n",
       "    .dataframe tbody tr th:only-of-type {\n",
       "        vertical-align: middle;\n",
       "    }\n",
       "\n",
       "    .dataframe tbody tr th {\n",
       "        vertical-align: top;\n",
       "    }\n",
       "\n",
       "    .dataframe thead th {\n",
       "        text-align: right;\n",
       "    }\n",
       "</style>\n",
       "<table border=\"1\" class=\"dataframe\">\n",
       "  <thead>\n",
       "    <tr style=\"text-align: right;\">\n",
       "      <th></th>\n",
       "      <th>cont</th>\n",
       "      <th>idf</th>\n",
       "    </tr>\n",
       "  </thead>\n",
       "  <tbody>\n",
       "    <tr>\n",
       "      <td>count</td>\n",
       "      <td>72830.00000</td>\n",
       "      <td>72830.000000</td>\n",
       "    </tr>\n",
       "    <tr>\n",
       "      <td>mean</td>\n",
       "      <td>36515.50000</td>\n",
       "      <td>4.247102</td>\n",
       "    </tr>\n",
       "    <tr>\n",
       "      <td>std</td>\n",
       "      <td>21024.35439</td>\n",
       "      <td>1.124297</td>\n",
       "    </tr>\n",
       "    <tr>\n",
       "      <td>min</td>\n",
       "      <td>101.00000</td>\n",
       "      <td>1.000000</td>\n",
       "    </tr>\n",
       "    <tr>\n",
       "      <td>25%</td>\n",
       "      <td>18308.25000</td>\n",
       "      <td>3.639057</td>\n",
       "    </tr>\n",
       "    <tr>\n",
       "      <td>50%</td>\n",
       "      <td>36515.50000</td>\n",
       "      <td>4.737670</td>\n",
       "    </tr>\n",
       "    <tr>\n",
       "      <td>75%</td>\n",
       "      <td>54722.75000</td>\n",
       "      <td>5.143135</td>\n",
       "    </tr>\n",
       "    <tr>\n",
       "      <td>max</td>\n",
       "      <td>72930.00000</td>\n",
       "      <td>5.143135</td>\n",
       "    </tr>\n",
       "  </tbody>\n",
       "</table>\n",
       "</div>"
      ],
      "text/plain": [
       "              cont           idf\n",
       "count  72830.00000  72830.000000\n",
       "mean   36515.50000      4.247102\n",
       "std    21024.35439      1.124297\n",
       "min      101.00000      1.000000\n",
       "25%    18308.25000      3.639057\n",
       "50%    36515.50000      4.737670\n",
       "75%    54722.75000      5.143135\n",
       "max    72930.00000      5.143135"
      ]
     },
     "execution_count": 99,
     "metadata": {},
     "output_type": "execute_result"
    }
   ],
   "source": [
    "vec."
   ]
  },
  {
   "cell_type": "code",
   "execution_count": 96,
   "metadata": {},
   "outputs": [
    {
     "data": {
      "image/png": "[encoded data removed]",
      "text/plain": [
       "<Figure size 432x288 with 1 Axes>"
      ]
     },
     "metadata": {
      "needs_background": "light"
     },
     "output_type": "display_data"
    }
   ],
   "source": [
    "sns.distplot(df.idf.values)\n",
    "plt.show()"
   ]
  },
  {
   "cell_type": "code",
   "execution_count": 78,
   "metadata": {},
   "outputs": [
    {
     "data": {
      "image/png": "[encoded data removed]",
      "text/plain": [
       "<Figure size 432x288 with 1 Axes>"
      ]
     },
     "metadata": {
      "needs_background": "light"
     },
     "output_type": "display_data"
    }
   ],
   "source": [
    "sns.distplot(df.cont.values)\n",
    "plt.show()"
   ]
  },
  {
   "cell_type": "code",
   "execution_count": 80,
   "metadata": {},
   "outputs": [
    {
     "data": {
      "text/plain": [
       "array([36092,  2354, 28784, ..., 71345,  7806, 70661], dtype=int64)"
      ]
     },
     "execution_count": 80,
     "metadata": {},
     "output_type": "execute_result"
    }
   ],
   "source": [
    "df.cont.values"
   ]
  },
  {
   "cell_type": "code",
   "execution_count": null,
   "metadata": {},
   "outputs": [],
   "source": []
  }
 ],
 "metadata": {
  "kernelspec": {
   "display_name": "Python 3",
   "language": "python",
   "name": "python3"
  },
  "language_info": {
   "codemirror_mode": {
    "name": "ipython",
    "version": 3
   },
   "file_extension": ".py",
   "mimetype": "text/x-python",
   "name": "python",
   "nbconvert_exporter": "python",
   "pygments_lexer": "ipython3",
   "version": "3.7.4"
  }
 },
 "nbformat": 4,
 "nbformat_minor": 2
}
