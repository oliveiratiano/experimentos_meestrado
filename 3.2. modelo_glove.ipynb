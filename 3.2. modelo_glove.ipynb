{
 "cells": [
  {
   "cell_type": "code",
   "execution_count": 1,
   "metadata": {},
   "outputs": [
    {
     "name": "stderr",
     "output_type": "stream",
     "text": [
      "C:\\ProgramData\\Anaconda3\\lib\\site-packages\\tqdm\\std.py:648: FutureWarning: The Panel class is removed from pandas. Accessing it from the top-level namespace will also be removed in the next version\n",
      "  from pandas import Panel\n"
     ]
    }
   ],
   "source": [
    "from gensim.test.utils import datapath, get_tmpfile\n",
    "from gensim.models import KeyedVectors\n",
    "from gensim.scripts.glove2word2vec import glove2word2vec\n",
    "import multiprocessing\n",
    "import pandas as pd\n",
    "import numpy as np\n",
    "from sklearn.decomposition import PCA\n",
    "import matplotlib.pyplot as plt\n",
    "from os import listdir\n",
    "from tqdm.auto import tqdm\n",
    "tqdm.pandas()"
   ]
  },
  {
   "cell_type": "code",
   "execution_count": 2,
   "metadata": {},
   "outputs": [
    {
     "data": {
      "text/plain": [
       "<gensim.models.keyedvectors.Word2VecKeyedVectors at 0x20b4906c288>"
      ]
     },
     "execution_count": 2,
     "metadata": {},
     "output_type": "execute_result"
    }
   ],
   "source": [
    "glove_file = 'modelos/glove_jur.txt'\n",
    "tmp_file = get_tmpfile(\"test_word2vec.txt\")\n",
    "_ = glove2word2vec(glove_file, tmp_file)\n",
    "model = KeyedVectors.load_word2vec_format(tmp_file)\n",
    "model"
   ]
  },
  {
   "cell_type": "code",
   "execution_count": 3,
   "metadata": {},
   "outputs": [
    {
     "name": "stderr",
     "output_type": "stream",
     "text": [
      "C:\\ProgramData\\Anaconda3\\lib\\site-packages\\ipykernel_launcher.py:3: DeprecationWarning: Call to deprecated `wv` (Attribute will be removed in 4.0.0, use self instead).\n",
      "  This is separate from the ipykernel package so we can avoid doing imports until\n"
     ]
    },
    {
     "data": {
      "text/plain": [
       "{'desembargadora': <gensim.models.keyedvectors.Vocab at 0x20b4a140e88>,\n",
       " 'mulher': <gensim.models.keyedvectors.Vocab at 0x20b4a056ac8>,\n",
       " 'salário': <gensim.models.keyedvectors.Vocab at 0x20b49fcf448>,\n",
       " 'desembargador': <gensim.models.keyedvectors.Vocab at 0x20b4a00dd88>,\n",
       " 'pagamento': <gensim.models.keyedvectors.Vocab at 0x20b49fa26c8>,\n",
       " 'dinheiro': <gensim.models.keyedvectors.Vocab at 0x20b49fd29c8>,\n",
       " 'homem': <gensim.models.keyedvectors.Vocab at 0x20b4a0589c8>}"
      ]
     },
     "execution_count": 3,
     "metadata": {},
     "output_type": "execute_result"
    }
   ],
   "source": [
    "l = ['homem', 'mulher', 'desembargador', 'desembargadora', 'salário', 'pagamento', 'dinheiro']\n",
    "X = model[l]\n",
    "dic = {k:model.wv.vocab[k] for k in set(model.wv.vocab).intersection(l)}\n",
    "dic"
   ]
  },
  {
   "cell_type": "code",
   "execution_count": 4,
   "metadata": {},
   "outputs": [
    {
     "data": {
      "image/png": "[encoded data removed]",
      "text/plain": [
       "<Figure size 432x288 with 1 Axes>"
      ]
     },
     "metadata": {
      "needs_background": "light"
     },
     "output_type": "display_data"
    }
   ],
   "source": [
    "pca = PCA(n_components=2)\n",
    "result = pca.fit_transform(X)\n",
    "plt.scatter(result[:, 0], result[:, 1])\n",
    "for i, word in enumerate(l):\n",
    "    plt.annotate(word, xy=(result[i, 0], result[i, 1]))\n",
    "plt.show()"
   ]
  },
  {
   "cell_type": "code",
   "execution_count": 5,
   "metadata": {
    "scrolled": true
   },
   "outputs": [
    {
     "name": "stderr",
     "output_type": "stream",
     "text": [
      "C:\\ProgramData\\Anaconda3\\lib\\site-packages\\ipykernel_launcher.py:1: DeprecationWarning: Call to deprecated `wv` (Attribute will be removed in 4.0.0, use self instead).\n",
      "  \"\"\"Entry point for launching an IPython kernel.\n"
     ]
    },
    {
     "data": {
      "text/plain": [
       "[('brasil', 0.7112733125686646),\n",
       " ('bradesco', 0.7039831280708313),\n",
       " ('santander', 0.7030740976333618),\n",
       " ('itaú', 0.6880962252616882),\n",
       " ('itaucard', 0.665725588798523),\n",
       " ('daycoval', 0.6576167345046997),\n",
       " ('bmg', 0.6249312162399292),\n",
       " ('csf', 0.6211519241333008),\n",
       " ('panamericano', 0.6178054809570312),\n",
       " ('bradescard', 0.6126218438148499),\n",
       " ('pan', 0.6109073162078857),\n",
       " ('gmca', 0.6022147536277771),\n",
       " ('gmac', 0.5964469909667969),\n",
       " ('intermedium', 0.59267258644104),\n",
       " ('itauleasing', 0.5923010110855103),\n",
       " ('citibank', 0.584380030632019),\n",
       " ('requerido', 0.5839531421661377),\n",
       " ('agibank', 0.5818413496017456),\n",
       " ('telefonica', 0.5737608671188354),\n",
       " ('corréu', 0.5727686882019043),\n",
       " ('cetelem', 0.5678690075874329),\n",
       " ('unibanco', 0.5643535852432251),\n",
       " ('s', 0.559924304485321),\n",
       " ('safra', 0.5366843938827515),\n",
       " ('itaúcard', 0.5290610790252686),\n",
       " ('bmc', 0.527622640132904),\n",
       " ('múltiplo', 0.5272554755210876),\n",
       " ('cooperativo', 0.5259455442428589),\n",
       " ('losango', 0.5247142314910889),\n",
       " ('neon', 0.5231726765632629),\n",
       " ('junto', 0.5220076441764832),\n",
       " ('face', 0.5208227634429932),\n",
       " ('contra', 0.5159450769424438),\n",
       " ('pelo', 0.5115566849708557),\n",
       " ('cartões', 0.5102896690368652),\n",
       " ('financiamentos', 0.507820725440979),\n",
       " ('sa', 0.5069319605827332),\n",
       " ('réu', 0.5040106177330017),\n",
       " ('central', 0.49088791012763977),\n",
       " ('cedente', 0.48339352011680603),\n",
       " ('embargado', 0.4785730838775635),\n",
       " ('requerida', 0.4770270586013794),\n",
       " ('ré', 0.4741271138191223),\n",
       " ('instituto', 0.47332072257995605),\n",
       " ('crédito', 0.46960189938545227),\n",
       " ('cliente', 0.467710018157959),\n",
       " ('desfavor', 0.4663081467151642),\n",
       " ('traseiro', 0.4650093913078308),\n",
       " ('agiplan', 0.4639700949192047),\n",
       " ('financiamento', 0.46053701639175415),\n",
       " ('caixa', 0.4599629342556),\n",
       " ('itau', 0.45931124687194824),\n",
       " ('omni', 0.45595452189445496),\n",
       " ('ccb', 0.4550277888774872),\n",
       " ('nacional', 0.4509426951408386),\n",
       " ('conta', 0.45054665207862854),\n",
       " ('demandado', 0.44587576389312744),\n",
       " ('correntista', 0.44347405433654785),\n",
       " ('consignado', 0.439736008644104),\n",
       " ('telefônica', 0.43586206436157227),\n",
       " ('alegando', 0.4313760995864868),\n",
       " ('banespa', 0.43118444085121155),\n",
       " ('dados', 0.4304458498954773),\n",
       " ('arrendador', 0.4297030568122864),\n",
       " ('seguradora', 0.4280088543891907),\n",
       " ('executado', 0.42728596925735474),\n",
       " ('agência', 0.4260227680206299),\n",
       " ('apelado', 0.4238467216491699),\n",
       " ('instituição', 0.42337799072265625),\n",
       " ('do', 0.4218314290046692),\n",
       " ('correquerido', 0.4173504114151001),\n",
       " ('monetário', 0.41285213828086853),\n",
       " ('volkswagen', 0.4076070189476013),\n",
       " ('devedor', 0.4073963761329651),\n",
       " ('requerente', 0.40367648005485535),\n",
       " ('apelante', 0.40275588631629944),\n",
       " ('empréstimo', 0.4022122919559479),\n",
       " ('ao', 0.4019087255001068),\n",
       " ('apurada', 0.39988917112350464),\n",
       " ('bonsucesso', 0.39958542585372925),\n",
       " ('empresa', 0.39740443229675293),\n",
       " ('promove', 0.3948976993560791),\n",
       " ('hsbc', 0.39297083020210266),\n",
       " ('abn', 0.39275696873664856),\n",
       " ('coexecutado', 0.3925362527370453),\n",
       " ('divulgada', 0.3912998139858246),\n",
       " ('embaixo', 0.39051350951194763),\n",
       " ('condomínio', 0.3865967392921448),\n",
       " ('financeira', 0.38642239570617676),\n",
       " ('mercado', 0.3856602907180786),\n",
       " ('autor', 0.3809686303138733),\n",
       " ('condenou', 0.380962073802948),\n",
       " ('contratado', 0.3798410892486572),\n",
       " ('cvc', 0.37963712215423584),\n",
       " ('reclamação', 0.37921109795570374),\n",
       " ('cobrança', 0.3791176974773407),\n",
       " ('bancária', 0.37868359684944153),\n",
       " ('topázio', 0.3786434531211853),\n",
       " ('sacado', 0.3777815103530884),\n",
       " ('em', 0.37764477729797363)]"
      ]
     },
     "execution_count": 5,
     "metadata": {},
     "output_type": "execute_result"
    }
   ],
   "source": [
    "model.wv.similar_by_word('banco', topn=100)"
   ]
  },
  {
   "cell_type": "code",
   "execution_count": null,
   "metadata": {},
   "outputs": [],
   "source": [
    "model.wv.similar_by_vector((model['inquérito'] + model['administrativo'])/2, topn=100)"
   ]
  },
  {
   "cell_type": "code",
   "execution_count": null,
   "metadata": {},
   "outputs": [],
   "source": [
    "stopwords.words('portuguese')"
   ]
  },
  {
   "cell_type": "code",
   "execution_count": 42,
   "metadata": {},
   "outputs": [
    {
     "name": "stderr",
     "output_type": "stream",
     "text": [
      "C:\\ProgramData\\Anaconda3\\lib\\site-packages\\ipykernel_launcher.py:1: DeprecationWarning: Call to deprecated `__getitem__` (Method will be removed in 4.0.0, use self.wv.__getitem__() instead).\n",
      "  \"\"\"Entry point for launching an IPython kernel.\n"
     ]
    },
    {
     "data": {
      "text/plain": [
       "array([-0.22440654,  0.02982402, -0.11136705, -0.06795362, -0.06224841,\n",
       "       -0.37790564,  0.12705891, -0.21431443, -0.16176209,  0.12632868,\n",
       "        0.02940534,  0.40972397, -0.18543856, -0.12650499,  0.301375  ,\n",
       "        0.07625581, -0.12886643,  0.24217989, -0.18078662, -0.0371567 ,\n",
       "        0.24038248,  0.04001826,  0.18705499, -0.07399853,  0.3324826 ,\n",
       "       -0.14357741, -0.05287638,  0.42629462, -0.38504136,  0.01041055,\n",
       "       -0.03255651, -0.12201974,  0.41604468, -0.00956087,  0.27033526,\n",
       "       -0.04832914, -0.04318316, -0.1495626 , -0.53328645, -0.07166006,\n",
       "       -0.07311621, -0.02621359, -0.20827189,  0.134988  , -0.30662256,\n",
       "       -0.01503565, -0.09069635,  0.21374694,  0.15086295,  0.6915364 ,\n",
       "       -0.06190272,  0.20597172, -0.27286518, -0.15512179,  0.05176589,\n",
       "       -0.09029895,  0.15876578, -0.1642959 , -0.24876095,  0.16428964,\n",
       "       -0.046267  ,  0.22962663, -0.3111919 , -0.01826023, -0.27253157,\n",
       "        0.11262142, -0.3207784 , -0.5082788 , -0.18593879,  0.22434264,\n",
       "        0.10162587,  0.30065522,  0.079743  , -0.04731196,  0.25087595,\n",
       "        0.39535496,  0.36110938, -0.30386737, -0.01409589,  0.24033175,\n",
       "       -0.01900991,  0.05854103,  0.11569137,  0.10848206,  0.17523086,\n",
       "       -0.01246752,  0.01656428,  0.00189905,  0.3099192 , -0.00242815,\n",
       "       -0.39168033, -0.3412264 ,  0.35711214, -0.12865368, -0.09368017,\n",
       "        0.20023331, -0.20629722,  0.10209727, -0.12687497,  0.1841676 ],\n",
       "      dtype=float32)"
      ]
     },
     "execution_count": 42,
     "metadata": {},
     "output_type": "execute_result"
    }
   ],
   "source": [
    "(model['juiz'] + model['administrativa'])/2"
   ]
  },
  {
   "cell_type": "code",
   "execution_count": null,
   "metadata": {},
   "outputs": [],
   "source": []
  }
 ],
 "metadata": {
  "kernelspec": {
   "display_name": "Python 3",
   "language": "python",
   "name": "python3"
  },
  "language_info": {
   "codemirror_mode": {
    "name": "ipython",
    "version": 3
   },
   "file_extension": ".py",
   "mimetype": "text/x-python",
   "name": "python",
   "nbconvert_exporter": "python",
   "pygments_lexer": "ipython3",
   "version": "3.7.4"
  }
 },
 "nbformat": 4,
 "nbformat_minor": 2
}
