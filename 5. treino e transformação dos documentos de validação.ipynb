{
 "cells": [
  {
   "cell_type": "markdown",
   "metadata": {},
   "source": [
    "### Importação dos metadados"
   ]
  },
  {
   "cell_type": "code",
   "execution_count": 1,
   "metadata": {},
   "outputs": [],
   "source": [
    "from src import transformer\n",
    "import pandas as pd\n",
    "import nltk\n",
    "%load_ext autoreload\n",
    "%autoreload 2\n",
    "df = pd.read_csv(\"dados/corpus_tratado/metadados.csv\")"
   ]
  },
  {
   "cell_type": "markdown",
   "metadata": {},
   "source": [
    "### Filtrando os ids por assuntos"
   ]
  },
  {
   "cell_type": "code",
   "execution_count": 2,
   "metadata": {},
   "outputs": [
    {
     "data": {
      "text/plain": [
       "35027"
      ]
     },
     "metadata": {},
     "output_type": "display_data"
    },
    {
     "data": {
      "text/plain": [
       "125"
      ]
     },
     "metadata": {},
     "output_type": "display_data"
    },
    {
     "data": {
      "text/html": [
       "<div>\n",
       "<style scoped>\n",
       "    .dataframe tbody tr th:only-of-type {\n",
       "        vertical-align: middle;\n",
       "    }\n",
       "\n",
       "    .dataframe tbody tr th {\n",
       "        vertical-align: top;\n",
       "    }\n",
       "\n",
       "    .dataframe thead th {\n",
       "        text-align: right;\n",
       "    }\n",
       "</style>\n",
       "<table border=\"1\" class=\"dataframe\">\n",
       "  <thead>\n",
       "    <tr style=\"text-align: right;\">\n",
       "      <th></th>\n",
       "      <th>id</th>\n",
       "      <th>Assunto</th>\n",
       "    </tr>\n",
       "  </thead>\n",
       "  <tbody>\n",
       "    <tr>\n",
       "      <td>0</td>\n",
       "      <td>1500075-43.2019.8.26.0569</td>\n",
       "      <td>Tráfico de Drogas e Condutas Afins</td>\n",
       "    </tr>\n",
       "    <tr>\n",
       "      <td>1</td>\n",
       "      <td>1019468-32.2019.8.26.0562</td>\n",
       "      <td>Alienação Fiduciária</td>\n",
       "    </tr>\n",
       "    <tr>\n",
       "      <td>2</td>\n",
       "      <td>0000043-68.2019.8.26.0616</td>\n",
       "      <td>Furto</td>\n",
       "    </tr>\n",
       "    <tr>\n",
       "      <td>3</td>\n",
       "      <td>1007259-02.2018.8.26.0292</td>\n",
       "      <td>DIREITO PREVIDENCIÁRIO</td>\n",
       "    </tr>\n",
       "    <tr>\n",
       "      <td>4</td>\n",
       "      <td>1000425-53.2019.8.26.0128</td>\n",
       "      <td>Rural (Art. 48/51)</td>\n",
       "    </tr>\n",
       "    <tr>\n",
       "      <td>...</td>\n",
       "      <td>...</td>\n",
       "      <td>...</td>\n",
       "    </tr>\n",
       "    <tr>\n",
       "      <td>35022</td>\n",
       "      <td>0001233-88.2018.8.26.0426</td>\n",
       "      <td>Cheque</td>\n",
       "    </tr>\n",
       "    <tr>\n",
       "      <td>35023</td>\n",
       "      <td>1514316-66.2019.8.26.0037</td>\n",
       "      <td>Impostos</td>\n",
       "    </tr>\n",
       "    <tr>\n",
       "      <td>35024</td>\n",
       "      <td>1008737-24.2019.8.26.0320</td>\n",
       "      <td>Indenização por Dano Material</td>\n",
       "    </tr>\n",
       "    <tr>\n",
       "      <td>35025</td>\n",
       "      <td>0000206-22.2019.8.26.0075</td>\n",
       "      <td>IPTU/ Imposto Predial e Territorial Urbano</td>\n",
       "    </tr>\n",
       "    <tr>\n",
       "      <td>35026</td>\n",
       "      <td>1002580-07.2019.8.26.0297</td>\n",
       "      <td>Indenização por Dano Moral</td>\n",
       "    </tr>\n",
       "  </tbody>\n",
       "</table>\n",
       "<p>35027 rows × 2 columns</p>\n",
       "</div>"
      ],
      "text/plain": [
       "                              id                                     Assunto\n",
       "0      1500075-43.2019.8.26.0569          Tráfico de Drogas e Condutas Afins\n",
       "1      1019468-32.2019.8.26.0562                        Alienação Fiduciária\n",
       "2      0000043-68.2019.8.26.0616                                       Furto\n",
       "3      1007259-02.2018.8.26.0292                      DIREITO PREVIDENCIÁRIO\n",
       "4      1000425-53.2019.8.26.0128                          Rural (Art. 48/51)\n",
       "...                          ...                                         ...\n",
       "35022  0001233-88.2018.8.26.0426                                      Cheque\n",
       "35023  1514316-66.2019.8.26.0037                                    Impostos\n",
       "35024  1008737-24.2019.8.26.0320               Indenização por Dano Material\n",
       "35025  0000206-22.2019.8.26.0075  IPTU/ Imposto Predial e Territorial Urbano\n",
       "35026  1002580-07.2019.8.26.0297                  Indenização por Dano Moral\n",
       "\n",
       "[35027 rows x 2 columns]"
      ]
     },
     "execution_count": 2,
     "metadata": {},
     "output_type": "execute_result"
    }
   ],
   "source": [
    "corte = 50\n",
    "df_validos = pd.DataFrame(df.groupby(\"Assunto\").size()).reset_index()\n",
    "df_validos.columns = [\"assunto\", \"quant\"]\n",
    "df_validos = df_validos.loc[df_validos.quant >= corte]\n",
    "display(df_validos.quant.sum())\n",
    "display(df_validos.assunto.nunique())\n",
    "documentos_validos = df[df.Assunto.isin(df_validos.assunto)][[\"id\", \"Assunto\"]].reset_index().drop('index', axis = 1)\n",
    "documentos_validos"
   ]
  },
  {
   "cell_type": "markdown",
   "metadata": {},
   "source": [
    "### Execução do fluxo de experimentação"
   ]
  },
  {
   "cell_type": "code",
   "execution_count": 3,
   "metadata": {
    "scrolled": false
   },
   "outputs": [
    {
     "name": "stdout",
     "output_type": "stream",
     "text": [
      "----------------------- EXPERIMENTO 1 -----------------------\n",
      "criando base de treino para o experimento 1\n"
     ]
    },
    {
     "data": {
      "application/vnd.jupyter.widget-view+json": {
       "model_id": "8d00d9ca0e3f4a17bccea3fbc7a8d5bd",
       "version_major": 2,
       "version_minor": 0
      },
      "text/plain": [
       "HBox(children=(IntProgress(value=0, max=28021), HTML(value='')))"
      ]
     },
     "metadata": {},
     "output_type": "display_data"
    },
    {
     "name": "stdout",
     "output_type": "stream",
     "text": [
      "\n",
      "16042036 tokens copiados com sucesso\n",
      "preparando documentos para extração do vocabulário:\n"
     ]
    },
    {
     "data": {
      "application/vnd.jupyter.widget-view+json": {
       "model_id": "b5aa2e125eca4fd6ba2a0f17a0f47a25",
       "version_major": 2,
       "version_minor": 0
      },
      "text/plain": [
       "HBox(children=(IntProgress(value=0, max=28021), HTML(value='')))"
      ]
     },
     "metadata": {},
     "output_type": "display_data"
    },
    {
     "name": "stdout",
     "output_type": "stream",
     "text": [
      "\n",
      "extraindo termos com base no ICA\n"
     ]
    },
    {
     "data": {
      "application/vnd.jupyter.widget-view+json": {
       "model_id": "1371f29a2c574e2cb629864231f90ca4",
       "version_major": 2,
       "version_minor": 0
      },
      "text/plain": [
       "HBox(children=(IntProgress(value=0, max=125), HTML(value='')))"
      ]
     },
     "metadata": {},
     "output_type": "display_data"
    },
    {
     "name": "stdout",
     "output_type": "stream",
     "text": [
      "\n",
      "-processando strings do corpus\n",
      "-treinando vetorizador\n",
      "-ICA processado\n",
      "extraindo termos com base na frequência - geralmente leva menos de 4 minutos\n",
      "extraindo termos do tesauro\n",
      "extração de vocabulário concluída!\n",
      "treinando modelo word2vec\n"
     ]
    },
    {
     "name": "stderr",
     "output_type": "stream",
     "text": [
      "2021-02-24 05:20:36,879 : INFO : collecting all words and their counts\n",
      "2021-02-24 05:20:36,884 : INFO : PROGRESS: at sentence #0, processed 0 words, keeping 0 word types\n",
      "2021-02-24 05:20:36,947 : INFO : PROGRESS: at sentence #10000, processed 235769 words, keeping 13479 word types\n",
      "2021-02-24 05:20:37,013 : INFO : PROGRESS: at sentence #20000, processed 478506 words, keeping 18827 word types\n",
      "2021-02-24 05:20:37,079 : INFO : PROGRESS: at sentence #30000, processed 716990 words, keeping 22433 word types\n",
      "2021-02-24 05:20:37,145 : INFO : PROGRESS: at sentence #40000, processed 956912 words, keeping 25453 word types\n",
      "2021-02-24 05:20:37,211 : INFO : PROGRESS: at sentence #50000, processed 1198453 words, keeping 27868 word types\n",
      "2021-02-24 05:20:37,274 : INFO : PROGRESS: at sentence #60000, processed 1434600 words, keeping 30340 word types\n",
      "2021-02-24 05:20:37,342 : INFO : PROGRESS: at sentence #70000, processed 1678430 words, keeping 32461 word types\n",
      "2021-02-24 05:20:37,407 : INFO : PROGRESS: at sentence #80000, processed 1918098 words, keeping 34310 word types\n",
      "2021-02-24 05:20:37,471 : INFO : PROGRESS: at sentence #90000, processed 2156336 words, keeping 36035 word types\n",
      "2021-02-24 05:20:37,536 : INFO : PROGRESS: at sentence #100000, processed 2398940 words, keeping 37617 word types\n",
      "2021-02-24 05:20:37,600 : INFO : PROGRESS: at sentence #110000, processed 2637175 words, keeping 39115 word types\n",
      "2021-02-24 05:20:37,665 : INFO : PROGRESS: at sentence #120000, processed 2877198 words, keeping 40535 word types\n",
      "2021-02-24 05:20:37,730 : INFO : PROGRESS: at sentence #130000, processed 3116326 words, keeping 41914 word types\n",
      "2021-02-24 05:20:37,797 : INFO : PROGRESS: at sentence #140000, processed 3366816 words, keeping 43473 word types\n",
      "2021-02-24 05:20:37,865 : INFO : PROGRESS: at sentence #150000, processed 3614701 words, keeping 44786 word types\n",
      "2021-02-24 05:20:37,931 : INFO : PROGRESS: at sentence #160000, processed 3855422 words, keeping 46007 word types\n",
      "2021-02-24 05:20:37,996 : INFO : PROGRESS: at sentence #170000, processed 4094891 words, keeping 47124 word types\n",
      "2021-02-24 05:20:38,061 : INFO : PROGRESS: at sentence #180000, processed 4334237 words, keeping 48340 word types\n",
      "2021-02-24 05:20:38,129 : INFO : PROGRESS: at sentence #190000, processed 4576252 words, keeping 49342 word types\n",
      "2021-02-24 05:20:38,196 : INFO : PROGRESS: at sentence #200000, processed 4824132 words, keeping 50480 word types\n",
      "2021-02-24 05:20:38,263 : INFO : PROGRESS: at sentence #210000, processed 5062126 words, keeping 51483 word types\n",
      "2021-02-24 05:20:38,330 : INFO : PROGRESS: at sentence #220000, processed 5305266 words, keeping 52429 word types\n",
      "2021-02-24 05:20:38,398 : INFO : PROGRESS: at sentence #230000, processed 5550723 words, keeping 53444 word types\n",
      "2021-02-24 05:20:38,465 : INFO : PROGRESS: at sentence #240000, processed 5800318 words, keeping 54412 word types\n",
      "2021-02-24 05:20:38,532 : INFO : PROGRESS: at sentence #250000, processed 6049857 words, keeping 55457 word types\n",
      "2021-02-24 05:20:38,596 : INFO : PROGRESS: at sentence #260000, processed 6288867 words, keeping 56253 word types\n",
      "2021-02-24 05:20:38,668 : INFO : PROGRESS: at sentence #270000, processed 6539964 words, keeping 57133 word types\n",
      "2021-02-24 05:20:38,732 : INFO : PROGRESS: at sentence #280000, processed 6783410 words, keeping 57987 word types\n",
      "2021-02-24 05:20:38,799 : INFO : PROGRESS: at sentence #290000, processed 7025570 words, keeping 58857 word types\n",
      "2021-02-24 05:20:38,867 : INFO : PROGRESS: at sentence #300000, processed 7272182 words, keeping 59616 word types\n",
      "2021-02-24 05:20:38,933 : INFO : PROGRESS: at sentence #310000, processed 7515122 words, keeping 60294 word types\n",
      "2021-02-24 05:20:38,999 : INFO : PROGRESS: at sentence #320000, processed 7760803 words, keeping 61115 word types\n",
      "2021-02-24 05:20:39,066 : INFO : PROGRESS: at sentence #330000, processed 8007403 words, keeping 61972 word types\n",
      "2021-02-24 05:20:39,132 : INFO : PROGRESS: at sentence #340000, processed 8245032 words, keeping 62740 word types\n",
      "2021-02-24 05:20:39,198 : INFO : PROGRESS: at sentence #350000, processed 8486427 words, keeping 63495 word types\n",
      "2021-02-24 05:20:39,264 : INFO : PROGRESS: at sentence #360000, processed 8726848 words, keeping 64225 word types\n",
      "2021-02-24 05:20:39,330 : INFO : PROGRESS: at sentence #370000, processed 8973299 words, keeping 64913 word types\n",
      "2021-02-24 05:20:39,398 : INFO : PROGRESS: at sentence #380000, processed 9213292 words, keeping 65645 word types\n",
      "2021-02-24 05:20:39,468 : INFO : PROGRESS: at sentence #390000, processed 9460659 words, keeping 66427 word types\n",
      "2021-02-24 05:20:39,535 : INFO : PROGRESS: at sentence #400000, processed 9704171 words, keeping 67037 word types\n",
      "2021-02-24 05:20:39,600 : INFO : PROGRESS: at sentence #410000, processed 9944273 words, keeping 67717 word types\n",
      "2021-02-24 05:20:39,667 : INFO : PROGRESS: at sentence #420000, processed 10186493 words, keeping 68483 word types\n",
      "2021-02-24 05:20:39,733 : INFO : PROGRESS: at sentence #430000, processed 10430824 words, keeping 69260 word types\n",
      "2021-02-24 05:20:39,800 : INFO : PROGRESS: at sentence #440000, processed 10675104 words, keeping 69962 word types\n",
      "2021-02-24 05:20:39,866 : INFO : PROGRESS: at sentence #450000, processed 10916543 words, keeping 70624 word types\n",
      "2021-02-24 05:20:39,931 : INFO : PROGRESS: at sentence #460000, processed 11153599 words, keeping 71178 word types\n",
      "2021-02-24 05:20:39,997 : INFO : PROGRESS: at sentence #470000, processed 11400246 words, keeping 71873 word types\n",
      "2021-02-24 05:20:40,064 : INFO : PROGRESS: at sentence #480000, processed 11641081 words, keeping 72449 word types\n",
      "2021-02-24 05:20:40,130 : INFO : PROGRESS: at sentence #490000, processed 11879460 words, keeping 73023 word types\n",
      "2021-02-24 05:20:40,196 : INFO : PROGRESS: at sentence #500000, processed 12122776 words, keeping 73581 word types\n",
      "2021-02-24 05:20:40,264 : INFO : PROGRESS: at sentence #510000, processed 12367121 words, keeping 74255 word types\n",
      "2021-02-24 05:20:40,330 : INFO : PROGRESS: at sentence #520000, processed 12607611 words, keeping 74782 word types\n",
      "2021-02-24 05:20:40,396 : INFO : PROGRESS: at sentence #530000, processed 12851530 words, keeping 75319 word types\n",
      "2021-02-24 05:20:40,463 : INFO : PROGRESS: at sentence #540000, processed 13089923 words, keeping 75959 word types\n",
      "2021-02-24 05:20:40,528 : INFO : PROGRESS: at sentence #550000, processed 13327324 words, keeping 76489 word types\n",
      "2021-02-24 05:20:40,596 : INFO : PROGRESS: at sentence #560000, processed 13575962 words, keeping 77031 word types\n",
      "2021-02-24 05:20:40,661 : INFO : PROGRESS: at sentence #570000, processed 13817112 words, keeping 77602 word types\n",
      "2021-02-24 05:20:40,725 : INFO : PROGRESS: at sentence #580000, processed 14052857 words, keeping 78189 word types\n",
      "2021-02-24 05:20:40,794 : INFO : PROGRESS: at sentence #590000, processed 14300517 words, keeping 78737 word types\n",
      "2021-02-24 05:20:40,861 : INFO : PROGRESS: at sentence #600000, processed 14545068 words, keeping 79300 word types\n",
      "2021-02-24 05:20:40,929 : INFO : PROGRESS: at sentence #610000, processed 14792482 words, keeping 79812 word types\n",
      "2021-02-24 05:20:40,995 : INFO : PROGRESS: at sentence #620000, processed 15030477 words, keeping 80319 word types\n",
      "2021-02-24 05:20:41,062 : INFO : PROGRESS: at sentence #630000, processed 15269440 words, keeping 80955 word types\n",
      "2021-02-24 05:20:41,095 : INFO : collected 81218 word types from a corpus of 15387847 raw words and 634862 sentences\n",
      "2021-02-24 05:20:41,096 : INFO : Loading a fresh vocabulary\n",
      "2021-02-24 05:20:41,148 : INFO : effective_min_count=5 retains 32596 unique words (40% of original 81218, drops 48622)\n",
      "2021-02-24 05:20:41,149 : INFO : effective_min_count=5 leaves 15306026 word corpus (99% of original 15387847, drops 81821)\n",
      "2021-02-24 05:20:41,233 : INFO : deleting the raw counts dictionary of 81218 items\n",
      "2021-02-24 05:20:41,236 : INFO : sample=1e-05 downsamples 3206 most-common words\n",
      "2021-02-24 05:20:41,237 : INFO : downsampling leaves estimated 3697094 word corpus (24.2% of prior 15306026)\n",
      "2021-02-24 05:20:41,258 : INFO : constructing a huffman tree from 32596 words\n",
      "2021-02-24 05:20:41,949 : INFO : built huffman tree with maximum node depth 22\n"
     ]
    },
    {
     "name": "stderr",
     "output_type": "stream",
     "text": [
      "2021-02-24 05:20:41,998 : INFO : estimated required memory for 32596 words and 100 dimensions: 61932400 bytes\n",
      "2021-02-24 05:20:41,999 : INFO : resetting layer weights\n",
      "2021-02-24 05:20:42,314 : INFO : training model with 12 workers on 32596 vocabulary and 100 features, using sg=1 hs=1 sample=1e-05 negative=5 window=5\n",
      "2021-02-24 05:20:43,333 : INFO : EPOCH 1 - PROGRESS: at 9.76% examples, 351434 words/s, in_qsize 0, out_qsize 0\n",
      "2021-02-24 05:20:44,347 : INFO : EPOCH 1 - PROGRESS: at 18.62% examples, 334803 words/s, in_qsize 23, out_qsize 1\n",
      "2021-02-24 05:20:45,350 : INFO : EPOCH 1 - PROGRESS: at 28.46% examples, 345038 words/s, in_qsize 0, out_qsize 0\n",
      "2021-02-24 05:20:46,354 : INFO : EPOCH 1 - PROGRESS: at 37.35% examples, 341072 words/s, in_qsize 0, out_qsize 1\n",
      "2021-02-24 05:20:47,357 : INFO : EPOCH 1 - PROGRESS: at 46.70% examples, 343104 words/s, in_qsize 0, out_qsize 0\n",
      "2021-02-24 05:20:48,364 : INFO : EPOCH 1 - PROGRESS: at 55.62% examples, 340227 words/s, in_qsize 0, out_qsize 0\n",
      "2021-02-24 05:20:49,367 : INFO : EPOCH 1 - PROGRESS: at 64.41% examples, 337952 words/s, in_qsize 14, out_qsize 0\n",
      "2021-02-24 05:20:50,376 : INFO : EPOCH 1 - PROGRESS: at 74.01% examples, 339839 words/s, in_qsize 0, out_qsize 1\n",
      "2021-02-24 05:20:51,384 : INFO : EPOCH 1 - PROGRESS: at 82.58% examples, 336788 words/s, in_qsize 6, out_qsize 0\n",
      "2021-02-24 05:20:52,386 : INFO : EPOCH 1 - PROGRESS: at 91.34% examples, 335045 words/s, in_qsize 14, out_qsize 1\n",
      "2021-02-24 05:20:53,259 : INFO : worker thread finished; awaiting finish of 11 more threads\n",
      "2021-02-24 05:20:53,261 : INFO : worker thread finished; awaiting finish of 10 more threads\n",
      "2021-02-24 05:20:53,262 : INFO : worker thread finished; awaiting finish of 9 more threads\n",
      "2021-02-24 05:20:53,263 : INFO : worker thread finished; awaiting finish of 8 more threads\n",
      "2021-02-24 05:20:53,264 : INFO : worker thread finished; awaiting finish of 7 more threads\n",
      "2021-02-24 05:20:53,265 : INFO : worker thread finished; awaiting finish of 6 more threads\n",
      "2021-02-24 05:20:53,267 : INFO : worker thread finished; awaiting finish of 5 more threads\n",
      "2021-02-24 05:20:53,268 : INFO : worker thread finished; awaiting finish of 4 more threads\n",
      "2021-02-24 05:20:53,271 : INFO : worker thread finished; awaiting finish of 3 more threads\n",
      "2021-02-24 05:20:53,287 : INFO : worker thread finished; awaiting finish of 2 more threads\n",
      "2021-02-24 05:20:53,294 : INFO : worker thread finished; awaiting finish of 1 more threads\n",
      "2021-02-24 05:20:53,296 : INFO : worker thread finished; awaiting finish of 0 more threads\n",
      "2021-02-24 05:20:53,297 : INFO : EPOCH - 1 : training on 15387847 raw words (3694324 effective words) took 11.0s, 336518 effective words/s\n",
      "2021-02-24 05:20:54,312 : INFO : EPOCH 2 - PROGRESS: at 9.20% examples, 330241 words/s, in_qsize 0, out_qsize 0\n",
      "2021-02-24 05:20:55,322 : INFO : EPOCH 2 - PROGRESS: at 18.48% examples, 333728 words/s, in_qsize 0, out_qsize 0\n",
      "2021-02-24 05:20:56,324 : INFO : EPOCH 2 - PROGRESS: at 26.88% examples, 326629 words/s, in_qsize 21, out_qsize 2\n",
      "2021-02-24 05:20:57,324 : INFO : EPOCH 2 - PROGRESS: at 35.95% examples, 329262 words/s, in_qsize 5, out_qsize 0\n",
      "2021-02-24 05:20:58,328 : INFO : EPOCH 2 - PROGRESS: at 45.36% examples, 333924 words/s, in_qsize 0, out_qsize 0\n",
      "2021-02-24 05:20:59,345 : INFO : EPOCH 2 - PROGRESS: at 53.46% examples, 327629 words/s, in_qsize 16, out_qsize 0\n",
      "2021-02-24 05:21:00,349 : INFO : EPOCH 2 - PROGRESS: at 62.90% examples, 330397 words/s, in_qsize 13, out_qsize 1\n",
      "2021-02-24 05:21:01,355 : INFO : EPOCH 2 - PROGRESS: at 71.54% examples, 328764 words/s, in_qsize 22, out_qsize 0\n",
      "2021-02-24 05:21:02,356 : INFO : EPOCH 2 - PROGRESS: at 81.56% examples, 333268 words/s, in_qsize 0, out_qsize 2\n",
      "2021-02-24 05:21:03,375 : INFO : EPOCH 2 - PROGRESS: at 90.08% examples, 330483 words/s, in_qsize 0, out_qsize 0\n",
      "2021-02-24 05:21:04,366 : INFO : worker thread finished; awaiting finish of 11 more threads\n",
      "2021-02-24 05:21:04,368 : INFO : worker thread finished; awaiting finish of 10 more threads\n",
      "2021-02-24 05:21:04,369 : INFO : worker thread finished; awaiting finish of 9 more threads\n",
      "2021-02-24 05:21:04,370 : INFO : worker thread finished; awaiting finish of 8 more threads\n",
      "2021-02-24 05:21:04,371 : INFO : worker thread finished; awaiting finish of 7 more threads\n",
      "2021-02-24 05:21:04,372 : INFO : worker thread finished; awaiting finish of 6 more threads\n",
      "2021-02-24 05:21:04,374 : INFO : worker thread finished; awaiting finish of 5 more threads\n",
      "2021-02-24 05:21:04,375 : INFO : worker thread finished; awaiting finish of 4 more threads\n",
      "2021-02-24 05:21:04,388 : INFO : EPOCH 2 - PROGRESS: at 99.82% examples, 332881 words/s, in_qsize 3, out_qsize 1\n",
      "2021-02-24 05:21:04,389 : INFO : worker thread finished; awaiting finish of 3 more threads\n",
      "2021-02-24 05:21:04,390 : INFO : worker thread finished; awaiting finish of 2 more threads\n",
      "2021-02-24 05:21:04,396 : INFO : worker thread finished; awaiting finish of 1 more threads\n",
      "2021-02-24 05:21:04,398 : INFO : worker thread finished; awaiting finish of 0 more threads\n",
      "2021-02-24 05:21:04,399 : INFO : EPOCH - 2 : training on 15387847 raw words (3698006 effective words) took 11.1s, 333227 effective words/s\n",
      "2021-02-24 05:21:05,415 : INFO : EPOCH 3 - PROGRESS: at 8.20% examples, 294203 words/s, in_qsize 24, out_qsize 0\n",
      "2021-02-24 05:21:06,431 : INFO : EPOCH 3 - PROGRESS: at 18.08% examples, 325621 words/s, in_qsize 13, out_qsize 0\n",
      "2021-02-24 05:21:07,434 : INFO : EPOCH 3 - PROGRESS: at 26.27% examples, 318819 words/s, in_qsize 24, out_qsize 0\n",
      "2021-02-24 05:21:08,448 : INFO : EPOCH 3 - PROGRESS: at 35.94% examples, 327612 words/s, in_qsize 13, out_qsize 0\n",
      "2021-02-24 05:21:09,459 : INFO : EPOCH 3 - PROGRESS: at 44.52% examples, 325850 words/s, in_qsize 19, out_qsize 1\n",
      "2021-02-24 05:21:10,460 : INFO : EPOCH 3 - PROGRESS: at 54.44% examples, 332741 words/s, in_qsize 0, out_qsize 0\n",
      "2021-02-24 05:21:11,467 : INFO : EPOCH 3 - PROGRESS: at 62.77% examples, 328995 words/s, in_qsize 9, out_qsize 0\n",
      "2021-02-24 05:21:12,476 : INFO : EPOCH 3 - PROGRESS: at 72.06% examples, 330439 words/s, in_qsize 14, out_qsize 2\n",
      "2021-02-24 05:21:13,477 : INFO : EPOCH 3 - PROGRESS: at 81.62% examples, 332801 words/s, in_qsize 0, out_qsize 0\n",
      "2021-02-24 05:21:14,479 : INFO : EPOCH 3 - PROGRESS: at 90.69% examples, 332629 words/s, in_qsize 0, out_qsize 0\n",
      "2021-02-24 05:21:15,464 : INFO : worker thread finished; awaiting finish of 11 more threads\n",
      "2021-02-24 05:21:15,472 : INFO : worker thread finished; awaiting finish of 10 more threads\n",
      "2021-02-24 05:21:15,473 : INFO : worker thread finished; awaiting finish of 9 more threads\n",
      "2021-02-24 05:21:15,474 : INFO : worker thread finished; awaiting finish of 8 more threads\n",
      "2021-02-24 05:21:15,475 : INFO : worker thread finished; awaiting finish of 7 more threads\n",
      "2021-02-24 05:21:15,476 : INFO : worker thread finished; awaiting finish of 6 more threads\n",
      "2021-02-24 05:21:15,477 : INFO : worker thread finished; awaiting finish of 5 more threads\n",
      "2021-02-24 05:21:15,478 : INFO : worker thread finished; awaiting finish of 4 more threads\n",
      "2021-02-24 05:21:15,484 : INFO : EPOCH 3 - PROGRESS: at 99.82% examples, 333011 words/s, in_qsize 3, out_qsize 1\n",
      "2021-02-24 05:21:15,486 : INFO : worker thread finished; awaiting finish of 3 more threads\n",
      "2021-02-24 05:21:15,489 : INFO : worker thread finished; awaiting finish of 2 more threads\n",
      "2021-02-24 05:21:15,500 : INFO : worker thread finished; awaiting finish of 1 more threads\n",
      "2021-02-24 05:21:15,506 : INFO : worker thread finished; awaiting finish of 0 more threads\n",
      "2021-02-24 05:21:15,507 : INFO : EPOCH - 3 : training on 15387847 raw words (3697880 effective words) took 11.1s, 333039 effective words/s\n",
      "2021-02-24 05:21:16,519 : INFO : EPOCH 4 - PROGRESS: at 9.26% examples, 334530 words/s, in_qsize 0, out_qsize 1\n",
      "2021-02-24 05:21:17,527 : INFO : EPOCH 4 - PROGRESS: at 18.81% examples, 340869 words/s, in_qsize 0, out_qsize 1\n",
      "2021-02-24 05:21:18,538 : INFO : EPOCH 4 - PROGRESS: at 26.97% examples, 327480 words/s, in_qsize 24, out_qsize 0\n",
      "2021-02-24 05:21:19,547 : INFO : EPOCH 4 - PROGRESS: at 36.91% examples, 337218 words/s, in_qsize 1, out_qsize 0\n",
      "2021-02-24 05:21:20,555 : INFO : EPOCH 4 - PROGRESS: at 45.55% examples, 334426 words/s, in_qsize 0, out_qsize 0\n"
     ]
    },
    {
     "name": "stderr",
     "output_type": "stream",
     "text": [
      "2021-02-24 05:21:21,561 : INFO : EPOCH 4 - PROGRESS: at 55.11% examples, 337310 words/s, in_qsize 0, out_qsize 1\n",
      "2021-02-24 05:21:22,570 : INFO : EPOCH 4 - PROGRESS: at 63.61% examples, 333661 words/s, in_qsize 0, out_qsize 2\n",
      "2021-02-24 05:21:23,570 : INFO : EPOCH 4 - PROGRESS: at 72.72% examples, 334053 words/s, in_qsize 9, out_qsize 1\n",
      "2021-02-24 05:21:24,576 : INFO : EPOCH 4 - PROGRESS: at 82.20% examples, 335507 words/s, in_qsize 0, out_qsize 0\n",
      "2021-02-24 05:21:25,580 : INFO : EPOCH 4 - PROGRESS: at 91.15% examples, 334431 words/s, in_qsize 19, out_qsize 1\n",
      "2021-02-24 05:21:26,567 : INFO : worker thread finished; awaiting finish of 11 more threads\n",
      "2021-02-24 05:21:26,571 : INFO : worker thread finished; awaiting finish of 10 more threads\n",
      "2021-02-24 05:21:26,574 : INFO : worker thread finished; awaiting finish of 9 more threads\n",
      "2021-02-24 05:21:26,576 : INFO : worker thread finished; awaiting finish of 8 more threads\n",
      "2021-02-24 05:21:26,580 : INFO : EPOCH 4 - PROGRESS: at 99.57% examples, 332400 words/s, in_qsize 7, out_qsize 1\n",
      "2021-02-24 05:21:26,581 : INFO : worker thread finished; awaiting finish of 7 more threads\n",
      "2021-02-24 05:21:26,585 : INFO : worker thread finished; awaiting finish of 6 more threads\n",
      "2021-02-24 05:21:26,588 : INFO : worker thread finished; awaiting finish of 5 more threads\n",
      "2021-02-24 05:21:26,589 : INFO : worker thread finished; awaiting finish of 4 more threads\n",
      "2021-02-24 05:21:26,596 : INFO : worker thread finished; awaiting finish of 3 more threads\n",
      "2021-02-24 05:21:26,601 : INFO : worker thread finished; awaiting finish of 2 more threads\n",
      "2021-02-24 05:21:26,608 : INFO : worker thread finished; awaiting finish of 1 more threads\n",
      "2021-02-24 05:21:26,611 : INFO : worker thread finished; awaiting finish of 0 more threads\n",
      "2021-02-24 05:21:26,612 : INFO : EPOCH - 4 : training on 15387847 raw words (3696755 effective words) took 11.1s, 333000 effective words/s\n",
      "2021-02-24 05:21:27,618 : INFO : EPOCH 5 - PROGRESS: at 9.34% examples, 338023 words/s, in_qsize 0, out_qsize 1\n",
      "2021-02-24 05:21:28,632 : INFO : EPOCH 5 - PROGRESS: at 18.09% examples, 327199 words/s, in_qsize 11, out_qsize 0\n",
      "2021-02-24 05:21:29,636 : INFO : EPOCH 5 - PROGRESS: at 27.24% examples, 330861 words/s, in_qsize 23, out_qsize 0\n",
      "2021-02-24 05:21:30,657 : INFO : EPOCH 5 - PROGRESS: at 36.27% examples, 330502 words/s, in_qsize 0, out_qsize 1\n",
      "2021-02-24 05:21:31,664 : INFO : EPOCH 5 - PROGRESS: at 45.16% examples, 331039 words/s, in_qsize 12, out_qsize 0\n",
      "2021-02-24 05:21:32,669 : INFO : EPOCH 5 - PROGRESS: at 54.10% examples, 330995 words/s, in_qsize 6, out_qsize 0\n",
      "2021-02-24 05:21:33,683 : INFO : EPOCH 5 - PROGRESS: at 63.89% examples, 334559 words/s, in_qsize 0, out_qsize 0\n",
      "2021-02-24 05:21:34,688 : INFO : EPOCH 5 - PROGRESS: at 72.34% examples, 331643 words/s, in_qsize 0, out_qsize 1\n",
      "2021-02-24 05:21:35,695 : INFO : EPOCH 5 - PROGRESS: at 81.62% examples, 332579 words/s, in_qsize 10, out_qsize 1\n",
      "2021-02-24 05:21:36,698 : INFO : EPOCH 5 - PROGRESS: at 90.88% examples, 333143 words/s, in_qsize 0, out_qsize 0\n",
      "2021-02-24 05:21:37,688 : INFO : worker thread finished; awaiting finish of 11 more threads\n",
      "2021-02-24 05:21:37,690 : INFO : worker thread finished; awaiting finish of 10 more threads\n",
      "2021-02-24 05:21:37,693 : INFO : worker thread finished; awaiting finish of 9 more threads\n",
      "2021-02-24 05:21:37,696 : INFO : worker thread finished; awaiting finish of 8 more threads\n",
      "2021-02-24 05:21:37,697 : INFO : EPOCH 5 - PROGRESS: at 99.63% examples, 332279 words/s, in_qsize 4, out_qsize 7\n",
      "2021-02-24 05:21:37,698 : INFO : worker thread finished; awaiting finish of 7 more threads\n",
      "2021-02-24 05:21:37,699 : INFO : worker thread finished; awaiting finish of 6 more threads\n",
      "2021-02-24 05:21:37,700 : INFO : worker thread finished; awaiting finish of 5 more threads\n",
      "2021-02-24 05:21:37,702 : INFO : worker thread finished; awaiting finish of 4 more threads\n",
      "2021-02-24 05:21:37,711 : INFO : worker thread finished; awaiting finish of 3 more threads\n",
      "2021-02-24 05:21:37,721 : INFO : worker thread finished; awaiting finish of 2 more threads\n",
      "2021-02-24 05:21:37,727 : INFO : worker thread finished; awaiting finish of 1 more threads\n",
      "2021-02-24 05:21:37,731 : INFO : worker thread finished; awaiting finish of 0 more threads\n",
      "2021-02-24 05:21:37,732 : INFO : EPOCH - 5 : training on 15387847 raw words (3697175 effective words) took 11.1s, 332598 effective words/s\n",
      "2021-02-24 05:21:38,746 : INFO : EPOCH 6 - PROGRESS: at 8.80% examples, 317716 words/s, in_qsize 1, out_qsize 0\n",
      "2021-02-24 05:21:39,751 : INFO : EPOCH 6 - PROGRESS: at 17.18% examples, 311497 words/s, in_qsize 0, out_qsize 0\n",
      "2021-02-24 05:21:40,763 : INFO : EPOCH 6 - PROGRESS: at 25.61% examples, 311923 words/s, in_qsize 0, out_qsize 0\n",
      "2021-02-24 05:21:41,764 : INFO : EPOCH 6 - PROGRESS: at 34.86% examples, 318849 words/s, in_qsize 0, out_qsize 0\n",
      "2021-02-24 05:21:42,775 : INFO : EPOCH 6 - PROGRESS: at 43.46% examples, 319396 words/s, in_qsize 15, out_qsize 3\n",
      "2021-02-24 05:21:43,778 : INFO : EPOCH 6 - PROGRESS: at 52.69% examples, 323006 words/s, in_qsize 21, out_qsize 3\n",
      "2021-02-24 05:21:44,797 : INFO : EPOCH 6 - PROGRESS: at 61.55% examples, 322923 words/s, in_qsize 22, out_qsize 1\n",
      "2021-02-24 05:21:45,801 : INFO : EPOCH 6 - PROGRESS: at 71.28% examples, 327218 words/s, in_qsize 3, out_qsize 2\n",
      "2021-02-24 05:21:46,811 : INFO : EPOCH 6 - PROGRESS: at 79.98% examples, 326282 words/s, in_qsize 17, out_qsize 0\n",
      "2021-02-24 05:21:47,826 : INFO : EPOCH 6 - PROGRESS: at 90.01% examples, 329700 words/s, in_qsize 0, out_qsize 0\n",
      "2021-02-24 05:21:48,825 : INFO : EPOCH 6 - PROGRESS: at 98.29% examples, 327554 words/s, in_qsize 21, out_qsize 2\n",
      "2021-02-24 05:21:48,902 : INFO : worker thread finished; awaiting finish of 11 more threads\n",
      "2021-02-24 05:21:48,907 : INFO : worker thread finished; awaiting finish of 10 more threads\n",
      "2021-02-24 05:21:48,909 : INFO : worker thread finished; awaiting finish of 9 more threads\n",
      "2021-02-24 05:21:48,913 : INFO : worker thread finished; awaiting finish of 8 more threads\n",
      "2021-02-24 05:21:48,919 : INFO : worker thread finished; awaiting finish of 7 more threads\n",
      "2021-02-24 05:21:48,926 : INFO : worker thread finished; awaiting finish of 6 more threads\n",
      "2021-02-24 05:21:48,933 : INFO : worker thread finished; awaiting finish of 5 more threads\n",
      "2021-02-24 05:21:48,935 : INFO : worker thread finished; awaiting finish of 4 more threads\n",
      "2021-02-24 05:21:48,937 : INFO : worker thread finished; awaiting finish of 3 more threads\n",
      "2021-02-24 05:21:48,946 : INFO : worker thread finished; awaiting finish of 2 more threads\n",
      "2021-02-24 05:21:48,947 : INFO : worker thread finished; awaiting finish of 1 more threads\n",
      "2021-02-24 05:21:48,949 : INFO : worker thread finished; awaiting finish of 0 more threads\n",
      "2021-02-24 05:21:48,950 : INFO : EPOCH - 6 : training on 15387847 raw words (3696909 effective words) took 11.2s, 329723 effective words/s\n",
      "2021-02-24 05:21:49,973 : INFO : EPOCH 7 - PROGRESS: at 9.26% examples, 330691 words/s, in_qsize 0, out_qsize 0\n",
      "2021-02-24 05:21:50,975 : INFO : EPOCH 7 - PROGRESS: at 17.70% examples, 319954 words/s, in_qsize 23, out_qsize 0\n",
      "2021-02-24 05:21:51,975 : INFO : EPOCH 7 - PROGRESS: at 27.56% examples, 335179 words/s, in_qsize 1, out_qsize 0\n",
      "2021-02-24 05:21:52,978 : INFO : EPOCH 7 - PROGRESS: at 36.59% examples, 335280 words/s, in_qsize 1, out_qsize 2\n",
      "2021-02-24 05:21:53,990 : INFO : EPOCH 7 - PROGRESS: at 45.93% examples, 337979 words/s, in_qsize 0, out_qsize 0\n",
      "2021-02-24 05:21:55,001 : INFO : EPOCH 7 - PROGRESS: at 55.36% examples, 339001 words/s, in_qsize 0, out_qsize 1\n",
      "2021-02-24 05:21:56,003 : INFO : EPOCH 7 - PROGRESS: at 63.42% examples, 333144 words/s, in_qsize 23, out_qsize 0\n",
      "2021-02-24 05:21:57,023 : INFO : EPOCH 7 - PROGRESS: at 72.93% examples, 334671 words/s, in_qsize 15, out_qsize 2\n",
      "2021-02-24 05:21:58,026 : INFO : EPOCH 7 - PROGRESS: at 82.58% examples, 336956 words/s, in_qsize 0, out_qsize 0\n",
      "2021-02-24 05:21:59,033 : INFO : EPOCH 7 - PROGRESS: at 92.04% examples, 337646 words/s, in_qsize 0, out_qsize 1\n",
      "2021-02-24 05:21:59,884 : INFO : worker thread finished; awaiting finish of 11 more threads\n",
      "2021-02-24 05:21:59,892 : INFO : worker thread finished; awaiting finish of 10 more threads\n",
      "2021-02-24 05:21:59,893 : INFO : worker thread finished; awaiting finish of 9 more threads\n"
     ]
    },
    {
     "name": "stderr",
     "output_type": "stream",
     "text": [
      "2021-02-24 05:21:59,895 : INFO : worker thread finished; awaiting finish of 8 more threads\n",
      "2021-02-24 05:21:59,909 : INFO : worker thread finished; awaiting finish of 7 more threads\n",
      "2021-02-24 05:21:59,910 : INFO : worker thread finished; awaiting finish of 6 more threads\n",
      "2021-02-24 05:21:59,913 : INFO : worker thread finished; awaiting finish of 5 more threads\n",
      "2021-02-24 05:21:59,916 : INFO : worker thread finished; awaiting finish of 4 more threads\n",
      "2021-02-24 05:21:59,918 : INFO : worker thread finished; awaiting finish of 3 more threads\n",
      "2021-02-24 05:21:59,926 : INFO : worker thread finished; awaiting finish of 2 more threads\n",
      "2021-02-24 05:21:59,932 : INFO : worker thread finished; awaiting finish of 1 more threads\n",
      "2021-02-24 05:21:59,934 : INFO : worker thread finished; awaiting finish of 0 more threads\n",
      "2021-02-24 05:21:59,935 : INFO : EPOCH - 7 : training on 15387847 raw words (3698606 effective words) took 11.0s, 336838 effective words/s\n",
      "2021-02-24 05:22:00,948 : INFO : EPOCH 8 - PROGRESS: at 8.61% examples, 310969 words/s, in_qsize 23, out_qsize 0\n",
      "2021-02-24 05:22:01,954 : INFO : EPOCH 8 - PROGRESS: at 18.28% examples, 331409 words/s, in_qsize 12, out_qsize 1\n",
      "2021-02-24 05:22:02,956 : INFO : EPOCH 8 - PROGRESS: at 27.30% examples, 332621 words/s, in_qsize 0, out_qsize 1\n",
      "2021-02-24 05:22:03,959 : INFO : EPOCH 8 - PROGRESS: at 36.85% examples, 337821 words/s, in_qsize 0, out_qsize 0\n",
      "2021-02-24 05:22:04,960 : INFO : EPOCH 8 - PROGRESS: at 45.55% examples, 335939 words/s, in_qsize 5, out_qsize 0\n",
      "2021-02-24 05:22:05,961 : INFO : EPOCH 8 - PROGRESS: at 55.24% examples, 339557 words/s, in_qsize 1, out_qsize 0\n",
      "2021-02-24 05:22:06,968 : INFO : EPOCH 8 - PROGRESS: at 64.54% examples, 339801 words/s, in_qsize 0, out_qsize 0\n",
      "2021-02-24 05:22:08,015 : INFO : EPOCH 8 - PROGRESS: at 73.80% examples, 338429 words/s, in_qsize 0, out_qsize 3\n",
      "2021-02-24 05:22:09,019 : INFO : EPOCH 8 - PROGRESS: at 83.22% examples, 339070 words/s, in_qsize 1, out_qsize 1\n",
      "2021-02-24 05:22:10,021 : INFO : EPOCH 8 - PROGRESS: at 92.11% examples, 337662 words/s, in_qsize 23, out_qsize 0\n",
      "2021-02-24 05:22:10,753 : INFO : worker thread finished; awaiting finish of 11 more threads\n",
      "2021-02-24 05:22:10,764 : INFO : worker thread finished; awaiting finish of 10 more threads\n",
      "2021-02-24 05:22:10,772 : INFO : worker thread finished; awaiting finish of 9 more threads\n",
      "2021-02-24 05:22:10,775 : INFO : worker thread finished; awaiting finish of 8 more threads\n",
      "2021-02-24 05:22:10,776 : INFO : worker thread finished; awaiting finish of 7 more threads\n",
      "2021-02-24 05:22:10,793 : INFO : worker thread finished; awaiting finish of 6 more threads\n",
      "2021-02-24 05:22:10,798 : INFO : worker thread finished; awaiting finish of 5 more threads\n",
      "2021-02-24 05:22:10,800 : INFO : worker thread finished; awaiting finish of 4 more threads\n",
      "2021-02-24 05:22:10,801 : INFO : worker thread finished; awaiting finish of 3 more threads\n",
      "2021-02-24 05:22:10,814 : INFO : worker thread finished; awaiting finish of 2 more threads\n",
      "2021-02-24 05:22:10,815 : INFO : worker thread finished; awaiting finish of 1 more threads\n",
      "2021-02-24 05:22:10,817 : INFO : worker thread finished; awaiting finish of 0 more threads\n",
      "2021-02-24 05:22:10,818 : INFO : EPOCH - 8 : training on 15387847 raw words (3697528 effective words) took 10.9s, 339922 effective words/s\n",
      "2021-02-24 05:22:11,823 : INFO : EPOCH 9 - PROGRESS: at 8.80% examples, 319471 words/s, in_qsize 0, out_qsize 0\n",
      "2021-02-24 05:22:12,834 : INFO : EPOCH 9 - PROGRESS: at 17.78% examples, 322277 words/s, in_qsize 23, out_qsize 0\n",
      "2021-02-24 05:22:13,837 : INFO : EPOCH 9 - PROGRESS: at 27.04% examples, 329126 words/s, in_qsize 3, out_qsize 0\n",
      "2021-02-24 05:22:14,845 : INFO : EPOCH 9 - PROGRESS: at 36.65% examples, 335694 words/s, in_qsize 0, out_qsize 0\n",
      "2021-02-24 05:22:15,849 : INFO : EPOCH 9 - PROGRESS: at 44.66% examples, 328772 words/s, in_qsize 23, out_qsize 0\n",
      "2021-02-24 05:22:16,853 : INFO : EPOCH 9 - PROGRESS: at 54.78% examples, 336211 words/s, in_qsize 1, out_qsize 0\n",
      "2021-02-24 05:22:17,870 : INFO : EPOCH 9 - PROGRESS: at 64.29% examples, 337454 words/s, in_qsize 0, out_qsize 0\n",
      "2021-02-24 05:22:18,883 : INFO : EPOCH 9 - PROGRESS: at 73.61% examples, 337967 words/s, in_qsize 0, out_qsize 1\n",
      "2021-02-24 05:22:19,897 : INFO : EPOCH 9 - PROGRESS: at 82.65% examples, 336756 words/s, in_qsize 3, out_qsize 2\n",
      "2021-02-24 05:22:20,903 : INFO : EPOCH 9 - PROGRESS: at 91.60% examples, 335601 words/s, in_qsize 23, out_qsize 0\n",
      "2021-02-24 05:22:21,713 : INFO : worker thread finished; awaiting finish of 11 more threads\n",
      "2021-02-24 05:22:21,723 : INFO : worker thread finished; awaiting finish of 10 more threads\n",
      "2021-02-24 05:22:21,726 : INFO : worker thread finished; awaiting finish of 9 more threads\n",
      "2021-02-24 05:22:21,729 : INFO : worker thread finished; awaiting finish of 8 more threads\n",
      "2021-02-24 05:22:21,734 : INFO : worker thread finished; awaiting finish of 7 more threads\n",
      "2021-02-24 05:22:21,740 : INFO : worker thread finished; awaiting finish of 6 more threads\n",
      "2021-02-24 05:22:21,742 : INFO : worker thread finished; awaiting finish of 5 more threads\n",
      "2021-02-24 05:22:21,745 : INFO : worker thread finished; awaiting finish of 4 more threads\n",
      "2021-02-24 05:22:21,752 : INFO : worker thread finished; awaiting finish of 3 more threads\n",
      "2021-02-24 05:22:21,758 : INFO : worker thread finished; awaiting finish of 2 more threads\n",
      "2021-02-24 05:22:21,763 : INFO : worker thread finished; awaiting finish of 1 more threads\n",
      "2021-02-24 05:22:21,764 : INFO : worker thread finished; awaiting finish of 0 more threads\n",
      "2021-02-24 05:22:21,765 : INFO : EPOCH - 9 : training on 15387847 raw words (3695017 effective words) took 10.9s, 337656 effective words/s\n",
      "2021-02-24 05:22:22,775 : INFO : EPOCH 10 - PROGRESS: at 8.20% examples, 297232 words/s, in_qsize 21, out_qsize 0\n",
      "2021-02-24 05:22:23,774 : INFO : EPOCH 10 - PROGRESS: at 17.31% examples, 315191 words/s, in_qsize 21, out_qsize 0\n",
      "2021-02-24 05:22:24,793 : INFO : EPOCH 10 - PROGRESS: at 27.31% examples, 331739 words/s, in_qsize 0, out_qsize 2\n",
      "2021-02-24 05:22:25,794 : INFO : EPOCH 10 - PROGRESS: at 36.46% examples, 334008 words/s, in_qsize 1, out_qsize 1\n",
      "2021-02-24 05:22:26,800 : INFO : EPOCH 10 - PROGRESS: at 44.72% examples, 329065 words/s, in_qsize 7, out_qsize 1\n",
      "2021-02-24 05:22:27,811 : INFO : EPOCH 10 - PROGRESS: at 53.92% examples, 330566 words/s, in_qsize 23, out_qsize 0\n",
      "2021-02-24 05:22:28,810 : INFO : EPOCH 10 - PROGRESS: at 63.03% examples, 331419 words/s, in_qsize 1, out_qsize 0\n",
      "2021-02-24 05:22:29,813 : INFO : EPOCH 10 - PROGRESS: at 71.34% examples, 328308 words/s, in_qsize 24, out_qsize 0\n",
      "2021-02-24 05:22:30,817 : INFO : EPOCH 10 - PROGRESS: at 81.04% examples, 331194 words/s, in_qsize 9, out_qsize 0\n",
      "2021-02-24 05:22:31,829 : INFO : EPOCH 10 - PROGRESS: at 89.68% examples, 329391 words/s, in_qsize 3, out_qsize 1\n",
      "2021-02-24 05:22:32,845 : INFO : EPOCH 10 - PROGRESS: at 97.89% examples, 326549 words/s, in_qsize 5, out_qsize 0\n",
      "2021-02-24 05:22:33,005 : INFO : worker thread finished; awaiting finish of 11 more threads\n",
      "2021-02-24 05:22:33,013 : INFO : worker thread finished; awaiting finish of 10 more threads\n",
      "2021-02-24 05:22:33,014 : INFO : worker thread finished; awaiting finish of 9 more threads\n",
      "2021-02-24 05:22:33,017 : INFO : worker thread finished; awaiting finish of 8 more threads\n",
      "2021-02-24 05:22:33,018 : INFO : worker thread finished; awaiting finish of 7 more threads\n",
      "2021-02-24 05:22:33,019 : INFO : worker thread finished; awaiting finish of 6 more threads\n",
      "2021-02-24 05:22:33,020 : INFO : worker thread finished; awaiting finish of 5 more threads\n",
      "2021-02-24 05:22:33,021 : INFO : worker thread finished; awaiting finish of 4 more threads\n",
      "2021-02-24 05:22:33,023 : INFO : worker thread finished; awaiting finish of 3 more threads\n",
      "2021-02-24 05:22:33,035 : INFO : worker thread finished; awaiting finish of 2 more threads\n",
      "2021-02-24 05:22:33,047 : INFO : worker thread finished; awaiting finish of 1 more threads\n",
      "2021-02-24 05:22:33,053 : INFO : worker thread finished; awaiting finish of 0 more threads\n",
      "2021-02-24 05:22:33,054 : INFO : EPOCH - 10 : training on 15387847 raw words (3695521 effective words) took 11.3s, 327522 effective words/s\n",
      "2021-02-24 05:22:33,055 : INFO : training on a 153878470 raw words (36967721 effective words) took 110.7s, 333823 effective words/s\n"
     ]
    },
    {
     "name": "stderr",
     "output_type": "stream",
     "text": [
      "2021-02-24 05:22:33,055 : INFO : saving Word2Vec object under dados/experimento_1/w2v_jur.model, separately None\n",
      "2021-02-24 05:22:33,057 : INFO : not storing attribute vectors_norm\n",
      "2021-02-24 05:22:33,058 : INFO : not storing attribute cum_table\n",
      "2021-02-24 05:22:33,671 : INFO : saved dados/experimento_1/w2v_jur.model\n"
     ]
    },
    {
     "name": "stdout",
     "output_type": "stream",
     "text": [
      "treinando modelo word2vec\n"
     ]
    },
    {
     "name": "stderr",
     "output_type": "stream",
     "text": [
      "2021-02-24 05:22:33,672 : INFO : resetting layer weights\n",
      "2021-02-24 05:22:38,590 : INFO : collecting all words and their counts\n",
      "2021-02-24 05:22:38,591 : INFO : PROGRESS: at sentence #0, processed 0 words, keeping 0 word types\n",
      "2021-02-24 05:22:38,657 : INFO : PROGRESS: at sentence #10000, processed 235769 words, keeping 13479 word types\n",
      "2021-02-24 05:22:38,724 : INFO : PROGRESS: at sentence #20000, processed 478506 words, keeping 18827 word types\n",
      "2021-02-24 05:22:38,793 : INFO : PROGRESS: at sentence #30000, processed 716990 words, keeping 22433 word types\n",
      "2021-02-24 05:22:38,860 : INFO : PROGRESS: at sentence #40000, processed 956912 words, keeping 25453 word types\n",
      "2021-02-24 05:22:38,926 : INFO : PROGRESS: at sentence #50000, processed 1198453 words, keeping 27868 word types\n",
      "2021-02-24 05:22:38,991 : INFO : PROGRESS: at sentence #60000, processed 1434600 words, keeping 30340 word types\n",
      "2021-02-24 05:22:39,058 : INFO : PROGRESS: at sentence #70000, processed 1678430 words, keeping 32461 word types\n",
      "2021-02-24 05:22:39,124 : INFO : PROGRESS: at sentence #80000, processed 1918098 words, keeping 34310 word types\n",
      "2021-02-24 05:22:39,190 : INFO : PROGRESS: at sentence #90000, processed 2156336 words, keeping 36035 word types\n",
      "2021-02-24 05:22:39,258 : INFO : PROGRESS: at sentence #100000, processed 2398940 words, keeping 37617 word types\n",
      "2021-02-24 05:22:39,323 : INFO : PROGRESS: at sentence #110000, processed 2637175 words, keeping 39115 word types\n",
      "2021-02-24 05:22:39,388 : INFO : PROGRESS: at sentence #120000, processed 2877198 words, keeping 40535 word types\n",
      "2021-02-24 05:22:39,454 : INFO : PROGRESS: at sentence #130000, processed 3116326 words, keeping 41914 word types\n",
      "2021-02-24 05:22:39,522 : INFO : PROGRESS: at sentence #140000, processed 3366816 words, keeping 43473 word types\n",
      "2021-02-24 05:22:39,592 : INFO : PROGRESS: at sentence #150000, processed 3614701 words, keeping 44786 word types\n",
      "2021-02-24 05:22:39,658 : INFO : PROGRESS: at sentence #160000, processed 3855422 words, keeping 46007 word types\n",
      "2021-02-24 05:22:39,725 : INFO : PROGRESS: at sentence #170000, processed 4094891 words, keeping 47124 word types\n",
      "2021-02-24 05:22:39,791 : INFO : PROGRESS: at sentence #180000, processed 4334237 words, keeping 48340 word types\n",
      "2021-02-24 05:22:39,857 : INFO : PROGRESS: at sentence #190000, processed 4576252 words, keeping 49342 word types\n",
      "2021-02-24 05:22:39,926 : INFO : PROGRESS: at sentence #200000, processed 4824132 words, keeping 50480 word types\n",
      "2021-02-24 05:22:39,992 : INFO : PROGRESS: at sentence #210000, processed 5062126 words, keeping 51483 word types\n",
      "2021-02-24 05:22:40,059 : INFO : PROGRESS: at sentence #220000, processed 5305266 words, keeping 52429 word types\n",
      "2021-02-24 05:22:40,127 : INFO : PROGRESS: at sentence #230000, processed 5550723 words, keeping 53444 word types\n",
      "2021-02-24 05:22:40,195 : INFO : PROGRESS: at sentence #240000, processed 5800318 words, keeping 54412 word types\n",
      "2021-02-24 05:22:40,264 : INFO : PROGRESS: at sentence #250000, processed 6049857 words, keeping 55457 word types\n",
      "2021-02-24 05:22:40,330 : INFO : PROGRESS: at sentence #260000, processed 6288867 words, keeping 56253 word types\n",
      "2021-02-24 05:22:40,399 : INFO : PROGRESS: at sentence #270000, processed 6539964 words, keeping 57133 word types\n",
      "2021-02-24 05:22:40,466 : INFO : PROGRESS: at sentence #280000, processed 6783410 words, keeping 57987 word types\n",
      "2021-02-24 05:22:40,533 : INFO : PROGRESS: at sentence #290000, processed 7025570 words, keeping 58857 word types\n",
      "2021-02-24 05:22:40,600 : INFO : PROGRESS: at sentence #300000, processed 7272182 words, keeping 59616 word types\n",
      "2021-02-24 05:22:40,667 : INFO : PROGRESS: at sentence #310000, processed 7515122 words, keeping 60294 word types\n",
      "2021-02-24 05:22:40,734 : INFO : PROGRESS: at sentence #320000, processed 7760803 words, keeping 61115 word types\n",
      "2021-02-24 05:22:40,803 : INFO : PROGRESS: at sentence #330000, processed 8007403 words, keeping 61972 word types\n",
      "2021-02-24 05:22:40,868 : INFO : PROGRESS: at sentence #340000, processed 8245032 words, keeping 62740 word types\n",
      "2021-02-24 05:22:40,936 : INFO : PROGRESS: at sentence #350000, processed 8486427 words, keeping 63495 word types\n",
      "2021-02-24 05:22:41,003 : INFO : PROGRESS: at sentence #360000, processed 8726848 words, keeping 64225 word types\n",
      "2021-02-24 05:22:41,072 : INFO : PROGRESS: at sentence #370000, processed 8973299 words, keeping 64913 word types\n",
      "2021-02-24 05:22:41,138 : INFO : PROGRESS: at sentence #380000, processed 9213292 words, keeping 65645 word types\n",
      "2021-02-24 05:22:41,205 : INFO : PROGRESS: at sentence #390000, processed 9460659 words, keeping 66427 word types\n",
      "2021-02-24 05:22:41,273 : INFO : PROGRESS: at sentence #400000, processed 9704171 words, keeping 67037 word types\n",
      "2021-02-24 05:22:41,338 : INFO : PROGRESS: at sentence #410000, processed 9944273 words, keeping 67717 word types\n",
      "2021-02-24 05:22:41,405 : INFO : PROGRESS: at sentence #420000, processed 10186493 words, keeping 68483 word types\n",
      "2021-02-24 05:22:41,473 : INFO : PROGRESS: at sentence #430000, processed 10430824 words, keeping 69260 word types\n",
      "2021-02-24 05:22:41,542 : INFO : PROGRESS: at sentence #440000, processed 10675104 words, keeping 69962 word types\n",
      "2021-02-24 05:22:41,609 : INFO : PROGRESS: at sentence #450000, processed 10916543 words, keeping 70624 word types\n",
      "2021-02-24 05:22:41,674 : INFO : PROGRESS: at sentence #460000, processed 11153599 words, keeping 71178 word types\n",
      "2021-02-24 05:22:41,741 : INFO : PROGRESS: at sentence #470000, processed 11400246 words, keeping 71873 word types\n",
      "2021-02-24 05:22:41,808 : INFO : PROGRESS: at sentence #480000, processed 11641081 words, keeping 72449 word types\n",
      "2021-02-24 05:22:41,874 : INFO : PROGRESS: at sentence #490000, processed 11879460 words, keeping 73023 word types\n",
      "2021-02-24 05:22:41,944 : INFO : PROGRESS: at sentence #500000, processed 12122776 words, keeping 73581 word types\n",
      "2021-02-24 05:22:42,012 : INFO : PROGRESS: at sentence #510000, processed 12367121 words, keeping 74255 word types\n",
      "2021-02-24 05:22:42,077 : INFO : PROGRESS: at sentence #520000, processed 12607611 words, keeping 74782 word types\n",
      "2021-02-24 05:22:42,145 : INFO : PROGRESS: at sentence #530000, processed 12851530 words, keeping 75319 word types\n",
      "2021-02-24 05:22:42,212 : INFO : PROGRESS: at sentence #540000, processed 13089923 words, keeping 75959 word types\n",
      "2021-02-24 05:22:42,278 : INFO : PROGRESS: at sentence #550000, processed 13327324 words, keeping 76489 word types\n",
      "2021-02-24 05:22:42,346 : INFO : PROGRESS: at sentence #560000, processed 13575962 words, keeping 77031 word types\n",
      "2021-02-24 05:22:42,412 : INFO : PROGRESS: at sentence #570000, processed 13817112 words, keeping 77602 word types\n",
      "2021-02-24 05:22:42,477 : INFO : PROGRESS: at sentence #580000, processed 14052857 words, keeping 78189 word types\n",
      "2021-02-24 05:22:42,545 : INFO : PROGRESS: at sentence #590000, processed 14300517 words, keeping 78737 word types\n",
      "2021-02-24 05:22:42,613 : INFO : PROGRESS: at sentence #600000, processed 14545068 words, keeping 79300 word types\n",
      "2021-02-24 05:22:42,682 : INFO : PROGRESS: at sentence #610000, processed 14792482 words, keeping 79812 word types\n",
      "2021-02-24 05:22:42,747 : INFO : PROGRESS: at sentence #620000, processed 15030477 words, keeping 80319 word types\n",
      "2021-02-24 05:22:42,813 : INFO : PROGRESS: at sentence #630000, processed 15269440 words, keeping 80955 word types\n",
      "2021-02-24 05:22:42,846 : INFO : collected 81218 word types from a corpus of 15387847 raw words and 634862 sentences\n",
      "2021-02-24 05:22:42,847 : INFO : Loading a fresh vocabulary\n",
      "2021-02-24 05:22:42,899 : INFO : effective_min_count=5 retains 32596 unique words (40% of original 81218, drops 48622)\n",
      "2021-02-24 05:22:42,900 : INFO : effective_min_count=5 leaves 15306026 word corpus (99% of original 15387847, drops 81821)\n",
      "2021-02-24 05:22:42,979 : INFO : deleting the raw counts dictionary of 81218 items\n",
      "2021-02-24 05:22:42,981 : INFO : sample=0.001 downsamples 37 most-common words\n",
      "2021-02-24 05:22:42,982 : INFO : downsampling leaves estimated 11075722 word corpus (72.4% of prior 15306026)\n",
      "2021-02-24 05:22:43,006 : INFO : constructing a huffman tree from 32596 words\n",
      "2021-02-24 05:22:43,708 : INFO : built huffman tree with maximum node depth 22\n"
     ]
    },
    {
     "name": "stderr",
     "output_type": "stream",
     "text": [
      "2021-02-24 05:22:44,050 : INFO : estimated required memory for 32596 words, 138020 buckets and 100 dimensions: 125922344 bytes\n",
      "2021-02-24 05:22:44,054 : INFO : resetting layer weights\n",
      "2021-02-24 05:22:47,466 : INFO : training model with 12 workers on 32596 vocabulary and 100 features, using sg=1 hs=1 sample=0.001 negative=5 window=5\n",
      "2021-02-24 05:23:39,050 : INFO : EPOCH 1 - PROGRESS: at 8.34% words, 17927 words/s, in_qsize -1, out_qsize 1\n",
      "2021-02-24 05:23:39,052 : INFO : worker thread finished; awaiting finish of 11 more threads\n",
      "2021-02-24 05:23:39,166 : INFO : worker thread finished; awaiting finish of 10 more threads\n",
      "2021-02-24 05:23:39,333 : INFO : worker thread finished; awaiting finish of 9 more threads\n",
      "2021-02-24 05:23:39,438 : INFO : worker thread finished; awaiting finish of 8 more threads\n",
      "2021-02-24 05:23:39,468 : INFO : worker thread finished; awaiting finish of 7 more threads\n",
      "2021-02-24 05:23:39,652 : INFO : worker thread finished; awaiting finish of 6 more threads\n",
      "2021-02-24 05:23:39,765 : INFO : worker thread finished; awaiting finish of 5 more threads\n",
      "2021-02-24 05:23:39,779 : INFO : worker thread finished; awaiting finish of 4 more threads\n",
      "2021-02-24 05:23:39,845 : INFO : worker thread finished; awaiting finish of 3 more threads\n",
      "2021-02-24 05:23:39,857 : INFO : worker thread finished; awaiting finish of 2 more threads\n",
      "2021-02-24 05:23:39,867 : INFO : worker thread finished; awaiting finish of 1 more threads\n",
      "2021-02-24 05:23:40,264 : INFO : EPOCH 1 - PROGRESS: at 100.04% words, 210082 words/s, in_qsize -1, out_qsize 1\n",
      "2021-02-24 05:23:40,265 : INFO : worker thread finished; awaiting finish of 0 more threads\n",
      "2021-02-24 05:23:40,266 : INFO : EPOCH - 1 : training on 15394371 raw words (11081995 effective words) took 52.8s, 210074 effective words/s\n",
      "2021-02-24 05:24:31,523 : INFO : EPOCH 2 - PROGRESS: at 8.34% words, 18037 words/s, in_qsize -1, out_qsize 1\n",
      "2021-02-24 05:24:31,525 : INFO : worker thread finished; awaiting finish of 11 more threads\n",
      "2021-02-24 05:24:31,776 : INFO : worker thread finished; awaiting finish of 10 more threads\n",
      "2021-02-24 05:24:31,820 : INFO : worker thread finished; awaiting finish of 9 more threads\n",
      "2021-02-24 05:24:31,892 : INFO : worker thread finished; awaiting finish of 8 more threads\n",
      "2021-02-24 05:24:31,949 : INFO : worker thread finished; awaiting finish of 7 more threads\n",
      "2021-02-24 05:24:31,983 : INFO : worker thread finished; awaiting finish of 6 more threads\n",
      "2021-02-24 05:24:32,021 : INFO : worker thread finished; awaiting finish of 5 more threads\n",
      "2021-02-24 05:24:32,129 : INFO : worker thread finished; awaiting finish of 4 more threads\n",
      "2021-02-24 05:24:32,175 : INFO : worker thread finished; awaiting finish of 3 more threads\n",
      "2021-02-24 05:24:32,259 : INFO : worker thread finished; awaiting finish of 2 more threads\n",
      "2021-02-24 05:24:32,265 : INFO : worker thread finished; awaiting finish of 1 more threads\n",
      "2021-02-24 05:24:32,299 : INFO : worker thread finished; awaiting finish of 0 more threads\n",
      "2021-02-24 05:24:32,300 : INFO : EPOCH - 2 : training on 15394371 raw words (11079956 effective words) took 52.0s, 213137 effective words/s\n",
      "2021-02-24 05:25:23,079 : INFO : EPOCH 3 - PROGRESS: at 8.34% words, 18218 words/s, in_qsize -1, out_qsize 1\n",
      "2021-02-24 05:25:23,081 : INFO : worker thread finished; awaiting finish of 11 more threads\n",
      "2021-02-24 05:25:23,085 : INFO : worker thread finished; awaiting finish of 10 more threads\n",
      "2021-02-24 05:25:23,092 : INFO : worker thread finished; awaiting finish of 9 more threads\n",
      "2021-02-24 05:25:23,279 : INFO : worker thread finished; awaiting finish of 8 more threads\n",
      "2021-02-24 05:25:23,527 : INFO : worker thread finished; awaiting finish of 7 more threads\n",
      "2021-02-24 05:25:23,531 : INFO : worker thread finished; awaiting finish of 6 more threads\n",
      "2021-02-24 05:25:23,539 : INFO : worker thread finished; awaiting finish of 5 more threads\n",
      "2021-02-24 05:25:23,623 : INFO : worker thread finished; awaiting finish of 4 more threads\n",
      "2021-02-24 05:25:23,653 : INFO : worker thread finished; awaiting finish of 3 more threads\n",
      "2021-02-24 05:25:23,674 : INFO : worker thread finished; awaiting finish of 2 more threads\n",
      "2021-02-24 05:25:23,710 : INFO : worker thread finished; awaiting finish of 1 more threads\n",
      "2021-02-24 05:25:23,811 : INFO : worker thread finished; awaiting finish of 0 more threads\n",
      "2021-02-24 05:25:23,813 : INFO : EPOCH - 3 : training on 15394371 raw words (11081885 effective words) took 51.5s, 215333 effective words/s\n",
      "2021-02-24 05:26:14,942 : INFO : EPOCH 4 - PROGRESS: at 8.34% words, 18046 words/s, in_qsize -1, out_qsize 1\n",
      "2021-02-24 05:26:14,944 : INFO : worker thread finished; awaiting finish of 11 more threads\n",
      "2021-02-24 05:26:14,971 : INFO : worker thread finished; awaiting finish of 10 more threads\n",
      "2021-02-24 05:26:15,082 : INFO : worker thread finished; awaiting finish of 9 more threads\n",
      "2021-02-24 05:26:15,198 : INFO : worker thread finished; awaiting finish of 8 more threads\n",
      "2021-02-24 05:26:15,406 : INFO : worker thread finished; awaiting finish of 7 more threads\n",
      "2021-02-24 05:26:15,458 : INFO : worker thread finished; awaiting finish of 6 more threads\n",
      "2021-02-24 05:26:15,505 : INFO : worker thread finished; awaiting finish of 5 more threads\n",
      "2021-02-24 05:26:15,605 : INFO : worker thread finished; awaiting finish of 4 more threads\n",
      "2021-02-24 05:26:15,635 : INFO : worker thread finished; awaiting finish of 3 more threads\n",
      "2021-02-24 05:26:15,662 : INFO : worker thread finished; awaiting finish of 2 more threads\n",
      "2021-02-24 05:26:15,719 : INFO : worker thread finished; awaiting finish of 1 more threads\n",
      "2021-02-24 05:26:15,837 : INFO : worker thread finished; awaiting finish of 0 more threads\n",
      "2021-02-24 05:26:15,838 : INFO : EPOCH - 4 : training on 15394371 raw words (11081172 effective words) took 52.0s, 213201 effective words/s\n",
      "2021-02-24 05:27:06,546 : INFO : EPOCH 5 - PROGRESS: at 8.34% words, 18206 words/s, in_qsize -1, out_qsize 1\n",
      "2021-02-24 05:27:06,548 : INFO : worker thread finished; awaiting finish of 11 more threads\n",
      "2021-02-24 05:27:06,755 : INFO : worker thread finished; awaiting finish of 10 more threads\n",
      "2021-02-24 05:27:06,829 : INFO : worker thread finished; awaiting finish of 9 more threads\n",
      "2021-02-24 05:27:06,850 : INFO : worker thread finished; awaiting finish of 8 more threads\n",
      "2021-02-24 05:27:07,163 : INFO : worker thread finished; awaiting finish of 7 more threads\n",
      "2021-02-24 05:27:07,221 : INFO : worker thread finished; awaiting finish of 6 more threads\n",
      "2021-02-24 05:27:07,248 : INFO : worker thread finished; awaiting finish of 5 more threads\n",
      "2021-02-24 05:27:07,263 : INFO : worker thread finished; awaiting finish of 4 more threads\n",
      "2021-02-24 05:27:07,327 : INFO : worker thread finished; awaiting finish of 3 more threads\n",
      "2021-02-24 05:27:07,414 : INFO : worker thread finished; awaiting finish of 2 more threads\n",
      "2021-02-24 05:27:07,427 : INFO : worker thread finished; awaiting finish of 1 more threads\n",
      "2021-02-24 05:27:07,477 : INFO : worker thread finished; awaiting finish of 0 more threads\n",
      "2021-02-24 05:27:07,478 : INFO : EPOCH - 5 : training on 15394371 raw words (11080062 effective words) took 51.6s, 214767 effective words/s\n",
      "2021-02-24 05:27:07,484 : INFO : training on a 76971855 raw words (55405070 effective words) took 260.0s, 213082 effective words/s\n",
      "2021-02-24 05:27:07,485 : WARNING : under 10 jobs per worker: consider setting a smaller `batch_words' for smoother alpha decay\n",
      "2021-02-24 05:27:09,032 : INFO : saving FastText object under dados/experimento_1/ftt_jur.model, separately None\n",
      "2021-02-24 05:27:09,033 : INFO : storing np array 'vectors_ngrams' to dados/experimento_1/ftt_jur.model.wv.vectors_ngrams.npy\n",
      "2021-02-24 05:27:15,897 : INFO : not storing attribute vectors_norm\n",
      "2021-02-24 05:27:15,898 : INFO : not storing attribute vectors_vocab_norm\n",
      "2021-02-24 05:27:15,899 : INFO : not storing attribute vectors_ngrams_norm\n",
      "2021-02-24 05:27:15,900 : INFO : not storing attribute buckets_word\n",
      "2021-02-24 05:27:15,901 : INFO : storing np array 'vectors_ngrams_lockf' to dados/experimento_1/ftt_jur.model.trainables.vectors_ngrams_lockf.npy\n",
      "2021-02-24 05:27:23,729 : INFO : saved dados/experimento_1/ftt_jur.model\n"
     ]
    },
    {
     "name": "stdout",
     "output_type": "stream",
     "text": [
      "treinando modelo glove\n",
      "mkdir -p build\n",
      "tokenizando corpus\n",
      "$ build/vocab_count -min-count 5 -verbose 2 < ../mestrado/experimentos_mestrado/dados/experimento_1/base_treino_glv.txt > ../mestrado/experimentos_mestrado/dados/experimento_1/glove_vocab.txt\n",
      "criando matriz de coocorrencia\n",
      "$ build/cooccur -memory 4.0 -vocab-file ../mestrado/experimentos_mestrado/dados/experimento_1/glove_vocab.txt -verbose 2 -window-size 15 < ../mestrado/experimentos_mestrado/dados/experimento_1/base_treino_glv.txt > ../mestrado/experimentos_mestrado/dados/experimento_1/glv_concurrence.bin\n",
      "$ build/shuffle -memory 4.0 -verbose 2 < ../mestrado/experimentos_mestrado/dados/experimento_1/glv_concurrence.bin > ../mestrado/experimentos_mestrado/dados/experimento_1/glv_concurrence_shuf.bin\n",
      "$ build/glove -save-file ../mestrado/experimentos_mestrado/dados/experimento_1/glv_jur -threads 8 -input-file ../mestrado/experimentos_mestrado/dados/experimento_1/glv_concurrence_shuf.bin -x-max 10 -iter 15 -vector-size 100 -binary 2 -vocab-file ../mestrado/experimentos_mestrado/dados/experimento_1/glove_vocab.txt -verbose 2\n",
      "\n",
      "BUILDING VOCABULARY\n",
      "Processed 0 tokens.100000 tokens.200000 tokens.300000 tokens.400000 tokens.500000 tokens.600000 tokens.700000 tokens.800000 tokens.900000 tokens.1000000 tokens.1100000 tokens.1200000 tokens.1300000 tokens.1400000 tokens.1500000 tokens.1600000 tokens.1700000 tokens.1800000 tokens.1900000 tokens.2000000 tokens.2100000 tokens.2200000 tokens.2300000 tokens.2400000 tokens.2500000 tokens.2600000 tokens.2700000 tokens.2800000 tokens.2900000 tokens.3000000 tokens.3100000 tokens.3200000 tokens.3300000 tokens.3400000 tokens.3500000 tokens.3600000 tokens.3700000 tokens.3800000 tokens.3900000 tokens.4000000 tokens.4100000 tokens.4200000 tokens.4300000 tokens.4400000 tokens.4500000 tokens.4600000 tokens.4700000 tokens.4800000 tokens.4900000 tokens.5000000 tokens.5100000 tokens.5200000 tokens.5300000 tokens.5400000 tokens.5500000 tokens.5600000 tokens.5700000 tokens.5800000 tokens.5900000 tokens.6000000 tokens.6100000 tokens.6200000 tokens.6300000 tokens.6400000 tokens.6500000 tokens.6600000 tokens.6700000 tokens.6800000 tokens.6900000 tokens.7000000 tokens.7100000 tokens.7200000 tokens.7300000 tokens.7400000 tokens.7500000 tokens.7600000 tokens.7700000 tokens.7800000 tokens.7900000 tokens.8000000 tokens.8100000 tokens.8200000 tokens.8300000 tokens.8400000 tokens.8500000 tokens.8600000 tokens.8700000 tokens.8800000 tokens.8900000 tokens.9000000 tokens.9100000 tokens.9200000 tokens.9300000 tokens.9400000 tokens.9500000 tokens.9600000 tokens.Processed 9684898 tokens.\n",
      "Counted 81039 unique words.\n",
      "Truncating vocabulary at min count 5.\n",
      "Using vocabulary of size 32431.\n",
      "\n",
      "COUNTING COOCCURRENCES\n",
      "window size: 15\n",
      "context: symmetric\n",
      "max product: 13752509\n",
      "overflow length: 38028356\n",
      "Reading vocab from file \"../mestrado/experimentos_mestrado/dados/experimento_1/glove_vocab.txt\"...loaded 32431 words.\n",
      "Building lookup table...table contains 73365265 elements.\n",
      "Processing token: 0100000200000300000400000500000600000700000800000900000100000011000001200000130000014000001500000160000017000001800000190000020000002100000220000023000002400000250000026000002700000280000029000003000000310000032000003300000340000035000003600000370000038000003900000400000041000004200000430000044000004500000460000047000004800000490000050000005100000520000053000005400000550000056000005700000580000059000006000000610000062000006300000640000065000006600000670000068000006900000700000071000007200000730000074000007500000760000077000007800000790000080000008100000820000083000008400000850000086000008700000880000089000009000000910000092000009300000940000095000009600000Processed 9684898 tokens.\n",
      "Writing cooccurrences to disk........2 files in total.\n"
     ]
    },
    {
     "name": "stdout",
     "output_type": "stream",
     "text": [
      "Merging cooccurrence files: processed 0 lines.100000 lines.200000 lines.300000 lines.400000 lines.500000 lines.600000 lines.700000 lines.800000 lines.900000 lines.1000000 lines.1100000 lines.1200000 lines.1300000 lines.1400000 lines.1500000 lines.1600000 lines.1700000 lines.1800000 lines.1900000 lines.2000000 lines.2100000 lines.2200000 lines.2300000 lines.2400000 lines.2500000 lines.2600000 lines.2700000 lines.2800000 lines.2900000 lines.3000000 lines.3100000 lines.3200000 lines.3300000 lines.3400000 lines.3500000 lines.3600000 lines.3700000 lines.3800000 lines.3900000 lines.4000000 lines.4100000 lines.4200000 lines.4300000 lines.4400000 lines.4500000 lines.4600000 lines.4700000 lines.4800000 lines.4900000 lines.5000000 lines.5100000 lines.5200000 lines.5300000 lines.5400000 lines.5500000 lines.5600000 lines.5700000 lines.5800000 lines.5900000 lines.6000000 lines.6100000 lines.6200000 lines.6300000 lines.6400000 lines.6500000 lines.6600000 lines.6700000 lines.6800000 lines.6900000 lines.7000000 lines.7100000 lines.7200000 lines.7300000 lines.7400000 lines.7500000 lines.7600000 lines.7700000 lines.7800000 lines.7900000 lines.8000000 lines.8100000 lines.8200000 lines.8300000 lines.8400000 lines.8500000 lines.8600000 lines.8700000 lines.8800000 lines.8900000 lines.9000000 lines.9100000 lines.9200000 lines.9300000 lines.9400000 lines.9500000 lines.9600000 lines.9700000 lines.9800000 lines.9900000 lines.10000000 lines.10100000 lines.10200000 lines.10300000 lines.10400000 lines.10500000 lines.10600000 lines.10700000 lines.10800000 lines.10900000 lines.11000000 lines.11100000 lines.11200000 lines.11300000 lines.11400000 lines.11500000 lines.11600000 lines.11700000 lines.11800000 lines.11900000 lines.12000000 lines.12100000 lines.12200000 lines.12300000 lines.12400000 lines.12500000 lines.12600000 lines.12700000 lines.12800000 lines.12900000 lines.13000000 lines.13100000 lines.13200000 lines.13300000 lines.13400000 lines.13500000 lines.13600000 lines.13700000 lines.13800000 lines.13900000 lines.14000000 lines.14100000 lines.14200000 lines.14300000 lines.14400000 lines.14500000 lines.14600000 lines.14700000 lines.14800000 lines.14900000 lines.15000000 lines.15100000 lines.15200000 lines.15300000 lines.15400000 lines.15500000 lines.15600000 lines.15700000 lines.15800000 lines.15900000 lines.16000000 lines.16100000 lines.16200000 lines.16300000 lines.16400000 lines.16500000 lines.16600000 lines.16700000 lines.16800000 lines.16900000 lines.17000000 lines.17100000 lines.17200000 lines.17300000 lines.17400000 lines.17500000 lines.17600000 lines.17700000 lines.17800000 lines.17900000 lines.18000000 lines.18100000 lines.18200000 lines.18300000 lines.18400000 lines.18500000 lines.18600000 lines.18700000 lines.18800000 lines.18900000 lines.19000000 lines.19100000 lines.19200000 lines.19300000 lines.19400000 lines.19500000 lines.19600000 lines.19700000 lines.19800000 lines.19900000 lines.20000000 lines.20100000 lines.20200000 lines.20300000 lines.20400000 lines.20500000 lines.20600000 lines.20700000 lines.20800000 lines.20900000 lines.21000000 lines.21100000 lines.21200000 lines.21300000 lines.21400000 lines.21500000 lines.21600000 lines.21700000 lines.21800000 lines.21900000 lines.22000000 lines.22100000 lines.22200000 lines.22300000 lines.22400000 lines.22500000 lines.22600000 lines.22700000 lines.22800000 lines.22900000 lines.23000000 lines.23100000 lines.23200000 lines.23300000 lines.23400000 lines.23500000 lines.23600000 lines.23700000 lines.23800000 lines.23900000 lines.24000000 lines.24100000 lines.24200000 lines.24300000 lines.24400000 lines.24500000 lines.24600000 lines.24700000 lines.24800000 lines.24900000 lines.25000000 lines.25100000 lines.25200000 lines.25300000 lines.25400000 lines.25500000 lines.25600000 lines.25700000 lines.25800000 lines.25900000 lines.26000000 lines.26100000 lines.26200000 lines.26300000 lines.26400000 lines.26500000 lines.26600000 lines.26700000 lines.26800000 lines.26900000 lines.27000000 lines.27100000 lines.27200000 lines.27300000 lines.27400000 lines.27500000 lines.27600000 lines.27700000 lines.27800000 lines.27900000 lines.28000000 lines.28100000 lines.28200000 lines.28300000 lines.28400000 lines.28500000 lines.28600000 lines.28700000 lines.28800000 lines.28900000 lines.29000000 lines.29100000 lines.29200000 lines.29300000 lines.29400000 lines.29500000 lines.29600000 lines.29700000 lines.29800000 lines.29900000 lines.30000000 lines.30100000 lines.30200000 lines.30300000 lines.30400000 lines.30500000 lines.30600000 lines.30700000 lines.30800000 lines.30900000 lines.31000000 lines.31100000 lines.31200000 lines.31300000 lines.31400000 lines.31500000 lines.31600000 lines.Merging cooccurrence files: processed 31681021 lines.\n",
      "\n",
      "Using random seed 1614155260\n",
      "SHUFFLING COOCCURRENCES\n",
      "array size: 255013683\n",
      "Shuffling by chunks: processed 0 lines.processed 31681021 lines.\n",
      "Wrote 1 temporary file(s).\n",
      "Merging temp files: processed 0 lines.31681021 lines.Merging temp files: processed 31681021 lines.\n",
      "\n",
      "TRAINING MODEL\n",
      "Read 31681021 lines.\n",
      "Initializing parameters...Using random seed 1614155270\n",
      "done.\n",
      "vector size: 100\n",
      "vocab size: 32431\n",
      "x_max: 10.000000\n",
      "alpha: 0.750000\n",
      "02/24/21 - 05:28.03AM, iter: 001, cost: 0.109002\n",
      "02/24/21 - 05:28.15AM, iter: 002, cost: 0.079065\n",
      "02/24/21 - 05:28.27AM, iter: 003, cost: 0.066286\n",
      "02/24/21 - 05:28.38AM, iter: 004, cost: 0.058625\n",
      "02/24/21 - 05:28.48AM, iter: 005, cost: 0.054256\n",
      "02/24/21 - 05:28.59AM, iter: 006, cost: 0.051633\n",
      "02/24/21 - 05:29.10AM, iter: 007, cost: 0.049922\n",
      "02/24/21 - 05:29.21AM, iter: 008, cost: 0.048716\n",
      "02/24/21 - 05:29.32AM, iter: 009, cost: 0.047771\n",
      "02/24/21 - 05:29.43AM, iter: 010, cost: 0.047038\n",
      "02/24/21 - 05:29.54AM, iter: 011, cost: 0.046455\n",
      "02/24/21 - 05:30.05AM, iter: 012, cost: 0.045955\n",
      "02/24/21 - 05:30.16AM, iter: 013, cost: 0.045534\n",
      "02/24/21 - 05:30.27AM, iter: 014, cost: 0.045162\n",
      "02/24/21 - 05:30.37AM, iter: 015, cost: 0.044848\n",
      "\n",
      "treinamento concluído\n"
     ]
    },
    {
     "name": "stderr",
     "output_type": "stream",
     "text": [
      "2021-02-24 05:30:39,049 : INFO : converting 32432 vectors from dados/experimento_1/glv_jur.txt to C:\\Users\\CRISTI~1\\AppData\\Local\\Temp\\test_word2vec.txt\n",
      "2021-02-24 05:30:39,120 : INFO : loading projection weights from C:\\Users\\CRISTI~1\\AppData\\Local\\Temp\\test_word2vec.txt\n",
      "2021-02-24 05:30:41,867 : INFO : loaded (32432, 100) matrix from C:\\Users\\CRISTI~1\\AppData\\Local\\Temp\\test_word2vec.txt\n",
      "2021-02-24 05:30:41,869 : INFO : loading projection weights from modelos/w2v_skip_nilc.txt\n",
      "2021-02-24 05:31:59,675 : INFO : loaded (929606, 100) matrix from modelos/w2v_skip_nilc.txt\n",
      "2021-02-24 05:31:59,676 : INFO : loading projection weights from modelos/ftt_skip_nilc.txt\n",
      "2021-02-24 05:33:17,825 : INFO : loaded (929605, 100) matrix from modelos/ftt_skip_nilc.txt\n",
      "2021-02-24 05:33:17,826 : INFO : loading projection weights from modelos/glove_nilc.txt\n",
      "2021-02-24 05:34:35,170 : INFO : loaded (929605, 100) matrix from modelos/glove_nilc.txt\n"
     ]
    },
    {
     "name": "stdout",
     "output_type": "stream",
     "text": [
      "recuperando teores da base de teste\n"
     ]
    },
    {
     "data": {
      "application/vnd.jupyter.widget-view+json": {
       "model_id": "271a1c858ea1449f9c3ea4fed09cca63",
       "version_major": 2,
       "version_minor": 0
      },
      "text/plain": [
       "HBox(children=(IntProgress(value=0, max=7006), HTML(value='')))"
      ]
     },
     "metadata": {},
     "output_type": "display_data"
    },
    {
     "name": "stdout",
     "output_type": "stream",
     "text": [
      "\n",
      "criando representações word2vec geral\n"
     ]
    },
    {
     "data": {
      "application/vnd.jupyter.widget-view+json": {
       "model_id": "5157b26822584e939330ba3147ea8c1b",
       "version_major": 2,
       "version_minor": 0
      },
      "text/plain": [
       "HBox(children=(IntProgress(value=0, max=7006), HTML(value='')))"
      ]
     },
     "metadata": {},
     "output_type": "display_data"
    },
    {
     "name": "stdout",
     "output_type": "stream",
     "text": [
      "\n",
      "criando representações fasttext geral\n"
     ]
    },
    {
     "data": {
      "application/vnd.jupyter.widget-view+json": {
       "model_id": "1183010750264338b2e60892f6a60a3e",
       "version_major": 2,
       "version_minor": 0
      },
      "text/plain": [
       "HBox(children=(IntProgress(value=0, max=7006), HTML(value='')))"
      ]
     },
     "metadata": {},
     "output_type": "display_data"
    },
    {
     "name": "stdout",
     "output_type": "stream",
     "text": [
      "\n",
      "criando representações glove geral\n"
     ]
    },
    {
     "data": {
      "application/vnd.jupyter.widget-view+json": {
       "model_id": "4134c5eefaf34a11aebce1d75037a6bf",
       "version_major": 2,
       "version_minor": 0
      },
      "text/plain": [
       "HBox(children=(IntProgress(value=0, max=7006), HTML(value='')))"
      ]
     },
     "metadata": {},
     "output_type": "display_data"
    },
    {
     "name": "stdout",
     "output_type": "stream",
     "text": [
      "\n",
      "criando representações word2vec juridico\n"
     ]
    },
    {
     "data": {
      "application/vnd.jupyter.widget-view+json": {
       "model_id": "7dcf4d2890f94fc186d3726af2194cd7",
       "version_major": 2,
       "version_minor": 0
      },
      "text/plain": [
       "HBox(children=(IntProgress(value=0, max=7006), HTML(value='')))"
      ]
     },
     "metadata": {},
     "output_type": "display_data"
    },
    {
     "name": "stdout",
     "output_type": "stream",
     "text": [
      "\n",
      "criando representações fasttext juridico\n"
     ]
    },
    {
     "data": {
      "application/vnd.jupyter.widget-view+json": {
       "model_id": "1ace8291a08f4158996495e31f277aff",
       "version_major": 2,
       "version_minor": 0
      },
      "text/plain": [
       "HBox(children=(IntProgress(value=0, max=7006), HTML(value='')))"
      ]
     },
     "metadata": {},
     "output_type": "display_data"
    },
    {
     "name": "stdout",
     "output_type": "stream",
     "text": [
      "\n",
      "criando representações glove juridico\n"
     ]
    },
    {
     "data": {
      "application/vnd.jupyter.widget-view+json": {
       "model_id": "a6274e05f4eb46dfa22483fb650b4ff4",
       "version_major": 2,
       "version_minor": 0
      },
      "text/plain": [
       "HBox(children=(IntProgress(value=0, max=7006), HTML(value='')))"
      ]
     },
     "metadata": {},
     "output_type": "display_data"
    },
    {
     "name": "stdout",
     "output_type": "stream",
     "text": [
      "\n",
      "----------- EXPERIMENTO 1 CONCLUIDO -----------\n",
      "tempo do experimento: 21.580405541261037 minutos\n",
      "----------------------- EXPERIMENTO 2 -----------------------\n",
      "criando base de treino para o experimento 2\n"
     ]
    },
    {
     "data": {
      "application/vnd.jupyter.widget-view+json": {
       "model_id": "05a03e1c669d445081730b28e093da4a",
       "version_major": 2,
       "version_minor": 0
      },
      "text/plain": [
       "HBox(children=(IntProgress(value=0, max=28021), HTML(value='')))"
      ]
     },
     "metadata": {},
     "output_type": "display_data"
    },
    {
     "name": "stdout",
     "output_type": "stream",
     "text": [
      "\n",
      "16076429 tokens copiados com sucesso\n",
      "preparando documentos para extração do vocabulário:\n"
     ]
    },
    {
     "data": {
      "application/vnd.jupyter.widget-view+json": {
       "model_id": "ce448efa3abd47669c83470387622f9a",
       "version_major": 2,
       "version_minor": 0
      },
      "text/plain": [
       "HBox(children=(IntProgress(value=0, max=28021), HTML(value='')))"
      ]
     },
     "metadata": {},
     "output_type": "display_data"
    },
    {
     "name": "stdout",
     "output_type": "stream",
     "text": [
      "\n",
      "extraindo termos com base no ICA\n"
     ]
    },
    {
     "data": {
      "application/vnd.jupyter.widget-view+json": {
       "model_id": "1a71844a2b794371b121c68a2a839b7b",
       "version_major": 2,
       "version_minor": 0
      },
      "text/plain": [
       "HBox(children=(IntProgress(value=0, max=125), HTML(value='')))"
      ]
     },
     "metadata": {},
     "output_type": "display_data"
    },
    {
     "name": "stdout",
     "output_type": "stream",
     "text": [
      "\n",
      "-processando strings do corpus\n",
      "-treinando vetorizador\n",
      "-ICA processado\n",
      "extraindo termos com base na frequência - geralmente leva menos de 4 minutos\n",
      "extraindo termos do tesauro\n",
      "extração de vocabulário concluída!\n",
      "treinando modelo word2vec\n"
     ]
    },
    {
     "name": "stderr",
     "output_type": "stream",
     "text": [
      "2021-02-24 05:38:16,687 : INFO : collecting all words and their counts\n",
      "2021-02-24 05:38:16,700 : INFO : PROGRESS: at sentence #0, processed 0 words, keeping 0 word types\n",
      "2021-02-24 05:38:16,765 : INFO : PROGRESS: at sentence #10000, processed 245331 words, keeping 13478 word types\n",
      "2021-02-24 05:38:16,832 : INFO : PROGRESS: at sentence #20000, processed 488322 words, keeping 19070 word types\n",
      "2021-02-24 05:38:16,900 : INFO : PROGRESS: at sentence #30000, processed 724592 words, keeping 22628 word types\n",
      "2021-02-24 05:38:16,965 : INFO : PROGRESS: at sentence #40000, processed 964220 words, keeping 25745 word types\n",
      "2021-02-24 05:38:17,033 : INFO : PROGRESS: at sentence #50000, processed 1210232 words, keeping 28355 word types\n",
      "2021-02-24 05:38:17,098 : INFO : PROGRESS: at sentence #60000, processed 1446427 words, keeping 30344 word types\n",
      "2021-02-24 05:38:17,165 : INFO : PROGRESS: at sentence #70000, processed 1689440 words, keeping 32429 word types\n",
      "2021-02-24 05:38:17,232 : INFO : PROGRESS: at sentence #80000, processed 1931968 words, keeping 34367 word types\n",
      "2021-02-24 05:38:17,299 : INFO : PROGRESS: at sentence #90000, processed 2179422 words, keeping 36184 word types\n",
      "2021-02-24 05:38:17,366 : INFO : PROGRESS: at sentence #100000, processed 2422826 words, keeping 37676 word types\n",
      "2021-02-24 05:38:17,433 : INFO : PROGRESS: at sentence #110000, processed 2663838 words, keeping 39192 word types\n",
      "2021-02-24 05:38:17,499 : INFO : PROGRESS: at sentence #120000, processed 2904322 words, keeping 40537 word types\n",
      "2021-02-24 05:38:17,568 : INFO : PROGRESS: at sentence #130000, processed 3151294 words, keeping 41927 word types\n",
      "2021-02-24 05:38:17,635 : INFO : PROGRESS: at sentence #140000, processed 3389800 words, keeping 43176 word types\n",
      "2021-02-24 05:38:17,703 : INFO : PROGRESS: at sentence #150000, processed 3638862 words, keeping 44492 word types\n",
      "2021-02-24 05:38:17,771 : INFO : PROGRESS: at sentence #160000, processed 3887204 words, keeping 45668 word types\n",
      "2021-02-24 05:38:17,835 : INFO : PROGRESS: at sentence #170000, processed 4119285 words, keeping 46794 word types\n",
      "2021-02-24 05:38:17,902 : INFO : PROGRESS: at sentence #180000, processed 4365382 words, keeping 48013 word types\n",
      "2021-02-24 05:38:17,968 : INFO : PROGRESS: at sentence #190000, processed 4605362 words, keeping 49089 word types\n",
      "2021-02-24 05:38:18,035 : INFO : PROGRESS: at sentence #200000, processed 4849894 words, keeping 50135 word types\n",
      "2021-02-24 05:38:18,101 : INFO : PROGRESS: at sentence #210000, processed 5089304 words, keeping 51124 word types\n",
      "2021-02-24 05:38:18,167 : INFO : PROGRESS: at sentence #220000, processed 5332821 words, keeping 52174 word types\n",
      "2021-02-24 05:38:18,233 : INFO : PROGRESS: at sentence #230000, processed 5572953 words, keeping 53083 word types\n",
      "2021-02-24 05:38:18,299 : INFO : PROGRESS: at sentence #240000, processed 5810059 words, keeping 53949 word types\n",
      "2021-02-24 05:38:18,363 : INFO : PROGRESS: at sentence #250000, processed 6048632 words, keeping 54860 word types\n",
      "2021-02-24 05:38:18,431 : INFO : PROGRESS: at sentence #260000, processed 6290250 words, keeping 55678 word types\n",
      "2021-02-24 05:38:18,496 : INFO : PROGRESS: at sentence #270000, processed 6530883 words, keeping 56581 word types\n",
      "2021-02-24 05:38:18,564 : INFO : PROGRESS: at sentence #280000, processed 6772366 words, keeping 57318 word types\n",
      "2021-02-24 05:38:18,629 : INFO : PROGRESS: at sentence #290000, processed 7014271 words, keeping 58117 word types\n",
      "2021-02-24 05:38:18,693 : INFO : PROGRESS: at sentence #300000, processed 7251093 words, keeping 58901 word types\n",
      "2021-02-24 05:38:18,759 : INFO : PROGRESS: at sentence #310000, processed 7492856 words, keeping 59695 word types\n",
      "2021-02-24 05:38:18,826 : INFO : PROGRESS: at sentence #320000, processed 7737288 words, keeping 60459 word types\n",
      "2021-02-24 05:38:18,893 : INFO : PROGRESS: at sentence #330000, processed 7978935 words, keeping 61166 word types\n",
      "2021-02-24 05:38:18,962 : INFO : PROGRESS: at sentence #340000, processed 8214471 words, keeping 61975 word types\n",
      "2021-02-24 05:38:19,029 : INFO : PROGRESS: at sentence #350000, processed 8451177 words, keeping 62720 word types\n",
      "2021-02-24 05:38:19,096 : INFO : PROGRESS: at sentence #360000, processed 8692036 words, keeping 63616 word types\n",
      "2021-02-24 05:38:19,162 : INFO : PROGRESS: at sentence #370000, processed 8933126 words, keeping 64413 word types\n",
      "2021-02-24 05:38:19,228 : INFO : PROGRESS: at sentence #380000, processed 9178271 words, keeping 65138 word types\n",
      "2021-02-24 05:38:19,296 : INFO : PROGRESS: at sentence #390000, processed 9423826 words, keeping 65858 word types\n",
      "2021-02-24 05:38:19,363 : INFO : PROGRESS: at sentence #400000, processed 9671238 words, keeping 66607 word types\n",
      "2021-02-24 05:38:19,431 : INFO : PROGRESS: at sentence #410000, processed 9924757 words, keeping 67382 word types\n",
      "2021-02-24 05:38:19,497 : INFO : PROGRESS: at sentence #420000, processed 10167182 words, keeping 68042 word types\n",
      "2021-02-24 05:38:19,561 : INFO : PROGRESS: at sentence #430000, processed 10399858 words, keeping 68698 word types\n",
      "2021-02-24 05:38:19,626 : INFO : PROGRESS: at sentence #440000, processed 10636928 words, keeping 69313 word types\n",
      "2021-02-24 05:38:19,691 : INFO : PROGRESS: at sentence #450000, processed 10874385 words, keeping 69848 word types\n",
      "2021-02-24 05:38:19,759 : INFO : PROGRESS: at sentence #460000, processed 11121255 words, keeping 70495 word types\n",
      "2021-02-24 05:38:19,824 : INFO : PROGRESS: at sentence #470000, processed 11362636 words, keeping 71248 word types\n",
      "2021-02-24 05:38:19,891 : INFO : PROGRESS: at sentence #480000, processed 11604002 words, keeping 71930 word types\n",
      "2021-02-24 05:38:19,958 : INFO : PROGRESS: at sentence #490000, processed 11849722 words, keeping 72522 word types\n",
      "2021-02-24 05:38:20,024 : INFO : PROGRESS: at sentence #500000, processed 12092845 words, keeping 73106 word types\n",
      "2021-02-24 05:38:20,091 : INFO : PROGRESS: at sentence #510000, processed 12329334 words, keeping 73640 word types\n",
      "2021-02-24 05:38:20,156 : INFO : PROGRESS: at sentence #520000, processed 12566409 words, keeping 74308 word types\n",
      "2021-02-24 05:38:20,223 : INFO : PROGRESS: at sentence #530000, processed 12811792 words, keeping 74944 word types\n",
      "2021-02-24 05:38:20,290 : INFO : PROGRESS: at sentence #540000, processed 13054650 words, keeping 75693 word types\n",
      "2021-02-24 05:38:20,357 : INFO : PROGRESS: at sentence #550000, processed 13300287 words, keeping 76208 word types\n",
      "2021-02-24 05:38:20,424 : INFO : PROGRESS: at sentence #560000, processed 13544014 words, keeping 76788 word types\n",
      "2021-02-24 05:38:20,492 : INFO : PROGRESS: at sentence #570000, processed 13789455 words, keeping 77294 word types\n",
      "2021-02-24 05:38:20,559 : INFO : PROGRESS: at sentence #580000, processed 14036450 words, keeping 77819 word types\n",
      "2021-02-24 05:38:20,627 : INFO : PROGRESS: at sentence #590000, processed 14285920 words, keeping 78345 word types\n",
      "2021-02-24 05:38:20,694 : INFO : PROGRESS: at sentence #600000, processed 14529297 words, keeping 78928 word types\n",
      "2021-02-24 05:38:20,762 : INFO : PROGRESS: at sentence #610000, processed 14773663 words, keeping 79538 word types\n",
      "2021-02-24 05:38:20,829 : INFO : PROGRESS: at sentence #620000, processed 15022079 words, keeping 80075 word types\n",
      "2021-02-24 05:38:20,897 : INFO : PROGRESS: at sentence #630000, processed 15269684 words, keeping 80630 word types\n",
      "2021-02-24 05:38:20,938 : INFO : collected 80933 word types from a corpus of 15420418 raw words and 636274 sentences\n",
      "2021-02-24 05:38:20,938 : INFO : Loading a fresh vocabulary\n",
      "2021-02-24 05:38:20,991 : INFO : effective_min_count=5 retains 32490 unique words (40% of original 80933, drops 48443)\n",
      "2021-02-24 05:38:20,992 : INFO : effective_min_count=5 leaves 15338587 word corpus (99% of original 15420418, drops 81831)\n",
      "2021-02-24 05:38:21,075 : INFO : deleting the raw counts dictionary of 80933 items\n",
      "2021-02-24 05:38:21,078 : INFO : sample=1e-05 downsamples 3222 most-common words\n",
      "2021-02-24 05:38:21,078 : INFO : downsampling leaves estimated 3705075 word corpus (24.2% of prior 15338587)\n",
      "2021-02-24 05:38:21,100 : INFO : constructing a huffman tree from 32490 words\n",
      "2021-02-24 05:38:21,730 : INFO : built huffman tree with maximum node depth 22\n"
     ]
    },
    {
     "name": "stderr",
     "output_type": "stream",
     "text": [
      "2021-02-24 05:38:21,780 : INFO : estimated required memory for 32490 words and 100 dimensions: 61731000 bytes\n",
      "2021-02-24 05:38:21,780 : INFO : resetting layer weights\n",
      "2021-02-24 05:38:22,094 : INFO : training model with 12 workers on 32490 vocabulary and 100 features, using sg=1 hs=1 sample=1e-05 negative=5 window=5\n",
      "2021-02-24 05:38:23,108 : INFO : EPOCH 1 - PROGRESS: at 9.64% examples, 353978 words/s, in_qsize 0, out_qsize 1\n",
      "2021-02-24 05:38:24,111 : INFO : EPOCH 1 - PROGRESS: at 18.92% examples, 349199 words/s, in_qsize 4, out_qsize 3\n",
      "2021-02-24 05:38:25,120 : INFO : EPOCH 1 - PROGRESS: at 28.20% examples, 346946 words/s, in_qsize 12, out_qsize 0\n",
      "2021-02-24 05:38:26,122 : INFO : EPOCH 1 - PROGRESS: at 38.24% examples, 352347 words/s, in_qsize 0, out_qsize 0\n",
      "2021-02-24 05:38:27,127 : INFO : EPOCH 1 - PROGRESS: at 47.30% examples, 347916 words/s, in_qsize 0, out_qsize 0\n",
      "2021-02-24 05:38:28,136 : INFO : EPOCH 1 - PROGRESS: at 56.33% examples, 344127 words/s, in_qsize 14, out_qsize 1\n",
      "2021-02-24 05:38:29,140 : INFO : EPOCH 1 - PROGRESS: at 65.06% examples, 341725 words/s, in_qsize 22, out_qsize 1\n",
      "2021-02-24 05:38:30,141 : INFO : EPOCH 1 - PROGRESS: at 75.30% examples, 346250 words/s, in_qsize 0, out_qsize 0\n",
      "2021-02-24 05:38:31,148 : INFO : EPOCH 1 - PROGRESS: at 84.06% examples, 343637 words/s, in_qsize 0, out_qsize 0\n",
      "2021-02-24 05:38:32,155 : INFO : EPOCH 1 - PROGRESS: at 92.99% examples, 342354 words/s, in_qsize 19, out_qsize 0\n",
      "2021-02-24 05:38:32,856 : INFO : worker thread finished; awaiting finish of 11 more threads\n",
      "2021-02-24 05:38:32,859 : INFO : worker thread finished; awaiting finish of 10 more threads\n",
      "2021-02-24 05:38:32,860 : INFO : worker thread finished; awaiting finish of 9 more threads\n",
      "2021-02-24 05:38:32,867 : INFO : worker thread finished; awaiting finish of 8 more threads\n",
      "2021-02-24 05:38:32,877 : INFO : worker thread finished; awaiting finish of 7 more threads\n",
      "2021-02-24 05:38:32,881 : INFO : worker thread finished; awaiting finish of 6 more threads\n",
      "2021-02-24 05:38:32,883 : INFO : worker thread finished; awaiting finish of 5 more threads\n",
      "2021-02-24 05:38:32,885 : INFO : worker thread finished; awaiting finish of 4 more threads\n",
      "2021-02-24 05:38:32,889 : INFO : worker thread finished; awaiting finish of 3 more threads\n",
      "2021-02-24 05:38:32,891 : INFO : worker thread finished; awaiting finish of 2 more threads\n",
      "2021-02-24 05:38:32,897 : INFO : worker thread finished; awaiting finish of 1 more threads\n",
      "2021-02-24 05:38:32,904 : INFO : worker thread finished; awaiting finish of 0 more threads\n",
      "2021-02-24 05:38:32,905 : INFO : EPOCH - 1 : training on 15420418 raw words (3704196 effective words) took 10.8s, 342830 effective words/s\n",
      "2021-02-24 05:38:33,924 : INFO : EPOCH 2 - PROGRESS: at 9.24% examples, 337227 words/s, in_qsize 0, out_qsize 2\n",
      "2021-02-24 05:38:34,924 : INFO : EPOCH 2 - PROGRESS: at 18.29% examples, 337053 words/s, in_qsize 0, out_qsize 0\n",
      "2021-02-24 05:38:35,936 : INFO : EPOCH 2 - PROGRESS: at 27.17% examples, 333848 words/s, in_qsize 23, out_qsize 0\n",
      "2021-02-24 05:38:36,971 : INFO : EPOCH 2 - PROGRESS: at 36.29% examples, 332503 words/s, in_qsize 23, out_qsize 0\n",
      "2021-02-24 05:38:37,994 : INFO : EPOCH 2 - PROGRESS: at 46.15% examples, 336483 words/s, in_qsize 22, out_qsize 1\n",
      "2021-02-24 05:38:38,995 : INFO : EPOCH 2 - PROGRESS: at 55.65% examples, 337861 words/s, in_qsize 1, out_qsize 0\n",
      "2021-02-24 05:38:40,002 : INFO : EPOCH 2 - PROGRESS: at 65.06% examples, 339532 words/s, in_qsize 0, out_qsize 0\n",
      "2021-02-24 05:38:41,016 : INFO : EPOCH 2 - PROGRESS: at 73.61% examples, 336007 words/s, in_qsize 23, out_qsize 0\n",
      "2021-02-24 05:38:42,025 : INFO : EPOCH 2 - PROGRESS: at 83.61% examples, 339326 words/s, in_qsize 0, out_qsize 0\n",
      "2021-02-24 05:38:43,026 : INFO : EPOCH 2 - PROGRESS: at 91.61% examples, 335277 words/s, in_qsize 0, out_qsize 1\n",
      "2021-02-24 05:38:43,923 : INFO : worker thread finished; awaiting finish of 11 more threads\n",
      "2021-02-24 05:38:43,925 : INFO : worker thread finished; awaiting finish of 10 more threads\n",
      "2021-02-24 05:38:43,926 : INFO : worker thread finished; awaiting finish of 9 more threads\n",
      "2021-02-24 05:38:43,927 : INFO : worker thread finished; awaiting finish of 8 more threads\n",
      "2021-02-24 05:38:43,929 : INFO : worker thread finished; awaiting finish of 7 more threads\n",
      "2021-02-24 05:38:43,930 : INFO : worker thread finished; awaiting finish of 6 more threads\n",
      "2021-02-24 05:38:43,930 : INFO : worker thread finished; awaiting finish of 5 more threads\n",
      "2021-02-24 05:38:43,933 : INFO : worker thread finished; awaiting finish of 4 more threads\n",
      "2021-02-24 05:38:43,938 : INFO : worker thread finished; awaiting finish of 3 more threads\n",
      "2021-02-24 05:38:43,943 : INFO : worker thread finished; awaiting finish of 2 more threads\n",
      "2021-02-24 05:38:43,948 : INFO : worker thread finished; awaiting finish of 1 more threads\n",
      "2021-02-24 05:38:43,950 : INFO : worker thread finished; awaiting finish of 0 more threads\n",
      "2021-02-24 05:38:43,951 : INFO : EPOCH - 2 : training on 15420418 raw words (3705985 effective words) took 11.0s, 335607 effective words/s\n",
      "2021-02-24 05:38:44,958 : INFO : EPOCH 3 - PROGRESS: at 7.78% examples, 289976 words/s, in_qsize 0, out_qsize 0\n",
      "2021-02-24 05:38:45,962 : INFO : EPOCH 3 - PROGRESS: at 16.40% examples, 302887 words/s, in_qsize 19, out_qsize 2\n",
      "2021-02-24 05:38:46,976 : INFO : EPOCH 3 - PROGRESS: at 26.47% examples, 325200 words/s, in_qsize 0, out_qsize 1\n",
      "2021-02-24 05:38:47,980 : INFO : EPOCH 3 - PROGRESS: at 34.15% examples, 314917 words/s, in_qsize 1, out_qsize 0\n",
      "2021-02-24 05:38:48,996 : INFO : EPOCH 3 - PROGRESS: at 43.05% examples, 316230 words/s, in_qsize 11, out_qsize 0\n",
      "2021-02-24 05:38:50,003 : INFO : EPOCH 3 - PROGRESS: at 52.01% examples, 317632 words/s, in_qsize 19, out_qsize 2\n",
      "2021-02-24 05:38:51,007 : INFO : EPOCH 3 - PROGRESS: at 61.12% examples, 319957 words/s, in_qsize 12, out_qsize 2\n",
      "2021-02-24 05:38:52,010 : INFO : EPOCH 3 - PROGRESS: at 70.00% examples, 320870 words/s, in_qsize 15, out_qsize 1\n",
      "2021-02-24 05:38:53,013 : INFO : EPOCH 3 - PROGRESS: at 78.84% examples, 321481 words/s, in_qsize 16, out_qsize 2\n",
      "2021-02-24 05:38:54,020 : INFO : EPOCH 3 - PROGRESS: at 88.16% examples, 323935 words/s, in_qsize 0, out_qsize 0\n",
      "2021-02-24 05:38:55,051 : INFO : EPOCH 3 - PROGRESS: at 96.38% examples, 321452 words/s, in_qsize 7, out_qsize 7\n",
      "2021-02-24 05:38:55,360 : INFO : worker thread finished; awaiting finish of 11 more threads\n",
      "2021-02-24 05:38:55,365 : INFO : worker thread finished; awaiting finish of 10 more threads\n",
      "2021-02-24 05:38:55,366 : INFO : worker thread finished; awaiting finish of 9 more threads\n",
      "2021-02-24 05:38:55,369 : INFO : worker thread finished; awaiting finish of 8 more threads\n",
      "2021-02-24 05:38:55,372 : INFO : worker thread finished; awaiting finish of 7 more threads\n",
      "2021-02-24 05:38:55,376 : INFO : worker thread finished; awaiting finish of 6 more threads\n",
      "2021-02-24 05:38:55,379 : INFO : worker thread finished; awaiting finish of 5 more threads\n",
      "2021-02-24 05:38:55,386 : INFO : worker thread finished; awaiting finish of 4 more threads\n",
      "2021-02-24 05:38:55,388 : INFO : worker thread finished; awaiting finish of 3 more threads\n",
      "2021-02-24 05:38:55,395 : INFO : worker thread finished; awaiting finish of 2 more threads\n",
      "2021-02-24 05:38:55,401 : INFO : worker thread finished; awaiting finish of 1 more threads\n",
      "2021-02-24 05:38:55,402 : INFO : worker thread finished; awaiting finish of 0 more threads\n",
      "2021-02-24 05:38:55,403 : INFO : EPOCH - 3 : training on 15420418 raw words (3702348 effective words) took 11.4s, 323411 effective words/s\n",
      "2021-02-24 05:38:56,418 : INFO : EPOCH 4 - PROGRESS: at 8.59% examples, 316182 words/s, in_qsize 0, out_qsize 0\n",
      "2021-02-24 05:38:57,421 : INFO : EPOCH 4 - PROGRESS: at 18.09% examples, 333699 words/s, in_qsize 1, out_qsize 0\n",
      "2021-02-24 05:38:58,433 : INFO : EPOCH 4 - PROGRESS: at 26.65% examples, 327228 words/s, in_qsize 2, out_qsize 0\n",
      "2021-02-24 05:38:59,447 : INFO : EPOCH 4 - PROGRESS: at 36.24% examples, 333355 words/s, in_qsize 0, out_qsize 1\n",
      "2021-02-24 05:39:00,452 : INFO : EPOCH 4 - PROGRESS: at 45.25% examples, 332305 words/s, in_qsize 0, out_qsize 1\n",
      "2021-02-24 05:39:01,464 : INFO : EPOCH 4 - PROGRESS: at 54.60% examples, 333018 words/s, in_qsize 21, out_qsize 0\n"
     ]
    },
    {
     "name": "stderr",
     "output_type": "stream",
     "text": [
      "2021-02-24 05:39:02,467 : INFO : EPOCH 4 - PROGRESS: at 63.65% examples, 333578 words/s, in_qsize 0, out_qsize 0\n",
      "2021-02-24 05:39:03,471 : INFO : EPOCH 4 - PROGRESS: at 71.95% examples, 329839 words/s, in_qsize 16, out_qsize 2\n",
      "2021-02-24 05:39:04,488 : INFO : EPOCH 4 - PROGRESS: at 81.83% examples, 333094 words/s, in_qsize 0, out_qsize 0\n",
      "2021-02-24 05:39:05,498 : INFO : EPOCH 4 - PROGRESS: at 90.54% examples, 332190 words/s, in_qsize 24, out_qsize 0\n",
      "2021-02-24 05:39:06,453 : INFO : worker thread finished; awaiting finish of 11 more threads\n",
      "2021-02-24 05:39:06,454 : INFO : worker thread finished; awaiting finish of 10 more threads\n",
      "2021-02-24 05:39:06,456 : INFO : worker thread finished; awaiting finish of 9 more threads\n",
      "2021-02-24 05:39:06,457 : INFO : worker thread finished; awaiting finish of 8 more threads\n",
      "2021-02-24 05:39:06,458 : INFO : worker thread finished; awaiting finish of 7 more threads\n",
      "2021-02-24 05:39:06,460 : INFO : worker thread finished; awaiting finish of 6 more threads\n",
      "2021-02-24 05:39:06,461 : INFO : worker thread finished; awaiting finish of 5 more threads\n",
      "2021-02-24 05:39:06,462 : INFO : worker thread finished; awaiting finish of 4 more threads\n",
      "2021-02-24 05:39:06,473 : INFO : worker thread finished; awaiting finish of 3 more threads\n",
      "2021-02-24 05:39:06,478 : INFO : worker thread finished; awaiting finish of 2 more threads\n",
      "2021-02-24 05:39:06,481 : INFO : worker thread finished; awaiting finish of 1 more threads\n",
      "2021-02-24 05:39:06,488 : INFO : worker thread finished; awaiting finish of 0 more threads\n",
      "2021-02-24 05:39:06,489 : INFO : EPOCH - 4 : training on 15420418 raw words (3706781 effective words) took 11.1s, 334497 effective words/s\n",
      "2021-02-24 05:39:07,495 : INFO : EPOCH 5 - PROGRESS: at 8.91% examples, 330257 words/s, in_qsize 0, out_qsize 0\n",
      "2021-02-24 05:39:08,514 : INFO : EPOCH 5 - PROGRESS: at 17.70% examples, 325045 words/s, in_qsize 15, out_qsize 1\n",
      "2021-02-24 05:39:09,517 : INFO : EPOCH 5 - PROGRESS: at 26.91% examples, 330727 words/s, in_qsize 16, out_qsize 0\n",
      "2021-02-24 05:39:10,524 : INFO : EPOCH 5 - PROGRESS: at 36.52% examples, 336477 words/s, in_qsize 0, out_qsize 1\n",
      "2021-02-24 05:39:11,524 : INFO : EPOCH 5 - PROGRESS: at 45.12% examples, 331993 words/s, in_qsize 0, out_qsize 1\n",
      "2021-02-24 05:39:12,538 : INFO : EPOCH 5 - PROGRESS: at 54.83% examples, 334860 words/s, in_qsize 0, out_qsize 1\n",
      "2021-02-24 05:39:13,548 : INFO : EPOCH 5 - PROGRESS: at 63.90% examples, 335303 words/s, in_qsize 11, out_qsize 0\n",
      "2021-02-24 05:39:14,550 : INFO : EPOCH 5 - PROGRESS: at 73.31% examples, 336678 words/s, in_qsize 0, out_qsize 0\n",
      "2021-02-24 05:39:15,571 : INFO : EPOCH 5 - PROGRESS: at 82.14% examples, 334706 words/s, in_qsize 23, out_qsize 0\n",
      "2021-02-24 05:39:16,571 : INFO : EPOCH 5 - PROGRESS: at 91.73% examples, 337263 words/s, in_qsize 0, out_qsize 1\n",
      "2021-02-24 05:39:17,421 : INFO : worker thread finished; awaiting finish of 11 more threads\n",
      "2021-02-24 05:39:17,424 : INFO : worker thread finished; awaiting finish of 10 more threads\n",
      "2021-02-24 05:39:17,426 : INFO : worker thread finished; awaiting finish of 9 more threads\n",
      "2021-02-24 05:39:17,433 : INFO : worker thread finished; awaiting finish of 8 more threads\n",
      "2021-02-24 05:39:17,445 : INFO : worker thread finished; awaiting finish of 7 more threads\n",
      "2021-02-24 05:39:17,446 : INFO : worker thread finished; awaiting finish of 6 more threads\n",
      "2021-02-24 05:39:17,446 : INFO : worker thread finished; awaiting finish of 5 more threads\n",
      "2021-02-24 05:39:17,451 : INFO : worker thread finished; awaiting finish of 4 more threads\n",
      "2021-02-24 05:39:17,455 : INFO : worker thread finished; awaiting finish of 3 more threads\n",
      "2021-02-24 05:39:17,457 : INFO : worker thread finished; awaiting finish of 2 more threads\n",
      "2021-02-24 05:39:17,460 : INFO : worker thread finished; awaiting finish of 1 more threads\n",
      "2021-02-24 05:39:17,464 : INFO : worker thread finished; awaiting finish of 0 more threads\n",
      "2021-02-24 05:39:17,465 : INFO : EPOCH - 5 : training on 15420418 raw words (3707823 effective words) took 11.0s, 337942 effective words/s\n",
      "2021-02-24 05:39:18,475 : INFO : EPOCH 6 - PROGRESS: at 8.19% examples, 303603 words/s, in_qsize 18, out_qsize 0\n",
      "2021-02-24 05:39:19,499 : INFO : EPOCH 6 - PROGRESS: at 17.57% examples, 321116 words/s, in_qsize 18, out_qsize 0\n",
      "2021-02-24 05:39:20,503 : INFO : EPOCH 6 - PROGRESS: at 26.53% examples, 324534 words/s, in_qsize 13, out_qsize 1\n",
      "2021-02-24 05:39:21,508 : INFO : EPOCH 6 - PROGRESS: at 35.26% examples, 324252 words/s, in_qsize 13, out_qsize 3\n",
      "2021-02-24 05:39:22,510 : INFO : EPOCH 6 - PROGRESS: at 45.05% examples, 330882 words/s, in_qsize 0, out_qsize 0\n",
      "2021-02-24 05:39:23,517 : INFO : EPOCH 6 - PROGRESS: at 54.34% examples, 331758 words/s, in_qsize 0, out_qsize 0\n",
      "2021-02-24 05:39:24,519 : INFO : EPOCH 6 - PROGRESS: at 63.48% examples, 332721 words/s, in_qsize 0, out_qsize 0\n",
      "2021-02-24 05:39:25,534 : INFO : EPOCH 6 - PROGRESS: at 72.73% examples, 333299 words/s, in_qsize 0, out_qsize 3\n",
      "2021-02-24 05:39:26,533 : INFO : EPOCH 6 - PROGRESS: at 81.70% examples, 332894 words/s, in_qsize 7, out_qsize 0\n",
      "2021-02-24 05:39:27,541 : INFO : EPOCH 6 - PROGRESS: at 90.67% examples, 332959 words/s, in_qsize 1, out_qsize 1\n",
      "2021-02-24 05:39:28,492 : INFO : worker thread finished; awaiting finish of 11 more threads\n",
      "2021-02-24 05:39:28,494 : INFO : worker thread finished; awaiting finish of 10 more threads\n",
      "2021-02-24 05:39:28,496 : INFO : worker thread finished; awaiting finish of 9 more threads\n",
      "2021-02-24 05:39:28,497 : INFO : worker thread finished; awaiting finish of 8 more threads\n",
      "2021-02-24 05:39:28,498 : INFO : worker thread finished; awaiting finish of 7 more threads\n",
      "2021-02-24 05:39:28,500 : INFO : worker thread finished; awaiting finish of 6 more threads\n",
      "2021-02-24 05:39:28,501 : INFO : worker thread finished; awaiting finish of 5 more threads\n",
      "2021-02-24 05:39:28,503 : INFO : worker thread finished; awaiting finish of 4 more threads\n",
      "2021-02-24 05:39:28,508 : INFO : worker thread finished; awaiting finish of 3 more threads\n",
      "2021-02-24 05:39:28,511 : INFO : worker thread finished; awaiting finish of 2 more threads\n",
      "2021-02-24 05:39:28,521 : INFO : worker thread finished; awaiting finish of 1 more threads\n",
      "2021-02-24 05:39:28,525 : INFO : worker thread finished; awaiting finish of 0 more threads\n",
      "2021-02-24 05:39:28,526 : INFO : EPOCH - 6 : training on 15420418 raw words (3702086 effective words) took 11.1s, 334889 effective words/s\n",
      "2021-02-24 05:39:29,531 : INFO : EPOCH 7 - PROGRESS: at 9.17% examples, 340632 words/s, in_qsize 0, out_qsize 0\n",
      "2021-02-24 05:39:30,534 : INFO : EPOCH 7 - PROGRESS: at 18.09% examples, 335354 words/s, in_qsize 0, out_qsize 0\n",
      "2021-02-24 05:39:31,543 : INFO : EPOCH 7 - PROGRESS: at 27.39% examples, 337613 words/s, in_qsize 0, out_qsize 0\n",
      "2021-02-24 05:39:32,545 : INFO : EPOCH 7 - PROGRESS: at 36.58% examples, 338596 words/s, in_qsize 0, out_qsize 1\n",
      "2021-02-24 05:39:33,547 : INFO : EPOCH 7 - PROGRESS: at 46.02% examples, 339660 words/s, in_qsize 0, out_qsize 1\n",
      "2021-02-24 05:39:34,551 : INFO : EPOCH 7 - PROGRESS: at 54.55% examples, 334573 words/s, in_qsize 16, out_qsize 3\n",
      "2021-02-24 05:39:35,553 : INFO : EPOCH 7 - PROGRESS: at 64.09% examples, 337567 words/s, in_qsize 0, out_qsize 0\n",
      "2021-02-24 05:39:36,555 : INFO : EPOCH 7 - PROGRESS: at 73.17% examples, 337164 words/s, in_qsize 11, out_qsize 1\n",
      "2021-02-24 05:39:37,559 : INFO : EPOCH 7 - PROGRESS: at 82.73% examples, 338673 words/s, in_qsize 0, out_qsize 1\n",
      "2021-02-24 05:39:38,610 : INFO : EPOCH 7 - PROGRESS: at 91.11% examples, 334544 words/s, in_qsize 23, out_qsize 0\n",
      "2021-02-24 05:39:39,451 : INFO : worker thread finished; awaiting finish of 11 more threads\n",
      "2021-02-24 05:39:39,453 : INFO : worker thread finished; awaiting finish of 10 more threads\n",
      "2021-02-24 05:39:39,482 : INFO : worker thread finished; awaiting finish of 9 more threads\n",
      "2021-02-24 05:39:39,484 : INFO : worker thread finished; awaiting finish of 8 more threads\n",
      "2021-02-24 05:39:39,489 : INFO : worker thread finished; awaiting finish of 7 more threads\n",
      "2021-02-24 05:39:39,490 : INFO : worker thread finished; awaiting finish of 6 more threads\n",
      "2021-02-24 05:39:39,496 : INFO : worker thread finished; awaiting finish of 5 more threads\n",
      "2021-02-24 05:39:39,498 : INFO : worker thread finished; awaiting finish of 4 more threads\n"
     ]
    },
    {
     "name": "stderr",
     "output_type": "stream",
     "text": [
      "2021-02-24 05:39:39,499 : INFO : worker thread finished; awaiting finish of 3 more threads\n",
      "2021-02-24 05:39:39,500 : INFO : worker thread finished; awaiting finish of 2 more threads\n",
      "2021-02-24 05:39:39,502 : INFO : worker thread finished; awaiting finish of 1 more threads\n",
      "2021-02-24 05:39:39,503 : INFO : worker thread finished; awaiting finish of 0 more threads\n",
      "2021-02-24 05:39:39,506 : INFO : EPOCH - 7 : training on 15420418 raw words (3705470 effective words) took 11.0s, 337582 effective words/s\n",
      "2021-02-24 05:39:40,523 : INFO : EPOCH 8 - PROGRESS: at 9.17% examples, 336871 words/s, in_qsize 0, out_qsize 0\n",
      "2021-02-24 05:39:41,551 : INFO : EPOCH 8 - PROGRESS: at 17.36% examples, 316566 words/s, in_qsize 23, out_qsize 0\n",
      "2021-02-24 05:39:42,556 : INFO : EPOCH 8 - PROGRESS: at 27.31% examples, 333238 words/s, in_qsize 0, out_qsize 0\n",
      "2021-02-24 05:39:43,565 : INFO : EPOCH 8 - PROGRESS: at 35.97% examples, 329699 words/s, in_qsize 22, out_qsize 1\n",
      "2021-02-24 05:39:44,568 : INFO : EPOCH 8 - PROGRESS: at 45.77% examples, 335201 words/s, in_qsize 0, out_qsize 0\n",
      "2021-02-24 05:39:45,569 : INFO : EPOCH 8 - PROGRESS: at 54.46% examples, 332257 words/s, in_qsize 15, out_qsize 0\n",
      "2021-02-24 05:39:46,577 : INFO : EPOCH 8 - PROGRESS: at 63.78% examples, 333921 words/s, in_qsize 0, out_qsize 0\n",
      "2021-02-24 05:39:47,592 : INFO : EPOCH 8 - PROGRESS: at 73.24% examples, 335131 words/s, in_qsize 0, out_qsize 0\n",
      "2021-02-24 05:39:48,606 : INFO : EPOCH 8 - PROGRESS: at 82.39% examples, 334853 words/s, in_qsize 8, out_qsize 1\n",
      "2021-02-24 05:39:49,616 : INFO : EPOCH 8 - PROGRESS: at 91.55% examples, 335290 words/s, in_qsize 3, out_qsize 0\n",
      "2021-02-24 05:39:50,494 : INFO : worker thread finished; awaiting finish of 11 more threads\n",
      "2021-02-24 05:39:50,500 : INFO : worker thread finished; awaiting finish of 10 more threads\n",
      "2021-02-24 05:39:50,501 : INFO : worker thread finished; awaiting finish of 9 more threads\n",
      "2021-02-24 05:39:50,513 : INFO : worker thread finished; awaiting finish of 8 more threads\n",
      "2021-02-24 05:39:50,516 : INFO : worker thread finished; awaiting finish of 7 more threads\n",
      "2021-02-24 05:39:50,521 : INFO : worker thread finished; awaiting finish of 6 more threads\n",
      "2021-02-24 05:39:50,523 : INFO : worker thread finished; awaiting finish of 5 more threads\n",
      "2021-02-24 05:39:50,532 : INFO : worker thread finished; awaiting finish of 4 more threads\n",
      "2021-02-24 05:39:50,534 : INFO : worker thread finished; awaiting finish of 3 more threads\n",
      "2021-02-24 05:39:50,536 : INFO : worker thread finished; awaiting finish of 2 more threads\n",
      "2021-02-24 05:39:50,537 : INFO : worker thread finished; awaiting finish of 1 more threads\n",
      "2021-02-24 05:39:50,543 : INFO : worker thread finished; awaiting finish of 0 more threads\n",
      "2021-02-24 05:39:50,544 : INFO : EPOCH - 8 : training on 15420418 raw words (3703815 effective words) took 11.0s, 335730 effective words/s\n",
      "2021-02-24 05:39:51,574 : INFO : EPOCH 9 - PROGRESS: at 8.91% examples, 323314 words/s, in_qsize 2, out_qsize 1\n",
      "2021-02-24 05:39:52,595 : INFO : EPOCH 9 - PROGRESS: at 18.23% examples, 330630 words/s, in_qsize 0, out_qsize 0\n",
      "2021-02-24 05:39:53,605 : INFO : EPOCH 9 - PROGRESS: at 27.58% examples, 335009 words/s, in_qsize 1, out_qsize 1\n",
      "2021-02-24 05:39:54,606 : INFO : EPOCH 9 - PROGRESS: at 36.52% examples, 334518 words/s, in_qsize 1, out_qsize 0\n",
      "2021-02-24 05:39:55,623 : INFO : EPOCH 9 - PROGRESS: at 45.75% examples, 334101 words/s, in_qsize 17, out_qsize 0\n",
      "2021-02-24 05:39:56,628 : INFO : EPOCH 9 - PROGRESS: at 54.55% examples, 331393 words/s, in_qsize 20, out_qsize 0\n",
      "2021-02-24 05:39:57,636 : INFO : EPOCH 9 - PROGRESS: at 63.97% examples, 333949 words/s, in_qsize 13, out_qsize 0\n",
      "2021-02-24 05:39:58,646 : INFO : EPOCH 9 - PROGRESS: at 73.62% examples, 336452 words/s, in_qsize 0, out_qsize 1\n",
      "2021-02-24 05:39:59,653 : INFO : EPOCH 9 - PROGRESS: at 82.02% examples, 332999 words/s, in_qsize 21, out_qsize 1\n",
      "2021-02-24 05:40:00,659 : INFO : EPOCH 9 - PROGRESS: at 91.93% examples, 336587 words/s, in_qsize 0, out_qsize 1\n",
      "2021-02-24 05:40:01,487 : INFO : worker thread finished; awaiting finish of 11 more threads\n",
      "2021-02-24 05:40:01,492 : INFO : worker thread finished; awaiting finish of 10 more threads\n",
      "2021-02-24 05:40:01,498 : INFO : worker thread finished; awaiting finish of 9 more threads\n",
      "2021-02-24 05:40:01,503 : INFO : worker thread finished; awaiting finish of 8 more threads\n",
      "2021-02-24 05:40:01,515 : INFO : worker thread finished; awaiting finish of 7 more threads\n",
      "2021-02-24 05:40:01,517 : INFO : worker thread finished; awaiting finish of 6 more threads\n",
      "2021-02-24 05:40:01,520 : INFO : worker thread finished; awaiting finish of 5 more threads\n",
      "2021-02-24 05:40:01,521 : INFO : worker thread finished; awaiting finish of 4 more threads\n",
      "2021-02-24 05:40:01,523 : INFO : worker thread finished; awaiting finish of 3 more threads\n",
      "2021-02-24 05:40:01,528 : INFO : worker thread finished; awaiting finish of 2 more threads\n",
      "2021-02-24 05:40:01,531 : INFO : worker thread finished; awaiting finish of 1 more threads\n",
      "2021-02-24 05:40:01,533 : INFO : worker thread finished; awaiting finish of 0 more threads\n",
      "2021-02-24 05:40:01,534 : INFO : EPOCH - 9 : training on 15420418 raw words (3704924 effective words) took 11.0s, 337264 effective words/s\n",
      "2021-02-24 05:40:02,561 : INFO : EPOCH 10 - PROGRESS: at 9.10% examples, 330842 words/s, in_qsize 5, out_qsize 1\n",
      "2021-02-24 05:40:03,569 : INFO : EPOCH 10 - PROGRESS: at 18.16% examples, 332315 words/s, in_qsize 0, out_qsize 1\n",
      "2021-02-24 05:40:04,581 : INFO : EPOCH 10 - PROGRESS: at 26.33% examples, 321437 words/s, in_qsize 18, out_qsize 2\n",
      "2021-02-24 05:40:05,581 : INFO : EPOCH 10 - PROGRESS: at 35.38% examples, 325364 words/s, in_qsize 4, out_qsize 2\n",
      "2021-02-24 05:40:06,587 : INFO : EPOCH 10 - PROGRESS: at 45.18% examples, 331622 words/s, in_qsize 0, out_qsize 0\n",
      "2021-02-24 05:40:07,590 : INFO : EPOCH 10 - PROGRESS: at 54.40% examples, 332265 words/s, in_qsize 0, out_qsize 0\n",
      "2021-02-24 05:40:08,598 : INFO : EPOCH 10 - PROGRESS: at 63.30% examples, 331538 words/s, in_qsize 17, out_qsize 1\n",
      "2021-02-24 05:40:09,610 : INFO : EPOCH 10 - PROGRESS: at 73.17% examples, 335250 words/s, in_qsize 0, out_qsize 0\n",
      "2021-02-24 05:40:10,613 : INFO : EPOCH 10 - PROGRESS: at 82.53% examples, 336184 words/s, in_qsize 0, out_qsize 1\n",
      "2021-02-24 05:40:11,618 : INFO : EPOCH 10 - PROGRESS: at 91.60% examples, 336554 words/s, in_qsize 0, out_qsize 0\n",
      "2021-02-24 05:40:12,533 : INFO : worker thread finished; awaiting finish of 11 more threads\n",
      "2021-02-24 05:40:12,535 : INFO : worker thread finished; awaiting finish of 10 more threads\n",
      "2021-02-24 05:40:12,536 : INFO : worker thread finished; awaiting finish of 9 more threads\n",
      "2021-02-24 05:40:12,539 : INFO : worker thread finished; awaiting finish of 8 more threads\n",
      "2021-02-24 05:40:12,546 : INFO : worker thread finished; awaiting finish of 7 more threads\n",
      "2021-02-24 05:40:12,550 : INFO : worker thread finished; awaiting finish of 6 more threads\n",
      "2021-02-24 05:40:12,553 : INFO : worker thread finished; awaiting finish of 5 more threads\n",
      "2021-02-24 05:40:12,558 : INFO : worker thread finished; awaiting finish of 4 more threads\n",
      "2021-02-24 05:40:12,563 : INFO : worker thread finished; awaiting finish of 3 more threads\n",
      "2021-02-24 05:40:12,569 : INFO : worker thread finished; awaiting finish of 2 more threads\n",
      "2021-02-24 05:40:12,572 : INFO : worker thread finished; awaiting finish of 1 more threads\n",
      "2021-02-24 05:40:12,579 : INFO : worker thread finished; awaiting finish of 0 more threads\n",
      "2021-02-24 05:40:12,580 : INFO : EPOCH - 10 : training on 15420418 raw words (3705872 effective words) took 11.0s, 335661 effective words/s\n",
      "2021-02-24 05:40:12,582 : INFO : training on a 154204180 raw words (37049300 effective words) took 110.5s, 335330 effective words/s\n",
      "2021-02-24 05:40:12,583 : INFO : saving Word2Vec object under dados/experimento_2/w2v_jur.model, separately None\n",
      "2021-02-24 05:40:12,584 : INFO : not storing attribute vectors_norm\n",
      "2021-02-24 05:40:12,586 : INFO : not storing attribute cum_table\n",
      "2021-02-24 05:40:13,464 : INFO : saved dados/experimento_2/w2v_jur.model\n"
     ]
    },
    {
     "name": "stdout",
     "output_type": "stream",
     "text": [
      "treinando modelo word2vec\n"
     ]
    },
    {
     "name": "stderr",
     "output_type": "stream",
     "text": [
      "2021-02-24 05:40:13,466 : INFO : resetting layer weights\n",
      "2021-02-24 05:40:18,387 : INFO : collecting all words and their counts\n",
      "2021-02-24 05:40:18,389 : INFO : PROGRESS: at sentence #0, processed 0 words, keeping 0 word types\n",
      "2021-02-24 05:40:18,457 : INFO : PROGRESS: at sentence #10000, processed 245331 words, keeping 13478 word types\n",
      "2021-02-24 05:40:18,524 : INFO : PROGRESS: at sentence #20000, processed 488322 words, keeping 19070 word types\n",
      "2021-02-24 05:40:18,592 : INFO : PROGRESS: at sentence #30000, processed 724592 words, keeping 22628 word types\n",
      "2021-02-24 05:40:18,663 : INFO : PROGRESS: at sentence #40000, processed 964220 words, keeping 25745 word types\n",
      "2021-02-24 05:40:18,731 : INFO : PROGRESS: at sentence #50000, processed 1210232 words, keeping 28355 word types\n",
      "2021-02-24 05:40:18,797 : INFO : PROGRESS: at sentence #60000, processed 1446427 words, keeping 30344 word types\n",
      "2021-02-24 05:40:18,865 : INFO : PROGRESS: at sentence #70000, processed 1689440 words, keeping 32429 word types\n",
      "2021-02-24 05:40:18,931 : INFO : PROGRESS: at sentence #80000, processed 1931968 words, keeping 34367 word types\n",
      "2021-02-24 05:40:18,999 : INFO : PROGRESS: at sentence #90000, processed 2179422 words, keeping 36184 word types\n",
      "2021-02-24 05:40:19,066 : INFO : PROGRESS: at sentence #100000, processed 2422826 words, keeping 37676 word types\n",
      "2021-02-24 05:40:19,132 : INFO : PROGRESS: at sentence #110000, processed 2663838 words, keeping 39192 word types\n",
      "2021-02-24 05:40:19,201 : INFO : PROGRESS: at sentence #120000, processed 2904322 words, keeping 40537 word types\n",
      "2021-02-24 05:40:19,269 : INFO : PROGRESS: at sentence #130000, processed 3151294 words, keeping 41927 word types\n",
      "2021-02-24 05:40:19,338 : INFO : PROGRESS: at sentence #140000, processed 3389800 words, keeping 43176 word types\n",
      "2021-02-24 05:40:19,407 : INFO : PROGRESS: at sentence #150000, processed 3638862 words, keeping 44492 word types\n",
      "2021-02-24 05:40:19,476 : INFO : PROGRESS: at sentence #160000, processed 3887204 words, keeping 45668 word types\n",
      "2021-02-24 05:40:19,542 : INFO : PROGRESS: at sentence #170000, processed 4119285 words, keeping 46794 word types\n",
      "2021-02-24 05:40:19,611 : INFO : PROGRESS: at sentence #180000, processed 4365382 words, keeping 48013 word types\n",
      "2021-02-24 05:40:19,676 : INFO : PROGRESS: at sentence #190000, processed 4605362 words, keeping 49089 word types\n",
      "2021-02-24 05:40:19,743 : INFO : PROGRESS: at sentence #200000, processed 4849894 words, keeping 50135 word types\n",
      "2021-02-24 05:40:19,811 : INFO : PROGRESS: at sentence #210000, processed 5089304 words, keeping 51124 word types\n",
      "2021-02-24 05:40:19,878 : INFO : PROGRESS: at sentence #220000, processed 5332821 words, keeping 52174 word types\n",
      "2021-02-24 05:40:19,946 : INFO : PROGRESS: at sentence #230000, processed 5572953 words, keeping 53083 word types\n",
      "2021-02-24 05:40:20,012 : INFO : PROGRESS: at sentence #240000, processed 5810059 words, keeping 53949 word types\n",
      "2021-02-24 05:40:20,077 : INFO : PROGRESS: at sentence #250000, processed 6048632 words, keeping 54860 word types\n",
      "2021-02-24 05:40:20,143 : INFO : PROGRESS: at sentence #260000, processed 6290250 words, keeping 55678 word types\n",
      "2021-02-24 05:40:20,211 : INFO : PROGRESS: at sentence #270000, processed 6530883 words, keeping 56581 word types\n",
      "2021-02-24 05:40:20,281 : INFO : PROGRESS: at sentence #280000, processed 6772366 words, keeping 57318 word types\n",
      "2021-02-24 05:40:20,353 : INFO : PROGRESS: at sentence #290000, processed 7014271 words, keeping 58117 word types\n",
      "2021-02-24 05:40:20,420 : INFO : PROGRESS: at sentence #300000, processed 7251093 words, keeping 58901 word types\n",
      "2021-02-24 05:40:20,486 : INFO : PROGRESS: at sentence #310000, processed 7492856 words, keeping 59695 word types\n",
      "2021-02-24 05:40:20,554 : INFO : PROGRESS: at sentence #320000, processed 7737288 words, keeping 60459 word types\n",
      "2021-02-24 05:40:20,620 : INFO : PROGRESS: at sentence #330000, processed 7978935 words, keeping 61166 word types\n",
      "2021-02-24 05:40:20,685 : INFO : PROGRESS: at sentence #340000, processed 8214471 words, keeping 61975 word types\n",
      "2021-02-24 05:40:20,751 : INFO : PROGRESS: at sentence #350000, processed 8451177 words, keeping 62720 word types\n",
      "2021-02-24 05:40:20,824 : INFO : PROGRESS: at sentence #360000, processed 8692036 words, keeping 63616 word types\n",
      "2021-02-24 05:40:20,891 : INFO : PROGRESS: at sentence #370000, processed 8933126 words, keeping 64413 word types\n",
      "2021-02-24 05:40:20,960 : INFO : PROGRESS: at sentence #380000, processed 9178271 words, keeping 65138 word types\n",
      "2021-02-24 05:40:21,028 : INFO : PROGRESS: at sentence #390000, processed 9423826 words, keeping 65858 word types\n",
      "2021-02-24 05:40:21,095 : INFO : PROGRESS: at sentence #400000, processed 9671238 words, keeping 66607 word types\n",
      "2021-02-24 05:40:21,164 : INFO : PROGRESS: at sentence #410000, processed 9924757 words, keeping 67382 word types\n",
      "2021-02-24 05:40:21,231 : INFO : PROGRESS: at sentence #420000, processed 10167182 words, keeping 68042 word types\n",
      "2021-02-24 05:40:21,296 : INFO : PROGRESS: at sentence #430000, processed 10399858 words, keeping 68698 word types\n",
      "2021-02-24 05:40:21,363 : INFO : PROGRESS: at sentence #440000, processed 10636928 words, keeping 69313 word types\n",
      "2021-02-24 05:40:21,429 : INFO : PROGRESS: at sentence #450000, processed 10874385 words, keeping 69848 word types\n",
      "2021-02-24 05:40:21,499 : INFO : PROGRESS: at sentence #460000, processed 11121255 words, keeping 70495 word types\n",
      "2021-02-24 05:40:21,564 : INFO : PROGRESS: at sentence #470000, processed 11362636 words, keeping 71248 word types\n",
      "2021-02-24 05:40:21,631 : INFO : PROGRESS: at sentence #480000, processed 11604002 words, keeping 71930 word types\n",
      "2021-02-24 05:40:21,698 : INFO : PROGRESS: at sentence #490000, processed 11849722 words, keeping 72522 word types\n",
      "2021-02-24 05:40:21,765 : INFO : PROGRESS: at sentence #500000, processed 12092845 words, keeping 73106 word types\n",
      "2021-02-24 05:40:21,831 : INFO : PROGRESS: at sentence #510000, processed 12329334 words, keeping 73640 word types\n",
      "2021-02-24 05:40:21,897 : INFO : PROGRESS: at sentence #520000, processed 12566409 words, keeping 74308 word types\n",
      "2021-02-24 05:40:21,964 : INFO : PROGRESS: at sentence #530000, processed 12811792 words, keeping 74944 word types\n",
      "2021-02-24 05:40:22,031 : INFO : PROGRESS: at sentence #540000, processed 13054650 words, keeping 75693 word types\n",
      "2021-02-24 05:40:22,099 : INFO : PROGRESS: at sentence #550000, processed 13300287 words, keeping 76208 word types\n",
      "2021-02-24 05:40:22,166 : INFO : PROGRESS: at sentence #560000, processed 13544014 words, keeping 76788 word types\n",
      "2021-02-24 05:40:22,234 : INFO : PROGRESS: at sentence #570000, processed 13789455 words, keeping 77294 word types\n",
      "2021-02-24 05:40:22,300 : INFO : PROGRESS: at sentence #580000, processed 14036450 words, keeping 77819 word types\n",
      "2021-02-24 05:40:22,370 : INFO : PROGRESS: at sentence #590000, processed 14285920 words, keeping 78345 word types\n",
      "2021-02-24 05:40:22,436 : INFO : PROGRESS: at sentence #600000, processed 14529297 words, keeping 78928 word types\n",
      "2021-02-24 05:40:22,503 : INFO : PROGRESS: at sentence #610000, processed 14773663 words, keeping 79538 word types\n",
      "2021-02-24 05:40:22,571 : INFO : PROGRESS: at sentence #620000, processed 15022079 words, keeping 80075 word types\n",
      "2021-02-24 05:40:22,639 : INFO : PROGRESS: at sentence #630000, processed 15269684 words, keeping 80630 word types\n",
      "2021-02-24 05:40:22,680 : INFO : collected 80933 word types from a corpus of 15420418 raw words and 636274 sentences\n",
      "2021-02-24 05:40:22,681 : INFO : Loading a fresh vocabulary\n",
      "2021-02-24 05:40:22,772 : INFO : effective_min_count=5 retains 32490 unique words (40% of original 80933, drops 48443)\n",
      "2021-02-24 05:40:22,773 : INFO : effective_min_count=5 leaves 15338587 word corpus (99% of original 15420418, drops 81831)\n",
      "2021-02-24 05:40:22,850 : INFO : deleting the raw counts dictionary of 80933 items\n",
      "2021-02-24 05:40:22,853 : INFO : sample=0.001 downsamples 36 most-common words\n",
      "2021-02-24 05:40:22,854 : INFO : downsampling leaves estimated 11100003 word corpus (72.4% of prior 15338587)\n",
      "2021-02-24 05:40:22,875 : INFO : constructing a huffman tree from 32490 words\n",
      "2021-02-24 05:40:23,509 : INFO : built huffman tree with maximum node depth 22\n"
     ]
    },
    {
     "name": "stderr",
     "output_type": "stream",
     "text": [
      "2021-02-24 05:40:23,870 : INFO : estimated required memory for 32490 words, 137994 buckets and 100 dimensions: 125691112 bytes\n",
      "2021-02-24 05:40:23,877 : INFO : resetting layer weights\n",
      "2021-02-24 05:40:27,275 : INFO : training model with 12 workers on 32490 vocabulary and 100 features, using sg=1 hs=1 sample=0.001 negative=5 window=5\n",
      "2021-02-24 05:41:18,891 : INFO : EPOCH 1 - PROGRESS: at 8.38% words, 18035 words/s, in_qsize -1, out_qsize 1\n",
      "2021-02-24 05:41:18,893 : INFO : worker thread finished; awaiting finish of 11 more threads\n",
      "2021-02-24 05:41:19,261 : INFO : worker thread finished; awaiting finish of 10 more threads\n",
      "2021-02-24 05:41:19,348 : INFO : worker thread finished; awaiting finish of 9 more threads\n",
      "2021-02-24 05:41:19,796 : INFO : worker thread finished; awaiting finish of 8 more threads\n",
      "2021-02-24 05:41:19,969 : INFO : EPOCH 1 - PROGRESS: at 41.87% words, 88261 words/s, in_qsize -1, out_qsize 1\n",
      "2021-02-24 05:41:19,970 : INFO : worker thread finished; awaiting finish of 7 more threads\n",
      "2021-02-24 05:41:20,001 : INFO : worker thread finished; awaiting finish of 6 more threads\n",
      "2021-02-24 05:41:20,041 : INFO : worker thread finished; awaiting finish of 5 more threads\n",
      "2021-02-24 05:41:20,055 : INFO : worker thread finished; awaiting finish of 4 more threads\n",
      "2021-02-24 05:41:20,094 : INFO : worker thread finished; awaiting finish of 3 more threads\n",
      "2021-02-24 05:41:20,115 : INFO : worker thread finished; awaiting finish of 2 more threads\n",
      "2021-02-24 05:41:20,217 : INFO : worker thread finished; awaiting finish of 1 more threads\n",
      "2021-02-24 05:41:20,404 : INFO : worker thread finished; awaiting finish of 0 more threads\n",
      "2021-02-24 05:41:20,405 : INFO : EPOCH - 1 : training on 15506520 raw words (11161483 effective words) took 53.1s, 210255 effective words/s\n",
      "2021-02-24 05:42:11,814 : INFO : EPOCH 2 - PROGRESS: at 8.38% words, 18124 words/s, in_qsize -1, out_qsize 1\n",
      "2021-02-24 05:42:11,816 : INFO : worker thread finished; awaiting finish of 11 more threads\n",
      "2021-02-24 05:42:11,963 : INFO : worker thread finished; awaiting finish of 10 more threads\n",
      "2021-02-24 05:42:12,108 : INFO : worker thread finished; awaiting finish of 9 more threads\n",
      "2021-02-24 05:42:12,454 : INFO : worker thread finished; awaiting finish of 8 more threads\n",
      "2021-02-24 05:42:12,525 : INFO : worker thread finished; awaiting finish of 7 more threads\n",
      "2021-02-24 05:42:12,617 : INFO : worker thread finished; awaiting finish of 6 more threads\n",
      "2021-02-24 05:42:12,770 : INFO : worker thread finished; awaiting finish of 5 more threads\n",
      "2021-02-24 05:42:12,871 : INFO : EPOCH 2 - PROGRESS: at 67.03% words, 141901 words/s, in_qsize -1, out_qsize 1\n",
      "2021-02-24 05:42:12,873 : INFO : worker thread finished; awaiting finish of 4 more threads\n",
      "2021-02-24 05:42:12,874 : INFO : worker thread finished; awaiting finish of 3 more threads\n",
      "2021-02-24 05:42:12,882 : INFO : worker thread finished; awaiting finish of 2 more threads\n",
      "2021-02-24 05:42:12,977 : INFO : worker thread finished; awaiting finish of 1 more threads\n",
      "2021-02-24 05:42:13,281 : INFO : worker thread finished; awaiting finish of 0 more threads\n",
      "2021-02-24 05:42:13,282 : INFO : EPOCH - 2 : training on 15506520 raw words (11163031 effective words) took 52.8s, 211289 effective words/s\n",
      "2021-02-24 05:43:04,651 : INFO : EPOCH 3 - PROGRESS: at 8.38% words, 18140 words/s, in_qsize -1, out_qsize 1\n",
      "2021-02-24 05:43:04,652 : INFO : worker thread finished; awaiting finish of 11 more threads\n",
      "2021-02-24 05:43:04,666 : INFO : worker thread finished; awaiting finish of 10 more threads\n",
      "2021-02-24 05:43:05,024 : INFO : worker thread finished; awaiting finish of 9 more threads\n",
      "2021-02-24 05:43:05,117 : INFO : worker thread finished; awaiting finish of 8 more threads\n",
      "2021-02-24 05:43:05,334 : INFO : worker thread finished; awaiting finish of 7 more threads\n",
      "2021-02-24 05:43:05,515 : INFO : worker thread finished; awaiting finish of 6 more threads\n",
      "2021-02-24 05:43:05,533 : INFO : worker thread finished; awaiting finish of 5 more threads\n",
      "2021-02-24 05:43:05,576 : INFO : worker thread finished; awaiting finish of 4 more threads\n",
      "2021-02-24 05:43:05,584 : INFO : worker thread finished; awaiting finish of 3 more threads\n",
      "2021-02-24 05:43:05,637 : INFO : worker thread finished; awaiting finish of 2 more threads\n",
      "2021-02-24 05:43:05,651 : INFO : EPOCH 3 - PROGRESS: at 92.18% words, 195549 words/s, in_qsize -1, out_qsize 1\n",
      "2021-02-24 05:43:05,653 : INFO : worker thread finished; awaiting finish of 1 more threads\n",
      "2021-02-24 05:43:05,710 : INFO : worker thread finished; awaiting finish of 0 more threads\n",
      "2021-02-24 05:43:05,711 : INFO : EPOCH - 3 : training on 15506520 raw words (11162069 effective words) took 52.4s, 213079 effective words/s\n",
      "2021-02-24 05:43:56,530 : INFO : EPOCH 4 - PROGRESS: at 8.38% words, 18336 words/s, in_qsize -1, out_qsize 1\n",
      "2021-02-24 05:43:56,532 : INFO : worker thread finished; awaiting finish of 11 more threads\n",
      "2021-02-24 05:43:56,792 : INFO : worker thread finished; awaiting finish of 10 more threads\n",
      "2021-02-24 05:43:57,044 : INFO : worker thread finished; awaiting finish of 9 more threads\n",
      "2021-02-24 05:43:57,117 : INFO : worker thread finished; awaiting finish of 8 more threads\n",
      "2021-02-24 05:43:57,470 : INFO : worker thread finished; awaiting finish of 7 more threads\n",
      "2021-02-24 05:43:57,494 : INFO : worker thread finished; awaiting finish of 6 more threads\n",
      "2021-02-24 05:43:57,549 : INFO : EPOCH 4 - PROGRESS: at 58.64% words, 125666 words/s, in_qsize -1, out_qsize 1\n",
      "2021-02-24 05:43:57,551 : INFO : worker thread finished; awaiting finish of 5 more threads\n",
      "2021-02-24 05:43:57,572 : INFO : worker thread finished; awaiting finish of 4 more threads\n",
      "2021-02-24 05:43:57,582 : INFO : worker thread finished; awaiting finish of 3 more threads\n",
      "2021-02-24 05:43:57,626 : INFO : worker thread finished; awaiting finish of 2 more threads\n",
      "2021-02-24 05:43:57,639 : INFO : worker thread finished; awaiting finish of 1 more threads\n",
      "2021-02-24 05:43:57,755 : INFO : worker thread finished; awaiting finish of 0 more threads\n",
      "2021-02-24 05:43:57,756 : INFO : EPOCH - 4 : training on 15506520 raw words (11161988 effective words) took 52.0s, 214652 effective words/s\n",
      "2021-02-24 05:44:49,268 : INFO : EPOCH 5 - PROGRESS: at 8.38% words, 18069 words/s, in_qsize -1, out_qsize 1\n",
      "2021-02-24 05:44:49,270 : INFO : worker thread finished; awaiting finish of 11 more threads\n",
      "2021-02-24 05:44:49,414 : INFO : worker thread finished; awaiting finish of 10 more threads\n",
      "2021-02-24 05:44:49,541 : INFO : worker thread finished; awaiting finish of 9 more threads\n",
      "2021-02-24 05:44:49,548 : INFO : worker thread finished; awaiting finish of 8 more threads\n",
      "2021-02-24 05:44:49,956 : INFO : worker thread finished; awaiting finish of 7 more threads\n",
      "2021-02-24 05:44:50,028 : INFO : worker thread finished; awaiting finish of 6 more threads\n",
      "2021-02-24 05:44:50,080 : INFO : worker thread finished; awaiting finish of 5 more threads\n",
      "2021-02-24 05:44:50,112 : INFO : worker thread finished; awaiting finish of 4 more threads\n",
      "2021-02-24 05:44:50,142 : INFO : worker thread finished; awaiting finish of 3 more threads\n",
      "2021-02-24 05:44:50,153 : INFO : worker thread finished; awaiting finish of 2 more threads\n",
      "2021-02-24 05:44:50,211 : INFO : worker thread finished; awaiting finish of 1 more threads\n",
      "2021-02-24 05:44:50,276 : INFO : EPOCH 5 - PROGRESS: at 100.56% words, 212708 words/s, in_qsize -1, out_qsize 1\n",
      "2021-02-24 05:44:50,277 : INFO : worker thread finished; awaiting finish of 0 more threads\n",
      "2021-02-24 05:44:50,278 : INFO : EPOCH - 5 : training on 15506520 raw words (11161543 effective words) took 52.5s, 212698 effective words/s\n",
      "2021-02-24 05:44:50,281 : INFO : training on a 77532600 raw words (55810114 effective words) took 263.0s, 212202 effective words/s\n",
      "2021-02-24 05:44:50,282 : WARNING : under 10 jobs per worker: consider setting a smaller `batch_words' for smoother alpha decay\n",
      "2021-02-24 05:44:52,028 : INFO : saving FastText object under dados/experimento_2/ftt_jur.model, separately None\n",
      "2021-02-24 05:44:52,029 : INFO : storing np array 'vectors_ngrams' to dados/experimento_2/ftt_jur.model.wv.vectors_ngrams.npy\n",
      "2021-02-24 05:44:59,300 : INFO : not storing attribute vectors_norm\n",
      "2021-02-24 05:44:59,301 : INFO : not storing attribute vectors_vocab_norm\n"
     ]
    },
    {
     "name": "stderr",
     "output_type": "stream",
     "text": [
      "2021-02-24 05:44:59,302 : INFO : not storing attribute vectors_ngrams_norm\n",
      "2021-02-24 05:44:59,303 : INFO : not storing attribute buckets_word\n",
      "2021-02-24 05:44:59,305 : INFO : storing np array 'vectors_ngrams_lockf' to dados/experimento_2/ftt_jur.model.trainables.vectors_ngrams_lockf.npy\n",
      "2021-02-24 05:45:07,152 : INFO : saved dados/experimento_2/ftt_jur.model\n"
     ]
    },
    {
     "name": "stdout",
     "output_type": "stream",
     "text": [
      "treinando modelo glove\n",
      "mkdir -p build\n",
      "tokenizando corpus\n",
      "$ build/vocab_count -min-count 5 -verbose 2 < ../mestrado/experimentos_mestrado/dados/experimento_2/base_treino_glv.txt > ../mestrado/experimentos_mestrado/dados/experimento_2/glove_vocab.txt\n",
      "criando matriz de coocorrencia\n",
      "$ build/cooccur -memory 4.0 -vocab-file ../mestrado/experimentos_mestrado/dados/experimento_2/glove_vocab.txt -verbose 2 -window-size 15 < ../mestrado/experimentos_mestrado/dados/experimento_2/base_treino_glv.txt > ../mestrado/experimentos_mestrado/dados/experimento_2/glv_concurrence.bin\n",
      "$ build/shuffle -memory 4.0 -verbose 2 < ../mestrado/experimentos_mestrado/dados/experimento_2/glv_concurrence.bin > ../mestrado/experimentos_mestrado/dados/experimento_2/glv_concurrence_shuf.bin\n",
      "$ build/glove -save-file ../mestrado/experimentos_mestrado/dados/experimento_2/glv_jur -threads 8 -input-file ../mestrado/experimentos_mestrado/dados/experimento_2/glv_concurrence_shuf.bin -x-max 10 -iter 15 -vector-size 100 -binary 2 -vocab-file ../mestrado/experimentos_mestrado/dados/experimento_2/glove_vocab.txt -verbose 2\n",
      "\n",
      "BUILDING VOCABULARY\n",
      "Processed 0 tokens.100000 tokens.200000 tokens.300000 tokens.400000 tokens.500000 tokens.600000 tokens.700000 tokens.800000 tokens.900000 tokens.1000000 tokens.1100000 tokens.1200000 tokens.1300000 tokens.1400000 tokens.1500000 tokens.1600000 tokens.1700000 tokens.1800000 tokens.1900000 tokens.2000000 tokens.2100000 tokens.2200000 tokens.2300000 tokens.2400000 tokens.2500000 tokens.2600000 tokens.2700000 tokens.2800000 tokens.2900000 tokens.3000000 tokens.3100000 tokens.3200000 tokens.3300000 tokens.3400000 tokens.3500000 tokens.3600000 tokens.3700000 tokens.3800000 tokens.3900000 tokens.4000000 tokens.4100000 tokens.4200000 tokens.4300000 tokens.4400000 tokens.4500000 tokens.4600000 tokens.4700000 tokens.4800000 tokens.4900000 tokens.5000000 tokens.5100000 tokens.5200000 tokens.5300000 tokens.5400000 tokens.5500000 tokens.5600000 tokens.5700000 tokens.5800000 tokens.5900000 tokens.6000000 tokens.6100000 tokens.6200000 tokens.6300000 tokens.6400000 tokens.6500000 tokens.6600000 tokens.6700000 tokens.6800000 tokens.6900000 tokens.7000000 tokens.7100000 tokens.7200000 tokens.7300000 tokens.7400000 tokens.7500000 tokens.7600000 tokens.7700000 tokens.7800000 tokens.7900000 tokens.8000000 tokens.8100000 tokens.8200000 tokens.8300000 tokens.8400000 tokens.8500000 tokens.8600000 tokens.8700000 tokens.8800000 tokens.8900000 tokens.9000000 tokens.9100000 tokens.9200000 tokens.9300000 tokens.9400000 tokens.9500000 tokens.9600000 tokens.9700000 tokens.Processed 9704623 tokens.\n",
      "Counted 80754 unique words.\n",
      "Truncating vocabulary at min count 5.\n",
      "Using vocabulary of size 32324.\n",
      "\n",
      "COUNTING COOCCURRENCES\n",
      "window size: 15\n",
      "context: symmetric\n",
      "max product: 13752509\n",
      "overflow length: 38028356\n",
      "Reading vocab from file \"../mestrado/experimentos_mestrado/dados/experimento_2/glove_vocab.txt\"...loaded 32324 words.\n",
      "Building lookup table...table contains 73274461 elements.\n",
      "Processing token: 01000002000003000004000005000006000007000008000009000001000000110000012000001300000140000015000001600000170000018000001900000200000021000002200000230000024000002500000260000027000002800000290000030000003100000320000033000003400000350000036000003700000380000039000004000000410000042000004300000440000045000004600000470000048000004900000500000051000005200000530000054000005500000560000057000005800000590000060000006100000620000063000006400000650000066000006700000680000069000007000000710000072000007300000740000075000007600000770000078000007900000800000081000008200000830000084000008500000860000087000008800000890000090000009100000920000093000009400000950000096000009700000Processed 9704623 tokens.\n",
      "Writing cooccurrences to disk........2 files in total.\n"
     ]
    },
    {
     "name": "stdout",
     "output_type": "stream",
     "text": [
      "Merging cooccurrence files: processed 0 lines.100000 lines.200000 lines.300000 lines.400000 lines.500000 lines.600000 lines.700000 lines.800000 lines.900000 lines.1000000 lines.1100000 lines.1200000 lines.1300000 lines.1400000 lines.1500000 lines.1600000 lines.1700000 lines.1800000 lines.1900000 lines.2000000 lines.2100000 lines.2200000 lines.2300000 lines.2400000 lines.2500000 lines.2600000 lines.2700000 lines.2800000 lines.2900000 lines.3000000 lines.3100000 lines.3200000 lines.3300000 lines.3400000 lines.3500000 lines.3600000 lines.3700000 lines.3800000 lines.3900000 lines.4000000 lines.4100000 lines.4200000 lines.4300000 lines.4400000 lines.4500000 lines.4600000 lines.4700000 lines.4800000 lines.4900000 lines.5000000 lines.5100000 lines.5200000 lines.5300000 lines.5400000 lines.5500000 lines.5600000 lines.5700000 lines.5800000 lines.5900000 lines.6000000 lines.6100000 lines.6200000 lines.6300000 lines.6400000 lines.6500000 lines.6600000 lines.6700000 lines.6800000 lines.6900000 lines.7000000 lines.7100000 lines.7200000 lines.7300000 lines.7400000 lines.7500000 lines.7600000 lines.7700000 lines.7800000 lines.7900000 lines.8000000 lines.8100000 lines.8200000 lines.8300000 lines.8400000 lines.8500000 lines.8600000 lines.8700000 lines.8800000 lines.8900000 lines.9000000 lines.9100000 lines.9200000 lines.9300000 lines.9400000 lines.9500000 lines.9600000 lines.9700000 lines.9800000 lines.9900000 lines.10000000 lines.10100000 lines.10200000 lines.10300000 lines.10400000 lines.10500000 lines.10600000 lines.10700000 lines.10800000 lines.10900000 lines.11000000 lines.11100000 lines.11200000 lines.11300000 lines.11400000 lines.11500000 lines.11600000 lines.11700000 lines.11800000 lines.11900000 lines.12000000 lines.12100000 lines.12200000 lines.12300000 lines.12400000 lines.12500000 lines.12600000 lines.12700000 lines.12800000 lines.12900000 lines.13000000 lines.13100000 lines.13200000 lines.13300000 lines.13400000 lines.13500000 lines.13600000 lines.13700000 lines.13800000 lines.13900000 lines.14000000 lines.14100000 lines.14200000 lines.14300000 lines.14400000 lines.14500000 lines.14600000 lines.14700000 lines.14800000 lines.14900000 lines.15000000 lines.15100000 lines.15200000 lines.15300000 lines.15400000 lines.15500000 lines.15600000 lines.15700000 lines.15800000 lines.15900000 lines.16000000 lines.16100000 lines.16200000 lines.16300000 lines.16400000 lines.16500000 lines.16600000 lines.16700000 lines.16800000 lines.16900000 lines.17000000 lines.17100000 lines.17200000 lines.17300000 lines.17400000 lines.17500000 lines.17600000 lines.17700000 lines.17800000 lines.17900000 lines.18000000 lines.18100000 lines.18200000 lines.18300000 lines.18400000 lines.18500000 lines.18600000 lines.18700000 lines.18800000 lines.18900000 lines.19000000 lines.19100000 lines.19200000 lines.19300000 lines.19400000 lines.19500000 lines.19600000 lines.19700000 lines.19800000 lines.19900000 lines.20000000 lines.20100000 lines.20200000 lines.20300000 lines.20400000 lines.20500000 lines.20600000 lines.20700000 lines.20800000 lines.20900000 lines.21000000 lines.21100000 lines.21200000 lines.21300000 lines.21400000 lines.21500000 lines.21600000 lines.21700000 lines.21800000 lines.21900000 lines.22000000 lines.22100000 lines.22200000 lines.22300000 lines.22400000 lines.22500000 lines.22600000 lines.22700000 lines.22800000 lines.22900000 lines.23000000 lines.23100000 lines.23200000 lines.23300000 lines.23400000 lines.23500000 lines.23600000 lines.23700000 lines.23800000 lines.23900000 lines.24000000 lines.24100000 lines.24200000 lines.24300000 lines.24400000 lines.24500000 lines.24600000 lines.24700000 lines.24800000 lines.24900000 lines.25000000 lines.25100000 lines.25200000 lines.25300000 lines.25400000 lines.25500000 lines.25600000 lines.25700000 lines.25800000 lines.25900000 lines.26000000 lines.26100000 lines.26200000 lines.26300000 lines.26400000 lines.26500000 lines.26600000 lines.26700000 lines.26800000 lines.26900000 lines.27000000 lines.27100000 lines.27200000 lines.27300000 lines.27400000 lines.27500000 lines.27600000 lines.27700000 lines.27800000 lines.27900000 lines.28000000 lines.28100000 lines.28200000 lines.28300000 lines.28400000 lines.28500000 lines.28600000 lines.28700000 lines.28800000 lines.28900000 lines.29000000 lines.29100000 lines.29200000 lines.29300000 lines.29400000 lines.29500000 lines.29600000 lines.29700000 lines.29800000 lines.29900000 lines.30000000 lines.30100000 lines.30200000 lines.30300000 lines.30400000 lines.30500000 lines.30600000 lines.30700000 lines.30800000 lines.30900000 lines.31000000 lines.31100000 lines.31200000 lines.31300000 lines.31400000 lines.31500000 lines.31600000 lines.Merging cooccurrence files: processed 31609004 lines.\n",
      "\n",
      "Using random seed 1614156323\n",
      "SHUFFLING COOCCURRENCES\n",
      "array size: 255013683\n",
      "Shuffling by chunks: processed 0 lines.processed 31609004 lines.\n",
      "Wrote 1 temporary file(s).\n",
      "Merging temp files: processed 0 lines.31609004 lines.Merging temp files: processed 31609004 lines.\n",
      "\n",
      "TRAINING MODEL\n",
      "Read 31609004 lines.\n",
      "Initializing parameters...Using random seed 1614156334\n",
      "done.\n",
      "vector size: 100\n",
      "vocab size: 32324\n",
      "x_max: 10.000000\n",
      "alpha: 0.750000\n",
      "02/24/21 - 05:45.46AM, iter: 001, cost: 0.109577\n",
      "02/24/21 - 05:45.58AM, iter: 002, cost: 0.079530\n",
      "02/24/21 - 05:46.09AM, iter: 003, cost: 0.066667\n",
      "02/24/21 - 05:46.20AM, iter: 004, cost: 0.058998\n",
      "02/24/21 - 05:46.30AM, iter: 005, cost: 0.054588\n",
      "02/24/21 - 05:46.41AM, iter: 006, cost: 0.051964\n",
      "02/24/21 - 05:46.52AM, iter: 007, cost: 0.050261\n",
      "02/24/21 - 05:47.03AM, iter: 008, cost: 0.049010\n",
      "02/24/21 - 05:47.13AM, iter: 009, cost: 0.048091\n",
      "02/24/21 - 05:47.24AM, iter: 010, cost: 0.047373\n",
      "02/24/21 - 05:47.35AM, iter: 011, cost: 0.046762\n",
      "02/24/21 - 05:47.45AM, iter: 012, cost: 0.046267\n",
      "02/24/21 - 05:47.56AM, iter: 013, cost: 0.045855\n",
      "02/24/21 - 05:48.07AM, iter: 014, cost: 0.045472\n",
      "02/24/21 - 05:48.18AM, iter: 015, cost: 0.045153\n",
      "\n",
      "treinamento concluído\n"
     ]
    },
    {
     "name": "stderr",
     "output_type": "stream",
     "text": [
      "2021-02-24 05:48:19,789 : INFO : converting 32325 vectors from dados/experimento_2/glv_jur.txt to C:\\Users\\CRISTI~1\\AppData\\Local\\Temp\\test_word2vec.txt\n",
      "2021-02-24 05:48:19,859 : INFO : loading projection weights from C:\\Users\\CRISTI~1\\AppData\\Local\\Temp\\test_word2vec.txt\n",
      "2021-02-24 05:48:22,714 : INFO : loaded (32325, 100) matrix from C:\\Users\\CRISTI~1\\AppData\\Local\\Temp\\test_word2vec.txt\n",
      "2021-02-24 05:48:22,715 : INFO : loading projection weights from modelos/w2v_skip_nilc.txt\n",
      "2021-02-24 05:49:40,002 : INFO : loaded (929606, 100) matrix from modelos/w2v_skip_nilc.txt\n",
      "2021-02-24 05:49:40,003 : INFO : loading projection weights from modelos/ftt_skip_nilc.txt\n",
      "2021-02-24 05:50:56,483 : INFO : loaded (929605, 100) matrix from modelos/ftt_skip_nilc.txt\n",
      "2021-02-24 05:50:56,484 : INFO : loading projection weights from modelos/glove_nilc.txt\n",
      "2021-02-24 05:52:13,262 : INFO : loaded (929605, 100) matrix from modelos/glove_nilc.txt\n"
     ]
    },
    {
     "name": "stdout",
     "output_type": "stream",
     "text": [
      "recuperando teores da base de teste\n"
     ]
    },
    {
     "data": {
      "application/vnd.jupyter.widget-view+json": {
       "model_id": "1d56573075f24e73a9210d80377bbc74",
       "version_major": 2,
       "version_minor": 0
      },
      "text/plain": [
       "HBox(children=(IntProgress(value=0, max=7006), HTML(value='')))"
      ]
     },
     "metadata": {},
     "output_type": "display_data"
    },
    {
     "name": "stdout",
     "output_type": "stream",
     "text": [
      "\n",
      "criando representações word2vec geral\n"
     ]
    },
    {
     "data": {
      "application/vnd.jupyter.widget-view+json": {
       "model_id": "27c929137b9d4378acb073b6d28af933",
       "version_major": 2,
       "version_minor": 0
      },
      "text/plain": [
       "HBox(children=(IntProgress(value=0, max=7006), HTML(value='')))"
      ]
     },
     "metadata": {},
     "output_type": "display_data"
    },
    {
     "name": "stdout",
     "output_type": "stream",
     "text": [
      "\n",
      "criando representações fasttext geral\n"
     ]
    },
    {
     "data": {
      "application/vnd.jupyter.widget-view+json": {
       "model_id": "5bd85ea6a3294ec0a22111af2fed8baa",
       "version_major": 2,
       "version_minor": 0
      },
      "text/plain": [
       "HBox(children=(IntProgress(value=0, max=7006), HTML(value='')))"
      ]
     },
     "metadata": {},
     "output_type": "display_data"
    },
    {
     "name": "stdout",
     "output_type": "stream",
     "text": [
      "\n",
      "criando representações glove geral\n"
     ]
    },
    {
     "data": {
      "application/vnd.jupyter.widget-view+json": {
       "model_id": "53a8e562417f4b8db581df4abe2b2a81",
       "version_major": 2,
       "version_minor": 0
      },
      "text/plain": [
       "HBox(children=(IntProgress(value=0, max=7006), HTML(value='')))"
      ]
     },
     "metadata": {},
     "output_type": "display_data"
    },
    {
     "name": "stdout",
     "output_type": "stream",
     "text": [
      "\n",
      "criando representações word2vec juridico\n"
     ]
    },
    {
     "data": {
      "application/vnd.jupyter.widget-view+json": {
       "model_id": "cb70f5b478a64bd2bf853dcbc7ce4b9a",
       "version_major": 2,
       "version_minor": 0
      },
      "text/plain": [
       "HBox(children=(IntProgress(value=0, max=7006), HTML(value='')))"
      ]
     },
     "metadata": {},
     "output_type": "display_data"
    },
    {
     "name": "stdout",
     "output_type": "stream",
     "text": [
      "\n",
      "criando representações fasttext juridico\n"
     ]
    },
    {
     "data": {
      "application/vnd.jupyter.widget-view+json": {
       "model_id": "1d8b548a9e6c46b295e27cb230343914",
       "version_major": 2,
       "version_minor": 0
      },
      "text/plain": [
       "HBox(children=(IntProgress(value=0, max=7006), HTML(value='')))"
      ]
     },
     "metadata": {},
     "output_type": "display_data"
    },
    {
     "name": "stdout",
     "output_type": "stream",
     "text": [
      "\n",
      "criando representações glove juridico\n"
     ]
    },
    {
     "data": {
      "application/vnd.jupyter.widget-view+json": {
       "model_id": "b42e5ff0cb314334ba98645aac2d7205",
       "version_major": 2,
       "version_minor": 0
      },
      "text/plain": [
       "HBox(children=(IntProgress(value=0, max=7006), HTML(value='')))"
      ]
     },
     "metadata": {},
     "output_type": "display_data"
    },
    {
     "name": "stdout",
     "output_type": "stream",
     "text": [
      "\n",
      "----------- EXPERIMENTO 2 CONCLUIDO -----------\n",
      "tempo do experimento: 18.386605004469555 minutos\n",
      "----------------------- EXPERIMENTO 3 -----------------------\n",
      "criando base de treino para o experimento 3\n"
     ]
    },
    {
     "data": {
      "application/vnd.jupyter.widget-view+json": {
       "model_id": "519d86a7d7794a199b7c90504548af1d",
       "version_major": 2,
       "version_minor": 0
      },
      "text/plain": [
       "HBox(children=(IntProgress(value=0, max=28021), HTML(value='')))"
      ]
     },
     "metadata": {},
     "output_type": "display_data"
    },
    {
     "name": "stdout",
     "output_type": "stream",
     "text": [
      "\n",
      "16075137 tokens copiados com sucesso\n",
      "preparando documentos para extração do vocabulário:\n"
     ]
    },
    {
     "data": {
      "application/vnd.jupyter.widget-view+json": {
       "model_id": "deb7acdae74c4479a26c4ffed58a133c",
       "version_major": 2,
       "version_minor": 0
      },
      "text/plain": [
       "HBox(children=(IntProgress(value=0, max=28021), HTML(value='')))"
      ]
     },
     "metadata": {},
     "output_type": "display_data"
    },
    {
     "name": "stdout",
     "output_type": "stream",
     "text": [
      "\n",
      "extraindo termos com base no ICA\n"
     ]
    },
    {
     "data": {
      "application/vnd.jupyter.widget-view+json": {
       "model_id": "42aa47c5cc3846f5a46fd35656b8010b",
       "version_major": 2,
       "version_minor": 0
      },
      "text/plain": [
       "HBox(children=(IntProgress(value=0, max=125), HTML(value='')))"
      ]
     },
     "metadata": {},
     "output_type": "display_data"
    },
    {
     "name": "stdout",
     "output_type": "stream",
     "text": [
      "\n",
      "-processando strings do corpus\n",
      "-treinando vetorizador\n",
      "-ICA processado\n",
      "extraindo termos com base na frequência - geralmente leva menos de 4 minutos\n",
      "extraindo termos do tesauro\n",
      "extração de vocabulário concluída!\n",
      "treinando modelo word2vec\n"
     ]
    },
    {
     "name": "stderr",
     "output_type": "stream",
     "text": [
      "2021-02-24 05:56:58,354 : INFO : collecting all words and their counts\n",
      "2021-02-24 05:56:58,363 : INFO : PROGRESS: at sentence #0, processed 0 words, keeping 0 word types\n",
      "2021-02-24 05:56:58,426 : INFO : PROGRESS: at sentence #10000, processed 232799 words, keeping 12962 word types\n",
      "2021-02-24 05:56:58,492 : INFO : PROGRESS: at sentence #20000, processed 473537 words, keeping 18070 word types\n",
      "2021-02-24 05:56:58,560 : INFO : PROGRESS: at sentence #30000, processed 720037 words, keeping 21795 word types\n",
      "2021-02-24 05:56:58,627 : INFO : PROGRESS: at sentence #40000, processed 964271 words, keeping 24773 word types\n",
      "2021-02-24 05:56:58,691 : INFO : PROGRESS: at sentence #50000, processed 1197973 words, keeping 27348 word types\n",
      "2021-02-24 05:56:58,755 : INFO : PROGRESS: at sentence #60000, processed 1434978 words, keeping 29807 word types\n",
      "2021-02-24 05:56:58,821 : INFO : PROGRESS: at sentence #70000, processed 1670382 words, keeping 31738 word types\n",
      "2021-02-24 05:56:58,887 : INFO : PROGRESS: at sentence #80000, processed 1914864 words, keeping 33572 word types\n",
      "2021-02-24 05:56:58,953 : INFO : PROGRESS: at sentence #90000, processed 2155541 words, keeping 35504 word types\n",
      "2021-02-24 05:56:59,022 : INFO : PROGRESS: at sentence #100000, processed 2400178 words, keeping 37106 word types\n",
      "2021-02-24 05:56:59,088 : INFO : PROGRESS: at sentence #110000, processed 2644319 words, keeping 38838 word types\n",
      "2021-02-24 05:56:59,153 : INFO : PROGRESS: at sentence #120000, processed 2878923 words, keeping 40230 word types\n",
      "2021-02-24 05:56:59,218 : INFO : PROGRESS: at sentence #130000, processed 3118070 words, keeping 41616 word types\n",
      "2021-02-24 05:56:59,284 : INFO : PROGRESS: at sentence #140000, processed 3357224 words, keeping 42943 word types\n",
      "2021-02-24 05:56:59,353 : INFO : PROGRESS: at sentence #150000, processed 3600908 words, keeping 44244 word types\n",
      "2021-02-24 05:56:59,422 : INFO : PROGRESS: at sentence #160000, processed 3850123 words, keeping 45773 word types\n",
      "2021-02-24 05:56:59,489 : INFO : PROGRESS: at sentence #170000, processed 4095621 words, keeping 46878 word types\n",
      "2021-02-24 05:56:59,557 : INFO : PROGRESS: at sentence #180000, processed 4347621 words, keeping 48091 word types\n",
      "2021-02-24 05:56:59,625 : INFO : PROGRESS: at sentence #190000, processed 4591349 words, keeping 49259 word types\n",
      "2021-02-24 05:56:59,693 : INFO : PROGRESS: at sentence #200000, processed 4843209 words, keeping 50402 word types\n",
      "2021-02-24 05:56:59,761 : INFO : PROGRESS: at sentence #210000, processed 5088228 words, keeping 51362 word types\n",
      "2021-02-24 05:56:59,823 : INFO : PROGRESS: at sentence #220000, processed 5321943 words, keeping 52181 word types\n",
      "2021-02-24 05:56:59,891 : INFO : PROGRESS: at sentence #230000, processed 5568087 words, keeping 53203 word types\n",
      "2021-02-24 05:56:59,957 : INFO : PROGRESS: at sentence #240000, processed 5807531 words, keeping 54145 word types\n",
      "2021-02-24 05:57:00,025 : INFO : PROGRESS: at sentence #250000, processed 6053628 words, keeping 55001 word types\n",
      "2021-02-24 05:57:00,094 : INFO : PROGRESS: at sentence #260000, processed 6300734 words, keeping 55928 word types\n",
      "2021-02-24 05:57:00,161 : INFO : PROGRESS: at sentence #270000, processed 6549319 words, keeping 56816 word types\n",
      "2021-02-24 05:57:00,229 : INFO : PROGRESS: at sentence #280000, processed 6794738 words, keeping 57640 word types\n",
      "2021-02-24 05:57:00,294 : INFO : PROGRESS: at sentence #290000, processed 7030932 words, keeping 58513 word types\n",
      "2021-02-24 05:57:00,360 : INFO : PROGRESS: at sentence #300000, processed 7274759 words, keeping 59291 word types\n",
      "2021-02-24 05:57:00,423 : INFO : PROGRESS: at sentence #310000, processed 7504991 words, keeping 60089 word types\n",
      "2021-02-24 05:57:00,489 : INFO : PROGRESS: at sentence #320000, processed 7743717 words, keeping 60839 word types\n",
      "2021-02-24 05:57:00,557 : INFO : PROGRESS: at sentence #330000, processed 7986296 words, keeping 61726 word types\n",
      "2021-02-24 05:57:00,625 : INFO : PROGRESS: at sentence #340000, processed 8233584 words, keeping 62707 word types\n",
      "2021-02-24 05:57:00,692 : INFO : PROGRESS: at sentence #350000, processed 8472946 words, keeping 63417 word types\n",
      "2021-02-24 05:57:00,758 : INFO : PROGRESS: at sentence #360000, processed 8714745 words, keeping 64136 word types\n",
      "2021-02-24 05:57:00,824 : INFO : PROGRESS: at sentence #370000, processed 8956230 words, keeping 64832 word types\n",
      "2021-02-24 05:57:00,893 : INFO : PROGRESS: at sentence #380000, processed 9202889 words, keeping 65612 word types\n",
      "2021-02-24 05:57:00,959 : INFO : PROGRESS: at sentence #390000, processed 9448874 words, keeping 66321 word types\n",
      "2021-02-24 05:57:01,028 : INFO : PROGRESS: at sentence #400000, processed 9700624 words, keeping 67006 word types\n",
      "2021-02-24 05:57:01,096 : INFO : PROGRESS: at sentence #410000, processed 9947750 words, keeping 67694 word types\n",
      "2021-02-24 05:57:01,165 : INFO : PROGRESS: at sentence #420000, processed 10190053 words, keeping 68291 word types\n",
      "2021-02-24 05:57:01,232 : INFO : PROGRESS: at sentence #430000, processed 10435535 words, keeping 69066 word types\n",
      "2021-02-24 05:57:01,300 : INFO : PROGRESS: at sentence #440000, processed 10681825 words, keeping 69721 word types\n",
      "2021-02-24 05:57:01,365 : INFO : PROGRESS: at sentence #450000, processed 10919516 words, keeping 70334 word types\n",
      "2021-02-24 05:57:01,432 : INFO : PROGRESS: at sentence #460000, processed 11164649 words, keeping 70939 word types\n",
      "2021-02-24 05:57:01,499 : INFO : PROGRESS: at sentence #470000, processed 11404580 words, keeping 71525 word types\n",
      "2021-02-24 05:57:01,563 : INFO : PROGRESS: at sentence #480000, processed 11641864 words, keeping 72128 word types\n",
      "2021-02-24 05:57:01,630 : INFO : PROGRESS: at sentence #490000, processed 11883491 words, keeping 72766 word types\n",
      "2021-02-24 05:57:01,695 : INFO : PROGRESS: at sentence #500000, processed 12122577 words, keeping 73273 word types\n",
      "2021-02-24 05:57:01,766 : INFO : PROGRESS: at sentence #510000, processed 12366145 words, keeping 73879 word types\n",
      "2021-02-24 05:57:01,832 : INFO : PROGRESS: at sentence #520000, processed 12607121 words, keeping 74469 word types\n",
      "2021-02-24 05:57:01,901 : INFO : PROGRESS: at sentence #530000, processed 12857397 words, keeping 75083 word types\n",
      "2021-02-24 05:57:01,967 : INFO : PROGRESS: at sentence #540000, processed 13101080 words, keeping 75700 word types\n",
      "2021-02-24 05:57:02,035 : INFO : PROGRESS: at sentence #550000, processed 13340155 words, keeping 76210 word types\n",
      "2021-02-24 05:57:02,104 : INFO : PROGRESS: at sentence #560000, processed 13586722 words, keeping 76776 word types\n",
      "2021-02-24 05:57:02,172 : INFO : PROGRESS: at sentence #570000, processed 13831344 words, keeping 77360 word types\n",
      "2021-02-24 05:57:02,239 : INFO : PROGRESS: at sentence #580000, processed 14074441 words, keeping 77947 word types\n",
      "2021-02-24 05:57:02,305 : INFO : PROGRESS: at sentence #590000, processed 14318494 words, keeping 78449 word types\n",
      "2021-02-24 05:57:02,370 : INFO : PROGRESS: at sentence #600000, processed 14553578 words, keeping 78962 word types\n",
      "2021-02-24 05:57:02,439 : INFO : PROGRESS: at sentence #610000, processed 14799583 words, keeping 79549 word types\n",
      "2021-02-24 05:57:02,506 : INFO : PROGRESS: at sentence #620000, processed 15048796 words, keeping 80143 word types\n",
      "2021-02-24 05:57:02,574 : INFO : PROGRESS: at sentence #630000, processed 15283406 words, keeping 80644 word types\n",
      "2021-02-24 05:57:02,613 : INFO : collected 80923 word types from a corpus of 15419855 raw words and 635709 sentences\n",
      "2021-02-24 05:57:02,614 : INFO : Loading a fresh vocabulary\n",
      "2021-02-24 05:57:02,667 : INFO : effective_min_count=5 retains 32651 unique words (40% of original 80923, drops 48272)\n",
      "2021-02-24 05:57:02,668 : INFO : effective_min_count=5 leaves 15338767 word corpus (99% of original 15419855, drops 81088)\n",
      "2021-02-24 05:57:02,752 : INFO : deleting the raw counts dictionary of 80923 items\n",
      "2021-02-24 05:57:02,754 : INFO : sample=1e-05 downsamples 3220 most-common words\n",
      "2021-02-24 05:57:02,755 : INFO : downsampling leaves estimated 3706115 word corpus (24.2% of prior 15338767)\n",
      "2021-02-24 05:57:02,777 : INFO : constructing a huffman tree from 32651 words\n",
      "2021-02-24 05:57:03,442 : INFO : built huffman tree with maximum node depth 22\n"
     ]
    },
    {
     "name": "stderr",
     "output_type": "stream",
     "text": [
      "2021-02-24 05:57:03,491 : INFO : estimated required memory for 32651 words and 100 dimensions: 62036900 bytes\n",
      "2021-02-24 05:57:03,492 : INFO : resetting layer weights\n",
      "2021-02-24 05:57:03,806 : INFO : training model with 12 workers on 32651 vocabulary and 100 features, using sg=1 hs=1 sample=1e-05 negative=5 window=5\n",
      "2021-02-24 05:57:04,814 : INFO : EPOCH 1 - PROGRESS: at 9.13% examples, 328290 words/s, in_qsize 16, out_qsize 2\n",
      "2021-02-24 05:57:05,820 : INFO : EPOCH 1 - PROGRESS: at 18.48% examples, 335782 words/s, in_qsize 23, out_qsize 0\n",
      "2021-02-24 05:57:06,823 : INFO : EPOCH 1 - PROGRESS: at 28.39% examples, 347443 words/s, in_qsize 0, out_qsize 1\n",
      "2021-02-24 05:57:07,828 : INFO : EPOCH 1 - PROGRESS: at 37.36% examples, 343672 words/s, in_qsize 2, out_qsize 0\n",
      "2021-02-24 05:57:08,829 : INFO : EPOCH 1 - PROGRESS: at 46.47% examples, 342996 words/s, in_qsize 0, out_qsize 0\n",
      "2021-02-24 05:57:09,841 : INFO : EPOCH 1 - PROGRESS: at 55.11% examples, 338125 words/s, in_qsize 22, out_qsize 2\n",
      "2021-02-24 05:57:10,844 : INFO : EPOCH 1 - PROGRESS: at 64.23% examples, 338769 words/s, in_qsize 0, out_qsize 1\n",
      "2021-02-24 05:57:11,874 : INFO : EPOCH 1 - PROGRESS: at 73.34% examples, 337064 words/s, in_qsize 24, out_qsize 0\n",
      "2021-02-24 05:57:12,896 : INFO : EPOCH 1 - PROGRESS: at 82.82% examples, 337402 words/s, in_qsize 0, out_qsize 0\n",
      "2021-02-24 05:57:13,925 : INFO : EPOCH 1 - PROGRESS: at 91.89% examples, 336675 words/s, in_qsize 0, out_qsize 0\n",
      "2021-02-24 05:57:14,857 : INFO : worker thread finished; awaiting finish of 11 more threads\n",
      "2021-02-24 05:57:14,858 : INFO : worker thread finished; awaiting finish of 10 more threads\n",
      "2021-02-24 05:57:14,860 : INFO : worker thread finished; awaiting finish of 9 more threads\n",
      "2021-02-24 05:57:14,862 : INFO : worker thread finished; awaiting finish of 8 more threads\n",
      "2021-02-24 05:57:14,865 : INFO : worker thread finished; awaiting finish of 7 more threads\n",
      "2021-02-24 05:57:14,867 : INFO : worker thread finished; awaiting finish of 6 more threads\n",
      "2021-02-24 05:57:14,868 : INFO : worker thread finished; awaiting finish of 5 more threads\n",
      "2021-02-24 05:57:14,870 : INFO : worker thread finished; awaiting finish of 4 more threads\n",
      "2021-02-24 05:57:14,875 : INFO : worker thread finished; awaiting finish of 3 more threads\n",
      "2021-02-24 05:57:14,877 : INFO : worker thread finished; awaiting finish of 2 more threads\n",
      "2021-02-24 05:57:14,883 : INFO : worker thread finished; awaiting finish of 1 more threads\n",
      "2021-02-24 05:57:14,886 : INFO : worker thread finished; awaiting finish of 0 more threads\n",
      "2021-02-24 05:57:14,888 : INFO : EPOCH - 1 : training on 15419855 raw words (3704381 effective words) took 11.1s, 334428 effective words/s\n",
      "2021-02-24 05:57:15,898 : INFO : EPOCH 2 - PROGRESS: at 8.94% examples, 319682 words/s, in_qsize 1, out_qsize 0\n",
      "2021-02-24 05:57:16,903 : INFO : EPOCH 2 - PROGRESS: at 17.90% examples, 324318 words/s, in_qsize 16, out_qsize 1\n",
      "2021-02-24 05:57:17,911 : INFO : EPOCH 2 - PROGRESS: at 27.03% examples, 328942 words/s, in_qsize 0, out_qsize 0\n",
      "2021-02-24 05:57:18,916 : INFO : EPOCH 2 - PROGRESS: at 35.92% examples, 329931 words/s, in_qsize 0, out_qsize 0\n",
      "2021-02-24 05:57:19,929 : INFO : EPOCH 2 - PROGRESS: at 44.69% examples, 329078 words/s, in_qsize 15, out_qsize 0\n",
      "2021-02-24 05:57:20,939 : INFO : EPOCH 2 - PROGRESS: at 53.87% examples, 329938 words/s, in_qsize 22, out_qsize 1\n",
      "2021-02-24 05:57:21,956 : INFO : EPOCH 2 - PROGRESS: at 62.78% examples, 329401 words/s, in_qsize 10, out_qsize 0\n",
      "2021-02-24 05:57:22,972 : INFO : EPOCH 2 - PROGRESS: at 71.62% examples, 329035 words/s, in_qsize 13, out_qsize 4\n",
      "2021-02-24 05:57:23,984 : INFO : EPOCH 2 - PROGRESS: at 81.62% examples, 332352 words/s, in_qsize 0, out_qsize 0\n",
      "2021-02-24 05:57:24,988 : INFO : EPOCH 2 - PROGRESS: at 90.40% examples, 332056 words/s, in_qsize 0, out_qsize 1\n",
      "2021-02-24 05:57:25,995 : INFO : EPOCH 2 - PROGRESS: at 99.10% examples, 330991 words/s, in_qsize 11, out_qsize 4\n",
      "2021-02-24 05:57:26,009 : INFO : worker thread finished; awaiting finish of 11 more threads\n",
      "2021-02-24 05:57:26,012 : INFO : worker thread finished; awaiting finish of 10 more threads\n",
      "2021-02-24 05:57:26,013 : INFO : worker thread finished; awaiting finish of 9 more threads\n",
      "2021-02-24 05:57:26,015 : INFO : worker thread finished; awaiting finish of 8 more threads\n",
      "2021-02-24 05:57:26,022 : INFO : worker thread finished; awaiting finish of 7 more threads\n",
      "2021-02-24 05:57:26,030 : INFO : worker thread finished; awaiting finish of 6 more threads\n",
      "2021-02-24 05:57:26,032 : INFO : worker thread finished; awaiting finish of 5 more threads\n",
      "2021-02-24 05:57:26,034 : INFO : worker thread finished; awaiting finish of 4 more threads\n",
      "2021-02-24 05:57:26,037 : INFO : worker thread finished; awaiting finish of 3 more threads\n",
      "2021-02-24 05:57:26,043 : INFO : worker thread finished; awaiting finish of 2 more threads\n",
      "2021-02-24 05:57:26,048 : INFO : worker thread finished; awaiting finish of 1 more threads\n",
      "2021-02-24 05:57:26,052 : INFO : worker thread finished; awaiting finish of 0 more threads\n",
      "2021-02-24 05:57:26,053 : INFO : EPOCH - 2 : training on 15419855 raw words (3707018 effective words) took 11.2s, 332124 effective words/s\n",
      "2021-02-24 05:57:27,061 : INFO : EPOCH 3 - PROGRESS: at 8.61% examples, 309212 words/s, in_qsize 6, out_qsize 1\n",
      "2021-02-24 05:57:28,069 : INFO : EPOCH 3 - PROGRESS: at 18.30% examples, 332130 words/s, in_qsize 0, out_qsize 0\n",
      "2021-02-24 05:57:29,078 : INFO : EPOCH 3 - PROGRESS: at 27.16% examples, 330991 words/s, in_qsize 0, out_qsize 0\n",
      "2021-02-24 05:57:30,095 : INFO : EPOCH 3 - PROGRESS: at 35.80% examples, 327783 words/s, in_qsize 7, out_qsize 0\n",
      "2021-02-24 05:57:31,101 : INFO : EPOCH 3 - PROGRESS: at 45.42% examples, 334366 words/s, in_qsize 0, out_qsize 0\n",
      "2021-02-24 05:57:32,105 : INFO : EPOCH 3 - PROGRESS: at 54.46% examples, 333700 words/s, in_qsize 0, out_qsize 0\n",
      "2021-02-24 05:57:33,111 : INFO : EPOCH 3 - PROGRESS: at 62.39% examples, 328186 words/s, in_qsize 18, out_qsize 3\n",
      "2021-02-24 05:57:34,112 : INFO : EPOCH 3 - PROGRESS: at 71.90% examples, 331405 words/s, in_qsize 0, out_qsize 0\n",
      "2021-02-24 05:57:35,116 : INFO : EPOCH 3 - PROGRESS: at 80.66% examples, 329837 words/s, in_qsize 7, out_qsize 1\n",
      "2021-02-24 05:57:36,116 : INFO : EPOCH 3 - PROGRESS: at 89.31% examples, 329237 words/s, in_qsize 14, out_qsize 2\n",
      "2021-02-24 05:57:37,129 : INFO : EPOCH 3 - PROGRESS: at 98.77% examples, 330978 words/s, in_qsize 19, out_qsize 0\n",
      "2021-02-24 05:57:37,146 : INFO : worker thread finished; awaiting finish of 11 more threads\n",
      "2021-02-24 05:57:37,173 : INFO : worker thread finished; awaiting finish of 10 more threads\n",
      "2021-02-24 05:57:37,175 : INFO : worker thread finished; awaiting finish of 9 more threads\n",
      "2021-02-24 05:57:37,178 : INFO : worker thread finished; awaiting finish of 8 more threads\n",
      "2021-02-24 05:57:37,180 : INFO : worker thread finished; awaiting finish of 7 more threads\n",
      "2021-02-24 05:57:37,181 : INFO : worker thread finished; awaiting finish of 6 more threads\n",
      "2021-02-24 05:57:37,183 : INFO : worker thread finished; awaiting finish of 5 more threads\n",
      "2021-02-24 05:57:37,192 : INFO : worker thread finished; awaiting finish of 4 more threads\n",
      "2021-02-24 05:57:37,200 : INFO : worker thread finished; awaiting finish of 3 more threads\n",
      "2021-02-24 05:57:37,204 : INFO : worker thread finished; awaiting finish of 2 more threads\n",
      "2021-02-24 05:57:37,206 : INFO : worker thread finished; awaiting finish of 1 more threads\n",
      "2021-02-24 05:57:37,213 : INFO : worker thread finished; awaiting finish of 0 more threads\n",
      "2021-02-24 05:57:37,215 : INFO : EPOCH - 3 : training on 15419855 raw words (3708113 effective words) took 11.2s, 332374 effective words/s\n",
      "2021-02-24 05:57:38,219 : INFO : EPOCH 4 - PROGRESS: at 8.94% examples, 321527 words/s, in_qsize 0, out_qsize 0\n",
      "2021-02-24 05:57:39,226 : INFO : EPOCH 4 - PROGRESS: at 17.77% examples, 322068 words/s, in_qsize 8, out_qsize 0\n",
      "2021-02-24 05:57:40,247 : INFO : EPOCH 4 - PROGRESS: at 26.65% examples, 322961 words/s, in_qsize 23, out_qsize 0\n",
      "2021-02-24 05:57:41,247 : INFO : EPOCH 4 - PROGRESS: at 35.69% examples, 326514 words/s, in_qsize 20, out_qsize 0\n",
      "2021-02-24 05:57:42,252 : INFO : EPOCH 4 - PROGRESS: at 45.01% examples, 331290 words/s, in_qsize 0, out_qsize 0\n"
     ]
    },
    {
     "name": "stderr",
     "output_type": "stream",
     "text": [
      "2021-02-24 05:57:43,258 : INFO : EPOCH 4 - PROGRESS: at 54.07% examples, 331269 words/s, in_qsize 0, out_qsize 0\n",
      "2021-02-24 05:57:44,259 : INFO : EPOCH 4 - PROGRESS: at 62.45% examples, 328624 words/s, in_qsize 23, out_qsize 0\n",
      "2021-02-24 05:57:45,266 : INFO : EPOCH 4 - PROGRESS: at 71.44% examples, 329189 words/s, in_qsize 9, out_qsize 0\n",
      "2021-02-24 05:57:46,286 : INFO : EPOCH 4 - PROGRESS: at 80.06% examples, 326708 words/s, in_qsize 23, out_qsize 0\n",
      "2021-02-24 05:57:47,306 : INFO : EPOCH 4 - PROGRESS: at 89.05% examples, 327045 words/s, in_qsize 23, out_qsize 0\n",
      "2021-02-24 05:57:48,312 : INFO : EPOCH 4 - PROGRESS: at 98.65% examples, 329631 words/s, in_qsize 21, out_qsize 0\n",
      "2021-02-24 05:57:48,379 : INFO : worker thread finished; awaiting finish of 11 more threads\n",
      "2021-02-24 05:57:48,384 : INFO : worker thread finished; awaiting finish of 10 more threads\n",
      "2021-02-24 05:57:48,387 : INFO : worker thread finished; awaiting finish of 9 more threads\n",
      "2021-02-24 05:57:48,388 : INFO : worker thread finished; awaiting finish of 8 more threads\n",
      "2021-02-24 05:57:48,391 : INFO : worker thread finished; awaiting finish of 7 more threads\n",
      "2021-02-24 05:57:48,395 : INFO : worker thread finished; awaiting finish of 6 more threads\n",
      "2021-02-24 05:57:48,397 : INFO : worker thread finished; awaiting finish of 5 more threads\n",
      "2021-02-24 05:57:48,402 : INFO : worker thread finished; awaiting finish of 4 more threads\n",
      "2021-02-24 05:57:48,404 : INFO : worker thread finished; awaiting finish of 3 more threads\n",
      "2021-02-24 05:57:48,414 : INFO : worker thread finished; awaiting finish of 2 more threads\n",
      "2021-02-24 05:57:48,417 : INFO : worker thread finished; awaiting finish of 1 more threads\n",
      "2021-02-24 05:57:48,419 : INFO : worker thread finished; awaiting finish of 0 more threads\n",
      "2021-02-24 05:57:48,421 : INFO : EPOCH - 4 : training on 15419855 raw words (3705297 effective words) took 11.2s, 330778 effective words/s\n",
      "2021-02-24 05:57:49,426 : INFO : EPOCH 5 - PROGRESS: at 8.07% examples, 290275 words/s, in_qsize 16, out_qsize 0\n",
      "2021-02-24 05:57:50,434 : INFO : EPOCH 5 - PROGRESS: at 17.37% examples, 315183 words/s, in_qsize 22, out_qsize 0\n",
      "2021-02-24 05:57:51,444 : INFO : EPOCH 5 - PROGRESS: at 26.64% examples, 324178 words/s, in_qsize 0, out_qsize 1\n",
      "2021-02-24 05:57:52,448 : INFO : EPOCH 5 - PROGRESS: at 36.10% examples, 331556 words/s, in_qsize 0, out_qsize 1\n",
      "2021-02-24 05:57:53,476 : INFO : EPOCH 5 - PROGRESS: at 44.62% examples, 327345 words/s, in_qsize 24, out_qsize 0\n",
      "2021-02-24 05:57:54,479 : INFO : EPOCH 5 - PROGRESS: at 53.88% examples, 329449 words/s, in_qsize 0, out_qsize 0\n",
      "2021-02-24 05:57:55,491 : INFO : EPOCH 5 - PROGRESS: at 62.78% examples, 329185 words/s, in_qsize 0, out_qsize 0\n",
      "2021-02-24 05:57:56,493 : INFO : EPOCH 5 - PROGRESS: at 71.96% examples, 330861 words/s, in_qsize 1, out_qsize 0\n",
      "2021-02-24 05:57:57,496 : INFO : EPOCH 5 - PROGRESS: at 81.24% examples, 331463 words/s, in_qsize 1, out_qsize 0\n",
      "2021-02-24 05:57:58,502 : INFO : EPOCH 5 - PROGRESS: at 89.51% examples, 329212 words/s, in_qsize 21, out_qsize 1\n",
      "2021-02-24 05:57:59,505 : INFO : EPOCH 5 - PROGRESS: at 98.79% examples, 330625 words/s, in_qsize 19, out_qsize 0\n",
      "2021-02-24 05:57:59,559 : INFO : worker thread finished; awaiting finish of 11 more threads\n",
      "2021-02-24 05:57:59,561 : INFO : worker thread finished; awaiting finish of 10 more threads\n",
      "2021-02-24 05:57:59,565 : INFO : worker thread finished; awaiting finish of 9 more threads\n",
      "2021-02-24 05:57:59,572 : INFO : worker thread finished; awaiting finish of 8 more threads\n",
      "2021-02-24 05:57:59,574 : INFO : worker thread finished; awaiting finish of 7 more threads\n",
      "2021-02-24 05:57:59,576 : INFO : worker thread finished; awaiting finish of 6 more threads\n",
      "2021-02-24 05:57:59,578 : INFO : worker thread finished; awaiting finish of 5 more threads\n",
      "2021-02-24 05:57:59,581 : INFO : worker thread finished; awaiting finish of 4 more threads\n",
      "2021-02-24 05:57:59,583 : INFO : worker thread finished; awaiting finish of 3 more threads\n",
      "2021-02-24 05:57:59,592 : INFO : worker thread finished; awaiting finish of 2 more threads\n",
      "2021-02-24 05:57:59,594 : INFO : worker thread finished; awaiting finish of 1 more threads\n",
      "2021-02-24 05:57:59,599 : INFO : worker thread finished; awaiting finish of 0 more threads\n",
      "2021-02-24 05:57:59,601 : INFO : EPOCH - 5 : training on 15419855 raw words (3707254 effective words) took 11.2s, 331723 effective words/s\n",
      "2021-02-24 05:58:00,625 : INFO : EPOCH 6 - PROGRESS: at 8.61% examples, 304223 words/s, in_qsize 23, out_qsize 0\n",
      "2021-02-24 05:58:01,642 : INFO : EPOCH 6 - PROGRESS: at 17.11% examples, 306201 words/s, in_qsize 23, out_qsize 0\n",
      "2021-02-24 05:58:02,652 : INFO : EPOCH 6 - PROGRESS: at 26.97% examples, 325425 words/s, in_qsize 0, out_qsize 0\n",
      "2021-02-24 05:58:03,662 : INFO : EPOCH 6 - PROGRESS: at 35.74% examples, 325330 words/s, in_qsize 7, out_qsize 0\n",
      "2021-02-24 05:58:04,677 : INFO : EPOCH 6 - PROGRESS: at 43.86% examples, 320315 words/s, in_qsize 23, out_qsize 0\n",
      "2021-02-24 05:58:05,678 : INFO : EPOCH 6 - PROGRESS: at 53.88% examples, 328453 words/s, in_qsize 0, out_qsize 0\n",
      "2021-02-24 05:58:06,689 : INFO : EPOCH 6 - PROGRESS: at 63.09% examples, 330096 words/s, in_qsize 1, out_qsize 0\n",
      "2021-02-24 05:58:07,690 : INFO : EPOCH 6 - PROGRESS: at 71.84% examples, 329625 words/s, in_qsize 16, out_qsize 0\n",
      "2021-02-24 05:58:08,708 : INFO : EPOCH 6 - PROGRESS: at 80.85% examples, 328746 words/s, in_qsize 17, out_qsize 0\n",
      "2021-02-24 05:58:09,717 : INFO : EPOCH 6 - PROGRESS: at 89.95% examples, 329703 words/s, in_qsize 15, out_qsize 0\n",
      "2021-02-24 05:58:10,731 : INFO : EPOCH 6 - PROGRESS: at 99.23% examples, 330637 words/s, in_qsize 12, out_qsize 0\n",
      "2021-02-24 05:58:10,734 : INFO : worker thread finished; awaiting finish of 11 more threads\n",
      "2021-02-24 05:58:10,742 : INFO : worker thread finished; awaiting finish of 10 more threads\n",
      "2021-02-24 05:58:10,746 : INFO : worker thread finished; awaiting finish of 9 more threads\n",
      "2021-02-24 05:58:10,749 : INFO : worker thread finished; awaiting finish of 8 more threads\n",
      "2021-02-24 05:58:10,751 : INFO : worker thread finished; awaiting finish of 7 more threads\n",
      "2021-02-24 05:58:10,753 : INFO : worker thread finished; awaiting finish of 6 more threads\n",
      "2021-02-24 05:58:10,755 : INFO : worker thread finished; awaiting finish of 5 more threads\n",
      "2021-02-24 05:58:10,756 : INFO : worker thread finished; awaiting finish of 4 more threads\n",
      "2021-02-24 05:58:10,759 : INFO : worker thread finished; awaiting finish of 3 more threads\n",
      "2021-02-24 05:58:10,762 : INFO : worker thread finished; awaiting finish of 2 more threads\n",
      "2021-02-24 05:58:10,763 : INFO : worker thread finished; awaiting finish of 1 more threads\n",
      "2021-02-24 05:58:10,765 : INFO : worker thread finished; awaiting finish of 0 more threads\n",
      "2021-02-24 05:58:10,766 : INFO : EPOCH - 6 : training on 15419855 raw words (3705557 effective words) took 11.2s, 332040 effective words/s\n",
      "2021-02-24 05:58:11,780 : INFO : EPOCH 7 - PROGRESS: at 8.81% examples, 315223 words/s, in_qsize 0, out_qsize 0\n",
      "2021-02-24 05:58:12,786 : INFO : EPOCH 7 - PROGRESS: at 18.04% examples, 326362 words/s, in_qsize 0, out_qsize 0\n",
      "2021-02-24 05:58:13,808 : INFO : EPOCH 7 - PROGRESS: at 27.30% examples, 330290 words/s, in_qsize 2, out_qsize 2\n",
      "2021-02-24 05:58:14,814 : INFO : EPOCH 7 - PROGRESS: at 36.51% examples, 333648 words/s, in_qsize 0, out_qsize 0\n",
      "2021-02-24 05:58:15,816 : INFO : EPOCH 7 - PROGRESS: at 44.56% examples, 327351 words/s, in_qsize 22, out_qsize 0\n",
      "2021-02-24 05:58:16,821 : INFO : EPOCH 7 - PROGRESS: at 54.01% examples, 330353 words/s, in_qsize 21, out_qsize 0\n",
      "2021-02-24 05:58:17,827 : INFO : EPOCH 7 - PROGRESS: at 62.98% examples, 330602 words/s, in_qsize 21, out_qsize 2\n",
      "2021-02-24 05:58:18,831 : INFO : EPOCH 7 - PROGRESS: at 72.88% examples, 335167 words/s, in_qsize 0, out_qsize 0\n",
      "2021-02-24 05:58:19,846 : INFO : EPOCH 7 - PROGRESS: at 82.26% examples, 335443 words/s, in_qsize 1, out_qsize 0\n",
      "2021-02-24 05:58:20,851 : INFO : EPOCH 7 - PROGRESS: at 90.85% examples, 334041 words/s, in_qsize 0, out_qsize 1\n",
      "2021-02-24 05:58:21,783 : INFO : worker thread finished; awaiting finish of 11 more threads\n",
      "2021-02-24 05:58:21,787 : INFO : worker thread finished; awaiting finish of 10 more threads\n"
     ]
    },
    {
     "name": "stderr",
     "output_type": "stream",
     "text": [
      "2021-02-24 05:58:21,789 : INFO : worker thread finished; awaiting finish of 9 more threads\n",
      "2021-02-24 05:58:21,791 : INFO : worker thread finished; awaiting finish of 8 more threads\n",
      "2021-02-24 05:58:21,792 : INFO : worker thread finished; awaiting finish of 7 more threads\n",
      "2021-02-24 05:58:21,794 : INFO : worker thread finished; awaiting finish of 6 more threads\n",
      "2021-02-24 05:58:21,795 : INFO : worker thread finished; awaiting finish of 5 more threads\n",
      "2021-02-24 05:58:21,797 : INFO : worker thread finished; awaiting finish of 4 more threads\n",
      "2021-02-24 05:58:21,804 : INFO : worker thread finished; awaiting finish of 3 more threads\n",
      "2021-02-24 05:58:21,807 : INFO : worker thread finished; awaiting finish of 2 more threads\n",
      "2021-02-24 05:58:21,818 : INFO : worker thread finished; awaiting finish of 1 more threads\n",
      "2021-02-24 05:58:21,820 : INFO : worker thread finished; awaiting finish of 0 more threads\n",
      "2021-02-24 05:58:21,821 : INFO : EPOCH - 7 : training on 15419855 raw words (3704736 effective words) took 11.0s, 335284 effective words/s\n",
      "2021-02-24 05:58:22,827 : INFO : EPOCH 8 - PROGRESS: at 9.19% examples, 331960 words/s, in_qsize 0, out_qsize 1\n",
      "2021-02-24 05:58:23,832 : INFO : EPOCH 8 - PROGRESS: at 18.04% examples, 327757 words/s, in_qsize 0, out_qsize 1\n",
      "2021-02-24 05:58:24,837 : INFO : EPOCH 8 - PROGRESS: at 27.16% examples, 331499 words/s, in_qsize 0, out_qsize 0\n",
      "2021-02-24 05:58:25,848 : INFO : EPOCH 8 - PROGRESS: at 36.10% examples, 331721 words/s, in_qsize 0, out_qsize 3\n",
      "2021-02-24 05:58:26,850 : INFO : EPOCH 8 - PROGRESS: at 44.70% examples, 329524 words/s, in_qsize 21, out_qsize 1\n",
      "2021-02-24 05:58:27,850 : INFO : EPOCH 8 - PROGRESS: at 54.13% examples, 332583 words/s, in_qsize 0, out_qsize 0\n",
      "2021-02-24 05:58:28,852 : INFO : EPOCH 8 - PROGRESS: at 62.85% examples, 331355 words/s, in_qsize 8, out_qsize 1\n",
      "2021-02-24 05:58:29,853 : INFO : EPOCH 8 - PROGRESS: at 72.29% examples, 333963 words/s, in_qsize 0, out_qsize 0\n",
      "2021-02-24 05:58:30,889 : INFO : EPOCH 8 - PROGRESS: at 81.31% examples, 332018 words/s, in_qsize 13, out_qsize 0\n",
      "2021-02-24 05:58:31,897 : INFO : EPOCH 8 - PROGRESS: at 90.46% examples, 333125 words/s, in_qsize 0, out_qsize 2\n",
      "2021-02-24 05:58:32,897 : INFO : worker thread finished; awaiting finish of 11 more threads\n",
      "2021-02-24 05:58:32,899 : INFO : worker thread finished; awaiting finish of 10 more threads\n",
      "2021-02-24 05:58:32,900 : INFO : worker thread finished; awaiting finish of 9 more threads\n",
      "2021-02-24 05:58:32,902 : INFO : worker thread finished; awaiting finish of 8 more threads\n",
      "2021-02-24 05:58:32,903 : INFO : worker thread finished; awaiting finish of 7 more threads\n",
      "2021-02-24 05:58:32,905 : INFO : worker thread finished; awaiting finish of 6 more threads\n",
      "2021-02-24 05:58:32,906 : INFO : EPOCH 8 - PROGRESS: at 99.70% examples, 333518 words/s, in_qsize 5, out_qsize 1\n",
      "2021-02-24 05:58:32,908 : INFO : worker thread finished; awaiting finish of 5 more threads\n",
      "2021-02-24 05:58:32,911 : INFO : worker thread finished; awaiting finish of 4 more threads\n",
      "2021-02-24 05:58:32,916 : INFO : worker thread finished; awaiting finish of 3 more threads\n",
      "2021-02-24 05:58:32,921 : INFO : worker thread finished; awaiting finish of 2 more threads\n",
      "2021-02-24 05:58:32,925 : INFO : worker thread finished; awaiting finish of 1 more threads\n",
      "2021-02-24 05:58:32,931 : INFO : worker thread finished; awaiting finish of 0 more threads\n",
      "2021-02-24 05:58:32,932 : INFO : EPOCH - 8 : training on 15419855 raw words (3706907 effective words) took 11.1s, 333765 effective words/s\n",
      "2021-02-24 05:58:33,940 : INFO : EPOCH 9 - PROGRESS: at 9.00% examples, 324016 words/s, in_qsize 0, out_qsize 2\n",
      "2021-02-24 05:58:34,947 : INFO : EPOCH 9 - PROGRESS: at 18.10% examples, 328777 words/s, in_qsize 0, out_qsize 2\n",
      "2021-02-24 05:58:35,961 : INFO : EPOCH 9 - PROGRESS: at 27.48% examples, 334504 words/s, in_qsize 0, out_qsize 2\n",
      "2021-02-24 05:58:36,968 : INFO : EPOCH 9 - PROGRESS: at 35.80% examples, 328087 words/s, in_qsize 24, out_qsize 2\n",
      "2021-02-24 05:58:37,991 : INFO : EPOCH 9 - PROGRESS: at 44.82% examples, 328719 words/s, in_qsize 23, out_qsize 0\n",
      "2021-02-24 05:58:38,992 : INFO : EPOCH 9 - PROGRESS: at 54.78% examples, 334915 words/s, in_qsize 0, out_qsize 0\n",
      "2021-02-24 05:58:39,993 : INFO : EPOCH 9 - PROGRESS: at 63.67% examples, 334696 words/s, in_qsize 0, out_qsize 0\n",
      "2021-02-24 05:58:40,998 : INFO : EPOCH 9 - PROGRESS: at 71.84% examples, 330557 words/s, in_qsize 16, out_qsize 4\n",
      "2021-02-24 05:58:42,038 : INFO : EPOCH 9 - PROGRESS: at 81.31% examples, 330613 words/s, in_qsize 22, out_qsize 1\n",
      "2021-02-24 05:58:43,040 : INFO : EPOCH 9 - PROGRESS: at 90.97% examples, 333838 words/s, in_qsize 0, out_qsize 1\n",
      "2021-02-24 05:58:44,038 : INFO : worker thread finished; awaiting finish of 11 more threads\n",
      "2021-02-24 05:58:44,053 : INFO : EPOCH 9 - PROGRESS: at 99.37% examples, 331315 words/s, in_qsize 9, out_qsize 3\n",
      "2021-02-24 05:58:44,056 : INFO : worker thread finished; awaiting finish of 10 more threads\n",
      "2021-02-24 05:58:44,057 : INFO : worker thread finished; awaiting finish of 9 more threads\n",
      "2021-02-24 05:58:44,059 : INFO : worker thread finished; awaiting finish of 8 more threads\n",
      "2021-02-24 05:58:44,061 : INFO : worker thread finished; awaiting finish of 7 more threads\n",
      "2021-02-24 05:58:44,063 : INFO : worker thread finished; awaiting finish of 6 more threads\n",
      "2021-02-24 05:58:44,065 : INFO : worker thread finished; awaiting finish of 5 more threads\n",
      "2021-02-24 05:58:44,071 : INFO : worker thread finished; awaiting finish of 4 more threads\n",
      "2021-02-24 05:58:44,075 : INFO : worker thread finished; awaiting finish of 3 more threads\n",
      "2021-02-24 05:58:44,083 : INFO : worker thread finished; awaiting finish of 2 more threads\n",
      "2021-02-24 05:58:44,092 : INFO : worker thread finished; awaiting finish of 1 more threads\n",
      "2021-02-24 05:58:44,099 : INFO : worker thread finished; awaiting finish of 0 more threads\n",
      "2021-02-24 05:58:44,101 : INFO : EPOCH - 9 : training on 15419855 raw words (3705712 effective words) took 11.2s, 331957 effective words/s\n",
      "2021-02-24 05:58:45,120 : INFO : EPOCH 10 - PROGRESS: at 9.32% examples, 331723 words/s, in_qsize 0, out_qsize 0\n",
      "2021-02-24 05:58:46,123 : INFO : EPOCH 10 - PROGRESS: at 18.43% examples, 333609 words/s, in_qsize 0, out_qsize 0\n",
      "2021-02-24 05:58:47,134 : INFO : EPOCH 10 - PROGRESS: at 27.67% examples, 336277 words/s, in_qsize 0, out_qsize 2\n",
      "2021-02-24 05:58:48,134 : INFO : EPOCH 10 - PROGRESS: at 36.17% examples, 331819 words/s, in_qsize 1, out_qsize 0\n",
      "2021-02-24 05:58:49,135 : INFO : EPOCH 10 - PROGRESS: at 45.02% examples, 331708 words/s, in_qsize 6, out_qsize 1\n",
      "2021-02-24 05:58:50,149 : INFO : EPOCH 10 - PROGRESS: at 54.72% examples, 335109 words/s, in_qsize 1, out_qsize 0\n",
      "2021-02-24 05:58:51,152 : INFO : EPOCH 10 - PROGRESS: at 63.66% examples, 334990 words/s, in_qsize 3, out_qsize 1\n",
      "2021-02-24 05:58:52,154 : INFO : EPOCH 10 - PROGRESS: at 72.23% examples, 332767 words/s, in_qsize 21, out_qsize 0\n",
      "2021-02-24 05:58:53,167 : INFO : EPOCH 10 - PROGRESS: at 81.87% examples, 334360 words/s, in_qsize 13, out_qsize 0\n",
      "2021-02-24 05:58:54,170 : INFO : EPOCH 10 - PROGRESS: at 91.31% examples, 336243 words/s, in_qsize 0, out_qsize 0\n",
      "2021-02-24 05:58:55,092 : INFO : worker thread finished; awaiting finish of 11 more threads\n",
      "2021-02-24 05:58:55,103 : INFO : worker thread finished; awaiting finish of 10 more threads\n",
      "2021-02-24 05:58:55,104 : INFO : worker thread finished; awaiting finish of 9 more threads\n",
      "2021-02-24 05:58:55,107 : INFO : worker thread finished; awaiting finish of 8 more threads\n",
      "2021-02-24 05:58:55,109 : INFO : worker thread finished; awaiting finish of 7 more threads\n",
      "2021-02-24 05:58:55,112 : INFO : worker thread finished; awaiting finish of 6 more threads\n",
      "2021-02-24 05:58:55,115 : INFO : worker thread finished; awaiting finish of 5 more threads\n",
      "2021-02-24 05:58:55,121 : INFO : worker thread finished; awaiting finish of 4 more threads\n",
      "2021-02-24 05:58:55,129 : INFO : worker thread finished; awaiting finish of 3 more threads\n",
      "2021-02-24 05:58:55,131 : INFO : worker thread finished; awaiting finish of 2 more threads\n",
      "2021-02-24 05:58:55,139 : INFO : worker thread finished; awaiting finish of 1 more threads\n",
      "2021-02-24 05:58:55,142 : INFO : worker thread finished; awaiting finish of 0 more threads\n"
     ]
    },
    {
     "name": "stderr",
     "output_type": "stream",
     "text": [
      "2021-02-24 05:58:55,143 : INFO : EPOCH - 10 : training on 15419855 raw words (3704610 effective words) took 11.0s, 335671 effective words/s\n",
      "2021-02-24 05:58:55,144 : INFO : training on a 154198550 raw words (37059585 effective words) took 111.3s, 332859 effective words/s\n",
      "2021-02-24 05:58:55,145 : INFO : saving Word2Vec object under dados/experimento_3/w2v_jur.model, separately None\n",
      "2021-02-24 05:58:55,147 : INFO : not storing attribute vectors_norm\n",
      "2021-02-24 05:58:55,148 : INFO : not storing attribute cum_table\n",
      "2021-02-24 05:58:56,019 : INFO : saved dados/experimento_3/w2v_jur.model\n"
     ]
    },
    {
     "name": "stdout",
     "output_type": "stream",
     "text": [
      "treinando modelo word2vec\n"
     ]
    },
    {
     "name": "stderr",
     "output_type": "stream",
     "text": [
      "2021-02-24 05:58:56,022 : INFO : resetting layer weights\n",
      "2021-02-24 05:59:00,967 : INFO : collecting all words and their counts\n",
      "2021-02-24 05:59:00,968 : INFO : PROGRESS: at sentence #0, processed 0 words, keeping 0 word types\n",
      "2021-02-24 05:59:01,039 : INFO : PROGRESS: at sentence #10000, processed 232799 words, keeping 12962 word types\n",
      "2021-02-24 05:59:01,111 : INFO : PROGRESS: at sentence #20000, processed 473537 words, keeping 18070 word types\n",
      "2021-02-24 05:59:01,186 : INFO : PROGRESS: at sentence #30000, processed 720037 words, keeping 21795 word types\n",
      "2021-02-24 05:59:01,261 : INFO : PROGRESS: at sentence #40000, processed 964271 words, keeping 24773 word types\n",
      "2021-02-24 05:59:01,332 : INFO : PROGRESS: at sentence #50000, processed 1197973 words, keeping 27348 word types\n",
      "2021-02-24 05:59:01,402 : INFO : PROGRESS: at sentence #60000, processed 1434978 words, keeping 29807 word types\n",
      "2021-02-24 05:59:01,472 : INFO : PROGRESS: at sentence #70000, processed 1670382 words, keeping 31738 word types\n",
      "2021-02-24 05:59:01,545 : INFO : PROGRESS: at sentence #80000, processed 1914864 words, keeping 33572 word types\n",
      "2021-02-24 05:59:01,618 : INFO : PROGRESS: at sentence #90000, processed 2155541 words, keeping 35504 word types\n",
      "2021-02-24 05:59:01,691 : INFO : PROGRESS: at sentence #100000, processed 2400178 words, keeping 37106 word types\n",
      "2021-02-24 05:59:01,763 : INFO : PROGRESS: at sentence #110000, processed 2644319 words, keeping 38838 word types\n",
      "2021-02-24 05:59:01,829 : INFO : PROGRESS: at sentence #120000, processed 2878923 words, keeping 40230 word types\n",
      "2021-02-24 05:59:01,900 : INFO : PROGRESS: at sentence #130000, processed 3118070 words, keeping 41616 word types\n",
      "2021-02-24 05:59:01,972 : INFO : PROGRESS: at sentence #140000, processed 3357224 words, keeping 42943 word types\n",
      "2021-02-24 05:59:02,046 : INFO : PROGRESS: at sentence #150000, processed 3600908 words, keeping 44244 word types\n",
      "2021-02-24 05:59:02,119 : INFO : PROGRESS: at sentence #160000, processed 3850123 words, keeping 45773 word types\n",
      "2021-02-24 05:59:02,192 : INFO : PROGRESS: at sentence #170000, processed 4095621 words, keeping 46878 word types\n",
      "2021-02-24 05:59:02,266 : INFO : PROGRESS: at sentence #180000, processed 4347621 words, keeping 48091 word types\n",
      "2021-02-24 05:59:02,339 : INFO : PROGRESS: at sentence #190000, processed 4591349 words, keeping 49259 word types\n",
      "2021-02-24 05:59:02,414 : INFO : PROGRESS: at sentence #200000, processed 4843209 words, keeping 50402 word types\n",
      "2021-02-24 05:59:02,487 : INFO : PROGRESS: at sentence #210000, processed 5088228 words, keeping 51362 word types\n",
      "2021-02-24 05:59:02,553 : INFO : PROGRESS: at sentence #220000, processed 5321943 words, keeping 52181 word types\n",
      "2021-02-24 05:59:02,622 : INFO : PROGRESS: at sentence #230000, processed 5568087 words, keeping 53203 word types\n",
      "2021-02-24 05:59:02,689 : INFO : PROGRESS: at sentence #240000, processed 5807531 words, keeping 54145 word types\n",
      "2021-02-24 05:59:02,758 : INFO : PROGRESS: at sentence #250000, processed 6053628 words, keeping 55001 word types\n",
      "2021-02-24 05:59:02,826 : INFO : PROGRESS: at sentence #260000, processed 6300734 words, keeping 55928 word types\n",
      "2021-02-24 05:59:02,895 : INFO : PROGRESS: at sentence #270000, processed 6549319 words, keeping 56816 word types\n",
      "2021-02-24 05:59:02,964 : INFO : PROGRESS: at sentence #280000, processed 6794738 words, keeping 57640 word types\n",
      "2021-02-24 05:59:03,031 : INFO : PROGRESS: at sentence #290000, processed 7030932 words, keeping 58513 word types\n",
      "2021-02-24 05:59:03,099 : INFO : PROGRESS: at sentence #300000, processed 7274759 words, keeping 59291 word types\n",
      "2021-02-24 05:59:03,162 : INFO : PROGRESS: at sentence #310000, processed 7504991 words, keeping 60089 word types\n",
      "2021-02-24 05:59:03,229 : INFO : PROGRESS: at sentence #320000, processed 7743717 words, keeping 60839 word types\n",
      "2021-02-24 05:59:03,296 : INFO : PROGRESS: at sentence #330000, processed 7986296 words, keeping 61726 word types\n",
      "2021-02-24 05:59:03,364 : INFO : PROGRESS: at sentence #340000, processed 8233584 words, keeping 62707 word types\n",
      "2021-02-24 05:59:03,432 : INFO : PROGRESS: at sentence #350000, processed 8472946 words, keeping 63417 word types\n",
      "2021-02-24 05:59:03,499 : INFO : PROGRESS: at sentence #360000, processed 8714745 words, keeping 64136 word types\n",
      "2021-02-24 05:59:03,565 : INFO : PROGRESS: at sentence #370000, processed 8956230 words, keeping 64832 word types\n",
      "2021-02-24 05:59:03,634 : INFO : PROGRESS: at sentence #380000, processed 9202889 words, keeping 65612 word types\n",
      "2021-02-24 05:59:03,703 : INFO : PROGRESS: at sentence #390000, processed 9448874 words, keeping 66321 word types\n",
      "2021-02-24 05:59:03,775 : INFO : PROGRESS: at sentence #400000, processed 9700624 words, keeping 67006 word types\n",
      "2021-02-24 05:59:03,845 : INFO : PROGRESS: at sentence #410000, processed 9947750 words, keeping 67694 word types\n",
      "2021-02-24 05:59:03,913 : INFO : PROGRESS: at sentence #420000, processed 10190053 words, keeping 68291 word types\n",
      "2021-02-24 05:59:03,993 : INFO : PROGRESS: at sentence #430000, processed 10435535 words, keeping 69066 word types\n",
      "2021-02-24 05:59:04,062 : INFO : PROGRESS: at sentence #440000, processed 10681825 words, keeping 69721 word types\n",
      "2021-02-24 05:59:04,130 : INFO : PROGRESS: at sentence #450000, processed 10919516 words, keeping 70334 word types\n",
      "2021-02-24 05:59:04,197 : INFO : PROGRESS: at sentence #460000, processed 11164649 words, keeping 70939 word types\n",
      "2021-02-24 05:59:04,265 : INFO : PROGRESS: at sentence #470000, processed 11404580 words, keeping 71525 word types\n",
      "2021-02-24 05:59:04,332 : INFO : PROGRESS: at sentence #480000, processed 11641864 words, keeping 72128 word types\n",
      "2021-02-24 05:59:04,399 : INFO : PROGRESS: at sentence #490000, processed 11883491 words, keeping 72766 word types\n",
      "2021-02-24 05:59:04,466 : INFO : PROGRESS: at sentence #500000, processed 12122577 words, keeping 73273 word types\n",
      "2021-02-24 05:59:04,534 : INFO : PROGRESS: at sentence #510000, processed 12366145 words, keeping 73879 word types\n",
      "2021-02-24 05:59:04,603 : INFO : PROGRESS: at sentence #520000, processed 12607121 words, keeping 74469 word types\n",
      "2021-02-24 05:59:04,673 : INFO : PROGRESS: at sentence #530000, processed 12857397 words, keeping 75083 word types\n",
      "2021-02-24 05:59:04,742 : INFO : PROGRESS: at sentence #540000, processed 13101080 words, keeping 75700 word types\n",
      "2021-02-24 05:59:04,808 : INFO : PROGRESS: at sentence #550000, processed 13340155 words, keeping 76210 word types\n",
      "2021-02-24 05:59:04,878 : INFO : PROGRESS: at sentence #560000, processed 13586722 words, keeping 76776 word types\n",
      "2021-02-24 05:59:04,946 : INFO : PROGRESS: at sentence #570000, processed 13831344 words, keeping 77360 word types\n",
      "2021-02-24 05:59:05,015 : INFO : PROGRESS: at sentence #580000, processed 14074441 words, keeping 77947 word types\n",
      "2021-02-24 05:59:05,082 : INFO : PROGRESS: at sentence #590000, processed 14318494 words, keeping 78449 word types\n",
      "2021-02-24 05:59:05,147 : INFO : PROGRESS: at sentence #600000, processed 14553578 words, keeping 78962 word types\n",
      "2021-02-24 05:59:05,215 : INFO : PROGRESS: at sentence #610000, processed 14799583 words, keeping 79549 word types\n",
      "2021-02-24 05:59:05,285 : INFO : PROGRESS: at sentence #620000, processed 15048796 words, keeping 80143 word types\n",
      "2021-02-24 05:59:05,351 : INFO : PROGRESS: at sentence #630000, processed 15283406 words, keeping 80644 word types\n",
      "2021-02-24 05:59:05,389 : INFO : collected 80923 word types from a corpus of 15419855 raw words and 635709 sentences\n",
      "2021-02-24 05:59:05,391 : INFO : Loading a fresh vocabulary\n",
      "2021-02-24 05:59:05,441 : INFO : effective_min_count=5 retains 32651 unique words (40% of original 80923, drops 48272)\n",
      "2021-02-24 05:59:05,442 : INFO : effective_min_count=5 leaves 15338767 word corpus (99% of original 15419855, drops 81088)\n",
      "2021-02-24 05:59:05,519 : INFO : deleting the raw counts dictionary of 80923 items\n",
      "2021-02-24 05:59:05,521 : INFO : sample=0.001 downsamples 36 most-common words\n",
      "2021-02-24 05:59:05,522 : INFO : downsampling leaves estimated 11101988 word corpus (72.4% of prior 15338767)\n",
      "2021-02-24 05:59:05,543 : INFO : constructing a huffman tree from 32651 words\n",
      "2021-02-24 05:59:06,247 : INFO : built huffman tree with maximum node depth 22\n"
     ]
    },
    {
     "name": "stderr",
     "output_type": "stream",
     "text": [
      "2021-02-24 05:59:06,589 : INFO : estimated required memory for 32651 words, 138528 buckets and 100 dimensions: 126253284 bytes\n",
      "2021-02-24 05:59:06,594 : INFO : resetting layer weights\n",
      "2021-02-24 05:59:10,017 : INFO : training model with 12 workers on 32651 vocabulary and 100 features, using sg=1 hs=1 sample=0.001 negative=5 window=5\n",
      "2021-02-24 06:00:01,584 : INFO : EPOCH 1 - PROGRESS: at 8.39% words, 18073 words/s, in_qsize -1, out_qsize 1\n",
      "2021-02-24 06:00:01,586 : INFO : worker thread finished; awaiting finish of 11 more threads\n",
      "2021-02-24 06:00:01,664 : INFO : worker thread finished; awaiting finish of 10 more threads\n",
      "2021-02-24 06:00:01,701 : INFO : worker thread finished; awaiting finish of 9 more threads\n",
      "2021-02-24 06:00:01,717 : INFO : worker thread finished; awaiting finish of 8 more threads\n",
      "2021-02-24 06:00:01,848 : INFO : worker thread finished; awaiting finish of 7 more threads\n",
      "2021-02-24 06:00:01,875 : INFO : worker thread finished; awaiting finish of 6 more threads\n",
      "2021-02-24 06:00:02,039 : INFO : worker thread finished; awaiting finish of 5 more threads\n",
      "2021-02-24 06:00:02,126 : INFO : worker thread finished; awaiting finish of 4 more threads\n",
      "2021-02-24 06:00:02,139 : INFO : worker thread finished; awaiting finish of 3 more threads\n",
      "2021-02-24 06:00:02,163 : INFO : worker thread finished; awaiting finish of 2 more threads\n",
      "2021-02-24 06:00:02,211 : INFO : worker thread finished; awaiting finish of 1 more threads\n",
      "2021-02-24 06:00:02,491 : INFO : worker thread finished; awaiting finish of 0 more threads\n",
      "2021-02-24 06:00:02,492 : INFO : EPOCH - 1 : training on 15508776 raw words (11164788 effective words) took 52.4s, 212946 effective words/s\n",
      "2021-02-24 06:00:54,073 : INFO : EPOCH 2 - PROGRESS: at 8.39% words, 18066 words/s, in_qsize -1, out_qsize 1\n",
      "2021-02-24 06:00:54,075 : INFO : worker thread finished; awaiting finish of 11 more threads\n",
      "2021-02-24 06:00:54,104 : INFO : worker thread finished; awaiting finish of 10 more threads\n",
      "2021-02-24 06:00:54,141 : INFO : worker thread finished; awaiting finish of 9 more threads\n",
      "2021-02-24 06:00:54,360 : INFO : worker thread finished; awaiting finish of 8 more threads\n",
      "2021-02-24 06:00:54,371 : INFO : worker thread finished; awaiting finish of 7 more threads\n",
      "2021-02-24 06:00:54,421 : INFO : worker thread finished; awaiting finish of 6 more threads\n",
      "2021-02-24 06:00:54,495 : INFO : worker thread finished; awaiting finish of 5 more threads\n",
      "2021-02-24 06:00:54,584 : INFO : worker thread finished; awaiting finish of 4 more threads\n",
      "2021-02-24 06:00:54,695 : INFO : worker thread finished; awaiting finish of 3 more threads\n",
      "2021-02-24 06:00:54,721 : INFO : worker thread finished; awaiting finish of 2 more threads\n",
      "2021-02-24 06:00:54,753 : INFO : worker thread finished; awaiting finish of 1 more threads\n",
      "2021-02-24 06:00:54,772 : INFO : worker thread finished; awaiting finish of 0 more threads\n",
      "2021-02-24 06:00:54,773 : INFO : EPOCH - 2 : training on 15508776 raw words (11167192 effective words) took 52.2s, 213788 effective words/s\n",
      "2021-02-24 06:01:45,749 : INFO : EPOCH 3 - PROGRESS: at 8.38% words, 18259 words/s, in_qsize -1, out_qsize 1\n",
      "2021-02-24 06:01:45,751 : INFO : worker thread finished; awaiting finish of 11 more threads\n",
      "2021-02-24 06:01:45,860 : INFO : worker thread finished; awaiting finish of 10 more threads\n",
      "2021-02-24 06:01:45,900 : INFO : worker thread finished; awaiting finish of 9 more threads\n",
      "2021-02-24 06:01:45,902 : INFO : worker thread finished; awaiting finish of 8 more threads\n",
      "2021-02-24 06:01:46,067 : INFO : worker thread finished; awaiting finish of 7 more threads\n",
      "2021-02-24 06:01:46,170 : INFO : worker thread finished; awaiting finish of 6 more threads\n",
      "2021-02-24 06:01:46,270 : INFO : worker thread finished; awaiting finish of 5 more threads\n",
      "2021-02-24 06:01:46,359 : INFO : worker thread finished; awaiting finish of 4 more threads\n",
      "2021-02-24 06:01:46,368 : INFO : worker thread finished; awaiting finish of 3 more threads\n",
      "2021-02-24 06:01:46,376 : INFO : worker thread finished; awaiting finish of 2 more threads\n",
      "2021-02-24 06:01:46,452 : INFO : worker thread finished; awaiting finish of 1 more threads\n",
      "2021-02-24 06:01:46,469 : INFO : worker thread finished; awaiting finish of 0 more threads\n",
      "2021-02-24 06:01:46,470 : INFO : EPOCH - 3 : training on 15508776 raw words (11166205 effective words) took 51.7s, 216184 effective words/s\n",
      "2021-02-24 06:02:37,234 : INFO : EPOCH 4 - PROGRESS: at 8.38% words, 18318 words/s, in_qsize -1, out_qsize 1\n",
      "2021-02-24 06:02:37,236 : INFO : worker thread finished; awaiting finish of 11 more threads\n",
      "2021-02-24 06:02:37,282 : INFO : worker thread finished; awaiting finish of 10 more threads\n",
      "2021-02-24 06:02:37,374 : INFO : worker thread finished; awaiting finish of 9 more threads\n",
      "2021-02-24 06:02:37,454 : INFO : worker thread finished; awaiting finish of 8 more threads\n",
      "2021-02-24 06:02:37,759 : INFO : worker thread finished; awaiting finish of 7 more threads\n",
      "2021-02-24 06:02:37,876 : INFO : worker thread finished; awaiting finish of 6 more threads\n",
      "2021-02-24 06:02:37,944 : INFO : worker thread finished; awaiting finish of 5 more threads\n",
      "2021-02-24 06:02:38,017 : INFO : worker thread finished; awaiting finish of 4 more threads\n",
      "2021-02-24 06:02:38,035 : INFO : worker thread finished; awaiting finish of 3 more threads\n",
      "2021-02-24 06:02:38,059 : INFO : worker thread finished; awaiting finish of 2 more threads\n",
      "2021-02-24 06:02:38,086 : INFO : worker thread finished; awaiting finish of 1 more threads\n",
      "2021-02-24 06:02:38,115 : INFO : worker thread finished; awaiting finish of 0 more threads\n",
      "2021-02-24 06:02:38,116 : INFO : EPOCH - 4 : training on 15508776 raw words (11164080 effective words) took 51.6s, 216353 effective words/s\n",
      "2021-02-24 06:03:28,761 : INFO : EPOCH 5 - PROGRESS: at 8.38% words, 18368 words/s, in_qsize -1, out_qsize 1\n",
      "2021-02-24 06:03:28,762 : INFO : worker thread finished; awaiting finish of 11 more threads\n",
      "2021-02-24 06:03:28,765 : INFO : worker thread finished; awaiting finish of 10 more threads\n",
      "2021-02-24 06:03:28,895 : INFO : worker thread finished; awaiting finish of 9 more threads\n",
      "2021-02-24 06:03:29,185 : INFO : worker thread finished; awaiting finish of 8 more threads\n",
      "2021-02-24 06:03:29,285 : INFO : worker thread finished; awaiting finish of 7 more threads\n",
      "2021-02-24 06:03:29,413 : INFO : worker thread finished; awaiting finish of 6 more threads\n",
      "2021-02-24 06:03:29,508 : INFO : worker thread finished; awaiting finish of 5 more threads\n",
      "2021-02-24 06:03:29,519 : INFO : worker thread finished; awaiting finish of 4 more threads\n",
      "2021-02-24 06:03:29,526 : INFO : worker thread finished; awaiting finish of 3 more threads\n",
      "2021-02-24 06:03:29,664 : INFO : worker thread finished; awaiting finish of 2 more threads\n",
      "2021-02-24 06:03:29,678 : INFO : worker thread finished; awaiting finish of 1 more threads\n",
      "2021-02-24 06:03:29,831 : INFO : EPOCH 5 - PROGRESS: at 100.58% words, 216098 words/s, in_qsize -1, out_qsize 1\n",
      "2021-02-24 06:03:29,832 : INFO : worker thread finished; awaiting finish of 0 more threads\n",
      "2021-02-24 06:03:29,833 : INFO : EPOCH - 5 : training on 15508776 raw words (11166192 effective words) took 51.7s, 216088 effective words/s\n",
      "2021-02-24 06:03:29,836 : INFO : training on a 77543880 raw words (55828457 effective words) took 259.8s, 214875 effective words/s\n",
      "2021-02-24 06:03:29,837 : WARNING : under 10 jobs per worker: consider setting a smaller `batch_words' for smoother alpha decay\n",
      "2021-02-24 06:03:31,364 : INFO : saving FastText object under dados/experimento_3/ftt_jur.model, separately None\n",
      "2021-02-24 06:03:31,365 : INFO : storing np array 'vectors_ngrams' to dados/experimento_3/ftt_jur.model.wv.vectors_ngrams.npy\n",
      "2021-02-24 06:03:38,275 : INFO : not storing attribute vectors_norm\n",
      "2021-02-24 06:03:38,277 : INFO : not storing attribute vectors_vocab_norm\n",
      "2021-02-24 06:03:38,278 : INFO : not storing attribute vectors_ngrams_norm\n",
      "2021-02-24 06:03:38,279 : INFO : not storing attribute buckets_word\n",
      "2021-02-24 06:03:38,280 : INFO : storing np array 'vectors_ngrams_lockf' to dados/experimento_3/ftt_jur.model.trainables.vectors_ngrams_lockf.npy\n",
      "2021-02-24 06:03:45,981 : INFO : saved dados/experimento_3/ftt_jur.model\n"
     ]
    },
    {
     "name": "stdout",
     "output_type": "stream",
     "text": [
      "treinando modelo glove\n",
      "mkdir -p build\n",
      "tokenizando corpus\n",
      "$ build/vocab_count -min-count 5 -verbose 2 < ../mestrado/experimentos_mestrado/dados/experimento_3/base_treino_glv.txt > ../mestrado/experimentos_mestrado/dados/experimento_3/glove_vocab.txt\n",
      "criando matriz de coocorrencia\n",
      "$ build/cooccur -memory 4.0 -vocab-file ../mestrado/experimentos_mestrado/dados/experimento_3/glove_vocab.txt -verbose 2 -window-size 15 < ../mestrado/experimentos_mestrado/dados/experimento_3/base_treino_glv.txt > ../mestrado/experimentos_mestrado/dados/experimento_3/glv_concurrence.bin\n",
      "$ build/shuffle -memory 4.0 -verbose 2 < ../mestrado/experimentos_mestrado/dados/experimento_3/glv_concurrence.bin > ../mestrado/experimentos_mestrado/dados/experimento_3/glv_concurrence_shuf.bin\n",
      "$ build/glove -save-file ../mestrado/experimentos_mestrado/dados/experimento_3/glv_jur -threads 8 -input-file ../mestrado/experimentos_mestrado/dados/experimento_3/glv_concurrence_shuf.bin -x-max 10 -iter 15 -vector-size 100 -binary 2 -vocab-file ../mestrado/experimentos_mestrado/dados/experimento_3/glove_vocab.txt -verbose 2\n",
      "\n",
      "BUILDING VOCABULARY\n",
      "Processed 0 tokens.100000 tokens.200000 tokens.300000 tokens.400000 tokens.500000 tokens.600000 tokens.700000 tokens.800000 tokens.900000 tokens.1000000 tokens.1100000 tokens.1200000 tokens.1300000 tokens.1400000 tokens.1500000 tokens.1600000 tokens.1700000 tokens.1800000 tokens.1900000 tokens.2000000 tokens.2100000 tokens.2200000 tokens.2300000 tokens.2400000 tokens.2500000 tokens.2600000 tokens.2700000 tokens.2800000 tokens.2900000 tokens.3000000 tokens.3100000 tokens.3200000 tokens.3300000 tokens.3400000 tokens.3500000 tokens.3600000 tokens.3700000 tokens.3800000 tokens.3900000 tokens.4000000 tokens.4100000 tokens.4200000 tokens.4300000 tokens.4400000 tokens.4500000 tokens.4600000 tokens.4700000 tokens.4800000 tokens.4900000 tokens.5000000 tokens.5100000 tokens.5200000 tokens.5300000 tokens.5400000 tokens.5500000 tokens.5600000 tokens.5700000 tokens.5800000 tokens.5900000 tokens.6000000 tokens.6100000 tokens.6200000 tokens.6300000 tokens.6400000 tokens.6500000 tokens.6600000 tokens.6700000 tokens.6800000 tokens.6900000 tokens.7000000 tokens.7100000 tokens.7200000 tokens.7300000 tokens.7400000 tokens.7500000 tokens.7600000 tokens.7700000 tokens.7800000 tokens.7900000 tokens.8000000 tokens.8100000 tokens.8200000 tokens.8300000 tokens.8400000 tokens.8500000 tokens.8600000 tokens.8700000 tokens.8800000 tokens.8900000 tokens.9000000 tokens.9100000 tokens.9200000 tokens.9300000 tokens.9400000 tokens.9500000 tokens.9600000 tokens.9700000 tokens.Processed 9705613 tokens.\n",
      "Counted 80745 unique words.\n",
      "Truncating vocabulary at min count 5.\n",
      "Using vocabulary of size 32486.\n",
      "\n",
      "COUNTING COOCCURRENCES\n",
      "window size: 15\n",
      "context: symmetric\n",
      "max product: 13752509\n",
      "overflow length: 38028356\n",
      "Reading vocab from file \"../mestrado/experimentos_mestrado/dados/experimento_3/glove_vocab.txt\"...loaded 32486 words.\n",
      "Building lookup table...table contains 73411803 elements.\n",
      "Processing token: 01000002000003000004000005000006000007000008000009000001000000110000012000001300000140000015000001600000170000018000001900000200000021000002200000230000024000002500000260000027000002800000290000030000003100000320000033000003400000350000036000003700000380000039000004000000410000042000004300000440000045000004600000470000048000004900000500000051000005200000530000054000005500000560000057000005800000590000060000006100000620000063000006400000650000066000006700000680000069000007000000710000072000007300000740000075000007600000770000078000007900000800000081000008200000830000084000008500000860000087000008800000890000090000009100000920000093000009400000950000096000009700000Processed 9705613 tokens.\n",
      "Writing cooccurrences to disk........2 files in total.\n"
     ]
    },
    {
     "name": "stdout",
     "output_type": "stream",
     "text": [
      "Merging cooccurrence files: processed 0 lines.100000 lines.200000 lines.300000 lines.400000 lines.500000 lines.600000 lines.700000 lines.800000 lines.900000 lines.1000000 lines.1100000 lines.1200000 lines.1300000 lines.1400000 lines.1500000 lines.1600000 lines.1700000 lines.1800000 lines.1900000 lines.2000000 lines.2100000 lines.2200000 lines.2300000 lines.2400000 lines.2500000 lines.2600000 lines.2700000 lines.2800000 lines.2900000 lines.3000000 lines.3100000 lines.3200000 lines.3300000 lines.3400000 lines.3500000 lines.3600000 lines.3700000 lines.3800000 lines.3900000 lines.4000000 lines.4100000 lines.4200000 lines.4300000 lines.4400000 lines.4500000 lines.4600000 lines.4700000 lines.4800000 lines.4900000 lines.5000000 lines.5100000 lines.5200000 lines.5300000 lines.5400000 lines.5500000 lines.5600000 lines.5700000 lines.5800000 lines.5900000 lines.6000000 lines.6100000 lines.6200000 lines.6300000 lines.6400000 lines.6500000 lines.6600000 lines.6700000 lines.6800000 lines.6900000 lines.7000000 lines.7100000 lines.7200000 lines.7300000 lines.7400000 lines.7500000 lines.7600000 lines.7700000 lines.7800000 lines.7900000 lines.8000000 lines.8100000 lines.8200000 lines.8300000 lines.8400000 lines.8500000 lines.8600000 lines.8700000 lines.8800000 lines.8900000 lines.9000000 lines.9100000 lines.9200000 lines.9300000 lines.9400000 lines.9500000 lines.9600000 lines.9700000 lines.9800000 lines.9900000 lines.10000000 lines.10100000 lines.10200000 lines.10300000 lines.10400000 lines.10500000 lines.10600000 lines.10700000 lines.10800000 lines.10900000 lines.11000000 lines.11100000 lines.11200000 lines.11300000 lines.11400000 lines.11500000 lines.11600000 lines.11700000 lines.11800000 lines.11900000 lines.12000000 lines.12100000 lines.12200000 lines.12300000 lines.12400000 lines.12500000 lines.12600000 lines.12700000 lines.12800000 lines.12900000 lines.13000000 lines.13100000 lines.13200000 lines.13300000 lines.13400000 lines.13500000 lines.13600000 lines.13700000 lines.13800000 lines.13900000 lines.14000000 lines.14100000 lines.14200000 lines.14300000 lines.14400000 lines.14500000 lines.14600000 lines.14700000 lines.14800000 lines.14900000 lines.15000000 lines.15100000 lines.15200000 lines.15300000 lines.15400000 lines.15500000 lines.15600000 lines.15700000 lines.15800000 lines.15900000 lines.16000000 lines.16100000 lines.16200000 lines.16300000 lines.16400000 lines.16500000 lines.16600000 lines.16700000 lines.16800000 lines.16900000 lines.17000000 lines.17100000 lines.17200000 lines.17300000 lines.17400000 lines.17500000 lines.17600000 lines.17700000 lines.17800000 lines.17900000 lines.18000000 lines.18100000 lines.18200000 lines.18300000 lines.18400000 lines.18500000 lines.18600000 lines.18700000 lines.18800000 lines.18900000 lines.19000000 lines.19100000 lines.19200000 lines.19300000 lines.19400000 lines.19500000 lines.19600000 lines.19700000 lines.19800000 lines.19900000 lines.20000000 lines.20100000 lines.20200000 lines.20300000 lines.20400000 lines.20500000 lines.20600000 lines.20700000 lines.20800000 lines.20900000 lines.21000000 lines.21100000 lines.21200000 lines.21300000 lines.21400000 lines.21500000 lines.21600000 lines.21700000 lines.21800000 lines.21900000 lines.22000000 lines.22100000 lines.22200000 lines.22300000 lines.22400000 lines.22500000 lines.22600000 lines.22700000 lines.22800000 lines.22900000 lines.23000000 lines.23100000 lines.23200000 lines.23300000 lines.23400000 lines.23500000 lines.23600000 lines.23700000 lines.23800000 lines.23900000 lines.24000000 lines.24100000 lines.24200000 lines.24300000 lines.24400000 lines.24500000 lines.24600000 lines.24700000 lines.24800000 lines.24900000 lines.25000000 lines.25100000 lines.25200000 lines.25300000 lines.25400000 lines.25500000 lines.25600000 lines.25700000 lines.25800000 lines.25900000 lines.26000000 lines.26100000 lines.26200000 lines.26300000 lines.26400000 lines.26500000 lines.26600000 lines.26700000 lines.26800000 lines.26900000 lines.27000000 lines.27100000 lines.27200000 lines.27300000 lines.27400000 lines.27500000 lines.27600000 lines.27700000 lines.27800000 lines.27900000 lines.28000000 lines.28100000 lines.28200000 lines.28300000 lines.28400000 lines.28500000 lines.28600000 lines.28700000 lines.28800000 lines.28900000 lines.29000000 lines.29100000 lines.29200000 lines.29300000 lines.29400000 lines.29500000 lines.29600000 lines.29700000 lines.29800000 lines.29900000 lines.30000000 lines.30100000 lines.30200000 lines.30300000 lines.30400000 lines.30500000 lines.30600000 lines.30700000 lines.30800000 lines.30900000 lines.31000000 lines.31100000 lines.31200000 lines.31300000 lines.31400000 lines.31500000 lines.31600000 lines.Merging cooccurrence files: processed 31611620 lines.\n",
      "\n",
      "Using random seed 1614157442\n",
      "SHUFFLING COOCCURRENCES\n",
      "array size: 255013683\n",
      "Shuffling by chunks: processed 0 lines.processed 31611620 lines.\n",
      "Wrote 1 temporary file(s).\n",
      "Merging temp files: processed 0 lines.31611620 lines.Merging temp files: processed 31611620 lines.\n",
      "\n",
      "TRAINING MODEL\n",
      "Read 31611620 lines.\n",
      "Initializing parameters...Using random seed 1614157453\n",
      "done.\n",
      "vector size: 100\n",
      "vocab size: 32486\n",
      "x_max: 10.000000\n",
      "alpha: 0.750000\n",
      "02/24/21 - 06:04.24AM, iter: 001, cost: 0.109470\n",
      "02/24/21 - 06:04.35AM, iter: 002, cost: 0.079560\n",
      "02/24/21 - 06:04.47AM, iter: 003, cost: 0.066758\n",
      "02/24/21 - 06:04.59AM, iter: 004, cost: 0.059111\n",
      "02/24/21 - 06:05.10AM, iter: 005, cost: 0.054683\n",
      "02/24/21 - 06:05.20AM, iter: 006, cost: 0.052061\n",
      "02/24/21 - 06:05.31AM, iter: 007, cost: 0.050302\n",
      "02/24/21 - 06:05.42AM, iter: 008, cost: 0.049051\n",
      "02/24/21 - 06:05.53AM, iter: 009, cost: 0.048149\n",
      "02/24/21 - 06:06.04AM, iter: 010, cost: 0.047397\n",
      "02/24/21 - 06:06.15AM, iter: 011, cost: 0.046790\n",
      "02/24/21 - 06:06.25AM, iter: 012, cost: 0.046278\n",
      "02/24/21 - 06:06.36AM, iter: 013, cost: 0.045863\n",
      "02/24/21 - 06:06.47AM, iter: 014, cost: 0.045486\n",
      "02/24/21 - 06:06.57AM, iter: 015, cost: 0.045163\n",
      "\n",
      "treinamento concluído\n"
     ]
    },
    {
     "name": "stderr",
     "output_type": "stream",
     "text": [
      "2021-02-24 06:06:59,277 : INFO : converting 32487 vectors from dados/experimento_3/glv_jur.txt to C:\\Users\\CRISTI~1\\AppData\\Local\\Temp\\test_word2vec.txt\n",
      "2021-02-24 06:06:59,349 : INFO : loading projection weights from C:\\Users\\CRISTI~1\\AppData\\Local\\Temp\\test_word2vec.txt\n",
      "2021-02-24 06:07:02,144 : INFO : loaded (32487, 100) matrix from C:\\Users\\CRISTI~1\\AppData\\Local\\Temp\\test_word2vec.txt\n",
      "2021-02-24 06:07:02,145 : INFO : loading projection weights from modelos/w2v_skip_nilc.txt\n",
      "2021-02-24 06:08:20,192 : INFO : loaded (929606, 100) matrix from modelos/w2v_skip_nilc.txt\n",
      "2021-02-24 06:08:20,193 : INFO : loading projection weights from modelos/ftt_skip_nilc.txt\n",
      "2021-02-24 06:09:36,589 : INFO : loaded (929605, 100) matrix from modelos/ftt_skip_nilc.txt\n",
      "2021-02-24 06:09:36,590 : INFO : loading projection weights from modelos/glove_nilc.txt\n",
      "2021-02-24 06:10:51,363 : INFO : loaded (929605, 100) matrix from modelos/glove_nilc.txt\n"
     ]
    },
    {
     "name": "stdout",
     "output_type": "stream",
     "text": [
      "recuperando teores da base de teste\n"
     ]
    },
    {
     "data": {
      "application/vnd.jupyter.widget-view+json": {
       "model_id": "36dbf920aaa042ccb32bbe181cdf7c10",
       "version_major": 2,
       "version_minor": 0
      },
      "text/plain": [
       "HBox(children=(IntProgress(value=0, max=7006), HTML(value='')))"
      ]
     },
     "metadata": {},
     "output_type": "display_data"
    },
    {
     "name": "stdout",
     "output_type": "stream",
     "text": [
      "\n",
      "criando representações word2vec geral\n"
     ]
    },
    {
     "data": {
      "application/vnd.jupyter.widget-view+json": {
       "model_id": "856c8d1839ee4667b08cb2824112779b",
       "version_major": 2,
       "version_minor": 0
      },
      "text/plain": [
       "HBox(children=(IntProgress(value=0, max=7006), HTML(value='')))"
      ]
     },
     "metadata": {},
     "output_type": "display_data"
    },
    {
     "name": "stdout",
     "output_type": "stream",
     "text": [
      "\n",
      "criando representações fasttext geral\n"
     ]
    },
    {
     "data": {
      "application/vnd.jupyter.widget-view+json": {
       "model_id": "3e1ed5ea3dd942928fe9d1ff29c91449",
       "version_major": 2,
       "version_minor": 0
      },
      "text/plain": [
       "HBox(children=(IntProgress(value=0, max=7006), HTML(value='')))"
      ]
     },
     "metadata": {},
     "output_type": "display_data"
    },
    {
     "name": "stdout",
     "output_type": "stream",
     "text": [
      "\n",
      "criando representações glove geral\n"
     ]
    },
    {
     "data": {
      "application/vnd.jupyter.widget-view+json": {
       "model_id": "7a52c49611bf442cbfd4343a1352e6ea",
       "version_major": 2,
       "version_minor": 0
      },
      "text/plain": [
       "HBox(children=(IntProgress(value=0, max=7006), HTML(value='')))"
      ]
     },
     "metadata": {},
     "output_type": "display_data"
    },
    {
     "name": "stdout",
     "output_type": "stream",
     "text": [
      "\n",
      "criando representações word2vec juridico\n"
     ]
    },
    {
     "data": {
      "application/vnd.jupyter.widget-view+json": {
       "model_id": "0770a02f53624d43bd3826cd971edb1f",
       "version_major": 2,
       "version_minor": 0
      },
      "text/plain": [
       "HBox(children=(IntProgress(value=0, max=7006), HTML(value='')))"
      ]
     },
     "metadata": {},
     "output_type": "display_data"
    },
    {
     "name": "stdout",
     "output_type": "stream",
     "text": [
      "\n",
      "criando representações fasttext juridico\n"
     ]
    },
    {
     "data": {
      "application/vnd.jupyter.widget-view+json": {
       "model_id": "de2a2e8ff3ad4d39bc8f51268a011471",
       "version_major": 2,
       "version_minor": 0
      },
      "text/plain": [
       "HBox(children=(IntProgress(value=0, max=7006), HTML(value='')))"
      ]
     },
     "metadata": {},
     "output_type": "display_data"
    },
    {
     "name": "stdout",
     "output_type": "stream",
     "text": [
      "\n",
      "criando representações glove juridico\n"
     ]
    },
    {
     "data": {
      "application/vnd.jupyter.widget-view+json": {
       "model_id": "f3541316e1234911b4d9f703a792b51c",
       "version_major": 2,
       "version_minor": 0
      },
      "text/plain": [
       "HBox(children=(IntProgress(value=0, max=7006), HTML(value='')))"
      ]
     },
     "metadata": {},
     "output_type": "display_data"
    },
    {
     "name": "stdout",
     "output_type": "stream",
     "text": [
      "\n",
      "----------- EXPERIMENTO 3 CONCLUIDO -----------\n",
      "tempo do experimento: 18.66521949370702 minutos\n",
      "----------------------- EXPERIMENTO 4 -----------------------\n",
      "criando base de treino para o experimento 4\n"
     ]
    },
    {
     "data": {
      "application/vnd.jupyter.widget-view+json": {
       "model_id": "2671e66e37054423bfaf1738c0c7c0dc",
       "version_major": 2,
       "version_minor": 0
      },
      "text/plain": [
       "HBox(children=(IntProgress(value=0, max=28021), HTML(value='')))"
      ]
     },
     "metadata": {},
     "output_type": "display_data"
    },
    {
     "name": "stdout",
     "output_type": "stream",
     "text": [
      "\n",
      "16099559 tokens copiados com sucesso\n",
      "preparando documentos para extração do vocabulário:\n"
     ]
    },
    {
     "data": {
      "application/vnd.jupyter.widget-view+json": {
       "model_id": "7802bc04c07f4c52b4357224b4c23b2e",
       "version_major": 2,
       "version_minor": 0
      },
      "text/plain": [
       "HBox(children=(IntProgress(value=0, max=28021), HTML(value='')))"
      ]
     },
     "metadata": {},
     "output_type": "display_data"
    },
    {
     "name": "stdout",
     "output_type": "stream",
     "text": [
      "\n",
      "extraindo termos com base no ICA\n"
     ]
    },
    {
     "data": {
      "application/vnd.jupyter.widget-view+json": {
       "model_id": "25a178568bd340f88b7c640876e8aeea",
       "version_major": 2,
       "version_minor": 0
      },
      "text/plain": [
       "HBox(children=(IntProgress(value=0, max=125), HTML(value='')))"
      ]
     },
     "metadata": {},
     "output_type": "display_data"
    },
    {
     "name": "stdout",
     "output_type": "stream",
     "text": [
      "\n",
      "-processando strings do corpus\n",
      "-treinando vetorizador\n",
      "-ICA processado\n",
      "extraindo termos com base na frequência - geralmente leva menos de 4 minutos\n",
      "extraindo termos do tesauro\n",
      "extração de vocabulário concluída!\n",
      "treinando modelo word2vec\n"
     ]
    },
    {
     "name": "stderr",
     "output_type": "stream",
     "text": [
      "2021-02-24 06:15:39,223 : INFO : collecting all words and their counts\n",
      "2021-02-24 06:15:39,238 : INFO : PROGRESS: at sentence #0, processed 0 words, keeping 0 word types\n",
      "2021-02-24 06:15:39,302 : INFO : PROGRESS: at sentence #10000, processed 241069 words, keeping 13639 word types\n",
      "2021-02-24 06:15:39,368 : INFO : PROGRESS: at sentence #20000, processed 478320 words, keeping 18758 word types\n",
      "2021-02-24 06:15:39,436 : INFO : PROGRESS: at sentence #30000, processed 725340 words, keeping 22790 word types\n",
      "2021-02-24 06:15:39,502 : INFO : PROGRESS: at sentence #40000, processed 971929 words, keeping 26157 word types\n",
      "2021-02-24 06:15:39,568 : INFO : PROGRESS: at sentence #50000, processed 1218349 words, keeping 28569 word types\n",
      "2021-02-24 06:15:39,642 : INFO : PROGRESS: at sentence #60000, processed 1463021 words, keeping 31011 word types\n",
      "2021-02-24 06:15:39,709 : INFO : PROGRESS: at sentence #70000, processed 1711190 words, keeping 33215 word types\n",
      "2021-02-24 06:15:39,774 : INFO : PROGRESS: at sentence #80000, processed 1953964 words, keeping 35048 word types\n",
      "2021-02-24 06:15:39,841 : INFO : PROGRESS: at sentence #90000, processed 2194491 words, keeping 36608 word types\n",
      "2021-02-24 06:15:39,906 : INFO : PROGRESS: at sentence #100000, processed 2428195 words, keeping 38131 word types\n",
      "2021-02-24 06:15:39,971 : INFO : PROGRESS: at sentence #110000, processed 2670663 words, keeping 39570 word types\n",
      "2021-02-24 06:15:40,036 : INFO : PROGRESS: at sentence #120000, processed 2907291 words, keeping 40902 word types\n",
      "2021-02-24 06:15:40,101 : INFO : PROGRESS: at sentence #130000, processed 3148820 words, keeping 42256 word types\n",
      "2021-02-24 06:15:40,167 : INFO : PROGRESS: at sentence #140000, processed 3396805 words, keeping 43466 word types\n",
      "2021-02-24 06:15:40,232 : INFO : PROGRESS: at sentence #150000, processed 3631932 words, keeping 44631 word types\n",
      "2021-02-24 06:15:40,300 : INFO : PROGRESS: at sentence #160000, processed 3883294 words, keeping 45995 word types\n",
      "2021-02-24 06:15:40,368 : INFO : PROGRESS: at sentence #170000, processed 4129804 words, keeping 47105 word types\n",
      "2021-02-24 06:15:40,437 : INFO : PROGRESS: at sentence #180000, processed 4376157 words, keeping 48171 word types\n",
      "2021-02-24 06:15:40,506 : INFO : PROGRESS: at sentence #190000, processed 4614898 words, keeping 49141 word types\n",
      "2021-02-24 06:15:40,571 : INFO : PROGRESS: at sentence #200000, processed 4853065 words, keeping 50268 word types\n",
      "2021-02-24 06:15:40,640 : INFO : PROGRESS: at sentence #210000, processed 5093042 words, keeping 51370 word types\n",
      "2021-02-24 06:15:40,707 : INFO : PROGRESS: at sentence #220000, processed 5337371 words, keeping 52360 word types\n",
      "2021-02-24 06:15:40,773 : INFO : PROGRESS: at sentence #230000, processed 5582920 words, keeping 53179 word types\n",
      "2021-02-24 06:15:40,840 : INFO : PROGRESS: at sentence #240000, processed 5829527 words, keeping 54108 word types\n",
      "2021-02-24 06:15:40,904 : INFO : PROGRESS: at sentence #250000, processed 6069559 words, keeping 54997 word types\n",
      "2021-02-24 06:15:40,973 : INFO : PROGRESS: at sentence #260000, processed 6316993 words, keeping 55872 word types\n",
      "2021-02-24 06:15:41,040 : INFO : PROGRESS: at sentence #270000, processed 6560918 words, keeping 56839 word types\n",
      "2021-02-24 06:15:41,107 : INFO : PROGRESS: at sentence #280000, processed 6806809 words, keeping 57701 word types\n",
      "2021-02-24 06:15:41,172 : INFO : PROGRESS: at sentence #290000, processed 7047702 words, keeping 58435 word types\n",
      "2021-02-24 06:15:41,237 : INFO : PROGRESS: at sentence #300000, processed 7291047 words, keeping 59144 word types\n",
      "2021-02-24 06:15:41,302 : INFO : PROGRESS: at sentence #310000, processed 7528503 words, keeping 60008 word types\n",
      "2021-02-24 06:15:41,369 : INFO : PROGRESS: at sentence #320000, processed 7771734 words, keeping 60907 word types\n",
      "2021-02-24 06:15:41,439 : INFO : PROGRESS: at sentence #330000, processed 8022866 words, keeping 61654 word types\n",
      "2021-02-24 06:15:41,503 : INFO : PROGRESS: at sentence #340000, processed 8262197 words, keeping 62365 word types\n",
      "2021-02-24 06:15:41,570 : INFO : PROGRESS: at sentence #350000, processed 8505984 words, keeping 63261 word types\n",
      "2021-02-24 06:15:41,636 : INFO : PROGRESS: at sentence #360000, processed 8749311 words, keeping 64209 word types\n",
      "2021-02-24 06:15:41,704 : INFO : PROGRESS: at sentence #370000, processed 8998326 words, keeping 64951 word types\n",
      "2021-02-24 06:15:41,771 : INFO : PROGRESS: at sentence #380000, processed 9238425 words, keeping 65646 word types\n",
      "2021-02-24 06:15:41,837 : INFO : PROGRESS: at sentence #390000, processed 9482447 words, keeping 66362 word types\n",
      "2021-02-24 06:15:41,905 : INFO : PROGRESS: at sentence #400000, processed 9735084 words, keeping 67233 word types\n",
      "2021-02-24 06:15:41,970 : INFO : PROGRESS: at sentence #410000, processed 9976137 words, keeping 67947 word types\n",
      "2021-02-24 06:15:42,037 : INFO : PROGRESS: at sentence #420000, processed 10214414 words, keeping 68545 word types\n",
      "2021-02-24 06:15:42,103 : INFO : PROGRESS: at sentence #430000, processed 10457493 words, keeping 69245 word types\n",
      "2021-02-24 06:15:42,170 : INFO : PROGRESS: at sentence #440000, processed 10698931 words, keeping 69772 word types\n",
      "2021-02-24 06:15:42,236 : INFO : PROGRESS: at sentence #450000, processed 10939585 words, keeping 70492 word types\n",
      "2021-02-24 06:15:42,301 : INFO : PROGRESS: at sentence #460000, processed 11174268 words, keeping 70992 word types\n",
      "2021-02-24 06:15:42,368 : INFO : PROGRESS: at sentence #470000, processed 11419649 words, keeping 71586 word types\n",
      "2021-02-24 06:15:42,435 : INFO : PROGRESS: at sentence #480000, processed 11660095 words, keeping 72146 word types\n",
      "2021-02-24 06:15:42,501 : INFO : PROGRESS: at sentence #490000, processed 11902625 words, keeping 72717 word types\n",
      "2021-02-24 06:15:42,567 : INFO : PROGRESS: at sentence #500000, processed 12145384 words, keeping 73350 word types\n",
      "2021-02-24 06:15:42,636 : INFO : PROGRESS: at sentence #510000, processed 12392975 words, keeping 73978 word types\n",
      "2021-02-24 06:15:42,704 : INFO : PROGRESS: at sentence #520000, processed 12634865 words, keeping 74632 word types\n",
      "2021-02-24 06:15:42,769 : INFO : PROGRESS: at sentence #530000, processed 12877857 words, keeping 75207 word types\n",
      "2021-02-24 06:15:42,835 : INFO : PROGRESS: at sentence #540000, processed 13119611 words, keeping 75739 word types\n",
      "2021-02-24 06:15:42,904 : INFO : PROGRESS: at sentence #550000, processed 13368911 words, keeping 76312 word types\n",
      "2021-02-24 06:15:42,971 : INFO : PROGRESS: at sentence #560000, processed 13614412 words, keeping 76925 word types\n",
      "2021-02-24 06:15:43,037 : INFO : PROGRESS: at sentence #570000, processed 13850335 words, keeping 77476 word types\n",
      "2021-02-24 06:15:43,106 : INFO : PROGRESS: at sentence #580000, processed 14094891 words, keeping 78030 word types\n",
      "2021-02-24 06:15:43,172 : INFO : PROGRESS: at sentence #590000, processed 14338146 words, keeping 78706 word types\n",
      "2021-02-24 06:15:43,241 : INFO : PROGRESS: at sentence #600000, processed 14591492 words, keeping 79249 word types\n",
      "2021-02-24 06:15:43,306 : INFO : PROGRESS: at sentence #610000, processed 14825430 words, keeping 79789 word types\n",
      "2021-02-24 06:15:43,370 : INFO : PROGRESS: at sentence #620000, processed 15060228 words, keeping 80350 word types\n",
      "2021-02-24 06:15:43,437 : INFO : PROGRESS: at sentence #630000, processed 15300003 words, keeping 80831 word types\n",
      "2021-02-24 06:15:43,477 : INFO : collected 81206 word types from a corpus of 15443790 raw words and 636194 sentences\n",
      "2021-02-24 06:15:43,478 : INFO : Loading a fresh vocabulary\n",
      "2021-02-24 06:15:43,531 : INFO : effective_min_count=5 retains 32701 unique words (40% of original 81206, drops 48505)\n",
      "2021-02-24 06:15:43,532 : INFO : effective_min_count=5 leaves 15362217 word corpus (99% of original 15443790, drops 81573)\n",
      "2021-02-24 06:15:43,621 : INFO : deleting the raw counts dictionary of 81206 items\n",
      "2021-02-24 06:15:43,624 : INFO : sample=1e-05 downsamples 3222 most-common words\n",
      "2021-02-24 06:15:43,625 : INFO : downsampling leaves estimated 3714507 word corpus (24.2% of prior 15362217)\n",
      "2021-02-24 06:15:43,646 : INFO : constructing a huffman tree from 32701 words\n",
      "2021-02-24 06:15:44,342 : INFO : built huffman tree with maximum node depth 22\n"
     ]
    },
    {
     "name": "stderr",
     "output_type": "stream",
     "text": [
      "2021-02-24 06:15:44,392 : INFO : estimated required memory for 32701 words and 100 dimensions: 62131900 bytes\n",
      "2021-02-24 06:15:44,393 : INFO : resetting layer weights\n",
      "2021-02-24 06:15:44,721 : INFO : training model with 12 workers on 32701 vocabulary and 100 features, using sg=1 hs=1 sample=1e-05 negative=5 window=5\n",
      "2021-02-24 06:15:45,729 : INFO : EPOCH 1 - PROGRESS: at 8.23% examples, 306552 words/s, in_qsize 23, out_qsize 0\n",
      "2021-02-24 06:15:46,747 : INFO : EPOCH 1 - PROGRESS: at 18.30% examples, 337858 words/s, in_qsize 0, out_qsize 0\n",
      "2021-02-24 06:15:47,756 : INFO : EPOCH 1 - PROGRESS: at 26.34% examples, 324065 words/s, in_qsize 16, out_qsize 2\n",
      "2021-02-24 06:15:48,758 : INFO : EPOCH 1 - PROGRESS: at 35.45% examples, 326880 words/s, in_qsize 19, out_qsize 0\n",
      "2021-02-24 06:15:49,767 : INFO : EPOCH 1 - PROGRESS: at 43.87% examples, 323903 words/s, in_qsize 0, out_qsize 0\n",
      "2021-02-24 06:15:50,793 : INFO : EPOCH 1 - PROGRESS: at 52.81% examples, 323774 words/s, in_qsize 16, out_qsize 3\n",
      "2021-02-24 06:15:51,794 : INFO : EPOCH 1 - PROGRESS: at 61.46% examples, 323739 words/s, in_qsize 20, out_qsize 0\n",
      "2021-02-24 06:15:52,796 : INFO : EPOCH 1 - PROGRESS: at 71.10% examples, 327832 words/s, in_qsize 0, out_qsize 0\n",
      "2021-02-24 06:15:53,799 : INFO : EPOCH 1 - PROGRESS: at 79.65% examples, 326421 words/s, in_qsize 0, out_qsize 0\n",
      "2021-02-24 06:15:54,806 : INFO : EPOCH 1 - PROGRESS: at 87.99% examples, 325042 words/s, in_qsize 7, out_qsize 0\n",
      "2021-02-24 06:15:55,809 : INFO : EPOCH 1 - PROGRESS: at 96.76% examples, 324526 words/s, in_qsize 0, out_qsize 0\n",
      "2021-02-24 06:15:56,131 : INFO : worker thread finished; awaiting finish of 11 more threads\n",
      "2021-02-24 06:15:56,133 : INFO : worker thread finished; awaiting finish of 10 more threads\n",
      "2021-02-24 06:15:56,134 : INFO : worker thread finished; awaiting finish of 9 more threads\n",
      "2021-02-24 06:15:56,136 : INFO : worker thread finished; awaiting finish of 8 more threads\n",
      "2021-02-24 06:15:56,138 : INFO : worker thread finished; awaiting finish of 7 more threads\n",
      "2021-02-24 06:15:56,139 : INFO : worker thread finished; awaiting finish of 6 more threads\n",
      "2021-02-24 06:15:56,140 : INFO : worker thread finished; awaiting finish of 5 more threads\n",
      "2021-02-24 06:15:56,144 : INFO : worker thread finished; awaiting finish of 4 more threads\n",
      "2021-02-24 06:15:56,152 : INFO : worker thread finished; awaiting finish of 3 more threads\n",
      "2021-02-24 06:15:56,155 : INFO : worker thread finished; awaiting finish of 2 more threads\n",
      "2021-02-24 06:15:56,157 : INFO : worker thread finished; awaiting finish of 1 more threads\n",
      "2021-02-24 06:15:56,159 : INFO : worker thread finished; awaiting finish of 0 more threads\n",
      "2021-02-24 06:15:56,160 : INFO : EPOCH - 1 : training on 15443790 raw words (3714159 effective words) took 11.4s, 324817 effective words/s\n",
      "2021-02-24 06:15:57,169 : INFO : EPOCH 2 - PROGRESS: at 8.10% examples, 301004 words/s, in_qsize 0, out_qsize 0\n",
      "2021-02-24 06:15:58,181 : INFO : EPOCH 2 - PROGRESS: at 17.32% examples, 320766 words/s, in_qsize 3, out_qsize 0\n",
      "2021-02-24 06:15:59,187 : INFO : EPOCH 2 - PROGRESS: at 25.27% examples, 311010 words/s, in_qsize 23, out_qsize 0\n",
      "2021-02-24 06:16:00,191 : INFO : EPOCH 2 - PROGRESS: at 34.12% examples, 314761 words/s, in_qsize 23, out_qsize 0\n",
      "2021-02-24 06:16:01,198 : INFO : EPOCH 2 - PROGRESS: at 42.39% examples, 313351 words/s, in_qsize 17, out_qsize 2\n",
      "2021-02-24 06:16:02,200 : INFO : EPOCH 2 - PROGRESS: at 51.86% examples, 319653 words/s, in_qsize 12, out_qsize 2\n",
      "2021-02-24 06:16:03,206 : INFO : EPOCH 2 - PROGRESS: at 59.54% examples, 314562 words/s, in_qsize 23, out_qsize 1\n",
      "2021-02-24 06:16:04,207 : INFO : EPOCH 2 - PROGRESS: at 69.39% examples, 321048 words/s, in_qsize 0, out_qsize 1\n",
      "2021-02-24 06:16:05,210 : INFO : EPOCH 2 - PROGRESS: at 77.48% examples, 318235 words/s, in_qsize 15, out_qsize 0\n",
      "2021-02-24 06:16:06,223 : INFO : EPOCH 2 - PROGRESS: at 86.66% examples, 320553 words/s, in_qsize 18, out_qsize 1\n",
      "2021-02-24 06:16:07,225 : INFO : EPOCH 2 - PROGRESS: at 94.42% examples, 317715 words/s, in_qsize 21, out_qsize 0\n",
      "2021-02-24 06:16:07,694 : INFO : worker thread finished; awaiting finish of 11 more threads\n",
      "2021-02-24 06:16:07,706 : INFO : worker thread finished; awaiting finish of 10 more threads\n",
      "2021-02-24 06:16:07,707 : INFO : worker thread finished; awaiting finish of 9 more threads\n",
      "2021-02-24 06:16:07,711 : INFO : worker thread finished; awaiting finish of 8 more threads\n",
      "2021-02-24 06:16:07,714 : INFO : worker thread finished; awaiting finish of 7 more threads\n",
      "2021-02-24 06:16:07,717 : INFO : worker thread finished; awaiting finish of 6 more threads\n",
      "2021-02-24 06:16:07,722 : INFO : worker thread finished; awaiting finish of 5 more threads\n",
      "2021-02-24 06:16:07,729 : INFO : worker thread finished; awaiting finish of 4 more threads\n",
      "2021-02-24 06:16:07,731 : INFO : worker thread finished; awaiting finish of 3 more threads\n",
      "2021-02-24 06:16:07,735 : INFO : worker thread finished; awaiting finish of 2 more threads\n",
      "2021-02-24 06:16:07,738 : INFO : worker thread finished; awaiting finish of 1 more threads\n",
      "2021-02-24 06:16:07,740 : INFO : worker thread finished; awaiting finish of 0 more threads\n",
      "2021-02-24 06:16:07,741 : INFO : EPOCH - 2 : training on 15443790 raw words (3713800 effective words) took 11.6s, 320824 effective words/s\n",
      "2021-02-24 06:16:08,749 : INFO : EPOCH 3 - PROGRESS: at 8.22% examples, 305287 words/s, in_qsize 0, out_qsize 0\n",
      "2021-02-24 06:16:09,758 : INFO : EPOCH 3 - PROGRESS: at 17.38% examples, 322040 words/s, in_qsize 0, out_qsize 2\n",
      "2021-02-24 06:16:10,771 : INFO : EPOCH 3 - PROGRESS: at 26.60% examples, 326876 words/s, in_qsize 0, out_qsize 1\n",
      "2021-02-24 06:16:11,799 : INFO : EPOCH 3 - PROGRESS: at 35.39% examples, 323974 words/s, in_qsize 1, out_qsize 0\n",
      "2021-02-24 06:16:12,801 : INFO : EPOCH 3 - PROGRESS: at 43.69% examples, 321100 words/s, in_qsize 0, out_qsize 0\n",
      "2021-02-24 06:16:13,803 : INFO : EPOCH 3 - PROGRESS: at 53.00% examples, 325196 words/s, in_qsize 0, out_qsize 1\n",
      "2021-02-24 06:16:14,810 : INFO : EPOCH 3 - PROGRESS: at 61.46% examples, 323553 words/s, in_qsize 0, out_qsize 1\n",
      "2021-02-24 06:16:15,815 : INFO : EPOCH 3 - PROGRESS: at 70.77% examples, 326217 words/s, in_qsize 0, out_qsize 0\n",
      "2021-02-24 06:16:16,825 : INFO : EPOCH 3 - PROGRESS: at 78.89% examples, 322923 words/s, in_qsize 0, out_qsize 1\n",
      "2021-02-24 06:16:17,840 : INFO : EPOCH 3 - PROGRESS: at 87.43% examples, 322299 words/s, in_qsize 14, out_qsize 2\n",
      "2021-02-24 06:16:18,845 : INFO : EPOCH 3 - PROGRESS: at 96.43% examples, 322844 words/s, in_qsize 0, out_qsize 0\n",
      "2021-02-24 06:16:19,184 : INFO : worker thread finished; awaiting finish of 11 more threads\n",
      "2021-02-24 06:16:19,189 : INFO : worker thread finished; awaiting finish of 10 more threads\n",
      "2021-02-24 06:16:19,190 : INFO : worker thread finished; awaiting finish of 9 more threads\n",
      "2021-02-24 06:16:19,191 : INFO : worker thread finished; awaiting finish of 8 more threads\n",
      "2021-02-24 06:16:19,193 : INFO : worker thread finished; awaiting finish of 7 more threads\n",
      "2021-02-24 06:16:19,195 : INFO : worker thread finished; awaiting finish of 6 more threads\n",
      "2021-02-24 06:16:19,196 : INFO : worker thread finished; awaiting finish of 5 more threads\n",
      "2021-02-24 06:16:19,197 : INFO : worker thread finished; awaiting finish of 4 more threads\n",
      "2021-02-24 06:16:19,201 : INFO : worker thread finished; awaiting finish of 3 more threads\n",
      "2021-02-24 06:16:19,205 : INFO : worker thread finished; awaiting finish of 2 more threads\n",
      "2021-02-24 06:16:19,210 : INFO : worker thread finished; awaiting finish of 1 more threads\n",
      "2021-02-24 06:16:19,212 : INFO : worker thread finished; awaiting finish of 0 more threads\n",
      "2021-02-24 06:16:19,213 : INFO : EPOCH - 3 : training on 15443790 raw words (3713365 effective words) took 11.5s, 323782 effective words/s\n",
      "2021-02-24 06:16:20,271 : INFO : EPOCH 4 - PROGRESS: at 8.69% examples, 307198 words/s, in_qsize 3, out_qsize 3\n",
      "2021-02-24 06:16:21,275 : INFO : EPOCH 4 - PROGRESS: at 17.50% examples, 318123 words/s, in_qsize 0, out_qsize 0\n",
      "2021-02-24 06:16:22,293 : INFO : EPOCH 4 - PROGRESS: at 26.04% examples, 315489 words/s, in_qsize 18, out_qsize 6\n",
      "2021-02-24 06:16:23,294 : INFO : EPOCH 4 - PROGRESS: at 35.58% examples, 324562 words/s, in_qsize 0, out_qsize 1\n"
     ]
    },
    {
     "name": "stderr",
     "output_type": "stream",
     "text": [
      "2021-02-24 06:16:24,294 : INFO : EPOCH 4 - PROGRESS: at 44.14% examples, 323469 words/s, in_qsize 0, out_qsize 0\n",
      "2021-02-24 06:16:25,296 : INFO : EPOCH 4 - PROGRESS: at 52.74% examples, 322770 words/s, in_qsize 1, out_qsize 0\n",
      "2021-02-24 06:16:26,303 : INFO : EPOCH 4 - PROGRESS: at 60.88% examples, 319787 words/s, in_qsize 15, out_qsize 0\n",
      "2021-02-24 06:16:27,304 : INFO : EPOCH 4 - PROGRESS: at 69.27% examples, 318906 words/s, in_qsize 19, out_qsize 0\n",
      "2021-02-24 06:16:28,308 : INFO : EPOCH 4 - PROGRESS: at 78.57% examples, 321430 words/s, in_qsize 0, out_qsize 0\n",
      "2021-02-24 06:16:29,315 : INFO : EPOCH 4 - PROGRESS: at 86.85% examples, 320255 words/s, in_qsize 0, out_qsize 0\n",
      "2021-02-24 06:16:30,320 : INFO : EPOCH 4 - PROGRESS: at 96.24% examples, 322413 words/s, in_qsize 0, out_qsize 0\n",
      "2021-02-24 06:16:30,668 : INFO : worker thread finished; awaiting finish of 11 more threads\n",
      "2021-02-24 06:16:30,676 : INFO : worker thread finished; awaiting finish of 10 more threads\n",
      "2021-02-24 06:16:30,677 : INFO : worker thread finished; awaiting finish of 9 more threads\n",
      "2021-02-24 06:16:30,684 : INFO : worker thread finished; awaiting finish of 8 more threads\n",
      "2021-02-24 06:16:30,690 : INFO : worker thread finished; awaiting finish of 7 more threads\n",
      "2021-02-24 06:16:30,693 : INFO : worker thread finished; awaiting finish of 6 more threads\n",
      "2021-02-24 06:16:30,697 : INFO : worker thread finished; awaiting finish of 5 more threads\n",
      "2021-02-24 06:16:30,707 : INFO : worker thread finished; awaiting finish of 4 more threads\n",
      "2021-02-24 06:16:30,711 : INFO : worker thread finished; awaiting finish of 3 more threads\n",
      "2021-02-24 06:16:30,713 : INFO : worker thread finished; awaiting finish of 2 more threads\n",
      "2021-02-24 06:16:30,715 : INFO : worker thread finished; awaiting finish of 1 more threads\n",
      "2021-02-24 06:16:30,718 : INFO : worker thread finished; awaiting finish of 0 more threads\n",
      "2021-02-24 06:16:30,719 : INFO : EPOCH - 4 : training on 15443790 raw words (3715456 effective words) took 11.5s, 323051 effective words/s\n",
      "2021-02-24 06:16:31,726 : INFO : EPOCH 5 - PROGRESS: at 8.83% examples, 327602 words/s, in_qsize 0, out_qsize 0\n",
      "2021-02-24 06:16:32,745 : INFO : EPOCH 5 - PROGRESS: at 17.71% examples, 327492 words/s, in_qsize 3, out_qsize 5\n",
      "2021-02-24 06:16:33,758 : INFO : EPOCH 5 - PROGRESS: at 27.18% examples, 333452 words/s, in_qsize 0, out_qsize 0\n",
      "2021-02-24 06:16:34,766 : INFO : EPOCH 5 - PROGRESS: at 36.42% examples, 334911 words/s, in_qsize 0, out_qsize 1\n",
      "2021-02-24 06:16:35,770 : INFO : EPOCH 5 - PROGRESS: at 45.28% examples, 333789 words/s, in_qsize 0, out_qsize 0\n",
      "2021-02-24 06:16:36,781 : INFO : EPOCH 5 - PROGRESS: at 54.41% examples, 334100 words/s, in_qsize 11, out_qsize 0\n",
      "2021-02-24 06:16:37,813 : INFO : EPOCH 5 - PROGRESS: at 62.83% examples, 330111 words/s, in_qsize 24, out_qsize 0\n",
      "2021-02-24 06:16:38,815 : INFO : EPOCH 5 - PROGRESS: at 72.62% examples, 333838 words/s, in_qsize 0, out_qsize 0\n",
      "2021-02-24 06:16:39,822 : INFO : EPOCH 5 - PROGRESS: at 81.01% examples, 331362 words/s, in_qsize 0, out_qsize 2\n",
      "2021-02-24 06:16:40,827 : INFO : EPOCH 5 - PROGRESS: at 90.17% examples, 332197 words/s, in_qsize 0, out_qsize 0\n",
      "2021-02-24 06:16:41,837 : INFO : EPOCH 5 - PROGRESS: at 99.48% examples, 332546 words/s, in_qsize 0, out_qsize 0\n",
      "2021-02-24 06:16:41,846 : INFO : worker thread finished; awaiting finish of 11 more threads\n",
      "2021-02-24 06:16:41,848 : INFO : worker thread finished; awaiting finish of 10 more threads\n",
      "2021-02-24 06:16:41,849 : INFO : worker thread finished; awaiting finish of 9 more threads\n",
      "2021-02-24 06:16:41,850 : INFO : worker thread finished; awaiting finish of 8 more threads\n",
      "2021-02-24 06:16:41,851 : INFO : worker thread finished; awaiting finish of 7 more threads\n",
      "2021-02-24 06:16:41,852 : INFO : worker thread finished; awaiting finish of 6 more threads\n",
      "2021-02-24 06:16:41,853 : INFO : worker thread finished; awaiting finish of 5 more threads\n",
      "2021-02-24 06:16:41,856 : INFO : worker thread finished; awaiting finish of 4 more threads\n",
      "2021-02-24 06:16:41,863 : INFO : worker thread finished; awaiting finish of 3 more threads\n",
      "2021-02-24 06:16:41,868 : INFO : worker thread finished; awaiting finish of 2 more threads\n",
      "2021-02-24 06:16:41,872 : INFO : worker thread finished; awaiting finish of 1 more threads\n",
      "2021-02-24 06:16:41,874 : INFO : worker thread finished; awaiting finish of 0 more threads\n",
      "2021-02-24 06:16:41,875 : INFO : EPOCH - 5 : training on 15443790 raw words (3714660 effective words) took 11.2s, 333131 effective words/s\n",
      "2021-02-24 06:16:42,889 : INFO : EPOCH 6 - PROGRESS: at 8.54% examples, 315414 words/s, in_qsize 0, out_qsize 0\n",
      "2021-02-24 06:16:43,892 : INFO : EPOCH 6 - PROGRESS: at 17.64% examples, 327138 words/s, in_qsize 0, out_qsize 0\n",
      "2021-02-24 06:16:44,897 : INFO : EPOCH 6 - PROGRESS: at 26.85% examples, 331276 words/s, in_qsize 1, out_qsize 0\n",
      "2021-02-24 06:16:45,941 : INFO : EPOCH 6 - PROGRESS: at 35.21% examples, 321930 words/s, in_qsize 23, out_qsize 1\n",
      "2021-02-24 06:16:46,948 : INFO : EPOCH 6 - PROGRESS: at 44.71% examples, 328054 words/s, in_qsize 0, out_qsize 2\n",
      "2021-02-24 06:16:47,961 : INFO : EPOCH 6 - PROGRESS: at 53.82% examples, 329259 words/s, in_qsize 2, out_qsize 0\n",
      "2021-02-24 06:16:48,977 : INFO : EPOCH 6 - PROGRESS: at 62.71% examples, 328997 words/s, in_qsize 0, out_qsize 3\n",
      "2021-02-24 06:16:49,978 : INFO : EPOCH 6 - PROGRESS: at 71.37% examples, 327821 words/s, in_qsize 17, out_qsize 0\n",
      "2021-02-24 06:16:50,985 : INFO : EPOCH 6 - PROGRESS: at 80.47% examples, 328791 words/s, in_qsize 7, out_qsize 1\n",
      "2021-02-24 06:16:51,995 : INFO : EPOCH 6 - PROGRESS: at 89.66% examples, 329877 words/s, in_qsize 14, out_qsize 0\n",
      "2021-02-24 06:16:53,004 : INFO : EPOCH 6 - PROGRESS: at 98.49% examples, 329003 words/s, in_qsize 19, out_qsize 4\n",
      "2021-02-24 06:16:53,049 : INFO : worker thread finished; awaiting finish of 11 more threads\n",
      "2021-02-24 06:16:53,059 : INFO : worker thread finished; awaiting finish of 10 more threads\n",
      "2021-02-24 06:16:53,064 : INFO : worker thread finished; awaiting finish of 9 more threads\n",
      "2021-02-24 06:16:53,071 : INFO : worker thread finished; awaiting finish of 8 more threads\n",
      "2021-02-24 06:16:53,078 : INFO : worker thread finished; awaiting finish of 7 more threads\n",
      "2021-02-24 06:16:53,088 : INFO : worker thread finished; awaiting finish of 6 more threads\n",
      "2021-02-24 06:16:53,090 : INFO : worker thread finished; awaiting finish of 5 more threads\n",
      "2021-02-24 06:16:53,092 : INFO : worker thread finished; awaiting finish of 4 more threads\n",
      "2021-02-24 06:16:53,093 : INFO : worker thread finished; awaiting finish of 3 more threads\n",
      "2021-02-24 06:16:53,097 : INFO : worker thread finished; awaiting finish of 2 more threads\n",
      "2021-02-24 06:16:53,099 : INFO : worker thread finished; awaiting finish of 1 more threads\n",
      "2021-02-24 06:16:53,100 : INFO : worker thread finished; awaiting finish of 0 more threads\n",
      "2021-02-24 06:16:53,101 : INFO : EPOCH - 6 : training on 15443790 raw words (3714380 effective words) took 11.2s, 331008 effective words/s\n",
      "2021-02-24 06:16:54,114 : INFO : EPOCH 7 - PROGRESS: at 9.01% examples, 332582 words/s, in_qsize 0, out_qsize 0\n",
      "2021-02-24 06:16:55,115 : INFO : EPOCH 7 - PROGRESS: at 18.11% examples, 336224 words/s, in_qsize 0, out_qsize 0\n",
      "2021-02-24 06:16:56,132 : INFO : EPOCH 7 - PROGRESS: at 27.36% examples, 337104 words/s, in_qsize 0, out_qsize 0\n",
      "2021-02-24 06:16:57,137 : INFO : EPOCH 7 - PROGRESS: at 35.52% examples, 327537 words/s, in_qsize 23, out_qsize 0\n",
      "2021-02-24 06:16:58,137 : INFO : EPOCH 7 - PROGRESS: at 45.03% examples, 333047 words/s, in_qsize 0, out_qsize 0\n",
      "2021-02-24 06:16:59,144 : INFO : EPOCH 7 - PROGRESS: at 53.69% examples, 330977 words/s, in_qsize 15, out_qsize 1\n",
      "2021-02-24 06:17:00,155 : INFO : EPOCH 7 - PROGRESS: at 62.72% examples, 331543 words/s, in_qsize 8, out_qsize 0\n",
      "2021-02-24 06:17:01,162 : INFO : EPOCH 7 - PROGRESS: at 72.24% examples, 333725 words/s, in_qsize 1, out_qsize 0\n",
      "2021-02-24 06:17:02,164 : INFO : EPOCH 7 - PROGRESS: at 81.07% examples, 333279 words/s, in_qsize 0, out_qsize 1\n",
      "2021-02-24 06:17:03,186 : INFO : EPOCH 7 - PROGRESS: at 90.10% examples, 332983 words/s, in_qsize 0, out_qsize 2\n",
      "2021-02-24 06:17:04,188 : INFO : EPOCH 7 - PROGRESS: at 99.08% examples, 332445 words/s, in_qsize 10, out_qsize 6\n"
     ]
    },
    {
     "name": "stderr",
     "output_type": "stream",
     "text": [
      "2021-02-24 06:17:04,204 : INFO : worker thread finished; awaiting finish of 11 more threads\n",
      "2021-02-24 06:17:04,206 : INFO : worker thread finished; awaiting finish of 10 more threads\n",
      "2021-02-24 06:17:04,208 : INFO : worker thread finished; awaiting finish of 9 more threads\n",
      "2021-02-24 06:17:04,209 : INFO : worker thread finished; awaiting finish of 8 more threads\n",
      "2021-02-24 06:17:04,210 : INFO : worker thread finished; awaiting finish of 7 more threads\n",
      "2021-02-24 06:17:04,219 : INFO : worker thread finished; awaiting finish of 6 more threads\n",
      "2021-02-24 06:17:04,224 : INFO : worker thread finished; awaiting finish of 5 more threads\n",
      "2021-02-24 06:17:04,229 : INFO : worker thread finished; awaiting finish of 4 more threads\n",
      "2021-02-24 06:17:04,234 : INFO : worker thread finished; awaiting finish of 3 more threads\n",
      "2021-02-24 06:17:04,236 : INFO : worker thread finished; awaiting finish of 2 more threads\n",
      "2021-02-24 06:17:04,237 : INFO : worker thread finished; awaiting finish of 1 more threads\n",
      "2021-02-24 06:17:04,241 : INFO : worker thread finished; awaiting finish of 0 more threads\n",
      "2021-02-24 06:17:04,241 : INFO : EPOCH - 7 : training on 15443790 raw words (3716931 effective words) took 11.1s, 333797 effective words/s\n",
      "2021-02-24 06:17:05,250 : INFO : EPOCH 8 - PROGRESS: at 8.42% examples, 313256 words/s, in_qsize 0, out_qsize 0\n",
      "2021-02-24 06:17:06,265 : INFO : EPOCH 8 - PROGRESS: at 16.92% examples, 313483 words/s, in_qsize 22, out_qsize 1\n",
      "2021-02-24 06:17:07,273 : INFO : EPOCH 8 - PROGRESS: at 26.15% examples, 322005 words/s, in_qsize 16, out_qsize 0\n",
      "2021-02-24 06:17:08,280 : INFO : EPOCH 8 - PROGRESS: at 34.96% examples, 322031 words/s, in_qsize 23, out_qsize 0\n",
      "2021-02-24 06:17:09,281 : INFO : EPOCH 8 - PROGRESS: at 44.31% examples, 327775 words/s, in_qsize 0, out_qsize 2\n",
      "2021-02-24 06:17:10,285 : INFO : EPOCH 8 - PROGRESS: at 53.56% examples, 329965 words/s, in_qsize 0, out_qsize 0\n",
      "2021-02-24 06:17:11,286 : INFO : EPOCH 8 - PROGRESS: at 62.78% examples, 332102 words/s, in_qsize 0, out_qsize 0\n",
      "2021-02-24 06:17:12,291 : INFO : EPOCH 8 - PROGRESS: at 70.58% examples, 326510 words/s, in_qsize 23, out_qsize 0\n",
      "2021-02-24 06:17:13,301 : INFO : EPOCH 8 - PROGRESS: at 80.47% examples, 330663 words/s, in_qsize 0, out_qsize 0\n",
      "2021-02-24 06:17:14,305 : INFO : EPOCH 8 - PROGRESS: at 89.66% examples, 331669 words/s, in_qsize 0, out_qsize 0\n",
      "2021-02-24 06:17:15,305 : INFO : EPOCH 8 - PROGRESS: at 98.93% examples, 332400 words/s, in_qsize 0, out_qsize 0\n",
      "2021-02-24 06:17:15,381 : INFO : worker thread finished; awaiting finish of 11 more threads\n",
      "2021-02-24 06:17:15,384 : INFO : worker thread finished; awaiting finish of 10 more threads\n",
      "2021-02-24 06:17:15,386 : INFO : worker thread finished; awaiting finish of 9 more threads\n",
      "2021-02-24 06:17:15,388 : INFO : worker thread finished; awaiting finish of 8 more threads\n",
      "2021-02-24 06:17:15,390 : INFO : worker thread finished; awaiting finish of 7 more threads\n",
      "2021-02-24 06:17:15,391 : INFO : worker thread finished; awaiting finish of 6 more threads\n",
      "2021-02-24 06:17:15,393 : INFO : worker thread finished; awaiting finish of 5 more threads\n",
      "2021-02-24 06:17:15,395 : INFO : worker thread finished; awaiting finish of 4 more threads\n",
      "2021-02-24 06:17:15,401 : INFO : worker thread finished; awaiting finish of 3 more threads\n",
      "2021-02-24 06:17:15,404 : INFO : worker thread finished; awaiting finish of 2 more threads\n",
      "2021-02-24 06:17:15,406 : INFO : worker thread finished; awaiting finish of 1 more threads\n",
      "2021-02-24 06:17:15,410 : INFO : worker thread finished; awaiting finish of 0 more threads\n",
      "2021-02-24 06:17:15,412 : INFO : EPOCH - 8 : training on 15443790 raw words (3713826 effective words) took 11.2s, 332653 effective words/s\n",
      "2021-02-24 06:17:16,426 : INFO : EPOCH 9 - PROGRESS: at 8.54% examples, 315235 words/s, in_qsize 24, out_qsize 0\n",
      "2021-02-24 06:17:17,448 : INFO : EPOCH 9 - PROGRESS: at 17.44% examples, 320679 words/s, in_qsize 23, out_qsize 0\n",
      "2021-02-24 06:17:18,451 : INFO : EPOCH 9 - PROGRESS: at 27.18% examples, 333402 words/s, in_qsize 0, out_qsize 0\n",
      "2021-02-24 06:17:19,453 : INFO : EPOCH 9 - PROGRESS: at 36.36% examples, 334603 words/s, in_qsize 0, out_qsize 0\n",
      "2021-02-24 06:17:20,460 : INFO : EPOCH 9 - PROGRESS: at 44.32% examples, 326927 words/s, in_qsize 21, out_qsize 1\n",
      "2021-02-24 06:17:21,461 : INFO : EPOCH 9 - PROGRESS: at 53.89% examples, 331686 words/s, in_qsize 0, out_qsize 0\n",
      "2021-02-24 06:17:22,463 : INFO : EPOCH 9 - PROGRESS: at 62.95% examples, 332828 words/s, in_qsize 0, out_qsize 0\n",
      "2021-02-24 06:17:23,468 : INFO : EPOCH 9 - PROGRESS: at 72.18% examples, 333332 words/s, in_qsize 0, out_qsize 0\n",
      "2021-02-24 06:17:24,469 : INFO : EPOCH 9 - PROGRESS: at 80.95% examples, 332683 words/s, in_qsize 4, out_qsize 1\n",
      "2021-02-24 06:17:25,476 : INFO : EPOCH 9 - PROGRESS: at 89.45% examples, 331059 words/s, in_qsize 23, out_qsize 0\n",
      "2021-02-24 06:17:26,482 : INFO : EPOCH 9 - PROGRESS: at 99.41% examples, 333724 words/s, in_qsize 0, out_qsize 0\n",
      "2021-02-24 06:17:26,514 : INFO : worker thread finished; awaiting finish of 11 more threads\n",
      "2021-02-24 06:17:26,520 : INFO : worker thread finished; awaiting finish of 10 more threads\n",
      "2021-02-24 06:17:26,521 : INFO : worker thread finished; awaiting finish of 9 more threads\n",
      "2021-02-24 06:17:26,523 : INFO : worker thread finished; awaiting finish of 8 more threads\n",
      "2021-02-24 06:17:26,525 : INFO : worker thread finished; awaiting finish of 7 more threads\n",
      "2021-02-24 06:17:26,527 : INFO : worker thread finished; awaiting finish of 6 more threads\n",
      "2021-02-24 06:17:26,528 : INFO : worker thread finished; awaiting finish of 5 more threads\n",
      "2021-02-24 06:17:26,530 : INFO : worker thread finished; awaiting finish of 4 more threads\n",
      "2021-02-24 06:17:26,532 : INFO : worker thread finished; awaiting finish of 3 more threads\n",
      "2021-02-24 06:17:26,541 : INFO : worker thread finished; awaiting finish of 2 more threads\n",
      "2021-02-24 06:17:26,543 : INFO : worker thread finished; awaiting finish of 1 more threads\n",
      "2021-02-24 06:17:26,545 : INFO : worker thread finished; awaiting finish of 0 more threads\n",
      "2021-02-24 06:17:26,546 : INFO : EPOCH - 9 : training on 15443790 raw words (3714337 effective words) took 11.1s, 333735 effective words/s\n",
      "2021-02-24 06:17:27,567 : INFO : EPOCH 10 - PROGRESS: at 9.07% examples, 333266 words/s, in_qsize 0, out_qsize 0\n",
      "2021-02-24 06:17:28,577 : INFO : EPOCH 10 - PROGRESS: at 17.71% examples, 326424 words/s, in_qsize 22, out_qsize 1\n",
      "2021-02-24 06:17:29,578 : INFO : EPOCH 10 - PROGRESS: at 26.79% examples, 329531 words/s, in_qsize 12, out_qsize 1\n",
      "2021-02-24 06:17:30,583 : INFO : EPOCH 10 - PROGRESS: at 36.36% examples, 335096 words/s, in_qsize 0, out_qsize 0\n",
      "2021-02-24 06:17:31,586 : INFO : EPOCH 10 - PROGRESS: at 45.16% examples, 333569 words/s, in_qsize 0, out_qsize 0\n",
      "2021-02-24 06:17:32,603 : INFO : EPOCH 10 - PROGRESS: at 53.89% examples, 331358 words/s, in_qsize 14, out_qsize 0\n",
      "2021-02-24 06:17:33,607 : INFO : EPOCH 10 - PROGRESS: at 62.83% examples, 331792 words/s, in_qsize 17, out_qsize 0\n",
      "2021-02-24 06:17:34,611 : INFO : EPOCH 10 - PROGRESS: at 71.98% examples, 332230 words/s, in_qsize 18, out_qsize 1\n",
      "2021-02-24 06:17:35,651 : INFO : EPOCH 10 - PROGRESS: at 81.39% examples, 333015 words/s, in_qsize 24, out_qsize 2\n",
      "2021-02-24 06:17:36,653 : INFO : EPOCH 10 - PROGRESS: at 90.55% examples, 333830 words/s, in_qsize 0, out_qsize 1\n",
      "2021-02-24 06:17:37,631 : INFO : worker thread finished; awaiting finish of 11 more threads\n",
      "2021-02-24 06:17:37,633 : INFO : worker thread finished; awaiting finish of 10 more threads\n",
      "2021-02-24 06:17:37,635 : INFO : worker thread finished; awaiting finish of 9 more threads\n",
      "2021-02-24 06:17:37,637 : INFO : worker thread finished; awaiting finish of 8 more threads\n",
      "2021-02-24 06:17:37,639 : INFO : worker thread finished; awaiting finish of 7 more threads\n",
      "2021-02-24 06:17:37,641 : INFO : worker thread finished; awaiting finish of 6 more threads\n",
      "2021-02-24 06:17:37,643 : INFO : worker thread finished; awaiting finish of 5 more threads\n",
      "2021-02-24 06:17:37,648 : INFO : worker thread finished; awaiting finish of 4 more threads\n",
      "2021-02-24 06:17:37,655 : INFO : EPOCH 10 - PROGRESS: at 99.80% examples, 334124 words/s, in_qsize 3, out_qsize 1\n",
      "2021-02-24 06:17:37,656 : INFO : worker thread finished; awaiting finish of 3 more threads\n"
     ]
    },
    {
     "name": "stderr",
     "output_type": "stream",
     "text": [
      "2021-02-24 06:17:37,661 : INFO : worker thread finished; awaiting finish of 2 more threads\n",
      "2021-02-24 06:17:37,662 : INFO : worker thread finished; awaiting finish of 1 more threads\n",
      "2021-02-24 06:17:37,664 : INFO : worker thread finished; awaiting finish of 0 more threads\n",
      "2021-02-24 06:17:37,665 : INFO : EPOCH - 10 : training on 15443790 raw words (3716997 effective words) took 11.1s, 334454 effective words/s\n",
      "2021-02-24 06:17:37,666 : INFO : training on a 154437900 raw words (37147911 effective words) took 112.9s, 328903 effective words/s\n",
      "2021-02-24 06:17:37,667 : INFO : saving Word2Vec object under dados/experimento_4/w2v_jur.model, separately None\n",
      "2021-02-24 06:17:37,668 : INFO : not storing attribute vectors_norm\n",
      "2021-02-24 06:17:37,670 : INFO : not storing attribute cum_table\n",
      "2021-02-24 06:17:38,637 : INFO : saved dados/experimento_4/w2v_jur.model\n"
     ]
    },
    {
     "name": "stdout",
     "output_type": "stream",
     "text": [
      "treinando modelo word2vec\n"
     ]
    },
    {
     "name": "stderr",
     "output_type": "stream",
     "text": [
      "2021-02-24 06:17:38,639 : INFO : resetting layer weights\n",
      "2021-02-24 06:17:43,559 : INFO : collecting all words and their counts\n",
      "2021-02-24 06:17:43,560 : INFO : PROGRESS: at sentence #0, processed 0 words, keeping 0 word types\n",
      "2021-02-24 06:17:43,627 : INFO : PROGRESS: at sentence #10000, processed 241069 words, keeping 13639 word types\n",
      "2021-02-24 06:17:43,693 : INFO : PROGRESS: at sentence #20000, processed 478320 words, keeping 18758 word types\n",
      "2021-02-24 06:17:43,763 : INFO : PROGRESS: at sentence #30000, processed 725340 words, keeping 22790 word types\n",
      "2021-02-24 06:17:43,833 : INFO : PROGRESS: at sentence #40000, processed 971929 words, keeping 26157 word types\n",
      "2021-02-24 06:17:43,899 : INFO : PROGRESS: at sentence #50000, processed 1218349 words, keeping 28569 word types\n",
      "2021-02-24 06:17:43,966 : INFO : PROGRESS: at sentence #60000, processed 1463021 words, keeping 31011 word types\n",
      "2021-02-24 06:17:44,034 : INFO : PROGRESS: at sentence #70000, processed 1711190 words, keeping 33215 word types\n",
      "2021-02-24 06:17:44,101 : INFO : PROGRESS: at sentence #80000, processed 1953964 words, keeping 35048 word types\n",
      "2021-02-24 06:17:44,168 : INFO : PROGRESS: at sentence #90000, processed 2194491 words, keeping 36608 word types\n",
      "2021-02-24 06:17:44,233 : INFO : PROGRESS: at sentence #100000, processed 2428195 words, keeping 38131 word types\n",
      "2021-02-24 06:17:44,299 : INFO : PROGRESS: at sentence #110000, processed 2670663 words, keeping 39570 word types\n",
      "2021-02-24 06:17:44,365 : INFO : PROGRESS: at sentence #120000, processed 2907291 words, keeping 40902 word types\n",
      "2021-02-24 06:17:44,432 : INFO : PROGRESS: at sentence #130000, processed 3148820 words, keeping 42256 word types\n",
      "2021-02-24 06:17:44,500 : INFO : PROGRESS: at sentence #140000, processed 3396805 words, keeping 43466 word types\n",
      "2021-02-24 06:17:44,567 : INFO : PROGRESS: at sentence #150000, processed 3631932 words, keeping 44631 word types\n",
      "2021-02-24 06:17:44,635 : INFO : PROGRESS: at sentence #160000, processed 3883294 words, keeping 45995 word types\n",
      "2021-02-24 06:17:44,703 : INFO : PROGRESS: at sentence #170000, processed 4129804 words, keeping 47105 word types\n",
      "2021-02-24 06:17:44,771 : INFO : PROGRESS: at sentence #180000, processed 4376157 words, keeping 48171 word types\n",
      "2021-02-24 06:17:44,837 : INFO : PROGRESS: at sentence #190000, processed 4614898 words, keeping 49141 word types\n",
      "2021-02-24 06:17:44,903 : INFO : PROGRESS: at sentence #200000, processed 4853065 words, keeping 50268 word types\n",
      "2021-02-24 06:17:44,970 : INFO : PROGRESS: at sentence #210000, processed 5093042 words, keeping 51370 word types\n",
      "2021-02-24 06:17:45,036 : INFO : PROGRESS: at sentence #220000, processed 5337371 words, keeping 52360 word types\n",
      "2021-02-24 06:17:45,104 : INFO : PROGRESS: at sentence #230000, processed 5582920 words, keeping 53179 word types\n",
      "2021-02-24 06:17:45,171 : INFO : PROGRESS: at sentence #240000, processed 5829527 words, keeping 54108 word types\n",
      "2021-02-24 06:17:45,238 : INFO : PROGRESS: at sentence #250000, processed 6069559 words, keeping 54997 word types\n",
      "2021-02-24 06:17:45,307 : INFO : PROGRESS: at sentence #260000, processed 6316993 words, keeping 55872 word types\n",
      "2021-02-24 06:17:45,373 : INFO : PROGRESS: at sentence #270000, processed 6560918 words, keeping 56839 word types\n",
      "2021-02-24 06:17:45,441 : INFO : PROGRESS: at sentence #280000, processed 6806809 words, keeping 57701 word types\n",
      "2021-02-24 06:17:45,507 : INFO : PROGRESS: at sentence #290000, processed 7047702 words, keeping 58435 word types\n",
      "2021-02-24 06:17:45,574 : INFO : PROGRESS: at sentence #300000, processed 7291047 words, keeping 59144 word types\n",
      "2021-02-24 06:17:45,640 : INFO : PROGRESS: at sentence #310000, processed 7528503 words, keeping 60008 word types\n",
      "2021-02-24 06:17:45,707 : INFO : PROGRESS: at sentence #320000, processed 7771734 words, keeping 60907 word types\n",
      "2021-02-24 06:17:45,776 : INFO : PROGRESS: at sentence #330000, processed 8022866 words, keeping 61654 word types\n",
      "2021-02-24 06:17:45,843 : INFO : PROGRESS: at sentence #340000, processed 8262197 words, keeping 62365 word types\n",
      "2021-02-24 06:17:45,910 : INFO : PROGRESS: at sentence #350000, processed 8505984 words, keeping 63261 word types\n",
      "2021-02-24 06:17:45,977 : INFO : PROGRESS: at sentence #360000, processed 8749311 words, keeping 64209 word types\n",
      "2021-02-24 06:17:46,045 : INFO : PROGRESS: at sentence #370000, processed 8998326 words, keeping 64951 word types\n",
      "2021-02-24 06:17:46,111 : INFO : PROGRESS: at sentence #380000, processed 9238425 words, keeping 65646 word types\n",
      "2021-02-24 06:17:46,178 : INFO : PROGRESS: at sentence #390000, processed 9482447 words, keeping 66362 word types\n",
      "2021-02-24 06:17:46,248 : INFO : PROGRESS: at sentence #400000, processed 9735084 words, keeping 67233 word types\n",
      "2021-02-24 06:17:46,314 : INFO : PROGRESS: at sentence #410000, processed 9976137 words, keeping 67947 word types\n",
      "2021-02-24 06:17:46,380 : INFO : PROGRESS: at sentence #420000, processed 10214414 words, keeping 68545 word types\n",
      "2021-02-24 06:17:46,448 : INFO : PROGRESS: at sentence #430000, processed 10457493 words, keeping 69245 word types\n",
      "2021-02-24 06:17:46,515 : INFO : PROGRESS: at sentence #440000, processed 10698931 words, keeping 69772 word types\n",
      "2021-02-24 06:17:46,582 : INFO : PROGRESS: at sentence #450000, processed 10939585 words, keeping 70492 word types\n",
      "2021-02-24 06:17:46,647 : INFO : PROGRESS: at sentence #460000, processed 11174268 words, keeping 70992 word types\n",
      "2021-02-24 06:17:46,714 : INFO : PROGRESS: at sentence #470000, processed 11419649 words, keeping 71586 word types\n",
      "2021-02-24 06:17:46,785 : INFO : PROGRESS: at sentence #480000, processed 11660095 words, keeping 72146 word types\n",
      "2021-02-24 06:17:46,852 : INFO : PROGRESS: at sentence #490000, processed 11902625 words, keeping 72717 word types\n",
      "2021-02-24 06:17:46,919 : INFO : PROGRESS: at sentence #500000, processed 12145384 words, keeping 73350 word types\n",
      "2021-02-24 06:17:46,989 : INFO : PROGRESS: at sentence #510000, processed 12392975 words, keeping 73978 word types\n",
      "2021-02-24 06:17:47,056 : INFO : PROGRESS: at sentence #520000, processed 12634865 words, keeping 74632 word types\n",
      "2021-02-24 06:17:47,123 : INFO : PROGRESS: at sentence #530000, processed 12877857 words, keeping 75207 word types\n",
      "2021-02-24 06:17:47,191 : INFO : PROGRESS: at sentence #540000, processed 13119611 words, keeping 75739 word types\n",
      "2021-02-24 06:17:47,260 : INFO : PROGRESS: at sentence #550000, processed 13368911 words, keeping 76312 word types\n",
      "2021-02-24 06:17:47,328 : INFO : PROGRESS: at sentence #560000, processed 13614412 words, keeping 76925 word types\n",
      "2021-02-24 06:17:47,394 : INFO : PROGRESS: at sentence #570000, processed 13850335 words, keeping 77476 word types\n",
      "2021-02-24 06:17:47,462 : INFO : PROGRESS: at sentence #580000, processed 14094891 words, keeping 78030 word types\n",
      "2021-02-24 06:17:47,529 : INFO : PROGRESS: at sentence #590000, processed 14338146 words, keeping 78706 word types\n",
      "2021-02-24 06:17:47,599 : INFO : PROGRESS: at sentence #600000, processed 14591492 words, keeping 79249 word types\n",
      "2021-02-24 06:17:47,663 : INFO : PROGRESS: at sentence #610000, processed 14825430 words, keeping 79789 word types\n",
      "2021-02-24 06:17:47,729 : INFO : PROGRESS: at sentence #620000, processed 15060228 words, keeping 80350 word types\n",
      "2021-02-24 06:17:47,795 : INFO : PROGRESS: at sentence #630000, processed 15300003 words, keeping 80831 word types\n",
      "2021-02-24 06:17:47,836 : INFO : collected 81206 word types from a corpus of 15443790 raw words and 636194 sentences\n",
      "2021-02-24 06:17:47,837 : INFO : Loading a fresh vocabulary\n",
      "2021-02-24 06:17:47,929 : INFO : effective_min_count=5 retains 32701 unique words (40% of original 81206, drops 48505)\n",
      "2021-02-24 06:17:47,930 : INFO : effective_min_count=5 leaves 15362217 word corpus (99% of original 15443790, drops 81573)\n",
      "2021-02-24 06:17:48,006 : INFO : deleting the raw counts dictionary of 81206 items\n",
      "2021-02-24 06:17:48,008 : INFO : sample=0.001 downsamples 36 most-common words\n",
      "2021-02-24 06:17:48,009 : INFO : downsampling leaves estimated 11119181 word corpus (72.4% of prior 15362217)\n",
      "2021-02-24 06:17:48,031 : INFO : constructing a huffman tree from 32701 words\n",
      "2021-02-24 06:17:48,720 : INFO : built huffman tree with maximum node depth 22\n"
     ]
    },
    {
     "name": "stderr",
     "output_type": "stream",
     "text": [
      "2021-02-24 06:17:49,063 : INFO : estimated required memory for 32701 words, 138362 buckets and 100 dimensions: 126295044 bytes\n",
      "2021-02-24 06:17:49,068 : INFO : resetting layer weights\n",
      "2021-02-24 06:17:52,480 : INFO : training model with 12 workers on 32701 vocabulary and 100 features, using sg=1 hs=1 sample=0.001 negative=5 window=5\n",
      "2021-02-24 06:18:44,888 : INFO : EPOCH 1 - PROGRESS: at 8.35% words, 17720 words/s, in_qsize -1, out_qsize 1\n",
      "2021-02-24 06:18:44,889 : INFO : worker thread finished; awaiting finish of 11 more threads\n",
      "2021-02-24 06:18:45,233 : INFO : worker thread finished; awaiting finish of 10 more threads\n",
      "2021-02-24 06:18:45,257 : INFO : worker thread finished; awaiting finish of 9 more threads\n",
      "2021-02-24 06:18:45,314 : INFO : worker thread finished; awaiting finish of 8 more threads\n",
      "2021-02-24 06:18:45,468 : INFO : worker thread finished; awaiting finish of 7 more threads\n",
      "2021-02-24 06:18:45,545 : INFO : worker thread finished; awaiting finish of 6 more threads\n",
      "2021-02-24 06:18:45,632 : INFO : worker thread finished; awaiting finish of 5 more threads\n",
      "2021-02-24 06:18:45,638 : INFO : worker thread finished; awaiting finish of 4 more threads\n",
      "2021-02-24 06:18:45,673 : INFO : worker thread finished; awaiting finish of 3 more threads\n",
      "2021-02-24 06:18:45,725 : INFO : worker thread finished; awaiting finish of 2 more threads\n",
      "2021-02-24 06:18:45,735 : INFO : worker thread finished; awaiting finish of 1 more threads\n",
      "2021-02-24 06:18:45,854 : INFO : worker thread finished; awaiting finish of 0 more threads\n",
      "2021-02-24 06:18:45,855 : INFO : EPOCH - 1 : training on 15512090 raw words (11167631 effective words) took 53.3s, 209408 effective words/s\n",
      "2021-02-24 06:19:37,013 : INFO : EPOCH 2 - PROGRESS: at 8.35% words, 18154 words/s, in_qsize -1, out_qsize 1\n",
      "2021-02-24 06:19:37,015 : INFO : worker thread finished; awaiting finish of 11 more threads\n",
      "2021-02-24 06:19:37,307 : INFO : worker thread finished; awaiting finish of 10 more threads\n",
      "2021-02-24 06:19:37,361 : INFO : worker thread finished; awaiting finish of 9 more threads\n",
      "2021-02-24 06:19:37,473 : INFO : worker thread finished; awaiting finish of 8 more threads\n",
      "2021-02-24 06:19:37,657 : INFO : worker thread finished; awaiting finish of 7 more threads\n",
      "2021-02-24 06:19:37,778 : INFO : worker thread finished; awaiting finish of 6 more threads\n",
      "2021-02-24 06:19:37,885 : INFO : worker thread finished; awaiting finish of 5 more threads\n",
      "2021-02-24 06:19:37,903 : INFO : worker thread finished; awaiting finish of 4 more threads\n",
      "2021-02-24 06:19:37,937 : INFO : worker thread finished; awaiting finish of 3 more threads\n",
      "2021-02-24 06:19:37,938 : INFO : worker thread finished; awaiting finish of 2 more threads\n",
      "2021-02-24 06:19:37,985 : INFO : worker thread finished; awaiting finish of 1 more threads\n",
      "2021-02-24 06:19:37,997 : INFO : worker thread finished; awaiting finish of 0 more threads\n",
      "2021-02-24 06:19:37,997 : INFO : EPOCH - 2 : training on 15512090 raw words (11167657 effective words) took 52.1s, 214356 effective words/s\n",
      "2021-02-24 06:20:29,146 : INFO : EPOCH 3 - PROGRESS: at 8.35% words, 18168 words/s, in_qsize -1, out_qsize 1\n",
      "2021-02-24 06:20:29,147 : INFO : worker thread finished; awaiting finish of 11 more threads\n",
      "2021-02-24 06:20:29,782 : INFO : worker thread finished; awaiting finish of 10 more threads\n",
      "2021-02-24 06:20:29,819 : INFO : worker thread finished; awaiting finish of 9 more threads\n",
      "2021-02-24 06:20:29,870 : INFO : worker thread finished; awaiting finish of 8 more threads\n",
      "2021-02-24 06:20:29,969 : INFO : worker thread finished; awaiting finish of 7 more threads\n",
      "2021-02-24 06:20:30,160 : INFO : EPOCH 3 - PROGRESS: at 50.21% words, 107142 words/s, in_qsize -1, out_qsize 1\n",
      "2021-02-24 06:20:30,162 : INFO : worker thread finished; awaiting finish of 6 more threads\n",
      "2021-02-24 06:20:30,204 : INFO : worker thread finished; awaiting finish of 5 more threads\n",
      "2021-02-24 06:20:30,208 : INFO : worker thread finished; awaiting finish of 4 more threads\n",
      "2021-02-24 06:20:30,222 : INFO : worker thread finished; awaiting finish of 3 more threads\n",
      "2021-02-24 06:20:30,301 : INFO : worker thread finished; awaiting finish of 2 more threads\n",
      "2021-02-24 06:20:30,362 : INFO : worker thread finished; awaiting finish of 1 more threads\n",
      "2021-02-24 06:20:30,376 : INFO : worker thread finished; awaiting finish of 0 more threads\n",
      "2021-02-24 06:20:30,377 : INFO : EPOCH - 3 : training on 15512090 raw words (11169721 effective words) took 52.3s, 213432 effective words/s\n",
      "2021-02-24 06:21:21,698 : INFO : EPOCH 4 - PROGRESS: at 8.35% words, 18105 words/s, in_qsize -1, out_qsize 1\n",
      "2021-02-24 06:21:21,699 : INFO : worker thread finished; awaiting finish of 11 more threads\n",
      "2021-02-24 06:21:21,982 : INFO : worker thread finished; awaiting finish of 10 more threads\n",
      "2021-02-24 06:21:22,095 : INFO : worker thread finished; awaiting finish of 9 more threads\n",
      "2021-02-24 06:21:22,154 : INFO : worker thread finished; awaiting finish of 8 more threads\n",
      "2021-02-24 06:21:22,448 : INFO : worker thread finished; awaiting finish of 7 more threads\n",
      "2021-02-24 06:21:22,450 : INFO : worker thread finished; awaiting finish of 6 more threads\n",
      "2021-02-24 06:21:22,538 : INFO : worker thread finished; awaiting finish of 5 more threads\n",
      "2021-02-24 06:21:22,573 : INFO : worker thread finished; awaiting finish of 4 more threads\n",
      "2021-02-24 06:21:22,595 : INFO : worker thread finished; awaiting finish of 3 more threads\n",
      "2021-02-24 06:21:22,607 : INFO : worker thread finished; awaiting finish of 2 more threads\n",
      "2021-02-24 06:21:22,661 : INFO : worker thread finished; awaiting finish of 1 more threads\n",
      "2021-02-24 06:21:22,895 : INFO : EPOCH 4 - PROGRESS: at 100.44% words, 212822 words/s, in_qsize -1, out_qsize 1\n",
      "2021-02-24 06:21:22,896 : INFO : worker thread finished; awaiting finish of 0 more threads\n",
      "2021-02-24 06:21:22,897 : INFO : EPOCH - 4 : training on 15512090 raw words (11167280 effective words) took 52.5s, 212813 effective words/s\n",
      "2021-02-24 06:22:14,337 : INFO : EPOCH 5 - PROGRESS: at 8.35% words, 18060 words/s, in_qsize -1, out_qsize 1\n",
      "2021-02-24 06:22:14,338 : INFO : worker thread finished; awaiting finish of 11 more threads\n",
      "2021-02-24 06:22:14,550 : INFO : worker thread finished; awaiting finish of 10 more threads\n",
      "2021-02-24 06:22:14,713 : INFO : worker thread finished; awaiting finish of 9 more threads\n",
      "2021-02-24 06:22:14,725 : INFO : worker thread finished; awaiting finish of 8 more threads\n",
      "2021-02-24 06:22:14,849 : INFO : worker thread finished; awaiting finish of 7 more threads\n",
      "2021-02-24 06:22:15,094 : INFO : worker thread finished; awaiting finish of 6 more threads\n",
      "2021-02-24 06:22:15,156 : INFO : worker thread finished; awaiting finish of 5 more threads\n",
      "2021-02-24 06:22:15,208 : INFO : worker thread finished; awaiting finish of 4 more threads\n",
      "2021-02-24 06:22:15,229 : INFO : worker thread finished; awaiting finish of 3 more threads\n",
      "2021-02-24 06:22:15,230 : INFO : worker thread finished; awaiting finish of 2 more threads\n",
      "2021-02-24 06:22:15,234 : INFO : worker thread finished; awaiting finish of 1 more threads\n",
      "2021-02-24 06:22:15,279 : INFO : worker thread finished; awaiting finish of 0 more threads\n",
      "2021-02-24 06:22:15,280 : INFO : EPOCH - 5 : training on 15512090 raw words (11166983 effective words) took 52.3s, 213366 effective words/s\n",
      "2021-02-24 06:22:15,284 : INFO : training on a 77560450 raw words (55839272 effective words) took 262.8s, 212477 effective words/s\n",
      "2021-02-24 06:22:15,285 : WARNING : under 10 jobs per worker: consider setting a smaller `batch_words' for smoother alpha decay\n",
      "2021-02-24 06:22:16,891 : INFO : saving FastText object under dados/experimento_4/ftt_jur.model, separately None\n",
      "2021-02-24 06:22:16,892 : INFO : storing np array 'vectors_ngrams' to dados/experimento_4/ftt_jur.model.wv.vectors_ngrams.npy\n",
      "2021-02-24 06:22:24,144 : INFO : not storing attribute vectors_norm\n",
      "2021-02-24 06:22:24,146 : INFO : not storing attribute vectors_vocab_norm\n",
      "2021-02-24 06:22:24,147 : INFO : not storing attribute vectors_ngrams_norm\n",
      "2021-02-24 06:22:24,148 : INFO : not storing attribute buckets_word\n",
      "2021-02-24 06:22:24,149 : INFO : storing np array 'vectors_ngrams_lockf' to dados/experimento_4/ftt_jur.model.trainables.vectors_ngrams_lockf.npy\n"
     ]
    },
    {
     "name": "stderr",
     "output_type": "stream",
     "text": [
      "2021-02-24 06:22:31,733 : INFO : saved dados/experimento_4/ftt_jur.model\n"
     ]
    },
    {
     "name": "stdout",
     "output_type": "stream",
     "text": [
      "treinando modelo glove\n",
      "mkdir -p build\n",
      "tokenizando corpus\n",
      "$ build/vocab_count -min-count 5 -verbose 2 < ../mestrado/experimentos_mestrado/dados/experimento_4/base_treino_glv.txt > ../mestrado/experimentos_mestrado/dados/experimento_4/glove_vocab.txt\n",
      "criando matriz de coocorrencia\n",
      "$ build/cooccur -memory 4.0 -vocab-file ../mestrado/experimentos_mestrado/dados/experimento_4/glove_vocab.txt -verbose 2 -window-size 15 < ../mestrado/experimentos_mestrado/dados/experimento_4/base_treino_glv.txt > ../mestrado/experimentos_mestrado/dados/experimento_4/glv_concurrence.bin\n",
      "$ build/shuffle -memory 4.0 -verbose 2 < ../mestrado/experimentos_mestrado/dados/experimento_4/glv_concurrence.bin > ../mestrado/experimentos_mestrado/dados/experimento_4/glv_concurrence_shuf.bin\n",
      "$ build/glove -save-file ../mestrado/experimentos_mestrado/dados/experimento_4/glv_jur -threads 8 -input-file ../mestrado/experimentos_mestrado/dados/experimento_4/glv_concurrence_shuf.bin -x-max 10 -iter 15 -vector-size 100 -binary 2 -vocab-file ../mestrado/experimentos_mestrado/dados/experimento_4/glove_vocab.txt -verbose 2\n",
      "\n",
      "BUILDING VOCABULARY\n",
      "Processed 0 tokens.100000 tokens.200000 tokens.300000 tokens.400000 tokens.500000 tokens.600000 tokens.700000 tokens.800000 tokens.900000 tokens.1000000 tokens.1100000 tokens.1200000 tokens.1300000 tokens.1400000 tokens.1500000 tokens.1600000 tokens.1700000 tokens.1800000 tokens.1900000 tokens.2000000 tokens.2100000 tokens.2200000 tokens.2300000 tokens.2400000 tokens.2500000 tokens.2600000 tokens.2700000 tokens.2800000 tokens.2900000 tokens.3000000 tokens.3100000 tokens.3200000 tokens.3300000 tokens.3400000 tokens.3500000 tokens.3600000 tokens.3700000 tokens.3800000 tokens.3900000 tokens.4000000 tokens.4100000 tokens.4200000 tokens.4300000 tokens.4400000 tokens.4500000 tokens.4600000 tokens.4700000 tokens.4800000 tokens.4900000 tokens.5000000 tokens.5100000 tokens.5200000 tokens.5300000 tokens.5400000 tokens.5500000 tokens.5600000 tokens.5700000 tokens.5800000 tokens.5900000 tokens.6000000 tokens.6100000 tokens.6200000 tokens.6300000 tokens.6400000 tokens.6500000 tokens.6600000 tokens.6700000 tokens.6800000 tokens.6900000 tokens.7000000 tokens.7100000 tokens.7200000 tokens.7300000 tokens.7400000 tokens.7500000 tokens.7600000 tokens.7700000 tokens.7800000 tokens.7900000 tokens.8000000 tokens.8100000 tokens.8200000 tokens.8300000 tokens.8400000 tokens.8500000 tokens.8600000 tokens.8700000 tokens.8800000 tokens.8900000 tokens.9000000 tokens.9100000 tokens.9200000 tokens.9300000 tokens.9400000 tokens.9500000 tokens.9600000 tokens.9700000 tokens.Processed 9719907 tokens.\n",
      "Counted 81027 unique words.\n",
      "Truncating vocabulary at min count 5.\n",
      "Using vocabulary of size 32536.\n",
      "\n",
      "COUNTING COOCCURRENCES\n",
      "window size: 15\n",
      "context: symmetric\n",
      "max product: 13752509\n",
      "overflow length: 38028356\n",
      "Reading vocab from file \"../mestrado/experimentos_mestrado/dados/experimento_4/glove_vocab.txt\"...loaded 32536 words.\n",
      "Building lookup table...table contains 73454053 elements.\n",
      "Processing token: 01000002000003000004000005000006000007000008000009000001000000110000012000001300000140000015000001600000170000018000001900000200000021000002200000230000024000002500000260000027000002800000290000030000003100000320000033000003400000350000036000003700000380000039000004000000410000042000004300000440000045000004600000470000048000004900000500000051000005200000530000054000005500000560000057000005800000590000060000006100000620000063000006400000650000066000006700000680000069000007000000710000072000007300000740000075000007600000770000078000007900000800000081000008200000830000084000008500000860000087000008800000890000090000009100000920000093000009400000950000096000009700000Processed 9719907 tokens.\n",
      "Writing cooccurrences to disk........2 files in total.\n"
     ]
    },
    {
     "name": "stdout",
     "output_type": "stream",
     "text": [
      "Merging cooccurrence files: processed 0 lines.100000 lines.200000 lines.300000 lines.400000 lines.500000 lines.600000 lines.700000 lines.800000 lines.900000 lines.1000000 lines.1100000 lines.1200000 lines.1300000 lines.1400000 lines.1500000 lines.1600000 lines.1700000 lines.1800000 lines.1900000 lines.2000000 lines.2100000 lines.2200000 lines.2300000 lines.2400000 lines.2500000 lines.2600000 lines.2700000 lines.2800000 lines.2900000 lines.3000000 lines.3100000 lines.3200000 lines.3300000 lines.3400000 lines.3500000 lines.3600000 lines.3700000 lines.3800000 lines.3900000 lines.4000000 lines.4100000 lines.4200000 lines.4300000 lines.4400000 lines.4500000 lines.4600000 lines.4700000 lines.4800000 lines.4900000 lines.5000000 lines.5100000 lines.5200000 lines.5300000 lines.5400000 lines.5500000 lines.5600000 lines.5700000 lines.5800000 lines.5900000 lines.6000000 lines.6100000 lines.6200000 lines.6300000 lines.6400000 lines.6500000 lines.6600000 lines.6700000 lines.6800000 lines.6900000 lines.7000000 lines.7100000 lines.7200000 lines.7300000 lines.7400000 lines.7500000 lines.7600000 lines.7700000 lines.7800000 lines.7900000 lines.8000000 lines.8100000 lines.8200000 lines.8300000 lines.8400000 lines.8500000 lines.8600000 lines.8700000 lines.8800000 lines.8900000 lines.9000000 lines.9100000 lines.9200000 lines.9300000 lines.9400000 lines.9500000 lines.9600000 lines.9700000 lines.9800000 lines.9900000 lines.10000000 lines.10100000 lines.10200000 lines.10300000 lines.10400000 lines.10500000 lines.10600000 lines.10700000 lines.10800000 lines.10900000 lines.11000000 lines.11100000 lines.11200000 lines.11300000 lines.11400000 lines.11500000 lines.11600000 lines.11700000 lines.11800000 lines.11900000 lines.12000000 lines.12100000 lines.12200000 lines.12300000 lines.12400000 lines.12500000 lines.12600000 lines.12700000 lines.12800000 lines.12900000 lines.13000000 lines.13100000 lines.13200000 lines.13300000 lines.13400000 lines.13500000 lines.13600000 lines.13700000 lines.13800000 lines.13900000 lines.14000000 lines.14100000 lines.14200000 lines.14300000 lines.14400000 lines.14500000 lines.14600000 lines.14700000 lines.14800000 lines.14900000 lines.15000000 lines.15100000 lines.15200000 lines.15300000 lines.15400000 lines.15500000 lines.15600000 lines.15700000 lines.15800000 lines.15900000 lines.16000000 lines.16100000 lines.16200000 lines.16300000 lines.16400000 lines.16500000 lines.16600000 lines.16700000 lines.16800000 lines.16900000 lines.17000000 lines.17100000 lines.17200000 lines.17300000 lines.17400000 lines.17500000 lines.17600000 lines.17700000 lines.17800000 lines.17900000 lines.18000000 lines.18100000 lines.18200000 lines.18300000 lines.18400000 lines.18500000 lines.18600000 lines.18700000 lines.18800000 lines.18900000 lines.19000000 lines.19100000 lines.19200000 lines.19300000 lines.19400000 lines.19500000 lines.19600000 lines.19700000 lines.19800000 lines.19900000 lines.20000000 lines.20100000 lines.20200000 lines.20300000 lines.20400000 lines.20500000 lines.20600000 lines.20700000 lines.20800000 lines.20900000 lines.21000000 lines.21100000 lines.21200000 lines.21300000 lines.21400000 lines.21500000 lines.21600000 lines.21700000 lines.21800000 lines.21900000 lines.22000000 lines.22100000 lines.22200000 lines.22300000 lines.22400000 lines.22500000 lines.22600000 lines.22700000 lines.22800000 lines.22900000 lines.23000000 lines.23100000 lines.23200000 lines.23300000 lines.23400000 lines.23500000 lines.23600000 lines.23700000 lines.23800000 lines.23900000 lines.24000000 lines.24100000 lines.24200000 lines.24300000 lines.24400000 lines.24500000 lines.24600000 lines.24700000 lines.24800000 lines.24900000 lines.25000000 lines.25100000 lines.25200000 lines.25300000 lines.25400000 lines.25500000 lines.25600000 lines.25700000 lines.25800000 lines.25900000 lines.26000000 lines.26100000 lines.26200000 lines.26300000 lines.26400000 lines.26500000 lines.26600000 lines.26700000 lines.26800000 lines.26900000 lines.27000000 lines.27100000 lines.27200000 lines.27300000 lines.27400000 lines.27500000 lines.27600000 lines.27700000 lines.27800000 lines.27900000 lines.28000000 lines.28100000 lines.28200000 lines.28300000 lines.28400000 lines.28500000 lines.28600000 lines.28700000 lines.28800000 lines.28900000 lines.29000000 lines.29100000 lines.29200000 lines.29300000 lines.29400000 lines.29500000 lines.29600000 lines.29700000 lines.29800000 lines.29900000 lines.30000000 lines.30100000 lines.30200000 lines.30300000 lines.30400000 lines.30500000 lines.30600000 lines.30700000 lines.30800000 lines.30900000 lines.31000000 lines.31100000 lines.31200000 lines.31300000 lines.31400000 lines.31500000 lines.31600000 lines.Merging cooccurrence files: processed 31642968 lines.\n",
      "\n",
      "Using random seed 1614158568\n",
      "SHUFFLING COOCCURRENCES\n",
      "array size: 255013683\n",
      "Shuffling by chunks: processed 0 lines.processed 31642968 lines.\n",
      "Wrote 1 temporary file(s).\n",
      "Merging temp files: processed 0 lines.31642968 lines.Merging temp files: processed 31642968 lines.\n",
      "\n",
      "TRAINING MODEL\n",
      "Read 31642968 lines.\n",
      "Initializing parameters...Using random seed 1614158579\n",
      "done.\n",
      "vector size: 100\n",
      "vocab size: 32536\n",
      "x_max: 10.000000\n",
      "alpha: 0.750000\n",
      "02/24/21 - 06:23.10AM, iter: 001, cost: 0.109800\n",
      "02/24/21 - 06:23.22AM, iter: 002, cost: 0.079788\n",
      "02/24/21 - 06:23.34AM, iter: 003, cost: 0.066874\n",
      "02/24/21 - 06:23.45AM, iter: 004, cost: 0.059150\n",
      "02/24/21 - 06:23.56AM, iter: 005, cost: 0.054753\n",
      "02/24/21 - 06:24.07AM, iter: 006, cost: 0.052129\n",
      "02/24/21 - 06:24.17AM, iter: 007, cost: 0.050421\n",
      "02/24/21 - 06:24.28AM, iter: 008, cost: 0.049171\n",
      "02/24/21 - 06:24.39AM, iter: 009, cost: 0.048248\n",
      "02/24/21 - 06:24.50AM, iter: 010, cost: 0.047511\n",
      "02/24/21 - 06:25.00AM, iter: 011, cost: 0.046892\n",
      "02/24/21 - 06:25.11AM, iter: 012, cost: 0.046389\n",
      "02/24/21 - 06:25.22AM, iter: 013, cost: 0.045985\n",
      "02/24/21 - 06:25.32AM, iter: 014, cost: 0.045593\n",
      "02/24/21 - 06:25.43AM, iter: 015, cost: 0.045288\n",
      "\n",
      "treinamento concluído\n"
     ]
    },
    {
     "name": "stderr",
     "output_type": "stream",
     "text": [
      "2021-02-24 06:25:45,367 : INFO : converting 32537 vectors from dados/experimento_4/glv_jur.txt to C:\\Users\\CRISTI~1\\AppData\\Local\\Temp\\test_word2vec.txt\n",
      "2021-02-24 06:25:45,434 : INFO : loading projection weights from C:\\Users\\CRISTI~1\\AppData\\Local\\Temp\\test_word2vec.txt\n",
      "2021-02-24 06:25:48,204 : INFO : loaded (32537, 100) matrix from C:\\Users\\CRISTI~1\\AppData\\Local\\Temp\\test_word2vec.txt\n",
      "2021-02-24 06:25:48,206 : INFO : loading projection weights from modelos/w2v_skip_nilc.txt\n",
      "2021-02-24 06:27:06,239 : INFO : loaded (929606, 100) matrix from modelos/w2v_skip_nilc.txt\n",
      "2021-02-24 06:27:06,240 : INFO : loading projection weights from modelos/ftt_skip_nilc.txt\n",
      "2021-02-24 06:28:23,327 : INFO : loaded (929605, 100) matrix from modelos/ftt_skip_nilc.txt\n",
      "2021-02-24 06:28:23,328 : INFO : loading projection weights from modelos/glove_nilc.txt\n",
      "2021-02-24 06:29:40,316 : INFO : loaded (929605, 100) matrix from modelos/glove_nilc.txt\n"
     ]
    },
    {
     "name": "stdout",
     "output_type": "stream",
     "text": [
      "recuperando teores da base de teste\n"
     ]
    },
    {
     "data": {
      "application/vnd.jupyter.widget-view+json": {
       "model_id": "1af047ab62c44886b602a6f3b27a627e",
       "version_major": 2,
       "version_minor": 0
      },
      "text/plain": [
       "HBox(children=(IntProgress(value=0, max=7006), HTML(value='')))"
      ]
     },
     "metadata": {},
     "output_type": "display_data"
    },
    {
     "name": "stdout",
     "output_type": "stream",
     "text": [
      "\n",
      "criando representações word2vec geral\n"
     ]
    },
    {
     "data": {
      "application/vnd.jupyter.widget-view+json": {
       "model_id": "6460bfac5eb24271b06636b6acb4b44e",
       "version_major": 2,
       "version_minor": 0
      },
      "text/plain": [
       "HBox(children=(IntProgress(value=0, max=7006), HTML(value='')))"
      ]
     },
     "metadata": {},
     "output_type": "display_data"
    },
    {
     "name": "stdout",
     "output_type": "stream",
     "text": [
      "\n",
      "criando representações fasttext geral\n"
     ]
    },
    {
     "data": {
      "application/vnd.jupyter.widget-view+json": {
       "model_id": "9c7a930810ef400eb864d78e6725e1fc",
       "version_major": 2,
       "version_minor": 0
      },
      "text/plain": [
       "HBox(children=(IntProgress(value=0, max=7006), HTML(value='')))"
      ]
     },
     "metadata": {},
     "output_type": "display_data"
    },
    {
     "name": "stdout",
     "output_type": "stream",
     "text": [
      "\n",
      "criando representações glove geral\n"
     ]
    },
    {
     "data": {
      "application/vnd.jupyter.widget-view+json": {
       "model_id": "2943fd370fcc4e7a8d540f82e1fbd6ff",
       "version_major": 2,
       "version_minor": 0
      },
      "text/plain": [
       "HBox(children=(IntProgress(value=0, max=7006), HTML(value='')))"
      ]
     },
     "metadata": {},
     "output_type": "display_data"
    },
    {
     "name": "stdout",
     "output_type": "stream",
     "text": [
      "\n",
      "criando representações word2vec juridico\n"
     ]
    },
    {
     "data": {
      "application/vnd.jupyter.widget-view+json": {
       "model_id": "8a257ee5d6ae4357b4bbb58cf8b3f80f",
       "version_major": 2,
       "version_minor": 0
      },
      "text/plain": [
       "HBox(children=(IntProgress(value=0, max=7006), HTML(value='')))"
      ]
     },
     "metadata": {},
     "output_type": "display_data"
    },
    {
     "name": "stdout",
     "output_type": "stream",
     "text": [
      "\n",
      "criando representações fasttext juridico\n"
     ]
    },
    {
     "data": {
      "application/vnd.jupyter.widget-view+json": {
       "model_id": "679ed149326b4d1e918d5f10ec3c4dc5",
       "version_major": 2,
       "version_minor": 0
      },
      "text/plain": [
       "HBox(children=(IntProgress(value=0, max=7006), HTML(value='')))"
      ]
     },
     "metadata": {},
     "output_type": "display_data"
    },
    {
     "name": "stdout",
     "output_type": "stream",
     "text": [
      "\n",
      "criando representações glove juridico\n"
     ]
    },
    {
     "data": {
      "application/vnd.jupyter.widget-view+json": {
       "model_id": "e0ca079f5c2b4844b74492ae2575968e",
       "version_major": 2,
       "version_minor": 0
      },
      "text/plain": [
       "HBox(children=(IntProgress(value=0, max=7006), HTML(value='')))"
      ]
     },
     "metadata": {},
     "output_type": "display_data"
    },
    {
     "name": "stdout",
     "output_type": "stream",
     "text": [
      "\n",
      "----------- EXPERIMENTO 4 CONCLUIDO -----------\n",
      "tempo do experimento: 18.985924454530082 minutos\n",
      "----------------------- EXPERIMENTO 5 -----------------------\n",
      "criando base de treino para o experimento 5\n"
     ]
    },
    {
     "data": {
      "application/vnd.jupyter.widget-view+json": {
       "model_id": "33c6e9a3c08e496188bc476aff475a3e",
       "version_major": 2,
       "version_minor": 0
      },
      "text/plain": [
       "HBox(children=(IntProgress(value=0, max=28021), HTML(value='')))"
      ]
     },
     "metadata": {},
     "output_type": "display_data"
    },
    {
     "name": "stdout",
     "output_type": "stream",
     "text": [
      "\n",
      "16058646 tokens copiados com sucesso\n",
      "preparando documentos para extração do vocabulário:\n"
     ]
    },
    {
     "data": {
      "application/vnd.jupyter.widget-view+json": {
       "model_id": "67c9e01eee344bf8821f807a3e49848d",
       "version_major": 2,
       "version_minor": 0
      },
      "text/plain": [
       "HBox(children=(IntProgress(value=0, max=28021), HTML(value='')))"
      ]
     },
     "metadata": {},
     "output_type": "display_data"
    },
    {
     "name": "stdout",
     "output_type": "stream",
     "text": [
      "\n",
      "extraindo termos com base no ICA\n"
     ]
    },
    {
     "data": {
      "application/vnd.jupyter.widget-view+json": {
       "model_id": "57fb1a9b3440439aa4a1197287270083",
       "version_major": 2,
       "version_minor": 0
      },
      "text/plain": [
       "HBox(children=(IntProgress(value=0, max=125), HTML(value='')))"
      ]
     },
     "metadata": {},
     "output_type": "display_data"
    },
    {
     "name": "stdout",
     "output_type": "stream",
     "text": [
      "\n",
      "-processando strings do corpus\n",
      "-treinando vetorizador\n",
      "-ICA processado\n",
      "extraindo termos com base na frequência - geralmente leva menos de 4 minutos\n",
      "extraindo termos do tesauro\n",
      "extração de vocabulário concluída!\n",
      "treinando modelo word2vec\n"
     ]
    },
    {
     "name": "stderr",
     "output_type": "stream",
     "text": [
      "2021-02-24 06:34:38,343 : INFO : collecting all words and their counts\n",
      "2021-02-24 06:34:38,354 : INFO : PROGRESS: at sentence #0, processed 0 words, keeping 0 word types\n",
      "2021-02-24 06:34:38,417 : INFO : PROGRESS: at sentence #10000, processed 239684 words, keeping 13413 word types\n",
      "2021-02-24 06:34:38,484 : INFO : PROGRESS: at sentence #20000, processed 484458 words, keeping 18963 word types\n",
      "2021-02-24 06:34:38,552 : INFO : PROGRESS: at sentence #30000, processed 722773 words, keeping 22684 word types\n",
      "2021-02-24 06:34:38,620 : INFO : PROGRESS: at sentence #40000, processed 968463 words, keeping 25416 word types\n",
      "2021-02-24 06:34:38,688 : INFO : PROGRESS: at sentence #50000, processed 1213509 words, keeping 28038 word types\n",
      "2021-02-24 06:34:38,753 : INFO : PROGRESS: at sentence #60000, processed 1456386 words, keeping 30106 word types\n",
      "2021-02-24 06:34:38,820 : INFO : PROGRESS: at sentence #70000, processed 1707095 words, keeping 32151 word types\n",
      "2021-02-24 06:34:38,886 : INFO : PROGRESS: at sentence #80000, processed 1950766 words, keeping 33979 word types\n",
      "2021-02-24 06:34:38,952 : INFO : PROGRESS: at sentence #90000, processed 2191358 words, keeping 35582 word types\n",
      "2021-02-24 06:34:39,019 : INFO : PROGRESS: at sentence #100000, processed 2433922 words, keeping 37339 word types\n",
      "2021-02-24 06:34:39,085 : INFO : PROGRESS: at sentence #110000, processed 2676374 words, keeping 38899 word types\n",
      "2021-02-24 06:34:39,148 : INFO : PROGRESS: at sentence #120000, processed 2909919 words, keeping 40120 word types\n",
      "2021-02-24 06:34:39,213 : INFO : PROGRESS: at sentence #130000, processed 3156788 words, keeping 41351 word types\n",
      "2021-02-24 06:34:39,280 : INFO : PROGRESS: at sentence #140000, processed 3404117 words, keeping 42659 word types\n",
      "2021-02-24 06:34:39,347 : INFO : PROGRESS: at sentence #150000, processed 3643897 words, keeping 43928 word types\n",
      "2021-02-24 06:34:39,414 : INFO : PROGRESS: at sentence #160000, processed 3892456 words, keeping 45177 word types\n",
      "2021-02-24 06:34:39,481 : INFO : PROGRESS: at sentence #170000, processed 4136196 words, keeping 46229 word types\n",
      "2021-02-24 06:34:39,546 : INFO : PROGRESS: at sentence #180000, processed 4373648 words, keeping 47406 word types\n",
      "2021-02-24 06:34:39,612 : INFO : PROGRESS: at sentence #190000, processed 4615925 words, keeping 48485 word types\n",
      "2021-02-24 06:34:39,679 : INFO : PROGRESS: at sentence #200000, processed 4861945 words, keeping 49494 word types\n",
      "2021-02-24 06:34:39,744 : INFO : PROGRESS: at sentence #210000, processed 5095681 words, keeping 50342 word types\n",
      "2021-02-24 06:34:39,811 : INFO : PROGRESS: at sentence #220000, processed 5336519 words, keeping 51386 word types\n",
      "2021-02-24 06:34:39,875 : INFO : PROGRESS: at sentence #230000, processed 5574149 words, keeping 52438 word types\n",
      "2021-02-24 06:34:39,940 : INFO : PROGRESS: at sentence #240000, processed 5809496 words, keeping 53473 word types\n",
      "2021-02-24 06:34:40,006 : INFO : PROGRESS: at sentence #250000, processed 6052046 words, keeping 54401 word types\n",
      "2021-02-24 06:34:40,073 : INFO : PROGRESS: at sentence #260000, processed 6299054 words, keeping 55371 word types\n",
      "2021-02-24 06:34:40,140 : INFO : PROGRESS: at sentence #270000, processed 6541889 words, keeping 56186 word types\n",
      "2021-02-24 06:34:40,209 : INFO : PROGRESS: at sentence #280000, processed 6789658 words, keeping 57130 word types\n",
      "2021-02-24 06:34:40,275 : INFO : PROGRESS: at sentence #290000, processed 7033377 words, keeping 58008 word types\n",
      "2021-02-24 06:34:40,341 : INFO : PROGRESS: at sentence #300000, processed 7283023 words, keeping 58766 word types\n",
      "2021-02-24 06:34:40,407 : INFO : PROGRESS: at sentence #310000, processed 7523227 words, keeping 59607 word types\n",
      "2021-02-24 06:34:40,474 : INFO : PROGRESS: at sentence #320000, processed 7767987 words, keeping 60435 word types\n",
      "2021-02-24 06:34:40,541 : INFO : PROGRESS: at sentence #330000, processed 8015939 words, keeping 61356 word types\n",
      "2021-02-24 06:34:40,608 : INFO : PROGRESS: at sentence #340000, processed 8261166 words, keeping 62057 word types\n",
      "2021-02-24 06:34:40,679 : INFO : PROGRESS: at sentence #350000, processed 8508301 words, keeping 62737 word types\n",
      "2021-02-24 06:34:40,744 : INFO : PROGRESS: at sentence #360000, processed 8746563 words, keeping 63501 word types\n",
      "2021-02-24 06:34:40,812 : INFO : PROGRESS: at sentence #370000, processed 8985468 words, keeping 64131 word types\n",
      "2021-02-24 06:34:40,878 : INFO : PROGRESS: at sentence #380000, processed 9227656 words, keeping 64867 word types\n",
      "2021-02-24 06:34:40,947 : INFO : PROGRESS: at sentence #390000, processed 9478315 words, keeping 65570 word types\n",
      "2021-02-24 06:34:41,013 : INFO : PROGRESS: at sentence #400000, processed 9715856 words, keeping 66236 word types\n",
      "2021-02-24 06:34:41,076 : INFO : PROGRESS: at sentence #410000, processed 9951036 words, keeping 66909 word types\n",
      "2021-02-24 06:34:41,143 : INFO : PROGRESS: at sentence #420000, processed 10197924 words, keeping 67666 word types\n",
      "2021-02-24 06:34:41,209 : INFO : PROGRESS: at sentence #430000, processed 10441430 words, keeping 68358 word types\n",
      "2021-02-24 06:34:41,275 : INFO : PROGRESS: at sentence #440000, processed 10686805 words, keeping 68985 word types\n",
      "2021-02-24 06:34:41,343 : INFO : PROGRESS: at sentence #450000, processed 10930793 words, keeping 69695 word types\n",
      "2021-02-24 06:34:41,408 : INFO : PROGRESS: at sentence #460000, processed 11173561 words, keeping 70548 word types\n",
      "2021-02-24 06:34:41,476 : INFO : PROGRESS: at sentence #470000, processed 11420431 words, keeping 71148 word types\n",
      "2021-02-24 06:34:41,540 : INFO : PROGRESS: at sentence #480000, processed 11658406 words, keeping 71746 word types\n",
      "2021-02-24 06:34:41,607 : INFO : PROGRESS: at sentence #490000, processed 11903442 words, keeping 72346 word types\n",
      "2021-02-24 06:34:41,675 : INFO : PROGRESS: at sentence #500000, processed 12148928 words, keeping 73002 word types\n",
      "2021-02-24 06:34:41,744 : INFO : PROGRESS: at sentence #510000, processed 12396374 words, keeping 73652 word types\n",
      "2021-02-24 06:34:41,810 : INFO : PROGRESS: at sentence #520000, processed 12642182 words, keeping 74305 word types\n",
      "2021-02-24 06:34:41,876 : INFO : PROGRESS: at sentence #530000, processed 12882117 words, keeping 74870 word types\n",
      "2021-02-24 06:34:41,942 : INFO : PROGRESS: at sentence #540000, processed 13124709 words, keeping 75577 word types\n",
      "2021-02-24 06:34:42,008 : INFO : PROGRESS: at sentence #550000, processed 13357655 words, keeping 76182 word types\n",
      "2021-02-24 06:34:42,072 : INFO : PROGRESS: at sentence #560000, processed 13596311 words, keeping 76807 word types\n",
      "2021-02-24 06:34:42,140 : INFO : PROGRESS: at sentence #570000, processed 13835654 words, keeping 77374 word types\n",
      "2021-02-24 06:34:42,204 : INFO : PROGRESS: at sentence #580000, processed 14076294 words, keeping 77981 word types\n",
      "2021-02-24 06:34:42,272 : INFO : PROGRESS: at sentence #590000, processed 14320433 words, keeping 78573 word types\n",
      "2021-02-24 06:34:42,337 : INFO : PROGRESS: at sentence #600000, processed 14556593 words, keeping 79125 word types\n",
      "2021-02-24 06:34:42,403 : INFO : PROGRESS: at sentence #610000, processed 14795809 words, keeping 79697 word types\n",
      "2021-02-24 06:34:42,468 : INFO : PROGRESS: at sentence #620000, processed 15037053 words, keeping 80215 word types\n",
      "2021-02-24 06:34:42,533 : INFO : PROGRESS: at sentence #630000, processed 15271530 words, keeping 80757 word types\n",
      "2021-02-24 06:34:42,570 : INFO : collected 81060 word types from a corpus of 15403562 raw words and 635366 sentences\n",
      "2021-02-24 06:34:42,571 : INFO : Loading a fresh vocabulary\n",
      "2021-02-24 06:34:42,626 : INFO : effective_min_count=5 retains 32512 unique words (40% of original 81060, drops 48548)\n",
      "2021-02-24 06:34:42,627 : INFO : effective_min_count=5 leaves 15321817 word corpus (99% of original 15403562, drops 81745)\n",
      "2021-02-24 06:34:42,710 : INFO : deleting the raw counts dictionary of 81060 items\n",
      "2021-02-24 06:34:42,713 : INFO : sample=1e-05 downsamples 3208 most-common words\n",
      "2021-02-24 06:34:42,713 : INFO : downsampling leaves estimated 3697273 word corpus (24.1% of prior 15321817)\n",
      "2021-02-24 06:34:42,735 : INFO : constructing a huffman tree from 32512 words\n",
      "2021-02-24 06:34:43,371 : INFO : built huffman tree with maximum node depth 22\n"
     ]
    },
    {
     "name": "stderr",
     "output_type": "stream",
     "text": [
      "2021-02-24 06:34:43,422 : INFO : estimated required memory for 32512 words and 100 dimensions: 61772800 bytes\n",
      "2021-02-24 06:34:43,423 : INFO : resetting layer weights\n",
      "2021-02-24 06:34:43,739 : INFO : training model with 12 workers on 32512 vocabulary and 100 features, using sg=1 hs=1 sample=1e-05 negative=5 window=5\n",
      "2021-02-24 06:34:44,746 : INFO : EPOCH 1 - PROGRESS: at 9.57% examples, 351921 words/s, in_qsize 0, out_qsize 0\n",
      "2021-02-24 06:34:45,748 : INFO : EPOCH 1 - PROGRESS: at 19.24% examples, 354335 words/s, in_qsize 0, out_qsize 0\n",
      "2021-02-24 06:34:46,761 : INFO : EPOCH 1 - PROGRESS: at 28.24% examples, 346494 words/s, in_qsize 0, out_qsize 1\n",
      "2021-02-24 06:34:47,768 : INFO : EPOCH 1 - PROGRESS: at 37.76% examples, 345736 words/s, in_qsize 0, out_qsize 0\n",
      "2021-02-24 06:34:48,777 : INFO : EPOCH 1 - PROGRESS: at 46.66% examples, 342520 words/s, in_qsize 0, out_qsize 0\n",
      "2021-02-24 06:34:49,795 : INFO : EPOCH 1 - PROGRESS: at 56.10% examples, 343053 words/s, in_qsize 0, out_qsize 0\n",
      "2021-02-24 06:34:50,803 : INFO : EPOCH 1 - PROGRESS: at 64.16% examples, 335750 words/s, in_qsize 21, out_qsize 2\n",
      "2021-02-24 06:34:51,806 : INFO : EPOCH 1 - PROGRESS: at 73.37% examples, 337116 words/s, in_qsize 15, out_qsize 0\n",
      "2021-02-24 06:34:52,812 : INFO : EPOCH 1 - PROGRESS: at 82.50% examples, 337140 words/s, in_qsize 0, out_qsize 0\n",
      "2021-02-24 06:34:53,819 : INFO : EPOCH 1 - PROGRESS: at 90.84% examples, 333723 words/s, in_qsize 11, out_qsize 2\n",
      "2021-02-24 06:34:54,745 : INFO : worker thread finished; awaiting finish of 11 more threads\n",
      "2021-02-24 06:34:54,748 : INFO : worker thread finished; awaiting finish of 10 more threads\n",
      "2021-02-24 06:34:54,749 : INFO : worker thread finished; awaiting finish of 9 more threads\n",
      "2021-02-24 06:34:54,756 : INFO : worker thread finished; awaiting finish of 8 more threads\n",
      "2021-02-24 06:34:54,760 : INFO : worker thread finished; awaiting finish of 7 more threads\n",
      "2021-02-24 06:34:54,765 : INFO : worker thread finished; awaiting finish of 6 more threads\n",
      "2021-02-24 06:34:54,775 : INFO : worker thread finished; awaiting finish of 5 more threads\n",
      "2021-02-24 06:34:54,777 : INFO : worker thread finished; awaiting finish of 4 more threads\n",
      "2021-02-24 06:34:54,779 : INFO : worker thread finished; awaiting finish of 3 more threads\n",
      "2021-02-24 06:34:54,783 : INFO : worker thread finished; awaiting finish of 2 more threads\n",
      "2021-02-24 06:34:54,787 : INFO : worker thread finished; awaiting finish of 1 more threads\n",
      "2021-02-24 06:34:54,791 : INFO : worker thread finished; awaiting finish of 0 more threads\n",
      "2021-02-24 06:34:54,793 : INFO : EPOCH - 1 : training on 15403562 raw words (3698114 effective words) took 11.0s, 334734 effective words/s\n",
      "2021-02-24 06:34:55,810 : INFO : EPOCH 2 - PROGRESS: at 9.38% examples, 339846 words/s, in_qsize 0, out_qsize 0\n",
      "2021-02-24 06:34:56,820 : INFO : EPOCH 2 - PROGRESS: at 18.23% examples, 332245 words/s, in_qsize 14, out_qsize 0\n",
      "2021-02-24 06:34:57,821 : INFO : EPOCH 2 - PROGRESS: at 27.37% examples, 335187 words/s, in_qsize 0, out_qsize 1\n",
      "2021-02-24 06:34:58,829 : INFO : EPOCH 2 - PROGRESS: at 35.96% examples, 328424 words/s, in_qsize 15, out_qsize 0\n",
      "2021-02-24 06:34:59,833 : INFO : EPOCH 2 - PROGRESS: at 45.89% examples, 336788 words/s, in_qsize 0, out_qsize 0\n",
      "2021-02-24 06:35:00,848 : INFO : EPOCH 2 - PROGRESS: at 54.37% examples, 332912 words/s, in_qsize 13, out_qsize 0\n",
      "2021-02-24 06:35:01,853 : INFO : EPOCH 2 - PROGRESS: at 63.77% examples, 333987 words/s, in_qsize 0, out_qsize 0\n",
      "2021-02-24 06:35:02,864 : INFO : EPOCH 2 - PROGRESS: at 71.82% examples, 329684 words/s, in_qsize 18, out_qsize 3\n",
      "2021-02-24 06:35:03,879 : INFO : EPOCH 2 - PROGRESS: at 81.00% examples, 330535 words/s, in_qsize 21, out_qsize 0\n",
      "2021-02-24 06:35:04,880 : INFO : EPOCH 2 - PROGRESS: at 90.04% examples, 330519 words/s, in_qsize 24, out_qsize 0\n",
      "2021-02-24 06:35:05,883 : INFO : EPOCH 2 - PROGRESS: at 98.85% examples, 329652 words/s, in_qsize 18, out_qsize 0\n",
      "2021-02-24 06:35:05,922 : INFO : worker thread finished; awaiting finish of 11 more threads\n",
      "2021-02-24 06:35:05,925 : INFO : worker thread finished; awaiting finish of 10 more threads\n",
      "2021-02-24 06:35:05,926 : INFO : worker thread finished; awaiting finish of 9 more threads\n",
      "2021-02-24 06:35:05,934 : INFO : worker thread finished; awaiting finish of 8 more threads\n",
      "2021-02-24 06:35:05,936 : INFO : worker thread finished; awaiting finish of 7 more threads\n",
      "2021-02-24 06:35:05,939 : INFO : worker thread finished; awaiting finish of 6 more threads\n",
      "2021-02-24 06:35:05,946 : INFO : worker thread finished; awaiting finish of 5 more threads\n",
      "2021-02-24 06:35:05,952 : INFO : worker thread finished; awaiting finish of 4 more threads\n",
      "2021-02-24 06:35:05,954 : INFO : worker thread finished; awaiting finish of 3 more threads\n",
      "2021-02-24 06:35:05,956 : INFO : worker thread finished; awaiting finish of 2 more threads\n",
      "2021-02-24 06:35:05,961 : INFO : worker thread finished; awaiting finish of 1 more threads\n",
      "2021-02-24 06:35:05,963 : INFO : worker thread finished; awaiting finish of 0 more threads\n",
      "2021-02-24 06:35:05,964 : INFO : EPOCH - 2 : training on 15403562 raw words (3698226 effective words) took 11.2s, 331177 effective words/s\n",
      "2021-02-24 06:35:06,973 : INFO : EPOCH 3 - PROGRESS: at 8.73% examples, 319722 words/s, in_qsize 0, out_qsize 0\n",
      "2021-02-24 06:35:07,975 : INFO : EPOCH 3 - PROGRESS: at 17.11% examples, 314638 words/s, in_qsize 17, out_qsize 0\n",
      "2021-02-24 06:35:08,978 : INFO : EPOCH 3 - PROGRESS: at 26.40% examples, 324334 words/s, in_qsize 0, out_qsize 0\n",
      "2021-02-24 06:35:09,984 : INFO : EPOCH 3 - PROGRESS: at 35.23% examples, 322898 words/s, in_qsize 21, out_qsize 0\n",
      "2021-02-24 06:35:10,991 : INFO : EPOCH 3 - PROGRESS: at 44.44% examples, 326576 words/s, in_qsize 0, out_qsize 0\n",
      "2021-02-24 06:35:12,008 : INFO : EPOCH 3 - PROGRESS: at 53.28% examples, 326219 words/s, in_qsize 4, out_qsize 0\n",
      "2021-02-24 06:35:13,009 : INFO : EPOCH 3 - PROGRESS: at 61.26% examples, 322008 words/s, in_qsize 23, out_qsize 0\n",
      "2021-02-24 06:35:14,012 : INFO : EPOCH 3 - PROGRESS: at 70.01% examples, 321928 words/s, in_qsize 19, out_qsize 1\n",
      "2021-02-24 06:35:15,025 : INFO : EPOCH 3 - PROGRESS: at 79.51% examples, 325200 words/s, in_qsize 11, out_qsize 0\n",
      "2021-02-24 06:35:16,029 : INFO : EPOCH 3 - PROGRESS: at 88.60% examples, 325908 words/s, in_qsize 9, out_qsize 1\n",
      "2021-02-24 06:35:17,047 : INFO : EPOCH 3 - PROGRESS: at 97.11% examples, 324189 words/s, in_qsize 23, out_qsize 0\n",
      "2021-02-24 06:35:17,267 : INFO : worker thread finished; awaiting finish of 11 more threads\n",
      "2021-02-24 06:35:17,274 : INFO : worker thread finished; awaiting finish of 10 more threads\n",
      "2021-02-24 06:35:17,276 : INFO : worker thread finished; awaiting finish of 9 more threads\n",
      "2021-02-24 06:35:17,296 : INFO : worker thread finished; awaiting finish of 8 more threads\n",
      "2021-02-24 06:35:17,298 : INFO : worker thread finished; awaiting finish of 7 more threads\n",
      "2021-02-24 06:35:17,303 : INFO : worker thread finished; awaiting finish of 6 more threads\n",
      "2021-02-24 06:35:17,306 : INFO : worker thread finished; awaiting finish of 5 more threads\n",
      "2021-02-24 06:35:17,308 : INFO : worker thread finished; awaiting finish of 4 more threads\n",
      "2021-02-24 06:35:17,311 : INFO : worker thread finished; awaiting finish of 3 more threads\n",
      "2021-02-24 06:35:17,313 : INFO : worker thread finished; awaiting finish of 2 more threads\n",
      "2021-02-24 06:35:17,315 : INFO : worker thread finished; awaiting finish of 1 more threads\n",
      "2021-02-24 06:35:17,316 : INFO : worker thread finished; awaiting finish of 0 more threads\n",
      "2021-02-24 06:35:17,317 : INFO : EPOCH - 3 : training on 15403562 raw words (3696853 effective words) took 11.3s, 325720 effective words/s\n",
      "2021-02-24 06:35:18,326 : INFO : EPOCH 4 - PROGRESS: at 8.54% examples, 313281 words/s, in_qsize 13, out_qsize 0\n",
      "2021-02-24 06:35:19,338 : INFO : EPOCH 4 - PROGRESS: at 17.96% examples, 328743 words/s, in_qsize 0, out_qsize 0\n",
      "2021-02-24 06:35:20,345 : INFO : EPOCH 4 - PROGRESS: at 26.32% examples, 322282 words/s, in_qsize 22, out_qsize 0\n",
      "2021-02-24 06:35:21,351 : INFO : EPOCH 4 - PROGRESS: at 35.56% examples, 324847 words/s, in_qsize 1, out_qsize 0\n",
      "2021-02-24 06:35:22,352 : INFO : EPOCH 4 - PROGRESS: at 44.24% examples, 324608 words/s, in_qsize 8, out_qsize 2\n"
     ]
    },
    {
     "name": "stderr",
     "output_type": "stream",
     "text": [
      "2021-02-24 06:35:23,365 : INFO : EPOCH 4 - PROGRESS: at 53.09% examples, 324949 words/s, in_qsize 15, out_qsize 1\n",
      "2021-02-24 06:35:24,367 : INFO : EPOCH 4 - PROGRESS: at 62.39% examples, 327526 words/s, in_qsize 0, out_qsize 0\n",
      "2021-02-24 06:35:25,375 : INFO : EPOCH 4 - PROGRESS: at 71.19% examples, 327190 words/s, in_qsize 0, out_qsize 0\n",
      "2021-02-24 06:35:26,380 : INFO : EPOCH 4 - PROGRESS: at 80.50% examples, 329240 words/s, in_qsize 0, out_qsize 0\n",
      "2021-02-24 06:35:27,380 : INFO : EPOCH 4 - PROGRESS: at 89.20% examples, 328290 words/s, in_qsize 0, out_qsize 0\n",
      "2021-02-24 06:35:28,383 : INFO : EPOCH 4 - PROGRESS: at 97.79% examples, 326884 words/s, in_qsize 5, out_qsize 0\n",
      "2021-02-24 06:35:28,547 : INFO : worker thread finished; awaiting finish of 11 more threads\n",
      "2021-02-24 06:35:28,559 : INFO : worker thread finished; awaiting finish of 10 more threads\n",
      "2021-02-24 06:35:28,561 : INFO : worker thread finished; awaiting finish of 9 more threads\n",
      "2021-02-24 06:35:28,564 : INFO : worker thread finished; awaiting finish of 8 more threads\n",
      "2021-02-24 06:35:28,565 : INFO : worker thread finished; awaiting finish of 7 more threads\n",
      "2021-02-24 06:35:28,567 : INFO : worker thread finished; awaiting finish of 6 more threads\n",
      "2021-02-24 06:35:28,581 : INFO : worker thread finished; awaiting finish of 5 more threads\n",
      "2021-02-24 06:35:28,586 : INFO : worker thread finished; awaiting finish of 4 more threads\n",
      "2021-02-24 06:35:28,588 : INFO : worker thread finished; awaiting finish of 3 more threads\n",
      "2021-02-24 06:35:28,589 : INFO : worker thread finished; awaiting finish of 2 more threads\n",
      "2021-02-24 06:35:28,591 : INFO : worker thread finished; awaiting finish of 1 more threads\n",
      "2021-02-24 06:35:28,593 : INFO : worker thread finished; awaiting finish of 0 more threads\n",
      "2021-02-24 06:35:28,594 : INFO : EPOCH - 4 : training on 15403562 raw words (3697883 effective words) took 11.3s, 328032 effective words/s\n",
      "2021-02-24 06:35:29,604 : INFO : EPOCH 5 - PROGRESS: at 8.53% examples, 312549 words/s, in_qsize 7, out_qsize 1\n",
      "2021-02-24 06:35:30,624 : INFO : EPOCH 5 - PROGRESS: at 17.69% examples, 322511 words/s, in_qsize 18, out_qsize 2\n",
      "2021-02-24 06:35:31,668 : INFO : EPOCH 5 - PROGRESS: at 26.21% examples, 316096 words/s, in_qsize 23, out_qsize 0\n",
      "2021-02-24 06:35:32,671 : INFO : EPOCH 5 - PROGRESS: at 35.63% examples, 322525 words/s, in_qsize 5, out_qsize 0\n",
      "2021-02-24 06:35:33,674 : INFO : EPOCH 5 - PROGRESS: at 44.17% examples, 321499 words/s, in_qsize 20, out_qsize 1\n",
      "2021-02-24 06:35:34,681 : INFO : EPOCH 5 - PROGRESS: at 52.95% examples, 322187 words/s, in_qsize 23, out_qsize 0\n",
      "2021-02-24 06:35:35,688 : INFO : EPOCH 5 - PROGRESS: at 61.58% examples, 321412 words/s, in_qsize 24, out_qsize 0\n",
      "2021-02-24 06:35:36,705 : INFO : EPOCH 5 - PROGRESS: at 71.32% examples, 325670 words/s, in_qsize 0, out_qsize 1\n",
      "2021-02-24 06:35:37,708 : INFO : EPOCH 5 - PROGRESS: at 80.10% examples, 325875 words/s, in_qsize 6, out_qsize 0\n",
      "2021-02-24 06:35:38,712 : INFO : EPOCH 5 - PROGRESS: at 89.47% examples, 327436 words/s, in_qsize 0, out_qsize 0\n",
      "2021-02-24 06:35:39,720 : INFO : EPOCH 5 - PROGRESS: at 98.86% examples, 328651 words/s, in_qsize 0, out_qsize 0\n",
      "2021-02-24 06:35:39,800 : INFO : worker thread finished; awaiting finish of 11 more threads\n",
      "2021-02-24 06:35:39,806 : INFO : worker thread finished; awaiting finish of 10 more threads\n",
      "2021-02-24 06:35:39,808 : INFO : worker thread finished; awaiting finish of 9 more threads\n",
      "2021-02-24 06:35:39,810 : INFO : worker thread finished; awaiting finish of 8 more threads\n",
      "2021-02-24 06:35:39,812 : INFO : worker thread finished; awaiting finish of 7 more threads\n",
      "2021-02-24 06:35:39,813 : INFO : worker thread finished; awaiting finish of 6 more threads\n",
      "2021-02-24 06:35:39,814 : INFO : worker thread finished; awaiting finish of 5 more threads\n",
      "2021-02-24 06:35:39,815 : INFO : worker thread finished; awaiting finish of 4 more threads\n",
      "2021-02-24 06:35:39,828 : INFO : worker thread finished; awaiting finish of 3 more threads\n",
      "2021-02-24 06:35:39,832 : INFO : worker thread finished; awaiting finish of 2 more threads\n",
      "2021-02-24 06:35:39,839 : INFO : worker thread finished; awaiting finish of 1 more threads\n",
      "2021-02-24 06:35:39,840 : INFO : worker thread finished; awaiting finish of 0 more threads\n",
      "2021-02-24 06:35:39,841 : INFO : EPOCH - 5 : training on 15403562 raw words (3698421 effective words) took 11.2s, 328956 effective words/s\n",
      "2021-02-24 06:35:40,852 : INFO : EPOCH 6 - PROGRESS: at 9.06% examples, 330676 words/s, in_qsize 0, out_qsize 0\n",
      "2021-02-24 06:35:41,868 : INFO : EPOCH 6 - PROGRESS: at 17.30% examples, 315911 words/s, in_qsize 24, out_qsize 0\n",
      "2021-02-24 06:35:42,878 : INFO : EPOCH 6 - PROGRESS: at 26.92% examples, 328262 words/s, in_qsize 0, out_qsize 0\n",
      "2021-02-24 06:35:43,883 : INFO : EPOCH 6 - PROGRESS: at 35.61% examples, 324934 words/s, in_qsize 22, out_qsize 0\n",
      "2021-02-24 06:35:44,899 : INFO : EPOCH 6 - PROGRESS: at 45.33% examples, 331423 words/s, in_qsize 2, out_qsize 0\n",
      "2021-02-24 06:35:45,916 : INFO : EPOCH 6 - PROGRESS: at 53.62% examples, 327132 words/s, in_qsize 13, out_qsize 1\n",
      "2021-02-24 06:35:46,923 : INFO : EPOCH 6 - PROGRESS: at 63.17% examples, 330039 words/s, in_qsize 0, out_qsize 1\n",
      "2021-02-24 06:35:47,927 : INFO : EPOCH 6 - PROGRESS: at 72.59% examples, 332710 words/s, in_qsize 0, out_qsize 0\n",
      "2021-02-24 06:35:48,941 : INFO : EPOCH 6 - PROGRESS: at 80.88% examples, 329518 words/s, in_qsize 13, out_qsize 0\n",
      "2021-02-24 06:35:49,948 : INFO : EPOCH 6 - PROGRESS: at 89.80% examples, 328836 words/s, in_qsize 15, out_qsize 0\n",
      "2021-02-24 06:35:50,938 : INFO : worker thread finished; awaiting finish of 11 more threads\n",
      "2021-02-24 06:35:50,946 : INFO : worker thread finished; awaiting finish of 10 more threads\n",
      "2021-02-24 06:35:50,947 : INFO : worker thread finished; awaiting finish of 9 more threads\n",
      "2021-02-24 06:35:50,949 : INFO : worker thread finished; awaiting finish of 8 more threads\n",
      "2021-02-24 06:35:50,950 : INFO : EPOCH 6 - PROGRESS: at 99.56% examples, 331462 words/s, in_qsize 4, out_qsize 7\n",
      "2021-02-24 06:35:50,951 : INFO : worker thread finished; awaiting finish of 7 more threads\n",
      "2021-02-24 06:35:50,953 : INFO : worker thread finished; awaiting finish of 6 more threads\n",
      "2021-02-24 06:35:50,954 : INFO : worker thread finished; awaiting finish of 5 more threads\n",
      "2021-02-24 06:35:50,955 : INFO : worker thread finished; awaiting finish of 4 more threads\n",
      "2021-02-24 06:35:50,957 : INFO : worker thread finished; awaiting finish of 3 more threads\n",
      "2021-02-24 06:35:50,963 : INFO : worker thread finished; awaiting finish of 2 more threads\n",
      "2021-02-24 06:35:50,970 : INFO : worker thread finished; awaiting finish of 1 more threads\n",
      "2021-02-24 06:35:50,971 : INFO : worker thread finished; awaiting finish of 0 more threads\n",
      "2021-02-24 06:35:50,973 : INFO : EPOCH - 6 : training on 15403562 raw words (3696615 effective words) took 11.1s, 332265 effective words/s\n",
      "2021-02-24 06:35:51,999 : INFO : EPOCH 7 - PROGRESS: at 8.29% examples, 298681 words/s, in_qsize 23, out_qsize 0\n",
      "2021-02-24 06:35:53,009 : INFO : EPOCH 7 - PROGRESS: at 18.10% examples, 328780 words/s, in_qsize 1, out_qsize 0\n",
      "2021-02-24 06:35:54,022 : INFO : EPOCH 7 - PROGRESS: at 26.92% examples, 327411 words/s, in_qsize 12, out_qsize 0\n",
      "2021-02-24 06:35:55,031 : INFO : EPOCH 7 - PROGRESS: at 36.28% examples, 329889 words/s, in_qsize 21, out_qsize 0\n",
      "2021-02-24 06:35:56,054 : INFO : EPOCH 7 - PROGRESS: at 45.08% examples, 328180 words/s, in_qsize 19, out_qsize 0\n",
      "2021-02-24 06:35:57,065 : INFO : EPOCH 7 - PROGRESS: at 54.63% examples, 332478 words/s, in_qsize 0, out_qsize 2\n",
      "2021-02-24 06:35:58,070 : INFO : EPOCH 7 - PROGRESS: at 63.83% examples, 332803 words/s, in_qsize 3, out_qsize 0\n",
      "2021-02-24 06:35:59,089 : INFO : EPOCH 7 - PROGRESS: at 73.31% examples, 334806 words/s, in_qsize 0, out_qsize 0\n",
      "2021-02-24 06:36:00,091 : INFO : EPOCH 7 - PROGRESS: at 81.40% examples, 331046 words/s, in_qsize 22, out_qsize 0\n",
      "2021-02-24 06:36:01,100 : INFO : EPOCH 7 - PROGRESS: at 90.91% examples, 332329 words/s, in_qsize 17, out_qsize 3\n",
      "2021-02-24 06:36:01,952 : INFO : worker thread finished; awaiting finish of 11 more threads\n",
      "2021-02-24 06:36:01,964 : INFO : worker thread finished; awaiting finish of 10 more threads\n",
      "2021-02-24 06:36:01,966 : INFO : worker thread finished; awaiting finish of 9 more threads\n"
     ]
    },
    {
     "name": "stderr",
     "output_type": "stream",
     "text": [
      "2021-02-24 06:36:01,967 : INFO : worker thread finished; awaiting finish of 8 more threads\n",
      "2021-02-24 06:36:01,971 : INFO : worker thread finished; awaiting finish of 7 more threads\n",
      "2021-02-24 06:36:01,993 : INFO : worker thread finished; awaiting finish of 6 more threads\n",
      "2021-02-24 06:36:01,994 : INFO : worker thread finished; awaiting finish of 5 more threads\n",
      "2021-02-24 06:36:01,996 : INFO : worker thread finished; awaiting finish of 4 more threads\n",
      "2021-02-24 06:36:01,998 : INFO : worker thread finished; awaiting finish of 3 more threads\n",
      "2021-02-24 06:36:01,999 : INFO : worker thread finished; awaiting finish of 2 more threads\n",
      "2021-02-24 06:36:02,000 : INFO : worker thread finished; awaiting finish of 1 more threads\n",
      "2021-02-24 06:36:02,001 : INFO : worker thread finished; awaiting finish of 0 more threads\n",
      "2021-02-24 06:36:02,002 : INFO : EPOCH - 7 : training on 15403562 raw words (3697850 effective words) took 11.0s, 335420 effective words/s\n",
      "2021-02-24 06:36:03,011 : INFO : EPOCH 8 - PROGRESS: at 8.16% examples, 298880 words/s, in_qsize 20, out_qsize 1\n",
      "2021-02-24 06:36:04,021 : INFO : EPOCH 8 - PROGRESS: at 17.56% examples, 321725 words/s, in_qsize 13, out_qsize 0\n",
      "2021-02-24 06:36:05,023 : INFO : EPOCH 8 - PROGRESS: at 26.92% examples, 329987 words/s, in_qsize 1, out_qsize 0\n",
      "2021-02-24 06:36:06,030 : INFO : EPOCH 8 - PROGRESS: at 35.90% examples, 328292 words/s, in_qsize 19, out_qsize 0\n",
      "2021-02-24 06:36:07,050 : INFO : EPOCH 8 - PROGRESS: at 45.01% examples, 329636 words/s, in_qsize 18, out_qsize 0\n",
      "2021-02-24 06:36:08,052 : INFO : EPOCH 8 - PROGRESS: at 54.43% examples, 333528 words/s, in_qsize 0, out_qsize 0\n",
      "2021-02-24 06:36:09,061 : INFO : EPOCH 8 - PROGRESS: at 63.83% examples, 334404 words/s, in_qsize 0, out_qsize 1\n",
      "2021-02-24 06:36:10,066 : INFO : EPOCH 8 - PROGRESS: at 72.78% examples, 334624 words/s, in_qsize 0, out_qsize 0\n",
      "2021-02-24 06:36:11,076 : INFO : EPOCH 8 - PROGRESS: at 81.19% examples, 331908 words/s, in_qsize 2, out_qsize 1\n",
      "2021-02-24 06:36:12,080 : INFO : EPOCH 8 - PROGRESS: at 90.51% examples, 332582 words/s, in_qsize 11, out_qsize 2\n",
      "2021-02-24 06:36:13,010 : INFO : worker thread finished; awaiting finish of 11 more threads\n",
      "2021-02-24 06:36:13,018 : INFO : worker thread finished; awaiting finish of 10 more threads\n",
      "2021-02-24 06:36:13,019 : INFO : worker thread finished; awaiting finish of 9 more threads\n",
      "2021-02-24 06:36:13,021 : INFO : worker thread finished; awaiting finish of 8 more threads\n",
      "2021-02-24 06:36:13,033 : INFO : worker thread finished; awaiting finish of 7 more threads\n",
      "2021-02-24 06:36:13,036 : INFO : worker thread finished; awaiting finish of 6 more threads\n",
      "2021-02-24 06:36:13,038 : INFO : worker thread finished; awaiting finish of 5 more threads\n",
      "2021-02-24 06:36:13,042 : INFO : worker thread finished; awaiting finish of 4 more threads\n",
      "2021-02-24 06:36:13,044 : INFO : worker thread finished; awaiting finish of 3 more threads\n",
      "2021-02-24 06:36:13,050 : INFO : worker thread finished; awaiting finish of 2 more threads\n",
      "2021-02-24 06:36:13,052 : INFO : worker thread finished; awaiting finish of 1 more threads\n",
      "2021-02-24 06:36:13,054 : INFO : worker thread finished; awaiting finish of 0 more threads\n",
      "2021-02-24 06:36:13,055 : INFO : EPOCH - 8 : training on 15403562 raw words (3697476 effective words) took 11.0s, 334670 effective words/s\n",
      "2021-02-24 06:36:14,075 : INFO : EPOCH 9 - PROGRESS: at 8.67% examples, 314778 words/s, in_qsize 22, out_qsize 1\n",
      "2021-02-24 06:36:15,084 : INFO : EPOCH 9 - PROGRESS: at 17.36% examples, 317039 words/s, in_qsize 16, out_qsize 2\n",
      "2021-02-24 06:36:16,100 : INFO : EPOCH 9 - PROGRESS: at 26.53% examples, 322777 words/s, in_qsize 24, out_qsize 0\n",
      "2021-02-24 06:36:17,109 : INFO : EPOCH 9 - PROGRESS: at 35.36% examples, 321743 words/s, in_qsize 24, out_qsize 0\n",
      "2021-02-24 06:36:18,123 : INFO : EPOCH 9 - PROGRESS: at 44.77% examples, 326667 words/s, in_qsize 0, out_qsize 1\n",
      "2021-02-24 06:36:19,133 : INFO : EPOCH 9 - PROGRESS: at 53.15% examples, 324038 words/s, in_qsize 18, out_qsize 5\n",
      "2021-02-24 06:36:20,141 : INFO : EPOCH 9 - PROGRESS: at 62.58% examples, 327194 words/s, in_qsize 7, out_qsize 1\n",
      "2021-02-24 06:36:21,145 : INFO : EPOCH 9 - PROGRESS: at 71.49% examples, 327702 words/s, in_qsize 6, out_qsize 0\n",
      "2021-02-24 06:36:22,162 : INFO : EPOCH 9 - PROGRESS: at 80.43% examples, 327674 words/s, in_qsize 24, out_qsize 0\n",
      "2021-02-24 06:36:23,169 : INFO : EPOCH 9 - PROGRESS: at 90.17% examples, 330398 words/s, in_qsize 0, out_qsize 1\n",
      "2021-02-24 06:36:24,172 : INFO : EPOCH 9 - PROGRESS: at 98.73% examples, 328625 words/s, in_qsize 20, out_qsize 0\n",
      "2021-02-24 06:36:24,233 : INFO : worker thread finished; awaiting finish of 11 more threads\n",
      "2021-02-24 06:36:24,234 : INFO : worker thread finished; awaiting finish of 10 more threads\n",
      "2021-02-24 06:36:24,236 : INFO : worker thread finished; awaiting finish of 9 more threads\n",
      "2021-02-24 06:36:24,239 : INFO : worker thread finished; awaiting finish of 8 more threads\n",
      "2021-02-24 06:36:24,241 : INFO : worker thread finished; awaiting finish of 7 more threads\n",
      "2021-02-24 06:36:24,247 : INFO : worker thread finished; awaiting finish of 6 more threads\n",
      "2021-02-24 06:36:24,253 : INFO : worker thread finished; awaiting finish of 5 more threads\n",
      "2021-02-24 06:36:24,256 : INFO : worker thread finished; awaiting finish of 4 more threads\n",
      "2021-02-24 06:36:24,260 : INFO : worker thread finished; awaiting finish of 3 more threads\n",
      "2021-02-24 06:36:24,261 : INFO : worker thread finished; awaiting finish of 2 more threads\n",
      "2021-02-24 06:36:24,267 : INFO : worker thread finished; awaiting finish of 1 more threads\n",
      "2021-02-24 06:36:24,269 : INFO : worker thread finished; awaiting finish of 0 more threads\n",
      "2021-02-24 06:36:24,270 : INFO : EPOCH - 9 : training on 15403562 raw words (3699762 effective words) took 11.2s, 330064 effective words/s\n",
      "2021-02-24 06:36:25,282 : INFO : EPOCH 10 - PROGRESS: at 9.25% examples, 337338 words/s, in_qsize 0, out_qsize 0\n",
      "2021-02-24 06:36:26,289 : INFO : EPOCH 10 - PROGRESS: at 18.36% examples, 336189 words/s, in_qsize 0, out_qsize 2\n",
      "2021-02-24 06:36:27,310 : INFO : EPOCH 10 - PROGRESS: at 27.76% examples, 338877 words/s, in_qsize 0, out_qsize 2\n",
      "2021-02-24 06:36:28,314 : INFO : EPOCH 10 - PROGRESS: at 37.42% examples, 341164 words/s, in_qsize 0, out_qsize 0\n",
      "2021-02-24 06:36:29,316 : INFO : EPOCH 10 - PROGRESS: at 46.03% examples, 337336 words/s, in_qsize 0, out_qsize 0\n",
      "2021-02-24 06:36:30,319 : INFO : EPOCH 10 - PROGRESS: at 55.30% examples, 338541 words/s, in_qsize 1, out_qsize 1\n",
      "2021-02-24 06:36:31,325 : INFO : EPOCH 10 - PROGRESS: at 64.51% examples, 337806 words/s, in_qsize 0, out_qsize 1\n",
      "2021-02-24 06:36:32,338 : INFO : EPOCH 10 - PROGRESS: at 72.78% examples, 334122 words/s, in_qsize 23, out_qsize 1\n",
      "2021-02-24 06:36:33,340 : INFO : EPOCH 10 - PROGRESS: at 82.09% examples, 335489 words/s, in_qsize 0, out_qsize 0\n",
      "2021-02-24 06:36:34,342 : INFO : EPOCH 10 - PROGRESS: at 91.36% examples, 335719 words/s, in_qsize 0, out_qsize 2\n",
      "2021-02-24 06:36:35,229 : INFO : worker thread finished; awaiting finish of 11 more threads\n",
      "2021-02-24 06:36:35,231 : INFO : worker thread finished; awaiting finish of 10 more threads\n",
      "2021-02-24 06:36:35,235 : INFO : worker thread finished; awaiting finish of 9 more threads\n",
      "2021-02-24 06:36:35,240 : INFO : worker thread finished; awaiting finish of 8 more threads\n",
      "2021-02-24 06:36:35,244 : INFO : worker thread finished; awaiting finish of 7 more threads\n",
      "2021-02-24 06:36:35,253 : INFO : worker thread finished; awaiting finish of 6 more threads\n",
      "2021-02-24 06:36:35,259 : INFO : worker thread finished; awaiting finish of 5 more threads\n",
      "2021-02-24 06:36:35,261 : INFO : worker thread finished; awaiting finish of 4 more threads\n",
      "2021-02-24 06:36:35,262 : INFO : worker thread finished; awaiting finish of 3 more threads\n",
      "2021-02-24 06:36:35,263 : INFO : worker thread finished; awaiting finish of 2 more threads\n",
      "2021-02-24 06:36:35,266 : INFO : worker thread finished; awaiting finish of 1 more threads\n",
      "2021-02-24 06:36:35,268 : INFO : worker thread finished; awaiting finish of 0 more threads\n",
      "2021-02-24 06:36:35,270 : INFO : EPOCH - 10 : training on 15403562 raw words (3696336 effective words) took 11.0s, 336203 effective words/s\n",
      "2021-02-24 06:36:35,271 : INFO : training on a 154035620 raw words (36977536 effective words) took 111.5s, 331547 effective words/s\n"
     ]
    },
    {
     "name": "stderr",
     "output_type": "stream",
     "text": [
      "2021-02-24 06:36:35,272 : INFO : saving Word2Vec object under dados/experimento_5/w2v_jur.model, separately None\n",
      "2021-02-24 06:36:35,273 : INFO : not storing attribute vectors_norm\n",
      "2021-02-24 06:36:35,275 : INFO : not storing attribute cum_table\n",
      "2021-02-24 06:36:35,891 : INFO : saved dados/experimento_5/w2v_jur.model\n"
     ]
    },
    {
     "name": "stdout",
     "output_type": "stream",
     "text": [
      "treinando modelo word2vec\n"
     ]
    },
    {
     "name": "stderr",
     "output_type": "stream",
     "text": [
      "2021-02-24 06:36:35,893 : INFO : resetting layer weights\n",
      "2021-02-24 06:36:40,835 : INFO : collecting all words and their counts\n",
      "2021-02-24 06:36:40,836 : INFO : PROGRESS: at sentence #0, processed 0 words, keeping 0 word types\n",
      "2021-02-24 06:36:40,905 : INFO : PROGRESS: at sentence #10000, processed 239684 words, keeping 13413 word types\n",
      "2021-02-24 06:36:40,973 : INFO : PROGRESS: at sentence #20000, processed 484458 words, keeping 18963 word types\n",
      "2021-02-24 06:36:41,044 : INFO : PROGRESS: at sentence #30000, processed 722773 words, keeping 22684 word types\n",
      "2021-02-24 06:36:41,113 : INFO : PROGRESS: at sentence #40000, processed 968463 words, keeping 25416 word types\n",
      "2021-02-24 06:36:41,185 : INFO : PROGRESS: at sentence #50000, processed 1213509 words, keeping 28038 word types\n",
      "2021-02-24 06:36:41,258 : INFO : PROGRESS: at sentence #60000, processed 1456386 words, keeping 30106 word types\n",
      "2021-02-24 06:36:41,333 : INFO : PROGRESS: at sentence #70000, processed 1707095 words, keeping 32151 word types\n",
      "2021-02-24 06:36:41,405 : INFO : PROGRESS: at sentence #80000, processed 1950766 words, keeping 33979 word types\n",
      "2021-02-24 06:36:41,479 : INFO : PROGRESS: at sentence #90000, processed 2191358 words, keeping 35582 word types\n",
      "2021-02-24 06:36:41,552 : INFO : PROGRESS: at sentence #100000, processed 2433922 words, keeping 37339 word types\n",
      "2021-02-24 06:36:41,625 : INFO : PROGRESS: at sentence #110000, processed 2676374 words, keeping 38899 word types\n",
      "2021-02-24 06:36:41,697 : INFO : PROGRESS: at sentence #120000, processed 2909919 words, keeping 40120 word types\n",
      "2021-02-24 06:36:41,770 : INFO : PROGRESS: at sentence #130000, processed 3156788 words, keeping 41351 word types\n",
      "2021-02-24 06:36:41,844 : INFO : PROGRESS: at sentence #140000, processed 3404117 words, keeping 42659 word types\n",
      "2021-02-24 06:36:41,919 : INFO : PROGRESS: at sentence #150000, processed 3643897 words, keeping 43928 word types\n",
      "2021-02-24 06:36:41,992 : INFO : PROGRESS: at sentence #160000, processed 3892456 words, keeping 45177 word types\n",
      "2021-02-24 06:36:42,065 : INFO : PROGRESS: at sentence #170000, processed 4136196 words, keeping 46229 word types\n",
      "2021-02-24 06:36:42,132 : INFO : PROGRESS: at sentence #180000, processed 4373648 words, keeping 47406 word types\n",
      "2021-02-24 06:36:42,203 : INFO : PROGRESS: at sentence #190000, processed 4615925 words, keeping 48485 word types\n",
      "2021-02-24 06:36:42,276 : INFO : PROGRESS: at sentence #200000, processed 4861945 words, keeping 49494 word types\n",
      "2021-02-24 06:36:42,346 : INFO : PROGRESS: at sentence #210000, processed 5095681 words, keeping 50342 word types\n",
      "2021-02-24 06:36:42,417 : INFO : PROGRESS: at sentence #220000, processed 5336519 words, keeping 51386 word types\n",
      "2021-02-24 06:36:42,490 : INFO : PROGRESS: at sentence #230000, processed 5574149 words, keeping 52438 word types\n",
      "2021-02-24 06:36:42,560 : INFO : PROGRESS: at sentence #240000, processed 5809496 words, keeping 53473 word types\n",
      "2021-02-24 06:36:42,633 : INFO : PROGRESS: at sentence #250000, processed 6052046 words, keeping 54401 word types\n",
      "2021-02-24 06:36:42,706 : INFO : PROGRESS: at sentence #260000, processed 6299054 words, keeping 55371 word types\n",
      "2021-02-24 06:36:42,778 : INFO : PROGRESS: at sentence #270000, processed 6541889 words, keeping 56186 word types\n",
      "2021-02-24 06:36:42,851 : INFO : PROGRESS: at sentence #280000, processed 6789658 words, keeping 57130 word types\n",
      "2021-02-24 06:36:42,923 : INFO : PROGRESS: at sentence #290000, processed 7033377 words, keeping 58008 word types\n",
      "2021-02-24 06:36:42,997 : INFO : PROGRESS: at sentence #300000, processed 7283023 words, keeping 58766 word types\n",
      "2021-02-24 06:36:43,069 : INFO : PROGRESS: at sentence #310000, processed 7523227 words, keeping 59607 word types\n",
      "2021-02-24 06:36:43,135 : INFO : PROGRESS: at sentence #320000, processed 7767987 words, keeping 60435 word types\n",
      "2021-02-24 06:36:43,206 : INFO : PROGRESS: at sentence #330000, processed 8015939 words, keeping 61356 word types\n",
      "2021-02-24 06:36:43,274 : INFO : PROGRESS: at sentence #340000, processed 8261166 words, keeping 62057 word types\n",
      "2021-02-24 06:36:43,341 : INFO : PROGRESS: at sentence #350000, processed 8508301 words, keeping 62737 word types\n",
      "2021-02-24 06:36:43,407 : INFO : PROGRESS: at sentence #360000, processed 8746563 words, keeping 63501 word types\n",
      "2021-02-24 06:36:43,475 : INFO : PROGRESS: at sentence #370000, processed 8985468 words, keeping 64131 word types\n",
      "2021-02-24 06:36:43,541 : INFO : PROGRESS: at sentence #380000, processed 9227656 words, keeping 64867 word types\n",
      "2021-02-24 06:36:43,610 : INFO : PROGRESS: at sentence #390000, processed 9478315 words, keeping 65570 word types\n",
      "2021-02-24 06:36:43,676 : INFO : PROGRESS: at sentence #400000, processed 9715856 words, keeping 66236 word types\n",
      "2021-02-24 06:36:43,742 : INFO : PROGRESS: at sentence #410000, processed 9951036 words, keeping 66909 word types\n",
      "2021-02-24 06:36:43,809 : INFO : PROGRESS: at sentence #420000, processed 10197924 words, keeping 67666 word types\n",
      "2021-02-24 06:36:43,876 : INFO : PROGRESS: at sentence #430000, processed 10441430 words, keeping 68358 word types\n",
      "2021-02-24 06:36:43,945 : INFO : PROGRESS: at sentence #440000, processed 10686805 words, keeping 68985 word types\n",
      "2021-02-24 06:36:44,013 : INFO : PROGRESS: at sentence #450000, processed 10930793 words, keeping 69695 word types\n",
      "2021-02-24 06:36:44,081 : INFO : PROGRESS: at sentence #460000, processed 11173561 words, keeping 70548 word types\n",
      "2021-02-24 06:36:44,149 : INFO : PROGRESS: at sentence #470000, processed 11420431 words, keeping 71148 word types\n",
      "2021-02-24 06:36:44,215 : INFO : PROGRESS: at sentence #480000, processed 11658406 words, keeping 71746 word types\n",
      "2021-02-24 06:36:44,281 : INFO : PROGRESS: at sentence #490000, processed 11903442 words, keeping 72346 word types\n",
      "2021-02-24 06:36:44,350 : INFO : PROGRESS: at sentence #500000, processed 12148928 words, keeping 73002 word types\n",
      "2021-02-24 06:36:44,417 : INFO : PROGRESS: at sentence #510000, processed 12396374 words, keeping 73652 word types\n",
      "2021-02-24 06:36:44,486 : INFO : PROGRESS: at sentence #520000, processed 12642182 words, keeping 74305 word types\n",
      "2021-02-24 06:36:44,554 : INFO : PROGRESS: at sentence #530000, processed 12882117 words, keeping 74870 word types\n",
      "2021-02-24 06:36:44,623 : INFO : PROGRESS: at sentence #540000, processed 13124709 words, keeping 75577 word types\n",
      "2021-02-24 06:36:44,687 : INFO : PROGRESS: at sentence #550000, processed 13357655 words, keeping 76182 word types\n",
      "2021-02-24 06:36:44,753 : INFO : PROGRESS: at sentence #560000, processed 13596311 words, keeping 76807 word types\n",
      "2021-02-24 06:36:44,820 : INFO : PROGRESS: at sentence #570000, processed 13835654 words, keeping 77374 word types\n",
      "2021-02-24 06:36:44,887 : INFO : PROGRESS: at sentence #580000, processed 14076294 words, keeping 77981 word types\n",
      "2021-02-24 06:36:44,954 : INFO : PROGRESS: at sentence #590000, processed 14320433 words, keeping 78573 word types\n",
      "2021-02-24 06:36:45,020 : INFO : PROGRESS: at sentence #600000, processed 14556593 words, keeping 79125 word types\n",
      "2021-02-24 06:36:45,087 : INFO : PROGRESS: at sentence #610000, processed 14795809 words, keeping 79697 word types\n",
      "2021-02-24 06:36:45,154 : INFO : PROGRESS: at sentence #620000, processed 15037053 words, keeping 80215 word types\n",
      "2021-02-24 06:36:45,218 : INFO : PROGRESS: at sentence #630000, processed 15271530 words, keeping 80757 word types\n",
      "2021-02-24 06:36:45,254 : INFO : collected 81060 word types from a corpus of 15403562 raw words and 635366 sentences\n",
      "2021-02-24 06:36:45,255 : INFO : Loading a fresh vocabulary\n",
      "2021-02-24 06:36:45,308 : INFO : effective_min_count=5 retains 32512 unique words (40% of original 81060, drops 48548)\n",
      "2021-02-24 06:36:45,309 : INFO : effective_min_count=5 leaves 15321817 word corpus (99% of original 15403562, drops 81745)\n",
      "2021-02-24 06:36:45,386 : INFO : deleting the raw counts dictionary of 81060 items\n",
      "2021-02-24 06:36:45,389 : INFO : sample=0.001 downsamples 37 most-common words\n",
      "2021-02-24 06:36:45,389 : INFO : downsampling leaves estimated 11087482 word corpus (72.4% of prior 15321817)\n",
      "2021-02-24 06:36:45,411 : INFO : constructing a huffman tree from 32512 words\n",
      "2021-02-24 06:36:46,094 : INFO : built huffman tree with maximum node depth 22\n"
     ]
    },
    {
     "name": "stderr",
     "output_type": "stream",
     "text": [
      "2021-02-24 06:36:46,437 : INFO : estimated required memory for 32512 words, 137828 buckets and 100 dimensions: 125671008 bytes\n",
      "2021-02-24 06:36:46,441 : INFO : resetting layer weights\n",
      "2021-02-24 06:36:49,868 : INFO : training model with 12 workers on 32512 vocabulary and 100 features, using sg=1 hs=1 sample=0.001 negative=5 window=5\n",
      "2021-02-24 06:37:41,846 : INFO : EPOCH 1 - PROGRESS: at 8.39% words, 17911 words/s, in_qsize -1, out_qsize 1\n",
      "2021-02-24 06:37:41,848 : INFO : worker thread finished; awaiting finish of 11 more threads\n",
      "2021-02-24 06:37:41,950 : INFO : worker thread finished; awaiting finish of 10 more threads\n",
      "2021-02-24 06:37:42,019 : INFO : worker thread finished; awaiting finish of 9 more threads\n",
      "2021-02-24 06:37:42,025 : INFO : worker thread finished; awaiting finish of 8 more threads\n",
      "2021-02-24 06:37:42,223 : INFO : worker thread finished; awaiting finish of 7 more threads\n",
      "2021-02-24 06:37:42,352 : INFO : worker thread finished; awaiting finish of 6 more threads\n",
      "2021-02-24 06:37:42,357 : INFO : worker thread finished; awaiting finish of 5 more threads\n",
      "2021-02-24 06:37:42,372 : INFO : worker thread finished; awaiting finish of 4 more threads\n",
      "2021-02-24 06:37:42,477 : INFO : worker thread finished; awaiting finish of 3 more threads\n",
      "2021-02-24 06:37:42,553 : INFO : worker thread finished; awaiting finish of 2 more threads\n",
      "2021-02-24 06:37:42,568 : INFO : worker thread finished; awaiting finish of 1 more threads\n",
      "2021-02-24 06:37:42,617 : INFO : worker thread finished; awaiting finish of 0 more threads\n",
      "2021-02-24 06:37:42,618 : INFO : EPOCH - 1 : training on 15505501 raw words (11160324 effective words) took 52.7s, 211751 effective words/s\n",
      "2021-02-24 06:38:34,012 : INFO : EPOCH 2 - PROGRESS: at 8.39% words, 18125 words/s, in_qsize -1, out_qsize 1\n",
      "2021-02-24 06:38:34,014 : INFO : worker thread finished; awaiting finish of 11 more threads\n",
      "2021-02-24 06:38:34,042 : INFO : worker thread finished; awaiting finish of 10 more threads\n",
      "2021-02-24 06:38:34,143 : INFO : worker thread finished; awaiting finish of 9 more threads\n",
      "2021-02-24 06:38:34,180 : INFO : worker thread finished; awaiting finish of 8 more threads\n",
      "2021-02-24 06:38:34,210 : INFO : worker thread finished; awaiting finish of 7 more threads\n",
      "2021-02-24 06:38:34,452 : INFO : worker thread finished; awaiting finish of 6 more threads\n",
      "2021-02-24 06:38:34,517 : INFO : worker thread finished; awaiting finish of 5 more threads\n",
      "2021-02-24 06:38:34,637 : INFO : worker thread finished; awaiting finish of 4 more threads\n",
      "2021-02-24 06:38:34,644 : INFO : worker thread finished; awaiting finish of 3 more threads\n",
      "2021-02-24 06:38:34,697 : INFO : worker thread finished; awaiting finish of 2 more threads\n",
      "2021-02-24 06:38:34,716 : INFO : worker thread finished; awaiting finish of 1 more threads\n",
      "2021-02-24 06:38:34,763 : INFO : worker thread finished; awaiting finish of 0 more threads\n",
      "2021-02-24 06:38:34,764 : INFO : EPOCH - 2 : training on 15505501 raw words (11161110 effective words) took 52.1s, 214222 effective words/s\n",
      "2021-02-24 06:39:26,240 : INFO : EPOCH 3 - PROGRESS: at 8.39% words, 18089 words/s, in_qsize -1, out_qsize 1\n",
      "2021-02-24 06:39:26,242 : INFO : worker thread finished; awaiting finish of 11 more threads\n",
      "2021-02-24 06:39:26,367 : INFO : worker thread finished; awaiting finish of 10 more threads\n",
      "2021-02-24 06:39:26,490 : INFO : worker thread finished; awaiting finish of 9 more threads\n",
      "2021-02-24 06:39:26,716 : INFO : worker thread finished; awaiting finish of 8 more threads\n",
      "2021-02-24 06:39:27,125 : INFO : worker thread finished; awaiting finish of 7 more threads\n",
      "2021-02-24 06:39:27,243 : INFO : EPOCH 3 - PROGRESS: at 50.30% words, 106342 words/s, in_qsize -1, out_qsize 1\n",
      "2021-02-24 06:39:27,245 : INFO : worker thread finished; awaiting finish of 6 more threads\n",
      "2021-02-24 06:39:27,418 : INFO : worker thread finished; awaiting finish of 5 more threads\n",
      "2021-02-24 06:39:27,465 : INFO : worker thread finished; awaiting finish of 4 more threads\n",
      "2021-02-24 06:39:27,467 : INFO : worker thread finished; awaiting finish of 3 more threads\n",
      "2021-02-24 06:39:27,480 : INFO : worker thread finished; awaiting finish of 2 more threads\n",
      "2021-02-24 06:39:27,489 : INFO : worker thread finished; awaiting finish of 1 more threads\n",
      "2021-02-24 06:39:27,526 : INFO : worker thread finished; awaiting finish of 0 more threads\n",
      "2021-02-24 06:39:27,528 : INFO : EPOCH - 3 : training on 15505501 raw words (11162181 effective words) took 52.7s, 211730 effective words/s\n",
      "2021-02-24 06:40:18,809 : INFO : EPOCH 4 - PROGRESS: at 8.39% words, 18152 words/s, in_qsize -1, out_qsize 1\n",
      "2021-02-24 06:40:18,811 : INFO : worker thread finished; awaiting finish of 11 more threads\n",
      "2021-02-24 06:40:18,856 : INFO : worker thread finished; awaiting finish of 10 more threads\n",
      "2021-02-24 06:40:18,893 : INFO : worker thread finished; awaiting finish of 9 more threads\n",
      "2021-02-24 06:40:19,072 : INFO : worker thread finished; awaiting finish of 8 more threads\n",
      "2021-02-24 06:40:19,378 : INFO : worker thread finished; awaiting finish of 7 more threads\n",
      "2021-02-24 06:40:19,515 : INFO : worker thread finished; awaiting finish of 6 more threads\n",
      "2021-02-24 06:40:19,529 : INFO : worker thread finished; awaiting finish of 5 more threads\n",
      "2021-02-24 06:40:19,535 : INFO : worker thread finished; awaiting finish of 4 more threads\n",
      "2021-02-24 06:40:19,558 : INFO : worker thread finished; awaiting finish of 3 more threads\n",
      "2021-02-24 06:40:19,589 : INFO : worker thread finished; awaiting finish of 2 more threads\n",
      "2021-02-24 06:40:19,665 : INFO : worker thread finished; awaiting finish of 1 more threads\n",
      "2021-02-24 06:40:19,743 : INFO : worker thread finished; awaiting finish of 0 more threads\n",
      "2021-02-24 06:40:19,744 : INFO : EPOCH - 4 : training on 15505501 raw words (11160928 effective words) took 52.2s, 213927 effective words/s\n",
      "2021-02-24 06:41:11,337 : INFO : EPOCH 5 - PROGRESS: at 8.39% words, 18035 words/s, in_qsize -1, out_qsize 1\n",
      "2021-02-24 06:41:11,339 : INFO : worker thread finished; awaiting finish of 11 more threads\n",
      "2021-02-24 06:41:11,385 : INFO : worker thread finished; awaiting finish of 10 more threads\n",
      "2021-02-24 06:41:11,479 : INFO : worker thread finished; awaiting finish of 9 more threads\n",
      "2021-02-24 06:41:11,689 : INFO : worker thread finished; awaiting finish of 8 more threads\n",
      "2021-02-24 06:41:12,173 : INFO : worker thread finished; awaiting finish of 7 more threads\n",
      "2021-02-24 06:41:12,228 : INFO : worker thread finished; awaiting finish of 6 more threads\n",
      "2021-02-24 06:41:12,232 : INFO : worker thread finished; awaiting finish of 5 more threads\n",
      "2021-02-24 06:41:12,255 : INFO : worker thread finished; awaiting finish of 4 more threads\n",
      "2021-02-24 06:41:12,278 : INFO : worker thread finished; awaiting finish of 3 more threads\n",
      "2021-02-24 06:41:12,351 : INFO : EPOCH 5 - PROGRESS: at 83.87% words, 176876 words/s, in_qsize -1, out_qsize 1\n",
      "2021-02-24 06:41:12,352 : INFO : worker thread finished; awaiting finish of 2 more threads\n",
      "2021-02-24 06:41:12,408 : INFO : worker thread finished; awaiting finish of 1 more threads\n",
      "2021-02-24 06:41:12,429 : INFO : worker thread finished; awaiting finish of 0 more threads\n",
      "2021-02-24 06:41:12,430 : INFO : EPOCH - 5 : training on 15505501 raw words (11159511 effective words) took 52.6s, 211991 effective words/s\n",
      "2021-02-24 06:41:12,433 : INFO : training on a 77527505 raw words (55804054 effective words) took 262.6s, 212536 effective words/s\n",
      "2021-02-24 06:41:12,434 : WARNING : under 10 jobs per worker: consider setting a smaller `batch_words' for smoother alpha decay\n",
      "2021-02-24 06:41:13,976 : INFO : saving FastText object under dados/experimento_5/ftt_jur.model, separately None\n",
      "2021-02-24 06:41:13,977 : INFO : storing np array 'vectors_ngrams' to dados/experimento_5/ftt_jur.model.wv.vectors_ngrams.npy\n",
      "2021-02-24 06:41:20,949 : INFO : not storing attribute vectors_norm\n",
      "2021-02-24 06:41:20,950 : INFO : not storing attribute vectors_vocab_norm\n",
      "2021-02-24 06:41:20,952 : INFO : not storing attribute vectors_ngrams_norm\n",
      "2021-02-24 06:41:20,953 : INFO : not storing attribute buckets_word\n",
      "2021-02-24 06:41:20,954 : INFO : storing np array 'vectors_ngrams_lockf' to dados/experimento_5/ftt_jur.model.trainables.vectors_ngrams_lockf.npy\n"
     ]
    },
    {
     "name": "stderr",
     "output_type": "stream",
     "text": [
      "2021-02-24 06:41:28,477 : INFO : saved dados/experimento_5/ftt_jur.model\n"
     ]
    },
    {
     "name": "stdout",
     "output_type": "stream",
     "text": [
      "treinando modelo glove\n",
      "mkdir -p build\n",
      "tokenizando corpus\n",
      "$ build/vocab_count -min-count 5 -verbose 2 < ../mestrado/experimentos_mestrado/dados/experimento_5/base_treino_glv.txt > ../mestrado/experimentos_mestrado/dados/experimento_5/glove_vocab.txt\n",
      "criando matriz de coocorrencia\n",
      "$ build/cooccur -memory 4.0 -vocab-file ../mestrado/experimentos_mestrado/dados/experimento_5/glove_vocab.txt -verbose 2 -window-size 15 < ../mestrado/experimentos_mestrado/dados/experimento_5/base_treino_glv.txt > ../mestrado/experimentos_mestrado/dados/experimento_5/glv_concurrence.bin\n",
      "$ build/shuffle -memory 4.0 -verbose 2 < ../mestrado/experimentos_mestrado/dados/experimento_5/glv_concurrence.bin > ../mestrado/experimentos_mestrado/dados/experimento_5/glv_concurrence_shuf.bin\n",
      "$ build/glove -save-file ../mestrado/experimentos_mestrado/dados/experimento_5/glv_jur -threads 8 -input-file ../mestrado/experimentos_mestrado/dados/experimento_5/glv_concurrence_shuf.bin -x-max 10 -iter 15 -vector-size 100 -binary 2 -vocab-file ../mestrado/experimentos_mestrado/dados/experimento_5/glove_vocab.txt -verbose 2\n",
      "\n",
      "BUILDING VOCABULARY\n",
      "Processed 0 tokens.100000 tokens.200000 tokens.300000 tokens.400000 tokens.500000 tokens.600000 tokens.700000 tokens.800000 tokens.900000 tokens.1000000 tokens.1100000 tokens.1200000 tokens.1300000 tokens.1400000 tokens.1500000 tokens.1600000 tokens.1700000 tokens.1800000 tokens.1900000 tokens.2000000 tokens.2100000 tokens.2200000 tokens.2300000 tokens.2400000 tokens.2500000 tokens.2600000 tokens.2700000 tokens.2800000 tokens.2900000 tokens.3000000 tokens.3100000 tokens.3200000 tokens.3300000 tokens.3400000 tokens.3500000 tokens.3600000 tokens.3700000 tokens.3800000 tokens.3900000 tokens.4000000 tokens.4100000 tokens.4200000 tokens.4300000 tokens.4400000 tokens.4500000 tokens.4600000 tokens.4700000 tokens.4800000 tokens.4900000 tokens.5000000 tokens.5100000 tokens.5200000 tokens.5300000 tokens.5400000 tokens.5500000 tokens.5600000 tokens.5700000 tokens.5800000 tokens.5900000 tokens.6000000 tokens.6100000 tokens.6200000 tokens.6300000 tokens.6400000 tokens.6500000 tokens.6600000 tokens.6700000 tokens.6800000 tokens.6900000 tokens.7000000 tokens.7100000 tokens.7200000 tokens.7300000 tokens.7400000 tokens.7500000 tokens.7600000 tokens.7700000 tokens.7800000 tokens.7900000 tokens.8000000 tokens.8100000 tokens.8200000 tokens.8300000 tokens.8400000 tokens.8500000 tokens.8600000 tokens.8700000 tokens.8800000 tokens.8900000 tokens.9000000 tokens.9100000 tokens.9200000 tokens.9300000 tokens.9400000 tokens.9500000 tokens.9600000 tokens.Processed 9695922 tokens.\n",
      "Counted 80880 unique words.\n",
      "Truncating vocabulary at min count 5.\n",
      "Using vocabulary of size 32347.\n",
      "\n",
      "COUNTING COOCCURRENCES\n",
      "window size: 15\n",
      "context: symmetric\n",
      "max product: 13752509\n",
      "overflow length: 38028356\n",
      "Reading vocab from file \"../mestrado/experimentos_mestrado/dados/experimento_5/glove_vocab.txt\"...loaded 32347 words.\n",
      "Building lookup table...table contains 73294011 elements.\n",
      "Processing token: 0100000200000300000400000500000600000700000800000900000100000011000001200000130000014000001500000160000017000001800000190000020000002100000220000023000002400000250000026000002700000280000029000003000000310000032000003300000340000035000003600000370000038000003900000400000041000004200000430000044000004500000460000047000004800000490000050000005100000520000053000005400000550000056000005700000580000059000006000000610000062000006300000640000065000006600000670000068000006900000700000071000007200000730000074000007500000760000077000007800000790000080000008100000820000083000008400000850000086000008700000880000089000009000000910000092000009300000940000095000009600000Processed 9695922 tokens.\n",
      "Writing cooccurrences to disk........2 files in total.\n"
     ]
    },
    {
     "name": "stdout",
     "output_type": "stream",
     "text": [
      "Merging cooccurrence files: processed 0 lines.100000 lines.200000 lines.300000 lines.400000 lines.500000 lines.600000 lines.700000 lines.800000 lines.900000 lines.1000000 lines.1100000 lines.1200000 lines.1300000 lines.1400000 lines.1500000 lines.1600000 lines.1700000 lines.1800000 lines.1900000 lines.2000000 lines.2100000 lines.2200000 lines.2300000 lines.2400000 lines.2500000 lines.2600000 lines.2700000 lines.2800000 lines.2900000 lines.3000000 lines.3100000 lines.3200000 lines.3300000 lines.3400000 lines.3500000 lines.3600000 lines.3700000 lines.3800000 lines.3900000 lines.4000000 lines.4100000 lines.4200000 lines.4300000 lines.4400000 lines.4500000 lines.4600000 lines.4700000 lines.4800000 lines.4900000 lines.5000000 lines.5100000 lines.5200000 lines.5300000 lines.5400000 lines.5500000 lines.5600000 lines.5700000 lines.5800000 lines.5900000 lines.6000000 lines.6100000 lines.6200000 lines.6300000 lines.6400000 lines.6500000 lines.6600000 lines.6700000 lines.6800000 lines.6900000 lines.7000000 lines.7100000 lines.7200000 lines.7300000 lines.7400000 lines.7500000 lines.7600000 lines.7700000 lines.7800000 lines.7900000 lines.8000000 lines.8100000 lines.8200000 lines.8300000 lines.8400000 lines.8500000 lines.8600000 lines.8700000 lines.8800000 lines.8900000 lines.9000000 lines.9100000 lines.9200000 lines.9300000 lines.9400000 lines.9500000 lines.9600000 lines.9700000 lines.9800000 lines.9900000 lines.10000000 lines.10100000 lines.10200000 lines.10300000 lines.10400000 lines.10500000 lines.10600000 lines.10700000 lines.10800000 lines.10900000 lines.11000000 lines.11100000 lines.11200000 lines.11300000 lines.11400000 lines.11500000 lines.11600000 lines.11700000 lines.11800000 lines.11900000 lines.12000000 lines.12100000 lines.12200000 lines.12300000 lines.12400000 lines.12500000 lines.12600000 lines.12700000 lines.12800000 lines.12900000 lines.13000000 lines.13100000 lines.13200000 lines.13300000 lines.13400000 lines.13500000 lines.13600000 lines.13700000 lines.13800000 lines.13900000 lines.14000000 lines.14100000 lines.14200000 lines.14300000 lines.14400000 lines.14500000 lines.14600000 lines.14700000 lines.14800000 lines.14900000 lines.15000000 lines.15100000 lines.15200000 lines.15300000 lines.15400000 lines.15500000 lines.15600000 lines.15700000 lines.15800000 lines.15900000 lines.16000000 lines.16100000 lines.16200000 lines.16300000 lines.16400000 lines.16500000 lines.16600000 lines.16700000 lines.16800000 lines.16900000 lines.17000000 lines.17100000 lines.17200000 lines.17300000 lines.17400000 lines.17500000 lines.17600000 lines.17700000 lines.17800000 lines.17900000 lines.18000000 lines.18100000 lines.18200000 lines.18300000 lines.18400000 lines.18500000 lines.18600000 lines.18700000 lines.18800000 lines.18900000 lines.19000000 lines.19100000 lines.19200000 lines.19300000 lines.19400000 lines.19500000 lines.19600000 lines.19700000 lines.19800000 lines.19900000 lines.20000000 lines.20100000 lines.20200000 lines.20300000 lines.20400000 lines.20500000 lines.20600000 lines.20700000 lines.20800000 lines.20900000 lines.21000000 lines.21100000 lines.21200000 lines.21300000 lines.21400000 lines.21500000 lines.21600000 lines.21700000 lines.21800000 lines.21900000 lines.22000000 lines.22100000 lines.22200000 lines.22300000 lines.22400000 lines.22500000 lines.22600000 lines.22700000 lines.22800000 lines.22900000 lines.23000000 lines.23100000 lines.23200000 lines.23300000 lines.23400000 lines.23500000 lines.23600000 lines.23700000 lines.23800000 lines.23900000 lines.24000000 lines.24100000 lines.24200000 lines.24300000 lines.24400000 lines.24500000 lines.24600000 lines.24700000 lines.24800000 lines.24900000 lines.25000000 lines.25100000 lines.25200000 lines.25300000 lines.25400000 lines.25500000 lines.25600000 lines.25700000 lines.25800000 lines.25900000 lines.26000000 lines.26100000 lines.26200000 lines.26300000 lines.26400000 lines.26500000 lines.26600000 lines.26700000 lines.26800000 lines.26900000 lines.27000000 lines.27100000 lines.27200000 lines.27300000 lines.27400000 lines.27500000 lines.27600000 lines.27700000 lines.27800000 lines.27900000 lines.28000000 lines.28100000 lines.28200000 lines.28300000 lines.28400000 lines.28500000 lines.28600000 lines.28700000 lines.28800000 lines.28900000 lines.29000000 lines.29100000 lines.29200000 lines.29300000 lines.29400000 lines.29500000 lines.29600000 lines.29700000 lines.29800000 lines.29900000 lines.30000000 lines.30100000 lines.30200000 lines.30300000 lines.30400000 lines.30500000 lines.30600000 lines.30700000 lines.30800000 lines.30900000 lines.31000000 lines.31100000 lines.31200000 lines.31300000 lines.31400000 lines.Merging cooccurrence files: processed 31450605 lines.\n",
      "\n",
      "Using random seed 1614159704\n",
      "SHUFFLING COOCCURRENCES\n",
      "array size: 255013683\n",
      "Shuffling by chunks: processed 0 lines.processed 31450605 lines.\n",
      "Wrote 1 temporary file(s).\n",
      "Merging temp files: processed 0 lines.31450605 lines.Merging temp files: processed 31450605 lines.\n",
      "\n",
      "TRAINING MODEL\n",
      "Read 31450605 lines.\n",
      "Initializing parameters...Using random seed 1614159715\n",
      "done.\n",
      "vector size: 100\n",
      "vocab size: 32347\n",
      "x_max: 10.000000\n",
      "alpha: 0.750000\n",
      "02/24/21 - 06:42.07AM, iter: 001, cost: 0.109973\n",
      "02/24/21 - 06:42.19AM, iter: 002, cost: 0.079913\n",
      "02/24/21 - 06:42.30AM, iter: 003, cost: 0.066970\n",
      "02/24/21 - 06:42.41AM, iter: 004, cost: 0.059241\n",
      "02/24/21 - 06:42.52AM, iter: 005, cost: 0.054835\n",
      "02/24/21 - 06:43.03AM, iter: 006, cost: 0.052179\n",
      "02/24/21 - 06:43.14AM, iter: 007, cost: 0.050443\n",
      "02/24/21 - 06:43.25AM, iter: 008, cost: 0.049208\n",
      "02/24/21 - 06:43.36AM, iter: 009, cost: 0.048259\n",
      "02/24/21 - 06:43.46AM, iter: 010, cost: 0.047510\n",
      "02/24/21 - 06:43.57AM, iter: 011, cost: 0.046915\n",
      "02/24/21 - 06:44.08AM, iter: 012, cost: 0.046427\n",
      "02/24/21 - 06:44.19AM, iter: 013, cost: 0.045984\n",
      "02/24/21 - 06:44.30AM, iter: 014, cost: 0.045600\n",
      "02/24/21 - 06:44.41AM, iter: 015, cost: 0.045275\n",
      "\n",
      "treinamento concluído\n"
     ]
    },
    {
     "name": "stderr",
     "output_type": "stream",
     "text": [
      "2021-02-24 06:44:42,478 : INFO : converting 32348 vectors from dados/experimento_5/glv_jur.txt to C:\\Users\\CRISTI~1\\AppData\\Local\\Temp\\test_word2vec.txt\n",
      "2021-02-24 06:44:42,547 : INFO : loading projection weights from C:\\Users\\CRISTI~1\\AppData\\Local\\Temp\\test_word2vec.txt\n",
      "2021-02-24 06:44:45,236 : INFO : loaded (32348, 100) matrix from C:\\Users\\CRISTI~1\\AppData\\Local\\Temp\\test_word2vec.txt\n",
      "2021-02-24 06:44:45,237 : INFO : loading projection weights from modelos/w2v_skip_nilc.txt\n",
      "2021-02-24 06:46:03,133 : INFO : loaded (929606, 100) matrix from modelos/w2v_skip_nilc.txt\n",
      "2021-02-24 06:46:03,134 : INFO : loading projection weights from modelos/ftt_skip_nilc.txt\n",
      "2021-02-24 06:47:20,400 : INFO : loaded (929605, 100) matrix from modelos/ftt_skip_nilc.txt\n",
      "2021-02-24 06:47:20,401 : INFO : loading projection weights from modelos/glove_nilc.txt\n",
      "2021-02-24 06:48:36,367 : INFO : loaded (929605, 100) matrix from modelos/glove_nilc.txt\n"
     ]
    },
    {
     "name": "stdout",
     "output_type": "stream",
     "text": [
      "recuperando teores da base de teste\n"
     ]
    },
    {
     "data": {
      "application/vnd.jupyter.widget-view+json": {
       "model_id": "c03c8d6a7b30406abb5b7403e801facc",
       "version_major": 2,
       "version_minor": 0
      },
      "text/plain": [
       "HBox(children=(IntProgress(value=0, max=7006), HTML(value='')))"
      ]
     },
     "metadata": {},
     "output_type": "display_data"
    },
    {
     "name": "stdout",
     "output_type": "stream",
     "text": [
      "\n",
      "criando representações word2vec geral\n"
     ]
    },
    {
     "data": {
      "application/vnd.jupyter.widget-view+json": {
       "model_id": "9a1cf94d7ebd48a6a4176829f7d7d58e",
       "version_major": 2,
       "version_minor": 0
      },
      "text/plain": [
       "HBox(children=(IntProgress(value=0, max=7006), HTML(value='')))"
      ]
     },
     "metadata": {},
     "output_type": "display_data"
    },
    {
     "name": "stdout",
     "output_type": "stream",
     "text": [
      "\n",
      "criando representações fasttext geral\n"
     ]
    },
    {
     "data": {
      "application/vnd.jupyter.widget-view+json": {
       "model_id": "0128a374f64c4eb783f1d7be48ab8c73",
       "version_major": 2,
       "version_minor": 0
      },
      "text/plain": [
       "HBox(children=(IntProgress(value=0, max=7006), HTML(value='')))"
      ]
     },
     "metadata": {},
     "output_type": "display_data"
    },
    {
     "name": "stdout",
     "output_type": "stream",
     "text": [
      "\n",
      "criando representações glove geral\n"
     ]
    },
    {
     "data": {
      "application/vnd.jupyter.widget-view+json": {
       "model_id": "6c2afc4315e047a68672c3ba7052f57d",
       "version_major": 2,
       "version_minor": 0
      },
      "text/plain": [
       "HBox(children=(IntProgress(value=0, max=7006), HTML(value='')))"
      ]
     },
     "metadata": {},
     "output_type": "display_data"
    },
    {
     "name": "stdout",
     "output_type": "stream",
     "text": [
      "\n",
      "criando representações word2vec juridico\n"
     ]
    },
    {
     "data": {
      "application/vnd.jupyter.widget-view+json": {
       "model_id": "38f54178f7ad4910aee980195a9d709a",
       "version_major": 2,
       "version_minor": 0
      },
      "text/plain": [
       "HBox(children=(IntProgress(value=0, max=7006), HTML(value='')))"
      ]
     },
     "metadata": {},
     "output_type": "display_data"
    },
    {
     "name": "stdout",
     "output_type": "stream",
     "text": [
      "\n",
      "criando representações fasttext juridico\n"
     ]
    },
    {
     "data": {
      "application/vnd.jupyter.widget-view+json": {
       "model_id": "8ce2c54a6fa94868ab3d0a18bd2437bc",
       "version_major": 2,
       "version_minor": 0
      },
      "text/plain": [
       "HBox(children=(IntProgress(value=0, max=7006), HTML(value='')))"
      ]
     },
     "metadata": {},
     "output_type": "display_data"
    },
    {
     "name": "stdout",
     "output_type": "stream",
     "text": [
      "\n",
      "criando representações glove juridico\n"
     ]
    },
    {
     "data": {
      "application/vnd.jupyter.widget-view+json": {
       "model_id": "49ae27b17fe446f1bbe90740a9f970ef",
       "version_major": 2,
       "version_minor": 0
      },
      "text/plain": [
       "HBox(children=(IntProgress(value=0, max=7006), HTML(value='')))"
      ]
     },
     "metadata": {},
     "output_type": "display_data"
    },
    {
     "name": "stdout",
     "output_type": "stream",
     "text": [
      "\n",
      "----------- EXPERIMENTO 5 CONCLUIDO -----------\n",
      "tempo do experimento: 18.722283697128297 minutos\n",
      "----------------------- EXPERIMENTO 6 -----------------------\n",
      "criando base de treino para o experimento 6\n"
     ]
    },
    {
     "data": {
      "application/vnd.jupyter.widget-view+json": {
       "model_id": "d108e7bbbdd244b69ca6c8230eec088c",
       "version_major": 2,
       "version_minor": 0
      },
      "text/plain": [
       "HBox(children=(IntProgress(value=0, max=28021), HTML(value='')))"
      ]
     },
     "metadata": {},
     "output_type": "display_data"
    },
    {
     "name": "stdout",
     "output_type": "stream",
     "text": [
      "\n",
      "16015860 tokens copiados com sucesso\n",
      "preparando documentos para extração do vocabulário:\n"
     ]
    },
    {
     "data": {
      "application/vnd.jupyter.widget-view+json": {
       "model_id": "4cd1a59ff23b4f68af3ac27f7f3d8d00",
       "version_major": 2,
       "version_minor": 0
      },
      "text/plain": [
       "HBox(children=(IntProgress(value=0, max=28021), HTML(value='')))"
      ]
     },
     "metadata": {},
     "output_type": "display_data"
    },
    {
     "name": "stdout",
     "output_type": "stream",
     "text": [
      "\n",
      "extraindo termos com base no ICA\n"
     ]
    },
    {
     "data": {
      "application/vnd.jupyter.widget-view+json": {
       "model_id": "74eda6ce983542458566325205b8403e",
       "version_major": 2,
       "version_minor": 0
      },
      "text/plain": [
       "HBox(children=(IntProgress(value=0, max=125), HTML(value='')))"
      ]
     },
     "metadata": {},
     "output_type": "display_data"
    },
    {
     "name": "stdout",
     "output_type": "stream",
     "text": [
      "\n",
      "-processando strings do corpus\n",
      "-treinando vetorizador\n",
      "-ICA processado\n",
      "extraindo termos com base na frequência - geralmente leva menos de 4 minutos\n",
      "extraindo termos do tesauro\n",
      "extração de vocabulário concluída!\n",
      "treinando modelo word2vec\n"
     ]
    },
    {
     "name": "stderr",
     "output_type": "stream",
     "text": [
      "2021-02-24 06:53:01,468 : INFO : collecting all words and their counts\n",
      "2021-02-24 06:53:01,487 : INFO : PROGRESS: at sentence #0, processed 0 words, keeping 0 word types\n",
      "2021-02-24 06:53:01,553 : INFO : PROGRESS: at sentence #10000, processed 246812 words, keeping 14155 word types\n",
      "2021-02-24 06:53:01,620 : INFO : PROGRESS: at sentence #20000, processed 494434 words, keeping 19423 word types\n",
      "2021-02-24 06:53:01,687 : INFO : PROGRESS: at sentence #30000, processed 740715 words, keeping 23179 word types\n",
      "2021-02-24 06:53:01,753 : INFO : PROGRESS: at sentence #40000, processed 986247 words, keeping 26364 word types\n",
      "2021-02-24 06:53:01,818 : INFO : PROGRESS: at sentence #50000, processed 1222862 words, keeping 28589 word types\n",
      "2021-02-24 06:53:01,885 : INFO : PROGRESS: at sentence #60000, processed 1469862 words, keeping 30874 word types\n",
      "2021-02-24 06:53:01,950 : INFO : PROGRESS: at sentence #70000, processed 1708182 words, keeping 32709 word types\n",
      "2021-02-24 06:53:02,015 : INFO : PROGRESS: at sentence #80000, processed 1945737 words, keeping 34701 word types\n",
      "2021-02-24 06:53:02,080 : INFO : PROGRESS: at sentence #90000, processed 2182256 words, keeping 36327 word types\n",
      "2021-02-24 06:53:02,146 : INFO : PROGRESS: at sentence #100000, processed 2429036 words, keeping 38192 word types\n",
      "2021-02-24 06:53:02,213 : INFO : PROGRESS: at sentence #110000, processed 2667552 words, keeping 39731 word types\n",
      "2021-02-24 06:53:02,279 : INFO : PROGRESS: at sentence #120000, processed 2905952 words, keeping 41101 word types\n",
      "2021-02-24 06:53:02,345 : INFO : PROGRESS: at sentence #130000, processed 3142122 words, keeping 42276 word types\n",
      "2021-02-24 06:53:02,412 : INFO : PROGRESS: at sentence #140000, processed 3386984 words, keeping 43435 word types\n",
      "2021-02-24 06:53:02,481 : INFO : PROGRESS: at sentence #150000, processed 3633986 words, keeping 44634 word types\n",
      "2021-02-24 06:53:02,546 : INFO : PROGRESS: at sentence #160000, processed 3877874 words, keeping 45897 word types\n",
      "2021-02-24 06:53:02,612 : INFO : PROGRESS: at sentence #170000, processed 4112114 words, keeping 47032 word types\n",
      "2021-02-24 06:53:02,677 : INFO : PROGRESS: at sentence #180000, processed 4347893 words, keeping 48083 word types\n",
      "2021-02-24 06:53:02,744 : INFO : PROGRESS: at sentence #190000, processed 4592067 words, keeping 49067 word types\n",
      "2021-02-24 06:53:02,811 : INFO : PROGRESS: at sentence #200000, processed 4833854 words, keeping 50119 word types\n",
      "2021-02-24 06:53:02,877 : INFO : PROGRESS: at sentence #210000, processed 5075455 words, keeping 51117 word types\n",
      "2021-02-24 06:53:02,945 : INFO : PROGRESS: at sentence #220000, processed 5324592 words, keeping 52122 word types\n",
      "2021-02-24 06:53:03,014 : INFO : PROGRESS: at sentence #230000, processed 5575796 words, keeping 53097 word types\n",
      "2021-02-24 06:53:03,082 : INFO : PROGRESS: at sentence #240000, processed 5821965 words, keeping 54073 word types\n",
      "2021-02-24 06:53:03,149 : INFO : PROGRESS: at sentence #250000, processed 6065255 words, keeping 54983 word types\n",
      "2021-02-24 06:53:03,218 : INFO : PROGRESS: at sentence #260000, processed 6304784 words, keeping 55862 word types\n",
      "2021-02-24 06:53:03,282 : INFO : PROGRESS: at sentence #270000, processed 6542345 words, keeping 56725 word types\n",
      "2021-02-24 06:53:03,347 : INFO : PROGRESS: at sentence #280000, processed 6778541 words, keeping 57518 word types\n",
      "2021-02-24 06:53:03,414 : INFO : PROGRESS: at sentence #290000, processed 7018214 words, keeping 58291 word types\n",
      "2021-02-24 06:53:03,482 : INFO : PROGRESS: at sentence #300000, processed 7262665 words, keeping 59110 word types\n",
      "2021-02-24 06:53:03,553 : INFO : PROGRESS: at sentence #310000, processed 7504504 words, keeping 59912 word types\n",
      "2021-02-24 06:53:03,621 : INFO : PROGRESS: at sentence #320000, processed 7751683 words, keeping 60700 word types\n",
      "2021-02-24 06:53:03,689 : INFO : PROGRESS: at sentence #330000, processed 7990021 words, keeping 61450 word types\n",
      "2021-02-24 06:53:03,757 : INFO : PROGRESS: at sentence #340000, processed 8237515 words, keeping 62195 word types\n",
      "2021-02-24 06:53:03,826 : INFO : PROGRESS: at sentence #350000, processed 8486086 words, keeping 62987 word types\n",
      "2021-02-24 06:53:03,896 : INFO : PROGRESS: at sentence #360000, processed 8732383 words, keeping 63736 word types\n",
      "2021-02-24 06:53:03,962 : INFO : PROGRESS: at sentence #370000, processed 8971336 words, keeping 64446 word types\n",
      "2021-02-24 06:53:04,030 : INFO : PROGRESS: at sentence #380000, processed 9214764 words, keeping 65239 word types\n",
      "2021-02-24 06:53:04,097 : INFO : PROGRESS: at sentence #390000, processed 9455492 words, keeping 65999 word types\n",
      "2021-02-24 06:53:04,164 : INFO : PROGRESS: at sentence #400000, processed 9700869 words, keeping 66711 word types\n",
      "2021-02-24 06:53:04,232 : INFO : PROGRESS: at sentence #410000, processed 9945831 words, keeping 67308 word types\n",
      "2021-02-24 06:53:04,300 : INFO : PROGRESS: at sentence #420000, processed 10190340 words, keeping 67949 word types\n",
      "2021-02-24 06:53:04,366 : INFO : PROGRESS: at sentence #430000, processed 10431937 words, keeping 68655 word types\n",
      "2021-02-24 06:53:04,434 : INFO : PROGRESS: at sentence #440000, processed 10678696 words, keeping 69361 word types\n",
      "2021-02-24 06:53:04,500 : INFO : PROGRESS: at sentence #450000, processed 10915853 words, keeping 70071 word types\n",
      "2021-02-24 06:53:04,567 : INFO : PROGRESS: at sentence #460000, processed 11158838 words, keeping 70699 word types\n",
      "2021-02-24 06:53:04,634 : INFO : PROGRESS: at sentence #470000, processed 11400602 words, keeping 71362 word types\n",
      "2021-02-24 06:53:04,701 : INFO : PROGRESS: at sentence #480000, processed 11635814 words, keeping 71940 word types\n",
      "2021-02-24 06:53:04,767 : INFO : PROGRESS: at sentence #490000, processed 11881826 words, keeping 72558 word types\n",
      "2021-02-24 06:53:04,835 : INFO : PROGRESS: at sentence #500000, processed 12122384 words, keeping 73128 word types\n",
      "2021-02-24 06:53:04,902 : INFO : PROGRESS: at sentence #510000, processed 12363930 words, keeping 73860 word types\n",
      "2021-02-24 06:53:04,968 : INFO : PROGRESS: at sentence #520000, processed 12602907 words, keeping 74375 word types\n",
      "2021-02-24 06:53:05,034 : INFO : PROGRESS: at sentence #530000, processed 12843005 words, keeping 75056 word types\n",
      "2021-02-24 06:53:05,100 : INFO : PROGRESS: at sentence #540000, processed 13084464 words, keeping 75623 word types\n",
      "2021-02-24 06:53:05,169 : INFO : PROGRESS: at sentence #550000, processed 13325092 words, keeping 76260 word types\n",
      "2021-02-24 06:53:05,237 : INFO : PROGRESS: at sentence #560000, processed 13571169 words, keeping 76838 word types\n",
      "2021-02-24 06:53:05,303 : INFO : PROGRESS: at sentence #570000, processed 13809729 words, keeping 77396 word types\n",
      "2021-02-24 06:53:05,371 : INFO : PROGRESS: at sentence #580000, processed 14062380 words, keeping 77935 word types\n",
      "2021-02-24 06:53:05,439 : INFO : PROGRESS: at sentence #590000, processed 14311416 words, keeping 78529 word types\n",
      "2021-02-24 06:53:05,505 : INFO : PROGRESS: at sentence #600000, processed 14551995 words, keeping 79002 word types\n",
      "2021-02-24 06:53:05,571 : INFO : PROGRESS: at sentence #610000, processed 14790531 words, keeping 79595 word types\n",
      "2021-02-24 06:53:05,637 : INFO : PROGRESS: at sentence #620000, processed 15030552 words, keeping 80163 word types\n",
      "2021-02-24 06:53:05,706 : INFO : PROGRESS: at sentence #630000, processed 15270560 words, keeping 80744 word types\n",
      "2021-02-24 06:53:05,732 : INFO : collected 80978 word types from a corpus of 15362714 raw words and 633684 sentences\n",
      "2021-02-24 06:53:05,733 : INFO : Loading a fresh vocabulary\n",
      "2021-02-24 06:53:05,839 : INFO : effective_min_count=5 retains 32536 unique words (40% of original 80978, drops 48442)\n",
      "2021-02-24 06:53:05,840 : INFO : effective_min_count=5 leaves 15281078 word corpus (99% of original 15362714, drops 81636)\n",
      "2021-02-24 06:53:05,923 : INFO : deleting the raw counts dictionary of 80978 items\n",
      "2021-02-24 06:53:05,926 : INFO : sample=1e-05 downsamples 3218 most-common words\n",
      "2021-02-24 06:53:05,926 : INFO : downsampling leaves estimated 3689371 word corpus (24.1% of prior 15281078)\n",
      "2021-02-24 06:53:05,948 : INFO : constructing a huffman tree from 32536 words\n",
      "2021-02-24 06:53:06,587 : INFO : built huffman tree with maximum node depth 22\n"
     ]
    },
    {
     "name": "stderr",
     "output_type": "stream",
     "text": [
      "2021-02-24 06:53:06,636 : INFO : estimated required memory for 32536 words and 100 dimensions: 61818400 bytes\n",
      "2021-02-24 06:53:06,637 : INFO : resetting layer weights\n",
      "2021-02-24 06:53:06,950 : INFO : training model with 12 workers on 32536 vocabulary and 100 features, using sg=1 hs=1 sample=1e-05 negative=5 window=5\n",
      "2021-02-24 06:53:07,963 : INFO : EPOCH 1 - PROGRESS: at 9.13% examples, 336660 words/s, in_qsize 0, out_qsize 1\n",
      "2021-02-24 06:53:08,969 : INFO : EPOCH 1 - PROGRESS: at 19.26% examples, 351566 words/s, in_qsize 0, out_qsize 1\n",
      "2021-02-24 06:53:09,974 : INFO : EPOCH 1 - PROGRESS: at 29.07% examples, 353368 words/s, in_qsize 0, out_qsize 0\n",
      "2021-02-24 06:53:10,983 : INFO : EPOCH 1 - PROGRESS: at 36.75% examples, 335825 words/s, in_qsize 17, out_qsize 6\n",
      "2021-02-24 06:53:11,996 : INFO : EPOCH 1 - PROGRESS: at 47.06% examples, 342774 words/s, in_qsize 0, out_qsize 0\n",
      "2021-02-24 06:53:12,997 : INFO : EPOCH 1 - PROGRESS: at 55.91% examples, 340396 words/s, in_qsize 0, out_qsize 1\n",
      "2021-02-24 06:53:14,006 : INFO : EPOCH 1 - PROGRESS: at 65.50% examples, 341894 words/s, in_qsize 1, out_qsize 1\n",
      "2021-02-24 06:53:15,006 : INFO : EPOCH 1 - PROGRESS: at 74.01% examples, 338714 words/s, in_qsize 17, out_qsize 0\n",
      "2021-02-24 06:53:16,014 : INFO : EPOCH 1 - PROGRESS: at 83.11% examples, 338014 words/s, in_qsize 17, out_qsize 0\n",
      "2021-02-24 06:53:17,015 : INFO : EPOCH 1 - PROGRESS: at 91.56% examples, 335763 words/s, in_qsize 23, out_qsize 0\n",
      "2021-02-24 06:53:17,794 : INFO : worker thread finished; awaiting finish of 11 more threads\n",
      "2021-02-24 06:53:17,807 : INFO : worker thread finished; awaiting finish of 10 more threads\n",
      "2021-02-24 06:53:17,809 : INFO : worker thread finished; awaiting finish of 9 more threads\n",
      "2021-02-24 06:53:17,818 : INFO : worker thread finished; awaiting finish of 8 more threads\n",
      "2021-02-24 06:53:17,822 : INFO : worker thread finished; awaiting finish of 7 more threads\n",
      "2021-02-24 06:53:17,826 : INFO : worker thread finished; awaiting finish of 6 more threads\n",
      "2021-02-24 06:53:17,829 : INFO : worker thread finished; awaiting finish of 5 more threads\n",
      "2021-02-24 06:53:17,839 : INFO : worker thread finished; awaiting finish of 4 more threads\n",
      "2021-02-24 06:53:17,841 : INFO : worker thread finished; awaiting finish of 3 more threads\n",
      "2021-02-24 06:53:17,843 : INFO : worker thread finished; awaiting finish of 2 more threads\n",
      "2021-02-24 06:53:17,845 : INFO : worker thread finished; awaiting finish of 1 more threads\n",
      "2021-02-24 06:53:17,847 : INFO : worker thread finished; awaiting finish of 0 more threads\n",
      "2021-02-24 06:53:17,848 : INFO : EPOCH - 1 : training on 15362714 raw words (3688899 effective words) took 10.9s, 338650 effective words/s\n",
      "2021-02-24 06:53:18,859 : INFO : EPOCH 2 - PROGRESS: at 8.37% examples, 310343 words/s, in_qsize 1, out_qsize 0\n",
      "2021-02-24 06:53:19,860 : INFO : EPOCH 2 - PROGRESS: at 17.41% examples, 319868 words/s, in_qsize 2, out_qsize 2\n",
      "2021-02-24 06:53:20,900 : INFO : EPOCH 2 - PROGRESS: at 26.29% examples, 317527 words/s, in_qsize 23, out_qsize 1\n",
      "2021-02-24 06:53:21,900 : INFO : EPOCH 2 - PROGRESS: at 35.63% examples, 324064 words/s, in_qsize 0, out_qsize 0\n",
      "2021-02-24 06:53:22,902 : INFO : EPOCH 2 - PROGRESS: at 44.11% examples, 321267 words/s, in_qsize 23, out_qsize 0\n",
      "2021-02-24 06:53:23,904 : INFO : EPOCH 2 - PROGRESS: at 53.88% examples, 327405 words/s, in_qsize 2, out_qsize 0\n",
      "2021-02-24 06:53:24,912 : INFO : EPOCH 2 - PROGRESS: at 62.80% examples, 327705 words/s, in_qsize 0, out_qsize 2\n",
      "2021-02-24 06:53:25,926 : INFO : EPOCH 2 - PROGRESS: at 71.59% examples, 326766 words/s, in_qsize 7, out_qsize 1\n",
      "2021-02-24 06:53:26,933 : INFO : EPOCH 2 - PROGRESS: at 81.26% examples, 330025 words/s, in_qsize 3, out_qsize 0\n",
      "2021-02-24 06:53:27,944 : INFO : EPOCH 2 - PROGRESS: at 90.64% examples, 331234 words/s, in_qsize 0, out_qsize 0\n",
      "2021-02-24 06:53:28,948 : INFO : EPOCH 2 - PROGRESS: at 99.27% examples, 330094 words/s, in_qsize 11, out_qsize 2\n",
      "2021-02-24 06:53:28,955 : INFO : worker thread finished; awaiting finish of 11 more threads\n",
      "2021-02-24 06:53:28,956 : INFO : worker thread finished; awaiting finish of 10 more threads\n",
      "2021-02-24 06:53:28,958 : INFO : worker thread finished; awaiting finish of 9 more threads\n",
      "2021-02-24 06:53:28,960 : INFO : worker thread finished; awaiting finish of 8 more threads\n",
      "2021-02-24 06:53:28,968 : INFO : worker thread finished; awaiting finish of 7 more threads\n",
      "2021-02-24 06:53:28,974 : INFO : worker thread finished; awaiting finish of 6 more threads\n",
      "2021-02-24 06:53:28,976 : INFO : worker thread finished; awaiting finish of 5 more threads\n",
      "2021-02-24 06:53:28,982 : INFO : worker thread finished; awaiting finish of 4 more threads\n",
      "2021-02-24 06:53:28,986 : INFO : worker thread finished; awaiting finish of 3 more threads\n",
      "2021-02-24 06:53:28,987 : INFO : worker thread finished; awaiting finish of 2 more threads\n",
      "2021-02-24 06:53:28,989 : INFO : worker thread finished; awaiting finish of 1 more threads\n",
      "2021-02-24 06:53:28,992 : INFO : worker thread finished; awaiting finish of 0 more threads\n",
      "2021-02-24 06:53:28,993 : INFO : EPOCH - 2 : training on 15362714 raw words (3690800 effective words) took 11.1s, 331254 effective words/s\n",
      "2021-02-24 06:53:29,999 : INFO : EPOCH 3 - PROGRESS: at 7.99% examples, 297678 words/s, in_qsize 23, out_qsize 0\n",
      "2021-02-24 06:53:31,004 : INFO : EPOCH 3 - PROGRESS: at 17.41% examples, 320086 words/s, in_qsize 0, out_qsize 3\n",
      "2021-02-24 06:53:32,012 : INFO : EPOCH 3 - PROGRESS: at 26.95% examples, 328823 words/s, in_qsize 0, out_qsize 0\n",
      "2021-02-24 06:53:33,017 : INFO : EPOCH 3 - PROGRESS: at 35.31% examples, 322934 words/s, in_qsize 23, out_qsize 0\n",
      "2021-02-24 06:53:34,023 : INFO : EPOCH 3 - PROGRESS: at 44.29% examples, 323941 words/s, in_qsize 22, out_qsize 2\n",
      "2021-02-24 06:53:35,039 : INFO : EPOCH 3 - PROGRESS: at 53.88% examples, 327618 words/s, in_qsize 0, out_qsize 1\n",
      "2021-02-24 06:53:36,051 : INFO : EPOCH 3 - PROGRESS: at 63.18% examples, 329710 words/s, in_qsize 2, out_qsize 0\n",
      "2021-02-24 06:53:37,055 : INFO : EPOCH 3 - PROGRESS: at 71.52% examples, 326920 words/s, in_qsize 1, out_qsize 1\n",
      "2021-02-24 06:53:38,064 : INFO : EPOCH 3 - PROGRESS: at 80.75% examples, 328278 words/s, in_qsize 21, out_qsize 0\n",
      "2021-02-24 06:53:39,065 : INFO : EPOCH 3 - PROGRESS: at 89.81% examples, 328845 words/s, in_qsize 0, out_qsize 0\n",
      "2021-02-24 06:53:40,074 : INFO : EPOCH 3 - PROGRESS: at 98.22% examples, 327136 words/s, in_qsize 21, out_qsize 2\n",
      "2021-02-24 06:53:40,175 : INFO : worker thread finished; awaiting finish of 11 more threads\n",
      "2021-02-24 06:53:40,178 : INFO : worker thread finished; awaiting finish of 10 more threads\n",
      "2021-02-24 06:53:40,185 : INFO : worker thread finished; awaiting finish of 9 more threads\n",
      "2021-02-24 06:53:40,189 : INFO : worker thread finished; awaiting finish of 8 more threads\n",
      "2021-02-24 06:53:40,192 : INFO : worker thread finished; awaiting finish of 7 more threads\n",
      "2021-02-24 06:53:40,195 : INFO : worker thread finished; awaiting finish of 6 more threads\n",
      "2021-02-24 06:53:40,208 : INFO : worker thread finished; awaiting finish of 5 more threads\n",
      "2021-02-24 06:53:40,210 : INFO : worker thread finished; awaiting finish of 4 more threads\n",
      "2021-02-24 06:53:40,220 : INFO : worker thread finished; awaiting finish of 3 more threads\n",
      "2021-02-24 06:53:40,222 : INFO : worker thread finished; awaiting finish of 2 more threads\n",
      "2021-02-24 06:53:40,223 : INFO : worker thread finished; awaiting finish of 1 more threads\n",
      "2021-02-24 06:53:40,224 : INFO : worker thread finished; awaiting finish of 0 more threads\n",
      "2021-02-24 06:53:40,225 : INFO : EPOCH - 3 : training on 15362714 raw words (3689960 effective words) took 11.2s, 328644 effective words/s\n",
      "2021-02-24 06:53:41,234 : INFO : EPOCH 4 - PROGRESS: at 8.37% examples, 310639 words/s, in_qsize 12, out_qsize 0\n",
      "2021-02-24 06:53:42,245 : INFO : EPOCH 4 - PROGRESS: at 18.27% examples, 334123 words/s, in_qsize 0, out_qsize 0\n",
      "2021-02-24 06:53:43,292 : INFO : EPOCH 4 - PROGRESS: at 26.43% examples, 317324 words/s, in_qsize 23, out_qsize 0\n",
      "2021-02-24 06:53:44,295 : INFO : EPOCH 4 - PROGRESS: at 35.56% examples, 321712 words/s, in_qsize 0, out_qsize 1\n",
      "2021-02-24 06:53:45,297 : INFO : EPOCH 4 - PROGRESS: at 44.56% examples, 323151 words/s, in_qsize 0, out_qsize 0\n"
     ]
    },
    {
     "name": "stderr",
     "output_type": "stream",
     "text": [
      "2021-02-24 06:53:46,306 : INFO : EPOCH 4 - PROGRESS: at 52.93% examples, 319979 words/s, in_qsize 0, out_qsize 0\n",
      "2021-02-24 06:53:47,308 : INFO : EPOCH 4 - PROGRESS: at 61.69% examples, 320732 words/s, in_qsize 14, out_qsize 3\n",
      "2021-02-24 06:53:48,319 : INFO : EPOCH 4 - PROGRESS: at 70.62% examples, 321397 words/s, in_qsize 24, out_qsize 0\n",
      "2021-02-24 06:53:49,325 : INFO : EPOCH 4 - PROGRESS: at 80.05% examples, 324116 words/s, in_qsize 2, out_qsize 1\n",
      "2021-02-24 06:53:50,327 : INFO : EPOCH 4 - PROGRESS: at 89.23% examples, 325733 words/s, in_qsize 18, out_qsize 0\n",
      "2021-02-24 06:53:51,334 : INFO : EPOCH 4 - PROGRESS: at 97.81% examples, 324896 words/s, in_qsize 14, out_qsize 0\n",
      "2021-02-24 06:53:51,472 : INFO : worker thread finished; awaiting finish of 11 more threads\n",
      "2021-02-24 06:53:51,479 : INFO : worker thread finished; awaiting finish of 10 more threads\n",
      "2021-02-24 06:53:51,484 : INFO : worker thread finished; awaiting finish of 9 more threads\n",
      "2021-02-24 06:53:51,488 : INFO : worker thread finished; awaiting finish of 8 more threads\n",
      "2021-02-24 06:53:51,492 : INFO : worker thread finished; awaiting finish of 7 more threads\n",
      "2021-02-24 06:53:51,497 : INFO : worker thread finished; awaiting finish of 6 more threads\n",
      "2021-02-24 06:53:51,503 : INFO : worker thread finished; awaiting finish of 5 more threads\n",
      "2021-02-24 06:53:51,505 : INFO : worker thread finished; awaiting finish of 4 more threads\n",
      "2021-02-24 06:53:51,507 : INFO : worker thread finished; awaiting finish of 3 more threads\n",
      "2021-02-24 06:53:51,508 : INFO : worker thread finished; awaiting finish of 2 more threads\n",
      "2021-02-24 06:53:51,516 : INFO : worker thread finished; awaiting finish of 1 more threads\n",
      "2021-02-24 06:53:51,518 : INFO : worker thread finished; awaiting finish of 0 more threads\n",
      "2021-02-24 06:53:51,519 : INFO : EPOCH - 4 : training on 15362714 raw words (3689222 effective words) took 11.3s, 326785 effective words/s\n",
      "2021-02-24 06:53:52,535 : INFO : EPOCH 5 - PROGRESS: at 9.07% examples, 334636 words/s, in_qsize 1, out_qsize 0\n",
      "2021-02-24 06:53:53,539 : INFO : EPOCH 5 - PROGRESS: at 17.86% examples, 326955 words/s, in_qsize 23, out_qsize 0\n",
      "2021-02-24 06:53:54,546 : INFO : EPOCH 5 - PROGRESS: at 27.63% examples, 336123 words/s, in_qsize 1, out_qsize 1\n",
      "2021-02-24 06:53:55,562 : INFO : EPOCH 5 - PROGRESS: at 35.93% examples, 327717 words/s, in_qsize 19, out_qsize 0\n",
      "2021-02-24 06:53:56,569 : INFO : EPOCH 5 - PROGRESS: at 45.94% examples, 334671 words/s, in_qsize 1, out_qsize 0\n",
      "2021-02-24 06:53:57,572 : INFO : EPOCH 5 - PROGRESS: at 54.82% examples, 333530 words/s, in_qsize 17, out_qsize 0\n",
      "2021-02-24 06:53:58,574 : INFO : EPOCH 5 - PROGRESS: at 64.33% examples, 336018 words/s, in_qsize 1, out_qsize 2\n",
      "2021-02-24 06:53:59,579 : INFO : EPOCH 5 - PROGRESS: at 72.77% examples, 332926 words/s, in_qsize 11, out_qsize 0\n",
      "2021-02-24 06:54:00,584 : INFO : EPOCH 5 - PROGRESS: at 82.00% examples, 333725 words/s, in_qsize 23, out_qsize 0\n",
      "2021-02-24 06:54:01,585 : INFO : EPOCH 5 - PROGRESS: at 91.51% examples, 335671 words/s, in_qsize 0, out_qsize 0\n",
      "2021-02-24 06:54:02,504 : INFO : worker thread finished; awaiting finish of 11 more threads\n",
      "2021-02-24 06:54:02,520 : INFO : worker thread finished; awaiting finish of 10 more threads\n",
      "2021-02-24 06:54:02,522 : INFO : worker thread finished; awaiting finish of 9 more threads\n",
      "2021-02-24 06:54:02,523 : INFO : worker thread finished; awaiting finish of 8 more threads\n",
      "2021-02-24 06:54:02,526 : INFO : worker thread finished; awaiting finish of 7 more threads\n",
      "2021-02-24 06:54:02,528 : INFO : worker thread finished; awaiting finish of 6 more threads\n",
      "2021-02-24 06:54:02,537 : INFO : worker thread finished; awaiting finish of 5 more threads\n",
      "2021-02-24 06:54:02,540 : INFO : worker thread finished; awaiting finish of 4 more threads\n",
      "2021-02-24 06:54:02,545 : INFO : worker thread finished; awaiting finish of 3 more threads\n",
      "2021-02-24 06:54:02,547 : INFO : worker thread finished; awaiting finish of 2 more threads\n",
      "2021-02-24 06:54:02,550 : INFO : worker thread finished; awaiting finish of 1 more threads\n",
      "2021-02-24 06:54:02,554 : INFO : worker thread finished; awaiting finish of 0 more threads\n",
      "2021-02-24 06:54:02,556 : INFO : EPOCH - 5 : training on 15362714 raw words (3691005 effective words) took 11.0s, 334583 effective words/s\n",
      "2021-02-24 06:54:03,586 : INFO : EPOCH 6 - PROGRESS: at 8.43% examples, 307315 words/s, in_qsize 23, out_qsize 0\n",
      "2021-02-24 06:54:04,593 : INFO : EPOCH 6 - PROGRESS: at 18.60% examples, 337168 words/s, in_qsize 0, out_qsize 1\n",
      "2021-02-24 06:54:05,596 : INFO : EPOCH 6 - PROGRESS: at 27.89% examples, 337574 words/s, in_qsize 0, out_qsize 0\n",
      "2021-02-24 06:54:06,605 : INFO : EPOCH 6 - PROGRESS: at 36.07% examples, 328082 words/s, in_qsize 23, out_qsize 0\n",
      "2021-02-24 06:54:07,611 : INFO : EPOCH 6 - PROGRESS: at 45.94% examples, 334215 words/s, in_qsize 0, out_qsize 0\n",
      "2021-02-24 06:54:08,613 : INFO : EPOCH 6 - PROGRESS: at 55.21% examples, 335702 words/s, in_qsize 0, out_qsize 0\n",
      "2021-02-24 06:54:09,632 : INFO : EPOCH 6 - PROGRESS: at 63.95% examples, 332991 words/s, in_qsize 9, out_qsize 3\n",
      "2021-02-24 06:54:10,633 : INFO : EPOCH 6 - PROGRESS: at 72.78% examples, 332042 words/s, in_qsize 16, out_qsize 1\n",
      "2021-02-24 06:54:11,634 : INFO : EPOCH 6 - PROGRESS: at 81.93% examples, 332719 words/s, in_qsize 6, out_qsize 3\n",
      "2021-02-24 06:54:12,641 : INFO : EPOCH 6 - PROGRESS: at 90.87% examples, 332445 words/s, in_qsize 17, out_qsize 3\n",
      "2021-02-24 06:54:13,536 : INFO : worker thread finished; awaiting finish of 11 more threads\n",
      "2021-02-24 06:54:13,539 : INFO : worker thread finished; awaiting finish of 10 more threads\n",
      "2021-02-24 06:54:13,540 : INFO : worker thread finished; awaiting finish of 9 more threads\n",
      "2021-02-24 06:54:13,544 : INFO : worker thread finished; awaiting finish of 8 more threads\n",
      "2021-02-24 06:54:13,547 : INFO : worker thread finished; awaiting finish of 7 more threads\n",
      "2021-02-24 06:54:13,557 : INFO : worker thread finished; awaiting finish of 6 more threads\n",
      "2021-02-24 06:54:13,559 : INFO : worker thread finished; awaiting finish of 5 more threads\n",
      "2021-02-24 06:54:13,561 : INFO : worker thread finished; awaiting finish of 4 more threads\n",
      "2021-02-24 06:54:13,565 : INFO : worker thread finished; awaiting finish of 3 more threads\n",
      "2021-02-24 06:54:13,569 : INFO : worker thread finished; awaiting finish of 2 more threads\n",
      "2021-02-24 06:54:13,571 : INFO : worker thread finished; awaiting finish of 1 more threads\n",
      "2021-02-24 06:54:13,573 : INFO : worker thread finished; awaiting finish of 0 more threads\n",
      "2021-02-24 06:54:13,574 : INFO : EPOCH - 6 : training on 15362714 raw words (3688785 effective words) took 11.0s, 334946 effective words/s\n",
      "2021-02-24 06:54:14,583 : INFO : EPOCH 7 - PROGRESS: at 8.25% examples, 306231 words/s, in_qsize 13, out_qsize 0\n",
      "2021-02-24 06:54:15,586 : INFO : EPOCH 7 - PROGRESS: at 17.87% examples, 328512 words/s, in_qsize 1, out_qsize 0\n",
      "2021-02-24 06:54:16,587 : INFO : EPOCH 7 - PROGRESS: at 26.95% examples, 329834 words/s, in_qsize 0, out_qsize 0\n",
      "2021-02-24 06:54:17,599 : INFO : EPOCH 7 - PROGRESS: at 35.01% examples, 320325 words/s, in_qsize 23, out_qsize 0\n",
      "2021-02-24 06:54:18,614 : INFO : EPOCH 7 - PROGRESS: at 45.13% examples, 329497 words/s, in_qsize 0, out_qsize 0\n",
      "2021-02-24 06:54:19,631 : INFO : EPOCH 7 - PROGRESS: at 53.69% examples, 326154 words/s, in_qsize 23, out_qsize 0\n",
      "2021-02-24 06:54:20,639 : INFO : EPOCH 7 - PROGRESS: at 62.75% examples, 327248 words/s, in_qsize 23, out_qsize 0\n",
      "2021-02-24 06:54:21,656 : INFO : EPOCH 7 - PROGRESS: at 71.64% examples, 326852 words/s, in_qsize 23, out_qsize 1\n",
      "2021-02-24 06:54:22,662 : INFO : EPOCH 7 - PROGRESS: at 81.53% examples, 330873 words/s, in_qsize 0, out_qsize 1\n",
      "2021-02-24 06:54:23,671 : INFO : EPOCH 7 - PROGRESS: at 90.99% examples, 332580 words/s, in_qsize 1, out_qsize 1\n",
      "2021-02-24 06:54:24,589 : INFO : worker thread finished; awaiting finish of 11 more threads\n",
      "2021-02-24 06:54:24,600 : INFO : worker thread finished; awaiting finish of 10 more threads\n",
      "2021-02-24 06:54:24,601 : INFO : worker thread finished; awaiting finish of 9 more threads\n",
      "2021-02-24 06:54:24,607 : INFO : worker thread finished; awaiting finish of 8 more threads\n",
      "2021-02-24 06:54:24,610 : INFO : worker thread finished; awaiting finish of 7 more threads\n"
     ]
    },
    {
     "name": "stderr",
     "output_type": "stream",
     "text": [
      "2021-02-24 06:54:24,622 : INFO : worker thread finished; awaiting finish of 6 more threads\n",
      "2021-02-24 06:54:24,626 : INFO : worker thread finished; awaiting finish of 5 more threads\n",
      "2021-02-24 06:54:24,636 : INFO : worker thread finished; awaiting finish of 4 more threads\n",
      "2021-02-24 06:54:24,639 : INFO : worker thread finished; awaiting finish of 3 more threads\n",
      "2021-02-24 06:54:24,640 : INFO : worker thread finished; awaiting finish of 2 more threads\n",
      "2021-02-24 06:54:24,641 : INFO : worker thread finished; awaiting finish of 1 more threads\n",
      "2021-02-24 06:54:24,642 : INFO : worker thread finished; awaiting finish of 0 more threads\n",
      "2021-02-24 06:54:24,644 : INFO : EPOCH - 7 : training on 15362714 raw words (3689307 effective words) took 11.1s, 333436 effective words/s\n",
      "2021-02-24 06:54:25,651 : INFO : EPOCH 8 - PROGRESS: at 7.86% examples, 292718 words/s, in_qsize 16, out_qsize 0\n",
      "2021-02-24 06:54:26,653 : INFO : EPOCH 8 - PROGRESS: at 17.55% examples, 322749 words/s, in_qsize 0, out_qsize 0\n",
      "2021-02-24 06:54:27,658 : INFO : EPOCH 8 - PROGRESS: at 26.89% examples, 328729 words/s, in_qsize 0, out_qsize 0\n",
      "2021-02-24 06:54:28,662 : INFO : EPOCH 8 - PROGRESS: at 36.13% examples, 331275 words/s, in_qsize 0, out_qsize 0\n",
      "2021-02-24 06:54:29,687 : INFO : EPOCH 8 - PROGRESS: at 45.34% examples, 330622 words/s, in_qsize 0, out_qsize 0\n",
      "2021-02-24 06:54:30,705 : INFO : EPOCH 8 - PROGRESS: at 54.64% examples, 331789 words/s, in_qsize 0, out_qsize 1\n",
      "2021-02-24 06:54:31,721 : INFO : EPOCH 8 - PROGRESS: at 63.82% examples, 332284 words/s, in_qsize 1, out_qsize 0\n",
      "2021-02-24 06:54:32,729 : INFO : EPOCH 8 - PROGRESS: at 73.10% examples, 333434 words/s, in_qsize 0, out_qsize 1\n",
      "2021-02-24 06:54:33,732 : INFO : EPOCH 8 - PROGRESS: at 81.54% examples, 330956 words/s, in_qsize 23, out_qsize 0\n",
      "2021-02-24 06:54:34,734 : INFO : EPOCH 8 - PROGRESS: at 90.81% examples, 332130 words/s, in_qsize 13, out_qsize 0\n",
      "2021-02-24 06:54:35,654 : INFO : worker thread finished; awaiting finish of 11 more threads\n",
      "2021-02-24 06:54:35,655 : INFO : worker thread finished; awaiting finish of 10 more threads\n",
      "2021-02-24 06:54:35,657 : INFO : worker thread finished; awaiting finish of 9 more threads\n",
      "2021-02-24 06:54:35,658 : INFO : worker thread finished; awaiting finish of 8 more threads\n",
      "2021-02-24 06:54:35,660 : INFO : worker thread finished; awaiting finish of 7 more threads\n",
      "2021-02-24 06:54:35,662 : INFO : worker thread finished; awaiting finish of 6 more threads\n",
      "2021-02-24 06:54:35,663 : INFO : worker thread finished; awaiting finish of 5 more threads\n",
      "2021-02-24 06:54:35,670 : INFO : worker thread finished; awaiting finish of 4 more threads\n",
      "2021-02-24 06:54:35,672 : INFO : worker thread finished; awaiting finish of 3 more threads\n",
      "2021-02-24 06:54:35,674 : INFO : worker thread finished; awaiting finish of 2 more threads\n",
      "2021-02-24 06:54:35,677 : INFO : worker thread finished; awaiting finish of 1 more threads\n",
      "2021-02-24 06:54:35,681 : INFO : worker thread finished; awaiting finish of 0 more threads\n",
      "2021-02-24 06:54:35,682 : INFO : EPOCH - 8 : training on 15362714 raw words (3690112 effective words) took 11.0s, 334467 effective words/s\n",
      "2021-02-24 06:54:36,694 : INFO : EPOCH 9 - PROGRESS: at 9.02% examples, 333474 words/s, in_qsize 0, out_qsize 0\n",
      "2021-02-24 06:54:37,697 : INFO : EPOCH 9 - PROGRESS: at 17.99% examples, 329855 words/s, in_qsize 0, out_qsize 0\n",
      "2021-02-24 06:54:38,705 : INFO : EPOCH 9 - PROGRESS: at 27.09% examples, 330077 words/s, in_qsize 0, out_qsize 2\n",
      "2021-02-24 06:54:39,706 : INFO : EPOCH 9 - PROGRESS: at 36.57% examples, 334880 words/s, in_qsize 0, out_qsize 0\n",
      "2021-02-24 06:54:40,734 : INFO : EPOCH 9 - PROGRESS: at 45.07% examples, 328104 words/s, in_qsize 18, out_qsize 5\n",
      "2021-02-24 06:54:41,737 : INFO : EPOCH 9 - PROGRESS: at 54.56% examples, 331604 words/s, in_qsize 23, out_qsize 0\n",
      "2021-02-24 06:54:42,739 : INFO : EPOCH 9 - PROGRESS: at 63.95% examples, 333727 words/s, in_qsize 0, out_qsize 0\n",
      "2021-02-24 06:54:43,771 : INFO : EPOCH 9 - PROGRESS: at 72.64% examples, 330954 words/s, in_qsize 19, out_qsize 1\n",
      "2021-02-24 06:54:44,778 : INFO : EPOCH 9 - PROGRESS: at 82.48% examples, 334156 words/s, in_qsize 0, out_qsize 0\n",
      "2021-02-24 06:54:45,780 : INFO : EPOCH 9 - PROGRESS: at 91.76% examples, 335302 words/s, in_qsize 0, out_qsize 0\n",
      "2021-02-24 06:54:46,615 : INFO : worker thread finished; awaiting finish of 11 more threads\n",
      "2021-02-24 06:54:46,626 : INFO : worker thread finished; awaiting finish of 10 more threads\n",
      "2021-02-24 06:54:46,628 : INFO : worker thread finished; awaiting finish of 9 more threads\n",
      "2021-02-24 06:54:46,630 : INFO : worker thread finished; awaiting finish of 8 more threads\n",
      "2021-02-24 06:54:46,632 : INFO : worker thread finished; awaiting finish of 7 more threads\n",
      "2021-02-24 06:54:46,633 : INFO : worker thread finished; awaiting finish of 6 more threads\n",
      "2021-02-24 06:54:46,635 : INFO : worker thread finished; awaiting finish of 5 more threads\n",
      "2021-02-24 06:54:46,644 : INFO : worker thread finished; awaiting finish of 4 more threads\n",
      "2021-02-24 06:54:46,646 : INFO : worker thread finished; awaiting finish of 3 more threads\n",
      "2021-02-24 06:54:46,650 : INFO : worker thread finished; awaiting finish of 2 more threads\n",
      "2021-02-24 06:54:46,658 : INFO : worker thread finished; awaiting finish of 1 more threads\n",
      "2021-02-24 06:54:46,660 : INFO : worker thread finished; awaiting finish of 0 more threads\n",
      "2021-02-24 06:54:46,661 : INFO : EPOCH - 9 : training on 15362714 raw words (3688726 effective words) took 11.0s, 336141 effective words/s\n",
      "2021-02-24 06:54:47,680 : INFO : EPOCH 10 - PROGRESS: at 8.51% examples, 312387 words/s, in_qsize 0, out_qsize 4\n",
      "2021-02-24 06:54:48,683 : INFO : EPOCH 10 - PROGRESS: at 18.27% examples, 333743 words/s, in_qsize 0, out_qsize 0\n",
      "2021-02-24 06:54:49,688 : INFO : EPOCH 10 - PROGRESS: at 27.08% examples, 329595 words/s, in_qsize 15, out_qsize 1\n",
      "2021-02-24 06:54:50,689 : INFO : EPOCH 10 - PROGRESS: at 36.88% examples, 337648 words/s, in_qsize 0, out_qsize 0\n",
      "2021-02-24 06:54:51,700 : INFO : EPOCH 10 - PROGRESS: at 45.40% examples, 331406 words/s, in_qsize 13, out_qsize 1\n",
      "2021-02-24 06:54:52,720 : INFO : EPOCH 10 - PROGRESS: at 55.21% examples, 335625 words/s, in_qsize 0, out_qsize 2\n",
      "2021-02-24 06:54:53,726 : INFO : EPOCH 10 - PROGRESS: at 64.40% examples, 335827 words/s, in_qsize 2, out_qsize 0\n",
      "2021-02-24 06:54:54,733 : INFO : EPOCH 10 - PROGRESS: at 73.87% examples, 337531 words/s, in_qsize 1, out_qsize 0\n",
      "2021-02-24 06:54:55,749 : INFO : EPOCH 10 - PROGRESS: at 82.47% examples, 334605 words/s, in_qsize 19, out_qsize 2\n",
      "2021-02-24 06:54:56,751 : INFO : EPOCH 10 - PROGRESS: at 92.02% examples, 336631 words/s, in_qsize 0, out_qsize 1\n",
      "2021-02-24 06:54:57,584 : INFO : worker thread finished; awaiting finish of 11 more threads\n",
      "2021-02-24 06:54:57,590 : INFO : worker thread finished; awaiting finish of 10 more threads\n",
      "2021-02-24 06:54:57,594 : INFO : worker thread finished; awaiting finish of 9 more threads\n",
      "2021-02-24 06:54:57,606 : INFO : worker thread finished; awaiting finish of 8 more threads\n",
      "2021-02-24 06:54:57,612 : INFO : worker thread finished; awaiting finish of 7 more threads\n",
      "2021-02-24 06:54:57,614 : INFO : worker thread finished; awaiting finish of 6 more threads\n",
      "2021-02-24 06:54:57,615 : INFO : worker thread finished; awaiting finish of 5 more threads\n",
      "2021-02-24 06:54:57,619 : INFO : worker thread finished; awaiting finish of 4 more threads\n",
      "2021-02-24 06:54:57,627 : INFO : worker thread finished; awaiting finish of 3 more threads\n",
      "2021-02-24 06:54:57,629 : INFO : worker thread finished; awaiting finish of 2 more threads\n",
      "2021-02-24 06:54:57,631 : INFO : worker thread finished; awaiting finish of 1 more threads\n",
      "2021-02-24 06:54:57,633 : INFO : worker thread finished; awaiting finish of 0 more threads\n",
      "2021-02-24 06:54:57,634 : INFO : EPOCH - 10 : training on 15362714 raw words (3690253 effective words) took 11.0s, 336451 effective words/s\n",
      "2021-02-24 06:54:57,635 : INFO : training on a 153627140 raw words (36897069 effective words) took 110.7s, 333352 effective words/s\n",
      "2021-02-24 06:54:57,636 : INFO : saving Word2Vec object under dados/experimento_6/w2v_jur.model, separately None\n",
      "2021-02-24 06:54:57,638 : INFO : not storing attribute vectors_norm\n"
     ]
    },
    {
     "name": "stderr",
     "output_type": "stream",
     "text": [
      "2021-02-24 06:54:57,639 : INFO : not storing attribute cum_table\n",
      "2021-02-24 06:54:58,772 : INFO : saved dados/experimento_6/w2v_jur.model\n"
     ]
    },
    {
     "name": "stdout",
     "output_type": "stream",
     "text": [
      "treinando modelo word2vec\n"
     ]
    },
    {
     "name": "stderr",
     "output_type": "stream",
     "text": [
      "2021-02-24 06:54:58,774 : INFO : resetting layer weights\n",
      "2021-02-24 06:55:03,673 : INFO : collecting all words and their counts\n",
      "2021-02-24 06:55:03,675 : INFO : PROGRESS: at sentence #0, processed 0 words, keeping 0 word types\n",
      "2021-02-24 06:55:03,745 : INFO : PROGRESS: at sentence #10000, processed 246812 words, keeping 14155 word types\n",
      "2021-02-24 06:55:03,821 : INFO : PROGRESS: at sentence #20000, processed 494434 words, keeping 19423 word types\n",
      "2021-02-24 06:55:03,896 : INFO : PROGRESS: at sentence #30000, processed 740715 words, keeping 23179 word types\n",
      "2021-02-24 06:55:03,963 : INFO : PROGRESS: at sentence #40000, processed 986247 words, keeping 26364 word types\n",
      "2021-02-24 06:55:04,028 : INFO : PROGRESS: at sentence #50000, processed 1222862 words, keeping 28589 word types\n",
      "2021-02-24 06:55:04,095 : INFO : PROGRESS: at sentence #60000, processed 1469862 words, keeping 30874 word types\n",
      "2021-02-24 06:55:04,162 : INFO : PROGRESS: at sentence #70000, processed 1708182 words, keeping 32709 word types\n",
      "2021-02-24 06:55:04,227 : INFO : PROGRESS: at sentence #80000, processed 1945737 words, keeping 34701 word types\n",
      "2021-02-24 06:55:04,295 : INFO : PROGRESS: at sentence #90000, processed 2182256 words, keeping 36327 word types\n",
      "2021-02-24 06:55:04,365 : INFO : PROGRESS: at sentence #100000, processed 2429036 words, keeping 38192 word types\n",
      "2021-02-24 06:55:04,431 : INFO : PROGRESS: at sentence #110000, processed 2667552 words, keeping 39731 word types\n",
      "2021-02-24 06:55:04,496 : INFO : PROGRESS: at sentence #120000, processed 2905952 words, keeping 41101 word types\n",
      "2021-02-24 06:55:04,562 : INFO : PROGRESS: at sentence #130000, processed 3142122 words, keeping 42276 word types\n",
      "2021-02-24 06:55:04,630 : INFO : PROGRESS: at sentence #140000, processed 3386984 words, keeping 43435 word types\n",
      "2021-02-24 06:55:04,700 : INFO : PROGRESS: at sentence #150000, processed 3633986 words, keeping 44634 word types\n",
      "2021-02-24 06:55:04,768 : INFO : PROGRESS: at sentence #160000, processed 3877874 words, keeping 45897 word types\n",
      "2021-02-24 06:55:04,832 : INFO : PROGRESS: at sentence #170000, processed 4112114 words, keeping 47032 word types\n",
      "2021-02-24 06:55:04,897 : INFO : PROGRESS: at sentence #180000, processed 4347893 words, keeping 48083 word types\n",
      "2021-02-24 06:55:04,964 : INFO : PROGRESS: at sentence #190000, processed 4592067 words, keeping 49067 word types\n",
      "2021-02-24 06:55:05,033 : INFO : PROGRESS: at sentence #200000, processed 4833854 words, keeping 50119 word types\n",
      "2021-02-24 06:55:05,099 : INFO : PROGRESS: at sentence #210000, processed 5075455 words, keeping 51117 word types\n",
      "2021-02-24 06:55:05,168 : INFO : PROGRESS: at sentence #220000, processed 5324592 words, keeping 52122 word types\n",
      "2021-02-24 06:55:05,235 : INFO : PROGRESS: at sentence #230000, processed 5575796 words, keeping 53097 word types\n",
      "2021-02-24 06:55:05,304 : INFO : PROGRESS: at sentence #240000, processed 5821965 words, keeping 54073 word types\n",
      "2021-02-24 06:55:05,372 : INFO : PROGRESS: at sentence #250000, processed 6065255 words, keeping 54983 word types\n",
      "2021-02-24 06:55:05,440 : INFO : PROGRESS: at sentence #260000, processed 6304784 words, keeping 55862 word types\n",
      "2021-02-24 06:55:05,506 : INFO : PROGRESS: at sentence #270000, processed 6542345 words, keeping 56725 word types\n",
      "2021-02-24 06:55:05,573 : INFO : PROGRESS: at sentence #280000, processed 6778541 words, keeping 57518 word types\n",
      "2021-02-24 06:55:05,638 : INFO : PROGRESS: at sentence #290000, processed 7018214 words, keeping 58291 word types\n",
      "2021-02-24 06:55:05,707 : INFO : PROGRESS: at sentence #300000, processed 7262665 words, keeping 59110 word types\n",
      "2021-02-24 06:55:05,774 : INFO : PROGRESS: at sentence #310000, processed 7504504 words, keeping 59912 word types\n",
      "2021-02-24 06:55:05,841 : INFO : PROGRESS: at sentence #320000, processed 7751683 words, keeping 60700 word types\n",
      "2021-02-24 06:55:05,908 : INFO : PROGRESS: at sentence #330000, processed 7990021 words, keeping 61450 word types\n",
      "2021-02-24 06:55:05,976 : INFO : PROGRESS: at sentence #340000, processed 8237515 words, keeping 62195 word types\n",
      "2021-02-24 06:55:06,043 : INFO : PROGRESS: at sentence #350000, processed 8486086 words, keeping 62987 word types\n",
      "2021-02-24 06:55:06,112 : INFO : PROGRESS: at sentence #360000, processed 8732383 words, keeping 63736 word types\n",
      "2021-02-24 06:55:06,179 : INFO : PROGRESS: at sentence #370000, processed 8971336 words, keeping 64446 word types\n",
      "2021-02-24 06:55:06,250 : INFO : PROGRESS: at sentence #380000, processed 9214764 words, keeping 65239 word types\n",
      "2021-02-24 06:55:06,317 : INFO : PROGRESS: at sentence #390000, processed 9455492 words, keeping 65999 word types\n",
      "2021-02-24 06:55:06,385 : INFO : PROGRESS: at sentence #400000, processed 9700869 words, keeping 66711 word types\n",
      "2021-02-24 06:55:06,451 : INFO : PROGRESS: at sentence #410000, processed 9945831 words, keeping 67308 word types\n",
      "2021-02-24 06:55:06,518 : INFO : PROGRESS: at sentence #420000, processed 10190340 words, keeping 67949 word types\n",
      "2021-02-24 06:55:06,585 : INFO : PROGRESS: at sentence #430000, processed 10431937 words, keeping 68655 word types\n",
      "2021-02-24 06:55:06,654 : INFO : PROGRESS: at sentence #440000, processed 10678696 words, keeping 69361 word types\n",
      "2021-02-24 06:55:06,720 : INFO : PROGRESS: at sentence #450000, processed 10915853 words, keeping 70071 word types\n",
      "2021-02-24 06:55:06,788 : INFO : PROGRESS: at sentence #460000, processed 11158838 words, keeping 70699 word types\n",
      "2021-02-24 06:55:06,857 : INFO : PROGRESS: at sentence #470000, processed 11400602 words, keeping 71362 word types\n",
      "2021-02-24 06:55:06,922 : INFO : PROGRESS: at sentence #480000, processed 11635814 words, keeping 71940 word types\n",
      "2021-02-24 06:55:06,991 : INFO : PROGRESS: at sentence #490000, processed 11881826 words, keeping 72558 word types\n",
      "2021-02-24 06:55:07,058 : INFO : PROGRESS: at sentence #500000, processed 12122384 words, keeping 73128 word types\n",
      "2021-02-24 06:55:07,125 : INFO : PROGRESS: at sentence #510000, processed 12363930 words, keeping 73860 word types\n",
      "2021-02-24 06:55:07,191 : INFO : PROGRESS: at sentence #520000, processed 12602907 words, keeping 74375 word types\n",
      "2021-02-24 06:55:07,258 : INFO : PROGRESS: at sentence #530000, processed 12843005 words, keeping 75056 word types\n",
      "2021-02-24 06:55:07,326 : INFO : PROGRESS: at sentence #540000, processed 13084464 words, keeping 75623 word types\n",
      "2021-02-24 06:55:07,394 : INFO : PROGRESS: at sentence #550000, processed 13325092 words, keeping 76260 word types\n",
      "2021-02-24 06:55:07,463 : INFO : PROGRESS: at sentence #560000, processed 13571169 words, keeping 76838 word types\n",
      "2021-02-24 06:55:07,531 : INFO : PROGRESS: at sentence #570000, processed 13809729 words, keeping 77396 word types\n",
      "2021-02-24 06:55:07,600 : INFO : PROGRESS: at sentence #580000, processed 14062380 words, keeping 77935 word types\n",
      "2021-02-24 06:55:07,668 : INFO : PROGRESS: at sentence #590000, processed 14311416 words, keeping 78529 word types\n",
      "2021-02-24 06:55:07,735 : INFO : PROGRESS: at sentence #600000, processed 14551995 words, keeping 79002 word types\n",
      "2021-02-24 06:55:07,802 : INFO : PROGRESS: at sentence #610000, processed 14790531 words, keeping 79595 word types\n",
      "2021-02-24 06:55:07,867 : INFO : PROGRESS: at sentence #620000, processed 15030552 words, keeping 80163 word types\n",
      "2021-02-24 06:55:07,934 : INFO : PROGRESS: at sentence #630000, processed 15270560 words, keeping 80744 word types\n",
      "2021-02-24 06:55:07,961 : INFO : collected 80978 word types from a corpus of 15362714 raw words and 633684 sentences\n",
      "2021-02-24 06:55:07,962 : INFO : Loading a fresh vocabulary\n",
      "2021-02-24 06:55:08,013 : INFO : effective_min_count=5 retains 32536 unique words (40% of original 80978, drops 48442)\n",
      "2021-02-24 06:55:08,014 : INFO : effective_min_count=5 leaves 15281078 word corpus (99% of original 15362714, drops 81636)\n",
      "2021-02-24 06:55:08,097 : INFO : deleting the raw counts dictionary of 80978 items\n",
      "2021-02-24 06:55:08,099 : INFO : sample=0.001 downsamples 36 most-common words\n",
      "2021-02-24 06:55:08,100 : INFO : downsampling leaves estimated 11056474 word corpus (72.4% of prior 15281078)\n",
      "2021-02-24 06:55:08,122 : INFO : constructing a huffman tree from 32536 words\n",
      "2021-02-24 06:55:08,809 : INFO : built huffman tree with maximum node depth 22\n"
     ]
    },
    {
     "name": "stderr",
     "output_type": "stream",
     "text": [
      "2021-02-24 06:55:09,151 : INFO : estimated required memory for 32536 words, 137899 buckets and 100 dimensions: 125752304 bytes\n",
      "2021-02-24 06:55:09,155 : INFO : resetting layer weights\n",
      "2021-02-24 06:55:12,552 : INFO : training model with 12 workers on 32536 vocabulary and 100 features, using sg=1 hs=1 sample=0.001 negative=5 window=5\n",
      "2021-02-24 06:56:03,953 : INFO : EPOCH 1 - PROGRESS: at 8.35% words, 17969 words/s, in_qsize -1, out_qsize 1\n",
      "2021-02-24 06:56:03,955 : INFO : worker thread finished; awaiting finish of 11 more threads\n",
      "2021-02-24 06:56:03,965 : INFO : worker thread finished; awaiting finish of 10 more threads\n",
      "2021-02-24 06:56:04,033 : INFO : worker thread finished; awaiting finish of 9 more threads\n",
      "2021-02-24 06:56:04,285 : INFO : worker thread finished; awaiting finish of 8 more threads\n",
      "2021-02-24 06:56:04,309 : INFO : worker thread finished; awaiting finish of 7 more threads\n",
      "2021-02-24 06:56:04,415 : INFO : worker thread finished; awaiting finish of 6 more threads\n",
      "2021-02-24 06:56:04,419 : INFO : worker thread finished; awaiting finish of 5 more threads\n",
      "2021-02-24 06:56:04,485 : INFO : worker thread finished; awaiting finish of 4 more threads\n",
      "2021-02-24 06:56:04,537 : INFO : worker thread finished; awaiting finish of 3 more threads\n",
      "2021-02-24 06:56:04,541 : INFO : worker thread finished; awaiting finish of 2 more threads\n",
      "2021-02-24 06:56:04,590 : INFO : worker thread finished; awaiting finish of 1 more threads\n",
      "2021-02-24 06:56:04,603 : INFO : worker thread finished; awaiting finish of 0 more threads\n",
      "2021-02-24 06:56:04,604 : INFO : EPOCH - 1 : training on 15391158 raw words (11077069 effective words) took 52.0s, 212991 effective words/s\n",
      "2021-02-24 06:56:55,488 : INFO : EPOCH 2 - PROGRESS: at 8.35% words, 18160 words/s, in_qsize -1, out_qsize 1\n",
      "2021-02-24 06:56:55,490 : INFO : worker thread finished; awaiting finish of 11 more threads\n",
      "2021-02-24 06:56:55,613 : INFO : worker thread finished; awaiting finish of 10 more threads\n",
      "2021-02-24 06:56:55,782 : INFO : worker thread finished; awaiting finish of 9 more threads\n",
      "2021-02-24 06:56:55,795 : INFO : worker thread finished; awaiting finish of 8 more threads\n",
      "2021-02-24 06:56:55,963 : INFO : worker thread finished; awaiting finish of 7 more threads\n",
      "2021-02-24 06:56:56,049 : INFO : worker thread finished; awaiting finish of 6 more threads\n",
      "2021-02-24 06:56:56,095 : INFO : worker thread finished; awaiting finish of 5 more threads\n",
      "2021-02-24 06:56:56,103 : INFO : worker thread finished; awaiting finish of 4 more threads\n",
      "2021-02-24 06:56:56,116 : INFO : worker thread finished; awaiting finish of 3 more threads\n",
      "2021-02-24 06:56:56,210 : INFO : worker thread finished; awaiting finish of 2 more threads\n",
      "2021-02-24 06:56:56,265 : INFO : worker thread finished; awaiting finish of 1 more threads\n",
      "2021-02-24 06:56:56,266 : INFO : worker thread finished; awaiting finish of 0 more threads\n",
      "2021-02-24 06:56:56,266 : INFO : EPOCH - 2 : training on 15391158 raw words (11076839 effective words) took 51.6s, 214589 effective words/s\n",
      "2021-02-24 06:57:47,066 : INFO : EPOCH 3 - PROGRESS: at 8.35% words, 18166 words/s, in_qsize -1, out_qsize 1\n",
      "2021-02-24 06:57:47,068 : INFO : worker thread finished; awaiting finish of 11 more threads\n",
      "2021-02-24 06:57:47,159 : INFO : worker thread finished; awaiting finish of 10 more threads\n",
      "2021-02-24 06:57:47,278 : INFO : worker thread finished; awaiting finish of 9 more threads\n",
      "2021-02-24 06:57:47,338 : INFO : worker thread finished; awaiting finish of 8 more threads\n",
      "2021-02-24 06:57:47,607 : INFO : worker thread finished; awaiting finish of 7 more threads\n",
      "2021-02-24 06:57:47,682 : INFO : worker thread finished; awaiting finish of 6 more threads\n",
      "2021-02-24 06:57:47,689 : INFO : worker thread finished; awaiting finish of 5 more threads\n",
      "2021-02-24 06:57:47,731 : INFO : worker thread finished; awaiting finish of 4 more threads\n",
      "2021-02-24 06:57:47,738 : INFO : worker thread finished; awaiting finish of 3 more threads\n",
      "2021-02-24 06:57:47,750 : INFO : worker thread finished; awaiting finish of 2 more threads\n",
      "2021-02-24 06:57:47,768 : INFO : worker thread finished; awaiting finish of 1 more threads\n",
      "2021-02-24 06:57:47,783 : INFO : worker thread finished; awaiting finish of 0 more threads\n",
      "2021-02-24 06:57:47,784 : INFO : EPOCH - 3 : training on 15391158 raw words (11074994 effective words) took 51.5s, 215158 effective words/s\n",
      "2021-02-24 06:58:38,702 : INFO : EPOCH 4 - PROGRESS: at 8.35% words, 18134 words/s, in_qsize -1, out_qsize 1\n",
      "2021-02-24 06:58:38,703 : INFO : worker thread finished; awaiting finish of 11 more threads\n",
      "2021-02-24 06:58:38,805 : INFO : worker thread finished; awaiting finish of 10 more threads\n",
      "2021-02-24 06:58:38,863 : INFO : worker thread finished; awaiting finish of 9 more threads\n",
      "2021-02-24 06:58:38,905 : INFO : worker thread finished; awaiting finish of 8 more threads\n",
      "2021-02-24 06:58:39,075 : INFO : worker thread finished; awaiting finish of 7 more threads\n",
      "2021-02-24 06:58:39,156 : INFO : worker thread finished; awaiting finish of 6 more threads\n",
      "2021-02-24 06:58:39,197 : INFO : worker thread finished; awaiting finish of 5 more threads\n",
      "2021-02-24 06:58:39,251 : INFO : worker thread finished; awaiting finish of 4 more threads\n",
      "2021-02-24 06:58:39,357 : INFO : worker thread finished; awaiting finish of 3 more threads\n",
      "2021-02-24 06:58:39,412 : INFO : worker thread finished; awaiting finish of 2 more threads\n",
      "2021-02-24 06:58:39,463 : INFO : worker thread finished; awaiting finish of 1 more threads\n",
      "2021-02-24 06:58:39,485 : INFO : worker thread finished; awaiting finish of 0 more threads\n",
      "2021-02-24 06:58:39,486 : INFO : EPOCH - 4 : training on 15391158 raw words (11075735 effective words) took 51.7s, 214412 effective words/s\n",
      "2021-02-24 06:59:30,825 : INFO : EPOCH 5 - PROGRESS: at 8.35% words, 17993 words/s, in_qsize -1, out_qsize 1\n",
      "2021-02-24 06:59:30,826 : INFO : worker thread finished; awaiting finish of 11 more threads\n",
      "2021-02-24 06:59:30,869 : INFO : worker thread finished; awaiting finish of 10 more threads\n",
      "2021-02-24 06:59:31,022 : INFO : worker thread finished; awaiting finish of 9 more threads\n",
      "2021-02-24 06:59:31,220 : INFO : worker thread finished; awaiting finish of 8 more threads\n",
      "2021-02-24 06:59:31,288 : INFO : worker thread finished; awaiting finish of 7 more threads\n",
      "2021-02-24 06:59:31,352 : INFO : worker thread finished; awaiting finish of 6 more threads\n",
      "2021-02-24 06:59:31,369 : INFO : worker thread finished; awaiting finish of 5 more threads\n",
      "2021-02-24 06:59:31,500 : INFO : worker thread finished; awaiting finish of 4 more threads\n",
      "2021-02-24 06:59:31,521 : INFO : worker thread finished; awaiting finish of 3 more threads\n",
      "2021-02-24 06:59:31,577 : INFO : worker thread finished; awaiting finish of 2 more threads\n",
      "2021-02-24 06:59:31,698 : INFO : worker thread finished; awaiting finish of 1 more threads\n",
      "2021-02-24 06:59:31,698 : INFO : worker thread finished; awaiting finish of 0 more threads\n",
      "2021-02-24 06:59:31,700 : INFO : EPOCH - 5 : training on 15391158 raw words (11076300 effective words) took 52.2s, 212319 effective words/s\n",
      "2021-02-24 06:59:31,702 : INFO : training on a 76955790 raw words (55380937 effective words) took 259.1s, 213703 effective words/s\n",
      "2021-02-24 06:59:31,703 : WARNING : under 10 jobs per worker: consider setting a smaller `batch_words' for smoother alpha decay\n",
      "2021-02-24 06:59:33,227 : INFO : saving FastText object under dados/experimento_6/ftt_jur.model, separately None\n",
      "2021-02-24 06:59:33,228 : INFO : storing np array 'vectors_ngrams' to dados/experimento_6/ftt_jur.model.wv.vectors_ngrams.npy\n",
      "2021-02-24 06:59:40,169 : INFO : not storing attribute vectors_norm\n",
      "2021-02-24 06:59:40,170 : INFO : not storing attribute vectors_vocab_norm\n",
      "2021-02-24 06:59:40,171 : INFO : not storing attribute vectors_ngrams_norm\n",
      "2021-02-24 06:59:40,172 : INFO : not storing attribute buckets_word\n",
      "2021-02-24 06:59:40,173 : INFO : storing np array 'vectors_ngrams_lockf' to dados/experimento_6/ftt_jur.model.trainables.vectors_ngrams_lockf.npy\n",
      "2021-02-24 06:59:47,730 : INFO : saved dados/experimento_6/ftt_jur.model\n"
     ]
    },
    {
     "name": "stdout",
     "output_type": "stream",
     "text": [
      "treinando modelo glove\n",
      "mkdir -p build\n",
      "tokenizando corpus\n",
      "$ build/vocab_count -min-count 5 -verbose 2 < ../mestrado/experimentos_mestrado/dados/experimento_6/base_treino_glv.txt > ../mestrado/experimentos_mestrado/dados/experimento_6/glove_vocab.txt\n",
      "criando matriz de coocorrencia\n",
      "$ build/cooccur -memory 4.0 -vocab-file ../mestrado/experimentos_mestrado/dados/experimento_6/glove_vocab.txt -verbose 2 -window-size 15 < ../mestrado/experimentos_mestrado/dados/experimento_6/base_treino_glv.txt > ../mestrado/experimentos_mestrado/dados/experimento_6/glv_concurrence.bin\n",
      "$ build/shuffle -memory 4.0 -verbose 2 < ../mestrado/experimentos_mestrado/dados/experimento_6/glv_concurrence.bin > ../mestrado/experimentos_mestrado/dados/experimento_6/glv_concurrence_shuf.bin\n",
      "$ build/glove -save-file ../mestrado/experimentos_mestrado/dados/experimento_6/glv_jur -threads 8 -input-file ../mestrado/experimentos_mestrado/dados/experimento_6/glv_concurrence_shuf.bin -x-max 10 -iter 15 -vector-size 100 -binary 2 -vocab-file ../mestrado/experimentos_mestrado/dados/experimento_6/glove_vocab.txt -verbose 2\n",
      "\n",
      "BUILDING VOCABULARY\n",
      "Processed 0 tokens.100000 tokens.200000 tokens.300000 tokens.400000 tokens.500000 tokens.600000 tokens.700000 tokens.800000 tokens.900000 tokens.1000000 tokens.1100000 tokens.1200000 tokens.1300000 tokens.1400000 tokens.1500000 tokens.1600000 tokens.1700000 tokens.1800000 tokens.1900000 tokens.2000000 tokens.2100000 tokens.2200000 tokens.2300000 tokens.2400000 tokens.2500000 tokens.2600000 tokens.2700000 tokens.2800000 tokens.2900000 tokens.3000000 tokens.3100000 tokens.3200000 tokens.3300000 tokens.3400000 tokens.3500000 tokens.3600000 tokens.3700000 tokens.3800000 tokens.3900000 tokens.4000000 tokens.4100000 tokens.4200000 tokens.4300000 tokens.4400000 tokens.4500000 tokens.4600000 tokens.4700000 tokens.4800000 tokens.4900000 tokens.5000000 tokens.5100000 tokens.5200000 tokens.5300000 tokens.5400000 tokens.5500000 tokens.5600000 tokens.5700000 tokens.5800000 tokens.5900000 tokens.6000000 tokens.6100000 tokens.6200000 tokens.6300000 tokens.6400000 tokens.6500000 tokens.6600000 tokens.6700000 tokens.6800000 tokens.6900000 tokens.7000000 tokens.7100000 tokens.7200000 tokens.7300000 tokens.7400000 tokens.7500000 tokens.7600000 tokens.7700000 tokens.7800000 tokens.7900000 tokens.8000000 tokens.8100000 tokens.8200000 tokens.8300000 tokens.8400000 tokens.8500000 tokens.8600000 tokens.8700000 tokens.8800000 tokens.8900000 tokens.9000000 tokens.9100000 tokens.9200000 tokens.9300000 tokens.9400000 tokens.9500000 tokens.9600000 tokens.Processed 9669691 tokens.\n",
      "Counted 80801 unique words.\n",
      "Truncating vocabulary at min count 5.\n",
      "Using vocabulary of size 32371.\n",
      "\n",
      "COUNTING COOCCURRENCES\n",
      "window size: 15\n",
      "context: symmetric\n",
      "max product: 13752509\n",
      "overflow length: 38028356\n",
      "Reading vocab from file \"../mestrado/experimentos_mestrado/dados/experimento_6/glove_vocab.txt\"...loaded 32371 words.\n",
      "Building lookup table...table contains 73314385 elements.\n",
      "Processing token: 0100000200000300000400000500000600000700000800000900000100000011000001200000130000014000001500000160000017000001800000190000020000002100000220000023000002400000250000026000002700000280000029000003000000310000032000003300000340000035000003600000370000038000003900000400000041000004200000430000044000004500000460000047000004800000490000050000005100000520000053000005400000550000056000005700000580000059000006000000610000062000006300000640000065000006600000670000068000006900000700000071000007200000730000074000007500000760000077000007800000790000080000008100000820000083000008400000850000086000008700000880000089000009000000910000092000009300000940000095000009600000Processed 9669691 tokens.\n",
      "Writing cooccurrences to disk........2 files in total.\n"
     ]
    },
    {
     "name": "stdout",
     "output_type": "stream",
     "text": [
      "Merging cooccurrence files: processed 0 lines.100000 lines.200000 lines.300000 lines.400000 lines.500000 lines.600000 lines.700000 lines.800000 lines.900000 lines.1000000 lines.1100000 lines.1200000 lines.1300000 lines.1400000 lines.1500000 lines.1600000 lines.1700000 lines.1800000 lines.1900000 lines.2000000 lines.2100000 lines.2200000 lines.2300000 lines.2400000 lines.2500000 lines.2600000 lines.2700000 lines.2800000 lines.2900000 lines.3000000 lines.3100000 lines.3200000 lines.3300000 lines.3400000 lines.3500000 lines.3600000 lines.3700000 lines.3800000 lines.3900000 lines.4000000 lines.4100000 lines.4200000 lines.4300000 lines.4400000 lines.4500000 lines.4600000 lines.4700000 lines.4800000 lines.4900000 lines.5000000 lines.5100000 lines.5200000 lines.5300000 lines.5400000 lines.5500000 lines.5600000 lines.5700000 lines.5800000 lines.5900000 lines.6000000 lines.6100000 lines.6200000 lines.6300000 lines.6400000 lines.6500000 lines.6600000 lines.6700000 lines.6800000 lines.6900000 lines.7000000 lines.7100000 lines.7200000 lines.7300000 lines.7400000 lines.7500000 lines.7600000 lines.7700000 lines.7800000 lines.7900000 lines.8000000 lines.8100000 lines.8200000 lines.8300000 lines.8400000 lines.8500000 lines.8600000 lines.8700000 lines.8800000 lines.8900000 lines.9000000 lines.9100000 lines.9200000 lines.9300000 lines.9400000 lines.9500000 lines.9600000 lines.9700000 lines.9800000 lines.9900000 lines.10000000 lines.10100000 lines.10200000 lines.10300000 lines.10400000 lines.10500000 lines.10600000 lines.10700000 lines.10800000 lines.10900000 lines.11000000 lines.11100000 lines.11200000 lines.11300000 lines.11400000 lines.11500000 lines.11600000 lines.11700000 lines.11800000 lines.11900000 lines.12000000 lines.12100000 lines.12200000 lines.12300000 lines.12400000 lines.12500000 lines.12600000 lines.12700000 lines.12800000 lines.12900000 lines.13000000 lines.13100000 lines.13200000 lines.13300000 lines.13400000 lines.13500000 lines.13600000 lines.13700000 lines.13800000 lines.13900000 lines.14000000 lines.14100000 lines.14200000 lines.14300000 lines.14400000 lines.14500000 lines.14600000 lines.14700000 lines.14800000 lines.14900000 lines.15000000 lines.15100000 lines.15200000 lines.15300000 lines.15400000 lines.15500000 lines.15600000 lines.15700000 lines.15800000 lines.15900000 lines.16000000 lines.16100000 lines.16200000 lines.16300000 lines.16400000 lines.16500000 lines.16600000 lines.16700000 lines.16800000 lines.16900000 lines.17000000 lines.17100000 lines.17200000 lines.17300000 lines.17400000 lines.17500000 lines.17600000 lines.17700000 lines.17800000 lines.17900000 lines.18000000 lines.18100000 lines.18200000 lines.18300000 lines.18400000 lines.18500000 lines.18600000 lines.18700000 lines.18800000 lines.18900000 lines.19000000 lines.19100000 lines.19200000 lines.19300000 lines.19400000 lines.19500000 lines.19600000 lines.19700000 lines.19800000 lines.19900000 lines.20000000 lines.20100000 lines.20200000 lines.20300000 lines.20400000 lines.20500000 lines.20600000 lines.20700000 lines.20800000 lines.20900000 lines.21000000 lines.21100000 lines.21200000 lines.21300000 lines.21400000 lines.21500000 lines.21600000 lines.21700000 lines.21800000 lines.21900000 lines.22000000 lines.22100000 lines.22200000 lines.22300000 lines.22400000 lines.22500000 lines.22600000 lines.22700000 lines.22800000 lines.22900000 lines.23000000 lines.23100000 lines.23200000 lines.23300000 lines.23400000 lines.23500000 lines.23600000 lines.23700000 lines.23800000 lines.23900000 lines.24000000 lines.24100000 lines.24200000 lines.24300000 lines.24400000 lines.24500000 lines.24600000 lines.24700000 lines.24800000 lines.24900000 lines.25000000 lines.25100000 lines.25200000 lines.25300000 lines.25400000 lines.25500000 lines.25600000 lines.25700000 lines.25800000 lines.25900000 lines.26000000 lines.26100000 lines.26200000 lines.26300000 lines.26400000 lines.26500000 lines.26600000 lines.26700000 lines.26800000 lines.26900000 lines.27000000 lines.27100000 lines.27200000 lines.27300000 lines.27400000 lines.27500000 lines.27600000 lines.27700000 lines.27800000 lines.27900000 lines.28000000 lines.28100000 lines.28200000 lines.28300000 lines.28400000 lines.28500000 lines.28600000 lines.28700000 lines.28800000 lines.28900000 lines.29000000 lines.29100000 lines.29200000 lines.29300000 lines.29400000 lines.29500000 lines.29600000 lines.29700000 lines.29800000 lines.29900000 lines.30000000 lines.30100000 lines.30200000 lines.30300000 lines.30400000 lines.30500000 lines.30600000 lines.30700000 lines.30800000 lines.30900000 lines.31000000 lines.31100000 lines.31200000 lines.31300000 lines.31400000 lines.31500000 lines.Merging cooccurrence files: processed 31502415 lines.\n",
      "\n",
      "Using random seed 1614160803\n",
      "SHUFFLING COOCCURRENCES\n",
      "array size: 255013683\n",
      "Shuffling by chunks: processed 0 lines.processed 31502415 lines.\n",
      "Wrote 1 temporary file(s).\n",
      "Merging temp files: processed 0 lines.31502415 lines.Merging temp files: processed 31502415 lines.\n",
      "\n",
      "TRAINING MODEL\n",
      "Read 31502415 lines.\n",
      "Initializing parameters...Using random seed 1614160814\n",
      "done.\n",
      "vector size: 100\n",
      "vocab size: 32371\n",
      "x_max: 10.000000\n",
      "alpha: 0.750000\n",
      "02/24/21 - 07:00.25AM, iter: 001, cost: 0.109307\n",
      "02/24/21 - 07:00.38AM, iter: 002, cost: 0.079471\n",
      "02/24/21 - 07:00.49AM, iter: 003, cost: 0.066662\n",
      "02/24/21 - 07:01.00AM, iter: 004, cost: 0.058984\n",
      "02/24/21 - 07:01.11AM, iter: 005, cost: 0.054559\n",
      "02/24/21 - 07:01.22AM, iter: 006, cost: 0.051929\n",
      "02/24/21 - 07:01.32AM, iter: 007, cost: 0.050187\n",
      "02/24/21 - 07:01.43AM, iter: 008, cost: 0.048951\n",
      "02/24/21 - 07:01.54AM, iter: 009, cost: 0.048016\n",
      "02/24/21 - 07:02.05AM, iter: 010, cost: 0.047282\n",
      "02/24/21 - 07:02.16AM, iter: 011, cost: 0.046683\n",
      "02/24/21 - 07:02.27AM, iter: 012, cost: 0.046186\n",
      "02/24/21 - 07:02.37AM, iter: 013, cost: 0.045758\n",
      "02/24/21 - 07:02.48AM, iter: 014, cost: 0.045381\n",
      "02/24/21 - 07:02.59AM, iter: 015, cost: 0.045060\n",
      "\n",
      "treinamento concluído\n"
     ]
    },
    {
     "name": "stderr",
     "output_type": "stream",
     "text": [
      "2021-02-24 07:03:00,607 : INFO : converting 32372 vectors from dados/experimento_6/glv_jur.txt to C:\\Users\\CRISTI~1\\AppData\\Local\\Temp\\test_word2vec.txt\n",
      "2021-02-24 07:03:00,675 : INFO : loading projection weights from C:\\Users\\CRISTI~1\\AppData\\Local\\Temp\\test_word2vec.txt\n",
      "2021-02-24 07:03:03,515 : INFO : loaded (32372, 100) matrix from C:\\Users\\CRISTI~1\\AppData\\Local\\Temp\\test_word2vec.txt\n",
      "2021-02-24 07:03:03,516 : INFO : loading projection weights from modelos/w2v_skip_nilc.txt\n",
      "2021-02-24 07:04:20,235 : INFO : loaded (929606, 100) matrix from modelos/w2v_skip_nilc.txt\n",
      "2021-02-24 07:04:20,236 : INFO : loading projection weights from modelos/ftt_skip_nilc.txt\n",
      "2021-02-24 07:05:37,030 : INFO : loaded (929605, 100) matrix from modelos/ftt_skip_nilc.txt\n",
      "2021-02-24 07:05:37,031 : INFO : loading projection weights from modelos/glove_nilc.txt\n",
      "2021-02-24 07:06:52,728 : INFO : loaded (929605, 100) matrix from modelos/glove_nilc.txt\n"
     ]
    },
    {
     "name": "stdout",
     "output_type": "stream",
     "text": [
      "recuperando teores da base de teste\n"
     ]
    },
    {
     "data": {
      "application/vnd.jupyter.widget-view+json": {
       "model_id": "f5e42247df444c7fa870b0d840e4b0bc",
       "version_major": 2,
       "version_minor": 0
      },
      "text/plain": [
       "HBox(children=(IntProgress(value=0, max=7006), HTML(value='')))"
      ]
     },
     "metadata": {},
     "output_type": "display_data"
    },
    {
     "name": "stdout",
     "output_type": "stream",
     "text": [
      "\n",
      "criando representações word2vec geral\n"
     ]
    },
    {
     "data": {
      "application/vnd.jupyter.widget-view+json": {
       "model_id": "6ea5350761d1451aa5a9db618c641ff4",
       "version_major": 2,
       "version_minor": 0
      },
      "text/plain": [
       "HBox(children=(IntProgress(value=0, max=7006), HTML(value='')))"
      ]
     },
     "metadata": {},
     "output_type": "display_data"
    },
    {
     "name": "stdout",
     "output_type": "stream",
     "text": [
      "\n",
      "criando representações fasttext geral\n"
     ]
    },
    {
     "data": {
      "application/vnd.jupyter.widget-view+json": {
       "model_id": "90abbc857270499caf36ee2e29bc58a2",
       "version_major": 2,
       "version_minor": 0
      },
      "text/plain": [
       "HBox(children=(IntProgress(value=0, max=7006), HTML(value='')))"
      ]
     },
     "metadata": {},
     "output_type": "display_data"
    },
    {
     "name": "stdout",
     "output_type": "stream",
     "text": [
      "\n",
      "criando representações glove geral\n"
     ]
    },
    {
     "data": {
      "application/vnd.jupyter.widget-view+json": {
       "model_id": "88f0386755d54e9195ed5fe20f95244b",
       "version_major": 2,
       "version_minor": 0
      },
      "text/plain": [
       "HBox(children=(IntProgress(value=0, max=7006), HTML(value='')))"
      ]
     },
     "metadata": {},
     "output_type": "display_data"
    },
    {
     "name": "stdout",
     "output_type": "stream",
     "text": [
      "\n",
      "criando representações word2vec juridico\n"
     ]
    },
    {
     "data": {
      "application/vnd.jupyter.widget-view+json": {
       "model_id": "077ab67445dc467b88516e196ecd31a4",
       "version_major": 2,
       "version_minor": 0
      },
      "text/plain": [
       "HBox(children=(IntProgress(value=0, max=7006), HTML(value='')))"
      ]
     },
     "metadata": {},
     "output_type": "display_data"
    },
    {
     "name": "stdout",
     "output_type": "stream",
     "text": [
      "\n",
      "criando representações fasttext juridico\n"
     ]
    },
    {
     "data": {
      "application/vnd.jupyter.widget-view+json": {
       "model_id": "5f9fd9762741481cad8f06c5c9326773",
       "version_major": 2,
       "version_minor": 0
      },
      "text/plain": [
       "HBox(children=(IntProgress(value=0, max=7006), HTML(value='')))"
      ]
     },
     "metadata": {},
     "output_type": "display_data"
    },
    {
     "name": "stdout",
     "output_type": "stream",
     "text": [
      "\n",
      "criando representações glove juridico\n"
     ]
    },
    {
     "data": {
      "application/vnd.jupyter.widget-view+json": {
       "model_id": "dcd8aa121c1c41d393cdaba5e1f6e298",
       "version_major": 2,
       "version_minor": 0
      },
      "text/plain": [
       "HBox(children=(IntProgress(value=0, max=7006), HTML(value='')))"
      ]
     },
     "metadata": {},
     "output_type": "display_data"
    },
    {
     "name": "stdout",
     "output_type": "stream",
     "text": [
      "\n",
      "----------- EXPERIMENTO 6 CONCLUIDO -----------\n",
      "tempo do experimento: 18.365681612491606 minutos\n",
      "----------------------- EXPERIMENTO 7 -----------------------\n",
      "criando base de treino para o experimento 7\n"
     ]
    },
    {
     "data": {
      "application/vnd.jupyter.widget-view+json": {
       "model_id": "df41781cf09d4e9ba14d5c2bcd562a6c",
       "version_major": 2,
       "version_minor": 0
      },
      "text/plain": [
       "HBox(children=(IntProgress(value=0, max=28021), HTML(value='')))"
      ]
     },
     "metadata": {},
     "output_type": "display_data"
    },
    {
     "name": "stdout",
     "output_type": "stream",
     "text": [
      "\n",
      "16076678 tokens copiados com sucesso\n",
      "preparando documentos para extração do vocabulário:\n"
     ]
    },
    {
     "data": {
      "application/vnd.jupyter.widget-view+json": {
       "model_id": "e6c67cd4aeee4dba86622f815364df55",
       "version_major": 2,
       "version_minor": 0
      },
      "text/plain": [
       "HBox(children=(IntProgress(value=0, max=28021), HTML(value='')))"
      ]
     },
     "metadata": {},
     "output_type": "display_data"
    },
    {
     "name": "stdout",
     "output_type": "stream",
     "text": [
      "\n",
      "extraindo termos com base no ICA\n"
     ]
    },
    {
     "data": {
      "application/vnd.jupyter.widget-view+json": {
       "model_id": "db1bdf3453574cb0a4fa20a6d9824cf9",
       "version_major": 2,
       "version_minor": 0
      },
      "text/plain": [
       "HBox(children=(IntProgress(value=0, max=125), HTML(value='')))"
      ]
     },
     "metadata": {},
     "output_type": "display_data"
    },
    {
     "name": "stdout",
     "output_type": "stream",
     "text": [
      "\n",
      "-processando strings do corpus\n",
      "-treinando vetorizador\n",
      "-ICA processado\n",
      "extraindo termos com base na frequência - geralmente leva menos de 4 minutos\n",
      "extraindo termos do tesauro\n",
      "extração de vocabulário concluída!\n",
      "treinando modelo word2vec\n"
     ]
    },
    {
     "name": "stderr",
     "output_type": "stream",
     "text": [
      "2021-02-24 07:11:43,868 : INFO : collecting all words and their counts\n",
      "2021-02-24 07:11:43,885 : INFO : PROGRESS: at sentence #0, processed 0 words, keeping 0 word types\n",
      "2021-02-24 07:11:43,950 : INFO : PROGRESS: at sentence #10000, processed 246133 words, keeping 14522 word types\n",
      "2021-02-24 07:11:44,014 : INFO : PROGRESS: at sentence #20000, processed 487049 words, keeping 19445 word types\n",
      "2021-02-24 07:11:44,081 : INFO : PROGRESS: at sentence #30000, processed 727717 words, keeping 23167 word types\n",
      "2021-02-24 07:11:44,146 : INFO : PROGRESS: at sentence #40000, processed 966589 words, keeping 26361 word types\n",
      "2021-02-24 07:11:44,213 : INFO : PROGRESS: at sentence #50000, processed 1212782 words, keeping 29157 word types\n",
      "2021-02-24 07:11:44,278 : INFO : PROGRESS: at sentence #60000, processed 1450548 words, keeping 31331 word types\n",
      "2021-02-24 07:11:44,342 : INFO : PROGRESS: at sentence #70000, processed 1685230 words, keeping 33106 word types\n",
      "2021-02-24 07:11:44,408 : INFO : PROGRESS: at sentence #80000, processed 1927676 words, keeping 35005 word types\n",
      "2021-02-24 07:11:44,475 : INFO : PROGRESS: at sentence #90000, processed 2176559 words, keeping 36573 word types\n",
      "2021-02-24 07:11:44,542 : INFO : PROGRESS: at sentence #100000, processed 2420944 words, keeping 38219 word types\n",
      "2021-02-24 07:11:44,606 : INFO : PROGRESS: at sentence #110000, processed 2659795 words, keeping 39699 word types\n",
      "2021-02-24 07:11:44,673 : INFO : PROGRESS: at sentence #120000, processed 2899814 words, keeping 41030 word types\n",
      "2021-02-24 07:11:44,742 : INFO : PROGRESS: at sentence #130000, processed 3144523 words, keeping 42547 word types\n",
      "2021-02-24 07:11:44,807 : INFO : PROGRESS: at sentence #140000, processed 3376293 words, keeping 43653 word types\n",
      "2021-02-24 07:11:44,876 : INFO : PROGRESS: at sentence #150000, processed 3621474 words, keeping 44989 word types\n",
      "2021-02-24 07:11:44,943 : INFO : PROGRESS: at sentence #160000, processed 3859530 words, keeping 46152 word types\n",
      "2021-02-24 07:11:45,010 : INFO : PROGRESS: at sentence #170000, processed 4107174 words, keeping 47227 word types\n",
      "2021-02-24 07:11:45,078 : INFO : PROGRESS: at sentence #180000, processed 4356780 words, keeping 48392 word types\n",
      "2021-02-24 07:11:45,145 : INFO : PROGRESS: at sentence #190000, processed 4604741 words, keeping 49512 word types\n",
      "2021-02-24 07:11:45,211 : INFO : PROGRESS: at sentence #200000, processed 4848520 words, keeping 50413 word types\n",
      "2021-02-24 07:11:45,275 : INFO : PROGRESS: at sentence #210000, processed 5086869 words, keeping 51493 word types\n",
      "2021-02-24 07:11:45,341 : INFO : PROGRESS: at sentence #220000, processed 5332228 words, keeping 52498 word types\n",
      "2021-02-24 07:11:45,409 : INFO : PROGRESS: at sentence #230000, processed 5580243 words, keeping 53270 word types\n",
      "2021-02-24 07:11:45,476 : INFO : PROGRESS: at sentence #240000, processed 5829655 words, keeping 54183 word types\n",
      "2021-02-24 07:11:45,542 : INFO : PROGRESS: at sentence #250000, processed 6076509 words, keeping 55084 word types\n",
      "2021-02-24 07:11:45,610 : INFO : PROGRESS: at sentence #260000, processed 6325395 words, keeping 55898 word types\n",
      "2021-02-24 07:11:45,677 : INFO : PROGRESS: at sentence #270000, processed 6562398 words, keeping 56721 word types\n",
      "2021-02-24 07:11:45,743 : INFO : PROGRESS: at sentence #280000, processed 6809519 words, keeping 57656 word types\n",
      "2021-02-24 07:11:45,811 : INFO : PROGRESS: at sentence #290000, processed 7050835 words, keeping 58534 word types\n",
      "2021-02-24 07:11:45,879 : INFO : PROGRESS: at sentence #300000, processed 7297639 words, keeping 59284 word types\n",
      "2021-02-24 07:11:45,944 : INFO : PROGRESS: at sentence #310000, processed 7535457 words, keeping 60036 word types\n",
      "2021-02-24 07:11:46,011 : INFO : PROGRESS: at sentence #320000, processed 7778241 words, keeping 60867 word types\n",
      "2021-02-24 07:11:46,078 : INFO : PROGRESS: at sentence #330000, processed 8019902 words, keeping 61608 word types\n",
      "2021-02-24 07:11:46,146 : INFO : PROGRESS: at sentence #340000, processed 8262181 words, keeping 62349 word types\n",
      "2021-02-24 07:11:46,216 : INFO : PROGRESS: at sentence #350000, processed 8506513 words, keeping 63166 word types\n",
      "2021-02-24 07:11:46,282 : INFO : PROGRESS: at sentence #360000, processed 8752033 words, keeping 63907 word types\n",
      "2021-02-24 07:11:46,349 : INFO : PROGRESS: at sentence #370000, processed 8996465 words, keeping 64559 word types\n",
      "2021-02-24 07:11:46,416 : INFO : PROGRESS: at sentence #380000, processed 9241333 words, keeping 65289 word types\n",
      "2021-02-24 07:11:46,481 : INFO : PROGRESS: at sentence #390000, processed 9483258 words, keeping 66025 word types\n",
      "2021-02-24 07:11:46,549 : INFO : PROGRESS: at sentence #400000, processed 9728658 words, keeping 66622 word types\n",
      "2021-02-24 07:11:46,615 : INFO : PROGRESS: at sentence #410000, processed 9966508 words, keeping 67324 word types\n",
      "2021-02-24 07:11:46,683 : INFO : PROGRESS: at sentence #420000, processed 10209498 words, keeping 68061 word types\n",
      "2021-02-24 07:11:46,749 : INFO : PROGRESS: at sentence #430000, processed 10450520 words, keeping 68799 word types\n",
      "2021-02-24 07:11:46,822 : INFO : PROGRESS: at sentence #440000, processed 10698638 words, keeping 69520 word types\n",
      "2021-02-24 07:11:46,885 : INFO : PROGRESS: at sentence #450000, processed 10934552 words, keeping 70151 word types\n",
      "2021-02-24 07:11:46,953 : INFO : PROGRESS: at sentence #460000, processed 11181399 words, keeping 70863 word types\n",
      "2021-02-24 07:11:47,019 : INFO : PROGRESS: at sentence #470000, processed 11423577 words, keeping 71439 word types\n",
      "2021-02-24 07:11:47,088 : INFO : PROGRESS: at sentence #480000, processed 11671424 words, keeping 72087 word types\n",
      "2021-02-24 07:11:47,154 : INFO : PROGRESS: at sentence #490000, processed 11912979 words, keeping 72709 word types\n",
      "2021-02-24 07:11:47,219 : INFO : PROGRESS: at sentence #500000, processed 12156196 words, keeping 73347 word types\n",
      "2021-02-24 07:11:47,286 : INFO : PROGRESS: at sentence #510000, processed 12400175 words, keeping 73960 word types\n",
      "2021-02-24 07:11:47,352 : INFO : PROGRESS: at sentence #520000, processed 12641639 words, keeping 74719 word types\n",
      "2021-02-24 07:11:47,418 : INFO : PROGRESS: at sentence #530000, processed 12880204 words, keeping 75236 word types\n",
      "2021-02-24 07:11:47,484 : INFO : PROGRESS: at sentence #540000, processed 13117695 words, keeping 75769 word types\n",
      "2021-02-24 07:11:47,552 : INFO : PROGRESS: at sentence #550000, processed 13360289 words, keeping 76333 word types\n",
      "2021-02-24 07:11:47,616 : INFO : PROGRESS: at sentence #560000, processed 13597411 words, keeping 76933 word types\n",
      "2021-02-24 07:11:47,682 : INFO : PROGRESS: at sentence #570000, processed 13838927 words, keeping 77454 word types\n",
      "2021-02-24 07:11:47,749 : INFO : PROGRESS: at sentence #580000, processed 14080309 words, keeping 78046 word types\n",
      "2021-02-24 07:11:47,815 : INFO : PROGRESS: at sentence #590000, processed 14306631 words, keeping 78579 word types\n",
      "2021-02-24 07:11:47,885 : INFO : PROGRESS: at sentence #600000, processed 14556244 words, keeping 79226 word types\n",
      "2021-02-24 07:11:47,954 : INFO : PROGRESS: at sentence #610000, processed 14799398 words, keeping 79838 word types\n",
      "2021-02-24 07:11:48,021 : INFO : PROGRESS: at sentence #620000, processed 15043359 words, keeping 80339 word types\n",
      "2021-02-24 07:11:48,088 : INFO : PROGRESS: at sentence #630000, processed 15281412 words, keeping 80976 word types\n",
      "2021-02-24 07:11:48,127 : INFO : collected 81333 word types from a corpus of 15421382 raw words and 635767 sentences\n",
      "2021-02-24 07:11:48,128 : INFO : Loading a fresh vocabulary\n",
      "2021-02-24 07:11:48,179 : INFO : effective_min_count=5 retains 32626 unique words (40% of original 81333, drops 48707)\n",
      "2021-02-24 07:11:48,180 : INFO : effective_min_count=5 leaves 15339561 word corpus (99% of original 15421382, drops 81821)\n",
      "2021-02-24 07:11:48,263 : INFO : deleting the raw counts dictionary of 81333 items\n",
      "2021-02-24 07:11:48,266 : INFO : sample=1e-05 downsamples 3223 most-common words\n",
      "2021-02-24 07:11:48,266 : INFO : downsampling leaves estimated 3707479 word corpus (24.2% of prior 15339561)\n",
      "2021-02-24 07:11:48,287 : INFO : constructing a huffman tree from 32626 words\n",
      "2021-02-24 07:11:49,036 : INFO : built huffman tree with maximum node depth 22\n"
     ]
    },
    {
     "name": "stderr",
     "output_type": "stream",
     "text": [
      "2021-02-24 07:11:49,086 : INFO : estimated required memory for 32626 words and 100 dimensions: 61989400 bytes\n",
      "2021-02-24 07:11:49,088 : INFO : resetting layer weights\n",
      "2021-02-24 07:11:49,404 : INFO : training model with 12 workers on 32626 vocabulary and 100 features, using sg=1 hs=1 sample=1e-05 negative=5 window=5\n",
      "2021-02-24 07:11:50,411 : INFO : EPOCH 1 - PROGRESS: at 9.22% examples, 342254 words/s, in_qsize 0, out_qsize 0\n",
      "2021-02-24 07:11:51,414 : INFO : EPOCH 1 - PROGRESS: at 18.57% examples, 341875 words/s, in_qsize 23, out_qsize 0\n",
      "2021-02-24 07:11:52,432 : INFO : EPOCH 1 - PROGRESS: at 27.87% examples, 341668 words/s, in_qsize 2, out_qsize 0\n",
      "2021-02-24 07:11:53,442 : INFO : EPOCH 1 - PROGRESS: at 36.73% examples, 338086 words/s, in_qsize 0, out_qsize 0\n",
      "2021-02-24 07:11:54,447 : INFO : EPOCH 1 - PROGRESS: at 45.45% examples, 335692 words/s, in_qsize 0, out_qsize 0\n",
      "2021-02-24 07:11:55,456 : INFO : EPOCH 1 - PROGRESS: at 54.88% examples, 337092 words/s, in_qsize 0, out_qsize 0\n",
      "2021-02-24 07:11:56,458 : INFO : EPOCH 1 - PROGRESS: at 63.56% examples, 335213 words/s, in_qsize 0, out_qsize 0\n",
      "2021-02-24 07:11:57,473 : INFO : EPOCH 1 - PROGRESS: at 72.18% examples, 332753 words/s, in_qsize 16, out_qsize 0\n",
      "2021-02-24 07:11:58,491 : INFO : EPOCH 1 - PROGRESS: at 80.79% examples, 330551 words/s, in_qsize 6, out_qsize 0\n",
      "2021-02-24 07:11:59,499 : INFO : EPOCH 1 - PROGRESS: at 90.24% examples, 331702 words/s, in_qsize 0, out_qsize 0\n",
      "2021-02-24 07:12:00,522 : INFO : EPOCH 1 - PROGRESS: at 98.45% examples, 328654 words/s, in_qsize 21, out_qsize 2\n",
      "2021-02-24 07:12:00,592 : INFO : worker thread finished; awaiting finish of 11 more threads\n",
      "2021-02-24 07:12:00,598 : INFO : worker thread finished; awaiting finish of 10 more threads\n",
      "2021-02-24 07:12:00,599 : INFO : worker thread finished; awaiting finish of 9 more threads\n",
      "2021-02-24 07:12:00,604 : INFO : worker thread finished; awaiting finish of 8 more threads\n",
      "2021-02-24 07:12:00,608 : INFO : worker thread finished; awaiting finish of 7 more threads\n",
      "2021-02-24 07:12:00,617 : INFO : worker thread finished; awaiting finish of 6 more threads\n",
      "2021-02-24 07:12:00,620 : INFO : worker thread finished; awaiting finish of 5 more threads\n",
      "2021-02-24 07:12:00,622 : INFO : worker thread finished; awaiting finish of 4 more threads\n",
      "2021-02-24 07:12:00,624 : INFO : worker thread finished; awaiting finish of 3 more threads\n",
      "2021-02-24 07:12:00,630 : INFO : worker thread finished; awaiting finish of 2 more threads\n",
      "2021-02-24 07:12:00,636 : INFO : worker thread finished; awaiting finish of 1 more threads\n",
      "2021-02-24 07:12:00,638 : INFO : worker thread finished; awaiting finish of 0 more threads\n",
      "2021-02-24 07:12:00,639 : INFO : EPOCH - 1 : training on 15421382 raw words (3708303 effective words) took 11.2s, 330232 effective words/s\n",
      "2021-02-24 07:12:01,666 : INFO : EPOCH 2 - PROGRESS: at 8.96% examples, 326103 words/s, in_qsize 1, out_qsize 1\n",
      "2021-02-24 07:12:02,678 : INFO : EPOCH 2 - PROGRESS: at 17.45% examples, 317101 words/s, in_qsize 0, out_qsize 2\n",
      "2021-02-24 07:12:03,678 : INFO : EPOCH 2 - PROGRESS: at 27.06% examples, 329736 words/s, in_qsize 0, out_qsize 0\n",
      "2021-02-24 07:12:04,683 : INFO : EPOCH 2 - PROGRESS: at 35.08% examples, 322062 words/s, in_qsize 20, out_qsize 0\n",
      "2021-02-24 07:12:05,686 : INFO : EPOCH 2 - PROGRESS: at 44.66% examples, 329618 words/s, in_qsize 0, out_qsize 1\n",
      "2021-02-24 07:12:06,697 : INFO : EPOCH 2 - PROGRESS: at 52.63% examples, 322821 words/s, in_qsize 0, out_qsize 1\n",
      "2021-02-24 07:12:07,707 : INFO : EPOCH 2 - PROGRESS: at 61.71% examples, 324621 words/s, in_qsize 2, out_qsize 1\n",
      "2021-02-24 07:12:08,706 : INFO : EPOCH 2 - PROGRESS: at 70.45% examples, 324503 words/s, in_qsize 0, out_qsize 0\n",
      "2021-02-24 07:12:09,711 : INFO : EPOCH 2 - PROGRESS: at 79.77% examples, 326681 words/s, in_qsize 0, out_qsize 0\n",
      "2021-02-24 07:12:10,716 : INFO : EPOCH 2 - PROGRESS: at 87.43% examples, 321908 words/s, in_qsize 24, out_qsize 1\n",
      "2021-02-24 07:12:11,716 : INFO : EPOCH 2 - PROGRESS: at 96.63% examples, 323587 words/s, in_qsize 15, out_qsize 1\n",
      "2021-02-24 07:12:12,044 : INFO : worker thread finished; awaiting finish of 11 more threads\n",
      "2021-02-24 07:12:12,054 : INFO : worker thread finished; awaiting finish of 10 more threads\n",
      "2021-02-24 07:12:12,061 : INFO : worker thread finished; awaiting finish of 9 more threads\n",
      "2021-02-24 07:12:12,066 : INFO : worker thread finished; awaiting finish of 8 more threads\n",
      "2021-02-24 07:12:12,069 : INFO : worker thread finished; awaiting finish of 7 more threads\n",
      "2021-02-24 07:12:12,072 : INFO : worker thread finished; awaiting finish of 6 more threads\n",
      "2021-02-24 07:12:12,074 : INFO : worker thread finished; awaiting finish of 5 more threads\n",
      "2021-02-24 07:12:12,078 : INFO : worker thread finished; awaiting finish of 4 more threads\n",
      "2021-02-24 07:12:12,081 : INFO : worker thread finished; awaiting finish of 3 more threads\n",
      "2021-02-24 07:12:12,086 : INFO : worker thread finished; awaiting finish of 2 more threads\n",
      "2021-02-24 07:12:12,088 : INFO : worker thread finished; awaiting finish of 1 more threads\n",
      "2021-02-24 07:12:12,094 : INFO : worker thread finished; awaiting finish of 0 more threads\n",
      "2021-02-24 07:12:12,095 : INFO : EPOCH - 2 : training on 15421382 raw words (3706890 effective words) took 11.5s, 323685 effective words/s\n",
      "2021-02-24 07:12:13,104 : INFO : EPOCH 3 - PROGRESS: at 7.96% examples, 296567 words/s, in_qsize 20, out_qsize 1\n",
      "2021-02-24 07:12:14,119 : INFO : EPOCH 3 - PROGRESS: at 16.87% examples, 309271 words/s, in_qsize 1, out_qsize 1\n",
      "2021-02-24 07:12:15,126 : INFO : EPOCH 3 - PROGRESS: at 26.26% examples, 321047 words/s, in_qsize 0, out_qsize 1\n",
      "2021-02-24 07:12:16,127 : INFO : EPOCH 3 - PROGRESS: at 34.18% examples, 315201 words/s, in_qsize 0, out_qsize 1\n",
      "2021-02-24 07:12:17,137 : INFO : EPOCH 3 - PROGRESS: at 42.98% examples, 317866 words/s, in_qsize 23, out_qsize 0\n",
      "2021-02-24 07:12:18,145 : INFO : EPOCH 3 - PROGRESS: at 51.79% examples, 318634 words/s, in_qsize 19, out_qsize 3\n",
      "2021-02-24 07:12:19,153 : INFO : EPOCH 3 - PROGRESS: at 60.60% examples, 319589 words/s, in_qsize 0, out_qsize 0\n",
      "2021-02-24 07:12:20,154 : INFO : EPOCH 3 - PROGRESS: at 68.70% examples, 317149 words/s, in_qsize 0, out_qsize 0\n",
      "2021-02-24 07:12:21,156 : INFO : EPOCH 3 - PROGRESS: at 78.29% examples, 321477 words/s, in_qsize 0, out_qsize 0\n",
      "2021-02-24 07:12:22,177 : INFO : EPOCH 3 - PROGRESS: at 86.39% examples, 318144 words/s, in_qsize 22, out_qsize 1\n",
      "2021-02-24 07:12:23,185 : INFO : EPOCH 3 - PROGRESS: at 96.39% examples, 322612 words/s, in_qsize 2, out_qsize 0\n",
      "2021-02-24 07:12:23,567 : INFO : worker thread finished; awaiting finish of 11 more threads\n",
      "2021-02-24 07:12:23,573 : INFO : worker thread finished; awaiting finish of 10 more threads\n",
      "2021-02-24 07:12:23,576 : INFO : worker thread finished; awaiting finish of 9 more threads\n",
      "2021-02-24 07:12:23,579 : INFO : worker thread finished; awaiting finish of 8 more threads\n",
      "2021-02-24 07:12:23,582 : INFO : worker thread finished; awaiting finish of 7 more threads\n",
      "2021-02-24 07:12:23,587 : INFO : worker thread finished; awaiting finish of 6 more threads\n",
      "2021-02-24 07:12:23,591 : INFO : worker thread finished; awaiting finish of 5 more threads\n",
      "2021-02-24 07:12:23,595 : INFO : worker thread finished; awaiting finish of 4 more threads\n",
      "2021-02-24 07:12:23,597 : INFO : worker thread finished; awaiting finish of 3 more threads\n",
      "2021-02-24 07:12:23,599 : INFO : worker thread finished; awaiting finish of 2 more threads\n",
      "2021-02-24 07:12:23,600 : INFO : worker thread finished; awaiting finish of 1 more threads\n",
      "2021-02-24 07:12:23,612 : INFO : worker thread finished; awaiting finish of 0 more threads\n",
      "2021-02-24 07:12:23,613 : INFO : EPOCH - 3 : training on 15421382 raw words (3709833 effective words) took 11.5s, 322223 effective words/s\n",
      "2021-02-24 07:12:24,619 : INFO : EPOCH 4 - PROGRESS: at 8.09% examples, 302035 words/s, in_qsize 17, out_qsize 0\n",
      "2021-02-24 07:12:25,631 : INFO : EPOCH 4 - PROGRESS: at 17.45% examples, 320817 words/s, in_qsize 0, out_qsize 1\n",
      "2021-02-24 07:12:26,635 : INFO : EPOCH 4 - PROGRESS: at 25.87% examples, 317228 words/s, in_qsize 0, out_qsize 1\n",
      "2021-02-24 07:12:27,642 : INFO : EPOCH 4 - PROGRESS: at 34.45% examples, 317652 words/s, in_qsize 23, out_qsize 0\n"
     ]
    },
    {
     "name": "stderr",
     "output_type": "stream",
     "text": [
      "2021-02-24 07:12:28,650 : INFO : EPOCH 4 - PROGRESS: at 43.57% examples, 322367 words/s, in_qsize 4, out_qsize 0\n",
      "2021-02-24 07:12:29,669 : INFO : EPOCH 4 - PROGRESS: at 52.18% examples, 320523 words/s, in_qsize 0, out_qsize 0\n",
      "2021-02-24 07:12:30,679 : INFO : EPOCH 4 - PROGRESS: at 60.49% examples, 318418 words/s, in_qsize 15, out_qsize 1\n",
      "2021-02-24 07:12:31,682 : INFO : EPOCH 4 - PROGRESS: at 69.51% examples, 320516 words/s, in_qsize 7, out_qsize 0\n",
      "2021-02-24 07:12:32,683 : INFO : EPOCH 4 - PROGRESS: at 78.87% examples, 323313 words/s, in_qsize 0, out_qsize 0\n",
      "2021-02-24 07:12:33,698 : INFO : EPOCH 4 - PROGRESS: at 87.62% examples, 322536 words/s, in_qsize 23, out_qsize 0\n",
      "2021-02-24 07:12:34,698 : INFO : EPOCH 4 - PROGRESS: at 97.28% examples, 325570 words/s, in_qsize 0, out_qsize 0\n",
      "2021-02-24 07:12:34,988 : INFO : worker thread finished; awaiting finish of 11 more threads\n",
      "2021-02-24 07:12:34,996 : INFO : worker thread finished; awaiting finish of 10 more threads\n",
      "2021-02-24 07:12:35,004 : INFO : worker thread finished; awaiting finish of 9 more threads\n",
      "2021-02-24 07:12:35,010 : INFO : worker thread finished; awaiting finish of 8 more threads\n",
      "2021-02-24 07:12:35,012 : INFO : worker thread finished; awaiting finish of 7 more threads\n",
      "2021-02-24 07:12:35,014 : INFO : worker thread finished; awaiting finish of 6 more threads\n",
      "2021-02-24 07:12:35,016 : INFO : worker thread finished; awaiting finish of 5 more threads\n",
      "2021-02-24 07:12:35,019 : INFO : worker thread finished; awaiting finish of 4 more threads\n",
      "2021-02-24 07:12:35,020 : INFO : worker thread finished; awaiting finish of 3 more threads\n",
      "2021-02-24 07:12:35,022 : INFO : worker thread finished; awaiting finish of 2 more threads\n",
      "2021-02-24 07:12:35,023 : INFO : worker thread finished; awaiting finish of 1 more threads\n",
      "2021-02-24 07:12:35,031 : INFO : worker thread finished; awaiting finish of 0 more threads\n",
      "2021-02-24 07:12:35,032 : INFO : EPOCH - 4 : training on 15421382 raw words (3707832 effective words) took 11.4s, 324826 effective words/s\n",
      "2021-02-24 07:12:36,038 : INFO : EPOCH 5 - PROGRESS: at 8.55% examples, 318907 words/s, in_qsize 14, out_qsize 0\n",
      "2021-02-24 07:12:37,053 : INFO : EPOCH 5 - PROGRESS: at 17.86% examples, 327149 words/s, in_qsize 16, out_qsize 2\n",
      "2021-02-24 07:12:38,081 : INFO : EPOCH 5 - PROGRESS: at 26.82% examples, 325638 words/s, in_qsize 21, out_qsize 2\n",
      "2021-02-24 07:12:39,086 : INFO : EPOCH 5 - PROGRESS: at 35.77% examples, 328033 words/s, in_qsize 6, out_qsize 1\n",
      "2021-02-24 07:12:40,088 : INFO : EPOCH 5 - PROGRESS: at 45.13% examples, 332318 words/s, in_qsize 1, out_qsize 0\n",
      "2021-02-24 07:12:41,103 : INFO : EPOCH 5 - PROGRESS: at 54.23% examples, 331902 words/s, in_qsize 0, out_qsize 1\n",
      "2021-02-24 07:12:42,124 : INFO : EPOCH 5 - PROGRESS: at 62.86% examples, 329438 words/s, in_qsize 22, out_qsize 0\n",
      "2021-02-24 07:12:43,126 : INFO : EPOCH 5 - PROGRESS: at 72.18% examples, 331637 words/s, in_qsize 7, out_qsize 1\n",
      "2021-02-24 07:12:44,126 : INFO : EPOCH 5 - PROGRESS: at 81.79% examples, 334011 words/s, in_qsize 0, out_qsize 0\n",
      "2021-02-24 07:12:45,131 : INFO : EPOCH 5 - PROGRESS: at 90.42% examples, 332244 words/s, in_qsize 12, out_qsize 0\n",
      "2021-02-24 07:12:46,130 : INFO : worker thread finished; awaiting finish of 11 more threads\n",
      "2021-02-24 07:12:46,132 : INFO : EPOCH 5 - PROGRESS: at 99.38% examples, 332072 words/s, in_qsize 8, out_qsize 5\n",
      "2021-02-24 07:12:46,133 : INFO : worker thread finished; awaiting finish of 10 more threads\n",
      "2021-02-24 07:12:46,134 : INFO : worker thread finished; awaiting finish of 9 more threads\n",
      "2021-02-24 07:12:46,136 : INFO : worker thread finished; awaiting finish of 8 more threads\n",
      "2021-02-24 07:12:46,144 : INFO : worker thread finished; awaiting finish of 7 more threads\n",
      "2021-02-24 07:12:46,149 : INFO : worker thread finished; awaiting finish of 6 more threads\n",
      "2021-02-24 07:12:46,152 : INFO : worker thread finished; awaiting finish of 5 more threads\n",
      "2021-02-24 07:12:46,155 : INFO : worker thread finished; awaiting finish of 4 more threads\n",
      "2021-02-24 07:12:46,156 : INFO : worker thread finished; awaiting finish of 3 more threads\n",
      "2021-02-24 07:12:46,158 : INFO : worker thread finished; awaiting finish of 2 more threads\n",
      "2021-02-24 07:12:46,159 : INFO : worker thread finished; awaiting finish of 1 more threads\n",
      "2021-02-24 07:12:46,170 : INFO : worker thread finished; awaiting finish of 0 more threads\n",
      "2021-02-24 07:12:46,171 : INFO : EPOCH - 5 : training on 15421382 raw words (3707200 effective words) took 11.1s, 332960 effective words/s\n",
      "2021-02-24 07:12:47,176 : INFO : EPOCH 6 - PROGRESS: at 8.77% examples, 326206 words/s, in_qsize 0, out_qsize 0\n",
      "2021-02-24 07:12:48,187 : INFO : EPOCH 6 - PROGRESS: at 17.85% examples, 327664 words/s, in_qsize 11, out_qsize 0\n",
      "2021-02-24 07:12:49,200 : INFO : EPOCH 6 - PROGRESS: at 27.44% examples, 335742 words/s, in_qsize 3, out_qsize 0\n",
      "2021-02-24 07:12:50,208 : INFO : EPOCH 6 - PROGRESS: at 35.14% examples, 323324 words/s, in_qsize 17, out_qsize 4\n",
      "2021-02-24 07:12:51,218 : INFO : EPOCH 6 - PROGRESS: at 44.21% examples, 326469 words/s, in_qsize 18, out_qsize 0\n",
      "2021-02-24 07:12:52,218 : INFO : EPOCH 6 - PROGRESS: at 53.61% examples, 329471 words/s, in_qsize 5, out_qsize 1\n",
      "2021-02-24 07:12:53,226 : INFO : EPOCH 6 - PROGRESS: at 62.12% examples, 327397 words/s, in_qsize 24, out_qsize 0\n",
      "2021-02-24 07:12:54,244 : INFO : EPOCH 6 - PROGRESS: at 71.80% examples, 330743 words/s, in_qsize 0, out_qsize 2\n",
      "2021-02-24 07:12:55,245 : INFO : EPOCH 6 - PROGRESS: at 80.99% examples, 331813 words/s, in_qsize 0, out_qsize 1\n",
      "2021-02-24 07:12:56,252 : INFO : EPOCH 6 - PROGRESS: at 90.30% examples, 332501 words/s, in_qsize 0, out_qsize 1\n",
      "2021-02-24 07:12:57,270 : INFO : EPOCH 6 - PROGRESS: at 98.99% examples, 330963 words/s, in_qsize 1, out_qsize 1\n",
      "2021-02-24 07:12:57,291 : INFO : worker thread finished; awaiting finish of 11 more threads\n",
      "2021-02-24 07:12:57,302 : INFO : worker thread finished; awaiting finish of 10 more threads\n",
      "2021-02-24 07:12:57,303 : INFO : worker thread finished; awaiting finish of 9 more threads\n",
      "2021-02-24 07:12:57,320 : INFO : worker thread finished; awaiting finish of 8 more threads\n",
      "2021-02-24 07:12:57,322 : INFO : worker thread finished; awaiting finish of 7 more threads\n",
      "2021-02-24 07:12:57,326 : INFO : worker thread finished; awaiting finish of 6 more threads\n",
      "2021-02-24 07:12:57,328 : INFO : worker thread finished; awaiting finish of 5 more threads\n",
      "2021-02-24 07:12:57,331 : INFO : worker thread finished; awaiting finish of 4 more threads\n",
      "2021-02-24 07:12:57,335 : INFO : worker thread finished; awaiting finish of 3 more threads\n",
      "2021-02-24 07:12:57,336 : INFO : worker thread finished; awaiting finish of 2 more threads\n",
      "2021-02-24 07:12:57,339 : INFO : worker thread finished; awaiting finish of 1 more threads\n",
      "2021-02-24 07:12:57,347 : INFO : worker thread finished; awaiting finish of 0 more threads\n",
      "2021-02-24 07:12:57,349 : INFO : EPOCH - 6 : training on 15421382 raw words (3708428 effective words) took 11.2s, 331929 effective words/s\n",
      "2021-02-24 07:12:58,370 : INFO : EPOCH 7 - PROGRESS: at 8.69% examples, 319083 words/s, in_qsize 5, out_qsize 1\n",
      "2021-02-24 07:12:59,372 : INFO : EPOCH 7 - PROGRESS: at 17.64% examples, 322982 words/s, in_qsize 4, out_qsize 1\n",
      "2021-02-24 07:13:00,377 : INFO : EPOCH 7 - PROGRESS: at 26.19% examples, 320091 words/s, in_qsize 18, out_qsize 0\n",
      "2021-02-24 07:13:01,401 : INFO : EPOCH 7 - PROGRESS: at 35.32% examples, 323888 words/s, in_qsize 24, out_qsize 0\n",
      "2021-02-24 07:13:02,403 : INFO : EPOCH 7 - PROGRESS: at 44.73% examples, 329596 words/s, in_qsize 0, out_qsize 0\n",
      "2021-02-24 07:13:03,403 : INFO : EPOCH 7 - PROGRESS: at 53.21% examples, 326388 words/s, in_qsize 20, out_qsize 0\n",
      "2021-02-24 07:13:04,406 : INFO : EPOCH 7 - PROGRESS: at 62.73% examples, 330362 words/s, in_qsize 0, out_qsize 0\n",
      "2021-02-24 07:13:05,417 : INFO : EPOCH 7 - PROGRESS: at 71.80% examples, 330812 words/s, in_qsize 0, out_qsize 0\n",
      "2021-02-24 07:13:06,418 : INFO : EPOCH 7 - PROGRESS: at 80.73% examples, 330711 words/s, in_qsize 15, out_qsize 1\n",
      "2021-02-24 07:13:07,418 : INFO : EPOCH 7 - PROGRESS: at 89.33% examples, 329104 words/s, in_qsize 23, out_qsize 0\n",
      "2021-02-24 07:13:08,423 : INFO : EPOCH 7 - PROGRESS: at 99.13% examples, 331926 words/s, in_qsize 0, out_qsize 0\n"
     ]
    },
    {
     "name": "stderr",
     "output_type": "stream",
     "text": [
      "2021-02-24 07:13:08,474 : INFO : worker thread finished; awaiting finish of 11 more threads\n",
      "2021-02-24 07:13:08,476 : INFO : worker thread finished; awaiting finish of 10 more threads\n",
      "2021-02-24 07:13:08,478 : INFO : worker thread finished; awaiting finish of 9 more threads\n",
      "2021-02-24 07:13:08,479 : INFO : worker thread finished; awaiting finish of 8 more threads\n",
      "2021-02-24 07:13:08,481 : INFO : worker thread finished; awaiting finish of 7 more threads\n",
      "2021-02-24 07:13:08,482 : INFO : worker thread finished; awaiting finish of 6 more threads\n",
      "2021-02-24 07:13:08,484 : INFO : worker thread finished; awaiting finish of 5 more threads\n",
      "2021-02-24 07:13:08,486 : INFO : worker thread finished; awaiting finish of 4 more threads\n",
      "2021-02-24 07:13:08,487 : INFO : worker thread finished; awaiting finish of 3 more threads\n",
      "2021-02-24 07:13:08,493 : INFO : worker thread finished; awaiting finish of 2 more threads\n",
      "2021-02-24 07:13:08,495 : INFO : worker thread finished; awaiting finish of 1 more threads\n",
      "2021-02-24 07:13:08,507 : INFO : worker thread finished; awaiting finish of 0 more threads\n",
      "2021-02-24 07:13:08,508 : INFO : EPOCH - 7 : training on 15421382 raw words (3706368 effective words) took 11.2s, 332258 effective words/s\n",
      "2021-02-24 07:13:09,536 : INFO : EPOCH 8 - PROGRESS: at 8.23% examples, 300735 words/s, in_qsize 23, out_qsize 0\n",
      "2021-02-24 07:13:10,540 : INFO : EPOCH 8 - PROGRESS: at 17.97% examples, 328118 words/s, in_qsize 0, out_qsize 0\n",
      "2021-02-24 07:13:11,545 : INFO : EPOCH 8 - PROGRESS: at 26.24% examples, 320581 words/s, in_qsize 24, out_qsize 0\n",
      "2021-02-24 07:13:12,547 : INFO : EPOCH 8 - PROGRESS: at 35.72% examples, 329210 words/s, in_qsize 0, out_qsize 0\n",
      "2021-02-24 07:13:13,555 : INFO : EPOCH 8 - PROGRESS: at 43.82% examples, 323924 words/s, in_qsize 22, out_qsize 1\n",
      "2021-02-24 07:13:14,576 : INFO : EPOCH 8 - PROGRESS: at 52.97% examples, 324623 words/s, in_qsize 23, out_qsize 0\n",
      "2021-02-24 07:13:15,597 : INFO : EPOCH 8 - PROGRESS: at 62.49% examples, 328007 words/s, in_qsize 1, out_qsize 2\n",
      "2021-02-24 07:13:16,599 : INFO : EPOCH 8 - PROGRESS: at 71.35% examples, 328235 words/s, in_qsize 17, out_qsize 0\n",
      "2021-02-24 07:13:17,608 : INFO : EPOCH 8 - PROGRESS: at 80.43% examples, 328669 words/s, in_qsize 23, out_qsize 0\n",
      "2021-02-24 07:13:18,614 : INFO : EPOCH 8 - PROGRESS: at 89.26% examples, 328067 words/s, in_qsize 23, out_qsize 0\n",
      "2021-02-24 07:13:19,619 : INFO : EPOCH 8 - PROGRESS: at 98.46% examples, 329026 words/s, in_qsize 23, out_qsize 0\n",
      "2021-02-24 07:13:19,681 : INFO : worker thread finished; awaiting finish of 11 more threads\n",
      "2021-02-24 07:13:19,688 : INFO : worker thread finished; awaiting finish of 10 more threads\n",
      "2021-02-24 07:13:19,692 : INFO : worker thread finished; awaiting finish of 9 more threads\n",
      "2021-02-24 07:13:19,700 : INFO : worker thread finished; awaiting finish of 8 more threads\n",
      "2021-02-24 07:13:19,702 : INFO : worker thread finished; awaiting finish of 7 more threads\n",
      "2021-02-24 07:13:19,709 : INFO : worker thread finished; awaiting finish of 6 more threads\n",
      "2021-02-24 07:13:19,711 : INFO : worker thread finished; awaiting finish of 5 more threads\n",
      "2021-02-24 07:13:19,715 : INFO : worker thread finished; awaiting finish of 4 more threads\n",
      "2021-02-24 07:13:19,722 : INFO : worker thread finished; awaiting finish of 3 more threads\n",
      "2021-02-24 07:13:19,725 : INFO : worker thread finished; awaiting finish of 2 more threads\n",
      "2021-02-24 07:13:19,727 : INFO : worker thread finished; awaiting finish of 1 more threads\n",
      "2021-02-24 07:13:19,730 : INFO : worker thread finished; awaiting finish of 0 more threads\n",
      "2021-02-24 07:13:19,731 : INFO : EPOCH - 8 : training on 15421382 raw words (3710556 effective words) took 11.2s, 330761 effective words/s\n",
      "2021-02-24 07:13:20,741 : INFO : EPOCH 9 - PROGRESS: at 8.89% examples, 330519 words/s, in_qsize 0, out_qsize 0\n",
      "2021-02-24 07:13:21,744 : INFO : EPOCH 9 - PROGRESS: at 16.88% examples, 310719 words/s, in_qsize 19, out_qsize 2\n",
      "2021-02-24 07:13:22,752 : INFO : EPOCH 9 - PROGRESS: at 26.76% examples, 328461 words/s, in_qsize 0, out_qsize 0\n",
      "2021-02-24 07:13:23,771 : INFO : EPOCH 9 - PROGRESS: at 35.60% examples, 327862 words/s, in_qsize 17, out_qsize 0\n",
      "2021-02-24 07:13:24,784 : INFO : EPOCH 9 - PROGRESS: at 44.86% examples, 331145 words/s, in_qsize 0, out_qsize 0\n",
      "2021-02-24 07:13:25,794 : INFO : EPOCH 9 - PROGRESS: at 53.41% examples, 327634 words/s, in_qsize 0, out_qsize 1\n",
      "2021-02-24 07:13:26,795 : INFO : EPOCH 9 - PROGRESS: at 62.05% examples, 326825 words/s, in_qsize 19, out_qsize 3\n",
      "2021-02-24 07:13:27,798 : INFO : EPOCH 9 - PROGRESS: at 71.61% examples, 330193 words/s, in_qsize 0, out_qsize 0\n",
      "2021-02-24 07:13:28,798 : INFO : EPOCH 9 - PROGRESS: at 79.90% examples, 327659 words/s, in_qsize 16, out_qsize 0\n",
      "2021-02-24 07:13:29,814 : INFO : EPOCH 9 - PROGRESS: at 89.18% examples, 328467 words/s, in_qsize 18, out_qsize 1\n",
      "2021-02-24 07:13:30,816 : INFO : EPOCH 9 - PROGRESS: at 98.33% examples, 329192 words/s, in_qsize 23, out_qsize 0\n",
      "2021-02-24 07:13:30,902 : INFO : worker thread finished; awaiting finish of 11 more threads\n",
      "2021-02-24 07:13:30,910 : INFO : worker thread finished; awaiting finish of 10 more threads\n",
      "2021-02-24 07:13:30,912 : INFO : worker thread finished; awaiting finish of 9 more threads\n",
      "2021-02-24 07:13:30,913 : INFO : worker thread finished; awaiting finish of 8 more threads\n",
      "2021-02-24 07:13:30,916 : INFO : worker thread finished; awaiting finish of 7 more threads\n",
      "2021-02-24 07:13:30,917 : INFO : worker thread finished; awaiting finish of 6 more threads\n",
      "2021-02-24 07:13:30,918 : INFO : worker thread finished; awaiting finish of 5 more threads\n",
      "2021-02-24 07:13:30,927 : INFO : worker thread finished; awaiting finish of 4 more threads\n",
      "2021-02-24 07:13:30,929 : INFO : worker thread finished; awaiting finish of 3 more threads\n",
      "2021-02-24 07:13:30,931 : INFO : worker thread finished; awaiting finish of 2 more threads\n",
      "2021-02-24 07:13:30,942 : INFO : worker thread finished; awaiting finish of 1 more threads\n",
      "2021-02-24 07:13:30,949 : INFO : worker thread finished; awaiting finish of 0 more threads\n",
      "2021-02-24 07:13:30,950 : INFO : EPOCH - 9 : training on 15421382 raw words (3708540 effective words) took 11.2s, 330710 effective words/s\n",
      "2021-02-24 07:13:31,958 : INFO : EPOCH 10 - PROGRESS: at 8.49% examples, 316039 words/s, in_qsize 0, out_qsize 0\n",
      "2021-02-24 07:13:32,976 : INFO : EPOCH 10 - PROGRESS: at 17.32% examples, 316987 words/s, in_qsize 15, out_qsize 0\n",
      "2021-02-24 07:13:33,985 : INFO : EPOCH 10 - PROGRESS: at 26.88% examples, 328223 words/s, in_qsize 0, out_qsize 0\n",
      "2021-02-24 07:13:34,994 : INFO : EPOCH 10 - PROGRESS: at 36.16% examples, 332472 words/s, in_qsize 0, out_qsize 1\n",
      "2021-02-24 07:13:36,000 : INFO : EPOCH 10 - PROGRESS: at 43.96% examples, 324432 words/s, in_qsize 21, out_qsize 0\n",
      "2021-02-24 07:13:37,002 : INFO : EPOCH 10 - PROGRESS: at 53.28% examples, 327161 words/s, in_qsize 21, out_qsize 0\n",
      "2021-02-24 07:13:38,013 : INFO : EPOCH 10 - PROGRESS: at 62.35% examples, 328219 words/s, in_qsize 24, out_qsize 1\n",
      "2021-02-24 07:13:39,015 : INFO : EPOCH 10 - PROGRESS: at 71.61% examples, 330030 words/s, in_qsize 0, out_qsize 0\n",
      "2021-02-24 07:13:40,031 : INFO : EPOCH 10 - PROGRESS: at 80.74% examples, 330389 words/s, in_qsize 3, out_qsize 0\n",
      "2021-02-24 07:13:41,031 : INFO : EPOCH 10 - PROGRESS: at 89.86% examples, 330617 words/s, in_qsize 8, out_qsize 0\n",
      "2021-02-24 07:13:42,038 : INFO : EPOCH 10 - PROGRESS: at 98.79% examples, 330431 words/s, in_qsize 16, out_qsize 3\n",
      "2021-02-24 07:13:42,059 : INFO : worker thread finished; awaiting finish of 11 more threads\n",
      "2021-02-24 07:13:42,074 : INFO : worker thread finished; awaiting finish of 10 more threads\n",
      "2021-02-24 07:13:42,078 : INFO : worker thread finished; awaiting finish of 9 more threads\n",
      "2021-02-24 07:13:42,079 : INFO : worker thread finished; awaiting finish of 8 more threads\n",
      "2021-02-24 07:13:42,081 : INFO : worker thread finished; awaiting finish of 7 more threads\n",
      "2021-02-24 07:13:42,096 : INFO : worker thread finished; awaiting finish of 6 more threads\n",
      "2021-02-24 07:13:42,099 : INFO : worker thread finished; awaiting finish of 5 more threads\n",
      "2021-02-24 07:13:42,102 : INFO : worker thread finished; awaiting finish of 4 more threads\n",
      "2021-02-24 07:13:42,103 : INFO : worker thread finished; awaiting finish of 3 more threads\n"
     ]
    },
    {
     "name": "stderr",
     "output_type": "stream",
     "text": [
      "2021-02-24 07:13:42,105 : INFO : worker thread finished; awaiting finish of 2 more threads\n",
      "2021-02-24 07:13:42,109 : INFO : worker thread finished; awaiting finish of 1 more threads\n",
      "2021-02-24 07:13:42,116 : INFO : worker thread finished; awaiting finish of 0 more threads\n",
      "2021-02-24 07:13:42,117 : INFO : EPOCH - 10 : training on 15421382 raw words (3706060 effective words) took 11.2s, 332044 effective words/s\n",
      "2021-02-24 07:13:42,119 : INFO : training on a 154213820 raw words (37080010 effective words) took 112.7s, 328974 effective words/s\n",
      "2021-02-24 07:13:42,120 : INFO : saving Word2Vec object under dados/experimento_7/w2v_jur.model, separately None\n",
      "2021-02-24 07:13:42,121 : INFO : not storing attribute vectors_norm\n",
      "2021-02-24 07:13:42,123 : INFO : not storing attribute cum_table\n",
      "2021-02-24 07:13:43,134 : INFO : saved dados/experimento_7/w2v_jur.model\n"
     ]
    },
    {
     "name": "stdout",
     "output_type": "stream",
     "text": [
      "treinando modelo word2vec\n"
     ]
    },
    {
     "name": "stderr",
     "output_type": "stream",
     "text": [
      "2021-02-24 07:13:43,136 : INFO : resetting layer weights\n",
      "2021-02-24 07:13:48,076 : INFO : collecting all words and their counts\n",
      "2021-02-24 07:13:48,078 : INFO : PROGRESS: at sentence #0, processed 0 words, keeping 0 word types\n",
      "2021-02-24 07:13:48,146 : INFO : PROGRESS: at sentence #10000, processed 246133 words, keeping 14522 word types\n",
      "2021-02-24 07:13:48,213 : INFO : PROGRESS: at sentence #20000, processed 487049 words, keeping 19445 word types\n",
      "2021-02-24 07:13:48,281 : INFO : PROGRESS: at sentence #30000, processed 727717 words, keeping 23167 word types\n",
      "2021-02-24 07:13:48,349 : INFO : PROGRESS: at sentence #40000, processed 966589 words, keeping 26361 word types\n",
      "2021-02-24 07:13:48,417 : INFO : PROGRESS: at sentence #50000, processed 1212782 words, keeping 29157 word types\n",
      "2021-02-24 07:13:48,483 : INFO : PROGRESS: at sentence #60000, processed 1450548 words, keeping 31331 word types\n",
      "2021-02-24 07:13:48,547 : INFO : PROGRESS: at sentence #70000, processed 1685230 words, keeping 33106 word types\n",
      "2021-02-24 07:13:48,614 : INFO : PROGRESS: at sentence #80000, processed 1927676 words, keeping 35005 word types\n",
      "2021-02-24 07:13:48,684 : INFO : PROGRESS: at sentence #90000, processed 2176559 words, keeping 36573 word types\n",
      "2021-02-24 07:13:48,753 : INFO : PROGRESS: at sentence #100000, processed 2420944 words, keeping 38219 word types\n",
      "2021-02-24 07:13:48,821 : INFO : PROGRESS: at sentence #110000, processed 2659795 words, keeping 39699 word types\n",
      "2021-02-24 07:13:48,888 : INFO : PROGRESS: at sentence #120000, processed 2899814 words, keeping 41030 word types\n",
      "2021-02-24 07:13:48,955 : INFO : PROGRESS: at sentence #130000, processed 3144523 words, keeping 42547 word types\n",
      "2021-02-24 07:13:49,019 : INFO : PROGRESS: at sentence #140000, processed 3376293 words, keeping 43653 word types\n",
      "2021-02-24 07:13:49,091 : INFO : PROGRESS: at sentence #150000, processed 3621474 words, keeping 44989 word types\n",
      "2021-02-24 07:13:49,160 : INFO : PROGRESS: at sentence #160000, processed 3859530 words, keeping 46152 word types\n",
      "2021-02-24 07:13:49,230 : INFO : PROGRESS: at sentence #170000, processed 4107174 words, keeping 47227 word types\n",
      "2021-02-24 07:13:49,298 : INFO : PROGRESS: at sentence #180000, processed 4356780 words, keeping 48392 word types\n",
      "2021-02-24 07:13:49,368 : INFO : PROGRESS: at sentence #190000, processed 4604741 words, keeping 49512 word types\n",
      "2021-02-24 07:13:49,435 : INFO : PROGRESS: at sentence #200000, processed 4848520 words, keeping 50413 word types\n",
      "2021-02-24 07:13:49,501 : INFO : PROGRESS: at sentence #210000, processed 5086869 words, keeping 51493 word types\n",
      "2021-02-24 07:13:49,570 : INFO : PROGRESS: at sentence #220000, processed 5332228 words, keeping 52498 word types\n",
      "2021-02-24 07:13:49,638 : INFO : PROGRESS: at sentence #230000, processed 5580243 words, keeping 53270 word types\n",
      "2021-02-24 07:13:49,706 : INFO : PROGRESS: at sentence #240000, processed 5829655 words, keeping 54183 word types\n",
      "2021-02-24 07:13:49,776 : INFO : PROGRESS: at sentence #250000, processed 6076509 words, keeping 55084 word types\n",
      "2021-02-24 07:13:49,844 : INFO : PROGRESS: at sentence #260000, processed 6325395 words, keeping 55898 word types\n",
      "2021-02-24 07:13:49,911 : INFO : PROGRESS: at sentence #270000, processed 6562398 words, keeping 56721 word types\n",
      "2021-02-24 07:13:49,980 : INFO : PROGRESS: at sentence #280000, processed 6809519 words, keeping 57656 word types\n",
      "2021-02-24 07:13:50,050 : INFO : PROGRESS: at sentence #290000, processed 7050835 words, keeping 58534 word types\n",
      "2021-02-24 07:13:50,118 : INFO : PROGRESS: at sentence #300000, processed 7297639 words, keeping 59284 word types\n",
      "2021-02-24 07:13:50,183 : INFO : PROGRESS: at sentence #310000, processed 7535457 words, keeping 60036 word types\n",
      "2021-02-24 07:13:50,251 : INFO : PROGRESS: at sentence #320000, processed 7778241 words, keeping 60867 word types\n",
      "2021-02-24 07:13:50,318 : INFO : PROGRESS: at sentence #330000, processed 8019902 words, keeping 61608 word types\n",
      "2021-02-24 07:13:50,387 : INFO : PROGRESS: at sentence #340000, processed 8262181 words, keeping 62349 word types\n",
      "2021-02-24 07:13:50,453 : INFO : PROGRESS: at sentence #350000, processed 8506513 words, keeping 63166 word types\n",
      "2021-02-24 07:13:50,521 : INFO : PROGRESS: at sentence #360000, processed 8752033 words, keeping 63907 word types\n",
      "2021-02-24 07:13:50,589 : INFO : PROGRESS: at sentence #370000, processed 8996465 words, keeping 64559 word types\n",
      "2021-02-24 07:13:50,657 : INFO : PROGRESS: at sentence #380000, processed 9241333 words, keeping 65289 word types\n",
      "2021-02-24 07:13:50,725 : INFO : PROGRESS: at sentence #390000, processed 9483258 words, keeping 66025 word types\n",
      "2021-02-24 07:13:50,792 : INFO : PROGRESS: at sentence #400000, processed 9728658 words, keeping 66622 word types\n",
      "2021-02-24 07:13:50,860 : INFO : PROGRESS: at sentence #410000, processed 9966508 words, keeping 67324 word types\n",
      "2021-02-24 07:13:50,935 : INFO : PROGRESS: at sentence #420000, processed 10209498 words, keeping 68061 word types\n",
      "2021-02-24 07:13:51,003 : INFO : PROGRESS: at sentence #430000, processed 10450520 words, keeping 68799 word types\n",
      "2021-02-24 07:13:51,073 : INFO : PROGRESS: at sentence #440000, processed 10698638 words, keeping 69520 word types\n",
      "2021-02-24 07:13:51,139 : INFO : PROGRESS: at sentence #450000, processed 10934552 words, keeping 70151 word types\n",
      "2021-02-24 07:13:51,207 : INFO : PROGRESS: at sentence #460000, processed 11181399 words, keeping 70863 word types\n",
      "2021-02-24 07:13:51,274 : INFO : PROGRESS: at sentence #470000, processed 11423577 words, keeping 71439 word types\n",
      "2021-02-24 07:13:51,342 : INFO : PROGRESS: at sentence #480000, processed 11671424 words, keeping 72087 word types\n",
      "2021-02-24 07:13:51,409 : INFO : PROGRESS: at sentence #490000, processed 11912979 words, keeping 72709 word types\n",
      "2021-02-24 07:13:51,476 : INFO : PROGRESS: at sentence #500000, processed 12156196 words, keeping 73347 word types\n",
      "2021-02-24 07:13:51,543 : INFO : PROGRESS: at sentence #510000, processed 12400175 words, keeping 73960 word types\n",
      "2021-02-24 07:13:51,609 : INFO : PROGRESS: at sentence #520000, processed 12641639 words, keeping 74719 word types\n",
      "2021-02-24 07:13:51,677 : INFO : PROGRESS: at sentence #530000, processed 12880204 words, keeping 75236 word types\n",
      "2021-02-24 07:13:51,744 : INFO : PROGRESS: at sentence #540000, processed 13117695 words, keeping 75769 word types\n",
      "2021-02-24 07:13:51,811 : INFO : PROGRESS: at sentence #550000, processed 13360289 words, keeping 76333 word types\n",
      "2021-02-24 07:13:51,877 : INFO : PROGRESS: at sentence #560000, processed 13597411 words, keeping 76933 word types\n",
      "2021-02-24 07:13:51,944 : INFO : PROGRESS: at sentence #570000, processed 13838927 words, keeping 77454 word types\n",
      "2021-02-24 07:13:52,011 : INFO : PROGRESS: at sentence #580000, processed 14080309 words, keeping 78046 word types\n",
      "2021-02-24 07:13:52,075 : INFO : PROGRESS: at sentence #590000, processed 14306631 words, keeping 78579 word types\n",
      "2021-02-24 07:13:52,144 : INFO : PROGRESS: at sentence #600000, processed 14556244 words, keeping 79226 word types\n",
      "2021-02-24 07:13:52,212 : INFO : PROGRESS: at sentence #610000, processed 14799398 words, keeping 79838 word types\n",
      "2021-02-24 07:13:52,281 : INFO : PROGRESS: at sentence #620000, processed 15043359 words, keeping 80339 word types\n",
      "2021-02-24 07:13:52,348 : INFO : PROGRESS: at sentence #630000, processed 15281412 words, keeping 80976 word types\n",
      "2021-02-24 07:13:52,388 : INFO : collected 81333 word types from a corpus of 15421382 raw words and 635767 sentences\n",
      "2021-02-24 07:13:52,389 : INFO : Loading a fresh vocabulary\n",
      "2021-02-24 07:13:52,440 : INFO : effective_min_count=5 retains 32626 unique words (40% of original 81333, drops 48707)\n",
      "2021-02-24 07:13:52,441 : INFO : effective_min_count=5 leaves 15339561 word corpus (99% of original 15421382, drops 81821)\n",
      "2021-02-24 07:13:52,520 : INFO : deleting the raw counts dictionary of 81333 items\n",
      "2021-02-24 07:13:52,522 : INFO : sample=0.001 downsamples 37 most-common words\n",
      "2021-02-24 07:13:52,523 : INFO : downsampling leaves estimated 11100750 word corpus (72.4% of prior 15339561)\n",
      "2021-02-24 07:13:52,545 : INFO : constructing a huffman tree from 32626 words\n",
      "2021-02-24 07:13:53,271 : INFO : built huffman tree with maximum node depth 22\n"
     ]
    },
    {
     "name": "stderr",
     "output_type": "stream",
     "text": [
      "2021-02-24 07:13:53,615 : INFO : estimated required memory for 32626 words, 137878 buckets and 100 dimensions: 125941448 bytes\n",
      "2021-02-24 07:13:53,619 : INFO : resetting layer weights\n",
      "2021-02-24 07:13:57,094 : INFO : training model with 12 workers on 32626 vocabulary and 100 features, using sg=1 hs=1 sample=0.001 negative=5 window=5\n",
      "2021-02-24 07:14:49,268 : INFO : EPOCH 1 - PROGRESS: at 8.33% words, 17755 words/s, in_qsize -1, out_qsize 1\n",
      "2021-02-24 07:14:49,270 : INFO : worker thread finished; awaiting finish of 11 more threads\n",
      "2021-02-24 07:14:49,333 : INFO : worker thread finished; awaiting finish of 10 more threads\n",
      "2021-02-24 07:14:49,473 : INFO : worker thread finished; awaiting finish of 9 more threads\n",
      "2021-02-24 07:14:49,719 : INFO : worker thread finished; awaiting finish of 8 more threads\n",
      "2021-02-24 07:14:49,955 : INFO : worker thread finished; awaiting finish of 7 more threads\n",
      "2021-02-24 07:14:50,010 : INFO : worker thread finished; awaiting finish of 6 more threads\n",
      "2021-02-24 07:14:50,013 : INFO : worker thread finished; awaiting finish of 5 more threads\n",
      "2021-02-24 07:14:50,075 : INFO : worker thread finished; awaiting finish of 4 more threads\n",
      "2021-02-24 07:14:50,160 : INFO : worker thread finished; awaiting finish of 3 more threads\n",
      "2021-02-24 07:14:50,181 : INFO : worker thread finished; awaiting finish of 2 more threads\n",
      "2021-02-24 07:14:50,222 : INFO : worker thread finished; awaiting finish of 1 more threads\n",
      "2021-02-24 07:14:50,253 : INFO : worker thread finished; awaiting finish of 0 more threads\n",
      "2021-02-24 07:14:50,254 : INFO : EPOCH - 1 : training on 15506931 raw words (11163346 effective words) took 53.1s, 210171 effective words/s\n",
      "2021-02-24 07:15:40,950 : INFO : EPOCH 2 - PROGRESS: at 8.33% words, 18272 words/s, in_qsize -1, out_qsize 1\n",
      "2021-02-24 07:15:40,951 : INFO : worker thread finished; awaiting finish of 11 more threads\n",
      "2021-02-24 07:15:41,293 : INFO : worker thread finished; awaiting finish of 10 more threads\n",
      "2021-02-24 07:15:41,485 : INFO : worker thread finished; awaiting finish of 9 more threads\n",
      "2021-02-24 07:15:41,574 : INFO : worker thread finished; awaiting finish of 8 more threads\n",
      "2021-02-24 07:15:41,974 : INFO : EPOCH 2 - PROGRESS: at 41.87% words, 89952 words/s, in_qsize -1, out_qsize 1\n",
      "2021-02-24 07:15:41,975 : INFO : worker thread finished; awaiting finish of 7 more threads\n",
      "2021-02-24 07:15:42,062 : INFO : worker thread finished; awaiting finish of 6 more threads\n",
      "2021-02-24 07:15:42,109 : INFO : worker thread finished; awaiting finish of 5 more threads\n",
      "2021-02-24 07:15:42,128 : INFO : worker thread finished; awaiting finish of 4 more threads\n",
      "2021-02-24 07:15:42,189 : INFO : worker thread finished; awaiting finish of 3 more threads\n",
      "2021-02-24 07:15:42,196 : INFO : worker thread finished; awaiting finish of 2 more threads\n",
      "2021-02-24 07:15:42,203 : INFO : worker thread finished; awaiting finish of 1 more threads\n",
      "2021-02-24 07:15:42,217 : INFO : worker thread finished; awaiting finish of 0 more threads\n",
      "2021-02-24 07:15:42,218 : INFO : EPOCH - 2 : training on 15506931 raw words (11161969 effective words) took 51.9s, 214989 effective words/s\n",
      "2021-02-24 07:16:33,018 : INFO : EPOCH 3 - PROGRESS: at 8.33% words, 18227 words/s, in_qsize -1, out_qsize 1\n",
      "2021-02-24 07:16:33,019 : INFO : worker thread finished; awaiting finish of 11 more threads\n",
      "2021-02-24 07:16:33,186 : INFO : worker thread finished; awaiting finish of 10 more threads\n",
      "2021-02-24 07:16:34,071 : INFO : EPOCH 3 - PROGRESS: at 25.10% words, 53803 words/s, in_qsize -1, out_qsize 1\n",
      "2021-02-24 07:16:34,072 : INFO : worker thread finished; awaiting finish of 9 more threads\n",
      "2021-02-24 07:16:34,124 : INFO : worker thread finished; awaiting finish of 8 more threads\n",
      "2021-02-24 07:16:34,253 : INFO : worker thread finished; awaiting finish of 7 more threads\n",
      "2021-02-24 07:16:34,290 : INFO : worker thread finished; awaiting finish of 6 more threads\n",
      "2021-02-24 07:16:34,325 : INFO : worker thread finished; awaiting finish of 5 more threads\n",
      "2021-02-24 07:16:34,390 : INFO : worker thread finished; awaiting finish of 4 more threads\n",
      "2021-02-24 07:16:34,422 : INFO : worker thread finished; awaiting finish of 3 more threads\n",
      "2021-02-24 07:16:34,509 : INFO : worker thread finished; awaiting finish of 2 more threads\n",
      "2021-02-24 07:16:34,514 : INFO : worker thread finished; awaiting finish of 1 more threads\n",
      "2021-02-24 07:16:34,555 : INFO : worker thread finished; awaiting finish of 0 more threads\n",
      "2021-02-24 07:16:34,557 : INFO : EPOCH - 3 : training on 15506931 raw words (11164535 effective words) took 52.3s, 213498 effective words/s\n",
      "2021-02-24 07:17:24,929 : INFO : EPOCH 4 - PROGRESS: at 8.33% words, 18400 words/s, in_qsize -1, out_qsize 1\n",
      "2021-02-24 07:17:24,932 : INFO : worker thread finished; awaiting finish of 11 more threads\n",
      "2021-02-24 07:17:25,314 : INFO : worker thread finished; awaiting finish of 10 more threads\n",
      "2021-02-24 07:17:25,375 : INFO : worker thread finished; awaiting finish of 9 more threads\n",
      "2021-02-24 07:17:25,445 : INFO : worker thread finished; awaiting finish of 8 more threads\n",
      "2021-02-24 07:17:25,701 : INFO : worker thread finished; awaiting finish of 7 more threads\n",
      "2021-02-24 07:17:25,728 : INFO : worker thread finished; awaiting finish of 6 more threads\n",
      "2021-02-24 07:17:25,808 : INFO : worker thread finished; awaiting finish of 5 more threads\n",
      "2021-02-24 07:17:25,854 : INFO : worker thread finished; awaiting finish of 4 more threads\n",
      "2021-02-24 07:17:25,955 : INFO : EPOCH 4 - PROGRESS: at 75.40% words, 162980 words/s, in_qsize -1, out_qsize 1\n",
      "2021-02-24 07:17:25,956 : INFO : worker thread finished; awaiting finish of 3 more threads\n",
      "2021-02-24 07:17:25,970 : INFO : worker thread finished; awaiting finish of 2 more threads\n",
      "2021-02-24 07:17:26,042 : INFO : worker thread finished; awaiting finish of 1 more threads\n",
      "2021-02-24 07:17:26,058 : INFO : worker thread finished; awaiting finish of 0 more threads\n",
      "2021-02-24 07:17:26,059 : INFO : EPOCH - 4 : training on 15506931 raw words (11161725 effective words) took 51.5s, 216909 effective words/s\n",
      "2021-02-24 07:18:16,451 : INFO : EPOCH 5 - PROGRESS: at 8.33% words, 18382 words/s, in_qsize -1, out_qsize 1\n",
      "2021-02-24 07:18:16,453 : INFO : worker thread finished; awaiting finish of 11 more threads\n",
      "2021-02-24 07:18:16,681 : INFO : worker thread finished; awaiting finish of 10 more threads\n",
      "2021-02-24 07:18:16,968 : INFO : worker thread finished; awaiting finish of 9 more threads\n",
      "2021-02-24 07:18:17,004 : INFO : worker thread finished; awaiting finish of 8 more threads\n",
      "2021-02-24 07:18:17,119 : INFO : worker thread finished; awaiting finish of 7 more threads\n",
      "2021-02-24 07:18:17,121 : INFO : worker thread finished; awaiting finish of 6 more threads\n",
      "2021-02-24 07:18:17,147 : INFO : worker thread finished; awaiting finish of 5 more threads\n",
      "2021-02-24 07:18:17,343 : INFO : worker thread finished; awaiting finish of 4 more threads\n",
      "2021-02-24 07:18:17,356 : INFO : worker thread finished; awaiting finish of 3 more threads\n",
      "2021-02-24 07:18:17,383 : INFO : worker thread finished; awaiting finish of 2 more threads\n",
      "2021-02-24 07:18:17,430 : INFO : worker thread finished; awaiting finish of 1 more threads\n",
      "2021-02-24 07:18:17,448 : INFO : worker thread finished; awaiting finish of 0 more threads\n",
      "2021-02-24 07:18:17,448 : INFO : EPOCH - 5 : training on 15506931 raw words (11161842 effective words) took 51.3s, 217385 effective words/s\n",
      "2021-02-24 07:18:17,453 : INFO : training on a 77534655 raw words (55813417 effective words) took 260.4s, 214373 effective words/s\n",
      "2021-02-24 07:18:17,453 : WARNING : under 10 jobs per worker: consider setting a smaller `batch_words' for smoother alpha decay\n",
      "2021-02-24 07:18:18,969 : INFO : saving FastText object under dados/experimento_7/ftt_jur.model, separately None\n",
      "2021-02-24 07:18:18,970 : INFO : storing np array 'vectors_ngrams' to dados/experimento_7/ftt_jur.model.wv.vectors_ngrams.npy\n",
      "2021-02-24 07:18:26,238 : INFO : not storing attribute vectors_norm\n",
      "2021-02-24 07:18:26,240 : INFO : not storing attribute vectors_vocab_norm\n",
      "2021-02-24 07:18:26,241 : INFO : not storing attribute vectors_ngrams_norm\n",
      "2021-02-24 07:18:26,242 : INFO : not storing attribute buckets_word\n",
      "2021-02-24 07:18:26,243 : INFO : storing np array 'vectors_ngrams_lockf' to dados/experimento_7/ftt_jur.model.trainables.vectors_ngrams_lockf.npy\n"
     ]
    },
    {
     "name": "stderr",
     "output_type": "stream",
     "text": [
      "2021-02-24 07:18:33,940 : INFO : saved dados/experimento_7/ftt_jur.model\n"
     ]
    },
    {
     "name": "stdout",
     "output_type": "stream",
     "text": [
      "treinando modelo glove\n",
      "mkdir -p build\n",
      "tokenizando corpus\n",
      "$ build/vocab_count -min-count 5 -verbose 2 < ../mestrado/experimentos_mestrado/dados/experimento_7/base_treino_glv.txt > ../mestrado/experimentos_mestrado/dados/experimento_7/glove_vocab.txt\n",
      "criando matriz de coocorrencia\n",
      "$ build/cooccur -memory 4.0 -vocab-file ../mestrado/experimentos_mestrado/dados/experimento_7/glove_vocab.txt -verbose 2 -window-size 15 < ../mestrado/experimentos_mestrado/dados/experimento_7/base_treino_glv.txt > ../mestrado/experimentos_mestrado/dados/experimento_7/glv_concurrence.bin\n",
      "$ build/shuffle -memory 4.0 -verbose 2 < ../mestrado/experimentos_mestrado/dados/experimento_7/glv_concurrence.bin > ../mestrado/experimentos_mestrado/dados/experimento_7/glv_concurrence_shuf.bin\n",
      "$ build/glove -save-file ../mestrado/experimentos_mestrado/dados/experimento_7/glv_jur -threads 8 -input-file ../mestrado/experimentos_mestrado/dados/experimento_7/glv_concurrence_shuf.bin -x-max 10 -iter 15 -vector-size 100 -binary 2 -vocab-file ../mestrado/experimentos_mestrado/dados/experimento_7/glove_vocab.txt -verbose 2\n",
      "\n",
      "BUILDING VOCABULARY\n",
      "Processed 0 tokens.100000 tokens.200000 tokens.300000 tokens.400000 tokens.500000 tokens.600000 tokens.700000 tokens.800000 tokens.900000 tokens.1000000 tokens.1100000 tokens.1200000 tokens.1300000 tokens.1400000 tokens.1500000 tokens.1600000 tokens.1700000 tokens.1800000 tokens.1900000 tokens.2000000 tokens.2100000 tokens.2200000 tokens.2300000 tokens.2400000 tokens.2500000 tokens.2600000 tokens.2700000 tokens.2800000 tokens.2900000 tokens.3000000 tokens.3100000 tokens.3200000 tokens.3300000 tokens.3400000 tokens.3500000 tokens.3600000 tokens.3700000 tokens.3800000 tokens.3900000 tokens.4000000 tokens.4100000 tokens.4200000 tokens.4300000 tokens.4400000 tokens.4500000 tokens.4600000 tokens.4700000 tokens.4800000 tokens.4900000 tokens.5000000 tokens.5100000 tokens.5200000 tokens.5300000 tokens.5400000 tokens.5500000 tokens.5600000 tokens.5700000 tokens.5800000 tokens.5900000 tokens.6000000 tokens.6100000 tokens.6200000 tokens.6300000 tokens.6400000 tokens.6500000 tokens.6600000 tokens.6700000 tokens.6800000 tokens.6900000 tokens.7000000 tokens.7100000 tokens.7200000 tokens.7300000 tokens.7400000 tokens.7500000 tokens.7600000 tokens.7700000 tokens.7800000 tokens.7900000 tokens.8000000 tokens.8100000 tokens.8200000 tokens.8300000 tokens.8400000 tokens.8500000 tokens.8600000 tokens.8700000 tokens.8800000 tokens.8900000 tokens.9000000 tokens.9100000 tokens.9200000 tokens.9300000 tokens.9400000 tokens.9500000 tokens.9600000 tokens.9700000 tokens.Processed 9706816 tokens.\n",
      "Counted 81154 unique words.\n",
      "Truncating vocabulary at min count 5.\n",
      "Using vocabulary of size 32459.\n",
      "\n",
      "COUNTING COOCCURRENCES\n",
      "window size: 15\n",
      "context: symmetric\n",
      "max product: 13752509\n",
      "overflow length: 38028356\n",
      "Reading vocab from file \"../mestrado/experimentos_mestrado/dados/experimento_7/glove_vocab.txt\"...loaded 32459 words.\n",
      "Building lookup table...table contains 73388961 elements.\n",
      "Processing token: 01000002000003000004000005000006000007000008000009000001000000110000012000001300000140000015000001600000170000018000001900000200000021000002200000230000024000002500000260000027000002800000290000030000003100000320000033000003400000350000036000003700000380000039000004000000410000042000004300000440000045000004600000470000048000004900000500000051000005200000530000054000005500000560000057000005800000590000060000006100000620000063000006400000650000066000006700000680000069000007000000710000072000007300000740000075000007600000770000078000007900000800000081000008200000830000084000008500000860000087000008800000890000090000009100000920000093000009400000950000096000009700000Processed 9706816 tokens.\n",
      "Writing cooccurrences to disk........2 files in total.\n"
     ]
    },
    {
     "name": "stdout",
     "output_type": "stream",
     "text": [
      "Merging cooccurrence files: processed 0 lines.100000 lines.200000 lines.300000 lines.400000 lines.500000 lines.600000 lines.700000 lines.800000 lines.900000 lines.1000000 lines.1100000 lines.1200000 lines.1300000 lines.1400000 lines.1500000 lines.1600000 lines.1700000 lines.1800000 lines.1900000 lines.2000000 lines.2100000 lines.2200000 lines.2300000 lines.2400000 lines.2500000 lines.2600000 lines.2700000 lines.2800000 lines.2900000 lines.3000000 lines.3100000 lines.3200000 lines.3300000 lines.3400000 lines.3500000 lines.3600000 lines.3700000 lines.3800000 lines.3900000 lines.4000000 lines.4100000 lines.4200000 lines.4300000 lines.4400000 lines.4500000 lines.4600000 lines.4700000 lines.4800000 lines.4900000 lines.5000000 lines.5100000 lines.5200000 lines.5300000 lines.5400000 lines.5500000 lines.5600000 lines.5700000 lines.5800000 lines.5900000 lines.6000000 lines.6100000 lines.6200000 lines.6300000 lines.6400000 lines.6500000 lines.6600000 lines.6700000 lines.6800000 lines.6900000 lines.7000000 lines.7100000 lines.7200000 lines.7300000 lines.7400000 lines.7500000 lines.7600000 lines.7700000 lines.7800000 lines.7900000 lines.8000000 lines.8100000 lines.8200000 lines.8300000 lines.8400000 lines.8500000 lines.8600000 lines.8700000 lines.8800000 lines.8900000 lines.9000000 lines.9100000 lines.9200000 lines.9300000 lines.9400000 lines.9500000 lines.9600000 lines.9700000 lines.9800000 lines.9900000 lines.10000000 lines.10100000 lines.10200000 lines.10300000 lines.10400000 lines.10500000 lines.10600000 lines.10700000 lines.10800000 lines.10900000 lines.11000000 lines.11100000 lines.11200000 lines.11300000 lines.11400000 lines.11500000 lines.11600000 lines.11700000 lines.11800000 lines.11900000 lines.12000000 lines.12100000 lines.12200000 lines.12300000 lines.12400000 lines.12500000 lines.12600000 lines.12700000 lines.12800000 lines.12900000 lines.13000000 lines.13100000 lines.13200000 lines.13300000 lines.13400000 lines.13500000 lines.13600000 lines.13700000 lines.13800000 lines.13900000 lines.14000000 lines.14100000 lines.14200000 lines.14300000 lines.14400000 lines.14500000 lines.14600000 lines.14700000 lines.14800000 lines.14900000 lines.15000000 lines.15100000 lines.15200000 lines.15300000 lines.15400000 lines.15500000 lines.15600000 lines.15700000 lines.15800000 lines.15900000 lines.16000000 lines.16100000 lines.16200000 lines.16300000 lines.16400000 lines.16500000 lines.16600000 lines.16700000 lines.16800000 lines.16900000 lines.17000000 lines.17100000 lines.17200000 lines.17300000 lines.17400000 lines.17500000 lines.17600000 lines.17700000 lines.17800000 lines.17900000 lines.18000000 lines.18100000 lines.18200000 lines.18300000 lines.18400000 lines.18500000 lines.18600000 lines.18700000 lines.18800000 lines.18900000 lines.19000000 lines.19100000 lines.19200000 lines.19300000 lines.19400000 lines.19500000 lines.19600000 lines.19700000 lines.19800000 lines.19900000 lines.20000000 lines.20100000 lines.20200000 lines.20300000 lines.20400000 lines.20500000 lines.20600000 lines.20700000 lines.20800000 lines.20900000 lines.21000000 lines.21100000 lines.21200000 lines.21300000 lines.21400000 lines.21500000 lines.21600000 lines.21700000 lines.21800000 lines.21900000 lines.22000000 lines.22100000 lines.22200000 lines.22300000 lines.22400000 lines.22500000 lines.22600000 lines.22700000 lines.22800000 lines.22900000 lines.23000000 lines.23100000 lines.23200000 lines.23300000 lines.23400000 lines.23500000 lines.23600000 lines.23700000 lines.23800000 lines.23900000 lines.24000000 lines.24100000 lines.24200000 lines.24300000 lines.24400000 lines.24500000 lines.24600000 lines.24700000 lines.24800000 lines.24900000 lines.25000000 lines.25100000 lines.25200000 lines.25300000 lines.25400000 lines.25500000 lines.25600000 lines.25700000 lines.25800000 lines.25900000 lines.26000000 lines.26100000 lines.26200000 lines.26300000 lines.26400000 lines.26500000 lines.26600000 lines.26700000 lines.26800000 lines.26900000 lines.27000000 lines.27100000 lines.27200000 lines.27300000 lines.27400000 lines.27500000 lines.27600000 lines.27700000 lines.27800000 lines.27900000 lines.28000000 lines.28100000 lines.28200000 lines.28300000 lines.28400000 lines.28500000 lines.28600000 lines.28700000 lines.28800000 lines.28900000 lines.29000000 lines.29100000 lines.29200000 lines.29300000 lines.29400000 lines.29500000 lines.29600000 lines.29700000 lines.29800000 lines.29900000 lines.30000000 lines.30100000 lines.30200000 lines.30300000 lines.30400000 lines.30500000 lines.30600000 lines.30700000 lines.30800000 lines.30900000 lines.31000000 lines.31100000 lines.31200000 lines.31300000 lines.31400000 lines.31500000 lines.31600000 lines.31700000 lines.Merging cooccurrence files: processed 31738653 lines.\n",
      "\n",
      "Using random seed 1614161930\n",
      "SHUFFLING COOCCURRENCES\n",
      "array size: 255013683\n",
      "Shuffling by chunks: processed 0 lines.processed 31738653 lines.\n",
      "Wrote 1 temporary file(s).\n",
      "Merging temp files: processed 0 lines.31738653 lines.Merging temp files: processed 31738653 lines.\n",
      "\n",
      "TRAINING MODEL\n",
      "Read 31738653 lines.\n",
      "Initializing parameters...Using random seed 1614161941\n",
      "done.\n",
      "vector size: 100\n",
      "vocab size: 32459\n",
      "x_max: 10.000000\n",
      "alpha: 0.750000\n",
      "02/24/21 - 07:19.12AM, iter: 001, cost: 0.109110\n",
      "02/24/21 - 07:19.25AM, iter: 002, cost: 0.079191\n",
      "02/24/21 - 07:19.36AM, iter: 003, cost: 0.066420\n",
      "02/24/21 - 07:19.47AM, iter: 004, cost: 0.058779\n",
      "02/24/21 - 07:19.58AM, iter: 005, cost: 0.054392\n",
      "02/24/21 - 07:20.09AM, iter: 006, cost: 0.051769\n",
      "02/24/21 - 07:20.19AM, iter: 007, cost: 0.050031\n",
      "02/24/21 - 07:20.30AM, iter: 008, cost: 0.048816\n",
      "02/24/21 - 07:20.41AM, iter: 009, cost: 0.047875\n",
      "02/24/21 - 07:20.52AM, iter: 010, cost: 0.047155\n",
      "02/24/21 - 07:21.03AM, iter: 011, cost: 0.046517\n",
      "02/24/21 - 07:21.14AM, iter: 012, cost: 0.046015\n",
      "02/24/21 - 07:21.24AM, iter: 013, cost: 0.045597\n",
      "02/24/21 - 07:21.35AM, iter: 014, cost: 0.045234\n",
      "02/24/21 - 07:21.46AM, iter: 015, cost: 0.044917\n",
      "\n",
      "treinamento concluído\n"
     ]
    },
    {
     "name": "stderr",
     "output_type": "stream",
     "text": [
      "2021-02-24 07:21:47,765 : INFO : converting 32460 vectors from dados/experimento_7/glv_jur.txt to C:\\Users\\CRISTI~1\\AppData\\Local\\Temp\\test_word2vec.txt\n",
      "2021-02-24 07:21:47,833 : INFO : loading projection weights from C:\\Users\\CRISTI~1\\AppData\\Local\\Temp\\test_word2vec.txt\n",
      "2021-02-24 07:21:50,546 : INFO : loaded (32460, 100) matrix from C:\\Users\\CRISTI~1\\AppData\\Local\\Temp\\test_word2vec.txt\n",
      "2021-02-24 07:21:50,547 : INFO : loading projection weights from modelos/w2v_skip_nilc.txt\n",
      "2021-02-24 07:23:08,699 : INFO : loaded (929606, 100) matrix from modelos/w2v_skip_nilc.txt\n",
      "2021-02-24 07:23:08,700 : INFO : loading projection weights from modelos/ftt_skip_nilc.txt\n",
      "2021-02-24 07:24:24,732 : INFO : loaded (929605, 100) matrix from modelos/ftt_skip_nilc.txt\n",
      "2021-02-24 07:24:24,733 : INFO : loading projection weights from modelos/glove_nilc.txt\n",
      "2021-02-24 07:25:39,648 : INFO : loaded (929605, 100) matrix from modelos/glove_nilc.txt\n"
     ]
    },
    {
     "name": "stdout",
     "output_type": "stream",
     "text": [
      "recuperando teores da base de teste\n"
     ]
    },
    {
     "data": {
      "application/vnd.jupyter.widget-view+json": {
       "model_id": "7a1bfc8fa558485780d8537bc1522f48",
       "version_major": 2,
       "version_minor": 0
      },
      "text/plain": [
       "HBox(children=(IntProgress(value=0, max=7006), HTML(value='')))"
      ]
     },
     "metadata": {},
     "output_type": "display_data"
    },
    {
     "name": "stdout",
     "output_type": "stream",
     "text": [
      "\n",
      "criando representações word2vec geral\n"
     ]
    },
    {
     "data": {
      "application/vnd.jupyter.widget-view+json": {
       "model_id": "83f6d8d0b63f4ac497a9c534dc65b6ba",
       "version_major": 2,
       "version_minor": 0
      },
      "text/plain": [
       "HBox(children=(IntProgress(value=0, max=7006), HTML(value='')))"
      ]
     },
     "metadata": {},
     "output_type": "display_data"
    },
    {
     "name": "stdout",
     "output_type": "stream",
     "text": [
      "\n",
      "criando representações fasttext geral\n"
     ]
    },
    {
     "data": {
      "application/vnd.jupyter.widget-view+json": {
       "model_id": "f18a90c8d7544a04b375d6c2e12b3e82",
       "version_major": 2,
       "version_minor": 0
      },
      "text/plain": [
       "HBox(children=(IntProgress(value=0, max=7006), HTML(value='')))"
      ]
     },
     "metadata": {},
     "output_type": "display_data"
    },
    {
     "name": "stdout",
     "output_type": "stream",
     "text": [
      "\n",
      "criando representações glove geral\n"
     ]
    },
    {
     "data": {
      "application/vnd.jupyter.widget-view+json": {
       "model_id": "895c64ceac664ec6a32277e3a9adcd44",
       "version_major": 2,
       "version_minor": 0
      },
      "text/plain": [
       "HBox(children=(IntProgress(value=0, max=7006), HTML(value='')))"
      ]
     },
     "metadata": {},
     "output_type": "display_data"
    },
    {
     "name": "stdout",
     "output_type": "stream",
     "text": [
      "\n",
      "criando representações word2vec juridico\n"
     ]
    },
    {
     "data": {
      "application/vnd.jupyter.widget-view+json": {
       "model_id": "968a9798970843ee8b38c00aea2f67c5",
       "version_major": 2,
       "version_minor": 0
      },
      "text/plain": [
       "HBox(children=(IntProgress(value=0, max=7006), HTML(value='')))"
      ]
     },
     "metadata": {},
     "output_type": "display_data"
    },
    {
     "name": "stdout",
     "output_type": "stream",
     "text": [
      "\n",
      "criando representações fasttext juridico\n"
     ]
    },
    {
     "data": {
      "application/vnd.jupyter.widget-view+json": {
       "model_id": "d0d359c353fc4a438132fec7bb9e1c2b",
       "version_major": 2,
       "version_minor": 0
      },
      "text/plain": [
       "HBox(children=(IntProgress(value=0, max=7006), HTML(value='')))"
      ]
     },
     "metadata": {},
     "output_type": "display_data"
    },
    {
     "name": "stdout",
     "output_type": "stream",
     "text": [
      "\n",
      "criando representações glove juridico\n"
     ]
    },
    {
     "data": {
      "application/vnd.jupyter.widget-view+json": {
       "model_id": "6055de2ab5b1425a8bfa4b8455c1fdd7",
       "version_major": 2,
       "version_minor": 0
      },
      "text/plain": [
       "HBox(children=(IntProgress(value=0, max=7006), HTML(value='')))"
      ]
     },
     "metadata": {},
     "output_type": "display_data"
    },
    {
     "name": "stdout",
     "output_type": "stream",
     "text": [
      "\n",
      "----------- EXPERIMENTO 7 CONCLUIDO -----------\n",
      "tempo do experimento: 18.711472324530284 minutos\n",
      "----------------------- EXPERIMENTO 8 -----------------------\n",
      "criando base de treino para o experimento 8\n"
     ]
    },
    {
     "data": {
      "application/vnd.jupyter.widget-view+json": {
       "model_id": "165fd82ab2d44dceae1f65d413d47bb5",
       "version_major": 2,
       "version_minor": 0
      },
      "text/plain": [
       "HBox(children=(IntProgress(value=0, max=28021), HTML(value='')))"
      ]
     },
     "metadata": {},
     "output_type": "display_data"
    },
    {
     "name": "stdout",
     "output_type": "stream",
     "text": [
      "\n",
      "16097144 tokens copiados com sucesso\n",
      "preparando documentos para extração do vocabulário:\n"
     ]
    },
    {
     "data": {
      "application/vnd.jupyter.widget-view+json": {
       "model_id": "3745b93e9bd3435eace1f5e073af43a5",
       "version_major": 2,
       "version_minor": 0
      },
      "text/plain": [
       "HBox(children=(IntProgress(value=0, max=28021), HTML(value='')))"
      ]
     },
     "metadata": {},
     "output_type": "display_data"
    },
    {
     "name": "stdout",
     "output_type": "stream",
     "text": [
      "\n",
      "extraindo termos com base no ICA\n"
     ]
    },
    {
     "data": {
      "application/vnd.jupyter.widget-view+json": {
       "model_id": "109c09d3106a4d3ba262426d1022724d",
       "version_major": 2,
       "version_minor": 0
      },
      "text/plain": [
       "HBox(children=(IntProgress(value=0, max=125), HTML(value='')))"
      ]
     },
     "metadata": {},
     "output_type": "display_data"
    },
    {
     "name": "stdout",
     "output_type": "stream",
     "text": [
      "\n",
      "-processando strings do corpus\n",
      "-treinando vetorizador\n",
      "-ICA processado\n",
      "extraindo termos com base na frequência - geralmente leva menos de 4 minutos\n",
      "extraindo termos do tesauro\n",
      "extração de vocabulário concluída!\n",
      "treinando modelo word2vec\n"
     ]
    },
    {
     "name": "stderr",
     "output_type": "stream",
     "text": [
      "2021-02-24 07:30:26,421 : INFO : collecting all words and their counts\n",
      "2021-02-24 07:30:26,439 : INFO : PROGRESS: at sentence #0, processed 0 words, keeping 0 word types\n",
      "2021-02-24 07:30:26,502 : INFO : PROGRESS: at sentence #10000, processed 238506 words, keeping 13362 word types\n",
      "2021-02-24 07:30:26,568 : INFO : PROGRESS: at sentence #20000, processed 476037 words, keeping 18575 word types\n",
      "2021-02-24 07:30:26,637 : INFO : PROGRESS: at sentence #30000, processed 715845 words, keeping 22113 word types\n",
      "2021-02-24 07:30:26,702 : INFO : PROGRESS: at sentence #40000, processed 957282 words, keeping 25051 word types\n",
      "2021-02-24 07:30:26,767 : INFO : PROGRESS: at sentence #50000, processed 1201499 words, keeping 27892 word types\n",
      "2021-02-24 07:30:26,832 : INFO : PROGRESS: at sentence #60000, processed 1448497 words, keeping 30368 word types\n",
      "2021-02-24 07:30:26,899 : INFO : PROGRESS: at sentence #70000, processed 1697299 words, keeping 32537 word types\n",
      "2021-02-24 07:30:26,963 : INFO : PROGRESS: at sentence #80000, processed 1933468 words, keeping 34173 word types\n",
      "2021-02-24 07:30:27,034 : INFO : PROGRESS: at sentence #90000, processed 2184501 words, keeping 35969 word types\n",
      "2021-02-24 07:30:27,106 : INFO : PROGRESS: at sentence #100000, processed 2431505 words, keeping 37749 word types\n",
      "2021-02-24 07:30:27,174 : INFO : PROGRESS: at sentence #110000, processed 2669821 words, keeping 39435 word types\n",
      "2021-02-24 07:30:27,245 : INFO : PROGRESS: at sentence #120000, processed 2914081 words, keeping 40787 word types\n",
      "2021-02-24 07:30:27,315 : INFO : PROGRESS: at sentence #130000, processed 3156746 words, keeping 42083 word types\n",
      "2021-02-24 07:30:27,386 : INFO : PROGRESS: at sentence #140000, processed 3396174 words, keeping 43477 word types\n",
      "2021-02-24 07:30:27,459 : INFO : PROGRESS: at sentence #150000, processed 3641148 words, keeping 44850 word types\n",
      "2021-02-24 07:30:27,526 : INFO : PROGRESS: at sentence #160000, processed 3885194 words, keeping 45982 word types\n",
      "2021-02-24 07:30:27,597 : INFO : PROGRESS: at sentence #170000, processed 4131399 words, keeping 47150 word types\n",
      "2021-02-24 07:30:27,665 : INFO : PROGRESS: at sentence #180000, processed 4367228 words, keeping 48318 word types\n",
      "2021-02-24 07:30:27,734 : INFO : PROGRESS: at sentence #190000, processed 4606041 words, keeping 49409 word types\n",
      "2021-02-24 07:30:27,806 : INFO : PROGRESS: at sentence #200000, processed 4850562 words, keeping 50476 word types\n",
      "2021-02-24 07:30:27,877 : INFO : PROGRESS: at sentence #210000, processed 5093364 words, keeping 51605 word types\n",
      "2021-02-24 07:30:27,948 : INFO : PROGRESS: at sentence #220000, processed 5334324 words, keeping 52471 word types\n",
      "2021-02-24 07:30:28,018 : INFO : PROGRESS: at sentence #230000, processed 5575160 words, keeping 53429 word types\n",
      "2021-02-24 07:30:28,088 : INFO : PROGRESS: at sentence #240000, processed 5821697 words, keeping 54389 word types\n",
      "2021-02-24 07:30:28,159 : INFO : PROGRESS: at sentence #250000, processed 6060393 words, keeping 55297 word types\n",
      "2021-02-24 07:30:28,231 : INFO : PROGRESS: at sentence #260000, processed 6302062 words, keeping 56095 word types\n",
      "2021-02-24 07:30:28,297 : INFO : PROGRESS: at sentence #270000, processed 6543842 words, keeping 56920 word types\n",
      "2021-02-24 07:30:28,363 : INFO : PROGRESS: at sentence #280000, processed 6783221 words, keeping 57739 word types\n",
      "2021-02-24 07:30:28,429 : INFO : PROGRESS: at sentence #290000, processed 7024168 words, keeping 58631 word types\n",
      "2021-02-24 07:30:28,495 : INFO : PROGRESS: at sentence #300000, processed 7261557 words, keeping 59404 word types\n",
      "2021-02-24 07:30:28,560 : INFO : PROGRESS: at sentence #310000, processed 7501424 words, keeping 60134 word types\n",
      "2021-02-24 07:30:28,629 : INFO : PROGRESS: at sentence #320000, processed 7745017 words, keeping 60983 word types\n",
      "2021-02-24 07:30:28,698 : INFO : PROGRESS: at sentence #330000, processed 7989435 words, keeping 61690 word types\n",
      "2021-02-24 07:30:28,765 : INFO : PROGRESS: at sentence #340000, processed 8236477 words, keeping 62504 word types\n",
      "2021-02-24 07:30:28,833 : INFO : PROGRESS: at sentence #350000, processed 8484093 words, keeping 63359 word types\n",
      "2021-02-24 07:30:28,900 : INFO : PROGRESS: at sentence #360000, processed 8727927 words, keeping 64091 word types\n",
      "2021-02-24 07:30:28,966 : INFO : PROGRESS: at sentence #370000, processed 8966875 words, keeping 64816 word types\n",
      "2021-02-24 07:30:29,033 : INFO : PROGRESS: at sentence #380000, processed 9208776 words, keeping 65537 word types\n",
      "2021-02-24 07:30:29,100 : INFO : PROGRESS: at sentence #390000, processed 9456228 words, keeping 66272 word types\n",
      "2021-02-24 07:30:29,165 : INFO : PROGRESS: at sentence #400000, processed 9696373 words, keeping 66990 word types\n",
      "2021-02-24 07:30:29,230 : INFO : PROGRESS: at sentence #410000, processed 9932601 words, keeping 67534 word types\n",
      "2021-02-24 07:30:29,296 : INFO : PROGRESS: at sentence #420000, processed 10171012 words, keeping 68232 word types\n",
      "2021-02-24 07:30:29,362 : INFO : PROGRESS: at sentence #430000, processed 10413966 words, keeping 69048 word types\n",
      "2021-02-24 07:30:29,428 : INFO : PROGRESS: at sentence #440000, processed 10651731 words, keeping 69708 word types\n",
      "2021-02-24 07:30:29,494 : INFO : PROGRESS: at sentence #450000, processed 10894176 words, keeping 70262 word types\n",
      "2021-02-24 07:30:29,561 : INFO : PROGRESS: at sentence #460000, processed 11144412 words, keeping 70875 word types\n",
      "2021-02-24 07:30:29,627 : INFO : PROGRESS: at sentence #470000, processed 11381556 words, keeping 71432 word types\n",
      "2021-02-24 07:30:29,692 : INFO : PROGRESS: at sentence #480000, processed 11621137 words, keeping 71971 word types\n",
      "2021-02-24 07:30:29,759 : INFO : PROGRESS: at sentence #490000, processed 11862539 words, keeping 72581 word types\n",
      "2021-02-24 07:30:29,827 : INFO : PROGRESS: at sentence #500000, processed 12111980 words, keeping 73259 word types\n",
      "2021-02-24 07:30:29,893 : INFO : PROGRESS: at sentence #510000, processed 12354995 words, keeping 73913 word types\n",
      "2021-02-24 07:30:29,960 : INFO : PROGRESS: at sentence #520000, processed 12600685 words, keeping 74493 word types\n",
      "2021-02-24 07:30:30,026 : INFO : PROGRESS: at sentence #530000, processed 12836797 words, keeping 75015 word types\n",
      "2021-02-24 07:30:30,095 : INFO : PROGRESS: at sentence #540000, processed 13080981 words, keeping 75563 word types\n",
      "2021-02-24 07:30:30,160 : INFO : PROGRESS: at sentence #550000, processed 13317477 words, keeping 76091 word types\n",
      "2021-02-24 07:30:30,227 : INFO : PROGRESS: at sentence #560000, processed 13560729 words, keeping 76679 word types\n",
      "2021-02-24 07:30:30,290 : INFO : PROGRESS: at sentence #570000, processed 13793217 words, keeping 77188 word types\n",
      "2021-02-24 07:30:30,355 : INFO : PROGRESS: at sentence #580000, processed 14025694 words, keeping 77674 word types\n",
      "2021-02-24 07:30:30,422 : INFO : PROGRESS: at sentence #590000, processed 14266597 words, keeping 78222 word types\n",
      "2021-02-24 07:30:30,489 : INFO : PROGRESS: at sentence #600000, processed 14508913 words, keeping 78745 word types\n",
      "2021-02-24 07:30:30,559 : INFO : PROGRESS: at sentence #610000, processed 14756743 words, keeping 79469 word types\n",
      "2021-02-24 07:30:30,633 : INFO : PROGRESS: at sentence #620000, processed 15003073 words, keeping 79976 word types\n",
      "2021-02-24 07:30:30,703 : INFO : PROGRESS: at sentence #630000, processed 15250826 words, keeping 80590 word types\n",
      "2021-02-24 07:30:30,757 : INFO : collected 80938 word types from a corpus of 15439541 raw words and 637964 sentences\n",
      "2021-02-24 07:30:30,758 : INFO : Loading a fresh vocabulary\n",
      "2021-02-24 07:30:30,879 : INFO : effective_min_count=5 retains 32541 unique words (40% of original 80938, drops 48397)\n",
      "2021-02-24 07:30:30,880 : INFO : effective_min_count=5 leaves 15357940 word corpus (99% of original 15439541, drops 81601)\n",
      "2021-02-24 07:30:30,964 : INFO : deleting the raw counts dictionary of 80938 items\n",
      "2021-02-24 07:30:30,967 : INFO : sample=1e-05 downsamples 3213 most-common words\n",
      "2021-02-24 07:30:30,968 : INFO : downsampling leaves estimated 3707781 word corpus (24.1% of prior 15357940)\n",
      "2021-02-24 07:30:30,994 : INFO : constructing a huffman tree from 32541 words\n",
      "2021-02-24 07:30:31,643 : INFO : built huffman tree with maximum node depth 22\n"
     ]
    },
    {
     "name": "stderr",
     "output_type": "stream",
     "text": [
      "2021-02-24 07:30:31,693 : INFO : estimated required memory for 32541 words and 100 dimensions: 61827900 bytes\n",
      "2021-02-24 07:30:31,694 : INFO : resetting layer weights\n",
      "2021-02-24 07:30:32,008 : INFO : training model with 12 workers on 32541 vocabulary and 100 features, using sg=1 hs=1 sample=1e-05 negative=5 window=5\n",
      "2021-02-24 07:30:33,019 : INFO : EPOCH 1 - PROGRESS: at 8.07% examples, 293480 words/s, in_qsize 9, out_qsize 0\n",
      "2021-02-24 07:30:34,022 : INFO : EPOCH 1 - PROGRESS: at 17.21% examples, 318316 words/s, in_qsize 18, out_qsize 0\n",
      "2021-02-24 07:30:35,030 : INFO : EPOCH 1 - PROGRESS: at 27.31% examples, 335731 words/s, in_qsize 0, out_qsize 1\n",
      "2021-02-24 07:30:36,036 : INFO : EPOCH 1 - PROGRESS: at 35.95% examples, 330897 words/s, in_qsize 0, out_qsize 0\n",
      "2021-02-24 07:30:37,036 : INFO : EPOCH 1 - PROGRESS: at 44.30% examples, 326404 words/s, in_qsize 23, out_qsize 0\n",
      "2021-02-24 07:30:38,039 : INFO : EPOCH 1 - PROGRESS: at 54.33% examples, 334319 words/s, in_qsize 0, out_qsize 0\n",
      "2021-02-24 07:30:39,051 : INFO : EPOCH 1 - PROGRESS: at 62.90% examples, 331801 words/s, in_qsize 14, out_qsize 1\n",
      "2021-02-24 07:30:40,057 : INFO : EPOCH 1 - PROGRESS: at 71.98% examples, 332249 words/s, in_qsize 0, out_qsize 0\n",
      "2021-02-24 07:30:41,079 : INFO : EPOCH 1 - PROGRESS: at 80.31% examples, 328616 words/s, in_qsize 0, out_qsize 1\n",
      "2021-02-24 07:30:42,093 : INFO : EPOCH 1 - PROGRESS: at 88.71% examples, 326325 words/s, in_qsize 23, out_qsize 0\n",
      "2021-02-24 07:30:43,121 : INFO : EPOCH 1 - PROGRESS: at 98.24% examples, 327884 words/s, in_qsize 23, out_qsize 0\n",
      "2021-02-24 07:30:43,212 : INFO : worker thread finished; awaiting finish of 11 more threads\n",
      "2021-02-24 07:30:43,228 : INFO : worker thread finished; awaiting finish of 10 more threads\n",
      "2021-02-24 07:30:43,234 : INFO : worker thread finished; awaiting finish of 9 more threads\n",
      "2021-02-24 07:30:43,238 : INFO : worker thread finished; awaiting finish of 8 more threads\n",
      "2021-02-24 07:30:43,242 : INFO : worker thread finished; awaiting finish of 7 more threads\n",
      "2021-02-24 07:30:43,251 : INFO : worker thread finished; awaiting finish of 6 more threads\n",
      "2021-02-24 07:30:43,253 : INFO : worker thread finished; awaiting finish of 5 more threads\n",
      "2021-02-24 07:30:43,259 : INFO : worker thread finished; awaiting finish of 4 more threads\n",
      "2021-02-24 07:30:43,263 : INFO : worker thread finished; awaiting finish of 3 more threads\n",
      "2021-02-24 07:30:43,265 : INFO : worker thread finished; awaiting finish of 2 more threads\n",
      "2021-02-24 07:30:43,267 : INFO : worker thread finished; awaiting finish of 1 more threads\n",
      "2021-02-24 07:30:43,272 : INFO : worker thread finished; awaiting finish of 0 more threads\n",
      "2021-02-24 07:30:43,273 : INFO : EPOCH - 1 : training on 15439541 raw words (3707613 effective words) took 11.3s, 329244 effective words/s\n",
      "2021-02-24 07:30:44,285 : INFO : EPOCH 2 - PROGRESS: at 8.38% examples, 305500 words/s, in_qsize 7, out_qsize 2\n",
      "2021-02-24 07:30:45,287 : INFO : EPOCH 2 - PROGRESS: at 16.77% examples, 310299 words/s, in_qsize 1, out_qsize 1\n",
      "2021-02-24 07:30:46,297 : INFO : EPOCH 2 - PROGRESS: at 26.14% examples, 321153 words/s, in_qsize 0, out_qsize 0\n",
      "2021-02-24 07:30:47,302 : INFO : EPOCH 2 - PROGRESS: at 34.84% examples, 320710 words/s, in_qsize 5, out_qsize 0\n",
      "2021-02-24 07:30:48,308 : INFO : EPOCH 2 - PROGRESS: at 43.90% examples, 323106 words/s, in_qsize 21, out_qsize 0\n",
      "2021-02-24 07:30:49,311 : INFO : EPOCH 2 - PROGRESS: at 51.83% examples, 317812 words/s, in_qsize 9, out_qsize 1\n",
      "2021-02-24 07:30:50,319 : INFO : EPOCH 2 - PROGRESS: at 61.35% examples, 323622 words/s, in_qsize 0, out_qsize 1\n",
      "2021-02-24 07:30:51,325 : INFO : EPOCH 2 - PROGRESS: at 70.15% examples, 323519 words/s, in_qsize 1, out_qsize 0\n",
      "2021-02-24 07:30:52,329 : INFO : EPOCH 2 - PROGRESS: at 79.22% examples, 324664 words/s, in_qsize 0, out_qsize 0\n",
      "2021-02-24 07:30:53,348 : INFO : EPOCH 2 - PROGRESS: at 87.39% examples, 321851 words/s, in_qsize 23, out_qsize 2\n",
      "2021-02-24 07:30:54,352 : INFO : EPOCH 2 - PROGRESS: at 96.89% examples, 324299 words/s, in_qsize 2, out_qsize 0\n",
      "2021-02-24 07:30:54,629 : INFO : worker thread finished; awaiting finish of 11 more threads\n",
      "2021-02-24 07:30:54,631 : INFO : worker thread finished; awaiting finish of 10 more threads\n",
      "2021-02-24 07:30:54,634 : INFO : worker thread finished; awaiting finish of 9 more threads\n",
      "2021-02-24 07:30:54,635 : INFO : worker thread finished; awaiting finish of 8 more threads\n",
      "2021-02-24 07:30:54,637 : INFO : worker thread finished; awaiting finish of 7 more threads\n",
      "2021-02-24 07:30:54,638 : INFO : worker thread finished; awaiting finish of 6 more threads\n",
      "2021-02-24 07:30:54,640 : INFO : worker thread finished; awaiting finish of 5 more threads\n",
      "2021-02-24 07:30:54,642 : INFO : worker thread finished; awaiting finish of 4 more threads\n",
      "2021-02-24 07:30:54,643 : INFO : worker thread finished; awaiting finish of 3 more threads\n",
      "2021-02-24 07:30:54,648 : INFO : worker thread finished; awaiting finish of 2 more threads\n",
      "2021-02-24 07:30:54,651 : INFO : worker thread finished; awaiting finish of 1 more threads\n",
      "2021-02-24 07:30:54,654 : INFO : worker thread finished; awaiting finish of 0 more threads\n",
      "2021-02-24 07:30:54,655 : INFO : EPOCH - 2 : training on 15439541 raw words (3706708 effective words) took 11.4s, 325804 effective words/s\n",
      "2021-02-24 07:30:55,660 : INFO : EPOCH 3 - PROGRESS: at 8.32% examples, 305050 words/s, in_qsize 0, out_qsize 1\n",
      "2021-02-24 07:30:56,680 : INFO : EPOCH 3 - PROGRESS: at 16.77% examples, 308132 words/s, in_qsize 10, out_qsize 1\n",
      "2021-02-24 07:30:57,692 : INFO : EPOCH 3 - PROGRESS: at 26.53% examples, 324480 words/s, in_qsize 15, out_qsize 0\n",
      "2021-02-24 07:30:58,697 : INFO : EPOCH 3 - PROGRESS: at 35.95% examples, 329727 words/s, in_qsize 0, out_qsize 0\n",
      "2021-02-24 07:30:59,698 : INFO : EPOCH 3 - PROGRESS: at 43.83% examples, 322085 words/s, in_qsize 18, out_qsize 0\n",
      "2021-02-24 07:31:00,717 : INFO : EPOCH 3 - PROGRESS: at 52.95% examples, 323716 words/s, in_qsize 4, out_qsize 4\n",
      "2021-02-24 07:31:01,721 : INFO : EPOCH 3 - PROGRESS: at 61.42% examples, 322934 words/s, in_qsize 1, out_qsize 0\n",
      "2021-02-24 07:31:02,738 : INFO : EPOCH 3 - PROGRESS: at 70.79% examples, 325184 words/s, in_qsize 0, out_qsize 1\n",
      "2021-02-24 07:31:03,752 : INFO : EPOCH 3 - PROGRESS: at 78.96% examples, 322258 words/s, in_qsize 0, out_qsize 1\n",
      "2021-02-24 07:31:04,752 : INFO : EPOCH 3 - PROGRESS: at 87.08% examples, 319960 words/s, in_qsize 18, out_qsize 3\n",
      "2021-02-24 07:31:05,761 : INFO : EPOCH 3 - PROGRESS: at 95.51% examples, 318689 words/s, in_qsize 13, out_qsize 0\n",
      "2021-02-24 07:31:06,246 : INFO : worker thread finished; awaiting finish of 11 more threads\n",
      "2021-02-24 07:31:06,248 : INFO : worker thread finished; awaiting finish of 10 more threads\n",
      "2021-02-24 07:31:06,250 : INFO : worker thread finished; awaiting finish of 9 more threads\n",
      "2021-02-24 07:31:06,251 : INFO : worker thread finished; awaiting finish of 8 more threads\n",
      "2021-02-24 07:31:06,253 : INFO : worker thread finished; awaiting finish of 7 more threads\n",
      "2021-02-24 07:31:06,256 : INFO : worker thread finished; awaiting finish of 6 more threads\n",
      "2021-02-24 07:31:06,257 : INFO : worker thread finished; awaiting finish of 5 more threads\n",
      "2021-02-24 07:31:06,259 : INFO : worker thread finished; awaiting finish of 4 more threads\n",
      "2021-02-24 07:31:06,261 : INFO : worker thread finished; awaiting finish of 3 more threads\n",
      "2021-02-24 07:31:06,262 : INFO : worker thread finished; awaiting finish of 2 more threads\n",
      "2021-02-24 07:31:06,265 : INFO : worker thread finished; awaiting finish of 1 more threads\n",
      "2021-02-24 07:31:06,270 : INFO : worker thread finished; awaiting finish of 0 more threads\n",
      "2021-02-24 07:31:06,272 : INFO : EPOCH - 3 : training on 15439541 raw words (3707763 effective words) took 11.6s, 319297 effective words/s\n",
      "2021-02-24 07:31:07,277 : INFO : EPOCH 4 - PROGRESS: at 8.70% examples, 319240 words/s, in_qsize 23, out_qsize 0\n",
      "2021-02-24 07:31:08,279 : INFO : EPOCH 4 - PROGRESS: at 16.96% examples, 315410 words/s, in_qsize 0, out_qsize 1\n",
      "2021-02-24 07:31:09,302 : INFO : EPOCH 4 - PROGRESS: at 25.49% examples, 313598 words/s, in_qsize 0, out_qsize 0\n",
      "2021-02-24 07:31:10,311 : INFO : EPOCH 4 - PROGRESS: at 33.86% examples, 311735 words/s, in_qsize 12, out_qsize 0\n"
     ]
    },
    {
     "name": "stderr",
     "output_type": "stream",
     "text": [
      "2021-02-24 07:31:11,312 : INFO : EPOCH 4 - PROGRESS: at 42.08% examples, 310034 words/s, in_qsize 23, out_qsize 0\n",
      "2021-02-24 07:31:12,322 : INFO : EPOCH 4 - PROGRESS: at 51.17% examples, 313661 words/s, in_qsize 14, out_qsize 2\n",
      "2021-02-24 07:31:13,325 : INFO : EPOCH 4 - PROGRESS: at 59.81% examples, 315288 words/s, in_qsize 0, out_qsize 0\n",
      "2021-02-24 07:31:14,330 : INFO : EPOCH 4 - PROGRESS: at 68.41% examples, 315529 words/s, in_qsize 10, out_qsize 0\n",
      "2021-02-24 07:31:15,337 : INFO : EPOCH 4 - PROGRESS: at 77.45% examples, 317196 words/s, in_qsize 4, out_qsize 1\n",
      "2021-02-24 07:31:16,342 : INFO : EPOCH 4 - PROGRESS: at 85.89% examples, 316647 words/s, in_qsize 23, out_qsize 0\n",
      "2021-02-24 07:31:17,357 : INFO : EPOCH 4 - PROGRESS: at 95.62% examples, 319889 words/s, in_qsize 1, out_qsize 0\n",
      "2021-02-24 07:31:17,842 : INFO : worker thread finished; awaiting finish of 11 more threads\n",
      "2021-02-24 07:31:17,847 : INFO : worker thread finished; awaiting finish of 10 more threads\n",
      "2021-02-24 07:31:17,849 : INFO : worker thread finished; awaiting finish of 9 more threads\n",
      "2021-02-24 07:31:17,861 : INFO : worker thread finished; awaiting finish of 8 more threads\n",
      "2021-02-24 07:31:17,865 : INFO : worker thread finished; awaiting finish of 7 more threads\n",
      "2021-02-24 07:31:17,869 : INFO : worker thread finished; awaiting finish of 6 more threads\n",
      "2021-02-24 07:31:17,879 : INFO : worker thread finished; awaiting finish of 5 more threads\n",
      "2021-02-24 07:31:17,883 : INFO : worker thread finished; awaiting finish of 4 more threads\n",
      "2021-02-24 07:31:17,885 : INFO : worker thread finished; awaiting finish of 3 more threads\n",
      "2021-02-24 07:31:17,889 : INFO : worker thread finished; awaiting finish of 2 more threads\n",
      "2021-02-24 07:31:17,891 : INFO : worker thread finished; awaiting finish of 1 more threads\n",
      "2021-02-24 07:31:17,894 : INFO : worker thread finished; awaiting finish of 0 more threads\n",
      "2021-02-24 07:31:17,895 : INFO : EPOCH - 4 : training on 15439541 raw words (3709617 effective words) took 11.6s, 319274 effective words/s\n",
      "2021-02-24 07:31:18,903 : INFO : EPOCH 5 - PROGRESS: at 8.20% examples, 298806 words/s, in_qsize 16, out_qsize 1\n",
      "2021-02-24 07:31:19,917 : INFO : EPOCH 5 - PROGRESS: at 16.57% examples, 305626 words/s, in_qsize 0, out_qsize 0\n",
      "2021-02-24 07:31:20,928 : INFO : EPOCH 5 - PROGRESS: at 25.17% examples, 308985 words/s, in_qsize 15, out_qsize 1\n",
      "2021-02-24 07:31:21,942 : INFO : EPOCH 5 - PROGRESS: at 33.68% examples, 308793 words/s, in_qsize 0, out_qsize 1\n",
      "2021-02-24 07:31:22,944 : INFO : EPOCH 5 - PROGRESS: at 43.06% examples, 316134 words/s, in_qsize 0, out_qsize 0\n",
      "2021-02-24 07:31:23,951 : INFO : EPOCH 5 - PROGRESS: at 51.37% examples, 314053 words/s, in_qsize 0, out_qsize 0\n",
      "2021-02-24 07:31:24,967 : INFO : EPOCH 5 - PROGRESS: at 59.63% examples, 313094 words/s, in_qsize 14, out_qsize 2\n",
      "2021-02-24 07:31:25,992 : INFO : EPOCH 5 - PROGRESS: at 68.22% examples, 312889 words/s, in_qsize 23, out_qsize 0\n",
      "2021-02-24 07:31:27,001 : INFO : EPOCH 5 - PROGRESS: at 78.25% examples, 318985 words/s, in_qsize 0, out_qsize 0\n",
      "2021-02-24 07:31:28,003 : INFO : EPOCH 5 - PROGRESS: at 86.75% examples, 318562 words/s, in_qsize 18, out_qsize 2\n",
      "2021-02-24 07:31:29,009 : INFO : EPOCH 5 - PROGRESS: at 96.40% examples, 321660 words/s, in_qsize 0, out_qsize 2\n",
      "2021-02-24 07:31:29,350 : INFO : worker thread finished; awaiting finish of 11 more threads\n",
      "2021-02-24 07:31:29,355 : INFO : worker thread finished; awaiting finish of 10 more threads\n",
      "2021-02-24 07:31:29,356 : INFO : worker thread finished; awaiting finish of 9 more threads\n",
      "2021-02-24 07:31:29,358 : INFO : worker thread finished; awaiting finish of 8 more threads\n",
      "2021-02-24 07:31:29,359 : INFO : worker thread finished; awaiting finish of 7 more threads\n",
      "2021-02-24 07:31:29,360 : INFO : worker thread finished; awaiting finish of 6 more threads\n",
      "2021-02-24 07:31:29,362 : INFO : worker thread finished; awaiting finish of 5 more threads\n",
      "2021-02-24 07:31:29,363 : INFO : worker thread finished; awaiting finish of 4 more threads\n",
      "2021-02-24 07:31:29,365 : INFO : worker thread finished; awaiting finish of 3 more threads\n",
      "2021-02-24 07:31:29,371 : INFO : worker thread finished; awaiting finish of 2 more threads\n",
      "2021-02-24 07:31:29,373 : INFO : worker thread finished; awaiting finish of 1 more threads\n",
      "2021-02-24 07:31:29,375 : INFO : worker thread finished; awaiting finish of 0 more threads\n",
      "2021-02-24 07:31:29,377 : INFO : EPOCH - 5 : training on 15439541 raw words (3707858 effective words) took 11.5s, 323044 effective words/s\n",
      "2021-02-24 07:31:30,384 : INFO : EPOCH 6 - PROGRESS: at 8.58% examples, 314464 words/s, in_qsize 0, out_qsize 0\n",
      "2021-02-24 07:31:31,385 : INFO : EPOCH 6 - PROGRESS: at 17.08% examples, 317342 words/s, in_qsize 23, out_qsize 1\n",
      "2021-02-24 07:31:32,411 : INFO : EPOCH 6 - PROGRESS: at 26.58% examples, 326112 words/s, in_qsize 8, out_qsize 0\n",
      "2021-02-24 07:31:33,411 : INFO : EPOCH 6 - PROGRESS: at 35.50% examples, 326592 words/s, in_qsize 0, out_qsize 0\n",
      "2021-02-24 07:31:34,417 : INFO : EPOCH 6 - PROGRESS: at 45.09% examples, 331514 words/s, in_qsize 0, out_qsize 0\n",
      "2021-02-24 07:31:35,417 : INFO : EPOCH 6 - PROGRESS: at 53.51% examples, 328785 words/s, in_qsize 0, out_qsize 0\n",
      "2021-02-24 07:31:36,417 : INFO : EPOCH 6 - PROGRESS: at 62.27% examples, 328785 words/s, in_qsize 0, out_qsize 0\n",
      "2021-02-24 07:31:37,429 : INFO : EPOCH 6 - PROGRESS: at 70.99% examples, 327595 words/s, in_qsize 21, out_qsize 1\n",
      "2021-02-24 07:31:38,444 : INFO : EPOCH 6 - PROGRESS: at 79.91% examples, 327404 words/s, in_qsize 23, out_qsize 0\n",
      "2021-02-24 07:31:39,460 : INFO : EPOCH 6 - PROGRESS: at 89.12% examples, 327978 words/s, in_qsize 14, out_qsize 0\n",
      "2021-02-24 07:31:40,462 : INFO : EPOCH 6 - PROGRESS: at 97.97% examples, 327981 words/s, in_qsize 0, out_qsize 0\n",
      "2021-02-24 07:31:40,664 : INFO : worker thread finished; awaiting finish of 11 more threads\n",
      "2021-02-24 07:31:40,666 : INFO : worker thread finished; awaiting finish of 10 more threads\n",
      "2021-02-24 07:31:40,668 : INFO : worker thread finished; awaiting finish of 9 more threads\n",
      "2021-02-24 07:31:40,669 : INFO : worker thread finished; awaiting finish of 8 more threads\n",
      "2021-02-24 07:31:40,671 : INFO : worker thread finished; awaiting finish of 7 more threads\n",
      "2021-02-24 07:31:40,673 : INFO : worker thread finished; awaiting finish of 6 more threads\n",
      "2021-02-24 07:31:40,674 : INFO : worker thread finished; awaiting finish of 5 more threads\n",
      "2021-02-24 07:31:40,676 : INFO : worker thread finished; awaiting finish of 4 more threads\n",
      "2021-02-24 07:31:40,677 : INFO : worker thread finished; awaiting finish of 3 more threads\n",
      "2021-02-24 07:31:40,680 : INFO : worker thread finished; awaiting finish of 2 more threads\n",
      "2021-02-24 07:31:40,685 : INFO : worker thread finished; awaiting finish of 1 more threads\n",
      "2021-02-24 07:31:40,687 : INFO : worker thread finished; awaiting finish of 0 more threads\n",
      "2021-02-24 07:31:40,688 : INFO : EPOCH - 6 : training on 15439541 raw words (3709222 effective words) took 11.3s, 328073 effective words/s\n",
      "2021-02-24 07:31:41,707 : INFO : EPOCH 7 - PROGRESS: at 8.76% examples, 317593 words/s, in_qsize 0, out_qsize 0\n",
      "2021-02-24 07:31:42,708 : INFO : EPOCH 7 - PROGRESS: at 17.71% examples, 327211 words/s, in_qsize 1, out_qsize 1\n",
      "2021-02-24 07:31:43,743 : INFO : EPOCH 7 - PROGRESS: at 27.17% examples, 330661 words/s, in_qsize 0, out_qsize 3\n",
      "2021-02-24 07:31:44,743 : INFO : EPOCH 7 - PROGRESS: at 35.69% examples, 326580 words/s, in_qsize 17, out_qsize 0\n",
      "2021-02-24 07:31:45,746 : INFO : EPOCH 7 - PROGRESS: at 45.34% examples, 332157 words/s, in_qsize 0, out_qsize 1\n",
      "2021-02-24 07:31:46,747 : INFO : EPOCH 7 - PROGRESS: at 54.53% examples, 334185 words/s, in_qsize 0, out_qsize 0\n",
      "2021-02-24 07:31:47,750 : INFO : EPOCH 7 - PROGRESS: at 63.15% examples, 332402 words/s, in_qsize 9, out_qsize 0\n",
      "2021-02-24 07:31:48,770 : INFO : EPOCH 7 - PROGRESS: at 72.11% examples, 331568 words/s, in_qsize 19, out_qsize 0\n",
      "2021-02-24 07:31:49,773 : INFO : EPOCH 7 - PROGRESS: at 81.74% examples, 333931 words/s, in_qsize 0, out_qsize 0\n",
      "2021-02-24 07:31:50,833 : INFO : EPOCH 7 - PROGRESS: at 90.94% examples, 332197 words/s, in_qsize 24, out_qsize 3\n",
      "2021-02-24 07:31:51,724 : INFO : worker thread finished; awaiting finish of 11 more threads\n"
     ]
    },
    {
     "name": "stderr",
     "output_type": "stream",
     "text": [
      "2021-02-24 07:31:51,726 : INFO : worker thread finished; awaiting finish of 10 more threads\n",
      "2021-02-24 07:31:51,727 : INFO : worker thread finished; awaiting finish of 9 more threads\n",
      "2021-02-24 07:31:51,729 : INFO : worker thread finished; awaiting finish of 8 more threads\n",
      "2021-02-24 07:31:51,730 : INFO : worker thread finished; awaiting finish of 7 more threads\n",
      "2021-02-24 07:31:51,732 : INFO : worker thread finished; awaiting finish of 6 more threads\n",
      "2021-02-24 07:31:51,734 : INFO : worker thread finished; awaiting finish of 5 more threads\n",
      "2021-02-24 07:31:51,735 : INFO : worker thread finished; awaiting finish of 4 more threads\n",
      "2021-02-24 07:31:51,736 : INFO : worker thread finished; awaiting finish of 3 more threads\n",
      "2021-02-24 07:31:51,742 : INFO : worker thread finished; awaiting finish of 2 more threads\n",
      "2021-02-24 07:31:51,744 : INFO : worker thread finished; awaiting finish of 1 more threads\n",
      "2021-02-24 07:31:51,749 : INFO : worker thread finished; awaiting finish of 0 more threads\n",
      "2021-02-24 07:31:51,750 : INFO : EPOCH - 7 : training on 15439541 raw words (3707350 effective words) took 11.1s, 335316 effective words/s\n",
      "2021-02-24 07:31:52,756 : INFO : EPOCH 8 - PROGRESS: at 8.64% examples, 317214 words/s, in_qsize 0, out_qsize 0\n",
      "2021-02-24 07:31:53,759 : INFO : EPOCH 8 - PROGRESS: at 17.72% examples, 329177 words/s, in_qsize 0, out_qsize 0\n",
      "2021-02-24 07:31:54,759 : INFO : EPOCH 8 - PROGRESS: at 26.14% examples, 323042 words/s, in_qsize 21, out_qsize 1\n",
      "2021-02-24 07:31:55,773 : INFO : EPOCH 8 - PROGRESS: at 35.95% examples, 331511 words/s, in_qsize 0, out_qsize 0\n",
      "2021-02-24 07:31:56,781 : INFO : EPOCH 8 - PROGRESS: at 44.83% examples, 330196 words/s, in_qsize 0, out_qsize 1\n",
      "2021-02-24 07:31:57,788 : INFO : EPOCH 8 - PROGRESS: at 53.81% examples, 330907 words/s, in_qsize 0, out_qsize 0\n",
      "2021-02-24 07:31:58,790 : INFO : EPOCH 8 - PROGRESS: at 62.85% examples, 331705 words/s, in_qsize 0, out_qsize 0\n",
      "2021-02-24 07:31:59,802 : INFO : EPOCH 8 - PROGRESS: at 71.31% examples, 328952 words/s, in_qsize 23, out_qsize 0\n",
      "2021-02-24 07:32:00,802 : INFO : EPOCH 8 - PROGRESS: at 80.79% examples, 331565 words/s, in_qsize 0, out_qsize 0\n",
      "2021-02-24 07:32:01,809 : INFO : EPOCH 8 - PROGRESS: at 90.28% examples, 332602 words/s, in_qsize 0, out_qsize 1\n",
      "2021-02-24 07:32:02,818 : INFO : EPOCH 8 - PROGRESS: at 99.04% examples, 332094 words/s, in_qsize 15, out_qsize 0\n",
      "2021-02-24 07:32:02,841 : INFO : worker thread finished; awaiting finish of 11 more threads\n",
      "2021-02-24 07:32:02,843 : INFO : worker thread finished; awaiting finish of 10 more threads\n",
      "2021-02-24 07:32:02,845 : INFO : worker thread finished; awaiting finish of 9 more threads\n",
      "2021-02-24 07:32:02,847 : INFO : worker thread finished; awaiting finish of 8 more threads\n",
      "2021-02-24 07:32:02,851 : INFO : worker thread finished; awaiting finish of 7 more threads\n",
      "2021-02-24 07:32:02,856 : INFO : worker thread finished; awaiting finish of 6 more threads\n",
      "2021-02-24 07:32:02,858 : INFO : worker thread finished; awaiting finish of 5 more threads\n",
      "2021-02-24 07:32:02,861 : INFO : worker thread finished; awaiting finish of 4 more threads\n",
      "2021-02-24 07:32:02,863 : INFO : worker thread finished; awaiting finish of 3 more threads\n",
      "2021-02-24 07:32:02,871 : INFO : worker thread finished; awaiting finish of 2 more threads\n",
      "2021-02-24 07:32:02,873 : INFO : worker thread finished; awaiting finish of 1 more threads\n",
      "2021-02-24 07:32:02,875 : INFO : worker thread finished; awaiting finish of 0 more threads\n",
      "2021-02-24 07:32:02,877 : INFO : EPOCH - 8 : training on 15439541 raw words (3707974 effective words) took 11.1s, 333387 effective words/s\n",
      "2021-02-24 07:32:03,890 : INFO : EPOCH 9 - PROGRESS: at 8.64% examples, 314373 words/s, in_qsize 15, out_qsize 0\n",
      "2021-02-24 07:32:04,902 : INFO : EPOCH 9 - PROGRESS: at 17.09% examples, 314175 words/s, in_qsize 21, out_qsize 1\n",
      "2021-02-24 07:32:05,920 : INFO : EPOCH 9 - PROGRESS: at 26.91% examples, 328630 words/s, in_qsize 0, out_qsize 0\n",
      "2021-02-24 07:32:06,935 : INFO : EPOCH 9 - PROGRESS: at 36.13% examples, 330475 words/s, in_qsize 0, out_qsize 1\n",
      "2021-02-24 07:32:07,940 : INFO : EPOCH 9 - PROGRESS: at 44.44% examples, 325303 words/s, in_qsize 10, out_qsize 1\n",
      "2021-02-24 07:32:08,947 : INFO : EPOCH 9 - PROGRESS: at 54.07% examples, 330872 words/s, in_qsize 0, out_qsize 0\n",
      "2021-02-24 07:32:09,963 : INFO : EPOCH 9 - PROGRESS: at 63.03% examples, 330636 words/s, in_qsize 0, out_qsize 1\n",
      "2021-02-24 07:32:10,966 : INFO : EPOCH 9 - PROGRESS: at 71.37% examples, 327805 words/s, in_qsize 22, out_qsize 0\n",
      "2021-02-24 07:32:11,976 : INFO : EPOCH 9 - PROGRESS: at 80.67% examples, 329268 words/s, in_qsize 13, out_qsize 0\n",
      "2021-02-24 07:32:12,979 : INFO : EPOCH 9 - PROGRESS: at 90.62% examples, 332376 words/s, in_qsize 0, out_qsize 0\n",
      "2021-02-24 07:32:13,988 : INFO : EPOCH 9 - PROGRESS: at 99.51% examples, 332355 words/s, in_qsize 0, out_qsize 0\n",
      "2021-02-24 07:32:13,994 : INFO : worker thread finished; awaiting finish of 11 more threads\n",
      "2021-02-24 07:32:13,996 : INFO : worker thread finished; awaiting finish of 10 more threads\n",
      "2021-02-24 07:32:13,998 : INFO : worker thread finished; awaiting finish of 9 more threads\n",
      "2021-02-24 07:32:14,001 : INFO : worker thread finished; awaiting finish of 8 more threads\n",
      "2021-02-24 07:32:14,003 : INFO : worker thread finished; awaiting finish of 7 more threads\n",
      "2021-02-24 07:32:14,005 : INFO : worker thread finished; awaiting finish of 6 more threads\n",
      "2021-02-24 07:32:14,006 : INFO : worker thread finished; awaiting finish of 5 more threads\n",
      "2021-02-24 07:32:14,008 : INFO : worker thread finished; awaiting finish of 4 more threads\n",
      "2021-02-24 07:32:14,009 : INFO : worker thread finished; awaiting finish of 3 more threads\n",
      "2021-02-24 07:32:14,013 : INFO : worker thread finished; awaiting finish of 2 more threads\n",
      "2021-02-24 07:32:14,018 : INFO : worker thread finished; awaiting finish of 1 more threads\n",
      "2021-02-24 07:32:14,020 : INFO : worker thread finished; awaiting finish of 0 more threads\n",
      "2021-02-24 07:32:14,021 : INFO : EPOCH - 9 : training on 15439541 raw words (3708091 effective words) took 11.1s, 332902 effective words/s\n",
      "2021-02-24 07:32:15,026 : INFO : EPOCH 10 - PROGRESS: at 8.45% examples, 309311 words/s, in_qsize 3, out_qsize 0\n",
      "2021-02-24 07:32:16,030 : INFO : EPOCH 10 - PROGRESS: at 17.27% examples, 320142 words/s, in_qsize 3, out_qsize 0\n",
      "2021-02-24 07:32:17,032 : INFO : EPOCH 10 - PROGRESS: at 25.75% examples, 318013 words/s, in_qsize 23, out_qsize 0\n",
      "2021-02-24 07:32:18,037 : INFO : EPOCH 10 - PROGRESS: at 34.50% examples, 318915 words/s, in_qsize 22, out_qsize 1\n",
      "2021-02-24 07:32:19,039 : INFO : EPOCH 10 - PROGRESS: at 43.51% examples, 321406 words/s, in_qsize 21, out_qsize 0\n",
      "2021-02-24 07:32:20,069 : INFO : EPOCH 10 - PROGRESS: at 52.95% examples, 324467 words/s, in_qsize 22, out_qsize 1\n",
      "2021-02-24 07:32:21,089 : INFO : EPOCH 10 - PROGRESS: at 62.41% examples, 327958 words/s, in_qsize 1, out_qsize 1\n",
      "2021-02-24 07:32:22,102 : INFO : EPOCH 10 - PROGRESS: at 70.99% examples, 326282 words/s, in_qsize 0, out_qsize 2\n",
      "2021-02-24 07:32:23,112 : INFO : EPOCH 10 - PROGRESS: at 80.49% examples, 328736 words/s, in_qsize 0, out_qsize 0\n",
      "2021-02-24 07:32:24,117 : INFO : EPOCH 10 - PROGRESS: at 89.87% examples, 330031 words/s, in_qsize 0, out_qsize 0\n",
      "2021-02-24 07:32:25,137 : INFO : EPOCH 10 - PROGRESS: at 98.60% examples, 329220 words/s, in_qsize 2, out_qsize 1\n",
      "2021-02-24 07:32:25,221 : INFO : worker thread finished; awaiting finish of 11 more threads\n",
      "2021-02-24 07:32:25,227 : INFO : worker thread finished; awaiting finish of 10 more threads\n",
      "2021-02-24 07:32:25,235 : INFO : worker thread finished; awaiting finish of 9 more threads\n",
      "2021-02-24 07:32:25,238 : INFO : worker thread finished; awaiting finish of 8 more threads\n",
      "2021-02-24 07:32:25,242 : INFO : worker thread finished; awaiting finish of 7 more threads\n",
      "2021-02-24 07:32:25,246 : INFO : worker thread finished; awaiting finish of 6 more threads\n",
      "2021-02-24 07:32:25,247 : INFO : worker thread finished; awaiting finish of 5 more threads\n",
      "2021-02-24 07:32:25,249 : INFO : worker thread finished; awaiting finish of 4 more threads\n",
      "2021-02-24 07:32:25,250 : INFO : worker thread finished; awaiting finish of 3 more threads\n",
      "2021-02-24 07:32:25,252 : INFO : worker thread finished; awaiting finish of 2 more threads\n"
     ]
    },
    {
     "name": "stderr",
     "output_type": "stream",
     "text": [
      "2021-02-24 07:32:25,254 : INFO : worker thread finished; awaiting finish of 1 more threads\n",
      "2021-02-24 07:32:25,256 : INFO : worker thread finished; awaiting finish of 0 more threads\n",
      "2021-02-24 07:32:25,257 : INFO : EPOCH - 10 : training on 15439541 raw words (3708000 effective words) took 11.2s, 330142 effective words/s\n",
      "2021-02-24 07:32:25,259 : INFO : training on a 154395410 raw words (37080196 effective words) took 113.3s, 327416 effective words/s\n",
      "2021-02-24 07:32:25,260 : INFO : saving Word2Vec object under dados/experimento_8/w2v_jur.model, separately None\n",
      "2021-02-24 07:32:25,261 : INFO : not storing attribute vectors_norm\n",
      "2021-02-24 07:32:25,263 : INFO : not storing attribute cum_table\n",
      "2021-02-24 07:32:26,134 : INFO : saved dados/experimento_8/w2v_jur.model\n"
     ]
    },
    {
     "name": "stdout",
     "output_type": "stream",
     "text": [
      "treinando modelo word2vec\n"
     ]
    },
    {
     "name": "stderr",
     "output_type": "stream",
     "text": [
      "2021-02-24 07:32:26,137 : INFO : resetting layer weights\n",
      "2021-02-24 07:32:31,084 : INFO : collecting all words and their counts\n",
      "2021-02-24 07:32:31,086 : INFO : PROGRESS: at sentence #0, processed 0 words, keeping 0 word types\n",
      "2021-02-24 07:32:31,152 : INFO : PROGRESS: at sentence #10000, processed 238506 words, keeping 13362 word types\n",
      "2021-02-24 07:32:31,219 : INFO : PROGRESS: at sentence #20000, processed 476037 words, keeping 18575 word types\n",
      "2021-02-24 07:32:31,287 : INFO : PROGRESS: at sentence #30000, processed 715845 words, keeping 22113 word types\n",
      "2021-02-24 07:32:31,356 : INFO : PROGRESS: at sentence #40000, processed 957282 words, keeping 25051 word types\n",
      "2021-02-24 07:32:31,428 : INFO : PROGRESS: at sentence #50000, processed 1201499 words, keeping 27892 word types\n",
      "2021-02-24 07:32:31,497 : INFO : PROGRESS: at sentence #60000, processed 1448497 words, keeping 30368 word types\n",
      "2021-02-24 07:32:31,566 : INFO : PROGRESS: at sentence #70000, processed 1697299 words, keeping 32537 word types\n",
      "2021-02-24 07:32:31,632 : INFO : PROGRESS: at sentence #80000, processed 1933468 words, keeping 34173 word types\n",
      "2021-02-24 07:32:31,700 : INFO : PROGRESS: at sentence #90000, processed 2184501 words, keeping 35969 word types\n",
      "2021-02-24 07:32:31,769 : INFO : PROGRESS: at sentence #100000, processed 2431505 words, keeping 37749 word types\n",
      "2021-02-24 07:32:31,835 : INFO : PROGRESS: at sentence #110000, processed 2669821 words, keeping 39435 word types\n",
      "2021-02-24 07:32:31,902 : INFO : PROGRESS: at sentence #120000, processed 2914081 words, keeping 40787 word types\n",
      "2021-02-24 07:32:31,970 : INFO : PROGRESS: at sentence #130000, processed 3156746 words, keeping 42083 word types\n",
      "2021-02-24 07:32:32,039 : INFO : PROGRESS: at sentence #140000, processed 3396174 words, keeping 43477 word types\n",
      "2021-02-24 07:32:32,107 : INFO : PROGRESS: at sentence #150000, processed 3641148 words, keeping 44850 word types\n",
      "2021-02-24 07:32:32,175 : INFO : PROGRESS: at sentence #160000, processed 3885194 words, keeping 45982 word types\n",
      "2021-02-24 07:32:32,242 : INFO : PROGRESS: at sentence #170000, processed 4131399 words, keeping 47150 word types\n",
      "2021-02-24 07:32:32,313 : INFO : PROGRESS: at sentence #180000, processed 4367228 words, keeping 48318 word types\n",
      "2021-02-24 07:32:32,383 : INFO : PROGRESS: at sentence #190000, processed 4606041 words, keeping 49409 word types\n",
      "2021-02-24 07:32:32,450 : INFO : PROGRESS: at sentence #200000, processed 4850562 words, keeping 50476 word types\n",
      "2021-02-24 07:32:32,517 : INFO : PROGRESS: at sentence #210000, processed 5093364 words, keeping 51605 word types\n",
      "2021-02-24 07:32:32,585 : INFO : PROGRESS: at sentence #220000, processed 5334324 words, keeping 52471 word types\n",
      "2021-02-24 07:32:32,652 : INFO : PROGRESS: at sentence #230000, processed 5575160 words, keeping 53429 word types\n",
      "2021-02-24 07:32:32,721 : INFO : PROGRESS: at sentence #240000, processed 5821697 words, keeping 54389 word types\n",
      "2021-02-24 07:32:32,786 : INFO : PROGRESS: at sentence #250000, processed 6060393 words, keeping 55297 word types\n",
      "2021-02-24 07:32:32,855 : INFO : PROGRESS: at sentence #260000, processed 6302062 words, keeping 56095 word types\n",
      "2021-02-24 07:32:32,921 : INFO : PROGRESS: at sentence #270000, processed 6543842 words, keeping 56920 word types\n",
      "2021-02-24 07:32:32,990 : INFO : PROGRESS: at sentence #280000, processed 6783221 words, keeping 57739 word types\n",
      "2021-02-24 07:32:33,057 : INFO : PROGRESS: at sentence #290000, processed 7024168 words, keeping 58631 word types\n",
      "2021-02-24 07:32:33,124 : INFO : PROGRESS: at sentence #300000, processed 7261557 words, keeping 59404 word types\n",
      "2021-02-24 07:32:33,191 : INFO : PROGRESS: at sentence #310000, processed 7501424 words, keeping 60134 word types\n",
      "2021-02-24 07:32:33,258 : INFO : PROGRESS: at sentence #320000, processed 7745017 words, keeping 60983 word types\n",
      "2021-02-24 07:32:33,328 : INFO : PROGRESS: at sentence #330000, processed 7989435 words, keeping 61690 word types\n",
      "2021-02-24 07:32:33,396 : INFO : PROGRESS: at sentence #340000, processed 8236477 words, keeping 62504 word types\n",
      "2021-02-24 07:32:33,465 : INFO : PROGRESS: at sentence #350000, processed 8484093 words, keeping 63359 word types\n",
      "2021-02-24 07:32:33,532 : INFO : PROGRESS: at sentence #360000, processed 8727927 words, keeping 64091 word types\n",
      "2021-02-24 07:32:33,598 : INFO : PROGRESS: at sentence #370000, processed 8966875 words, keeping 64816 word types\n",
      "2021-02-24 07:32:33,664 : INFO : PROGRESS: at sentence #380000, processed 9208776 words, keeping 65537 word types\n",
      "2021-02-24 07:32:33,732 : INFO : PROGRESS: at sentence #390000, processed 9456228 words, keeping 66272 word types\n",
      "2021-02-24 07:32:33,800 : INFO : PROGRESS: at sentence #400000, processed 9696373 words, keeping 66990 word types\n",
      "2021-02-24 07:32:33,868 : INFO : PROGRESS: at sentence #410000, processed 9932601 words, keeping 67534 word types\n",
      "2021-02-24 07:32:33,935 : INFO : PROGRESS: at sentence #420000, processed 10171012 words, keeping 68232 word types\n",
      "2021-02-24 07:32:34,004 : INFO : PROGRESS: at sentence #430000, processed 10413966 words, keeping 69048 word types\n",
      "2021-02-24 07:32:34,070 : INFO : PROGRESS: at sentence #440000, processed 10651731 words, keeping 69708 word types\n",
      "2021-02-24 07:32:34,137 : INFO : PROGRESS: at sentence #450000, processed 10894176 words, keeping 70262 word types\n",
      "2021-02-24 07:32:34,207 : INFO : PROGRESS: at sentence #460000, processed 11144412 words, keeping 70875 word types\n",
      "2021-02-24 07:32:34,275 : INFO : PROGRESS: at sentence #470000, processed 11381556 words, keeping 71432 word types\n",
      "2021-02-24 07:32:34,341 : INFO : PROGRESS: at sentence #480000, processed 11621137 words, keeping 71971 word types\n",
      "2021-02-24 07:32:34,411 : INFO : PROGRESS: at sentence #490000, processed 11862539 words, keeping 72581 word types\n",
      "2021-02-24 07:32:34,479 : INFO : PROGRESS: at sentence #500000, processed 12111980 words, keeping 73259 word types\n",
      "2021-02-24 07:32:34,547 : INFO : PROGRESS: at sentence #510000, processed 12354995 words, keeping 73913 word types\n",
      "2021-02-24 07:32:34,615 : INFO : PROGRESS: at sentence #520000, processed 12600685 words, keeping 74493 word types\n",
      "2021-02-24 07:32:34,680 : INFO : PROGRESS: at sentence #530000, processed 12836797 words, keeping 75015 word types\n",
      "2021-02-24 07:32:34,747 : INFO : PROGRESS: at sentence #540000, processed 13080981 words, keeping 75563 word types\n",
      "2021-02-24 07:32:34,814 : INFO : PROGRESS: at sentence #550000, processed 13317477 words, keeping 76091 word types\n",
      "2021-02-24 07:32:34,882 : INFO : PROGRESS: at sentence #560000, processed 13560729 words, keeping 76679 word types\n",
      "2021-02-24 07:32:34,950 : INFO : PROGRESS: at sentence #570000, processed 13793217 words, keeping 77188 word types\n",
      "2021-02-24 07:32:35,016 : INFO : PROGRESS: at sentence #580000, processed 14025694 words, keeping 77674 word types\n",
      "2021-02-24 07:32:35,083 : INFO : PROGRESS: at sentence #590000, processed 14266597 words, keeping 78222 word types\n",
      "2021-02-24 07:32:35,152 : INFO : PROGRESS: at sentence #600000, processed 14508913 words, keeping 78745 word types\n",
      "2021-02-24 07:32:35,220 : INFO : PROGRESS: at sentence #610000, processed 14756743 words, keeping 79469 word types\n",
      "2021-02-24 07:32:35,288 : INFO : PROGRESS: at sentence #620000, processed 15003073 words, keeping 79976 word types\n",
      "2021-02-24 07:32:35,356 : INFO : PROGRESS: at sentence #630000, processed 15250826 words, keeping 80590 word types\n",
      "2021-02-24 07:32:35,407 : INFO : collected 80938 word types from a corpus of 15439541 raw words and 637964 sentences\n",
      "2021-02-24 07:32:35,408 : INFO : Loading a fresh vocabulary\n",
      "2021-02-24 07:32:35,459 : INFO : effective_min_count=5 retains 32541 unique words (40% of original 80938, drops 48397)\n",
      "2021-02-24 07:32:35,461 : INFO : effective_min_count=5 leaves 15357940 word corpus (99% of original 15439541, drops 81601)\n",
      "2021-02-24 07:32:35,538 : INFO : deleting the raw counts dictionary of 80938 items\n",
      "2021-02-24 07:32:35,540 : INFO : sample=0.001 downsamples 37 most-common words\n",
      "2021-02-24 07:32:35,541 : INFO : downsampling leaves estimated 11114899 word corpus (72.4% of prior 15357940)\n",
      "2021-02-24 07:32:35,564 : INFO : constructing a huffman tree from 32541 words\n",
      "2021-02-24 07:32:36,253 : INFO : built huffman tree with maximum node depth 22\n"
     ]
    },
    {
     "name": "stderr",
     "output_type": "stream",
     "text": [
      "2021-02-24 07:32:36,594 : INFO : estimated required memory for 32541 words, 138071 buckets and 100 dimensions: 125829908 bytes\n",
      "2021-02-24 07:32:36,599 : INFO : resetting layer weights\n",
      "2021-02-24 07:32:40,003 : INFO : training model with 12 workers on 32541 vocabulary and 100 features, using sg=1 hs=1 sample=0.001 negative=5 window=5\n",
      "2021-02-24 07:33:32,318 : INFO : EPOCH 1 - PROGRESS: at 8.37% words, 17778 words/s, in_qsize -1, out_qsize 1\n",
      "2021-02-24 07:33:32,320 : INFO : worker thread finished; awaiting finish of 11 more threads\n",
      "2021-02-24 07:33:32,389 : INFO : worker thread finished; awaiting finish of 10 more threads\n",
      "2021-02-24 07:33:32,394 : INFO : worker thread finished; awaiting finish of 9 more threads\n",
      "2021-02-24 07:33:32,759 : INFO : worker thread finished; awaiting finish of 8 more threads\n",
      "2021-02-24 07:33:32,896 : INFO : worker thread finished; awaiting finish of 7 more threads\n",
      "2021-02-24 07:33:32,996 : INFO : worker thread finished; awaiting finish of 6 more threads\n",
      "2021-02-24 07:33:33,045 : INFO : worker thread finished; awaiting finish of 5 more threads\n",
      "2021-02-24 07:33:33,064 : INFO : worker thread finished; awaiting finish of 4 more threads\n",
      "2021-02-24 07:33:33,100 : INFO : worker thread finished; awaiting finish of 3 more threads\n",
      "2021-02-24 07:33:33,130 : INFO : worker thread finished; awaiting finish of 2 more threads\n",
      "2021-02-24 07:33:33,193 : INFO : worker thread finished; awaiting finish of 1 more threads\n",
      "2021-02-24 07:33:33,196 : INFO : worker thread finished; awaiting finish of 0 more threads\n",
      "2021-02-24 07:33:33,197 : INFO : EPOCH - 1 : training on 15508603 raw words (11164652 effective words) took 53.1s, 210063 effective words/s\n",
      "2021-02-24 07:34:24,751 : INFO : EPOCH 2 - PROGRESS: at 8.33% words, 17975 words/s, in_qsize -1, out_qsize 1\n",
      "2021-02-24 07:34:24,752 : INFO : worker thread finished; awaiting finish of 11 more threads\n",
      "2021-02-24 07:34:24,759 : INFO : worker thread finished; awaiting finish of 10 more threads\n",
      "2021-02-24 07:34:24,835 : INFO : worker thread finished; awaiting finish of 9 more threads\n",
      "2021-02-24 07:34:24,971 : INFO : worker thread finished; awaiting finish of 8 more threads\n",
      "2021-02-24 07:34:25,318 : INFO : worker thread finished; awaiting finish of 7 more threads\n",
      "2021-02-24 07:34:25,344 : INFO : worker thread finished; awaiting finish of 6 more threads\n",
      "2021-02-24 07:34:25,558 : INFO : worker thread finished; awaiting finish of 5 more threads\n",
      "2021-02-24 07:34:25,596 : INFO : worker thread finished; awaiting finish of 4 more threads\n",
      "2021-02-24 07:34:25,605 : INFO : worker thread finished; awaiting finish of 3 more threads\n",
      "2021-02-24 07:34:25,631 : INFO : worker thread finished; awaiting finish of 2 more threads\n",
      "2021-02-24 07:34:25,653 : INFO : worker thread finished; awaiting finish of 1 more threads\n",
      "2021-02-24 07:34:25,678 : INFO : worker thread finished; awaiting finish of 0 more threads\n",
      "2021-02-24 07:34:25,679 : INFO : EPOCH - 2 : training on 15508603 raw words (11165682 effective words) took 52.4s, 212931 effective words/s\n",
      "2021-02-24 07:35:17,132 : INFO : EPOCH 3 - PROGRESS: at 8.37% words, 18090 words/s, in_qsize -1, out_qsize 1\n",
      "2021-02-24 07:35:17,134 : INFO : worker thread finished; awaiting finish of 11 more threads\n",
      "2021-02-24 07:35:17,135 : INFO : worker thread finished; awaiting finish of 10 more threads\n",
      "2021-02-24 07:35:17,375 : INFO : worker thread finished; awaiting finish of 9 more threads\n",
      "2021-02-24 07:35:17,642 : INFO : worker thread finished; awaiting finish of 8 more threads\n",
      "2021-02-24 07:35:17,836 : INFO : worker thread finished; awaiting finish of 7 more threads\n",
      "2021-02-24 07:35:17,933 : INFO : worker thread finished; awaiting finish of 6 more threads\n",
      "2021-02-24 07:35:18,074 : INFO : worker thread finished; awaiting finish of 5 more threads\n",
      "2021-02-24 07:35:18,079 : INFO : worker thread finished; awaiting finish of 4 more threads\n",
      "2021-02-24 07:35:18,905 : INFO : EPOCH 3 - PROGRESS: at 75.33% words, 157489 words/s, in_qsize -1, out_qsize 1\n",
      "2021-02-24 07:35:18,906 : INFO : worker thread finished; awaiting finish of 3 more threads\n",
      "2021-02-24 07:35:18,950 : INFO : worker thread finished; awaiting finish of 2 more threads\n",
      "2021-02-24 07:35:18,961 : INFO : worker thread finished; awaiting finish of 1 more threads\n",
      "2021-02-24 07:35:18,973 : INFO : worker thread finished; awaiting finish of 0 more threads\n",
      "2021-02-24 07:35:18,974 : INFO : EPOCH - 3 : training on 15508603 raw words (11166212 effective words) took 53.2s, 209700 effective words/s\n",
      "2021-02-24 07:36:10,495 : INFO : EPOCH 4 - PROGRESS: at 8.37% words, 18054 words/s, in_qsize -1, out_qsize 1\n",
      "2021-02-24 07:36:10,496 : INFO : worker thread finished; awaiting finish of 11 more threads\n",
      "2021-02-24 07:36:10,571 : INFO : worker thread finished; awaiting finish of 10 more threads\n",
      "2021-02-24 07:36:10,671 : INFO : worker thread finished; awaiting finish of 9 more threads\n",
      "2021-02-24 07:36:10,732 : INFO : worker thread finished; awaiting finish of 8 more threads\n",
      "2021-02-24 07:36:10,908 : INFO : worker thread finished; awaiting finish of 7 more threads\n",
      "2021-02-24 07:36:10,948 : INFO : worker thread finished; awaiting finish of 6 more threads\n",
      "2021-02-24 07:36:10,973 : INFO : worker thread finished; awaiting finish of 5 more threads\n",
      "2021-02-24 07:36:11,006 : INFO : worker thread finished; awaiting finish of 4 more threads\n",
      "2021-02-24 07:36:11,054 : INFO : worker thread finished; awaiting finish of 3 more threads\n",
      "2021-02-24 07:36:11,162 : INFO : worker thread finished; awaiting finish of 2 more threads\n",
      "2021-02-24 07:36:11,221 : INFO : worker thread finished; awaiting finish of 1 more threads\n",
      "2021-02-24 07:36:11,233 : INFO : worker thread finished; awaiting finish of 0 more threads\n",
      "2021-02-24 07:36:11,235 : INFO : EPOCH - 4 : training on 15508603 raw words (11165123 effective words) took 52.2s, 213827 effective words/s\n",
      "2021-02-24 07:37:02,726 : INFO : EPOCH 5 - PROGRESS: at 8.37% words, 18060 words/s, in_qsize -1, out_qsize 1\n",
      "2021-02-24 07:37:02,728 : INFO : worker thread finished; awaiting finish of 11 more threads\n",
      "2021-02-24 07:37:02,870 : INFO : worker thread finished; awaiting finish of 10 more threads\n",
      "2021-02-24 07:37:02,933 : INFO : worker thread finished; awaiting finish of 9 more threads\n",
      "2021-02-24 07:37:03,010 : INFO : worker thread finished; awaiting finish of 8 more threads\n",
      "2021-02-24 07:37:03,219 : INFO : worker thread finished; awaiting finish of 7 more threads\n",
      "2021-02-24 07:37:03,298 : INFO : worker thread finished; awaiting finish of 6 more threads\n",
      "2021-02-24 07:37:03,320 : INFO : worker thread finished; awaiting finish of 5 more threads\n",
      "2021-02-24 07:37:03,401 : INFO : worker thread finished; awaiting finish of 4 more threads\n",
      "2021-02-24 07:37:03,465 : INFO : worker thread finished; awaiting finish of 3 more threads\n",
      "2021-02-24 07:37:03,548 : INFO : worker thread finished; awaiting finish of 2 more threads\n",
      "2021-02-24 07:37:03,556 : INFO : worker thread finished; awaiting finish of 1 more threads\n",
      "2021-02-24 07:37:03,611 : INFO : worker thread finished; awaiting finish of 0 more threads\n",
      "2021-02-24 07:37:03,612 : INFO : EPOCH - 5 : training on 15508603 raw words (11163299 effective words) took 52.3s, 213313 effective words/s\n",
      "2021-02-24 07:37:03,615 : INFO : training on a 77543015 raw words (55824968 effective words) took 263.6s, 211771 effective words/s\n",
      "2021-02-24 07:37:03,616 : WARNING : under 10 jobs per worker: consider setting a smaller `batch_words' for smoother alpha decay\n",
      "2021-02-24 07:37:05,130 : INFO : saving FastText object under dados/experimento_8/ftt_jur.model, separately None\n",
      "2021-02-24 07:37:05,131 : INFO : storing np array 'vectors_ngrams' to dados/experimento_8/ftt_jur.model.wv.vectors_ngrams.npy\n",
      "2021-02-24 07:37:12,442 : INFO : not storing attribute vectors_norm\n",
      "2021-02-24 07:37:12,444 : INFO : not storing attribute vectors_vocab_norm\n",
      "2021-02-24 07:37:12,445 : INFO : not storing attribute vectors_ngrams_norm\n",
      "2021-02-24 07:37:12,446 : INFO : not storing attribute buckets_word\n",
      "2021-02-24 07:37:12,447 : INFO : storing np array 'vectors_ngrams_lockf' to dados/experimento_8/ftt_jur.model.trainables.vectors_ngrams_lockf.npy\n",
      "2021-02-24 07:37:20,224 : INFO : saved dados/experimento_8/ftt_jur.model\n"
     ]
    },
    {
     "name": "stdout",
     "output_type": "stream",
     "text": [
      "treinando modelo glove\n",
      "mkdir -p build\n",
      "tokenizando corpus\n",
      "$ build/vocab_count -min-count 5 -verbose 2 < ../mestrado/experimentos_mestrado/dados/experimento_8/base_treino_glv.txt > ../mestrado/experimentos_mestrado/dados/experimento_8/glove_vocab.txt\n",
      "criando matriz de coocorrencia\n",
      "$ build/cooccur -memory 4.0 -vocab-file ../mestrado/experimentos_mestrado/dados/experimento_8/glove_vocab.txt -verbose 2 -window-size 15 < ../mestrado/experimentos_mestrado/dados/experimento_8/base_treino_glv.txt > ../mestrado/experimentos_mestrado/dados/experimento_8/glv_concurrence.bin\n",
      "$ build/shuffle -memory 4.0 -verbose 2 < ../mestrado/experimentos_mestrado/dados/experimento_8/glv_concurrence.bin > ../mestrado/experimentos_mestrado/dados/experimento_8/glv_concurrence_shuf.bin\n",
      "$ build/glove -save-file ../mestrado/experimentos_mestrado/dados/experimento_8/glv_jur -threads 8 -input-file ../mestrado/experimentos_mestrado/dados/experimento_8/glv_concurrence_shuf.bin -x-max 10 -iter 15 -vector-size 100 -binary 2 -vocab-file ../mestrado/experimentos_mestrado/dados/experimento_8/glove_vocab.txt -verbose 2\n",
      "\n",
      "BUILDING VOCABULARY\n",
      "Processed 0 tokens.100000 tokens.200000 tokens.300000 tokens.400000 tokens.500000 tokens.600000 tokens.700000 tokens.800000 tokens.900000 tokens.1000000 tokens.1100000 tokens.1200000 tokens.1300000 tokens.1400000 tokens.1500000 tokens.1600000 tokens.1700000 tokens.1800000 tokens.1900000 tokens.2000000 tokens.2100000 tokens.2200000 tokens.2300000 tokens.2400000 tokens.2500000 tokens.2600000 tokens.2700000 tokens.2800000 tokens.2900000 tokens.3000000 tokens.3100000 tokens.3200000 tokens.3300000 tokens.3400000 tokens.3500000 tokens.3600000 tokens.3700000 tokens.3800000 tokens.3900000 tokens.4000000 tokens.4100000 tokens.4200000 tokens.4300000 tokens.4400000 tokens.4500000 tokens.4600000 tokens.4700000 tokens.4800000 tokens.4900000 tokens.5000000 tokens.5100000 tokens.5200000 tokens.5300000 tokens.5400000 tokens.5500000 tokens.5600000 tokens.5700000 tokens.5800000 tokens.5900000 tokens.6000000 tokens.6100000 tokens.6200000 tokens.6300000 tokens.6400000 tokens.6500000 tokens.6600000 tokens.6700000 tokens.6800000 tokens.6900000 tokens.7000000 tokens.7100000 tokens.7200000 tokens.7300000 tokens.7400000 tokens.7500000 tokens.7600000 tokens.7700000 tokens.7800000 tokens.7900000 tokens.8000000 tokens.8100000 tokens.8200000 tokens.8300000 tokens.8400000 tokens.8500000 tokens.8600000 tokens.8700000 tokens.8800000 tokens.8900000 tokens.9000000 tokens.9100000 tokens.9200000 tokens.9300000 tokens.9400000 tokens.9500000 tokens.9600000 tokens.9700000 tokens.Processed 9717307 tokens.\n",
      "Counted 80758 unique words.\n",
      "Truncating vocabulary at min count 5.\n",
      "Using vocabulary of size 32375.\n",
      "\n",
      "COUNTING COOCCURRENCES\n",
      "window size: 15\n",
      "context: symmetric\n",
      "max product: 13752509\n",
      "overflow length: 38028356\n",
      "Reading vocab from file \"../mestrado/experimentos_mestrado/dados/experimento_8/glove_vocab.txt\"...loaded 32375 words.\n",
      "Building lookup table...table contains 73317777 elements.\n",
      "Processing token: 01000002000003000004000005000006000007000008000009000001000000110000012000001300000140000015000001600000170000018000001900000200000021000002200000230000024000002500000260000027000002800000290000030000003100000320000033000003400000350000036000003700000380000039000004000000410000042000004300000440000045000004600000470000048000004900000500000051000005200000530000054000005500000560000057000005800000590000060000006100000620000063000006400000650000066000006700000680000069000007000000710000072000007300000740000075000007600000770000078000007900000800000081000008200000830000084000008500000860000087000008800000890000090000009100000920000093000009400000950000096000009700000Processed 9717307 tokens.\n",
      "Writing cooccurrences to disk........2 files in total.\n"
     ]
    },
    {
     "name": "stdout",
     "output_type": "stream",
     "text": [
      "Merging cooccurrence files: processed 0 lines.100000 lines.200000 lines.300000 lines.400000 lines.500000 lines.600000 lines.700000 lines.800000 lines.900000 lines.1000000 lines.1100000 lines.1200000 lines.1300000 lines.1400000 lines.1500000 lines.1600000 lines.1700000 lines.1800000 lines.1900000 lines.2000000 lines.2100000 lines.2200000 lines.2300000 lines.2400000 lines.2500000 lines.2600000 lines.2700000 lines.2800000 lines.2900000 lines.3000000 lines.3100000 lines.3200000 lines.3300000 lines.3400000 lines.3500000 lines.3600000 lines.3700000 lines.3800000 lines.3900000 lines.4000000 lines.4100000 lines.4200000 lines.4300000 lines.4400000 lines.4500000 lines.4600000 lines.4700000 lines.4800000 lines.4900000 lines.5000000 lines.5100000 lines.5200000 lines.5300000 lines.5400000 lines.5500000 lines.5600000 lines.5700000 lines.5800000 lines.5900000 lines.6000000 lines.6100000 lines.6200000 lines.6300000 lines.6400000 lines.6500000 lines.6600000 lines.6700000 lines.6800000 lines.6900000 lines.7000000 lines.7100000 lines.7200000 lines.7300000 lines.7400000 lines.7500000 lines.7600000 lines.7700000 lines.7800000 lines.7900000 lines.8000000 lines.8100000 lines.8200000 lines.8300000 lines.8400000 lines.8500000 lines.8600000 lines.8700000 lines.8800000 lines.8900000 lines.9000000 lines.9100000 lines.9200000 lines.9300000 lines.9400000 lines.9500000 lines.9600000 lines.9700000 lines.9800000 lines.9900000 lines.10000000 lines.10100000 lines.10200000 lines.10300000 lines.10400000 lines.10500000 lines.10600000 lines.10700000 lines.10800000 lines.10900000 lines.11000000 lines.11100000 lines.11200000 lines.11300000 lines.11400000 lines.11500000 lines.11600000 lines.11700000 lines.11800000 lines.11900000 lines.12000000 lines.12100000 lines.12200000 lines.12300000 lines.12400000 lines.12500000 lines.12600000 lines.12700000 lines.12800000 lines.12900000 lines.13000000 lines.13100000 lines.13200000 lines.13300000 lines.13400000 lines.13500000 lines.13600000 lines.13700000 lines.13800000 lines.13900000 lines.14000000 lines.14100000 lines.14200000 lines.14300000 lines.14400000 lines.14500000 lines.14600000 lines.14700000 lines.14800000 lines.14900000 lines.15000000 lines.15100000 lines.15200000 lines.15300000 lines.15400000 lines.15500000 lines.15600000 lines.15700000 lines.15800000 lines.15900000 lines.16000000 lines.16100000 lines.16200000 lines.16300000 lines.16400000 lines.16500000 lines.16600000 lines.16700000 lines.16800000 lines.16900000 lines.17000000 lines.17100000 lines.17200000 lines.17300000 lines.17400000 lines.17500000 lines.17600000 lines.17700000 lines.17800000 lines.17900000 lines.18000000 lines.18100000 lines.18200000 lines.18300000 lines.18400000 lines.18500000 lines.18600000 lines.18700000 lines.18800000 lines.18900000 lines.19000000 lines.19100000 lines.19200000 lines.19300000 lines.19400000 lines.19500000 lines.19600000 lines.19700000 lines.19800000 lines.19900000 lines.20000000 lines.20100000 lines.20200000 lines.20300000 lines.20400000 lines.20500000 lines.20600000 lines.20700000 lines.20800000 lines.20900000 lines.21000000 lines.21100000 lines.21200000 lines.21300000 lines.21400000 lines.21500000 lines.21600000 lines.21700000 lines.21800000 lines.21900000 lines.22000000 lines.22100000 lines.22200000 lines.22300000 lines.22400000 lines.22500000 lines.22600000 lines.22700000 lines.22800000 lines.22900000 lines.23000000 lines.23100000 lines.23200000 lines.23300000 lines.23400000 lines.23500000 lines.23600000 lines.23700000 lines.23800000 lines.23900000 lines.24000000 lines.24100000 lines.24200000 lines.24300000 lines.24400000 lines.24500000 lines.24600000 lines.24700000 lines.24800000 lines.24900000 lines.25000000 lines.25100000 lines.25200000 lines.25300000 lines.25400000 lines.25500000 lines.25600000 lines.25700000 lines.25800000 lines.25900000 lines.26000000 lines.26100000 lines.26200000 lines.26300000 lines.26400000 lines.26500000 lines.26600000 lines.26700000 lines.26800000 lines.26900000 lines.27000000 lines.27100000 lines.27200000 lines.27300000 lines.27400000 lines.27500000 lines.27600000 lines.27700000 lines.27800000 lines.27900000 lines.28000000 lines.28100000 lines.28200000 lines.28300000 lines.28400000 lines.28500000 lines.28600000 lines.28700000 lines.28800000 lines.28900000 lines.29000000 lines.29100000 lines.29200000 lines.29300000 lines.29400000 lines.29500000 lines.29600000 lines.29700000 lines.29800000 lines.29900000 lines.30000000 lines.30100000 lines.30200000 lines.30300000 lines.30400000 lines.30500000 lines.30600000 lines.30700000 lines.30800000 lines.30900000 lines.31000000 lines.31100000 lines.31200000 lines.31300000 lines.31400000 lines.31500000 lines.Merging cooccurrence files: processed 31548563 lines.\n",
      "\n",
      "Using random seed 1614163056\n",
      "SHUFFLING COOCCURRENCES\n",
      "array size: 255013683\n",
      "Shuffling by chunks: processed 0 lines.processed 31548563 lines.\n",
      "Wrote 1 temporary file(s).\n",
      "Merging temp files: processed 0 lines.31548563 lines.Merging temp files: processed 31548563 lines.\n",
      "\n",
      "TRAINING MODEL\n",
      "Read 31548563 lines.\n",
      "Initializing parameters...Using random seed 1614163067\n",
      "done.\n",
      "vector size: 100\n",
      "vocab size: 32375\n",
      "x_max: 10.000000\n",
      "alpha: 0.750000\n",
      "02/24/21 - 07:37.59AM, iter: 001, cost: 0.109848\n",
      "02/24/21 - 07:38.11AM, iter: 002, cost: 0.079668\n",
      "02/24/21 - 07:38.23AM, iter: 003, cost: 0.066769\n",
      "02/24/21 - 07:38.34AM, iter: 004, cost: 0.059104\n",
      "02/24/21 - 07:38.45AM, iter: 005, cost: 0.054697\n",
      "02/24/21 - 07:38.56AM, iter: 006, cost: 0.052039\n",
      "02/24/21 - 07:39.07AM, iter: 007, cost: 0.050319\n",
      "02/24/21 - 07:39.17AM, iter: 008, cost: 0.049088\n",
      "02/24/21 - 07:39.28AM, iter: 009, cost: 0.048158\n",
      "02/24/21 - 07:39.38AM, iter: 010, cost: 0.047438\n",
      "02/24/21 - 07:39.49AM, iter: 011, cost: 0.046846\n",
      "02/24/21 - 07:40.00AM, iter: 012, cost: 0.046334\n",
      "02/24/21 - 07:40.11AM, iter: 013, cost: 0.045906\n",
      "02/24/21 - 07:40.21AM, iter: 014, cost: 0.045544\n",
      "02/24/21 - 07:40.32AM, iter: 015, cost: 0.045214\n",
      "\n",
      "treinamento concluído\n"
     ]
    },
    {
     "name": "stderr",
     "output_type": "stream",
     "text": [
      "2021-02-24 07:40:34,287 : INFO : converting 32376 vectors from dados/experimento_8/glv_jur.txt to C:\\Users\\CRISTI~1\\AppData\\Local\\Temp\\test_word2vec.txt\n",
      "2021-02-24 07:40:34,353 : INFO : loading projection weights from C:\\Users\\CRISTI~1\\AppData\\Local\\Temp\\test_word2vec.txt\n",
      "2021-02-24 07:40:37,046 : INFO : loaded (32376, 100) matrix from C:\\Users\\CRISTI~1\\AppData\\Local\\Temp\\test_word2vec.txt\n",
      "2021-02-24 07:40:37,047 : INFO : loading projection weights from modelos/w2v_skip_nilc.txt\n",
      "2021-02-24 07:41:55,490 : INFO : loaded (929606, 100) matrix from modelos/w2v_skip_nilc.txt\n",
      "2021-02-24 07:41:55,491 : INFO : loading projection weights from modelos/ftt_skip_nilc.txt\n",
      "2021-02-24 07:43:11,919 : INFO : loaded (929605, 100) matrix from modelos/ftt_skip_nilc.txt\n",
      "2021-02-24 07:43:11,920 : INFO : loading projection weights from modelos/glove_nilc.txt\n",
      "2021-02-24 07:44:28,267 : INFO : loaded (929605, 100) matrix from modelos/glove_nilc.txt\n"
     ]
    },
    {
     "name": "stdout",
     "output_type": "stream",
     "text": [
      "recuperando teores da base de teste\n"
     ]
    },
    {
     "data": {
      "application/vnd.jupyter.widget-view+json": {
       "model_id": "a94992b2a7db4879a9ab40bd8b982edc",
       "version_major": 2,
       "version_minor": 0
      },
      "text/plain": [
       "HBox(children=(IntProgress(value=0, max=7006), HTML(value='')))"
      ]
     },
     "metadata": {},
     "output_type": "display_data"
    },
    {
     "name": "stdout",
     "output_type": "stream",
     "text": [
      "\n",
      "criando representações word2vec geral\n"
     ]
    },
    {
     "data": {
      "application/vnd.jupyter.widget-view+json": {
       "model_id": "900ef5b13b474a8d9f0a583a3159430e",
       "version_major": 2,
       "version_minor": 0
      },
      "text/plain": [
       "HBox(children=(IntProgress(value=0, max=7006), HTML(value='')))"
      ]
     },
     "metadata": {},
     "output_type": "display_data"
    },
    {
     "name": "stdout",
     "output_type": "stream",
     "text": [
      "\n",
      "criando representações fasttext geral\n"
     ]
    },
    {
     "data": {
      "application/vnd.jupyter.widget-view+json": {
       "model_id": "ac8f7485041842b690b9314d3b405fff",
       "version_major": 2,
       "version_minor": 0
      },
      "text/plain": [
       "HBox(children=(IntProgress(value=0, max=7006), HTML(value='')))"
      ]
     },
     "metadata": {},
     "output_type": "display_data"
    },
    {
     "name": "stdout",
     "output_type": "stream",
     "text": [
      "\n",
      "criando representações glove geral\n"
     ]
    },
    {
     "data": {
      "application/vnd.jupyter.widget-view+json": {
       "model_id": "818e50462d164427aa32c8343172deb9",
       "version_major": 2,
       "version_minor": 0
      },
      "text/plain": [
       "HBox(children=(IntProgress(value=0, max=7006), HTML(value='')))"
      ]
     },
     "metadata": {},
     "output_type": "display_data"
    },
    {
     "name": "stdout",
     "output_type": "stream",
     "text": [
      "\n",
      "criando representações word2vec juridico\n"
     ]
    },
    {
     "data": {
      "application/vnd.jupyter.widget-view+json": {
       "model_id": "917b9e8cbfea4b80987a44c0d80f3b10",
       "version_major": 2,
       "version_minor": 0
      },
      "text/plain": [
       "HBox(children=(IntProgress(value=0, max=7006), HTML(value='')))"
      ]
     },
     "metadata": {},
     "output_type": "display_data"
    },
    {
     "name": "stdout",
     "output_type": "stream",
     "text": [
      "\n",
      "criando representações fasttext juridico\n"
     ]
    },
    {
     "data": {
      "application/vnd.jupyter.widget-view+json": {
       "model_id": "231d3f22b1254cf8bb49ad5498ca115f",
       "version_major": 2,
       "version_minor": 0
      },
      "text/plain": [
       "HBox(children=(IntProgress(value=0, max=7006), HTML(value='')))"
      ]
     },
     "metadata": {},
     "output_type": "display_data"
    },
    {
     "name": "stdout",
     "output_type": "stream",
     "text": [
      "\n",
      "criando representações glove juridico\n"
     ]
    },
    {
     "data": {
      "application/vnd.jupyter.widget-view+json": {
       "model_id": "fd36f142271f4a52aebf38b732e3d819",
       "version_major": 2,
       "version_minor": 0
      },
      "text/plain": [
       "HBox(children=(IntProgress(value=0, max=7006), HTML(value='')))"
      ]
     },
     "metadata": {},
     "output_type": "display_data"
    },
    {
     "name": "stdout",
     "output_type": "stream",
     "text": [
      "\n",
      "----------- EXPERIMENTO 8 CONCLUIDO -----------\n",
      "tempo do experimento: 19.17930713494619 minutos\n",
      "----------------------- EXPERIMENTO 9 -----------------------\n",
      "criando base de treino para o experimento 9\n"
     ]
    },
    {
     "data": {
      "application/vnd.jupyter.widget-view+json": {
       "model_id": "e80dbdb140a0431c9f970c4ca10e9e93",
       "version_major": 2,
       "version_minor": 0
      },
      "text/plain": [
       "HBox(children=(IntProgress(value=0, max=28021), HTML(value='')))"
      ]
     },
     "metadata": {},
     "output_type": "display_data"
    },
    {
     "name": "stdout",
     "output_type": "stream",
     "text": [
      "\n",
      "16065689 tokens copiados com sucesso\n",
      "preparando documentos para extração do vocabulário:\n"
     ]
    },
    {
     "data": {
      "application/vnd.jupyter.widget-view+json": {
       "model_id": "7ddf0966b25a4386bbed94c315fffa56",
       "version_major": 2,
       "version_minor": 0
      },
      "text/plain": [
       "HBox(children=(IntProgress(value=0, max=28021), HTML(value='')))"
      ]
     },
     "metadata": {},
     "output_type": "display_data"
    },
    {
     "name": "stdout",
     "output_type": "stream",
     "text": [
      "\n",
      "extraindo termos com base no ICA\n"
     ]
    },
    {
     "data": {
      "application/vnd.jupyter.widget-view+json": {
       "model_id": "596a509b3e5747ce8cb5509954e5b674",
       "version_major": 2,
       "version_minor": 0
      },
      "text/plain": [
       "HBox(children=(IntProgress(value=0, max=125), HTML(value='')))"
      ]
     },
     "metadata": {},
     "output_type": "display_data"
    },
    {
     "name": "stdout",
     "output_type": "stream",
     "text": [
      "\n",
      "-processando strings do corpus\n",
      "-treinando vetorizador\n",
      "-ICA processado\n",
      "extraindo termos com base na frequência - geralmente leva menos de 4 minutos\n",
      "extraindo termos do tesauro\n",
      "extração de vocabulário concluída!\n",
      "treinando modelo word2vec\n"
     ]
    },
    {
     "name": "stderr",
     "output_type": "stream",
     "text": [
      "2021-02-24 07:50:05,490 : INFO : collecting all words and their counts\n",
      "2021-02-24 07:50:05,499 : INFO : PROGRESS: at sentence #0, processed 0 words, keeping 0 word types\n",
      "2021-02-24 07:50:05,562 : INFO : PROGRESS: at sentence #10000, processed 237809 words, keeping 13733 word types\n",
      "2021-02-24 07:50:05,627 : INFO : PROGRESS: at sentence #20000, processed 481864 words, keeping 18800 word types\n",
      "2021-02-24 07:50:05,693 : INFO : PROGRESS: at sentence #30000, processed 728972 words, keeping 22399 word types\n",
      "2021-02-24 07:50:05,759 : INFO : PROGRESS: at sentence #40000, processed 971460 words, keeping 25663 word types\n",
      "2021-02-24 07:50:05,825 : INFO : PROGRESS: at sentence #50000, processed 1218392 words, keeping 28283 word types\n",
      "2021-02-24 07:50:05,891 : INFO : PROGRESS: at sentence #60000, processed 1459096 words, keeping 30459 word types\n",
      "2021-02-24 07:50:05,960 : INFO : PROGRESS: at sentence #70000, processed 1708715 words, keeping 32297 word types\n",
      "2021-02-24 07:50:06,024 : INFO : PROGRESS: at sentence #80000, processed 1946077 words, keeping 34316 word types\n",
      "2021-02-24 07:50:06,091 : INFO : PROGRESS: at sentence #90000, processed 2187318 words, keeping 36000 word types\n",
      "2021-02-24 07:50:06,156 : INFO : PROGRESS: at sentence #100000, processed 2425492 words, keeping 37542 word types\n",
      "2021-02-24 07:50:06,223 : INFO : PROGRESS: at sentence #110000, processed 2671996 words, keeping 39111 word types\n",
      "2021-02-24 07:50:06,290 : INFO : PROGRESS: at sentence #120000, processed 2910606 words, keeping 40651 word types\n",
      "2021-02-24 07:50:06,356 : INFO : PROGRESS: at sentence #130000, processed 3148812 words, keeping 42019 word types\n",
      "2021-02-24 07:50:06,421 : INFO : PROGRESS: at sentence #140000, processed 3387456 words, keeping 43168 word types\n",
      "2021-02-24 07:50:06,487 : INFO : PROGRESS: at sentence #150000, processed 3627150 words, keeping 44481 word types\n",
      "2021-02-24 07:50:06,554 : INFO : PROGRESS: at sentence #160000, processed 3871186 words, keeping 45735 word types\n",
      "2021-02-24 07:50:06,621 : INFO : PROGRESS: at sentence #170000, processed 4119807 words, keeping 46905 word types\n",
      "2021-02-24 07:50:06,686 : INFO : PROGRESS: at sentence #180000, processed 4360026 words, keeping 48031 word types\n",
      "2021-02-24 07:50:06,753 : INFO : PROGRESS: at sentence #190000, processed 4603815 words, keeping 49040 word types\n",
      "2021-02-24 07:50:06,819 : INFO : PROGRESS: at sentence #200000, processed 4847753 words, keeping 49988 word types\n",
      "2021-02-24 07:50:06,888 : INFO : PROGRESS: at sentence #210000, processed 5099408 words, keeping 51093 word types\n",
      "2021-02-24 07:50:06,955 : INFO : PROGRESS: at sentence #220000, processed 5349552 words, keeping 52089 word types\n",
      "2021-02-24 07:50:07,022 : INFO : PROGRESS: at sentence #230000, processed 5593125 words, keeping 53161 word types\n",
      "2021-02-24 07:50:07,090 : INFO : PROGRESS: at sentence #240000, processed 5838069 words, keeping 54233 word types\n",
      "2021-02-24 07:50:07,157 : INFO : PROGRESS: at sentence #250000, processed 6074702 words, keeping 55183 word types\n",
      "2021-02-24 07:50:07,222 : INFO : PROGRESS: at sentence #260000, processed 6320376 words, keeping 56203 word types\n",
      "2021-02-24 07:50:07,288 : INFO : PROGRESS: at sentence #270000, processed 6560285 words, keeping 57169 word types\n",
      "2021-02-24 07:50:07,354 : INFO : PROGRESS: at sentence #280000, processed 6802402 words, keeping 58149 word types\n",
      "2021-02-24 07:50:07,420 : INFO : PROGRESS: at sentence #290000, processed 7041874 words, keeping 58856 word types\n",
      "2021-02-24 07:50:07,492 : INFO : PROGRESS: at sentence #300000, processed 7288342 words, keeping 59685 word types\n",
      "2021-02-24 07:50:07,559 : INFO : PROGRESS: at sentence #310000, processed 7537030 words, keeping 60589 word types\n",
      "2021-02-24 07:50:07,627 : INFO : PROGRESS: at sentence #320000, processed 7786327 words, keeping 61369 word types\n",
      "2021-02-24 07:50:07,694 : INFO : PROGRESS: at sentence #330000, processed 8027715 words, keeping 62134 word types\n",
      "2021-02-24 07:50:07,763 : INFO : PROGRESS: at sentence #340000, processed 8274765 words, keeping 62876 word types\n",
      "2021-02-24 07:50:07,830 : INFO : PROGRESS: at sentence #350000, processed 8521322 words, keeping 63640 word types\n",
      "2021-02-24 07:50:07,896 : INFO : PROGRESS: at sentence #360000, processed 8762726 words, keeping 64396 word types\n",
      "2021-02-24 07:50:07,961 : INFO : PROGRESS: at sentence #370000, processed 9006059 words, keeping 65083 word types\n",
      "2021-02-24 07:50:08,026 : INFO : PROGRESS: at sentence #380000, processed 9245585 words, keeping 65730 word types\n",
      "2021-02-24 07:50:08,093 : INFO : PROGRESS: at sentence #390000, processed 9490418 words, keeping 66369 word types\n",
      "2021-02-24 07:50:08,157 : INFO : PROGRESS: at sentence #400000, processed 9724445 words, keeping 66997 word types\n",
      "2021-02-24 07:50:08,222 : INFO : PROGRESS: at sentence #410000, processed 9955089 words, keeping 67602 word types\n",
      "2021-02-24 07:50:08,290 : INFO : PROGRESS: at sentence #420000, processed 10198691 words, keeping 68255 word types\n",
      "2021-02-24 07:50:08,356 : INFO : PROGRESS: at sentence #430000, processed 10439547 words, keeping 68901 word types\n",
      "2021-02-24 07:50:08,424 : INFO : PROGRESS: at sentence #440000, processed 10682929 words, keeping 69597 word types\n",
      "2021-02-24 07:50:08,489 : INFO : PROGRESS: at sentence #450000, processed 10923144 words, keeping 70181 word types\n",
      "2021-02-24 07:50:08,555 : INFO : PROGRESS: at sentence #460000, processed 11157994 words, keeping 70756 word types\n",
      "2021-02-24 07:50:08,624 : INFO : PROGRESS: at sentence #470000, processed 11407486 words, keeping 71420 word types\n",
      "2021-02-24 07:50:08,689 : INFO : PROGRESS: at sentence #480000, processed 11647158 words, keeping 72014 word types\n",
      "2021-02-24 07:50:08,757 : INFO : PROGRESS: at sentence #490000, processed 11892761 words, keeping 72598 word types\n",
      "2021-02-24 07:50:08,825 : INFO : PROGRESS: at sentence #500000, processed 12136817 words, keeping 73097 word types\n",
      "2021-02-24 07:50:08,890 : INFO : PROGRESS: at sentence #510000, processed 12374716 words, keeping 73699 word types\n",
      "2021-02-24 07:50:08,957 : INFO : PROGRESS: at sentence #520000, processed 12612238 words, keeping 74296 word types\n",
      "2021-02-24 07:50:09,025 : INFO : PROGRESS: at sentence #530000, processed 12855896 words, keeping 74887 word types\n",
      "2021-02-24 07:50:09,093 : INFO : PROGRESS: at sentence #540000, processed 13100373 words, keeping 75436 word types\n",
      "2021-02-24 07:50:09,160 : INFO : PROGRESS: at sentence #550000, processed 13342958 words, keeping 75917 word types\n",
      "2021-02-24 07:50:09,227 : INFO : PROGRESS: at sentence #560000, processed 13577787 words, keeping 76501 word types\n",
      "2021-02-24 07:50:09,294 : INFO : PROGRESS: at sentence #570000, processed 13823214 words, keeping 77020 word types\n",
      "2021-02-24 07:50:09,361 : INFO : PROGRESS: at sentence #580000, processed 14070650 words, keeping 77663 word types\n",
      "2021-02-24 07:50:09,428 : INFO : PROGRESS: at sentence #590000, processed 14311721 words, keeping 78300 word types\n",
      "2021-02-24 07:50:09,494 : INFO : PROGRESS: at sentence #600000, processed 14558892 words, keeping 78821 word types\n",
      "2021-02-24 07:50:09,561 : INFO : PROGRESS: at sentence #610000, processed 14803223 words, keeping 79462 word types\n",
      "2021-02-24 07:50:09,627 : INFO : PROGRESS: at sentence #620000, processed 15042377 words, keeping 79913 word types\n",
      "2021-02-24 07:50:09,695 : INFO : PROGRESS: at sentence #630000, processed 15289110 words, keeping 80576 word types\n",
      "2021-02-24 07:50:09,729 : INFO : collected 80870 word types from a corpus of 15410953 raw words and 635054 sentences\n",
      "2021-02-24 07:50:09,729 : INFO : Loading a fresh vocabulary\n",
      "2021-02-24 07:50:09,783 : INFO : effective_min_count=5 retains 32500 unique words (40% of original 80870, drops 48370)\n",
      "2021-02-24 07:50:09,783 : INFO : effective_min_count=5 leaves 15329447 word corpus (99% of original 15410953, drops 81506)\n",
      "2021-02-24 07:50:09,864 : INFO : deleting the raw counts dictionary of 80870 items\n",
      "2021-02-24 07:50:09,867 : INFO : sample=1e-05 downsamples 3216 most-common words\n",
      "2021-02-24 07:50:09,868 : INFO : downsampling leaves estimated 3701947 word corpus (24.1% of prior 15329447)\n",
      "2021-02-24 07:50:09,889 : INFO : constructing a huffman tree from 32500 words\n",
      "2021-02-24 07:50:10,602 : INFO : built huffman tree with maximum node depth 22\n"
     ]
    },
    {
     "name": "stderr",
     "output_type": "stream",
     "text": [
      "2021-02-24 07:50:10,653 : INFO : estimated required memory for 32500 words and 100 dimensions: 61750000 bytes\n",
      "2021-02-24 07:50:10,654 : INFO : resetting layer weights\n",
      "2021-02-24 07:50:10,968 : INFO : training model with 12 workers on 32500 vocabulary and 100 features, using sg=1 hs=1 sample=1e-05 negative=5 window=5\n",
      "2021-02-24 07:50:11,983 : INFO : EPOCH 1 - PROGRESS: at 9.50% examples, 346239 words/s, in_qsize 0, out_qsize 0\n",
      "2021-02-24 07:50:12,992 : INFO : EPOCH 1 - PROGRESS: at 18.20% examples, 331814 words/s, in_qsize 20, out_qsize 2\n",
      "2021-02-24 07:50:14,014 : INFO : EPOCH 1 - PROGRESS: at 26.84% examples, 324558 words/s, in_qsize 24, out_qsize 0\n",
      "2021-02-24 07:50:15,019 : INFO : EPOCH 1 - PROGRESS: at 36.11% examples, 330649 words/s, in_qsize 0, out_qsize 0\n",
      "2021-02-24 07:50:16,024 : INFO : EPOCH 1 - PROGRESS: at 44.25% examples, 324525 words/s, in_qsize 18, out_qsize 2\n",
      "2021-02-24 07:50:17,042 : INFO : EPOCH 1 - PROGRESS: at 53.08% examples, 324952 words/s, in_qsize 23, out_qsize 0\n",
      "2021-02-24 07:50:18,044 : INFO : EPOCH 1 - PROGRESS: at 62.24% examples, 326285 words/s, in_qsize 1, out_qsize 0\n",
      "2021-02-24 07:50:19,056 : INFO : EPOCH 1 - PROGRESS: at 70.94% examples, 324862 words/s, in_qsize 19, out_qsize 0\n",
      "2021-02-24 07:50:20,070 : INFO : EPOCH 1 - PROGRESS: at 80.11% examples, 325796 words/s, in_qsize 0, out_qsize 4\n",
      "2021-02-24 07:50:21,094 : INFO : EPOCH 1 - PROGRESS: at 88.58% examples, 323560 words/s, in_qsize 21, out_qsize 5\n",
      "2021-02-24 07:50:22,102 : INFO : EPOCH 1 - PROGRESS: at 97.67% examples, 324759 words/s, in_qsize 0, out_qsize 1\n",
      "2021-02-24 07:50:22,301 : INFO : worker thread finished; awaiting finish of 11 more threads\n",
      "2021-02-24 07:50:22,303 : INFO : worker thread finished; awaiting finish of 10 more threads\n",
      "2021-02-24 07:50:22,306 : INFO : worker thread finished; awaiting finish of 9 more threads\n",
      "2021-02-24 07:50:22,307 : INFO : worker thread finished; awaiting finish of 8 more threads\n",
      "2021-02-24 07:50:22,309 : INFO : worker thread finished; awaiting finish of 7 more threads\n",
      "2021-02-24 07:50:22,311 : INFO : worker thread finished; awaiting finish of 6 more threads\n",
      "2021-02-24 07:50:22,313 : INFO : worker thread finished; awaiting finish of 5 more threads\n",
      "2021-02-24 07:50:22,314 : INFO : worker thread finished; awaiting finish of 4 more threads\n",
      "2021-02-24 07:50:22,316 : INFO : worker thread finished; awaiting finish of 3 more threads\n",
      "2021-02-24 07:50:22,318 : INFO : worker thread finished; awaiting finish of 2 more threads\n",
      "2021-02-24 07:50:22,322 : INFO : worker thread finished; awaiting finish of 1 more threads\n",
      "2021-02-24 07:50:22,327 : INFO : worker thread finished; awaiting finish of 0 more threads\n",
      "2021-02-24 07:50:22,328 : INFO : EPOCH - 1 : training on 15410953 raw words (3701606 effective words) took 11.4s, 326017 effective words/s\n",
      "2021-02-24 07:50:23,341 : INFO : EPOCH 2 - PROGRESS: at 8.26% examples, 302335 words/s, in_qsize 0, out_qsize 0\n",
      "2021-02-24 07:50:24,353 : INFO : EPOCH 2 - PROGRESS: at 17.62% examples, 320376 words/s, in_qsize 2, out_qsize 1\n",
      "2021-02-24 07:50:25,392 : INFO : EPOCH 2 - PROGRESS: at 25.70% examples, 308150 words/s, in_qsize 24, out_qsize 0\n",
      "2021-02-24 07:50:26,395 : INFO : EPOCH 2 - PROGRESS: at 34.46% examples, 313231 words/s, in_qsize 0, out_qsize 0\n",
      "2021-02-24 07:50:27,400 : INFO : EPOCH 2 - PROGRESS: at 43.79% examples, 319885 words/s, in_qsize 0, out_qsize 0\n",
      "2021-02-24 07:50:28,405 : INFO : EPOCH 2 - PROGRESS: at 52.17% examples, 318962 words/s, in_qsize 0, out_qsize 0\n",
      "2021-02-24 07:50:29,407 : INFO : EPOCH 2 - PROGRESS: at 60.41% examples, 316364 words/s, in_qsize 22, out_qsize 1\n",
      "2021-02-24 07:50:30,418 : INFO : EPOCH 2 - PROGRESS: at 69.46% examples, 317897 words/s, in_qsize 8, out_qsize 2\n",
      "2021-02-24 07:50:31,429 : INFO : EPOCH 2 - PROGRESS: at 79.19% examples, 321911 words/s, in_qsize 0, out_qsize 2\n",
      "2021-02-24 07:50:32,431 : INFO : EPOCH 2 - PROGRESS: at 87.59% examples, 320473 words/s, in_qsize 24, out_qsize 0\n",
      "2021-02-24 07:50:33,431 : INFO : EPOCH 2 - PROGRESS: at 97.29% examples, 324098 words/s, in_qsize 0, out_qsize 0\n",
      "2021-02-24 07:50:33,701 : INFO : worker thread finished; awaiting finish of 11 more threads\n",
      "2021-02-24 07:50:33,718 : INFO : worker thread finished; awaiting finish of 10 more threads\n",
      "2021-02-24 07:50:33,719 : INFO : worker thread finished; awaiting finish of 9 more threads\n",
      "2021-02-24 07:50:33,721 : INFO : worker thread finished; awaiting finish of 8 more threads\n",
      "2021-02-24 07:50:33,723 : INFO : worker thread finished; awaiting finish of 7 more threads\n",
      "2021-02-24 07:50:33,724 : INFO : worker thread finished; awaiting finish of 6 more threads\n",
      "2021-02-24 07:50:33,735 : INFO : worker thread finished; awaiting finish of 5 more threads\n",
      "2021-02-24 07:50:33,738 : INFO : worker thread finished; awaiting finish of 4 more threads\n",
      "2021-02-24 07:50:33,739 : INFO : worker thread finished; awaiting finish of 3 more threads\n",
      "2021-02-24 07:50:33,750 : INFO : worker thread finished; awaiting finish of 2 more threads\n",
      "2021-02-24 07:50:33,752 : INFO : worker thread finished; awaiting finish of 1 more threads\n",
      "2021-02-24 07:50:33,756 : INFO : worker thread finished; awaiting finish of 0 more threads\n",
      "2021-02-24 07:50:33,757 : INFO : EPOCH - 2 : training on 15410953 raw words (3698888 effective words) took 11.4s, 323780 effective words/s\n",
      "2021-02-24 07:50:34,767 : INFO : EPOCH 3 - PROGRESS: at 8.52% examples, 312702 words/s, in_qsize 0, out_qsize 1\n",
      "2021-02-24 07:50:35,770 : INFO : EPOCH 3 - PROGRESS: at 16.82% examples, 308361 words/s, in_qsize 13, out_qsize 1\n",
      "2021-02-24 07:50:36,770 : INFO : EPOCH 3 - PROGRESS: at 26.25% examples, 320667 words/s, in_qsize 0, out_qsize 0\n",
      "2021-02-24 07:50:37,774 : INFO : EPOCH 3 - PROGRESS: at 34.90% examples, 321385 words/s, in_qsize 0, out_qsize 1\n",
      "2021-02-24 07:50:38,780 : INFO : EPOCH 3 - PROGRESS: at 44.31% examples, 327065 words/s, in_qsize 0, out_qsize 0\n",
      "2021-02-24 07:50:39,787 : INFO : EPOCH 3 - PROGRESS: at 52.45% examples, 323270 words/s, in_qsize 3, out_qsize 0\n",
      "2021-02-24 07:50:40,789 : INFO : EPOCH 3 - PROGRESS: at 62.09% examples, 327614 words/s, in_qsize 0, out_qsize 1\n",
      "2021-02-24 07:50:41,791 : INFO : EPOCH 3 - PROGRESS: at 70.10% examples, 323355 words/s, in_qsize 18, out_qsize 1\n",
      "2021-02-24 07:50:42,798 : INFO : EPOCH 3 - PROGRESS: at 79.38% examples, 325132 words/s, in_qsize 4, out_qsize 0\n",
      "2021-02-24 07:50:43,804 : INFO : EPOCH 3 - PROGRESS: at 88.20% examples, 324714 words/s, in_qsize 10, out_qsize 0\n",
      "2021-02-24 07:50:44,833 : INFO : EPOCH 3 - PROGRESS: at 97.67% examples, 326453 words/s, in_qsize 9, out_qsize 1\n",
      "2021-02-24 07:50:45,021 : INFO : worker thread finished; awaiting finish of 11 more threads\n",
      "2021-02-24 07:50:45,037 : INFO : worker thread finished; awaiting finish of 10 more threads\n",
      "2021-02-24 07:50:45,046 : INFO : worker thread finished; awaiting finish of 9 more threads\n",
      "2021-02-24 07:50:45,054 : INFO : worker thread finished; awaiting finish of 8 more threads\n",
      "2021-02-24 07:50:45,057 : INFO : worker thread finished; awaiting finish of 7 more threads\n",
      "2021-02-24 07:50:45,060 : INFO : worker thread finished; awaiting finish of 6 more threads\n",
      "2021-02-24 07:50:45,063 : INFO : worker thread finished; awaiting finish of 5 more threads\n",
      "2021-02-24 07:50:45,064 : INFO : worker thread finished; awaiting finish of 4 more threads\n",
      "2021-02-24 07:50:45,067 : INFO : worker thread finished; awaiting finish of 3 more threads\n",
      "2021-02-24 07:50:45,068 : INFO : worker thread finished; awaiting finish of 2 more threads\n",
      "2021-02-24 07:50:45,070 : INFO : worker thread finished; awaiting finish of 1 more threads\n",
      "2021-02-24 07:50:45,078 : INFO : worker thread finished; awaiting finish of 0 more threads\n",
      "2021-02-24 07:50:45,079 : INFO : EPOCH - 3 : training on 15410953 raw words (3702330 effective words) took 11.3s, 327142 effective words/s\n",
      "2021-02-24 07:50:46,113 : INFO : EPOCH 4 - PROGRESS: at 8.20% examples, 293678 words/s, in_qsize 0, out_qsize 3\n",
      "2021-02-24 07:50:47,113 : INFO : EPOCH 4 - PROGRESS: at 16.57% examples, 300312 words/s, in_qsize 1, out_qsize 0\n",
      "2021-02-24 07:50:48,117 : INFO : EPOCH 4 - PROGRESS: at 26.06% examples, 315745 words/s, in_qsize 0, out_qsize 0\n",
      "2021-02-24 07:50:49,122 : INFO : EPOCH 4 - PROGRESS: at 34.34% examples, 313966 words/s, in_qsize 6, out_qsize 0\n"
     ]
    },
    {
     "name": "stderr",
     "output_type": "stream",
     "text": [
      "2021-02-24 07:50:50,125 : INFO : EPOCH 4 - PROGRESS: at 43.46% examples, 319218 words/s, in_qsize 2, out_qsize 0\n",
      "2021-02-24 07:50:51,133 : INFO : EPOCH 4 - PROGRESS: at 51.28% examples, 314809 words/s, in_qsize 22, out_qsize 1\n",
      "2021-02-24 07:50:52,136 : INFO : EPOCH 4 - PROGRESS: at 61.21% examples, 321994 words/s, in_qsize 0, out_qsize 1\n",
      "2021-02-24 07:50:53,156 : INFO : EPOCH 4 - PROGRESS: at 69.96% examples, 320949 words/s, in_qsize 23, out_qsize 0\n",
      "2021-02-24 07:50:54,164 : INFO : EPOCH 4 - PROGRESS: at 79.32% examples, 323236 words/s, in_qsize 0, out_qsize 1\n",
      "2021-02-24 07:50:55,166 : INFO : EPOCH 4 - PROGRESS: at 87.44% examples, 320725 words/s, in_qsize 16, out_qsize 1\n",
      "2021-02-24 07:50:56,171 : INFO : EPOCH 4 - PROGRESS: at 96.40% examples, 321693 words/s, in_qsize 15, out_qsize 1\n",
      "2021-02-24 07:50:56,527 : INFO : worker thread finished; awaiting finish of 11 more threads\n",
      "2021-02-24 07:50:56,530 : INFO : worker thread finished; awaiting finish of 10 more threads\n",
      "2021-02-24 07:50:56,531 : INFO : worker thread finished; awaiting finish of 9 more threads\n",
      "2021-02-24 07:50:56,533 : INFO : worker thread finished; awaiting finish of 8 more threads\n",
      "2021-02-24 07:50:56,535 : INFO : worker thread finished; awaiting finish of 7 more threads\n",
      "2021-02-24 07:50:56,537 : INFO : worker thread finished; awaiting finish of 6 more threads\n",
      "2021-02-24 07:50:56,539 : INFO : worker thread finished; awaiting finish of 5 more threads\n",
      "2021-02-24 07:50:56,541 : INFO : worker thread finished; awaiting finish of 4 more threads\n",
      "2021-02-24 07:50:56,542 : INFO : worker thread finished; awaiting finish of 3 more threads\n",
      "2021-02-24 07:50:56,543 : INFO : worker thread finished; awaiting finish of 2 more threads\n",
      "2021-02-24 07:50:56,545 : INFO : worker thread finished; awaiting finish of 1 more threads\n",
      "2021-02-24 07:50:56,555 : INFO : worker thread finished; awaiting finish of 0 more threads\n",
      "2021-02-24 07:50:56,556 : INFO : EPOCH - 4 : training on 15410953 raw words (3701553 effective words) took 11.5s, 322619 effective words/s\n",
      "2021-02-24 07:50:57,561 : INFO : EPOCH 5 - PROGRESS: at 9.37% examples, 344589 words/s, in_qsize 0, out_qsize 0\n",
      "2021-02-24 07:50:58,566 : INFO : EPOCH 5 - PROGRESS: at 17.94% examples, 329061 words/s, in_qsize 0, out_qsize 0\n",
      "2021-02-24 07:50:59,590 : INFO : EPOCH 5 - PROGRESS: at 26.91% examples, 326295 words/s, in_qsize 0, out_qsize 1\n",
      "2021-02-24 07:51:00,608 : INFO : EPOCH 5 - PROGRESS: at 35.28% examples, 322309 words/s, in_qsize 0, out_qsize 2\n",
      "2021-02-24 07:51:01,613 : INFO : EPOCH 5 - PROGRESS: at 44.72% examples, 327530 words/s, in_qsize 0, out_qsize 0\n",
      "2021-02-24 07:51:02,620 : INFO : EPOCH 5 - PROGRESS: at 52.77% examples, 323186 words/s, in_qsize 0, out_qsize 0\n",
      "2021-02-24 07:51:03,620 : INFO : EPOCH 5 - PROGRESS: at 60.86% examples, 319418 words/s, in_qsize 4, out_qsize 1\n",
      "2021-02-24 07:51:04,624 : INFO : EPOCH 5 - PROGRESS: at 70.55% examples, 323834 words/s, in_qsize 1, out_qsize 1\n",
      "2021-02-24 07:51:05,627 : INFO : EPOCH 5 - PROGRESS: at 78.40% examples, 319897 words/s, in_qsize 17, out_qsize 3\n",
      "2021-02-24 07:51:06,644 : INFO : EPOCH 5 - PROGRESS: at 88.33% examples, 323738 words/s, in_qsize 0, out_qsize 0\n",
      "2021-02-24 07:51:07,644 : INFO : EPOCH 5 - PROGRESS: at 96.55% examples, 322260 words/s, in_qsize 16, out_qsize 0\n",
      "2021-02-24 07:51:07,934 : INFO : worker thread finished; awaiting finish of 11 more threads\n",
      "2021-02-24 07:51:07,943 : INFO : worker thread finished; awaiting finish of 10 more threads\n",
      "2021-02-24 07:51:07,944 : INFO : worker thread finished; awaiting finish of 9 more threads\n",
      "2021-02-24 07:51:07,956 : INFO : worker thread finished; awaiting finish of 8 more threads\n",
      "2021-02-24 07:51:07,969 : INFO : worker thread finished; awaiting finish of 7 more threads\n",
      "2021-02-24 07:51:07,971 : INFO : worker thread finished; awaiting finish of 6 more threads\n",
      "2021-02-24 07:51:07,974 : INFO : worker thread finished; awaiting finish of 5 more threads\n",
      "2021-02-24 07:51:07,977 : INFO : worker thread finished; awaiting finish of 4 more threads\n",
      "2021-02-24 07:51:07,979 : INFO : worker thread finished; awaiting finish of 3 more threads\n",
      "2021-02-24 07:51:07,981 : INFO : worker thread finished; awaiting finish of 2 more threads\n",
      "2021-02-24 07:51:07,982 : INFO : worker thread finished; awaiting finish of 1 more threads\n",
      "2021-02-24 07:51:07,984 : INFO : worker thread finished; awaiting finish of 0 more threads\n",
      "2021-02-24 07:51:07,985 : INFO : EPOCH - 5 : training on 15410953 raw words (3701150 effective words) took 11.4s, 323983 effective words/s\n",
      "2021-02-24 07:51:08,992 : INFO : EPOCH 6 - PROGRESS: at 8.58% examples, 315600 words/s, in_qsize 17, out_qsize 0\n",
      "2021-02-24 07:51:09,999 : INFO : EPOCH 6 - PROGRESS: at 18.20% examples, 332438 words/s, in_qsize 0, out_qsize 1\n",
      "2021-02-24 07:51:11,005 : INFO : EPOCH 6 - PROGRESS: at 27.11% examples, 329825 words/s, in_qsize 0, out_qsize 1\n",
      "2021-02-24 07:51:12,012 : INFO : EPOCH 6 - PROGRESS: at 36.05% examples, 331362 words/s, in_qsize 0, out_qsize 1\n",
      "2021-02-24 07:51:13,013 : INFO : EPOCH 6 - PROGRESS: at 45.12% examples, 332110 words/s, in_qsize 0, out_qsize 0\n",
      "2021-02-24 07:51:14,061 : INFO : EPOCH 6 - PROGRESS: at 53.35% examples, 325952 words/s, in_qsize 19, out_qsize 5\n",
      "2021-02-24 07:51:15,063 : INFO : EPOCH 6 - PROGRESS: at 63.50% examples, 332359 words/s, in_qsize 0, out_qsize 0\n",
      "2021-02-24 07:51:16,069 : INFO : EPOCH 6 - PROGRESS: at 72.36% examples, 331070 words/s, in_qsize 22, out_qsize 1\n",
      "2021-02-24 07:51:17,078 : INFO : EPOCH 6 - PROGRESS: at 82.02% examples, 333601 words/s, in_qsize 1, out_qsize 0\n",
      "2021-02-24 07:51:18,107 : INFO : EPOCH 6 - PROGRESS: at 90.21% examples, 329352 words/s, in_qsize 24, out_qsize 0\n",
      "2021-02-24 07:51:19,072 : INFO : worker thread finished; awaiting finish of 11 more threads\n",
      "2021-02-24 07:51:19,077 : INFO : worker thread finished; awaiting finish of 10 more threads\n",
      "2021-02-24 07:51:19,078 : INFO : worker thread finished; awaiting finish of 9 more threads\n",
      "2021-02-24 07:51:19,080 : INFO : worker thread finished; awaiting finish of 8 more threads\n",
      "2021-02-24 07:51:19,084 : INFO : worker thread finished; awaiting finish of 7 more threads\n",
      "2021-02-24 07:51:19,091 : INFO : worker thread finished; awaiting finish of 6 more threads\n",
      "2021-02-24 07:51:19,093 : INFO : worker thread finished; awaiting finish of 5 more threads\n",
      "2021-02-24 07:51:19,098 : INFO : worker thread finished; awaiting finish of 4 more threads\n",
      "2021-02-24 07:51:19,100 : INFO : worker thread finished; awaiting finish of 3 more threads\n",
      "2021-02-24 07:51:19,105 : INFO : worker thread finished; awaiting finish of 2 more threads\n",
      "2021-02-24 07:51:19,107 : INFO : worker thread finished; awaiting finish of 1 more threads\n",
      "2021-02-24 07:51:19,111 : INFO : EPOCH 6 - PROGRESS: at 100.00% examples, 332820 words/s, in_qsize 0, out_qsize 1\n",
      "2021-02-24 07:51:19,112 : INFO : worker thread finished; awaiting finish of 0 more threads\n",
      "2021-02-24 07:51:19,113 : INFO : EPOCH - 6 : training on 15410953 raw words (3701047 effective words) took 11.1s, 332743 effective words/s\n",
      "2021-02-24 07:51:20,127 : INFO : EPOCH 7 - PROGRESS: at 8.58% examples, 313858 words/s, in_qsize 18, out_qsize 0\n",
      "2021-02-24 07:51:21,133 : INFO : EPOCH 7 - PROGRESS: at 18.26% examples, 333305 words/s, in_qsize 1, out_qsize 0\n",
      "2021-02-24 07:51:22,134 : INFO : EPOCH 7 - PROGRESS: at 26.33% examples, 320933 words/s, in_qsize 23, out_qsize 0\n",
      "2021-02-24 07:51:23,155 : INFO : EPOCH 7 - PROGRESS: at 36.04% examples, 330777 words/s, in_qsize 4, out_qsize 1\n",
      "2021-02-24 07:51:24,169 : INFO : EPOCH 7 - PROGRESS: at 45.50% examples, 333544 words/s, in_qsize 1, out_qsize 1\n",
      "2021-02-24 07:51:25,170 : INFO : EPOCH 7 - PROGRESS: at 54.64% examples, 335568 words/s, in_qsize 0, out_qsize 0\n",
      "2021-02-24 07:51:26,184 : INFO : EPOCH 7 - PROGRESS: at 63.63% examples, 333610 words/s, in_qsize 0, out_qsize 0\n",
      "2021-02-24 07:51:27,190 : INFO : EPOCH 7 - PROGRESS: at 71.95% examples, 329870 words/s, in_qsize 10, out_qsize 2\n",
      "2021-02-24 07:51:28,203 : INFO : EPOCH 7 - PROGRESS: at 81.16% examples, 330433 words/s, in_qsize 20, out_qsize 0\n",
      "2021-02-24 07:51:29,204 : INFO : EPOCH 7 - PROGRESS: at 90.14% examples, 330262 words/s, in_qsize 23, out_qsize 0\n",
      "2021-02-24 07:51:30,224 : INFO : EPOCH 7 - PROGRESS: at 99.14% examples, 330517 words/s, in_qsize 14, out_qsize 0\n"
     ]
    },
    {
     "name": "stderr",
     "output_type": "stream",
     "text": [
      "2021-02-24 07:51:30,237 : INFO : worker thread finished; awaiting finish of 11 more threads\n",
      "2021-02-24 07:51:30,241 : INFO : worker thread finished; awaiting finish of 10 more threads\n",
      "2021-02-24 07:51:30,242 : INFO : worker thread finished; awaiting finish of 9 more threads\n",
      "2021-02-24 07:51:30,244 : INFO : worker thread finished; awaiting finish of 8 more threads\n",
      "2021-02-24 07:51:30,247 : INFO : worker thread finished; awaiting finish of 7 more threads\n",
      "2021-02-24 07:51:30,250 : INFO : worker thread finished; awaiting finish of 6 more threads\n",
      "2021-02-24 07:51:30,254 : INFO : worker thread finished; awaiting finish of 5 more threads\n",
      "2021-02-24 07:51:30,257 : INFO : worker thread finished; awaiting finish of 4 more threads\n",
      "2021-02-24 07:51:30,258 : INFO : worker thread finished; awaiting finish of 3 more threads\n",
      "2021-02-24 07:51:30,261 : INFO : worker thread finished; awaiting finish of 2 more threads\n",
      "2021-02-24 07:51:30,263 : INFO : worker thread finished; awaiting finish of 1 more threads\n",
      "2021-02-24 07:51:30,271 : INFO : worker thread finished; awaiting finish of 0 more threads\n",
      "2021-02-24 07:51:30,273 : INFO : EPOCH - 7 : training on 15410953 raw words (3701535 effective words) took 11.2s, 331839 effective words/s\n",
      "2021-02-24 07:51:31,287 : INFO : EPOCH 8 - PROGRESS: at 8.83% examples, 323320 words/s, in_qsize 1, out_qsize 0\n",
      "2021-02-24 07:51:32,298 : INFO : EPOCH 8 - PROGRESS: at 17.09% examples, 311327 words/s, in_qsize 0, out_qsize 1\n",
      "2021-02-24 07:51:33,300 : INFO : EPOCH 8 - PROGRESS: at 25.32% examples, 307534 words/s, in_qsize 5, out_qsize 0\n",
      "2021-02-24 07:51:34,306 : INFO : EPOCH 8 - PROGRESS: at 34.23% examples, 313715 words/s, in_qsize 0, out_qsize 0\n",
      "2021-02-24 07:51:35,310 : INFO : EPOCH 8 - PROGRESS: at 41.71% examples, 307320 words/s, in_qsize 23, out_qsize 0\n",
      "2021-02-24 07:51:36,317 : INFO : EPOCH 8 - PROGRESS: at 51.35% examples, 315802 words/s, in_qsize 0, out_qsize 0\n",
      "2021-02-24 07:51:37,328 : INFO : EPOCH 8 - PROGRESS: at 60.15% examples, 316429 words/s, in_qsize 23, out_qsize 0\n",
      "2021-02-24 07:51:38,337 : INFO : EPOCH 8 - PROGRESS: at 69.20% examples, 317919 words/s, in_qsize 17, out_qsize 2\n",
      "2021-02-24 07:51:39,338 : INFO : EPOCH 8 - PROGRESS: at 78.92% examples, 322394 words/s, in_qsize 0, out_qsize 1\n",
      "2021-02-24 07:51:40,349 : INFO : EPOCH 8 - PROGRESS: at 87.72% examples, 322102 words/s, in_qsize 0, out_qsize 0\n",
      "2021-02-24 07:51:41,365 : INFO : EPOCH 8 - PROGRESS: at 96.47% examples, 322075 words/s, in_qsize 0, out_qsize 1\n",
      "2021-02-24 07:51:41,742 : INFO : worker thread finished; awaiting finish of 11 more threads\n",
      "2021-02-24 07:51:41,744 : INFO : worker thread finished; awaiting finish of 10 more threads\n",
      "2021-02-24 07:51:41,745 : INFO : worker thread finished; awaiting finish of 9 more threads\n",
      "2021-02-24 07:51:41,747 : INFO : worker thread finished; awaiting finish of 8 more threads\n",
      "2021-02-24 07:51:41,749 : INFO : worker thread finished; awaiting finish of 7 more threads\n",
      "2021-02-24 07:51:41,751 : INFO : worker thread finished; awaiting finish of 6 more threads\n",
      "2021-02-24 07:51:41,757 : INFO : worker thread finished; awaiting finish of 5 more threads\n",
      "2021-02-24 07:51:41,759 : INFO : worker thread finished; awaiting finish of 4 more threads\n",
      "2021-02-24 07:51:41,762 : INFO : worker thread finished; awaiting finish of 3 more threads\n",
      "2021-02-24 07:51:41,765 : INFO : worker thread finished; awaiting finish of 2 more threads\n",
      "2021-02-24 07:51:41,769 : INFO : worker thread finished; awaiting finish of 1 more threads\n",
      "2021-02-24 07:51:41,776 : INFO : worker thread finished; awaiting finish of 0 more threads\n",
      "2021-02-24 07:51:41,777 : INFO : EPOCH - 8 : training on 15410953 raw words (3702590 effective words) took 11.5s, 321992 effective words/s\n",
      "2021-02-24 07:51:42,818 : INFO : EPOCH 9 - PROGRESS: at 8.26% examples, 294750 words/s, in_qsize 11, out_qsize 3\n",
      "2021-02-24 07:51:43,835 : INFO : EPOCH 9 - PROGRESS: at 17.80% examples, 318804 words/s, in_qsize 2, out_qsize 2\n",
      "2021-02-24 07:51:44,842 : INFO : EPOCH 9 - PROGRESS: at 26.59% examples, 318949 words/s, in_qsize 19, out_qsize 7\n",
      "2021-02-24 07:51:45,851 : INFO : EPOCH 9 - PROGRESS: at 35.79% examples, 325460 words/s, in_qsize 0, out_qsize 0\n",
      "2021-02-24 07:51:46,854 : INFO : EPOCH 9 - PROGRESS: at 45.12% examples, 329197 words/s, in_qsize 0, out_qsize 0\n",
      "2021-02-24 07:51:47,860 : INFO : EPOCH 9 - PROGRESS: at 53.47% examples, 326520 words/s, in_qsize 24, out_qsize 0\n",
      "2021-02-24 07:51:48,860 : INFO : EPOCH 9 - PROGRESS: at 61.48% examples, 321981 words/s, in_qsize 20, out_qsize 2\n",
      "2021-02-24 07:51:49,873 : INFO : EPOCH 9 - PROGRESS: at 71.75% examples, 328055 words/s, in_qsize 0, out_qsize 0\n",
      "2021-02-24 07:51:50,877 : INFO : EPOCH 9 - PROGRESS: at 80.97% examples, 329200 words/s, in_qsize 0, out_qsize 0\n",
      "2021-02-24 07:51:51,887 : INFO : EPOCH 9 - PROGRESS: at 89.88% examples, 328660 words/s, in_qsize 8, out_qsize 0\n",
      "2021-02-24 07:51:52,890 : INFO : EPOCH 9 - PROGRESS: at 98.74% examples, 329097 words/s, in_qsize 19, out_qsize 1\n",
      "2021-02-24 07:51:52,929 : INFO : worker thread finished; awaiting finish of 11 more threads\n",
      "2021-02-24 07:51:52,931 : INFO : worker thread finished; awaiting finish of 10 more threads\n",
      "2021-02-24 07:51:52,933 : INFO : worker thread finished; awaiting finish of 9 more threads\n",
      "2021-02-24 07:51:52,937 : INFO : worker thread finished; awaiting finish of 8 more threads\n",
      "2021-02-24 07:51:52,942 : INFO : worker thread finished; awaiting finish of 7 more threads\n",
      "2021-02-24 07:51:52,944 : INFO : worker thread finished; awaiting finish of 6 more threads\n",
      "2021-02-24 07:51:52,946 : INFO : worker thread finished; awaiting finish of 5 more threads\n",
      "2021-02-24 07:51:52,952 : INFO : worker thread finished; awaiting finish of 4 more threads\n",
      "2021-02-24 07:51:52,960 : INFO : worker thread finished; awaiting finish of 3 more threads\n",
      "2021-02-24 07:51:52,963 : INFO : worker thread finished; awaiting finish of 2 more threads\n",
      "2021-02-24 07:51:52,964 : INFO : worker thread finished; awaiting finish of 1 more threads\n",
      "2021-02-24 07:51:52,966 : INFO : worker thread finished; awaiting finish of 0 more threads\n",
      "2021-02-24 07:51:52,967 : INFO : EPOCH - 9 : training on 15410953 raw words (3702043 effective words) took 11.2s, 330988 effective words/s\n",
      "2021-02-24 07:51:53,973 : INFO : EPOCH 10 - PROGRESS: at 8.65% examples, 318393 words/s, in_qsize 0, out_qsize 0\n",
      "2021-02-24 07:51:54,976 : INFO : EPOCH 10 - PROGRESS: at 17.88% examples, 328080 words/s, in_qsize 0, out_qsize 0\n",
      "2021-02-24 07:51:56,025 : INFO : EPOCH 10 - PROGRESS: at 26.52% examples, 319189 words/s, in_qsize 20, out_qsize 0\n",
      "2021-02-24 07:51:57,031 : INFO : EPOCH 10 - PROGRESS: at 35.74% examples, 325792 words/s, in_qsize 0, out_qsize 0\n",
      "2021-02-24 07:51:58,042 : INFO : EPOCH 10 - PROGRESS: at 44.79% examples, 327027 words/s, in_qsize 0, out_qsize 1\n",
      "2021-02-24 07:51:59,053 : INFO : EPOCH 10 - PROGRESS: at 53.27% examples, 325344 words/s, in_qsize 24, out_qsize 0\n",
      "2021-02-24 07:52:00,058 : INFO : EPOCH 10 - PROGRESS: at 61.94% examples, 324340 words/s, in_qsize 16, out_qsize 2\n",
      "2021-02-24 07:52:01,070 : INFO : EPOCH 10 - PROGRESS: at 71.89% examples, 328620 words/s, in_qsize 0, out_qsize 3\n",
      "2021-02-24 07:52:02,078 : INFO : EPOCH 10 - PROGRESS: at 80.64% examples, 327727 words/s, in_qsize 24, out_qsize 0\n",
      "2021-02-24 07:52:03,085 : INFO : EPOCH 10 - PROGRESS: at 89.54% examples, 327428 words/s, in_qsize 18, out_qsize 2\n",
      "2021-02-24 07:52:04,091 : INFO : EPOCH 10 - PROGRESS: at 99.26% examples, 330662 words/s, in_qsize 0, out_qsize 0\n",
      "2021-02-24 07:52:04,138 : INFO : worker thread finished; awaiting finish of 11 more threads\n",
      "2021-02-24 07:52:04,140 : INFO : worker thread finished; awaiting finish of 10 more threads\n",
      "2021-02-24 07:52:04,142 : INFO : worker thread finished; awaiting finish of 9 more threads\n",
      "2021-02-24 07:52:04,144 : INFO : worker thread finished; awaiting finish of 8 more threads\n",
      "2021-02-24 07:52:04,145 : INFO : worker thread finished; awaiting finish of 7 more threads\n",
      "2021-02-24 07:52:04,146 : INFO : worker thread finished; awaiting finish of 6 more threads\n",
      "2021-02-24 07:52:04,148 : INFO : worker thread finished; awaiting finish of 5 more threads\n",
      "2021-02-24 07:52:04,149 : INFO : worker thread finished; awaiting finish of 4 more threads\n",
      "2021-02-24 07:52:04,151 : INFO : worker thread finished; awaiting finish of 3 more threads\n"
     ]
    },
    {
     "name": "stderr",
     "output_type": "stream",
     "text": [
      "2021-02-24 07:52:04,152 : INFO : worker thread finished; awaiting finish of 2 more threads\n",
      "2021-02-24 07:52:04,157 : INFO : worker thread finished; awaiting finish of 1 more threads\n",
      "2021-02-24 07:52:04,165 : INFO : worker thread finished; awaiting finish of 0 more threads\n",
      "2021-02-24 07:52:04,166 : INFO : EPOCH - 10 : training on 15410953 raw words (3702871 effective words) took 11.2s, 330777 effective words/s\n",
      "2021-02-24 07:52:04,168 : INFO : training on a 154109530 raw words (37015613 effective words) took 113.2s, 327000 effective words/s\n",
      "2021-02-24 07:52:04,169 : INFO : saving Word2Vec object under dados/experimento_9/w2v_jur.model, separately None\n",
      "2021-02-24 07:52:04,170 : INFO : not storing attribute vectors_norm\n",
      "2021-02-24 07:52:04,171 : INFO : not storing attribute cum_table\n",
      "2021-02-24 07:52:05,040 : INFO : saved dados/experimento_9/w2v_jur.model\n"
     ]
    },
    {
     "name": "stdout",
     "output_type": "stream",
     "text": [
      "treinando modelo word2vec\n"
     ]
    },
    {
     "name": "stderr",
     "output_type": "stream",
     "text": [
      "2021-02-24 07:52:05,042 : INFO : resetting layer weights\n",
      "2021-02-24 07:52:10,041 : INFO : collecting all words and their counts\n",
      "2021-02-24 07:52:10,043 : INFO : PROGRESS: at sentence #0, processed 0 words, keeping 0 word types\n",
      "2021-02-24 07:52:10,110 : INFO : PROGRESS: at sentence #10000, processed 237809 words, keeping 13733 word types\n",
      "2021-02-24 07:52:10,178 : INFO : PROGRESS: at sentence #20000, processed 481864 words, keeping 18800 word types\n",
      "2021-02-24 07:52:10,249 : INFO : PROGRESS: at sentence #30000, processed 728972 words, keeping 22399 word types\n",
      "2021-02-24 07:52:10,318 : INFO : PROGRESS: at sentence #40000, processed 971460 words, keeping 25663 word types\n",
      "2021-02-24 07:52:10,386 : INFO : PROGRESS: at sentence #50000, processed 1218392 words, keeping 28283 word types\n",
      "2021-02-24 07:52:10,454 : INFO : PROGRESS: at sentence #60000, processed 1459096 words, keeping 30459 word types\n",
      "2021-02-24 07:52:10,524 : INFO : PROGRESS: at sentence #70000, processed 1708715 words, keeping 32297 word types\n",
      "2021-02-24 07:52:10,590 : INFO : PROGRESS: at sentence #80000, processed 1946077 words, keeping 34316 word types\n",
      "2021-02-24 07:52:10,657 : INFO : PROGRESS: at sentence #90000, processed 2187318 words, keeping 36000 word types\n",
      "2021-02-24 07:52:10,724 : INFO : PROGRESS: at sentence #100000, processed 2425492 words, keeping 37542 word types\n",
      "2021-02-24 07:52:10,793 : INFO : PROGRESS: at sentence #110000, processed 2671996 words, keeping 39111 word types\n",
      "2021-02-24 07:52:10,860 : INFO : PROGRESS: at sentence #120000, processed 2910606 words, keeping 40651 word types\n",
      "2021-02-24 07:52:10,927 : INFO : PROGRESS: at sentence #130000, processed 3148812 words, keeping 42019 word types\n",
      "2021-02-24 07:52:10,993 : INFO : PROGRESS: at sentence #140000, processed 3387456 words, keeping 43168 word types\n",
      "2021-02-24 07:52:11,063 : INFO : PROGRESS: at sentence #150000, processed 3627150 words, keeping 44481 word types\n",
      "2021-02-24 07:52:11,131 : INFO : PROGRESS: at sentence #160000, processed 3871186 words, keeping 45735 word types\n",
      "2021-02-24 07:52:11,200 : INFO : PROGRESS: at sentence #170000, processed 4119807 words, keeping 46905 word types\n",
      "2021-02-24 07:52:11,267 : INFO : PROGRESS: at sentence #180000, processed 4360026 words, keeping 48031 word types\n",
      "2021-02-24 07:52:11,334 : INFO : PROGRESS: at sentence #190000, processed 4603815 words, keeping 49040 word types\n",
      "2021-02-24 07:52:11,401 : INFO : PROGRESS: at sentence #200000, processed 4847753 words, keeping 49988 word types\n",
      "2021-02-24 07:52:11,471 : INFO : PROGRESS: at sentence #210000, processed 5099408 words, keeping 51093 word types\n",
      "2021-02-24 07:52:11,539 : INFO : PROGRESS: at sentence #220000, processed 5349552 words, keeping 52089 word types\n",
      "2021-02-24 07:52:11,608 : INFO : PROGRESS: at sentence #230000, processed 5593125 words, keeping 53161 word types\n",
      "2021-02-24 07:52:11,676 : INFO : PROGRESS: at sentence #240000, processed 5838069 words, keeping 54233 word types\n",
      "2021-02-24 07:52:11,744 : INFO : PROGRESS: at sentence #250000, processed 6074702 words, keeping 55183 word types\n",
      "2021-02-24 07:52:11,813 : INFO : PROGRESS: at sentence #260000, processed 6320376 words, keeping 56203 word types\n",
      "2021-02-24 07:52:11,879 : INFO : PROGRESS: at sentence #270000, processed 6560285 words, keeping 57169 word types\n",
      "2021-02-24 07:52:11,948 : INFO : PROGRESS: at sentence #280000, processed 6802402 words, keeping 58149 word types\n",
      "2021-02-24 07:52:12,015 : INFO : PROGRESS: at sentence #290000, processed 7041874 words, keeping 58856 word types\n",
      "2021-02-24 07:52:12,084 : INFO : PROGRESS: at sentence #300000, processed 7288342 words, keeping 59685 word types\n",
      "2021-02-24 07:52:12,153 : INFO : PROGRESS: at sentence #310000, processed 7537030 words, keeping 60589 word types\n",
      "2021-02-24 07:52:12,222 : INFO : PROGRESS: at sentence #320000, processed 7786327 words, keeping 61369 word types\n",
      "2021-02-24 07:52:12,290 : INFO : PROGRESS: at sentence #330000, processed 8027715 words, keeping 62134 word types\n",
      "2021-02-24 07:52:12,358 : INFO : PROGRESS: at sentence #340000, processed 8274765 words, keeping 62876 word types\n",
      "2021-02-24 07:52:12,427 : INFO : PROGRESS: at sentence #350000, processed 8521322 words, keeping 63640 word types\n",
      "2021-02-24 07:52:12,493 : INFO : PROGRESS: at sentence #360000, processed 8762726 words, keeping 64396 word types\n",
      "2021-02-24 07:52:12,561 : INFO : PROGRESS: at sentence #370000, processed 9006059 words, keeping 65083 word types\n",
      "2021-02-24 07:52:12,629 : INFO : PROGRESS: at sentence #380000, processed 9245585 words, keeping 65730 word types\n",
      "2021-02-24 07:52:12,697 : INFO : PROGRESS: at sentence #390000, processed 9490418 words, keeping 66369 word types\n",
      "2021-02-24 07:52:12,762 : INFO : PROGRESS: at sentence #400000, processed 9724445 words, keeping 66997 word types\n",
      "2021-02-24 07:52:12,826 : INFO : PROGRESS: at sentence #410000, processed 9955089 words, keeping 67602 word types\n",
      "2021-02-24 07:52:12,893 : INFO : PROGRESS: at sentence #420000, processed 10198691 words, keeping 68255 word types\n",
      "2021-02-24 07:52:12,960 : INFO : PROGRESS: at sentence #430000, processed 10439547 words, keeping 68901 word types\n",
      "2021-02-24 07:52:13,029 : INFO : PROGRESS: at sentence #440000, processed 10682929 words, keeping 69597 word types\n",
      "2021-02-24 07:52:13,095 : INFO : PROGRESS: at sentence #450000, processed 10923144 words, keeping 70181 word types\n",
      "2021-02-24 07:52:13,160 : INFO : PROGRESS: at sentence #460000, processed 11157994 words, keeping 70756 word types\n",
      "2021-02-24 07:52:13,230 : INFO : PROGRESS: at sentence #470000, processed 11407486 words, keeping 71420 word types\n",
      "2021-02-24 07:52:13,296 : INFO : PROGRESS: at sentence #480000, processed 11647158 words, keeping 72014 word types\n",
      "2021-02-24 07:52:13,364 : INFO : PROGRESS: at sentence #490000, processed 11892761 words, keeping 72598 word types\n",
      "2021-02-24 07:52:13,431 : INFO : PROGRESS: at sentence #500000, processed 12136817 words, keeping 73097 word types\n",
      "2021-02-24 07:52:13,498 : INFO : PROGRESS: at sentence #510000, processed 12374716 words, keeping 73699 word types\n",
      "2021-02-24 07:52:13,564 : INFO : PROGRESS: at sentence #520000, processed 12612238 words, keeping 74296 word types\n",
      "2021-02-24 07:52:13,632 : INFO : PROGRESS: at sentence #530000, processed 12855896 words, keeping 74887 word types\n",
      "2021-02-24 07:52:13,705 : INFO : PROGRESS: at sentence #540000, processed 13100373 words, keeping 75436 word types\n",
      "2021-02-24 07:52:13,778 : INFO : PROGRESS: at sentence #550000, processed 13342958 words, keeping 75917 word types\n",
      "2021-02-24 07:52:13,849 : INFO : PROGRESS: at sentence #560000, processed 13577787 words, keeping 76501 word types\n",
      "2021-02-24 07:52:13,922 : INFO : PROGRESS: at sentence #570000, processed 13823214 words, keeping 77020 word types\n",
      "2021-02-24 07:52:13,995 : INFO : PROGRESS: at sentence #580000, processed 14070650 words, keeping 77663 word types\n",
      "2021-02-24 07:52:14,068 : INFO : PROGRESS: at sentence #590000, processed 14311721 words, keeping 78300 word types\n",
      "2021-02-24 07:52:14,142 : INFO : PROGRESS: at sentence #600000, processed 14558892 words, keeping 78821 word types\n",
      "2021-02-24 07:52:14,216 : INFO : PROGRESS: at sentence #610000, processed 14803223 words, keeping 79462 word types\n",
      "2021-02-24 07:52:14,288 : INFO : PROGRESS: at sentence #620000, processed 15042377 words, keeping 79913 word types\n",
      "2021-02-24 07:52:14,360 : INFO : PROGRESS: at sentence #630000, processed 15289110 words, keeping 80576 word types\n",
      "2021-02-24 07:52:14,397 : INFO : collected 80870 word types from a corpus of 15410953 raw words and 635054 sentences\n",
      "2021-02-24 07:52:14,398 : INFO : Loading a fresh vocabulary\n",
      "2021-02-24 07:52:14,502 : INFO : effective_min_count=5 retains 32500 unique words (40% of original 80870, drops 48370)\n",
      "2021-02-24 07:52:14,503 : INFO : effective_min_count=5 leaves 15329447 word corpus (99% of original 15410953, drops 81506)\n",
      "2021-02-24 07:52:14,581 : INFO : deleting the raw counts dictionary of 80870 items\n",
      "2021-02-24 07:52:14,584 : INFO : sample=0.001 downsamples 36 most-common words\n",
      "2021-02-24 07:52:14,585 : INFO : downsampling leaves estimated 11093057 word corpus (72.4% of prior 15329447)\n",
      "2021-02-24 07:52:14,607 : INFO : constructing a huffman tree from 32500 words\n",
      "2021-02-24 07:52:15,247 : INFO : built huffman tree with maximum node depth 22\n"
     ]
    },
    {
     "name": "stderr",
     "output_type": "stream",
     "text": [
      "2021-02-24 07:52:15,588 : INFO : estimated required memory for 32500 words, 137641 buckets and 100 dimensions: 125568800 bytes\n",
      "2021-02-24 07:52:15,592 : INFO : resetting layer weights\n",
      "2021-02-24 07:52:19,001 : INFO : training model with 12 workers on 32500 vocabulary and 100 features, using sg=1 hs=1 sample=0.001 negative=5 window=5\n",
      "2021-02-24 07:53:11,273 : INFO : EPOCH 1 - PROGRESS: at 8.39% words, 17802 words/s, in_qsize -1, out_qsize 1\n",
      "2021-02-24 07:53:11,275 : INFO : worker thread finished; awaiting finish of 11 more threads\n",
      "2021-02-24 07:53:11,290 : INFO : worker thread finished; awaiting finish of 10 more threads\n",
      "2021-02-24 07:53:11,389 : INFO : worker thread finished; awaiting finish of 9 more threads\n",
      "2021-02-24 07:53:11,404 : INFO : worker thread finished; awaiting finish of 8 more threads\n",
      "2021-02-24 07:53:11,694 : INFO : worker thread finished; awaiting finish of 7 more threads\n",
      "2021-02-24 07:53:11,791 : INFO : worker thread finished; awaiting finish of 6 more threads\n",
      "2021-02-24 07:53:11,851 : INFO : worker thread finished; awaiting finish of 5 more threads\n",
      "2021-02-24 07:53:11,853 : INFO : worker thread finished; awaiting finish of 4 more threads\n",
      "2021-02-24 07:53:11,885 : INFO : worker thread finished; awaiting finish of 3 more threads\n",
      "2021-02-24 07:53:11,888 : INFO : worker thread finished; awaiting finish of 2 more threads\n",
      "2021-02-24 07:53:11,943 : INFO : worker thread finished; awaiting finish of 1 more threads\n",
      "2021-02-24 07:53:11,946 : INFO : worker thread finished; awaiting finish of 0 more threads\n",
      "2021-02-24 07:53:11,947 : INFO : EPOCH - 1 : training on 15507450 raw words (11161276 effective words) took 52.9s, 210986 effective words/s\n",
      "2021-02-24 07:54:03,385 : INFO : EPOCH 2 - PROGRESS: at 8.39% words, 18129 words/s, in_qsize -1, out_qsize 1\n",
      "2021-02-24 07:54:03,387 : INFO : worker thread finished; awaiting finish of 11 more threads\n",
      "2021-02-24 07:54:03,479 : INFO : worker thread finished; awaiting finish of 10 more threads\n",
      "2021-02-24 07:54:03,497 : INFO : worker thread finished; awaiting finish of 9 more threads\n",
      "2021-02-24 07:54:03,539 : INFO : worker thread finished; awaiting finish of 8 more threads\n",
      "2021-02-24 07:54:04,156 : INFO : worker thread finished; awaiting finish of 7 more threads\n",
      "2021-02-24 07:54:04,218 : INFO : worker thread finished; awaiting finish of 6 more threads\n",
      "2021-02-24 07:54:04,227 : INFO : worker thread finished; awaiting finish of 5 more threads\n",
      "2021-02-24 07:54:04,228 : INFO : worker thread finished; awaiting finish of 4 more threads\n",
      "2021-02-24 07:54:04,236 : INFO : worker thread finished; awaiting finish of 3 more threads\n",
      "2021-02-24 07:54:04,304 : INFO : worker thread finished; awaiting finish of 2 more threads\n",
      "2021-02-24 07:54:04,332 : INFO : worker thread finished; awaiting finish of 1 more threads\n",
      "2021-02-24 07:54:04,406 : INFO : EPOCH 2 - PROGRESS: at 100.63% words, 212961 words/s, in_qsize -1, out_qsize 1\n",
      "2021-02-24 07:54:04,407 : INFO : worker thread finished; awaiting finish of 0 more threads\n",
      "2021-02-24 07:54:04,408 : INFO : EPOCH - 2 : training on 15507450 raw words (11161985 effective words) took 52.4s, 212952 effective words/s\n",
      "2021-02-24 07:54:55,478 : INFO : EPOCH 3 - PROGRESS: at 8.39% words, 18216 words/s, in_qsize -1, out_qsize 1\n",
      "2021-02-24 07:54:55,480 : INFO : worker thread finished; awaiting finish of 11 more threads\n",
      "2021-02-24 07:54:55,535 : INFO : worker thread finished; awaiting finish of 10 more threads\n",
      "2021-02-24 07:54:55,742 : INFO : worker thread finished; awaiting finish of 9 more threads\n",
      "2021-02-24 07:54:55,782 : INFO : worker thread finished; awaiting finish of 8 more threads\n",
      "2021-02-24 07:54:56,265 : INFO : worker thread finished; awaiting finish of 7 more threads\n",
      "2021-02-24 07:54:56,359 : INFO : worker thread finished; awaiting finish of 6 more threads\n",
      "2021-02-24 07:54:56,386 : INFO : worker thread finished; awaiting finish of 5 more threads\n",
      "2021-02-24 07:54:56,388 : INFO : worker thread finished; awaiting finish of 4 more threads\n",
      "2021-02-24 07:54:56,400 : INFO : worker thread finished; awaiting finish of 3 more threads\n",
      "2021-02-24 07:54:56,443 : INFO : worker thread finished; awaiting finish of 2 more threads\n",
      "2021-02-24 07:54:56,473 : INFO : worker thread finished; awaiting finish of 1 more threads\n",
      "2021-02-24 07:54:56,542 : INFO : EPOCH 3 - PROGRESS: at 100.63% words, 214294 words/s, in_qsize -1, out_qsize 1\n",
      "2021-02-24 07:54:56,544 : INFO : worker thread finished; awaiting finish of 0 more threads\n",
      "2021-02-24 07:54:56,544 : INFO : EPOCH - 3 : training on 15507450 raw words (11162744 effective words) took 52.1s, 214286 effective words/s\n",
      "2021-02-24 07:55:47,790 : INFO : EPOCH 4 - PROGRESS: at 8.39% words, 18156 words/s, in_qsize -1, out_qsize 1\n",
      "2021-02-24 07:55:47,792 : INFO : worker thread finished; awaiting finish of 11 more threads\n",
      "2021-02-24 07:55:47,942 : INFO : worker thread finished; awaiting finish of 10 more threads\n",
      "2021-02-24 07:55:48,193 : INFO : worker thread finished; awaiting finish of 9 more threads\n",
      "2021-02-24 07:55:48,475 : INFO : worker thread finished; awaiting finish of 8 more threads\n",
      "2021-02-24 07:55:48,512 : INFO : worker thread finished; awaiting finish of 7 more threads\n",
      "2021-02-24 07:55:48,539 : INFO : worker thread finished; awaiting finish of 6 more threads\n",
      "2021-02-24 07:55:48,615 : INFO : worker thread finished; awaiting finish of 5 more threads\n",
      "2021-02-24 07:55:48,704 : INFO : worker thread finished; awaiting finish of 4 more threads\n",
      "2021-02-24 07:55:48,706 : INFO : worker thread finished; awaiting finish of 3 more threads\n",
      "2021-02-24 07:55:48,710 : INFO : worker thread finished; awaiting finish of 2 more threads\n",
      "2021-02-24 07:55:48,805 : INFO : EPOCH 4 - PROGRESS: at 92.23% words, 195947 words/s, in_qsize -1, out_qsize 1\n",
      "2021-02-24 07:55:48,806 : INFO : worker thread finished; awaiting finish of 1 more threads\n",
      "2021-02-24 07:55:49,285 : INFO : worker thread finished; awaiting finish of 0 more threads\n",
      "2021-02-24 07:55:49,286 : INFO : EPOCH - 4 : training on 15507450 raw words (11161371 effective words) took 52.7s, 211804 effective words/s\n",
      "2021-02-24 07:56:41,655 : INFO : EPOCH 5 - PROGRESS: at 8.39% words, 17757 words/s, in_qsize -1, out_qsize 1\n",
      "2021-02-24 07:56:41,656 : INFO : worker thread finished; awaiting finish of 11 more threads\n",
      "2021-02-24 07:56:41,765 : INFO : worker thread finished; awaiting finish of 10 more threads\n",
      "2021-02-24 07:56:41,784 : INFO : worker thread finished; awaiting finish of 9 more threads\n",
      "2021-02-24 07:56:41,818 : INFO : worker thread finished; awaiting finish of 8 more threads\n",
      "2021-02-24 07:56:42,457 : INFO : worker thread finished; awaiting finish of 7 more threads\n",
      "2021-02-24 07:56:42,472 : INFO : worker thread finished; awaiting finish of 6 more threads\n",
      "2021-02-24 07:56:42,474 : INFO : worker thread finished; awaiting finish of 5 more threads\n",
      "2021-02-24 07:56:42,548 : INFO : worker thread finished; awaiting finish of 4 more threads\n",
      "2021-02-24 07:56:42,597 : INFO : worker thread finished; awaiting finish of 3 more threads\n",
      "2021-02-24 07:56:42,632 : INFO : worker thread finished; awaiting finish of 2 more threads\n",
      "2021-02-24 07:56:42,649 : INFO : worker thread finished; awaiting finish of 1 more threads\n",
      "2021-02-24 07:56:42,657 : INFO : EPOCH 5 - PROGRESS: at 100.63% words, 209287 words/s, in_qsize -1, out_qsize 1\n",
      "2021-02-24 07:56:42,659 : INFO : worker thread finished; awaiting finish of 0 more threads\n",
      "2021-02-24 07:56:42,660 : INFO : EPOCH - 5 : training on 15507450 raw words (11160850 effective words) took 53.3s, 209277 effective words/s\n",
      "2021-02-24 07:56:42,664 : INFO : training on a 77537250 raw words (55808226 effective words) took 263.7s, 211666 effective words/s\n",
      "2021-02-24 07:56:42,665 : WARNING : under 10 jobs per worker: consider setting a smaller `batch_words' for smoother alpha decay\n",
      "2021-02-24 07:56:44,273 : INFO : saving FastText object under dados/experimento_9/ftt_jur.model, separately None\n",
      "2021-02-24 07:56:44,275 : INFO : storing np array 'vectors_ngrams' to dados/experimento_9/ftt_jur.model.wv.vectors_ngrams.npy\n",
      "2021-02-24 07:56:51,280 : INFO : not storing attribute vectors_norm\n",
      "2021-02-24 07:56:51,282 : INFO : not storing attribute vectors_vocab_norm\n",
      "2021-02-24 07:56:51,283 : INFO : not storing attribute vectors_ngrams_norm\n"
     ]
    },
    {
     "name": "stderr",
     "output_type": "stream",
     "text": [
      "2021-02-24 07:56:51,284 : INFO : not storing attribute buckets_word\n",
      "2021-02-24 07:56:51,286 : INFO : storing np array 'vectors_ngrams_lockf' to dados/experimento_9/ftt_jur.model.trainables.vectors_ngrams_lockf.npy\n",
      "2021-02-24 07:56:59,069 : INFO : saved dados/experimento_9/ftt_jur.model\n"
     ]
    },
    {
     "name": "stdout",
     "output_type": "stream",
     "text": [
      "treinando modelo glove\n",
      "mkdir -p build\n",
      "tokenizando corpus\n",
      "$ build/vocab_count -min-count 5 -verbose 2 < ../mestrado/experimentos_mestrado/dados/experimento_9/base_treino_glv.txt > ../mestrado/experimentos_mestrado/dados/experimento_9/glove_vocab.txt\n",
      "criando matriz de coocorrencia\n",
      "$ build/cooccur -memory 4.0 -vocab-file ../mestrado/experimentos_mestrado/dados/experimento_9/glove_vocab.txt -verbose 2 -window-size 15 < ../mestrado/experimentos_mestrado/dados/experimento_9/base_treino_glv.txt > ../mestrado/experimentos_mestrado/dados/experimento_9/glv_concurrence.bin\n",
      "$ build/shuffle -memory 4.0 -verbose 2 < ../mestrado/experimentos_mestrado/dados/experimento_9/glv_concurrence.bin > ../mestrado/experimentos_mestrado/dados/experimento_9/glv_concurrence_shuf.bin\n",
      "$ build/glove -save-file ../mestrado/experimentos_mestrado/dados/experimento_9/glv_jur -threads 8 -input-file ../mestrado/experimentos_mestrado/dados/experimento_9/glv_concurrence_shuf.bin -x-max 10 -iter 15 -vector-size 100 -binary 2 -vocab-file ../mestrado/experimentos_mestrado/dados/experimento_9/glove_vocab.txt -verbose 2\n",
      "\n",
      "BUILDING VOCABULARY\n",
      "Processed 0 tokens.100000 tokens.200000 tokens.300000 tokens.400000 tokens.500000 tokens.600000 tokens.700000 tokens.800000 tokens.900000 tokens.1000000 tokens.1100000 tokens.1200000 tokens.1300000 tokens.1400000 tokens.1500000 tokens.1600000 tokens.1700000 tokens.1800000 tokens.1900000 tokens.2000000 tokens.2100000 tokens.2200000 tokens.2300000 tokens.2400000 tokens.2500000 tokens.2600000 tokens.2700000 tokens.2800000 tokens.2900000 tokens.3000000 tokens.3100000 tokens.3200000 tokens.3300000 tokens.3400000 tokens.3500000 tokens.3600000 tokens.3700000 tokens.3800000 tokens.3900000 tokens.4000000 tokens.4100000 tokens.4200000 tokens.4300000 tokens.4400000 tokens.4500000 tokens.4600000 tokens.4700000 tokens.4800000 tokens.4900000 tokens.5000000 tokens.5100000 tokens.5200000 tokens.5300000 tokens.5400000 tokens.5500000 tokens.5600000 tokens.5700000 tokens.5800000 tokens.5900000 tokens.6000000 tokens.6100000 tokens.6200000 tokens.6300000 tokens.6400000 tokens.6500000 tokens.6600000 tokens.6700000 tokens.6800000 tokens.6900000 tokens.7000000 tokens.7100000 tokens.7200000 tokens.7300000 tokens.7400000 tokens.7500000 tokens.7600000 tokens.7700000 tokens.7800000 tokens.7900000 tokens.8000000 tokens.8100000 tokens.8200000 tokens.8300000 tokens.8400000 tokens.8500000 tokens.8600000 tokens.8700000 tokens.8800000 tokens.8900000 tokens.9000000 tokens.9100000 tokens.9200000 tokens.9300000 tokens.9400000 tokens.9500000 tokens.9600000 tokens.9700000 tokens.Processed 9700341 tokens.\n",
      "Counted 80692 unique words.\n",
      "Truncating vocabulary at min count 5.\n",
      "Using vocabulary of size 32333.\n",
      "\n",
      "COUNTING COOCCURRENCES\n",
      "window size: 15\n",
      "context: symmetric\n",
      "max product: 13752509\n",
      "overflow length: 38028356\n",
      "Reading vocab from file \"../mestrado/experimentos_mestrado/dados/experimento_9/glove_vocab.txt\"...loaded 32333 words.\n",
      "Building lookup table...table contains 73282111 elements.\n",
      "Processing token: 01000002000003000004000005000006000007000008000009000001000000110000012000001300000140000015000001600000170000018000001900000200000021000002200000230000024000002500000260000027000002800000290000030000003100000320000033000003400000350000036000003700000380000039000004000000410000042000004300000440000045000004600000470000048000004900000500000051000005200000530000054000005500000560000057000005800000590000060000006100000620000063000006400000650000066000006700000680000069000007000000710000072000007300000740000075000007600000770000078000007900000800000081000008200000830000084000008500000860000087000008800000890000090000009100000920000093000009400000950000096000009700000Processed 9700341 tokens.\n",
      "Writing cooccurrences to disk........2 files in total.\n"
     ]
    },
    {
     "name": "stdout",
     "output_type": "stream",
     "text": [
      "Merging cooccurrence files: processed 0 lines.100000 lines.200000 lines.300000 lines.400000 lines.500000 lines.600000 lines.700000 lines.800000 lines.900000 lines.1000000 lines.1100000 lines.1200000 lines.1300000 lines.1400000 lines.1500000 lines.1600000 lines.1700000 lines.1800000 lines.1900000 lines.2000000 lines.2100000 lines.2200000 lines.2300000 lines.2400000 lines.2500000 lines.2600000 lines.2700000 lines.2800000 lines.2900000 lines.3000000 lines.3100000 lines.3200000 lines.3300000 lines.3400000 lines.3500000 lines.3600000 lines.3700000 lines.3800000 lines.3900000 lines.4000000 lines.4100000 lines.4200000 lines.4300000 lines.4400000 lines.4500000 lines.4600000 lines.4700000 lines.4800000 lines.4900000 lines.5000000 lines.5100000 lines.5200000 lines.5300000 lines.5400000 lines.5500000 lines.5600000 lines.5700000 lines.5800000 lines.5900000 lines.6000000 lines.6100000 lines.6200000 lines.6300000 lines.6400000 lines.6500000 lines.6600000 lines.6700000 lines.6800000 lines.6900000 lines.7000000 lines.7100000 lines.7200000 lines.7300000 lines.7400000 lines.7500000 lines.7600000 lines.7700000 lines.7800000 lines.7900000 lines.8000000 lines.8100000 lines.8200000 lines.8300000 lines.8400000 lines.8500000 lines.8600000 lines.8700000 lines.8800000 lines.8900000 lines.9000000 lines.9100000 lines.9200000 lines.9300000 lines.9400000 lines.9500000 lines.9600000 lines.9700000 lines.9800000 lines.9900000 lines.10000000 lines.10100000 lines.10200000 lines.10300000 lines.10400000 lines.10500000 lines.10600000 lines.10700000 lines.10800000 lines.10900000 lines.11000000 lines.11100000 lines.11200000 lines.11300000 lines.11400000 lines.11500000 lines.11600000 lines.11700000 lines.11800000 lines.11900000 lines.12000000 lines.12100000 lines.12200000 lines.12300000 lines.12400000 lines.12500000 lines.12600000 lines.12700000 lines.12800000 lines.12900000 lines.13000000 lines.13100000 lines.13200000 lines.13300000 lines.13400000 lines.13500000 lines.13600000 lines.13700000 lines.13800000 lines.13900000 lines.14000000 lines.14100000 lines.14200000 lines.14300000 lines.14400000 lines.14500000 lines.14600000 lines.14700000 lines.14800000 lines.14900000 lines.15000000 lines.15100000 lines.15200000 lines.15300000 lines.15400000 lines.15500000 lines.15600000 lines.15700000 lines.15800000 lines.15900000 lines.16000000 lines.16100000 lines.16200000 lines.16300000 lines.16400000 lines.16500000 lines.16600000 lines.16700000 lines.16800000 lines.16900000 lines.17000000 lines.17100000 lines.17200000 lines.17300000 lines.17400000 lines.17500000 lines.17600000 lines.17700000 lines.17800000 lines.17900000 lines.18000000 lines.18100000 lines.18200000 lines.18300000 lines.18400000 lines.18500000 lines.18600000 lines.18700000 lines.18800000 lines.18900000 lines.19000000 lines.19100000 lines.19200000 lines.19300000 lines.19400000 lines.19500000 lines.19600000 lines.19700000 lines.19800000 lines.19900000 lines.20000000 lines.20100000 lines.20200000 lines.20300000 lines.20400000 lines.20500000 lines.20600000 lines.20700000 lines.20800000 lines.20900000 lines.21000000 lines.21100000 lines.21200000 lines.21300000 lines.21400000 lines.21500000 lines.21600000 lines.21700000 lines.21800000 lines.21900000 lines.22000000 lines.22100000 lines.22200000 lines.22300000 lines.22400000 lines.22500000 lines.22600000 lines.22700000 lines.22800000 lines.22900000 lines.23000000 lines.23100000 lines.23200000 lines.23300000 lines.23400000 lines.23500000 lines.23600000 lines.23700000 lines.23800000 lines.23900000 lines.24000000 lines.24100000 lines.24200000 lines.24300000 lines.24400000 lines.24500000 lines.24600000 lines.24700000 lines.24800000 lines.24900000 lines.25000000 lines.25100000 lines.25200000 lines.25300000 lines.25400000 lines.25500000 lines.25600000 lines.25700000 lines.25800000 lines.25900000 lines.26000000 lines.26100000 lines.26200000 lines.26300000 lines.26400000 lines.26500000 lines.26600000 lines.26700000 lines.26800000 lines.26900000 lines.27000000 lines.27100000 lines.27200000 lines.27300000 lines.27400000 lines.27500000 lines.27600000 lines.27700000 lines.27800000 lines.27900000 lines.28000000 lines.28100000 lines.28200000 lines.28300000 lines.28400000 lines.28500000 lines.28600000 lines.28700000 lines.28800000 lines.28900000 lines.29000000 lines.29100000 lines.29200000 lines.29300000 lines.29400000 lines.29500000 lines.29600000 lines.29700000 lines.29800000 lines.29900000 lines.30000000 lines.30100000 lines.30200000 lines.30300000 lines.30400000 lines.30500000 lines.30600000 lines.30700000 lines.30800000 lines.30900000 lines.31000000 lines.31100000 lines.31200000 lines.31300000 lines.31400000 lines.31500000 lines.Merging cooccurrence files: processed 31536035 lines.\n",
      "\n",
      "Using random seed 1614164235\n",
      "SHUFFLING COOCCURRENCES\n",
      "array size: 255013683\n",
      "Shuffling by chunks: processed 0 lines.processed 31536035 lines.\n",
      "Wrote 1 temporary file(s).\n",
      "Merging temp files: processed 0 lines.31536035 lines.Merging temp files: processed 31536035 lines.\n",
      "\n",
      "TRAINING MODEL\n",
      "Read 31536035 lines.\n",
      "Initializing parameters...Using random seed 1614164246\n",
      "done.\n",
      "vector size: 100\n",
      "vocab size: 32333\n",
      "x_max: 10.000000\n",
      "alpha: 0.750000\n",
      "02/24/21 - 07:57.38AM, iter: 001, cost: 0.109685\n",
      "02/24/21 - 07:57.49AM, iter: 002, cost: 0.079761\n",
      "02/24/21 - 07:58.01AM, iter: 003, cost: 0.066845\n",
      "02/24/21 - 07:58.12AM, iter: 004, cost: 0.059175\n",
      "02/24/21 - 07:58.23AM, iter: 005, cost: 0.054736\n",
      "02/24/21 - 07:58.33AM, iter: 006, cost: 0.052108\n",
      "02/24/21 - 07:58.44AM, iter: 007, cost: 0.050401\n",
      "02/24/21 - 07:58.55AM, iter: 008, cost: 0.049142\n",
      "02/24/21 - 07:59.06AM, iter: 009, cost: 0.048212\n",
      "02/24/21 - 07:59.16AM, iter: 010, cost: 0.047458\n",
      "02/24/21 - 07:59.27AM, iter: 011, cost: 0.046876\n",
      "02/24/21 - 07:59.38AM, iter: 012, cost: 0.046375\n",
      "02/24/21 - 07:59.49AM, iter: 013, cost: 0.045952\n",
      "02/24/21 - 08:00.00AM, iter: 014, cost: 0.045578\n",
      "02/24/21 - 08:00.11AM, iter: 015, cost: 0.045239\n",
      "\n",
      "treinamento concluído\n"
     ]
    },
    {
     "name": "stderr",
     "output_type": "stream",
     "text": [
      "2021-02-24 08:00:12,811 : INFO : converting 32334 vectors from dados/experimento_9/glv_jur.txt to C:\\Users\\CRISTI~1\\AppData\\Local\\Temp\\test_word2vec.txt\n",
      "2021-02-24 08:00:12,882 : INFO : loading projection weights from C:\\Users\\CRISTI~1\\AppData\\Local\\Temp\\test_word2vec.txt\n",
      "2021-02-24 08:00:15,688 : INFO : loaded (32334, 100) matrix from C:\\Users\\CRISTI~1\\AppData\\Local\\Temp\\test_word2vec.txt\n",
      "2021-02-24 08:00:15,691 : INFO : loading projection weights from modelos/w2v_skip_nilc.txt\n",
      "2021-02-24 08:01:34,059 : INFO : loaded (929606, 100) matrix from modelos/w2v_skip_nilc.txt\n",
      "2021-02-24 08:01:34,060 : INFO : loading projection weights from modelos/ftt_skip_nilc.txt\n",
      "2021-02-24 08:02:50,976 : INFO : loaded (929605, 100) matrix from modelos/ftt_skip_nilc.txt\n",
      "2021-02-24 08:02:50,978 : INFO : loading projection weights from modelos/glove_nilc.txt\n",
      "2021-02-24 08:04:07,148 : INFO : loaded (929605, 100) matrix from modelos/glove_nilc.txt\n"
     ]
    },
    {
     "name": "stdout",
     "output_type": "stream",
     "text": [
      "recuperando teores da base de teste\n"
     ]
    },
    {
     "data": {
      "application/vnd.jupyter.widget-view+json": {
       "model_id": "17e9176e76f341a985d9c8797876f9df",
       "version_major": 2,
       "version_minor": 0
      },
      "text/plain": [
       "HBox(children=(IntProgress(value=0, max=7006), HTML(value='')))"
      ]
     },
     "metadata": {},
     "output_type": "display_data"
    },
    {
     "name": "stdout",
     "output_type": "stream",
     "text": [
      "\n",
      "criando representações word2vec geral\n"
     ]
    },
    {
     "data": {
      "application/vnd.jupyter.widget-view+json": {
       "model_id": "e7395617b38a45f8adef8b5c08bbaaef",
       "version_major": 2,
       "version_minor": 0
      },
      "text/plain": [
       "HBox(children=(IntProgress(value=0, max=7006), HTML(value='')))"
      ]
     },
     "metadata": {},
     "output_type": "display_data"
    },
    {
     "name": "stdout",
     "output_type": "stream",
     "text": [
      "\n",
      "criando representações fasttext geral\n"
     ]
    },
    {
     "data": {
      "application/vnd.jupyter.widget-view+json": {
       "model_id": "3188e8837249493e8b3e500111526215",
       "version_major": 2,
       "version_minor": 0
      },
      "text/plain": [
       "HBox(children=(IntProgress(value=0, max=7006), HTML(value='')))"
      ]
     },
     "metadata": {},
     "output_type": "display_data"
    },
    {
     "name": "stdout",
     "output_type": "stream",
     "text": [
      "\n",
      "criando representações glove geral\n"
     ]
    },
    {
     "data": {
      "application/vnd.jupyter.widget-view+json": {
       "model_id": "c76f697993eb4aaf81fed506874f458c",
       "version_major": 2,
       "version_minor": 0
      },
      "text/plain": [
       "HBox(children=(IntProgress(value=0, max=7006), HTML(value='')))"
      ]
     },
     "metadata": {},
     "output_type": "display_data"
    },
    {
     "name": "stdout",
     "output_type": "stream",
     "text": [
      "\n",
      "criando representações word2vec juridico\n"
     ]
    },
    {
     "data": {
      "application/vnd.jupyter.widget-view+json": {
       "model_id": "c2ef051423ed491593aeda97cba54262",
       "version_major": 2,
       "version_minor": 0
      },
      "text/plain": [
       "HBox(children=(IntProgress(value=0, max=7006), HTML(value='')))"
      ]
     },
     "metadata": {},
     "output_type": "display_data"
    },
    {
     "name": "stdout",
     "output_type": "stream",
     "text": [
      "\n",
      "criando representações fasttext juridico\n"
     ]
    },
    {
     "data": {
      "application/vnd.jupyter.widget-view+json": {
       "model_id": "fcd1b5a271bc47fca8b84701088ed699",
       "version_major": 2,
       "version_minor": 0
      },
      "text/plain": [
       "HBox(children=(IntProgress(value=0, max=7006), HTML(value='')))"
      ]
     },
     "metadata": {},
     "output_type": "display_data"
    },
    {
     "name": "stdout",
     "output_type": "stream",
     "text": [
      "\n",
      "criando representações glove juridico\n"
     ]
    },
    {
     "data": {
      "application/vnd.jupyter.widget-view+json": {
       "model_id": "4e6df31709324a68b8218457b9aef507",
       "version_major": 2,
       "version_minor": 0
      },
      "text/plain": [
       "HBox(children=(IntProgress(value=0, max=7006), HTML(value='')))"
      ]
     },
     "metadata": {},
     "output_type": "display_data"
    },
    {
     "name": "stdout",
     "output_type": "stream",
     "text": [
      "\n",
      "----------- EXPERIMENTO 9 CONCLUIDO -----------\n",
      "tempo do experimento: 19.302154966195424 minutos\n",
      "----------------------- EXPERIMENTO 10 -----------------------\n",
      "criando base de treino para o experimento 10\n"
     ]
    },
    {
     "data": {
      "application/vnd.jupyter.widget-view+json": {
       "model_id": "f6deae76dc8442fd8c95ca90f9ba2cc4",
       "version_major": 2,
       "version_minor": 0
      },
      "text/plain": [
       "HBox(children=(IntProgress(value=0, max=28021), HTML(value='')))"
      ]
     },
     "metadata": {},
     "output_type": "display_data"
    },
    {
     "name": "stdout",
     "output_type": "stream",
     "text": [
      "\n",
      "15977753 tokens copiados com sucesso\n",
      "preparando documentos para extração do vocabulário:\n"
     ]
    },
    {
     "data": {
      "application/vnd.jupyter.widget-view+json": {
       "model_id": "799b102abbe14948bc01f4e6ee4fcd4e",
       "version_major": 2,
       "version_minor": 0
      },
      "text/plain": [
       "HBox(children=(IntProgress(value=0, max=28021), HTML(value='')))"
      ]
     },
     "metadata": {},
     "output_type": "display_data"
    },
    {
     "name": "stdout",
     "output_type": "stream",
     "text": [
      "\n",
      "extraindo termos com base no ICA\n"
     ]
    },
    {
     "data": {
      "application/vnd.jupyter.widget-view+json": {
       "model_id": "2bcceda3e09046338b4f7e4d46000d4f",
       "version_major": 2,
       "version_minor": 0
      },
      "text/plain": [
       "HBox(children=(IntProgress(value=0, max=125), HTML(value='')))"
      ]
     },
     "metadata": {},
     "output_type": "display_data"
    },
    {
     "name": "stdout",
     "output_type": "stream",
     "text": [
      "\n",
      "-processando strings do corpus\n",
      "-treinando vetorizador\n",
      "-ICA processado\n",
      "extraindo termos com base na frequência - geralmente leva menos de 4 minutos\n",
      "extraindo termos do tesauro\n",
      "extração de vocabulário concluída!\n",
      "treinando modelo word2vec\n"
     ]
    },
    {
     "name": "stderr",
     "output_type": "stream",
     "text": [
      "2021-02-24 08:08:55,176 : INFO : collecting all words and their counts\n",
      "2021-02-24 08:08:55,193 : INFO : PROGRESS: at sentence #0, processed 0 words, keeping 0 word types\n",
      "2021-02-24 08:08:55,263 : INFO : PROGRESS: at sentence #10000, processed 244635 words, keeping 13647 word types\n",
      "2021-02-24 08:08:55,333 : INFO : PROGRESS: at sentence #20000, processed 482937 words, keeping 19085 word types\n",
      "2021-02-24 08:08:55,406 : INFO : PROGRESS: at sentence #30000, processed 727067 words, keeping 22713 word types\n",
      "2021-02-24 08:08:55,477 : INFO : PROGRESS: at sentence #40000, processed 972298 words, keeping 25748 word types\n",
      "2021-02-24 08:08:55,550 : INFO : PROGRESS: at sentence #50000, processed 1218718 words, keeping 28233 word types\n",
      "2021-02-24 08:08:55,618 : INFO : PROGRESS: at sentence #60000, processed 1451779 words, keeping 30549 word types\n",
      "2021-02-24 08:08:55,689 : INFO : PROGRESS: at sentence #70000, processed 1691937 words, keeping 32463 word types\n",
      "2021-02-24 08:08:55,760 : INFO : PROGRESS: at sentence #80000, processed 1932060 words, keeping 34442 word types\n",
      "2021-02-24 08:08:55,831 : INFO : PROGRESS: at sentence #90000, processed 2171044 words, keeping 36277 word types\n",
      "2021-02-24 08:08:55,903 : INFO : PROGRESS: at sentence #100000, processed 2412379 words, keeping 37772 word types\n",
      "2021-02-24 08:08:55,971 : INFO : PROGRESS: at sentence #110000, processed 2659826 words, keeping 39356 word types\n",
      "2021-02-24 08:08:56,045 : INFO : PROGRESS: at sentence #120000, processed 2910127 words, keeping 40825 word types\n",
      "2021-02-24 08:08:56,118 : INFO : PROGRESS: at sentence #130000, processed 3157043 words, keeping 42112 word types\n",
      "2021-02-24 08:08:56,190 : INFO : PROGRESS: at sentence #140000, processed 3397606 words, keeping 43443 word types\n",
      "2021-02-24 08:08:56,262 : INFO : PROGRESS: at sentence #150000, processed 3636107 words, keeping 44639 word types\n",
      "2021-02-24 08:08:56,331 : INFO : PROGRESS: at sentence #160000, processed 3871802 words, keeping 45723 word types\n",
      "2021-02-24 08:08:56,402 : INFO : PROGRESS: at sentence #170000, processed 4117322 words, keeping 46842 word types\n",
      "2021-02-24 08:08:56,468 : INFO : PROGRESS: at sentence #180000, processed 4363383 words, keeping 47981 word types\n",
      "2021-02-24 08:08:56,536 : INFO : PROGRESS: at sentence #190000, processed 4611804 words, keeping 49011 word types\n",
      "2021-02-24 08:08:56,602 : INFO : PROGRESS: at sentence #200000, processed 4855068 words, keeping 50106 word types\n",
      "2021-02-24 08:08:56,668 : INFO : PROGRESS: at sentence #210000, processed 5098262 words, keeping 50976 word types\n",
      "2021-02-24 08:08:56,735 : INFO : PROGRESS: at sentence #220000, processed 5344053 words, keeping 52056 word types\n",
      "2021-02-24 08:08:56,801 : INFO : PROGRESS: at sentence #230000, processed 5580846 words, keeping 53108 word types\n",
      "2021-02-24 08:08:56,867 : INFO : PROGRESS: at sentence #240000, processed 5828263 words, keeping 53990 word types\n",
      "2021-02-24 08:08:56,932 : INFO : PROGRESS: at sentence #250000, processed 6065532 words, keeping 54887 word types\n",
      "2021-02-24 08:08:56,999 : INFO : PROGRESS: at sentence #260000, processed 6318022 words, keeping 55627 word types\n",
      "2021-02-24 08:08:57,067 : INFO : PROGRESS: at sentence #270000, processed 6564493 words, keeping 56512 word types\n",
      "2021-02-24 08:08:57,134 : INFO : PROGRESS: at sentence #280000, processed 6806376 words, keeping 57372 word types\n",
      "2021-02-24 08:08:57,200 : INFO : PROGRESS: at sentence #290000, processed 7042897 words, keeping 58133 word types\n",
      "2021-02-24 08:08:57,269 : INFO : PROGRESS: at sentence #300000, processed 7287220 words, keeping 59016 word types\n",
      "2021-02-24 08:08:57,334 : INFO : PROGRESS: at sentence #310000, processed 7526157 words, keeping 59801 word types\n",
      "2021-02-24 08:08:57,401 : INFO : PROGRESS: at sentence #320000, processed 7772055 words, keeping 60651 word types\n",
      "2021-02-24 08:08:57,464 : INFO : PROGRESS: at sentence #330000, processed 8001523 words, keeping 61416 word types\n",
      "2021-02-24 08:08:57,533 : INFO : PROGRESS: at sentence #340000, processed 8248898 words, keeping 62258 word types\n",
      "2021-02-24 08:08:57,600 : INFO : PROGRESS: at sentence #350000, processed 8494118 words, keeping 63083 word types\n",
      "2021-02-24 08:08:57,666 : INFO : PROGRESS: at sentence #360000, processed 8737371 words, keeping 63884 word types\n",
      "2021-02-24 08:08:57,734 : INFO : PROGRESS: at sentence #370000, processed 8984938 words, keeping 64686 word types\n",
      "2021-02-24 08:08:57,801 : INFO : PROGRESS: at sentence #380000, processed 9224992 words, keeping 65358 word types\n",
      "2021-02-24 08:08:57,869 : INFO : PROGRESS: at sentence #390000, processed 9474696 words, keeping 66074 word types\n",
      "2021-02-24 08:08:57,934 : INFO : PROGRESS: at sentence #400000, processed 9714379 words, keeping 66740 word types\n",
      "2021-02-24 08:08:58,005 : INFO : PROGRESS: at sentence #410000, processed 9957994 words, keeping 67504 word types\n",
      "2021-02-24 08:08:58,072 : INFO : PROGRESS: at sentence #420000, processed 10201396 words, keeping 68216 word types\n",
      "2021-02-24 08:08:58,139 : INFO : PROGRESS: at sentence #430000, processed 10442442 words, keeping 68890 word types\n",
      "2021-02-24 08:08:58,207 : INFO : PROGRESS: at sentence #440000, processed 10685099 words, keeping 69610 word types\n",
      "2021-02-24 08:08:58,273 : INFO : PROGRESS: at sentence #450000, processed 10921938 words, keeping 70284 word types\n",
      "2021-02-24 08:08:58,339 : INFO : PROGRESS: at sentence #460000, processed 11164803 words, keeping 70888 word types\n",
      "2021-02-24 08:08:58,405 : INFO : PROGRESS: at sentence #470000, processed 11404049 words, keeping 71571 word types\n",
      "2021-02-24 08:08:58,473 : INFO : PROGRESS: at sentence #480000, processed 11650680 words, keeping 72227 word types\n",
      "2021-02-24 08:08:58,539 : INFO : PROGRESS: at sentence #490000, processed 11893443 words, keeping 72835 word types\n",
      "2021-02-24 08:08:58,608 : INFO : PROGRESS: at sentence #500000, processed 12139915 words, keeping 73434 word types\n",
      "2021-02-24 08:08:58,675 : INFO : PROGRESS: at sentence #510000, processed 12386820 words, keeping 74025 word types\n",
      "2021-02-24 08:08:58,740 : INFO : PROGRESS: at sentence #520000, processed 12623361 words, keeping 74635 word types\n",
      "2021-02-24 08:08:58,806 : INFO : PROGRESS: at sentence #530000, processed 12858761 words, keeping 75347 word types\n",
      "2021-02-24 08:08:58,872 : INFO : PROGRESS: at sentence #540000, processed 13099576 words, keeping 75928 word types\n",
      "2021-02-24 08:08:58,938 : INFO : PROGRESS: at sentence #550000, processed 13338616 words, keeping 76527 word types\n",
      "2021-02-24 08:08:59,003 : INFO : PROGRESS: at sentence #560000, processed 13573168 words, keeping 77029 word types\n",
      "2021-02-24 08:08:59,069 : INFO : PROGRESS: at sentence #570000, processed 13815272 words, keeping 77675 word types\n",
      "2021-02-24 08:08:59,136 : INFO : PROGRESS: at sentence #580000, processed 14058387 words, keeping 78244 word types\n",
      "2021-02-24 08:08:59,203 : INFO : PROGRESS: at sentence #590000, processed 14296591 words, keeping 78706 word types\n",
      "2021-02-24 08:08:59,268 : INFO : PROGRESS: at sentence #600000, processed 14535138 words, keeping 79168 word types\n",
      "2021-02-24 08:08:59,336 : INFO : PROGRESS: at sentence #610000, processed 14779881 words, keeping 79644 word types\n",
      "2021-02-24 08:08:59,404 : INFO : PROGRESS: at sentence #620000, processed 15033208 words, keeping 80268 word types\n",
      "2021-02-24 08:08:59,472 : INFO : PROGRESS: at sentence #630000, processed 15280269 words, keeping 80823 word types\n",
      "2021-02-24 08:08:59,487 : INFO : collected 80890 word types from a corpus of 15326417 raw words and 631916 sentences\n",
      "2021-02-24 08:08:59,488 : INFO : Loading a fresh vocabulary\n",
      "2021-02-24 08:08:59,544 : INFO : effective_min_count=5 retains 32534 unique words (40% of original 80890, drops 48356)\n",
      "2021-02-24 08:08:59,545 : INFO : effective_min_count=5 leaves 15244718 word corpus (99% of original 15326417, drops 81699)\n",
      "2021-02-24 08:08:59,626 : INFO : deleting the raw counts dictionary of 80890 items\n",
      "2021-02-24 08:08:59,629 : INFO : sample=1e-05 downsamples 3222 most-common words\n",
      "2021-02-24 08:08:59,630 : INFO : downsampling leaves estimated 3679520 word corpus (24.1% of prior 15244718)\n",
      "2021-02-24 08:08:59,652 : INFO : constructing a huffman tree from 32534 words\n",
      "2021-02-24 08:09:00,294 : INFO : built huffman tree with maximum node depth 22\n"
     ]
    },
    {
     "name": "stderr",
     "output_type": "stream",
     "text": [
      "2021-02-24 08:09:00,344 : INFO : estimated required memory for 32534 words and 100 dimensions: 61814600 bytes\n",
      "2021-02-24 08:09:00,345 : INFO : resetting layer weights\n",
      "2021-02-24 08:09:00,715 : INFO : training model with 12 workers on 32534 vocabulary and 100 features, using sg=1 hs=1 sample=1e-05 negative=5 window=5\n",
      "2021-02-24 08:09:01,722 : INFO : EPOCH 1 - PROGRESS: at 9.46% examples, 346155 words/s, in_qsize 0, out_qsize 0\n",
      "2021-02-24 08:09:02,773 : INFO : EPOCH 1 - PROGRESS: at 18.59% examples, 332449 words/s, in_qsize 23, out_qsize 0\n",
      "2021-02-24 08:09:03,778 : INFO : EPOCH 1 - PROGRESS: at 28.78% examples, 345264 words/s, in_qsize 2, out_qsize 1\n",
      "2021-02-24 08:09:04,784 : INFO : EPOCH 1 - PROGRESS: at 37.84% examples, 342249 words/s, in_qsize 0, out_qsize 0\n",
      "2021-02-24 08:09:05,784 : INFO : EPOCH 1 - PROGRESS: at 47.06% examples, 341951 words/s, in_qsize 0, out_qsize 0\n",
      "2021-02-24 08:09:06,784 : INFO : EPOCH 1 - PROGRESS: at 55.57% examples, 337283 words/s, in_qsize 8, out_qsize 0\n",
      "2021-02-24 08:09:07,789 : INFO : EPOCH 1 - PROGRESS: at 65.15% examples, 339653 words/s, in_qsize 0, out_qsize 0\n",
      "2021-02-24 08:09:08,802 : INFO : EPOCH 1 - PROGRESS: at 73.58% examples, 335285 words/s, in_qsize 23, out_qsize 0\n",
      "2021-02-24 08:09:09,827 : INFO : EPOCH 1 - PROGRESS: at 83.15% examples, 336196 words/s, in_qsize 23, out_qsize 0\n",
      "2021-02-24 08:09:10,833 : INFO : EPOCH 1 - PROGRESS: at 92.87% examples, 337880 words/s, in_qsize 0, out_qsize 1\n",
      "2021-02-24 08:09:11,568 : INFO : worker thread finished; awaiting finish of 11 more threads\n",
      "2021-02-24 08:09:11,572 : INFO : worker thread finished; awaiting finish of 10 more threads\n",
      "2021-02-24 08:09:11,574 : INFO : worker thread finished; awaiting finish of 9 more threads\n",
      "2021-02-24 08:09:11,575 : INFO : worker thread finished; awaiting finish of 8 more threads\n",
      "2021-02-24 08:09:11,585 : INFO : worker thread finished; awaiting finish of 7 more threads\n",
      "2021-02-24 08:09:11,590 : INFO : worker thread finished; awaiting finish of 6 more threads\n",
      "2021-02-24 08:09:11,600 : INFO : worker thread finished; awaiting finish of 5 more threads\n",
      "2021-02-24 08:09:11,602 : INFO : worker thread finished; awaiting finish of 4 more threads\n",
      "2021-02-24 08:09:11,606 : INFO : worker thread finished; awaiting finish of 3 more threads\n",
      "2021-02-24 08:09:11,607 : INFO : worker thread finished; awaiting finish of 2 more threads\n",
      "2021-02-24 08:09:11,609 : INFO : worker thread finished; awaiting finish of 1 more threads\n",
      "2021-02-24 08:09:11,611 : INFO : worker thread finished; awaiting finish of 0 more threads\n",
      "2021-02-24 08:09:11,612 : INFO : EPOCH - 1 : training on 15326417 raw words (3680162 effective words) took 10.9s, 337875 effective words/s\n",
      "2021-02-24 08:09:12,623 : INFO : EPOCH 2 - PROGRESS: at 8.42% examples, 307681 words/s, in_qsize 0, out_qsize 2\n",
      "2021-02-24 08:09:13,642 : INFO : EPOCH 2 - PROGRESS: at 18.15% examples, 328658 words/s, in_qsize 0, out_qsize 2\n",
      "2021-02-24 08:09:14,642 : INFO : EPOCH 2 - PROGRESS: at 26.99% examples, 326147 words/s, in_qsize 11, out_qsize 0\n",
      "2021-02-24 08:09:15,663 : INFO : EPOCH 2 - PROGRESS: at 36.62% examples, 332521 words/s, in_qsize 1, out_qsize 0\n",
      "2021-02-24 08:09:16,673 : INFO : EPOCH 2 - PROGRESS: at 45.50% examples, 330921 words/s, in_qsize 5, out_qsize 0\n",
      "2021-02-24 08:09:17,676 : INFO : EPOCH 2 - PROGRESS: at 55.08% examples, 334481 words/s, in_qsize 0, out_qsize 0\n",
      "2021-02-24 08:09:18,685 : INFO : EPOCH 2 - PROGRESS: at 62.78% examples, 327605 words/s, in_qsize 23, out_qsize 0\n",
      "2021-02-24 08:09:19,688 : INFO : EPOCH 2 - PROGRESS: at 71.84% examples, 327839 words/s, in_qsize 23, out_qsize 0\n",
      "2021-02-24 08:09:20,696 : INFO : EPOCH 2 - PROGRESS: at 81.28% examples, 329935 words/s, in_qsize 0, out_qsize 1\n",
      "2021-02-24 08:09:21,701 : INFO : EPOCH 2 - PROGRESS: at 90.50% examples, 330307 words/s, in_qsize 0, out_qsize 0\n",
      "2021-02-24 08:09:22,707 : INFO : EPOCH 2 - PROGRESS: at 99.04% examples, 328712 words/s, in_qsize 15, out_qsize 1\n",
      "2021-02-24 08:09:22,732 : INFO : worker thread finished; awaiting finish of 11 more threads\n",
      "2021-02-24 08:09:22,739 : INFO : worker thread finished; awaiting finish of 10 more threads\n",
      "2021-02-24 08:09:22,741 : INFO : worker thread finished; awaiting finish of 9 more threads\n",
      "2021-02-24 08:09:22,757 : INFO : worker thread finished; awaiting finish of 8 more threads\n",
      "2021-02-24 08:09:22,760 : INFO : worker thread finished; awaiting finish of 7 more threads\n",
      "2021-02-24 08:09:22,761 : INFO : worker thread finished; awaiting finish of 6 more threads\n",
      "2021-02-24 08:09:22,774 : INFO : worker thread finished; awaiting finish of 5 more threads\n",
      "2021-02-24 08:09:22,776 : INFO : worker thread finished; awaiting finish of 4 more threads\n",
      "2021-02-24 08:09:22,779 : INFO : worker thread finished; awaiting finish of 3 more threads\n",
      "2021-02-24 08:09:22,780 : INFO : worker thread finished; awaiting finish of 2 more threads\n",
      "2021-02-24 08:09:22,782 : INFO : worker thread finished; awaiting finish of 1 more threads\n",
      "2021-02-24 08:09:22,783 : INFO : worker thread finished; awaiting finish of 0 more threads\n",
      "2021-02-24 08:09:22,784 : INFO : EPOCH - 2 : training on 15326417 raw words (3681858 effective words) took 11.2s, 329716 effective words/s\n",
      "2021-02-24 08:09:23,789 : INFO : EPOCH 3 - PROGRESS: at 8.51% examples, 313063 words/s, in_qsize 0, out_qsize 0\n",
      "2021-02-24 08:09:24,790 : INFO : EPOCH 3 - PROGRESS: at 18.15% examples, 332586 words/s, in_qsize 1, out_qsize 0\n",
      "2021-02-24 08:09:25,797 : INFO : EPOCH 3 - PROGRESS: at 26.21% examples, 318730 words/s, in_qsize 19, out_qsize 2\n",
      "2021-02-24 08:09:26,809 : INFO : EPOCH 3 - PROGRESS: at 35.39% examples, 323394 words/s, in_qsize 14, out_qsize 1\n",
      "2021-02-24 08:09:27,822 : INFO : EPOCH 3 - PROGRESS: at 44.95% examples, 328758 words/s, in_qsize 3, out_qsize 1\n",
      "2021-02-24 08:09:28,825 : INFO : EPOCH 3 - PROGRESS: at 54.04% examples, 329361 words/s, in_qsize 19, out_qsize 1\n",
      "2021-02-24 08:09:29,834 : INFO : EPOCH 3 - PROGRESS: at 62.99% examples, 329575 words/s, in_qsize 0, out_qsize 1\n",
      "2021-02-24 08:09:30,846 : INFO : EPOCH 3 - PROGRESS: at 71.64% examples, 327538 words/s, in_qsize 5, out_qsize 1\n",
      "2021-02-24 08:09:31,858 : INFO : EPOCH 3 - PROGRESS: at 80.15% examples, 325809 words/s, in_qsize 22, out_qsize 1\n",
      "2021-02-24 08:09:32,877 : INFO : EPOCH 3 - PROGRESS: at 89.47% examples, 326243 words/s, in_qsize 20, out_qsize 3\n",
      "2021-02-24 08:09:33,884 : INFO : EPOCH 3 - PROGRESS: at 98.01% examples, 325097 words/s, in_qsize 23, out_qsize 0\n",
      "2021-02-24 08:09:33,987 : INFO : worker thread finished; awaiting finish of 11 more threads\n",
      "2021-02-24 08:09:33,989 : INFO : worker thread finished; awaiting finish of 10 more threads\n",
      "2021-02-24 08:09:33,991 : INFO : worker thread finished; awaiting finish of 9 more threads\n",
      "2021-02-24 08:09:34,002 : INFO : worker thread finished; awaiting finish of 8 more threads\n",
      "2021-02-24 08:09:34,005 : INFO : worker thread finished; awaiting finish of 7 more threads\n",
      "2021-02-24 08:09:34,007 : INFO : worker thread finished; awaiting finish of 6 more threads\n",
      "2021-02-24 08:09:34,008 : INFO : worker thread finished; awaiting finish of 5 more threads\n",
      "2021-02-24 08:09:34,018 : INFO : worker thread finished; awaiting finish of 4 more threads\n",
      "2021-02-24 08:09:34,021 : INFO : worker thread finished; awaiting finish of 3 more threads\n",
      "2021-02-24 08:09:34,023 : INFO : worker thread finished; awaiting finish of 2 more threads\n",
      "2021-02-24 08:09:34,025 : INFO : worker thread finished; awaiting finish of 1 more threads\n",
      "2021-02-24 08:09:34,028 : INFO : worker thread finished; awaiting finish of 0 more threads\n",
      "2021-02-24 08:09:34,029 : INFO : EPOCH - 3 : training on 15326417 raw words (3682606 effective words) took 11.2s, 327596 effective words/s\n",
      "2021-02-24 08:09:35,036 : INFO : EPOCH 4 - PROGRESS: at 9.46% examples, 345069 words/s, in_qsize 0, out_qsize 0\n",
      "2021-02-24 08:09:36,038 : INFO : EPOCH 4 - PROGRESS: at 18.23% examples, 333396 words/s, in_qsize 1, out_qsize 0\n",
      "2021-02-24 08:09:37,042 : INFO : EPOCH 4 - PROGRESS: at 27.52% examples, 334212 words/s, in_qsize 0, out_qsize 1\n",
      "2021-02-24 08:09:38,043 : INFO : EPOCH 4 - PROGRESS: at 35.45% examples, 324420 words/s, in_qsize 14, out_qsize 0\n",
      "2021-02-24 08:09:39,056 : INFO : EPOCH 4 - PROGRESS: at 44.82% examples, 328023 words/s, in_qsize 0, out_qsize 1\n"
     ]
    },
    {
     "name": "stderr",
     "output_type": "stream",
     "text": [
      "2021-02-24 08:09:40,064 : INFO : EPOCH 4 - PROGRESS: at 54.02% examples, 329293 words/s, in_qsize 0, out_qsize 0\n",
      "2021-02-24 08:09:41,074 : INFO : EPOCH 4 - PROGRESS: at 63.18% examples, 330539 words/s, in_qsize 0, out_qsize 0\n",
      "2021-02-24 08:09:42,080 : INFO : EPOCH 4 - PROGRESS: at 72.35% examples, 330819 words/s, in_qsize 0, out_qsize 0\n",
      "2021-02-24 08:09:43,084 : INFO : EPOCH 4 - PROGRESS: at 81.02% examples, 329499 words/s, in_qsize 1, out_qsize 0\n",
      "2021-02-24 08:09:44,091 : INFO : EPOCH 4 - PROGRESS: at 90.30% examples, 329930 words/s, in_qsize 0, out_qsize 0\n",
      "2021-02-24 08:09:45,106 : INFO : EPOCH 4 - PROGRESS: at 99.23% examples, 329474 words/s, in_qsize 1, out_qsize 0\n",
      "2021-02-24 08:09:45,147 : INFO : worker thread finished; awaiting finish of 11 more threads\n",
      "2021-02-24 08:09:45,148 : INFO : worker thread finished; awaiting finish of 10 more threads\n",
      "2021-02-24 08:09:45,150 : INFO : worker thread finished; awaiting finish of 9 more threads\n",
      "2021-02-24 08:09:45,152 : INFO : worker thread finished; awaiting finish of 8 more threads\n",
      "2021-02-24 08:09:45,153 : INFO : worker thread finished; awaiting finish of 7 more threads\n",
      "2021-02-24 08:09:45,155 : INFO : worker thread finished; awaiting finish of 6 more threads\n",
      "2021-02-24 08:09:45,156 : INFO : worker thread finished; awaiting finish of 5 more threads\n",
      "2021-02-24 08:09:45,157 : INFO : worker thread finished; awaiting finish of 4 more threads\n",
      "2021-02-24 08:09:45,164 : INFO : worker thread finished; awaiting finish of 3 more threads\n",
      "2021-02-24 08:09:45,166 : INFO : worker thread finished; awaiting finish of 2 more threads\n",
      "2021-02-24 08:09:45,167 : INFO : worker thread finished; awaiting finish of 1 more threads\n",
      "2021-02-24 08:09:45,174 : INFO : worker thread finished; awaiting finish of 0 more threads\n",
      "2021-02-24 08:09:45,175 : INFO : EPOCH - 4 : training on 15326417 raw words (3677143 effective words) took 11.1s, 330033 effective words/s\n",
      "2021-02-24 08:09:46,200 : INFO : EPOCH 5 - PROGRESS: at 8.71% examples, 314006 words/s, in_qsize 0, out_qsize 1\n",
      "2021-02-24 08:09:47,202 : INFO : EPOCH 5 - PROGRESS: at 17.99% examples, 325261 words/s, in_qsize 0, out_qsize 0\n",
      "2021-02-24 08:09:48,207 : INFO : EPOCH 5 - PROGRESS: at 26.46% examples, 319518 words/s, in_qsize 17, out_qsize 3\n",
      "2021-02-24 08:09:49,259 : INFO : EPOCH 5 - PROGRESS: at 35.58% examples, 320372 words/s, in_qsize 21, out_qsize 3\n",
      "2021-02-24 08:09:50,266 : INFO : EPOCH 5 - PROGRESS: at 45.01% examples, 325587 words/s, in_qsize 0, out_qsize 0\n",
      "2021-02-24 08:09:51,295 : INFO : EPOCH 5 - PROGRESS: at 53.76% examples, 323433 words/s, in_qsize 23, out_qsize 0\n",
      "2021-02-24 08:09:52,298 : INFO : EPOCH 5 - PROGRESS: at 63.60% examples, 329038 words/s, in_qsize 0, out_qsize 0\n",
      "2021-02-24 08:09:53,307 : INFO : EPOCH 5 - PROGRESS: at 72.80% examples, 329734 words/s, in_qsize 0, out_qsize 0\n",
      "2021-02-24 08:09:54,324 : INFO : EPOCH 5 - PROGRESS: at 81.01% examples, 326260 words/s, in_qsize 23, out_qsize 0\n",
      "2021-02-24 08:09:55,324 : INFO : EPOCH 5 - PROGRESS: at 90.58% examples, 328227 words/s, in_qsize 0, out_qsize 0\n",
      "2021-02-24 08:09:56,327 : INFO : EPOCH 5 - PROGRESS: at 98.91% examples, 326299 words/s, in_qsize 0, out_qsize 0\n",
      "2021-02-24 08:09:56,422 : INFO : worker thread finished; awaiting finish of 11 more threads\n",
      "2021-02-24 08:09:56,424 : INFO : worker thread finished; awaiting finish of 10 more threads\n",
      "2021-02-24 08:09:56,426 : INFO : worker thread finished; awaiting finish of 9 more threads\n",
      "2021-02-24 08:09:56,428 : INFO : worker thread finished; awaiting finish of 8 more threads\n",
      "2021-02-24 08:09:56,429 : INFO : worker thread finished; awaiting finish of 7 more threads\n",
      "2021-02-24 08:09:56,430 : INFO : worker thread finished; awaiting finish of 6 more threads\n",
      "2021-02-24 08:09:56,431 : INFO : worker thread finished; awaiting finish of 5 more threads\n",
      "2021-02-24 08:09:56,432 : INFO : worker thread finished; awaiting finish of 4 more threads\n",
      "2021-02-24 08:09:56,445 : INFO : worker thread finished; awaiting finish of 3 more threads\n",
      "2021-02-24 08:09:56,448 : INFO : worker thread finished; awaiting finish of 2 more threads\n",
      "2021-02-24 08:09:56,450 : INFO : worker thread finished; awaiting finish of 1 more threads\n",
      "2021-02-24 08:09:56,453 : INFO : worker thread finished; awaiting finish of 0 more threads\n",
      "2021-02-24 08:09:56,454 : INFO : EPOCH - 5 : training on 15326417 raw words (3678746 effective words) took 11.3s, 326285 effective words/s\n",
      "2021-02-24 08:09:57,505 : INFO : EPOCH 6 - PROGRESS: at 7.91% examples, 279055 words/s, in_qsize 7, out_qsize 1\n",
      "2021-02-24 08:09:58,505 : INFO : EPOCH 6 - PROGRESS: at 16.73% examples, 298650 words/s, in_qsize 6, out_qsize 1\n",
      "2021-02-24 08:09:59,508 : INFO : EPOCH 6 - PROGRESS: at 25.57% examples, 306913 words/s, in_qsize 23, out_qsize 0\n",
      "2021-02-24 08:10:00,517 : INFO : EPOCH 6 - PROGRESS: at 34.78% examples, 315179 words/s, in_qsize 23, out_qsize 0\n",
      "2021-02-24 08:10:01,519 : INFO : EPOCH 6 - PROGRESS: at 43.66% examples, 317431 words/s, in_qsize 10, out_qsize 0\n",
      "2021-02-24 08:10:02,527 : INFO : EPOCH 6 - PROGRESS: at 53.18% examples, 322395 words/s, in_qsize 0, out_qsize 0\n",
      "2021-02-24 08:10:03,535 : INFO : EPOCH 6 - PROGRESS: at 61.62% examples, 320850 words/s, in_qsize 22, out_qsize 1\n",
      "2021-02-24 08:10:04,540 : INFO : EPOCH 6 - PROGRESS: at 70.51% examples, 321365 words/s, in_qsize 23, out_qsize 0\n",
      "2021-02-24 08:10:05,542 : INFO : EPOCH 6 - PROGRESS: at 80.23% examples, 325247 words/s, in_qsize 0, out_qsize 0\n",
      "2021-02-24 08:10:06,558 : INFO : EPOCH 6 - PROGRESS: at 89.78% examples, 326803 words/s, in_qsize 0, out_qsize 0\n",
      "2021-02-24 08:10:07,569 : INFO : EPOCH 6 - PROGRESS: at 98.66% examples, 326555 words/s, in_qsize 1, out_qsize 0\n",
      "2021-02-24 08:10:07,705 : INFO : worker thread finished; awaiting finish of 11 more threads\n",
      "2021-02-24 08:10:07,714 : INFO : worker thread finished; awaiting finish of 10 more threads\n",
      "2021-02-24 08:10:07,716 : INFO : worker thread finished; awaiting finish of 9 more threads\n",
      "2021-02-24 08:10:07,717 : INFO : worker thread finished; awaiting finish of 8 more threads\n",
      "2021-02-24 08:10:07,719 : INFO : worker thread finished; awaiting finish of 7 more threads\n",
      "2021-02-24 08:10:07,723 : INFO : worker thread finished; awaiting finish of 6 more threads\n",
      "2021-02-24 08:10:07,728 : INFO : worker thread finished; awaiting finish of 5 more threads\n",
      "2021-02-24 08:10:07,734 : INFO : worker thread finished; awaiting finish of 4 more threads\n",
      "2021-02-24 08:10:07,739 : INFO : worker thread finished; awaiting finish of 3 more threads\n",
      "2021-02-24 08:10:07,741 : INFO : worker thread finished; awaiting finish of 2 more threads\n",
      "2021-02-24 08:10:07,746 : INFO : worker thread finished; awaiting finish of 1 more threads\n",
      "2021-02-24 08:10:07,748 : INFO : worker thread finished; awaiting finish of 0 more threads\n",
      "2021-02-24 08:10:07,749 : INFO : EPOCH - 6 : training on 15326417 raw words (3678328 effective words) took 11.3s, 325843 effective words/s\n",
      "2021-02-24 08:10:08,770 : INFO : EPOCH 7 - PROGRESS: at 9.20% examples, 331135 words/s, in_qsize 0, out_qsize 0\n",
      "2021-02-24 08:10:09,796 : INFO : EPOCH 7 - PROGRESS: at 17.81% examples, 318867 words/s, in_qsize 22, out_qsize 1\n",
      "2021-02-24 08:10:10,802 : INFO : EPOCH 7 - PROGRESS: at 27.00% examples, 323503 words/s, in_qsize 24, out_qsize 0\n",
      "2021-02-24 08:10:11,816 : INFO : EPOCH 7 - PROGRESS: at 36.31% examples, 328074 words/s, in_qsize 1, out_qsize 0\n",
      "2021-02-24 08:10:12,821 : INFO : EPOCH 7 - PROGRESS: at 45.64% examples, 330943 words/s, in_qsize 0, out_qsize 0\n",
      "2021-02-24 08:10:13,826 : INFO : EPOCH 7 - PROGRESS: at 54.34% examples, 329298 words/s, in_qsize 4, out_qsize 3\n",
      "2021-02-24 08:10:14,827 : INFO : EPOCH 7 - PROGRESS: at 63.80% examples, 332227 words/s, in_qsize 0, out_qsize 2\n",
      "2021-02-24 08:10:15,835 : INFO : EPOCH 7 - PROGRESS: at 72.42% examples, 329920 words/s, in_qsize 18, out_qsize 0\n",
      "2021-02-24 08:10:16,844 : INFO : EPOCH 7 - PROGRESS: at 81.54% examples, 330383 words/s, in_qsize 2, out_qsize 0\n",
      "2021-02-24 08:10:17,851 : INFO : EPOCH 7 - PROGRESS: at 90.36% examples, 329109 words/s, in_qsize 22, out_qsize 0\n",
      "2021-02-24 08:10:18,858 : INFO : EPOCH 7 - PROGRESS: at 99.10% examples, 328266 words/s, in_qsize 15, out_qsize 0\n",
      "2021-02-24 08:10:18,874 : INFO : worker thread finished; awaiting finish of 11 more threads\n"
     ]
    },
    {
     "name": "stderr",
     "output_type": "stream",
     "text": [
      "2021-02-24 08:10:18,877 : INFO : worker thread finished; awaiting finish of 10 more threads\n",
      "2021-02-24 08:10:18,879 : INFO : worker thread finished; awaiting finish of 9 more threads\n",
      "2021-02-24 08:10:18,881 : INFO : worker thread finished; awaiting finish of 8 more threads\n",
      "2021-02-24 08:10:18,883 : INFO : worker thread finished; awaiting finish of 7 more threads\n",
      "2021-02-24 08:10:18,887 : INFO : worker thread finished; awaiting finish of 6 more threads\n",
      "2021-02-24 08:10:18,890 : INFO : worker thread finished; awaiting finish of 5 more threads\n",
      "2021-02-24 08:10:18,899 : INFO : worker thread finished; awaiting finish of 4 more threads\n",
      "2021-02-24 08:10:18,902 : INFO : worker thread finished; awaiting finish of 3 more threads\n",
      "2021-02-24 08:10:18,904 : INFO : worker thread finished; awaiting finish of 2 more threads\n",
      "2021-02-24 08:10:18,906 : INFO : worker thread finished; awaiting finish of 1 more threads\n",
      "2021-02-24 08:10:18,912 : INFO : worker thread finished; awaiting finish of 0 more threads\n",
      "2021-02-24 08:10:18,914 : INFO : EPOCH - 7 : training on 15326417 raw words (3679100 effective words) took 11.2s, 329697 effective words/s\n",
      "2021-02-24 08:10:19,938 : INFO : EPOCH 8 - PROGRESS: at 8.64% examples, 311984 words/s, in_qsize 18, out_qsize 0\n",
      "2021-02-24 08:10:20,977 : INFO : EPOCH 8 - PROGRESS: at 17.93% examples, 318573 words/s, in_qsize 10, out_qsize 3\n",
      "2021-02-24 08:10:21,992 : INFO : EPOCH 8 - PROGRESS: at 27.58% examples, 328023 words/s, in_qsize 0, out_qsize 2\n",
      "2021-02-24 08:10:22,999 : INFO : EPOCH 8 - PROGRESS: at 36.44% examples, 327859 words/s, in_qsize 0, out_qsize 3\n",
      "2021-02-24 08:10:24,003 : INFO : EPOCH 8 - PROGRESS: at 45.49% examples, 329095 words/s, in_qsize 5, out_qsize 0\n",
      "2021-02-24 08:10:25,019 : INFO : EPOCH 8 - PROGRESS: at 53.96% examples, 325468 words/s, in_qsize 23, out_qsize 0\n",
      "2021-02-24 08:10:26,027 : INFO : EPOCH 8 - PROGRESS: at 63.67% examples, 330054 words/s, in_qsize 0, out_qsize 0\n",
      "2021-02-24 08:10:27,031 : INFO : EPOCH 8 - PROGRESS: at 72.99% examples, 331318 words/s, in_qsize 0, out_qsize 0\n",
      "2021-02-24 08:10:28,073 : INFO : EPOCH 8 - PROGRESS: at 81.68% examples, 328621 words/s, in_qsize 21, out_qsize 0\n",
      "2021-02-24 08:10:29,076 : INFO : EPOCH 8 - PROGRESS: at 91.41% examples, 331075 words/s, in_qsize 0, out_qsize 0\n",
      "2021-02-24 08:10:30,076 : INFO : worker thread finished; awaiting finish of 11 more threads\n",
      "2021-02-24 08:10:30,078 : INFO : worker thread finished; awaiting finish of 10 more threads\n",
      "2021-02-24 08:10:30,080 : INFO : worker thread finished; awaiting finish of 9 more threads\n",
      "2021-02-24 08:10:30,083 : INFO : worker thread finished; awaiting finish of 8 more threads\n",
      "2021-02-24 08:10:30,084 : INFO : worker thread finished; awaiting finish of 7 more threads\n",
      "2021-02-24 08:10:30,086 : INFO : EPOCH 8 - PROGRESS: at 99.68% examples, 328479 words/s, in_qsize 4, out_qsize 5\n",
      "2021-02-24 08:10:30,087 : INFO : worker thread finished; awaiting finish of 6 more threads\n",
      "2021-02-24 08:10:30,088 : INFO : worker thread finished; awaiting finish of 5 more threads\n",
      "2021-02-24 08:10:30,089 : INFO : worker thread finished; awaiting finish of 4 more threads\n",
      "2021-02-24 08:10:30,099 : INFO : worker thread finished; awaiting finish of 3 more threads\n",
      "2021-02-24 08:10:30,105 : INFO : worker thread finished; awaiting finish of 2 more threads\n",
      "2021-02-24 08:10:30,108 : INFO : worker thread finished; awaiting finish of 1 more threads\n",
      "2021-02-24 08:10:30,110 : INFO : worker thread finished; awaiting finish of 0 more threads\n",
      "2021-02-24 08:10:30,112 : INFO : EPOCH - 8 : training on 15326417 raw words (3680542 effective words) took 11.2s, 328805 effective words/s\n",
      "2021-02-24 08:10:31,126 : INFO : EPOCH 9 - PROGRESS: at 8.03% examples, 293468 words/s, in_qsize 0, out_qsize 1\n",
      "2021-02-24 08:10:32,135 : INFO : EPOCH 9 - PROGRESS: at 15.96% examples, 288779 words/s, in_qsize 23, out_qsize 0\n",
      "2021-02-24 08:10:33,145 : INFO : EPOCH 9 - PROGRESS: at 24.78% examples, 299908 words/s, in_qsize 21, out_qsize 2\n",
      "2021-02-24 08:10:34,155 : INFO : EPOCH 9 - PROGRESS: at 34.46% examples, 313555 words/s, in_qsize 4, out_qsize 0\n",
      "2021-02-24 08:10:35,175 : INFO : EPOCH 9 - PROGRESS: at 43.07% examples, 313374 words/s, in_qsize 24, out_qsize 0\n",
      "2021-02-24 08:10:36,185 : INFO : EPOCH 9 - PROGRESS: at 52.00% examples, 315166 words/s, in_qsize 24, out_qsize 0\n",
      "2021-02-24 08:10:37,185 : INFO : EPOCH 9 - PROGRESS: at 61.62% examples, 321320 words/s, in_qsize 0, out_qsize 0\n",
      "2021-02-24 08:10:38,186 : INFO : EPOCH 9 - PROGRESS: at 70.83% examples, 323448 words/s, in_qsize 1, out_qsize 0\n",
      "2021-02-24 08:10:39,208 : INFO : EPOCH 9 - PROGRESS: at 80.08% examples, 324563 words/s, in_qsize 2, out_qsize 1\n",
      "2021-02-24 08:10:40,221 : INFO : EPOCH 9 - PROGRESS: at 89.13% examples, 324350 words/s, in_qsize 9, out_qsize 2\n",
      "2021-02-24 08:10:41,224 : INFO : EPOCH 9 - PROGRESS: at 98.01% examples, 324418 words/s, in_qsize 23, out_qsize 0\n",
      "2021-02-24 08:10:41,358 : INFO : worker thread finished; awaiting finish of 11 more threads\n",
      "2021-02-24 08:10:41,364 : INFO : worker thread finished; awaiting finish of 10 more threads\n",
      "2021-02-24 08:10:41,380 : INFO : worker thread finished; awaiting finish of 9 more threads\n",
      "2021-02-24 08:10:41,383 : INFO : worker thread finished; awaiting finish of 8 more threads\n",
      "2021-02-24 08:10:41,387 : INFO : worker thread finished; awaiting finish of 7 more threads\n",
      "2021-02-24 08:10:41,389 : INFO : worker thread finished; awaiting finish of 6 more threads\n",
      "2021-02-24 08:10:41,392 : INFO : worker thread finished; awaiting finish of 5 more threads\n",
      "2021-02-24 08:10:41,396 : INFO : worker thread finished; awaiting finish of 4 more threads\n",
      "2021-02-24 08:10:41,398 : INFO : worker thread finished; awaiting finish of 3 more threads\n",
      "2021-02-24 08:10:41,400 : INFO : worker thread finished; awaiting finish of 2 more threads\n",
      "2021-02-24 08:10:41,401 : INFO : worker thread finished; awaiting finish of 1 more threads\n",
      "2021-02-24 08:10:41,403 : INFO : worker thread finished; awaiting finish of 0 more threads\n",
      "2021-02-24 08:10:41,404 : INFO : EPOCH - 9 : training on 15326417 raw words (3679006 effective words) took 11.3s, 325984 effective words/s\n",
      "2021-02-24 08:10:42,433 : INFO : EPOCH 10 - PROGRESS: at 9.20% examples, 328275 words/s, in_qsize 0, out_qsize 0\n",
      "2021-02-24 08:10:43,447 : INFO : EPOCH 10 - PROGRESS: at 17.99% examples, 322846 words/s, in_qsize 0, out_qsize 0\n",
      "2021-02-24 08:10:44,451 : INFO : EPOCH 10 - PROGRESS: at 27.32% examples, 328348 words/s, in_qsize 0, out_qsize 0\n",
      "2021-02-24 08:10:45,466 : INFO : EPOCH 10 - PROGRESS: at 35.65% examples, 322721 words/s, in_qsize 20, out_qsize 3\n",
      "2021-02-24 08:10:46,478 : INFO : EPOCH 10 - PROGRESS: at 45.37% examples, 328945 words/s, in_qsize 0, out_qsize 2\n",
      "2021-02-24 08:10:47,479 : INFO : EPOCH 10 - PROGRESS: at 54.49% examples, 329936 words/s, in_qsize 0, out_qsize 1\n",
      "2021-02-24 08:10:48,486 : INFO : EPOCH 10 - PROGRESS: at 63.99% examples, 332824 words/s, in_qsize 0, out_qsize 0\n",
      "2021-02-24 08:10:49,493 : INFO : EPOCH 10 - PROGRESS: at 73.31% examples, 333713 words/s, in_qsize 0, out_qsize 2\n",
      "2021-02-24 08:10:50,494 : INFO : EPOCH 10 - PROGRESS: at 81.68% examples, 330984 words/s, in_qsize 6, out_qsize 0\n",
      "2021-02-24 08:10:51,495 : INFO : EPOCH 10 - PROGRESS: at 91.15% examples, 332200 words/s, in_qsize 15, out_qsize 0\n",
      "2021-02-24 08:10:52,393 : INFO : worker thread finished; awaiting finish of 11 more threads\n",
      "2021-02-24 08:10:52,398 : INFO : worker thread finished; awaiting finish of 10 more threads\n",
      "2021-02-24 08:10:52,402 : INFO : worker thread finished; awaiting finish of 9 more threads\n",
      "2021-02-24 08:10:52,405 : INFO : worker thread finished; awaiting finish of 8 more threads\n",
      "2021-02-24 08:10:52,408 : INFO : worker thread finished; awaiting finish of 7 more threads\n",
      "2021-02-24 08:10:52,413 : INFO : worker thread finished; awaiting finish of 6 more threads\n",
      "2021-02-24 08:10:52,421 : INFO : worker thread finished; awaiting finish of 5 more threads\n",
      "2021-02-24 08:10:52,424 : INFO : worker thread finished; awaiting finish of 4 more threads\n",
      "2021-02-24 08:10:52,433 : INFO : worker thread finished; awaiting finish of 3 more threads\n",
      "2021-02-24 08:10:52,436 : INFO : worker thread finished; awaiting finish of 2 more threads\n",
      "2021-02-24 08:10:52,437 : INFO : worker thread finished; awaiting finish of 1 more threads\n"
     ]
    },
    {
     "name": "stderr",
     "output_type": "stream",
     "text": [
      "2021-02-24 08:10:52,439 : INFO : worker thread finished; awaiting finish of 0 more threads\n",
      "2021-02-24 08:10:52,440 : INFO : EPOCH - 10 : training on 15326417 raw words (3677781 effective words) took 11.0s, 333397 effective words/s\n",
      "2021-02-24 08:10:52,442 : INFO : training on a 153264170 raw words (36795272 effective words) took 111.7s, 329335 effective words/s\n",
      "2021-02-24 08:10:52,443 : INFO : saving Word2Vec object under dados/experimento_10/w2v_jur.model, separately None\n",
      "2021-02-24 08:10:52,445 : INFO : not storing attribute vectors_norm\n",
      "2021-02-24 08:10:52,446 : INFO : not storing attribute cum_table\n",
      "2021-02-24 08:10:53,379 : INFO : saved dados/experimento_10/w2v_jur.model\n"
     ]
    },
    {
     "name": "stdout",
     "output_type": "stream",
     "text": [
      "treinando modelo word2vec\n"
     ]
    },
    {
     "name": "stderr",
     "output_type": "stream",
     "text": [
      "2021-02-24 08:10:53,382 : INFO : resetting layer weights\n",
      "2021-02-24 08:10:58,310 : INFO : collecting all words and their counts\n",
      "2021-02-24 08:10:58,311 : INFO : PROGRESS: at sentence #0, processed 0 words, keeping 0 word types\n",
      "2021-02-24 08:10:58,380 : INFO : PROGRESS: at sentence #10000, processed 244635 words, keeping 13647 word types\n",
      "2021-02-24 08:10:58,447 : INFO : PROGRESS: at sentence #20000, processed 482937 words, keeping 19085 word types\n",
      "2021-02-24 08:10:58,516 : INFO : PROGRESS: at sentence #30000, processed 727067 words, keeping 22713 word types\n",
      "2021-02-24 08:10:58,585 : INFO : PROGRESS: at sentence #40000, processed 972298 words, keeping 25748 word types\n",
      "2021-02-24 08:10:58,655 : INFO : PROGRESS: at sentence #50000, processed 1218718 words, keeping 28233 word types\n",
      "2021-02-24 08:10:58,723 : INFO : PROGRESS: at sentence #60000, processed 1451779 words, keeping 30549 word types\n",
      "2021-02-24 08:10:58,790 : INFO : PROGRESS: at sentence #70000, processed 1691937 words, keeping 32463 word types\n",
      "2021-02-24 08:10:58,858 : INFO : PROGRESS: at sentence #80000, processed 1932060 words, keeping 34442 word types\n",
      "2021-02-24 08:10:58,926 : INFO : PROGRESS: at sentence #90000, processed 2171044 words, keeping 36277 word types\n",
      "2021-02-24 08:10:58,993 : INFO : PROGRESS: at sentence #100000, processed 2412379 words, keeping 37772 word types\n",
      "2021-02-24 08:10:59,065 : INFO : PROGRESS: at sentence #110000, processed 2659826 words, keeping 39356 word types\n",
      "2021-02-24 08:10:59,134 : INFO : PROGRESS: at sentence #120000, processed 2910127 words, keeping 40825 word types\n",
      "2021-02-24 08:10:59,205 : INFO : PROGRESS: at sentence #130000, processed 3157043 words, keeping 42112 word types\n",
      "2021-02-24 08:10:59,274 : INFO : PROGRESS: at sentence #140000, processed 3397606 words, keeping 43443 word types\n",
      "2021-02-24 08:10:59,346 : INFO : PROGRESS: at sentence #150000, processed 3636107 words, keeping 44639 word types\n",
      "2021-02-24 08:10:59,412 : INFO : PROGRESS: at sentence #160000, processed 3871802 words, keeping 45723 word types\n",
      "2021-02-24 08:10:59,483 : INFO : PROGRESS: at sentence #170000, processed 4117322 words, keeping 46842 word types\n",
      "2021-02-24 08:10:59,550 : INFO : PROGRESS: at sentence #180000, processed 4363383 words, keeping 47981 word types\n",
      "2021-02-24 08:10:59,619 : INFO : PROGRESS: at sentence #190000, processed 4611804 words, keeping 49011 word types\n",
      "2021-02-24 08:10:59,687 : INFO : PROGRESS: at sentence #200000, processed 4855068 words, keeping 50106 word types\n",
      "2021-02-24 08:10:59,755 : INFO : PROGRESS: at sentence #210000, processed 5098262 words, keeping 50976 word types\n",
      "2021-02-24 08:10:59,822 : INFO : PROGRESS: at sentence #220000, processed 5344053 words, keeping 52056 word types\n",
      "2021-02-24 08:10:59,888 : INFO : PROGRESS: at sentence #230000, processed 5580846 words, keeping 53108 word types\n",
      "2021-02-24 08:10:59,956 : INFO : PROGRESS: at sentence #240000, processed 5828263 words, keeping 53990 word types\n",
      "2021-02-24 08:11:00,025 : INFO : PROGRESS: at sentence #250000, processed 6065532 words, keeping 54887 word types\n",
      "2021-02-24 08:11:00,095 : INFO : PROGRESS: at sentence #260000, processed 6318022 words, keeping 55627 word types\n",
      "2021-02-24 08:11:00,166 : INFO : PROGRESS: at sentence #270000, processed 6564493 words, keeping 56512 word types\n",
      "2021-02-24 08:11:00,236 : INFO : PROGRESS: at sentence #280000, processed 6806376 words, keeping 57372 word types\n",
      "2021-02-24 08:11:00,300 : INFO : PROGRESS: at sentence #290000, processed 7042897 words, keeping 58133 word types\n",
      "2021-02-24 08:11:00,369 : INFO : PROGRESS: at sentence #300000, processed 7287220 words, keeping 59016 word types\n",
      "2021-02-24 08:11:00,436 : INFO : PROGRESS: at sentence #310000, processed 7526157 words, keeping 59801 word types\n",
      "2021-02-24 08:11:00,505 : INFO : PROGRESS: at sentence #320000, processed 7772055 words, keeping 60651 word types\n",
      "2021-02-24 08:11:00,571 : INFO : PROGRESS: at sentence #330000, processed 8001523 words, keeping 61416 word types\n",
      "2021-02-24 08:11:00,640 : INFO : PROGRESS: at sentence #340000, processed 8248898 words, keeping 62258 word types\n",
      "2021-02-24 08:11:00,708 : INFO : PROGRESS: at sentence #350000, processed 8494118 words, keeping 63083 word types\n",
      "2021-02-24 08:11:00,777 : INFO : PROGRESS: at sentence #360000, processed 8737371 words, keeping 63884 word types\n",
      "2021-02-24 08:11:00,845 : INFO : PROGRESS: at sentence #370000, processed 8984938 words, keeping 64686 word types\n",
      "2021-02-24 08:11:00,912 : INFO : PROGRESS: at sentence #380000, processed 9224992 words, keeping 65358 word types\n",
      "2021-02-24 08:11:00,981 : INFO : PROGRESS: at sentence #390000, processed 9474696 words, keeping 66074 word types\n",
      "2021-02-24 08:11:01,048 : INFO : PROGRESS: at sentence #400000, processed 9714379 words, keeping 66740 word types\n",
      "2021-02-24 08:11:01,119 : INFO : PROGRESS: at sentence #410000, processed 9957994 words, keeping 67504 word types\n",
      "2021-02-24 08:11:01,189 : INFO : PROGRESS: at sentence #420000, processed 10201396 words, keeping 68216 word types\n",
      "2021-02-24 08:11:01,257 : INFO : PROGRESS: at sentence #430000, processed 10442442 words, keeping 68890 word types\n",
      "2021-02-24 08:11:01,325 : INFO : PROGRESS: at sentence #440000, processed 10685099 words, keeping 69610 word types\n",
      "2021-02-24 08:11:01,390 : INFO : PROGRESS: at sentence #450000, processed 10921938 words, keeping 70284 word types\n",
      "2021-02-24 08:11:01,457 : INFO : PROGRESS: at sentence #460000, processed 11164803 words, keeping 70888 word types\n",
      "2021-02-24 08:11:01,525 : INFO : PROGRESS: at sentence #470000, processed 11404049 words, keeping 71571 word types\n",
      "2021-02-24 08:11:01,595 : INFO : PROGRESS: at sentence #480000, processed 11650680 words, keeping 72227 word types\n",
      "2021-02-24 08:11:01,664 : INFO : PROGRESS: at sentence #490000, processed 11893443 words, keeping 72835 word types\n",
      "2021-02-24 08:11:01,732 : INFO : PROGRESS: at sentence #500000, processed 12139915 words, keeping 73434 word types\n",
      "2021-02-24 08:11:01,801 : INFO : PROGRESS: at sentence #510000, processed 12386820 words, keeping 74025 word types\n",
      "2021-02-24 08:11:01,866 : INFO : PROGRESS: at sentence #520000, processed 12623361 words, keeping 74635 word types\n",
      "2021-02-24 08:11:01,933 : INFO : PROGRESS: at sentence #530000, processed 12858761 words, keeping 75347 word types\n",
      "2021-02-24 08:11:02,000 : INFO : PROGRESS: at sentence #540000, processed 13099576 words, keeping 75928 word types\n",
      "2021-02-24 08:11:02,067 : INFO : PROGRESS: at sentence #550000, processed 13338616 words, keeping 76527 word types\n",
      "2021-02-24 08:11:02,132 : INFO : PROGRESS: at sentence #560000, processed 13573168 words, keeping 77029 word types\n",
      "2021-02-24 08:11:02,203 : INFO : PROGRESS: at sentence #570000, processed 13815272 words, keeping 77675 word types\n",
      "2021-02-24 08:11:02,270 : INFO : PROGRESS: at sentence #580000, processed 14058387 words, keeping 78244 word types\n",
      "2021-02-24 08:11:02,338 : INFO : PROGRESS: at sentence #590000, processed 14296591 words, keeping 78706 word types\n",
      "2021-02-24 08:11:02,403 : INFO : PROGRESS: at sentence #600000, processed 14535138 words, keeping 79168 word types\n",
      "2021-02-24 08:11:02,474 : INFO : PROGRESS: at sentence #610000, processed 14779881 words, keeping 79644 word types\n",
      "2021-02-24 08:11:02,542 : INFO : PROGRESS: at sentence #620000, processed 15033208 words, keeping 80268 word types\n",
      "2021-02-24 08:11:02,613 : INFO : PROGRESS: at sentence #630000, processed 15280269 words, keeping 80823 word types\n",
      "2021-02-24 08:11:02,628 : INFO : collected 80890 word types from a corpus of 15326417 raw words and 631916 sentences\n",
      "2021-02-24 08:11:02,628 : INFO : Loading a fresh vocabulary\n",
      "2021-02-24 08:11:02,681 : INFO : effective_min_count=5 retains 32534 unique words (40% of original 80890, drops 48356)\n",
      "2021-02-24 08:11:02,682 : INFO : effective_min_count=5 leaves 15244718 word corpus (99% of original 15326417, drops 81699)\n",
      "2021-02-24 08:11:02,760 : INFO : deleting the raw counts dictionary of 80890 items\n",
      "2021-02-24 08:11:02,763 : INFO : sample=0.001 downsamples 36 most-common words\n",
      "2021-02-24 08:11:02,764 : INFO : downsampling leaves estimated 11030759 word corpus (72.4% of prior 15244718)\n",
      "2021-02-24 08:11:02,786 : INFO : constructing a huffman tree from 32534 words\n",
      "2021-02-24 08:11:03,468 : INFO : built huffman tree with maximum node depth 22\n"
     ]
    },
    {
     "name": "stderr",
     "output_type": "stream",
     "text": [
      "2021-02-24 08:11:03,818 : INFO : estimated required memory for 32534 words, 137900 buckets and 100 dimensions: 125747144 bytes\n",
      "2021-02-24 08:11:03,822 : INFO : resetting layer weights\n",
      "2021-02-24 08:11:07,242 : INFO : training model with 12 workers on 32534 vocabulary and 100 features, using sg=1 hs=1 sample=0.001 negative=5 window=5\n",
      "2021-02-24 08:11:58,567 : INFO : EPOCH 1 - PROGRESS: at 8.37% words, 17998 words/s, in_qsize -1, out_qsize 1\n",
      "2021-02-24 08:11:58,568 : INFO : worker thread finished; awaiting finish of 11 more threads\n",
      "2021-02-24 08:11:58,588 : INFO : worker thread finished; awaiting finish of 10 more threads\n",
      "2021-02-24 08:11:58,724 : INFO : worker thread finished; awaiting finish of 9 more threads\n",
      "2021-02-24 08:11:58,833 : INFO : worker thread finished; awaiting finish of 8 more threads\n",
      "2021-02-24 08:11:59,176 : INFO : worker thread finished; awaiting finish of 7 more threads\n",
      "2021-02-24 08:11:59,297 : INFO : worker thread finished; awaiting finish of 6 more threads\n",
      "2021-02-24 08:11:59,314 : INFO : worker thread finished; awaiting finish of 5 more threads\n",
      "2021-02-24 08:11:59,334 : INFO : worker thread finished; awaiting finish of 4 more threads\n",
      "2021-02-24 08:11:59,423 : INFO : worker thread finished; awaiting finish of 3 more threads\n",
      "2021-02-24 08:11:59,465 : INFO : worker thread finished; awaiting finish of 2 more threads\n",
      "2021-02-24 08:11:59,492 : INFO : worker thread finished; awaiting finish of 1 more threads\n",
      "2021-02-24 08:11:59,494 : INFO : worker thread finished; awaiting finish of 0 more threads\n",
      "2021-02-24 08:11:59,495 : INFO : EPOCH - 1 : training on 15384869 raw words (11074475 effective words) took 52.2s, 212122 effective words/s\n",
      "2021-02-24 08:12:50,406 : INFO : EPOCH 2 - PROGRESS: at 8.37% words, 18131 words/s, in_qsize -1, out_qsize 1\n",
      "2021-02-24 08:12:50,408 : INFO : worker thread finished; awaiting finish of 11 more threads\n",
      "2021-02-24 08:12:50,553 : INFO : worker thread finished; awaiting finish of 10 more threads\n",
      "2021-02-24 08:12:50,586 : INFO : worker thread finished; awaiting finish of 9 more threads\n",
      "2021-02-24 08:12:50,920 : INFO : worker thread finished; awaiting finish of 8 more threads\n",
      "2021-02-24 08:12:50,922 : INFO : worker thread finished; awaiting finish of 7 more threads\n",
      "2021-02-24 08:12:51,011 : INFO : worker thread finished; awaiting finish of 6 more threads\n",
      "2021-02-24 08:12:51,031 : INFO : worker thread finished; awaiting finish of 5 more threads\n",
      "2021-02-24 08:12:51,054 : INFO : worker thread finished; awaiting finish of 4 more threads\n",
      "2021-02-24 08:12:51,117 : INFO : worker thread finished; awaiting finish of 3 more threads\n",
      "2021-02-24 08:12:51,196 : INFO : worker thread finished; awaiting finish of 2 more threads\n",
      "2021-02-24 08:12:51,216 : INFO : worker thread finished; awaiting finish of 1 more threads\n",
      "2021-02-24 08:12:51,232 : INFO : worker thread finished; awaiting finish of 0 more threads\n",
      "2021-02-24 08:12:51,234 : INFO : EPOCH - 2 : training on 15384869 raw words (11073317 effective words) took 51.7s, 214211 effective words/s\n",
      "2021-02-24 08:13:42,103 : INFO : EPOCH 3 - PROGRESS: at 8.37% words, 18172 words/s, in_qsize -1, out_qsize 1\n",
      "2021-02-24 08:13:42,104 : INFO : worker thread finished; awaiting finish of 11 more threads\n",
      "2021-02-24 08:13:42,149 : INFO : worker thread finished; awaiting finish of 10 more threads\n",
      "2021-02-24 08:13:42,259 : INFO : worker thread finished; awaiting finish of 9 more threads\n",
      "2021-02-24 08:13:42,337 : INFO : worker thread finished; awaiting finish of 8 more threads\n",
      "2021-02-24 08:13:42,441 : INFO : worker thread finished; awaiting finish of 7 more threads\n",
      "2021-02-24 08:13:42,665 : INFO : worker thread finished; awaiting finish of 6 more threads\n",
      "2021-02-24 08:13:42,669 : INFO : worker thread finished; awaiting finish of 5 more threads\n",
      "2021-02-24 08:13:42,775 : INFO : worker thread finished; awaiting finish of 4 more threads\n",
      "2021-02-24 08:13:42,777 : INFO : worker thread finished; awaiting finish of 3 more threads\n",
      "2021-02-24 08:13:42,807 : INFO : worker thread finished; awaiting finish of 2 more threads\n",
      "2021-02-24 08:13:42,809 : INFO : worker thread finished; awaiting finish of 1 more threads\n",
      "2021-02-24 08:13:42,849 : INFO : worker thread finished; awaiting finish of 0 more threads\n",
      "2021-02-24 08:13:42,850 : INFO : EPOCH - 3 : training on 15384869 raw words (11072188 effective words) took 51.6s, 214692 effective words/s\n",
      "2021-02-24 08:14:33,746 : INFO : EPOCH 4 - PROGRESS: at 8.37% words, 18134 words/s, in_qsize -1, out_qsize 1\n",
      "2021-02-24 08:14:33,748 : INFO : worker thread finished; awaiting finish of 11 more threads\n",
      "2021-02-24 08:14:33,836 : INFO : worker thread finished; awaiting finish of 10 more threads\n",
      "2021-02-24 08:14:33,952 : INFO : worker thread finished; awaiting finish of 9 more threads\n",
      "2021-02-24 08:14:34,221 : INFO : worker thread finished; awaiting finish of 8 more threads\n",
      "2021-02-24 08:14:34,300 : INFO : worker thread finished; awaiting finish of 7 more threads\n",
      "2021-02-24 08:14:34,417 : INFO : worker thread finished; awaiting finish of 6 more threads\n",
      "2021-02-24 08:14:34,422 : INFO : worker thread finished; awaiting finish of 5 more threads\n",
      "2021-02-24 08:14:34,440 : INFO : worker thread finished; awaiting finish of 4 more threads\n",
      "2021-02-24 08:14:34,515 : INFO : worker thread finished; awaiting finish of 3 more threads\n",
      "2021-02-24 08:14:34,541 : INFO : worker thread finished; awaiting finish of 2 more threads\n",
      "2021-02-24 08:14:34,543 : INFO : worker thread finished; awaiting finish of 1 more threads\n",
      "2021-02-24 08:14:34,599 : INFO : worker thread finished; awaiting finish of 0 more threads\n",
      "2021-02-24 08:14:34,600 : INFO : EPOCH - 4 : training on 15384869 raw words (11073359 effective words) took 51.7s, 214161 effective words/s\n",
      "2021-02-24 08:15:25,271 : INFO : EPOCH 5 - PROGRESS: at 8.37% words, 18251 words/s, in_qsize -1, out_qsize 1\n",
      "2021-02-24 08:15:25,273 : INFO : worker thread finished; awaiting finish of 11 more threads\n",
      "2021-02-24 08:15:25,293 : INFO : worker thread finished; awaiting finish of 10 more threads\n",
      "2021-02-24 08:15:25,375 : INFO : worker thread finished; awaiting finish of 9 more threads\n",
      "2021-02-24 08:15:25,886 : INFO : worker thread finished; awaiting finish of 8 more threads\n",
      "2021-02-24 08:15:26,027 : INFO : worker thread finished; awaiting finish of 7 more threads\n",
      "2021-02-24 08:15:26,049 : INFO : worker thread finished; awaiting finish of 6 more threads\n",
      "2021-02-24 08:15:26,090 : INFO : worker thread finished; awaiting finish of 5 more threads\n",
      "2021-02-24 08:15:26,155 : INFO : worker thread finished; awaiting finish of 4 more threads\n",
      "2021-02-24 08:15:26,160 : INFO : worker thread finished; awaiting finish of 3 more threads\n",
      "2021-02-24 08:15:26,163 : INFO : worker thread finished; awaiting finish of 2 more threads\n",
      "2021-02-24 08:15:26,294 : INFO : EPOCH 5 - PROGRESS: at 92.01% words, 196464 words/s, in_qsize -1, out_qsize 1\n",
      "2021-02-24 08:15:26,295 : INFO : worker thread finished; awaiting finish of 1 more threads\n",
      "2021-02-24 08:15:26,574 : INFO : worker thread finished; awaiting finish of 0 more threads\n",
      "2021-02-24 08:15:26,575 : INFO : EPOCH - 5 : training on 15384869 raw words (11070035 effective words) took 51.9s, 213167 effective words/s\n",
      "2021-02-24 08:15:26,579 : INFO : training on a 76924345 raw words (55363374 effective words) took 259.3s, 213481 effective words/s\n",
      "2021-02-24 08:15:26,580 : WARNING : under 10 jobs per worker: consider setting a smaller `batch_words' for smoother alpha decay\n",
      "2021-02-24 08:15:28,104 : INFO : saving FastText object under dados/experimento_10/ftt_jur.model, separately None\n",
      "2021-02-24 08:15:28,105 : INFO : storing np array 'vectors_ngrams' to dados/experimento_10/ftt_jur.model.wv.vectors_ngrams.npy\n",
      "2021-02-24 08:15:35,413 : INFO : not storing attribute vectors_norm\n",
      "2021-02-24 08:15:35,414 : INFO : not storing attribute vectors_vocab_norm\n",
      "2021-02-24 08:15:35,415 : INFO : not storing attribute vectors_ngrams_norm\n",
      "2021-02-24 08:15:35,416 : INFO : not storing attribute buckets_word\n",
      "2021-02-24 08:15:35,417 : INFO : storing np array 'vectors_ngrams_lockf' to dados/experimento_10/ftt_jur.model.trainables.vectors_ngrams_lockf.npy\n",
      "2021-02-24 08:15:42,966 : INFO : saved dados/experimento_10/ftt_jur.model\n"
     ]
    },
    {
     "name": "stdout",
     "output_type": "stream",
     "text": [
      "treinando modelo glove\n",
      "mkdir -p build\n",
      "tokenizando corpus\n",
      "$ build/vocab_count -min-count 5 -verbose 2 < ../mestrado/experimentos_mestrado/dados/experimento_10/base_treino_glv.txt > ../mestrado/experimentos_mestrado/dados/experimento_10/glove_vocab.txt\n",
      "criando matriz de coocorrencia\n",
      "$ build/cooccur -memory 4.0 -vocab-file ../mestrado/experimentos_mestrado/dados/experimento_10/glove_vocab.txt -verbose 2 -window-size 15 < ../mestrado/experimentos_mestrado/dados/experimento_10/base_treino_glv.txt > ../mestrado/experimentos_mestrado/dados/experimento_10/glv_concurrence.bin\n",
      "$ build/shuffle -memory 4.0 -verbose 2 < ../mestrado/experimentos_mestrado/dados/experimento_10/glv_concurrence.bin > ../mestrado/experimentos_mestrado/dados/experimento_10/glv_concurrence_shuf.bin\n",
      "$ build/glove -save-file ../mestrado/experimentos_mestrado/dados/experimento_10/glv_jur -threads 8 -input-file ../mestrado/experimentos_mestrado/dados/experimento_10/glv_concurrence_shuf.bin -x-max 10 -iter 15 -vector-size 100 -binary 2 -vocab-file ../mestrado/experimentos_mestrado/dados/experimento_10/glove_vocab.txt -verbose 2\n",
      "\n",
      "BUILDING VOCABULARY\n",
      "Processed 0 tokens.100000 tokens.200000 tokens.300000 tokens.400000 tokens.500000 tokens.600000 tokens.700000 tokens.800000 tokens.900000 tokens.1000000 tokens.1100000 tokens.1200000 tokens.1300000 tokens.1400000 tokens.1500000 tokens.1600000 tokens.1700000 tokens.1800000 tokens.1900000 tokens.2000000 tokens.2100000 tokens.2200000 tokens.2300000 tokens.2400000 tokens.2500000 tokens.2600000 tokens.2700000 tokens.2800000 tokens.2900000 tokens.3000000 tokens.3100000 tokens.3200000 tokens.3300000 tokens.3400000 tokens.3500000 tokens.3600000 tokens.3700000 tokens.3800000 tokens.3900000 tokens.4000000 tokens.4100000 tokens.4200000 tokens.4300000 tokens.4400000 tokens.4500000 tokens.4600000 tokens.4700000 tokens.4800000 tokens.4900000 tokens.5000000 tokens.5100000 tokens.5200000 tokens.5300000 tokens.5400000 tokens.5500000 tokens.5600000 tokens.5700000 tokens.5800000 tokens.5900000 tokens.6000000 tokens.6100000 tokens.6200000 tokens.6300000 tokens.6400000 tokens.6500000 tokens.6600000 tokens.6700000 tokens.6800000 tokens.6900000 tokens.7000000 tokens.7100000 tokens.7200000 tokens.7300000 tokens.7400000 tokens.7500000 tokens.7600000 tokens.7700000 tokens.7800000 tokens.7900000 tokens.8000000 tokens.8100000 tokens.8200000 tokens.8300000 tokens.8400000 tokens.8500000 tokens.8600000 tokens.8700000 tokens.8800000 tokens.8900000 tokens.9000000 tokens.9100000 tokens.9200000 tokens.9300000 tokens.9400000 tokens.9500000 tokens.9600000 tokens.Processed 9647164 tokens.\n",
      "Counted 80713 unique words.\n",
      "Truncating vocabulary at min count 5.\n",
      "Using vocabulary of size 32368.\n",
      "\n",
      "COUNTING COOCCURRENCES\n",
      "window size: 15\n",
      "context: symmetric\n",
      "max product: 13752509\n",
      "overflow length: 38028356\n",
      "Reading vocab from file \"../mestrado/experimentos_mestrado/dados/experimento_10/glove_vocab.txt\"...loaded 32368 words.\n",
      "Building lookup table...table contains 73311841 elements.\n",
      "Processing token: 0100000200000300000400000500000600000700000800000900000100000011000001200000130000014000001500000160000017000001800000190000020000002100000220000023000002400000250000026000002700000280000029000003000000310000032000003300000340000035000003600000370000038000003900000400000041000004200000430000044000004500000460000047000004800000490000050000005100000520000053000005400000550000056000005700000580000059000006000000610000062000006300000640000065000006600000670000068000006900000700000071000007200000730000074000007500000760000077000007800000790000080000008100000820000083000008400000850000086000008700000880000089000009000000910000092000009300000940000095000009600000Processed 9647164 tokens.\n",
      "Writing cooccurrences to disk........2 files in total.\n"
     ]
    },
    {
     "name": "stdout",
     "output_type": "stream",
     "text": [
      "Merging cooccurrence files: processed 0 lines.100000 lines.200000 lines.300000 lines.400000 lines.500000 lines.600000 lines.700000 lines.800000 lines.900000 lines.1000000 lines.1100000 lines.1200000 lines.1300000 lines.1400000 lines.1500000 lines.1600000 lines.1700000 lines.1800000 lines.1900000 lines.2000000 lines.2100000 lines.2200000 lines.2300000 lines.2400000 lines.2500000 lines.2600000 lines.2700000 lines.2800000 lines.2900000 lines.3000000 lines.3100000 lines.3200000 lines.3300000 lines.3400000 lines.3500000 lines.3600000 lines.3700000 lines.3800000 lines.3900000 lines.4000000 lines.4100000 lines.4200000 lines.4300000 lines.4400000 lines.4500000 lines.4600000 lines.4700000 lines.4800000 lines.4900000 lines.5000000 lines.5100000 lines.5200000 lines.5300000 lines.5400000 lines.5500000 lines.5600000 lines.5700000 lines.5800000 lines.5900000 lines.6000000 lines.6100000 lines.6200000 lines.6300000 lines.6400000 lines.6500000 lines.6600000 lines.6700000 lines.6800000 lines.6900000 lines.7000000 lines.7100000 lines.7200000 lines.7300000 lines.7400000 lines.7500000 lines.7600000 lines.7700000 lines.7800000 lines.7900000 lines.8000000 lines.8100000 lines.8200000 lines.8300000 lines.8400000 lines.8500000 lines.8600000 lines.8700000 lines.8800000 lines.8900000 lines.9000000 lines.9100000 lines.9200000 lines.9300000 lines.9400000 lines.9500000 lines.9600000 lines.9700000 lines.9800000 lines.9900000 lines.10000000 lines.10100000 lines.10200000 lines.10300000 lines.10400000 lines.10500000 lines.10600000 lines.10700000 lines.10800000 lines.10900000 lines.11000000 lines.11100000 lines.11200000 lines.11300000 lines.11400000 lines.11500000 lines.11600000 lines.11700000 lines.11800000 lines.11900000 lines.12000000 lines.12100000 lines.12200000 lines.12300000 lines.12400000 lines.12500000 lines.12600000 lines.12700000 lines.12800000 lines.12900000 lines.13000000 lines.13100000 lines.13200000 lines.13300000 lines.13400000 lines.13500000 lines.13600000 lines.13700000 lines.13800000 lines.13900000 lines.14000000 lines.14100000 lines.14200000 lines.14300000 lines.14400000 lines.14500000 lines.14600000 lines.14700000 lines.14800000 lines.14900000 lines.15000000 lines.15100000 lines.15200000 lines.15300000 lines.15400000 lines.15500000 lines.15600000 lines.15700000 lines.15800000 lines.15900000 lines.16000000 lines.16100000 lines.16200000 lines.16300000 lines.16400000 lines.16500000 lines.16600000 lines.16700000 lines.16800000 lines.16900000 lines.17000000 lines.17100000 lines.17200000 lines.17300000 lines.17400000 lines.17500000 lines.17600000 lines.17700000 lines.17800000 lines.17900000 lines.18000000 lines.18100000 lines.18200000 lines.18300000 lines.18400000 lines.18500000 lines.18600000 lines.18700000 lines.18800000 lines.18900000 lines.19000000 lines.19100000 lines.19200000 lines.19300000 lines.19400000 lines.19500000 lines.19600000 lines.19700000 lines.19800000 lines.19900000 lines.20000000 lines.20100000 lines.20200000 lines.20300000 lines.20400000 lines.20500000 lines.20600000 lines.20700000 lines.20800000 lines.20900000 lines.21000000 lines.21100000 lines.21200000 lines.21300000 lines.21400000 lines.21500000 lines.21600000 lines.21700000 lines.21800000 lines.21900000 lines.22000000 lines.22100000 lines.22200000 lines.22300000 lines.22400000 lines.22500000 lines.22600000 lines.22700000 lines.22800000 lines.22900000 lines.23000000 lines.23100000 lines.23200000 lines.23300000 lines.23400000 lines.23500000 lines.23600000 lines.23700000 lines.23800000 lines.23900000 lines.24000000 lines.24100000 lines.24200000 lines.24300000 lines.24400000 lines.24500000 lines.24600000 lines.24700000 lines.24800000 lines.24900000 lines.25000000 lines.25100000 lines.25200000 lines.25300000 lines.25400000 lines.25500000 lines.25600000 lines.25700000 lines.25800000 lines.25900000 lines.26000000 lines.26100000 lines.26200000 lines.26300000 lines.26400000 lines.26500000 lines.26600000 lines.26700000 lines.26800000 lines.26900000 lines.27000000 lines.27100000 lines.27200000 lines.27300000 lines.27400000 lines.27500000 lines.27600000 lines.27700000 lines.27800000 lines.27900000 lines.28000000 lines.28100000 lines.28200000 lines.28300000 lines.28400000 lines.28500000 lines.28600000 lines.28700000 lines.28800000 lines.28900000 lines.29000000 lines.29100000 lines.29200000 lines.29300000 lines.29400000 lines.29500000 lines.29600000 lines.29700000 lines.29800000 lines.29900000 lines.30000000 lines.30100000 lines.30200000 lines.30300000 lines.30400000 lines.30500000 lines.30600000 lines.30700000 lines.30800000 lines.30900000 lines.31000000 lines.31100000 lines.31200000 lines.31300000 lines.31400000 lines.Merging cooccurrence files: processed 31481811 lines.\n",
      "\n",
      "Using random seed 1614165359\n",
      "SHUFFLING COOCCURRENCES\n",
      "array size: 255013683\n",
      "Shuffling by chunks: processed 0 lines.processed 31481811 lines.\n",
      "Wrote 1 temporary file(s).\n",
      "Merging temp files: processed 0 lines.31481811 lines.Merging temp files: processed 31481811 lines.\n",
      "\n",
      "TRAINING MODEL\n",
      "Read 31481811 lines.\n",
      "Initializing parameters...Using random seed 1614165370\n",
      "done.\n",
      "vector size: 100\n",
      "vocab size: 32368\n",
      "x_max: 10.000000\n",
      "alpha: 0.750000\n",
      "02/24/21 - 08:16.22AM, iter: 001, cost: 0.109162\n",
      "02/24/21 - 08:16.34AM, iter: 002, cost: 0.079311\n",
      "02/24/21 - 08:16.46AM, iter: 003, cost: 0.066470\n",
      "02/24/21 - 08:16.57AM, iter: 004, cost: 0.058805\n",
      "02/24/21 - 08:17.08AM, iter: 005, cost: 0.054409\n",
      "02/24/21 - 08:17.19AM, iter: 006, cost: 0.051763\n",
      "02/24/21 - 08:17.30AM, iter: 007, cost: 0.050047\n",
      "02/24/21 - 08:17.41AM, iter: 008, cost: 0.048803\n",
      "02/24/21 - 08:17.52AM, iter: 009, cost: 0.047876\n",
      "02/24/21 - 08:18.03AM, iter: 010, cost: 0.047144\n",
      "02/24/21 - 08:18.13AM, iter: 011, cost: 0.046546\n",
      "02/24/21 - 08:18.24AM, iter: 012, cost: 0.046056\n",
      "02/24/21 - 08:18.35AM, iter: 013, cost: 0.045624\n",
      "02/24/21 - 08:18.45AM, iter: 014, cost: 0.045253\n",
      "02/24/21 - 08:18.56AM, iter: 015, cost: 0.044933\n",
      "\n",
      "treinamento concluído\n"
     ]
    },
    {
     "name": "stderr",
     "output_type": "stream",
     "text": [
      "2021-02-24 08:18:57,941 : INFO : converting 32369 vectors from dados/experimento_10/glv_jur.txt to C:\\Users\\CRISTI~1\\AppData\\Local\\Temp\\test_word2vec.txt\n",
      "2021-02-24 08:18:58,007 : INFO : loading projection weights from C:\\Users\\CRISTI~1\\AppData\\Local\\Temp\\test_word2vec.txt\n",
      "2021-02-24 08:19:00,832 : INFO : loaded (32369, 100) matrix from C:\\Users\\CRISTI~1\\AppData\\Local\\Temp\\test_word2vec.txt\n",
      "2021-02-24 08:19:00,834 : INFO : loading projection weights from modelos/w2v_skip_nilc.txt\n",
      "2021-02-24 08:20:18,168 : INFO : loaded (929606, 100) matrix from modelos/w2v_skip_nilc.txt\n",
      "2021-02-24 08:20:18,169 : INFO : loading projection weights from modelos/ftt_skip_nilc.txt\n",
      "2021-02-24 08:21:34,987 : INFO : loaded (929605, 100) matrix from modelos/ftt_skip_nilc.txt\n",
      "2021-02-24 08:21:34,989 : INFO : loading projection weights from modelos/glove_nilc.txt\n",
      "2021-02-24 08:22:52,163 : INFO : loaded (929605, 100) matrix from modelos/glove_nilc.txt\n"
     ]
    },
    {
     "name": "stdout",
     "output_type": "stream",
     "text": [
      "recuperando teores da base de teste\n"
     ]
    },
    {
     "data": {
      "application/vnd.jupyter.widget-view+json": {
       "model_id": "818469b698b14456b41dce72b79c2309",
       "version_major": 2,
       "version_minor": 0
      },
      "text/plain": [
       "HBox(children=(IntProgress(value=0, max=7006), HTML(value='')))"
      ]
     },
     "metadata": {},
     "output_type": "display_data"
    },
    {
     "name": "stdout",
     "output_type": "stream",
     "text": [
      "\n",
      "criando representações word2vec geral\n"
     ]
    },
    {
     "data": {
      "application/vnd.jupyter.widget-view+json": {
       "model_id": "633129d9e8c9411c8290d355112dd0e7",
       "version_major": 2,
       "version_minor": 0
      },
      "text/plain": [
       "HBox(children=(IntProgress(value=0, max=7006), HTML(value='')))"
      ]
     },
     "metadata": {},
     "output_type": "display_data"
    },
    {
     "name": "stdout",
     "output_type": "stream",
     "text": [
      "\n",
      "criando representações fasttext geral\n"
     ]
    },
    {
     "data": {
      "application/vnd.jupyter.widget-view+json": {
       "model_id": "0f8b276f0d7e4ca1a1f4c8c02c622477",
       "version_major": 2,
       "version_minor": 0
      },
      "text/plain": [
       "HBox(children=(IntProgress(value=0, max=7006), HTML(value='')))"
      ]
     },
     "metadata": {},
     "output_type": "display_data"
    },
    {
     "name": "stdout",
     "output_type": "stream",
     "text": [
      "\n",
      "criando representações glove geral\n"
     ]
    },
    {
     "data": {
      "application/vnd.jupyter.widget-view+json": {
       "model_id": "6ef4ab03c93745ebba9c11663be96bf8",
       "version_major": 2,
       "version_minor": 0
      },
      "text/plain": [
       "HBox(children=(IntProgress(value=0, max=7006), HTML(value='')))"
      ]
     },
     "metadata": {},
     "output_type": "display_data"
    },
    {
     "name": "stdout",
     "output_type": "stream",
     "text": [
      "\n",
      "criando representações word2vec juridico\n"
     ]
    },
    {
     "data": {
      "application/vnd.jupyter.widget-view+json": {
       "model_id": "b68a58f97af34f20b9283fa8091b0d5c",
       "version_major": 2,
       "version_minor": 0
      },
      "text/plain": [
       "HBox(children=(IntProgress(value=0, max=7006), HTML(value='')))"
      ]
     },
     "metadata": {},
     "output_type": "display_data"
    },
    {
     "name": "stdout",
     "output_type": "stream",
     "text": [
      "\n",
      "criando representações fasttext juridico\n"
     ]
    },
    {
     "data": {
      "application/vnd.jupyter.widget-view+json": {
       "model_id": "ca3674b6c406407e97efa5873589970e",
       "version_major": 2,
       "version_minor": 0
      },
      "text/plain": [
       "HBox(children=(IntProgress(value=0, max=7006), HTML(value='')))"
      ]
     },
     "metadata": {},
     "output_type": "display_data"
    },
    {
     "name": "stdout",
     "output_type": "stream",
     "text": [
      "\n",
      "criando representações glove juridico\n"
     ]
    },
    {
     "data": {
      "application/vnd.jupyter.widget-view+json": {
       "model_id": "83050823b5aa435a933f7e064094e471",
       "version_major": 2,
       "version_minor": 0
      },
      "text/plain": [
       "HBox(children=(IntProgress(value=0, max=7006), HTML(value='')))"
      ]
     },
     "metadata": {},
     "output_type": "display_data"
    },
    {
     "name": "stdout",
     "output_type": "stream",
     "text": [
      "\n",
      "----------- EXPERIMENTO 10 CONCLUIDO -----------\n",
      "tempo do experimento: 18.78068834145864 minutos\n"
     ]
    }
   ],
   "source": [
    "n_experimentos = 10\n",
    "transformer.transform(documentos_validos, n_experimentos)"
   ]
  }
 ],
 "metadata": {
  "kernelspec": {
   "display_name": "Python 3",
   "language": "python",
   "name": "python3"
  },
  "language_info": {
   "codemirror_mode": {
    "name": "ipython",
    "version": 3
   },
   "file_extension": ".py",
   "mimetype": "text/x-python",
   "name": "python",
   "nbconvert_exporter": "python",
   "pygments_lexer": "ipython3",
   "version": "3.7.4"
  }
 },
 "nbformat": 4,
 "nbformat_minor": 2
}
