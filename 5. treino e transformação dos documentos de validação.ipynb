{
 "cells": [
  {
   "cell_type": "markdown",
   "metadata": {},
   "source": [
    "### Importação dos metadados"
   ]
  },
  {
   "cell_type": "code",
   "execution_count": 1,
   "metadata": {},
   "outputs": [],
   "source": [
    "from src import transformer\n",
    "from tqdm import tqdm_notebook as tqdm\n",
    "import pandas as pd\n",
    "import nltk\n",
    "%load_ext autoreload\n",
    "%autoreload 2\n",
    "df = pd.read_csv(\"dados/corpus_tratado/metadados.csv\")"
   ]
  },
  {
   "cell_type": "markdown",
   "metadata": {},
   "source": [
    "### Filtrando os ids por assuntos"
   ]
  },
  {
   "cell_type": "code",
   "execution_count": 2,
   "metadata": {
    "scrolled": false
   },
   "outputs": [
    {
     "data": {
      "text/plain": [
       "35027"
      ]
     },
     "metadata": {},
     "output_type": "display_data"
    },
    {
     "data": {
      "text/plain": [
       "125"
      ]
     },
     "metadata": {},
     "output_type": "display_data"
    },
    {
     "data": {
      "application/vnd.jupyter.widget-view+json": {
       "model_id": "e8ac9ce2d58b49899bc7e0528bd536f9",
       "version_major": 2,
       "version_minor": 0
      },
      "text/plain": [
       "HBox(children=(IntProgress(value=0, max=35027), HTML(value='')))"
      ]
     },
     "metadata": {},
     "output_type": "display_data"
    },
    {
     "name": "stdout",
     "output_type": "stream",
     "text": [
      "\n"
     ]
    },
    {
     "data": {
      "text/html": [
       "<div>\n",
       "<style scoped>\n",
       "    .dataframe tbody tr th:only-of-type {\n",
       "        vertical-align: middle;\n",
       "    }\n",
       "\n",
       "    .dataframe tbody tr th {\n",
       "        vertical-align: top;\n",
       "    }\n",
       "\n",
       "    .dataframe thead th {\n",
       "        text-align: right;\n",
       "    }\n",
       "</style>\n",
       "<table border=\"1\" class=\"dataframe\">\n",
       "  <thead>\n",
       "    <tr style=\"text-align: right;\">\n",
       "      <th></th>\n",
       "      <th>id</th>\n",
       "      <th>Assunto</th>\n",
       "      <th>arquivo</th>\n",
       "      <th>teores</th>\n",
       "    </tr>\n",
       "  </thead>\n",
       "  <tbody>\n",
       "    <tr>\n",
       "      <td>0</td>\n",
       "      <td>1500075-43.2019.8.26.0569</td>\n",
       "      <td>Tráfico de Drogas e Condutas Afins</td>\n",
       "      <td>1500075-43.2019.8.26.0569.txt</td>\n",
       "      <td>trata-se de denúncia oferecida pelo ministério...</td>\n",
       "    </tr>\n",
       "    <tr>\n",
       "      <td>1</td>\n",
       "      <td>1019468-32.2019.8.26.0562</td>\n",
       "      <td>Alienação Fiduciária</td>\n",
       "      <td>1019468-32.2019.8.26.0562.txt</td>\n",
       "      <td>aymoré crédito financiamento e investimento s ...</td>\n",
       "    </tr>\n",
       "    <tr>\n",
       "      <td>2</td>\n",
       "      <td>0000043-68.2019.8.26.0616</td>\n",
       "      <td>Furto</td>\n",
       "      <td>0000043-68.2019.8.26.0616.txt</td>\n",
       "      <td>matheus cardoso de siqueira rosa qualificado n...</td>\n",
       "    </tr>\n",
       "    <tr>\n",
       "      <td>3</td>\n",
       "      <td>1007259-02.2018.8.26.0292</td>\n",
       "      <td>DIREITO PREVIDENCIÁRIO</td>\n",
       "      <td>1007259-02.2018.8.26.0292.txt</td>\n",
       "      <td>francisco joaquim dos santos ajuizou a present...</td>\n",
       "    </tr>\n",
       "    <tr>\n",
       "      <td>4</td>\n",
       "      <td>1000425-53.2019.8.26.0128</td>\n",
       "      <td>Rural (Art. 48/51)</td>\n",
       "      <td>1000425-53.2019.8.26.0128.txt</td>\n",
       "      <td>odair lacerda devidamente qualificado nos auto...</td>\n",
       "    </tr>\n",
       "    <tr>\n",
       "      <td>...</td>\n",
       "      <td>...</td>\n",
       "      <td>...</td>\n",
       "      <td>...</td>\n",
       "      <td>...</td>\n",
       "    </tr>\n",
       "    <tr>\n",
       "      <td>35022</td>\n",
       "      <td>0001233-88.2018.8.26.0426</td>\n",
       "      <td>Cheque</td>\n",
       "      <td>0001233-88.2018.8.26.0426.txt</td>\n",
       "      <td>0 caracterizada a hipótese do artigo 0 ii do c...</td>\n",
       "    </tr>\n",
       "    <tr>\n",
       "      <td>35023</td>\n",
       "      <td>1514316-66.2019.8.26.0037</td>\n",
       "      <td>Impostos</td>\n",
       "      <td>1514316-66.2019.8.26.0037.txt</td>\n",
       "      <td>ante o requerimento do exequente noticiando qu...</td>\n",
       "    </tr>\n",
       "    <tr>\n",
       "      <td>35024</td>\n",
       "      <td>1008737-24.2019.8.26.0320</td>\n",
       "      <td>Indenização por Dano Material</td>\n",
       "      <td>1008737-24.2019.8.26.0320.txt</td>\n",
       "      <td>dispensado o relatório nos termos do artigo 0 ...</td>\n",
       "    </tr>\n",
       "    <tr>\n",
       "      <td>35025</td>\n",
       "      <td>0000206-22.2019.8.26.0075</td>\n",
       "      <td>IPTU/ Imposto Predial e Territorial Urbano</td>\n",
       "      <td>0000206-22.2019.8.26.0075.txt</td>\n",
       "      <td>0 - tendo em vista a comprovação de depósito e...</td>\n",
       "    </tr>\n",
       "    <tr>\n",
       "      <td>35026</td>\n",
       "      <td>1002580-07.2019.8.26.0297</td>\n",
       "      <td>Indenização por Dano Moral</td>\n",
       "      <td>1002580-07.2019.8.26.0297.txt</td>\n",
       "      <td>trata-se de ação de indenização por negativaçã...</td>\n",
       "    </tr>\n",
       "  </tbody>\n",
       "</table>\n",
       "<p>35027 rows × 4 columns</p>\n",
       "</div>"
      ],
      "text/plain": [
       "                              id                                     Assunto  \\\n",
       "0      1500075-43.2019.8.26.0569          Tráfico de Drogas e Condutas Afins   \n",
       "1      1019468-32.2019.8.26.0562                        Alienação Fiduciária   \n",
       "2      0000043-68.2019.8.26.0616                                       Furto   \n",
       "3      1007259-02.2018.8.26.0292                      DIREITO PREVIDENCIÁRIO   \n",
       "4      1000425-53.2019.8.26.0128                          Rural (Art. 48/51)   \n",
       "...                          ...                                         ...   \n",
       "35022  0001233-88.2018.8.26.0426                                      Cheque   \n",
       "35023  1514316-66.2019.8.26.0037                                    Impostos   \n",
       "35024  1008737-24.2019.8.26.0320               Indenização por Dano Material   \n",
       "35025  0000206-22.2019.8.26.0075  IPTU/ Imposto Predial e Territorial Urbano   \n",
       "35026  1002580-07.2019.8.26.0297                  Indenização por Dano Moral   \n",
       "\n",
       "                             arquivo  \\\n",
       "0      1500075-43.2019.8.26.0569.txt   \n",
       "1      1019468-32.2019.8.26.0562.txt   \n",
       "2      0000043-68.2019.8.26.0616.txt   \n",
       "3      1007259-02.2018.8.26.0292.txt   \n",
       "4      1000425-53.2019.8.26.0128.txt   \n",
       "...                              ...   \n",
       "35022  0001233-88.2018.8.26.0426.txt   \n",
       "35023  1514316-66.2019.8.26.0037.txt   \n",
       "35024  1008737-24.2019.8.26.0320.txt   \n",
       "35025  0000206-22.2019.8.26.0075.txt   \n",
       "35026  1002580-07.2019.8.26.0297.txt   \n",
       "\n",
       "                                                  teores  \n",
       "0      trata-se de denúncia oferecida pelo ministério...  \n",
       "1      aymoré crédito financiamento e investimento s ...  \n",
       "2      matheus cardoso de siqueira rosa qualificado n...  \n",
       "3      francisco joaquim dos santos ajuizou a present...  \n",
       "4      odair lacerda devidamente qualificado nos auto...  \n",
       "...                                                  ...  \n",
       "35022  0 caracterizada a hipótese do artigo 0 ii do c...  \n",
       "35023  ante o requerimento do exequente noticiando qu...  \n",
       "35024  dispensado o relatório nos termos do artigo 0 ...  \n",
       "35025  0 - tendo em vista a comprovação de depósito e...  \n",
       "35026  trata-se de ação de indenização por negativaçã...  \n",
       "\n",
       "[35027 rows x 4 columns]"
      ]
     },
     "execution_count": 2,
     "metadata": {},
     "output_type": "execute_result"
    }
   ],
   "source": [
    "corte = 50\n",
    "df_validos = pd.DataFrame(df.groupby(\"Assunto\").size()).reset_index()\n",
    "df_validos.columns = [\"assunto\", \"quant\"]\n",
    "df_validos = df_validos.loc[df_validos.quant >= corte]\n",
    "display(df_validos.quant.sum())\n",
    "display(df_validos.assunto.nunique())\n",
    "documentos_validos = df[df.Assunto.isin(df_validos.assunto)][[\"id\", \"Assunto\"]].reset_index().drop('index', axis = 1)\n",
    "diretorio = \"dados/corpus_tratado/\"\n",
    "documentos_validos['arquivo'] = documentos_validos.id + '.txt'\n",
    "documentos_validos['teores'] = [transformer.recuperar_teor(x, diretorio) for x in tqdm(documentos_validos['arquivo'])]\n",
    "documentos_validos"
   ]
  },
  {
   "cell_type": "markdown",
   "metadata": {},
   "source": [
    "### cortando documentos curtos"
   ]
  },
  {
   "cell_type": "code",
   "execution_count": 3,
   "metadata": {},
   "outputs": [
    {
     "data": {
      "text/html": [
       "<div>\n",
       "<style scoped>\n",
       "    .dataframe tbody tr th:only-of-type {\n",
       "        vertical-align: middle;\n",
       "    }\n",
       "\n",
       "    .dataframe tbody tr th {\n",
       "        vertical-align: top;\n",
       "    }\n",
       "\n",
       "    .dataframe thead th {\n",
       "        text-align: right;\n",
       "    }\n",
       "</style>\n",
       "<table border=\"1\" class=\"dataframe\">\n",
       "  <thead>\n",
       "    <tr style=\"text-align: right;\">\n",
       "      <th></th>\n",
       "      <th>id</th>\n",
       "      <th>Assunto</th>\n",
       "    </tr>\n",
       "  </thead>\n",
       "  <tbody>\n",
       "    <tr>\n",
       "      <td>0</td>\n",
       "      <td>1500075-43.2019.8.26.0569</td>\n",
       "      <td>Tráfico de Drogas e Condutas Afins</td>\n",
       "    </tr>\n",
       "    <tr>\n",
       "      <td>1</td>\n",
       "      <td>1019468-32.2019.8.26.0562</td>\n",
       "      <td>Alienação Fiduciária</td>\n",
       "    </tr>\n",
       "    <tr>\n",
       "      <td>2</td>\n",
       "      <td>0000043-68.2019.8.26.0616</td>\n",
       "      <td>Furto</td>\n",
       "    </tr>\n",
       "    <tr>\n",
       "      <td>3</td>\n",
       "      <td>1007259-02.2018.8.26.0292</td>\n",
       "      <td>DIREITO PREVIDENCIÁRIO</td>\n",
       "    </tr>\n",
       "    <tr>\n",
       "      <td>4</td>\n",
       "      <td>1000425-53.2019.8.26.0128</td>\n",
       "      <td>Rural (Art. 48/51)</td>\n",
       "    </tr>\n",
       "    <tr>\n",
       "      <td>...</td>\n",
       "      <td>...</td>\n",
       "      <td>...</td>\n",
       "    </tr>\n",
       "    <tr>\n",
       "      <td>33308</td>\n",
       "      <td>0001233-88.2018.8.26.0426</td>\n",
       "      <td>Cheque</td>\n",
       "    </tr>\n",
       "    <tr>\n",
       "      <td>33309</td>\n",
       "      <td>1514316-66.2019.8.26.0037</td>\n",
       "      <td>Impostos</td>\n",
       "    </tr>\n",
       "    <tr>\n",
       "      <td>33310</td>\n",
       "      <td>1008737-24.2019.8.26.0320</td>\n",
       "      <td>Indenização por Dano Material</td>\n",
       "    </tr>\n",
       "    <tr>\n",
       "      <td>33311</td>\n",
       "      <td>0000206-22.2019.8.26.0075</td>\n",
       "      <td>IPTU/ Imposto Predial e Territorial Urbano</td>\n",
       "    </tr>\n",
       "    <tr>\n",
       "      <td>33312</td>\n",
       "      <td>1002580-07.2019.8.26.0297</td>\n",
       "      <td>Indenização por Dano Moral</td>\n",
       "    </tr>\n",
       "  </tbody>\n",
       "</table>\n",
       "<p>33313 rows × 2 columns</p>\n",
       "</div>"
      ],
      "text/plain": [
       "                              id                                     Assunto\n",
       "0      1500075-43.2019.8.26.0569          Tráfico de Drogas e Condutas Afins\n",
       "1      1019468-32.2019.8.26.0562                        Alienação Fiduciária\n",
       "2      0000043-68.2019.8.26.0616                                       Furto\n",
       "3      1007259-02.2018.8.26.0292                      DIREITO PREVIDENCIÁRIO\n",
       "4      1000425-53.2019.8.26.0128                          Rural (Art. 48/51)\n",
       "...                          ...                                         ...\n",
       "33308  0001233-88.2018.8.26.0426                                      Cheque\n",
       "33309  1514316-66.2019.8.26.0037                                    Impostos\n",
       "33310  1008737-24.2019.8.26.0320               Indenização por Dano Material\n",
       "33311  0000206-22.2019.8.26.0075  IPTU/ Imposto Predial e Territorial Urbano\n",
       "33312  1002580-07.2019.8.26.0297                  Indenização por Dano Moral\n",
       "\n",
       "[33313 rows x 2 columns]"
      ]
     },
     "execution_count": 3,
     "metadata": {},
     "output_type": "execute_result"
    }
   ],
   "source": [
    "min_palavras_documento = 50\n",
    "documentos_validos['validos'] = documentos_validos.teores.apply(lambda x: 0 if len(x.split(' ')) <= min_palavras_documento else 1)\n",
    "documentos_validos = documentos_validos[documentos_validos['validos'] == 1].drop(['arquivo', 'teores', 'validos'], axis = 1).reset_index().drop('index', axis = 1)\n",
    "documentos_validos"
   ]
  },
  {
   "cell_type": "markdown",
   "metadata": {},
   "source": [
    "### Execução do fluxo de experimentação"
   ]
  },
  {
   "cell_type": "code",
   "execution_count": 4,
   "metadata": {
    "scrolled": true
   },
   "outputs": [
    {
     "name": "stdout",
     "output_type": "stream",
     "text": [
      "----------------------- EXPERIMENTO 1 -----------------------\n",
      "criando base de treino para o experimento 1\n"
     ]
    },
    {
     "data": {
      "application/vnd.jupyter.widget-view+json": {
       "model_id": "2bd97ba05d9d45fbaf3449d2157c4a9f",
       "version_major": 2,
       "version_minor": 0
      },
      "text/plain": [
       "HBox(children=(IntProgress(value=0, max=26650), HTML(value='')))"
      ]
     },
     "metadata": {},
     "output_type": "display_data"
    },
    {
     "name": "stdout",
     "output_type": "stream",
     "text": [
      "\n",
      "15899605 tokens copiados com sucesso\n",
      "preparando documentos para extração do vocabulário:\n"
     ]
    },
    {
     "data": {
      "application/vnd.jupyter.widget-view+json": {
       "model_id": "d8b7548814954731807459f1f1b55d29",
       "version_major": 2,
       "version_minor": 0
      },
      "text/plain": [
       "HBox(children=(IntProgress(value=0, max=26650), HTML(value='')))"
      ]
     },
     "metadata": {},
     "output_type": "display_data"
    },
    {
     "name": "stdout",
     "output_type": "stream",
     "text": [
      "\n",
      "extraindo termos com base no ICA\n"
     ]
    },
    {
     "data": {
      "application/vnd.jupyter.widget-view+json": {
       "model_id": "9b0ff0f3a3304c79bca0823d2b63b851",
       "version_major": 2,
       "version_minor": 0
      },
      "text/plain": [
       "HBox(children=(IntProgress(value=0, max=125), HTML(value='')))"
      ]
     },
     "metadata": {},
     "output_type": "display_data"
    },
    {
     "name": "stdout",
     "output_type": "stream",
     "text": [
      "\n",
      "-processando strings do corpus\n",
      "-treinando vetorizador\n",
      "-ICA processado\n",
      "extraindo termos com base na frequência - geralmente leva menos de 4 minutos\n",
      "extraindo termos do tesauro\n",
      "extração de vocabulário concluída!\n",
      "treinando modelo word2vec\n"
     ]
    },
    {
     "name": "stderr",
     "output_type": "stream",
     "text": [
      "2021-02-24 22:03:35,056 : INFO : collecting all words and their counts\n",
      "2021-02-24 22:03:35,062 : INFO : PROGRESS: at sentence #0, processed 0 words, keeping 0 word types\n",
      "2021-02-24 22:03:35,128 : INFO : PROGRESS: at sentence #10000, processed 242907 words, keeping 13876 word types\n",
      "2021-02-24 22:03:35,195 : INFO : PROGRESS: at sentence #20000, processed 481179 words, keeping 18984 word types\n",
      "2021-02-24 22:03:35,263 : INFO : PROGRESS: at sentence #30000, processed 720053 words, keeping 22377 word types\n",
      "2021-02-24 22:03:35,332 : INFO : PROGRESS: at sentence #40000, processed 967052 words, keeping 25639 word types\n",
      "2021-02-24 22:03:35,398 : INFO : PROGRESS: at sentence #50000, processed 1210019 words, keeping 28222 word types\n",
      "2021-02-24 22:03:35,466 : INFO : PROGRESS: at sentence #60000, processed 1453511 words, keeping 30609 word types\n",
      "2021-02-24 22:03:35,533 : INFO : PROGRESS: at sentence #70000, processed 1692671 words, keeping 32774 word types\n",
      "2021-02-24 22:03:35,605 : INFO : PROGRESS: at sentence #80000, processed 1941461 words, keeping 34589 word types\n",
      "2021-02-24 22:03:35,675 : INFO : PROGRESS: at sentence #90000, processed 2190980 words, keeping 36316 word types\n",
      "2021-02-24 22:03:35,746 : INFO : PROGRESS: at sentence #100000, processed 2443362 words, keeping 37947 word types\n",
      "2021-02-24 22:03:35,813 : INFO : PROGRESS: at sentence #110000, processed 2688195 words, keeping 39421 word types\n",
      "2021-02-24 22:03:35,879 : INFO : PROGRESS: at sentence #120000, processed 2927746 words, keeping 40845 word types\n",
      "2021-02-24 22:03:35,947 : INFO : PROGRESS: at sentence #130000, processed 3168195 words, keeping 42149 word types\n",
      "2021-02-24 22:03:36,019 : INFO : PROGRESS: at sentence #140000, processed 3414411 words, keeping 43556 word types\n",
      "2021-02-24 22:03:36,089 : INFO : PROGRESS: at sentence #150000, processed 3659850 words, keeping 44885 word types\n",
      "2021-02-24 22:03:36,158 : INFO : PROGRESS: at sentence #160000, processed 3900091 words, keeping 45976 word types\n",
      "2021-02-24 22:03:36,231 : INFO : PROGRESS: at sentence #170000, processed 4149921 words, keeping 47140 word types\n",
      "2021-02-24 22:03:36,303 : INFO : PROGRESS: at sentence #180000, processed 4393483 words, keeping 48409 word types\n",
      "2021-02-24 22:03:36,373 : INFO : PROGRESS: at sentence #190000, processed 4630091 words, keeping 49521 word types\n",
      "2021-02-24 22:03:36,447 : INFO : PROGRESS: at sentence #200000, processed 4872606 words, keeping 50574 word types\n",
      "2021-02-24 22:03:36,522 : INFO : PROGRESS: at sentence #210000, processed 5117148 words, keeping 51545 word types\n",
      "2021-02-24 22:03:36,597 : INFO : PROGRESS: at sentence #220000, processed 5358163 words, keeping 52566 word types\n",
      "2021-02-24 22:03:36,669 : INFO : PROGRESS: at sentence #230000, processed 5603239 words, keeping 53459 word types\n",
      "2021-02-24 22:03:36,745 : INFO : PROGRESS: at sentence #240000, processed 5845609 words, keeping 54401 word types\n",
      "2021-02-24 22:03:36,818 : INFO : PROGRESS: at sentence #250000, processed 6082859 words, keeping 55277 word types\n",
      "2021-02-24 22:03:36,889 : INFO : PROGRESS: at sentence #260000, processed 6324064 words, keeping 56126 word types\n",
      "2021-02-24 22:03:36,963 : INFO : PROGRESS: at sentence #270000, processed 6560273 words, keeping 56964 word types\n",
      "2021-02-24 22:03:37,032 : INFO : PROGRESS: at sentence #280000, processed 6795149 words, keeping 57832 word types\n",
      "2021-02-24 22:03:37,103 : INFO : PROGRESS: at sentence #290000, processed 7049021 words, keeping 58682 word types\n",
      "2021-02-24 22:03:37,175 : INFO : PROGRESS: at sentence #300000, processed 7293521 words, keeping 59542 word types\n",
      "2021-02-24 22:03:37,245 : INFO : PROGRESS: at sentence #310000, processed 7532372 words, keeping 60336 word types\n",
      "2021-02-24 22:03:37,315 : INFO : PROGRESS: at sentence #320000, processed 7780902 words, keeping 61166 word types\n",
      "2021-02-24 22:03:37,391 : INFO : PROGRESS: at sentence #330000, processed 8015713 words, keeping 61980 word types\n",
      "2021-02-24 22:03:37,459 : INFO : PROGRESS: at sentence #340000, processed 8262117 words, keeping 62743 word types\n",
      "2021-02-24 22:03:37,530 : INFO : PROGRESS: at sentence #350000, processed 8509032 words, keeping 63556 word types\n",
      "2021-02-24 22:03:37,604 : INFO : PROGRESS: at sentence #360000, processed 8750954 words, keeping 64311 word types\n",
      "2021-02-24 22:03:37,675 : INFO : PROGRESS: at sentence #370000, processed 8998569 words, keeping 65030 word types\n",
      "2021-02-24 22:03:37,744 : INFO : PROGRESS: at sentence #380000, processed 9240973 words, keeping 65757 word types\n",
      "2021-02-24 22:03:37,814 : INFO : PROGRESS: at sentence #390000, processed 9485452 words, keeping 66450 word types\n",
      "2021-02-24 22:03:37,881 : INFO : PROGRESS: at sentence #400000, processed 9724231 words, keeping 67144 word types\n",
      "2021-02-24 22:03:37,951 : INFO : PROGRESS: at sentence #410000, processed 9967935 words, keeping 67918 word types\n",
      "2021-02-24 22:03:38,019 : INFO : PROGRESS: at sentence #420000, processed 10206233 words, keeping 68529 word types\n",
      "2021-02-24 22:03:38,086 : INFO : PROGRESS: at sentence #430000, processed 10446660 words, keeping 69137 word types\n",
      "2021-02-24 22:03:38,162 : INFO : PROGRESS: at sentence #440000, processed 10688250 words, keeping 69813 word types\n",
      "2021-02-24 22:03:38,231 : INFO : PROGRESS: at sentence #450000, processed 10933957 words, keeping 70594 word types\n",
      "2021-02-24 22:03:38,299 : INFO : PROGRESS: at sentence #460000, processed 11181145 words, keeping 71247 word types\n",
      "2021-02-24 22:03:38,373 : INFO : PROGRESS: at sentence #470000, processed 11435358 words, keeping 71900 word types\n",
      "2021-02-24 22:03:38,439 : INFO : PROGRESS: at sentence #480000, processed 11677907 words, keeping 72500 word types\n",
      "2021-02-24 22:03:38,505 : INFO : PROGRESS: at sentence #490000, processed 11919740 words, keeping 73058 word types\n",
      "2021-02-24 22:03:38,574 : INFO : PROGRESS: at sentence #500000, processed 12161427 words, keeping 73691 word types\n",
      "2021-02-24 22:03:38,644 : INFO : PROGRESS: at sentence #510000, processed 12409926 words, keeping 74349 word types\n",
      "2021-02-24 22:03:38,714 : INFO : PROGRESS: at sentence #520000, processed 12652516 words, keeping 74900 word types\n",
      "2021-02-24 22:03:38,787 : INFO : PROGRESS: at sentence #530000, processed 12899614 words, keeping 75547 word types\n",
      "2021-02-24 22:03:38,861 : INFO : PROGRESS: at sentence #540000, processed 13143845 words, keeping 76202 word types\n",
      "2021-02-24 22:03:38,930 : INFO : PROGRESS: at sentence #550000, processed 13391601 words, keeping 76795 word types\n",
      "2021-02-24 22:03:39,009 : INFO : PROGRESS: at sentence #560000, processed 13634359 words, keeping 77344 word types\n",
      "2021-02-24 22:03:39,079 : INFO : PROGRESS: at sentence #570000, processed 13882483 words, keeping 77877 word types\n",
      "2021-02-24 22:03:39,149 : INFO : PROGRESS: at sentence #580000, processed 14127972 words, keeping 78468 word types\n",
      "2021-02-24 22:03:39,217 : INFO : PROGRESS: at sentence #590000, processed 14372915 words, keeping 79060 word types\n",
      "2021-02-24 22:03:39,284 : INFO : PROGRESS: at sentence #600000, processed 14614077 words, keeping 79638 word types\n",
      "2021-02-24 22:03:39,353 : INFO : PROGRESS: at sentence #610000, processed 14854282 words, keeping 80182 word types\n",
      "2021-02-24 22:03:39,424 : INFO : PROGRESS: at sentence #620000, processed 15093744 words, keeping 80669 word types\n",
      "2021-02-24 22:03:39,469 : INFO : collected 81067 word types from a corpus of 15253766 raw words and 626618 sentences\n",
      "2021-02-24 22:03:39,470 : INFO : Loading a fresh vocabulary\n",
      "2021-02-24 22:03:39,523 : INFO : effective_min_count=5 retains 32517 unique words (40% of original 81067, drops 48550)\n",
      "2021-02-24 22:03:39,523 : INFO : effective_min_count=5 leaves 15172313 word corpus (99% of original 15253766, drops 81453)\n",
      "2021-02-24 22:03:39,605 : INFO : deleting the raw counts dictionary of 81067 items\n",
      "2021-02-24 22:03:39,608 : INFO : sample=1e-05 downsamples 3222 most-common words\n",
      "2021-02-24 22:03:39,608 : INFO : downsampling leaves estimated 3664505 word corpus (24.2% of prior 15172313)\n",
      "2021-02-24 22:03:39,629 : INFO : constructing a huffman tree from 32517 words\n",
      "2021-02-24 22:03:40,332 : INFO : built huffman tree with maximum node depth 22\n",
      "2021-02-24 22:03:40,382 : INFO : estimated required memory for 32517 words and 100 dimensions: 61782300 bytes\n"
     ]
    },
    {
     "name": "stderr",
     "output_type": "stream",
     "text": [
      "2021-02-24 22:03:40,383 : INFO : resetting layer weights\n",
      "2021-02-24 22:03:40,703 : INFO : training model with 12 workers on 32517 vocabulary and 100 features, using sg=1 hs=1 sample=1e-05 negative=5 window=5\n",
      "2021-02-24 22:03:41,719 : INFO : EPOCH 1 - PROGRESS: at 8.92% examples, 323983 words/s, in_qsize 0, out_qsize 1\n",
      "2021-02-24 22:03:42,730 : INFO : EPOCH 1 - PROGRESS: at 17.59% examples, 321281 words/s, in_qsize 0, out_qsize 0\n",
      "2021-02-24 22:03:43,744 : INFO : EPOCH 1 - PROGRESS: at 25.54% examples, 308992 words/s, in_qsize 0, out_qsize 0\n",
      "2021-02-24 22:03:44,748 : INFO : EPOCH 1 - PROGRESS: at 33.32% examples, 303377 words/s, in_qsize 0, out_qsize 1\n",
      "2021-02-24 22:03:45,761 : INFO : EPOCH 1 - PROGRESS: at 41.57% examples, 301945 words/s, in_qsize 0, out_qsize 0\n",
      "2021-02-24 22:03:46,768 : INFO : EPOCH 1 - PROGRESS: at 50.26% examples, 304413 words/s, in_qsize 0, out_qsize 0\n",
      "2021-02-24 22:03:47,768 : INFO : EPOCH 1 - PROGRESS: at 58.35% examples, 303653 words/s, in_qsize 0, out_qsize 0\n",
      "2021-02-24 22:03:48,775 : INFO : EPOCH 1 - PROGRESS: at 67.04% examples, 304789 words/s, in_qsize 0, out_qsize 0\n",
      "2021-02-24 22:03:49,780 : INFO : EPOCH 1 - PROGRESS: at 74.88% examples, 302975 words/s, in_qsize 0, out_qsize 1\n",
      "2021-02-24 22:03:50,781 : INFO : EPOCH 1 - PROGRESS: at 83.05% examples, 302447 words/s, in_qsize 0, out_qsize 0\n",
      "2021-02-24 22:03:51,782 : INFO : EPOCH 1 - PROGRESS: at 91.01% examples, 301701 words/s, in_qsize 1, out_qsize 0\n",
      "2021-02-24 22:03:52,784 : INFO : EPOCH 1 - PROGRESS: at 98.55% examples, 299319 words/s, in_qsize 0, out_qsize 0\n",
      "2021-02-24 22:03:52,951 : INFO : worker thread finished; awaiting finish of 11 more threads\n",
      "2021-02-24 22:03:52,954 : INFO : worker thread finished; awaiting finish of 10 more threads\n",
      "2021-02-24 22:03:52,956 : INFO : worker thread finished; awaiting finish of 9 more threads\n",
      "2021-02-24 22:03:52,958 : INFO : worker thread finished; awaiting finish of 8 more threads\n",
      "2021-02-24 22:03:52,960 : INFO : worker thread finished; awaiting finish of 7 more threads\n",
      "2021-02-24 22:03:52,962 : INFO : worker thread finished; awaiting finish of 6 more threads\n",
      "2021-02-24 22:03:52,965 : INFO : worker thread finished; awaiting finish of 5 more threads\n",
      "2021-02-24 22:03:52,967 : INFO : worker thread finished; awaiting finish of 4 more threads\n",
      "2021-02-24 22:03:52,977 : INFO : worker thread finished; awaiting finish of 3 more threads\n",
      "2021-02-24 22:03:52,983 : INFO : worker thread finished; awaiting finish of 2 more threads\n",
      "2021-02-24 22:03:52,985 : INFO : worker thread finished; awaiting finish of 1 more threads\n",
      "2021-02-24 22:03:52,988 : INFO : worker thread finished; awaiting finish of 0 more threads\n",
      "2021-02-24 22:03:52,989 : INFO : EPOCH - 1 : training on 15253766 raw words (3666215 effective words) took 12.3s, 298521 effective words/s\n",
      "2021-02-24 22:03:53,996 : INFO : EPOCH 2 - PROGRESS: at 8.27% examples, 302556 words/s, in_qsize 0, out_qsize 0\n",
      "2021-02-24 22:03:54,998 : INFO : EPOCH 2 - PROGRESS: at 15.38% examples, 282794 words/s, in_qsize 0, out_qsize 0\n",
      "2021-02-24 22:03:56,007 : INFO : EPOCH 2 - PROGRESS: at 23.83% examples, 290747 words/s, in_qsize 1, out_qsize 0\n",
      "2021-02-24 22:03:57,027 : INFO : EPOCH 2 - PROGRESS: at 31.70% examples, 288808 words/s, in_qsize 0, out_qsize 2\n",
      "2021-02-24 22:03:58,036 : INFO : EPOCH 2 - PROGRESS: at 40.38% examples, 293809 words/s, in_qsize 0, out_qsize 0\n",
      "2021-02-24 22:03:59,038 : INFO : EPOCH 2 - PROGRESS: at 48.00% examples, 291345 words/s, in_qsize 0, out_qsize 0\n",
      "2021-02-24 22:04:00,041 : INFO : EPOCH 2 - PROGRESS: at 56.51% examples, 294531 words/s, in_qsize 0, out_qsize 0\n",
      "2021-02-24 22:04:01,052 : INFO : EPOCH 2 - PROGRESS: at 65.24% examples, 297020 words/s, in_qsize 1, out_qsize 1\n",
      "2021-02-24 22:04:02,060 : INFO : EPOCH 2 - PROGRESS: at 73.00% examples, 295003 words/s, in_qsize 0, out_qsize 0\n",
      "2021-02-24 22:04:03,071 : INFO : EPOCH 2 - PROGRESS: at 79.68% examples, 289921 words/s, in_qsize 22, out_qsize 0\n",
      "2021-02-24 22:04:04,086 : INFO : EPOCH 2 - PROGRESS: at 88.28% examples, 292086 words/s, in_qsize 0, out_qsize 1\n",
      "2021-02-24 22:04:05,092 : INFO : EPOCH 2 - PROGRESS: at 96.91% examples, 293714 words/s, in_qsize 0, out_qsize 1\n",
      "2021-02-24 22:04:05,413 : INFO : worker thread finished; awaiting finish of 11 more threads\n",
      "2021-02-24 22:04:05,416 : INFO : worker thread finished; awaiting finish of 10 more threads\n",
      "2021-02-24 22:04:05,417 : INFO : worker thread finished; awaiting finish of 9 more threads\n",
      "2021-02-24 22:04:05,418 : INFO : worker thread finished; awaiting finish of 8 more threads\n",
      "2021-02-24 22:04:05,419 : INFO : worker thread finished; awaiting finish of 7 more threads\n",
      "2021-02-24 22:04:05,420 : INFO : worker thread finished; awaiting finish of 6 more threads\n",
      "2021-02-24 22:04:05,421 : INFO : worker thread finished; awaiting finish of 5 more threads\n",
      "2021-02-24 22:04:05,422 : INFO : worker thread finished; awaiting finish of 4 more threads\n",
      "2021-02-24 22:04:05,428 : INFO : worker thread finished; awaiting finish of 3 more threads\n",
      "2021-02-24 22:04:05,437 : INFO : worker thread finished; awaiting finish of 2 more threads\n",
      "2021-02-24 22:04:05,438 : INFO : worker thread finished; awaiting finish of 1 more threads\n",
      "2021-02-24 22:04:05,439 : INFO : worker thread finished; awaiting finish of 0 more threads\n",
      "2021-02-24 22:04:05,440 : INFO : EPOCH - 2 : training on 15253766 raw words (3663992 effective words) took 12.4s, 294402 effective words/s\n",
      "2021-02-24 22:04:06,449 : INFO : EPOCH 3 - PROGRESS: at 8.15% examples, 296510 words/s, in_qsize 0, out_qsize 0\n",
      "2021-02-24 22:04:07,455 : INFO : EPOCH 3 - PROGRESS: at 16.31% examples, 298363 words/s, in_qsize 1, out_qsize 0\n",
      "2021-02-24 22:04:08,455 : INFO : EPOCH 3 - PROGRESS: at 24.62% examples, 300637 words/s, in_qsize 0, out_qsize 0\n",
      "2021-02-24 22:04:09,463 : INFO : EPOCH 3 - PROGRESS: at 32.60% examples, 298151 words/s, in_qsize 0, out_qsize 0\n",
      "2021-02-24 22:04:10,468 : INFO : EPOCH 3 - PROGRESS: at 41.17% examples, 300903 words/s, in_qsize 0, out_qsize 1\n",
      "2021-02-24 22:04:11,475 : INFO : EPOCH 3 - PROGRESS: at 49.20% examples, 299557 words/s, in_qsize 1, out_qsize 0\n",
      "2021-02-24 22:04:12,486 : INFO : EPOCH 3 - PROGRESS: at 57.45% examples, 299656 words/s, in_qsize 2, out_qsize 0\n",
      "2021-02-24 22:04:13,495 : INFO : EPOCH 3 - PROGRESS: at 66.18% examples, 301569 words/s, in_qsize 0, out_qsize 1\n",
      "2021-02-24 22:04:14,499 : INFO : EPOCH 3 - PROGRESS: at 74.82% examples, 303267 words/s, in_qsize 0, out_qsize 0\n",
      "2021-02-24 22:04:15,509 : INFO : EPOCH 3 - PROGRESS: at 83.30% examples, 303632 words/s, in_qsize 0, out_qsize 0\n",
      "2021-02-24 22:04:16,530 : INFO : EPOCH 3 - PROGRESS: at 91.16% examples, 301833 words/s, in_qsize 23, out_qsize 0\n",
      "2021-02-24 22:04:17,458 : INFO : worker thread finished; awaiting finish of 11 more threads\n",
      "2021-02-24 22:04:17,459 : INFO : worker thread finished; awaiting finish of 10 more threads\n",
      "2021-02-24 22:04:17,461 : INFO : worker thread finished; awaiting finish of 9 more threads\n",
      "2021-02-24 22:04:17,462 : INFO : worker thread finished; awaiting finish of 8 more threads\n",
      "2021-02-24 22:04:17,463 : INFO : worker thread finished; awaiting finish of 7 more threads\n",
      "2021-02-24 22:04:17,464 : INFO : worker thread finished; awaiting finish of 6 more threads\n",
      "2021-02-24 22:04:17,466 : INFO : worker thread finished; awaiting finish of 5 more threads\n",
      "2021-02-24 22:04:17,467 : INFO : worker thread finished; awaiting finish of 4 more threads\n",
      "2021-02-24 22:04:17,475 : INFO : worker thread finished; awaiting finish of 3 more threads\n",
      "2021-02-24 22:04:17,476 : INFO : worker thread finished; awaiting finish of 2 more threads\n",
      "2021-02-24 22:04:17,481 : INFO : worker thread finished; awaiting finish of 1 more threads\n",
      "2021-02-24 22:04:17,483 : INFO : worker thread finished; awaiting finish of 0 more threads\n",
      "2021-02-24 22:04:17,484 : INFO : EPOCH - 3 : training on 15253766 raw words (3665986 effective words) took 12.0s, 304512 effective words/s\n",
      "2021-02-24 22:04:18,492 : INFO : EPOCH 4 - PROGRESS: at 7.21% examples, 262211 words/s, in_qsize 23, out_qsize 1\n",
      "2021-02-24 22:04:19,498 : INFO : EPOCH 4 - PROGRESS: at 16.31% examples, 298518 words/s, in_qsize 0, out_qsize 0\n",
      "2021-02-24 22:04:20,499 : INFO : EPOCH 4 - PROGRESS: at 24.75% examples, 302275 words/s, in_qsize 0, out_qsize 0\n"
     ]
    },
    {
     "name": "stderr",
     "output_type": "stream",
     "text": [
      "2021-02-24 22:04:21,504 : INFO : EPOCH 4 - PROGRESS: at 33.25% examples, 304335 words/s, in_qsize 0, out_qsize 2\n",
      "2021-02-24 22:04:22,519 : INFO : EPOCH 4 - PROGRESS: at 41.70% examples, 304245 words/s, in_qsize 0, out_qsize 0\n",
      "2021-02-24 22:04:23,532 : INFO : EPOCH 4 - PROGRESS: at 50.32% examples, 305698 words/s, in_qsize 2, out_qsize 0\n",
      "2021-02-24 22:04:24,532 : INFO : EPOCH 4 - PROGRESS: at 58.74% examples, 306383 words/s, in_qsize 0, out_qsize 0\n",
      "2021-02-24 22:04:25,542 : INFO : EPOCH 4 - PROGRESS: at 66.17% examples, 301442 words/s, in_qsize 0, out_qsize 6\n",
      "2021-02-24 22:04:26,565 : INFO : EPOCH 4 - PROGRESS: at 75.00% examples, 303432 words/s, in_qsize 1, out_qsize 1\n",
      "2021-02-24 22:04:27,569 : INFO : EPOCH 4 - PROGRESS: at 83.76% examples, 304782 words/s, in_qsize 0, out_qsize 0\n",
      "2021-02-24 22:04:28,579 : INFO : EPOCH 4 - PROGRESS: at 92.13% examples, 304797 words/s, in_qsize 0, out_qsize 0\n",
      "2021-02-24 22:04:29,460 : INFO : worker thread finished; awaiting finish of 11 more threads\n",
      "2021-02-24 22:04:29,461 : INFO : worker thread finished; awaiting finish of 10 more threads\n",
      "2021-02-24 22:04:29,463 : INFO : worker thread finished; awaiting finish of 9 more threads\n",
      "2021-02-24 22:04:29,464 : INFO : worker thread finished; awaiting finish of 8 more threads\n",
      "2021-02-24 22:04:29,465 : INFO : worker thread finished; awaiting finish of 7 more threads\n",
      "2021-02-24 22:04:29,467 : INFO : worker thread finished; awaiting finish of 6 more threads\n",
      "2021-02-24 22:04:29,468 : INFO : worker thread finished; awaiting finish of 5 more threads\n",
      "2021-02-24 22:04:29,469 : INFO : worker thread finished; awaiting finish of 4 more threads\n",
      "2021-02-24 22:04:29,478 : INFO : worker thread finished; awaiting finish of 3 more threads\n",
      "2021-02-24 22:04:29,483 : INFO : worker thread finished; awaiting finish of 2 more threads\n",
      "2021-02-24 22:04:29,485 : INFO : worker thread finished; awaiting finish of 1 more threads\n",
      "2021-02-24 22:04:29,487 : INFO : worker thread finished; awaiting finish of 0 more threads\n",
      "2021-02-24 22:04:29,488 : INFO : EPOCH - 4 : training on 15253766 raw words (3664657 effective words) took 12.0s, 305429 effective words/s\n",
      "2021-02-24 22:04:30,503 : INFO : EPOCH 5 - PROGRESS: at 8.41% examples, 304066 words/s, in_qsize 0, out_qsize 0\n",
      "2021-02-24 22:04:31,521 : INFO : EPOCH 5 - PROGRESS: at 16.68% examples, 302472 words/s, in_qsize 0, out_qsize 2\n",
      "2021-02-24 22:04:32,571 : INFO : EPOCH 5 - PROGRESS: at 25.23% examples, 300701 words/s, in_qsize 1, out_qsize 0\n",
      "2021-02-24 22:04:33,579 : INFO : EPOCH 5 - PROGRESS: at 33.84% examples, 304066 words/s, in_qsize 0, out_qsize 1\n",
      "2021-02-24 22:04:34,585 : INFO : EPOCH 5 - PROGRESS: at 42.31% examples, 304424 words/s, in_qsize 0, out_qsize 0\n",
      "2021-02-24 22:04:35,590 : INFO : EPOCH 5 - PROGRESS: at 50.59% examples, 304431 words/s, in_qsize 0, out_qsize 2\n",
      "2021-02-24 22:04:36,608 : INFO : EPOCH 5 - PROGRESS: at 58.74% examples, 303193 words/s, in_qsize 0, out_qsize 0\n",
      "2021-02-24 22:04:37,611 : INFO : EPOCH 5 - PROGRESS: at 67.43% examples, 304388 words/s, in_qsize 0, out_qsize 0\n",
      "2021-02-24 22:04:38,617 : INFO : EPOCH 5 - PROGRESS: at 75.64% examples, 304295 words/s, in_qsize 0, out_qsize 0\n",
      "2021-02-24 22:04:39,622 : INFO : EPOCH 5 - PROGRESS: at 84.22% examples, 304846 words/s, in_qsize 0, out_qsize 0\n",
      "2021-02-24 22:04:40,625 : INFO : EPOCH 5 - PROGRESS: at 92.32% examples, 304257 words/s, in_qsize 0, out_qsize 0\n",
      "2021-02-24 22:04:41,509 : INFO : worker thread finished; awaiting finish of 11 more threads\n",
      "2021-02-24 22:04:41,510 : INFO : worker thread finished; awaiting finish of 10 more threads\n",
      "2021-02-24 22:04:41,511 : INFO : worker thread finished; awaiting finish of 9 more threads\n",
      "2021-02-24 22:04:41,513 : INFO : worker thread finished; awaiting finish of 8 more threads\n",
      "2021-02-24 22:04:41,513 : INFO : worker thread finished; awaiting finish of 7 more threads\n",
      "2021-02-24 22:04:41,514 : INFO : worker thread finished; awaiting finish of 6 more threads\n",
      "2021-02-24 22:04:41,516 : INFO : worker thread finished; awaiting finish of 5 more threads\n",
      "2021-02-24 22:04:41,517 : INFO : worker thread finished; awaiting finish of 4 more threads\n",
      "2021-02-24 22:04:41,524 : INFO : worker thread finished; awaiting finish of 3 more threads\n",
      "2021-02-24 22:04:41,533 : INFO : worker thread finished; awaiting finish of 2 more threads\n",
      "2021-02-24 22:04:41,535 : INFO : worker thread finished; awaiting finish of 1 more threads\n",
      "2021-02-24 22:04:41,537 : INFO : worker thread finished; awaiting finish of 0 more threads\n",
      "2021-02-24 22:04:41,538 : INFO : EPOCH - 5 : training on 15253766 raw words (3664677 effective words) took 12.0s, 304244 effective words/s\n",
      "2021-02-24 22:04:42,548 : INFO : EPOCH 6 - PROGRESS: at 8.54% examples, 311098 words/s, in_qsize 0, out_qsize 0\n",
      "2021-02-24 22:04:43,553 : INFO : EPOCH 6 - PROGRESS: at 16.44% examples, 300650 words/s, in_qsize 0, out_qsize 1\n",
      "2021-02-24 22:04:44,557 : INFO : EPOCH 6 - PROGRESS: at 25.16% examples, 306386 words/s, in_qsize 0, out_qsize 2\n",
      "2021-02-24 22:04:45,572 : INFO : EPOCH 6 - PROGRESS: at 33.64% examples, 306721 words/s, in_qsize 0, out_qsize 0\n",
      "2021-02-24 22:04:46,582 : INFO : EPOCH 6 - PROGRESS: at 42.31% examples, 307801 words/s, in_qsize 0, out_qsize 0\n",
      "2021-02-24 22:04:47,588 : INFO : EPOCH 6 - PROGRESS: at 50.71% examples, 307886 words/s, in_qsize 0, out_qsize 0\n",
      "2021-02-24 22:04:48,592 : INFO : EPOCH 6 - PROGRESS: at 59.32% examples, 309007 words/s, in_qsize 0, out_qsize 0\n",
      "2021-02-24 22:04:49,596 : INFO : EPOCH 6 - PROGRESS: at 68.03% examples, 309515 words/s, in_qsize 0, out_qsize 0\n",
      "2021-02-24 22:04:50,606 : INFO : EPOCH 6 - PROGRESS: at 76.52% examples, 309700 words/s, in_qsize 0, out_qsize 0\n",
      "2021-02-24 22:04:51,616 : INFO : EPOCH 6 - PROGRESS: at 84.86% examples, 308790 words/s, in_qsize 0, out_qsize 0\n",
      "2021-02-24 22:04:52,633 : INFO : EPOCH 6 - PROGRESS: at 93.35% examples, 308762 words/s, in_qsize 0, out_qsize 2\n",
      "2021-02-24 22:04:53,348 : INFO : worker thread finished; awaiting finish of 11 more threads\n",
      "2021-02-24 22:04:53,350 : INFO : worker thread finished; awaiting finish of 10 more threads\n",
      "2021-02-24 22:04:53,351 : INFO : worker thread finished; awaiting finish of 9 more threads\n",
      "2021-02-24 22:04:53,353 : INFO : worker thread finished; awaiting finish of 8 more threads\n",
      "2021-02-24 22:04:53,354 : INFO : worker thread finished; awaiting finish of 7 more threads\n",
      "2021-02-24 22:04:53,355 : INFO : worker thread finished; awaiting finish of 6 more threads\n",
      "2021-02-24 22:04:53,356 : INFO : worker thread finished; awaiting finish of 5 more threads\n",
      "2021-02-24 22:04:53,358 : INFO : worker thread finished; awaiting finish of 4 more threads\n",
      "2021-02-24 22:04:53,370 : INFO : worker thread finished; awaiting finish of 3 more threads\n",
      "2021-02-24 22:04:53,372 : INFO : worker thread finished; awaiting finish of 2 more threads\n",
      "2021-02-24 22:04:53,373 : INFO : worker thread finished; awaiting finish of 1 more threads\n",
      "2021-02-24 22:04:53,377 : INFO : worker thread finished; awaiting finish of 0 more threads\n",
      "2021-02-24 22:04:53,378 : INFO : EPOCH - 6 : training on 15253766 raw words (3663483 effective words) took 11.8s, 309533 effective words/s\n",
      "2021-02-24 22:04:54,396 : INFO : EPOCH 7 - PROGRESS: at 8.41% examples, 304085 words/s, in_qsize 0, out_qsize 1\n",
      "2021-02-24 22:04:55,397 : INFO : EPOCH 7 - PROGRESS: at 16.31% examples, 297956 words/s, in_qsize 1, out_qsize 0\n",
      "2021-02-24 22:04:56,406 : INFO : EPOCH 7 - PROGRESS: at 24.62% examples, 299379 words/s, in_qsize 0, out_qsize 1\n",
      "2021-02-24 22:04:57,418 : INFO : EPOCH 7 - PROGRESS: at 32.41% examples, 295039 words/s, in_qsize 13, out_qsize 1\n",
      "2021-02-24 22:04:58,419 : INFO : EPOCH 7 - PROGRESS: at 41.31% examples, 300820 words/s, in_qsize 0, out_qsize 0\n",
      "2021-02-24 22:04:59,430 : INFO : EPOCH 7 - PROGRESS: at 49.68% examples, 301323 words/s, in_qsize 0, out_qsize 0\n",
      "2021-02-24 22:05:00,433 : INFO : EPOCH 7 - PROGRESS: at 58.18% examples, 302898 words/s, in_qsize 0, out_qsize 0\n",
      "2021-02-24 22:05:01,434 : INFO : EPOCH 7 - PROGRESS: at 65.84% examples, 299994 words/s, in_qsize 23, out_qsize 0\n",
      "2021-02-24 22:05:02,442 : INFO : EPOCH 7 - PROGRESS: at 74.75% examples, 302857 words/s, in_qsize 1, out_qsize 0\n",
      "2021-02-24 22:05:03,454 : INFO : EPOCH 7 - PROGRESS: at 83.36% examples, 303659 words/s, in_qsize 0, out_qsize 0\n"
     ]
    },
    {
     "name": "stderr",
     "output_type": "stream",
     "text": [
      "2021-02-24 22:05:04,456 : INFO : EPOCH 7 - PROGRESS: at 91.49% examples, 303152 words/s, in_qsize 15, out_qsize 0\n",
      "2021-02-24 22:05:05,358 : INFO : worker thread finished; awaiting finish of 11 more threads\n",
      "2021-02-24 22:05:05,359 : INFO : worker thread finished; awaiting finish of 10 more threads\n",
      "2021-02-24 22:05:05,361 : INFO : worker thread finished; awaiting finish of 9 more threads\n",
      "2021-02-24 22:05:05,363 : INFO : worker thread finished; awaiting finish of 8 more threads\n",
      "2021-02-24 22:05:05,364 : INFO : worker thread finished; awaiting finish of 7 more threads\n",
      "2021-02-24 22:05:05,366 : INFO : worker thread finished; awaiting finish of 6 more threads\n",
      "2021-02-24 22:05:05,367 : INFO : worker thread finished; awaiting finish of 5 more threads\n",
      "2021-02-24 22:05:05,368 : INFO : worker thread finished; awaiting finish of 4 more threads\n",
      "2021-02-24 22:05:05,372 : INFO : worker thread finished; awaiting finish of 3 more threads\n",
      "2021-02-24 22:05:05,378 : INFO : worker thread finished; awaiting finish of 2 more threads\n",
      "2021-02-24 22:05:05,383 : INFO : worker thread finished; awaiting finish of 1 more threads\n",
      "2021-02-24 22:05:05,384 : INFO : worker thread finished; awaiting finish of 0 more threads\n",
      "2021-02-24 22:05:05,385 : INFO : EPOCH - 7 : training on 15253766 raw words (3664856 effective words) took 12.0s, 305343 effective words/s\n",
      "2021-02-24 22:05:06,396 : INFO : EPOCH 8 - PROGRESS: at 8.15% examples, 295392 words/s, in_qsize 0, out_qsize 0\n",
      "2021-02-24 22:05:07,399 : INFO : EPOCH 8 - PROGRESS: at 16.56% examples, 302922 words/s, in_qsize 0, out_qsize 2\n",
      "2021-02-24 22:05:08,401 : INFO : EPOCH 8 - PROGRESS: at 25.09% examples, 305558 words/s, in_qsize 0, out_qsize 0\n",
      "2021-02-24 22:05:09,405 : INFO : EPOCH 8 - PROGRESS: at 33.52% examples, 306456 words/s, in_qsize 0, out_qsize 0\n",
      "2021-02-24 22:05:10,444 : INFO : EPOCH 8 - PROGRESS: at 41.91% examples, 303898 words/s, in_qsize 15, out_qsize 0\n",
      "2021-02-24 22:05:11,447 : INFO : EPOCH 8 - PROGRESS: at 50.78% examples, 307606 words/s, in_qsize 0, out_qsize 0\n",
      "2021-02-24 22:05:12,457 : INFO : EPOCH 8 - PROGRESS: at 59.00% examples, 306432 words/s, in_qsize 0, out_qsize 0\n",
      "2021-02-24 22:05:13,460 : INFO : EPOCH 8 - PROGRESS: at 66.83% examples, 303463 words/s, in_qsize 9, out_qsize 0\n",
      "2021-02-24 22:05:14,471 : INFO : EPOCH 8 - PROGRESS: at 75.13% examples, 303575 words/s, in_qsize 0, out_qsize 0\n",
      "2021-02-24 22:05:15,482 : INFO : EPOCH 8 - PROGRESS: at 83.49% examples, 303376 words/s, in_qsize 1, out_qsize 0\n",
      "2021-02-24 22:05:16,490 : INFO : EPOCH 8 - PROGRESS: at 91.96% examples, 303795 words/s, in_qsize 0, out_qsize 0\n",
      "2021-02-24 22:05:17,377 : INFO : worker thread finished; awaiting finish of 11 more threads\n",
      "2021-02-24 22:05:17,394 : INFO : worker thread finished; awaiting finish of 10 more threads\n",
      "2021-02-24 22:05:17,396 : INFO : worker thread finished; awaiting finish of 9 more threads\n",
      "2021-02-24 22:05:17,397 : INFO : worker thread finished; awaiting finish of 8 more threads\n",
      "2021-02-24 22:05:17,398 : INFO : worker thread finished; awaiting finish of 7 more threads\n",
      "2021-02-24 22:05:17,399 : INFO : worker thread finished; awaiting finish of 6 more threads\n",
      "2021-02-24 22:05:17,400 : INFO : worker thread finished; awaiting finish of 5 more threads\n",
      "2021-02-24 22:05:17,412 : INFO : worker thread finished; awaiting finish of 4 more threads\n",
      "2021-02-24 22:05:17,420 : INFO : worker thread finished; awaiting finish of 3 more threads\n",
      "2021-02-24 22:05:17,426 : INFO : worker thread finished; awaiting finish of 2 more threads\n",
      "2021-02-24 22:05:17,429 : INFO : worker thread finished; awaiting finish of 1 more threads\n",
      "2021-02-24 22:05:17,432 : INFO : worker thread finished; awaiting finish of 0 more threads\n",
      "2021-02-24 22:05:17,434 : INFO : EPOCH - 8 : training on 15253766 raw words (3663436 effective words) took 12.0s, 304190 effective words/s\n",
      "2021-02-24 22:05:18,440 : INFO : EPOCH 9 - PROGRESS: at 8.29% examples, 302397 words/s, in_qsize 0, out_qsize 0\n",
      "2021-02-24 22:05:19,458 : INFO : EPOCH 9 - PROGRESS: at 16.37% examples, 297881 words/s, in_qsize 11, out_qsize 1\n",
      "2021-02-24 22:05:20,463 : INFO : EPOCH 9 - PROGRESS: at 25.29% examples, 306756 words/s, in_qsize 0, out_qsize 0\n",
      "2021-02-24 22:05:21,495 : INFO : EPOCH 9 - PROGRESS: at 32.91% examples, 298088 words/s, in_qsize 23, out_qsize 0\n",
      "2021-02-24 22:05:22,521 : INFO : EPOCH 9 - PROGRESS: at 42.30% examples, 305290 words/s, in_qsize 0, out_qsize 0\n",
      "2021-02-24 22:05:23,532 : INFO : EPOCH 9 - PROGRESS: at 50.84% examples, 306283 words/s, in_qsize 0, out_qsize 1\n",
      "2021-02-24 22:05:24,546 : INFO : EPOCH 9 - PROGRESS: at 59.19% examples, 305918 words/s, in_qsize 5, out_qsize 0\n",
      "2021-02-24 22:05:25,548 : INFO : EPOCH 9 - PROGRESS: at 68.10% examples, 307782 words/s, in_qsize 0, out_qsize 0\n",
      "2021-02-24 22:05:26,558 : INFO : EPOCH 9 - PROGRESS: at 75.64% examples, 304520 words/s, in_qsize 14, out_qsize 0\n",
      "2021-02-24 22:05:27,566 : INFO : EPOCH 9 - PROGRESS: at 84.73% examples, 306862 words/s, in_qsize 0, out_qsize 0\n",
      "2021-02-24 22:05:28,571 : INFO : EPOCH 9 - PROGRESS: at 92.83% examples, 305983 words/s, in_qsize 0, out_qsize 0\n",
      "2021-02-24 22:05:29,397 : INFO : worker thread finished; awaiting finish of 11 more threads\n",
      "2021-02-24 22:05:29,399 : INFO : worker thread finished; awaiting finish of 10 more threads\n",
      "2021-02-24 22:05:29,400 : INFO : worker thread finished; awaiting finish of 9 more threads\n",
      "2021-02-24 22:05:29,402 : INFO : worker thread finished; awaiting finish of 8 more threads\n",
      "2021-02-24 22:05:29,404 : INFO : worker thread finished; awaiting finish of 7 more threads\n",
      "2021-02-24 22:05:29,405 : INFO : worker thread finished; awaiting finish of 6 more threads\n",
      "2021-02-24 22:05:29,407 : INFO : worker thread finished; awaiting finish of 5 more threads\n",
      "2021-02-24 22:05:29,408 : INFO : worker thread finished; awaiting finish of 4 more threads\n",
      "2021-02-24 22:05:29,414 : INFO : worker thread finished; awaiting finish of 3 more threads\n",
      "2021-02-24 22:05:29,416 : INFO : worker thread finished; awaiting finish of 2 more threads\n",
      "2021-02-24 22:05:29,425 : INFO : worker thread finished; awaiting finish of 1 more threads\n",
      "2021-02-24 22:05:29,427 : INFO : worker thread finished; awaiting finish of 0 more threads\n",
      "2021-02-24 22:05:29,428 : INFO : EPOCH - 9 : training on 15253766 raw words (3664193 effective words) took 12.0s, 305622 effective words/s\n",
      "2021-02-24 22:05:30,434 : INFO : EPOCH 10 - PROGRESS: at 8.29% examples, 302511 words/s, in_qsize 0, out_qsize 0\n",
      "2021-02-24 22:05:31,435 : INFO : EPOCH 10 - PROGRESS: at 16.43% examples, 302095 words/s, in_qsize 0, out_qsize 1\n",
      "2021-02-24 22:05:32,439 : INFO : EPOCH 10 - PROGRESS: at 24.82% examples, 303589 words/s, in_qsize 0, out_qsize 0\n",
      "2021-02-24 22:05:33,450 : INFO : EPOCH 10 - PROGRESS: at 32.92% examples, 301277 words/s, in_qsize 0, out_qsize 0\n",
      "2021-02-24 22:05:34,451 : INFO : EPOCH 10 - PROGRESS: at 41.23% examples, 301516 words/s, in_qsize 0, out_qsize 0\n",
      "2021-02-24 22:05:35,460 : INFO : EPOCH 10 - PROGRESS: at 49.55% examples, 301580 words/s, in_qsize 1, out_qsize 0\n",
      "2021-02-24 22:05:36,471 : INFO : EPOCH 10 - PROGRESS: at 57.78% examples, 301443 words/s, in_qsize 1, out_qsize 2\n",
      "2021-02-24 22:05:37,491 : INFO : EPOCH 10 - PROGRESS: at 66.51% examples, 302644 words/s, in_qsize 11, out_qsize 0\n",
      "2021-02-24 22:05:38,496 : INFO : EPOCH 10 - PROGRESS: at 75.24% examples, 304839 words/s, in_qsize 0, out_qsize 1\n",
      "2021-02-24 22:05:39,516 : INFO : EPOCH 10 - PROGRESS: at 83.83% examples, 304884 words/s, in_qsize 0, out_qsize 2\n",
      "2021-02-24 22:05:40,522 : INFO : EPOCH 10 - PROGRESS: at 92.44% examples, 305942 words/s, in_qsize 0, out_qsize 0\n",
      "2021-02-24 22:05:41,342 : INFO : worker thread finished; awaiting finish of 11 more threads\n",
      "2021-02-24 22:05:41,348 : INFO : worker thread finished; awaiting finish of 10 more threads\n",
      "2021-02-24 22:05:41,350 : INFO : worker thread finished; awaiting finish of 9 more threads\n",
      "2021-02-24 22:05:41,351 : INFO : worker thread finished; awaiting finish of 8 more threads\n",
      "2021-02-24 22:05:41,353 : INFO : worker thread finished; awaiting finish of 7 more threads\n",
      "2021-02-24 22:05:41,359 : INFO : worker thread finished; awaiting finish of 6 more threads\n",
      "2021-02-24 22:05:41,366 : INFO : worker thread finished; awaiting finish of 5 more threads\n"
     ]
    },
    {
     "name": "stderr",
     "output_type": "stream",
     "text": [
      "2021-02-24 22:05:41,371 : INFO : worker thread finished; awaiting finish of 4 more threads\n",
      "2021-02-24 22:05:41,373 : INFO : worker thread finished; awaiting finish of 3 more threads\n",
      "2021-02-24 22:05:41,376 : INFO : worker thread finished; awaiting finish of 2 more threads\n",
      "2021-02-24 22:05:41,383 : INFO : worker thread finished; awaiting finish of 1 more threads\n",
      "2021-02-24 22:05:41,384 : INFO : worker thread finished; awaiting finish of 0 more threads\n",
      "2021-02-24 22:05:41,385 : INFO : EPOCH - 10 : training on 15253766 raw words (3665177 effective words) took 12.0s, 306650 effective words/s\n",
      "2021-02-24 22:05:41,386 : INFO : training on a 152537660 raw words (36646672 effective words) took 120.7s, 303663 effective words/s\n",
      "2021-02-24 22:05:41,387 : INFO : saving Word2Vec object under dados/experimento_1/w2v_jur.model, separately None\n",
      "2021-02-24 22:05:41,388 : INFO : not storing attribute vectors_norm\n",
      "2021-02-24 22:05:41,389 : INFO : not storing attribute cum_table\n",
      "2021-02-24 22:05:42,319 : INFO : saved dados/experimento_1/w2v_jur.model\n"
     ]
    },
    {
     "name": "stdout",
     "output_type": "stream",
     "text": [
      "treinando modelo word2vec\n"
     ]
    },
    {
     "name": "stderr",
     "output_type": "stream",
     "text": [
      "2021-02-24 22:05:42,321 : INFO : resetting layer weights\n",
      "2021-02-24 22:05:47,665 : INFO : collecting all words and their counts\n",
      "2021-02-24 22:05:47,666 : INFO : PROGRESS: at sentence #0, processed 0 words, keeping 0 word types\n",
      "2021-02-24 22:05:47,759 : INFO : PROGRESS: at sentence #10000, processed 242907 words, keeping 13876 word types\n",
      "2021-02-24 22:05:47,834 : INFO : PROGRESS: at sentence #20000, processed 481179 words, keeping 18984 word types\n",
      "2021-02-24 22:05:47,912 : INFO : PROGRESS: at sentence #30000, processed 720053 words, keeping 22377 word types\n",
      "2021-02-24 22:05:47,993 : INFO : PROGRESS: at sentence #40000, processed 967052 words, keeping 25639 word types\n",
      "2021-02-24 22:05:48,072 : INFO : PROGRESS: at sentence #50000, processed 1210019 words, keeping 28222 word types\n",
      "2021-02-24 22:05:48,147 : INFO : PROGRESS: at sentence #60000, processed 1453511 words, keeping 30609 word types\n",
      "2021-02-24 22:05:48,220 : INFO : PROGRESS: at sentence #70000, processed 1692671 words, keeping 32774 word types\n",
      "2021-02-24 22:05:48,294 : INFO : PROGRESS: at sentence #80000, processed 1941461 words, keeping 34589 word types\n",
      "2021-02-24 22:05:48,366 : INFO : PROGRESS: at sentence #90000, processed 2190980 words, keeping 36316 word types\n",
      "2021-02-24 22:05:48,442 : INFO : PROGRESS: at sentence #100000, processed 2443362 words, keeping 37947 word types\n",
      "2021-02-24 22:05:48,514 : INFO : PROGRESS: at sentence #110000, processed 2688195 words, keeping 39421 word types\n",
      "2021-02-24 22:05:48,581 : INFO : PROGRESS: at sentence #120000, processed 2927746 words, keeping 40845 word types\n",
      "2021-02-24 22:05:48,650 : INFO : PROGRESS: at sentence #130000, processed 3168195 words, keeping 42149 word types\n",
      "2021-02-24 22:05:48,720 : INFO : PROGRESS: at sentence #140000, processed 3414411 words, keeping 43556 word types\n",
      "2021-02-24 22:05:48,796 : INFO : PROGRESS: at sentence #150000, processed 3659850 words, keeping 44885 word types\n",
      "2021-02-24 22:05:48,866 : INFO : PROGRESS: at sentence #160000, processed 3900091 words, keeping 45976 word types\n",
      "2021-02-24 22:05:48,937 : INFO : PROGRESS: at sentence #170000, processed 4149921 words, keeping 47140 word types\n",
      "2021-02-24 22:05:49,005 : INFO : PROGRESS: at sentence #180000, processed 4393483 words, keeping 48409 word types\n",
      "2021-02-24 22:05:49,074 : INFO : PROGRESS: at sentence #190000, processed 4630091 words, keeping 49521 word types\n",
      "2021-02-24 22:05:49,142 : INFO : PROGRESS: at sentence #200000, processed 4872606 words, keeping 50574 word types\n",
      "2021-02-24 22:05:49,215 : INFO : PROGRESS: at sentence #210000, processed 5117148 words, keeping 51545 word types\n",
      "2021-02-24 22:05:49,284 : INFO : PROGRESS: at sentence #220000, processed 5358163 words, keeping 52566 word types\n",
      "2021-02-24 22:05:49,354 : INFO : PROGRESS: at sentence #230000, processed 5603239 words, keeping 53459 word types\n",
      "2021-02-24 22:05:49,422 : INFO : PROGRESS: at sentence #240000, processed 5845609 words, keeping 54401 word types\n",
      "2021-02-24 22:05:49,489 : INFO : PROGRESS: at sentence #250000, processed 6082859 words, keeping 55277 word types\n",
      "2021-02-24 22:05:49,563 : INFO : PROGRESS: at sentence #260000, processed 6324064 words, keeping 56126 word types\n",
      "2021-02-24 22:05:49,631 : INFO : PROGRESS: at sentence #270000, processed 6560273 words, keeping 56964 word types\n",
      "2021-02-24 22:05:49,698 : INFO : PROGRESS: at sentence #280000, processed 6795149 words, keeping 57832 word types\n",
      "2021-02-24 22:05:49,769 : INFO : PROGRESS: at sentence #290000, processed 7049021 words, keeping 58682 word types\n",
      "2021-02-24 22:05:49,841 : INFO : PROGRESS: at sentence #300000, processed 7293521 words, keeping 59542 word types\n",
      "2021-02-24 22:05:49,909 : INFO : PROGRESS: at sentence #310000, processed 7532372 words, keeping 60336 word types\n",
      "2021-02-24 22:05:49,979 : INFO : PROGRESS: at sentence #320000, processed 7780902 words, keeping 61166 word types\n",
      "2021-02-24 22:05:50,046 : INFO : PROGRESS: at sentence #330000, processed 8015713 words, keeping 61980 word types\n",
      "2021-02-24 22:05:50,116 : INFO : PROGRESS: at sentence #340000, processed 8262117 words, keeping 62743 word types\n",
      "2021-02-24 22:05:50,188 : INFO : PROGRESS: at sentence #350000, processed 8509032 words, keeping 63556 word types\n",
      "2021-02-24 22:05:50,257 : INFO : PROGRESS: at sentence #360000, processed 8750954 words, keeping 64311 word types\n",
      "2021-02-24 22:05:50,327 : INFO : PROGRESS: at sentence #370000, processed 8998569 words, keeping 65030 word types\n",
      "2021-02-24 22:05:50,396 : INFO : PROGRESS: at sentence #380000, processed 9240973 words, keeping 65757 word types\n",
      "2021-02-24 22:05:50,466 : INFO : PROGRESS: at sentence #390000, processed 9485452 words, keeping 66450 word types\n",
      "2021-02-24 22:05:50,539 : INFO : PROGRESS: at sentence #400000, processed 9724231 words, keeping 67144 word types\n",
      "2021-02-24 22:05:50,610 : INFO : PROGRESS: at sentence #410000, processed 9967935 words, keeping 67918 word types\n",
      "2021-02-24 22:05:50,678 : INFO : PROGRESS: at sentence #420000, processed 10206233 words, keeping 68529 word types\n",
      "2021-02-24 22:05:50,745 : INFO : PROGRESS: at sentence #430000, processed 10446660 words, keeping 69137 word types\n",
      "2021-02-24 22:05:50,814 : INFO : PROGRESS: at sentence #440000, processed 10688250 words, keeping 69813 word types\n",
      "2021-02-24 22:05:50,885 : INFO : PROGRESS: at sentence #450000, processed 10933957 words, keeping 70594 word types\n",
      "2021-02-24 22:05:50,954 : INFO : PROGRESS: at sentence #460000, processed 11181145 words, keeping 71247 word types\n",
      "2021-02-24 22:05:51,025 : INFO : PROGRESS: at sentence #470000, processed 11435358 words, keeping 71900 word types\n",
      "2021-02-24 22:05:51,095 : INFO : PROGRESS: at sentence #480000, processed 11677907 words, keeping 72500 word types\n",
      "2021-02-24 22:05:51,165 : INFO : PROGRESS: at sentence #490000, processed 11919740 words, keeping 73058 word types\n",
      "2021-02-24 22:05:51,234 : INFO : PROGRESS: at sentence #500000, processed 12161427 words, keeping 73691 word types\n",
      "2021-02-24 22:05:51,304 : INFO : PROGRESS: at sentence #510000, processed 12409926 words, keeping 74349 word types\n",
      "2021-02-24 22:05:51,373 : INFO : PROGRESS: at sentence #520000, processed 12652516 words, keeping 74900 word types\n",
      "2021-02-24 22:05:51,443 : INFO : PROGRESS: at sentence #530000, processed 12899614 words, keeping 75547 word types\n",
      "2021-02-24 22:05:51,515 : INFO : PROGRESS: at sentence #540000, processed 13143845 words, keeping 76202 word types\n",
      "2021-02-24 22:05:51,584 : INFO : PROGRESS: at sentence #550000, processed 13391601 words, keeping 76795 word types\n",
      "2021-02-24 22:05:51,655 : INFO : PROGRESS: at sentence #560000, processed 13634359 words, keeping 77344 word types\n",
      "2021-02-24 22:05:51,729 : INFO : PROGRESS: at sentence #570000, processed 13882483 words, keeping 77877 word types\n",
      "2021-02-24 22:05:51,802 : INFO : PROGRESS: at sentence #580000, processed 14127972 words, keeping 78468 word types\n",
      "2021-02-24 22:05:51,875 : INFO : PROGRESS: at sentence #590000, processed 14372915 words, keeping 79060 word types\n",
      "2021-02-24 22:05:51,946 : INFO : PROGRESS: at sentence #600000, processed 14614077 words, keeping 79638 word types\n",
      "2021-02-24 22:05:52,015 : INFO : PROGRESS: at sentence #610000, processed 14854282 words, keeping 80182 word types\n",
      "2021-02-24 22:05:52,085 : INFO : PROGRESS: at sentence #620000, processed 15093744 words, keeping 80669 word types\n",
      "2021-02-24 22:05:52,131 : INFO : collected 81067 word types from a corpus of 15253766 raw words and 626618 sentences\n",
      "2021-02-24 22:05:52,132 : INFO : Loading a fresh vocabulary\n",
      "2021-02-24 22:05:52,185 : INFO : effective_min_count=5 retains 32517 unique words (40% of original 81067, drops 48550)\n",
      "2021-02-24 22:05:52,186 : INFO : effective_min_count=5 leaves 15172313 word corpus (99% of original 15253766, drops 81453)\n",
      "2021-02-24 22:05:52,264 : INFO : deleting the raw counts dictionary of 81067 items\n",
      "2021-02-24 22:05:52,266 : INFO : sample=0.001 downsamples 36 most-common words\n",
      "2021-02-24 22:05:52,267 : INFO : downsampling leaves estimated 10979271 word corpus (72.4% of prior 15172313)\n",
      "2021-02-24 22:05:52,288 : INFO : constructing a huffman tree from 32517 words\n",
      "2021-02-24 22:05:53,008 : INFO : built huffman tree with maximum node depth 22\n",
      "2021-02-24 22:05:53,387 : INFO : estimated required memory for 32517 words, 137998 buckets and 100 dimensions: 125749868 bytes\n"
     ]
    },
    {
     "name": "stderr",
     "output_type": "stream",
     "text": [
      "2021-02-24 22:05:53,392 : INFO : resetting layer weights\n",
      "2021-02-24 22:05:56,924 : INFO : training model with 12 workers on 32517 vocabulary and 100 features, using sg=1 hs=1 sample=0.001 negative=5 window=5\n",
      "2021-02-24 22:06:48,964 : INFO : EPOCH 1 - PROGRESS: at 8.35% words, 17609 words/s, in_qsize -1, out_qsize 1\n",
      "2021-02-24 22:06:48,965 : INFO : worker thread finished; awaiting finish of 11 more threads\n",
      "2021-02-24 22:06:49,156 : INFO : worker thread finished; awaiting finish of 10 more threads\n",
      "2021-02-24 22:06:49,203 : INFO : worker thread finished; awaiting finish of 9 more threads\n",
      "2021-02-24 22:06:49,227 : INFO : worker thread finished; awaiting finish of 8 more threads\n",
      "2021-02-24 22:06:49,235 : INFO : worker thread finished; awaiting finish of 7 more threads\n",
      "2021-02-24 22:06:49,278 : INFO : worker thread finished; awaiting finish of 6 more threads\n",
      "2021-02-24 22:06:49,284 : INFO : worker thread finished; awaiting finish of 5 more threads\n",
      "2021-02-24 22:06:49,410 : INFO : worker thread finished; awaiting finish of 4 more threads\n",
      "2021-02-24 22:06:54,999 : INFO : EPOCH 1 - PROGRESS: at 75.09% words, 142029 words/s, in_qsize -1, out_qsize 1\n",
      "2021-02-24 22:06:55,000 : INFO : worker thread finished; awaiting finish of 3 more threads\n",
      "2021-02-24 22:06:55,067 : INFO : worker thread finished; awaiting finish of 2 more threads\n",
      "2021-02-24 22:06:55,078 : INFO : worker thread finished; awaiting finish of 1 more threads\n",
      "2021-02-24 22:06:55,444 : INFO : worker thread finished; awaiting finish of 0 more threads\n",
      "2021-02-24 22:06:55,445 : INFO : EPOCH - 1 : training on 15273301 raw words (10991806 effective words) took 58.5s, 187967 effective words/s\n",
      "2021-02-24 22:07:45,942 : INFO : EPOCH 2 - PROGRESS: at 8.34% words, 18181 words/s, in_qsize -1, out_qsize 1\n",
      "2021-02-24 22:07:45,944 : INFO : worker thread finished; awaiting finish of 11 more threads\n",
      "2021-02-24 22:07:46,062 : INFO : worker thread finished; awaiting finish of 10 more threads\n",
      "2021-02-24 22:07:46,387 : INFO : worker thread finished; awaiting finish of 9 more threads\n",
      "2021-02-24 22:07:46,590 : INFO : worker thread finished; awaiting finish of 8 more threads\n",
      "2021-02-24 22:07:47,095 : INFO : EPOCH 2 - PROGRESS: at 41.71% words, 88755 words/s, in_qsize -1, out_qsize 1\n",
      "2021-02-24 22:07:47,097 : INFO : worker thread finished; awaiting finish of 7 more threads\n",
      "2021-02-24 22:07:47,185 : INFO : worker thread finished; awaiting finish of 6 more threads\n",
      "2021-02-24 22:07:47,227 : INFO : worker thread finished; awaiting finish of 5 more threads\n",
      "2021-02-24 22:07:47,260 : INFO : worker thread finished; awaiting finish of 4 more threads\n",
      "2021-02-24 22:07:53,409 : INFO : EPOCH 2 - PROGRESS: at 75.08% words, 142351 words/s, in_qsize -1, out_qsize 1\n",
      "2021-02-24 22:07:53,410 : INFO : worker thread finished; awaiting finish of 3 more threads\n",
      "2021-02-24 22:07:53,448 : INFO : worker thread finished; awaiting finish of 2 more threads\n",
      "2021-02-24 22:07:53,521 : INFO : worker thread finished; awaiting finish of 1 more threads\n",
      "2021-02-24 22:07:53,697 : INFO : worker thread finished; awaiting finish of 0 more threads\n",
      "2021-02-24 22:07:53,698 : INFO : EPOCH - 2 : training on 15273301 raw words (10993034 effective words) took 58.2s, 188866 effective words/s\n",
      "2021-02-24 22:08:44,398 : INFO : EPOCH 3 - PROGRESS: at 8.33% words, 18038 words/s, in_qsize -1, out_qsize 1\n",
      "2021-02-24 22:08:44,399 : INFO : worker thread finished; awaiting finish of 11 more threads\n",
      "2021-02-24 22:08:45,038 : INFO : worker thread finished; awaiting finish of 10 more threads\n",
      "2021-02-24 22:08:45,727 : INFO : EPOCH 3 - PROGRESS: at 25.02% words, 52846 words/s, in_qsize -1, out_qsize 1\n",
      "2021-02-24 22:08:45,729 : INFO : worker thread finished; awaiting finish of 9 more threads\n",
      "2021-02-24 22:08:46,549 : INFO : worker thread finished; awaiting finish of 8 more threads\n",
      "2021-02-24 22:08:46,569 : INFO : worker thread finished; awaiting finish of 7 more threads\n",
      "2021-02-24 22:08:46,756 : INFO : EPOCH 3 - PROGRESS: at 50.05% words, 103679 words/s, in_qsize -1, out_qsize 1\n",
      "2021-02-24 22:08:46,758 : INFO : worker thread finished; awaiting finish of 6 more threads\n",
      "2021-02-24 22:08:46,832 : INFO : worker thread finished; awaiting finish of 5 more threads\n",
      "2021-02-24 22:08:46,842 : INFO : worker thread finished; awaiting finish of 4 more threads\n",
      "2021-02-24 22:08:51,770 : INFO : EPOCH 3 - PROGRESS: at 75.09% words, 142076 words/s, in_qsize -1, out_qsize 1\n",
      "2021-02-24 22:08:51,771 : INFO : worker thread finished; awaiting finish of 3 more threads\n",
      "2021-02-24 22:08:51,844 : INFO : worker thread finished; awaiting finish of 2 more threads\n",
      "2021-02-24 22:08:52,000 : INFO : worker thread finished; awaiting finish of 1 more threads\n",
      "2021-02-24 22:08:52,540 : INFO : worker thread finished; awaiting finish of 0 more threads\n",
      "2021-02-24 22:08:52,541 : INFO : EPOCH - 3 : training on 15273301 raw words (10994477 effective words) took 58.8s, 186988 effective words/s\n",
      "2021-02-24 22:09:45,231 : INFO : EPOCH 4 - PROGRESS: at 8.35% words, 17399 words/s, in_qsize -1, out_qsize 1\n",
      "2021-02-24 22:09:45,233 : INFO : worker thread finished; awaiting finish of 11 more threads\n",
      "2021-02-24 22:09:45,524 : INFO : worker thread finished; awaiting finish of 10 more threads\n",
      "2021-02-24 22:09:46,097 : INFO : worker thread finished; awaiting finish of 9 more threads\n",
      "2021-02-24 22:09:46,226 : INFO : worker thread finished; awaiting finish of 8 more threads\n",
      "2021-02-24 22:09:46,306 : INFO : EPOCH 4 - PROGRESS: at 41.71% words, 85263 words/s, in_qsize -1, out_qsize 1\n",
      "2021-02-24 22:09:46,308 : INFO : worker thread finished; awaiting finish of 7 more threads\n",
      "2021-02-24 22:09:46,313 : INFO : worker thread finished; awaiting finish of 6 more threads\n",
      "2021-02-24 22:09:46,358 : INFO : worker thread finished; awaiting finish of 5 more threads\n",
      "2021-02-24 22:09:46,912 : INFO : worker thread finished; awaiting finish of 4 more threads\n",
      "2021-02-24 22:09:50,079 : INFO : EPOCH 4 - PROGRESS: at 75.09% words, 143410 words/s, in_qsize -1, out_qsize 1\n",
      "2021-02-24 22:09:50,080 : INFO : worker thread finished; awaiting finish of 3 more threads\n",
      "2021-02-24 22:09:50,212 : INFO : worker thread finished; awaiting finish of 2 more threads\n",
      "2021-02-24 22:09:50,416 : INFO : worker thread finished; awaiting finish of 1 more threads\n",
      "2021-02-24 22:09:50,703 : INFO : worker thread finished; awaiting finish of 0 more threads\n",
      "2021-02-24 22:09:50,704 : INFO : EPOCH - 4 : training on 15273301 raw words (10994989 effective words) took 58.1s, 189188 effective words/s\n",
      "2021-02-24 22:10:42,590 : INFO : EPOCH 5 - PROGRESS: at 8.33% words, 17626 words/s, in_qsize -1, out_qsize 1\n",
      "2021-02-24 22:10:42,592 : INFO : worker thread finished; awaiting finish of 11 more threads\n",
      "2021-02-24 22:10:42,748 : INFO : worker thread finished; awaiting finish of 10 more threads\n",
      "2021-02-24 22:10:42,839 : INFO : worker thread finished; awaiting finish of 9 more threads\n",
      "2021-02-24 22:10:42,938 : INFO : worker thread finished; awaiting finish of 8 more threads\n",
      "2021-02-24 22:10:43,237 : INFO : worker thread finished; awaiting finish of 7 more threads\n",
      "2021-02-24 22:10:43,536 : INFO : worker thread finished; awaiting finish of 6 more threads\n",
      "2021-02-24 22:10:43,630 : INFO : EPOCH 5 - PROGRESS: at 58.39% words, 121271 words/s, in_qsize -1, out_qsize 1\n",
      "2021-02-24 22:10:43,631 : INFO : worker thread finished; awaiting finish of 5 more threads\n",
      "2021-02-24 22:10:44,169 : INFO : worker thread finished; awaiting finish of 4 more threads\n",
      "2021-02-24 22:10:49,042 : INFO : EPOCH 5 - PROGRESS: at 75.09% words, 141432 words/s, in_qsize -1, out_qsize 1\n",
      "2021-02-24 22:10:49,043 : INFO : worker thread finished; awaiting finish of 3 more threads\n",
      "2021-02-24 22:10:49,287 : INFO : worker thread finished; awaiting finish of 2 more threads\n",
      "2021-02-24 22:10:49,361 : INFO : worker thread finished; awaiting finish of 1 more threads\n",
      "2021-02-24 22:10:49,560 : INFO : worker thread finished; awaiting finish of 0 more threads\n",
      "2021-02-24 22:10:49,561 : INFO : EPOCH - 5 : training on 15273301 raw words (10994425 effective words) took 58.8s, 186938 effective words/s\n",
      "2021-02-24 22:10:49,564 : INFO : training on a 76366505 raw words (54968731 effective words) took 292.6s, 187838 effective words/s\n",
      "2021-02-24 22:10:49,565 : WARNING : under 10 jobs per worker: consider setting a smaller `batch_words' for smoother alpha decay\n"
     ]
    },
    {
     "name": "stderr",
     "output_type": "stream",
     "text": [
      "2021-02-24 22:10:51,127 : INFO : saving FastText object under dados/experimento_1/ftt_jur.model, separately None\n",
      "2021-02-24 22:10:51,128 : INFO : storing np array 'vectors_ngrams' to dados/experimento_1/ftt_jur.model.wv.vectors_ngrams.npy\n",
      "2021-02-24 22:10:58,144 : INFO : not storing attribute vectors_norm\n",
      "2021-02-24 22:10:58,145 : INFO : not storing attribute vectors_vocab_norm\n",
      "2021-02-24 22:10:58,146 : INFO : not storing attribute vectors_ngrams_norm\n",
      "2021-02-24 22:10:58,147 : INFO : not storing attribute buckets_word\n",
      "2021-02-24 22:10:58,148 : INFO : storing np array 'vectors_ngrams_lockf' to dados/experimento_1/ftt_jur.model.trainables.vectors_ngrams_lockf.npy\n",
      "2021-02-24 22:11:05,938 : INFO : saved dados/experimento_1/ftt_jur.model\n"
     ]
    },
    {
     "name": "stdout",
     "output_type": "stream",
     "text": [
      "treinando modelo glove\n",
      "mkdir -p build\n",
      "tokenizando corpus\n",
      "$ build/vocab_count -min-count 5 -verbose 2 < ../mestrado/experimentos_mestrado/dados/experimento_1/base_treino_glv.txt > ../mestrado/experimentos_mestrado/dados/experimento_1/glove_vocab.txt\n",
      "criando matriz de coocorrencia\n",
      "$ build/cooccur -memory 4.0 -vocab-file ../mestrado/experimentos_mestrado/dados/experimento_1/glove_vocab.txt -verbose 2 -window-size 15 < ../mestrado/experimentos_mestrado/dados/experimento_1/base_treino_glv.txt > ../mestrado/experimentos_mestrado/dados/experimento_1/glv_concurrence.bin\n",
      "$ build/shuffle -memory 4.0 -verbose 2 < ../mestrado/experimentos_mestrado/dados/experimento_1/glv_concurrence.bin > ../mestrado/experimentos_mestrado/dados/experimento_1/glv_concurrence_shuf.bin\n",
      "$ build/glove -save-file ../mestrado/experimentos_mestrado/dados/experimento_1/glv_jur -threads 8 -input-file ../mestrado/experimentos_mestrado/dados/experimento_1/glv_concurrence_shuf.bin -x-max 10 -iter 15 -vector-size 100 -binary 2 -vocab-file ../mestrado/experimentos_mestrado/dados/experimento_1/glove_vocab.txt -verbose 2\n",
      "\n",
      "BUILDING VOCABULARY\n",
      "Processed 0 tokens.100000 tokens.200000 tokens.300000 tokens.400000 tokens.500000 tokens.600000 tokens.700000 tokens.800000 tokens.900000 tokens.1000000 tokens.1100000 tokens.1200000 tokens.1300000 tokens.1400000 tokens.1500000 tokens.1600000 tokens.1700000 tokens.1800000 tokens.1900000 tokens.2000000 tokens.2100000 tokens.2200000 tokens.2300000 tokens.2400000 tokens.2500000 tokens.2600000 tokens.2700000 tokens.2800000 tokens.2900000 tokens.3000000 tokens.3100000 tokens.3200000 tokens.3300000 tokens.3400000 tokens.3500000 tokens.3600000 tokens.3700000 tokens.3800000 tokens.3900000 tokens.4000000 tokens.4100000 tokens.4200000 tokens.4300000 tokens.4400000 tokens.4500000 tokens.4600000 tokens.4700000 tokens.4800000 tokens.4900000 tokens.5000000 tokens.5100000 tokens.5200000 tokens.5300000 tokens.5400000 tokens.5500000 tokens.5600000 tokens.5700000 tokens.5800000 tokens.5900000 tokens.6000000 tokens.6100000 tokens.6200000 tokens.6300000 tokens.6400000 tokens.6500000 tokens.6600000 tokens.6700000 tokens.6800000 tokens.6900000 tokens.7000000 tokens.7100000 tokens.7200000 tokens.7300000 tokens.7400000 tokens.7500000 tokens.7600000 tokens.7700000 tokens.7800000 tokens.7900000 tokens.8000000 tokens.8100000 tokens.8200000 tokens.8300000 tokens.8400000 tokens.8500000 tokens.8600000 tokens.8700000 tokens.8800000 tokens.8900000 tokens.9000000 tokens.9100000 tokens.9200000 tokens.9300000 tokens.9400000 tokens.9500000 tokens.9600000 tokens.Processed 9600748 tokens.\n",
      "Counted 80888 unique words.\n",
      "Truncating vocabulary at min count 5.\n",
      "Using vocabulary of size 32350.\n",
      "\n",
      "COUNTING COOCCURRENCES\n",
      "window size: 15\n",
      "context: symmetric\n",
      "max product: 13752509\n",
      "overflow length: 38028356\n",
      "Reading vocab from file \"../mestrado/experimentos_mestrado/dados/experimento_1/glove_vocab.txt\"...loaded 32350 words.\n",
      "Building lookup table...table contains 73296561 elements.\n",
      "Processing token: 0100000200000300000400000500000600000700000800000900000100000011000001200000130000014000001500000160000017000001800000190000020000002100000220000023000002400000250000026000002700000280000029000003000000310000032000003300000340000035000003600000370000038000003900000400000041000004200000430000044000004500000460000047000004800000490000050000005100000520000053000005400000550000056000005700000580000059000006000000610000062000006300000640000065000006600000670000068000006900000700000071000007200000730000074000007500000760000077000007800000790000080000008100000820000083000008400000850000086000008700000880000089000009000000910000092000009300000940000095000009600000Processed 9600748 tokens.\n",
      "Writing cooccurrences to disk........2 files in total.\n"
     ]
    },
    {
     "name": "stdout",
     "output_type": "stream",
     "text": [
      "Merging cooccurrence files: processed 0 lines.100000 lines.200000 lines.300000 lines.400000 lines.500000 lines.600000 lines.700000 lines.800000 lines.900000 lines.1000000 lines.1100000 lines.1200000 lines.1300000 lines.1400000 lines.1500000 lines.1600000 lines.1700000 lines.1800000 lines.1900000 lines.2000000 lines.2100000 lines.2200000 lines.2300000 lines.2400000 lines.2500000 lines.2600000 lines.2700000 lines.2800000 lines.2900000 lines.3000000 lines.3100000 lines.3200000 lines.3300000 lines.3400000 lines.3500000 lines.3600000 lines.3700000 lines.3800000 lines.3900000 lines.4000000 lines.4100000 lines.4200000 lines.4300000 lines.4400000 lines.4500000 lines.4600000 lines.4700000 lines.4800000 lines.4900000 lines.5000000 lines.5100000 lines.5200000 lines.5300000 lines.5400000 lines.5500000 lines.5600000 lines.5700000 lines.5800000 lines.5900000 lines.6000000 lines.6100000 lines.6200000 lines.6300000 lines.6400000 lines.6500000 lines.6600000 lines.6700000 lines.6800000 lines.6900000 lines.7000000 lines.7100000 lines.7200000 lines.7300000 lines.7400000 lines.7500000 lines.7600000 lines.7700000 lines.7800000 lines.7900000 lines.8000000 lines.8100000 lines.8200000 lines.8300000 lines.8400000 lines.8500000 lines.8600000 lines.8700000 lines.8800000 lines.8900000 lines.9000000 lines.9100000 lines.9200000 lines.9300000 lines.9400000 lines.9500000 lines.9600000 lines.9700000 lines.9800000 lines.9900000 lines.10000000 lines.10100000 lines.10200000 lines.10300000 lines.10400000 lines.10500000 lines.10600000 lines.10700000 lines.10800000 lines.10900000 lines.11000000 lines.11100000 lines.11200000 lines.11300000 lines.11400000 lines.11500000 lines.11600000 lines.11700000 lines.11800000 lines.11900000 lines.12000000 lines.12100000 lines.12200000 lines.12300000 lines.12400000 lines.12500000 lines.12600000 lines.12700000 lines.12800000 lines.12900000 lines.13000000 lines.13100000 lines.13200000 lines.13300000 lines.13400000 lines.13500000 lines.13600000 lines.13700000 lines.13800000 lines.13900000 lines.14000000 lines.14100000 lines.14200000 lines.14300000 lines.14400000 lines.14500000 lines.14600000 lines.14700000 lines.14800000 lines.14900000 lines.15000000 lines.15100000 lines.15200000 lines.15300000 lines.15400000 lines.15500000 lines.15600000 lines.15700000 lines.15800000 lines.15900000 lines.16000000 lines.16100000 lines.16200000 lines.16300000 lines.16400000 lines.16500000 lines.16600000 lines.16700000 lines.16800000 lines.16900000 lines.17000000 lines.17100000 lines.17200000 lines.17300000 lines.17400000 lines.17500000 lines.17600000 lines.17700000 lines.17800000 lines.17900000 lines.18000000 lines.18100000 lines.18200000 lines.18300000 lines.18400000 lines.18500000 lines.18600000 lines.18700000 lines.18800000 lines.18900000 lines.19000000 lines.19100000 lines.19200000 lines.19300000 lines.19400000 lines.19500000 lines.19600000 lines.19700000 lines.19800000 lines.19900000 lines.20000000 lines.20100000 lines.20200000 lines.20300000 lines.20400000 lines.20500000 lines.20600000 lines.20700000 lines.20800000 lines.20900000 lines.21000000 lines.21100000 lines.21200000 lines.21300000 lines.21400000 lines.21500000 lines.21600000 lines.21700000 lines.21800000 lines.21900000 lines.22000000 lines.22100000 lines.22200000 lines.22300000 lines.22400000 lines.22500000 lines.22600000 lines.22700000 lines.22800000 lines.22900000 lines.23000000 lines.23100000 lines.23200000 lines.23300000 lines.23400000 lines.23500000 lines.23600000 lines.23700000 lines.23800000 lines.23900000 lines.24000000 lines.24100000 lines.24200000 lines.24300000 lines.24400000 lines.24500000 lines.24600000 lines.24700000 lines.24800000 lines.24900000 lines.25000000 lines.25100000 lines.25200000 lines.25300000 lines.25400000 lines.25500000 lines.25600000 lines.25700000 lines.25800000 lines.25900000 lines.26000000 lines.26100000 lines.26200000 lines.26300000 lines.26400000 lines.26500000 lines.26600000 lines.26700000 lines.26800000 lines.26900000 lines.27000000 lines.27100000 lines.27200000 lines.27300000 lines.27400000 lines.27500000 lines.27600000 lines.27700000 lines.27800000 lines.27900000 lines.28000000 lines.28100000 lines.28200000 lines.28300000 lines.28400000 lines.28500000 lines.28600000 lines.28700000 lines.28800000 lines.28900000 lines.29000000 lines.29100000 lines.29200000 lines.29300000 lines.29400000 lines.29500000 lines.29600000 lines.29700000 lines.29800000 lines.29900000 lines.30000000 lines.30100000 lines.30200000 lines.30300000 lines.30400000 lines.30500000 lines.30600000 lines.30700000 lines.30800000 lines.30900000 lines.31000000 lines.31100000 lines.31200000 lines.31300000 lines.31400000 lines.Merging cooccurrence files: processed 31422787 lines.\n",
      "\n",
      "Using random seed 1614215483\n",
      "SHUFFLING COOCCURRENCES\n",
      "array size: 255013683\n",
      "Shuffling by chunks: processed 0 lines.processed 31422787 lines.\n",
      "Wrote 1 temporary file(s).\n",
      "Merging temp files: processed 0 lines.31422787 lines.Merging temp files: processed 31422787 lines.\n",
      "\n",
      "TRAINING MODEL\n",
      "Read 31422787 lines.\n",
      "Initializing parameters...Using random seed 1614215494\n",
      "done.\n",
      "vector size: 100\n",
      "vocab size: 32350\n",
      "x_max: 10.000000\n",
      "alpha: 0.750000\n",
      "02/24/21 - 10:11.46PM, iter: 001, cost: 0.109322\n",
      "02/24/21 - 10:11.57PM, iter: 002, cost: 0.079379\n",
      "02/24/21 - 10:12.09PM, iter: 003, cost: 0.066523\n",
      "02/24/21 - 10:12.20PM, iter: 004, cost: 0.058832\n",
      "02/24/21 - 10:12.32PM, iter: 005, cost: 0.054433\n",
      "02/24/21 - 10:12.43PM, iter: 006, cost: 0.051828\n",
      "02/24/21 - 10:12.55PM, iter: 007, cost: 0.050081\n",
      "02/24/21 - 10:13.06PM, iter: 008, cost: 0.048859\n",
      "02/24/21 - 10:13.18PM, iter: 009, cost: 0.047940\n",
      "02/24/21 - 10:13.29PM, iter: 010, cost: 0.047192\n",
      "02/24/21 - 10:13.41PM, iter: 011, cost: 0.046602\n",
      "02/24/21 - 10:13.52PM, iter: 012, cost: 0.046104\n",
      "02/24/21 - 10:14.04PM, iter: 013, cost: 0.045683\n",
      "02/24/21 - 10:14.15PM, iter: 014, cost: 0.045317\n",
      "02/24/21 - 10:14.27PM, iter: 015, cost: 0.044987\n",
      "\n",
      "treinamento concluído\n"
     ]
    },
    {
     "name": "stderr",
     "output_type": "stream",
     "text": [
      "2021-02-24 22:14:28,958 : INFO : converting 32351 vectors from dados/experimento_1/glv_jur.txt to C:\\Users\\CRISTI~1\\AppData\\Local\\Temp\\test_word2vec.txt\n",
      "2021-02-24 22:14:29,031 : INFO : loading projection weights from C:\\Users\\CRISTI~1\\AppData\\Local\\Temp\\test_word2vec.txt\n",
      "2021-02-24 22:14:31,929 : INFO : loaded (32351, 100) matrix from C:\\Users\\CRISTI~1\\AppData\\Local\\Temp\\test_word2vec.txt\n",
      "2021-02-24 22:14:31,930 : INFO : loading projection weights from modelos/w2v_skip_nilc.txt\n",
      "2021-02-24 22:15:55,988 : INFO : loaded (929606, 100) matrix from modelos/w2v_skip_nilc.txt\n",
      "2021-02-24 22:15:55,989 : INFO : loading projection weights from modelos/ftt_skip_nilc.txt\n",
      "2021-02-24 22:17:19,661 : INFO : loaded (929605, 100) matrix from modelos/ftt_skip_nilc.txt\n",
      "2021-02-24 22:17:19,662 : INFO : loading projection weights from modelos/glove_nilc.txt\n",
      "2021-02-24 22:18:42,212 : INFO : loaded (929605, 100) matrix from modelos/glove_nilc.txt\n"
     ]
    },
    {
     "name": "stdout",
     "output_type": "stream",
     "text": [
      "recuperando teores da base de teste\n"
     ]
    },
    {
     "data": {
      "application/vnd.jupyter.widget-view+json": {
       "model_id": "c2f0565186284ec4a18b444751a87f1d",
       "version_major": 2,
       "version_minor": 0
      },
      "text/plain": [
       "HBox(children=(IntProgress(value=0, max=6663), HTML(value='')))"
      ]
     },
     "metadata": {},
     "output_type": "display_data"
    },
    {
     "name": "stdout",
     "output_type": "stream",
     "text": [
      "\n",
      "criando representações word2vec geral\n"
     ]
    },
    {
     "data": {
      "application/vnd.jupyter.widget-view+json": {
       "model_id": "c80af084d8da441b8c6a0f014eccb1d0",
       "version_major": 2,
       "version_minor": 0
      },
      "text/plain": [
       "HBox(children=(IntProgress(value=0, max=6663), HTML(value='')))"
      ]
     },
     "metadata": {},
     "output_type": "display_data"
    },
    {
     "name": "stdout",
     "output_type": "stream",
     "text": [
      "\n",
      "criando representações fasttext geral\n"
     ]
    },
    {
     "data": {
      "application/vnd.jupyter.widget-view+json": {
       "model_id": "ba37c86970ce48598506ea5a930d05da",
       "version_major": 2,
       "version_minor": 0
      },
      "text/plain": [
       "HBox(children=(IntProgress(value=0, max=6663), HTML(value='')))"
      ]
     },
     "metadata": {},
     "output_type": "display_data"
    },
    {
     "name": "stdout",
     "output_type": "stream",
     "text": [
      "\n",
      "criando representações glove geral\n"
     ]
    },
    {
     "data": {
      "application/vnd.jupyter.widget-view+json": {
       "model_id": "0ebff2d86946485093238cd383679b57",
       "version_major": 2,
       "version_minor": 0
      },
      "text/plain": [
       "HBox(children=(IntProgress(value=0, max=6663), HTML(value='')))"
      ]
     },
     "metadata": {},
     "output_type": "display_data"
    },
    {
     "name": "stdout",
     "output_type": "stream",
     "text": [
      "\n",
      "criando representações word2vec juridico\n"
     ]
    },
    {
     "data": {
      "application/vnd.jupyter.widget-view+json": {
       "model_id": "aa50c798d0644f6ca79657d41dab3b39",
       "version_major": 2,
       "version_minor": 0
      },
      "text/plain": [
       "HBox(children=(IntProgress(value=0, max=6663), HTML(value='')))"
      ]
     },
     "metadata": {},
     "output_type": "display_data"
    },
    {
     "name": "stdout",
     "output_type": "stream",
     "text": [
      "\n",
      "criando representações fasttext juridico\n"
     ]
    },
    {
     "data": {
      "application/vnd.jupyter.widget-view+json": {
       "model_id": "ec91099b56c743f1b3bb0c52c977bc89",
       "version_major": 2,
       "version_minor": 0
      },
      "text/plain": [
       "HBox(children=(IntProgress(value=0, max=6663), HTML(value='')))"
      ]
     },
     "metadata": {},
     "output_type": "display_data"
    },
    {
     "name": "stdout",
     "output_type": "stream",
     "text": [
      "\n",
      "criando representações glove juridico\n"
     ]
    },
    {
     "data": {
      "application/vnd.jupyter.widget-view+json": {
       "model_id": "4d90917b15df4237bab38ed9cb231942",
       "version_major": 2,
       "version_minor": 0
      },
      "text/plain": [
       "HBox(children=(IntProgress(value=0, max=6663), HTML(value='')))"
      ]
     },
     "metadata": {},
     "output_type": "display_data"
    },
    {
     "name": "stdout",
     "output_type": "stream",
     "text": [
      "\n",
      "----------- EXPERIMENTO 1 CONCLUIDO -----------\n",
      "tempo do experimento: 20.37991441488266 minutos\n",
      "----------------------- EXPERIMENTO 2 -----------------------\n",
      "criando base de treino para o experimento 2\n"
     ]
    },
    {
     "data": {
      "application/vnd.jupyter.widget-view+json": {
       "model_id": "1c55f45d5ec04a068f455462222c721d",
       "version_major": 2,
       "version_minor": 0
      },
      "text/plain": [
       "HBox(children=(IntProgress(value=0, max=26650), HTML(value='')))"
      ]
     },
     "metadata": {},
     "output_type": "display_data"
    },
    {
     "name": "stdout",
     "output_type": "stream",
     "text": [
      "\n",
      "15937447 tokens copiados com sucesso\n",
      "preparando documentos para extração do vocabulário:\n"
     ]
    },
    {
     "data": {
      "application/vnd.jupyter.widget-view+json": {
       "model_id": "6dd87cb36ed44f9584ad7ad1c5004611",
       "version_major": 2,
       "version_minor": 0
      },
      "text/plain": [
       "HBox(children=(IntProgress(value=0, max=26650), HTML(value='')))"
      ]
     },
     "metadata": {},
     "output_type": "display_data"
    },
    {
     "name": "stdout",
     "output_type": "stream",
     "text": [
      "\n",
      "extraindo termos com base no ICA\n"
     ]
    },
    {
     "data": {
      "application/vnd.jupyter.widget-view+json": {
       "model_id": "bfbfe1953bc744c8b7cc244df0a50c16",
       "version_major": 2,
       "version_minor": 0
      },
      "text/plain": [
       "HBox(children=(IntProgress(value=0, max=125), HTML(value='')))"
      ]
     },
     "metadata": {},
     "output_type": "display_data"
    },
    {
     "name": "stdout",
     "output_type": "stream",
     "text": [
      "\n",
      "-processando strings do corpus\n",
      "-treinando vetorizador\n",
      "-ICA processado\n",
      "extraindo termos com base na frequência - geralmente leva menos de 4 minutos\n",
      "extraindo termos do tesauro\n",
      "extração de vocabulário concluída!\n",
      "treinando modelo word2vec\n"
     ]
    },
    {
     "name": "stderr",
     "output_type": "stream",
     "text": [
      "2021-02-24 22:26:46,341 : INFO : collecting all words and their counts\n",
      "2021-02-24 22:26:46,353 : INFO : PROGRESS: at sentence #0, processed 0 words, keeping 0 word types\n",
      "2021-02-24 22:26:46,420 : INFO : PROGRESS: at sentence #10000, processed 242221 words, keeping 13996 word types\n",
      "2021-02-24 22:26:46,486 : INFO : PROGRESS: at sentence #20000, processed 488355 words, keeping 18884 word types\n",
      "2021-02-24 22:26:46,553 : INFO : PROGRESS: at sentence #30000, processed 729042 words, keeping 22692 word types\n",
      "2021-02-24 22:26:46,621 : INFO : PROGRESS: at sentence #40000, processed 971163 words, keeping 25698 word types\n",
      "2021-02-24 22:26:46,689 : INFO : PROGRESS: at sentence #50000, processed 1216637 words, keeping 28253 word types\n",
      "2021-02-24 22:26:46,754 : INFO : PROGRESS: at sentence #60000, processed 1451701 words, keeping 30310 word types\n",
      "2021-02-24 22:26:46,821 : INFO : PROGRESS: at sentence #70000, processed 1690702 words, keeping 32461 word types\n",
      "2021-02-24 22:26:46,888 : INFO : PROGRESS: at sentence #80000, processed 1936485 words, keeping 34279 word types\n",
      "2021-02-24 22:26:46,960 : INFO : PROGRESS: at sentence #90000, processed 2187411 words, keeping 36121 word types\n",
      "2021-02-24 22:26:47,028 : INFO : PROGRESS: at sentence #100000, processed 2435465 words, keeping 37785 word types\n",
      "2021-02-24 22:26:47,096 : INFO : PROGRESS: at sentence #110000, processed 2678399 words, keeping 39241 word types\n",
      "2021-02-24 22:26:47,166 : INFO : PROGRESS: at sentence #120000, processed 2919314 words, keeping 40636 word types\n",
      "2021-02-24 22:26:47,232 : INFO : PROGRESS: at sentence #130000, processed 3162075 words, keeping 42013 word types\n",
      "2021-02-24 22:26:47,298 : INFO : PROGRESS: at sentence #140000, processed 3403035 words, keeping 43353 word types\n",
      "2021-02-24 22:26:47,364 : INFO : PROGRESS: at sentence #150000, processed 3641190 words, keeping 44592 word types\n",
      "2021-02-24 22:26:47,431 : INFO : PROGRESS: at sentence #160000, processed 3890493 words, keeping 45849 word types\n",
      "2021-02-24 22:26:47,500 : INFO : PROGRESS: at sentence #170000, processed 4141174 words, keeping 47108 word types\n",
      "2021-02-24 22:26:47,564 : INFO : PROGRESS: at sentence #180000, processed 4377489 words, keeping 48122 word types\n",
      "2021-02-24 22:26:47,632 : INFO : PROGRESS: at sentence #190000, processed 4625077 words, keeping 49130 word types\n",
      "2021-02-24 22:26:47,701 : INFO : PROGRESS: at sentence #200000, processed 4869873 words, keeping 50079 word types\n",
      "2021-02-24 22:26:47,768 : INFO : PROGRESS: at sentence #210000, processed 5112210 words, keeping 51165 word types\n",
      "2021-02-24 22:26:47,836 : INFO : PROGRESS: at sentence #220000, processed 5358939 words, keeping 52168 word types\n",
      "2021-02-24 22:26:47,902 : INFO : PROGRESS: at sentence #230000, processed 5601270 words, keeping 52998 word types\n",
      "2021-02-24 22:26:47,969 : INFO : PROGRESS: at sentence #240000, processed 5842481 words, keeping 53946 word types\n",
      "2021-02-24 22:26:48,038 : INFO : PROGRESS: at sentence #250000, processed 6091264 words, keeping 54817 word types\n",
      "2021-02-24 22:26:48,105 : INFO : PROGRESS: at sentence #260000, processed 6333815 words, keeping 55664 word types\n",
      "2021-02-24 22:26:48,179 : INFO : PROGRESS: at sentence #270000, processed 6577302 words, keeping 56604 word types\n",
      "2021-02-24 22:26:48,251 : INFO : PROGRESS: at sentence #280000, processed 6820659 words, keeping 57492 word types\n",
      "2021-02-24 22:26:48,322 : INFO : PROGRESS: at sentence #290000, processed 7064046 words, keeping 58215 word types\n",
      "2021-02-24 22:26:48,395 : INFO : PROGRESS: at sentence #300000, processed 7310817 words, keeping 58975 word types\n",
      "2021-02-24 22:26:48,467 : INFO : PROGRESS: at sentence #310000, processed 7555361 words, keeping 59803 word types\n",
      "2021-02-24 22:26:48,537 : INFO : PROGRESS: at sentence #320000, processed 7797974 words, keeping 60606 word types\n",
      "2021-02-24 22:26:48,606 : INFO : PROGRESS: at sentence #330000, processed 8040815 words, keeping 61356 word types\n",
      "2021-02-24 22:26:48,677 : INFO : PROGRESS: at sentence #340000, processed 8283338 words, keeping 62126 word types\n",
      "2021-02-24 22:26:48,749 : INFO : PROGRESS: at sentence #350000, processed 8526527 words, keeping 63034 word types\n",
      "2021-02-24 22:26:48,817 : INFO : PROGRESS: at sentence #360000, processed 8774864 words, keeping 63792 word types\n",
      "2021-02-24 22:26:48,883 : INFO : PROGRESS: at sentence #370000, processed 9014696 words, keeping 64592 word types\n",
      "2021-02-24 22:26:48,949 : INFO : PROGRESS: at sentence #380000, processed 9258190 words, keeping 65405 word types\n",
      "2021-02-24 22:26:49,016 : INFO : PROGRESS: at sentence #390000, processed 9501812 words, keeping 66095 word types\n",
      "2021-02-24 22:26:49,084 : INFO : PROGRESS: at sentence #400000, processed 9744512 words, keeping 66738 word types\n",
      "2021-02-24 22:26:49,152 : INFO : PROGRESS: at sentence #410000, processed 9983670 words, keeping 67402 word types\n",
      "2021-02-24 22:26:49,221 : INFO : PROGRESS: at sentence #420000, processed 10230237 words, keeping 68140 word types\n",
      "2021-02-24 22:26:49,291 : INFO : PROGRESS: at sentence #430000, processed 10471620 words, keeping 68944 word types\n",
      "2021-02-24 22:26:49,357 : INFO : PROGRESS: at sentence #440000, processed 10716712 words, keeping 69559 word types\n",
      "2021-02-24 22:26:49,423 : INFO : PROGRESS: at sentence #450000, processed 10958116 words, keeping 70196 word types\n",
      "2021-02-24 22:26:49,490 : INFO : PROGRESS: at sentence #460000, processed 11197356 words, keeping 70850 word types\n",
      "2021-02-24 22:26:49,559 : INFO : PROGRESS: at sentence #470000, processed 11443416 words, keeping 71573 word types\n",
      "2021-02-24 22:26:49,629 : INFO : PROGRESS: at sentence #480000, processed 11686681 words, keeping 72179 word types\n",
      "2021-02-24 22:26:49,695 : INFO : PROGRESS: at sentence #490000, processed 11929175 words, keeping 72867 word types\n",
      "2021-02-24 22:26:49,763 : INFO : PROGRESS: at sentence #500000, processed 12172321 words, keeping 73528 word types\n",
      "2021-02-24 22:26:49,831 : INFO : PROGRESS: at sentence #510000, processed 12406219 words, keeping 74153 word types\n",
      "2021-02-24 22:26:49,896 : INFO : PROGRESS: at sentence #520000, processed 12643469 words, keeping 74730 word types\n",
      "2021-02-24 22:26:49,963 : INFO : PROGRESS: at sentence #530000, processed 12885714 words, keeping 75293 word types\n",
      "2021-02-24 22:26:50,032 : INFO : PROGRESS: at sentence #540000, processed 13132909 words, keeping 75876 word types\n",
      "2021-02-24 22:26:50,098 : INFO : PROGRESS: at sentence #550000, processed 13371440 words, keeping 76385 word types\n",
      "2021-02-24 22:26:50,166 : INFO : PROGRESS: at sentence #560000, processed 13615417 words, keeping 77061 word types\n",
      "2021-02-24 22:26:50,232 : INFO : PROGRESS: at sentence #570000, processed 13855876 words, keeping 77604 word types\n",
      "2021-02-24 22:26:50,300 : INFO : PROGRESS: at sentence #580000, processed 14095149 words, keeping 78168 word types\n",
      "2021-02-24 22:26:50,368 : INFO : PROGRESS: at sentence #590000, processed 14335953 words, keeping 78754 word types\n",
      "2021-02-24 22:26:50,432 : INFO : PROGRESS: at sentence #600000, processed 14571786 words, keeping 79323 word types\n",
      "2021-02-24 22:26:50,500 : INFO : PROGRESS: at sentence #610000, processed 14817812 words, keeping 79941 word types\n",
      "2021-02-24 22:26:50,569 : INFO : PROGRESS: at sentence #620000, processed 15062832 words, keeping 80507 word types\n",
      "2021-02-24 22:26:50,632 : INFO : collected 81026 word types from a corpus of 15288609 raw words and 629353 sentences\n",
      "2021-02-24 22:26:50,633 : INFO : Loading a fresh vocabulary\n",
      "2021-02-24 22:26:50,687 : INFO : effective_min_count=5 retains 32576 unique words (40% of original 81026, drops 48450)\n",
      "2021-02-24 22:26:50,688 : INFO : effective_min_count=5 leaves 15207182 word corpus (99% of original 15288609, drops 81427)\n",
      "2021-02-24 22:26:50,771 : INFO : deleting the raw counts dictionary of 81026 items\n",
      "2021-02-24 22:26:50,774 : INFO : sample=1e-05 downsamples 3222 most-common words\n",
      "2021-02-24 22:26:50,775 : INFO : downsampling leaves estimated 3676405 word corpus (24.2% of prior 15207182)\n",
      "2021-02-24 22:26:50,801 : INFO : constructing a huffman tree from 32576 words\n",
      "2021-02-24 22:26:51,456 : INFO : built huffman tree with maximum node depth 22\n",
      "2021-02-24 22:26:51,507 : INFO : estimated required memory for 32576 words and 100 dimensions: 61894400 bytes\n"
     ]
    },
    {
     "name": "stderr",
     "output_type": "stream",
     "text": [
      "2021-02-24 22:26:51,508 : INFO : resetting layer weights\n",
      "2021-02-24 22:26:51,818 : INFO : training model with 12 workers on 32576 vocabulary and 100 features, using sg=1 hs=1 sample=1e-05 negative=5 window=5\n",
      "2021-02-24 22:26:52,829 : INFO : EPOCH 1 - PROGRESS: at 9.65% examples, 349136 words/s, in_qsize 0, out_qsize 0\n",
      "2021-02-24 22:26:53,830 : INFO : EPOCH 1 - PROGRESS: at 18.45% examples, 337219 words/s, in_qsize 0, out_qsize 2\n",
      "2021-02-24 22:26:54,835 : INFO : EPOCH 1 - PROGRESS: at 26.64% examples, 325750 words/s, in_qsize 7, out_qsize 0\n",
      "2021-02-24 22:26:55,851 : INFO : EPOCH 1 - PROGRESS: at 35.03% examples, 319763 words/s, in_qsize 21, out_qsize 1\n",
      "2021-02-24 22:26:56,883 : INFO : EPOCH 1 - PROGRESS: at 43.93% examples, 319821 words/s, in_qsize 22, out_qsize 1\n",
      "2021-02-24 22:26:57,885 : INFO : EPOCH 1 - PROGRESS: at 54.02% examples, 328137 words/s, in_qsize 0, out_qsize 0\n",
      "2021-02-24 22:26:58,894 : INFO : EPOCH 1 - PROGRESS: at 62.02% examples, 322937 words/s, in_qsize 19, out_qsize 1\n",
      "2021-02-24 22:26:59,916 : INFO : EPOCH 1 - PROGRESS: at 71.16% examples, 323850 words/s, in_qsize 22, out_qsize 5\n",
      "2021-02-24 22:27:00,925 : INFO : EPOCH 1 - PROGRESS: at 79.82% examples, 323084 words/s, in_qsize 0, out_qsize 0\n",
      "2021-02-24 22:27:01,929 : INFO : EPOCH 1 - PROGRESS: at 88.83% examples, 323355 words/s, in_qsize 20, out_qsize 6\n",
      "2021-02-24 22:27:02,949 : INFO : EPOCH 1 - PROGRESS: at 97.55% examples, 322511 words/s, in_qsize 1, out_qsize 2\n",
      "2021-02-24 22:27:03,140 : INFO : worker thread finished; awaiting finish of 11 more threads\n",
      "2021-02-24 22:27:03,150 : INFO : worker thread finished; awaiting finish of 10 more threads\n",
      "2021-02-24 22:27:03,151 : INFO : worker thread finished; awaiting finish of 9 more threads\n",
      "2021-02-24 22:27:03,153 : INFO : worker thread finished; awaiting finish of 8 more threads\n",
      "2021-02-24 22:27:03,154 : INFO : worker thread finished; awaiting finish of 7 more threads\n",
      "2021-02-24 22:27:03,156 : INFO : worker thread finished; awaiting finish of 6 more threads\n",
      "2021-02-24 22:27:03,157 : INFO : worker thread finished; awaiting finish of 5 more threads\n",
      "2021-02-24 22:27:03,160 : INFO : worker thread finished; awaiting finish of 4 more threads\n",
      "2021-02-24 22:27:03,169 : INFO : worker thread finished; awaiting finish of 3 more threads\n",
      "2021-02-24 22:27:03,170 : INFO : worker thread finished; awaiting finish of 2 more threads\n",
      "2021-02-24 22:27:03,175 : INFO : worker thread finished; awaiting finish of 1 more threads\n",
      "2021-02-24 22:27:03,185 : INFO : worker thread finished; awaiting finish of 0 more threads\n",
      "2021-02-24 22:27:03,186 : INFO : EPOCH - 1 : training on 15288609 raw words (3675856 effective words) took 11.4s, 323509 effective words/s\n",
      "2021-02-24 22:27:04,205 : INFO : EPOCH 2 - PROGRESS: at 8.48% examples, 307163 words/s, in_qsize 0, out_qsize 3\n",
      "2021-02-24 22:27:05,206 : INFO : EPOCH 2 - PROGRESS: at 16.60% examples, 303489 words/s, in_qsize 1, out_qsize 2\n",
      "2021-02-24 22:27:06,245 : INFO : EPOCH 2 - PROGRESS: at 25.84% examples, 311377 words/s, in_qsize 12, out_qsize 1\n",
      "2021-02-24 22:27:07,284 : INFO : EPOCH 2 - PROGRESS: at 34.84% examples, 313279 words/s, in_qsize 18, out_qsize 1\n",
      "2021-02-24 22:27:08,293 : INFO : EPOCH 2 - PROGRESS: at 44.01% examples, 317750 words/s, in_qsize 17, out_qsize 0\n",
      "2021-02-24 22:27:09,298 : INFO : EPOCH 2 - PROGRESS: at 53.63% examples, 323267 words/s, in_qsize 0, out_qsize 1\n",
      "2021-02-24 22:27:10,303 : INFO : EPOCH 2 - PROGRESS: at 62.27% examples, 322310 words/s, in_qsize 0, out_qsize 1\n",
      "2021-02-24 22:27:11,312 : INFO : EPOCH 2 - PROGRESS: at 70.95% examples, 321734 words/s, in_qsize 19, out_qsize 1\n",
      "2021-02-24 22:27:12,321 : INFO : EPOCH 2 - PROGRESS: at 80.43% examples, 324215 words/s, in_qsize 0, out_qsize 0\n",
      "2021-02-24 22:27:13,326 : INFO : EPOCH 2 - PROGRESS: at 89.04% examples, 322851 words/s, in_qsize 13, out_qsize 1\n",
      "2021-02-24 22:27:14,333 : INFO : EPOCH 2 - PROGRESS: at 98.41% examples, 324676 words/s, in_qsize 0, out_qsize 0\n",
      "2021-02-24 22:27:14,467 : INFO : worker thread finished; awaiting finish of 11 more threads\n",
      "2021-02-24 22:27:14,471 : INFO : worker thread finished; awaiting finish of 10 more threads\n",
      "2021-02-24 22:27:14,473 : INFO : worker thread finished; awaiting finish of 9 more threads\n",
      "2021-02-24 22:27:14,476 : INFO : worker thread finished; awaiting finish of 8 more threads\n",
      "2021-02-24 22:27:14,483 : INFO : worker thread finished; awaiting finish of 7 more threads\n",
      "2021-02-24 22:27:14,495 : INFO : worker thread finished; awaiting finish of 6 more threads\n",
      "2021-02-24 22:27:14,497 : INFO : worker thread finished; awaiting finish of 5 more threads\n",
      "2021-02-24 22:27:14,498 : INFO : worker thread finished; awaiting finish of 4 more threads\n",
      "2021-02-24 22:27:14,499 : INFO : worker thread finished; awaiting finish of 3 more threads\n",
      "2021-02-24 22:27:14,510 : INFO : worker thread finished; awaiting finish of 2 more threads\n",
      "2021-02-24 22:27:14,513 : INFO : worker thread finished; awaiting finish of 1 more threads\n",
      "2021-02-24 22:27:14,517 : INFO : worker thread finished; awaiting finish of 0 more threads\n",
      "2021-02-24 22:27:14,518 : INFO : EPOCH - 2 : training on 15288609 raw words (3674118 effective words) took 11.3s, 324377 effective words/s\n",
      "2021-02-24 22:27:15,523 : INFO : EPOCH 3 - PROGRESS: at 9.18% examples, 334746 words/s, in_qsize 1, out_qsize 0\n",
      "2021-02-24 22:27:16,532 : INFO : EPOCH 3 - PROGRESS: at 17.19% examples, 314765 words/s, in_qsize 0, out_qsize 0\n",
      "2021-02-24 22:27:17,545 : INFO : EPOCH 3 - PROGRESS: at 25.84% examples, 314427 words/s, in_qsize 6, out_qsize 0\n",
      "2021-02-24 22:27:18,547 : INFO : EPOCH 3 - PROGRESS: at 33.86% examples, 309777 words/s, in_qsize 15, out_qsize 1\n",
      "2021-02-24 22:27:19,562 : INFO : EPOCH 3 - PROGRESS: at 43.27% examples, 316858 words/s, in_qsize 19, out_qsize 0\n",
      "2021-02-24 22:27:20,570 : INFO : EPOCH 3 - PROGRESS: at 51.52% examples, 314124 words/s, in_qsize 0, out_qsize 1\n",
      "2021-02-24 22:27:21,573 : INFO : EPOCH 3 - PROGRESS: at 59.69% examples, 311723 words/s, in_qsize 20, out_qsize 1\n",
      "2021-02-24 22:27:22,576 : INFO : EPOCH 3 - PROGRESS: at 69.27% examples, 316751 words/s, in_qsize 0, out_qsize 0\n",
      "2021-02-24 22:27:23,588 : INFO : EPOCH 3 - PROGRESS: at 77.17% examples, 313787 words/s, in_qsize 1, out_qsize 1\n",
      "2021-02-24 22:27:24,588 : INFO : EPOCH 3 - PROGRESS: at 86.20% examples, 315301 words/s, in_qsize 19, out_qsize 0\n",
      "2021-02-24 22:27:25,592 : INFO : EPOCH 3 - PROGRESS: at 94.85% examples, 315065 words/s, in_qsize 0, out_qsize 0\n",
      "2021-02-24 22:27:26,076 : INFO : worker thread finished; awaiting finish of 11 more threads\n",
      "2021-02-24 22:27:26,079 : INFO : worker thread finished; awaiting finish of 10 more threads\n",
      "2021-02-24 22:27:26,080 : INFO : worker thread finished; awaiting finish of 9 more threads\n",
      "2021-02-24 22:27:26,090 : INFO : worker thread finished; awaiting finish of 8 more threads\n",
      "2021-02-24 22:27:26,096 : INFO : worker thread finished; awaiting finish of 7 more threads\n",
      "2021-02-24 22:27:26,105 : INFO : worker thread finished; awaiting finish of 6 more threads\n",
      "2021-02-24 22:27:26,107 : INFO : worker thread finished; awaiting finish of 5 more threads\n",
      "2021-02-24 22:27:26,110 : INFO : worker thread finished; awaiting finish of 4 more threads\n",
      "2021-02-24 22:27:26,111 : INFO : worker thread finished; awaiting finish of 3 more threads\n",
      "2021-02-24 22:27:26,113 : INFO : worker thread finished; awaiting finish of 2 more threads\n",
      "2021-02-24 22:27:26,114 : INFO : worker thread finished; awaiting finish of 1 more threads\n",
      "2021-02-24 22:27:26,120 : INFO : worker thread finished; awaiting finish of 0 more threads\n",
      "2021-02-24 22:27:26,121 : INFO : EPOCH - 3 : training on 15288609 raw words (3676690 effective words) took 11.6s, 316991 effective words/s\n",
      "2021-02-24 22:27:27,137 : INFO : EPOCH 4 - PROGRESS: at 7.57% examples, 274027 words/s, in_qsize 7, out_qsize 1\n",
      "2021-02-24 22:27:28,162 : INFO : EPOCH 4 - PROGRESS: at 17.13% examples, 308976 words/s, in_qsize 0, out_qsize 0\n",
      "2021-02-24 22:27:29,161 : INFO : EPOCH 4 - PROGRESS: at 24.74% examples, 298571 words/s, in_qsize 3, out_qsize 1\n",
      "2021-02-24 22:27:30,166 : INFO : EPOCH 4 - PROGRESS: at 34.57% examples, 314515 words/s, in_qsize 0, out_qsize 0\n",
      "2021-02-24 22:27:31,167 : INFO : EPOCH 4 - PROGRESS: at 42.18% examples, 308117 words/s, in_qsize 23, out_qsize 1\n"
     ]
    },
    {
     "name": "stderr",
     "output_type": "stream",
     "text": [
      "2021-02-24 22:27:32,170 : INFO : EPOCH 4 - PROGRESS: at 52.32% examples, 318469 words/s, in_qsize 0, out_qsize 0\n",
      "2021-02-24 22:27:33,185 : INFO : EPOCH 4 - PROGRESS: at 59.81% examples, 311691 words/s, in_qsize 23, out_qsize 0\n",
      "2021-02-24 22:27:34,193 : INFO : EPOCH 4 - PROGRESS: at 69.85% examples, 318664 words/s, in_qsize 0, out_qsize 0\n",
      "2021-02-24 22:27:35,195 : INFO : EPOCH 4 - PROGRESS: at 78.35% examples, 318321 words/s, in_qsize 0, out_qsize 1\n",
      "2021-02-24 22:27:36,211 : INFO : EPOCH 4 - PROGRESS: at 87.13% examples, 317757 words/s, in_qsize 6, out_qsize 2\n",
      "2021-02-24 22:27:37,212 : INFO : EPOCH 4 - PROGRESS: at 94.92% examples, 314647 words/s, in_qsize 0, out_qsize 2\n",
      "2021-02-24 22:27:37,684 : INFO : worker thread finished; awaiting finish of 11 more threads\n",
      "2021-02-24 22:27:37,694 : INFO : worker thread finished; awaiting finish of 10 more threads\n",
      "2021-02-24 22:27:37,695 : INFO : worker thread finished; awaiting finish of 9 more threads\n",
      "2021-02-24 22:27:37,698 : INFO : worker thread finished; awaiting finish of 8 more threads\n",
      "2021-02-24 22:27:37,699 : INFO : worker thread finished; awaiting finish of 7 more threads\n",
      "2021-02-24 22:27:37,708 : INFO : worker thread finished; awaiting finish of 6 more threads\n",
      "2021-02-24 22:27:37,721 : INFO : worker thread finished; awaiting finish of 5 more threads\n",
      "2021-02-24 22:27:37,725 : INFO : worker thread finished; awaiting finish of 4 more threads\n",
      "2021-02-24 22:27:37,736 : INFO : worker thread finished; awaiting finish of 3 more threads\n",
      "2021-02-24 22:27:37,738 : INFO : worker thread finished; awaiting finish of 2 more threads\n",
      "2021-02-24 22:27:37,739 : INFO : worker thread finished; awaiting finish of 1 more threads\n",
      "2021-02-24 22:27:37,741 : INFO : worker thread finished; awaiting finish of 0 more threads\n",
      "2021-02-24 22:27:37,742 : INFO : EPOCH - 4 : training on 15288609 raw words (3675076 effective words) took 11.6s, 316356 effective words/s\n",
      "2021-02-24 22:27:38,749 : INFO : EPOCH 5 - PROGRESS: at 7.82% examples, 287057 words/s, in_qsize 0, out_qsize 0\n",
      "2021-02-24 22:27:39,754 : INFO : EPOCH 5 - PROGRESS: at 15.77% examples, 289034 words/s, in_qsize 0, out_qsize 0\n",
      "2021-02-24 22:27:40,766 : INFO : EPOCH 5 - PROGRESS: at 24.91% examples, 303149 words/s, in_qsize 0, out_qsize 0\n",
      "2021-02-24 22:27:41,770 : INFO : EPOCH 5 - PROGRESS: at 33.21% examples, 303833 words/s, in_qsize 0, out_qsize 0\n",
      "2021-02-24 22:27:42,772 : INFO : EPOCH 5 - PROGRESS: at 41.66% examples, 305512 words/s, in_qsize 12, out_qsize 0\n",
      "2021-02-24 22:27:43,789 : INFO : EPOCH 5 - PROGRESS: at 50.13% examples, 305610 words/s, in_qsize 7, out_qsize 0\n",
      "2021-02-24 22:27:44,791 : INFO : EPOCH 5 - PROGRESS: at 59.56% examples, 311326 words/s, in_qsize 0, out_qsize 0\n",
      "2021-02-24 22:27:45,795 : INFO : EPOCH 5 - PROGRESS: at 68.01% examples, 311313 words/s, in_qsize 23, out_qsize 0\n",
      "2021-02-24 22:27:46,803 : INFO : EPOCH 5 - PROGRESS: at 76.85% examples, 312761 words/s, in_qsize 22, out_qsize 1\n",
      "2021-02-24 22:27:47,825 : INFO : EPOCH 5 - PROGRESS: at 86.87% examples, 317310 words/s, in_qsize 0, out_qsize 2\n",
      "2021-02-24 22:27:48,831 : INFO : EPOCH 5 - PROGRESS: at 95.91% examples, 318189 words/s, in_qsize 21, out_qsize 0\n",
      "2021-02-24 22:27:49,197 : INFO : worker thread finished; awaiting finish of 11 more threads\n",
      "2021-02-24 22:27:49,199 : INFO : worker thread finished; awaiting finish of 10 more threads\n",
      "2021-02-24 22:27:49,202 : INFO : worker thread finished; awaiting finish of 9 more threads\n",
      "2021-02-24 22:27:49,205 : INFO : worker thread finished; awaiting finish of 8 more threads\n",
      "2021-02-24 22:27:49,206 : INFO : worker thread finished; awaiting finish of 7 more threads\n",
      "2021-02-24 22:27:49,217 : INFO : worker thread finished; awaiting finish of 6 more threads\n",
      "2021-02-24 22:27:49,219 : INFO : worker thread finished; awaiting finish of 5 more threads\n",
      "2021-02-24 22:27:49,223 : INFO : worker thread finished; awaiting finish of 4 more threads\n",
      "2021-02-24 22:27:49,229 : INFO : worker thread finished; awaiting finish of 3 more threads\n",
      "2021-02-24 22:27:49,231 : INFO : worker thread finished; awaiting finish of 2 more threads\n",
      "2021-02-24 22:27:49,234 : INFO : worker thread finished; awaiting finish of 1 more threads\n",
      "2021-02-24 22:27:49,245 : INFO : worker thread finished; awaiting finish of 0 more threads\n",
      "2021-02-24 22:27:49,246 : INFO : EPOCH - 5 : training on 15288609 raw words (3677928 effective words) took 11.5s, 319825 effective words/s\n",
      "2021-02-24 22:27:50,270 : INFO : EPOCH 6 - PROGRESS: at 8.82% examples, 317262 words/s, in_qsize 0, out_qsize 1\n",
      "2021-02-24 22:27:51,281 : INFO : EPOCH 6 - PROGRESS: at 17.99% examples, 325578 words/s, in_qsize 0, out_qsize 0\n",
      "2021-02-24 22:27:52,299 : INFO : EPOCH 6 - PROGRESS: at 26.77% examples, 323530 words/s, in_qsize 14, out_qsize 1\n",
      "2021-02-24 22:27:53,305 : INFO : EPOCH 6 - PROGRESS: at 36.07% examples, 327280 words/s, in_qsize 0, out_qsize 0\n",
      "2021-02-24 22:27:54,306 : INFO : EPOCH 6 - PROGRESS: at 44.40% examples, 323325 words/s, in_qsize 23, out_qsize 0\n",
      "2021-02-24 22:27:55,315 : INFO : EPOCH 6 - PROGRESS: at 54.02% examples, 327849 words/s, in_qsize 0, out_qsize 0\n",
      "2021-02-24 22:27:56,330 : INFO : EPOCH 6 - PROGRESS: at 63.18% examples, 328526 words/s, in_qsize 0, out_qsize 2\n",
      "2021-02-24 22:27:57,344 : INFO : EPOCH 6 - PROGRESS: at 72.49% examples, 329807 words/s, in_qsize 0, out_qsize 3\n",
      "2021-02-24 22:27:58,344 : INFO : EPOCH 6 - PROGRESS: at 80.96% examples, 327841 words/s, in_qsize 15, out_qsize 2\n",
      "2021-02-24 22:27:59,352 : INFO : EPOCH 6 - PROGRESS: at 90.60% examples, 329867 words/s, in_qsize 1, out_qsize 2\n",
      "2021-02-24 22:28:00,330 : INFO : worker thread finished; awaiting finish of 11 more threads\n",
      "2021-02-24 22:28:00,332 : INFO : worker thread finished; awaiting finish of 10 more threads\n",
      "2021-02-24 22:28:00,334 : INFO : worker thread finished; awaiting finish of 9 more threads\n",
      "2021-02-24 22:28:00,337 : INFO : worker thread finished; awaiting finish of 8 more threads\n",
      "2021-02-24 22:28:00,340 : INFO : worker thread finished; awaiting finish of 7 more threads\n",
      "2021-02-24 22:28:00,346 : INFO : worker thread finished; awaiting finish of 6 more threads\n",
      "2021-02-24 22:28:00,347 : INFO : worker thread finished; awaiting finish of 5 more threads\n",
      "2021-02-24 22:28:00,349 : INFO : worker thread finished; awaiting finish of 4 more threads\n",
      "2021-02-24 22:28:00,351 : INFO : worker thread finished; awaiting finish of 3 more threads\n",
      "2021-02-24 22:28:00,359 : INFO : EPOCH 6 - PROGRESS: at 99.88% examples, 330448 words/s, in_qsize 2, out_qsize 1\n",
      "2021-02-24 22:28:00,360 : INFO : worker thread finished; awaiting finish of 2 more threads\n",
      "2021-02-24 22:28:00,362 : INFO : worker thread finished; awaiting finish of 1 more threads\n",
      "2021-02-24 22:28:00,367 : INFO : worker thread finished; awaiting finish of 0 more threads\n",
      "2021-02-24 22:28:00,369 : INFO : EPOCH - 6 : training on 15288609 raw words (3675128 effective words) took 11.1s, 330603 effective words/s\n",
      "2021-02-24 22:28:01,410 : INFO : EPOCH 7 - PROGRESS: at 8.50% examples, 300652 words/s, in_qsize 20, out_qsize 1\n",
      "2021-02-24 22:28:02,419 : INFO : EPOCH 7 - PROGRESS: at 17.54% examples, 315308 words/s, in_qsize 23, out_qsize 0\n",
      "2021-02-24 22:28:03,423 : INFO : EPOCH 7 - PROGRESS: at 27.23% examples, 329257 words/s, in_qsize 0, out_qsize 2\n",
      "2021-02-24 22:28:04,439 : INFO : EPOCH 7 - PROGRESS: at 35.94% examples, 325538 words/s, in_qsize 21, out_qsize 2\n",
      "2021-02-24 22:28:05,459 : INFO : EPOCH 7 - PROGRESS: at 44.77% examples, 324546 words/s, in_qsize 22, out_qsize 2\n",
      "2021-02-24 22:28:06,466 : INFO : EPOCH 7 - PROGRESS: at 54.02% examples, 326695 words/s, in_qsize 23, out_qsize 1\n",
      "2021-02-24 22:28:07,469 : INFO : EPOCH 7 - PROGRESS: at 63.46% examples, 329365 words/s, in_qsize 14, out_qsize 1\n",
      "2021-02-24 22:28:08,469 : INFO : EPOCH 7 - PROGRESS: at 72.83% examples, 331489 words/s, in_qsize 0, out_qsize 0\n",
      "2021-02-24 22:28:09,471 : INFO : EPOCH 7 - PROGRESS: at 81.67% examples, 330724 words/s, in_qsize 0, out_qsize 0\n",
      "2021-02-24 22:28:10,474 : INFO : EPOCH 7 - PROGRESS: at 89.81% examples, 327296 words/s, in_qsize 23, out_qsize 0\n",
      "2021-02-24 22:28:11,476 : INFO : EPOCH 7 - PROGRESS: at 98.90% examples, 327631 words/s, in_qsize 17, out_qsize 1\n",
      "2021-02-24 22:28:11,506 : INFO : worker thread finished; awaiting finish of 11 more threads\n"
     ]
    },
    {
     "name": "stderr",
     "output_type": "stream",
     "text": [
      "2021-02-24 22:28:11,508 : INFO : worker thread finished; awaiting finish of 10 more threads\n",
      "2021-02-24 22:28:11,510 : INFO : worker thread finished; awaiting finish of 9 more threads\n",
      "2021-02-24 22:28:11,512 : INFO : worker thread finished; awaiting finish of 8 more threads\n",
      "2021-02-24 22:28:11,513 : INFO : worker thread finished; awaiting finish of 7 more threads\n",
      "2021-02-24 22:28:11,518 : INFO : worker thread finished; awaiting finish of 6 more threads\n",
      "2021-02-24 22:28:11,521 : INFO : worker thread finished; awaiting finish of 5 more threads\n",
      "2021-02-24 22:28:11,525 : INFO : worker thread finished; awaiting finish of 4 more threads\n",
      "2021-02-24 22:28:11,530 : INFO : worker thread finished; awaiting finish of 3 more threads\n",
      "2021-02-24 22:28:11,539 : INFO : worker thread finished; awaiting finish of 2 more threads\n",
      "2021-02-24 22:28:11,540 : INFO : worker thread finished; awaiting finish of 1 more threads\n",
      "2021-02-24 22:28:11,545 : INFO : worker thread finished; awaiting finish of 0 more threads\n",
      "2021-02-24 22:28:11,546 : INFO : EPOCH - 7 : training on 15288609 raw words (3678374 effective words) took 11.2s, 329222 effective words/s\n",
      "2021-02-24 22:28:12,556 : INFO : EPOCH 8 - PROGRESS: at 8.54% examples, 312114 words/s, in_qsize 17, out_qsize 3\n",
      "2021-02-24 22:28:13,560 : INFO : EPOCH 8 - PROGRESS: at 17.79% examples, 325549 words/s, in_qsize 0, out_qsize 0\n",
      "2021-02-24 22:28:14,562 : INFO : EPOCH 8 - PROGRESS: at 26.39% examples, 323160 words/s, in_qsize 18, out_qsize 1\n",
      "2021-02-24 22:28:15,565 : INFO : EPOCH 8 - PROGRESS: at 36.00% examples, 330222 words/s, in_qsize 9, out_qsize 0\n",
      "2021-02-24 22:28:16,569 : INFO : EPOCH 8 - PROGRESS: at 44.64% examples, 327715 words/s, in_qsize 23, out_qsize 0\n",
      "2021-02-24 22:28:17,581 : INFO : EPOCH 8 - PROGRESS: at 54.29% examples, 331532 words/s, in_qsize 0, out_qsize 1\n",
      "2021-02-24 22:28:18,585 : INFO : EPOCH 8 - PROGRESS: at 62.52% examples, 327294 words/s, in_qsize 22, out_qsize 1\n",
      "2021-02-24 22:28:19,587 : INFO : EPOCH 8 - PROGRESS: at 72.36% examples, 331566 words/s, in_qsize 0, out_qsize 0\n",
      "2021-02-24 22:28:20,589 : INFO : EPOCH 8 - PROGRESS: at 81.29% examples, 331145 words/s, in_qsize 0, out_qsize 0\n",
      "2021-02-24 22:28:21,612 : INFO : EPOCH 8 - PROGRESS: at 90.21% examples, 329817 words/s, in_qsize 18, out_qsize 1\n",
      "2021-02-24 22:28:22,568 : INFO : worker thread finished; awaiting finish of 11 more threads\n",
      "2021-02-24 22:28:22,582 : INFO : worker thread finished; awaiting finish of 10 more threads\n",
      "2021-02-24 22:28:22,583 : INFO : worker thread finished; awaiting finish of 9 more threads\n",
      "2021-02-24 22:28:22,585 : INFO : worker thread finished; awaiting finish of 8 more threads\n",
      "2021-02-24 22:28:22,586 : INFO : worker thread finished; awaiting finish of 7 more threads\n",
      "2021-02-24 22:28:22,592 : INFO : worker thread finished; awaiting finish of 6 more threads\n",
      "2021-02-24 22:28:22,603 : INFO : worker thread finished; awaiting finish of 5 more threads\n",
      "2021-02-24 22:28:22,609 : INFO : worker thread finished; awaiting finish of 4 more threads\n",
      "2021-02-24 22:28:22,611 : INFO : worker thread finished; awaiting finish of 3 more threads\n",
      "2021-02-24 22:28:22,613 : INFO : EPOCH 8 - PROGRESS: at 99.88% examples, 331893 words/s, in_qsize 2, out_qsize 1\n",
      "2021-02-24 22:28:22,614 : INFO : worker thread finished; awaiting finish of 2 more threads\n",
      "2021-02-24 22:28:22,620 : INFO : worker thread finished; awaiting finish of 1 more threads\n",
      "2021-02-24 22:28:22,621 : INFO : worker thread finished; awaiting finish of 0 more threads\n",
      "2021-02-24 22:28:22,622 : INFO : EPOCH - 8 : training on 15288609 raw words (3676219 effective words) took 11.1s, 332045 effective words/s\n",
      "2021-02-24 22:28:23,631 : INFO : EPOCH 9 - PROGRESS: at 8.08% examples, 295685 words/s, in_qsize 23, out_qsize 0\n",
      "2021-02-24 22:28:24,649 : INFO : EPOCH 9 - PROGRESS: at 17.06% examples, 310404 words/s, in_qsize 0, out_qsize 2\n",
      "2021-02-24 22:28:25,659 : INFO : EPOCH 9 - PROGRESS: at 25.97% examples, 314934 words/s, in_qsize 8, out_qsize 2\n",
      "2021-02-24 22:28:26,662 : INFO : EPOCH 9 - PROGRESS: at 35.22% examples, 321039 words/s, in_qsize 10, out_qsize 0\n",
      "2021-02-24 22:28:27,722 : INFO : EPOCH 9 - PROGRESS: at 44.07% examples, 318660 words/s, in_qsize 21, out_qsize 2\n",
      "2021-02-24 22:28:28,723 : INFO : EPOCH 9 - PROGRESS: at 53.24% examples, 321447 words/s, in_qsize 22, out_qsize 1\n",
      "2021-02-24 22:28:29,745 : INFO : EPOCH 9 - PROGRESS: at 62.98% examples, 325631 words/s, in_qsize 7, out_qsize 0\n",
      "2021-02-24 22:28:30,751 : INFO : EPOCH 9 - PROGRESS: at 72.36% examples, 327788 words/s, in_qsize 0, out_qsize 1\n",
      "2021-02-24 22:28:31,766 : INFO : EPOCH 9 - PROGRESS: at 80.96% examples, 326083 words/s, in_qsize 24, out_qsize 0\n",
      "2021-02-24 22:28:32,768 : INFO : EPOCH 9 - PROGRESS: at 90.66% examples, 328733 words/s, in_qsize 0, out_qsize 1\n",
      "2021-02-24 22:28:33,735 : INFO : worker thread finished; awaiting finish of 11 more threads\n",
      "2021-02-24 22:28:33,738 : INFO : worker thread finished; awaiting finish of 10 more threads\n",
      "2021-02-24 22:28:33,740 : INFO : worker thread finished; awaiting finish of 9 more threads\n",
      "2021-02-24 22:28:33,742 : INFO : worker thread finished; awaiting finish of 8 more threads\n",
      "2021-02-24 22:28:33,754 : INFO : worker thread finished; awaiting finish of 7 more threads\n",
      "2021-02-24 22:28:33,765 : INFO : worker thread finished; awaiting finish of 6 more threads\n",
      "2021-02-24 22:28:33,768 : INFO : worker thread finished; awaiting finish of 5 more threads\n",
      "2021-02-24 22:28:33,770 : INFO : EPOCH 9 - PROGRESS: at 99.75% examples, 328924 words/s, in_qsize 4, out_qsize 1\n",
      "2021-02-24 22:28:33,772 : INFO : worker thread finished; awaiting finish of 4 more threads\n",
      "2021-02-24 22:28:33,774 : INFO : worker thread finished; awaiting finish of 3 more threads\n",
      "2021-02-24 22:28:33,775 : INFO : worker thread finished; awaiting finish of 2 more threads\n",
      "2021-02-24 22:28:33,777 : INFO : worker thread finished; awaiting finish of 1 more threads\n",
      "2021-02-24 22:28:33,781 : INFO : worker thread finished; awaiting finish of 0 more threads\n",
      "2021-02-24 22:28:33,782 : INFO : EPOCH - 9 : training on 15288609 raw words (3674342 effective words) took 11.2s, 329408 effective words/s\n",
      "2021-02-24 22:28:34,806 : INFO : EPOCH 10 - PROGRESS: at 8.27% examples, 298304 words/s, in_qsize 0, out_qsize 2\n",
      "2021-02-24 22:28:35,814 : INFO : EPOCH 10 - PROGRESS: at 16.34% examples, 296668 words/s, in_qsize 0, out_qsize 0\n",
      "2021-02-24 22:28:36,826 : INFO : EPOCH 10 - PROGRESS: at 24.78% examples, 299743 words/s, in_qsize 13, out_qsize 1\n",
      "2021-02-24 22:28:37,832 : INFO : EPOCH 10 - PROGRESS: at 34.38% examples, 312796 words/s, in_qsize 0, out_qsize 0\n",
      "2021-02-24 22:28:38,835 : INFO : EPOCH 10 - PROGRESS: at 43.66% examples, 318850 words/s, in_qsize 0, out_qsize 0\n",
      "2021-02-24 22:28:39,855 : INFO : EPOCH 10 - PROGRESS: at 52.93% examples, 321058 words/s, in_qsize 6, out_qsize 0\n",
      "2021-02-24 22:28:40,864 : INFO : EPOCH 10 - PROGRESS: at 61.70% examples, 321079 words/s, in_qsize 0, out_qsize 0\n",
      "2021-02-24 22:28:41,867 : INFO : EPOCH 10 - PROGRESS: at 70.51% examples, 321414 words/s, in_qsize 1, out_qsize 1\n",
      "2021-02-24 22:28:42,887 : INFO : EPOCH 10 - PROGRESS: at 79.27% examples, 321088 words/s, in_qsize 18, out_qsize 0\n",
      "2021-02-24 22:28:43,894 : INFO : EPOCH 10 - PROGRESS: at 88.32% examples, 321525 words/s, in_qsize 23, out_qsize 0\n",
      "2021-02-24 22:28:44,901 : INFO : EPOCH 10 - PROGRESS: at 98.41% examples, 325693 words/s, in_qsize 0, out_qsize 0\n",
      "2021-02-24 22:28:45,027 : INFO : worker thread finished; awaiting finish of 11 more threads\n",
      "2021-02-24 22:28:45,029 : INFO : worker thread finished; awaiting finish of 10 more threads\n",
      "2021-02-24 22:28:45,031 : INFO : worker thread finished; awaiting finish of 9 more threads\n",
      "2021-02-24 22:28:45,032 : INFO : worker thread finished; awaiting finish of 8 more threads\n",
      "2021-02-24 22:28:45,034 : INFO : worker thread finished; awaiting finish of 7 more threads\n",
      "2021-02-24 22:28:45,035 : INFO : worker thread finished; awaiting finish of 6 more threads\n",
      "2021-02-24 22:28:45,036 : INFO : worker thread finished; awaiting finish of 5 more threads\n",
      "2021-02-24 22:28:45,041 : INFO : worker thread finished; awaiting finish of 4 more threads\n",
      "2021-02-24 22:28:45,043 : INFO : worker thread finished; awaiting finish of 3 more threads\n",
      "2021-02-24 22:28:45,047 : INFO : worker thread finished; awaiting finish of 2 more threads\n"
     ]
    },
    {
     "name": "stderr",
     "output_type": "stream",
     "text": [
      "2021-02-24 22:28:45,052 : INFO : worker thread finished; awaiting finish of 1 more threads\n",
      "2021-02-24 22:28:45,063 : INFO : worker thread finished; awaiting finish of 0 more threads\n",
      "2021-02-24 22:28:45,064 : INFO : EPOCH - 10 : training on 15288609 raw words (3675997 effective words) took 11.3s, 325996 effective words/s\n",
      "2021-02-24 22:28:45,065 : INFO : training on a 152886090 raw words (36759728 effective words) took 113.2s, 324599 effective words/s\n",
      "2021-02-24 22:28:45,066 : INFO : saving Word2Vec object under dados/experimento_2/w2v_jur.model, separately None\n",
      "2021-02-24 22:28:45,067 : INFO : not storing attribute vectors_norm\n",
      "2021-02-24 22:28:45,068 : INFO : not storing attribute cum_table\n",
      "2021-02-24 22:28:45,997 : INFO : saved dados/experimento_2/w2v_jur.model\n"
     ]
    },
    {
     "name": "stdout",
     "output_type": "stream",
     "text": [
      "treinando modelo word2vec\n"
     ]
    },
    {
     "name": "stderr",
     "output_type": "stream",
     "text": [
      "2021-02-24 22:28:45,999 : INFO : resetting layer weights\n",
      "2021-02-24 22:28:51,072 : INFO : collecting all words and their counts\n",
      "2021-02-24 22:28:51,074 : INFO : PROGRESS: at sentence #0, processed 0 words, keeping 0 word types\n",
      "2021-02-24 22:28:51,146 : INFO : PROGRESS: at sentence #10000, processed 242221 words, keeping 13996 word types\n",
      "2021-02-24 22:28:51,217 : INFO : PROGRESS: at sentence #20000, processed 488355 words, keeping 18884 word types\n",
      "2021-02-24 22:28:51,291 : INFO : PROGRESS: at sentence #30000, processed 729042 words, keeping 22692 word types\n",
      "2021-02-24 22:28:51,365 : INFO : PROGRESS: at sentence #40000, processed 971163 words, keeping 25698 word types\n",
      "2021-02-24 22:28:51,438 : INFO : PROGRESS: at sentence #50000, processed 1216637 words, keeping 28253 word types\n",
      "2021-02-24 22:28:51,510 : INFO : PROGRESS: at sentence #60000, processed 1451701 words, keeping 30310 word types\n",
      "2021-02-24 22:28:51,580 : INFO : PROGRESS: at sentence #70000, processed 1690702 words, keeping 32461 word types\n",
      "2021-02-24 22:28:51,653 : INFO : PROGRESS: at sentence #80000, processed 1936485 words, keeping 34279 word types\n",
      "2021-02-24 22:28:51,723 : INFO : PROGRESS: at sentence #90000, processed 2187411 words, keeping 36121 word types\n",
      "2021-02-24 22:28:51,793 : INFO : PROGRESS: at sentence #100000, processed 2435465 words, keeping 37785 word types\n",
      "2021-02-24 22:28:51,860 : INFO : PROGRESS: at sentence #110000, processed 2678399 words, keeping 39241 word types\n",
      "2021-02-24 22:28:51,926 : INFO : PROGRESS: at sentence #120000, processed 2919314 words, keeping 40636 word types\n",
      "2021-02-24 22:28:51,993 : INFO : PROGRESS: at sentence #130000, processed 3162075 words, keeping 42013 word types\n",
      "2021-02-24 22:28:52,060 : INFO : PROGRESS: at sentence #140000, processed 3403035 words, keeping 43353 word types\n",
      "2021-02-24 22:28:52,128 : INFO : PROGRESS: at sentence #150000, processed 3641190 words, keeping 44592 word types\n",
      "2021-02-24 22:28:52,196 : INFO : PROGRESS: at sentence #160000, processed 3890493 words, keeping 45849 word types\n",
      "2021-02-24 22:28:52,268 : INFO : PROGRESS: at sentence #170000, processed 4141174 words, keeping 47108 word types\n",
      "2021-02-24 22:28:52,335 : INFO : PROGRESS: at sentence #180000, processed 4377489 words, keeping 48122 word types\n",
      "2021-02-24 22:28:52,403 : INFO : PROGRESS: at sentence #190000, processed 4625077 words, keeping 49130 word types\n",
      "2021-02-24 22:28:52,470 : INFO : PROGRESS: at sentence #200000, processed 4869873 words, keeping 50079 word types\n",
      "2021-02-24 22:28:52,538 : INFO : PROGRESS: at sentence #210000, processed 5112210 words, keeping 51165 word types\n",
      "2021-02-24 22:28:52,606 : INFO : PROGRESS: at sentence #220000, processed 5358939 words, keeping 52168 word types\n",
      "2021-02-24 22:28:52,673 : INFO : PROGRESS: at sentence #230000, processed 5601270 words, keeping 52998 word types\n",
      "2021-02-24 22:28:52,739 : INFO : PROGRESS: at sentence #240000, processed 5842481 words, keeping 53946 word types\n",
      "2021-02-24 22:28:52,808 : INFO : PROGRESS: at sentence #250000, processed 6091264 words, keeping 54817 word types\n",
      "2021-02-24 22:28:52,875 : INFO : PROGRESS: at sentence #260000, processed 6333815 words, keeping 55664 word types\n",
      "2021-02-24 22:28:52,943 : INFO : PROGRESS: at sentence #270000, processed 6577302 words, keeping 56604 word types\n",
      "2021-02-24 22:28:53,010 : INFO : PROGRESS: at sentence #280000, processed 6820659 words, keeping 57492 word types\n",
      "2021-02-24 22:28:53,078 : INFO : PROGRESS: at sentence #290000, processed 7064046 words, keeping 58215 word types\n",
      "2021-02-24 22:28:53,146 : INFO : PROGRESS: at sentence #300000, processed 7310817 words, keeping 58975 word types\n",
      "2021-02-24 22:28:53,214 : INFO : PROGRESS: at sentence #310000, processed 7555361 words, keeping 59803 word types\n",
      "2021-02-24 22:28:53,282 : INFO : PROGRESS: at sentence #320000, processed 7797974 words, keeping 60606 word types\n",
      "2021-02-24 22:28:53,350 : INFO : PROGRESS: at sentence #330000, processed 8040815 words, keeping 61356 word types\n",
      "2021-02-24 22:28:53,417 : INFO : PROGRESS: at sentence #340000, processed 8283338 words, keeping 62126 word types\n",
      "2021-02-24 22:28:53,483 : INFO : PROGRESS: at sentence #350000, processed 8526527 words, keeping 63034 word types\n",
      "2021-02-24 22:28:53,552 : INFO : PROGRESS: at sentence #360000, processed 8774864 words, keeping 63792 word types\n",
      "2021-02-24 22:28:53,619 : INFO : PROGRESS: at sentence #370000, processed 9014696 words, keeping 64592 word types\n",
      "2021-02-24 22:28:53,686 : INFO : PROGRESS: at sentence #380000, processed 9258190 words, keeping 65405 word types\n",
      "2021-02-24 22:28:53,753 : INFO : PROGRESS: at sentence #390000, processed 9501812 words, keeping 66095 word types\n",
      "2021-02-24 22:28:53,824 : INFO : PROGRESS: at sentence #400000, processed 9744512 words, keeping 66738 word types\n",
      "2021-02-24 22:28:53,894 : INFO : PROGRESS: at sentence #410000, processed 9983670 words, keeping 67402 word types\n",
      "2021-02-24 22:28:53,964 : INFO : PROGRESS: at sentence #420000, processed 10230237 words, keeping 68140 word types\n",
      "2021-02-24 22:28:54,031 : INFO : PROGRESS: at sentence #430000, processed 10471620 words, keeping 68944 word types\n",
      "2021-02-24 22:28:54,099 : INFO : PROGRESS: at sentence #440000, processed 10716712 words, keeping 69559 word types\n",
      "2021-02-24 22:28:54,166 : INFO : PROGRESS: at sentence #450000, processed 10958116 words, keeping 70196 word types\n",
      "2021-02-24 22:28:54,232 : INFO : PROGRESS: at sentence #460000, processed 11197356 words, keeping 70850 word types\n",
      "2021-02-24 22:28:54,301 : INFO : PROGRESS: at sentence #470000, processed 11443416 words, keeping 71573 word types\n",
      "2021-02-24 22:28:54,371 : INFO : PROGRESS: at sentence #480000, processed 11686681 words, keeping 72179 word types\n",
      "2021-02-24 22:28:54,438 : INFO : PROGRESS: at sentence #490000, processed 11929175 words, keeping 72867 word types\n",
      "2021-02-24 22:28:54,505 : INFO : PROGRESS: at sentence #500000, processed 12172321 words, keeping 73528 word types\n",
      "2021-02-24 22:28:54,570 : INFO : PROGRESS: at sentence #510000, processed 12406219 words, keeping 74153 word types\n",
      "2021-02-24 22:28:54,635 : INFO : PROGRESS: at sentence #520000, processed 12643469 words, keeping 74730 word types\n",
      "2021-02-24 22:28:54,703 : INFO : PROGRESS: at sentence #530000, processed 12885714 words, keeping 75293 word types\n",
      "2021-02-24 22:28:54,773 : INFO : PROGRESS: at sentence #540000, processed 13132909 words, keeping 75876 word types\n",
      "2021-02-24 22:28:54,839 : INFO : PROGRESS: at sentence #550000, processed 13371440 words, keeping 76385 word types\n",
      "2021-02-24 22:28:54,908 : INFO : PROGRESS: at sentence #560000, processed 13615417 words, keeping 77061 word types\n",
      "2021-02-24 22:28:54,975 : INFO : PROGRESS: at sentence #570000, processed 13855876 words, keeping 77604 word types\n",
      "2021-02-24 22:28:55,041 : INFO : PROGRESS: at sentence #580000, processed 14095149 words, keeping 78168 word types\n",
      "2021-02-24 22:28:55,109 : INFO : PROGRESS: at sentence #590000, processed 14335953 words, keeping 78754 word types\n",
      "2021-02-24 22:28:55,178 : INFO : PROGRESS: at sentence #600000, processed 14571786 words, keeping 79323 word types\n",
      "2021-02-24 22:28:55,245 : INFO : PROGRESS: at sentence #610000, processed 14817812 words, keeping 79941 word types\n",
      "2021-02-24 22:28:55,312 : INFO : PROGRESS: at sentence #620000, processed 15062832 words, keeping 80507 word types\n",
      "2021-02-24 22:28:55,374 : INFO : collected 81026 word types from a corpus of 15288609 raw words and 629353 sentences\n",
      "2021-02-24 22:28:55,375 : INFO : Loading a fresh vocabulary\n",
      "2021-02-24 22:28:55,427 : INFO : effective_min_count=5 retains 32576 unique words (40% of original 81026, drops 48450)\n",
      "2021-02-24 22:28:55,427 : INFO : effective_min_count=5 leaves 15207182 word corpus (99% of original 15288609, drops 81427)\n",
      "2021-02-24 22:28:55,503 : INFO : deleting the raw counts dictionary of 81026 items\n",
      "2021-02-24 22:28:55,506 : INFO : sample=0.001 downsamples 36 most-common words\n",
      "2021-02-24 22:28:55,506 : INFO : downsampling leaves estimated 11008973 word corpus (72.4% of prior 15207182)\n",
      "2021-02-24 22:28:55,527 : INFO : constructing a huffman tree from 32576 words\n",
      "2021-02-24 22:28:56,217 : INFO : built huffman tree with maximum node depth 22\n",
      "2021-02-24 22:28:56,606 : INFO : estimated required memory for 32576 words, 138054 buckets and 100 dimensions: 125902632 bytes\n"
     ]
    },
    {
     "name": "stderr",
     "output_type": "stream",
     "text": [
      "2021-02-24 22:28:56,610 : INFO : resetting layer weights\n",
      "2021-02-24 22:29:00,042 : INFO : training model with 12 workers on 32576 vocabulary and 100 features, using sg=1 hs=1 sample=0.001 negative=5 window=5\n",
      "2021-02-24 22:29:51,735 : INFO : EPOCH 1 - PROGRESS: at 8.34% words, 17769 words/s, in_qsize -1, out_qsize 1\n",
      "2021-02-24 22:29:51,737 : INFO : worker thread finished; awaiting finish of 11 more threads\n",
      "2021-02-24 22:29:51,995 : INFO : worker thread finished; awaiting finish of 10 more threads\n",
      "2021-02-24 22:29:52,123 : INFO : worker thread finished; awaiting finish of 9 more threads\n",
      "2021-02-24 22:29:52,265 : INFO : worker thread finished; awaiting finish of 8 more threads\n",
      "2021-02-24 22:29:52,485 : INFO : worker thread finished; awaiting finish of 7 more threads\n",
      "2021-02-24 22:29:52,664 : INFO : worker thread finished; awaiting finish of 6 more threads\n",
      "2021-02-24 22:29:52,710 : INFO : worker thread finished; awaiting finish of 5 more threads\n",
      "2021-02-24 22:29:52,794 : INFO : EPOCH 1 - PROGRESS: at 67.07% words, 140088 words/s, in_qsize -1, out_qsize 1\n",
      "2021-02-24 22:29:52,796 : INFO : worker thread finished; awaiting finish of 4 more threads\n",
      "2021-02-24 22:29:53,063 : INFO : worker thread finished; awaiting finish of 3 more threads\n",
      "2021-02-24 22:29:53,191 : INFO : worker thread finished; awaiting finish of 2 more threads\n",
      "2021-02-24 22:29:53,227 : INFO : worker thread finished; awaiting finish of 1 more threads\n",
      "2021-02-24 22:29:53,282 : INFO : worker thread finished; awaiting finish of 0 more threads\n",
      "2021-02-24 22:29:53,283 : INFO : EPOCH - 1 : training on 15385851 raw words (11078589 effective words) took 53.2s, 208259 effective words/s\n",
      "2021-02-24 22:30:44,405 : INFO : EPOCH 2 - PROGRESS: at 8.34% words, 17977 words/s, in_qsize -1, out_qsize 1\n",
      "2021-02-24 22:30:44,407 : INFO : worker thread finished; awaiting finish of 11 more threads\n",
      "2021-02-24 22:30:44,560 : INFO : worker thread finished; awaiting finish of 10 more threads\n",
      "2021-02-24 22:30:44,670 : INFO : worker thread finished; awaiting finish of 9 more threads\n",
      "2021-02-24 22:30:44,728 : INFO : worker thread finished; awaiting finish of 8 more threads\n",
      "2021-02-24 22:30:45,240 : INFO : worker thread finished; awaiting finish of 7 more threads\n",
      "2021-02-24 22:30:45,261 : INFO : worker thread finished; awaiting finish of 6 more threads\n",
      "2021-02-24 22:30:45,298 : INFO : worker thread finished; awaiting finish of 5 more threads\n",
      "2021-02-24 22:30:45,373 : INFO : worker thread finished; awaiting finish of 4 more threads\n",
      "2021-02-24 22:30:45,823 : INFO : EPOCH 2 - PROGRESS: at 75.46% words, 158238 words/s, in_qsize -1, out_qsize 1\n",
      "2021-02-24 22:30:45,824 : INFO : worker thread finished; awaiting finish of 3 more threads\n",
      "2021-02-24 22:30:45,837 : INFO : worker thread finished; awaiting finish of 2 more threads\n",
      "2021-02-24 22:30:45,853 : INFO : worker thread finished; awaiting finish of 1 more threads\n",
      "2021-02-24 22:30:45,990 : INFO : worker thread finished; awaiting finish of 0 more threads\n",
      "2021-02-24 22:30:45,992 : INFO : EPOCH - 2 : training on 15385851 raw words (11078226 effective words) took 52.7s, 210352 effective words/s\n",
      "2021-02-24 22:31:36,775 : INFO : EPOCH 3 - PROGRESS: at 8.34% words, 18098 words/s, in_qsize -1, out_qsize 1\n",
      "2021-02-24 22:31:36,776 : INFO : worker thread finished; awaiting finish of 11 more threads\n",
      "2021-02-24 22:31:37,107 : INFO : worker thread finished; awaiting finish of 10 more threads\n",
      "2021-02-24 22:31:37,261 : INFO : worker thread finished; awaiting finish of 9 more threads\n",
      "2021-02-24 22:31:37,331 : INFO : worker thread finished; awaiting finish of 8 more threads\n",
      "2021-02-24 22:31:37,621 : INFO : worker thread finished; awaiting finish of 7 more threads\n",
      "2021-02-24 22:31:37,706 : INFO : worker thread finished; awaiting finish of 6 more threads\n",
      "2021-02-24 22:31:37,824 : INFO : EPOCH 3 - PROGRESS: at 58.68% words, 124761 words/s, in_qsize -1, out_qsize 1\n",
      "2021-02-24 22:31:37,826 : INFO : worker thread finished; awaiting finish of 5 more threads\n",
      "2021-02-24 22:31:37,909 : INFO : worker thread finished; awaiting finish of 4 more threads\n",
      "2021-02-24 22:31:38,130 : INFO : worker thread finished; awaiting finish of 3 more threads\n",
      "2021-02-24 22:31:38,231 : INFO : worker thread finished; awaiting finish of 2 more threads\n",
      "2021-02-24 22:31:38,267 : INFO : worker thread finished; awaiting finish of 1 more threads\n",
      "2021-02-24 22:31:38,357 : INFO : worker thread finished; awaiting finish of 0 more threads\n",
      "2021-02-24 22:31:38,358 : INFO : EPOCH - 3 : training on 15385851 raw words (11081175 effective words) took 52.3s, 211785 effective words/s\n",
      "2021-02-24 22:32:29,422 : INFO : EPOCH 4 - PROGRESS: at 8.39% words, 18083 words/s, in_qsize -1, out_qsize 1\n",
      "2021-02-24 22:32:29,423 : INFO : worker thread finished; awaiting finish of 11 more threads\n",
      "2021-02-24 22:32:29,610 : INFO : worker thread finished; awaiting finish of 10 more threads\n",
      "2021-02-24 22:32:29,701 : INFO : worker thread finished; awaiting finish of 9 more threads\n",
      "2021-02-24 22:32:29,831 : INFO : worker thread finished; awaiting finish of 8 more threads\n",
      "2021-02-24 22:32:30,103 : INFO : worker thread finished; awaiting finish of 7 more threads\n",
      "2021-02-24 22:32:30,114 : INFO : worker thread finished; awaiting finish of 6 more threads\n",
      "2021-02-24 22:32:30,180 : INFO : worker thread finished; awaiting finish of 5 more threads\n",
      "2021-02-24 22:32:30,272 : INFO : worker thread finished; awaiting finish of 4 more threads\n",
      "2021-02-24 22:32:30,647 : INFO : EPOCH 4 - PROGRESS: at 75.46% words, 159021 words/s, in_qsize -1, out_qsize 1\n",
      "2021-02-24 22:32:30,648 : INFO : worker thread finished; awaiting finish of 3 more threads\n",
      "2021-02-24 22:32:30,666 : INFO : worker thread finished; awaiting finish of 2 more threads\n",
      "2021-02-24 22:32:30,685 : INFO : worker thread finished; awaiting finish of 1 more threads\n",
      "2021-02-24 22:32:30,849 : INFO : worker thread finished; awaiting finish of 0 more threads\n",
      "2021-02-24 22:32:30,850 : INFO : EPOCH - 4 : training on 15385851 raw words (11079589 effective words) took 52.5s, 211240 effective words/s\n",
      "2021-02-24 22:33:21,666 : INFO : EPOCH 5 - PROGRESS: at 8.39% words, 18182 words/s, in_qsize -1, out_qsize 1\n",
      "2021-02-24 22:33:21,668 : INFO : worker thread finished; awaiting finish of 11 more threads\n",
      "2021-02-24 22:33:21,893 : INFO : worker thread finished; awaiting finish of 10 more threads\n",
      "2021-02-24 22:33:22,032 : INFO : worker thread finished; awaiting finish of 9 more threads\n",
      "2021-02-24 22:33:22,048 : INFO : worker thread finished; awaiting finish of 8 more threads\n",
      "2021-02-24 22:33:22,348 : INFO : worker thread finished; awaiting finish of 7 more threads\n",
      "2021-02-24 22:33:22,533 : INFO : worker thread finished; awaiting finish of 6 more threads\n",
      "2021-02-24 22:33:22,695 : INFO : EPOCH 5 - PROGRESS: at 58.68% words, 124718 words/s, in_qsize -1, out_qsize 1\n",
      "2021-02-24 22:33:22,696 : INFO : worker thread finished; awaiting finish of 5 more threads\n",
      "2021-02-24 22:33:22,714 : INFO : worker thread finished; awaiting finish of 4 more threads\n",
      "2021-02-24 22:33:23,032 : INFO : worker thread finished; awaiting finish of 3 more threads\n",
      "2021-02-24 22:33:23,044 : INFO : worker thread finished; awaiting finish of 2 more threads\n",
      "2021-02-24 22:33:23,047 : INFO : worker thread finished; awaiting finish of 1 more threads\n",
      "2021-02-24 22:33:23,146 : INFO : worker thread finished; awaiting finish of 0 more threads\n",
      "2021-02-24 22:33:23,147 : INFO : EPOCH - 5 : training on 15385851 raw words (11079561 effective words) took 52.3s, 212036 effective words/s\n",
      "2021-02-24 22:33:23,149 : INFO : training on a 76929255 raw words (55397140 effective words) took 263.1s, 210550 effective words/s\n",
      "2021-02-24 22:33:23,150 : WARNING : under 10 jobs per worker: consider setting a smaller `batch_words' for smoother alpha decay\n",
      "2021-02-24 22:33:24,628 : INFO : saving FastText object under dados/experimento_2/ftt_jur.model, separately None\n",
      "2021-02-24 22:33:24,630 : INFO : storing np array 'vectors_ngrams' to dados/experimento_2/ftt_jur.model.wv.vectors_ngrams.npy\n",
      "2021-02-24 22:33:31,345 : INFO : not storing attribute vectors_norm\n",
      "2021-02-24 22:33:31,346 : INFO : not storing attribute vectors_vocab_norm\n",
      "2021-02-24 22:33:31,347 : INFO : not storing attribute vectors_ngrams_norm\n"
     ]
    },
    {
     "name": "stderr",
     "output_type": "stream",
     "text": [
      "2021-02-24 22:33:31,349 : INFO : not storing attribute buckets_word\n",
      "2021-02-24 22:33:31,350 : INFO : storing np array 'vectors_ngrams_lockf' to dados/experimento_2/ftt_jur.model.trainables.vectors_ngrams_lockf.npy\n",
      "2021-02-24 22:33:39,385 : INFO : saved dados/experimento_2/ftt_jur.model\n"
     ]
    },
    {
     "name": "stdout",
     "output_type": "stream",
     "text": [
      "treinando modelo glove\n",
      "mkdir -p build\n",
      "tokenizando corpus\n",
      "$ build/vocab_count -min-count 5 -verbose 2 < ../mestrado/experimentos_mestrado/dados/experimento_2/base_treino_glv.txt > ../mestrado/experimentos_mestrado/dados/experimento_2/glove_vocab.txt\n",
      "criando matriz de coocorrencia\n",
      "$ build/cooccur -memory 4.0 -vocab-file ../mestrado/experimentos_mestrado/dados/experimento_2/glove_vocab.txt -verbose 2 -window-size 15 < ../mestrado/experimentos_mestrado/dados/experimento_2/base_treino_glv.txt > ../mestrado/experimentos_mestrado/dados/experimento_2/glv_concurrence.bin\n",
      "$ build/shuffle -memory 4.0 -verbose 2 < ../mestrado/experimentos_mestrado/dados/experimento_2/glv_concurrence.bin > ../mestrado/experimentos_mestrado/dados/experimento_2/glv_concurrence_shuf.bin\n",
      "$ build/glove -save-file ../mestrado/experimentos_mestrado/dados/experimento_2/glv_jur -threads 8 -input-file ../mestrado/experimentos_mestrado/dados/experimento_2/glv_concurrence_shuf.bin -x-max 10 -iter 15 -vector-size 100 -binary 2 -vocab-file ../mestrado/experimentos_mestrado/dados/experimento_2/glove_vocab.txt -verbose 2\n",
      "\n",
      "BUILDING VOCABULARY\n",
      "Processed 0 tokens.100000 tokens.200000 tokens.300000 tokens.400000 tokens.500000 tokens.600000 tokens.700000 tokens.800000 tokens.900000 tokens.1000000 tokens.1100000 tokens.1200000 tokens.1300000 tokens.1400000 tokens.1500000 tokens.1600000 tokens.1700000 tokens.1800000 tokens.1900000 tokens.2000000 tokens.2100000 tokens.2200000 tokens.2300000 tokens.2400000 tokens.2500000 tokens.2600000 tokens.2700000 tokens.2800000 tokens.2900000 tokens.3000000 tokens.3100000 tokens.3200000 tokens.3300000 tokens.3400000 tokens.3500000 tokens.3600000 tokens.3700000 tokens.3800000 tokens.3900000 tokens.4000000 tokens.4100000 tokens.4200000 tokens.4300000 tokens.4400000 tokens.4500000 tokens.4600000 tokens.4700000 tokens.4800000 tokens.4900000 tokens.5000000 tokens.5100000 tokens.5200000 tokens.5300000 tokens.5400000 tokens.5500000 tokens.5600000 tokens.5700000 tokens.5800000 tokens.5900000 tokens.6000000 tokens.6100000 tokens.6200000 tokens.6300000 tokens.6400000 tokens.6500000 tokens.6600000 tokens.6700000 tokens.6800000 tokens.6900000 tokens.7000000 tokens.7100000 tokens.7200000 tokens.7300000 tokens.7400000 tokens.7500000 tokens.7600000 tokens.7700000 tokens.7800000 tokens.7900000 tokens.8000000 tokens.8100000 tokens.8200000 tokens.8300000 tokens.8400000 tokens.8500000 tokens.8600000 tokens.8700000 tokens.8800000 tokens.8900000 tokens.9000000 tokens.9100000 tokens.9200000 tokens.9300000 tokens.9400000 tokens.9500000 tokens.9600000 tokens.Processed 9620684 tokens.\n",
      "Counted 80848 unique words.\n",
      "Truncating vocabulary at min count 5.\n",
      "Using vocabulary of size 32410.\n",
      "\n",
      "COUNTING COOCCURRENCES\n",
      "window size: 15\n",
      "context: symmetric\n",
      "max product: 13752509\n",
      "overflow length: 38028356\n",
      "Reading vocab from file \"../mestrado/experimentos_mestrado/dados/experimento_2/glove_vocab.txt\"...loaded 32410 words.\n",
      "Building lookup table...table contains 73347457 elements.\n",
      "Processing token: 0100000200000300000400000500000600000700000800000900000100000011000001200000130000014000001500000160000017000001800000190000020000002100000220000023000002400000250000026000002700000280000029000003000000310000032000003300000340000035000003600000370000038000003900000400000041000004200000430000044000004500000460000047000004800000490000050000005100000520000053000005400000550000056000005700000580000059000006000000610000062000006300000640000065000006600000670000068000006900000700000071000007200000730000074000007500000760000077000007800000790000080000008100000820000083000008400000850000086000008700000880000089000009000000910000092000009300000940000095000009600000Processed 9620684 tokens.\n",
      "Writing cooccurrences to disk........2 files in total.\n"
     ]
    },
    {
     "name": "stdout",
     "output_type": "stream",
     "text": [
      "Merging cooccurrence files: processed 0 lines.100000 lines.200000 lines.300000 lines.400000 lines.500000 lines.600000 lines.700000 lines.800000 lines.900000 lines.1000000 lines.1100000 lines.1200000 lines.1300000 lines.1400000 lines.1500000 lines.1600000 lines.1700000 lines.1800000 lines.1900000 lines.2000000 lines.2100000 lines.2200000 lines.2300000 lines.2400000 lines.2500000 lines.2600000 lines.2700000 lines.2800000 lines.2900000 lines.3000000 lines.3100000 lines.3200000 lines.3300000 lines.3400000 lines.3500000 lines.3600000 lines.3700000 lines.3800000 lines.3900000 lines.4000000 lines.4100000 lines.4200000 lines.4300000 lines.4400000 lines.4500000 lines.4600000 lines.4700000 lines.4800000 lines.4900000 lines.5000000 lines.5100000 lines.5200000 lines.5300000 lines.5400000 lines.5500000 lines.5600000 lines.5700000 lines.5800000 lines.5900000 lines.6000000 lines.6100000 lines.6200000 lines.6300000 lines.6400000 lines.6500000 lines.6600000 lines.6700000 lines.6800000 lines.6900000 lines.7000000 lines.7100000 lines.7200000 lines.7300000 lines.7400000 lines.7500000 lines.7600000 lines.7700000 lines.7800000 lines.7900000 lines.8000000 lines.8100000 lines.8200000 lines.8300000 lines.8400000 lines.8500000 lines.8600000 lines.8700000 lines.8800000 lines.8900000 lines.9000000 lines.9100000 lines.9200000 lines.9300000 lines.9400000 lines.9500000 lines.9600000 lines.9700000 lines.9800000 lines.9900000 lines.10000000 lines.10100000 lines.10200000 lines.10300000 lines.10400000 lines.10500000 lines.10600000 lines.10700000 lines.10800000 lines.10900000 lines.11000000 lines.11100000 lines.11200000 lines.11300000 lines.11400000 lines.11500000 lines.11600000 lines.11700000 lines.11800000 lines.11900000 lines.12000000 lines.12100000 lines.12200000 lines.12300000 lines.12400000 lines.12500000 lines.12600000 lines.12700000 lines.12800000 lines.12900000 lines.13000000 lines.13100000 lines.13200000 lines.13300000 lines.13400000 lines.13500000 lines.13600000 lines.13700000 lines.13800000 lines.13900000 lines.14000000 lines.14100000 lines.14200000 lines.14300000 lines.14400000 lines.14500000 lines.14600000 lines.14700000 lines.14800000 lines.14900000 lines.15000000 lines.15100000 lines.15200000 lines.15300000 lines.15400000 lines.15500000 lines.15600000 lines.15700000 lines.15800000 lines.15900000 lines.16000000 lines.16100000 lines.16200000 lines.16300000 lines.16400000 lines.16500000 lines.16600000 lines.16700000 lines.16800000 lines.16900000 lines.17000000 lines.17100000 lines.17200000 lines.17300000 lines.17400000 lines.17500000 lines.17600000 lines.17700000 lines.17800000 lines.17900000 lines.18000000 lines.18100000 lines.18200000 lines.18300000 lines.18400000 lines.18500000 lines.18600000 lines.18700000 lines.18800000 lines.18900000 lines.19000000 lines.19100000 lines.19200000 lines.19300000 lines.19400000 lines.19500000 lines.19600000 lines.19700000 lines.19800000 lines.19900000 lines.20000000 lines.20100000 lines.20200000 lines.20300000 lines.20400000 lines.20500000 lines.20600000 lines.20700000 lines.20800000 lines.20900000 lines.21000000 lines.21100000 lines.21200000 lines.21300000 lines.21400000 lines.21500000 lines.21600000 lines.21700000 lines.21800000 lines.21900000 lines.22000000 lines.22100000 lines.22200000 lines.22300000 lines.22400000 lines.22500000 lines.22600000 lines.22700000 lines.22800000 lines.22900000 lines.23000000 lines.23100000 lines.23200000 lines.23300000 lines.23400000 lines.23500000 lines.23600000 lines.23700000 lines.23800000 lines.23900000 lines.24000000 lines.24100000 lines.24200000 lines.24300000 lines.24400000 lines.24500000 lines.24600000 lines.24700000 lines.24800000 lines.24900000 lines.25000000 lines.25100000 lines.25200000 lines.25300000 lines.25400000 lines.25500000 lines.25600000 lines.25700000 lines.25800000 lines.25900000 lines.26000000 lines.26100000 lines.26200000 lines.26300000 lines.26400000 lines.26500000 lines.26600000 lines.26700000 lines.26800000 lines.26900000 lines.27000000 lines.27100000 lines.27200000 lines.27300000 lines.27400000 lines.27500000 lines.27600000 lines.27700000 lines.27800000 lines.27900000 lines.28000000 lines.28100000 lines.28200000 lines.28300000 lines.28400000 lines.28500000 lines.28600000 lines.28700000 lines.28800000 lines.28900000 lines.29000000 lines.29100000 lines.29200000 lines.29300000 lines.29400000 lines.29500000 lines.29600000 lines.29700000 lines.29800000 lines.29900000 lines.30000000 lines.30100000 lines.30200000 lines.30300000 lines.30400000 lines.30500000 lines.30600000 lines.30700000 lines.30800000 lines.30900000 lines.31000000 lines.31100000 lines.31200000 lines.31300000 lines.31400000 lines.Merging cooccurrence files: processed 31475118 lines.\n",
      "\n",
      "Using random seed 1614216836\n",
      "SHUFFLING COOCCURRENCES\n",
      "array size: 255013683\n",
      "Shuffling by chunks: processed 0 lines.processed 31475118 lines.\n",
      "Wrote 1 temporary file(s).\n",
      "Merging temp files: processed 0 lines.31475118 lines.Merging temp files: processed 31475118 lines.\n",
      "\n",
      "TRAINING MODEL\n",
      "Read 31475118 lines.\n",
      "Initializing parameters...Using random seed 1614216847\n",
      "done.\n",
      "vector size: 100\n",
      "vocab size: 32410\n",
      "x_max: 10.000000\n",
      "alpha: 0.750000\n",
      "02/24/21 - 10:34.19PM, iter: 001, cost: 0.109381\n",
      "02/24/21 - 10:34.30PM, iter: 002, cost: 0.079508\n",
      "02/24/21 - 10:34.42PM, iter: 003, cost: 0.066610\n",
      "02/24/21 - 10:34.54PM, iter: 004, cost: 0.058956\n",
      "02/24/21 - 10:35.05PM, iter: 005, cost: 0.054537\n",
      "02/24/21 - 10:35.16PM, iter: 006, cost: 0.051924\n",
      "02/24/21 - 10:35.26PM, iter: 007, cost: 0.050205\n",
      "02/24/21 - 10:35.37PM, iter: 008, cost: 0.048964\n",
      "02/24/21 - 10:35.48PM, iter: 009, cost: 0.048031\n",
      "02/24/21 - 10:35.59PM, iter: 010, cost: 0.047312\n",
      "02/24/21 - 10:36.09PM, iter: 011, cost: 0.046718\n",
      "02/24/21 - 10:36.21PM, iter: 012, cost: 0.046205\n",
      "02/24/21 - 10:36.32PM, iter: 013, cost: 0.045784\n",
      "02/24/21 - 10:36.44PM, iter: 014, cost: 0.045415\n",
      "02/24/21 - 10:36.54PM, iter: 015, cost: 0.045105\n",
      "\n",
      "treinamento concluído\n"
     ]
    },
    {
     "name": "stderr",
     "output_type": "stream",
     "text": [
      "2021-02-24 22:36:56,402 : INFO : converting 32411 vectors from dados/experimento_2/glv_jur.txt to C:\\Users\\CRISTI~1\\AppData\\Local\\Temp\\test_word2vec.txt\n",
      "2021-02-24 22:36:56,482 : INFO : loading projection weights from C:\\Users\\CRISTI~1\\AppData\\Local\\Temp\\test_word2vec.txt\n",
      "2021-02-24 22:36:59,309 : INFO : loaded (32411, 100) matrix from C:\\Users\\CRISTI~1\\AppData\\Local\\Temp\\test_word2vec.txt\n",
      "2021-02-24 22:36:59,309 : INFO : loading projection weights from modelos/w2v_skip_nilc.txt\n",
      "2021-02-24 22:38:16,729 : INFO : loaded (929606, 100) matrix from modelos/w2v_skip_nilc.txt\n",
      "2021-02-24 22:38:16,730 : INFO : loading projection weights from modelos/ftt_skip_nilc.txt\n",
      "2021-02-24 22:39:34,286 : INFO : loaded (929605, 100) matrix from modelos/ftt_skip_nilc.txt\n",
      "2021-02-24 22:39:34,287 : INFO : loading projection weights from modelos/glove_nilc.txt\n",
      "2021-02-24 22:40:51,007 : INFO : loaded (929605, 100) matrix from modelos/glove_nilc.txt\n"
     ]
    },
    {
     "name": "stdout",
     "output_type": "stream",
     "text": [
      "recuperando teores da base de teste\n"
     ]
    },
    {
     "data": {
      "application/vnd.jupyter.widget-view+json": {
       "model_id": "0ae19b8986a542db86353ac42f278641",
       "version_major": 2,
       "version_minor": 0
      },
      "text/plain": [
       "HBox(children=(IntProgress(value=0, max=6663), HTML(value='')))"
      ]
     },
     "metadata": {},
     "output_type": "display_data"
    },
    {
     "name": "stdout",
     "output_type": "stream",
     "text": [
      "\n",
      "criando representações word2vec geral\n"
     ]
    },
    {
     "data": {
      "application/vnd.jupyter.widget-view+json": {
       "model_id": "a06757ea83c4492e98a8679e7c82398a",
       "version_major": 2,
       "version_minor": 0
      },
      "text/plain": [
       "HBox(children=(IntProgress(value=0, max=6663), HTML(value='')))"
      ]
     },
     "metadata": {},
     "output_type": "display_data"
    },
    {
     "name": "stdout",
     "output_type": "stream",
     "text": [
      "\n",
      "criando representações fasttext geral\n"
     ]
    },
    {
     "data": {
      "application/vnd.jupyter.widget-view+json": {
       "model_id": "753b3dfa1a1440e6b84c88ffe6ad0ecc",
       "version_major": 2,
       "version_minor": 0
      },
      "text/plain": [
       "HBox(children=(IntProgress(value=0, max=6663), HTML(value='')))"
      ]
     },
     "metadata": {},
     "output_type": "display_data"
    },
    {
     "name": "stdout",
     "output_type": "stream",
     "text": [
      "\n",
      "criando representações glove geral\n"
     ]
    },
    {
     "data": {
      "application/vnd.jupyter.widget-view+json": {
       "model_id": "c10efe66c80b4921b8fd7ce31628f40e",
       "version_major": 2,
       "version_minor": 0
      },
      "text/plain": [
       "HBox(children=(IntProgress(value=0, max=6663), HTML(value='')))"
      ]
     },
     "metadata": {},
     "output_type": "display_data"
    },
    {
     "name": "stdout",
     "output_type": "stream",
     "text": [
      "\n",
      "criando representações word2vec juridico\n"
     ]
    },
    {
     "data": {
      "application/vnd.jupyter.widget-view+json": {
       "model_id": "77ccce647e9d41e19aef0490c089147d",
       "version_major": 2,
       "version_minor": 0
      },
      "text/plain": [
       "HBox(children=(IntProgress(value=0, max=6663), HTML(value='')))"
      ]
     },
     "metadata": {},
     "output_type": "display_data"
    },
    {
     "name": "stdout",
     "output_type": "stream",
     "text": [
      "\n",
      "criando representações fasttext juridico\n"
     ]
    },
    {
     "data": {
      "application/vnd.jupyter.widget-view+json": {
       "model_id": "f7abcd688d814c6cb5614f377a8d2b1c",
       "version_major": 2,
       "version_minor": 0
      },
      "text/plain": [
       "HBox(children=(IntProgress(value=0, max=6663), HTML(value='')))"
      ]
     },
     "metadata": {},
     "output_type": "display_data"
    },
    {
     "name": "stdout",
     "output_type": "stream",
     "text": [
      "\n",
      "criando representações glove juridico\n"
     ]
    },
    {
     "data": {
      "application/vnd.jupyter.widget-view+json": {
       "model_id": "e5da89f58e084596a9c12f2fce76a672",
       "version_major": 2,
       "version_minor": 0
      },
      "text/plain": [
       "HBox(children=(IntProgress(value=0, max=6663), HTML(value='')))"
      ]
     },
     "metadata": {},
     "output_type": "display_data"
    },
    {
     "name": "stdout",
     "output_type": "stream",
     "text": [
      "\n",
      "----------- EXPERIMENTO 2 CONCLUIDO -----------\n",
      "tempo do experimento: 22.085892645517983 minutos\n",
      "----------------------- EXPERIMENTO 3 -----------------------\n",
      "criando base de treino para o experimento 3\n"
     ]
    },
    {
     "data": {
      "application/vnd.jupyter.widget-view+json": {
       "model_id": "feaa1581857b4a049539752bbb02e93a",
       "version_major": 2,
       "version_minor": 0
      },
      "text/plain": [
       "HBox(children=(IntProgress(value=0, max=26650), HTML(value='')))"
      ]
     },
     "metadata": {},
     "output_type": "display_data"
    },
    {
     "name": "stdout",
     "output_type": "stream",
     "text": [
      "\n",
      "15954250 tokens copiados com sucesso\n",
      "preparando documentos para extração do vocabulário:\n"
     ]
    },
    {
     "data": {
      "application/vnd.jupyter.widget-view+json": {
       "model_id": "5bab28ac3268440cb4120ecf545c3cae",
       "version_major": 2,
       "version_minor": 0
      },
      "text/plain": [
       "HBox(children=(IntProgress(value=0, max=26650), HTML(value='')))"
      ]
     },
     "metadata": {},
     "output_type": "display_data"
    },
    {
     "name": "stdout",
     "output_type": "stream",
     "text": [
      "\n",
      "extraindo termos com base no ICA\n"
     ]
    },
    {
     "data": {
      "application/vnd.jupyter.widget-view+json": {
       "model_id": "ff6527ff84bd49afa8b5d43e02a25e32",
       "version_major": 2,
       "version_minor": 0
      },
      "text/plain": [
       "HBox(children=(IntProgress(value=0, max=125), HTML(value='')))"
      ]
     },
     "metadata": {},
     "output_type": "display_data"
    },
    {
     "name": "stdout",
     "output_type": "stream",
     "text": [
      "\n",
      "-processando strings do corpus\n",
      "-treinando vetorizador\n",
      "-ICA processado\n",
      "extraindo termos com base na frequência - geralmente leva menos de 4 minutos\n",
      "extraindo termos do tesauro\n",
      "extração de vocabulário concluída!\n",
      "treinando modelo word2vec\n"
     ]
    },
    {
     "name": "stderr",
     "output_type": "stream",
     "text": [
      "2021-02-24 22:48:30,634 : INFO : collecting all words and their counts\n",
      "2021-02-24 22:48:30,647 : INFO : PROGRESS: at sentence #0, processed 0 words, keeping 0 word types\n",
      "2021-02-24 22:48:30,711 : INFO : PROGRESS: at sentence #10000, processed 243516 words, keeping 13061 word types\n",
      "2021-02-24 22:48:30,777 : INFO : PROGRESS: at sentence #20000, processed 487062 words, keeping 18413 word types\n",
      "2021-02-24 22:48:30,847 : INFO : PROGRESS: at sentence #30000, processed 736406 words, keeping 22360 word types\n",
      "2021-02-24 22:48:30,912 : INFO : PROGRESS: at sentence #40000, processed 976105 words, keeping 25616 word types\n",
      "2021-02-24 22:48:30,981 : INFO : PROGRESS: at sentence #50000, processed 1218704 words, keeping 28085 word types\n",
      "2021-02-24 22:48:31,046 : INFO : PROGRESS: at sentence #60000, processed 1459252 words, keeping 30477 word types\n",
      "2021-02-24 22:48:31,112 : INFO : PROGRESS: at sentence #70000, processed 1704401 words, keeping 32458 word types\n",
      "2021-02-24 22:48:31,181 : INFO : PROGRESS: at sentence #80000, processed 1949823 words, keeping 34374 word types\n",
      "2021-02-24 22:48:31,245 : INFO : PROGRESS: at sentence #90000, processed 2183658 words, keeping 35881 word types\n",
      "2021-02-24 22:48:31,314 : INFO : PROGRESS: at sentence #100000, processed 2434992 words, keeping 37337 word types\n",
      "2021-02-24 22:48:31,383 : INFO : PROGRESS: at sentence #110000, processed 2682241 words, keeping 39052 word types\n",
      "2021-02-24 22:48:31,451 : INFO : PROGRESS: at sentence #120000, processed 2925794 words, keeping 40491 word types\n",
      "2021-02-24 22:48:31,520 : INFO : PROGRESS: at sentence #130000, processed 3169754 words, keeping 41748 word types\n",
      "2021-02-24 22:48:31,588 : INFO : PROGRESS: at sentence #140000, processed 3410846 words, keeping 42906 word types\n",
      "2021-02-24 22:48:31,654 : INFO : PROGRESS: at sentence #150000, processed 3645693 words, keeping 44141 word types\n",
      "2021-02-24 22:48:31,720 : INFO : PROGRESS: at sentence #160000, processed 3883716 words, keeping 45376 word types\n",
      "2021-02-24 22:48:31,788 : INFO : PROGRESS: at sentence #170000, processed 4130302 words, keeping 46515 word types\n",
      "2021-02-24 22:48:31,853 : INFO : PROGRESS: at sentence #180000, processed 4370311 words, keeping 47609 word types\n",
      "2021-02-24 22:48:31,922 : INFO : PROGRESS: at sentence #190000, processed 4622928 words, keeping 48857 word types\n",
      "2021-02-24 22:48:31,987 : INFO : PROGRESS: at sentence #200000, processed 4858388 words, keeping 49852 word types\n",
      "2021-02-24 22:48:32,057 : INFO : PROGRESS: at sentence #210000, processed 5095506 words, keeping 50819 word types\n",
      "2021-02-24 22:48:32,125 : INFO : PROGRESS: at sentence #220000, processed 5336906 words, keeping 51942 word types\n",
      "2021-02-24 22:48:32,193 : INFO : PROGRESS: at sentence #230000, processed 5581656 words, keeping 52905 word types\n",
      "2021-02-24 22:48:32,260 : INFO : PROGRESS: at sentence #240000, processed 5817499 words, keeping 53742 word types\n",
      "2021-02-24 22:48:32,330 : INFO : PROGRESS: at sentence #250000, processed 6066802 words, keeping 54753 word types\n",
      "2021-02-24 22:48:32,398 : INFO : PROGRESS: at sentence #260000, processed 6312153 words, keeping 55635 word types\n",
      "2021-02-24 22:48:32,466 : INFO : PROGRESS: at sentence #270000, processed 6552799 words, keeping 56394 word types\n",
      "2021-02-24 22:48:32,537 : INFO : PROGRESS: at sentence #280000, processed 6800161 words, keeping 57257 word types\n",
      "2021-02-24 22:48:32,603 : INFO : PROGRESS: at sentence #290000, processed 7041532 words, keeping 58245 word types\n",
      "2021-02-24 22:48:32,671 : INFO : PROGRESS: at sentence #300000, processed 7290637 words, keeping 59222 word types\n",
      "2021-02-24 22:48:32,738 : INFO : PROGRESS: at sentence #310000, processed 7533180 words, keeping 60080 word types\n",
      "2021-02-24 22:48:32,804 : INFO : PROGRESS: at sentence #320000, processed 7772394 words, keeping 60828 word types\n",
      "2021-02-24 22:48:32,870 : INFO : PROGRESS: at sentence #330000, processed 8014349 words, keeping 61556 word types\n",
      "2021-02-24 22:48:32,936 : INFO : PROGRESS: at sentence #340000, processed 8254646 words, keeping 62263 word types\n",
      "2021-02-24 22:48:33,003 : INFO : PROGRESS: at sentence #350000, processed 8498198 words, keeping 63035 word types\n",
      "2021-02-24 22:48:33,072 : INFO : PROGRESS: at sentence #360000, processed 8738048 words, keeping 63741 word types\n",
      "2021-02-24 22:48:33,139 : INFO : PROGRESS: at sentence #370000, processed 8978391 words, keeping 64538 word types\n",
      "2021-02-24 22:48:33,209 : INFO : PROGRESS: at sentence #380000, processed 9226887 words, keeping 65275 word types\n",
      "2021-02-24 22:48:33,276 : INFO : PROGRESS: at sentence #390000, processed 9473014 words, keeping 65972 word types\n",
      "2021-02-24 22:48:33,346 : INFO : PROGRESS: at sentence #400000, processed 9723554 words, keeping 66584 word types\n",
      "2021-02-24 22:48:33,413 : INFO : PROGRESS: at sentence #410000, processed 9966382 words, keeping 67272 word types\n",
      "2021-02-24 22:48:33,481 : INFO : PROGRESS: at sentence #420000, processed 10210794 words, keeping 68047 word types\n",
      "2021-02-24 22:48:33,547 : INFO : PROGRESS: at sentence #430000, processed 10450200 words, keeping 68659 word types\n",
      "2021-02-24 22:48:33,617 : INFO : PROGRESS: at sentence #440000, processed 10690623 words, keeping 69341 word types\n",
      "2021-02-24 22:48:33,682 : INFO : PROGRESS: at sentence #450000, processed 10927342 words, keeping 69916 word types\n",
      "2021-02-24 22:48:33,750 : INFO : PROGRESS: at sentence #460000, processed 11170326 words, keeping 70593 word types\n",
      "2021-02-24 22:48:33,818 : INFO : PROGRESS: at sentence #470000, processed 11417707 words, keeping 71196 word types\n",
      "2021-02-24 22:48:33,887 : INFO : PROGRESS: at sentence #480000, processed 11662843 words, keeping 71877 word types\n",
      "2021-02-24 22:48:33,954 : INFO : PROGRESS: at sentence #490000, processed 11907515 words, keeping 72567 word types\n",
      "2021-02-24 22:48:34,020 : INFO : PROGRESS: at sentence #500000, processed 12147450 words, keeping 73377 word types\n",
      "2021-02-24 22:48:34,088 : INFO : PROGRESS: at sentence #510000, processed 12395324 words, keeping 73957 word types\n",
      "2021-02-24 22:48:34,158 : INFO : PROGRESS: at sentence #520000, processed 12636263 words, keeping 74514 word types\n",
      "2021-02-24 22:48:34,226 : INFO : PROGRESS: at sentence #530000, processed 12880811 words, keeping 75096 word types\n",
      "2021-02-24 22:48:34,292 : INFO : PROGRESS: at sentence #540000, processed 13123404 words, keeping 75583 word types\n",
      "2021-02-24 22:48:34,361 : INFO : PROGRESS: at sentence #550000, processed 13367246 words, keeping 76200 word types\n",
      "2021-02-24 22:48:34,428 : INFO : PROGRESS: at sentence #560000, processed 13606870 words, keeping 76729 word types\n",
      "2021-02-24 22:48:34,495 : INFO : PROGRESS: at sentence #570000, processed 13849612 words, keeping 77380 word types\n",
      "2021-02-24 22:48:34,562 : INFO : PROGRESS: at sentence #580000, processed 14090560 words, keeping 77991 word types\n",
      "2021-02-24 22:48:34,631 : INFO : PROGRESS: at sentence #590000, processed 14334814 words, keeping 78592 word types\n",
      "2021-02-24 22:48:34,701 : INFO : PROGRESS: at sentence #600000, processed 14581588 words, keeping 79231 word types\n",
      "2021-02-24 22:48:34,766 : INFO : PROGRESS: at sentence #610000, processed 14821248 words, keeping 79731 word types\n",
      "2021-02-24 22:48:34,833 : INFO : PROGRESS: at sentence #620000, processed 15068222 words, keeping 80428 word types\n",
      "2021-02-24 22:48:34,898 : INFO : collected 80964 word types from a corpus of 15305050 raw words and 629609 sentences\n",
      "2021-02-24 22:48:34,899 : INFO : Loading a fresh vocabulary\n",
      "2021-02-24 22:48:34,952 : INFO : effective_min_count=5 retains 32441 unique words (40% of original 80964, drops 48523)\n",
      "2021-02-24 22:48:34,953 : INFO : effective_min_count=5 leaves 15223083 word corpus (99% of original 15305050, drops 81967)\n",
      "2021-02-24 22:48:35,033 : INFO : deleting the raw counts dictionary of 80964 items\n",
      "2021-02-24 22:48:35,036 : INFO : sample=1e-05 downsamples 3220 most-common words\n",
      "2021-02-24 22:48:35,037 : INFO : downsampling leaves estimated 3679213 word corpus (24.2% of prior 15223083)\n",
      "2021-02-24 22:48:35,058 : INFO : constructing a huffman tree from 32441 words\n",
      "2021-02-24 22:48:35,736 : INFO : built huffman tree with maximum node depth 22\n",
      "2021-02-24 22:48:35,787 : INFO : estimated required memory for 32441 words and 100 dimensions: 61637900 bytes\n"
     ]
    },
    {
     "name": "stderr",
     "output_type": "stream",
     "text": [
      "2021-02-24 22:48:35,788 : INFO : resetting layer weights\n",
      "2021-02-24 22:48:36,096 : INFO : training model with 12 workers on 32441 vocabulary and 100 features, using sg=1 hs=1 sample=1e-05 negative=5 window=5\n",
      "2021-02-24 22:48:37,111 : INFO : EPOCH 1 - PROGRESS: at 9.32% examples, 337443 words/s, in_qsize 0, out_qsize 0\n",
      "2021-02-24 22:48:38,122 : INFO : EPOCH 1 - PROGRESS: at 18.58% examples, 337348 words/s, in_qsize 2, out_qsize 1\n",
      "2021-02-24 22:48:39,126 : INFO : EPOCH 1 - PROGRESS: at 27.84% examples, 336838 words/s, in_qsize 0, out_qsize 0\n",
      "2021-02-24 22:48:40,131 : INFO : EPOCH 1 - PROGRESS: at 36.44% examples, 331030 words/s, in_qsize 0, out_qsize 0\n",
      "2021-02-24 22:48:41,143 : INFO : EPOCH 1 - PROGRESS: at 44.75% examples, 325001 words/s, in_qsize 12, out_qsize 0\n",
      "2021-02-24 22:48:42,144 : INFO : EPOCH 1 - PROGRESS: at 53.50% examples, 324467 words/s, in_qsize 0, out_qsize 1\n",
      "2021-02-24 22:48:43,165 : INFO : EPOCH 1 - PROGRESS: at 61.58% examples, 319674 words/s, in_qsize 6, out_qsize 3\n",
      "2021-02-24 22:48:44,173 : INFO : EPOCH 1 - PROGRESS: at 70.01% examples, 318268 words/s, in_qsize 14, out_qsize 0\n",
      "2021-02-24 22:48:45,181 : INFO : EPOCH 1 - PROGRESS: at 78.52% examples, 317608 words/s, in_qsize 20, out_qsize 1\n",
      "2021-02-24 22:48:46,196 : INFO : EPOCH 1 - PROGRESS: at 86.98% examples, 316481 words/s, in_qsize 24, out_qsize 0\n",
      "2021-02-24 22:48:47,198 : INFO : EPOCH 1 - PROGRESS: at 96.06% examples, 318307 words/s, in_qsize 13, out_qsize 0\n",
      "2021-02-24 22:48:47,621 : INFO : worker thread finished; awaiting finish of 11 more threads\n",
      "2021-02-24 22:48:47,624 : INFO : worker thread finished; awaiting finish of 10 more threads\n",
      "2021-02-24 22:48:47,626 : INFO : worker thread finished; awaiting finish of 9 more threads\n",
      "2021-02-24 22:48:47,630 : INFO : worker thread finished; awaiting finish of 8 more threads\n",
      "2021-02-24 22:48:47,632 : INFO : worker thread finished; awaiting finish of 7 more threads\n",
      "2021-02-24 22:48:47,635 : INFO : worker thread finished; awaiting finish of 6 more threads\n",
      "2021-02-24 22:48:47,641 : INFO : worker thread finished; awaiting finish of 5 more threads\n",
      "2021-02-24 22:48:47,642 : INFO : worker thread finished; awaiting finish of 4 more threads\n",
      "2021-02-24 22:48:47,647 : INFO : worker thread finished; awaiting finish of 3 more threads\n",
      "2021-02-24 22:48:47,652 : INFO : worker thread finished; awaiting finish of 2 more threads\n",
      "2021-02-24 22:48:47,657 : INFO : worker thread finished; awaiting finish of 1 more threads\n",
      "2021-02-24 22:48:47,659 : INFO : worker thread finished; awaiting finish of 0 more threads\n",
      "2021-02-24 22:48:47,660 : INFO : EPOCH - 1 : training on 15305050 raw words (3678969 effective words) took 11.6s, 318288 effective words/s\n",
      "2021-02-24 22:48:48,680 : INFO : EPOCH 2 - PROGRESS: at 8.77% examples, 317404 words/s, in_qsize 10, out_qsize 1\n",
      "2021-02-24 22:48:49,689 : INFO : EPOCH 2 - PROGRESS: at 16.75% examples, 303642 words/s, in_qsize 21, out_qsize 0\n",
      "2021-02-24 22:48:50,710 : INFO : EPOCH 2 - PROGRESS: at 25.31% examples, 304175 words/s, in_qsize 0, out_qsize 4\n",
      "2021-02-24 22:48:51,713 : INFO : EPOCH 2 - PROGRESS: at 33.65% examples, 304427 words/s, in_qsize 0, out_qsize 0\n",
      "2021-02-24 22:48:52,713 : INFO : EPOCH 2 - PROGRESS: at 42.78% examples, 310015 words/s, in_qsize 15, out_qsize 0\n",
      "2021-02-24 22:48:53,721 : INFO : EPOCH 2 - PROGRESS: at 51.63% examples, 312461 words/s, in_qsize 0, out_qsize 0\n",
      "2021-02-24 22:48:54,725 : INFO : EPOCH 2 - PROGRESS: at 60.19% examples, 312319 words/s, in_qsize 12, out_qsize 0\n",
      "2021-02-24 22:48:55,735 : INFO : EPOCH 2 - PROGRESS: at 68.95% examples, 313620 words/s, in_qsize 0, out_qsize 1\n",
      "2021-02-24 22:48:56,745 : INFO : EPOCH 2 - PROGRESS: at 76.96% examples, 311404 words/s, in_qsize 0, out_qsize 1\n",
      "2021-02-24 22:48:57,753 : INFO : EPOCH 2 - PROGRESS: at 85.05% examples, 309499 words/s, in_qsize 23, out_qsize 0\n",
      "2021-02-24 22:48:58,757 : INFO : EPOCH 2 - PROGRESS: at 94.24% examples, 312375 words/s, in_qsize 0, out_qsize 0\n",
      "2021-02-24 22:48:59,427 : INFO : worker thread finished; awaiting finish of 11 more threads\n",
      "2021-02-24 22:48:59,432 : INFO : worker thread finished; awaiting finish of 10 more threads\n",
      "2021-02-24 22:48:59,434 : INFO : worker thread finished; awaiting finish of 9 more threads\n",
      "2021-02-24 22:48:59,435 : INFO : worker thread finished; awaiting finish of 8 more threads\n",
      "2021-02-24 22:48:59,436 : INFO : worker thread finished; awaiting finish of 7 more threads\n",
      "2021-02-24 22:48:59,437 : INFO : worker thread finished; awaiting finish of 6 more threads\n",
      "2021-02-24 22:48:59,439 : INFO : worker thread finished; awaiting finish of 5 more threads\n",
      "2021-02-24 22:48:59,440 : INFO : worker thread finished; awaiting finish of 4 more threads\n",
      "2021-02-24 22:48:59,444 : INFO : worker thread finished; awaiting finish of 3 more threads\n",
      "2021-02-24 22:48:59,453 : INFO : worker thread finished; awaiting finish of 2 more threads\n",
      "2021-02-24 22:48:59,458 : INFO : worker thread finished; awaiting finish of 1 more threads\n",
      "2021-02-24 22:48:59,459 : INFO : worker thread finished; awaiting finish of 0 more threads\n",
      "2021-02-24 22:48:59,460 : INFO : EPOCH - 2 : training on 15305050 raw words (3678227 effective words) took 11.8s, 311831 effective words/s\n",
      "2021-02-24 22:49:00,480 : INFO : EPOCH 3 - PROGRESS: at 9.32% examples, 335461 words/s, in_qsize 0, out_qsize 2\n",
      "2021-02-24 22:49:01,482 : INFO : EPOCH 3 - PROGRESS: at 17.03% examples, 309315 words/s, in_qsize 24, out_qsize 0\n",
      "2021-02-24 22:49:02,495 : INFO : EPOCH 3 - PROGRESS: at 25.88% examples, 311507 words/s, in_qsize 0, out_qsize 0\n",
      "2021-02-24 22:49:03,500 : INFO : EPOCH 3 - PROGRESS: at 35.26% examples, 319797 words/s, in_qsize 0, out_qsize 0\n",
      "2021-02-24 22:49:04,511 : INFO : EPOCH 3 - PROGRESS: at 43.16% examples, 312792 words/s, in_qsize 24, out_qsize 0\n",
      "2021-02-24 22:49:05,518 : INFO : EPOCH 3 - PROGRESS: at 51.69% examples, 312896 words/s, in_qsize 0, out_qsize 0\n",
      "2021-02-24 22:49:06,531 : INFO : EPOCH 3 - PROGRESS: at 60.24% examples, 312422 words/s, in_qsize 2, out_qsize 0\n",
      "2021-02-24 22:49:07,537 : INFO : EPOCH 3 - PROGRESS: at 68.68% examples, 312383 words/s, in_qsize 0, out_qsize 0\n",
      "2021-02-24 22:49:08,557 : INFO : EPOCH 3 - PROGRESS: at 76.57% examples, 309390 words/s, in_qsize 17, out_qsize 2\n",
      "2021-02-24 22:49:09,558 : INFO : EPOCH 3 - PROGRESS: at 85.76% examples, 312025 words/s, in_qsize 12, out_qsize 0\n",
      "2021-02-24 22:49:10,560 : INFO : EPOCH 3 - PROGRESS: at 93.87% examples, 311043 words/s, in_qsize 0, out_qsize 0\n",
      "2021-02-24 22:49:11,185 : INFO : worker thread finished; awaiting finish of 11 more threads\n",
      "2021-02-24 22:49:11,193 : INFO : worker thread finished; awaiting finish of 10 more threads\n",
      "2021-02-24 22:49:11,194 : INFO : worker thread finished; awaiting finish of 9 more threads\n",
      "2021-02-24 22:49:11,196 : INFO : worker thread finished; awaiting finish of 8 more threads\n",
      "2021-02-24 22:49:11,198 : INFO : worker thread finished; awaiting finish of 7 more threads\n",
      "2021-02-24 22:49:11,199 : INFO : worker thread finished; awaiting finish of 6 more threads\n",
      "2021-02-24 22:49:11,202 : INFO : worker thread finished; awaiting finish of 5 more threads\n",
      "2021-02-24 22:49:11,204 : INFO : worker thread finished; awaiting finish of 4 more threads\n",
      "2021-02-24 22:49:11,209 : INFO : worker thread finished; awaiting finish of 3 more threads\n",
      "2021-02-24 22:49:11,215 : INFO : worker thread finished; awaiting finish of 2 more threads\n",
      "2021-02-24 22:49:11,221 : INFO : worker thread finished; awaiting finish of 1 more threads\n",
      "2021-02-24 22:49:11,224 : INFO : worker thread finished; awaiting finish of 0 more threads\n",
      "2021-02-24 22:49:11,225 : INFO : EPOCH - 3 : training on 15305050 raw words (3679411 effective words) took 11.8s, 312824 effective words/s\n",
      "2021-02-24 22:49:12,240 : INFO : EPOCH 4 - PROGRESS: at 8.71% examples, 317476 words/s, in_qsize 2, out_qsize 1\n",
      "2021-02-24 22:49:13,247 : INFO : EPOCH 4 - PROGRESS: at 16.68% examples, 303857 words/s, in_qsize 18, out_qsize 0\n",
      "2021-02-24 22:49:14,256 : INFO : EPOCH 4 - PROGRESS: at 25.07% examples, 302822 words/s, in_qsize 17, out_qsize 2\n",
      "2021-02-24 22:49:15,260 : INFO : EPOCH 4 - PROGRESS: at 34.24% examples, 311189 words/s, in_qsize 12, out_qsize 1\n",
      "2021-02-24 22:49:16,271 : INFO : EPOCH 4 - PROGRESS: at 42.70% examples, 309998 words/s, in_qsize 23, out_qsize 1\n"
     ]
    },
    {
     "name": "stderr",
     "output_type": "stream",
     "text": [
      "2021-02-24 22:49:17,273 : INFO : EPOCH 4 - PROGRESS: at 51.63% examples, 313131 words/s, in_qsize 0, out_qsize 0\n",
      "2021-02-24 22:49:18,274 : INFO : EPOCH 4 - PROGRESS: at 59.81% examples, 311015 words/s, in_qsize 19, out_qsize 0\n",
      "2021-02-24 22:49:19,276 : INFO : EPOCH 4 - PROGRESS: at 69.16% examples, 315560 words/s, in_qsize 1, out_qsize 0\n",
      "2021-02-24 22:49:20,287 : INFO : EPOCH 4 - PROGRESS: at 77.74% examples, 315378 words/s, in_qsize 0, out_qsize 1\n",
      "2021-02-24 22:49:21,288 : INFO : EPOCH 4 - PROGRESS: at 86.71% examples, 316837 words/s, in_qsize 0, out_qsize 0\n",
      "2021-02-24 22:49:22,293 : INFO : EPOCH 4 - PROGRESS: at 94.57% examples, 314417 words/s, in_qsize 21, out_qsize 0\n",
      "2021-02-24 22:49:22,882 : INFO : worker thread finished; awaiting finish of 11 more threads\n",
      "2021-02-24 22:49:22,883 : INFO : worker thread finished; awaiting finish of 10 more threads\n",
      "2021-02-24 22:49:22,884 : INFO : worker thread finished; awaiting finish of 9 more threads\n",
      "2021-02-24 22:49:22,885 : INFO : worker thread finished; awaiting finish of 8 more threads\n",
      "2021-02-24 22:49:22,887 : INFO : worker thread finished; awaiting finish of 7 more threads\n",
      "2021-02-24 22:49:22,888 : INFO : worker thread finished; awaiting finish of 6 more threads\n",
      "2021-02-24 22:49:22,889 : INFO : worker thread finished; awaiting finish of 5 more threads\n",
      "2021-02-24 22:49:22,891 : INFO : worker thread finished; awaiting finish of 4 more threads\n",
      "2021-02-24 22:49:22,897 : INFO : worker thread finished; awaiting finish of 3 more threads\n",
      "2021-02-24 22:49:22,902 : INFO : worker thread finished; awaiting finish of 2 more threads\n",
      "2021-02-24 22:49:22,907 : INFO : worker thread finished; awaiting finish of 1 more threads\n",
      "2021-02-24 22:49:22,909 : INFO : worker thread finished; awaiting finish of 0 more threads\n",
      "2021-02-24 22:49:22,910 : INFO : EPOCH - 4 : training on 15305050 raw words (3679026 effective words) took 11.7s, 315023 effective words/s\n",
      "2021-02-24 22:49:23,916 : INFO : EPOCH 5 - PROGRESS: at 8.24% examples, 303393 words/s, in_qsize 18, out_qsize 0\n",
      "2021-02-24 22:49:24,921 : INFO : EPOCH 5 - PROGRESS: at 17.89% examples, 327235 words/s, in_qsize 0, out_qsize 1\n",
      "2021-02-24 22:49:25,931 : INFO : EPOCH 5 - PROGRESS: at 26.30% examples, 318990 words/s, in_qsize 16, out_qsize 0\n",
      "2021-02-24 22:49:26,931 : INFO : EPOCH 5 - PROGRESS: at 35.32% examples, 322210 words/s, in_qsize 20, out_qsize 2\n",
      "2021-02-24 22:49:27,943 : INFO : EPOCH 5 - PROGRESS: at 44.81% examples, 326402 words/s, in_qsize 6, out_qsize 1\n",
      "2021-02-24 22:49:28,946 : INFO : EPOCH 5 - PROGRESS: at 53.58% examples, 325595 words/s, in_qsize 0, out_qsize 0\n",
      "2021-02-24 22:49:29,955 : INFO : EPOCH 5 - PROGRESS: at 61.86% examples, 322161 words/s, in_qsize 23, out_qsize 1\n",
      "2021-02-24 22:49:30,963 : INFO : EPOCH 5 - PROGRESS: at 71.08% examples, 323960 words/s, in_qsize 11, out_qsize 1\n",
      "2021-02-24 22:49:31,975 : INFO : EPOCH 5 - PROGRESS: at 80.49% examples, 326310 words/s, in_qsize 0, out_qsize 0\n",
      "2021-02-24 22:49:32,979 : INFO : EPOCH 5 - PROGRESS: at 89.43% examples, 326509 words/s, in_qsize 2, out_qsize 0\n",
      "2021-02-24 22:49:33,983 : INFO : EPOCH 5 - PROGRESS: at 97.99% examples, 325457 words/s, in_qsize 19, out_qsize 0\n",
      "2021-02-24 22:49:34,131 : INFO : worker thread finished; awaiting finish of 11 more threads\n",
      "2021-02-24 22:49:34,136 : INFO : worker thread finished; awaiting finish of 10 more threads\n",
      "2021-02-24 22:49:34,138 : INFO : worker thread finished; awaiting finish of 9 more threads\n",
      "2021-02-24 22:49:34,140 : INFO : worker thread finished; awaiting finish of 8 more threads\n",
      "2021-02-24 22:49:34,142 : INFO : worker thread finished; awaiting finish of 7 more threads\n",
      "2021-02-24 22:49:34,145 : INFO : worker thread finished; awaiting finish of 6 more threads\n",
      "2021-02-24 22:49:34,150 : INFO : worker thread finished; awaiting finish of 5 more threads\n",
      "2021-02-24 22:49:34,154 : INFO : worker thread finished; awaiting finish of 4 more threads\n",
      "2021-02-24 22:49:34,164 : INFO : worker thread finished; awaiting finish of 3 more threads\n",
      "2021-02-24 22:49:34,166 : INFO : worker thread finished; awaiting finish of 2 more threads\n",
      "2021-02-24 22:49:34,168 : INFO : worker thread finished; awaiting finish of 1 more threads\n",
      "2021-02-24 22:49:34,169 : INFO : worker thread finished; awaiting finish of 0 more threads\n",
      "2021-02-24 22:49:34,170 : INFO : EPOCH - 5 : training on 15305050 raw words (3679504 effective words) took 11.3s, 326917 effective words/s\n",
      "2021-02-24 22:49:35,177 : INFO : EPOCH 6 - PROGRESS: at 8.71% examples, 319086 words/s, in_qsize 7, out_qsize 1\n",
      "2021-02-24 22:49:36,182 : INFO : EPOCH 6 - PROGRESS: at 18.33% examples, 334959 words/s, in_qsize 0, out_qsize 0\n",
      "2021-02-24 22:49:37,196 : INFO : EPOCH 6 - PROGRESS: at 27.01% examples, 326790 words/s, in_qsize 23, out_qsize 0\n",
      "2021-02-24 22:49:38,215 : INFO : EPOCH 6 - PROGRESS: at 36.18% examples, 327833 words/s, in_qsize 18, out_qsize 0\n",
      "2021-02-24 22:49:39,219 : INFO : EPOCH 6 - PROGRESS: at 45.06% examples, 327220 words/s, in_qsize 23, out_qsize 1\n",
      "2021-02-24 22:49:40,222 : INFO : EPOCH 6 - PROGRESS: at 54.62% examples, 331150 words/s, in_qsize 16, out_qsize 1\n",
      "2021-02-24 22:49:41,224 : INFO : EPOCH 6 - PROGRESS: at 62.77% examples, 326965 words/s, in_qsize 21, out_qsize 0\n",
      "2021-02-24 22:49:42,230 : INFO : EPOCH 6 - PROGRESS: at 72.64% examples, 330947 words/s, in_qsize 0, out_qsize 0\n",
      "2021-02-24 22:49:43,233 : INFO : EPOCH 6 - PROGRESS: at 81.59% examples, 330871 words/s, in_qsize 0, out_qsize 0\n",
      "2021-02-24 22:49:44,240 : INFO : EPOCH 6 - PROGRESS: at 90.79% examples, 331565 words/s, in_qsize 0, out_qsize 0\n",
      "2021-02-24 22:49:45,248 : INFO : EPOCH 6 - PROGRESS: at 99.30% examples, 329863 words/s, in_qsize 10, out_qsize 3\n",
      "2021-02-24 22:49:45,267 : INFO : worker thread finished; awaiting finish of 11 more threads\n",
      "2021-02-24 22:49:45,269 : INFO : worker thread finished; awaiting finish of 10 more threads\n",
      "2021-02-24 22:49:45,271 : INFO : worker thread finished; awaiting finish of 9 more threads\n",
      "2021-02-24 22:49:45,273 : INFO : worker thread finished; awaiting finish of 8 more threads\n",
      "2021-02-24 22:49:45,274 : INFO : worker thread finished; awaiting finish of 7 more threads\n",
      "2021-02-24 22:49:45,276 : INFO : worker thread finished; awaiting finish of 6 more threads\n",
      "2021-02-24 22:49:45,278 : INFO : worker thread finished; awaiting finish of 5 more threads\n",
      "2021-02-24 22:49:45,296 : INFO : worker thread finished; awaiting finish of 4 more threads\n",
      "2021-02-24 22:49:45,299 : INFO : worker thread finished; awaiting finish of 3 more threads\n",
      "2021-02-24 22:49:45,303 : INFO : worker thread finished; awaiting finish of 2 more threads\n",
      "2021-02-24 22:49:45,305 : INFO : worker thread finished; awaiting finish of 1 more threads\n",
      "2021-02-24 22:49:45,306 : INFO : worker thread finished; awaiting finish of 0 more threads\n",
      "2021-02-24 22:49:45,307 : INFO : EPOCH - 6 : training on 15305050 raw words (3679010 effective words) took 11.1s, 330501 effective words/s\n",
      "2021-02-24 22:49:46,320 : INFO : EPOCH 7 - PROGRESS: at 7.99% examples, 291869 words/s, in_qsize 12, out_qsize 1\n",
      "2021-02-24 22:49:47,331 : INFO : EPOCH 7 - PROGRESS: at 17.62% examples, 320229 words/s, in_qsize 0, out_qsize 0\n",
      "2021-02-24 22:49:48,333 : INFO : EPOCH 7 - PROGRESS: at 26.88% examples, 325673 words/s, in_qsize 0, out_qsize 0\n",
      "2021-02-24 22:49:49,347 : INFO : EPOCH 7 - PROGRESS: at 36.18% examples, 328326 words/s, in_qsize 1, out_qsize 0\n",
      "2021-02-24 22:49:50,354 : INFO : EPOCH 7 - PROGRESS: at 44.37% examples, 322148 words/s, in_qsize 23, out_qsize 0\n",
      "2021-02-24 22:49:51,356 : INFO : EPOCH 7 - PROGRESS: at 53.50% examples, 324532 words/s, in_qsize 12, out_qsize 0\n",
      "2021-02-24 22:49:52,357 : INFO : EPOCH 7 - PROGRESS: at 62.90% examples, 327787 words/s, in_qsize 0, out_qsize 2\n",
      "2021-02-24 22:49:53,361 : INFO : EPOCH 7 - PROGRESS: at 71.27% examples, 324867 words/s, in_qsize 22, out_qsize 1\n",
      "2021-02-24 22:49:54,368 : INFO : EPOCH 7 - PROGRESS: at 80.49% examples, 326485 words/s, in_qsize 22, out_qsize 0\n",
      "2021-02-24 22:49:55,369 : INFO : EPOCH 7 - PROGRESS: at 89.93% examples, 328718 words/s, in_qsize 0, out_qsize 2\n",
      "2021-02-24 22:49:56,392 : INFO : EPOCH 7 - PROGRESS: at 98.92% examples, 328315 words/s, in_qsize 17, out_qsize 0\n",
      "2021-02-24 22:49:56,422 : INFO : worker thread finished; awaiting finish of 11 more threads\n"
     ]
    },
    {
     "name": "stderr",
     "output_type": "stream",
     "text": [
      "2021-02-24 22:49:56,428 : INFO : worker thread finished; awaiting finish of 10 more threads\n",
      "2021-02-24 22:49:56,430 : INFO : worker thread finished; awaiting finish of 9 more threads\n",
      "2021-02-24 22:49:56,431 : INFO : worker thread finished; awaiting finish of 8 more threads\n",
      "2021-02-24 22:49:56,433 : INFO : worker thread finished; awaiting finish of 7 more threads\n",
      "2021-02-24 22:49:56,435 : INFO : worker thread finished; awaiting finish of 6 more threads\n",
      "2021-02-24 22:49:56,439 : INFO : worker thread finished; awaiting finish of 5 more threads\n",
      "2021-02-24 22:49:56,446 : INFO : worker thread finished; awaiting finish of 4 more threads\n",
      "2021-02-24 22:49:56,451 : INFO : worker thread finished; awaiting finish of 3 more threads\n",
      "2021-02-24 22:49:56,454 : INFO : worker thread finished; awaiting finish of 2 more threads\n",
      "2021-02-24 22:49:56,458 : INFO : worker thread finished; awaiting finish of 1 more threads\n",
      "2021-02-24 22:49:56,462 : INFO : worker thread finished; awaiting finish of 0 more threads\n",
      "2021-02-24 22:49:56,463 : INFO : EPOCH - 7 : training on 15305050 raw words (3679148 effective words) took 11.2s, 329955 effective words/s\n",
      "2021-02-24 22:49:57,468 : INFO : EPOCH 8 - PROGRESS: at 7.93% examples, 290972 words/s, in_qsize 23, out_qsize 0\n",
      "2021-02-24 22:49:58,469 : INFO : EPOCH 8 - PROGRESS: at 17.74% examples, 325205 words/s, in_qsize 0, out_qsize 0\n",
      "2021-02-24 22:49:59,480 : INFO : EPOCH 8 - PROGRESS: at 27.06% examples, 328806 words/s, in_qsize 0, out_qsize 0\n",
      "2021-02-24 22:50:00,501 : INFO : EPOCH 8 - PROGRESS: at 35.92% examples, 325877 words/s, in_qsize 0, out_qsize 1\n",
      "2021-02-24 22:50:01,507 : INFO : EPOCH 8 - PROGRESS: at 43.61% examples, 316464 words/s, in_qsize 23, out_qsize 0\n",
      "2021-02-24 22:50:02,508 : INFO : EPOCH 8 - PROGRESS: at 52.92% examples, 321053 words/s, in_qsize 16, out_qsize 0\n",
      "2021-02-24 22:50:03,509 : INFO : EPOCH 8 - PROGRESS: at 62.22% examples, 324089 words/s, in_qsize 0, out_qsize 1\n",
      "2021-02-24 22:50:04,518 : INFO : EPOCH 8 - PROGRESS: at 71.33% examples, 325049 words/s, in_qsize 17, out_qsize 1\n",
      "2021-02-24 22:50:05,519 : INFO : EPOCH 8 - PROGRESS: at 80.12% examples, 325015 words/s, in_qsize 17, out_qsize 0\n",
      "2021-02-24 22:50:06,527 : INFO : EPOCH 8 - PROGRESS: at 89.68% examples, 327627 words/s, in_qsize 1, out_qsize 1\n",
      "2021-02-24 22:50:07,536 : INFO : EPOCH 8 - PROGRESS: at 98.28% examples, 326511 words/s, in_qsize 22, out_qsize 1\n",
      "2021-02-24 22:50:07,627 : INFO : worker thread finished; awaiting finish of 11 more threads\n",
      "2021-02-24 22:50:07,639 : INFO : worker thread finished; awaiting finish of 10 more threads\n",
      "2021-02-24 22:50:07,642 : INFO : worker thread finished; awaiting finish of 9 more threads\n",
      "2021-02-24 22:50:07,643 : INFO : worker thread finished; awaiting finish of 8 more threads\n",
      "2021-02-24 22:50:07,646 : INFO : worker thread finished; awaiting finish of 7 more threads\n",
      "2021-02-24 22:50:07,647 : INFO : worker thread finished; awaiting finish of 6 more threads\n",
      "2021-02-24 22:50:07,649 : INFO : worker thread finished; awaiting finish of 5 more threads\n",
      "2021-02-24 22:50:07,655 : INFO : worker thread finished; awaiting finish of 4 more threads\n",
      "2021-02-24 22:50:07,662 : INFO : worker thread finished; awaiting finish of 3 more threads\n",
      "2021-02-24 22:50:07,664 : INFO : worker thread finished; awaiting finish of 2 more threads\n",
      "2021-02-24 22:50:07,666 : INFO : worker thread finished; awaiting finish of 1 more threads\n",
      "2021-02-24 22:50:07,671 : INFO : worker thread finished; awaiting finish of 0 more threads\n",
      "2021-02-24 22:50:07,672 : INFO : EPOCH - 8 : training on 15305050 raw words (3679167 effective words) took 11.2s, 328373 effective words/s\n",
      "2021-02-24 22:50:08,683 : INFO : EPOCH 9 - PROGRESS: at 8.37% examples, 306158 words/s, in_qsize 24, out_qsize 0\n",
      "2021-02-24 22:50:09,687 : INFO : EPOCH 9 - PROGRESS: at 17.96% examples, 327455 words/s, in_qsize 1, out_qsize 0\n",
      "2021-02-24 22:50:10,687 : INFO : EPOCH 9 - PROGRESS: at 27.33% examples, 332563 words/s, in_qsize 0, out_qsize 0\n",
      "2021-02-24 22:50:11,689 : INFO : EPOCH 9 - PROGRESS: at 35.93% examples, 327740 words/s, in_qsize 16, out_qsize 0\n",
      "2021-02-24 22:50:12,691 : INFO : EPOCH 9 - PROGRESS: at 44.75% examples, 326948 words/s, in_qsize 22, out_qsize 0\n",
      "2021-02-24 22:50:13,703 : INFO : EPOCH 9 - PROGRESS: at 54.23% examples, 330018 words/s, in_qsize 18, out_qsize 0\n",
      "2021-02-24 22:50:14,732 : INFO : EPOCH 9 - PROGRESS: at 63.76% examples, 331804 words/s, in_qsize 2, out_qsize 2\n",
      "2021-02-24 22:50:15,742 : INFO : EPOCH 9 - PROGRESS: at 72.39% examples, 329311 words/s, in_qsize 23, out_qsize 0\n",
      "2021-02-24 22:50:16,746 : INFO : EPOCH 9 - PROGRESS: at 81.32% examples, 329454 words/s, in_qsize 0, out_qsize 0\n",
      "2021-02-24 22:50:17,759 : INFO : EPOCH 9 - PROGRESS: at 89.95% examples, 327893 words/s, in_qsize 17, out_qsize 2\n",
      "2021-02-24 22:50:18,767 : INFO : EPOCH 9 - PROGRESS: at 99.24% examples, 329093 words/s, in_qsize 12, out_qsize 0\n",
      "2021-02-24 22:50:18,775 : INFO : worker thread finished; awaiting finish of 11 more threads\n",
      "2021-02-24 22:50:18,777 : INFO : worker thread finished; awaiting finish of 10 more threads\n",
      "2021-02-24 22:50:18,778 : INFO : worker thread finished; awaiting finish of 9 more threads\n",
      "2021-02-24 22:50:18,786 : INFO : worker thread finished; awaiting finish of 8 more threads\n",
      "2021-02-24 22:50:18,791 : INFO : worker thread finished; awaiting finish of 7 more threads\n",
      "2021-02-24 22:50:18,793 : INFO : worker thread finished; awaiting finish of 6 more threads\n",
      "2021-02-24 22:50:18,799 : INFO : worker thread finished; awaiting finish of 5 more threads\n",
      "2021-02-24 22:50:18,807 : INFO : worker thread finished; awaiting finish of 4 more threads\n",
      "2021-02-24 22:50:18,809 : INFO : worker thread finished; awaiting finish of 3 more threads\n",
      "2021-02-24 22:50:18,811 : INFO : worker thread finished; awaiting finish of 2 more threads\n",
      "2021-02-24 22:50:18,813 : INFO : worker thread finished; awaiting finish of 1 more threads\n",
      "2021-02-24 22:50:18,815 : INFO : worker thread finished; awaiting finish of 0 more threads\n",
      "2021-02-24 22:50:18,816 : INFO : EPOCH - 9 : training on 15305050 raw words (3678450 effective words) took 11.1s, 330231 effective words/s\n",
      "2021-02-24 22:50:19,826 : INFO : EPOCH 10 - PROGRESS: at 8.91% examples, 325985 words/s, in_qsize 0, out_qsize 0\n",
      "2021-02-24 22:50:20,836 : INFO : EPOCH 10 - PROGRESS: at 17.01% examples, 310114 words/s, in_qsize 17, out_qsize 3\n",
      "2021-02-24 22:50:21,841 : INFO : EPOCH 10 - PROGRESS: at 27.06% examples, 328125 words/s, in_qsize 0, out_qsize 0\n",
      "2021-02-24 22:50:22,845 : INFO : EPOCH 10 - PROGRESS: at 35.86% examples, 326191 words/s, in_qsize 15, out_qsize 1\n",
      "2021-02-24 22:50:23,849 : INFO : EPOCH 10 - PROGRESS: at 45.48% examples, 331285 words/s, in_qsize 0, out_qsize 0\n",
      "2021-02-24 22:50:24,852 : INFO : EPOCH 10 - PROGRESS: at 53.38% examples, 324424 words/s, in_qsize 24, out_qsize 0\n",
      "2021-02-24 22:50:25,867 : INFO : EPOCH 10 - PROGRESS: at 63.30% examples, 329791 words/s, in_qsize 0, out_qsize 0\n",
      "2021-02-24 22:50:26,873 : INFO : EPOCH 10 - PROGRESS: at 71.60% examples, 326300 words/s, in_qsize 0, out_qsize 1\n",
      "2021-02-24 22:50:27,876 : INFO : EPOCH 10 - PROGRESS: at 80.12% examples, 325031 words/s, in_qsize 0, out_qsize 0\n",
      "2021-02-24 22:50:28,879 : INFO : EPOCH 10 - PROGRESS: at 88.51% examples, 323393 words/s, in_qsize 0, out_qsize 0\n",
      "2021-02-24 22:50:29,884 : INFO : EPOCH 10 - PROGRESS: at 97.38% examples, 323776 words/s, in_qsize 0, out_qsize 0\n",
      "2021-02-24 22:50:30,126 : INFO : worker thread finished; awaiting finish of 11 more threads\n",
      "2021-02-24 22:50:30,137 : INFO : worker thread finished; awaiting finish of 10 more threads\n",
      "2021-02-24 22:50:30,152 : INFO : worker thread finished; awaiting finish of 9 more threads\n",
      "2021-02-24 22:50:30,156 : INFO : worker thread finished; awaiting finish of 8 more threads\n",
      "2021-02-24 22:50:30,159 : INFO : worker thread finished; awaiting finish of 7 more threads\n",
      "2021-02-24 22:50:30,165 : INFO : worker thread finished; awaiting finish of 6 more threads\n",
      "2021-02-24 22:50:30,173 : INFO : worker thread finished; awaiting finish of 5 more threads\n",
      "2021-02-24 22:50:30,175 : INFO : worker thread finished; awaiting finish of 4 more threads\n",
      "2021-02-24 22:50:30,177 : INFO : worker thread finished; awaiting finish of 3 more threads\n",
      "2021-02-24 22:50:30,179 : INFO : worker thread finished; awaiting finish of 2 more threads\n"
     ]
    },
    {
     "name": "stderr",
     "output_type": "stream",
     "text": [
      "2021-02-24 22:50:30,181 : INFO : worker thread finished; awaiting finish of 1 more threads\n",
      "2021-02-24 22:50:30,182 : INFO : worker thread finished; awaiting finish of 0 more threads\n",
      "2021-02-24 22:50:30,184 : INFO : EPOCH - 10 : training on 15305050 raw words (3680301 effective words) took 11.4s, 323918 effective words/s\n",
      "2021-02-24 22:50:30,185 : INFO : training on a 153050500 raw words (36791213 effective words) took 114.1s, 322482 effective words/s\n",
      "2021-02-24 22:50:30,186 : INFO : saving Word2Vec object under dados/experimento_3/w2v_jur.model, separately None\n",
      "2021-02-24 22:50:30,188 : INFO : not storing attribute vectors_norm\n",
      "2021-02-24 22:50:30,189 : INFO : not storing attribute cum_table\n",
      "2021-02-24 22:50:31,326 : INFO : saved dados/experimento_3/w2v_jur.model\n"
     ]
    },
    {
     "name": "stdout",
     "output_type": "stream",
     "text": [
      "treinando modelo word2vec\n"
     ]
    },
    {
     "name": "stderr",
     "output_type": "stream",
     "text": [
      "2021-02-24 22:50:31,328 : INFO : resetting layer weights\n",
      "2021-02-24 22:50:36,366 : INFO : collecting all words and their counts\n",
      "2021-02-24 22:50:36,368 : INFO : PROGRESS: at sentence #0, processed 0 words, keeping 0 word types\n",
      "2021-02-24 22:50:36,436 : INFO : PROGRESS: at sentence #10000, processed 243516 words, keeping 13061 word types\n",
      "2021-02-24 22:50:36,503 : INFO : PROGRESS: at sentence #20000, processed 487062 words, keeping 18413 word types\n",
      "2021-02-24 22:50:36,575 : INFO : PROGRESS: at sentence #30000, processed 736406 words, keeping 22360 word types\n",
      "2021-02-24 22:50:36,642 : INFO : PROGRESS: at sentence #40000, processed 976105 words, keeping 25616 word types\n",
      "2021-02-24 22:50:36,714 : INFO : PROGRESS: at sentence #50000, processed 1218704 words, keeping 28085 word types\n",
      "2021-02-24 22:50:36,785 : INFO : PROGRESS: at sentence #60000, processed 1459252 words, keeping 30477 word types\n",
      "2021-02-24 22:50:36,859 : INFO : PROGRESS: at sentence #70000, processed 1704401 words, keeping 32458 word types\n",
      "2021-02-24 22:50:36,931 : INFO : PROGRESS: at sentence #80000, processed 1949823 words, keeping 34374 word types\n",
      "2021-02-24 22:50:36,995 : INFO : PROGRESS: at sentence #90000, processed 2183658 words, keeping 35881 word types\n",
      "2021-02-24 22:50:37,065 : INFO : PROGRESS: at sentence #100000, processed 2434992 words, keeping 37337 word types\n",
      "2021-02-24 22:50:37,136 : INFO : PROGRESS: at sentence #110000, processed 2682241 words, keeping 39052 word types\n",
      "2021-02-24 22:50:37,204 : INFO : PROGRESS: at sentence #120000, processed 2925794 words, keeping 40491 word types\n",
      "2021-02-24 22:50:37,272 : INFO : PROGRESS: at sentence #130000, processed 3169754 words, keeping 41748 word types\n",
      "2021-02-24 22:50:37,339 : INFO : PROGRESS: at sentence #140000, processed 3410846 words, keeping 42906 word types\n",
      "2021-02-24 22:50:37,405 : INFO : PROGRESS: at sentence #150000, processed 3645693 words, keeping 44141 word types\n",
      "2021-02-24 22:50:37,474 : INFO : PROGRESS: at sentence #160000, processed 3883716 words, keeping 45376 word types\n",
      "2021-02-24 22:50:37,542 : INFO : PROGRESS: at sentence #170000, processed 4130302 words, keeping 46515 word types\n",
      "2021-02-24 22:50:37,610 : INFO : PROGRESS: at sentence #180000, processed 4370311 words, keeping 47609 word types\n",
      "2021-02-24 22:50:37,681 : INFO : PROGRESS: at sentence #190000, processed 4622928 words, keeping 48857 word types\n",
      "2021-02-24 22:50:37,747 : INFO : PROGRESS: at sentence #200000, processed 4858388 words, keeping 49852 word types\n",
      "2021-02-24 22:50:37,812 : INFO : PROGRESS: at sentence #210000, processed 5095506 words, keeping 50819 word types\n",
      "2021-02-24 22:50:37,879 : INFO : PROGRESS: at sentence #220000, processed 5336906 words, keeping 51942 word types\n",
      "2021-02-24 22:50:37,948 : INFO : PROGRESS: at sentence #230000, processed 5581656 words, keeping 52905 word types\n",
      "2021-02-24 22:50:38,013 : INFO : PROGRESS: at sentence #240000, processed 5817499 words, keeping 53742 word types\n",
      "2021-02-24 22:50:38,082 : INFO : PROGRESS: at sentence #250000, processed 6066802 words, keeping 54753 word types\n",
      "2021-02-24 22:50:38,151 : INFO : PROGRESS: at sentence #260000, processed 6312153 words, keeping 55635 word types\n",
      "2021-02-24 22:50:38,219 : INFO : PROGRESS: at sentence #270000, processed 6552799 words, keeping 56394 word types\n",
      "2021-02-24 22:50:38,288 : INFO : PROGRESS: at sentence #280000, processed 6800161 words, keeping 57257 word types\n",
      "2021-02-24 22:50:38,356 : INFO : PROGRESS: at sentence #290000, processed 7041532 words, keeping 58245 word types\n",
      "2021-02-24 22:50:38,424 : INFO : PROGRESS: at sentence #300000, processed 7290637 words, keeping 59222 word types\n",
      "2021-02-24 22:50:38,493 : INFO : PROGRESS: at sentence #310000, processed 7533180 words, keeping 60080 word types\n",
      "2021-02-24 22:50:38,560 : INFO : PROGRESS: at sentence #320000, processed 7772394 words, keeping 60828 word types\n",
      "2021-02-24 22:50:38,627 : INFO : PROGRESS: at sentence #330000, processed 8014349 words, keeping 61556 word types\n",
      "2021-02-24 22:50:38,698 : INFO : PROGRESS: at sentence #340000, processed 8254646 words, keeping 62263 word types\n",
      "2021-02-24 22:50:38,766 : INFO : PROGRESS: at sentence #350000, processed 8498198 words, keeping 63035 word types\n",
      "2021-02-24 22:50:38,834 : INFO : PROGRESS: at sentence #360000, processed 8738048 words, keeping 63741 word types\n",
      "2021-02-24 22:50:38,902 : INFO : PROGRESS: at sentence #370000, processed 8978391 words, keeping 64538 word types\n",
      "2021-02-24 22:50:38,971 : INFO : PROGRESS: at sentence #380000, processed 9226887 words, keeping 65275 word types\n",
      "2021-02-24 22:50:39,040 : INFO : PROGRESS: at sentence #390000, processed 9473014 words, keeping 65972 word types\n",
      "2021-02-24 22:50:39,109 : INFO : PROGRESS: at sentence #400000, processed 9723554 words, keeping 66584 word types\n",
      "2021-02-24 22:50:39,175 : INFO : PROGRESS: at sentence #410000, processed 9966382 words, keeping 67272 word types\n",
      "2021-02-24 22:50:39,247 : INFO : PROGRESS: at sentence #420000, processed 10210794 words, keeping 68047 word types\n",
      "2021-02-24 22:50:39,315 : INFO : PROGRESS: at sentence #430000, processed 10450200 words, keeping 68659 word types\n",
      "2021-02-24 22:50:39,382 : INFO : PROGRESS: at sentence #440000, processed 10690623 words, keeping 69341 word types\n",
      "2021-02-24 22:50:39,450 : INFO : PROGRESS: at sentence #450000, processed 10927342 words, keeping 69916 word types\n",
      "2021-02-24 22:50:39,518 : INFO : PROGRESS: at sentence #460000, processed 11170326 words, keeping 70593 word types\n",
      "2021-02-24 22:50:39,589 : INFO : PROGRESS: at sentence #470000, processed 11417707 words, keeping 71196 word types\n",
      "2021-02-24 22:50:39,659 : INFO : PROGRESS: at sentence #480000, processed 11662843 words, keeping 71877 word types\n",
      "2021-02-24 22:50:39,728 : INFO : PROGRESS: at sentence #490000, processed 11907515 words, keeping 72567 word types\n",
      "2021-02-24 22:50:39,796 : INFO : PROGRESS: at sentence #500000, processed 12147450 words, keeping 73377 word types\n",
      "2021-02-24 22:50:39,865 : INFO : PROGRESS: at sentence #510000, processed 12395324 words, keeping 73957 word types\n",
      "2021-02-24 22:50:39,932 : INFO : PROGRESS: at sentence #520000, processed 12636263 words, keeping 74514 word types\n",
      "2021-02-24 22:50:40,000 : INFO : PROGRESS: at sentence #530000, processed 12880811 words, keeping 75096 word types\n",
      "2021-02-24 22:50:40,068 : INFO : PROGRESS: at sentence #540000, processed 13123404 words, keeping 75583 word types\n",
      "2021-02-24 22:50:40,135 : INFO : PROGRESS: at sentence #550000, processed 13367246 words, keeping 76200 word types\n",
      "2021-02-24 22:50:40,204 : INFO : PROGRESS: at sentence #560000, processed 13606870 words, keeping 76729 word types\n",
      "2021-02-24 22:50:40,273 : INFO : PROGRESS: at sentence #570000, processed 13849612 words, keeping 77380 word types\n",
      "2021-02-24 22:50:40,340 : INFO : PROGRESS: at sentence #580000, processed 14090560 words, keeping 77991 word types\n",
      "2021-02-24 22:50:40,410 : INFO : PROGRESS: at sentence #590000, processed 14334814 words, keeping 78592 word types\n",
      "2021-02-24 22:50:40,480 : INFO : PROGRESS: at sentence #600000, processed 14581588 words, keeping 79231 word types\n",
      "2021-02-24 22:50:40,548 : INFO : PROGRESS: at sentence #610000, processed 14821248 words, keeping 79731 word types\n",
      "2021-02-24 22:50:40,617 : INFO : PROGRESS: at sentence #620000, processed 15068222 words, keeping 80428 word types\n",
      "2021-02-24 22:50:40,683 : INFO : collected 80964 word types from a corpus of 15305050 raw words and 629609 sentences\n",
      "2021-02-24 22:50:40,684 : INFO : Loading a fresh vocabulary\n",
      "2021-02-24 22:50:40,736 : INFO : effective_min_count=5 retains 32441 unique words (40% of original 80964, drops 48523)\n",
      "2021-02-24 22:50:40,737 : INFO : effective_min_count=5 leaves 15223083 word corpus (99% of original 15305050, drops 81967)\n",
      "2021-02-24 22:50:40,815 : INFO : deleting the raw counts dictionary of 80964 items\n",
      "2021-02-24 22:50:40,817 : INFO : sample=0.001 downsamples 37 most-common words\n",
      "2021-02-24 22:50:40,818 : INFO : downsampling leaves estimated 11019776 word corpus (72.4% of prior 15223083)\n",
      "2021-02-24 22:50:40,839 : INFO : constructing a huffman tree from 32441 words\n",
      "2021-02-24 22:50:41,533 : INFO : built huffman tree with maximum node depth 22\n",
      "2021-02-24 22:50:41,883 : INFO : estimated required memory for 32441 words, 137510 buckets and 100 dimensions: 125388972 bytes\n"
     ]
    },
    {
     "name": "stderr",
     "output_type": "stream",
     "text": [
      "2021-02-24 22:50:41,887 : INFO : resetting layer weights\n",
      "2021-02-24 22:50:45,372 : INFO : training model with 12 workers on 32441 vocabulary and 100 features, using sg=1 hs=1 sample=0.001 negative=5 window=5\n",
      "2021-02-24 22:51:37,747 : INFO : EPOCH 1 - PROGRESS: at 8.38% words, 17659 words/s, in_qsize -1, out_qsize 1\n",
      "2021-02-24 22:51:37,749 : INFO : worker thread finished; awaiting finish of 11 more threads\n",
      "2021-02-24 22:51:37,952 : INFO : worker thread finished; awaiting finish of 10 more threads\n",
      "2021-02-24 22:51:38,069 : INFO : worker thread finished; awaiting finish of 9 more threads\n",
      "2021-02-24 22:51:38,079 : INFO : worker thread finished; awaiting finish of 8 more threads\n",
      "2021-02-24 22:51:38,449 : INFO : worker thread finished; awaiting finish of 7 more threads\n",
      "2021-02-24 22:51:38,462 : INFO : worker thread finished; awaiting finish of 6 more threads\n",
      "2021-02-24 22:51:38,485 : INFO : worker thread finished; awaiting finish of 5 more threads\n",
      "2021-02-24 22:51:38,568 : INFO : worker thread finished; awaiting finish of 4 more threads\n",
      "2021-02-24 22:51:38,679 : INFO : worker thread finished; awaiting finish of 3 more threads\n",
      "2021-02-24 22:51:38,826 : INFO : EPOCH 1 - PROGRESS: at 83.78% words, 172846 words/s, in_qsize -1, out_qsize 1\n",
      "2021-02-24 22:51:38,827 : INFO : worker thread finished; awaiting finish of 2 more threads\n",
      "2021-02-24 22:51:38,847 : INFO : worker thread finished; awaiting finish of 1 more threads\n",
      "2021-02-24 22:51:38,892 : INFO : worker thread finished; awaiting finish of 0 more threads\n",
      "2021-02-24 22:51:38,893 : INFO : EPOCH - 1 : training on 15387796 raw words (11079766 effective words) took 53.5s, 207182 effective words/s\n",
      "2021-02-24 22:52:29,762 : INFO : EPOCH 2 - PROGRESS: at 8.38% words, 18178 words/s, in_qsize -1, out_qsize 1\n",
      "2021-02-24 22:52:29,765 : INFO : worker thread finished; awaiting finish of 11 more threads\n",
      "2021-02-24 22:52:29,970 : INFO : worker thread finished; awaiting finish of 10 more threads\n",
      "2021-02-24 22:52:29,987 : INFO : worker thread finished; awaiting finish of 9 more threads\n",
      "2021-02-24 22:52:29,992 : INFO : worker thread finished; awaiting finish of 8 more threads\n",
      "2021-02-24 22:52:30,465 : INFO : worker thread finished; awaiting finish of 7 more threads\n",
      "2021-02-24 22:52:30,710 : INFO : worker thread finished; awaiting finish of 6 more threads\n",
      "2021-02-24 22:52:30,712 : INFO : worker thread finished; awaiting finish of 5 more threads\n",
      "2021-02-24 22:52:30,836 : INFO : EPOCH 2 - PROGRESS: at 67.06% words, 142388 words/s, in_qsize -1, out_qsize 1\n",
      "2021-02-24 22:52:30,838 : INFO : worker thread finished; awaiting finish of 4 more threads\n",
      "2021-02-24 22:52:31,022 : INFO : worker thread finished; awaiting finish of 3 more threads\n",
      "2021-02-24 22:52:31,064 : INFO : worker thread finished; awaiting finish of 2 more threads\n",
      "2021-02-24 22:52:31,140 : INFO : worker thread finished; awaiting finish of 1 more threads\n",
      "2021-02-24 22:52:31,188 : INFO : worker thread finished; awaiting finish of 0 more threads\n",
      "2021-02-24 22:52:31,190 : INFO : EPOCH - 2 : training on 15387796 raw words (11079432 effective words) took 52.3s, 212032 effective words/s\n",
      "2021-02-24 22:53:22,171 : INFO : EPOCH 3 - PROGRESS: at 8.38% words, 18123 words/s, in_qsize -1, out_qsize 1\n",
      "2021-02-24 22:53:22,173 : INFO : worker thread finished; awaiting finish of 11 more threads\n",
      "2021-02-24 22:53:22,310 : INFO : worker thread finished; awaiting finish of 10 more threads\n",
      "2021-02-24 22:53:22,470 : INFO : worker thread finished; awaiting finish of 9 more threads\n",
      "2021-02-24 22:53:22,548 : INFO : worker thread finished; awaiting finish of 8 more threads\n",
      "2021-02-24 22:53:22,864 : INFO : worker thread finished; awaiting finish of 7 more threads\n",
      "2021-02-24 22:53:22,880 : INFO : worker thread finished; awaiting finish of 6 more threads\n",
      "2021-02-24 22:53:22,942 : INFO : worker thread finished; awaiting finish of 5 more threads\n",
      "2021-02-24 22:53:23,075 : INFO : worker thread finished; awaiting finish of 4 more threads\n",
      "2021-02-24 22:53:23,099 : INFO : worker thread finished; awaiting finish of 3 more threads\n",
      "2021-02-24 22:53:23,264 : INFO : EPOCH 3 - PROGRESS: at 83.77% words, 177394 words/s, in_qsize -1, out_qsize 1\n",
      "2021-02-24 22:53:23,265 : INFO : worker thread finished; awaiting finish of 2 more threads\n",
      "2021-02-24 22:53:23,358 : INFO : worker thread finished; awaiting finish of 1 more threads\n",
      "2021-02-24 22:53:23,396 : INFO : worker thread finished; awaiting finish of 0 more threads\n",
      "2021-02-24 22:53:23,397 : INFO : EPOCH - 3 : training on 15387796 raw words (11078948 effective words) took 52.2s, 212384 effective words/s\n",
      "2021-02-24 22:54:14,449 : INFO : EPOCH 4 - PROGRESS: at 8.38% words, 18107 words/s, in_qsize -1, out_qsize 1\n",
      "2021-02-24 22:54:14,451 : INFO : worker thread finished; awaiting finish of 11 more threads\n",
      "2021-02-24 22:54:14,599 : INFO : worker thread finished; awaiting finish of 10 more threads\n",
      "2021-02-24 22:54:14,602 : INFO : worker thread finished; awaiting finish of 9 more threads\n",
      "2021-02-24 22:54:14,786 : INFO : worker thread finished; awaiting finish of 8 more threads\n",
      "2021-02-24 22:54:15,124 : INFO : worker thread finished; awaiting finish of 7 more threads\n",
      "2021-02-24 22:54:15,170 : INFO : worker thread finished; awaiting finish of 6 more threads\n",
      "2021-02-24 22:54:15,254 : INFO : worker thread finished; awaiting finish of 5 more threads\n",
      "2021-02-24 22:54:15,381 : INFO : worker thread finished; awaiting finish of 4 more threads\n",
      "2021-02-24 22:54:15,487 : INFO : EPOCH 4 - PROGRESS: at 75.45% words, 159728 words/s, in_qsize -1, out_qsize 1\n",
      "2021-02-24 22:54:15,488 : INFO : worker thread finished; awaiting finish of 3 more threads\n",
      "2021-02-24 22:54:15,540 : INFO : worker thread finished; awaiting finish of 2 more threads\n",
      "2021-02-24 22:54:15,667 : INFO : worker thread finished; awaiting finish of 1 more threads\n",
      "2021-02-24 22:54:15,831 : INFO : worker thread finished; awaiting finish of 0 more threads\n",
      "2021-02-24 22:54:15,832 : INFO : EPOCH - 4 : training on 15387796 raw words (11078543 effective words) took 52.4s, 211451 effective words/s\n",
      "2021-02-24 22:55:07,129 : INFO : EPOCH 5 - PROGRESS: at 8.38% words, 18020 words/s, in_qsize -1, out_qsize 1\n",
      "2021-02-24 22:55:07,131 : INFO : worker thread finished; awaiting finish of 11 more threads\n",
      "2021-02-24 22:55:07,138 : INFO : worker thread finished; awaiting finish of 10 more threads\n",
      "2021-02-24 22:55:07,369 : INFO : worker thread finished; awaiting finish of 9 more threads\n",
      "2021-02-24 22:55:07,737 : INFO : worker thread finished; awaiting finish of 8 more threads\n",
      "2021-02-24 22:55:07,858 : INFO : worker thread finished; awaiting finish of 7 more threads\n",
      "2021-02-24 22:55:07,969 : INFO : worker thread finished; awaiting finish of 6 more threads\n",
      "2021-02-24 22:55:08,016 : INFO : worker thread finished; awaiting finish of 5 more threads\n",
      "2021-02-24 22:55:08,043 : INFO : worker thread finished; awaiting finish of 4 more threads\n",
      "2021-02-24 22:55:08,181 : INFO : EPOCH 5 - PROGRESS: at 75.39% words, 158841 words/s, in_qsize -1, out_qsize 1\n",
      "2021-02-24 22:55:08,182 : INFO : worker thread finished; awaiting finish of 3 more threads\n",
      "2021-02-24 22:55:08,382 : INFO : worker thread finished; awaiting finish of 2 more threads\n",
      "2021-02-24 22:55:08,492 : INFO : worker thread finished; awaiting finish of 1 more threads\n",
      "2021-02-24 22:55:08,562 : INFO : worker thread finished; awaiting finish of 0 more threads\n",
      "2021-02-24 22:55:08,564 : INFO : EPOCH - 5 : training on 15387796 raw words (11080079 effective words) took 52.7s, 210297 effective words/s\n",
      "2021-02-24 22:55:08,567 : INFO : training on a 76938980 raw words (55396768 effective words) took 263.2s, 210479 effective words/s\n",
      "2021-02-24 22:55:08,568 : WARNING : under 10 jobs per worker: consider setting a smaller `batch_words' for smoother alpha decay\n",
      "2021-02-24 22:55:10,115 : INFO : saving FastText object under dados/experimento_3/ftt_jur.model, separately None\n",
      "2021-02-24 22:55:10,116 : INFO : storing np array 'vectors_ngrams' to dados/experimento_3/ftt_jur.model.wv.vectors_ngrams.npy\n",
      "2021-02-24 22:55:17,075 : INFO : not storing attribute vectors_norm\n",
      "2021-02-24 22:55:17,076 : INFO : not storing attribute vectors_vocab_norm\n",
      "2021-02-24 22:55:17,077 : INFO : not storing attribute vectors_ngrams_norm\n"
     ]
    },
    {
     "name": "stderr",
     "output_type": "stream",
     "text": [
      "2021-02-24 22:55:17,078 : INFO : not storing attribute buckets_word\n",
      "2021-02-24 22:55:17,079 : INFO : storing np array 'vectors_ngrams_lockf' to dados/experimento_3/ftt_jur.model.trainables.vectors_ngrams_lockf.npy\n",
      "2021-02-24 22:55:24,753 : INFO : saved dados/experimento_3/ftt_jur.model\n"
     ]
    },
    {
     "name": "stdout",
     "output_type": "stream",
     "text": [
      "treinando modelo glove\n",
      "mkdir -p build\n",
      "tokenizando corpus\n",
      "$ build/vocab_count -min-count 5 -verbose 2 < ../mestrado/experimentos_mestrado/dados/experimento_3/base_treino_glv.txt > ../mestrado/experimentos_mestrado/dados/experimento_3/glove_vocab.txt\n",
      "criando matriz de coocorrencia\n",
      "$ build/cooccur -memory 4.0 -vocab-file ../mestrado/experimentos_mestrado/dados/experimento_3/glove_vocab.txt -verbose 2 -window-size 15 < ../mestrado/experimentos_mestrado/dados/experimento_3/base_treino_glv.txt > ../mestrado/experimentos_mestrado/dados/experimento_3/glv_concurrence.bin\n",
      "$ build/shuffle -memory 4.0 -verbose 2 < ../mestrado/experimentos_mestrado/dados/experimento_3/glv_concurrence.bin > ../mestrado/experimentos_mestrado/dados/experimento_3/glv_concurrence_shuf.bin\n",
      "$ build/glove -save-file ../mestrado/experimentos_mestrado/dados/experimento_3/glv_jur -threads 8 -input-file ../mestrado/experimentos_mestrado/dados/experimento_3/glv_concurrence_shuf.bin -x-max 10 -iter 15 -vector-size 100 -binary 2 -vocab-file ../mestrado/experimentos_mestrado/dados/experimento_3/glove_vocab.txt -verbose 2\n",
      "\n",
      "BUILDING VOCABULARY\n",
      "Processed 0 tokens.100000 tokens.200000 tokens.300000 tokens.400000 tokens.500000 tokens.600000 tokens.700000 tokens.800000 tokens.900000 tokens.1000000 tokens.1100000 tokens.1200000 tokens.1300000 tokens.1400000 tokens.1500000 tokens.1600000 tokens.1700000 tokens.1800000 tokens.1900000 tokens.2000000 tokens.2100000 tokens.2200000 tokens.2300000 tokens.2400000 tokens.2500000 tokens.2600000 tokens.2700000 tokens.2800000 tokens.2900000 tokens.3000000 tokens.3100000 tokens.3200000 tokens.3300000 tokens.3400000 tokens.3500000 tokens.3600000 tokens.3700000 tokens.3800000 tokens.3900000 tokens.4000000 tokens.4100000 tokens.4200000 tokens.4300000 tokens.4400000 tokens.4500000 tokens.4600000 tokens.4700000 tokens.4800000 tokens.4900000 tokens.5000000 tokens.5100000 tokens.5200000 tokens.5300000 tokens.5400000 tokens.5500000 tokens.5600000 tokens.5700000 tokens.5800000 tokens.5900000 tokens.6000000 tokens.6100000 tokens.6200000 tokens.6300000 tokens.6400000 tokens.6500000 tokens.6600000 tokens.6700000 tokens.6800000 tokens.6900000 tokens.7000000 tokens.7100000 tokens.7200000 tokens.7300000 tokens.7400000 tokens.7500000 tokens.7600000 tokens.7700000 tokens.7800000 tokens.7900000 tokens.8000000 tokens.8100000 tokens.8200000 tokens.8300000 tokens.8400000 tokens.8500000 tokens.8600000 tokens.8700000 tokens.8800000 tokens.8900000 tokens.9000000 tokens.9100000 tokens.9200000 tokens.9300000 tokens.9400000 tokens.9500000 tokens.9600000 tokens.Processed 9632456 tokens.\n",
      "Counted 80786 unique words.\n",
      "Truncating vocabulary at min count 5.\n",
      "Using vocabulary of size 32274.\n",
      "\n",
      "COUNTING COOCCURRENCES\n",
      "window size: 15\n",
      "context: symmetric\n",
      "max product: 13752509\n",
      "overflow length: 38028356\n",
      "Reading vocab from file \"../mestrado/experimentos_mestrado/dados/experimento_3/glove_vocab.txt\"...loaded 32274 words.\n",
      "Building lookup table...table contains 73231945 elements.\n",
      "Processing token: 0100000200000300000400000500000600000700000800000900000100000011000001200000130000014000001500000160000017000001800000190000020000002100000220000023000002400000250000026000002700000280000029000003000000310000032000003300000340000035000003600000370000038000003900000400000041000004200000430000044000004500000460000047000004800000490000050000005100000520000053000005400000550000056000005700000580000059000006000000610000062000006300000640000065000006600000670000068000006900000700000071000007200000730000074000007500000760000077000007800000790000080000008100000820000083000008400000850000086000008700000880000089000009000000910000092000009300000940000095000009600000Processed 9632456 tokens.\n",
      "Writing cooccurrences to disk........2 files in total.\n"
     ]
    },
    {
     "name": "stdout",
     "output_type": "stream",
     "text": [
      "Merging cooccurrence files: processed 0 lines.100000 lines.200000 lines.300000 lines.400000 lines.500000 lines.600000 lines.700000 lines.800000 lines.900000 lines.1000000 lines.1100000 lines.1200000 lines.1300000 lines.1400000 lines.1500000 lines.1600000 lines.1700000 lines.1800000 lines.1900000 lines.2000000 lines.2100000 lines.2200000 lines.2300000 lines.2400000 lines.2500000 lines.2600000 lines.2700000 lines.2800000 lines.2900000 lines.3000000 lines.3100000 lines.3200000 lines.3300000 lines.3400000 lines.3500000 lines.3600000 lines.3700000 lines.3800000 lines.3900000 lines.4000000 lines.4100000 lines.4200000 lines.4300000 lines.4400000 lines.4500000 lines.4600000 lines.4700000 lines.4800000 lines.4900000 lines.5000000 lines.5100000 lines.5200000 lines.5300000 lines.5400000 lines.5500000 lines.5600000 lines.5700000 lines.5800000 lines.5900000 lines.6000000 lines.6100000 lines.6200000 lines.6300000 lines.6400000 lines.6500000 lines.6600000 lines.6700000 lines.6800000 lines.6900000 lines.7000000 lines.7100000 lines.7200000 lines.7300000 lines.7400000 lines.7500000 lines.7600000 lines.7700000 lines.7800000 lines.7900000 lines.8000000 lines.8100000 lines.8200000 lines.8300000 lines.8400000 lines.8500000 lines.8600000 lines.8700000 lines.8800000 lines.8900000 lines.9000000 lines.9100000 lines.9200000 lines.9300000 lines.9400000 lines.9500000 lines.9600000 lines.9700000 lines.9800000 lines.9900000 lines.10000000 lines.10100000 lines.10200000 lines.10300000 lines.10400000 lines.10500000 lines.10600000 lines.10700000 lines.10800000 lines.10900000 lines.11000000 lines.11100000 lines.11200000 lines.11300000 lines.11400000 lines.11500000 lines.11600000 lines.11700000 lines.11800000 lines.11900000 lines.12000000 lines.12100000 lines.12200000 lines.12300000 lines.12400000 lines.12500000 lines.12600000 lines.12700000 lines.12800000 lines.12900000 lines.13000000 lines.13100000 lines.13200000 lines.13300000 lines.13400000 lines.13500000 lines.13600000 lines.13700000 lines.13800000 lines.13900000 lines.14000000 lines.14100000 lines.14200000 lines.14300000 lines.14400000 lines.14500000 lines.14600000 lines.14700000 lines.14800000 lines.14900000 lines.15000000 lines.15100000 lines.15200000 lines.15300000 lines.15400000 lines.15500000 lines.15600000 lines.15700000 lines.15800000 lines.15900000 lines.16000000 lines.16100000 lines.16200000 lines.16300000 lines.16400000 lines.16500000 lines.16600000 lines.16700000 lines.16800000 lines.16900000 lines.17000000 lines.17100000 lines.17200000 lines.17300000 lines.17400000 lines.17500000 lines.17600000 lines.17700000 lines.17800000 lines.17900000 lines.18000000 lines.18100000 lines.18200000 lines.18300000 lines.18400000 lines.18500000 lines.18600000 lines.18700000 lines.18800000 lines.18900000 lines.19000000 lines.19100000 lines.19200000 lines.19300000 lines.19400000 lines.19500000 lines.19600000 lines.19700000 lines.19800000 lines.19900000 lines.20000000 lines.20100000 lines.20200000 lines.20300000 lines.20400000 lines.20500000 lines.20600000 lines.20700000 lines.20800000 lines.20900000 lines.21000000 lines.21100000 lines.21200000 lines.21300000 lines.21400000 lines.21500000 lines.21600000 lines.21700000 lines.21800000 lines.21900000 lines.22000000 lines.22100000 lines.22200000 lines.22300000 lines.22400000 lines.22500000 lines.22600000 lines.22700000 lines.22800000 lines.22900000 lines.23000000 lines.23100000 lines.23200000 lines.23300000 lines.23400000 lines.23500000 lines.23600000 lines.23700000 lines.23800000 lines.23900000 lines.24000000 lines.24100000 lines.24200000 lines.24300000 lines.24400000 lines.24500000 lines.24600000 lines.24700000 lines.24800000 lines.24900000 lines.25000000 lines.25100000 lines.25200000 lines.25300000 lines.25400000 lines.25500000 lines.25600000 lines.25700000 lines.25800000 lines.25900000 lines.26000000 lines.26100000 lines.26200000 lines.26300000 lines.26400000 lines.26500000 lines.26600000 lines.26700000 lines.26800000 lines.26900000 lines.27000000 lines.27100000 lines.27200000 lines.27300000 lines.27400000 lines.27500000 lines.27600000 lines.27700000 lines.27800000 lines.27900000 lines.28000000 lines.28100000 lines.28200000 lines.28300000 lines.28400000 lines.28500000 lines.28600000 lines.28700000 lines.28800000 lines.28900000 lines.29000000 lines.29100000 lines.29200000 lines.29300000 lines.29400000 lines.29500000 lines.29600000 lines.29700000 lines.29800000 lines.29900000 lines.30000000 lines.30100000 lines.30200000 lines.30300000 lines.30400000 lines.30500000 lines.30600000 lines.30700000 lines.30800000 lines.30900000 lines.31000000 lines.31100000 lines.31200000 lines.31300000 lines.31400000 lines.31500000 lines.Merging cooccurrence files: processed 31511277 lines.\n",
      "\n",
      "Using random seed 1614218141\n",
      "SHUFFLING COOCCURRENCES\n",
      "array size: 255013683\n",
      "Shuffling by chunks: processed 0 lines.processed 31511277 lines.\n",
      "Wrote 1 temporary file(s).\n",
      "Merging temp files: processed 0 lines.31511277 lines.Merging temp files: processed 31511277 lines.\n",
      "\n",
      "TRAINING MODEL\n",
      "Read 31511277 lines.\n",
      "Initializing parameters...Using random seed 1614218152\n",
      "done.\n",
      "vector size: 100\n",
      "vocab size: 32274\n",
      "x_max: 10.000000\n",
      "alpha: 0.750000\n",
      "02/24/21 - 10:56.03PM, iter: 001, cost: 0.109375\n",
      "02/24/21 - 10:56.16PM, iter: 002, cost: 0.079475\n",
      "02/24/21 - 10:56.27PM, iter: 003, cost: 0.066554\n",
      "02/24/21 - 10:56.38PM, iter: 004, cost: 0.058887\n",
      "02/24/21 - 10:56.49PM, iter: 005, cost: 0.054486\n",
      "02/24/21 - 10:57.00PM, iter: 006, cost: 0.051889\n",
      "02/24/21 - 10:57.11PM, iter: 007, cost: 0.050151\n",
      "02/24/21 - 10:57.22PM, iter: 008, cost: 0.048928\n",
      "02/24/21 - 10:57.33PM, iter: 009, cost: 0.047997\n",
      "02/24/21 - 10:57.43PM, iter: 010, cost: 0.047270\n",
      "02/24/21 - 10:57.54PM, iter: 011, cost: 0.046669\n",
      "02/24/21 - 10:58.05PM, iter: 012, cost: 0.046176\n",
      "02/24/21 - 10:58.16PM, iter: 013, cost: 0.045756\n",
      "02/24/21 - 10:58.26PM, iter: 014, cost: 0.045384\n",
      "02/24/21 - 10:58.37PM, iter: 015, cost: 0.045053\n",
      "\n",
      "treinamento concluído\n"
     ]
    },
    {
     "name": "stderr",
     "output_type": "stream",
     "text": [
      "2021-02-24 22:58:38,865 : INFO : converting 32275 vectors from dados/experimento_3/glv_jur.txt to C:\\Users\\CRISTI~1\\AppData\\Local\\Temp\\test_word2vec.txt\n",
      "2021-02-24 22:58:38,937 : INFO : loading projection weights from C:\\Users\\CRISTI~1\\AppData\\Local\\Temp\\test_word2vec.txt\n",
      "2021-02-24 22:58:41,646 : INFO : loaded (32275, 100) matrix from C:\\Users\\CRISTI~1\\AppData\\Local\\Temp\\test_word2vec.txt\n",
      "2021-02-24 22:58:41,647 : INFO : loading projection weights from modelos/w2v_skip_nilc.txt\n",
      "2021-02-24 22:59:59,441 : INFO : loaded (929606, 100) matrix from modelos/w2v_skip_nilc.txt\n",
      "2021-02-24 22:59:59,442 : INFO : loading projection weights from modelos/ftt_skip_nilc.txt\n",
      "2021-02-24 23:01:15,641 : INFO : loaded (929605, 100) matrix from modelos/ftt_skip_nilc.txt\n",
      "2021-02-24 23:01:15,642 : INFO : loading projection weights from modelos/glove_nilc.txt\n",
      "2021-02-24 23:02:32,656 : INFO : loaded (929605, 100) matrix from modelos/glove_nilc.txt\n"
     ]
    },
    {
     "name": "stdout",
     "output_type": "stream",
     "text": [
      "recuperando teores da base de teste\n"
     ]
    },
    {
     "data": {
      "application/vnd.jupyter.widget-view+json": {
       "model_id": "7a682802630f4b519a69fe177ac9b101",
       "version_major": 2,
       "version_minor": 0
      },
      "text/plain": [
       "HBox(children=(IntProgress(value=0, max=6663), HTML(value='')))"
      ]
     },
     "metadata": {},
     "output_type": "display_data"
    },
    {
     "name": "stdout",
     "output_type": "stream",
     "text": [
      "\n",
      "criando representações word2vec geral\n"
     ]
    },
    {
     "data": {
      "application/vnd.jupyter.widget-view+json": {
       "model_id": "f0b82f37c8da44508e45dea67999da9d",
       "version_major": 2,
       "version_minor": 0
      },
      "text/plain": [
       "HBox(children=(IntProgress(value=0, max=6663), HTML(value='')))"
      ]
     },
     "metadata": {},
     "output_type": "display_data"
    },
    {
     "name": "stdout",
     "output_type": "stream",
     "text": [
      "\n",
      "criando representações fasttext geral\n"
     ]
    },
    {
     "data": {
      "application/vnd.jupyter.widget-view+json": {
       "model_id": "1d5a22613d7b4c03a9d0d2428b77f4a7",
       "version_major": 2,
       "version_minor": 0
      },
      "text/plain": [
       "HBox(children=(IntProgress(value=0, max=6663), HTML(value='')))"
      ]
     },
     "metadata": {},
     "output_type": "display_data"
    },
    {
     "name": "stdout",
     "output_type": "stream",
     "text": [
      "\n",
      "criando representações glove geral\n"
     ]
    },
    {
     "data": {
      "application/vnd.jupyter.widget-view+json": {
       "model_id": "88854229079b49819aad41d0cdcd88c3",
       "version_major": 2,
       "version_minor": 0
      },
      "text/plain": [
       "HBox(children=(IntProgress(value=0, max=6663), HTML(value='')))"
      ]
     },
     "metadata": {},
     "output_type": "display_data"
    },
    {
     "name": "stdout",
     "output_type": "stream",
     "text": [
      "\n",
      "criando representações word2vec juridico\n"
     ]
    },
    {
     "data": {
      "application/vnd.jupyter.widget-view+json": {
       "model_id": "7f812cd824be4660adfdc35171312937",
       "version_major": 2,
       "version_minor": 0
      },
      "text/plain": [
       "HBox(children=(IntProgress(value=0, max=6663), HTML(value='')))"
      ]
     },
     "metadata": {},
     "output_type": "display_data"
    },
    {
     "name": "stdout",
     "output_type": "stream",
     "text": [
      "\n",
      "criando representações fasttext juridico\n"
     ]
    },
    {
     "data": {
      "application/vnd.jupyter.widget-view+json": {
       "model_id": "744c4aac71144347b6a719b2f852097a",
       "version_major": 2,
       "version_minor": 0
      },
      "text/plain": [
       "HBox(children=(IntProgress(value=0, max=6663), HTML(value='')))"
      ]
     },
     "metadata": {},
     "output_type": "display_data"
    },
    {
     "name": "stdout",
     "output_type": "stream",
     "text": [
      "\n",
      "criando representações glove juridico\n"
     ]
    },
    {
     "data": {
      "application/vnd.jupyter.widget-view+json": {
       "model_id": "e6446ba99a654c25823eb8abd87fe600",
       "version_major": 2,
       "version_minor": 0
      },
      "text/plain": [
       "HBox(children=(IntProgress(value=0, max=6663), HTML(value='')))"
      ]
     },
     "metadata": {},
     "output_type": "display_data"
    },
    {
     "name": "stdout",
     "output_type": "stream",
     "text": [
      "\n",
      "----------- EXPERIMENTO 3 CONCLUIDO -----------\n",
      "tempo do experimento: 21.55971490542094 minutos\n",
      "----------------------- EXPERIMENTO 4 -----------------------\n",
      "criando base de treino para o experimento 4\n"
     ]
    },
    {
     "data": {
      "application/vnd.jupyter.widget-view+json": {
       "model_id": "24b9cbdc04eb46eb99288bea423c497b",
       "version_major": 2,
       "version_minor": 0
      },
      "text/plain": [
       "HBox(children=(IntProgress(value=0, max=26650), HTML(value='')))"
      ]
     },
     "metadata": {},
     "output_type": "display_data"
    },
    {
     "name": "stdout",
     "output_type": "stream",
     "text": [
      "\n",
      "15951550 tokens copiados com sucesso\n",
      "preparando documentos para extração do vocabulário:\n"
     ]
    },
    {
     "data": {
      "application/vnd.jupyter.widget-view+json": {
       "model_id": "11c125c5e3fd4fada7b33e693c8f2b4d",
       "version_major": 2,
       "version_minor": 0
      },
      "text/plain": [
       "HBox(children=(IntProgress(value=0, max=26650), HTML(value='')))"
      ]
     },
     "metadata": {},
     "output_type": "display_data"
    },
    {
     "name": "stdout",
     "output_type": "stream",
     "text": [
      "\n",
      "extraindo termos com base no ICA\n"
     ]
    },
    {
     "data": {
      "application/vnd.jupyter.widget-view+json": {
       "model_id": "4b2a0e317a144911a312df40880f8998",
       "version_major": 2,
       "version_minor": 0
      },
      "text/plain": [
       "HBox(children=(IntProgress(value=0, max=125), HTML(value='')))"
      ]
     },
     "metadata": {},
     "output_type": "display_data"
    },
    {
     "name": "stdout",
     "output_type": "stream",
     "text": [
      "\n",
      "-processando strings do corpus\n",
      "-treinando vetorizador\n",
      "-ICA processado\n",
      "extraindo termos com base na frequência - geralmente leva menos de 4 minutos\n",
      "extraindo termos do tesauro\n",
      "extração de vocabulário concluída!\n",
      "treinando modelo word2vec\n"
     ]
    },
    {
     "name": "stderr",
     "output_type": "stream",
     "text": [
      "2021-02-24 23:08:15,263 : INFO : collecting all words and their counts\n",
      "2021-02-24 23:08:15,275 : INFO : PROGRESS: at sentence #0, processed 0 words, keeping 0 word types\n",
      "2021-02-24 23:08:15,345 : INFO : PROGRESS: at sentence #10000, processed 243712 words, keeping 14355 word types\n",
      "2021-02-24 23:08:15,411 : INFO : PROGRESS: at sentence #20000, processed 487567 words, keeping 19578 word types\n",
      "2021-02-24 23:08:15,481 : INFO : PROGRESS: at sentence #30000, processed 729265 words, keeping 23175 word types\n",
      "2021-02-24 23:08:15,554 : INFO : PROGRESS: at sentence #40000, processed 972252 words, keeping 26357 word types\n",
      "2021-02-24 23:08:15,624 : INFO : PROGRESS: at sentence #50000, processed 1211823 words, keeping 28947 word types\n",
      "2021-02-24 23:08:15,692 : INFO : PROGRESS: at sentence #60000, processed 1455674 words, keeping 31038 word types\n",
      "2021-02-24 23:08:15,758 : INFO : PROGRESS: at sentence #70000, processed 1700196 words, keeping 33032 word types\n",
      "2021-02-24 23:08:15,825 : INFO : PROGRESS: at sentence #80000, processed 1943504 words, keeping 34806 word types\n",
      "2021-02-24 23:08:15,890 : INFO : PROGRESS: at sentence #90000, processed 2182046 words, keeping 36598 word types\n",
      "2021-02-24 23:08:15,956 : INFO : PROGRESS: at sentence #100000, processed 2420767 words, keeping 38196 word types\n",
      "2021-02-24 23:08:16,023 : INFO : PROGRESS: at sentence #110000, processed 2665009 words, keeping 39847 word types\n",
      "2021-02-24 23:08:16,091 : INFO : PROGRESS: at sentence #120000, processed 2909090 words, keeping 41095 word types\n",
      "2021-02-24 23:08:16,157 : INFO : PROGRESS: at sentence #130000, processed 3150824 words, keeping 42556 word types\n",
      "2021-02-24 23:08:16,226 : INFO : PROGRESS: at sentence #140000, processed 3398634 words, keeping 43781 word types\n",
      "2021-02-24 23:08:16,294 : INFO : PROGRESS: at sentence #150000, processed 3646248 words, keeping 45011 word types\n",
      "2021-02-24 23:08:16,361 : INFO : PROGRESS: at sentence #160000, processed 3889886 words, keeping 46101 word types\n",
      "2021-02-24 23:08:16,427 : INFO : PROGRESS: at sentence #170000, processed 4121187 words, keeping 47173 word types\n",
      "2021-02-24 23:08:16,494 : INFO : PROGRESS: at sentence #180000, processed 4368750 words, keeping 48179 word types\n",
      "2021-02-24 23:08:16,565 : INFO : PROGRESS: at sentence #190000, processed 4624285 words, keeping 49261 word types\n",
      "2021-02-24 23:08:16,635 : INFO : PROGRESS: at sentence #200000, processed 4868649 words, keeping 50323 word types\n",
      "2021-02-24 23:08:16,701 : INFO : PROGRESS: at sentence #210000, processed 5111131 words, keeping 51298 word types\n",
      "2021-02-24 23:08:16,769 : INFO : PROGRESS: at sentence #220000, processed 5362434 words, keeping 52263 word types\n",
      "2021-02-24 23:08:16,835 : INFO : PROGRESS: at sentence #230000, processed 5601127 words, keeping 53171 word types\n",
      "2021-02-24 23:08:16,903 : INFO : PROGRESS: at sentence #240000, processed 5842290 words, keeping 54085 word types\n",
      "2021-02-24 23:08:16,972 : INFO : PROGRESS: at sentence #250000, processed 6089304 words, keeping 54927 word types\n",
      "2021-02-24 23:08:17,040 : INFO : PROGRESS: at sentence #260000, processed 6332756 words, keeping 55763 word types\n",
      "2021-02-24 23:08:17,106 : INFO : PROGRESS: at sentence #270000, processed 6573178 words, keeping 56611 word types\n",
      "2021-02-24 23:08:17,173 : INFO : PROGRESS: at sentence #280000, processed 6817019 words, keeping 57605 word types\n",
      "2021-02-24 23:08:17,240 : INFO : PROGRESS: at sentence #290000, processed 7058192 words, keeping 58538 word types\n",
      "2021-02-24 23:08:17,307 : INFO : PROGRESS: at sentence #300000, processed 7299709 words, keeping 59258 word types\n",
      "2021-02-24 23:08:17,374 : INFO : PROGRESS: at sentence #310000, processed 7547476 words, keeping 60083 word types\n",
      "2021-02-24 23:08:17,442 : INFO : PROGRESS: at sentence #320000, processed 7796408 words, keeping 60829 word types\n",
      "2021-02-24 23:08:17,507 : INFO : PROGRESS: at sentence #330000, processed 8042270 words, keeping 61557 word types\n",
      "2021-02-24 23:08:17,575 : INFO : PROGRESS: at sentence #340000, processed 8283515 words, keeping 62273 word types\n",
      "2021-02-24 23:08:17,654 : INFO : PROGRESS: at sentence #350000, processed 8528291 words, keeping 62993 word types\n",
      "2021-02-24 23:08:17,722 : INFO : PROGRESS: at sentence #360000, processed 8768810 words, keeping 63707 word types\n",
      "2021-02-24 23:08:17,795 : INFO : PROGRESS: at sentence #370000, processed 9006587 words, keeping 64484 word types\n",
      "2021-02-24 23:08:17,867 : INFO : PROGRESS: at sentence #380000, processed 9249211 words, keeping 65206 word types\n",
      "2021-02-24 23:08:17,940 : INFO : PROGRESS: at sentence #390000, processed 9492501 words, keeping 65925 word types\n",
      "2021-02-24 23:08:18,007 : INFO : PROGRESS: at sentence #400000, processed 9727531 words, keeping 66598 word types\n",
      "2021-02-24 23:08:18,075 : INFO : PROGRESS: at sentence #410000, processed 9968882 words, keeping 67300 word types\n",
      "2021-02-24 23:08:18,144 : INFO : PROGRESS: at sentence #420000, processed 10211974 words, keeping 68018 word types\n",
      "2021-02-24 23:08:18,210 : INFO : PROGRESS: at sentence #430000, processed 10452691 words, keeping 68680 word types\n",
      "2021-02-24 23:08:18,279 : INFO : PROGRESS: at sentence #440000, processed 10696395 words, keeping 69450 word types\n",
      "2021-02-24 23:08:18,344 : INFO : PROGRESS: at sentence #450000, processed 10932110 words, keeping 70055 word types\n",
      "2021-02-24 23:08:18,412 : INFO : PROGRESS: at sentence #460000, processed 11174677 words, keeping 70751 word types\n",
      "2021-02-24 23:08:18,479 : INFO : PROGRESS: at sentence #470000, processed 11415273 words, keeping 71289 word types\n",
      "2021-02-24 23:08:18,545 : INFO : PROGRESS: at sentence #480000, processed 11657414 words, keeping 71971 word types\n",
      "2021-02-24 23:08:18,614 : INFO : PROGRESS: at sentence #490000, processed 11904502 words, keeping 72643 word types\n",
      "2021-02-24 23:08:18,683 : INFO : PROGRESS: at sentence #500000, processed 12145244 words, keeping 73237 word types\n",
      "2021-02-24 23:08:18,751 : INFO : PROGRESS: at sentence #510000, processed 12388366 words, keeping 73847 word types\n",
      "2021-02-24 23:08:18,830 : INFO : PROGRESS: at sentence #520000, processed 12634931 words, keeping 74489 word types\n",
      "2021-02-24 23:08:18,908 : INFO : PROGRESS: at sentence #530000, processed 12877175 words, keeping 75210 word types\n",
      "2021-02-24 23:08:18,976 : INFO : PROGRESS: at sentence #540000, processed 13122346 words, keeping 75824 word types\n",
      "2021-02-24 23:08:19,047 : INFO : PROGRESS: at sentence #550000, processed 13371839 words, keeping 76422 word types\n",
      "2021-02-24 23:08:19,116 : INFO : PROGRESS: at sentence #560000, processed 13618707 words, keeping 77009 word types\n",
      "2021-02-24 23:08:19,184 : INFO : PROGRESS: at sentence #570000, processed 13866480 words, keeping 77626 word types\n",
      "2021-02-24 23:08:19,253 : INFO : PROGRESS: at sentence #580000, processed 14107905 words, keeping 78181 word types\n",
      "2021-02-24 23:08:19,318 : INFO : PROGRESS: at sentence #590000, processed 14351905 words, keeping 78692 word types\n",
      "2021-02-24 23:08:19,388 : INFO : PROGRESS: at sentence #600000, processed 14606727 words, keeping 79265 word types\n",
      "2021-02-24 23:08:19,461 : INFO : PROGRESS: at sentence #610000, processed 14844555 words, keeping 79899 word types\n",
      "2021-02-24 23:08:19,529 : INFO : PROGRESS: at sentence #620000, processed 15085398 words, keeping 80452 word types\n",
      "2021-02-24 23:08:19,592 : INFO : collected 80893 word types from a corpus of 15302977 raw words and 629108 sentences\n",
      "2021-02-24 23:08:19,593 : INFO : Loading a fresh vocabulary\n",
      "2021-02-24 23:08:19,646 : INFO : effective_min_count=5 retains 32511 unique words (40% of original 80893, drops 48382)\n",
      "2021-02-24 23:08:19,647 : INFO : effective_min_count=5 leaves 15221367 word corpus (99% of original 15302977, drops 81610)\n",
      "2021-02-24 23:08:19,729 : INFO : deleting the raw counts dictionary of 80893 items\n",
      "2021-02-24 23:08:19,731 : INFO : sample=1e-05 downsamples 3227 most-common words\n",
      "2021-02-24 23:08:19,732 : INFO : downsampling leaves estimated 3681001 word corpus (24.2% of prior 15221367)\n",
      "2021-02-24 23:08:19,753 : INFO : constructing a huffman tree from 32511 words\n",
      "2021-02-24 23:08:20,443 : INFO : built huffman tree with maximum node depth 22\n",
      "2021-02-24 23:08:20,496 : INFO : estimated required memory for 32511 words and 100 dimensions: 61770900 bytes\n"
     ]
    },
    {
     "name": "stderr",
     "output_type": "stream",
     "text": [
      "2021-02-24 23:08:20,497 : INFO : resetting layer weights\n",
      "2021-02-24 23:08:20,811 : INFO : training model with 12 workers on 32511 vocabulary and 100 features, using sg=1 hs=1 sample=1e-05 negative=5 window=5\n",
      "2021-02-24 23:08:21,818 : INFO : EPOCH 1 - PROGRESS: at 9.03% examples, 335100 words/s, in_qsize 0, out_qsize 0\n",
      "2021-02-24 23:08:22,824 : INFO : EPOCH 1 - PROGRESS: at 18.33% examples, 338279 words/s, in_qsize 7, out_qsize 1\n",
      "2021-02-24 23:08:23,825 : INFO : EPOCH 1 - PROGRESS: at 27.26% examples, 333747 words/s, in_qsize 14, out_qsize 1\n",
      "2021-02-24 23:08:24,834 : INFO : EPOCH 1 - PROGRESS: at 35.68% examples, 327696 words/s, in_qsize 0, out_qsize 0\n",
      "2021-02-24 23:08:25,838 : INFO : EPOCH 1 - PROGRESS: at 43.69% examples, 321217 words/s, in_qsize 15, out_qsize 0\n",
      "2021-02-24 23:08:26,843 : INFO : EPOCH 1 - PROGRESS: at 52.83% examples, 323543 words/s, in_qsize 0, out_qsize 0\n",
      "2021-02-24 23:08:27,847 : INFO : EPOCH 1 - PROGRESS: at 61.24% examples, 320998 words/s, in_qsize 0, out_qsize 0\n",
      "2021-02-24 23:08:28,853 : INFO : EPOCH 1 - PROGRESS: at 70.03% examples, 320355 words/s, in_qsize 21, out_qsize 0\n",
      "2021-02-24 23:08:29,854 : INFO : EPOCH 1 - PROGRESS: at 79.06% examples, 321520 words/s, in_qsize 5, out_qsize 0\n",
      "2021-02-24 23:08:30,857 : INFO : EPOCH 1 - PROGRESS: at 88.32% examples, 323557 words/s, in_qsize 0, out_qsize 0\n",
      "2021-02-24 23:08:31,860 : INFO : EPOCH 1 - PROGRESS: at 96.09% examples, 320490 words/s, in_qsize 2, out_qsize 0\n",
      "2021-02-24 23:08:32,248 : INFO : worker thread finished; awaiting finish of 11 more threads\n",
      "2021-02-24 23:08:32,259 : INFO : worker thread finished; awaiting finish of 10 more threads\n",
      "2021-02-24 23:08:32,270 : INFO : worker thread finished; awaiting finish of 9 more threads\n",
      "2021-02-24 23:08:32,273 : INFO : worker thread finished; awaiting finish of 8 more threads\n",
      "2021-02-24 23:08:32,275 : INFO : worker thread finished; awaiting finish of 7 more threads\n",
      "2021-02-24 23:08:32,277 : INFO : worker thread finished; awaiting finish of 6 more threads\n",
      "2021-02-24 23:08:32,279 : INFO : worker thread finished; awaiting finish of 5 more threads\n",
      "2021-02-24 23:08:32,281 : INFO : worker thread finished; awaiting finish of 4 more threads\n",
      "2021-02-24 23:08:32,282 : INFO : worker thread finished; awaiting finish of 3 more threads\n",
      "2021-02-24 23:08:32,283 : INFO : worker thread finished; awaiting finish of 2 more threads\n",
      "2021-02-24 23:08:32,284 : INFO : worker thread finished; awaiting finish of 1 more threads\n",
      "2021-02-24 23:08:32,285 : INFO : worker thread finished; awaiting finish of 0 more threads\n",
      "2021-02-24 23:08:32,286 : INFO : EPOCH - 1 : training on 15302977 raw words (3680694 effective words) took 11.5s, 320898 effective words/s\n",
      "2021-02-24 23:08:33,292 : INFO : EPOCH 2 - PROGRESS: at 8.37% examples, 311811 words/s, in_qsize 3, out_qsize 0\n",
      "2021-02-24 23:08:34,300 : INFO : EPOCH 2 - PROGRESS: at 16.35% examples, 301665 words/s, in_qsize 18, out_qsize 1\n",
      "2021-02-24 23:08:35,306 : INFO : EPOCH 2 - PROGRESS: at 25.24% examples, 309728 words/s, in_qsize 0, out_qsize 0\n",
      "2021-02-24 23:08:36,325 : INFO : EPOCH 2 - PROGRESS: at 34.56% examples, 316545 words/s, in_qsize 1, out_qsize 1\n",
      "2021-02-24 23:08:37,344 : INFO : EPOCH 2 - PROGRESS: at 43.31% examples, 316601 words/s, in_qsize 1, out_qsize 0\n",
      "2021-02-24 23:08:38,358 : INFO : EPOCH 2 - PROGRESS: at 52.08% examples, 316785 words/s, in_qsize 1, out_qsize 1\n",
      "2021-02-24 23:08:39,361 : INFO : EPOCH 2 - PROGRESS: at 61.12% examples, 318695 words/s, in_qsize 1, out_qsize 0\n",
      "2021-02-24 23:08:40,365 : INFO : EPOCH 2 - PROGRESS: at 69.75% examples, 318007 words/s, in_qsize 2, out_qsize 0\n",
      "2021-02-24 23:08:41,368 : INFO : EPOCH 2 - PROGRESS: at 77.75% examples, 315188 words/s, in_qsize 13, out_qsize 0\n",
      "2021-02-24 23:08:42,375 : INFO : EPOCH 2 - PROGRESS: at 86.92% examples, 317255 words/s, in_qsize 0, out_qsize 0\n",
      "2021-02-24 23:08:43,380 : INFO : EPOCH 2 - PROGRESS: at 94.36% examples, 313369 words/s, in_qsize 0, out_qsize 0\n",
      "2021-02-24 23:08:43,943 : INFO : worker thread finished; awaiting finish of 11 more threads\n",
      "2021-02-24 23:08:43,957 : INFO : worker thread finished; awaiting finish of 10 more threads\n",
      "2021-02-24 23:08:43,962 : INFO : worker thread finished; awaiting finish of 9 more threads\n",
      "2021-02-24 23:08:43,967 : INFO : worker thread finished; awaiting finish of 8 more threads\n",
      "2021-02-24 23:08:43,981 : INFO : worker thread finished; awaiting finish of 7 more threads\n",
      "2021-02-24 23:08:43,990 : INFO : worker thread finished; awaiting finish of 6 more threads\n",
      "2021-02-24 23:08:43,995 : INFO : worker thread finished; awaiting finish of 5 more threads\n",
      "2021-02-24 23:08:43,998 : INFO : worker thread finished; awaiting finish of 4 more threads\n",
      "2021-02-24 23:08:44,000 : INFO : worker thread finished; awaiting finish of 3 more threads\n",
      "2021-02-24 23:08:44,001 : INFO : worker thread finished; awaiting finish of 2 more threads\n",
      "2021-02-24 23:08:44,002 : INFO : worker thread finished; awaiting finish of 1 more threads\n",
      "2021-02-24 23:08:44,003 : INFO : worker thread finished; awaiting finish of 0 more threads\n",
      "2021-02-24 23:08:44,004 : INFO : EPOCH - 2 : training on 15302977 raw words (3682676 effective words) took 11.7s, 314410 effective words/s\n",
      "2021-02-24 23:08:45,018 : INFO : EPOCH 3 - PROGRESS: at 7.56% examples, 279301 words/s, in_qsize 22, out_qsize 2\n",
      "2021-02-24 23:08:46,026 : INFO : EPOCH 3 - PROGRESS: at 16.59% examples, 305074 words/s, in_qsize 20, out_qsize 0\n",
      "2021-02-24 23:08:47,039 : INFO : EPOCH 3 - PROGRESS: at 24.71% examples, 301960 words/s, in_qsize 24, out_qsize 0\n",
      "2021-02-24 23:08:48,053 : INFO : EPOCH 3 - PROGRESS: at 33.49% examples, 305793 words/s, in_qsize 0, out_qsize 0\n",
      "2021-02-24 23:08:49,055 : INFO : EPOCH 3 - PROGRESS: at 42.14% examples, 308444 words/s, in_qsize 1, out_qsize 0\n",
      "2021-02-24 23:08:50,056 : INFO : EPOCH 3 - PROGRESS: at 49.94% examples, 304714 words/s, in_qsize 8, out_qsize 1\n",
      "2021-02-24 23:08:51,061 : INFO : EPOCH 3 - PROGRESS: at 58.77% examples, 307234 words/s, in_qsize 0, out_qsize 0\n",
      "2021-02-24 23:08:52,066 : INFO : EPOCH 3 - PROGRESS: at 67.91% examples, 310036 words/s, in_qsize 0, out_qsize 0\n",
      "2021-02-24 23:08:53,066 : INFO : EPOCH 3 - PROGRESS: at 76.53% examples, 310586 words/s, in_qsize 0, out_qsize 0\n",
      "2021-02-24 23:08:54,080 : INFO : EPOCH 3 - PROGRESS: at 85.06% examples, 310491 words/s, in_qsize 0, out_qsize 0\n",
      "2021-02-24 23:08:55,081 : INFO : EPOCH 3 - PROGRESS: at 93.22% examples, 309745 words/s, in_qsize 1, out_qsize 1\n",
      "2021-02-24 23:08:55,756 : INFO : worker thread finished; awaiting finish of 11 more threads\n",
      "2021-02-24 23:08:55,760 : INFO : worker thread finished; awaiting finish of 10 more threads\n",
      "2021-02-24 23:08:55,761 : INFO : worker thread finished; awaiting finish of 9 more threads\n",
      "2021-02-24 23:08:55,766 : INFO : worker thread finished; awaiting finish of 8 more threads\n",
      "2021-02-24 23:08:55,769 : INFO : worker thread finished; awaiting finish of 7 more threads\n",
      "2021-02-24 23:08:55,771 : INFO : worker thread finished; awaiting finish of 6 more threads\n",
      "2021-02-24 23:08:55,772 : INFO : worker thread finished; awaiting finish of 5 more threads\n",
      "2021-02-24 23:08:55,776 : INFO : worker thread finished; awaiting finish of 4 more threads\n",
      "2021-02-24 23:08:55,779 : INFO : worker thread finished; awaiting finish of 3 more threads\n",
      "2021-02-24 23:08:55,784 : INFO : worker thread finished; awaiting finish of 2 more threads\n",
      "2021-02-24 23:08:55,787 : INFO : worker thread finished; awaiting finish of 1 more threads\n",
      "2021-02-24 23:08:55,791 : INFO : worker thread finished; awaiting finish of 0 more threads\n",
      "2021-02-24 23:08:55,792 : INFO : EPOCH - 3 : training on 15302977 raw words (3680820 effective words) took 11.8s, 312370 effective words/s\n",
      "2021-02-24 23:08:56,803 : INFO : EPOCH 4 - PROGRESS: at 7.37% examples, 273105 words/s, in_qsize 0, out_qsize 0\n",
      "2021-02-24 23:08:57,813 : INFO : EPOCH 4 - PROGRESS: at 15.98% examples, 292882 words/s, in_qsize 12, out_qsize 0\n",
      "2021-02-24 23:08:58,830 : INFO : EPOCH 4 - PROGRESS: at 23.69% examples, 289054 words/s, in_qsize 23, out_qsize 1\n",
      "2021-02-24 23:08:59,834 : INFO : EPOCH 4 - PROGRESS: at 33.29% examples, 304418 words/s, in_qsize 8, out_qsize 0\n",
      "2021-02-24 23:09:00,844 : INFO : EPOCH 4 - PROGRESS: at 41.73% examples, 305316 words/s, in_qsize 0, out_qsize 0\n"
     ]
    },
    {
     "name": "stderr",
     "output_type": "stream",
     "text": [
      "2021-02-24 23:09:01,849 : INFO : EPOCH 4 - PROGRESS: at 50.13% examples, 305655 words/s, in_qsize 0, out_qsize 0\n",
      "2021-02-24 23:09:02,856 : INFO : EPOCH 4 - PROGRESS: at 58.55% examples, 305926 words/s, in_qsize 16, out_qsize 0\n",
      "2021-02-24 23:09:03,862 : INFO : EPOCH 4 - PROGRESS: at 67.46% examples, 307748 words/s, in_qsize 0, out_qsize 0\n",
      "2021-02-24 23:09:04,862 : INFO : EPOCH 4 - PROGRESS: at 75.04% examples, 304357 words/s, in_qsize 20, out_qsize 3\n",
      "2021-02-24 23:09:05,874 : INFO : EPOCH 4 - PROGRESS: at 84.60% examples, 308835 words/s, in_qsize 0, out_qsize 0\n",
      "2021-02-24 23:09:06,891 : INFO : EPOCH 4 - PROGRESS: at 93.36% examples, 309704 words/s, in_qsize 0, out_qsize 0\n",
      "2021-02-24 23:09:07,549 : INFO : worker thread finished; awaiting finish of 11 more threads\n",
      "2021-02-24 23:09:07,558 : INFO : worker thread finished; awaiting finish of 10 more threads\n",
      "2021-02-24 23:09:07,562 : INFO : worker thread finished; awaiting finish of 9 more threads\n",
      "2021-02-24 23:09:07,569 : INFO : worker thread finished; awaiting finish of 8 more threads\n",
      "2021-02-24 23:09:07,572 : INFO : worker thread finished; awaiting finish of 7 more threads\n",
      "2021-02-24 23:09:07,574 : INFO : worker thread finished; awaiting finish of 6 more threads\n",
      "2021-02-24 23:09:07,577 : INFO : worker thread finished; awaiting finish of 5 more threads\n",
      "2021-02-24 23:09:07,579 : INFO : worker thread finished; awaiting finish of 4 more threads\n",
      "2021-02-24 23:09:07,587 : INFO : worker thread finished; awaiting finish of 3 more threads\n",
      "2021-02-24 23:09:07,589 : INFO : worker thread finished; awaiting finish of 2 more threads\n",
      "2021-02-24 23:09:07,591 : INFO : worker thread finished; awaiting finish of 1 more threads\n",
      "2021-02-24 23:09:07,596 : INFO : worker thread finished; awaiting finish of 0 more threads\n",
      "2021-02-24 23:09:07,598 : INFO : EPOCH - 4 : training on 15302977 raw words (3681639 effective words) took 11.8s, 311955 effective words/s\n",
      "2021-02-24 23:09:08,607 : INFO : EPOCH 5 - PROGRESS: at 8.44% examples, 313231 words/s, in_qsize 0, out_qsize 0\n",
      "2021-02-24 23:09:09,617 : INFO : EPOCH 5 - PROGRESS: at 17.47% examples, 321417 words/s, in_qsize 1, out_qsize 1\n",
      "2021-02-24 23:09:10,620 : INFO : EPOCH 5 - PROGRESS: at 26.80% examples, 327165 words/s, in_qsize 0, out_qsize 0\n",
      "2021-02-24 23:09:11,640 : INFO : EPOCH 5 - PROGRESS: at 35.68% examples, 326076 words/s, in_qsize 1, out_qsize 1\n",
      "2021-02-24 23:09:12,647 : INFO : EPOCH 5 - PROGRESS: at 44.14% examples, 323259 words/s, in_qsize 0, out_qsize 0\n",
      "2021-02-24 23:09:13,647 : INFO : EPOCH 5 - PROGRESS: at 52.96% examples, 323373 words/s, in_qsize 0, out_qsize 1\n",
      "2021-02-24 23:09:14,650 : INFO : EPOCH 5 - PROGRESS: at 61.96% examples, 323985 words/s, in_qsize 0, out_qsize 0\n",
      "2021-02-24 23:09:15,665 : INFO : EPOCH 5 - PROGRESS: at 70.56% examples, 321737 words/s, in_qsize 23, out_qsize 0\n",
      "2021-02-24 23:09:16,672 : INFO : EPOCH 5 - PROGRESS: at 79.72% examples, 323164 words/s, in_qsize 1, out_qsize 1\n",
      "2021-02-24 23:09:17,679 : INFO : EPOCH 5 - PROGRESS: at 88.52% examples, 323138 words/s, in_qsize 20, out_qsize 3\n",
      "2021-02-24 23:09:18,687 : INFO : EPOCH 5 - PROGRESS: at 97.49% examples, 323764 words/s, in_qsize 19, out_qsize 0\n",
      "2021-02-24 23:09:18,871 : INFO : worker thread finished; awaiting finish of 11 more threads\n",
      "2021-02-24 23:09:18,873 : INFO : worker thread finished; awaiting finish of 10 more threads\n",
      "2021-02-24 23:09:18,883 : INFO : worker thread finished; awaiting finish of 9 more threads\n",
      "2021-02-24 23:09:18,885 : INFO : worker thread finished; awaiting finish of 8 more threads\n",
      "2021-02-24 23:09:18,894 : INFO : worker thread finished; awaiting finish of 7 more threads\n",
      "2021-02-24 23:09:18,896 : INFO : worker thread finished; awaiting finish of 6 more threads\n",
      "2021-02-24 23:09:18,898 : INFO : worker thread finished; awaiting finish of 5 more threads\n",
      "2021-02-24 23:09:18,900 : INFO : worker thread finished; awaiting finish of 4 more threads\n",
      "2021-02-24 23:09:18,903 : INFO : worker thread finished; awaiting finish of 3 more threads\n",
      "2021-02-24 23:09:18,906 : INFO : worker thread finished; awaiting finish of 2 more threads\n",
      "2021-02-24 23:09:18,907 : INFO : worker thread finished; awaiting finish of 1 more threads\n",
      "2021-02-24 23:09:18,909 : INFO : worker thread finished; awaiting finish of 0 more threads\n",
      "2021-02-24 23:09:18,910 : INFO : EPOCH - 5 : training on 15302977 raw words (3679642 effective words) took 11.3s, 325410 effective words/s\n",
      "2021-02-24 23:09:19,930 : INFO : EPOCH 6 - PROGRESS: at 7.91% examples, 290878 words/s, in_qsize 9, out_qsize 2\n",
      "2021-02-24 23:09:20,934 : INFO : EPOCH 6 - PROGRESS: at 16.86% examples, 309443 words/s, in_qsize 23, out_qsize 1\n",
      "2021-02-24 23:09:21,949 : INFO : EPOCH 6 - PROGRESS: at 26.59% examples, 323025 words/s, in_qsize 0, out_qsize 2\n",
      "2021-02-24 23:09:22,959 : INFO : EPOCH 6 - PROGRESS: at 34.80% examples, 318128 words/s, in_qsize 23, out_qsize 0\n",
      "2021-02-24 23:09:23,961 : INFO : EPOCH 6 - PROGRESS: at 44.42% examples, 325052 words/s, in_qsize 0, out_qsize 0\n",
      "2021-02-24 23:09:24,966 : INFO : EPOCH 6 - PROGRESS: at 53.49% examples, 326237 words/s, in_qsize 0, out_qsize 0\n",
      "2021-02-24 23:09:25,968 : INFO : EPOCH 6 - PROGRESS: at 62.44% examples, 326204 words/s, in_qsize 17, out_qsize 0\n",
      "2021-02-24 23:09:26,971 : INFO : EPOCH 6 - PROGRESS: at 71.88% examples, 328235 words/s, in_qsize 0, out_qsize 0\n",
      "2021-02-24 23:09:27,991 : INFO : EPOCH 6 - PROGRESS: at 80.28% examples, 325517 words/s, in_qsize 24, out_qsize 1\n",
      "2021-02-24 23:09:28,994 : INFO : EPOCH 6 - PROGRESS: at 88.96% examples, 324978 words/s, in_qsize 0, out_qsize 2\n",
      "2021-02-24 23:09:30,015 : INFO : EPOCH 6 - PROGRESS: at 97.95% examples, 325119 words/s, in_qsize 13, out_qsize 0\n",
      "2021-02-24 23:09:30,138 : INFO : worker thread finished; awaiting finish of 11 more threads\n",
      "2021-02-24 23:09:30,151 : INFO : worker thread finished; awaiting finish of 10 more threads\n",
      "2021-02-24 23:09:30,158 : INFO : worker thread finished; awaiting finish of 9 more threads\n",
      "2021-02-24 23:09:30,166 : INFO : worker thread finished; awaiting finish of 8 more threads\n",
      "2021-02-24 23:09:30,169 : INFO : worker thread finished; awaiting finish of 7 more threads\n",
      "2021-02-24 23:09:30,170 : INFO : worker thread finished; awaiting finish of 6 more threads\n",
      "2021-02-24 23:09:30,172 : INFO : worker thread finished; awaiting finish of 5 more threads\n",
      "2021-02-24 23:09:30,177 : INFO : worker thread finished; awaiting finish of 4 more threads\n",
      "2021-02-24 23:09:30,179 : INFO : worker thread finished; awaiting finish of 3 more threads\n",
      "2021-02-24 23:09:30,183 : INFO : worker thread finished; awaiting finish of 2 more threads\n",
      "2021-02-24 23:09:30,186 : INFO : worker thread finished; awaiting finish of 1 more threads\n",
      "2021-02-24 23:09:30,188 : INFO : worker thread finished; awaiting finish of 0 more threads\n",
      "2021-02-24 23:09:30,189 : INFO : EPOCH - 6 : training on 15302977 raw words (3682229 effective words) took 11.3s, 326627 effective words/s\n",
      "2021-02-24 23:09:31,195 : INFO : EPOCH 7 - PROGRESS: at 8.37% examples, 312554 words/s, in_qsize 0, out_qsize 1\n",
      "2021-02-24 23:09:32,198 : INFO : EPOCH 7 - PROGRESS: at 16.65% examples, 308681 words/s, in_qsize 20, out_qsize 0\n",
      "2021-02-24 23:09:33,201 : INFO : EPOCH 7 - PROGRESS: at 25.38% examples, 312059 words/s, in_qsize 0, out_qsize 0\n",
      "2021-02-24 23:09:34,203 : INFO : EPOCH 7 - PROGRESS: at 34.06% examples, 313695 words/s, in_qsize 19, out_qsize 0\n",
      "2021-02-24 23:09:35,204 : INFO : EPOCH 7 - PROGRESS: at 43.44% examples, 320244 words/s, in_qsize 0, out_qsize 0\n",
      "2021-02-24 23:09:36,213 : INFO : EPOCH 7 - PROGRESS: at 52.58% examples, 322456 words/s, in_qsize 0, out_qsize 1\n",
      "2021-02-24 23:09:37,217 : INFO : EPOCH 7 - PROGRESS: at 60.96% examples, 320129 words/s, in_qsize 22, out_qsize 0\n",
      "2021-02-24 23:09:38,227 : INFO : EPOCH 7 - PROGRESS: at 70.48% examples, 322679 words/s, in_qsize 22, out_qsize 1\n",
      "2021-02-24 23:09:39,255 : INFO : EPOCH 7 - PROGRESS: at 79.54% examples, 322686 words/s, in_qsize 14, out_qsize 0\n",
      "2021-02-24 23:09:40,257 : INFO : EPOCH 7 - PROGRESS: at 88.71% examples, 324339 words/s, in_qsize 7, out_qsize 2\n",
      "2021-02-24 23:09:41,260 : INFO : EPOCH 7 - PROGRESS: at 97.56% examples, 324610 words/s, in_qsize 1, out_qsize 0\n",
      "2021-02-24 23:09:41,456 : INFO : worker thread finished; awaiting finish of 11 more threads\n"
     ]
    },
    {
     "name": "stderr",
     "output_type": "stream",
     "text": [
      "2021-02-24 23:09:41,459 : INFO : worker thread finished; awaiting finish of 10 more threads\n",
      "2021-02-24 23:09:41,460 : INFO : worker thread finished; awaiting finish of 9 more threads\n",
      "2021-02-24 23:09:41,461 : INFO : worker thread finished; awaiting finish of 8 more threads\n",
      "2021-02-24 23:09:41,463 : INFO : worker thread finished; awaiting finish of 7 more threads\n",
      "2021-02-24 23:09:41,464 : INFO : worker thread finished; awaiting finish of 6 more threads\n",
      "2021-02-24 23:09:41,465 : INFO : worker thread finished; awaiting finish of 5 more threads\n",
      "2021-02-24 23:09:41,466 : INFO : worker thread finished; awaiting finish of 4 more threads\n",
      "2021-02-24 23:09:41,469 : INFO : worker thread finished; awaiting finish of 3 more threads\n",
      "2021-02-24 23:09:41,477 : INFO : worker thread finished; awaiting finish of 2 more threads\n",
      "2021-02-24 23:09:41,481 : INFO : worker thread finished; awaiting finish of 1 more threads\n",
      "2021-02-24 23:09:41,483 : INFO : worker thread finished; awaiting finish of 0 more threads\n",
      "2021-02-24 23:09:41,484 : INFO : EPOCH - 7 : training on 15302977 raw words (3680741 effective words) took 11.3s, 326039 effective words/s\n",
      "2021-02-24 23:09:42,496 : INFO : EPOCH 8 - PROGRESS: at 8.04% examples, 297143 words/s, in_qsize 19, out_qsize 4\n",
      "2021-02-24 23:09:43,503 : INFO : EPOCH 8 - PROGRESS: at 17.79% examples, 327335 words/s, in_qsize 0, out_qsize 0\n",
      "2021-02-24 23:09:44,508 : INFO : EPOCH 8 - PROGRESS: at 26.96% examples, 328900 words/s, in_qsize 0, out_qsize 0\n",
      "2021-02-24 23:09:45,512 : INFO : EPOCH 8 - PROGRESS: at 35.68% examples, 327412 words/s, in_qsize 0, out_qsize 0\n",
      "2021-02-24 23:09:46,513 : INFO : EPOCH 8 - PROGRESS: at 44.28% examples, 325611 words/s, in_qsize 1, out_qsize 0\n",
      "2021-02-24 23:09:47,527 : INFO : EPOCH 8 - PROGRESS: at 53.36% examples, 326173 words/s, in_qsize 0, out_qsize 2\n",
      "2021-02-24 23:09:48,528 : INFO : EPOCH 8 - PROGRESS: at 62.58% examples, 327499 words/s, in_qsize 1, out_qsize 2\n",
      "2021-02-24 23:09:49,528 : INFO : EPOCH 8 - PROGRESS: at 71.13% examples, 325453 words/s, in_qsize 23, out_qsize 0\n",
      "2021-02-24 23:09:50,539 : INFO : EPOCH 8 - PROGRESS: at 79.66% examples, 323691 words/s, in_qsize 24, out_qsize 0\n",
      "2021-02-24 23:09:51,566 : INFO : EPOCH 8 - PROGRESS: at 88.72% examples, 323911 words/s, in_qsize 23, out_qsize 0\n",
      "2021-02-24 23:09:52,566 : INFO : EPOCH 8 - PROGRESS: at 98.56% examples, 327603 words/s, in_qsize 0, out_qsize 0\n",
      "2021-02-24 23:09:52,663 : INFO : worker thread finished; awaiting finish of 11 more threads\n",
      "2021-02-24 23:09:52,678 : INFO : worker thread finished; awaiting finish of 10 more threads\n",
      "2021-02-24 23:09:52,680 : INFO : worker thread finished; awaiting finish of 9 more threads\n",
      "2021-02-24 23:09:52,697 : INFO : worker thread finished; awaiting finish of 8 more threads\n",
      "2021-02-24 23:09:52,699 : INFO : worker thread finished; awaiting finish of 7 more threads\n",
      "2021-02-24 23:09:52,701 : INFO : worker thread finished; awaiting finish of 6 more threads\n",
      "2021-02-24 23:09:52,703 : INFO : worker thread finished; awaiting finish of 5 more threads\n",
      "2021-02-24 23:09:52,704 : INFO : worker thread finished; awaiting finish of 4 more threads\n",
      "2021-02-24 23:09:52,706 : INFO : worker thread finished; awaiting finish of 3 more threads\n",
      "2021-02-24 23:09:52,714 : INFO : worker thread finished; awaiting finish of 2 more threads\n",
      "2021-02-24 23:09:52,719 : INFO : worker thread finished; awaiting finish of 1 more threads\n",
      "2021-02-24 23:09:52,720 : INFO : worker thread finished; awaiting finish of 0 more threads\n",
      "2021-02-24 23:09:52,721 : INFO : EPOCH - 8 : training on 15302977 raw words (3681066 effective words) took 11.2s, 327727 effective words/s\n",
      "2021-02-24 23:09:53,739 : INFO : EPOCH 9 - PROGRESS: at 8.90% examples, 327011 words/s, in_qsize 0, out_qsize 1\n",
      "2021-02-24 23:09:54,756 : INFO : EPOCH 9 - PROGRESS: at 17.32% examples, 316358 words/s, in_qsize 16, out_qsize 0\n",
      "2021-02-24 23:09:55,782 : INFO : EPOCH 9 - PROGRESS: at 26.89% examples, 324354 words/s, in_qsize 7, out_qsize 3\n",
      "2021-02-24 23:09:56,786 : INFO : EPOCH 9 - PROGRESS: at 36.14% examples, 328920 words/s, in_qsize 0, out_qsize 0\n",
      "2021-02-24 23:09:57,796 : INFO : EPOCH 9 - PROGRESS: at 44.42% examples, 323801 words/s, in_qsize 23, out_qsize 0\n",
      "2021-02-24 23:09:58,799 : INFO : EPOCH 9 - PROGRESS: at 54.16% examples, 329207 words/s, in_qsize 0, out_qsize 0\n",
      "2021-02-24 23:09:59,811 : INFO : EPOCH 9 - PROGRESS: at 63.24% examples, 328934 words/s, in_qsize 0, out_qsize 1\n",
      "2021-02-24 23:10:00,824 : INFO : EPOCH 9 - PROGRESS: at 72.14% examples, 327783 words/s, in_qsize 0, out_qsize 0\n",
      "2021-02-24 23:10:01,831 : INFO : EPOCH 9 - PROGRESS: at 80.04% examples, 323452 words/s, in_qsize 21, out_qsize 0\n",
      "2021-02-24 23:10:02,832 : INFO : EPOCH 9 - PROGRESS: at 88.92% examples, 323891 words/s, in_qsize 22, out_qsize 0\n",
      "2021-02-24 23:10:03,838 : INFO : EPOCH 9 - PROGRESS: at 98.56% examples, 326724 words/s, in_qsize 0, out_qsize 0\n",
      "2021-02-24 23:10:03,937 : INFO : worker thread finished; awaiting finish of 11 more threads\n",
      "2021-02-24 23:10:03,958 : INFO : worker thread finished; awaiting finish of 10 more threads\n",
      "2021-02-24 23:10:03,960 : INFO : worker thread finished; awaiting finish of 9 more threads\n",
      "2021-02-24 23:10:03,962 : INFO : worker thread finished; awaiting finish of 8 more threads\n",
      "2021-02-24 23:10:03,970 : INFO : worker thread finished; awaiting finish of 7 more threads\n",
      "2021-02-24 23:10:03,979 : INFO : worker thread finished; awaiting finish of 6 more threads\n",
      "2021-02-24 23:10:03,981 : INFO : worker thread finished; awaiting finish of 5 more threads\n",
      "2021-02-24 23:10:03,988 : INFO : worker thread finished; awaiting finish of 4 more threads\n",
      "2021-02-24 23:10:03,990 : INFO : worker thread finished; awaiting finish of 3 more threads\n",
      "2021-02-24 23:10:03,991 : INFO : worker thread finished; awaiting finish of 2 more threads\n",
      "2021-02-24 23:10:03,993 : INFO : worker thread finished; awaiting finish of 1 more threads\n",
      "2021-02-24 23:10:03,999 : INFO : worker thread finished; awaiting finish of 0 more threads\n",
      "2021-02-24 23:10:04,000 : INFO : EPOCH - 9 : training on 15302977 raw words (3682443 effective words) took 11.3s, 326643 effective words/s\n",
      "2021-02-24 23:10:05,009 : INFO : EPOCH 10 - PROGRESS: at 8.83% examples, 327073 words/s, in_qsize 0, out_qsize 0\n",
      "2021-02-24 23:10:06,011 : INFO : EPOCH 10 - PROGRESS: at 17.99% examples, 332308 words/s, in_qsize 0, out_qsize 0\n",
      "2021-02-24 23:10:07,020 : INFO : EPOCH 10 - PROGRESS: at 26.18% examples, 320400 words/s, in_qsize 22, out_qsize 1\n",
      "2021-02-24 23:10:08,023 : INFO : EPOCH 10 - PROGRESS: at 35.35% examples, 324617 words/s, in_qsize 19, out_qsize 0\n",
      "2021-02-24 23:10:09,024 : INFO : EPOCH 10 - PROGRESS: at 44.95% examples, 330301 words/s, in_qsize 0, out_qsize 0\n",
      "2021-02-24 23:10:10,028 : INFO : EPOCH 10 - PROGRESS: at 54.16% examples, 331534 words/s, in_qsize 0, out_qsize 0\n",
      "2021-02-24 23:10:11,035 : INFO : EPOCH 10 - PROGRESS: at 62.85% examples, 329182 words/s, in_qsize 0, out_qsize 1\n",
      "2021-02-24 23:10:12,036 : INFO : EPOCH 10 - PROGRESS: at 72.07% examples, 329977 words/s, in_qsize 0, out_qsize 1\n",
      "2021-02-24 23:10:13,042 : INFO : EPOCH 10 - PROGRESS: at 81.47% examples, 331603 words/s, in_qsize 0, out_qsize 1\n",
      "2021-02-24 23:10:14,044 : INFO : EPOCH 10 - PROGRESS: at 90.43% examples, 331579 words/s, in_qsize 2, out_qsize 0\n",
      "2021-02-24 23:10:15,047 : INFO : EPOCH 10 - PROGRESS: at 98.83% examples, 329547 words/s, in_qsize 17, out_qsize 1\n",
      "2021-02-24 23:10:15,098 : INFO : worker thread finished; awaiting finish of 11 more threads\n",
      "2021-02-24 23:10:15,109 : INFO : worker thread finished; awaiting finish of 10 more threads\n",
      "2021-02-24 23:10:15,118 : INFO : worker thread finished; awaiting finish of 9 more threads\n",
      "2021-02-24 23:10:15,121 : INFO : worker thread finished; awaiting finish of 8 more threads\n",
      "2021-02-24 23:10:15,124 : INFO : worker thread finished; awaiting finish of 7 more threads\n",
      "2021-02-24 23:10:15,125 : INFO : worker thread finished; awaiting finish of 6 more threads\n",
      "2021-02-24 23:10:15,127 : INFO : worker thread finished; awaiting finish of 5 more threads\n",
      "2021-02-24 23:10:15,133 : INFO : worker thread finished; awaiting finish of 4 more threads\n",
      "2021-02-24 23:10:15,134 : INFO : worker thread finished; awaiting finish of 3 more threads\n",
      "2021-02-24 23:10:15,137 : INFO : worker thread finished; awaiting finish of 2 more threads\n"
     ]
    },
    {
     "name": "stderr",
     "output_type": "stream",
     "text": [
      "2021-02-24 23:10:15,138 : INFO : worker thread finished; awaiting finish of 1 more threads\n",
      "2021-02-24 23:10:15,144 : INFO : worker thread finished; awaiting finish of 0 more threads\n",
      "2021-02-24 23:10:15,145 : INFO : EPOCH - 10 : training on 15302977 raw words (3681765 effective words) took 11.1s, 330510 effective words/s\n",
      "2021-02-24 23:10:15,146 : INFO : training on a 153029770 raw words (36813715 effective words) took 114.3s, 321985 effective words/s\n",
      "2021-02-24 23:10:15,148 : INFO : saving Word2Vec object under dados/experimento_4/w2v_jur.model, separately None\n",
      "2021-02-24 23:10:15,149 : INFO : not storing attribute vectors_norm\n",
      "2021-02-24 23:10:15,150 : INFO : not storing attribute cum_table\n",
      "2021-02-24 23:10:16,028 : INFO : saved dados/experimento_4/w2v_jur.model\n"
     ]
    },
    {
     "name": "stdout",
     "output_type": "stream",
     "text": [
      "treinando modelo word2vec\n"
     ]
    },
    {
     "name": "stderr",
     "output_type": "stream",
     "text": [
      "2021-02-24 23:10:16,031 : INFO : resetting layer weights\n",
      "2021-02-24 23:10:21,129 : INFO : collecting all words and their counts\n",
      "2021-02-24 23:10:21,130 : INFO : PROGRESS: at sentence #0, processed 0 words, keeping 0 word types\n",
      "2021-02-24 23:10:21,207 : INFO : PROGRESS: at sentence #10000, processed 243712 words, keeping 14355 word types\n",
      "2021-02-24 23:10:21,276 : INFO : PROGRESS: at sentence #20000, processed 487567 words, keeping 19578 word types\n",
      "2021-02-24 23:10:21,345 : INFO : PROGRESS: at sentence #30000, processed 729265 words, keeping 23175 word types\n",
      "2021-02-24 23:10:21,414 : INFO : PROGRESS: at sentence #40000, processed 972252 words, keeping 26357 word types\n",
      "2021-02-24 23:10:21,482 : INFO : PROGRESS: at sentence #50000, processed 1211823 words, keeping 28947 word types\n",
      "2021-02-24 23:10:21,554 : INFO : PROGRESS: at sentence #60000, processed 1455674 words, keeping 31038 word types\n",
      "2021-02-24 23:10:21,624 : INFO : PROGRESS: at sentence #70000, processed 1700196 words, keeping 33032 word types\n",
      "2021-02-24 23:10:21,693 : INFO : PROGRESS: at sentence #80000, processed 1943504 words, keeping 34806 word types\n",
      "2021-02-24 23:10:21,761 : INFO : PROGRESS: at sentence #90000, processed 2182046 words, keeping 36598 word types\n",
      "2021-02-24 23:10:21,829 : INFO : PROGRESS: at sentence #100000, processed 2420767 words, keeping 38196 word types\n",
      "2021-02-24 23:10:21,897 : INFO : PROGRESS: at sentence #110000, processed 2665009 words, keeping 39847 word types\n",
      "2021-02-24 23:10:21,963 : INFO : PROGRESS: at sentence #120000, processed 2909090 words, keeping 41095 word types\n",
      "2021-02-24 23:10:22,032 : INFO : PROGRESS: at sentence #130000, processed 3150824 words, keeping 42556 word types\n",
      "2021-02-24 23:10:22,105 : INFO : PROGRESS: at sentence #140000, processed 3398634 words, keeping 43781 word types\n",
      "2021-02-24 23:10:22,176 : INFO : PROGRESS: at sentence #150000, processed 3646248 words, keeping 45011 word types\n",
      "2021-02-24 23:10:22,244 : INFO : PROGRESS: at sentence #160000, processed 3889886 words, keeping 46101 word types\n",
      "2021-02-24 23:10:22,309 : INFO : PROGRESS: at sentence #170000, processed 4121187 words, keeping 47173 word types\n",
      "2021-02-24 23:10:22,376 : INFO : PROGRESS: at sentence #180000, processed 4368750 words, keeping 48179 word types\n",
      "2021-02-24 23:10:22,447 : INFO : PROGRESS: at sentence #190000, processed 4624285 words, keeping 49261 word types\n",
      "2021-02-24 23:10:22,515 : INFO : PROGRESS: at sentence #200000, processed 4868649 words, keeping 50323 word types\n",
      "2021-02-24 23:10:22,582 : INFO : PROGRESS: at sentence #210000, processed 5111131 words, keeping 51298 word types\n",
      "2021-02-24 23:10:22,651 : INFO : PROGRESS: at sentence #220000, processed 5362434 words, keeping 52263 word types\n",
      "2021-02-24 23:10:22,720 : INFO : PROGRESS: at sentence #230000, processed 5601127 words, keeping 53171 word types\n",
      "2021-02-24 23:10:22,788 : INFO : PROGRESS: at sentence #240000, processed 5842290 words, keeping 54085 word types\n",
      "2021-02-24 23:10:22,856 : INFO : PROGRESS: at sentence #250000, processed 6089304 words, keeping 54927 word types\n",
      "2021-02-24 23:10:22,924 : INFO : PROGRESS: at sentence #260000, processed 6332756 words, keeping 55763 word types\n",
      "2021-02-24 23:10:22,991 : INFO : PROGRESS: at sentence #270000, processed 6573178 words, keeping 56611 word types\n",
      "2021-02-24 23:10:23,061 : INFO : PROGRESS: at sentence #280000, processed 6817019 words, keeping 57605 word types\n",
      "2021-02-24 23:10:23,129 : INFO : PROGRESS: at sentence #290000, processed 7058192 words, keeping 58538 word types\n",
      "2021-02-24 23:10:23,198 : INFO : PROGRESS: at sentence #300000, processed 7299709 words, keeping 59258 word types\n",
      "2021-02-24 23:10:23,268 : INFO : PROGRESS: at sentence #310000, processed 7547476 words, keeping 60083 word types\n",
      "2021-02-24 23:10:23,337 : INFO : PROGRESS: at sentence #320000, processed 7796408 words, keeping 60829 word types\n",
      "2021-02-24 23:10:23,405 : INFO : PROGRESS: at sentence #330000, processed 8042270 words, keeping 61557 word types\n",
      "2021-02-24 23:10:23,472 : INFO : PROGRESS: at sentence #340000, processed 8283515 words, keeping 62273 word types\n",
      "2021-02-24 23:10:23,541 : INFO : PROGRESS: at sentence #350000, processed 8528291 words, keeping 62993 word types\n",
      "2021-02-24 23:10:23,609 : INFO : PROGRESS: at sentence #360000, processed 8768810 words, keeping 63707 word types\n",
      "2021-02-24 23:10:23,675 : INFO : PROGRESS: at sentence #370000, processed 9006587 words, keeping 64484 word types\n",
      "2021-02-24 23:10:23,744 : INFO : PROGRESS: at sentence #380000, processed 9249211 words, keeping 65206 word types\n",
      "2021-02-24 23:10:23,813 : INFO : PROGRESS: at sentence #390000, processed 9492501 words, keeping 65925 word types\n",
      "2021-02-24 23:10:23,879 : INFO : PROGRESS: at sentence #400000, processed 9727531 words, keeping 66598 word types\n",
      "2021-02-24 23:10:23,947 : INFO : PROGRESS: at sentence #410000, processed 9968882 words, keeping 67300 word types\n",
      "2021-02-24 23:10:24,017 : INFO : PROGRESS: at sentence #420000, processed 10211974 words, keeping 68018 word types\n",
      "2021-02-24 23:10:24,085 : INFO : PROGRESS: at sentence #430000, processed 10452691 words, keeping 68680 word types\n",
      "2021-02-24 23:10:24,153 : INFO : PROGRESS: at sentence #440000, processed 10696395 words, keeping 69450 word types\n",
      "2021-02-24 23:10:24,219 : INFO : PROGRESS: at sentence #450000, processed 10932110 words, keeping 70055 word types\n",
      "2021-02-24 23:10:24,288 : INFO : PROGRESS: at sentence #460000, processed 11174677 words, keeping 70751 word types\n",
      "2021-02-24 23:10:24,357 : INFO : PROGRESS: at sentence #470000, processed 11415273 words, keeping 71289 word types\n",
      "2021-02-24 23:10:24,425 : INFO : PROGRESS: at sentence #480000, processed 11657414 words, keeping 71971 word types\n",
      "2021-02-24 23:10:24,494 : INFO : PROGRESS: at sentence #490000, processed 11904502 words, keeping 72643 word types\n",
      "2021-02-24 23:10:24,560 : INFO : PROGRESS: at sentence #500000, processed 12145244 words, keeping 73237 word types\n",
      "2021-02-24 23:10:24,629 : INFO : PROGRESS: at sentence #510000, processed 12388366 words, keeping 73847 word types\n",
      "2021-02-24 23:10:24,698 : INFO : PROGRESS: at sentence #520000, processed 12634931 words, keeping 74489 word types\n",
      "2021-02-24 23:10:24,767 : INFO : PROGRESS: at sentence #530000, processed 12877175 words, keeping 75210 word types\n",
      "2021-02-24 23:10:24,838 : INFO : PROGRESS: at sentence #540000, processed 13122346 words, keeping 75824 word types\n",
      "2021-02-24 23:10:24,909 : INFO : PROGRESS: at sentence #550000, processed 13371839 words, keeping 76422 word types\n",
      "2021-02-24 23:10:24,979 : INFO : PROGRESS: at sentence #560000, processed 13618707 words, keeping 77009 word types\n",
      "2021-02-24 23:10:25,049 : INFO : PROGRESS: at sentence #570000, processed 13866480 words, keeping 77626 word types\n",
      "2021-02-24 23:10:25,118 : INFO : PROGRESS: at sentence #580000, processed 14107905 words, keeping 78181 word types\n",
      "2021-02-24 23:10:25,187 : INFO : PROGRESS: at sentence #590000, processed 14351905 words, keeping 78692 word types\n",
      "2021-02-24 23:10:25,257 : INFO : PROGRESS: at sentence #600000, processed 14606727 words, keeping 79265 word types\n",
      "2021-02-24 23:10:25,324 : INFO : PROGRESS: at sentence #610000, processed 14844555 words, keeping 79899 word types\n",
      "2021-02-24 23:10:25,396 : INFO : PROGRESS: at sentence #620000, processed 15085398 words, keeping 80452 word types\n",
      "2021-02-24 23:10:25,458 : INFO : collected 80893 word types from a corpus of 15302977 raw words and 629108 sentences\n",
      "2021-02-24 23:10:25,459 : INFO : Loading a fresh vocabulary\n",
      "2021-02-24 23:10:25,551 : INFO : effective_min_count=5 retains 32511 unique words (40% of original 80893, drops 48382)\n",
      "2021-02-24 23:10:25,552 : INFO : effective_min_count=5 leaves 15221367 word corpus (99% of original 15302977, drops 81610)\n",
      "2021-02-24 23:10:25,627 : INFO : deleting the raw counts dictionary of 80893 items\n",
      "2021-02-24 23:10:25,630 : INFO : sample=0.001 downsamples 36 most-common words\n",
      "2021-02-24 23:10:25,631 : INFO : downsampling leaves estimated 11019313 word corpus (72.4% of prior 15221367)\n",
      "2021-02-24 23:10:25,653 : INFO : constructing a huffman tree from 32511 words\n",
      "2021-02-24 23:10:26,347 : INFO : built huffman tree with maximum node depth 22\n",
      "2021-02-24 23:10:26,693 : INFO : estimated required memory for 32511 words, 137880 buckets and 100 dimensions: 125687964 bytes\n"
     ]
    },
    {
     "name": "stderr",
     "output_type": "stream",
     "text": [
      "2021-02-24 23:10:26,697 : INFO : resetting layer weights\n",
      "2021-02-24 23:10:30,180 : INFO : training model with 12 workers on 32511 vocabulary and 100 features, using sg=1 hs=1 sample=0.001 negative=5 window=5\n",
      "2021-02-24 23:11:22,475 : INFO : EPOCH 1 - PROGRESS: at 8.38% words, 17685 words/s, in_qsize -1, out_qsize 1\n",
      "2021-02-24 23:11:22,477 : INFO : worker thread finished; awaiting finish of 11 more threads\n",
      "2021-02-24 23:11:22,499 : INFO : worker thread finished; awaiting finish of 10 more threads\n",
      "2021-02-24 23:11:22,628 : INFO : worker thread finished; awaiting finish of 9 more threads\n",
      "2021-02-24 23:11:22,832 : INFO : worker thread finished; awaiting finish of 8 more threads\n",
      "2021-02-24 23:11:22,836 : INFO : worker thread finished; awaiting finish of 7 more threads\n",
      "2021-02-24 23:11:23,003 : INFO : worker thread finished; awaiting finish of 6 more threads\n",
      "2021-02-24 23:11:23,028 : INFO : worker thread finished; awaiting finish of 5 more threads\n",
      "2021-02-24 23:11:23,125 : INFO : worker thread finished; awaiting finish of 4 more threads\n",
      "2021-02-24 23:11:23,557 : INFO : EPOCH 1 - PROGRESS: at 75.40% words, 155760 words/s, in_qsize -1, out_qsize 1\n",
      "2021-02-24 23:11:23,558 : INFO : worker thread finished; awaiting finish of 3 more threads\n",
      "2021-02-24 23:11:23,566 : INFO : worker thread finished; awaiting finish of 2 more threads\n",
      "2021-02-24 23:11:23,583 : INFO : worker thread finished; awaiting finish of 1 more threads\n",
      "2021-02-24 23:11:23,796 : INFO : worker thread finished; awaiting finish of 0 more threads\n",
      "2021-02-24 23:11:23,798 : INFO : EPOCH - 1 : training on 15386255 raw words (11077813 effective words) took 53.6s, 206785 effective words/s\n",
      "2021-02-24 23:12:15,030 : INFO : EPOCH 2 - PROGRESS: at 8.39% words, 18028 words/s, in_qsize -1, out_qsize 1\n",
      "2021-02-24 23:12:15,032 : INFO : worker thread finished; awaiting finish of 11 more threads\n",
      "2021-02-24 23:12:15,106 : INFO : worker thread finished; awaiting finish of 10 more threads\n",
      "2021-02-24 23:12:15,375 : INFO : worker thread finished; awaiting finish of 9 more threads\n",
      "2021-02-24 23:12:15,611 : INFO : worker thread finished; awaiting finish of 8 more threads\n",
      "2021-02-24 23:12:15,631 : INFO : worker thread finished; awaiting finish of 7 more threads\n",
      "2021-02-24 23:12:15,683 : INFO : worker thread finished; awaiting finish of 6 more threads\n",
      "2021-02-24 23:12:15,900 : INFO : worker thread finished; awaiting finish of 5 more threads\n",
      "2021-02-24 23:12:15,904 : INFO : worker thread finished; awaiting finish of 4 more threads\n",
      "2021-02-24 23:12:16,590 : INFO : EPOCH 2 - PROGRESS: at 75.40% words, 157529 words/s, in_qsize -1, out_qsize 1\n",
      "2021-02-24 23:12:16,591 : INFO : worker thread finished; awaiting finish of 3 more threads\n",
      "2021-02-24 23:12:16,597 : INFO : worker thread finished; awaiting finish of 2 more threads\n",
      "2021-02-24 23:12:16,630 : INFO : worker thread finished; awaiting finish of 1 more threads\n",
      "2021-02-24 23:12:16,782 : INFO : worker thread finished; awaiting finish of 0 more threads\n",
      "2021-02-24 23:12:16,784 : INFO : EPOCH - 2 : training on 15386255 raw words (11080762 effective words) took 52.9s, 209303 effective words/s\n",
      "2021-02-24 23:13:08,147 : INFO : EPOCH 3 - PROGRESS: at 8.39% words, 17987 words/s, in_qsize -1, out_qsize 1\n",
      "2021-02-24 23:13:08,149 : INFO : worker thread finished; awaiting finish of 11 more threads\n",
      "2021-02-24 23:13:08,173 : INFO : worker thread finished; awaiting finish of 10 more threads\n",
      "2021-02-24 23:13:08,217 : INFO : worker thread finished; awaiting finish of 9 more threads\n",
      "2021-02-24 23:13:08,402 : INFO : worker thread finished; awaiting finish of 8 more threads\n",
      "2021-02-24 23:13:08,747 : INFO : worker thread finished; awaiting finish of 7 more threads\n",
      "2021-02-24 23:13:08,849 : INFO : worker thread finished; awaiting finish of 6 more threads\n",
      "2021-02-24 23:13:08,867 : INFO : worker thread finished; awaiting finish of 5 more threads\n",
      "2021-02-24 23:13:08,881 : INFO : worker thread finished; awaiting finish of 4 more threads\n",
      "2021-02-24 23:13:09,440 : INFO : EPOCH 3 - PROGRESS: at 75.40% words, 157919 words/s, in_qsize -1, out_qsize 1\n",
      "2021-02-24 23:13:09,441 : INFO : worker thread finished; awaiting finish of 3 more threads\n",
      "2021-02-24 23:13:09,513 : INFO : worker thread finished; awaiting finish of 2 more threads\n",
      "2021-02-24 23:13:09,565 : INFO : worker thread finished; awaiting finish of 1 more threads\n",
      "2021-02-24 23:13:09,579 : INFO : worker thread finished; awaiting finish of 0 more threads\n",
      "2021-02-24 23:13:09,580 : INFO : EPOCH - 3 : training on 15386255 raw words (11079936 effective words) took 52.8s, 210036 effective words/s\n",
      "2021-02-24 23:14:00,658 : INFO : EPOCH 4 - PROGRESS: at 8.38% words, 18102 words/s, in_qsize -1, out_qsize 1\n",
      "2021-02-24 23:14:00,660 : INFO : worker thread finished; awaiting finish of 11 more threads\n",
      "2021-02-24 23:14:00,834 : INFO : worker thread finished; awaiting finish of 10 more threads\n",
      "2021-02-24 23:14:00,881 : INFO : worker thread finished; awaiting finish of 9 more threads\n",
      "2021-02-24 23:14:01,409 : INFO : worker thread finished; awaiting finish of 8 more threads\n",
      "2021-02-24 23:14:01,425 : INFO : worker thread finished; awaiting finish of 7 more threads\n",
      "2021-02-24 23:14:01,614 : INFO : worker thread finished; awaiting finish of 6 more threads\n",
      "2021-02-24 23:14:01,728 : INFO : EPOCH 4 - PROGRESS: at 58.69% words, 124122 words/s, in_qsize -1, out_qsize 1\n",
      "2021-02-24 23:14:01,729 : INFO : worker thread finished; awaiting finish of 5 more threads\n",
      "2021-02-24 23:14:01,982 : INFO : worker thread finished; awaiting finish of 4 more threads\n",
      "2021-02-24 23:14:01,990 : INFO : worker thread finished; awaiting finish of 3 more threads\n",
      "2021-02-24 23:14:02,005 : INFO : worker thread finished; awaiting finish of 2 more threads\n",
      "2021-02-24 23:14:02,120 : INFO : worker thread finished; awaiting finish of 1 more threads\n",
      "2021-02-24 23:14:02,639 : INFO : worker thread finished; awaiting finish of 0 more threads\n",
      "2021-02-24 23:14:02,640 : INFO : EPOCH - 4 : training on 15386255 raw words (11080431 effective words) took 53.0s, 209001 effective words/s\n",
      "2021-02-24 23:14:53,714 : INFO : EPOCH 5 - PROGRESS: at 8.38% words, 18077 words/s, in_qsize -1, out_qsize 1\n",
      "2021-02-24 23:14:53,716 : INFO : worker thread finished; awaiting finish of 11 more threads\n",
      "2021-02-24 23:14:53,929 : INFO : worker thread finished; awaiting finish of 10 more threads\n",
      "2021-02-24 23:14:53,936 : INFO : worker thread finished; awaiting finish of 9 more threads\n",
      "2021-02-24 23:14:54,221 : INFO : worker thread finished; awaiting finish of 8 more threads\n",
      "2021-02-24 23:14:54,405 : INFO : worker thread finished; awaiting finish of 7 more threads\n",
      "2021-02-24 23:14:54,518 : INFO : worker thread finished; awaiting finish of 6 more threads\n",
      "2021-02-24 23:14:54,548 : INFO : worker thread finished; awaiting finish of 5 more threads\n",
      "2021-02-24 23:14:54,578 : INFO : worker thread finished; awaiting finish of 4 more threads\n",
      "2021-02-24 23:14:54,723 : INFO : EPOCH 5 - PROGRESS: at 75.40% words, 159664 words/s, in_qsize -1, out_qsize 1\n",
      "2021-02-24 23:14:54,724 : INFO : worker thread finished; awaiting finish of 3 more threads\n",
      "2021-02-24 23:14:54,963 : INFO : worker thread finished; awaiting finish of 2 more threads\n",
      "2021-02-24 23:14:55,006 : INFO : worker thread finished; awaiting finish of 1 more threads\n",
      "2021-02-24 23:14:55,154 : INFO : worker thread finished; awaiting finish of 0 more threads\n",
      "2021-02-24 23:14:55,155 : INFO : EPOCH - 5 : training on 15386255 raw words (11079945 effective words) took 52.5s, 211169 effective words/s\n",
      "2021-02-24 23:14:55,158 : INFO : training on a 76931275 raw words (55398887 effective words) took 265.0s, 209070 effective words/s\n",
      "2021-02-24 23:14:55,159 : WARNING : under 10 jobs per worker: consider setting a smaller `batch_words' for smoother alpha decay\n",
      "2021-02-24 23:14:56,645 : INFO : saving FastText object under dados/experimento_4/ftt_jur.model, separately None\n",
      "2021-02-24 23:14:56,646 : INFO : storing np array 'vectors_ngrams' to dados/experimento_4/ftt_jur.model.wv.vectors_ngrams.npy\n",
      "2021-02-24 23:15:04,006 : INFO : not storing attribute vectors_norm\n",
      "2021-02-24 23:15:04,007 : INFO : not storing attribute vectors_vocab_norm\n",
      "2021-02-24 23:15:04,009 : INFO : not storing attribute vectors_ngrams_norm\n"
     ]
    },
    {
     "name": "stderr",
     "output_type": "stream",
     "text": [
      "2021-02-24 23:15:04,010 : INFO : not storing attribute buckets_word\n",
      "2021-02-24 23:15:04,011 : INFO : storing np array 'vectors_ngrams_lockf' to dados/experimento_4/ftt_jur.model.trainables.vectors_ngrams_lockf.npy\n",
      "2021-02-24 23:15:11,615 : INFO : saved dados/experimento_4/ftt_jur.model\n"
     ]
    },
    {
     "name": "stdout",
     "output_type": "stream",
     "text": [
      "treinando modelo glove\n",
      "mkdir -p build\n",
      "tokenizando corpus\n",
      "$ build/vocab_count -min-count 5 -verbose 2 < ../mestrado/experimentos_mestrado/dados/experimento_4/base_treino_glv.txt > ../mestrado/experimentos_mestrado/dados/experimento_4/glove_vocab.txt\n",
      "criando matriz de coocorrencia\n",
      "$ build/cooccur -memory 4.0 -vocab-file ../mestrado/experimentos_mestrado/dados/experimento_4/glove_vocab.txt -verbose 2 -window-size 15 < ../mestrado/experimentos_mestrado/dados/experimento_4/base_treino_glv.txt > ../mestrado/experimentos_mestrado/dados/experimento_4/glv_concurrence.bin\n",
      "$ build/shuffle -memory 4.0 -verbose 2 < ../mestrado/experimentos_mestrado/dados/experimento_4/glv_concurrence.bin > ../mestrado/experimentos_mestrado/dados/experimento_4/glv_concurrence_shuf.bin\n",
      "$ build/glove -save-file ../mestrado/experimentos_mestrado/dados/experimento_4/glv_jur -threads 8 -input-file ../mestrado/experimentos_mestrado/dados/experimento_4/glv_concurrence_shuf.bin -x-max 10 -iter 15 -vector-size 100 -binary 2 -vocab-file ../mestrado/experimentos_mestrado/dados/experimento_4/glove_vocab.txt -verbose 2\n",
      "\n",
      "BUILDING VOCABULARY\n",
      "Processed 0 tokens.100000 tokens.200000 tokens.300000 tokens.400000 tokens.500000 tokens.600000 tokens.700000 tokens.800000 tokens.900000 tokens.1000000 tokens.1100000 tokens.1200000 tokens.1300000 tokens.1400000 tokens.1500000 tokens.1600000 tokens.1700000 tokens.1800000 tokens.1900000 tokens.2000000 tokens.2100000 tokens.2200000 tokens.2300000 tokens.2400000 tokens.2500000 tokens.2600000 tokens.2700000 tokens.2800000 tokens.2900000 tokens.3000000 tokens.3100000 tokens.3200000 tokens.3300000 tokens.3400000 tokens.3500000 tokens.3600000 tokens.3700000 tokens.3800000 tokens.3900000 tokens.4000000 tokens.4100000 tokens.4200000 tokens.4300000 tokens.4400000 tokens.4500000 tokens.4600000 tokens.4700000 tokens.4800000 tokens.4900000 tokens.5000000 tokens.5100000 tokens.5200000 tokens.5300000 tokens.5400000 tokens.5500000 tokens.5600000 tokens.5700000 tokens.5800000 tokens.5900000 tokens.6000000 tokens.6100000 tokens.6200000 tokens.6300000 tokens.6400000 tokens.6500000 tokens.6600000 tokens.6700000 tokens.6800000 tokens.6900000 tokens.7000000 tokens.7100000 tokens.7200000 tokens.7300000 tokens.7400000 tokens.7500000 tokens.7600000 tokens.7700000 tokens.7800000 tokens.7900000 tokens.8000000 tokens.8100000 tokens.8200000 tokens.8300000 tokens.8400000 tokens.8500000 tokens.8600000 tokens.8700000 tokens.8800000 tokens.8900000 tokens.9000000 tokens.9100000 tokens.9200000 tokens.9300000 tokens.9400000 tokens.9500000 tokens.9600000 tokens.Processed 9630821 tokens.\n",
      "Counted 80713 unique words.\n",
      "Truncating vocabulary at min count 5.\n",
      "Using vocabulary of size 32346.\n",
      "\n",
      "COUNTING COOCCURRENCES\n",
      "window size: 15\n",
      "context: symmetric\n",
      "max product: 13752509\n",
      "overflow length: 38028356\n",
      "Reading vocab from file \"../mestrado/experimentos_mestrado/dados/experimento_4/glove_vocab.txt\"...loaded 32346 words.\n",
      "Building lookup table...table contains 73293161 elements.\n",
      "Processing token: 0100000200000300000400000500000600000700000800000900000100000011000001200000130000014000001500000160000017000001800000190000020000002100000220000023000002400000250000026000002700000280000029000003000000310000032000003300000340000035000003600000370000038000003900000400000041000004200000430000044000004500000460000047000004800000490000050000005100000520000053000005400000550000056000005700000580000059000006000000610000062000006300000640000065000006600000670000068000006900000700000071000007200000730000074000007500000760000077000007800000790000080000008100000820000083000008400000850000086000008700000880000089000009000000910000092000009300000940000095000009600000Processed 9630821 tokens.\n",
      "Writing cooccurrences to disk........2 files in total.\n"
     ]
    },
    {
     "name": "stdout",
     "output_type": "stream",
     "text": [
      "Merging cooccurrence files: processed 0 lines.100000 lines.200000 lines.300000 lines.400000 lines.500000 lines.600000 lines.700000 lines.800000 lines.900000 lines.1000000 lines.1100000 lines.1200000 lines.1300000 lines.1400000 lines.1500000 lines.1600000 lines.1700000 lines.1800000 lines.1900000 lines.2000000 lines.2100000 lines.2200000 lines.2300000 lines.2400000 lines.2500000 lines.2600000 lines.2700000 lines.2800000 lines.2900000 lines.3000000 lines.3100000 lines.3200000 lines.3300000 lines.3400000 lines.3500000 lines.3600000 lines.3700000 lines.3800000 lines.3900000 lines.4000000 lines.4100000 lines.4200000 lines.4300000 lines.4400000 lines.4500000 lines.4600000 lines.4700000 lines.4800000 lines.4900000 lines.5000000 lines.5100000 lines.5200000 lines.5300000 lines.5400000 lines.5500000 lines.5600000 lines.5700000 lines.5800000 lines.5900000 lines.6000000 lines.6100000 lines.6200000 lines.6300000 lines.6400000 lines.6500000 lines.6600000 lines.6700000 lines.6800000 lines.6900000 lines.7000000 lines.7100000 lines.7200000 lines.7300000 lines.7400000 lines.7500000 lines.7600000 lines.7700000 lines.7800000 lines.7900000 lines.8000000 lines.8100000 lines.8200000 lines.8300000 lines.8400000 lines.8500000 lines.8600000 lines.8700000 lines.8800000 lines.8900000 lines.9000000 lines.9100000 lines.9200000 lines.9300000 lines.9400000 lines.9500000 lines.9600000 lines.9700000 lines.9800000 lines.9900000 lines.10000000 lines.10100000 lines.10200000 lines.10300000 lines.10400000 lines.10500000 lines.10600000 lines.10700000 lines.10800000 lines.10900000 lines.11000000 lines.11100000 lines.11200000 lines.11300000 lines.11400000 lines.11500000 lines.11600000 lines.11700000 lines.11800000 lines.11900000 lines.12000000 lines.12100000 lines.12200000 lines.12300000 lines.12400000 lines.12500000 lines.12600000 lines.12700000 lines.12800000 lines.12900000 lines.13000000 lines.13100000 lines.13200000 lines.13300000 lines.13400000 lines.13500000 lines.13600000 lines.13700000 lines.13800000 lines.13900000 lines.14000000 lines.14100000 lines.14200000 lines.14300000 lines.14400000 lines.14500000 lines.14600000 lines.14700000 lines.14800000 lines.14900000 lines.15000000 lines.15100000 lines.15200000 lines.15300000 lines.15400000 lines.15500000 lines.15600000 lines.15700000 lines.15800000 lines.15900000 lines.16000000 lines.16100000 lines.16200000 lines.16300000 lines.16400000 lines.16500000 lines.16600000 lines.16700000 lines.16800000 lines.16900000 lines.17000000 lines.17100000 lines.17200000 lines.17300000 lines.17400000 lines.17500000 lines.17600000 lines.17700000 lines.17800000 lines.17900000 lines.18000000 lines.18100000 lines.18200000 lines.18300000 lines.18400000 lines.18500000 lines.18600000 lines.18700000 lines.18800000 lines.18900000 lines.19000000 lines.19100000 lines.19200000 lines.19300000 lines.19400000 lines.19500000 lines.19600000 lines.19700000 lines.19800000 lines.19900000 lines.20000000 lines.20100000 lines.20200000 lines.20300000 lines.20400000 lines.20500000 lines.20600000 lines.20700000 lines.20800000 lines.20900000 lines.21000000 lines.21100000 lines.21200000 lines.21300000 lines.21400000 lines.21500000 lines.21600000 lines.21700000 lines.21800000 lines.21900000 lines.22000000 lines.22100000 lines.22200000 lines.22300000 lines.22400000 lines.22500000 lines.22600000 lines.22700000 lines.22800000 lines.22900000 lines.23000000 lines.23100000 lines.23200000 lines.23300000 lines.23400000 lines.23500000 lines.23600000 lines.23700000 lines.23800000 lines.23900000 lines.24000000 lines.24100000 lines.24200000 lines.24300000 lines.24400000 lines.24500000 lines.24600000 lines.24700000 lines.24800000 lines.24900000 lines.25000000 lines.25100000 lines.25200000 lines.25300000 lines.25400000 lines.25500000 lines.25600000 lines.25700000 lines.25800000 lines.25900000 lines.26000000 lines.26100000 lines.26200000 lines.26300000 lines.26400000 lines.26500000 lines.26600000 lines.26700000 lines.26800000 lines.26900000 lines.27000000 lines.27100000 lines.27200000 lines.27300000 lines.27400000 lines.27500000 lines.27600000 lines.27700000 lines.27800000 lines.27900000 lines.28000000 lines.28100000 lines.28200000 lines.28300000 lines.28400000 lines.28500000 lines.28600000 lines.28700000 lines.28800000 lines.28900000 lines.29000000 lines.29100000 lines.29200000 lines.29300000 lines.29400000 lines.29500000 lines.29600000 lines.29700000 lines.29800000 lines.29900000 lines.30000000 lines.30100000 lines.30200000 lines.30300000 lines.30400000 lines.30500000 lines.30600000 lines.30700000 lines.30800000 lines.30900000 lines.31000000 lines.31100000 lines.31200000 lines.31300000 lines.31400000 lines.31500000 lines.Merging cooccurrence files: processed 31538097 lines.\n",
      "\n",
      "Using random seed 1614219327\n",
      "SHUFFLING COOCCURRENCES\n",
      "array size: 255013683\n",
      "Shuffling by chunks: processed 0 lines.processed 31538097 lines.\n",
      "Wrote 1 temporary file(s).\n",
      "Merging temp files: processed 0 lines.31538097 lines.Merging temp files: processed 31538097 lines.\n",
      "\n",
      "TRAINING MODEL\n",
      "Read 31538097 lines.\n",
      "Initializing parameters...Using random seed 1614219338\n",
      "done.\n",
      "vector size: 100\n",
      "vocab size: 32346\n",
      "x_max: 10.000000\n",
      "alpha: 0.750000\n",
      "02/24/21 - 11:15.50PM, iter: 001, cost: 0.109309\n",
      "02/24/21 - 11:16.01PM, iter: 002, cost: 0.079392\n",
      "02/24/21 - 11:16.13PM, iter: 003, cost: 0.066584\n",
      "02/24/21 - 11:16.24PM, iter: 004, cost: 0.058910\n",
      "02/24/21 - 11:16.35PM, iter: 005, cost: 0.054526\n",
      "02/24/21 - 11:16.46PM, iter: 006, cost: 0.051874\n",
      "02/24/21 - 11:16.57PM, iter: 007, cost: 0.050161\n",
      "02/24/21 - 11:17.08PM, iter: 008, cost: 0.048934\n",
      "02/24/21 - 11:17.18PM, iter: 009, cost: 0.048011\n",
      "02/24/21 - 11:17.29PM, iter: 010, cost: 0.047248\n",
      "02/24/21 - 11:17.40PM, iter: 011, cost: 0.046648\n",
      "02/24/21 - 11:17.51PM, iter: 012, cost: 0.046159\n",
      "02/24/21 - 11:18.02PM, iter: 013, cost: 0.045746\n",
      "02/24/21 - 11:18.12PM, iter: 014, cost: 0.045354\n",
      "02/24/21 - 11:18.23PM, iter: 015, cost: 0.045044\n",
      "\n",
      "treinamento concluído\n"
     ]
    },
    {
     "name": "stderr",
     "output_type": "stream",
     "text": [
      "2021-02-24 23:18:24,823 : INFO : converting 32347 vectors from dados/experimento_4/glv_jur.txt to C:\\Users\\CRISTI~1\\AppData\\Local\\Temp\\test_word2vec.txt\n",
      "2021-02-24 23:18:24,901 : INFO : loading projection weights from C:\\Users\\CRISTI~1\\AppData\\Local\\Temp\\test_word2vec.txt\n",
      "2021-02-24 23:18:27,661 : INFO : loaded (32347, 100) matrix from C:\\Users\\CRISTI~1\\AppData\\Local\\Temp\\test_word2vec.txt\n",
      "2021-02-24 23:18:27,662 : INFO : loading projection weights from modelos/w2v_skip_nilc.txt\n",
      "2021-02-24 23:19:45,246 : INFO : loaded (929606, 100) matrix from modelos/w2v_skip_nilc.txt\n",
      "2021-02-24 23:19:45,248 : INFO : loading projection weights from modelos/ftt_skip_nilc.txt\n",
      "2021-02-24 23:21:01,471 : INFO : loaded (929605, 100) matrix from modelos/ftt_skip_nilc.txt\n",
      "2021-02-24 23:21:01,472 : INFO : loading projection weights from modelos/glove_nilc.txt\n",
      "2021-02-24 23:22:18,463 : INFO : loaded (929605, 100) matrix from modelos/glove_nilc.txt\n"
     ]
    },
    {
     "name": "stdout",
     "output_type": "stream",
     "text": [
      "recuperando teores da base de teste\n"
     ]
    },
    {
     "data": {
      "application/vnd.jupyter.widget-view+json": {
       "model_id": "0a81616268a34c5fabd1e0b56406cfba",
       "version_major": 2,
       "version_minor": 0
      },
      "text/plain": [
       "HBox(children=(IntProgress(value=0, max=6663), HTML(value='')))"
      ]
     },
     "metadata": {},
     "output_type": "display_data"
    },
    {
     "name": "stdout",
     "output_type": "stream",
     "text": [
      "\n",
      "criando representações word2vec geral\n"
     ]
    },
    {
     "data": {
      "application/vnd.jupyter.widget-view+json": {
       "model_id": "ed0c4e4b4b0a44dea3f8baeca2db42c7",
       "version_major": 2,
       "version_minor": 0
      },
      "text/plain": [
       "HBox(children=(IntProgress(value=0, max=6663), HTML(value='')))"
      ]
     },
     "metadata": {},
     "output_type": "display_data"
    },
    {
     "name": "stdout",
     "output_type": "stream",
     "text": [
      "\n",
      "criando representações fasttext geral\n"
     ]
    },
    {
     "data": {
      "application/vnd.jupyter.widget-view+json": {
       "model_id": "e6a075efdf714fdb8d78be0af2bf5beb",
       "version_major": 2,
       "version_minor": 0
      },
      "text/plain": [
       "HBox(children=(IntProgress(value=0, max=6663), HTML(value='')))"
      ]
     },
     "metadata": {},
     "output_type": "display_data"
    },
    {
     "name": "stdout",
     "output_type": "stream",
     "text": [
      "\n",
      "criando representações glove geral\n"
     ]
    },
    {
     "data": {
      "application/vnd.jupyter.widget-view+json": {
       "model_id": "22d58bbb3b324b0597bab50ef65a36c7",
       "version_major": 2,
       "version_minor": 0
      },
      "text/plain": [
       "HBox(children=(IntProgress(value=0, max=6663), HTML(value='')))"
      ]
     },
     "metadata": {},
     "output_type": "display_data"
    },
    {
     "name": "stdout",
     "output_type": "stream",
     "text": [
      "\n",
      "criando representações word2vec juridico\n"
     ]
    },
    {
     "data": {
      "application/vnd.jupyter.widget-view+json": {
       "model_id": "307c7f099278425ca46df8aa6abb2c58",
       "version_major": 2,
       "version_minor": 0
      },
      "text/plain": [
       "HBox(children=(IntProgress(value=0, max=6663), HTML(value='')))"
      ]
     },
     "metadata": {},
     "output_type": "display_data"
    },
    {
     "name": "stdout",
     "output_type": "stream",
     "text": [
      "\n",
      "criando representações fasttext juridico\n"
     ]
    },
    {
     "data": {
      "application/vnd.jupyter.widget-view+json": {
       "model_id": "f4cc1e7d187c46febd7cf13238406ca8",
       "version_major": 2,
       "version_minor": 0
      },
      "text/plain": [
       "HBox(children=(IntProgress(value=0, max=6663), HTML(value='')))"
      ]
     },
     "metadata": {},
     "output_type": "display_data"
    },
    {
     "name": "stdout",
     "output_type": "stream",
     "text": [
      "\n",
      "criando representações glove juridico\n"
     ]
    },
    {
     "data": {
      "application/vnd.jupyter.widget-view+json": {
       "model_id": "9765359ab46641728737deb12d88730e",
       "version_major": 2,
       "version_minor": 0
      },
      "text/plain": [
       "HBox(children=(IntProgress(value=0, max=6663), HTML(value='')))"
      ]
     },
     "metadata": {},
     "output_type": "display_data"
    },
    {
     "name": "stdout",
     "output_type": "stream",
     "text": [
      "\n",
      "----------- EXPERIMENTO 4 CONCLUIDO -----------\n",
      "tempo do experimento: 19.822969567775726 minutos\n",
      "----------------------- EXPERIMENTO 5 -----------------------\n",
      "criando base de treino para o experimento 5\n"
     ]
    },
    {
     "data": {
      "application/vnd.jupyter.widget-view+json": {
       "model_id": "d0f7e4ac2d4249129f650da225e39c98",
       "version_major": 2,
       "version_minor": 0
      },
      "text/plain": [
       "HBox(children=(IntProgress(value=0, max=26650), HTML(value='')))"
      ]
     },
     "metadata": {},
     "output_type": "display_data"
    },
    {
     "name": "stdout",
     "output_type": "stream",
     "text": [
      "\n",
      "16131714 tokens copiados com sucesso\n",
      "preparando documentos para extração do vocabulário:\n"
     ]
    },
    {
     "data": {
      "application/vnd.jupyter.widget-view+json": {
       "model_id": "d80da726f99147c385b6154987915418",
       "version_major": 2,
       "version_minor": 0
      },
      "text/plain": [
       "HBox(children=(IntProgress(value=0, max=26650), HTML(value='')))"
      ]
     },
     "metadata": {},
     "output_type": "display_data"
    },
    {
     "name": "stdout",
     "output_type": "stream",
     "text": [
      "\n",
      "extraindo termos com base no ICA\n"
     ]
    },
    {
     "data": {
      "application/vnd.jupyter.widget-view+json": {
       "model_id": "5bd7ab445f4f4a98a5e7cfcfd3b90467",
       "version_major": 2,
       "version_minor": 0
      },
      "text/plain": [
       "HBox(children=(IntProgress(value=0, max=125), HTML(value='')))"
      ]
     },
     "metadata": {},
     "output_type": "display_data"
    },
    {
     "name": "stdout",
     "output_type": "stream",
     "text": [
      "\n",
      "-processando strings do corpus\n",
      "-treinando vetorizador\n",
      "-ICA processado\n",
      "extraindo termos com base na frequência - geralmente leva menos de 4 minutos\n",
      "extraindo termos do tesauro\n",
      "extração de vocabulário concluída!\n",
      "treinando modelo word2vec\n"
     ]
    },
    {
     "name": "stderr",
     "output_type": "stream",
     "text": [
      "2021-02-24 23:30:20,392 : INFO : collecting all words and their counts\n",
      "2021-02-24 23:30:20,399 : INFO : PROGRESS: at sentence #0, processed 0 words, keeping 0 word types\n",
      "2021-02-24 23:30:20,465 : INFO : PROGRESS: at sentence #10000, processed 244402 words, keeping 13370 word types\n",
      "2021-02-24 23:30:20,533 : INFO : PROGRESS: at sentence #20000, processed 487680 words, keeping 18820 word types\n",
      "2021-02-24 23:30:20,603 : INFO : PROGRESS: at sentence #30000, processed 734055 words, keeping 22565 word types\n",
      "2021-02-24 23:30:20,670 : INFO : PROGRESS: at sentence #40000, processed 976034 words, keeping 25472 word types\n",
      "2021-02-24 23:30:20,739 : INFO : PROGRESS: at sentence #50000, processed 1217510 words, keeping 27951 word types\n",
      "2021-02-24 23:30:20,808 : INFO : PROGRESS: at sentence #60000, processed 1470233 words, keeping 30424 word types\n",
      "2021-02-24 23:30:20,872 : INFO : PROGRESS: at sentence #70000, processed 1701776 words, keeping 32652 word types\n",
      "2021-02-24 23:30:20,942 : INFO : PROGRESS: at sentence #80000, processed 1950793 words, keeping 34538 word types\n",
      "2021-02-24 23:30:21,009 : INFO : PROGRESS: at sentence #90000, processed 2197007 words, keeping 36298 word types\n",
      "2021-02-24 23:30:21,080 : INFO : PROGRESS: at sentence #100000, processed 2447081 words, keeping 37976 word types\n",
      "2021-02-24 23:30:21,145 : INFO : PROGRESS: at sentence #110000, processed 2687283 words, keeping 39365 word types\n",
      "2021-02-24 23:30:21,212 : INFO : PROGRESS: at sentence #120000, processed 2925456 words, keeping 40701 word types\n",
      "2021-02-24 23:30:21,279 : INFO : PROGRESS: at sentence #130000, processed 3163960 words, keeping 42189 word types\n",
      "2021-02-24 23:30:21,348 : INFO : PROGRESS: at sentence #140000, processed 3403810 words, keeping 43461 word types\n",
      "2021-02-24 23:30:21,415 : INFO : PROGRESS: at sentence #150000, processed 3647799 words, keeping 44799 word types\n",
      "2021-02-24 23:30:21,485 : INFO : PROGRESS: at sentence #160000, processed 3895611 words, keeping 46097 word types\n",
      "2021-02-24 23:30:21,554 : INFO : PROGRESS: at sentence #170000, processed 4142402 words, keeping 47423 word types\n",
      "2021-02-24 23:30:21,624 : INFO : PROGRESS: at sentence #180000, processed 4394569 words, keeping 48561 word types\n",
      "2021-02-24 23:30:21,692 : INFO : PROGRESS: at sentence #190000, processed 4639066 words, keeping 49668 word types\n",
      "2021-02-24 23:30:21,758 : INFO : PROGRESS: at sentence #200000, processed 4879801 words, keeping 50711 word types\n",
      "2021-02-24 23:30:21,826 : INFO : PROGRESS: at sentence #210000, processed 5120058 words, keeping 51696 word types\n",
      "2021-02-24 23:30:21,893 : INFO : PROGRESS: at sentence #220000, processed 5363049 words, keeping 52600 word types\n",
      "2021-02-24 23:30:21,959 : INFO : PROGRESS: at sentence #230000, processed 5598056 words, keeping 53550 word types\n",
      "2021-02-24 23:30:22,026 : INFO : PROGRESS: at sentence #240000, processed 5843027 words, keeping 54533 word types\n",
      "2021-02-24 23:30:22,097 : INFO : PROGRESS: at sentence #250000, processed 6093422 words, keeping 55726 word types\n",
      "2021-02-24 23:30:22,162 : INFO : PROGRESS: at sentence #260000, processed 6333347 words, keeping 56541 word types\n",
      "2021-02-24 23:30:22,230 : INFO : PROGRESS: at sentence #270000, processed 6574256 words, keeping 57423 word types\n",
      "2021-02-24 23:30:22,300 : INFO : PROGRESS: at sentence #280000, processed 6818345 words, keeping 58310 word types\n",
      "2021-02-24 23:30:22,369 : INFO : PROGRESS: at sentence #290000, processed 7067055 words, keeping 59126 word types\n",
      "2021-02-24 23:30:22,437 : INFO : PROGRESS: at sentence #300000, processed 7314246 words, keeping 59988 word types\n",
      "2021-02-24 23:30:22,504 : INFO : PROGRESS: at sentence #310000, processed 7560873 words, keeping 60828 word types\n",
      "2021-02-24 23:30:22,573 : INFO : PROGRESS: at sentence #320000, processed 7804793 words, keeping 61577 word types\n",
      "2021-02-24 23:30:22,640 : INFO : PROGRESS: at sentence #330000, processed 8037358 words, keeping 62331 word types\n",
      "2021-02-24 23:30:22,709 : INFO : PROGRESS: at sentence #340000, processed 8281309 words, keeping 63055 word types\n",
      "2021-02-24 23:30:22,776 : INFO : PROGRESS: at sentence #350000, processed 8521847 words, keeping 63731 word types\n",
      "2021-02-24 23:30:22,844 : INFO : PROGRESS: at sentence #360000, processed 8766864 words, keeping 64517 word types\n",
      "2021-02-24 23:30:22,911 : INFO : PROGRESS: at sentence #370000, processed 9008926 words, keeping 65206 word types\n",
      "2021-02-24 23:30:22,980 : INFO : PROGRESS: at sentence #380000, processed 9256505 words, keeping 65840 word types\n",
      "2021-02-24 23:30:23,047 : INFO : PROGRESS: at sentence #390000, processed 9500888 words, keeping 66623 word types\n",
      "2021-02-24 23:30:23,126 : INFO : PROGRESS: at sentence #400000, processed 9751277 words, keeping 67275 word types\n",
      "2021-02-24 23:30:23,201 : INFO : PROGRESS: at sentence #410000, processed 10001521 words, keeping 68035 word types\n",
      "2021-02-24 23:30:23,269 : INFO : PROGRESS: at sentence #420000, processed 10247666 words, keeping 68762 word types\n",
      "2021-02-24 23:30:23,338 : INFO : PROGRESS: at sentence #430000, processed 10491044 words, keeping 69374 word types\n",
      "2021-02-24 23:30:23,404 : INFO : PROGRESS: at sentence #440000, processed 10725648 words, keeping 70041 word types\n",
      "2021-02-24 23:30:23,470 : INFO : PROGRESS: at sentence #450000, processed 10966324 words, keeping 70656 word types\n",
      "2021-02-24 23:30:23,538 : INFO : PROGRESS: at sentence #460000, processed 11208180 words, keeping 71341 word types\n",
      "2021-02-24 23:30:23,604 : INFO : PROGRESS: at sentence #470000, processed 11451759 words, keeping 71933 word types\n",
      "2021-02-24 23:30:23,670 : INFO : PROGRESS: at sentence #480000, processed 11687029 words, keeping 72515 word types\n",
      "2021-02-24 23:30:23,741 : INFO : PROGRESS: at sentence #490000, processed 11940683 words, keeping 73112 word types\n",
      "2021-02-24 23:30:23,809 : INFO : PROGRESS: at sentence #500000, processed 12182514 words, keeping 73653 word types\n",
      "2021-02-24 23:30:23,874 : INFO : PROGRESS: at sentence #510000, processed 12414386 words, keeping 74238 word types\n",
      "2021-02-24 23:30:23,941 : INFO : PROGRESS: at sentence #520000, processed 12659102 words, keeping 74878 word types\n",
      "2021-02-24 23:30:24,008 : INFO : PROGRESS: at sentence #530000, processed 12900194 words, keeping 75464 word types\n",
      "2021-02-24 23:30:24,077 : INFO : PROGRESS: at sentence #540000, processed 13146803 words, keeping 76009 word types\n",
      "2021-02-24 23:30:24,148 : INFO : PROGRESS: at sentence #550000, processed 13394080 words, keeping 76653 word types\n",
      "2021-02-24 23:30:24,222 : INFO : PROGRESS: at sentence #560000, processed 13648440 words, keeping 77241 word types\n",
      "2021-02-24 23:30:24,289 : INFO : PROGRESS: at sentence #570000, processed 13890742 words, keeping 77743 word types\n",
      "2021-02-24 23:30:24,359 : INFO : PROGRESS: at sentence #580000, processed 14134311 words, keeping 78311 word types\n",
      "2021-02-24 23:30:24,429 : INFO : PROGRESS: at sentence #590000, processed 14383503 words, keeping 78832 word types\n",
      "2021-02-24 23:30:24,498 : INFO : PROGRESS: at sentence #600000, processed 14632416 words, keeping 79334 word types\n",
      "2021-02-24 23:30:24,566 : INFO : PROGRESS: at sentence #610000, processed 14877657 words, keeping 79880 word types\n",
      "2021-02-24 23:30:24,634 : INFO : PROGRESS: at sentence #620000, processed 15116436 words, keeping 80415 word types\n",
      "2021-02-24 23:30:24,701 : INFO : PROGRESS: at sentence #630000, processed 15358958 words, keeping 80979 word types\n",
      "2021-02-24 23:30:24,735 : INFO : collected 81217 word types from a corpus of 15477359 raw words and 634797 sentences\n",
      "2021-02-24 23:30:24,736 : INFO : Loading a fresh vocabulary\n",
      "2021-02-24 23:30:24,791 : INFO : effective_min_count=5 retains 32679 unique words (40% of original 81217, drops 48538)\n",
      "2021-02-24 23:30:24,792 : INFO : effective_min_count=5 leaves 15395339 word corpus (99% of original 15477359, drops 82020)\n",
      "2021-02-24 23:30:24,872 : INFO : deleting the raw counts dictionary of 81217 items\n",
      "2021-02-24 23:30:24,874 : INFO : sample=1e-05 downsamples 3216 most-common words\n",
      "2021-02-24 23:30:24,875 : INFO : downsampling leaves estimated 3724316 word corpus (24.2% of prior 15395339)\n",
      "2021-02-24 23:30:24,897 : INFO : constructing a huffman tree from 32679 words\n",
      "2021-02-24 23:30:25,553 : INFO : built huffman tree with maximum node depth 22\n"
     ]
    },
    {
     "name": "stderr",
     "output_type": "stream",
     "text": [
      "2021-02-24 23:30:25,605 : INFO : estimated required memory for 32679 words and 100 dimensions: 62090100 bytes\n",
      "2021-02-24 23:30:25,606 : INFO : resetting layer weights\n",
      "2021-02-24 23:30:25,919 : INFO : training model with 12 workers on 32679 vocabulary and 100 features, using sg=1 hs=1 sample=1e-05 negative=5 window=5\n",
      "2021-02-24 23:30:26,928 : INFO : EPOCH 1 - PROGRESS: at 8.92% examples, 328294 words/s, in_qsize 0, out_qsize 0\n",
      "2021-02-24 23:30:27,930 : INFO : EPOCH 1 - PROGRESS: at 18.51% examples, 341513 words/s, in_qsize 0, out_qsize 0\n",
      "2021-02-24 23:30:28,952 : INFO : EPOCH 1 - PROGRESS: at 27.45% examples, 337022 words/s, in_qsize 5, out_qsize 0\n",
      "2021-02-24 23:30:29,963 : INFO : EPOCH 1 - PROGRESS: at 35.75% examples, 329183 words/s, in_qsize 15, out_qsize 1\n",
      "2021-02-24 23:30:30,967 : INFO : EPOCH 1 - PROGRESS: at 44.79% examples, 330525 words/s, in_qsize 12, out_qsize 0\n",
      "2021-02-24 23:30:31,982 : INFO : EPOCH 1 - PROGRESS: at 52.99% examples, 325655 words/s, in_qsize 23, out_qsize 0\n",
      "2021-02-24 23:30:32,992 : INFO : EPOCH 1 - PROGRESS: at 61.55% examples, 323736 words/s, in_qsize 2, out_qsize 3\n",
      "2021-02-24 23:30:33,994 : INFO : EPOCH 1 - PROGRESS: at 70.49% examples, 324880 words/s, in_qsize 0, out_qsize 0\n",
      "2021-02-24 23:30:35,009 : INFO : EPOCH 1 - PROGRESS: at 78.58% examples, 321829 words/s, in_qsize 21, out_qsize 3\n",
      "2021-02-24 23:30:36,024 : INFO : EPOCH 1 - PROGRESS: at 87.16% examples, 321322 words/s, in_qsize 23, out_qsize 1\n",
      "2021-02-24 23:30:37,042 : INFO : EPOCH 1 - PROGRESS: at 95.95% examples, 321642 words/s, in_qsize 10, out_qsize 0\n",
      "2021-02-24 23:30:37,437 : INFO : worker thread finished; awaiting finish of 11 more threads\n",
      "2021-02-24 23:30:37,445 : INFO : worker thread finished; awaiting finish of 10 more threads\n",
      "2021-02-24 23:30:37,446 : INFO : worker thread finished; awaiting finish of 9 more threads\n",
      "2021-02-24 23:30:37,448 : INFO : worker thread finished; awaiting finish of 8 more threads\n",
      "2021-02-24 23:30:37,449 : INFO : worker thread finished; awaiting finish of 7 more threads\n",
      "2021-02-24 23:30:37,449 : INFO : worker thread finished; awaiting finish of 6 more threads\n",
      "2021-02-24 23:30:37,450 : INFO : worker thread finished; awaiting finish of 5 more threads\n",
      "2021-02-24 23:30:37,451 : INFO : worker thread finished; awaiting finish of 4 more threads\n",
      "2021-02-24 23:30:37,452 : INFO : worker thread finished; awaiting finish of 3 more threads\n",
      "2021-02-24 23:30:37,458 : INFO : worker thread finished; awaiting finish of 2 more threads\n",
      "2021-02-24 23:30:37,473 : INFO : worker thread finished; awaiting finish of 1 more threads\n",
      "2021-02-24 23:30:37,474 : INFO : worker thread finished; awaiting finish of 0 more threads\n",
      "2021-02-24 23:30:37,475 : INFO : EPOCH - 1 : training on 15477359 raw words (3723752 effective words) took 11.6s, 322389 effective words/s\n",
      "2021-02-24 23:30:38,483 : INFO : EPOCH 2 - PROGRESS: at 9.05% examples, 334158 words/s, in_qsize 1, out_qsize 0\n",
      "2021-02-24 23:30:39,506 : INFO : EPOCH 2 - PROGRESS: at 17.37% examples, 318087 words/s, in_qsize 8, out_qsize 1\n",
      "2021-02-24 23:30:40,522 : INFO : EPOCH 2 - PROGRESS: at 26.83% examples, 327846 words/s, in_qsize 5, out_qsize 3\n",
      "2021-02-24 23:30:41,525 : INFO : EPOCH 2 - PROGRESS: at 35.35% examples, 325320 words/s, in_qsize 0, out_qsize 0\n",
      "2021-02-24 23:30:42,531 : INFO : EPOCH 2 - PROGRESS: at 43.85% examples, 323545 words/s, in_qsize 0, out_qsize 0\n",
      "2021-02-24 23:30:43,538 : INFO : EPOCH 2 - PROGRESS: at 52.09% examples, 320264 words/s, in_qsize 0, out_qsize 2\n",
      "2021-02-24 23:30:44,540 : INFO : EPOCH 2 - PROGRESS: at 60.02% examples, 316184 words/s, in_qsize 23, out_qsize 0\n",
      "2021-02-24 23:30:45,561 : INFO : EPOCH 2 - PROGRESS: at 69.38% examples, 319552 words/s, in_qsize 0, out_qsize 1\n",
      "2021-02-24 23:30:46,563 : INFO : EPOCH 2 - PROGRESS: at 77.02% examples, 315568 words/s, in_qsize 24, out_qsize 0\n",
      "2021-02-24 23:30:47,571 : INFO : EPOCH 2 - PROGRESS: at 86.11% examples, 317659 words/s, in_qsize 19, out_qsize 0\n",
      "2021-02-24 23:30:48,579 : INFO : EPOCH 2 - PROGRESS: at 94.86% examples, 318612 words/s, in_qsize 0, out_qsize 0\n",
      "2021-02-24 23:30:49,121 : INFO : worker thread finished; awaiting finish of 11 more threads\n",
      "2021-02-24 23:30:49,124 : INFO : worker thread finished; awaiting finish of 10 more threads\n",
      "2021-02-24 23:30:49,125 : INFO : worker thread finished; awaiting finish of 9 more threads\n",
      "2021-02-24 23:30:49,127 : INFO : worker thread finished; awaiting finish of 8 more threads\n",
      "2021-02-24 23:30:49,128 : INFO : worker thread finished; awaiting finish of 7 more threads\n",
      "2021-02-24 23:30:49,130 : INFO : worker thread finished; awaiting finish of 6 more threads\n",
      "2021-02-24 23:30:49,131 : INFO : worker thread finished; awaiting finish of 5 more threads\n",
      "2021-02-24 23:30:49,133 : INFO : worker thread finished; awaiting finish of 4 more threads\n",
      "2021-02-24 23:30:49,135 : INFO : worker thread finished; awaiting finish of 3 more threads\n",
      "2021-02-24 23:30:49,143 : INFO : worker thread finished; awaiting finish of 2 more threads\n",
      "2021-02-24 23:30:49,146 : INFO : worker thread finished; awaiting finish of 1 more threads\n",
      "2021-02-24 23:30:49,148 : INFO : worker thread finished; awaiting finish of 0 more threads\n",
      "2021-02-24 23:30:49,150 : INFO : EPOCH - 2 : training on 15477359 raw words (3724816 effective words) took 11.7s, 319183 effective words/s\n",
      "2021-02-24 23:30:50,156 : INFO : EPOCH 3 - PROGRESS: at 7.80% examples, 286670 words/s, in_qsize 11, out_qsize 1\n",
      "2021-02-24 23:30:51,159 : INFO : EPOCH 3 - PROGRESS: at 16.01% examples, 297151 words/s, in_qsize 23, out_qsize 1\n",
      "2021-02-24 23:30:52,192 : INFO : EPOCH 3 - PROGRESS: at 25.24% examples, 308454 words/s, in_qsize 22, out_qsize 1\n",
      "2021-02-24 23:30:53,200 : INFO : EPOCH 3 - PROGRESS: at 34.39% examples, 316588 words/s, in_qsize 0, out_qsize 1\n",
      "2021-02-24 23:30:54,216 : INFO : EPOCH 3 - PROGRESS: at 43.43% examples, 319651 words/s, in_qsize 8, out_qsize 2\n",
      "2021-02-24 23:30:55,237 : INFO : EPOCH 3 - PROGRESS: at 52.01% examples, 318565 words/s, in_qsize 0, out_qsize 2\n",
      "2021-02-24 23:30:56,251 : INFO : EPOCH 3 - PROGRESS: at 61.23% examples, 321072 words/s, in_qsize 0, out_qsize 0\n",
      "2021-02-24 23:30:57,257 : INFO : EPOCH 3 - PROGRESS: at 69.84% examples, 320776 words/s, in_qsize 5, out_qsize 1\n",
      "2021-02-24 23:30:58,259 : INFO : EPOCH 3 - PROGRESS: at 79.03% examples, 323109 words/s, in_qsize 0, out_qsize 0\n",
      "2021-02-24 23:30:59,271 : INFO : EPOCH 3 - PROGRESS: at 87.10% examples, 320590 words/s, in_qsize 21, out_qsize 0\n",
      "2021-02-24 23:31:00,277 : INFO : EPOCH 3 - PROGRESS: at 95.62% examples, 320455 words/s, in_qsize 0, out_qsize 0\n",
      "2021-02-24 23:31:00,728 : INFO : worker thread finished; awaiting finish of 11 more threads\n",
      "2021-02-24 23:31:00,739 : INFO : worker thread finished; awaiting finish of 10 more threads\n",
      "2021-02-24 23:31:00,742 : INFO : worker thread finished; awaiting finish of 9 more threads\n",
      "2021-02-24 23:31:00,745 : INFO : worker thread finished; awaiting finish of 8 more threads\n",
      "2021-02-24 23:31:00,748 : INFO : worker thread finished; awaiting finish of 7 more threads\n",
      "2021-02-24 23:31:00,751 : INFO : worker thread finished; awaiting finish of 6 more threads\n",
      "2021-02-24 23:31:00,763 : INFO : worker thread finished; awaiting finish of 5 more threads\n",
      "2021-02-24 23:31:00,766 : INFO : worker thread finished; awaiting finish of 4 more threads\n",
      "2021-02-24 23:31:00,769 : INFO : worker thread finished; awaiting finish of 3 more threads\n",
      "2021-02-24 23:31:00,775 : INFO : worker thread finished; awaiting finish of 2 more threads\n",
      "2021-02-24 23:31:00,782 : INFO : worker thread finished; awaiting finish of 1 more threads\n",
      "2021-02-24 23:31:00,783 : INFO : worker thread finished; awaiting finish of 0 more threads\n",
      "2021-02-24 23:31:00,784 : INFO : EPOCH - 3 : training on 15477359 raw words (3724255 effective words) took 11.6s, 320242 effective words/s\n",
      "2021-02-24 23:31:01,803 : INFO : EPOCH 4 - PROGRESS: at 8.37% examples, 304298 words/s, in_qsize 0, out_qsize 0\n",
      "2021-02-24 23:31:02,803 : INFO : EPOCH 4 - PROGRESS: at 17.24% examples, 316914 words/s, in_qsize 20, out_qsize 0\n",
      "2021-02-24 23:31:03,808 : INFO : EPOCH 4 - PROGRESS: at 25.99% examples, 319656 words/s, in_qsize 1, out_qsize 1\n",
      "2021-02-24 23:31:04,815 : INFO : EPOCH 4 - PROGRESS: at 34.39% examples, 317842 words/s, in_qsize 0, out_qsize 0\n"
     ]
    },
    {
     "name": "stderr",
     "output_type": "stream",
     "text": [
      "2021-02-24 23:31:05,815 : INFO : EPOCH 4 - PROGRESS: at 42.61% examples, 315432 words/s, in_qsize 0, out_qsize 0\n",
      "2021-02-24 23:31:06,828 : INFO : EPOCH 4 - PROGRESS: at 51.75% examples, 318984 words/s, in_qsize 0, out_qsize 1\n",
      "2021-02-24 23:31:07,850 : INFO : EPOCH 4 - PROGRESS: at 59.84% examples, 315041 words/s, in_qsize 0, out_qsize 2\n",
      "2021-02-24 23:31:08,852 : INFO : EPOCH 4 - PROGRESS: at 68.98% examples, 318315 words/s, in_qsize 0, out_qsize 0\n",
      "2021-02-24 23:31:09,891 : INFO : EPOCH 4 - PROGRESS: at 76.59% examples, 312902 words/s, in_qsize 24, out_qsize 0\n",
      "2021-02-24 23:31:10,892 : INFO : EPOCH 4 - PROGRESS: at 85.91% examples, 316403 words/s, in_qsize 0, out_qsize 0\n",
      "2021-02-24 23:31:11,901 : INFO : EPOCH 4 - PROGRESS: at 94.10% examples, 315583 words/s, in_qsize 16, out_qsize 0\n",
      "2021-02-24 23:31:12,431 : INFO : worker thread finished; awaiting finish of 11 more threads\n",
      "2021-02-24 23:31:12,440 : INFO : worker thread finished; awaiting finish of 10 more threads\n",
      "2021-02-24 23:31:12,442 : INFO : worker thread finished; awaiting finish of 9 more threads\n",
      "2021-02-24 23:31:12,444 : INFO : worker thread finished; awaiting finish of 8 more threads\n",
      "2021-02-24 23:31:12,447 : INFO : worker thread finished; awaiting finish of 7 more threads\n",
      "2021-02-24 23:31:12,448 : INFO : worker thread finished; awaiting finish of 6 more threads\n",
      "2021-02-24 23:31:12,453 : INFO : worker thread finished; awaiting finish of 5 more threads\n",
      "2021-02-24 23:31:12,455 : INFO : worker thread finished; awaiting finish of 4 more threads\n",
      "2021-02-24 23:31:12,458 : INFO : worker thread finished; awaiting finish of 3 more threads\n",
      "2021-02-24 23:31:12,475 : INFO : worker thread finished; awaiting finish of 2 more threads\n",
      "2021-02-24 23:31:12,477 : INFO : worker thread finished; awaiting finish of 1 more threads\n",
      "2021-02-24 23:31:12,481 : INFO : worker thread finished; awaiting finish of 0 more threads\n",
      "2021-02-24 23:31:12,483 : INFO : EPOCH - 4 : training on 15477359 raw words (3722933 effective words) took 11.7s, 318346 effective words/s\n",
      "2021-02-24 23:31:13,506 : INFO : EPOCH 5 - PROGRESS: at 7.38% examples, 265325 words/s, in_qsize 15, out_qsize 1\n",
      "2021-02-24 23:31:14,526 : INFO : EPOCH 5 - PROGRESS: at 17.17% examples, 312667 words/s, in_qsize 0, out_qsize 0\n",
      "2021-02-24 23:31:15,531 : INFO : EPOCH 5 - PROGRESS: at 25.67% examples, 313826 words/s, in_qsize 0, out_qsize 1\n",
      "2021-02-24 23:31:16,537 : INFO : EPOCH 5 - PROGRESS: at 34.20% examples, 314730 words/s, in_qsize 18, out_qsize 0\n",
      "2021-02-24 23:31:17,542 : INFO : EPOCH 5 - PROGRESS: at 42.86% examples, 316055 words/s, in_qsize 1, out_qsize 0\n",
      "2021-02-24 23:31:18,551 : INFO : EPOCH 5 - PROGRESS: at 51.96% examples, 319359 words/s, in_qsize 0, out_qsize 1\n",
      "2021-02-24 23:31:19,551 : INFO : EPOCH 5 - PROGRESS: at 61.12% examples, 321919 words/s, in_qsize 1, out_qsize 0\n",
      "2021-02-24 23:31:20,553 : INFO : EPOCH 5 - PROGRESS: at 69.70% examples, 321845 words/s, in_qsize 0, out_qsize 1\n",
      "2021-02-24 23:31:21,559 : INFO : EPOCH 5 - PROGRESS: at 77.92% examples, 319822 words/s, in_qsize 9, out_qsize 1\n",
      "2021-02-24 23:31:22,559 : INFO : EPOCH 5 - PROGRESS: at 86.67% examples, 320446 words/s, in_qsize 19, out_qsize 1\n",
      "2021-02-24 23:31:23,567 : INFO : EPOCH 5 - PROGRESS: at 95.82% examples, 322551 words/s, in_qsize 0, out_qsize 0\n",
      "2021-02-24 23:31:23,970 : INFO : worker thread finished; awaiting finish of 11 more threads\n",
      "2021-02-24 23:31:23,977 : INFO : worker thread finished; awaiting finish of 10 more threads\n",
      "2021-02-24 23:31:23,979 : INFO : worker thread finished; awaiting finish of 9 more threads\n",
      "2021-02-24 23:31:23,983 : INFO : worker thread finished; awaiting finish of 8 more threads\n",
      "2021-02-24 23:31:23,985 : INFO : worker thread finished; awaiting finish of 7 more threads\n",
      "2021-02-24 23:31:23,989 : INFO : worker thread finished; awaiting finish of 6 more threads\n",
      "2021-02-24 23:31:24,006 : INFO : worker thread finished; awaiting finish of 5 more threads\n",
      "2021-02-24 23:31:24,009 : INFO : worker thread finished; awaiting finish of 4 more threads\n",
      "2021-02-24 23:31:24,014 : INFO : worker thread finished; awaiting finish of 3 more threads\n",
      "2021-02-24 23:31:24,016 : INFO : worker thread finished; awaiting finish of 2 more threads\n",
      "2021-02-24 23:31:24,017 : INFO : worker thread finished; awaiting finish of 1 more threads\n",
      "2021-02-24 23:31:24,023 : INFO : worker thread finished; awaiting finish of 0 more threads\n",
      "2021-02-24 23:31:24,024 : INFO : EPOCH - 5 : training on 15477359 raw words (3725380 effective words) took 11.5s, 322946 effective words/s\n",
      "2021-02-24 23:31:25,044 : INFO : EPOCH 6 - PROGRESS: at 8.09% examples, 295042 words/s, in_qsize 10, out_qsize 0\n",
      "2021-02-24 23:31:26,070 : INFO : EPOCH 6 - PROGRESS: at 17.71% examples, 321884 words/s, in_qsize 1, out_qsize 2\n",
      "2021-02-24 23:31:27,072 : INFO : EPOCH 6 - PROGRESS: at 26.63% examples, 325380 words/s, in_qsize 0, out_qsize 2\n",
      "2021-02-24 23:31:28,076 : INFO : EPOCH 6 - PROGRESS: at 35.28% examples, 324549 words/s, in_qsize 11, out_qsize 0\n",
      "2021-02-24 23:31:29,079 : INFO : EPOCH 6 - PROGRESS: at 43.52% examples, 320743 words/s, in_qsize 21, out_qsize 1\n",
      "2021-02-24 23:31:30,085 : INFO : EPOCH 6 - PROGRESS: at 52.74% examples, 324279 words/s, in_qsize 16, out_qsize 0\n",
      "2021-02-24 23:31:31,086 : INFO : EPOCH 6 - PROGRESS: at 62.24% examples, 327996 words/s, in_qsize 1, out_qsize 0\n",
      "2021-02-24 23:31:32,092 : INFO : EPOCH 6 - PROGRESS: at 70.89% examples, 327040 words/s, in_qsize 7, out_qsize 0\n",
      "2021-02-24 23:31:33,107 : INFO : EPOCH 6 - PROGRESS: at 79.10% examples, 324374 words/s, in_qsize 23, out_qsize 0\n",
      "2021-02-24 23:31:34,113 : INFO : EPOCH 6 - PROGRESS: at 88.63% examples, 327360 words/s, in_qsize 0, out_qsize 0\n",
      "2021-02-24 23:31:35,119 : INFO : EPOCH 6 - PROGRESS: at 97.33% examples, 326970 words/s, in_qsize 23, out_qsize 0\n",
      "2021-02-24 23:31:35,332 : INFO : worker thread finished; awaiting finish of 11 more threads\n",
      "2021-02-24 23:31:35,336 : INFO : worker thread finished; awaiting finish of 10 more threads\n",
      "2021-02-24 23:31:35,340 : INFO : worker thread finished; awaiting finish of 9 more threads\n",
      "2021-02-24 23:31:35,344 : INFO : worker thread finished; awaiting finish of 8 more threads\n",
      "2021-02-24 23:31:35,346 : INFO : worker thread finished; awaiting finish of 7 more threads\n",
      "2021-02-24 23:31:35,352 : INFO : worker thread finished; awaiting finish of 6 more threads\n",
      "2021-02-24 23:31:35,353 : INFO : worker thread finished; awaiting finish of 5 more threads\n",
      "2021-02-24 23:31:35,355 : INFO : worker thread finished; awaiting finish of 4 more threads\n",
      "2021-02-24 23:31:35,372 : INFO : worker thread finished; awaiting finish of 3 more threads\n",
      "2021-02-24 23:31:35,374 : INFO : worker thread finished; awaiting finish of 2 more threads\n",
      "2021-02-24 23:31:35,379 : INFO : worker thread finished; awaiting finish of 1 more threads\n",
      "2021-02-24 23:31:35,385 : INFO : worker thread finished; awaiting finish of 0 more threads\n",
      "2021-02-24 23:31:35,386 : INFO : EPOCH - 6 : training on 15477359 raw words (3724153 effective words) took 11.4s, 327937 effective words/s\n",
      "2021-02-24 23:31:36,393 : INFO : EPOCH 7 - PROGRESS: at 7.93% examples, 290783 words/s, in_qsize 12, out_qsize 0\n",
      "2021-02-24 23:31:37,400 : INFO : EPOCH 7 - PROGRESS: at 16.78% examples, 309807 words/s, in_qsize 11, out_qsize 0\n",
      "2021-02-24 23:31:38,416 : INFO : EPOCH 7 - PROGRESS: at 25.79% examples, 316909 words/s, in_qsize 18, out_qsize 1\n",
      "2021-02-24 23:31:39,424 : INFO : EPOCH 7 - PROGRESS: at 34.88% examples, 322180 words/s, in_qsize 0, out_qsize 1\n",
      "2021-02-24 23:31:40,440 : INFO : EPOCH 7 - PROGRESS: at 43.37% examples, 319839 words/s, in_qsize 1, out_qsize 2\n",
      "2021-02-24 23:31:41,445 : INFO : EPOCH 7 - PROGRESS: at 51.47% examples, 316627 words/s, in_qsize 23, out_qsize 0\n",
      "2021-02-24 23:31:42,459 : INFO : EPOCH 7 - PROGRESS: at 61.17% examples, 321758 words/s, in_qsize 0, out_qsize 0\n",
      "2021-02-24 23:31:43,464 : INFO : EPOCH 7 - PROGRESS: at 69.72% examples, 321258 words/s, in_qsize 23, out_qsize 0\n",
      "2021-02-24 23:31:44,465 : INFO : EPOCH 7 - PROGRESS: at 78.49% examples, 321959 words/s, in_qsize 2, out_qsize 0\n",
      "2021-02-24 23:31:45,465 : INFO : EPOCH 7 - PROGRESS: at 87.72% examples, 324243 words/s, in_qsize 0, out_qsize 0\n",
      "2021-02-24 23:31:46,478 : INFO : EPOCH 7 - PROGRESS: at 96.87% examples, 325503 words/s, in_qsize 0, out_qsize 0\n"
     ]
    },
    {
     "name": "stderr",
     "output_type": "stream",
     "text": [
      "2021-02-24 23:31:46,760 : INFO : worker thread finished; awaiting finish of 11 more threads\n",
      "2021-02-24 23:31:46,781 : INFO : worker thread finished; awaiting finish of 10 more threads\n",
      "2021-02-24 23:31:46,784 : INFO : worker thread finished; awaiting finish of 9 more threads\n",
      "2021-02-24 23:31:46,789 : INFO : worker thread finished; awaiting finish of 8 more threads\n",
      "2021-02-24 23:31:46,793 : INFO : worker thread finished; awaiting finish of 7 more threads\n",
      "2021-02-24 23:31:46,798 : INFO : worker thread finished; awaiting finish of 6 more threads\n",
      "2021-02-24 23:31:46,802 : INFO : worker thread finished; awaiting finish of 5 more threads\n",
      "2021-02-24 23:31:46,812 : INFO : worker thread finished; awaiting finish of 4 more threads\n",
      "2021-02-24 23:31:46,814 : INFO : worker thread finished; awaiting finish of 3 more threads\n",
      "2021-02-24 23:31:46,816 : INFO : worker thread finished; awaiting finish of 2 more threads\n",
      "2021-02-24 23:31:46,818 : INFO : worker thread finished; awaiting finish of 1 more threads\n",
      "2021-02-24 23:31:46,823 : INFO : worker thread finished; awaiting finish of 0 more threads\n",
      "2021-02-24 23:31:46,824 : INFO : EPOCH - 7 : training on 15477359 raw words (3723051 effective words) took 11.4s, 325636 effective words/s\n",
      "2021-02-24 23:31:47,838 : INFO : EPOCH 8 - PROGRESS: at 8.36% examples, 306409 words/s, in_qsize 14, out_qsize 0\n",
      "2021-02-24 23:31:48,841 : INFO : EPOCH 8 - PROGRESS: at 17.50% examples, 322653 words/s, in_qsize 0, out_qsize 0\n",
      "2021-02-24 23:31:49,856 : INFO : EPOCH 8 - PROGRESS: at 26.51% examples, 325695 words/s, in_qsize 0, out_qsize 3\n",
      "2021-02-24 23:31:50,866 : INFO : EPOCH 8 - PROGRESS: at 35.69% examples, 328929 words/s, in_qsize 1, out_qsize 0\n",
      "2021-02-24 23:31:51,872 : INFO : EPOCH 8 - PROGRESS: at 44.91% examples, 331475 words/s, in_qsize 0, out_qsize 1\n",
      "2021-02-24 23:31:52,875 : INFO : EPOCH 8 - PROGRESS: at 53.43% examples, 328997 words/s, in_qsize 0, out_qsize 0\n",
      "2021-02-24 23:31:53,884 : INFO : EPOCH 8 - PROGRESS: at 61.68% examples, 325019 words/s, in_qsize 15, out_qsize 2\n",
      "2021-02-24 23:31:54,891 : INFO : EPOCH 8 - PROGRESS: at 71.14% examples, 328189 words/s, in_qsize 0, out_qsize 1\n",
      "2021-02-24 23:31:55,892 : INFO : EPOCH 8 - PROGRESS: at 79.75% examples, 327304 words/s, in_qsize 15, out_qsize 1\n",
      "2021-02-24 23:31:56,896 : INFO : EPOCH 8 - PROGRESS: at 89.20% examples, 329899 words/s, in_qsize 0, out_qsize 1\n",
      "2021-02-24 23:31:57,897 : INFO : EPOCH 8 - PROGRESS: at 98.32% examples, 330706 words/s, in_qsize 0, out_qsize 0\n",
      "2021-02-24 23:31:58,048 : INFO : worker thread finished; awaiting finish of 11 more threads\n",
      "2021-02-24 23:31:58,051 : INFO : worker thread finished; awaiting finish of 10 more threads\n",
      "2021-02-24 23:31:58,053 : INFO : worker thread finished; awaiting finish of 9 more threads\n",
      "2021-02-24 23:31:58,054 : INFO : worker thread finished; awaiting finish of 8 more threads\n",
      "2021-02-24 23:31:58,056 : INFO : worker thread finished; awaiting finish of 7 more threads\n",
      "2021-02-24 23:31:58,057 : INFO : worker thread finished; awaiting finish of 6 more threads\n",
      "2021-02-24 23:31:58,059 : INFO : worker thread finished; awaiting finish of 5 more threads\n",
      "2021-02-24 23:31:58,060 : INFO : worker thread finished; awaiting finish of 4 more threads\n",
      "2021-02-24 23:31:58,061 : INFO : worker thread finished; awaiting finish of 3 more threads\n",
      "2021-02-24 23:31:58,069 : INFO : worker thread finished; awaiting finish of 2 more threads\n",
      "2021-02-24 23:31:58,075 : INFO : worker thread finished; awaiting finish of 1 more threads\n",
      "2021-02-24 23:31:58,076 : INFO : worker thread finished; awaiting finish of 0 more threads\n",
      "2021-02-24 23:31:58,078 : INFO : EPOCH - 8 : training on 15477359 raw words (3722921 effective words) took 11.2s, 330996 effective words/s\n",
      "2021-02-24 23:31:59,090 : INFO : EPOCH 9 - PROGRESS: at 8.28% examples, 303942 words/s, in_qsize 15, out_qsize 0\n",
      "2021-02-24 23:32:00,092 : INFO : EPOCH 9 - PROGRESS: at 17.71% examples, 326689 words/s, in_qsize 0, out_qsize 1\n",
      "2021-02-24 23:32:01,096 : INFO : EPOCH 9 - PROGRESS: at 26.14% examples, 322519 words/s, in_qsize 21, out_qsize 2\n",
      "2021-02-24 23:32:02,129 : INFO : EPOCH 9 - PROGRESS: at 35.08% examples, 322921 words/s, in_qsize 18, out_qsize 1\n",
      "2021-02-24 23:32:03,149 : INFO : EPOCH 9 - PROGRESS: at 44.66% examples, 328311 words/s, in_qsize 3, out_qsize 0\n",
      "2021-02-24 23:32:04,173 : INFO : EPOCH 9 - PROGRESS: at 53.24% examples, 325733 words/s, in_qsize 24, out_qsize 0\n",
      "2021-02-24 23:32:05,180 : INFO : EPOCH 9 - PROGRESS: at 62.81% examples, 329302 words/s, in_qsize 0, out_qsize 1\n",
      "2021-02-24 23:32:06,181 : INFO : EPOCH 9 - PROGRESS: at 71.45% examples, 328453 words/s, in_qsize 0, out_qsize 0\n",
      "2021-02-24 23:32:07,182 : INFO : EPOCH 9 - PROGRESS: at 80.83% examples, 330770 words/s, in_qsize 1, out_qsize 0\n",
      "2021-02-24 23:32:08,196 : INFO : EPOCH 9 - PROGRESS: at 89.97% examples, 331461 words/s, in_qsize 0, out_qsize 0\n",
      "2021-02-24 23:32:09,197 : INFO : EPOCH 9 - PROGRESS: at 98.11% examples, 328889 words/s, in_qsize 7, out_qsize 2\n",
      "2021-02-24 23:32:09,332 : INFO : worker thread finished; awaiting finish of 11 more threads\n",
      "2021-02-24 23:32:09,335 : INFO : worker thread finished; awaiting finish of 10 more threads\n",
      "2021-02-24 23:32:09,337 : INFO : worker thread finished; awaiting finish of 9 more threads\n",
      "2021-02-24 23:32:09,339 : INFO : worker thread finished; awaiting finish of 8 more threads\n",
      "2021-02-24 23:32:09,344 : INFO : worker thread finished; awaiting finish of 7 more threads\n",
      "2021-02-24 23:32:09,345 : INFO : worker thread finished; awaiting finish of 6 more threads\n",
      "2021-02-24 23:32:09,348 : INFO : worker thread finished; awaiting finish of 5 more threads\n",
      "2021-02-24 23:32:09,350 : INFO : worker thread finished; awaiting finish of 4 more threads\n",
      "2021-02-24 23:32:09,355 : INFO : worker thread finished; awaiting finish of 3 more threads\n",
      "2021-02-24 23:32:09,366 : INFO : worker thread finished; awaiting finish of 2 more threads\n",
      "2021-02-24 23:32:09,368 : INFO : worker thread finished; awaiting finish of 1 more threads\n",
      "2021-02-24 23:32:09,370 : INFO : worker thread finished; awaiting finish of 0 more threads\n",
      "2021-02-24 23:32:09,371 : INFO : EPOCH - 9 : training on 15477359 raw words (3725292 effective words) took 11.3s, 330012 effective words/s\n",
      "2021-02-24 23:32:10,384 : INFO : EPOCH 10 - PROGRESS: at 7.98% examples, 291779 words/s, in_qsize 18, out_qsize 0\n",
      "2021-02-24 23:32:11,389 : INFO : EPOCH 10 - PROGRESS: at 17.17% examples, 316153 words/s, in_qsize 2, out_qsize 1\n",
      "2021-02-24 23:32:12,395 : INFO : EPOCH 10 - PROGRESS: at 25.81% examples, 317683 words/s, in_qsize 22, out_qsize 0\n",
      "2021-02-24 23:32:13,397 : INFO : EPOCH 10 - PROGRESS: at 35.29% examples, 326692 words/s, in_qsize 2, out_qsize 1\n",
      "2021-02-24 23:32:14,426 : INFO : EPOCH 10 - PROGRESS: at 44.27% examples, 326440 words/s, in_qsize 0, out_qsize 1\n",
      "2021-02-24 23:32:15,432 : INFO : EPOCH 10 - PROGRESS: at 52.99% examples, 325806 words/s, in_qsize 22, out_qsize 0\n",
      "2021-02-24 23:32:16,438 : INFO : EPOCH 10 - PROGRESS: at 62.25% examples, 327804 words/s, in_qsize 4, out_qsize 0\n",
      "2021-02-24 23:32:17,447 : INFO : EPOCH 10 - PROGRESS: at 71.08% examples, 327602 words/s, in_qsize 24, out_qsize 0\n",
      "2021-02-24 23:32:18,448 : INFO : EPOCH 10 - PROGRESS: at 80.27% examples, 329186 words/s, in_qsize 0, out_qsize 0\n",
      "2021-02-24 23:32:19,457 : INFO : EPOCH 10 - PROGRESS: at 88.68% examples, 327750 words/s, in_qsize 19, out_qsize 0\n",
      "2021-02-24 23:32:20,468 : INFO : EPOCH 10 - PROGRESS: at 98.39% examples, 330358 words/s, in_qsize 0, out_qsize 1\n",
      "2021-02-24 23:32:20,587 : INFO : worker thread finished; awaiting finish of 11 more threads\n",
      "2021-02-24 23:32:20,602 : INFO : worker thread finished; awaiting finish of 10 more threads\n",
      "2021-02-24 23:32:20,603 : INFO : worker thread finished; awaiting finish of 9 more threads\n",
      "2021-02-24 23:32:20,604 : INFO : worker thread finished; awaiting finish of 8 more threads\n",
      "2021-02-24 23:32:20,605 : INFO : worker thread finished; awaiting finish of 7 more threads\n",
      "2021-02-24 23:32:20,607 : INFO : worker thread finished; awaiting finish of 6 more threads\n",
      "2021-02-24 23:32:20,608 : INFO : worker thread finished; awaiting finish of 5 more threads\n",
      "2021-02-24 23:32:20,609 : INFO : worker thread finished; awaiting finish of 4 more threads\n",
      "2021-02-24 23:32:20,617 : INFO : worker thread finished; awaiting finish of 3 more threads\n"
     ]
    },
    {
     "name": "stderr",
     "output_type": "stream",
     "text": [
      "2021-02-24 23:32:20,632 : INFO : worker thread finished; awaiting finish of 2 more threads\n",
      "2021-02-24 23:32:20,633 : INFO : worker thread finished; awaiting finish of 1 more threads\n",
      "2021-02-24 23:32:20,636 : INFO : worker thread finished; awaiting finish of 0 more threads\n",
      "2021-02-24 23:32:20,637 : INFO : EPOCH - 10 : training on 15477359 raw words (3724995 effective words) took 11.3s, 330805 effective words/s\n",
      "2021-02-24 23:32:20,638 : INFO : training on a 154773590 raw words (37241548 effective words) took 114.7s, 324638 effective words/s\n",
      "2021-02-24 23:32:20,639 : INFO : saving Word2Vec object under dados/experimento_5/w2v_jur.model, separately None\n",
      "2021-02-24 23:32:20,640 : INFO : not storing attribute vectors_norm\n",
      "2021-02-24 23:32:20,641 : INFO : not storing attribute cum_table\n",
      "2021-02-24 23:32:21,507 : INFO : saved dados/experimento_5/w2v_jur.model\n"
     ]
    },
    {
     "name": "stdout",
     "output_type": "stream",
     "text": [
      "treinando modelo word2vec\n"
     ]
    },
    {
     "name": "stderr",
     "output_type": "stream",
     "text": [
      "2021-02-24 23:32:21,509 : INFO : resetting layer weights\n",
      "2021-02-24 23:32:26,571 : INFO : collecting all words and their counts\n",
      "2021-02-24 23:32:26,572 : INFO : PROGRESS: at sentence #0, processed 0 words, keeping 0 word types\n",
      "2021-02-24 23:32:26,646 : INFO : PROGRESS: at sentence #10000, processed 244402 words, keeping 13370 word types\n",
      "2021-02-24 23:32:26,716 : INFO : PROGRESS: at sentence #20000, processed 487680 words, keeping 18820 word types\n",
      "2021-02-24 23:32:26,791 : INFO : PROGRESS: at sentence #30000, processed 734055 words, keeping 22565 word types\n",
      "2021-02-24 23:32:26,874 : INFO : PROGRESS: at sentence #40000, processed 976034 words, keeping 25472 word types\n",
      "2021-02-24 23:32:26,943 : INFO : PROGRESS: at sentence #50000, processed 1217510 words, keeping 27951 word types\n",
      "2021-02-24 23:32:27,012 : INFO : PROGRESS: at sentence #60000, processed 1470233 words, keeping 30424 word types\n",
      "2021-02-24 23:32:27,076 : INFO : PROGRESS: at sentence #70000, processed 1701776 words, keeping 32652 word types\n",
      "2021-02-24 23:32:27,144 : INFO : PROGRESS: at sentence #80000, processed 1950793 words, keeping 34538 word types\n",
      "2021-02-24 23:32:27,214 : INFO : PROGRESS: at sentence #90000, processed 2197007 words, keeping 36298 word types\n",
      "2021-02-24 23:32:27,285 : INFO : PROGRESS: at sentence #100000, processed 2447081 words, keeping 37976 word types\n",
      "2021-02-24 23:32:27,351 : INFO : PROGRESS: at sentence #110000, processed 2687283 words, keeping 39365 word types\n",
      "2021-02-24 23:32:27,422 : INFO : PROGRESS: at sentence #120000, processed 2925456 words, keeping 40701 word types\n",
      "2021-02-24 23:32:27,490 : INFO : PROGRESS: at sentence #130000, processed 3163960 words, keeping 42189 word types\n",
      "2021-02-24 23:32:27,557 : INFO : PROGRESS: at sentence #140000, processed 3403810 words, keeping 43461 word types\n",
      "2021-02-24 23:32:27,626 : INFO : PROGRESS: at sentence #150000, processed 3647799 words, keeping 44799 word types\n",
      "2021-02-24 23:32:27,696 : INFO : PROGRESS: at sentence #160000, processed 3895611 words, keeping 46097 word types\n",
      "2021-02-24 23:32:27,768 : INFO : PROGRESS: at sentence #170000, processed 4142402 words, keeping 47423 word types\n",
      "2021-02-24 23:32:27,836 : INFO : PROGRESS: at sentence #180000, processed 4394569 words, keeping 48561 word types\n",
      "2021-02-24 23:32:27,904 : INFO : PROGRESS: at sentence #190000, processed 4639066 words, keeping 49668 word types\n",
      "2021-02-24 23:32:27,971 : INFO : PROGRESS: at sentence #200000, processed 4879801 words, keeping 50711 word types\n",
      "2021-02-24 23:32:28,040 : INFO : PROGRESS: at sentence #210000, processed 5120058 words, keeping 51696 word types\n",
      "2021-02-24 23:32:28,108 : INFO : PROGRESS: at sentence #220000, processed 5363049 words, keeping 52600 word types\n",
      "2021-02-24 23:32:28,174 : INFO : PROGRESS: at sentence #230000, processed 5598056 words, keeping 53550 word types\n",
      "2021-02-24 23:32:28,244 : INFO : PROGRESS: at sentence #240000, processed 5843027 words, keeping 54533 word types\n",
      "2021-02-24 23:32:28,314 : INFO : PROGRESS: at sentence #250000, processed 6093422 words, keeping 55726 word types\n",
      "2021-02-24 23:32:28,380 : INFO : PROGRESS: at sentence #260000, processed 6333347 words, keeping 56541 word types\n",
      "2021-02-24 23:32:28,447 : INFO : PROGRESS: at sentence #270000, processed 6574256 words, keeping 57423 word types\n",
      "2021-02-24 23:32:28,515 : INFO : PROGRESS: at sentence #280000, processed 6818345 words, keeping 58310 word types\n",
      "2021-02-24 23:32:28,585 : INFO : PROGRESS: at sentence #290000, processed 7067055 words, keeping 59126 word types\n",
      "2021-02-24 23:32:28,653 : INFO : PROGRESS: at sentence #300000, processed 7314246 words, keeping 59988 word types\n",
      "2021-02-24 23:32:28,722 : INFO : PROGRESS: at sentence #310000, processed 7560873 words, keeping 60828 word types\n",
      "2021-02-24 23:32:28,795 : INFO : PROGRESS: at sentence #320000, processed 7804793 words, keeping 61577 word types\n",
      "2021-02-24 23:32:28,862 : INFO : PROGRESS: at sentence #330000, processed 8037358 words, keeping 62331 word types\n",
      "2021-02-24 23:32:28,930 : INFO : PROGRESS: at sentence #340000, processed 8281309 words, keeping 63055 word types\n",
      "2021-02-24 23:32:28,996 : INFO : PROGRESS: at sentence #350000, processed 8521847 words, keeping 63731 word types\n",
      "2021-02-24 23:32:29,065 : INFO : PROGRESS: at sentence #360000, processed 8766864 words, keeping 64517 word types\n",
      "2021-02-24 23:32:29,132 : INFO : PROGRESS: at sentence #370000, processed 9008926 words, keeping 65206 word types\n",
      "2021-02-24 23:32:29,201 : INFO : PROGRESS: at sentence #380000, processed 9256505 words, keeping 65840 word types\n",
      "2021-02-24 23:32:29,274 : INFO : PROGRESS: at sentence #390000, processed 9500888 words, keeping 66623 word types\n",
      "2021-02-24 23:32:29,344 : INFO : PROGRESS: at sentence #400000, processed 9751277 words, keeping 67275 word types\n",
      "2021-02-24 23:32:29,413 : INFO : PROGRESS: at sentence #410000, processed 10001521 words, keeping 68035 word types\n",
      "2021-02-24 23:32:29,481 : INFO : PROGRESS: at sentence #420000, processed 10247666 words, keeping 68762 word types\n",
      "2021-02-24 23:32:29,549 : INFO : PROGRESS: at sentence #430000, processed 10491044 words, keeping 69374 word types\n",
      "2021-02-24 23:32:29,614 : INFO : PROGRESS: at sentence #440000, processed 10725648 words, keeping 70041 word types\n",
      "2021-02-24 23:32:29,682 : INFO : PROGRESS: at sentence #450000, processed 10966324 words, keeping 70656 word types\n",
      "2021-02-24 23:32:29,748 : INFO : PROGRESS: at sentence #460000, processed 11208180 words, keeping 71341 word types\n",
      "2021-02-24 23:32:29,816 : INFO : PROGRESS: at sentence #470000, processed 11451759 words, keeping 71933 word types\n",
      "2021-02-24 23:32:29,882 : INFO : PROGRESS: at sentence #480000, processed 11687029 words, keeping 72515 word types\n",
      "2021-02-24 23:32:29,954 : INFO : PROGRESS: at sentence #490000, processed 11940683 words, keeping 73112 word types\n",
      "2021-02-24 23:32:30,024 : INFO : PROGRESS: at sentence #500000, processed 12182514 words, keeping 73653 word types\n",
      "2021-02-24 23:32:30,089 : INFO : PROGRESS: at sentence #510000, processed 12414386 words, keeping 74238 word types\n",
      "2021-02-24 23:32:30,158 : INFO : PROGRESS: at sentence #520000, processed 12659102 words, keeping 74878 word types\n",
      "2021-02-24 23:32:30,226 : INFO : PROGRESS: at sentence #530000, processed 12900194 words, keeping 75464 word types\n",
      "2021-02-24 23:32:30,295 : INFO : PROGRESS: at sentence #540000, processed 13146803 words, keeping 76009 word types\n",
      "2021-02-24 23:32:30,366 : INFO : PROGRESS: at sentence #550000, processed 13394080 words, keeping 76653 word types\n",
      "2021-02-24 23:32:30,437 : INFO : PROGRESS: at sentence #560000, processed 13648440 words, keeping 77241 word types\n",
      "2021-02-24 23:32:30,504 : INFO : PROGRESS: at sentence #570000, processed 13890742 words, keeping 77743 word types\n",
      "2021-02-24 23:32:30,572 : INFO : PROGRESS: at sentence #580000, processed 14134311 words, keeping 78311 word types\n",
      "2021-02-24 23:32:30,645 : INFO : PROGRESS: at sentence #590000, processed 14383503 words, keeping 78832 word types\n",
      "2021-02-24 23:32:30,715 : INFO : PROGRESS: at sentence #600000, processed 14632416 words, keeping 79334 word types\n",
      "2021-02-24 23:32:30,786 : INFO : PROGRESS: at sentence #610000, processed 14877657 words, keeping 79880 word types\n",
      "2021-02-24 23:32:30,853 : INFO : PROGRESS: at sentence #620000, processed 15116436 words, keeping 80415 word types\n",
      "2021-02-24 23:32:30,923 : INFO : PROGRESS: at sentence #630000, processed 15358958 words, keeping 80979 word types\n",
      "2021-02-24 23:32:30,957 : INFO : collected 81217 word types from a corpus of 15477359 raw words and 634797 sentences\n",
      "2021-02-24 23:32:30,958 : INFO : Loading a fresh vocabulary\n",
      "2021-02-24 23:32:31,050 : INFO : effective_min_count=5 retains 32679 unique words (40% of original 81217, drops 48538)\n",
      "2021-02-24 23:32:31,051 : INFO : effective_min_count=5 leaves 15395339 word corpus (99% of original 15477359, drops 82020)\n",
      "2021-02-24 23:32:31,126 : INFO : deleting the raw counts dictionary of 81217 items\n",
      "2021-02-24 23:32:31,128 : INFO : sample=0.001 downsamples 37 most-common words\n",
      "2021-02-24 23:32:31,129 : INFO : downsampling leaves estimated 11145031 word corpus (72.4% of prior 15395339)\n",
      "2021-02-24 23:32:31,151 : INFO : constructing a huffman tree from 32679 words\n",
      "2021-02-24 23:32:31,872 : INFO : built huffman tree with maximum node depth 22\n"
     ]
    },
    {
     "name": "stderr",
     "output_type": "stream",
     "text": [
      "2021-02-24 23:32:32,242 : INFO : estimated required memory for 32679 words, 138370 buckets and 100 dimensions: 126250420 bytes\n",
      "2021-02-24 23:32:32,247 : INFO : resetting layer weights\n",
      "2021-02-24 23:32:35,698 : INFO : training model with 12 workers on 32679 vocabulary and 100 features, using sg=1 hs=1 sample=0.001 negative=5 window=5\n",
      "2021-02-24 23:33:28,251 : INFO : EPOCH 1 - PROGRESS: at 8.36% words, 17712 words/s, in_qsize -1, out_qsize 1\n",
      "2021-02-24 23:33:28,253 : INFO : worker thread finished; awaiting finish of 11 more threads\n",
      "2021-02-24 23:33:28,437 : INFO : worker thread finished; awaiting finish of 10 more threads\n",
      "2021-02-24 23:33:28,570 : INFO : worker thread finished; awaiting finish of 9 more threads\n",
      "2021-02-24 23:33:28,788 : INFO : worker thread finished; awaiting finish of 8 more threads\n",
      "2021-02-24 23:33:28,964 : INFO : worker thread finished; awaiting finish of 7 more threads\n",
      "2021-02-24 23:33:28,977 : INFO : worker thread finished; awaiting finish of 6 more threads\n",
      "2021-02-24 23:33:28,993 : INFO : worker thread finished; awaiting finish of 5 more threads\n",
      "2021-02-24 23:33:29,054 : INFO : worker thread finished; awaiting finish of 4 more threads\n",
      "2021-02-24 23:33:29,290 : INFO : EPOCH 1 - PROGRESS: at 75.16% words, 156418 words/s, in_qsize -1, out_qsize 1\n",
      "2021-02-24 23:33:29,291 : INFO : worker thread finished; awaiting finish of 3 more threads\n",
      "2021-02-24 23:33:29,331 : INFO : worker thread finished; awaiting finish of 2 more threads\n",
      "2021-02-24 23:33:29,367 : INFO : worker thread finished; awaiting finish of 1 more threads\n",
      "2021-02-24 23:33:29,413 : INFO : worker thread finished; awaiting finish of 0 more threads\n",
      "2021-02-24 23:33:29,414 : INFO : EPOCH - 1 : training on 15511283 raw words (11169405 effective words) took 53.7s, 208102 effective words/s\n",
      "2021-02-24 23:34:21,027 : INFO : EPOCH 2 - PROGRESS: at 8.35% words, 18063 words/s, in_qsize -1, out_qsize 1\n",
      "2021-02-24 23:34:21,028 : INFO : worker thread finished; awaiting finish of 11 more threads\n",
      "2021-02-24 23:34:21,084 : INFO : worker thread finished; awaiting finish of 10 more threads\n",
      "2021-02-24 23:34:21,107 : INFO : worker thread finished; awaiting finish of 9 more threads\n",
      "2021-02-24 23:34:21,148 : INFO : worker thread finished; awaiting finish of 8 more threads\n",
      "2021-02-24 23:34:21,478 : INFO : worker thread finished; awaiting finish of 7 more threads\n",
      "2021-02-24 23:34:21,513 : INFO : worker thread finished; awaiting finish of 6 more threads\n",
      "2021-02-24 23:34:21,517 : INFO : worker thread finished; awaiting finish of 5 more threads\n",
      "2021-02-24 23:34:21,625 : INFO : worker thread finished; awaiting finish of 4 more threads\n",
      "2021-02-24 23:34:22,055 : INFO : EPOCH 2 - PROGRESS: at 75.16% words, 159255 words/s, in_qsize -1, out_qsize 1\n",
      "2021-02-24 23:34:22,056 : INFO : worker thread finished; awaiting finish of 3 more threads\n",
      "2021-02-24 23:34:22,086 : INFO : worker thread finished; awaiting finish of 2 more threads\n",
      "2021-02-24 23:34:22,097 : INFO : worker thread finished; awaiting finish of 1 more threads\n",
      "2021-02-24 23:34:22,100 : INFO : worker thread finished; awaiting finish of 0 more threads\n",
      "2021-02-24 23:34:22,101 : INFO : EPOCH - 2 : training on 15511283 raw words (11170540 effective words) took 52.6s, 212192 effective words/s\n",
      "2021-02-24 23:35:13,684 : INFO : EPOCH 3 - PROGRESS: at 8.32% words, 17986 words/s, in_qsize -1, out_qsize 1\n",
      "2021-02-24 23:35:13,686 : INFO : worker thread finished; awaiting finish of 11 more threads\n",
      "2021-02-24 23:35:13,952 : INFO : worker thread finished; awaiting finish of 10 more threads\n",
      "2021-02-24 23:35:14,001 : INFO : worker thread finished; awaiting finish of 9 more threads\n",
      "2021-02-24 23:35:14,118 : INFO : worker thread finished; awaiting finish of 8 more threads\n",
      "2021-02-24 23:35:14,173 : INFO : worker thread finished; awaiting finish of 7 more threads\n",
      "2021-02-24 23:35:14,224 : INFO : worker thread finished; awaiting finish of 6 more threads\n",
      "2021-02-24 23:35:14,240 : INFO : worker thread finished; awaiting finish of 5 more threads\n",
      "2021-02-24 23:35:14,356 : INFO : worker thread finished; awaiting finish of 4 more threads\n",
      "2021-02-24 23:35:14,703 : INFO : EPOCH 3 - PROGRESS: at 75.16% words, 159366 words/s, in_qsize -1, out_qsize 1\n",
      "2021-02-24 23:35:14,704 : INFO : worker thread finished; awaiting finish of 3 more threads\n",
      "2021-02-24 23:35:14,825 : INFO : worker thread finished; awaiting finish of 2 more threads\n",
      "2021-02-24 23:35:14,840 : INFO : worker thread finished; awaiting finish of 1 more threads\n",
      "2021-02-24 23:35:14,871 : INFO : worker thread finished; awaiting finish of 0 more threads\n",
      "2021-02-24 23:35:14,873 : INFO : EPOCH - 3 : training on 15511283 raw words (11168140 effective words) took 52.7s, 211808 effective words/s\n",
      "2021-02-24 23:36:06,431 : INFO : EPOCH 4 - PROGRESS: at 8.36% words, 18063 words/s, in_qsize -1, out_qsize 1\n",
      "2021-02-24 23:36:06,432 : INFO : worker thread finished; awaiting finish of 11 more threads\n",
      "2021-02-24 23:36:06,476 : INFO : worker thread finished; awaiting finish of 10 more threads\n",
      "2021-02-24 23:36:06,551 : INFO : worker thread finished; awaiting finish of 9 more threads\n",
      "2021-02-24 23:36:06,727 : INFO : worker thread finished; awaiting finish of 8 more threads\n",
      "2021-02-24 23:36:06,941 : INFO : worker thread finished; awaiting finish of 7 more threads\n",
      "2021-02-24 23:36:06,952 : INFO : worker thread finished; awaiting finish of 6 more threads\n",
      "2021-02-24 23:36:07,057 : INFO : worker thread finished; awaiting finish of 5 more threads\n",
      "2021-02-24 23:36:07,140 : INFO : worker thread finished; awaiting finish of 4 more threads\n",
      "2021-02-24 23:36:07,623 : INFO : EPOCH 4 - PROGRESS: at 75.16% words, 158967 words/s, in_qsize -1, out_qsize 1\n",
      "2021-02-24 23:36:07,624 : INFO : worker thread finished; awaiting finish of 3 more threads\n",
      "2021-02-24 23:36:07,647 : INFO : worker thread finished; awaiting finish of 2 more threads\n",
      "2021-02-24 23:36:07,701 : INFO : worker thread finished; awaiting finish of 1 more threads\n",
      "2021-02-24 23:36:07,734 : INFO : worker thread finished; awaiting finish of 0 more threads\n",
      "2021-02-24 23:36:07,735 : INFO : EPOCH - 4 : training on 15511283 raw words (11171182 effective words) took 52.8s, 211511 effective words/s\n",
      "2021-02-24 23:36:59,259 : INFO : EPOCH 5 - PROGRESS: at 8.32% words, 18010 words/s, in_qsize -1, out_qsize 1\n",
      "2021-02-24 23:36:59,261 : INFO : worker thread finished; awaiting finish of 11 more threads\n",
      "2021-02-24 23:36:59,336 : INFO : worker thread finished; awaiting finish of 10 more threads\n",
      "2021-02-24 23:36:59,366 : INFO : worker thread finished; awaiting finish of 9 more threads\n",
      "2021-02-24 23:36:59,385 : INFO : worker thread finished; awaiting finish of 8 more threads\n",
      "2021-02-24 23:36:59,772 : INFO : worker thread finished; awaiting finish of 7 more threads\n",
      "2021-02-24 23:36:59,830 : INFO : worker thread finished; awaiting finish of 6 more threads\n",
      "2021-02-24 23:36:59,966 : INFO : worker thread finished; awaiting finish of 5 more threads\n",
      "2021-02-24 23:37:00,035 : INFO : worker thread finished; awaiting finish of 4 more threads\n",
      "2021-02-24 23:37:02,086 : INFO : EPOCH 5 - PROGRESS: at 75.16% words, 154215 words/s, in_qsize -1, out_qsize 1\n",
      "2021-02-24 23:37:02,088 : INFO : worker thread finished; awaiting finish of 3 more threads\n",
      "2021-02-24 23:37:02,145 : INFO : worker thread finished; awaiting finish of 2 more threads\n",
      "2021-02-24 23:37:02,209 : INFO : worker thread finished; awaiting finish of 1 more threads\n",
      "2021-02-24 23:37:02,266 : INFO : worker thread finished; awaiting finish of 0 more threads\n",
      "2021-02-24 23:37:02,268 : INFO : EPOCH - 5 : training on 15511283 raw words (11167767 effective words) took 54.5s, 204954 effective words/s\n",
      "2021-02-24 23:37:02,271 : INFO : training on a 77556415 raw words (55847034 effective words) took 266.6s, 209501 effective words/s\n",
      "2021-02-24 23:37:02,271 : WARNING : under 10 jobs per worker: consider setting a smaller `batch_words' for smoother alpha decay\n",
      "2021-02-24 23:37:03,755 : INFO : saving FastText object under dados/experimento_5/ftt_jur.model, separately None\n",
      "2021-02-24 23:37:03,756 : INFO : storing np array 'vectors_ngrams' to dados/experimento_5/ftt_jur.model.wv.vectors_ngrams.npy\n",
      "2021-02-24 23:37:10,813 : INFO : not storing attribute vectors_norm\n",
      "2021-02-24 23:37:10,814 : INFO : not storing attribute vectors_vocab_norm\n"
     ]
    },
    {
     "name": "stderr",
     "output_type": "stream",
     "text": [
      "2021-02-24 23:37:10,816 : INFO : not storing attribute vectors_ngrams_norm\n",
      "2021-02-24 23:37:10,817 : INFO : not storing attribute buckets_word\n",
      "2021-02-24 23:37:10,818 : INFO : storing np array 'vectors_ngrams_lockf' to dados/experimento_5/ftt_jur.model.trainables.vectors_ngrams_lockf.npy\n",
      "2021-02-24 23:37:18,421 : INFO : saved dados/experimento_5/ftt_jur.model\n"
     ]
    },
    {
     "name": "stdout",
     "output_type": "stream",
     "text": [
      "treinando modelo glove\n",
      "mkdir -p build\n",
      "tokenizando corpus\n",
      "$ build/vocab_count -min-count 5 -verbose 2 < ../mestrado/experimentos_mestrado/dados/experimento_5/base_treino_glv.txt > ../mestrado/experimentos_mestrado/dados/experimento_5/glove_vocab.txt\n",
      "criando matriz de coocorrencia\n",
      "$ build/cooccur -memory 4.0 -vocab-file ../mestrado/experimentos_mestrado/dados/experimento_5/glove_vocab.txt -verbose 2 -window-size 15 < ../mestrado/experimentos_mestrado/dados/experimento_5/base_treino_glv.txt > ../mestrado/experimentos_mestrado/dados/experimento_5/glv_concurrence.bin\n",
      "$ build/shuffle -memory 4.0 -verbose 2 < ../mestrado/experimentos_mestrado/dados/experimento_5/glv_concurrence.bin > ../mestrado/experimentos_mestrado/dados/experimento_5/glv_concurrence_shuf.bin\n",
      "$ build/glove -save-file ../mestrado/experimentos_mestrado/dados/experimento_5/glv_jur -threads 8 -input-file ../mestrado/experimentos_mestrado/dados/experimento_5/glv_concurrence_shuf.bin -x-max 10 -iter 15 -vector-size 100 -binary 2 -vocab-file ../mestrado/experimentos_mestrado/dados/experimento_5/glove_vocab.txt -verbose 2\n",
      "\n",
      "BUILDING VOCABULARY\n",
      "Processed 0 tokens.100000 tokens.200000 tokens.300000 tokens.400000 tokens.500000 tokens.600000 tokens.700000 tokens.800000 tokens.900000 tokens.1000000 tokens.1100000 tokens.1200000 tokens.1300000 tokens.1400000 tokens.1500000 tokens.1600000 tokens.1700000 tokens.1800000 tokens.1900000 tokens.2000000 tokens.2100000 tokens.2200000 tokens.2300000 tokens.2400000 tokens.2500000 tokens.2600000 tokens.2700000 tokens.2800000 tokens.2900000 tokens.3000000 tokens.3100000 tokens.3200000 tokens.3300000 tokens.3400000 tokens.3500000 tokens.3600000 tokens.3700000 tokens.3800000 tokens.3900000 tokens.4000000 tokens.4100000 tokens.4200000 tokens.4300000 tokens.4400000 tokens.4500000 tokens.4600000 tokens.4700000 tokens.4800000 tokens.4900000 tokens.5000000 tokens.5100000 tokens.5200000 tokens.5300000 tokens.5400000 tokens.5500000 tokens.5600000 tokens.5700000 tokens.5800000 tokens.5900000 tokens.6000000 tokens.6100000 tokens.6200000 tokens.6300000 tokens.6400000 tokens.6500000 tokens.6600000 tokens.6700000 tokens.6800000 tokens.6900000 tokens.7000000 tokens.7100000 tokens.7200000 tokens.7300000 tokens.7400000 tokens.7500000 tokens.7600000 tokens.7700000 tokens.7800000 tokens.7900000 tokens.8000000 tokens.8100000 tokens.8200000 tokens.8300000 tokens.8400000 tokens.8500000 tokens.8600000 tokens.8700000 tokens.8800000 tokens.8900000 tokens.9000000 tokens.9100000 tokens.9200000 tokens.9300000 tokens.9400000 tokens.9500000 tokens.9600000 tokens.9700000 tokens.Processed 9739283 tokens.\n",
      "Counted 81037 unique words.\n",
      "Truncating vocabulary at min count 5.\n",
      "Using vocabulary of size 32513.\n",
      "\n",
      "COUNTING COOCCURRENCES\n",
      "window size: 15\n",
      "context: symmetric\n",
      "max product: 13752509\n",
      "overflow length: 38028356\n",
      "Reading vocab from file \"../mestrado/experimentos_mestrado/dados/experimento_5/glove_vocab.txt\"...loaded 32513 words.\n",
      "Building lookup table...table contains 73434641 elements.\n",
      "Processing token: 01000002000003000004000005000006000007000008000009000001000000110000012000001300000140000015000001600000170000018000001900000200000021000002200000230000024000002500000260000027000002800000290000030000003100000320000033000003400000350000036000003700000380000039000004000000410000042000004300000440000045000004600000470000048000004900000500000051000005200000530000054000005500000560000057000005800000590000060000006100000620000063000006400000650000066000006700000680000069000007000000710000072000007300000740000075000007600000770000078000007900000800000081000008200000830000084000008500000860000087000008800000890000090000009100000920000093000009400000950000096000009700000Processed 9739283 tokens.\n",
      "Writing cooccurrences to disk........2 files in total.\n"
     ]
    },
    {
     "name": "stdout",
     "output_type": "stream",
     "text": [
      "Merging cooccurrence files: processed 0 lines.100000 lines.200000 lines.300000 lines.400000 lines.500000 lines.600000 lines.700000 lines.800000 lines.900000 lines.1000000 lines.1100000 lines.1200000 lines.1300000 lines.1400000 lines.1500000 lines.1600000 lines.1700000 lines.1800000 lines.1900000 lines.2000000 lines.2100000 lines.2200000 lines.2300000 lines.2400000 lines.2500000 lines.2600000 lines.2700000 lines.2800000 lines.2900000 lines.3000000 lines.3100000 lines.3200000 lines.3300000 lines.3400000 lines.3500000 lines.3600000 lines.3700000 lines.3800000 lines.3900000 lines.4000000 lines.4100000 lines.4200000 lines.4300000 lines.4400000 lines.4500000 lines.4600000 lines.4700000 lines.4800000 lines.4900000 lines.5000000 lines.5100000 lines.5200000 lines.5300000 lines.5400000 lines.5500000 lines.5600000 lines.5700000 lines.5800000 lines.5900000 lines.6000000 lines.6100000 lines.6200000 lines.6300000 lines.6400000 lines.6500000 lines.6600000 lines.6700000 lines.6800000 lines.6900000 lines.7000000 lines.7100000 lines.7200000 lines.7300000 lines.7400000 lines.7500000 lines.7600000 lines.7700000 lines.7800000 lines.7900000 lines.8000000 lines.8100000 lines.8200000 lines.8300000 lines.8400000 lines.8500000 lines.8600000 lines.8700000 lines.8800000 lines.8900000 lines.9000000 lines.9100000 lines.9200000 lines.9300000 lines.9400000 lines.9500000 lines.9600000 lines.9700000 lines.9800000 lines.9900000 lines.10000000 lines.10100000 lines.10200000 lines.10300000 lines.10400000 lines.10500000 lines.10600000 lines.10700000 lines.10800000 lines.10900000 lines.11000000 lines.11100000 lines.11200000 lines.11300000 lines.11400000 lines.11500000 lines.11600000 lines.11700000 lines.11800000 lines.11900000 lines.12000000 lines.12100000 lines.12200000 lines.12300000 lines.12400000 lines.12500000 lines.12600000 lines.12700000 lines.12800000 lines.12900000 lines.13000000 lines.13100000 lines.13200000 lines.13300000 lines.13400000 lines.13500000 lines.13600000 lines.13700000 lines.13800000 lines.13900000 lines.14000000 lines.14100000 lines.14200000 lines.14300000 lines.14400000 lines.14500000 lines.14600000 lines.14700000 lines.14800000 lines.14900000 lines.15000000 lines.15100000 lines.15200000 lines.15300000 lines.15400000 lines.15500000 lines.15600000 lines.15700000 lines.15800000 lines.15900000 lines.16000000 lines.16100000 lines.16200000 lines.16300000 lines.16400000 lines.16500000 lines.16600000 lines.16700000 lines.16800000 lines.16900000 lines.17000000 lines.17100000 lines.17200000 lines.17300000 lines.17400000 lines.17500000 lines.17600000 lines.17700000 lines.17800000 lines.17900000 lines.18000000 lines.18100000 lines.18200000 lines.18300000 lines.18400000 lines.18500000 lines.18600000 lines.18700000 lines.18800000 lines.18900000 lines.19000000 lines.19100000 lines.19200000 lines.19300000 lines.19400000 lines.19500000 lines.19600000 lines.19700000 lines.19800000 lines.19900000 lines.20000000 lines.20100000 lines.20200000 lines.20300000 lines.20400000 lines.20500000 lines.20600000 lines.20700000 lines.20800000 lines.20900000 lines.21000000 lines.21100000 lines.21200000 lines.21300000 lines.21400000 lines.21500000 lines.21600000 lines.21700000 lines.21800000 lines.21900000 lines.22000000 lines.22100000 lines.22200000 lines.22300000 lines.22400000 lines.22500000 lines.22600000 lines.22700000 lines.22800000 lines.22900000 lines.23000000 lines.23100000 lines.23200000 lines.23300000 lines.23400000 lines.23500000 lines.23600000 lines.23700000 lines.23800000 lines.23900000 lines.24000000 lines.24100000 lines.24200000 lines.24300000 lines.24400000 lines.24500000 lines.24600000 lines.24700000 lines.24800000 lines.24900000 lines.25000000 lines.25100000 lines.25200000 lines.25300000 lines.25400000 lines.25500000 lines.25600000 lines.25700000 lines.25800000 lines.25900000 lines.26000000 lines.26100000 lines.26200000 lines.26300000 lines.26400000 lines.26500000 lines.26600000 lines.26700000 lines.26800000 lines.26900000 lines.27000000 lines.27100000 lines.27200000 lines.27300000 lines.27400000 lines.27500000 lines.27600000 lines.27700000 lines.27800000 lines.27900000 lines.28000000 lines.28100000 lines.28200000 lines.28300000 lines.28400000 lines.28500000 lines.28600000 lines.28700000 lines.28800000 lines.28900000 lines.29000000 lines.29100000 lines.29200000 lines.29300000 lines.29400000 lines.29500000 lines.29600000 lines.29700000 lines.29800000 lines.29900000 lines.30000000 lines.30100000 lines.30200000 lines.30300000 lines.30400000 lines.30500000 lines.30600000 lines.30700000 lines.30800000 lines.30900000 lines.31000000 lines.31100000 lines.31200000 lines.31300000 lines.31400000 lines.31500000 lines.31600000 lines.31700000 lines.Merging cooccurrence files: processed 31775704 lines.\n",
      "\n",
      "Using random seed 1614220655\n",
      "SHUFFLING COOCCURRENCES\n",
      "array size: 255013683\n",
      "Shuffling by chunks: processed 0 lines.processed 31775704 lines.\n",
      "Wrote 1 temporary file(s).\n",
      "Merging temp files: processed 0 lines.31775704 lines.Merging temp files: processed 31775704 lines.\n",
      "\n",
      "TRAINING MODEL\n",
      "Read 31775704 lines.\n",
      "Initializing parameters...Using random seed 1614220666\n",
      "done.\n",
      "vector size: 100\n",
      "vocab size: 32513\n",
      "x_max: 10.000000\n",
      "alpha: 0.750000\n",
      "02/24/21 - 11:37.58PM, iter: 001, cost: 0.109420\n",
      "02/24/21 - 11:38.10PM, iter: 002, cost: 0.079489\n",
      "02/24/21 - 11:38.22PM, iter: 003, cost: 0.066619\n",
      "02/24/21 - 11:38.34PM, iter: 004, cost: 0.058957\n",
      "02/24/21 - 11:38.45PM, iter: 005, cost: 0.054569\n",
      "02/24/21 - 11:38.56PM, iter: 006, cost: 0.051966\n",
      "02/24/21 - 11:39.08PM, iter: 007, cost: 0.050236\n",
      "02/24/21 - 11:39.18PM, iter: 008, cost: 0.049001\n",
      "02/24/21 - 11:39.29PM, iter: 009, cost: 0.048082\n",
      "02/24/21 - 11:39.41PM, iter: 010, cost: 0.047365\n",
      "02/24/21 - 11:39.52PM, iter: 011, cost: 0.046751\n",
      "02/24/21 - 11:40.02PM, iter: 012, cost: 0.046252\n",
      "02/24/21 - 11:40.13PM, iter: 013, cost: 0.045849\n",
      "02/24/21 - 11:40.24PM, iter: 014, cost: 0.045463\n",
      "02/24/21 - 11:40.35PM, iter: 015, cost: 0.045139\n",
      "\n",
      "treinamento concluído\n"
     ]
    },
    {
     "name": "stderr",
     "output_type": "stream",
     "text": [
      "2021-02-24 23:40:36,558 : INFO : converting 32514 vectors from dados/experimento_5/glv_jur.txt to C:\\Users\\CRISTI~1\\AppData\\Local\\Temp\\test_word2vec.txt\n",
      "2021-02-24 23:40:36,624 : INFO : loading projection weights from C:\\Users\\CRISTI~1\\AppData\\Local\\Temp\\test_word2vec.txt\n",
      "2021-02-24 23:40:39,377 : INFO : loaded (32514, 100) matrix from C:\\Users\\CRISTI~1\\AppData\\Local\\Temp\\test_word2vec.txt\n",
      "2021-02-24 23:40:39,379 : INFO : loading projection weights from modelos/w2v_skip_nilc.txt\n",
      "2021-02-24 23:41:57,563 : INFO : loaded (929606, 100) matrix from modelos/w2v_skip_nilc.txt\n",
      "2021-02-24 23:41:57,565 : INFO : loading projection weights from modelos/ftt_skip_nilc.txt\n",
      "2021-02-24 23:43:14,010 : INFO : loaded (929605, 100) matrix from modelos/ftt_skip_nilc.txt\n",
      "2021-02-24 23:43:14,011 : INFO : loading projection weights from modelos/glove_nilc.txt\n",
      "2021-02-24 23:44:30,099 : INFO : loaded (929605, 100) matrix from modelos/glove_nilc.txt\n"
     ]
    },
    {
     "name": "stdout",
     "output_type": "stream",
     "text": [
      "recuperando teores da base de teste\n"
     ]
    },
    {
     "data": {
      "application/vnd.jupyter.widget-view+json": {
       "model_id": "3b051e56f2f3424c9d9e57c32acceaed",
       "version_major": 2,
       "version_minor": 0
      },
      "text/plain": [
       "HBox(children=(IntProgress(value=0, max=6663), HTML(value='')))"
      ]
     },
     "metadata": {},
     "output_type": "display_data"
    },
    {
     "name": "stdout",
     "output_type": "stream",
     "text": [
      "\n",
      "criando representações word2vec geral\n"
     ]
    },
    {
     "data": {
      "application/vnd.jupyter.widget-view+json": {
       "model_id": "d055898c06f349c0b679ae9eb80f254b",
       "version_major": 2,
       "version_minor": 0
      },
      "text/plain": [
       "HBox(children=(IntProgress(value=0, max=6663), HTML(value='')))"
      ]
     },
     "metadata": {},
     "output_type": "display_data"
    },
    {
     "name": "stdout",
     "output_type": "stream",
     "text": [
      "\n",
      "criando representações fasttext geral\n"
     ]
    },
    {
     "data": {
      "application/vnd.jupyter.widget-view+json": {
       "model_id": "bd8dbeb2d9f6414e8f4dd89a789bb9d3",
       "version_major": 2,
       "version_minor": 0
      },
      "text/plain": [
       "HBox(children=(IntProgress(value=0, max=6663), HTML(value='')))"
      ]
     },
     "metadata": {},
     "output_type": "display_data"
    },
    {
     "name": "stdout",
     "output_type": "stream",
     "text": [
      "\n",
      "criando representações glove geral\n"
     ]
    },
    {
     "data": {
      "application/vnd.jupyter.widget-view+json": {
       "model_id": "42883f8018da42ac9dab9d6123125696",
       "version_major": 2,
       "version_minor": 0
      },
      "text/plain": [
       "HBox(children=(IntProgress(value=0, max=6663), HTML(value='')))"
      ]
     },
     "metadata": {},
     "output_type": "display_data"
    },
    {
     "name": "stdout",
     "output_type": "stream",
     "text": [
      "\n",
      "criando representações word2vec juridico\n"
     ]
    },
    {
     "data": {
      "application/vnd.jupyter.widget-view+json": {
       "model_id": "d7318b5e5ea946fd8744fbcf9045b57e",
       "version_major": 2,
       "version_minor": 0
      },
      "text/plain": [
       "HBox(children=(IntProgress(value=0, max=6663), HTML(value='')))"
      ]
     },
     "metadata": {},
     "output_type": "display_data"
    },
    {
     "name": "stdout",
     "output_type": "stream",
     "text": [
      "\n",
      "criando representações fasttext juridico\n"
     ]
    },
    {
     "data": {
      "application/vnd.jupyter.widget-view+json": {
       "model_id": "2998551e306346c48846810cd8a444c7",
       "version_major": 2,
       "version_minor": 0
      },
      "text/plain": [
       "HBox(children=(IntProgress(value=0, max=6663), HTML(value='')))"
      ]
     },
     "metadata": {},
     "output_type": "display_data"
    },
    {
     "name": "stdout",
     "output_type": "stream",
     "text": [
      "\n",
      "criando representações glove juridico\n"
     ]
    },
    {
     "data": {
      "application/vnd.jupyter.widget-view+json": {
       "model_id": "2086907097324b07ba8691885e87541b",
       "version_major": 2,
       "version_minor": 0
      },
      "text/plain": [
       "HBox(children=(IntProgress(value=0, max=6663), HTML(value='')))"
      ]
     },
     "metadata": {},
     "output_type": "display_data"
    },
    {
     "name": "stdout",
     "output_type": "stream",
     "text": [
      "\n",
      "----------- EXPERIMENTO 5 CONCLUIDO -----------\n",
      "tempo do experimento: 22.00664993127187 minutos\n",
      "----------------------- EXPERIMENTO 6 -----------------------\n",
      "criando base de treino para o experimento 6\n"
     ]
    },
    {
     "data": {
      "application/vnd.jupyter.widget-view+json": {
       "model_id": "75e516d28c904c1eb4bb1983a2c23895",
       "version_major": 2,
       "version_minor": 0
      },
      "text/plain": [
       "HBox(children=(IntProgress(value=0, max=26650), HTML(value='')))"
      ]
     },
     "metadata": {},
     "output_type": "display_data"
    },
    {
     "name": "stdout",
     "output_type": "stream",
     "text": [
      "\n",
      "15959179 tokens copiados com sucesso\n",
      "preparando documentos para extração do vocabulário:\n"
     ]
    },
    {
     "data": {
      "application/vnd.jupyter.widget-view+json": {
       "model_id": "77d27b9938d047b189ebdf7260c08780",
       "version_major": 2,
       "version_minor": 0
      },
      "text/plain": [
       "HBox(children=(IntProgress(value=0, max=26650), HTML(value='')))"
      ]
     },
     "metadata": {},
     "output_type": "display_data"
    },
    {
     "name": "stdout",
     "output_type": "stream",
     "text": [
      "\n",
      "extraindo termos com base no ICA\n"
     ]
    },
    {
     "data": {
      "application/vnd.jupyter.widget-view+json": {
       "model_id": "e2c4dfa328c74feab2f0779c56f32ac3",
       "version_major": 2,
       "version_minor": 0
      },
      "text/plain": [
       "HBox(children=(IntProgress(value=0, max=125), HTML(value='')))"
      ]
     },
     "metadata": {},
     "output_type": "display_data"
    },
    {
     "name": "stdout",
     "output_type": "stream",
     "text": [
      "\n",
      "-processando strings do corpus\n",
      "-treinando vetorizador\n",
      "-ICA processado\n",
      "extraindo termos com base na frequência - geralmente leva menos de 4 minutos\n",
      "extraindo termos do tesauro\n",
      "extração de vocabulário concluída!\n",
      "treinando modelo word2vec\n"
     ]
    },
    {
     "name": "stderr",
     "output_type": "stream",
     "text": [
      "2021-02-24 23:52:25,390 : INFO : collecting all words and their counts\n",
      "2021-02-24 23:52:25,398 : INFO : PROGRESS: at sentence #0, processed 0 words, keeping 0 word types\n",
      "2021-02-24 23:52:25,464 : INFO : PROGRESS: at sentence #10000, processed 244468 words, keeping 14081 word types\n",
      "2021-02-24 23:52:25,530 : INFO : PROGRESS: at sentence #20000, processed 487444 words, keeping 18897 word types\n",
      "2021-02-24 23:52:25,599 : INFO : PROGRESS: at sentence #30000, processed 731756 words, keeping 22527 word types\n",
      "2021-02-24 23:52:25,666 : INFO : PROGRESS: at sentence #40000, processed 975981 words, keeping 25669 word types\n",
      "2021-02-24 23:52:25,731 : INFO : PROGRESS: at sentence #50000, processed 1214486 words, keeping 28293 word types\n",
      "2021-02-24 23:52:25,796 : INFO : PROGRESS: at sentence #60000, processed 1458891 words, keeping 30458 word types\n",
      "2021-02-24 23:52:25,863 : INFO : PROGRESS: at sentence #70000, processed 1703035 words, keeping 32389 word types\n",
      "2021-02-24 23:52:25,933 : INFO : PROGRESS: at sentence #80000, processed 1957954 words, keeping 34530 word types\n",
      "2021-02-24 23:52:25,998 : INFO : PROGRESS: at sentence #90000, processed 2197443 words, keeping 36305 word types\n",
      "2021-02-24 23:52:26,066 : INFO : PROGRESS: at sentence #100000, processed 2446193 words, keeping 37987 word types\n",
      "2021-02-24 23:52:26,131 : INFO : PROGRESS: at sentence #110000, processed 2687413 words, keeping 39429 word types\n",
      "2021-02-24 23:52:26,199 : INFO : PROGRESS: at sentence #120000, processed 2932407 words, keeping 40768 word types\n",
      "2021-02-24 23:52:26,267 : INFO : PROGRESS: at sentence #130000, processed 3179089 words, keeping 42189 word types\n",
      "2021-02-24 23:52:26,333 : INFO : PROGRESS: at sentence #140000, processed 3418254 words, keeping 43329 word types\n",
      "2021-02-24 23:52:26,401 : INFO : PROGRESS: at sentence #150000, processed 3662078 words, keeping 44736 word types\n",
      "2021-02-24 23:52:26,468 : INFO : PROGRESS: at sentence #160000, processed 3904678 words, keeping 45868 word types\n",
      "2021-02-24 23:52:26,534 : INFO : PROGRESS: at sentence #170000, processed 4142306 words, keeping 47093 word types\n",
      "2021-02-24 23:52:26,601 : INFO : PROGRESS: at sentence #180000, processed 4385259 words, keeping 48219 word types\n",
      "2021-02-24 23:52:26,669 : INFO : PROGRESS: at sentence #190000, processed 4623668 words, keeping 49324 word types\n",
      "2021-02-24 23:52:26,737 : INFO : PROGRESS: at sentence #200000, processed 4869322 words, keeping 50335 word types\n",
      "2021-02-24 23:52:26,810 : INFO : PROGRESS: at sentence #210000, processed 5116796 words, keeping 51519 word types\n",
      "2021-02-24 23:52:26,883 : INFO : PROGRESS: at sentence #220000, processed 5363441 words, keeping 52584 word types\n",
      "2021-02-24 23:52:26,953 : INFO : PROGRESS: at sentence #230000, processed 5605446 words, keeping 53545 word types\n",
      "2021-02-24 23:52:27,024 : INFO : PROGRESS: at sentence #240000, processed 5858031 words, keeping 54636 word types\n",
      "2021-02-24 23:52:27,094 : INFO : PROGRESS: at sentence #250000, processed 6106814 words, keeping 55519 word types\n",
      "2021-02-24 23:52:27,162 : INFO : PROGRESS: at sentence #260000, processed 6349974 words, keeping 56449 word types\n",
      "2021-02-24 23:52:27,230 : INFO : PROGRESS: at sentence #270000, processed 6599507 words, keeping 57303 word types\n",
      "2021-02-24 23:52:27,298 : INFO : PROGRESS: at sentence #280000, processed 6847326 words, keeping 58291 word types\n",
      "2021-02-24 23:52:27,368 : INFO : PROGRESS: at sentence #290000, processed 7094406 words, keeping 59107 word types\n",
      "2021-02-24 23:52:27,434 : INFO : PROGRESS: at sentence #300000, processed 7333900 words, keeping 59806 word types\n",
      "2021-02-24 23:52:27,501 : INFO : PROGRESS: at sentence #310000, processed 7573528 words, keeping 60596 word types\n",
      "2021-02-24 23:52:27,570 : INFO : PROGRESS: at sentence #320000, processed 7814210 words, keeping 61406 word types\n",
      "2021-02-24 23:52:27,637 : INFO : PROGRESS: at sentence #330000, processed 8049746 words, keeping 62190 word types\n",
      "2021-02-24 23:52:27,703 : INFO : PROGRESS: at sentence #340000, processed 8292627 words, keeping 62888 word types\n",
      "2021-02-24 23:52:27,772 : INFO : PROGRESS: at sentence #350000, processed 8534712 words, keeping 63621 word types\n",
      "2021-02-24 23:52:27,839 : INFO : PROGRESS: at sentence #360000, processed 8773109 words, keeping 64306 word types\n",
      "2021-02-24 23:52:27,906 : INFO : PROGRESS: at sentence #370000, processed 9012958 words, keeping 65018 word types\n",
      "2021-02-24 23:52:27,975 : INFO : PROGRESS: at sentence #380000, processed 9257953 words, keeping 65796 word types\n",
      "2021-02-24 23:52:28,040 : INFO : PROGRESS: at sentence #390000, processed 9496253 words, keeping 66517 word types\n",
      "2021-02-24 23:52:28,107 : INFO : PROGRESS: at sentence #400000, processed 9740505 words, keeping 67231 word types\n",
      "2021-02-24 23:52:28,177 : INFO : PROGRESS: at sentence #410000, processed 9989685 words, keeping 67910 word types\n",
      "2021-02-24 23:52:28,247 : INFO : PROGRESS: at sentence #420000, processed 10237106 words, keeping 68475 word types\n",
      "2021-02-24 23:52:28,313 : INFO : PROGRESS: at sentence #430000, processed 10474311 words, keeping 69142 word types\n",
      "2021-02-24 23:52:28,378 : INFO : PROGRESS: at sentence #440000, processed 10713071 words, keeping 69792 word types\n",
      "2021-02-24 23:52:28,446 : INFO : PROGRESS: at sentence #450000, processed 10957970 words, keeping 70489 word types\n",
      "2021-02-24 23:52:28,514 : INFO : PROGRESS: at sentence #460000, processed 11207579 words, keeping 71211 word types\n",
      "2021-02-24 23:52:28,581 : INFO : PROGRESS: at sentence #470000, processed 11449779 words, keeping 71890 word types\n",
      "2021-02-24 23:52:28,649 : INFO : PROGRESS: at sentence #480000, processed 11689749 words, keeping 72434 word types\n",
      "2021-02-24 23:52:28,718 : INFO : PROGRESS: at sentence #490000, processed 11934496 words, keeping 73045 word types\n",
      "2021-02-24 23:52:28,785 : INFO : PROGRESS: at sentence #500000, processed 12181194 words, keeping 73674 word types\n",
      "2021-02-24 23:52:28,854 : INFO : PROGRESS: at sentence #510000, processed 12428007 words, keeping 74301 word types\n",
      "2021-02-24 23:52:28,921 : INFO : PROGRESS: at sentence #520000, processed 12672579 words, keeping 74849 word types\n",
      "2021-02-24 23:52:28,987 : INFO : PROGRESS: at sentence #530000, processed 12906730 words, keeping 75460 word types\n",
      "2021-02-24 23:52:29,054 : INFO : PROGRESS: at sentence #540000, processed 13149502 words, keeping 76062 word types\n",
      "2021-02-24 23:52:29,122 : INFO : PROGRESS: at sentence #550000, processed 13394957 words, keeping 76643 word types\n",
      "2021-02-24 23:52:29,186 : INFO : PROGRESS: at sentence #560000, processed 13634852 words, keeping 77162 word types\n",
      "2021-02-24 23:52:29,257 : INFO : PROGRESS: at sentence #570000, processed 13872398 words, keeping 77745 word types\n",
      "2021-02-24 23:52:29,325 : INFO : PROGRESS: at sentence #580000, processed 14115417 words, keeping 78305 word types\n",
      "2021-02-24 23:52:29,392 : INFO : PROGRESS: at sentence #590000, processed 14358132 words, keeping 78851 word types\n",
      "2021-02-24 23:52:29,461 : INFO : PROGRESS: at sentence #600000, processed 14601035 words, keeping 79372 word types\n",
      "2021-02-24 23:52:29,527 : INFO : PROGRESS: at sentence #610000, processed 14843626 words, keeping 79802 word types\n",
      "2021-02-24 23:52:29,594 : INFO : PROGRESS: at sentence #620000, processed 15083723 words, keeping 80294 word types\n",
      "2021-02-24 23:52:29,657 : INFO : collected 80809 word types from a corpus of 15310111 raw words and 629513 sentences\n",
      "2021-02-24 23:52:29,658 : INFO : Loading a fresh vocabulary\n",
      "2021-02-24 23:52:29,711 : INFO : effective_min_count=5 retains 32513 unique words (40% of original 80809, drops 48296)\n",
      "2021-02-24 23:52:29,712 : INFO : effective_min_count=5 leaves 15228960 word corpus (99% of original 15310111, drops 81151)\n",
      "2021-02-24 23:52:29,794 : INFO : deleting the raw counts dictionary of 80809 items\n",
      "2021-02-24 23:52:29,796 : INFO : sample=1e-05 downsamples 3221 most-common words\n",
      "2021-02-24 23:52:29,797 : INFO : downsampling leaves estimated 3678700 word corpus (24.2% of prior 15228960)\n",
      "2021-02-24 23:52:29,818 : INFO : constructing a huffman tree from 32513 words\n",
      "2021-02-24 23:52:30,457 : INFO : built huffman tree with maximum node depth 22\n",
      "2021-02-24 23:52:30,508 : INFO : estimated required memory for 32513 words and 100 dimensions: 61774700 bytes\n"
     ]
    },
    {
     "name": "stderr",
     "output_type": "stream",
     "text": [
      "2021-02-24 23:52:30,509 : INFO : resetting layer weights\n",
      "2021-02-24 23:52:30,842 : INFO : training model with 12 workers on 32513 vocabulary and 100 features, using sg=1 hs=1 sample=1e-05 negative=5 window=5\n",
      "2021-02-24 23:52:31,857 : INFO : EPOCH 1 - PROGRESS: at 9.05% examples, 330260 words/s, in_qsize 0, out_qsize 1\n",
      "2021-02-24 23:52:32,878 : INFO : EPOCH 1 - PROGRESS: at 17.97% examples, 326425 words/s, in_qsize 23, out_qsize 0\n",
      "2021-02-24 23:52:33,880 : INFO : EPOCH 1 - PROGRESS: at 26.64% examples, 323408 words/s, in_qsize 0, out_qsize 0\n",
      "2021-02-24 23:52:34,894 : INFO : EPOCH 1 - PROGRESS: at 36.29% examples, 330045 words/s, in_qsize 0, out_qsize 0\n",
      "2021-02-24 23:52:35,895 : INFO : EPOCH 1 - PROGRESS: at 43.84% examples, 320491 words/s, in_qsize 0, out_qsize 2\n",
      "2021-02-24 23:52:36,899 : INFO : EPOCH 1 - PROGRESS: at 53.38% examples, 324778 words/s, in_qsize 1, out_qsize 0\n",
      "2021-02-24 23:52:37,909 : INFO : EPOCH 1 - PROGRESS: at 61.39% examples, 319783 words/s, in_qsize 20, out_qsize 1\n",
      "2021-02-24 23:52:38,913 : INFO : EPOCH 1 - PROGRESS: at 70.54% examples, 321786 words/s, in_qsize 13, out_qsize 1\n",
      "2021-02-24 23:52:39,920 : INFO : EPOCH 1 - PROGRESS: at 78.94% examples, 320713 words/s, in_qsize 0, out_qsize 1\n",
      "2021-02-24 23:52:40,921 : INFO : EPOCH 1 - PROGRESS: at 86.53% examples, 316419 words/s, in_qsize 0, out_qsize 0\n",
      "2021-02-24 23:52:41,928 : INFO : EPOCH 1 - PROGRESS: at 94.77% examples, 315050 words/s, in_qsize 0, out_qsize 0\n",
      "2021-02-24 23:52:42,428 : INFO : worker thread finished; awaiting finish of 11 more threads\n",
      "2021-02-24 23:52:42,429 : INFO : worker thread finished; awaiting finish of 10 more threads\n",
      "2021-02-24 23:52:42,430 : INFO : worker thread finished; awaiting finish of 9 more threads\n",
      "2021-02-24 23:52:42,431 : INFO : worker thread finished; awaiting finish of 8 more threads\n",
      "2021-02-24 23:52:42,433 : INFO : worker thread finished; awaiting finish of 7 more threads\n",
      "2021-02-24 23:52:42,435 : INFO : worker thread finished; awaiting finish of 6 more threads\n",
      "2021-02-24 23:52:42,436 : INFO : worker thread finished; awaiting finish of 5 more threads\n",
      "2021-02-24 23:52:42,437 : INFO : worker thread finished; awaiting finish of 4 more threads\n",
      "2021-02-24 23:52:42,438 : INFO : worker thread finished; awaiting finish of 3 more threads\n",
      "2021-02-24 23:52:42,439 : INFO : worker thread finished; awaiting finish of 2 more threads\n",
      "2021-02-24 23:52:42,454 : INFO : worker thread finished; awaiting finish of 1 more threads\n",
      "2021-02-24 23:52:42,460 : INFO : worker thread finished; awaiting finish of 0 more threads\n",
      "2021-02-24 23:52:42,461 : INFO : EPOCH - 1 : training on 15310111 raw words (3678955 effective words) took 11.6s, 316750 effective words/s\n",
      "2021-02-24 23:52:43,470 : INFO : EPOCH 2 - PROGRESS: at 7.58% examples, 278755 words/s, in_qsize 0, out_qsize 1\n",
      "2021-02-24 23:52:44,473 : INFO : EPOCH 2 - PROGRESS: at 16.98% examples, 312742 words/s, in_qsize 0, out_qsize 1\n",
      "2021-02-24 23:52:45,477 : INFO : EPOCH 2 - PROGRESS: at 25.54% examples, 311972 words/s, in_qsize 0, out_qsize 0\n",
      "2021-02-24 23:52:46,479 : INFO : EPOCH 2 - PROGRESS: at 34.66% examples, 317832 words/s, in_qsize 0, out_qsize 0\n",
      "2021-02-24 23:52:47,480 : INFO : EPOCH 2 - PROGRESS: at 42.29% examples, 311056 words/s, in_qsize 4, out_qsize 1\n",
      "2021-02-24 23:52:48,480 : INFO : EPOCH 2 - PROGRESS: at 51.91% examples, 317954 words/s, in_qsize 0, out_qsize 0\n",
      "2021-02-24 23:52:49,488 : INFO : EPOCH 2 - PROGRESS: at 60.32% examples, 316030 words/s, in_qsize 0, out_qsize 2\n",
      "2021-02-24 23:52:50,490 : INFO : EPOCH 2 - PROGRESS: at 69.92% examples, 320669 words/s, in_qsize 0, out_qsize 1\n",
      "2021-02-24 23:52:51,494 : INFO : EPOCH 2 - PROGRESS: at 78.03% examples, 318520 words/s, in_qsize 0, out_qsize 0\n",
      "2021-02-24 23:52:52,497 : INFO : EPOCH 2 - PROGRESS: at 86.40% examples, 317404 words/s, in_qsize 20, out_qsize 0\n",
      "2021-02-24 23:52:53,501 : INFO : EPOCH 2 - PROGRESS: at 95.09% examples, 317511 words/s, in_qsize 0, out_qsize 1\n",
      "2021-02-24 23:52:54,045 : INFO : worker thread finished; awaiting finish of 11 more threads\n",
      "2021-02-24 23:52:54,050 : INFO : worker thread finished; awaiting finish of 10 more threads\n",
      "2021-02-24 23:52:54,052 : INFO : worker thread finished; awaiting finish of 9 more threads\n",
      "2021-02-24 23:52:54,054 : INFO : worker thread finished; awaiting finish of 8 more threads\n",
      "2021-02-24 23:52:54,057 : INFO : worker thread finished; awaiting finish of 7 more threads\n",
      "2021-02-24 23:52:54,058 : INFO : worker thread finished; awaiting finish of 6 more threads\n",
      "2021-02-24 23:52:54,062 : INFO : worker thread finished; awaiting finish of 5 more threads\n",
      "2021-02-24 23:52:54,072 : INFO : worker thread finished; awaiting finish of 4 more threads\n",
      "2021-02-24 23:52:54,074 : INFO : worker thread finished; awaiting finish of 3 more threads\n",
      "2021-02-24 23:52:54,076 : INFO : worker thread finished; awaiting finish of 2 more threads\n",
      "2021-02-24 23:52:54,080 : INFO : worker thread finished; awaiting finish of 1 more threads\n",
      "2021-02-24 23:52:54,086 : INFO : worker thread finished; awaiting finish of 0 more threads\n",
      "2021-02-24 23:52:54,087 : INFO : EPOCH - 2 : training on 15310111 raw words (3680824 effective words) took 11.6s, 316738 effective words/s\n",
      "2021-02-24 23:52:55,095 : INFO : EPOCH 3 - PROGRESS: at 9.06% examples, 332320 words/s, in_qsize 0, out_qsize 1\n",
      "2021-02-24 23:52:56,134 : INFO : EPOCH 3 - PROGRESS: at 16.72% examples, 301784 words/s, in_qsize 18, out_qsize 5\n",
      "2021-02-24 23:52:57,140 : INFO : EPOCH 3 - PROGRESS: at 25.86% examples, 311872 words/s, in_qsize 2, out_qsize 0\n",
      "2021-02-24 23:52:58,146 : INFO : EPOCH 3 - PROGRESS: at 34.15% examples, 309441 words/s, in_qsize 1, out_qsize 0\n",
      "2021-02-24 23:52:59,162 : INFO : EPOCH 3 - PROGRESS: at 42.66% examples, 310119 words/s, in_qsize 14, out_qsize 1\n",
      "2021-02-24 23:53:00,193 : INFO : EPOCH 3 - PROGRESS: at 50.36% examples, 303994 words/s, in_qsize 23, out_qsize 0\n",
      "2021-02-24 23:53:01,194 : INFO : EPOCH 3 - PROGRESS: at 60.45% examples, 312799 words/s, in_qsize 0, out_qsize 0\n",
      "2021-02-24 23:53:02,194 : INFO : EPOCH 3 - PROGRESS: at 68.51% examples, 311133 words/s, in_qsize 0, out_qsize 0\n",
      "2021-02-24 23:53:03,194 : INFO : EPOCH 3 - PROGRESS: at 77.47% examples, 313220 words/s, in_qsize 3, out_qsize 0\n",
      "2021-02-24 23:53:04,198 : INFO : EPOCH 3 - PROGRESS: at 85.47% examples, 311468 words/s, in_qsize 11, out_qsize 1\n",
      "2021-02-24 23:53:05,288 : INFO : EPOCH 3 - PROGRESS: at 94.78% examples, 311627 words/s, in_qsize 23, out_qsize 0\n",
      "2021-02-24 23:53:05,817 : INFO : worker thread finished; awaiting finish of 11 more threads\n",
      "2021-02-24 23:53:05,820 : INFO : worker thread finished; awaiting finish of 10 more threads\n",
      "2021-02-24 23:53:05,826 : INFO : worker thread finished; awaiting finish of 9 more threads\n",
      "2021-02-24 23:53:05,829 : INFO : worker thread finished; awaiting finish of 8 more threads\n",
      "2021-02-24 23:53:05,834 : INFO : worker thread finished; awaiting finish of 7 more threads\n",
      "2021-02-24 23:53:05,836 : INFO : worker thread finished; awaiting finish of 6 more threads\n",
      "2021-02-24 23:53:05,839 : INFO : worker thread finished; awaiting finish of 5 more threads\n",
      "2021-02-24 23:53:05,846 : INFO : worker thread finished; awaiting finish of 4 more threads\n",
      "2021-02-24 23:53:05,849 : INFO : worker thread finished; awaiting finish of 3 more threads\n",
      "2021-02-24 23:53:05,854 : INFO : worker thread finished; awaiting finish of 2 more threads\n",
      "2021-02-24 23:53:05,858 : INFO : worker thread finished; awaiting finish of 1 more threads\n",
      "2021-02-24 23:53:05,861 : INFO : worker thread finished; awaiting finish of 0 more threads\n",
      "2021-02-24 23:53:05,862 : INFO : EPOCH - 3 : training on 15310111 raw words (3677470 effective words) took 11.8s, 312417 effective words/s\n",
      "2021-02-24 23:53:06,866 : INFO : EPOCH 4 - PROGRESS: at 8.79% examples, 324176 words/s, in_qsize 0, out_qsize 0\n",
      "2021-02-24 23:53:07,881 : INFO : EPOCH 4 - PROGRESS: at 16.85% examples, 308592 words/s, in_qsize 22, out_qsize 1\n",
      "2021-02-24 23:53:08,894 : INFO : EPOCH 4 - PROGRESS: at 25.93% examples, 314727 words/s, in_qsize 6, out_qsize 0\n",
      "2021-02-24 23:53:09,897 : INFO : EPOCH 4 - PROGRESS: at 34.80% examples, 317294 words/s, in_qsize 0, out_qsize 1\n",
      "2021-02-24 23:53:10,905 : INFO : EPOCH 4 - PROGRESS: at 43.84% examples, 320808 words/s, in_qsize 1, out_qsize 0\n"
     ]
    },
    {
     "name": "stderr",
     "output_type": "stream",
     "text": [
      "2021-02-24 23:53:11,915 : INFO : EPOCH 4 - PROGRESS: at 51.99% examples, 316388 words/s, in_qsize 17, out_qsize 7\n",
      "2021-02-24 23:53:12,915 : INFO : EPOCH 4 - PROGRESS: at 61.12% examples, 318811 words/s, in_qsize 0, out_qsize 0\n",
      "2021-02-24 23:53:13,922 : INFO : EPOCH 4 - PROGRESS: at 69.33% examples, 316650 words/s, in_qsize 20, out_qsize 1\n",
      "2021-02-24 23:53:14,925 : INFO : EPOCH 4 - PROGRESS: at 78.93% examples, 321034 words/s, in_qsize 0, out_qsize 0\n",
      "2021-02-24 23:53:15,944 : INFO : EPOCH 4 - PROGRESS: at 87.48% examples, 319760 words/s, in_qsize 22, out_qsize 0\n",
      "2021-02-24 23:53:16,995 : INFO : EPOCH 4 - PROGRESS: at 96.61% examples, 319614 words/s, in_qsize 15, out_qsize 3\n",
      "2021-02-24 23:53:17,254 : INFO : worker thread finished; awaiting finish of 11 more threads\n",
      "2021-02-24 23:53:17,261 : INFO : worker thread finished; awaiting finish of 10 more threads\n",
      "2021-02-24 23:53:17,273 : INFO : worker thread finished; awaiting finish of 9 more threads\n",
      "2021-02-24 23:53:17,275 : INFO : worker thread finished; awaiting finish of 8 more threads\n",
      "2021-02-24 23:53:17,280 : INFO : worker thread finished; awaiting finish of 7 more threads\n",
      "2021-02-24 23:53:17,286 : INFO : worker thread finished; awaiting finish of 6 more threads\n",
      "2021-02-24 23:53:17,288 : INFO : worker thread finished; awaiting finish of 5 more threads\n",
      "2021-02-24 23:53:17,292 : INFO : worker thread finished; awaiting finish of 4 more threads\n",
      "2021-02-24 23:53:17,294 : INFO : worker thread finished; awaiting finish of 3 more threads\n",
      "2021-02-24 23:53:17,295 : INFO : worker thread finished; awaiting finish of 2 more threads\n",
      "2021-02-24 23:53:17,297 : INFO : worker thread finished; awaiting finish of 1 more threads\n",
      "2021-02-24 23:53:17,301 : INFO : worker thread finished; awaiting finish of 0 more threads\n",
      "2021-02-24 23:53:17,303 : INFO : EPOCH - 4 : training on 15310111 raw words (3678417 effective words) took 11.4s, 321639 effective words/s\n",
      "2021-02-24 23:53:18,324 : INFO : EPOCH 5 - PROGRESS: at 9.19% examples, 332618 words/s, in_qsize 0, out_qsize 0\n",
      "2021-02-24 23:53:19,326 : INFO : EPOCH 5 - PROGRESS: at 17.90% examples, 326971 words/s, in_qsize 17, out_qsize 0\n",
      "2021-02-24 23:53:20,330 : INFO : EPOCH 5 - PROGRESS: at 27.41% examples, 332641 words/s, in_qsize 0, out_qsize 1\n",
      "2021-02-24 23:53:21,331 : INFO : EPOCH 5 - PROGRESS: at 35.58% examples, 325171 words/s, in_qsize 23, out_qsize 0\n",
      "2021-02-24 23:53:22,337 : INFO : EPOCH 5 - PROGRESS: at 45.18% examples, 331442 words/s, in_qsize 0, out_qsize 0\n",
      "2021-02-24 23:53:23,337 : INFO : EPOCH 5 - PROGRESS: at 53.69% examples, 327866 words/s, in_qsize 24, out_qsize 0\n",
      "2021-02-24 23:53:24,346 : INFO : EPOCH 5 - PROGRESS: at 63.59% examples, 332551 words/s, in_qsize 0, out_qsize 0\n",
      "2021-02-24 23:53:25,349 : INFO : EPOCH 5 - PROGRESS: at 72.31% examples, 331192 words/s, in_qsize 0, out_qsize 4\n",
      "2021-02-24 23:53:26,352 : INFO : EPOCH 5 - PROGRESS: at 81.31% examples, 331423 words/s, in_qsize 0, out_qsize 1\n",
      "2021-02-24 23:53:27,355 : INFO : EPOCH 5 - PROGRESS: at 90.08% examples, 330144 words/s, in_qsize 16, out_qsize 1\n",
      "2021-02-24 23:53:28,356 : INFO : worker thread finished; awaiting finish of 11 more threads\n",
      "2021-02-24 23:53:28,357 : INFO : worker thread finished; awaiting finish of 10 more threads\n",
      "2021-02-24 23:53:28,359 : INFO : worker thread finished; awaiting finish of 9 more threads\n",
      "2021-02-24 23:53:28,360 : INFO : worker thread finished; awaiting finish of 8 more threads\n",
      "2021-02-24 23:53:28,363 : INFO : worker thread finished; awaiting finish of 7 more threads\n",
      "2021-02-24 23:53:28,364 : INFO : worker thread finished; awaiting finish of 6 more threads\n",
      "2021-02-24 23:53:28,366 : INFO : EPOCH 5 - PROGRESS: at 99.74% examples, 331755 words/s, in_qsize 5, out_qsize 1\n",
      "2021-02-24 23:53:28,368 : INFO : worker thread finished; awaiting finish of 5 more threads\n",
      "2021-02-24 23:53:28,369 : INFO : worker thread finished; awaiting finish of 4 more threads\n",
      "2021-02-24 23:53:28,370 : INFO : worker thread finished; awaiting finish of 3 more threads\n",
      "2021-02-24 23:53:28,372 : INFO : worker thread finished; awaiting finish of 2 more threads\n",
      "2021-02-24 23:53:28,381 : INFO : worker thread finished; awaiting finish of 1 more threads\n",
      "2021-02-24 23:53:28,392 : INFO : worker thread finished; awaiting finish of 0 more threads\n",
      "2021-02-24 23:53:28,394 : INFO : EPOCH - 5 : training on 15310111 raw words (3678618 effective words) took 11.1s, 331810 effective words/s\n",
      "2021-02-24 23:53:29,403 : INFO : EPOCH 6 - PROGRESS: at 8.54% examples, 314960 words/s, in_qsize 0, out_qsize 0\n",
      "2021-02-24 23:53:30,425 : INFO : EPOCH 6 - PROGRESS: at 16.65% examples, 303499 words/s, in_qsize 23, out_qsize 0\n",
      "2021-02-24 23:53:31,428 : INFO : EPOCH 6 - PROGRESS: at 26.26% examples, 318959 words/s, in_qsize 2, out_qsize 0\n",
      "2021-02-24 23:53:32,431 : INFO : EPOCH 6 - PROGRESS: at 35.05% examples, 320316 words/s, in_qsize 15, out_qsize 0\n",
      "2021-02-24 23:53:33,433 : INFO : EPOCH 6 - PROGRESS: at 43.27% examples, 317173 words/s, in_qsize 23, out_qsize 0\n",
      "2021-02-24 23:53:34,447 : INFO : EPOCH 6 - PROGRESS: at 52.77% examples, 321578 words/s, in_qsize 18, out_qsize 1\n",
      "2021-02-24 23:53:35,466 : INFO : EPOCH 6 - PROGRESS: at 62.49% examples, 325663 words/s, in_qsize 0, out_qsize 1\n",
      "2021-02-24 23:53:36,489 : INFO : EPOCH 6 - PROGRESS: at 71.61% examples, 326040 words/s, in_qsize 4, out_qsize 0\n",
      "2021-02-24 23:53:37,502 : INFO : EPOCH 6 - PROGRESS: at 80.58% examples, 326580 words/s, in_qsize 0, out_qsize 1\n",
      "2021-02-24 23:53:38,509 : INFO : EPOCH 6 - PROGRESS: at 89.59% examples, 326696 words/s, in_qsize 23, out_qsize 0\n",
      "2021-02-24 23:53:39,515 : INFO : EPOCH 6 - PROGRESS: at 98.79% examples, 327178 words/s, in_qsize 17, out_qsize 2\n",
      "2021-02-24 23:53:39,549 : INFO : worker thread finished; awaiting finish of 11 more threads\n",
      "2021-02-24 23:53:39,559 : INFO : worker thread finished; awaiting finish of 10 more threads\n",
      "2021-02-24 23:53:39,561 : INFO : worker thread finished; awaiting finish of 9 more threads\n",
      "2021-02-24 23:53:39,562 : INFO : worker thread finished; awaiting finish of 8 more threads\n",
      "2021-02-24 23:53:39,567 : INFO : worker thread finished; awaiting finish of 7 more threads\n",
      "2021-02-24 23:53:39,570 : INFO : worker thread finished; awaiting finish of 6 more threads\n",
      "2021-02-24 23:53:39,572 : INFO : worker thread finished; awaiting finish of 5 more threads\n",
      "2021-02-24 23:53:39,578 : INFO : worker thread finished; awaiting finish of 4 more threads\n",
      "2021-02-24 23:53:39,580 : INFO : worker thread finished; awaiting finish of 3 more threads\n",
      "2021-02-24 23:53:39,582 : INFO : worker thread finished; awaiting finish of 2 more threads\n",
      "2021-02-24 23:53:39,587 : INFO : worker thread finished; awaiting finish of 1 more threads\n",
      "2021-02-24 23:53:39,596 : INFO : worker thread finished; awaiting finish of 0 more threads\n",
      "2021-02-24 23:53:39,597 : INFO : EPOCH - 6 : training on 15310111 raw words (3680795 effective words) took 11.2s, 328717 effective words/s\n",
      "2021-02-24 23:53:40,611 : INFO : EPOCH 7 - PROGRESS: at 7.90% examples, 289511 words/s, in_qsize 12, out_qsize 0\n",
      "2021-02-24 23:53:41,616 : INFO : EPOCH 7 - PROGRESS: at 17.59% examples, 322434 words/s, in_qsize 0, out_qsize 0\n",
      "2021-02-24 23:53:42,616 : INFO : EPOCH 7 - PROGRESS: at 26.32% examples, 321532 words/s, in_qsize 0, out_qsize 0\n",
      "2021-02-24 23:53:43,637 : INFO : EPOCH 7 - PROGRESS: at 35.06% examples, 320101 words/s, in_qsize 3, out_qsize 1\n",
      "2021-02-24 23:53:44,639 : INFO : EPOCH 7 - PROGRESS: at 43.38% examples, 318105 words/s, in_qsize 0, out_qsize 1\n",
      "2021-02-24 23:53:45,646 : INFO : EPOCH 7 - PROGRESS: at 51.85% examples, 316438 words/s, in_qsize 19, out_qsize 0\n",
      "2021-02-24 23:53:46,654 : INFO : EPOCH 7 - PROGRESS: at 60.18% examples, 314244 words/s, in_qsize 7, out_qsize 2\n",
      "2021-02-24 23:53:47,661 : INFO : EPOCH 7 - PROGRESS: at 68.78% examples, 314084 words/s, in_qsize 18, out_qsize 1\n",
      "2021-02-24 23:53:48,663 : INFO : EPOCH 7 - PROGRESS: at 78.36% examples, 318807 words/s, in_qsize 0, out_qsize 0\n",
      "2021-02-24 23:53:49,665 : INFO : EPOCH 7 - PROGRESS: at 87.35% examples, 319979 words/s, in_qsize 0, out_qsize 1\n",
      "2021-02-24 23:53:50,667 : INFO : EPOCH 7 - PROGRESS: at 96.21% examples, 320311 words/s, in_qsize 15, out_qsize 3\n",
      "2021-02-24 23:53:50,966 : INFO : worker thread finished; awaiting finish of 11 more threads\n"
     ]
    },
    {
     "name": "stderr",
     "output_type": "stream",
     "text": [
      "2021-02-24 23:53:50,971 : INFO : worker thread finished; awaiting finish of 10 more threads\n",
      "2021-02-24 23:53:50,972 : INFO : worker thread finished; awaiting finish of 9 more threads\n",
      "2021-02-24 23:53:50,978 : INFO : worker thread finished; awaiting finish of 8 more threads\n",
      "2021-02-24 23:53:50,984 : INFO : worker thread finished; awaiting finish of 7 more threads\n",
      "2021-02-24 23:53:50,991 : INFO : worker thread finished; awaiting finish of 6 more threads\n",
      "2021-02-24 23:53:50,993 : INFO : worker thread finished; awaiting finish of 5 more threads\n",
      "2021-02-24 23:53:50,995 : INFO : worker thread finished; awaiting finish of 4 more threads\n",
      "2021-02-24 23:53:51,001 : INFO : worker thread finished; awaiting finish of 3 more threads\n",
      "2021-02-24 23:53:51,003 : INFO : worker thread finished; awaiting finish of 2 more threads\n",
      "2021-02-24 23:53:51,005 : INFO : worker thread finished; awaiting finish of 1 more threads\n",
      "2021-02-24 23:53:51,008 : INFO : worker thread finished; awaiting finish of 0 more threads\n",
      "2021-02-24 23:53:51,010 : INFO : EPOCH - 7 : training on 15310111 raw words (3679554 effective words) took 11.4s, 322571 effective words/s\n",
      "2021-02-24 23:53:52,018 : INFO : EPOCH 8 - PROGRESS: at 7.90% examples, 290754 words/s, in_qsize 23, out_qsize 0\n",
      "2021-02-24 23:53:53,021 : INFO : EPOCH 8 - PROGRESS: at 17.72% examples, 325826 words/s, in_qsize 0, out_qsize 0\n",
      "2021-02-24 23:53:54,027 : INFO : EPOCH 8 - PROGRESS: at 26.53% examples, 323876 words/s, in_qsize 3, out_qsize 1\n",
      "2021-02-24 23:53:55,035 : INFO : EPOCH 8 - PROGRESS: at 34.94% examples, 319731 words/s, in_qsize 19, out_qsize 2\n",
      "2021-02-24 23:53:56,036 : INFO : EPOCH 8 - PROGRESS: at 44.28% examples, 325573 words/s, in_qsize 0, out_qsize 0\n",
      "2021-02-24 23:53:57,042 : INFO : EPOCH 8 - PROGRESS: at 52.84% examples, 322958 words/s, in_qsize 23, out_qsize 0\n",
      "2021-02-24 23:53:58,048 : INFO : EPOCH 8 - PROGRESS: at 62.82% examples, 328753 words/s, in_qsize 0, out_qsize 1\n",
      "2021-02-24 23:53:59,066 : INFO : EPOCH 8 - PROGRESS: at 72.03% examples, 329525 words/s, in_qsize 3, out_qsize 1\n",
      "2021-02-24 23:54:00,075 : INFO : EPOCH 8 - PROGRESS: at 80.64% examples, 328192 words/s, in_qsize 0, out_qsize 0\n",
      "2021-02-24 23:54:01,076 : INFO : EPOCH 8 - PROGRESS: at 89.06% examples, 326166 words/s, in_qsize 10, out_qsize 2\n",
      "2021-02-24 23:54:02,084 : INFO : EPOCH 8 - PROGRESS: at 98.06% examples, 326145 words/s, in_qsize 5, out_qsize 1\n",
      "2021-02-24 23:54:02,216 : INFO : worker thread finished; awaiting finish of 11 more threads\n",
      "2021-02-24 23:54:02,217 : INFO : worker thread finished; awaiting finish of 10 more threads\n",
      "2021-02-24 23:54:02,219 : INFO : worker thread finished; awaiting finish of 9 more threads\n",
      "2021-02-24 23:54:02,221 : INFO : worker thread finished; awaiting finish of 8 more threads\n",
      "2021-02-24 23:54:02,222 : INFO : worker thread finished; awaiting finish of 7 more threads\n",
      "2021-02-24 23:54:02,223 : INFO : worker thread finished; awaiting finish of 6 more threads\n",
      "2021-02-24 23:54:02,225 : INFO : worker thread finished; awaiting finish of 5 more threads\n",
      "2021-02-24 23:54:02,227 : INFO : worker thread finished; awaiting finish of 4 more threads\n",
      "2021-02-24 23:54:02,229 : INFO : worker thread finished; awaiting finish of 3 more threads\n",
      "2021-02-24 23:54:02,231 : INFO : worker thread finished; awaiting finish of 2 more threads\n",
      "2021-02-24 23:54:02,244 : INFO : worker thread finished; awaiting finish of 1 more threads\n",
      "2021-02-24 23:54:02,246 : INFO : worker thread finished; awaiting finish of 0 more threads\n",
      "2021-02-24 23:54:02,247 : INFO : EPOCH - 8 : training on 15310111 raw words (3679222 effective words) took 11.2s, 327534 effective words/s\n",
      "2021-02-24 23:54:03,253 : INFO : EPOCH 9 - PROGRESS: at 7.77% examples, 286440 words/s, in_qsize 3, out_qsize 1\n",
      "2021-02-24 23:54:04,265 : INFO : EPOCH 9 - PROGRESS: at 17.39% examples, 318386 words/s, in_qsize 0, out_qsize 0\n",
      "2021-02-24 23:54:05,265 : INFO : EPOCH 9 - PROGRESS: at 26.13% examples, 319009 words/s, in_qsize 17, out_qsize 0\n",
      "2021-02-24 23:54:06,270 : INFO : EPOCH 9 - PROGRESS: at 35.06% examples, 320978 words/s, in_qsize 10, out_qsize 0\n",
      "2021-02-24 23:54:07,293 : INFO : EPOCH 9 - PROGRESS: at 43.44% examples, 317845 words/s, in_qsize 24, out_qsize 0\n",
      "2021-02-24 23:54:08,314 : INFO : EPOCH 9 - PROGRESS: at 52.58% examples, 319304 words/s, in_qsize 20, out_qsize 4\n",
      "2021-02-24 23:54:09,317 : INFO : EPOCH 9 - PROGRESS: at 62.27% examples, 324370 words/s, in_qsize 0, out_qsize 1\n",
      "2021-02-24 23:54:10,326 : INFO : EPOCH 9 - PROGRESS: at 70.59% examples, 321600 words/s, in_qsize 23, out_qsize 0\n",
      "2021-02-24 23:54:11,327 : INFO : EPOCH 9 - PROGRESS: at 80.27% examples, 326065 words/s, in_qsize 0, out_qsize 0\n",
      "2021-02-24 23:54:12,332 : INFO : EPOCH 9 - PROGRESS: at 89.54% examples, 327195 words/s, in_qsize 1, out_qsize 0\n",
      "2021-02-24 23:54:13,338 : INFO : EPOCH 9 - PROGRESS: at 98.66% examples, 327473 words/s, in_qsize 3, out_qsize 0\n",
      "2021-02-24 23:54:13,434 : INFO : worker thread finished; awaiting finish of 11 more threads\n",
      "2021-02-24 23:54:13,437 : INFO : worker thread finished; awaiting finish of 10 more threads\n",
      "2021-02-24 23:54:13,438 : INFO : worker thread finished; awaiting finish of 9 more threads\n",
      "2021-02-24 23:54:13,440 : INFO : worker thread finished; awaiting finish of 8 more threads\n",
      "2021-02-24 23:54:13,441 : INFO : worker thread finished; awaiting finish of 7 more threads\n",
      "2021-02-24 23:54:13,443 : INFO : worker thread finished; awaiting finish of 6 more threads\n",
      "2021-02-24 23:54:13,445 : INFO : worker thread finished; awaiting finish of 5 more threads\n",
      "2021-02-24 23:54:13,446 : INFO : worker thread finished; awaiting finish of 4 more threads\n",
      "2021-02-24 23:54:13,447 : INFO : worker thread finished; awaiting finish of 3 more threads\n",
      "2021-02-24 23:54:13,448 : INFO : worker thread finished; awaiting finish of 2 more threads\n",
      "2021-02-24 23:54:13,458 : INFO : worker thread finished; awaiting finish of 1 more threads\n",
      "2021-02-24 23:54:13,463 : INFO : worker thread finished; awaiting finish of 0 more threads\n",
      "2021-02-24 23:54:13,464 : INFO : EPOCH - 9 : training on 15310111 raw words (3678779 effective words) took 11.2s, 328121 effective words/s\n",
      "2021-02-24 23:54:14,474 : INFO : EPOCH 10 - PROGRESS: at 7.96% examples, 293430 words/s, in_qsize 7, out_qsize 1\n",
      "2021-02-24 23:54:15,487 : INFO : EPOCH 10 - PROGRESS: at 17.04% examples, 312908 words/s, in_qsize 16, out_qsize 0\n",
      "2021-02-24 23:54:16,491 : INFO : EPOCH 10 - PROGRESS: at 26.53% examples, 323326 words/s, in_qsize 0, out_qsize 0\n",
      "2021-02-24 23:54:17,508 : INFO : EPOCH 10 - PROGRESS: at 35.26% examples, 321492 words/s, in_qsize 0, out_qsize 1\n",
      "2021-02-24 23:54:18,510 : INFO : EPOCH 10 - PROGRESS: at 43.12% examples, 315773 words/s, in_qsize 21, out_qsize 2\n",
      "2021-02-24 23:54:19,515 : INFO : EPOCH 10 - PROGRESS: at 52.44% examples, 319553 words/s, in_qsize 23, out_qsize 0\n",
      "2021-02-24 23:54:20,523 : INFO : EPOCH 10 - PROGRESS: at 62.21% examples, 324556 words/s, in_qsize 0, out_qsize 0\n",
      "2021-02-24 23:54:21,531 : INFO : EPOCH 10 - PROGRESS: at 70.65% examples, 322463 words/s, in_qsize 23, out_qsize 0\n",
      "2021-02-24 23:54:22,541 : INFO : EPOCH 10 - PROGRESS: at 79.83% examples, 324436 words/s, in_qsize 2, out_qsize 0\n",
      "2021-02-24 23:54:23,546 : INFO : EPOCH 10 - PROGRESS: at 89.33% examples, 326658 words/s, in_qsize 0, out_qsize 0\n",
      "2021-02-24 23:54:24,551 : INFO : EPOCH 10 - PROGRESS: at 98.20% examples, 326147 words/s, in_qsize 14, out_qsize 1\n",
      "2021-02-24 23:54:24,645 : INFO : worker thread finished; awaiting finish of 11 more threads\n",
      "2021-02-24 23:54:24,649 : INFO : worker thread finished; awaiting finish of 10 more threads\n",
      "2021-02-24 23:54:24,650 : INFO : worker thread finished; awaiting finish of 9 more threads\n",
      "2021-02-24 23:54:24,651 : INFO : worker thread finished; awaiting finish of 8 more threads\n",
      "2021-02-24 23:54:24,661 : INFO : worker thread finished; awaiting finish of 7 more threads\n",
      "2021-02-24 23:54:24,664 : INFO : worker thread finished; awaiting finish of 6 more threads\n",
      "2021-02-24 23:54:24,665 : INFO : worker thread finished; awaiting finish of 5 more threads\n",
      "2021-02-24 23:54:24,671 : INFO : worker thread finished; awaiting finish of 4 more threads\n",
      "2021-02-24 23:54:24,672 : INFO : worker thread finished; awaiting finish of 3 more threads\n",
      "2021-02-24 23:54:24,674 : INFO : worker thread finished; awaiting finish of 2 more threads\n"
     ]
    },
    {
     "name": "stderr",
     "output_type": "stream",
     "text": [
      "2021-02-24 23:54:24,678 : INFO : worker thread finished; awaiting finish of 1 more threads\n",
      "2021-02-24 23:54:24,684 : INFO : worker thread finished; awaiting finish of 0 more threads\n",
      "2021-02-24 23:54:24,685 : INFO : EPOCH - 10 : training on 15310111 raw words (3679172 effective words) took 11.2s, 328038 effective words/s\n",
      "2021-02-24 23:54:24,686 : INFO : training on a 153101110 raw words (36791806 effective words) took 113.8s, 323177 effective words/s\n",
      "2021-02-24 23:54:24,688 : INFO : saving Word2Vec object under dados/experimento_6/w2v_jur.model, separately None\n",
      "2021-02-24 23:54:24,689 : INFO : not storing attribute vectors_norm\n",
      "2021-02-24 23:54:24,690 : INFO : not storing attribute cum_table\n",
      "2021-02-24 23:54:25,651 : INFO : saved dados/experimento_6/w2v_jur.model\n"
     ]
    },
    {
     "name": "stdout",
     "output_type": "stream",
     "text": [
      "treinando modelo word2vec\n"
     ]
    },
    {
     "name": "stderr",
     "output_type": "stream",
     "text": [
      "2021-02-24 23:54:25,653 : INFO : resetting layer weights\n",
      "2021-02-24 23:54:30,701 : INFO : collecting all words and their counts\n",
      "2021-02-24 23:54:30,702 : INFO : PROGRESS: at sentence #0, processed 0 words, keeping 0 word types\n",
      "2021-02-24 23:54:30,771 : INFO : PROGRESS: at sentence #10000, processed 244468 words, keeping 14081 word types\n",
      "2021-02-24 23:54:30,839 : INFO : PROGRESS: at sentence #20000, processed 487444 words, keeping 18897 word types\n",
      "2021-02-24 23:54:30,910 : INFO : PROGRESS: at sentence #30000, processed 731756 words, keeping 22527 word types\n",
      "2021-02-24 23:54:30,979 : INFO : PROGRESS: at sentence #40000, processed 975981 words, keeping 25669 word types\n",
      "2021-02-24 23:54:31,049 : INFO : PROGRESS: at sentence #50000, processed 1214486 words, keeping 28293 word types\n",
      "2021-02-24 23:54:31,118 : INFO : PROGRESS: at sentence #60000, processed 1458891 words, keeping 30458 word types\n",
      "2021-02-24 23:54:31,184 : INFO : PROGRESS: at sentence #70000, processed 1703035 words, keeping 32389 word types\n",
      "2021-02-24 23:54:31,256 : INFO : PROGRESS: at sentence #80000, processed 1957954 words, keeping 34530 word types\n",
      "2021-02-24 23:54:31,323 : INFO : PROGRESS: at sentence #90000, processed 2197443 words, keeping 36305 word types\n",
      "2021-02-24 23:54:31,391 : INFO : PROGRESS: at sentence #100000, processed 2446193 words, keeping 37987 word types\n",
      "2021-02-24 23:54:31,461 : INFO : PROGRESS: at sentence #110000, processed 2687413 words, keeping 39429 word types\n",
      "2021-02-24 23:54:31,532 : INFO : PROGRESS: at sentence #120000, processed 2932407 words, keeping 40768 word types\n",
      "2021-02-24 23:54:31,599 : INFO : PROGRESS: at sentence #130000, processed 3179089 words, keeping 42189 word types\n",
      "2021-02-24 23:54:31,668 : INFO : PROGRESS: at sentence #140000, processed 3418254 words, keeping 43329 word types\n",
      "2021-02-24 23:54:31,738 : INFO : PROGRESS: at sentence #150000, processed 3662078 words, keeping 44736 word types\n",
      "2021-02-24 23:54:31,807 : INFO : PROGRESS: at sentence #160000, processed 3904678 words, keeping 45868 word types\n",
      "2021-02-24 23:54:31,874 : INFO : PROGRESS: at sentence #170000, processed 4142306 words, keeping 47093 word types\n",
      "2021-02-24 23:54:31,943 : INFO : PROGRESS: at sentence #180000, processed 4385259 words, keeping 48219 word types\n",
      "2021-02-24 23:54:32,012 : INFO : PROGRESS: at sentence #190000, processed 4623668 words, keeping 49324 word types\n",
      "2021-02-24 23:54:32,081 : INFO : PROGRESS: at sentence #200000, processed 4869322 words, keeping 50335 word types\n",
      "2021-02-24 23:54:32,152 : INFO : PROGRESS: at sentence #210000, processed 5116796 words, keeping 51519 word types\n",
      "2021-02-24 23:54:32,230 : INFO : PROGRESS: at sentence #220000, processed 5363441 words, keeping 52584 word types\n",
      "2021-02-24 23:54:32,304 : INFO : PROGRESS: at sentence #230000, processed 5605446 words, keeping 53545 word types\n",
      "2021-02-24 23:54:32,382 : INFO : PROGRESS: at sentence #240000, processed 5858031 words, keeping 54636 word types\n",
      "2021-02-24 23:54:32,456 : INFO : PROGRESS: at sentence #250000, processed 6106814 words, keeping 55519 word types\n",
      "2021-02-24 23:54:32,530 : INFO : PROGRESS: at sentence #260000, processed 6349974 words, keeping 56449 word types\n",
      "2021-02-24 23:54:32,606 : INFO : PROGRESS: at sentence #270000, processed 6599507 words, keeping 57303 word types\n",
      "2021-02-24 23:54:32,685 : INFO : PROGRESS: at sentence #280000, processed 6847326 words, keeping 58291 word types\n",
      "2021-02-24 23:54:32,755 : INFO : PROGRESS: at sentence #290000, processed 7094406 words, keeping 59107 word types\n",
      "2021-02-24 23:54:32,825 : INFO : PROGRESS: at sentence #300000, processed 7333900 words, keeping 59806 word types\n",
      "2021-02-24 23:54:32,894 : INFO : PROGRESS: at sentence #310000, processed 7573528 words, keeping 60596 word types\n",
      "2021-02-24 23:54:32,962 : INFO : PROGRESS: at sentence #320000, processed 7814210 words, keeping 61406 word types\n",
      "2021-02-24 23:54:33,030 : INFO : PROGRESS: at sentence #330000, processed 8049746 words, keeping 62190 word types\n",
      "2021-02-24 23:54:33,097 : INFO : PROGRESS: at sentence #340000, processed 8292627 words, keeping 62888 word types\n",
      "2021-02-24 23:54:33,166 : INFO : PROGRESS: at sentence #350000, processed 8534712 words, keeping 63621 word types\n",
      "2021-02-24 23:54:33,235 : INFO : PROGRESS: at sentence #360000, processed 8773109 words, keeping 64306 word types\n",
      "2021-02-24 23:54:33,305 : INFO : PROGRESS: at sentence #370000, processed 9012958 words, keeping 65018 word types\n",
      "2021-02-24 23:54:33,374 : INFO : PROGRESS: at sentence #380000, processed 9257953 words, keeping 65796 word types\n",
      "2021-02-24 23:54:33,440 : INFO : PROGRESS: at sentence #390000, processed 9496253 words, keeping 66517 word types\n",
      "2021-02-24 23:54:33,512 : INFO : PROGRESS: at sentence #400000, processed 9740505 words, keeping 67231 word types\n",
      "2021-02-24 23:54:33,582 : INFO : PROGRESS: at sentence #410000, processed 9989685 words, keeping 67910 word types\n",
      "2021-02-24 23:54:33,656 : INFO : PROGRESS: at sentence #420000, processed 10237106 words, keeping 68475 word types\n",
      "2021-02-24 23:54:33,726 : INFO : PROGRESS: at sentence #430000, processed 10474311 words, keeping 69142 word types\n",
      "2021-02-24 23:54:33,796 : INFO : PROGRESS: at sentence #440000, processed 10713071 words, keeping 69792 word types\n",
      "2021-02-24 23:54:33,868 : INFO : PROGRESS: at sentence #450000, processed 10957970 words, keeping 70489 word types\n",
      "2021-02-24 23:54:33,939 : INFO : PROGRESS: at sentence #460000, processed 11207579 words, keeping 71211 word types\n",
      "2021-02-24 23:54:34,007 : INFO : PROGRESS: at sentence #470000, processed 11449779 words, keeping 71890 word types\n",
      "2021-02-24 23:54:34,075 : INFO : PROGRESS: at sentence #480000, processed 11689749 words, keeping 72434 word types\n",
      "2021-02-24 23:54:34,144 : INFO : PROGRESS: at sentence #490000, processed 11934496 words, keeping 73045 word types\n",
      "2021-02-24 23:54:34,214 : INFO : PROGRESS: at sentence #500000, processed 12181194 words, keeping 73674 word types\n",
      "2021-02-24 23:54:34,284 : INFO : PROGRESS: at sentence #510000, processed 12428007 words, keeping 74301 word types\n",
      "2021-02-24 23:54:34,354 : INFO : PROGRESS: at sentence #520000, processed 12672579 words, keeping 74849 word types\n",
      "2021-02-24 23:54:34,421 : INFO : PROGRESS: at sentence #530000, processed 12906730 words, keeping 75460 word types\n",
      "2021-02-24 23:54:34,490 : INFO : PROGRESS: at sentence #540000, processed 13149502 words, keeping 76062 word types\n",
      "2021-02-24 23:54:34,561 : INFO : PROGRESS: at sentence #550000, processed 13394957 words, keeping 76643 word types\n",
      "2021-02-24 23:54:34,629 : INFO : PROGRESS: at sentence #560000, processed 13634852 words, keeping 77162 word types\n",
      "2021-02-24 23:54:34,696 : INFO : PROGRESS: at sentence #570000, processed 13872398 words, keeping 77745 word types\n",
      "2021-02-24 23:54:34,769 : INFO : PROGRESS: at sentence #580000, processed 14115417 words, keeping 78305 word types\n",
      "2021-02-24 23:54:34,845 : INFO : PROGRESS: at sentence #590000, processed 14358132 words, keeping 78851 word types\n",
      "2021-02-24 23:54:34,915 : INFO : PROGRESS: at sentence #600000, processed 14601035 words, keeping 79372 word types\n",
      "2021-02-24 23:54:34,984 : INFO : PROGRESS: at sentence #610000, processed 14843626 words, keeping 79802 word types\n",
      "2021-02-24 23:54:35,052 : INFO : PROGRESS: at sentence #620000, processed 15083723 words, keeping 80294 word types\n",
      "2021-02-24 23:54:35,117 : INFO : collected 80809 word types from a corpus of 15310111 raw words and 629513 sentences\n",
      "2021-02-24 23:54:35,118 : INFO : Loading a fresh vocabulary\n",
      "2021-02-24 23:54:35,212 : INFO : effective_min_count=5 retains 32513 unique words (40% of original 80809, drops 48296)\n",
      "2021-02-24 23:54:35,213 : INFO : effective_min_count=5 leaves 15228960 word corpus (99% of original 15310111, drops 81151)\n",
      "2021-02-24 23:54:35,288 : INFO : deleting the raw counts dictionary of 80809 items\n",
      "2021-02-24 23:54:35,291 : INFO : sample=0.001 downsamples 37 most-common words\n",
      "2021-02-24 23:54:35,292 : INFO : downsampling leaves estimated 11021910 word corpus (72.4% of prior 15228960)\n",
      "2021-02-24 23:54:35,313 : INFO : constructing a huffman tree from 32513 words\n",
      "2021-02-24 23:54:36,014 : INFO : built huffman tree with maximum node depth 22\n",
      "2021-02-24 23:54:36,361 : INFO : estimated required memory for 32513 words, 137654 buckets and 100 dimensions: 125599004 bytes\n"
     ]
    },
    {
     "name": "stderr",
     "output_type": "stream",
     "text": [
      "2021-02-24 23:54:36,365 : INFO : resetting layer weights\n",
      "2021-02-24 23:54:39,812 : INFO : training model with 12 workers on 32513 vocabulary and 100 features, using sg=1 hs=1 sample=0.001 negative=5 window=5\n",
      "2021-02-24 23:55:31,366 : INFO : EPOCH 1 - PROGRESS: at 8.38% words, 17929 words/s, in_qsize -1, out_qsize 1\n",
      "2021-02-24 23:55:31,368 : INFO : worker thread finished; awaiting finish of 11 more threads\n",
      "2021-02-24 23:55:31,375 : INFO : worker thread finished; awaiting finish of 10 more threads\n",
      "2021-02-24 23:55:31,607 : INFO : worker thread finished; awaiting finish of 9 more threads\n",
      "2021-02-24 23:55:31,615 : INFO : worker thread finished; awaiting finish of 8 more threads\n",
      "2021-02-24 23:55:32,040 : INFO : worker thread finished; awaiting finish of 7 more threads\n",
      "2021-02-24 23:55:32,091 : INFO : worker thread finished; awaiting finish of 6 more threads\n",
      "2021-02-24 23:55:32,149 : INFO : worker thread finished; awaiting finish of 5 more threads\n",
      "2021-02-24 23:55:32,335 : INFO : worker thread finished; awaiting finish of 4 more threads\n",
      "2021-02-24 23:55:32,518 : INFO : EPOCH 1 - PROGRESS: at 75.37% words, 157725 words/s, in_qsize -1, out_qsize 1\n",
      "2021-02-24 23:55:32,519 : INFO : worker thread finished; awaiting finish of 3 more threads\n",
      "2021-02-24 23:55:32,599 : INFO : worker thread finished; awaiting finish of 2 more threads\n",
      "2021-02-24 23:55:32,685 : INFO : worker thread finished; awaiting finish of 1 more threads\n",
      "2021-02-24 23:55:32,735 : INFO : worker thread finished; awaiting finish of 0 more threads\n",
      "2021-02-24 23:55:32,736 : INFO : EPOCH - 1 : training on 15388042 raw words (11079013 effective words) took 52.9s, 209512 effective words/s\n",
      "2021-02-24 23:56:23,615 : INFO : EPOCH 2 - PROGRESS: at 8.38% words, 18149 words/s, in_qsize -1, out_qsize 1\n",
      "2021-02-24 23:56:23,617 : INFO : worker thread finished; awaiting finish of 11 more threads\n",
      "2021-02-24 23:56:23,620 : INFO : worker thread finished; awaiting finish of 10 more threads\n",
      "2021-02-24 23:56:23,678 : INFO : worker thread finished; awaiting finish of 9 more threads\n",
      "2021-02-24 23:56:23,790 : INFO : worker thread finished; awaiting finish of 8 more threads\n",
      "2021-02-24 23:56:24,202 : INFO : worker thread finished; awaiting finish of 7 more threads\n",
      "2021-02-24 23:56:24,370 : INFO : worker thread finished; awaiting finish of 6 more threads\n",
      "2021-02-24 23:56:24,520 : INFO : worker thread finished; awaiting finish of 5 more threads\n",
      "2021-02-24 23:56:24,590 : INFO : worker thread finished; awaiting finish of 4 more threads\n",
      "2021-02-24 23:56:24,760 : INFO : EPOCH 2 - PROGRESS: at 75.37% words, 159758 words/s, in_qsize -1, out_qsize 1\n",
      "2021-02-24 23:56:24,761 : INFO : worker thread finished; awaiting finish of 3 more threads\n",
      "2021-02-24 23:56:24,768 : INFO : worker thread finished; awaiting finish of 2 more threads\n",
      "2021-02-24 23:56:24,839 : INFO : worker thread finished; awaiting finish of 1 more threads\n",
      "2021-02-24 23:56:24,883 : INFO : worker thread finished; awaiting finish of 0 more threads\n",
      "2021-02-24 23:56:24,884 : INFO : EPOCH - 2 : training on 15388042 raw words (11077400 effective words) took 52.1s, 212597 effective words/s\n",
      "2021-02-24 23:57:15,698 : INFO : EPOCH 3 - PROGRESS: at 8.38% words, 18177 words/s, in_qsize -1, out_qsize 1\n",
      "2021-02-24 23:57:15,699 : INFO : worker thread finished; awaiting finish of 11 more threads\n",
      "2021-02-24 23:57:15,749 : INFO : worker thread finished; awaiting finish of 10 more threads\n",
      "2021-02-24 23:57:15,765 : INFO : worker thread finished; awaiting finish of 9 more threads\n",
      "2021-02-24 23:57:15,792 : INFO : worker thread finished; awaiting finish of 8 more threads\n",
      "2021-02-24 23:57:16,292 : INFO : worker thread finished; awaiting finish of 7 more threads\n",
      "2021-02-24 23:57:16,355 : INFO : worker thread finished; awaiting finish of 6 more threads\n",
      "2021-02-24 23:57:16,446 : INFO : worker thread finished; awaiting finish of 5 more threads\n",
      "2021-02-24 23:57:16,573 : INFO : worker thread finished; awaiting finish of 4 more threads\n",
      "2021-02-24 23:57:16,804 : INFO : EPOCH 3 - PROGRESS: at 75.43% words, 160223 words/s, in_qsize -1, out_qsize 1\n",
      "2021-02-24 23:57:16,805 : INFO : worker thread finished; awaiting finish of 3 more threads\n",
      "2021-02-24 23:57:16,807 : INFO : worker thread finished; awaiting finish of 2 more threads\n",
      "2021-02-24 23:57:16,831 : INFO : worker thread finished; awaiting finish of 1 more threads\n",
      "2021-02-24 23:57:16,907 : INFO : worker thread finished; awaiting finish of 0 more threads\n",
      "2021-02-24 23:57:16,909 : INFO : EPOCH - 3 : training on 15388042 raw words (11077677 effective words) took 52.0s, 213108 effective words/s\n",
      "2021-02-24 23:58:07,671 : INFO : EPOCH 4 - PROGRESS: at 8.38% words, 18211 words/s, in_qsize -1, out_qsize 1\n",
      "2021-02-24 23:58:07,672 : INFO : worker thread finished; awaiting finish of 11 more threads\n",
      "2021-02-24 23:58:07,745 : INFO : worker thread finished; awaiting finish of 10 more threads\n",
      "2021-02-24 23:58:07,757 : INFO : worker thread finished; awaiting finish of 9 more threads\n",
      "2021-02-24 23:58:07,776 : INFO : worker thread finished; awaiting finish of 8 more threads\n",
      "2021-02-24 23:58:08,338 : INFO : worker thread finished; awaiting finish of 7 more threads\n",
      "2021-02-24 23:58:08,352 : INFO : worker thread finished; awaiting finish of 6 more threads\n",
      "2021-02-24 23:58:08,570 : INFO : worker thread finished; awaiting finish of 5 more threads\n",
      "2021-02-24 23:58:08,749 : INFO : EPOCH 4 - PROGRESS: at 67.05% words, 142628 words/s, in_qsize -1, out_qsize 1\n",
      "2021-02-24 23:58:08,751 : INFO : worker thread finished; awaiting finish of 4 more threads\n",
      "2021-02-24 23:58:08,822 : INFO : worker thread finished; awaiting finish of 3 more threads\n",
      "2021-02-24 23:58:08,872 : INFO : worker thread finished; awaiting finish of 2 more threads\n",
      "2021-02-24 23:58:08,967 : INFO : worker thread finished; awaiting finish of 1 more threads\n",
      "2021-02-24 23:58:08,969 : INFO : worker thread finished; awaiting finish of 0 more threads\n",
      "2021-02-24 23:58:08,970 : INFO : EPOCH - 4 : training on 15388042 raw words (11078231 effective words) took 52.0s, 212977 effective words/s\n",
      "2021-02-24 23:58:59,790 : INFO : EPOCH 5 - PROGRESS: at 8.38% words, 18180 words/s, in_qsize -1, out_qsize 1\n",
      "2021-02-24 23:58:59,792 : INFO : worker thread finished; awaiting finish of 11 more threads\n",
      "2021-02-24 23:58:59,837 : INFO : worker thread finished; awaiting finish of 10 more threads\n",
      "2021-02-24 23:58:59,877 : INFO : worker thread finished; awaiting finish of 9 more threads\n",
      "2021-02-24 23:58:59,954 : INFO : worker thread finished; awaiting finish of 8 more threads\n",
      "2021-02-24 23:59:00,461 : INFO : worker thread finished; awaiting finish of 7 more threads\n",
      "2021-02-24 23:59:00,578 : INFO : worker thread finished; awaiting finish of 6 more threads\n",
      "2021-02-24 23:59:00,644 : INFO : worker thread finished; awaiting finish of 5 more threads\n",
      "2021-02-24 23:59:00,870 : INFO : EPOCH 5 - PROGRESS: at 66.99% words, 142309 words/s, in_qsize -1, out_qsize 1\n",
      "2021-02-24 23:59:00,871 : INFO : worker thread finished; awaiting finish of 4 more threads\n",
      "2021-02-24 23:59:00,959 : INFO : worker thread finished; awaiting finish of 3 more threads\n",
      "2021-02-24 23:59:01,133 : INFO : worker thread finished; awaiting finish of 2 more threads\n",
      "2021-02-24 23:59:01,160 : INFO : worker thread finished; awaiting finish of 1 more threads\n",
      "2021-02-24 23:59:01,243 : INFO : worker thread finished; awaiting finish of 0 more threads\n",
      "2021-02-24 23:59:01,244 : INFO : EPOCH - 5 : training on 15388042 raw words (11076776 effective words) took 52.2s, 212070 effective words/s\n",
      "2021-02-24 23:59:01,247 : INFO : training on a 76940210 raw words (55389097 effective words) took 261.4s, 211866 effective words/s\n",
      "2021-02-24 23:59:01,248 : WARNING : under 10 jobs per worker: consider setting a smaller `batch_words' for smoother alpha decay\n",
      "2021-02-24 23:59:02,782 : INFO : saving FastText object under dados/experimento_6/ftt_jur.model, separately None\n",
      "2021-02-24 23:59:02,783 : INFO : storing np array 'vectors_ngrams' to dados/experimento_6/ftt_jur.model.wv.vectors_ngrams.npy\n",
      "2021-02-24 23:59:09,526 : INFO : not storing attribute vectors_norm\n",
      "2021-02-24 23:59:09,527 : INFO : not storing attribute vectors_vocab_norm\n",
      "2021-02-24 23:59:09,529 : INFO : not storing attribute vectors_ngrams_norm\n"
     ]
    },
    {
     "name": "stderr",
     "output_type": "stream",
     "text": [
      "2021-02-24 23:59:09,530 : INFO : not storing attribute buckets_word\n",
      "2021-02-24 23:59:09,531 : INFO : storing np array 'vectors_ngrams_lockf' to dados/experimento_6/ftt_jur.model.trainables.vectors_ngrams_lockf.npy\n",
      "2021-02-24 23:59:17,120 : INFO : saved dados/experimento_6/ftt_jur.model\n"
     ]
    },
    {
     "name": "stdout",
     "output_type": "stream",
     "text": [
      "treinando modelo glove\n",
      "mkdir -p build\n",
      "tokenizando corpus\n",
      "$ build/vocab_count -min-count 5 -verbose 2 < ../mestrado/experimentos_mestrado/dados/experimento_6/base_treino_glv.txt > ../mestrado/experimentos_mestrado/dados/experimento_6/glove_vocab.txt\n",
      "criando matriz de coocorrencia\n",
      "$ build/cooccur -memory 4.0 -vocab-file ../mestrado/experimentos_mestrado/dados/experimento_6/glove_vocab.txt -verbose 2 -window-size 15 < ../mestrado/experimentos_mestrado/dados/experimento_6/base_treino_glv.txt > ../mestrado/experimentos_mestrado/dados/experimento_6/glv_concurrence.bin\n",
      "$ build/shuffle -memory 4.0 -verbose 2 < ../mestrado/experimentos_mestrado/dados/experimento_6/glv_concurrence.bin > ../mestrado/experimentos_mestrado/dados/experimento_6/glv_concurrence_shuf.bin\n",
      "$ build/glove -save-file ../mestrado/experimentos_mestrado/dados/experimento_6/glv_jur -threads 8 -input-file ../mestrado/experimentos_mestrado/dados/experimento_6/glv_concurrence_shuf.bin -x-max 10 -iter 15 -vector-size 100 -binary 2 -vocab-file ../mestrado/experimentos_mestrado/dados/experimento_6/glove_vocab.txt -verbose 2\n",
      "\n",
      "BUILDING VOCABULARY\n",
      "Processed 0 tokens.100000 tokens.200000 tokens.300000 tokens.400000 tokens.500000 tokens.600000 tokens.700000 tokens.800000 tokens.900000 tokens.1000000 tokens.1100000 tokens.1200000 tokens.1300000 tokens.1400000 tokens.1500000 tokens.1600000 tokens.1700000 tokens.1800000 tokens.1900000 tokens.2000000 tokens.2100000 tokens.2200000 tokens.2300000 tokens.2400000 tokens.2500000 tokens.2600000 tokens.2700000 tokens.2800000 tokens.2900000 tokens.3000000 tokens.3100000 tokens.3200000 tokens.3300000 tokens.3400000 tokens.3500000 tokens.3600000 tokens.3700000 tokens.3800000 tokens.3900000 tokens.4000000 tokens.4100000 tokens.4200000 tokens.4300000 tokens.4400000 tokens.4500000 tokens.4600000 tokens.4700000 tokens.4800000 tokens.4900000 tokens.5000000 tokens.5100000 tokens.5200000 tokens.5300000 tokens.5400000 tokens.5500000 tokens.5600000 tokens.5700000 tokens.5800000 tokens.5900000 tokens.6000000 tokens.6100000 tokens.6200000 tokens.6300000 tokens.6400000 tokens.6500000 tokens.6600000 tokens.6700000 tokens.6800000 tokens.6900000 tokens.7000000 tokens.7100000 tokens.7200000 tokens.7300000 tokens.7400000 tokens.7500000 tokens.7600000 tokens.7700000 tokens.7800000 tokens.7900000 tokens.8000000 tokens.8100000 tokens.8200000 tokens.8300000 tokens.8400000 tokens.8500000 tokens.8600000 tokens.8700000 tokens.8800000 tokens.8900000 tokens.9000000 tokens.9100000 tokens.9200000 tokens.9300000 tokens.9400000 tokens.9500000 tokens.9600000 tokens.Processed 9636856 tokens.\n",
      "Counted 80630 unique words.\n",
      "Truncating vocabulary at min count 5.\n",
      "Using vocabulary of size 32347.\n",
      "\n",
      "COUNTING COOCCURRENCES\n",
      "window size: 15\n",
      "context: symmetric\n",
      "max product: 13752509\n",
      "overflow length: 38028356\n",
      "Reading vocab from file \"../mestrado/experimentos_mestrado/dados/experimento_6/glove_vocab.txt\"...loaded 32347 words.\n",
      "Building lookup table...table contains 73294011 elements.\n",
      "Processing token: 0100000200000300000400000500000600000700000800000900000100000011000001200000130000014000001500000160000017000001800000190000020000002100000220000023000002400000250000026000002700000280000029000003000000310000032000003300000340000035000003600000370000038000003900000400000041000004200000430000044000004500000460000047000004800000490000050000005100000520000053000005400000550000056000005700000580000059000006000000610000062000006300000640000065000006600000670000068000006900000700000071000007200000730000074000007500000760000077000007800000790000080000008100000820000083000008400000850000086000008700000880000089000009000000910000092000009300000940000095000009600000Processed 9636856 tokens.\n",
      "Writing cooccurrences to disk........2 files in total.\n"
     ]
    },
    {
     "name": "stdout",
     "output_type": "stream",
     "text": [
      "Merging cooccurrence files: processed 0 lines.100000 lines.200000 lines.300000 lines.400000 lines.500000 lines.600000 lines.700000 lines.800000 lines.900000 lines.1000000 lines.1100000 lines.1200000 lines.1300000 lines.1400000 lines.1500000 lines.1600000 lines.1700000 lines.1800000 lines.1900000 lines.2000000 lines.2100000 lines.2200000 lines.2300000 lines.2400000 lines.2500000 lines.2600000 lines.2700000 lines.2800000 lines.2900000 lines.3000000 lines.3100000 lines.3200000 lines.3300000 lines.3400000 lines.3500000 lines.3600000 lines.3700000 lines.3800000 lines.3900000 lines.4000000 lines.4100000 lines.4200000 lines.4300000 lines.4400000 lines.4500000 lines.4600000 lines.4700000 lines.4800000 lines.4900000 lines.5000000 lines.5100000 lines.5200000 lines.5300000 lines.5400000 lines.5500000 lines.5600000 lines.5700000 lines.5800000 lines.5900000 lines.6000000 lines.6100000 lines.6200000 lines.6300000 lines.6400000 lines.6500000 lines.6600000 lines.6700000 lines.6800000 lines.6900000 lines.7000000 lines.7100000 lines.7200000 lines.7300000 lines.7400000 lines.7500000 lines.7600000 lines.7700000 lines.7800000 lines.7900000 lines.8000000 lines.8100000 lines.8200000 lines.8300000 lines.8400000 lines.8500000 lines.8600000 lines.8700000 lines.8800000 lines.8900000 lines.9000000 lines.9100000 lines.9200000 lines.9300000 lines.9400000 lines.9500000 lines.9600000 lines.9700000 lines.9800000 lines.9900000 lines.10000000 lines.10100000 lines.10200000 lines.10300000 lines.10400000 lines.10500000 lines.10600000 lines.10700000 lines.10800000 lines.10900000 lines.11000000 lines.11100000 lines.11200000 lines.11300000 lines.11400000 lines.11500000 lines.11600000 lines.11700000 lines.11800000 lines.11900000 lines.12000000 lines.12100000 lines.12200000 lines.12300000 lines.12400000 lines.12500000 lines.12600000 lines.12700000 lines.12800000 lines.12900000 lines.13000000 lines.13100000 lines.13200000 lines.13300000 lines.13400000 lines.13500000 lines.13600000 lines.13700000 lines.13800000 lines.13900000 lines.14000000 lines.14100000 lines.14200000 lines.14300000 lines.14400000 lines.14500000 lines.14600000 lines.14700000 lines.14800000 lines.14900000 lines.15000000 lines.15100000 lines.15200000 lines.15300000 lines.15400000 lines.15500000 lines.15600000 lines.15700000 lines.15800000 lines.15900000 lines.16000000 lines.16100000 lines.16200000 lines.16300000 lines.16400000 lines.16500000 lines.16600000 lines.16700000 lines.16800000 lines.16900000 lines.17000000 lines.17100000 lines.17200000 lines.17300000 lines.17400000 lines.17500000 lines.17600000 lines.17700000 lines.17800000 lines.17900000 lines.18000000 lines.18100000 lines.18200000 lines.18300000 lines.18400000 lines.18500000 lines.18600000 lines.18700000 lines.18800000 lines.18900000 lines.19000000 lines.19100000 lines.19200000 lines.19300000 lines.19400000 lines.19500000 lines.19600000 lines.19700000 lines.19800000 lines.19900000 lines.20000000 lines.20100000 lines.20200000 lines.20300000 lines.20400000 lines.20500000 lines.20600000 lines.20700000 lines.20800000 lines.20900000 lines.21000000 lines.21100000 lines.21200000 lines.21300000 lines.21400000 lines.21500000 lines.21600000 lines.21700000 lines.21800000 lines.21900000 lines.22000000 lines.22100000 lines.22200000 lines.22300000 lines.22400000 lines.22500000 lines.22600000 lines.22700000 lines.22800000 lines.22900000 lines.23000000 lines.23100000 lines.23200000 lines.23300000 lines.23400000 lines.23500000 lines.23600000 lines.23700000 lines.23800000 lines.23900000 lines.24000000 lines.24100000 lines.24200000 lines.24300000 lines.24400000 lines.24500000 lines.24600000 lines.24700000 lines.24800000 lines.24900000 lines.25000000 lines.25100000 lines.25200000 lines.25300000 lines.25400000 lines.25500000 lines.25600000 lines.25700000 lines.25800000 lines.25900000 lines.26000000 lines.26100000 lines.26200000 lines.26300000 lines.26400000 lines.26500000 lines.26600000 lines.26700000 lines.26800000 lines.26900000 lines.27000000 lines.27100000 lines.27200000 lines.27300000 lines.27400000 lines.27500000 lines.27600000 lines.27700000 lines.27800000 lines.27900000 lines.28000000 lines.28100000 lines.28200000 lines.28300000 lines.28400000 lines.28500000 lines.28600000 lines.28700000 lines.28800000 lines.28900000 lines.29000000 lines.29100000 lines.29200000 lines.29300000 lines.29400000 lines.29500000 lines.29600000 lines.29700000 lines.29800000 lines.29900000 lines.30000000 lines.30100000 lines.30200000 lines.30300000 lines.30400000 lines.30500000 lines.30600000 lines.30700000 lines.30800000 lines.30900000 lines.31000000 lines.31100000 lines.31200000 lines.31300000 lines.31400000 lines.Merging cooccurrence files: processed 31473481 lines.\n",
      "\n",
      "Using random seed 1614221973\n",
      "SHUFFLING COOCCURRENCES\n",
      "array size: 255013683\n",
      "Shuffling by chunks: processed 0 lines.processed 31473481 lines.\n",
      "Wrote 1 temporary file(s).\n",
      "Merging temp files: processed 0 lines.31473481 lines.Merging temp files: processed 31473481 lines.\n",
      "\n",
      "TRAINING MODEL\n",
      "Read 31473481 lines.\n",
      "Initializing parameters...Using random seed 1614221984\n",
      "done.\n",
      "vector size: 100\n",
      "vocab size: 32347\n",
      "x_max: 10.000000\n",
      "alpha: 0.750000\n",
      "02/24/21 - 11:59.56PM, iter: 001, cost: 0.109357\n",
      "02/25/21 - 12:00.07AM, iter: 002, cost: 0.079418\n",
      "02/25/21 - 12:00.19AM, iter: 003, cost: 0.066583\n",
      "02/25/21 - 12:00.30AM, iter: 004, cost: 0.058918\n",
      "02/25/21 - 12:00.41AM, iter: 005, cost: 0.054528\n",
      "02/25/21 - 12:00.52AM, iter: 006, cost: 0.051907\n",
      "02/25/21 - 12:01.03AM, iter: 007, cost: 0.050173\n",
      "02/25/21 - 12:01.13AM, iter: 008, cost: 0.048943\n",
      "02/25/21 - 12:01.24AM, iter: 009, cost: 0.047999\n",
      "02/25/21 - 12:01.35AM, iter: 010, cost: 0.047266\n",
      "02/25/21 - 12:01.46AM, iter: 011, cost: 0.046684\n",
      "02/25/21 - 12:01.56AM, iter: 012, cost: 0.046169\n",
      "02/25/21 - 12:02.07AM, iter: 013, cost: 0.045742\n",
      "02/25/21 - 12:02.18AM, iter: 014, cost: 0.045364\n",
      "02/25/21 - 12:02.29AM, iter: 015, cost: 0.045037\n",
      "\n",
      "treinamento concluído\n"
     ]
    },
    {
     "name": "stderr",
     "output_type": "stream",
     "text": [
      "2021-02-25 00:02:30,427 : INFO : converting 32348 vectors from dados/experimento_6/glv_jur.txt to C:\\Users\\CRISTI~1\\AppData\\Local\\Temp\\test_word2vec.txt\n",
      "2021-02-25 00:02:30,503 : INFO : loading projection weights from C:\\Users\\CRISTI~1\\AppData\\Local\\Temp\\test_word2vec.txt\n",
      "2021-02-25 00:02:33,201 : INFO : loaded (32348, 100) matrix from C:\\Users\\CRISTI~1\\AppData\\Local\\Temp\\test_word2vec.txt\n",
      "2021-02-25 00:02:33,203 : INFO : loading projection weights from modelos/w2v_skip_nilc.txt\n",
      "2021-02-25 00:03:50,915 : INFO : loaded (929606, 100) matrix from modelos/w2v_skip_nilc.txt\n",
      "2021-02-25 00:03:50,916 : INFO : loading projection weights from modelos/ftt_skip_nilc.txt\n",
      "2021-02-25 00:05:08,054 : INFO : loaded (929605, 100) matrix from modelos/ftt_skip_nilc.txt\n",
      "2021-02-25 00:05:08,055 : INFO : loading projection weights from modelos/glove_nilc.txt\n",
      "2021-02-25 00:06:24,843 : INFO : loaded (929605, 100) matrix from modelos/glove_nilc.txt\n"
     ]
    },
    {
     "name": "stdout",
     "output_type": "stream",
     "text": [
      "recuperando teores da base de teste\n"
     ]
    },
    {
     "data": {
      "application/vnd.jupyter.widget-view+json": {
       "model_id": "31ed8dc806d24d0396ae5c497e3a8765",
       "version_major": 2,
       "version_minor": 0
      },
      "text/plain": [
       "HBox(children=(IntProgress(value=0, max=6663), HTML(value='')))"
      ]
     },
     "metadata": {},
     "output_type": "display_data"
    },
    {
     "name": "stdout",
     "output_type": "stream",
     "text": [
      "\n",
      "criando representações word2vec geral\n"
     ]
    },
    {
     "data": {
      "application/vnd.jupyter.widget-view+json": {
       "model_id": "c615970e3b9148c7ba30b2e63a47965c",
       "version_major": 2,
       "version_minor": 0
      },
      "text/plain": [
       "HBox(children=(IntProgress(value=0, max=6663), HTML(value='')))"
      ]
     },
     "metadata": {},
     "output_type": "display_data"
    },
    {
     "name": "stdout",
     "output_type": "stream",
     "text": [
      "\n",
      "criando representações fasttext geral\n"
     ]
    },
    {
     "data": {
      "application/vnd.jupyter.widget-view+json": {
       "model_id": "0abe383402234d359bc623bd7f975b87",
       "version_major": 2,
       "version_minor": 0
      },
      "text/plain": [
       "HBox(children=(IntProgress(value=0, max=6663), HTML(value='')))"
      ]
     },
     "metadata": {},
     "output_type": "display_data"
    },
    {
     "name": "stdout",
     "output_type": "stream",
     "text": [
      "\n",
      "criando representações glove geral\n"
     ]
    },
    {
     "data": {
      "application/vnd.jupyter.widget-view+json": {
       "model_id": "731b00a0e97145dc9502a471c57cf7f0",
       "version_major": 2,
       "version_minor": 0
      },
      "text/plain": [
       "HBox(children=(IntProgress(value=0, max=6663), HTML(value='')))"
      ]
     },
     "metadata": {},
     "output_type": "display_data"
    },
    {
     "name": "stdout",
     "output_type": "stream",
     "text": [
      "\n",
      "criando representações word2vec juridico\n"
     ]
    },
    {
     "data": {
      "application/vnd.jupyter.widget-view+json": {
       "model_id": "bfa73c2efb5d49e3afd061a650b94ded",
       "version_major": 2,
       "version_minor": 0
      },
      "text/plain": [
       "HBox(children=(IntProgress(value=0, max=6663), HTML(value='')))"
      ]
     },
     "metadata": {},
     "output_type": "display_data"
    },
    {
     "name": "stdout",
     "output_type": "stream",
     "text": [
      "\n",
      "criando representações fasttext juridico\n"
     ]
    },
    {
     "data": {
      "application/vnd.jupyter.widget-view+json": {
       "model_id": "03d322a8a1784a7ba70224af40223301",
       "version_major": 2,
       "version_minor": 0
      },
      "text/plain": [
       "HBox(children=(IntProgress(value=0, max=6663), HTML(value='')))"
      ]
     },
     "metadata": {},
     "output_type": "display_data"
    },
    {
     "name": "stdout",
     "output_type": "stream",
     "text": [
      "\n",
      "criando representações glove juridico\n"
     ]
    },
    {
     "data": {
      "application/vnd.jupyter.widget-view+json": {
       "model_id": "313b08a433324500ac725c21ba8a1b96",
       "version_major": 2,
       "version_minor": 0
      },
      "text/plain": [
       "HBox(children=(IntProgress(value=0, max=6663), HTML(value='')))"
      ]
     },
     "metadata": {},
     "output_type": "display_data"
    },
    {
     "name": "stdout",
     "output_type": "stream",
     "text": [
      "\n",
      "----------- EXPERIMENTO 6 CONCLUIDO -----------\n",
      "tempo do experimento: 22.1154065767924 minutos\n",
      "----------------------- EXPERIMENTO 7 -----------------------\n",
      "criando base de treino para o experimento 7\n"
     ]
    },
    {
     "data": {
      "application/vnd.jupyter.widget-view+json": {
       "model_id": "ddc7bc998b424d8a9ecd5f1adf68beba",
       "version_major": 2,
       "version_minor": 0
      },
      "text/plain": [
       "HBox(children=(IntProgress(value=0, max=26650), HTML(value='')))"
      ]
     },
     "metadata": {},
     "output_type": "display_data"
    },
    {
     "name": "stdout",
     "output_type": "stream",
     "text": [
      "\n",
      "15906529 tokens copiados com sucesso\n",
      "preparando documentos para extração do vocabulário:\n"
     ]
    },
    {
     "data": {
      "application/vnd.jupyter.widget-view+json": {
       "model_id": "05fc8b8490bb4e40884ec4d9785acfbb",
       "version_major": 2,
       "version_minor": 0
      },
      "text/plain": [
       "HBox(children=(IntProgress(value=0, max=26650), HTML(value='')))"
      ]
     },
     "metadata": {},
     "output_type": "display_data"
    },
    {
     "name": "stdout",
     "output_type": "stream",
     "text": [
      "\n",
      "extraindo termos com base no ICA\n"
     ]
    },
    {
     "data": {
      "application/vnd.jupyter.widget-view+json": {
       "model_id": "2aaa83a513ec4fa5b874bf658dfc8263",
       "version_major": 2,
       "version_minor": 0
      },
      "text/plain": [
       "HBox(children=(IntProgress(value=0, max=125), HTML(value='')))"
      ]
     },
     "metadata": {},
     "output_type": "display_data"
    },
    {
     "name": "stdout",
     "output_type": "stream",
     "text": [
      "\n",
      "-processando strings do corpus\n",
      "-treinando vetorizador\n",
      "-ICA processado\n",
      "extraindo termos com base na frequência - geralmente leva menos de 4 minutos\n",
      "extraindo termos do tesauro\n",
      "extração de vocabulário concluída!\n",
      "treinando modelo word2vec\n"
     ]
    },
    {
     "name": "stderr",
     "output_type": "stream",
     "text": [
      "2021-02-25 00:14:22,620 : INFO : collecting all words and their counts\n",
      "2021-02-25 00:14:22,627 : INFO : PROGRESS: at sentence #0, processed 0 words, keeping 0 word types\n",
      "2021-02-25 00:14:22,691 : INFO : PROGRESS: at sentence #10000, processed 241882 words, keeping 14030 word types\n",
      "2021-02-25 00:14:22,760 : INFO : PROGRESS: at sentence #20000, processed 483776 words, keeping 19079 word types\n",
      "2021-02-25 00:14:22,828 : INFO : PROGRESS: at sentence #30000, processed 722424 words, keeping 22716 word types\n",
      "2021-02-25 00:14:22,895 : INFO : PROGRESS: at sentence #40000, processed 960690 words, keeping 25821 word types\n",
      "2021-02-25 00:14:22,963 : INFO : PROGRESS: at sentence #50000, processed 1203582 words, keeping 28462 word types\n",
      "2021-02-25 00:14:23,026 : INFO : PROGRESS: at sentence #60000, processed 1438710 words, keeping 30633 word types\n",
      "2021-02-25 00:14:23,096 : INFO : PROGRESS: at sentence #70000, processed 1686268 words, keeping 32618 word types\n",
      "2021-02-25 00:14:23,161 : INFO : PROGRESS: at sentence #80000, processed 1922094 words, keeping 34434 word types\n",
      "2021-02-25 00:14:23,233 : INFO : PROGRESS: at sentence #90000, processed 2168632 words, keeping 36060 word types\n",
      "2021-02-25 00:14:23,300 : INFO : PROGRESS: at sentence #100000, processed 2414430 words, keeping 37680 word types\n",
      "2021-02-25 00:14:23,368 : INFO : PROGRESS: at sentence #110000, processed 2661314 words, keeping 39308 word types\n",
      "2021-02-25 00:14:23,437 : INFO : PROGRESS: at sentence #120000, processed 2909079 words, keeping 40872 word types\n",
      "2021-02-25 00:14:23,503 : INFO : PROGRESS: at sentence #130000, processed 3145619 words, keeping 42094 word types\n",
      "2021-02-25 00:14:23,569 : INFO : PROGRESS: at sentence #140000, processed 3384141 words, keeping 43477 word types\n",
      "2021-02-25 00:14:23,640 : INFO : PROGRESS: at sentence #150000, processed 3628605 words, keeping 44703 word types\n",
      "2021-02-25 00:14:23,706 : INFO : PROGRESS: at sentence #160000, processed 3868343 words, keeping 45881 word types\n",
      "2021-02-25 00:14:23,775 : INFO : PROGRESS: at sentence #170000, processed 4113330 words, keeping 47010 word types\n",
      "2021-02-25 00:14:23,841 : INFO : PROGRESS: at sentence #180000, processed 4359221 words, keeping 48184 word types\n",
      "2021-02-25 00:14:23,908 : INFO : PROGRESS: at sentence #190000, processed 4600361 words, keeping 49257 word types\n",
      "2021-02-25 00:14:23,974 : INFO : PROGRESS: at sentence #200000, processed 4847434 words, keeping 50395 word types\n",
      "2021-02-25 00:14:24,041 : INFO : PROGRESS: at sentence #210000, processed 5092303 words, keeping 51387 word types\n",
      "2021-02-25 00:14:24,108 : INFO : PROGRESS: at sentence #220000, processed 5335731 words, keeping 52369 word types\n",
      "2021-02-25 00:14:24,178 : INFO : PROGRESS: at sentence #230000, processed 5581500 words, keeping 53418 word types\n",
      "2021-02-25 00:14:24,245 : INFO : PROGRESS: at sentence #240000, processed 5824562 words, keeping 54308 word types\n",
      "2021-02-25 00:14:24,310 : INFO : PROGRESS: at sentence #250000, processed 6059759 words, keeping 55162 word types\n",
      "2021-02-25 00:14:24,376 : INFO : PROGRESS: at sentence #260000, processed 6298985 words, keeping 56017 word types\n",
      "2021-02-25 00:14:24,443 : INFO : PROGRESS: at sentence #270000, processed 6539267 words, keeping 56857 word types\n",
      "2021-02-25 00:14:24,514 : INFO : PROGRESS: at sentence #280000, processed 6792612 words, keeping 57690 word types\n",
      "2021-02-25 00:14:24,581 : INFO : PROGRESS: at sentence #290000, processed 7036862 words, keeping 58630 word types\n",
      "2021-02-25 00:14:24,647 : INFO : PROGRESS: at sentence #300000, processed 7278017 words, keeping 59463 word types\n",
      "2021-02-25 00:14:24,714 : INFO : PROGRESS: at sentence #310000, processed 7514279 words, keeping 60292 word types\n",
      "2021-02-25 00:14:24,784 : INFO : PROGRESS: at sentence #320000, processed 7765347 words, keeping 61127 word types\n",
      "2021-02-25 00:14:24,852 : INFO : PROGRESS: at sentence #330000, processed 8011849 words, keeping 61911 word types\n",
      "2021-02-25 00:14:24,918 : INFO : PROGRESS: at sentence #340000, processed 8257393 words, keeping 62737 word types\n",
      "2021-02-25 00:14:24,985 : INFO : PROGRESS: at sentence #350000, processed 8496344 words, keeping 63594 word types\n",
      "2021-02-25 00:14:25,054 : INFO : PROGRESS: at sentence #360000, processed 8745210 words, keeping 64425 word types\n",
      "2021-02-25 00:14:25,120 : INFO : PROGRESS: at sentence #370000, processed 8988632 words, keeping 65240 word types\n",
      "2021-02-25 00:14:25,188 : INFO : PROGRESS: at sentence #380000, processed 9235917 words, keeping 65946 word types\n",
      "2021-02-25 00:14:25,256 : INFO : PROGRESS: at sentence #390000, processed 9474015 words, keeping 66529 word types\n",
      "2021-02-25 00:14:25,326 : INFO : PROGRESS: at sentence #400000, processed 9719717 words, keeping 67249 word types\n",
      "2021-02-25 00:14:25,393 : INFO : PROGRESS: at sentence #410000, processed 9963314 words, keeping 67954 word types\n",
      "2021-02-25 00:14:25,458 : INFO : PROGRESS: at sentence #420000, processed 10201342 words, keeping 68687 word types\n",
      "2021-02-25 00:14:25,527 : INFO : PROGRESS: at sentence #430000, processed 10439900 words, keeping 69324 word types\n",
      "2021-02-25 00:14:25,597 : INFO : PROGRESS: at sentence #440000, processed 10685060 words, keeping 69997 word types\n",
      "2021-02-25 00:14:25,665 : INFO : PROGRESS: at sentence #450000, processed 10929580 words, keeping 70590 word types\n",
      "2021-02-25 00:14:25,735 : INFO : PROGRESS: at sentence #460000, processed 11173441 words, keeping 71249 word types\n",
      "2021-02-25 00:14:25,802 : INFO : PROGRESS: at sentence #470000, processed 11415778 words, keeping 71906 word types\n",
      "2021-02-25 00:14:25,868 : INFO : PROGRESS: at sentence #480000, processed 11658030 words, keeping 72507 word types\n",
      "2021-02-25 00:14:25,935 : INFO : PROGRESS: at sentence #490000, processed 11900634 words, keeping 73079 word types\n",
      "2021-02-25 00:14:26,000 : INFO : PROGRESS: at sentence #500000, processed 12138260 words, keeping 73670 word types\n",
      "2021-02-25 00:14:26,069 : INFO : PROGRESS: at sentence #510000, processed 12382937 words, keeping 74239 word types\n",
      "2021-02-25 00:14:26,136 : INFO : PROGRESS: at sentence #520000, processed 12627139 words, keeping 74706 word types\n",
      "2021-02-25 00:14:26,203 : INFO : PROGRESS: at sentence #530000, processed 12869428 words, keeping 75342 word types\n",
      "2021-02-25 00:14:26,272 : INFO : PROGRESS: at sentence #540000, processed 13112780 words, keeping 75920 word types\n",
      "2021-02-25 00:14:26,340 : INFO : PROGRESS: at sentence #550000, processed 13353879 words, keeping 76503 word types\n",
      "2021-02-25 00:14:26,404 : INFO : PROGRESS: at sentence #560000, processed 13590054 words, keeping 77000 word types\n",
      "2021-02-25 00:14:26,472 : INFO : PROGRESS: at sentence #570000, processed 13827106 words, keeping 77547 word types\n",
      "2021-02-25 00:14:26,540 : INFO : PROGRESS: at sentence #580000, processed 14070673 words, keeping 78160 word types\n",
      "2021-02-25 00:14:26,608 : INFO : PROGRESS: at sentence #590000, processed 14313207 words, keeping 78709 word types\n",
      "2021-02-25 00:14:26,675 : INFO : PROGRESS: at sentence #600000, processed 14554506 words, keeping 79273 word types\n",
      "2021-02-25 00:14:26,742 : INFO : PROGRESS: at sentence #610000, processed 14802824 words, keeping 79849 word types\n",
      "2021-02-25 00:14:26,812 : INFO : PROGRESS: at sentence #620000, processed 15047988 words, keeping 80385 word types\n",
      "2021-02-25 00:14:26,870 : INFO : collected 80844 word types from a corpus of 15258689 raw words and 628565 sentences\n",
      "2021-02-25 00:14:26,871 : INFO : Loading a fresh vocabulary\n",
      "2021-02-25 00:14:26,923 : INFO : effective_min_count=5 retains 32483 unique words (40% of original 80844, drops 48361)\n",
      "2021-02-25 00:14:26,924 : INFO : effective_min_count=5 leaves 15177307 word corpus (99% of original 15258689, drops 81382)\n",
      "2021-02-25 00:14:27,005 : INFO : deleting the raw counts dictionary of 80844 items\n",
      "2021-02-25 00:14:27,007 : INFO : sample=1e-05 downsamples 3200 most-common words\n",
      "2021-02-25 00:14:27,008 : INFO : downsampling leaves estimated 3668580 word corpus (24.2% of prior 15177307)\n",
      "2021-02-25 00:14:27,030 : INFO : constructing a huffman tree from 32483 words\n",
      "2021-02-25 00:14:27,679 : INFO : built huffman tree with maximum node depth 22\n",
      "2021-02-25 00:14:27,732 : INFO : estimated required memory for 32483 words and 100 dimensions: 61717700 bytes\n"
     ]
    },
    {
     "name": "stderr",
     "output_type": "stream",
     "text": [
      "2021-02-25 00:14:27,732 : INFO : resetting layer weights\n",
      "2021-02-25 00:14:28,047 : INFO : training model with 12 workers on 32483 vocabulary and 100 features, using sg=1 hs=1 sample=1e-05 negative=5 window=5\n",
      "2021-02-25 00:14:29,054 : INFO : EPOCH 1 - PROGRESS: at 9.20% examples, 334383 words/s, in_qsize 0, out_qsize 0\n",
      "2021-02-25 00:14:30,064 : INFO : EPOCH 1 - PROGRESS: at 18.16% examples, 331187 words/s, in_qsize 5, out_qsize 0\n",
      "2021-02-25 00:14:31,077 : INFO : EPOCH 1 - PROGRESS: at 26.90% examples, 325368 words/s, in_qsize 12, out_qsize 2\n",
      "2021-02-25 00:14:32,084 : INFO : EPOCH 1 - PROGRESS: at 36.44% examples, 332064 words/s, in_qsize 0, out_qsize 0\n",
      "2021-02-25 00:14:33,092 : INFO : EPOCH 1 - PROGRESS: at 44.25% examples, 322150 words/s, in_qsize 0, out_qsize 1\n",
      "2021-02-25 00:14:34,108 : INFO : EPOCH 1 - PROGRESS: at 53.44% examples, 324748 words/s, in_qsize 0, out_qsize 1\n",
      "2021-02-25 00:14:35,109 : INFO : EPOCH 1 - PROGRESS: at 61.40% examples, 320098 words/s, in_qsize 1, out_qsize 0\n",
      "2021-02-25 00:14:36,118 : INFO : EPOCH 1 - PROGRESS: at 70.59% examples, 321597 words/s, in_qsize 5, out_qsize 0\n",
      "2021-02-25 00:14:37,127 : INFO : EPOCH 1 - PROGRESS: at 79.04% examples, 319934 words/s, in_qsize 1, out_qsize 0\n",
      "2021-02-25 00:14:38,131 : INFO : EPOCH 1 - PROGRESS: at 88.41% examples, 322209 words/s, in_qsize 0, out_qsize 0\n",
      "2021-02-25 00:14:39,134 : INFO : EPOCH 1 - PROGRESS: at 96.61% examples, 319929 words/s, in_qsize 8, out_qsize 0\n",
      "2021-02-25 00:14:39,418 : INFO : worker thread finished; awaiting finish of 11 more threads\n",
      "2021-02-25 00:14:39,427 : INFO : worker thread finished; awaiting finish of 10 more threads\n",
      "2021-02-25 00:14:39,428 : INFO : worker thread finished; awaiting finish of 9 more threads\n",
      "2021-02-25 00:14:39,430 : INFO : worker thread finished; awaiting finish of 8 more threads\n",
      "2021-02-25 00:14:39,431 : INFO : worker thread finished; awaiting finish of 7 more threads\n",
      "2021-02-25 00:14:39,432 : INFO : worker thread finished; awaiting finish of 6 more threads\n",
      "2021-02-25 00:14:39,435 : INFO : worker thread finished; awaiting finish of 5 more threads\n",
      "2021-02-25 00:14:39,440 : INFO : worker thread finished; awaiting finish of 4 more threads\n",
      "2021-02-25 00:14:39,444 : INFO : worker thread finished; awaiting finish of 3 more threads\n",
      "2021-02-25 00:14:39,450 : INFO : worker thread finished; awaiting finish of 2 more threads\n",
      "2021-02-25 00:14:39,459 : INFO : worker thread finished; awaiting finish of 1 more threads\n",
      "2021-02-25 00:14:39,461 : INFO : worker thread finished; awaiting finish of 0 more threads\n",
      "2021-02-25 00:14:39,462 : INFO : EPOCH - 1 : training on 15258689 raw words (3670301 effective words) took 11.4s, 321704 effective words/s\n",
      "2021-02-25 00:14:40,484 : INFO : EPOCH 2 - PROGRESS: at 9.00% examples, 321463 words/s, in_qsize 0, out_qsize 2\n",
      "2021-02-25 00:14:41,485 : INFO : EPOCH 2 - PROGRESS: at 17.70% examples, 320769 words/s, in_qsize 0, out_qsize 0\n",
      "2021-02-25 00:14:42,494 : INFO : EPOCH 2 - PROGRESS: at 26.31% examples, 317399 words/s, in_qsize 9, out_qsize 2\n",
      "2021-02-25 00:14:43,497 : INFO : EPOCH 2 - PROGRESS: at 35.39% examples, 322266 words/s, in_qsize 0, out_qsize 0\n",
      "2021-02-25 00:14:44,504 : INFO : EPOCH 2 - PROGRESS: at 44.13% examples, 321014 words/s, in_qsize 0, out_qsize 1\n",
      "2021-02-25 00:14:45,504 : INFO : EPOCH 2 - PROGRESS: at 52.69% examples, 320548 words/s, in_qsize 10, out_qsize 0\n",
      "2021-02-25 00:14:46,518 : INFO : EPOCH 2 - PROGRESS: at 61.53% examples, 320736 words/s, in_qsize 2, out_qsize 0\n",
      "2021-02-25 00:14:47,520 : INFO : EPOCH 2 - PROGRESS: at 70.73% examples, 322347 words/s, in_qsize 0, out_qsize 1\n",
      "2021-02-25 00:14:48,522 : INFO : EPOCH 2 - PROGRESS: at 78.84% examples, 319492 words/s, in_qsize 0, out_qsize 0\n",
      "2021-02-25 00:14:49,533 : INFO : EPOCH 2 - PROGRESS: at 87.53% examples, 319190 words/s, in_qsize 0, out_qsize 1\n",
      "2021-02-25 00:14:50,535 : INFO : EPOCH 2 - PROGRESS: at 96.17% examples, 318507 words/s, in_qsize 0, out_qsize 1\n",
      "2021-02-25 00:14:50,915 : INFO : worker thread finished; awaiting finish of 11 more threads\n",
      "2021-02-25 00:14:50,925 : INFO : worker thread finished; awaiting finish of 10 more threads\n",
      "2021-02-25 00:14:50,927 : INFO : worker thread finished; awaiting finish of 9 more threads\n",
      "2021-02-25 00:14:50,940 : INFO : worker thread finished; awaiting finish of 8 more threads\n",
      "2021-02-25 00:14:50,944 : INFO : worker thread finished; awaiting finish of 7 more threads\n",
      "2021-02-25 00:14:50,946 : INFO : worker thread finished; awaiting finish of 6 more threads\n",
      "2021-02-25 00:14:50,952 : INFO : worker thread finished; awaiting finish of 5 more threads\n",
      "2021-02-25 00:14:50,954 : INFO : worker thread finished; awaiting finish of 4 more threads\n",
      "2021-02-25 00:14:50,956 : INFO : worker thread finished; awaiting finish of 3 more threads\n",
      "2021-02-25 00:14:50,959 : INFO : worker thread finished; awaiting finish of 2 more threads\n",
      "2021-02-25 00:14:50,960 : INFO : worker thread finished; awaiting finish of 1 more threads\n",
      "2021-02-25 00:14:50,961 : INFO : worker thread finished; awaiting finish of 0 more threads\n",
      "2021-02-25 00:14:50,962 : INFO : EPOCH - 2 : training on 15258689 raw words (3666809 effective words) took 11.5s, 318964 effective words/s\n",
      "2021-02-25 00:14:51,966 : INFO : EPOCH 3 - PROGRESS: at 8.91% examples, 325044 words/s, in_qsize 0, out_qsize 0\n",
      "2021-02-25 00:14:52,978 : INFO : EPOCH 3 - PROGRESS: at 17.34% examples, 314737 words/s, in_qsize 0, out_qsize 0\n",
      "2021-02-25 00:14:53,983 : INFO : EPOCH 3 - PROGRESS: at 25.60% examples, 310381 words/s, in_qsize 19, out_qsize 1\n",
      "2021-02-25 00:14:54,987 : INFO : EPOCH 3 - PROGRESS: at 34.29% examples, 313097 words/s, in_qsize 24, out_qsize 0\n",
      "2021-02-25 00:14:55,989 : INFO : EPOCH 3 - PROGRESS: at 42.40% examples, 309485 words/s, in_qsize 12, out_qsize 1\n",
      "2021-02-25 00:14:57,005 : INFO : EPOCH 3 - PROGRESS: at 51.27% examples, 312109 words/s, in_qsize 0, out_qsize 1\n",
      "2021-02-25 00:14:58,006 : INFO : EPOCH 3 - PROGRESS: at 60.27% examples, 314949 words/s, in_qsize 0, out_qsize 0\n",
      "2021-02-25 00:14:59,008 : INFO : EPOCH 3 - PROGRESS: at 69.51% examples, 317389 words/s, in_qsize 0, out_qsize 0\n",
      "2021-02-25 00:15:00,011 : INFO : EPOCH 3 - PROGRESS: at 77.90% examples, 316264 words/s, in_qsize 0, out_qsize 0\n",
      "2021-02-25 00:15:01,019 : INFO : EPOCH 3 - PROGRESS: at 85.90% examples, 313753 words/s, in_qsize 9, out_qsize 2\n",
      "2021-02-25 00:15:02,025 : INFO : EPOCH 3 - PROGRESS: at 95.01% examples, 315044 words/s, in_qsize 0, out_qsize 0\n",
      "2021-02-25 00:15:02,578 : INFO : worker thread finished; awaiting finish of 11 more threads\n",
      "2021-02-25 00:15:02,579 : INFO : worker thread finished; awaiting finish of 10 more threads\n",
      "2021-02-25 00:15:02,581 : INFO : worker thread finished; awaiting finish of 9 more threads\n",
      "2021-02-25 00:15:02,583 : INFO : worker thread finished; awaiting finish of 8 more threads\n",
      "2021-02-25 00:15:02,584 : INFO : worker thread finished; awaiting finish of 7 more threads\n",
      "2021-02-25 00:15:02,586 : INFO : worker thread finished; awaiting finish of 6 more threads\n",
      "2021-02-25 00:15:02,587 : INFO : worker thread finished; awaiting finish of 5 more threads\n",
      "2021-02-25 00:15:02,590 : INFO : worker thread finished; awaiting finish of 4 more threads\n",
      "2021-02-25 00:15:02,592 : INFO : worker thread finished; awaiting finish of 3 more threads\n",
      "2021-02-25 00:15:02,601 : INFO : worker thread finished; awaiting finish of 2 more threads\n",
      "2021-02-25 00:15:02,603 : INFO : worker thread finished; awaiting finish of 1 more threads\n",
      "2021-02-25 00:15:02,607 : INFO : worker thread finished; awaiting finish of 0 more threads\n",
      "2021-02-25 00:15:02,608 : INFO : EPOCH - 3 : training on 15258689 raw words (3668635 effective words) took 11.6s, 315134 effective words/s\n",
      "2021-02-25 00:15:03,615 : INFO : EPOCH 4 - PROGRESS: at 8.98% examples, 326010 words/s, in_qsize 0, out_qsize 1\n",
      "2021-02-25 00:15:04,620 : INFO : EPOCH 4 - PROGRESS: at 16.76% examples, 304525 words/s, in_qsize 0, out_qsize 0\n",
      "2021-02-25 00:15:05,623 : INFO : EPOCH 4 - PROGRESS: at 24.79% examples, 301169 words/s, in_qsize 9, out_qsize 1\n",
      "2021-02-25 00:15:06,650 : INFO : EPOCH 4 - PROGRESS: at 34.56% examples, 314014 words/s, in_qsize 0, out_qsize 1\n",
      "2021-02-25 00:15:07,650 : INFO : EPOCH 4 - PROGRESS: at 43.17% examples, 314073 words/s, in_qsize 0, out_qsize 1\n"
     ]
    },
    {
     "name": "stderr",
     "output_type": "stream",
     "text": [
      "2021-02-25 00:15:08,652 : INFO : EPOCH 4 - PROGRESS: at 51.90% examples, 315933 words/s, in_qsize 0, out_qsize 0\n",
      "2021-02-25 00:15:09,659 : INFO : EPOCH 4 - PROGRESS: at 60.08% examples, 313595 words/s, in_qsize 23, out_qsize 0\n",
      "2021-02-25 00:15:10,663 : INFO : EPOCH 4 - PROGRESS: at 69.76% examples, 318352 words/s, in_qsize 0, out_qsize 0\n",
      "2021-02-25 00:15:11,665 : INFO : EPOCH 4 - PROGRESS: at 77.76% examples, 315635 words/s, in_qsize 1, out_qsize 1\n",
      "2021-02-25 00:15:12,666 : INFO : EPOCH 4 - PROGRESS: at 86.54% examples, 316215 words/s, in_qsize 4, out_qsize 1\n",
      "2021-02-25 00:15:13,674 : INFO : EPOCH 4 - PROGRESS: at 95.40% examples, 316334 words/s, in_qsize 13, out_qsize 1\n",
      "2021-02-25 00:15:14,088 : INFO : worker thread finished; awaiting finish of 11 more threads\n",
      "2021-02-25 00:15:14,097 : INFO : worker thread finished; awaiting finish of 10 more threads\n",
      "2021-02-25 00:15:14,098 : INFO : worker thread finished; awaiting finish of 9 more threads\n",
      "2021-02-25 00:15:14,101 : INFO : worker thread finished; awaiting finish of 8 more threads\n",
      "2021-02-25 00:15:14,103 : INFO : worker thread finished; awaiting finish of 7 more threads\n",
      "2021-02-25 00:15:14,113 : INFO : worker thread finished; awaiting finish of 6 more threads\n",
      "2021-02-25 00:15:14,116 : INFO : worker thread finished; awaiting finish of 5 more threads\n",
      "2021-02-25 00:15:14,117 : INFO : worker thread finished; awaiting finish of 4 more threads\n",
      "2021-02-25 00:15:14,119 : INFO : worker thread finished; awaiting finish of 3 more threads\n",
      "2021-02-25 00:15:14,125 : INFO : worker thread finished; awaiting finish of 2 more threads\n",
      "2021-02-25 00:15:14,131 : INFO : worker thread finished; awaiting finish of 1 more threads\n",
      "2021-02-25 00:15:14,132 : INFO : worker thread finished; awaiting finish of 0 more threads\n",
      "2021-02-25 00:15:14,133 : INFO : EPOCH - 4 : training on 15258689 raw words (3669382 effective words) took 11.5s, 318481 effective words/s\n",
      "2021-02-25 00:15:15,159 : INFO : EPOCH 5 - PROGRESS: at 8.40% examples, 299582 words/s, in_qsize 0, out_qsize 0\n",
      "2021-02-25 00:15:16,164 : INFO : EPOCH 5 - PROGRESS: at 16.88% examples, 304325 words/s, in_qsize 13, out_qsize 1\n",
      "2021-02-25 00:15:17,173 : INFO : EPOCH 5 - PROGRESS: at 25.67% examples, 309054 words/s, in_qsize 0, out_qsize 1\n",
      "2021-02-25 00:15:18,178 : INFO : EPOCH 5 - PROGRESS: at 34.15% examples, 310437 words/s, in_qsize 14, out_qsize 0\n",
      "2021-02-25 00:15:19,187 : INFO : EPOCH 5 - PROGRESS: at 43.11% examples, 312873 words/s, in_qsize 16, out_qsize 0\n",
      "2021-02-25 00:15:20,188 : INFO : EPOCH 5 - PROGRESS: at 52.16% examples, 316942 words/s, in_qsize 0, out_qsize 1\n",
      "2021-02-25 00:15:21,194 : INFO : EPOCH 5 - PROGRESS: at 60.53% examples, 315706 words/s, in_qsize 0, out_qsize 1\n",
      "2021-02-25 00:15:22,198 : INFO : EPOCH 5 - PROGRESS: at 69.87% examples, 318587 words/s, in_qsize 0, out_qsize 0\n",
      "2021-02-25 00:15:23,208 : INFO : EPOCH 5 - PROGRESS: at 78.76% examples, 318975 words/s, in_qsize 5, out_qsize 0\n",
      "2021-02-25 00:15:24,224 : INFO : EPOCH 5 - PROGRESS: at 87.40% examples, 318354 words/s, in_qsize 5, out_qsize 2\n",
      "2021-02-25 00:15:25,237 : INFO : EPOCH 5 - PROGRESS: at 96.67% examples, 319598 words/s, in_qsize 6, out_qsize 0\n",
      "2021-02-25 00:15:25,531 : INFO : worker thread finished; awaiting finish of 11 more threads\n",
      "2021-02-25 00:15:25,533 : INFO : worker thread finished; awaiting finish of 10 more threads\n",
      "2021-02-25 00:15:25,535 : INFO : worker thread finished; awaiting finish of 9 more threads\n",
      "2021-02-25 00:15:25,536 : INFO : worker thread finished; awaiting finish of 8 more threads\n",
      "2021-02-25 00:15:25,538 : INFO : worker thread finished; awaiting finish of 7 more threads\n",
      "2021-02-25 00:15:25,539 : INFO : worker thread finished; awaiting finish of 6 more threads\n",
      "2021-02-25 00:15:25,541 : INFO : worker thread finished; awaiting finish of 5 more threads\n",
      "2021-02-25 00:15:25,542 : INFO : worker thread finished; awaiting finish of 4 more threads\n",
      "2021-02-25 00:15:25,544 : INFO : worker thread finished; awaiting finish of 3 more threads\n",
      "2021-02-25 00:15:25,546 : INFO : worker thread finished; awaiting finish of 2 more threads\n",
      "2021-02-25 00:15:25,556 : INFO : worker thread finished; awaiting finish of 1 more threads\n",
      "2021-02-25 00:15:25,558 : INFO : worker thread finished; awaiting finish of 0 more threads\n",
      "2021-02-25 00:15:25,560 : INFO : EPOCH - 5 : training on 15258689 raw words (3669735 effective words) took 11.4s, 321291 effective words/s\n",
      "2021-02-25 00:15:26,566 : INFO : EPOCH 6 - PROGRESS: at 9.07% examples, 329713 words/s, in_qsize 0, out_qsize 0\n",
      "2021-02-25 00:15:27,576 : INFO : EPOCH 6 - PROGRESS: at 17.57% examples, 319847 words/s, in_qsize 23, out_qsize 0\n",
      "2021-02-25 00:15:28,582 : INFO : EPOCH 6 - PROGRESS: at 26.68% examples, 323661 words/s, in_qsize 20, out_qsize 0\n",
      "2021-02-25 00:15:29,582 : INFO : EPOCH 6 - PROGRESS: at 36.24% examples, 331330 words/s, in_qsize 0, out_qsize 0\n",
      "2021-02-25 00:15:30,632 : INFO : EPOCH 6 - PROGRESS: at 44.75% examples, 323910 words/s, in_qsize 21, out_qsize 1\n",
      "2021-02-25 00:15:31,634 : INFO : EPOCH 6 - PROGRESS: at 53.64% examples, 324909 words/s, in_qsize 19, out_qsize 1\n",
      "2021-02-25 00:15:32,636 : INFO : EPOCH 6 - PROGRESS: at 63.24% examples, 328617 words/s, in_qsize 0, out_qsize 0\n",
      "2021-02-25 00:15:33,642 : INFO : EPOCH 6 - PROGRESS: at 72.73% examples, 330753 words/s, in_qsize 0, out_qsize 0\n",
      "2021-02-25 00:15:34,667 : INFO : EPOCH 6 - PROGRESS: at 81.52% examples, 328818 words/s, in_qsize 23, out_qsize 0\n",
      "2021-02-25 00:15:35,676 : INFO : EPOCH 6 - PROGRESS: at 90.61% examples, 328842 words/s, in_qsize 4, out_qsize 0\n",
      "2021-02-25 00:15:36,663 : INFO : worker thread finished; awaiting finish of 11 more threads\n",
      "2021-02-25 00:15:36,680 : INFO : worker thread finished; awaiting finish of 10 more threads\n",
      "2021-02-25 00:15:36,682 : INFO : worker thread finished; awaiting finish of 9 more threads\n",
      "2021-02-25 00:15:36,684 : INFO : EPOCH 6 - PROGRESS: at 99.51% examples, 328297 words/s, in_qsize 6, out_qsize 5\n",
      "2021-02-25 00:15:36,685 : INFO : worker thread finished; awaiting finish of 8 more threads\n",
      "2021-02-25 00:15:36,687 : INFO : worker thread finished; awaiting finish of 7 more threads\n",
      "2021-02-25 00:15:36,690 : INFO : worker thread finished; awaiting finish of 6 more threads\n",
      "2021-02-25 00:15:36,691 : INFO : worker thread finished; awaiting finish of 5 more threads\n",
      "2021-02-25 00:15:36,694 : INFO : worker thread finished; awaiting finish of 4 more threads\n",
      "2021-02-25 00:15:36,713 : INFO : worker thread finished; awaiting finish of 3 more threads\n",
      "2021-02-25 00:15:36,715 : INFO : worker thread finished; awaiting finish of 2 more threads\n",
      "2021-02-25 00:15:36,717 : INFO : worker thread finished; awaiting finish of 1 more threads\n",
      "2021-02-25 00:15:36,719 : INFO : worker thread finished; awaiting finish of 0 more threads\n",
      "2021-02-25 00:15:36,720 : INFO : EPOCH - 6 : training on 15258689 raw words (3667935 effective words) took 11.2s, 328796 effective words/s\n",
      "2021-02-25 00:15:37,735 : INFO : EPOCH 7 - PROGRESS: at 8.91% examples, 322035 words/s, in_qsize 0, out_qsize 0\n",
      "2021-02-25 00:15:38,736 : INFO : EPOCH 7 - PROGRESS: at 17.90% examples, 326252 words/s, in_qsize 1, out_qsize 1\n",
      "2021-02-25 00:15:39,739 : INFO : EPOCH 7 - PROGRESS: at 26.57% examples, 322416 words/s, in_qsize 0, out_qsize 0\n",
      "2021-02-25 00:15:40,744 : INFO : EPOCH 7 - PROGRESS: at 35.52% examples, 324475 words/s, in_qsize 3, out_qsize 0\n",
      "2021-02-25 00:15:41,750 : INFO : EPOCH 7 - PROGRESS: at 44.89% examples, 327730 words/s, in_qsize 3, out_qsize 3\n",
      "2021-02-25 00:15:42,756 : INFO : EPOCH 7 - PROGRESS: at 53.71% examples, 327487 words/s, in_qsize 24, out_qsize 0\n",
      "2021-02-25 00:15:43,765 : INFO : EPOCH 7 - PROGRESS: at 63.04% examples, 329137 words/s, in_qsize 0, out_qsize 0\n",
      "2021-02-25 00:15:44,768 : INFO : EPOCH 7 - PROGRESS: at 71.69% examples, 327377 words/s, in_qsize 18, out_qsize 1\n",
      "2021-02-25 00:15:45,772 : INFO : EPOCH 7 - PROGRESS: at 81.33% examples, 330086 words/s, in_qsize 0, out_qsize 0\n",
      "2021-02-25 00:15:46,776 : INFO : EPOCH 7 - PROGRESS: at 90.61% examples, 330871 words/s, in_qsize 1, out_qsize 0\n",
      "2021-02-25 00:15:47,780 : INFO : EPOCH 7 - PROGRESS: at 99.00% examples, 328597 words/s, in_qsize 16, out_qsize 0\n",
      "2021-02-25 00:15:47,804 : INFO : worker thread finished; awaiting finish of 11 more threads\n"
     ]
    },
    {
     "name": "stderr",
     "output_type": "stream",
     "text": [
      "2021-02-25 00:15:47,807 : INFO : worker thread finished; awaiting finish of 10 more threads\n",
      "2021-02-25 00:15:47,809 : INFO : worker thread finished; awaiting finish of 9 more threads\n",
      "2021-02-25 00:15:47,810 : INFO : worker thread finished; awaiting finish of 8 more threads\n",
      "2021-02-25 00:15:47,818 : INFO : worker thread finished; awaiting finish of 7 more threads\n",
      "2021-02-25 00:15:47,821 : INFO : worker thread finished; awaiting finish of 6 more threads\n",
      "2021-02-25 00:15:47,823 : INFO : worker thread finished; awaiting finish of 5 more threads\n",
      "2021-02-25 00:15:47,825 : INFO : worker thread finished; awaiting finish of 4 more threads\n",
      "2021-02-25 00:15:47,827 : INFO : worker thread finished; awaiting finish of 3 more threads\n",
      "2021-02-25 00:15:47,834 : INFO : worker thread finished; awaiting finish of 2 more threads\n",
      "2021-02-25 00:15:47,836 : INFO : worker thread finished; awaiting finish of 1 more threads\n",
      "2021-02-25 00:15:47,841 : INFO : worker thread finished; awaiting finish of 0 more threads\n",
      "2021-02-25 00:15:47,842 : INFO : EPOCH - 7 : training on 15258689 raw words (3668441 effective words) took 11.1s, 330006 effective words/s\n",
      "2021-02-25 00:15:48,851 : INFO : EPOCH 8 - PROGRESS: at 8.79% examples, 319451 words/s, in_qsize 7, out_qsize 0\n",
      "2021-02-25 00:15:49,859 : INFO : EPOCH 8 - PROGRESS: at 18.41% examples, 335561 words/s, in_qsize 0, out_qsize 0\n",
      "2021-02-25 00:15:50,867 : INFO : EPOCH 8 - PROGRESS: at 27.15% examples, 328855 words/s, in_qsize 23, out_qsize 2\n",
      "2021-02-25 00:15:51,872 : INFO : EPOCH 8 - PROGRESS: at 36.05% examples, 328896 words/s, in_qsize 7, out_qsize 2\n",
      "2021-02-25 00:15:52,876 : INFO : EPOCH 8 - PROGRESS: at 44.95% examples, 327836 words/s, in_qsize 0, out_qsize 0\n",
      "2021-02-25 00:15:53,882 : INFO : EPOCH 8 - PROGRESS: at 54.05% examples, 329121 words/s, in_qsize 0, out_qsize 0\n",
      "2021-02-25 00:15:54,886 : INFO : EPOCH 8 - PROGRESS: at 63.18% examples, 329867 words/s, in_qsize 0, out_qsize 0\n",
      "2021-02-25 00:15:55,933 : INFO : EPOCH 8 - PROGRESS: at 71.49% examples, 324827 words/s, in_qsize 22, out_qsize 1\n",
      "2021-02-25 00:15:56,933 : INFO : EPOCH 8 - PROGRESS: at 81.33% examples, 328704 words/s, in_qsize 0, out_qsize 1\n",
      "2021-02-25 00:15:57,936 : INFO : EPOCH 8 - PROGRESS: at 90.08% examples, 327872 words/s, in_qsize 14, out_qsize 0\n",
      "2021-02-25 00:15:58,932 : INFO : worker thread finished; awaiting finish of 11 more threads\n",
      "2021-02-25 00:15:58,934 : INFO : worker thread finished; awaiting finish of 10 more threads\n",
      "2021-02-25 00:15:58,937 : INFO : worker thread finished; awaiting finish of 9 more threads\n",
      "2021-02-25 00:15:58,938 : INFO : worker thread finished; awaiting finish of 8 more threads\n",
      "2021-02-25 00:15:58,939 : INFO : worker thread finished; awaiting finish of 7 more threads\n",
      "2021-02-25 00:15:58,941 : INFO : worker thread finished; awaiting finish of 6 more threads\n",
      "2021-02-25 00:15:58,942 : INFO : EPOCH 8 - PROGRESS: at 99.71% examples, 329830 words/s, in_qsize 4, out_qsize 3\n",
      "2021-02-25 00:15:58,943 : INFO : worker thread finished; awaiting finish of 5 more threads\n",
      "2021-02-25 00:15:58,945 : INFO : worker thread finished; awaiting finish of 4 more threads\n",
      "2021-02-25 00:15:58,946 : INFO : worker thread finished; awaiting finish of 3 more threads\n",
      "2021-02-25 00:15:58,950 : INFO : worker thread finished; awaiting finish of 2 more threads\n",
      "2021-02-25 00:15:58,958 : INFO : worker thread finished; awaiting finish of 1 more threads\n",
      "2021-02-25 00:15:58,960 : INFO : worker thread finished; awaiting finish of 0 more threads\n",
      "2021-02-25 00:15:58,961 : INFO : EPOCH - 8 : training on 15258689 raw words (3669849 effective words) took 11.1s, 330215 effective words/s\n",
      "2021-02-25 00:15:59,979 : INFO : EPOCH 9 - PROGRESS: at 9.14% examples, 328091 words/s, in_qsize 0, out_qsize 1\n",
      "2021-02-25 00:16:00,979 : INFO : EPOCH 9 - PROGRESS: at 17.08% examples, 309855 words/s, in_qsize 17, out_qsize 0\n",
      "2021-02-25 00:16:01,980 : INFO : EPOCH 9 - PROGRESS: at 26.68% examples, 324111 words/s, in_qsize 0, out_qsize 1\n",
      "2021-02-25 00:16:02,986 : INFO : EPOCH 9 - PROGRESS: at 35.06% examples, 320290 words/s, in_qsize 21, out_qsize 2\n",
      "2021-02-25 00:16:03,996 : INFO : EPOCH 9 - PROGRESS: at 44.49% examples, 324666 words/s, in_qsize 23, out_qsize 0\n",
      "2021-02-25 00:16:05,016 : INFO : EPOCH 9 - PROGRESS: at 53.63% examples, 326183 words/s, in_qsize 0, out_qsize 2\n",
      "2021-02-25 00:16:06,021 : INFO : EPOCH 9 - PROGRESS: at 62.79% examples, 327235 words/s, in_qsize 1, out_qsize 0\n",
      "2021-02-25 00:16:07,027 : INFO : EPOCH 9 - PROGRESS: at 71.76% examples, 327103 words/s, in_qsize 13, out_qsize 0\n",
      "2021-02-25 00:16:08,038 : INFO : EPOCH 9 - PROGRESS: at 81.26% examples, 328998 words/s, in_qsize 2, out_qsize 1\n",
      "2021-02-25 00:16:09,049 : INFO : EPOCH 9 - PROGRESS: at 89.47% examples, 325889 words/s, in_qsize 0, out_qsize 0\n",
      "2021-02-25 00:16:10,054 : INFO : EPOCH 9 - PROGRESS: at 98.28% examples, 325319 words/s, in_qsize 24, out_qsize 0\n",
      "2021-02-25 00:16:10,148 : INFO : worker thread finished; awaiting finish of 11 more threads\n",
      "2021-02-25 00:16:10,152 : INFO : worker thread finished; awaiting finish of 10 more threads\n",
      "2021-02-25 00:16:10,159 : INFO : worker thread finished; awaiting finish of 9 more threads\n",
      "2021-02-25 00:16:10,165 : INFO : worker thread finished; awaiting finish of 8 more threads\n",
      "2021-02-25 00:16:10,172 : INFO : worker thread finished; awaiting finish of 7 more threads\n",
      "2021-02-25 00:16:10,174 : INFO : worker thread finished; awaiting finish of 6 more threads\n",
      "2021-02-25 00:16:10,177 : INFO : worker thread finished; awaiting finish of 5 more threads\n",
      "2021-02-25 00:16:10,180 : INFO : worker thread finished; awaiting finish of 4 more threads\n",
      "2021-02-25 00:16:10,182 : INFO : worker thread finished; awaiting finish of 3 more threads\n",
      "2021-02-25 00:16:10,184 : INFO : worker thread finished; awaiting finish of 2 more threads\n",
      "2021-02-25 00:16:10,189 : INFO : worker thread finished; awaiting finish of 1 more threads\n",
      "2021-02-25 00:16:10,191 : INFO : worker thread finished; awaiting finish of 0 more threads\n",
      "2021-02-25 00:16:10,192 : INFO : EPOCH - 9 : training on 15258689 raw words (3669330 effective words) took 11.2s, 326860 effective words/s\n",
      "2021-02-25 00:16:11,208 : INFO : EPOCH 10 - PROGRESS: at 8.52% examples, 307426 words/s, in_qsize 5, out_qsize 1\n",
      "2021-02-25 00:16:12,214 : INFO : EPOCH 10 - PROGRESS: at 17.20% examples, 311124 words/s, in_qsize 15, out_qsize 1\n",
      "2021-02-25 00:16:13,217 : INFO : EPOCH 10 - PROGRESS: at 26.88% examples, 325447 words/s, in_qsize 0, out_qsize 0\n",
      "2021-02-25 00:16:14,233 : INFO : EPOCH 10 - PROGRESS: at 35.27% examples, 320497 words/s, in_qsize 23, out_qsize 0\n",
      "2021-02-25 00:16:15,251 : INFO : EPOCH 10 - PROGRESS: at 44.81% examples, 324962 words/s, in_qsize 23, out_qsize 0\n",
      "2021-02-25 00:16:16,259 : INFO : EPOCH 10 - PROGRESS: at 53.50% examples, 324380 words/s, in_qsize 13, out_qsize 0\n",
      "2021-02-25 00:16:17,266 : INFO : EPOCH 10 - PROGRESS: at 62.54% examples, 324807 words/s, in_qsize 23, out_qsize 0\n",
      "2021-02-25 00:16:18,279 : INFO : EPOCH 10 - PROGRESS: at 72.21% examples, 328054 words/s, in_qsize 0, out_qsize 0\n",
      "2021-02-25 00:16:19,308 : INFO : EPOCH 10 - PROGRESS: at 81.52% examples, 328401 words/s, in_qsize 1, out_qsize 0\n",
      "2021-02-25 00:16:20,331 : INFO : EPOCH 10 - PROGRESS: at 90.42% examples, 327367 words/s, in_qsize 18, out_qsize 0\n",
      "2021-02-25 00:16:21,286 : INFO : worker thread finished; awaiting finish of 11 more threads\n",
      "2021-02-25 00:16:21,292 : INFO : worker thread finished; awaiting finish of 10 more threads\n",
      "2021-02-25 00:16:21,293 : INFO : worker thread finished; awaiting finish of 9 more threads\n",
      "2021-02-25 00:16:21,295 : INFO : worker thread finished; awaiting finish of 8 more threads\n",
      "2021-02-25 00:16:21,299 : INFO : worker thread finished; awaiting finish of 7 more threads\n",
      "2021-02-25 00:16:21,301 : INFO : worker thread finished; awaiting finish of 6 more threads\n",
      "2021-02-25 00:16:21,307 : INFO : worker thread finished; awaiting finish of 5 more threads\n",
      "2021-02-25 00:16:21,309 : INFO : worker thread finished; awaiting finish of 4 more threads\n",
      "2021-02-25 00:16:21,311 : INFO : worker thread finished; awaiting finish of 3 more threads\n",
      "2021-02-25 00:16:21,322 : INFO : worker thread finished; awaiting finish of 2 more threads\n",
      "2021-02-25 00:16:21,325 : INFO : worker thread finished; awaiting finish of 1 more threads\n"
     ]
    },
    {
     "name": "stderr",
     "output_type": "stream",
     "text": [
      "2021-02-25 00:16:21,329 : INFO : worker thread finished; awaiting finish of 0 more threads\n",
      "2021-02-25 00:16:21,331 : INFO : EPOCH - 10 : training on 15258689 raw words (3667957 effective words) took 11.1s, 329437 effective words/s\n",
      "2021-02-25 00:16:21,332 : INFO : training on a 152586890 raw words (36688374 effective words) took 113.3s, 323861 effective words/s\n",
      "2021-02-25 00:16:21,333 : INFO : saving Word2Vec object under dados/experimento_7/w2v_jur.model, separately None\n",
      "2021-02-25 00:16:21,335 : INFO : not storing attribute vectors_norm\n",
      "2021-02-25 00:16:21,336 : INFO : not storing attribute cum_table\n",
      "2021-02-25 00:16:22,287 : INFO : saved dados/experimento_7/w2v_jur.model\n"
     ]
    },
    {
     "name": "stdout",
     "output_type": "stream",
     "text": [
      "treinando modelo word2vec\n"
     ]
    },
    {
     "name": "stderr",
     "output_type": "stream",
     "text": [
      "2021-02-25 00:16:22,289 : INFO : resetting layer weights\n",
      "2021-02-25 00:16:27,366 : INFO : collecting all words and their counts\n",
      "2021-02-25 00:16:27,368 : INFO : PROGRESS: at sentence #0, processed 0 words, keeping 0 word types\n",
      "2021-02-25 00:16:27,437 : INFO : PROGRESS: at sentence #10000, processed 241882 words, keeping 14030 word types\n",
      "2021-02-25 00:16:27,519 : INFO : PROGRESS: at sentence #20000, processed 483776 words, keeping 19079 word types\n",
      "2021-02-25 00:16:27,589 : INFO : PROGRESS: at sentence #30000, processed 722424 words, keeping 22716 word types\n",
      "2021-02-25 00:16:27,658 : INFO : PROGRESS: at sentence #40000, processed 960690 words, keeping 25821 word types\n",
      "2021-02-25 00:16:27,728 : INFO : PROGRESS: at sentence #50000, processed 1203582 words, keeping 28462 word types\n",
      "2021-02-25 00:16:27,795 : INFO : PROGRESS: at sentence #60000, processed 1438710 words, keeping 30633 word types\n",
      "2021-02-25 00:16:27,864 : INFO : PROGRESS: at sentence #70000, processed 1686268 words, keeping 32618 word types\n",
      "2021-02-25 00:16:27,931 : INFO : PROGRESS: at sentence #80000, processed 1922094 words, keeping 34434 word types\n",
      "2021-02-25 00:16:28,000 : INFO : PROGRESS: at sentence #90000, processed 2168632 words, keeping 36060 word types\n",
      "2021-02-25 00:16:28,067 : INFO : PROGRESS: at sentence #100000, processed 2414430 words, keeping 37680 word types\n",
      "2021-02-25 00:16:28,137 : INFO : PROGRESS: at sentence #110000, processed 2661314 words, keeping 39308 word types\n",
      "2021-02-25 00:16:28,209 : INFO : PROGRESS: at sentence #120000, processed 2909079 words, keeping 40872 word types\n",
      "2021-02-25 00:16:28,278 : INFO : PROGRESS: at sentence #130000, processed 3145619 words, keeping 42094 word types\n",
      "2021-02-25 00:16:28,355 : INFO : PROGRESS: at sentence #140000, processed 3384141 words, keeping 43477 word types\n",
      "2021-02-25 00:16:28,424 : INFO : PROGRESS: at sentence #150000, processed 3628605 words, keeping 44703 word types\n",
      "2021-02-25 00:16:28,492 : INFO : PROGRESS: at sentence #160000, processed 3868343 words, keeping 45881 word types\n",
      "2021-02-25 00:16:28,564 : INFO : PROGRESS: at sentence #170000, processed 4113330 words, keeping 47010 word types\n",
      "2021-02-25 00:16:28,635 : INFO : PROGRESS: at sentence #180000, processed 4359221 words, keeping 48184 word types\n",
      "2021-02-25 00:16:28,705 : INFO : PROGRESS: at sentence #190000, processed 4600361 words, keeping 49257 word types\n",
      "2021-02-25 00:16:28,778 : INFO : PROGRESS: at sentence #200000, processed 4847434 words, keeping 50395 word types\n",
      "2021-02-25 00:16:28,847 : INFO : PROGRESS: at sentence #210000, processed 5092303 words, keeping 51387 word types\n",
      "2021-02-25 00:16:28,915 : INFO : PROGRESS: at sentence #220000, processed 5335731 words, keeping 52369 word types\n",
      "2021-02-25 00:16:28,983 : INFO : PROGRESS: at sentence #230000, processed 5581500 words, keeping 53418 word types\n",
      "2021-02-25 00:16:29,053 : INFO : PROGRESS: at sentence #240000, processed 5824562 words, keeping 54308 word types\n",
      "2021-02-25 00:16:29,118 : INFO : PROGRESS: at sentence #250000, processed 6059759 words, keeping 55162 word types\n",
      "2021-02-25 00:16:29,185 : INFO : PROGRESS: at sentence #260000, processed 6298985 words, keeping 56017 word types\n",
      "2021-02-25 00:16:29,255 : INFO : PROGRESS: at sentence #270000, processed 6539267 words, keeping 56857 word types\n",
      "2021-02-25 00:16:29,327 : INFO : PROGRESS: at sentence #280000, processed 6792612 words, keeping 57690 word types\n",
      "2021-02-25 00:16:29,396 : INFO : PROGRESS: at sentence #290000, processed 7036862 words, keeping 58630 word types\n",
      "2021-02-25 00:16:29,464 : INFO : PROGRESS: at sentence #300000, processed 7278017 words, keeping 59463 word types\n",
      "2021-02-25 00:16:29,532 : INFO : PROGRESS: at sentence #310000, processed 7514279 words, keeping 60292 word types\n",
      "2021-02-25 00:16:29,604 : INFO : PROGRESS: at sentence #320000, processed 7765347 words, keeping 61127 word types\n",
      "2021-02-25 00:16:29,674 : INFO : PROGRESS: at sentence #330000, processed 8011849 words, keeping 61911 word types\n",
      "2021-02-25 00:16:29,744 : INFO : PROGRESS: at sentence #340000, processed 8257393 words, keeping 62737 word types\n",
      "2021-02-25 00:16:29,813 : INFO : PROGRESS: at sentence #350000, processed 8496344 words, keeping 63594 word types\n",
      "2021-02-25 00:16:29,882 : INFO : PROGRESS: at sentence #360000, processed 8745210 words, keeping 64425 word types\n",
      "2021-02-25 00:16:29,951 : INFO : PROGRESS: at sentence #370000, processed 8988632 words, keeping 65240 word types\n",
      "2021-02-25 00:16:30,020 : INFO : PROGRESS: at sentence #380000, processed 9235917 words, keeping 65946 word types\n",
      "2021-02-25 00:16:30,087 : INFO : PROGRESS: at sentence #390000, processed 9474015 words, keeping 66529 word types\n",
      "2021-02-25 00:16:30,156 : INFO : PROGRESS: at sentence #400000, processed 9719717 words, keeping 67249 word types\n",
      "2021-02-25 00:16:30,224 : INFO : PROGRESS: at sentence #410000, processed 9963314 words, keeping 67954 word types\n",
      "2021-02-25 00:16:30,294 : INFO : PROGRESS: at sentence #420000, processed 10201342 words, keeping 68687 word types\n",
      "2021-02-25 00:16:30,363 : INFO : PROGRESS: at sentence #430000, processed 10439900 words, keeping 69324 word types\n",
      "2021-02-25 00:16:30,434 : INFO : PROGRESS: at sentence #440000, processed 10685060 words, keeping 69997 word types\n",
      "2021-02-25 00:16:30,503 : INFO : PROGRESS: at sentence #450000, processed 10929580 words, keeping 70590 word types\n",
      "2021-02-25 00:16:30,571 : INFO : PROGRESS: at sentence #460000, processed 11173441 words, keeping 71249 word types\n",
      "2021-02-25 00:16:30,639 : INFO : PROGRESS: at sentence #470000, processed 11415778 words, keeping 71906 word types\n",
      "2021-02-25 00:16:30,710 : INFO : PROGRESS: at sentence #480000, processed 11658030 words, keeping 72507 word types\n",
      "2021-02-25 00:16:30,780 : INFO : PROGRESS: at sentence #490000, processed 11900634 words, keeping 73079 word types\n",
      "2021-02-25 00:16:30,848 : INFO : PROGRESS: at sentence #500000, processed 12138260 words, keeping 73670 word types\n",
      "2021-02-25 00:16:30,917 : INFO : PROGRESS: at sentence #510000, processed 12382937 words, keeping 74239 word types\n",
      "2021-02-25 00:16:30,984 : INFO : PROGRESS: at sentence #520000, processed 12627139 words, keeping 74706 word types\n",
      "2021-02-25 00:16:31,053 : INFO : PROGRESS: at sentence #530000, processed 12869428 words, keeping 75342 word types\n",
      "2021-02-25 00:16:31,122 : INFO : PROGRESS: at sentence #540000, processed 13112780 words, keeping 75920 word types\n",
      "2021-02-25 00:16:31,190 : INFO : PROGRESS: at sentence #550000, processed 13353879 words, keeping 76503 word types\n",
      "2021-02-25 00:16:31,257 : INFO : PROGRESS: at sentence #560000, processed 13590054 words, keeping 77000 word types\n",
      "2021-02-25 00:16:31,324 : INFO : PROGRESS: at sentence #570000, processed 13827106 words, keeping 77547 word types\n",
      "2021-02-25 00:16:31,399 : INFO : PROGRESS: at sentence #580000, processed 14070673 words, keeping 78160 word types\n",
      "2021-02-25 00:16:31,467 : INFO : PROGRESS: at sentence #590000, processed 14313207 words, keeping 78709 word types\n",
      "2021-02-25 00:16:31,536 : INFO : PROGRESS: at sentence #600000, processed 14554506 words, keeping 79273 word types\n",
      "2021-02-25 00:16:31,605 : INFO : PROGRESS: at sentence #610000, processed 14802824 words, keeping 79849 word types\n",
      "2021-02-25 00:16:31,675 : INFO : PROGRESS: at sentence #620000, processed 15047988 words, keeping 80385 word types\n",
      "2021-02-25 00:16:31,734 : INFO : collected 80844 word types from a corpus of 15258689 raw words and 628565 sentences\n",
      "2021-02-25 00:16:31,734 : INFO : Loading a fresh vocabulary\n",
      "2021-02-25 00:16:31,786 : INFO : effective_min_count=5 retains 32483 unique words (40% of original 80844, drops 48361)\n",
      "2021-02-25 00:16:31,788 : INFO : effective_min_count=5 leaves 15177307 word corpus (99% of original 15258689, drops 81382)\n",
      "2021-02-25 00:16:31,866 : INFO : deleting the raw counts dictionary of 80844 items\n",
      "2021-02-25 00:16:31,869 : INFO : sample=0.001 downsamples 37 most-common words\n",
      "2021-02-25 00:16:31,869 : INFO : downsampling leaves estimated 10985097 word corpus (72.4% of prior 15177307)\n",
      "2021-02-25 00:16:31,891 : INFO : constructing a huffman tree from 32483 words\n",
      "2021-02-25 00:16:32,591 : INFO : built huffman tree with maximum node depth 22\n",
      "2021-02-25 00:16:32,948 : INFO : estimated required memory for 32483 words, 137517 buckets and 100 dimensions: 125478884 bytes\n"
     ]
    },
    {
     "name": "stderr",
     "output_type": "stream",
     "text": [
      "2021-02-25 00:16:32,952 : INFO : resetting layer weights\n",
      "2021-02-25 00:16:36,392 : INFO : training model with 12 workers on 32483 vocabulary and 100 features, using sg=1 hs=1 sample=0.001 negative=5 window=5\n",
      "2021-02-25 00:17:28,005 : INFO : EPOCH 1 - PROGRESS: at 8.34% words, 17776 words/s, in_qsize -1, out_qsize 1\n",
      "2021-02-25 00:17:28,007 : INFO : worker thread finished; awaiting finish of 11 more threads\n",
      "2021-02-25 00:17:28,009 : INFO : worker thread finished; awaiting finish of 10 more threads\n",
      "2021-02-25 00:17:28,023 : INFO : worker thread finished; awaiting finish of 9 more threads\n",
      "2021-02-25 00:17:28,178 : INFO : worker thread finished; awaiting finish of 8 more threads\n",
      "2021-02-25 00:17:28,504 : INFO : worker thread finished; awaiting finish of 7 more threads\n",
      "2021-02-25 00:17:28,726 : INFO : worker thread finished; awaiting finish of 6 more threads\n",
      "2021-02-25 00:17:28,730 : INFO : worker thread finished; awaiting finish of 5 more threads\n",
      "2021-02-25 00:17:28,755 : INFO : worker thread finished; awaiting finish of 4 more threads\n",
      "2021-02-25 00:17:29,265 : INFO : EPOCH 1 - PROGRESS: at 75.08% words, 156140 words/s, in_qsize -1, out_qsize 1\n",
      "2021-02-25 00:17:29,266 : INFO : worker thread finished; awaiting finish of 3 more threads\n",
      "2021-02-25 00:17:29,415 : INFO : worker thread finished; awaiting finish of 2 more threads\n",
      "2021-02-25 00:17:29,440 : INFO : worker thread finished; awaiting finish of 1 more threads\n",
      "2021-02-25 00:17:29,542 : INFO : worker thread finished; awaiting finish of 0 more threads\n",
      "2021-02-25 00:17:29,543 : INFO : EPOCH - 1 : training on 15276087 raw words (10997409 effective words) took 53.1s, 207076 effective words/s\n",
      "2021-02-25 00:18:20,682 : INFO : EPOCH 2 - PROGRESS: at 8.34% words, 17959 words/s, in_qsize -1, out_qsize 1\n",
      "2021-02-25 00:18:20,684 : INFO : worker thread finished; awaiting finish of 11 more threads\n",
      "2021-02-25 00:18:20,904 : INFO : worker thread finished; awaiting finish of 10 more threads\n",
      "2021-02-25 00:18:20,949 : INFO : worker thread finished; awaiting finish of 9 more threads\n",
      "2021-02-25 00:18:20,970 : INFO : worker thread finished; awaiting finish of 8 more threads\n",
      "2021-02-25 00:18:21,143 : INFO : worker thread finished; awaiting finish of 7 more threads\n",
      "2021-02-25 00:18:21,223 : INFO : worker thread finished; awaiting finish of 6 more threads\n",
      "2021-02-25 00:18:21,241 : INFO : worker thread finished; awaiting finish of 5 more threads\n",
      "2021-02-25 00:18:21,366 : INFO : worker thread finished; awaiting finish of 4 more threads\n",
      "2021-02-25 00:18:21,948 : INFO : EPOCH 2 - PROGRESS: at 75.08% words, 157531 words/s, in_qsize -1, out_qsize 1\n",
      "2021-02-25 00:18:21,949 : INFO : worker thread finished; awaiting finish of 3 more threads\n",
      "2021-02-25 00:18:21,986 : INFO : worker thread finished; awaiting finish of 2 more threads\n",
      "2021-02-25 00:18:22,069 : INFO : worker thread finished; awaiting finish of 1 more threads\n",
      "2021-02-25 00:18:22,103 : INFO : worker thread finished; awaiting finish of 0 more threads\n",
      "2021-02-25 00:18:22,104 : INFO : EPOCH - 2 : training on 15276087 raw words (10996757 effective words) took 52.5s, 209389 effective words/s\n",
      "2021-02-25 00:19:13,101 : INFO : EPOCH 3 - PROGRESS: at 8.34% words, 18013 words/s, in_qsize -1, out_qsize 1\n",
      "2021-02-25 00:19:13,103 : INFO : worker thread finished; awaiting finish of 11 more threads\n",
      "2021-02-25 00:19:13,204 : INFO : worker thread finished; awaiting finish of 10 more threads\n",
      "2021-02-25 00:19:13,319 : INFO : worker thread finished; awaiting finish of 9 more threads\n",
      "2021-02-25 00:19:13,452 : INFO : worker thread finished; awaiting finish of 8 more threads\n",
      "2021-02-25 00:19:13,768 : INFO : worker thread finished; awaiting finish of 7 more threads\n",
      "2021-02-25 00:19:13,874 : INFO : worker thread finished; awaiting finish of 6 more threads\n",
      "2021-02-25 00:19:13,932 : INFO : worker thread finished; awaiting finish of 5 more threads\n",
      "2021-02-25 00:19:13,996 : INFO : worker thread finished; awaiting finish of 4 more threads\n",
      "2021-02-25 00:19:14,515 : INFO : EPOCH 3 - PROGRESS: at 75.08% words, 157549 words/s, in_qsize -1, out_qsize 1\n",
      "2021-02-25 00:19:14,516 : INFO : worker thread finished; awaiting finish of 3 more threads\n",
      "2021-02-25 00:19:14,569 : INFO : worker thread finished; awaiting finish of 2 more threads\n",
      "2021-02-25 00:19:14,606 : INFO : worker thread finished; awaiting finish of 1 more threads\n",
      "2021-02-25 00:19:14,632 : INFO : worker thread finished; awaiting finish of 0 more threads\n",
      "2021-02-25 00:19:14,633 : INFO : EPOCH - 3 : training on 15276087 raw words (10999057 effective words) took 52.5s, 209569 effective words/s\n",
      "2021-02-25 00:20:05,726 : INFO : EPOCH 4 - PROGRESS: at 8.34% words, 17960 words/s, in_qsize -1, out_qsize 1\n",
      "2021-02-25 00:20:05,727 : INFO : worker thread finished; awaiting finish of 11 more threads\n",
      "2021-02-25 00:20:05,766 : INFO : worker thread finished; awaiting finish of 10 more threads\n",
      "2021-02-25 00:20:05,850 : INFO : worker thread finished; awaiting finish of 9 more threads\n",
      "2021-02-25 00:20:06,010 : INFO : worker thread finished; awaiting finish of 8 more threads\n",
      "2021-02-25 00:20:06,012 : INFO : worker thread finished; awaiting finish of 7 more threads\n",
      "2021-02-25 00:20:06,014 : INFO : worker thread finished; awaiting finish of 6 more threads\n",
      "2021-02-25 00:20:06,121 : INFO : worker thread finished; awaiting finish of 5 more threads\n",
      "2021-02-25 00:20:06,374 : INFO : worker thread finished; awaiting finish of 4 more threads\n",
      "2021-02-25 00:20:06,635 : INFO : worker thread finished; awaiting finish of 3 more threads\n",
      "2021-02-25 00:20:06,698 : INFO : worker thread finished; awaiting finish of 2 more threads\n",
      "2021-02-25 00:20:06,973 : INFO : EPOCH 4 - PROGRESS: at 91.77% words, 192818 words/s, in_qsize -1, out_qsize 1\n",
      "2021-02-25 00:20:06,974 : INFO : worker thread finished; awaiting finish of 1 more threads\n",
      "2021-02-25 00:20:06,978 : INFO : worker thread finished; awaiting finish of 0 more threads\n",
      "2021-02-25 00:20:06,979 : INFO : EPOCH - 4 : training on 15276087 raw words (10999731 effective words) took 52.3s, 210307 effective words/s\n",
      "2021-02-25 00:20:57,946 : INFO : EPOCH 5 - PROGRESS: at 8.34% words, 17994 words/s, in_qsize -1, out_qsize 1\n",
      "2021-02-25 00:20:57,948 : INFO : worker thread finished; awaiting finish of 11 more threads\n",
      "2021-02-25 00:20:58,093 : INFO : worker thread finished; awaiting finish of 10 more threads\n",
      "2021-02-25 00:20:58,279 : INFO : worker thread finished; awaiting finish of 9 more threads\n",
      "2021-02-25 00:20:58,329 : INFO : worker thread finished; awaiting finish of 8 more threads\n",
      "2021-02-25 00:20:58,661 : INFO : worker thread finished; awaiting finish of 7 more threads\n",
      "2021-02-25 00:20:58,672 : INFO : worker thread finished; awaiting finish of 6 more threads\n",
      "2021-02-25 00:20:58,802 : INFO : worker thread finished; awaiting finish of 5 more threads\n",
      "2021-02-25 00:20:58,812 : INFO : worker thread finished; awaiting finish of 4 more threads\n",
      "2021-02-25 00:20:59,279 : INFO : EPOCH 5 - PROGRESS: at 75.08% words, 157848 words/s, in_qsize -1, out_qsize 1\n",
      "2021-02-25 00:20:59,280 : INFO : worker thread finished; awaiting finish of 3 more threads\n",
      "2021-02-25 00:20:59,349 : INFO : worker thread finished; awaiting finish of 2 more threads\n",
      "2021-02-25 00:20:59,384 : INFO : worker thread finished; awaiting finish of 1 more threads\n",
      "2021-02-25 00:20:59,389 : INFO : worker thread finished; awaiting finish of 0 more threads\n",
      "2021-02-25 00:20:59,389 : INFO : EPOCH - 5 : training on 15276087 raw words (10996127 effective words) took 52.4s, 209978 effective words/s\n",
      "2021-02-25 00:20:59,393 : INFO : training on a 76380435 raw words (54989081 effective words) took 263.0s, 209085 effective words/s\n",
      "2021-02-25 00:20:59,394 : WARNING : under 10 jobs per worker: consider setting a smaller `batch_words' for smoother alpha decay\n",
      "2021-02-25 00:21:00,872 : INFO : saving FastText object under dados/experimento_7/ftt_jur.model, separately None\n",
      "2021-02-25 00:21:00,873 : INFO : storing np array 'vectors_ngrams' to dados/experimento_7/ftt_jur.model.wv.vectors_ngrams.npy\n",
      "2021-02-25 00:21:07,553 : INFO : not storing attribute vectors_norm\n",
      "2021-02-25 00:21:07,555 : INFO : not storing attribute vectors_vocab_norm\n",
      "2021-02-25 00:21:07,556 : INFO : not storing attribute vectors_ngrams_norm\n"
     ]
    },
    {
     "name": "stderr",
     "output_type": "stream",
     "text": [
      "2021-02-25 00:21:07,557 : INFO : not storing attribute buckets_word\n",
      "2021-02-25 00:21:07,558 : INFO : storing np array 'vectors_ngrams_lockf' to dados/experimento_7/ftt_jur.model.trainables.vectors_ngrams_lockf.npy\n",
      "2021-02-25 00:21:15,166 : INFO : saved dados/experimento_7/ftt_jur.model\n"
     ]
    },
    {
     "name": "stdout",
     "output_type": "stream",
     "text": [
      "treinando modelo glove\n",
      "mkdir -p build\n",
      "tokenizando corpus\n",
      "$ build/vocab_count -min-count 5 -verbose 2 < ../mestrado/experimentos_mestrado/dados/experimento_7/base_treino_glv.txt > ../mestrado/experimentos_mestrado/dados/experimento_7/glove_vocab.txt\n",
      "criando matriz de coocorrencia\n",
      "$ build/cooccur -memory 4.0 -vocab-file ../mestrado/experimentos_mestrado/dados/experimento_7/glove_vocab.txt -verbose 2 -window-size 15 < ../mestrado/experimentos_mestrado/dados/experimento_7/base_treino_glv.txt > ../mestrado/experimentos_mestrado/dados/experimento_7/glv_concurrence.bin\n",
      "$ build/shuffle -memory 4.0 -verbose 2 < ../mestrado/experimentos_mestrado/dados/experimento_7/glv_concurrence.bin > ../mestrado/experimentos_mestrado/dados/experimento_7/glv_concurrence_shuf.bin\n",
      "$ build/glove -save-file ../mestrado/experimentos_mestrado/dados/experimento_7/glv_jur -threads 8 -input-file ../mestrado/experimentos_mestrado/dados/experimento_7/glv_concurrence_shuf.bin -x-max 10 -iter 15 -vector-size 100 -binary 2 -vocab-file ../mestrado/experimentos_mestrado/dados/experimento_7/glove_vocab.txt -verbose 2\n",
      "\n",
      "BUILDING VOCABULARY\n",
      "Processed 0 tokens.100000 tokens.200000 tokens.300000 tokens.400000 tokens.500000 tokens.600000 tokens.700000 tokens.800000 tokens.900000 tokens.1000000 tokens.1100000 tokens.1200000 tokens.1300000 tokens.1400000 tokens.1500000 tokens.1600000 tokens.1700000 tokens.1800000 tokens.1900000 tokens.2000000 tokens.2100000 tokens.2200000 tokens.2300000 tokens.2400000 tokens.2500000 tokens.2600000 tokens.2700000 tokens.2800000 tokens.2900000 tokens.3000000 tokens.3100000 tokens.3200000 tokens.3300000 tokens.3400000 tokens.3500000 tokens.3600000 tokens.3700000 tokens.3800000 tokens.3900000 tokens.4000000 tokens.4100000 tokens.4200000 tokens.4300000 tokens.4400000 tokens.4500000 tokens.4600000 tokens.4700000 tokens.4800000 tokens.4900000 tokens.5000000 tokens.5100000 tokens.5200000 tokens.5300000 tokens.5400000 tokens.5500000 tokens.5600000 tokens.5700000 tokens.5800000 tokens.5900000 tokens.6000000 tokens.6100000 tokens.6200000 tokens.6300000 tokens.6400000 tokens.6500000 tokens.6600000 tokens.6700000 tokens.6800000 tokens.6900000 tokens.7000000 tokens.7100000 tokens.7200000 tokens.7300000 tokens.7400000 tokens.7500000 tokens.7600000 tokens.7700000 tokens.7800000 tokens.7900000 tokens.8000000 tokens.8100000 tokens.8200000 tokens.8300000 tokens.8400000 tokens.8500000 tokens.8600000 tokens.8700000 tokens.8800000 tokens.8900000 tokens.9000000 tokens.9100000 tokens.9200000 tokens.9300000 tokens.9400000 tokens.9500000 tokens.9600000 tokens.Processed 9600464 tokens.\n",
      "Counted 80667 unique words.\n",
      "Truncating vocabulary at min count 5.\n",
      "Using vocabulary of size 32316.\n",
      "\n",
      "COUNTING COOCCURRENCES\n",
      "window size: 15\n",
      "context: symmetric\n",
      "max product: 13752509\n",
      "overflow length: 38028356\n",
      "Reading vocab from file \"../mestrado/experimentos_mestrado/dados/experimento_7/glove_vocab.txt\"...loaded 32316 words.\n",
      "Building lookup table...table contains 73267661 elements.\n",
      "Processing token: 0100000200000300000400000500000600000700000800000900000100000011000001200000130000014000001500000160000017000001800000190000020000002100000220000023000002400000250000026000002700000280000029000003000000310000032000003300000340000035000003600000370000038000003900000400000041000004200000430000044000004500000460000047000004800000490000050000005100000520000053000005400000550000056000005700000580000059000006000000610000062000006300000640000065000006600000670000068000006900000700000071000007200000730000074000007500000760000077000007800000790000080000008100000820000083000008400000850000086000008700000880000089000009000000910000092000009300000940000095000009600000Processed 9600464 tokens.\n",
      "Writing cooccurrences to disk........2 files in total.\n"
     ]
    },
    {
     "name": "stdout",
     "output_type": "stream",
     "text": [
      "Merging cooccurrence files: processed 0 lines.100000 lines.200000 lines.300000 lines.400000 lines.500000 lines.600000 lines.700000 lines.800000 lines.900000 lines.1000000 lines.1100000 lines.1200000 lines.1300000 lines.1400000 lines.1500000 lines.1600000 lines.1700000 lines.1800000 lines.1900000 lines.2000000 lines.2100000 lines.2200000 lines.2300000 lines.2400000 lines.2500000 lines.2600000 lines.2700000 lines.2800000 lines.2900000 lines.3000000 lines.3100000 lines.3200000 lines.3300000 lines.3400000 lines.3500000 lines.3600000 lines.3700000 lines.3800000 lines.3900000 lines.4000000 lines.4100000 lines.4200000 lines.4300000 lines.4400000 lines.4500000 lines.4600000 lines.4700000 lines.4800000 lines.4900000 lines.5000000 lines.5100000 lines.5200000 lines.5300000 lines.5400000 lines.5500000 lines.5600000 lines.5700000 lines.5800000 lines.5900000 lines.6000000 lines.6100000 lines.6200000 lines.6300000 lines.6400000 lines.6500000 lines.6600000 lines.6700000 lines.6800000 lines.6900000 lines.7000000 lines.7100000 lines.7200000 lines.7300000 lines.7400000 lines.7500000 lines.7600000 lines.7700000 lines.7800000 lines.7900000 lines.8000000 lines.8100000 lines.8200000 lines.8300000 lines.8400000 lines.8500000 lines.8600000 lines.8700000 lines.8800000 lines.8900000 lines.9000000 lines.9100000 lines.9200000 lines.9300000 lines.9400000 lines.9500000 lines.9600000 lines.9700000 lines.9800000 lines.9900000 lines.10000000 lines.10100000 lines.10200000 lines.10300000 lines.10400000 lines.10500000 lines.10600000 lines.10700000 lines.10800000 lines.10900000 lines.11000000 lines.11100000 lines.11200000 lines.11300000 lines.11400000 lines.11500000 lines.11600000 lines.11700000 lines.11800000 lines.11900000 lines.12000000 lines.12100000 lines.12200000 lines.12300000 lines.12400000 lines.12500000 lines.12600000 lines.12700000 lines.12800000 lines.12900000 lines.13000000 lines.13100000 lines.13200000 lines.13300000 lines.13400000 lines.13500000 lines.13600000 lines.13700000 lines.13800000 lines.13900000 lines.14000000 lines.14100000 lines.14200000 lines.14300000 lines.14400000 lines.14500000 lines.14600000 lines.14700000 lines.14800000 lines.14900000 lines.15000000 lines.15100000 lines.15200000 lines.15300000 lines.15400000 lines.15500000 lines.15600000 lines.15700000 lines.15800000 lines.15900000 lines.16000000 lines.16100000 lines.16200000 lines.16300000 lines.16400000 lines.16500000 lines.16600000 lines.16700000 lines.16800000 lines.16900000 lines.17000000 lines.17100000 lines.17200000 lines.17300000 lines.17400000 lines.17500000 lines.17600000 lines.17700000 lines.17800000 lines.17900000 lines.18000000 lines.18100000 lines.18200000 lines.18300000 lines.18400000 lines.18500000 lines.18600000 lines.18700000 lines.18800000 lines.18900000 lines.19000000 lines.19100000 lines.19200000 lines.19300000 lines.19400000 lines.19500000 lines.19600000 lines.19700000 lines.19800000 lines.19900000 lines.20000000 lines.20100000 lines.20200000 lines.20300000 lines.20400000 lines.20500000 lines.20600000 lines.20700000 lines.20800000 lines.20900000 lines.21000000 lines.21100000 lines.21200000 lines.21300000 lines.21400000 lines.21500000 lines.21600000 lines.21700000 lines.21800000 lines.21900000 lines.22000000 lines.22100000 lines.22200000 lines.22300000 lines.22400000 lines.22500000 lines.22600000 lines.22700000 lines.22800000 lines.22900000 lines.23000000 lines.23100000 lines.23200000 lines.23300000 lines.23400000 lines.23500000 lines.23600000 lines.23700000 lines.23800000 lines.23900000 lines.24000000 lines.24100000 lines.24200000 lines.24300000 lines.24400000 lines.24500000 lines.24600000 lines.24700000 lines.24800000 lines.24900000 lines.25000000 lines.25100000 lines.25200000 lines.25300000 lines.25400000 lines.25500000 lines.25600000 lines.25700000 lines.25800000 lines.25900000 lines.26000000 lines.26100000 lines.26200000 lines.26300000 lines.26400000 lines.26500000 lines.26600000 lines.26700000 lines.26800000 lines.26900000 lines.27000000 lines.27100000 lines.27200000 lines.27300000 lines.27400000 lines.27500000 lines.27600000 lines.27700000 lines.27800000 lines.27900000 lines.28000000 lines.28100000 lines.28200000 lines.28300000 lines.28400000 lines.28500000 lines.28600000 lines.28700000 lines.28800000 lines.28900000 lines.29000000 lines.29100000 lines.29200000 lines.29300000 lines.29400000 lines.29500000 lines.29600000 lines.29700000 lines.29800000 lines.29900000 lines.30000000 lines.30100000 lines.30200000 lines.30300000 lines.30400000 lines.30500000 lines.30600000 lines.30700000 lines.30800000 lines.30900000 lines.31000000 lines.31100000 lines.31200000 lines.31300000 lines.Merging cooccurrence files: processed 31378997 lines.\n",
      "\n",
      "Using random seed 1614223292\n",
      "SHUFFLING COOCCURRENCES\n",
      "array size: 255013683\n",
      "Shuffling by chunks: processed 0 lines.processed 31378997 lines.\n",
      "Wrote 1 temporary file(s).\n",
      "Merging temp files: processed 0 lines.31378997 lines.Merging temp files: processed 31378997 lines.\n",
      "\n",
      "TRAINING MODEL\n",
      "Read 31378997 lines.\n",
      "Initializing parameters...Using random seed 1614223303\n",
      "done.\n",
      "vector size: 100\n",
      "vocab size: 32316\n",
      "x_max: 10.000000\n",
      "alpha: 0.750000\n",
      "02/25/21 - 12:21.55AM, iter: 001, cost: 0.109533\n",
      "02/25/21 - 12:22.06AM, iter: 002, cost: 0.079734\n",
      "02/25/21 - 12:22.18AM, iter: 003, cost: 0.066878\n",
      "02/25/21 - 12:22.29AM, iter: 004, cost: 0.059143\n",
      "02/25/21 - 12:22.40AM, iter: 005, cost: 0.054716\n",
      "02/25/21 - 12:22.51AM, iter: 006, cost: 0.052070\n",
      "02/25/21 - 12:23.02AM, iter: 007, cost: 0.050318\n",
      "02/25/21 - 12:23.12AM, iter: 008, cost: 0.049072\n",
      "02/25/21 - 12:23.23AM, iter: 009, cost: 0.048133\n",
      "02/25/21 - 12:23.34AM, iter: 010, cost: 0.047397\n",
      "02/25/21 - 12:23.45AM, iter: 011, cost: 0.046803\n",
      "02/25/21 - 12:23.56AM, iter: 012, cost: 0.046294\n",
      "02/25/21 - 12:24.06AM, iter: 013, cost: 0.045896\n",
      "02/25/21 - 12:24.17AM, iter: 014, cost: 0.045485\n",
      "02/25/21 - 12:24.28AM, iter: 015, cost: 0.045161\n",
      "\n",
      "treinamento concluído\n"
     ]
    },
    {
     "name": "stderr",
     "output_type": "stream",
     "text": [
      "2021-02-25 00:24:29,820 : INFO : converting 32317 vectors from dados/experimento_7/glv_jur.txt to C:\\Users\\CRISTI~1\\AppData\\Local\\Temp\\test_word2vec.txt\n",
      "2021-02-25 00:24:29,891 : INFO : loading projection weights from C:\\Users\\CRISTI~1\\AppData\\Local\\Temp\\test_word2vec.txt\n",
      "2021-02-25 00:24:32,602 : INFO : loaded (32317, 100) matrix from C:\\Users\\CRISTI~1\\AppData\\Local\\Temp\\test_word2vec.txt\n",
      "2021-02-25 00:24:32,604 : INFO : loading projection weights from modelos/w2v_skip_nilc.txt\n",
      "2021-02-25 00:25:49,321 : INFO : loaded (929606, 100) matrix from modelos/w2v_skip_nilc.txt\n",
      "2021-02-25 00:25:49,322 : INFO : loading projection weights from modelos/ftt_skip_nilc.txt\n",
      "2021-02-25 00:27:06,430 : INFO : loaded (929605, 100) matrix from modelos/ftt_skip_nilc.txt\n",
      "2021-02-25 00:27:06,431 : INFO : loading projection weights from modelos/glove_nilc.txt\n",
      "2021-02-25 00:28:23,058 : INFO : loaded (929605, 100) matrix from modelos/glove_nilc.txt\n"
     ]
    },
    {
     "name": "stdout",
     "output_type": "stream",
     "text": [
      "recuperando teores da base de teste\n"
     ]
    },
    {
     "data": {
      "application/vnd.jupyter.widget-view+json": {
       "model_id": "fd7039b6fbae4d6daae93b2ea6306bb4",
       "version_major": 2,
       "version_minor": 0
      },
      "text/plain": [
       "HBox(children=(IntProgress(value=0, max=6663), HTML(value='')))"
      ]
     },
     "metadata": {},
     "output_type": "display_data"
    },
    {
     "name": "stdout",
     "output_type": "stream",
     "text": [
      "\n",
      "criando representações word2vec geral\n"
     ]
    },
    {
     "data": {
      "application/vnd.jupyter.widget-view+json": {
       "model_id": "18f6fb8e025141dcafa508328c5e46d3",
       "version_major": 2,
       "version_minor": 0
      },
      "text/plain": [
       "HBox(children=(IntProgress(value=0, max=6663), HTML(value='')))"
      ]
     },
     "metadata": {},
     "output_type": "display_data"
    },
    {
     "name": "stdout",
     "output_type": "stream",
     "text": [
      "\n",
      "criando representações fasttext geral\n"
     ]
    },
    {
     "data": {
      "application/vnd.jupyter.widget-view+json": {
       "model_id": "749221d7e5e24f51a979a1118617c62e",
       "version_major": 2,
       "version_minor": 0
      },
      "text/plain": [
       "HBox(children=(IntProgress(value=0, max=6663), HTML(value='')))"
      ]
     },
     "metadata": {},
     "output_type": "display_data"
    },
    {
     "name": "stdout",
     "output_type": "stream",
     "text": [
      "\n",
      "criando representações glove geral\n"
     ]
    },
    {
     "data": {
      "application/vnd.jupyter.widget-view+json": {
       "model_id": "1bbd615d6acc414a98852b1530b84571",
       "version_major": 2,
       "version_minor": 0
      },
      "text/plain": [
       "HBox(children=(IntProgress(value=0, max=6663), HTML(value='')))"
      ]
     },
     "metadata": {},
     "output_type": "display_data"
    },
    {
     "name": "stdout",
     "output_type": "stream",
     "text": [
      "\n",
      "criando representações word2vec juridico\n"
     ]
    },
    {
     "data": {
      "application/vnd.jupyter.widget-view+json": {
       "model_id": "d8352b4a7dec4c6799991d09e32fe167",
       "version_major": 2,
       "version_minor": 0
      },
      "text/plain": [
       "HBox(children=(IntProgress(value=0, max=6663), HTML(value='')))"
      ]
     },
     "metadata": {},
     "output_type": "display_data"
    },
    {
     "name": "stdout",
     "output_type": "stream",
     "text": [
      "\n",
      "criando representações fasttext juridico\n"
     ]
    },
    {
     "data": {
      "application/vnd.jupyter.widget-view+json": {
       "model_id": "bea0c9f8305d44f48750b098c7b40549",
       "version_major": 2,
       "version_minor": 0
      },
      "text/plain": [
       "HBox(children=(IntProgress(value=0, max=6663), HTML(value='')))"
      ]
     },
     "metadata": {},
     "output_type": "display_data"
    },
    {
     "name": "stdout",
     "output_type": "stream",
     "text": [
      "\n",
      "criando representações glove juridico\n"
     ]
    },
    {
     "data": {
      "application/vnd.jupyter.widget-view+json": {
       "model_id": "44708b1259ce4d15b572673db4f2b2a0",
       "version_major": 2,
       "version_minor": 0
      },
      "text/plain": [
       "HBox(children=(IntProgress(value=0, max=6663), HTML(value='')))"
      ]
     },
     "metadata": {},
     "output_type": "display_data"
    },
    {
     "name": "stdout",
     "output_type": "stream",
     "text": [
      "\n",
      "----------- EXPERIMENTO 7 CONCLUIDO -----------\n",
      "tempo do experimento: 22.033024402459464 minutos\n",
      "----------------------- EXPERIMENTO 8 -----------------------\n",
      "criando base de treino para o experimento 8\n"
     ]
    },
    {
     "data": {
      "application/vnd.jupyter.widget-view+json": {
       "model_id": "6000c9f9482e455b93da6be72cf4c40d",
       "version_major": 2,
       "version_minor": 0
      },
      "text/plain": [
       "HBox(children=(IntProgress(value=0, max=26650), HTML(value='')))"
      ]
     },
     "metadata": {},
     "output_type": "display_data"
    },
    {
     "name": "stdout",
     "output_type": "stream",
     "text": [
      "\n",
      "16020785 tokens copiados com sucesso\n",
      "preparando documentos para extração do vocabulário:\n"
     ]
    },
    {
     "data": {
      "application/vnd.jupyter.widget-view+json": {
       "model_id": "631988a6a5e54437a7812a356d9cf011",
       "version_major": 2,
       "version_minor": 0
      },
      "text/plain": [
       "HBox(children=(IntProgress(value=0, max=26650), HTML(value='')))"
      ]
     },
     "metadata": {},
     "output_type": "display_data"
    },
    {
     "name": "stdout",
     "output_type": "stream",
     "text": [
      "\n",
      "extraindo termos com base no ICA\n"
     ]
    },
    {
     "data": {
      "application/vnd.jupyter.widget-view+json": {
       "model_id": "2eb7dcfc0e344fba9cf2b2bae5ddfa78",
       "version_major": 2,
       "version_minor": 0
      },
      "text/plain": [
       "HBox(children=(IntProgress(value=0, max=125), HTML(value='')))"
      ]
     },
     "metadata": {},
     "output_type": "display_data"
    },
    {
     "name": "stdout",
     "output_type": "stream",
     "text": [
      "\n",
      "-processando strings do corpus\n",
      "-treinando vetorizador\n",
      "-ICA processado\n",
      "extraindo termos com base na frequência - geralmente leva menos de 4 minutos\n",
      "extraindo termos do tesauro\n",
      "extração de vocabulário concluída!\n",
      "treinando modelo word2vec\n"
     ]
    },
    {
     "name": "stderr",
     "output_type": "stream",
     "text": [
      "2021-02-25 00:36:32,461 : INFO : collecting all words and their counts\n",
      "2021-02-25 00:36:32,469 : INFO : PROGRESS: at sentence #0, processed 0 words, keeping 0 word types\n",
      "2021-02-25 00:36:32,538 : INFO : PROGRESS: at sentence #10000, processed 249645 words, keeping 14150 word types\n",
      "2021-02-25 00:36:32,605 : INFO : PROGRESS: at sentence #20000, processed 497357 words, keeping 19381 word types\n",
      "2021-02-25 00:36:32,673 : INFO : PROGRESS: at sentence #30000, processed 741144 words, keeping 23233 word types\n",
      "2021-02-25 00:36:32,741 : INFO : PROGRESS: at sentence #40000, processed 987778 words, keeping 26174 word types\n",
      "2021-02-25 00:36:32,808 : INFO : PROGRESS: at sentence #50000, processed 1233484 words, keeping 28614 word types\n",
      "2021-02-25 00:36:32,877 : INFO : PROGRESS: at sentence #60000, processed 1483391 words, keeping 30825 word types\n",
      "2021-02-25 00:36:32,944 : INFO : PROGRESS: at sentence #70000, processed 1731359 words, keeping 32820 word types\n",
      "2021-02-25 00:36:33,010 : INFO : PROGRESS: at sentence #80000, processed 1976281 words, keeping 34885 word types\n",
      "2021-02-25 00:36:33,077 : INFO : PROGRESS: at sentence #90000, processed 2218117 words, keeping 36516 word types\n",
      "2021-02-25 00:36:33,144 : INFO : PROGRESS: at sentence #100000, processed 2462738 words, keeping 38015 word types\n",
      "2021-02-25 00:36:33,212 : INFO : PROGRESS: at sentence #110000, processed 2702913 words, keeping 39454 word types\n",
      "2021-02-25 00:36:33,277 : INFO : PROGRESS: at sentence #120000, processed 2937278 words, keeping 40704 word types\n",
      "2021-02-25 00:36:33,343 : INFO : PROGRESS: at sentence #130000, processed 3179693 words, keeping 42079 word types\n",
      "2021-02-25 00:36:33,410 : INFO : PROGRESS: at sentence #140000, processed 3419296 words, keeping 43243 word types\n",
      "2021-02-25 00:36:33,482 : INFO : PROGRESS: at sentence #150000, processed 3663185 words, keeping 44709 word types\n",
      "2021-02-25 00:36:33,548 : INFO : PROGRESS: at sentence #160000, processed 3897294 words, keeping 45872 word types\n",
      "2021-02-25 00:36:33,616 : INFO : PROGRESS: at sentence #170000, processed 4137402 words, keeping 47017 word types\n",
      "2021-02-25 00:36:33,683 : INFO : PROGRESS: at sentence #180000, processed 4381474 words, keeping 48115 word types\n",
      "2021-02-25 00:36:33,751 : INFO : PROGRESS: at sentence #190000, processed 4624899 words, keeping 49334 word types\n",
      "2021-02-25 00:36:33,819 : INFO : PROGRESS: at sentence #200000, processed 4870974 words, keeping 50360 word types\n",
      "2021-02-25 00:36:33,887 : INFO : PROGRESS: at sentence #210000, processed 5116257 words, keeping 51366 word types\n",
      "2021-02-25 00:36:33,954 : INFO : PROGRESS: at sentence #220000, processed 5350774 words, keeping 52337 word types\n",
      "2021-02-25 00:36:34,022 : INFO : PROGRESS: at sentence #230000, processed 5595598 words, keeping 53337 word types\n",
      "2021-02-25 00:36:34,089 : INFO : PROGRESS: at sentence #240000, processed 5836905 words, keeping 54310 word types\n",
      "2021-02-25 00:36:34,154 : INFO : PROGRESS: at sentence #250000, processed 6078535 words, keeping 55137 word types\n",
      "2021-02-25 00:36:34,221 : INFO : PROGRESS: at sentence #260000, processed 6319993 words, keeping 56062 word types\n",
      "2021-02-25 00:36:34,289 : INFO : PROGRESS: at sentence #270000, processed 6561072 words, keeping 56921 word types\n",
      "2021-02-25 00:36:34,356 : INFO : PROGRESS: at sentence #280000, processed 6807550 words, keeping 57756 word types\n",
      "2021-02-25 00:36:34,423 : INFO : PROGRESS: at sentence #290000, processed 7051404 words, keeping 58517 word types\n",
      "2021-02-25 00:36:34,493 : INFO : PROGRESS: at sentence #300000, processed 7298257 words, keeping 59429 word types\n",
      "2021-02-25 00:36:34,561 : INFO : PROGRESS: at sentence #310000, processed 7537975 words, keeping 60460 word types\n",
      "2021-02-25 00:36:34,628 : INFO : PROGRESS: at sentence #320000, processed 7781786 words, keeping 61243 word types\n",
      "2021-02-25 00:36:34,697 : INFO : PROGRESS: at sentence #330000, processed 8026488 words, keeping 61916 word types\n",
      "2021-02-25 00:36:34,767 : INFO : PROGRESS: at sentence #340000, processed 8276935 words, keeping 62662 word types\n",
      "2021-02-25 00:36:34,834 : INFO : PROGRESS: at sentence #350000, processed 8518629 words, keeping 63380 word types\n",
      "2021-02-25 00:36:34,903 : INFO : PROGRESS: at sentence #360000, processed 8765553 words, keeping 64199 word types\n",
      "2021-02-25 00:36:34,973 : INFO : PROGRESS: at sentence #370000, processed 9008995 words, keeping 64998 word types\n",
      "2021-02-25 00:36:35,041 : INFO : PROGRESS: at sentence #380000, processed 9251664 words, keeping 65658 word types\n",
      "2021-02-25 00:36:35,109 : INFO : PROGRESS: at sentence #390000, processed 9498298 words, keeping 66350 word types\n",
      "2021-02-25 00:36:35,177 : INFO : PROGRESS: at sentence #400000, processed 9739401 words, keeping 67039 word types\n",
      "2021-02-25 00:36:35,245 : INFO : PROGRESS: at sentence #410000, processed 9985283 words, keeping 67779 word types\n",
      "2021-02-25 00:36:35,311 : INFO : PROGRESS: at sentence #420000, processed 10222995 words, keeping 68384 word types\n",
      "2021-02-25 00:36:35,382 : INFO : PROGRESS: at sentence #430000, processed 10474965 words, keeping 69166 word types\n",
      "2021-02-25 00:36:35,452 : INFO : PROGRESS: at sentence #440000, processed 10718133 words, keeping 69806 word types\n",
      "2021-02-25 00:36:35,523 : INFO : PROGRESS: at sentence #450000, processed 10969188 words, keeping 70483 word types\n",
      "2021-02-25 00:36:35,590 : INFO : PROGRESS: at sentence #460000, processed 11206495 words, keeping 71175 word types\n",
      "2021-02-25 00:36:35,656 : INFO : PROGRESS: at sentence #470000, processed 11447877 words, keeping 71767 word types\n",
      "2021-02-25 00:36:35,723 : INFO : PROGRESS: at sentence #480000, processed 11691592 words, keeping 72367 word types\n",
      "2021-02-25 00:36:35,791 : INFO : PROGRESS: at sentence #490000, processed 11935953 words, keeping 72928 word types\n",
      "2021-02-25 00:36:35,859 : INFO : PROGRESS: at sentence #500000, processed 12176965 words, keeping 73519 word types\n",
      "2021-02-25 00:36:35,928 : INFO : PROGRESS: at sentence #510000, processed 12422033 words, keeping 74132 word types\n",
      "2021-02-25 00:36:35,992 : INFO : PROGRESS: at sentence #520000, processed 12654224 words, keeping 74596 word types\n",
      "2021-02-25 00:36:36,062 : INFO : PROGRESS: at sentence #530000, processed 12900319 words, keeping 75249 word types\n",
      "2021-02-25 00:36:36,130 : INFO : PROGRESS: at sentence #540000, processed 13142687 words, keeping 75911 word types\n",
      "2021-02-25 00:36:36,199 : INFO : PROGRESS: at sentence #550000, processed 13387702 words, keeping 76559 word types\n",
      "2021-02-25 00:36:36,266 : INFO : PROGRESS: at sentence #560000, processed 13624144 words, keeping 77040 word types\n",
      "2021-02-25 00:36:36,334 : INFO : PROGRESS: at sentence #570000, processed 13870208 words, keeping 77540 word types\n",
      "2021-02-25 00:36:36,401 : INFO : PROGRESS: at sentence #580000, processed 14117190 words, keeping 78022 word types\n",
      "2021-02-25 00:36:36,474 : INFO : PROGRESS: at sentence #590000, processed 14374968 words, keeping 78591 word types\n",
      "2021-02-25 00:36:36,542 : INFO : PROGRESS: at sentence #600000, processed 14619358 words, keeping 79094 word types\n",
      "2021-02-25 00:36:36,613 : INFO : PROGRESS: at sentence #610000, processed 14869817 words, keeping 79648 word types\n",
      "2021-02-25 00:36:36,681 : INFO : PROGRESS: at sentence #620000, processed 15115032 words, keeping 80223 word types\n",
      "2021-02-25 00:36:36,747 : INFO : PROGRESS: at sentence #630000, processed 15360904 words, keeping 80782 word types\n",
      "2021-02-25 00:36:36,751 : INFO : collected 80806 word types from a corpus of 15370817 raw words and 630409 sentences\n",
      "2021-02-25 00:36:36,752 : INFO : Loading a fresh vocabulary\n",
      "2021-02-25 00:36:36,856 : INFO : effective_min_count=5 retains 32541 unique words (40% of original 80806, drops 48265)\n",
      "2021-02-25 00:36:36,857 : INFO : effective_min_count=5 leaves 15289229 word corpus (99% of original 15370817, drops 81588)\n",
      "2021-02-25 00:36:36,938 : INFO : deleting the raw counts dictionary of 80806 items\n",
      "2021-02-25 00:36:36,941 : INFO : sample=1e-05 downsamples 3232 most-common words\n",
      "2021-02-25 00:36:36,942 : INFO : downsampling leaves estimated 3695333 word corpus (24.2% of prior 15289229)\n",
      "2021-02-25 00:36:36,966 : INFO : constructing a huffman tree from 32541 words\n",
      "2021-02-25 00:36:37,660 : INFO : built huffman tree with maximum node depth 22\n"
     ]
    },
    {
     "name": "stderr",
     "output_type": "stream",
     "text": [
      "2021-02-25 00:36:37,712 : INFO : estimated required memory for 32541 words and 100 dimensions: 61827900 bytes\n",
      "2021-02-25 00:36:37,713 : INFO : resetting layer weights\n",
      "2021-02-25 00:36:38,026 : INFO : training model with 12 workers on 32541 vocabulary and 100 features, using sg=1 hs=1 sample=1e-05 negative=5 window=5\n",
      "2021-02-25 00:36:39,041 : INFO : EPOCH 1 - PROGRESS: at 9.23% examples, 342364 words/s, in_qsize 0, out_qsize 1\n",
      "2021-02-25 00:36:40,049 : INFO : EPOCH 1 - PROGRESS: at 18.51% examples, 340974 words/s, in_qsize 0, out_qsize 0\n",
      "2021-02-25 00:36:41,066 : INFO : EPOCH 1 - PROGRESS: at 26.14% examples, 317989 words/s, in_qsize 0, out_qsize 0\n",
      "2021-02-25 00:36:42,072 : INFO : EPOCH 1 - PROGRESS: at 34.95% examples, 318736 words/s, in_qsize 4, out_qsize 0\n",
      "2021-02-25 00:36:43,073 : INFO : EPOCH 1 - PROGRESS: at 43.19% examples, 315213 words/s, in_qsize 0, out_qsize 1\n",
      "2021-02-25 00:36:44,084 : INFO : EPOCH 1 - PROGRESS: at 51.29% examples, 312298 words/s, in_qsize 3, out_qsize 0\n",
      "2021-02-25 00:36:45,089 : INFO : EPOCH 1 - PROGRESS: at 58.83% examples, 307653 words/s, in_qsize 0, out_qsize 0\n",
      "2021-02-25 00:36:46,103 : INFO : EPOCH 1 - PROGRESS: at 66.77% examples, 305341 words/s, in_qsize 0, out_qsize 1\n",
      "2021-02-25 00:36:47,107 : INFO : EPOCH 1 - PROGRESS: at 74.54% examples, 303427 words/s, in_qsize 0, out_qsize 0\n",
      "2021-02-25 00:36:48,112 : INFO : EPOCH 1 - PROGRESS: at 82.93% examples, 303456 words/s, in_qsize 0, out_qsize 1\n",
      "2021-02-25 00:36:49,129 : INFO : EPOCH 1 - PROGRESS: at 90.48% examples, 300755 words/s, in_qsize 0, out_qsize 0\n",
      "2021-02-25 00:36:50,131 : INFO : EPOCH 1 - PROGRESS: at 99.14% examples, 302712 words/s, in_qsize 0, out_qsize 0\n",
      "2021-02-25 00:36:50,196 : INFO : worker thread finished; awaiting finish of 11 more threads\n",
      "2021-02-25 00:36:50,198 : INFO : worker thread finished; awaiting finish of 10 more threads\n",
      "2021-02-25 00:36:50,202 : INFO : worker thread finished; awaiting finish of 9 more threads\n",
      "2021-02-25 00:36:50,204 : INFO : worker thread finished; awaiting finish of 8 more threads\n",
      "2021-02-25 00:36:50,206 : INFO : worker thread finished; awaiting finish of 7 more threads\n",
      "2021-02-25 00:36:50,208 : INFO : worker thread finished; awaiting finish of 6 more threads\n",
      "2021-02-25 00:36:50,209 : INFO : worker thread finished; awaiting finish of 5 more threads\n",
      "2021-02-25 00:36:50,212 : INFO : worker thread finished; awaiting finish of 4 more threads\n",
      "2021-02-25 00:36:50,215 : INFO : worker thread finished; awaiting finish of 3 more threads\n",
      "2021-02-25 00:36:50,219 : INFO : worker thread finished; awaiting finish of 2 more threads\n",
      "2021-02-25 00:36:50,232 : INFO : worker thread finished; awaiting finish of 1 more threads\n",
      "2021-02-25 00:36:50,236 : INFO : worker thread finished; awaiting finish of 0 more threads\n",
      "2021-02-25 00:36:50,237 : INFO : EPOCH - 1 : training on 15370817 raw words (3695191 effective words) took 12.2s, 302764 effective words/s\n",
      "2021-02-25 00:36:51,246 : INFO : EPOCH 2 - PROGRESS: at 7.43% examples, 278588 words/s, in_qsize 0, out_qsize 0\n",
      "2021-02-25 00:36:52,263 : INFO : EPOCH 2 - PROGRESS: at 15.93% examples, 294257 words/s, in_qsize 23, out_qsize 1\n",
      "2021-02-25 00:36:53,275 : INFO : EPOCH 2 - PROGRESS: at 24.51% examples, 299096 words/s, in_qsize 0, out_qsize 5\n",
      "2021-02-25 00:36:54,289 : INFO : EPOCH 2 - PROGRESS: at 33.74% examples, 307594 words/s, in_qsize 0, out_qsize 0\n",
      "2021-02-25 00:36:55,295 : INFO : EPOCH 2 - PROGRESS: at 42.40% examples, 309036 words/s, in_qsize 0, out_qsize 0\n",
      "2021-02-25 00:36:56,305 : INFO : EPOCH 2 - PROGRESS: at 51.35% examples, 312181 words/s, in_qsize 3, out_qsize 0\n",
      "2021-02-25 00:36:57,320 : INFO : EPOCH 2 - PROGRESS: at 58.70% examples, 306029 words/s, in_qsize 0, out_qsize 3\n",
      "2021-02-25 00:36:58,331 : INFO : EPOCH 2 - PROGRESS: at 66.90% examples, 305262 words/s, in_qsize 15, out_qsize 1\n",
      "2021-02-25 00:36:59,336 : INFO : EPOCH 2 - PROGRESS: at 75.59% examples, 306922 words/s, in_qsize 15, out_qsize 1\n",
      "2021-02-25 00:37:00,344 : INFO : EPOCH 2 - PROGRESS: at 84.34% examples, 308003 words/s, in_qsize 11, out_qsize 2\n",
      "2021-02-25 00:37:01,349 : INFO : EPOCH 2 - PROGRESS: at 93.50% examples, 310568 words/s, in_qsize 18, out_qsize 0\n",
      "2021-02-25 00:37:02,062 : INFO : worker thread finished; awaiting finish of 11 more threads\n",
      "2021-02-25 00:37:02,069 : INFO : worker thread finished; awaiting finish of 10 more threads\n",
      "2021-02-25 00:37:02,071 : INFO : worker thread finished; awaiting finish of 9 more threads\n",
      "2021-02-25 00:37:02,072 : INFO : worker thread finished; awaiting finish of 8 more threads\n",
      "2021-02-25 00:37:02,074 : INFO : worker thread finished; awaiting finish of 7 more threads\n",
      "2021-02-25 00:37:02,075 : INFO : worker thread finished; awaiting finish of 6 more threads\n",
      "2021-02-25 00:37:02,076 : INFO : worker thread finished; awaiting finish of 5 more threads\n",
      "2021-02-25 00:37:02,089 : INFO : worker thread finished; awaiting finish of 4 more threads\n",
      "2021-02-25 00:37:02,094 : INFO : worker thread finished; awaiting finish of 3 more threads\n",
      "2021-02-25 00:37:02,099 : INFO : worker thread finished; awaiting finish of 2 more threads\n",
      "2021-02-25 00:37:02,101 : INFO : worker thread finished; awaiting finish of 1 more threads\n",
      "2021-02-25 00:37:02,104 : INFO : worker thread finished; awaiting finish of 0 more threads\n",
      "2021-02-25 00:37:02,106 : INFO : EPOCH - 2 : training on 15370817 raw words (3695164 effective words) took 11.9s, 311465 effective words/s\n",
      "2021-02-25 00:37:03,110 : INFO : EPOCH 3 - PROGRESS: at 7.82% examples, 293589 words/s, in_qsize 16, out_qsize 1\n",
      "2021-02-25 00:37:04,133 : INFO : EPOCH 3 - PROGRESS: at 16.13% examples, 297132 words/s, in_qsize 24, out_qsize 0\n",
      "2021-02-25 00:37:05,153 : INFO : EPOCH 3 - PROGRESS: at 25.41% examples, 308177 words/s, in_qsize 0, out_qsize 1\n",
      "2021-02-25 00:37:06,164 : INFO : EPOCH 3 - PROGRESS: at 33.26% examples, 302849 words/s, in_qsize 3, out_qsize 0\n",
      "2021-02-25 00:37:07,179 : INFO : EPOCH 3 - PROGRESS: at 42.60% examples, 309427 words/s, in_qsize 8, out_qsize 1\n",
      "2021-02-25 00:37:08,186 : INFO : EPOCH 3 - PROGRESS: at 51.09% examples, 309910 words/s, in_qsize 13, out_qsize 0\n",
      "2021-02-25 00:37:09,188 : INFO : EPOCH 3 - PROGRESS: at 59.75% examples, 311326 words/s, in_qsize 0, out_qsize 1\n",
      "2021-02-25 00:37:10,196 : INFO : EPOCH 3 - PROGRESS: at 67.41% examples, 307708 words/s, in_qsize 17, out_qsize 1\n",
      "2021-02-25 00:37:11,201 : INFO : EPOCH 3 - PROGRESS: at 76.96% examples, 312469 words/s, in_qsize 1, out_qsize 1\n",
      "2021-02-25 00:37:12,201 : INFO : EPOCH 3 - PROGRESS: at 85.12% examples, 311356 words/s, in_qsize 13, out_qsize 0\n",
      "2021-02-25 00:37:13,220 : INFO : EPOCH 3 - PROGRESS: at 93.56% examples, 310834 words/s, in_qsize 0, out_qsize 2\n",
      "2021-02-25 00:37:13,900 : INFO : worker thread finished; awaiting finish of 11 more threads\n",
      "2021-02-25 00:37:13,902 : INFO : worker thread finished; awaiting finish of 10 more threads\n",
      "2021-02-25 00:37:13,915 : INFO : worker thread finished; awaiting finish of 9 more threads\n",
      "2021-02-25 00:37:13,917 : INFO : worker thread finished; awaiting finish of 8 more threads\n",
      "2021-02-25 00:37:13,922 : INFO : worker thread finished; awaiting finish of 7 more threads\n",
      "2021-02-25 00:37:13,925 : INFO : worker thread finished; awaiting finish of 6 more threads\n",
      "2021-02-25 00:37:13,927 : INFO : worker thread finished; awaiting finish of 5 more threads\n",
      "2021-02-25 00:37:13,929 : INFO : worker thread finished; awaiting finish of 4 more threads\n",
      "2021-02-25 00:37:13,931 : INFO : worker thread finished; awaiting finish of 3 more threads\n",
      "2021-02-25 00:37:13,933 : INFO : worker thread finished; awaiting finish of 2 more threads\n",
      "2021-02-25 00:37:13,936 : INFO : worker thread finished; awaiting finish of 1 more threads\n",
      "2021-02-25 00:37:13,938 : INFO : worker thread finished; awaiting finish of 0 more threads\n",
      "2021-02-25 00:37:13,939 : INFO : EPOCH - 3 : training on 15370817 raw words (3695690 effective words) took 11.8s, 312406 effective words/s\n",
      "2021-02-25 00:37:14,945 : INFO : EPOCH 4 - PROGRESS: at 8.78% examples, 328588 words/s, in_qsize 0, out_qsize 0\n",
      "2021-02-25 00:37:15,953 : INFO : EPOCH 4 - PROGRESS: at 16.13% examples, 299076 words/s, in_qsize 22, out_qsize 0\n",
      "2021-02-25 00:37:16,960 : INFO : EPOCH 4 - PROGRESS: at 25.88% examples, 316452 words/s, in_qsize 0, out_qsize 0\n"
     ]
    },
    {
     "name": "stderr",
     "output_type": "stream",
     "text": [
      "2021-02-25 00:37:17,960 : INFO : EPOCH 4 - PROGRESS: at 34.52% examples, 316710 words/s, in_qsize 0, out_qsize 0\n",
      "2021-02-25 00:37:18,976 : INFO : EPOCH 4 - PROGRESS: at 43.13% examples, 315192 words/s, in_qsize 2, out_qsize 0\n",
      "2021-02-25 00:37:19,977 : INFO : EPOCH 4 - PROGRESS: at 51.16% examples, 312524 words/s, in_qsize 1, out_qsize 0\n",
      "2021-02-25 00:37:20,979 : INFO : EPOCH 4 - PROGRESS: at 59.69% examples, 312977 words/s, in_qsize 1, out_qsize 0\n",
      "2021-02-25 00:37:21,980 : INFO : EPOCH 4 - PROGRESS: at 67.71% examples, 311201 words/s, in_qsize 22, out_qsize 1\n",
      "2021-02-25 00:37:22,988 : INFO : EPOCH 4 - PROGRESS: at 77.00% examples, 314321 words/s, in_qsize 16, out_qsize 0\n",
      "2021-02-25 00:37:23,987 : INFO : EPOCH 4 - PROGRESS: at 85.52% examples, 314141 words/s, in_qsize 18, out_qsize 0\n",
      "2021-02-25 00:37:24,991 : INFO : EPOCH 4 - PROGRESS: at 94.32% examples, 315034 words/s, in_qsize 23, out_qsize 2\n",
      "2021-02-25 00:37:25,535 : INFO : worker thread finished; awaiting finish of 11 more threads\n",
      "2021-02-25 00:37:25,550 : INFO : worker thread finished; awaiting finish of 10 more threads\n",
      "2021-02-25 00:37:25,567 : INFO : worker thread finished; awaiting finish of 9 more threads\n",
      "2021-02-25 00:37:25,569 : INFO : worker thread finished; awaiting finish of 8 more threads\n",
      "2021-02-25 00:37:25,571 : INFO : worker thread finished; awaiting finish of 7 more threads\n",
      "2021-02-25 00:37:25,573 : INFO : worker thread finished; awaiting finish of 6 more threads\n",
      "2021-02-25 00:37:25,575 : INFO : worker thread finished; awaiting finish of 5 more threads\n",
      "2021-02-25 00:37:25,580 : INFO : worker thread finished; awaiting finish of 4 more threads\n",
      "2021-02-25 00:37:25,587 : INFO : worker thread finished; awaiting finish of 3 more threads\n",
      "2021-02-25 00:37:25,591 : INFO : worker thread finished; awaiting finish of 2 more threads\n",
      "2021-02-25 00:37:25,593 : INFO : worker thread finished; awaiting finish of 1 more threads\n",
      "2021-02-25 00:37:25,595 : INFO : worker thread finished; awaiting finish of 0 more threads\n",
      "2021-02-25 00:37:25,597 : INFO : EPOCH - 4 : training on 15370817 raw words (3694674 effective words) took 11.7s, 317080 effective words/s\n",
      "2021-02-25 00:37:26,610 : INFO : EPOCH 5 - PROGRESS: at 8.85% examples, 328670 words/s, in_qsize 0, out_qsize 0\n",
      "2021-02-25 00:37:27,624 : INFO : EPOCH 5 - PROGRESS: at 17.08% examples, 313943 words/s, in_qsize 23, out_qsize 0\n",
      "2021-02-25 00:37:28,625 : INFO : EPOCH 5 - PROGRESS: at 26.14% examples, 319093 words/s, in_qsize 0, out_qsize 2\n",
      "2021-02-25 00:37:29,633 : INFO : EPOCH 5 - PROGRESS: at 35.21% examples, 321669 words/s, in_qsize 0, out_qsize 0\n",
      "2021-02-25 00:37:30,660 : INFO : EPOCH 5 - PROGRESS: at 43.26% examples, 314468 words/s, in_qsize 23, out_qsize 0\n",
      "2021-02-25 00:37:31,691 : INFO : EPOCH 5 - PROGRESS: at 51.93% examples, 314165 words/s, in_qsize 23, out_qsize 1\n",
      "2021-02-25 00:37:32,698 : INFO : EPOCH 5 - PROGRESS: at 61.80% examples, 321268 words/s, in_qsize 0, out_qsize 0\n",
      "2021-02-25 00:37:33,698 : INFO : EPOCH 5 - PROGRESS: at 70.35% examples, 321114 words/s, in_qsize 8, out_qsize 0\n",
      "2021-02-25 00:37:34,706 : INFO : EPOCH 5 - PROGRESS: at 79.48% examples, 322194 words/s, in_qsize 1, out_qsize 0\n",
      "2021-02-25 00:37:35,710 : INFO : EPOCH 5 - PROGRESS: at 88.28% examples, 322162 words/s, in_qsize 0, out_qsize 0\n",
      "2021-02-25 00:37:36,710 : INFO : EPOCH 5 - PROGRESS: at 97.07% examples, 322658 words/s, in_qsize 0, out_qsize 0\n",
      "2021-02-25 00:37:36,983 : INFO : worker thread finished; awaiting finish of 11 more threads\n",
      "2021-02-25 00:37:36,993 : INFO : worker thread finished; awaiting finish of 10 more threads\n",
      "2021-02-25 00:37:37,002 : INFO : worker thread finished; awaiting finish of 9 more threads\n",
      "2021-02-25 00:37:37,004 : INFO : worker thread finished; awaiting finish of 8 more threads\n",
      "2021-02-25 00:37:37,008 : INFO : worker thread finished; awaiting finish of 7 more threads\n",
      "2021-02-25 00:37:37,023 : INFO : worker thread finished; awaiting finish of 6 more threads\n",
      "2021-02-25 00:37:37,025 : INFO : worker thread finished; awaiting finish of 5 more threads\n",
      "2021-02-25 00:37:37,027 : INFO : worker thread finished; awaiting finish of 4 more threads\n",
      "2021-02-25 00:37:37,031 : INFO : worker thread finished; awaiting finish of 3 more threads\n",
      "2021-02-25 00:37:37,035 : INFO : worker thread finished; awaiting finish of 2 more threads\n",
      "2021-02-25 00:37:37,037 : INFO : worker thread finished; awaiting finish of 1 more threads\n",
      "2021-02-25 00:37:37,039 : INFO : worker thread finished; awaiting finish of 0 more threads\n",
      "2021-02-25 00:37:37,040 : INFO : EPOCH - 5 : training on 15370817 raw words (3694778 effective words) took 11.4s, 323021 effective words/s\n",
      "2021-02-25 00:37:38,057 : INFO : EPOCH 6 - PROGRESS: at 8.46% examples, 313416 words/s, in_qsize 0, out_qsize 0\n",
      "2021-02-25 00:37:39,063 : INFO : EPOCH 6 - PROGRESS: at 16.80% examples, 309919 words/s, in_qsize 23, out_qsize 0\n",
      "2021-02-25 00:37:40,065 : INFO : EPOCH 6 - PROGRESS: at 26.60% examples, 325464 words/s, in_qsize 0, out_qsize 0\n",
      "2021-02-25 00:37:41,076 : INFO : EPOCH 6 - PROGRESS: at 35.20% examples, 321933 words/s, in_qsize 20, out_qsize 4\n",
      "2021-02-25 00:37:42,081 : INFO : EPOCH 6 - PROGRESS: at 45.10% examples, 330002 words/s, in_qsize 0, out_qsize 0\n",
      "2021-02-25 00:37:43,085 : INFO : EPOCH 6 - PROGRESS: at 53.77% examples, 328354 words/s, in_qsize 17, out_qsize 0\n",
      "2021-02-25 00:37:44,105 : INFO : EPOCH 6 - PROGRESS: at 62.58% examples, 327255 words/s, in_qsize 11, out_qsize 0\n",
      "2021-02-25 00:37:45,109 : INFO : EPOCH 6 - PROGRESS: at 71.11% examples, 326098 words/s, in_qsize 0, out_qsize 0\n",
      "2021-02-25 00:37:46,112 : INFO : EPOCH 6 - PROGRESS: at 80.34% examples, 327084 words/s, in_qsize 0, out_qsize 1\n",
      "2021-02-25 00:37:47,115 : INFO : EPOCH 6 - PROGRESS: at 89.53% examples, 327828 words/s, in_qsize 0, out_qsize 1\n",
      "2021-02-25 00:37:48,116 : INFO : EPOCH 6 - PROGRESS: at 97.28% examples, 324464 words/s, in_qsize 12, out_qsize 2\n",
      "2021-02-25 00:37:48,335 : INFO : worker thread finished; awaiting finish of 11 more threads\n",
      "2021-02-25 00:37:48,341 : INFO : worker thread finished; awaiting finish of 10 more threads\n",
      "2021-02-25 00:37:48,343 : INFO : worker thread finished; awaiting finish of 9 more threads\n",
      "2021-02-25 00:37:48,345 : INFO : worker thread finished; awaiting finish of 8 more threads\n",
      "2021-02-25 00:37:48,350 : INFO : worker thread finished; awaiting finish of 7 more threads\n",
      "2021-02-25 00:37:48,352 : INFO : worker thread finished; awaiting finish of 6 more threads\n",
      "2021-02-25 00:37:48,354 : INFO : worker thread finished; awaiting finish of 5 more threads\n",
      "2021-02-25 00:37:48,361 : INFO : worker thread finished; awaiting finish of 4 more threads\n",
      "2021-02-25 00:37:48,364 : INFO : worker thread finished; awaiting finish of 3 more threads\n",
      "2021-02-25 00:37:48,366 : INFO : worker thread finished; awaiting finish of 2 more threads\n",
      "2021-02-25 00:37:48,371 : INFO : worker thread finished; awaiting finish of 1 more threads\n",
      "2021-02-25 00:37:48,375 : INFO : worker thread finished; awaiting finish of 0 more threads\n",
      "2021-02-25 00:37:48,377 : INFO : EPOCH - 6 : training on 15370817 raw words (3695491 effective words) took 11.3s, 326138 effective words/s\n",
      "2021-02-25 00:37:49,382 : INFO : EPOCH 7 - PROGRESS: at 8.08% examples, 303464 words/s, in_qsize 21, out_qsize 0\n",
      "2021-02-25 00:37:50,382 : INFO : EPOCH 7 - PROGRESS: at 17.32% examples, 322558 words/s, in_qsize 2, out_qsize 1\n",
      "2021-02-25 00:37:51,384 : INFO : EPOCH 7 - PROGRESS: at 25.82% examples, 317704 words/s, in_qsize 13, out_qsize 2\n",
      "2021-02-25 00:37:52,396 : INFO : EPOCH 7 - PROGRESS: at 34.75% examples, 319209 words/s, in_qsize 23, out_qsize 0\n",
      "2021-02-25 00:37:53,398 : INFO : EPOCH 7 - PROGRESS: at 44.16% examples, 323999 words/s, in_qsize 20, out_qsize 0\n",
      "2021-02-25 00:37:54,415 : INFO : EPOCH 7 - PROGRESS: at 52.51% examples, 320794 words/s, in_qsize 23, out_qsize 0\n",
      "2021-02-25 00:37:55,426 : INFO : EPOCH 7 - PROGRESS: at 62.12% examples, 325683 words/s, in_qsize 0, out_qsize 1\n",
      "2021-02-25 00:37:56,458 : INFO : EPOCH 7 - PROGRESS: at 70.73% examples, 323932 words/s, in_qsize 23, out_qsize 0\n",
      "2021-02-25 00:37:57,480 : INFO : EPOCH 7 - PROGRESS: at 80.28% examples, 325729 words/s, in_qsize 22, out_qsize 1\n",
      "2021-02-25 00:37:58,482 : INFO : EPOCH 7 - PROGRESS: at 89.46% examples, 326709 words/s, in_qsize 0, out_qsize 0\n"
     ]
    },
    {
     "name": "stderr",
     "output_type": "stream",
     "text": [
      "2021-02-25 00:37:59,483 : INFO : EPOCH 7 - PROGRESS: at 98.49% examples, 327770 words/s, in_qsize 0, out_qsize 0\n",
      "2021-02-25 00:37:59,598 : INFO : worker thread finished; awaiting finish of 11 more threads\n",
      "2021-02-25 00:37:59,609 : INFO : worker thread finished; awaiting finish of 10 more threads\n",
      "2021-02-25 00:37:59,612 : INFO : worker thread finished; awaiting finish of 9 more threads\n",
      "2021-02-25 00:37:59,613 : INFO : worker thread finished; awaiting finish of 8 more threads\n",
      "2021-02-25 00:37:59,617 : INFO : worker thread finished; awaiting finish of 7 more threads\n",
      "2021-02-25 00:37:59,632 : INFO : worker thread finished; awaiting finish of 6 more threads\n",
      "2021-02-25 00:37:59,635 : INFO : worker thread finished; awaiting finish of 5 more threads\n",
      "2021-02-25 00:37:59,637 : INFO : worker thread finished; awaiting finish of 4 more threads\n",
      "2021-02-25 00:37:59,639 : INFO : worker thread finished; awaiting finish of 3 more threads\n",
      "2021-02-25 00:37:59,645 : INFO : worker thread finished; awaiting finish of 2 more threads\n",
      "2021-02-25 00:37:59,647 : INFO : worker thread finished; awaiting finish of 1 more threads\n",
      "2021-02-25 00:37:59,649 : INFO : worker thread finished; awaiting finish of 0 more threads\n",
      "2021-02-25 00:37:59,650 : INFO : EPOCH - 7 : training on 15370817 raw words (3695891 effective words) took 11.3s, 327998 effective words/s\n",
      "2021-02-25 00:38:00,657 : INFO : EPOCH 8 - PROGRESS: at 8.39% examples, 314752 words/s, in_qsize 0, out_qsize 1\n",
      "2021-02-25 00:38:01,660 : INFO : EPOCH 8 - PROGRESS: at 17.19% examples, 319277 words/s, in_qsize 0, out_qsize 0\n",
      "2021-02-25 00:38:02,669 : INFO : EPOCH 8 - PROGRESS: at 26.53% examples, 325083 words/s, in_qsize 1, out_qsize 0\n",
      "2021-02-25 00:38:03,676 : INFO : EPOCH 8 - PROGRESS: at 34.46% examples, 315874 words/s, in_qsize 23, out_qsize 0\n",
      "2021-02-25 00:38:04,679 : INFO : EPOCH 8 - PROGRESS: at 43.74% examples, 319906 words/s, in_qsize 15, out_qsize 0\n",
      "2021-02-25 00:38:05,681 : INFO : EPOCH 8 - PROGRESS: at 53.21% examples, 325427 words/s, in_qsize 0, out_qsize 0\n",
      "2021-02-25 00:38:06,702 : INFO : EPOCH 8 - PROGRESS: at 61.29% examples, 320840 words/s, in_qsize 18, out_qsize 4\n",
      "2021-02-25 00:38:07,703 : INFO : EPOCH 8 - PROGRESS: at 70.73% examples, 324884 words/s, in_qsize 0, out_qsize 0\n",
      "2021-02-25 00:38:08,714 : INFO : EPOCH 8 - PROGRESS: at 79.81% examples, 325103 words/s, in_qsize 9, out_qsize 0\n",
      "2021-02-25 00:38:09,747 : INFO : EPOCH 8 - PROGRESS: at 89.00% examples, 325144 words/s, in_qsize 24, out_qsize 0\n",
      "2021-02-25 00:38:10,753 : INFO : EPOCH 8 - PROGRESS: at 97.72% examples, 325132 words/s, in_qsize 22, out_qsize 1\n",
      "2021-02-25 00:38:10,918 : INFO : worker thread finished; awaiting finish of 11 more threads\n",
      "2021-02-25 00:38:10,924 : INFO : worker thread finished; awaiting finish of 10 more threads\n",
      "2021-02-25 00:38:10,926 : INFO : worker thread finished; awaiting finish of 9 more threads\n",
      "2021-02-25 00:38:10,930 : INFO : worker thread finished; awaiting finish of 8 more threads\n",
      "2021-02-25 00:38:10,935 : INFO : worker thread finished; awaiting finish of 7 more threads\n",
      "2021-02-25 00:38:10,941 : INFO : worker thread finished; awaiting finish of 6 more threads\n",
      "2021-02-25 00:38:10,945 : INFO : worker thread finished; awaiting finish of 5 more threads\n",
      "2021-02-25 00:38:10,947 : INFO : worker thread finished; awaiting finish of 4 more threads\n",
      "2021-02-25 00:38:10,949 : INFO : worker thread finished; awaiting finish of 3 more threads\n",
      "2021-02-25 00:38:10,951 : INFO : worker thread finished; awaiting finish of 2 more threads\n",
      "2021-02-25 00:38:10,954 : INFO : worker thread finished; awaiting finish of 1 more threads\n",
      "2021-02-25 00:38:10,957 : INFO : worker thread finished; awaiting finish of 0 more threads\n",
      "2021-02-25 00:38:10,958 : INFO : EPOCH - 8 : training on 15370817 raw words (3694663 effective words) took 11.3s, 326889 effective words/s\n",
      "2021-02-25 00:38:11,973 : INFO : EPOCH 9 - PROGRESS: at 8.27% examples, 306423 words/s, in_qsize 23, out_qsize 0\n",
      "2021-02-25 00:38:12,996 : INFO : EPOCH 9 - PROGRESS: at 17.25% examples, 315848 words/s, in_qsize 23, out_qsize 0\n",
      "2021-02-25 00:38:14,008 : INFO : EPOCH 9 - PROGRESS: at 26.46% examples, 320763 words/s, in_qsize 14, out_qsize 0\n",
      "2021-02-25 00:38:15,010 : INFO : EPOCH 9 - PROGRESS: at 35.96% examples, 327474 words/s, in_qsize 0, out_qsize 0\n",
      "2021-02-25 00:38:16,013 : INFO : EPOCH 9 - PROGRESS: at 44.36% examples, 323097 words/s, in_qsize 23, out_qsize 0\n",
      "2021-02-25 00:38:17,034 : INFO : EPOCH 9 - PROGRESS: at 53.47% examples, 324578 words/s, in_qsize 0, out_qsize 2\n",
      "2021-02-25 00:38:18,049 : INFO : EPOCH 9 - PROGRESS: at 61.59% examples, 320818 words/s, in_qsize 23, out_qsize 0\n",
      "2021-02-25 00:38:19,060 : INFO : EPOCH 9 - PROGRESS: at 70.29% examples, 320899 words/s, in_qsize 17, out_qsize 2\n",
      "2021-02-25 00:38:20,062 : INFO : EPOCH 9 - PROGRESS: at 79.89% examples, 324068 words/s, in_qsize 0, out_qsize 0\n",
      "2021-02-25 00:38:21,063 : INFO : EPOCH 9 - PROGRESS: at 88.67% examples, 323882 words/s, in_qsize 18, out_qsize 1\n",
      "2021-02-25 00:38:22,068 : INFO : EPOCH 9 - PROGRESS: at 97.78% examples, 325204 words/s, in_qsize 0, out_qsize 0\n",
      "2021-02-25 00:38:22,301 : INFO : worker thread finished; awaiting finish of 11 more threads\n",
      "2021-02-25 00:38:22,303 : INFO : worker thread finished; awaiting finish of 10 more threads\n",
      "2021-02-25 00:38:22,308 : INFO : worker thread finished; awaiting finish of 9 more threads\n",
      "2021-02-25 00:38:22,310 : INFO : worker thread finished; awaiting finish of 8 more threads\n",
      "2021-02-25 00:38:22,312 : INFO : worker thread finished; awaiting finish of 7 more threads\n",
      "2021-02-25 00:38:22,314 : INFO : worker thread finished; awaiting finish of 6 more threads\n",
      "2021-02-25 00:38:22,315 : INFO : worker thread finished; awaiting finish of 5 more threads\n",
      "2021-02-25 00:38:22,316 : INFO : worker thread finished; awaiting finish of 4 more threads\n",
      "2021-02-25 00:38:22,317 : INFO : worker thread finished; awaiting finish of 3 more threads\n",
      "2021-02-25 00:38:22,318 : INFO : worker thread finished; awaiting finish of 2 more threads\n",
      "2021-02-25 00:38:22,320 : INFO : worker thread finished; awaiting finish of 1 more threads\n",
      "2021-02-25 00:38:22,321 : INFO : worker thread finished; awaiting finish of 0 more threads\n",
      "2021-02-25 00:38:22,322 : INFO : EPOCH - 9 : training on 15370817 raw words (3695700 effective words) took 11.4s, 325338 effective words/s\n",
      "2021-02-25 00:38:23,332 : INFO : EPOCH 10 - PROGRESS: at 8.52% examples, 318046 words/s, in_qsize 2, out_qsize 0\n",
      "2021-02-25 00:38:24,343 : INFO : EPOCH 10 - PROGRESS: at 18.07% examples, 333243 words/s, in_qsize 0, out_qsize 0\n",
      "2021-02-25 00:38:25,353 : INFO : EPOCH 10 - PROGRESS: at 26.65% examples, 325225 words/s, in_qsize 23, out_qsize 0\n",
      "2021-02-25 00:38:26,354 : INFO : EPOCH 10 - PROGRESS: at 35.70% examples, 326587 words/s, in_qsize 23, out_qsize 0\n",
      "2021-02-25 00:38:27,364 : INFO : EPOCH 10 - PROGRESS: at 45.37% examples, 331697 words/s, in_qsize 0, out_qsize 1\n",
      "2021-02-25 00:38:28,370 : INFO : EPOCH 10 - PROGRESS: at 54.11% examples, 330115 words/s, in_qsize 16, out_qsize 0\n",
      "2021-02-25 00:38:29,383 : INFO : EPOCH 10 - PROGRESS: at 63.12% examples, 330246 words/s, in_qsize 18, out_qsize 0\n",
      "2021-02-25 00:38:30,386 : INFO : EPOCH 10 - PROGRESS: at 71.69% examples, 329042 words/s, in_qsize 9, out_qsize 0\n",
      "2021-02-25 00:38:31,387 : INFO : EPOCH 10 - PROGRESS: at 81.18% examples, 330700 words/s, in_qsize 0, out_qsize 0\n",
      "2021-02-25 00:38:32,388 : INFO : EPOCH 10 - PROGRESS: at 90.36% examples, 331281 words/s, in_qsize 0, out_qsize 0\n",
      "2021-02-25 00:38:33,391 : INFO : EPOCH 10 - PROGRESS: at 98.81% examples, 329944 words/s, in_qsize 0, out_qsize 0\n",
      "2021-02-25 00:38:33,487 : INFO : worker thread finished; awaiting finish of 11 more threads\n",
      "2021-02-25 00:38:33,490 : INFO : worker thread finished; awaiting finish of 10 more threads\n",
      "2021-02-25 00:38:33,492 : INFO : worker thread finished; awaiting finish of 9 more threads\n",
      "2021-02-25 00:38:33,494 : INFO : worker thread finished; awaiting finish of 8 more threads\n",
      "2021-02-25 00:38:33,496 : INFO : worker thread finished; awaiting finish of 7 more threads\n",
      "2021-02-25 00:38:33,505 : INFO : worker thread finished; awaiting finish of 6 more threads\n",
      "2021-02-25 00:38:33,507 : INFO : worker thread finished; awaiting finish of 5 more threads\n"
     ]
    },
    {
     "name": "stderr",
     "output_type": "stream",
     "text": [
      "2021-02-25 00:38:33,509 : INFO : worker thread finished; awaiting finish of 4 more threads\n",
      "2021-02-25 00:38:33,516 : INFO : worker thread finished; awaiting finish of 3 more threads\n",
      "2021-02-25 00:38:33,519 : INFO : worker thread finished; awaiting finish of 2 more threads\n",
      "2021-02-25 00:38:33,522 : INFO : worker thread finished; awaiting finish of 1 more threads\n",
      "2021-02-25 00:38:33,525 : INFO : worker thread finished; awaiting finish of 0 more threads\n",
      "2021-02-25 00:38:33,526 : INFO : EPOCH - 10 : training on 15370817 raw words (3695775 effective words) took 11.2s, 330017 effective words/s\n",
      "2021-02-25 00:38:33,527 : INFO : training on a 153708170 raw words (36953017 effective words) took 115.5s, 319940 effective words/s\n",
      "2021-02-25 00:38:33,528 : INFO : saving Word2Vec object under dados/experimento_8/w2v_jur.model, separately None\n",
      "2021-02-25 00:38:33,529 : INFO : not storing attribute vectors_norm\n",
      "2021-02-25 00:38:33,531 : INFO : not storing attribute cum_table\n",
      "2021-02-25 00:38:34,447 : INFO : saved dados/experimento_8/w2v_jur.model\n"
     ]
    },
    {
     "name": "stdout",
     "output_type": "stream",
     "text": [
      "treinando modelo word2vec\n"
     ]
    },
    {
     "name": "stderr",
     "output_type": "stream",
     "text": [
      "2021-02-25 00:38:34,450 : INFO : resetting layer weights\n",
      "2021-02-25 00:38:39,477 : INFO : collecting all words and their counts\n",
      "2021-02-25 00:38:39,478 : INFO : PROGRESS: at sentence #0, processed 0 words, keeping 0 word types\n",
      "2021-02-25 00:38:39,548 : INFO : PROGRESS: at sentence #10000, processed 249645 words, keeping 14150 word types\n",
      "2021-02-25 00:38:39,618 : INFO : PROGRESS: at sentence #20000, processed 497357 words, keeping 19381 word types\n",
      "2021-02-25 00:38:39,689 : INFO : PROGRESS: at sentence #30000, processed 741144 words, keeping 23233 word types\n",
      "2021-02-25 00:38:39,763 : INFO : PROGRESS: at sentence #40000, processed 987778 words, keeping 26174 word types\n",
      "2021-02-25 00:38:39,831 : INFO : PROGRESS: at sentence #50000, processed 1233484 words, keeping 28614 word types\n",
      "2021-02-25 00:38:39,902 : INFO : PROGRESS: at sentence #60000, processed 1483391 words, keeping 30825 word types\n",
      "2021-02-25 00:38:39,970 : INFO : PROGRESS: at sentence #70000, processed 1731359 words, keeping 32820 word types\n",
      "2021-02-25 00:38:40,039 : INFO : PROGRESS: at sentence #80000, processed 1976281 words, keeping 34885 word types\n",
      "2021-02-25 00:38:40,107 : INFO : PROGRESS: at sentence #90000, processed 2218117 words, keeping 36516 word types\n",
      "2021-02-25 00:38:40,173 : INFO : PROGRESS: at sentence #100000, processed 2462738 words, keeping 38015 word types\n",
      "2021-02-25 00:38:40,239 : INFO : PROGRESS: at sentence #110000, processed 2702913 words, keeping 39454 word types\n",
      "2021-02-25 00:38:40,306 : INFO : PROGRESS: at sentence #120000, processed 2937278 words, keeping 40704 word types\n",
      "2021-02-25 00:38:40,374 : INFO : PROGRESS: at sentence #130000, processed 3179693 words, keeping 42079 word types\n",
      "2021-02-25 00:38:40,441 : INFO : PROGRESS: at sentence #140000, processed 3419296 words, keeping 43243 word types\n",
      "2021-02-25 00:38:40,509 : INFO : PROGRESS: at sentence #150000, processed 3663185 words, keeping 44709 word types\n",
      "2021-02-25 00:38:40,575 : INFO : PROGRESS: at sentence #160000, processed 3897294 words, keeping 45872 word types\n",
      "2021-02-25 00:38:40,643 : INFO : PROGRESS: at sentence #170000, processed 4137402 words, keeping 47017 word types\n",
      "2021-02-25 00:38:40,710 : INFO : PROGRESS: at sentence #180000, processed 4381474 words, keeping 48115 word types\n",
      "2021-02-25 00:38:40,777 : INFO : PROGRESS: at sentence #190000, processed 4624899 words, keeping 49334 word types\n",
      "2021-02-25 00:38:40,845 : INFO : PROGRESS: at sentence #200000, processed 4870974 words, keeping 50360 word types\n",
      "2021-02-25 00:38:40,916 : INFO : PROGRESS: at sentence #210000, processed 5116257 words, keeping 51366 word types\n",
      "2021-02-25 00:38:40,982 : INFO : PROGRESS: at sentence #220000, processed 5350774 words, keeping 52337 word types\n",
      "2021-02-25 00:38:41,050 : INFO : PROGRESS: at sentence #230000, processed 5595598 words, keeping 53337 word types\n",
      "2021-02-25 00:38:41,119 : INFO : PROGRESS: at sentence #240000, processed 5836905 words, keeping 54310 word types\n",
      "2021-02-25 00:38:41,187 : INFO : PROGRESS: at sentence #250000, processed 6078535 words, keeping 55137 word types\n",
      "2021-02-25 00:38:41,255 : INFO : PROGRESS: at sentence #260000, processed 6319993 words, keeping 56062 word types\n",
      "2021-02-25 00:38:41,321 : INFO : PROGRESS: at sentence #270000, processed 6561072 words, keeping 56921 word types\n",
      "2021-02-25 00:38:41,396 : INFO : PROGRESS: at sentence #280000, processed 6807550 words, keeping 57756 word types\n",
      "2021-02-25 00:38:41,466 : INFO : PROGRESS: at sentence #290000, processed 7051404 words, keeping 58517 word types\n",
      "2021-02-25 00:38:41,537 : INFO : PROGRESS: at sentence #300000, processed 7298257 words, keeping 59429 word types\n",
      "2021-02-25 00:38:41,605 : INFO : PROGRESS: at sentence #310000, processed 7537975 words, keeping 60460 word types\n",
      "2021-02-25 00:38:41,676 : INFO : PROGRESS: at sentence #320000, processed 7781786 words, keeping 61243 word types\n",
      "2021-02-25 00:38:41,749 : INFO : PROGRESS: at sentence #330000, processed 8026488 words, keeping 61916 word types\n",
      "2021-02-25 00:38:41,819 : INFO : PROGRESS: at sentence #340000, processed 8276935 words, keeping 62662 word types\n",
      "2021-02-25 00:38:41,887 : INFO : PROGRESS: at sentence #350000, processed 8518629 words, keeping 63380 word types\n",
      "2021-02-25 00:38:41,955 : INFO : PROGRESS: at sentence #360000, processed 8765553 words, keeping 64199 word types\n",
      "2021-02-25 00:38:42,023 : INFO : PROGRESS: at sentence #370000, processed 9008995 words, keeping 64998 word types\n",
      "2021-02-25 00:38:42,090 : INFO : PROGRESS: at sentence #380000, processed 9251664 words, keeping 65658 word types\n",
      "2021-02-25 00:38:42,164 : INFO : PROGRESS: at sentence #390000, processed 9498298 words, keeping 66350 word types\n",
      "2021-02-25 00:38:42,235 : INFO : PROGRESS: at sentence #400000, processed 9739401 words, keeping 67039 word types\n",
      "2021-02-25 00:38:42,309 : INFO : PROGRESS: at sentence #410000, processed 9985283 words, keeping 67779 word types\n",
      "2021-02-25 00:38:42,381 : INFO : PROGRESS: at sentence #420000, processed 10222995 words, keeping 68384 word types\n",
      "2021-02-25 00:38:42,461 : INFO : PROGRESS: at sentence #430000, processed 10474965 words, keeping 69166 word types\n",
      "2021-02-25 00:38:42,534 : INFO : PROGRESS: at sentence #440000, processed 10718133 words, keeping 69806 word types\n",
      "2021-02-25 00:38:42,616 : INFO : PROGRESS: at sentence #450000, processed 10969188 words, keeping 70483 word types\n",
      "2021-02-25 00:38:42,687 : INFO : PROGRESS: at sentence #460000, processed 11206495 words, keeping 71175 word types\n",
      "2021-02-25 00:38:42,760 : INFO : PROGRESS: at sentence #470000, processed 11447877 words, keeping 71767 word types\n",
      "2021-02-25 00:38:42,832 : INFO : PROGRESS: at sentence #480000, processed 11691592 words, keeping 72367 word types\n",
      "2021-02-25 00:38:42,904 : INFO : PROGRESS: at sentence #490000, processed 11935953 words, keeping 72928 word types\n",
      "2021-02-25 00:38:42,974 : INFO : PROGRESS: at sentence #500000, processed 12176965 words, keeping 73519 word types\n",
      "2021-02-25 00:38:43,046 : INFO : PROGRESS: at sentence #510000, processed 12422033 words, keeping 74132 word types\n",
      "2021-02-25 00:38:43,115 : INFO : PROGRESS: at sentence #520000, processed 12654224 words, keeping 74596 word types\n",
      "2021-02-25 00:38:43,186 : INFO : PROGRESS: at sentence #530000, processed 12900319 words, keeping 75249 word types\n",
      "2021-02-25 00:38:43,257 : INFO : PROGRESS: at sentence #540000, processed 13142687 words, keeping 75911 word types\n",
      "2021-02-25 00:38:43,327 : INFO : PROGRESS: at sentence #550000, processed 13387702 words, keeping 76559 word types\n",
      "2021-02-25 00:38:43,393 : INFO : PROGRESS: at sentence #560000, processed 13624144 words, keeping 77040 word types\n",
      "2021-02-25 00:38:43,469 : INFO : PROGRESS: at sentence #570000, processed 13870208 words, keeping 77540 word types\n",
      "2021-02-25 00:38:43,540 : INFO : PROGRESS: at sentence #580000, processed 14117190 words, keeping 78022 word types\n",
      "2021-02-25 00:38:43,619 : INFO : PROGRESS: at sentence #590000, processed 14374968 words, keeping 78591 word types\n",
      "2021-02-25 00:38:43,688 : INFO : PROGRESS: at sentence #600000, processed 14619358 words, keeping 79094 word types\n",
      "2021-02-25 00:38:43,760 : INFO : PROGRESS: at sentence #610000, processed 14869817 words, keeping 79648 word types\n",
      "2021-02-25 00:38:43,830 : INFO : PROGRESS: at sentence #620000, processed 15115032 words, keeping 80223 word types\n",
      "2021-02-25 00:38:43,898 : INFO : PROGRESS: at sentence #630000, processed 15360904 words, keeping 80782 word types\n",
      "2021-02-25 00:38:43,902 : INFO : collected 80806 word types from a corpus of 15370817 raw words and 630409 sentences\n",
      "2021-02-25 00:38:43,904 : INFO : Loading a fresh vocabulary\n",
      "2021-02-25 00:38:43,954 : INFO : effective_min_count=5 retains 32541 unique words (40% of original 80806, drops 48265)\n",
      "2021-02-25 00:38:43,955 : INFO : effective_min_count=5 leaves 15289229 word corpus (99% of original 15370817, drops 81588)\n",
      "2021-02-25 00:38:44,033 : INFO : deleting the raw counts dictionary of 80806 items\n",
      "2021-02-25 00:38:44,035 : INFO : sample=0.001 downsamples 36 most-common words\n",
      "2021-02-25 00:38:44,036 : INFO : downsampling leaves estimated 11067937 word corpus (72.4% of prior 15289229)\n",
      "2021-02-25 00:38:44,057 : INFO : constructing a huffman tree from 32541 words\n",
      "2021-02-25 00:38:44,753 : INFO : built huffman tree with maximum node depth 22\n"
     ]
    },
    {
     "name": "stderr",
     "output_type": "stream",
     "text": [
      "2021-02-25 00:38:45,107 : INFO : estimated required memory for 32541 words, 137589 buckets and 100 dimensions: 125637996 bytes\n",
      "2021-02-25 00:38:45,111 : INFO : resetting layer weights\n",
      "2021-02-25 00:38:48,675 : INFO : training model with 12 workers on 32541 vocabulary and 100 features, using sg=1 hs=1 sample=0.001 negative=5 window=5\n",
      "2021-02-25 00:39:40,588 : INFO : EPOCH 1 - PROGRESS: at 8.35% words, 17811 words/s, in_qsize -1, out_qsize 1\n",
      "2021-02-25 00:39:40,590 : INFO : worker thread finished; awaiting finish of 11 more threads\n",
      "2021-02-25 00:39:40,625 : INFO : worker thread finished; awaiting finish of 10 more threads\n",
      "2021-02-25 00:39:40,649 : INFO : worker thread finished; awaiting finish of 9 more threads\n",
      "2021-02-25 00:39:40,767 : INFO : worker thread finished; awaiting finish of 8 more threads\n",
      "2021-02-25 00:39:41,362 : INFO : worker thread finished; awaiting finish of 7 more threads\n",
      "2021-02-25 00:39:41,439 : INFO : worker thread finished; awaiting finish of 6 more threads\n",
      "2021-02-25 00:39:41,501 : INFO : worker thread finished; awaiting finish of 5 more threads\n",
      "2021-02-25 00:39:41,574 : INFO : worker thread finished; awaiting finish of 4 more threads\n",
      "2021-02-25 00:39:41,722 : INFO : EPOCH 1 - PROGRESS: at 75.10% words, 156820 words/s, in_qsize -1, out_qsize 1\n",
      "2021-02-25 00:39:41,723 : INFO : worker thread finished; awaiting finish of 3 more threads\n",
      "2021-02-25 00:39:41,858 : INFO : worker thread finished; awaiting finish of 2 more threads\n",
      "2021-02-25 00:39:41,871 : INFO : worker thread finished; awaiting finish of 1 more threads\n",
      "2021-02-25 00:39:41,932 : INFO : worker thread finished; awaiting finish of 0 more threads\n",
      "2021-02-25 00:39:41,933 : INFO : EPOCH - 1 : training on 15390857 raw words (11081317 effective words) took 53.2s, 208243 effective words/s\n",
      "2021-02-25 00:40:33,059 : INFO : EPOCH 2 - PROGRESS: at 8.32% words, 18023 words/s, in_qsize -1, out_qsize 1\n",
      "2021-02-25 00:40:33,062 : INFO : worker thread finished; awaiting finish of 11 more threads\n",
      "2021-02-25 00:40:33,123 : INFO : worker thread finished; awaiting finish of 10 more threads\n",
      "2021-02-25 00:40:33,258 : INFO : worker thread finished; awaiting finish of 9 more threads\n",
      "2021-02-25 00:40:33,465 : INFO : worker thread finished; awaiting finish of 8 more threads\n",
      "2021-02-25 00:40:34,042 : INFO : worker thread finished; awaiting finish of 7 more threads\n",
      "2021-02-25 00:40:34,168 : INFO : EPOCH 2 - PROGRESS: at 50.06% words, 106135 words/s, in_qsize -1, out_qsize 1\n",
      "2021-02-25 00:40:34,170 : INFO : worker thread finished; awaiting finish of 6 more threads\n",
      "2021-02-25 00:40:34,209 : INFO : worker thread finished; awaiting finish of 5 more threads\n",
      "2021-02-25 00:40:34,272 : INFO : worker thread finished; awaiting finish of 4 more threads\n",
      "2021-02-25 00:40:34,407 : INFO : worker thread finished; awaiting finish of 3 more threads\n",
      "2021-02-25 00:40:34,590 : INFO : worker thread finished; awaiting finish of 2 more threads\n",
      "2021-02-25 00:40:34,597 : INFO : worker thread finished; awaiting finish of 1 more threads\n",
      "2021-02-25 00:40:34,670 : INFO : worker thread finished; awaiting finish of 0 more threads\n",
      "2021-02-25 00:40:34,671 : INFO : EPOCH - 2 : training on 15390857 raw words (11082128 effective words) took 52.7s, 210306 effective words/s\n",
      "2021-02-25 00:41:26,074 : INFO : EPOCH 3 - PROGRESS: at 8.35% words, 17967 words/s, in_qsize -1, out_qsize 1\n",
      "2021-02-25 00:41:26,075 : INFO : worker thread finished; awaiting finish of 11 more threads\n",
      "2021-02-25 00:41:26,096 : INFO : worker thread finished; awaiting finish of 10 more threads\n",
      "2021-02-25 00:41:26,204 : INFO : worker thread finished; awaiting finish of 9 more threads\n",
      "2021-02-25 00:41:26,541 : INFO : worker thread finished; awaiting finish of 8 more threads\n",
      "2021-02-25 00:41:26,730 : INFO : worker thread finished; awaiting finish of 7 more threads\n",
      "2021-02-25 00:41:26,822 : INFO : worker thread finished; awaiting finish of 6 more threads\n",
      "2021-02-25 00:41:26,835 : INFO : worker thread finished; awaiting finish of 5 more threads\n",
      "2021-02-25 00:41:26,900 : INFO : worker thread finished; awaiting finish of 4 more threads\n",
      "2021-02-25 00:41:27,130 : INFO : EPOCH 3 - PROGRESS: at 75.10% words, 158548 words/s, in_qsize -1, out_qsize 1\n",
      "2021-02-25 00:41:27,131 : INFO : worker thread finished; awaiting finish of 3 more threads\n",
      "2021-02-25 00:41:27,206 : INFO : worker thread finished; awaiting finish of 2 more threads\n",
      "2021-02-25 00:41:27,272 : INFO : worker thread finished; awaiting finish of 1 more threads\n",
      "2021-02-25 00:41:27,290 : INFO : worker thread finished; awaiting finish of 0 more threads\n",
      "2021-02-25 00:41:27,291 : INFO : EPOCH - 3 : training on 15390857 raw words (11080678 effective words) took 52.6s, 210754 effective words/s\n",
      "2021-02-25 00:42:18,517 : INFO : EPOCH 4 - PROGRESS: at 8.35% words, 18031 words/s, in_qsize -1, out_qsize 1\n",
      "2021-02-25 00:42:18,519 : INFO : worker thread finished; awaiting finish of 11 more threads\n",
      "2021-02-25 00:42:18,635 : INFO : worker thread finished; awaiting finish of 10 more threads\n",
      "2021-02-25 00:42:18,853 : INFO : worker thread finished; awaiting finish of 9 more threads\n",
      "2021-02-25 00:42:19,383 : INFO : worker thread finished; awaiting finish of 8 more threads\n",
      "2021-02-25 00:42:19,426 : INFO : worker thread finished; awaiting finish of 7 more threads\n",
      "2021-02-25 00:42:19,477 : INFO : worker thread finished; awaiting finish of 6 more threads\n",
      "2021-02-25 00:42:19,969 : INFO : EPOCH 4 - PROGRESS: at 58.40% words, 122837 words/s, in_qsize -1, out_qsize 1\n",
      "2021-02-25 00:42:19,970 : INFO : worker thread finished; awaiting finish of 5 more threads\n",
      "2021-02-25 00:42:20,012 : INFO : worker thread finished; awaiting finish of 4 more threads\n",
      "2021-02-25 00:42:20,086 : INFO : worker thread finished; awaiting finish of 3 more threads\n",
      "2021-02-25 00:42:20,136 : INFO : worker thread finished; awaiting finish of 2 more threads\n",
      "2021-02-25 00:42:20,236 : INFO : worker thread finished; awaiting finish of 1 more threads\n",
      "2021-02-25 00:42:20,393 : INFO : worker thread finished; awaiting finish of 0 more threads\n",
      "2021-02-25 00:42:20,394 : INFO : EPOCH - 4 : training on 15390857 raw words (11084077 effective words) took 53.1s, 208896 effective words/s\n",
      "2021-02-25 00:43:12,082 : INFO : EPOCH 5 - PROGRESS: at 8.35% words, 17867 words/s, in_qsize -1, out_qsize 1\n",
      "2021-02-25 00:43:12,084 : INFO : worker thread finished; awaiting finish of 11 more threads\n",
      "2021-02-25 00:43:12,090 : INFO : worker thread finished; awaiting finish of 10 more threads\n",
      "2021-02-25 00:43:12,227 : INFO : worker thread finished; awaiting finish of 9 more threads\n",
      "2021-02-25 00:43:12,827 : INFO : worker thread finished; awaiting finish of 8 more threads\n",
      "2021-02-25 00:43:12,832 : INFO : worker thread finished; awaiting finish of 7 more threads\n",
      "2021-02-25 00:43:12,917 : INFO : worker thread finished; awaiting finish of 6 more threads\n",
      "2021-02-25 00:43:12,964 : INFO : worker thread finished; awaiting finish of 5 more threads\n",
      "2021-02-25 00:43:13,059 : INFO : worker thread finished; awaiting finish of 4 more threads\n",
      "2021-02-25 00:43:13,362 : INFO : EPOCH 5 - PROGRESS: at 75.10% words, 157063 words/s, in_qsize -1, out_qsize 1\n",
      "2021-02-25 00:43:13,363 : INFO : worker thread finished; awaiting finish of 3 more threads\n",
      "2021-02-25 00:43:13,385 : INFO : worker thread finished; awaiting finish of 2 more threads\n",
      "2021-02-25 00:43:13,414 : INFO : worker thread finished; awaiting finish of 1 more threads\n",
      "2021-02-25 00:43:13,454 : INFO : worker thread finished; awaiting finish of 0 more threads\n",
      "2021-02-25 00:43:13,455 : INFO : EPOCH - 5 : training on 15390857 raw words (11083025 effective words) took 53.0s, 209043 effective words/s\n",
      "2021-02-25 00:43:13,459 : INFO : training on a 76954285 raw words (55411225 effective words) took 264.8s, 209271 effective words/s\n",
      "2021-02-25 00:43:13,460 : WARNING : under 10 jobs per worker: consider setting a smaller `batch_words' for smoother alpha decay\n",
      "2021-02-25 00:43:14,928 : INFO : saving FastText object under dados/experimento_8/ftt_jur.model, separately None\n",
      "2021-02-25 00:43:14,929 : INFO : storing np array 'vectors_ngrams' to dados/experimento_8/ftt_jur.model.wv.vectors_ngrams.npy\n",
      "2021-02-25 00:43:22,512 : INFO : not storing attribute vectors_norm\n",
      "2021-02-25 00:43:22,514 : INFO : not storing attribute vectors_vocab_norm\n"
     ]
    },
    {
     "name": "stderr",
     "output_type": "stream",
     "text": [
      "2021-02-25 00:43:22,515 : INFO : not storing attribute vectors_ngrams_norm\n",
      "2021-02-25 00:43:22,517 : INFO : not storing attribute buckets_word\n",
      "2021-02-25 00:43:22,518 : INFO : storing np array 'vectors_ngrams_lockf' to dados/experimento_8/ftt_jur.model.trainables.vectors_ngrams_lockf.npy\n",
      "2021-02-25 00:43:30,321 : INFO : saved dados/experimento_8/ftt_jur.model\n"
     ]
    },
    {
     "name": "stdout",
     "output_type": "stream",
     "text": [
      "treinando modelo glove\n",
      "mkdir -p build\n",
      "tokenizando corpus\n",
      "$ build/vocab_count -min-count 5 -verbose 2 < ../mestrado/experimentos_mestrado/dados/experimento_8/base_treino_glv.txt > ../mestrado/experimentos_mestrado/dados/experimento_8/glove_vocab.txt\n",
      "criando matriz de coocorrencia\n",
      "$ build/cooccur -memory 4.0 -vocab-file ../mestrado/experimentos_mestrado/dados/experimento_8/glove_vocab.txt -verbose 2 -window-size 15 < ../mestrado/experimentos_mestrado/dados/experimento_8/base_treino_glv.txt > ../mestrado/experimentos_mestrado/dados/experimento_8/glv_concurrence.bin\n",
      "$ build/shuffle -memory 4.0 -verbose 2 < ../mestrado/experimentos_mestrado/dados/experimento_8/glv_concurrence.bin > ../mestrado/experimentos_mestrado/dados/experimento_8/glv_concurrence_shuf.bin\n",
      "$ build/glove -save-file ../mestrado/experimentos_mestrado/dados/experimento_8/glv_jur -threads 8 -input-file ../mestrado/experimentos_mestrado/dados/experimento_8/glv_concurrence_shuf.bin -x-max 10 -iter 15 -vector-size 100 -binary 2 -vocab-file ../mestrado/experimentos_mestrado/dados/experimento_8/glove_vocab.txt -verbose 2\n",
      "\n",
      "BUILDING VOCABULARY\n",
      "Processed 0 tokens.100000 tokens.200000 tokens.300000 tokens.400000 tokens.500000 tokens.600000 tokens.700000 tokens.800000 tokens.900000 tokens.1000000 tokens.1100000 tokens.1200000 tokens.1300000 tokens.1400000 tokens.1500000 tokens.1600000 tokens.1700000 tokens.1800000 tokens.1900000 tokens.2000000 tokens.2100000 tokens.2200000 tokens.2300000 tokens.2400000 tokens.2500000 tokens.2600000 tokens.2700000 tokens.2800000 tokens.2900000 tokens.3000000 tokens.3100000 tokens.3200000 tokens.3300000 tokens.3400000 tokens.3500000 tokens.3600000 tokens.3700000 tokens.3800000 tokens.3900000 tokens.4000000 tokens.4100000 tokens.4200000 tokens.4300000 tokens.4400000 tokens.4500000 tokens.4600000 tokens.4700000 tokens.4800000 tokens.4900000 tokens.5000000 tokens.5100000 tokens.5200000 tokens.5300000 tokens.5400000 tokens.5500000 tokens.5600000 tokens.5700000 tokens.5800000 tokens.5900000 tokens.6000000 tokens.6100000 tokens.6200000 tokens.6300000 tokens.6400000 tokens.6500000 tokens.6600000 tokens.6700000 tokens.6800000 tokens.6900000 tokens.7000000 tokens.7100000 tokens.7200000 tokens.7300000 tokens.7400000 tokens.7500000 tokens.7600000 tokens.7700000 tokens.7800000 tokens.7900000 tokens.8000000 tokens.8100000 tokens.8200000 tokens.8300000 tokens.8400000 tokens.8500000 tokens.8600000 tokens.8700000 tokens.8800000 tokens.8900000 tokens.9000000 tokens.9100000 tokens.9200000 tokens.9300000 tokens.9400000 tokens.9500000 tokens.9600000 tokens.Processed 9672262 tokens.\n",
      "Counted 80626 unique words.\n",
      "Truncating vocabulary at min count 5.\n",
      "Using vocabulary of size 32375.\n",
      "\n",
      "COUNTING COOCCURRENCES\n",
      "window size: 15\n",
      "context: symmetric\n",
      "max product: 13752509\n",
      "overflow length: 38028356\n",
      "Reading vocab from file \"../mestrado/experimentos_mestrado/dados/experimento_8/glove_vocab.txt\"...loaded 32375 words.\n",
      "Building lookup table...table contains 73317777 elements.\n",
      "Processing token: 0100000200000300000400000500000600000700000800000900000100000011000001200000130000014000001500000160000017000001800000190000020000002100000220000023000002400000250000026000002700000280000029000003000000310000032000003300000340000035000003600000370000038000003900000400000041000004200000430000044000004500000460000047000004800000490000050000005100000520000053000005400000550000056000005700000580000059000006000000610000062000006300000640000065000006600000670000068000006900000700000071000007200000730000074000007500000760000077000007800000790000080000008100000820000083000008400000850000086000008700000880000089000009000000910000092000009300000940000095000009600000Processed 9672262 tokens.\n",
      "Writing cooccurrences to disk........2 files in total.\n"
     ]
    },
    {
     "name": "stdout",
     "output_type": "stream",
     "text": [
      "Merging cooccurrence files: processed 0 lines.100000 lines.200000 lines.300000 lines.400000 lines.500000 lines.600000 lines.700000 lines.800000 lines.900000 lines.1000000 lines.1100000 lines.1200000 lines.1300000 lines.1400000 lines.1500000 lines.1600000 lines.1700000 lines.1800000 lines.1900000 lines.2000000 lines.2100000 lines.2200000 lines.2300000 lines.2400000 lines.2500000 lines.2600000 lines.2700000 lines.2800000 lines.2900000 lines.3000000 lines.3100000 lines.3200000 lines.3300000 lines.3400000 lines.3500000 lines.3600000 lines.3700000 lines.3800000 lines.3900000 lines.4000000 lines.4100000 lines.4200000 lines.4300000 lines.4400000 lines.4500000 lines.4600000 lines.4700000 lines.4800000 lines.4900000 lines.5000000 lines.5100000 lines.5200000 lines.5300000 lines.5400000 lines.5500000 lines.5600000 lines.5700000 lines.5800000 lines.5900000 lines.6000000 lines.6100000 lines.6200000 lines.6300000 lines.6400000 lines.6500000 lines.6600000 lines.6700000 lines.6800000 lines.6900000 lines.7000000 lines.7100000 lines.7200000 lines.7300000 lines.7400000 lines.7500000 lines.7600000 lines.7700000 lines.7800000 lines.7900000 lines.8000000 lines.8100000 lines.8200000 lines.8300000 lines.8400000 lines.8500000 lines.8600000 lines.8700000 lines.8800000 lines.8900000 lines.9000000 lines.9100000 lines.9200000 lines.9300000 lines.9400000 lines.9500000 lines.9600000 lines.9700000 lines.9800000 lines.9900000 lines.10000000 lines.10100000 lines.10200000 lines.10300000 lines.10400000 lines.10500000 lines.10600000 lines.10700000 lines.10800000 lines.10900000 lines.11000000 lines.11100000 lines.11200000 lines.11300000 lines.11400000 lines.11500000 lines.11600000 lines.11700000 lines.11800000 lines.11900000 lines.12000000 lines.12100000 lines.12200000 lines.12300000 lines.12400000 lines.12500000 lines.12600000 lines.12700000 lines.12800000 lines.12900000 lines.13000000 lines.13100000 lines.13200000 lines.13300000 lines.13400000 lines.13500000 lines.13600000 lines.13700000 lines.13800000 lines.13900000 lines.14000000 lines.14100000 lines.14200000 lines.14300000 lines.14400000 lines.14500000 lines.14600000 lines.14700000 lines.14800000 lines.14900000 lines.15000000 lines.15100000 lines.15200000 lines.15300000 lines.15400000 lines.15500000 lines.15600000 lines.15700000 lines.15800000 lines.15900000 lines.16000000 lines.16100000 lines.16200000 lines.16300000 lines.16400000 lines.16500000 lines.16600000 lines.16700000 lines.16800000 lines.16900000 lines.17000000 lines.17100000 lines.17200000 lines.17300000 lines.17400000 lines.17500000 lines.17600000 lines.17700000 lines.17800000 lines.17900000 lines.18000000 lines.18100000 lines.18200000 lines.18300000 lines.18400000 lines.18500000 lines.18600000 lines.18700000 lines.18800000 lines.18900000 lines.19000000 lines.19100000 lines.19200000 lines.19300000 lines.19400000 lines.19500000 lines.19600000 lines.19700000 lines.19800000 lines.19900000 lines.20000000 lines.20100000 lines.20200000 lines.20300000 lines.20400000 lines.20500000 lines.20600000 lines.20700000 lines.20800000 lines.20900000 lines.21000000 lines.21100000 lines.21200000 lines.21300000 lines.21400000 lines.21500000 lines.21600000 lines.21700000 lines.21800000 lines.21900000 lines.22000000 lines.22100000 lines.22200000 lines.22300000 lines.22400000 lines.22500000 lines.22600000 lines.22700000 lines.22800000 lines.22900000 lines.23000000 lines.23100000 lines.23200000 lines.23300000 lines.23400000 lines.23500000 lines.23600000 lines.23700000 lines.23800000 lines.23900000 lines.24000000 lines.24100000 lines.24200000 lines.24300000 lines.24400000 lines.24500000 lines.24600000 lines.24700000 lines.24800000 lines.24900000 lines.25000000 lines.25100000 lines.25200000 lines.25300000 lines.25400000 lines.25500000 lines.25600000 lines.25700000 lines.25800000 lines.25900000 lines.26000000 lines.26100000 lines.26200000 lines.26300000 lines.26400000 lines.26500000 lines.26600000 lines.26700000 lines.26800000 lines.26900000 lines.27000000 lines.27100000 lines.27200000 lines.27300000 lines.27400000 lines.27500000 lines.27600000 lines.27700000 lines.27800000 lines.27900000 lines.28000000 lines.28100000 lines.28200000 lines.28300000 lines.28400000 lines.28500000 lines.28600000 lines.28700000 lines.28800000 lines.28900000 lines.29000000 lines.29100000 lines.29200000 lines.29300000 lines.29400000 lines.29500000 lines.29600000 lines.29700000 lines.29800000 lines.29900000 lines.30000000 lines.30100000 lines.30200000 lines.30300000 lines.30400000 lines.30500000 lines.30600000 lines.30700000 lines.30800000 lines.30900000 lines.31000000 lines.31100000 lines.31200000 lines.31300000 lines.31400000 lines.31500000 lines.Merging cooccurrence files: processed 31538666 lines.\n",
      "\n",
      "Using random seed 1614224626\n",
      "SHUFFLING COOCCURRENCES\n",
      "array size: 255013683\n",
      "Shuffling by chunks: processed 0 lines.processed 31538666 lines.\n",
      "Wrote 1 temporary file(s).\n",
      "Merging temp files: processed 0 lines.31538666 lines.Merging temp files: processed 31538666 lines.\n",
      "\n",
      "TRAINING MODEL\n",
      "Read 31538666 lines.\n",
      "Initializing parameters...Using random seed 1614224638\n",
      "done.\n",
      "vector size: 100\n",
      "vocab size: 32375\n",
      "x_max: 10.000000\n",
      "alpha: 0.750000\n",
      "02/25/21 - 12:44.10AM, iter: 001, cost: 0.109570\n",
      "02/25/21 - 12:44.21AM, iter: 002, cost: 0.079588\n",
      "02/25/21 - 12:44.33AM, iter: 003, cost: 0.066713\n",
      "02/25/21 - 12:44.45AM, iter: 004, cost: 0.059074\n",
      "02/25/21 - 12:44.55AM, iter: 005, cost: 0.054678\n",
      "02/25/21 - 12:45.06AM, iter: 006, cost: 0.052041\n",
      "02/25/21 - 12:45.17AM, iter: 007, cost: 0.050312\n",
      "02/25/21 - 12:45.29AM, iter: 008, cost: 0.049071\n",
      "02/25/21 - 12:45.40AM, iter: 009, cost: 0.048132\n",
      "02/25/21 - 12:45.52AM, iter: 010, cost: 0.047409\n",
      "02/25/21 - 12:46.03AM, iter: 011, cost: 0.046814\n",
      "02/25/21 - 12:46.14AM, iter: 012, cost: 0.046323\n",
      "02/25/21 - 12:46.26AM, iter: 013, cost: 0.045878\n",
      "02/25/21 - 12:46.36AM, iter: 014, cost: 0.045516\n",
      "02/25/21 - 12:46.48AM, iter: 015, cost: 0.045188\n",
      "\n",
      "treinamento concluído\n"
     ]
    },
    {
     "name": "stderr",
     "output_type": "stream",
     "text": [
      "2021-02-25 00:46:49,578 : INFO : converting 32376 vectors from dados/experimento_8/glv_jur.txt to C:\\Users\\CRISTI~1\\AppData\\Local\\Temp\\test_word2vec.txt\n",
      "2021-02-25 00:46:49,660 : INFO : loading projection weights from C:\\Users\\CRISTI~1\\AppData\\Local\\Temp\\test_word2vec.txt\n",
      "2021-02-25 00:46:52,587 : INFO : loaded (32376, 100) matrix from C:\\Users\\CRISTI~1\\AppData\\Local\\Temp\\test_word2vec.txt\n",
      "2021-02-25 00:46:52,589 : INFO : loading projection weights from modelos/w2v_skip_nilc.txt\n",
      "2021-02-25 00:48:12,942 : INFO : loaded (929606, 100) matrix from modelos/w2v_skip_nilc.txt\n",
      "2021-02-25 00:48:12,943 : INFO : loading projection weights from modelos/ftt_skip_nilc.txt\n",
      "2021-02-25 00:49:30,803 : INFO : loaded (929605, 100) matrix from modelos/ftt_skip_nilc.txt\n",
      "2021-02-25 00:49:30,804 : INFO : loading projection weights from modelos/glove_nilc.txt\n",
      "2021-02-25 00:50:47,378 : INFO : loaded (929605, 100) matrix from modelos/glove_nilc.txt\n"
     ]
    },
    {
     "name": "stdout",
     "output_type": "stream",
     "text": [
      "recuperando teores da base de teste\n"
     ]
    },
    {
     "data": {
      "application/vnd.jupyter.widget-view+json": {
       "model_id": "d11f46e99da84c4ea2a99ed13e55c317",
       "version_major": 2,
       "version_minor": 0
      },
      "text/plain": [
       "HBox(children=(IntProgress(value=0, max=6663), HTML(value='')))"
      ]
     },
     "metadata": {},
     "output_type": "display_data"
    },
    {
     "name": "stdout",
     "output_type": "stream",
     "text": [
      "\n",
      "criando representações word2vec geral\n"
     ]
    },
    {
     "data": {
      "application/vnd.jupyter.widget-view+json": {
       "model_id": "9963951e78ec4a73810a92f37e18a36e",
       "version_major": 2,
       "version_minor": 0
      },
      "text/plain": [
       "HBox(children=(IntProgress(value=0, max=6663), HTML(value='')))"
      ]
     },
     "metadata": {},
     "output_type": "display_data"
    },
    {
     "name": "stdout",
     "output_type": "stream",
     "text": [
      "\n",
      "criando representações fasttext geral\n"
     ]
    },
    {
     "data": {
      "application/vnd.jupyter.widget-view+json": {
       "model_id": "81dfec45b609457bba3ed83007bc7279",
       "version_major": 2,
       "version_minor": 0
      },
      "text/plain": [
       "HBox(children=(IntProgress(value=0, max=6663), HTML(value='')))"
      ]
     },
     "metadata": {},
     "output_type": "display_data"
    },
    {
     "name": "stdout",
     "output_type": "stream",
     "text": [
      "\n",
      "criando representações glove geral\n"
     ]
    },
    {
     "data": {
      "application/vnd.jupyter.widget-view+json": {
       "model_id": "f4c7cf6c6ad34563811754359b0551e3",
       "version_major": 2,
       "version_minor": 0
      },
      "text/plain": [
       "HBox(children=(IntProgress(value=0, max=6663), HTML(value='')))"
      ]
     },
     "metadata": {},
     "output_type": "display_data"
    },
    {
     "name": "stdout",
     "output_type": "stream",
     "text": [
      "\n",
      "criando representações word2vec juridico\n"
     ]
    },
    {
     "data": {
      "application/vnd.jupyter.widget-view+json": {
       "model_id": "ff8fdd7b44c54a8b80a4487590f70a27",
       "version_major": 2,
       "version_minor": 0
      },
      "text/plain": [
       "HBox(children=(IntProgress(value=0, max=6663), HTML(value='')))"
      ]
     },
     "metadata": {},
     "output_type": "display_data"
    },
    {
     "name": "stdout",
     "output_type": "stream",
     "text": [
      "\n",
      "criando representações fasttext juridico\n"
     ]
    },
    {
     "data": {
      "application/vnd.jupyter.widget-view+json": {
       "model_id": "845d041e5e6c4a959015da8930c99615",
       "version_major": 2,
       "version_minor": 0
      },
      "text/plain": [
       "HBox(children=(IntProgress(value=0, max=6663), HTML(value='')))"
      ]
     },
     "metadata": {},
     "output_type": "display_data"
    },
    {
     "name": "stdout",
     "output_type": "stream",
     "text": [
      "\n",
      "criando representações glove juridico\n"
     ]
    },
    {
     "data": {
      "application/vnd.jupyter.widget-view+json": {
       "model_id": "eda1d0443e7944a3afb04b40639eac08",
       "version_major": 2,
       "version_minor": 0
      },
      "text/plain": [
       "HBox(children=(IntProgress(value=0, max=6663), HTML(value='')))"
      ]
     },
     "metadata": {},
     "output_type": "display_data"
    },
    {
     "name": "stdout",
     "output_type": "stream",
     "text": [
      "\n",
      "----------- EXPERIMENTO 8 CONCLUIDO -----------\n",
      "tempo do experimento: 22.36379281282425 minutos\n",
      "----------------------- EXPERIMENTO 9 -----------------------\n",
      "criando base de treino para o experimento 9\n"
     ]
    },
    {
     "data": {
      "application/vnd.jupyter.widget-view+json": {
       "model_id": "7fe066f59e2b4286a97a445a993eb88c",
       "version_major": 2,
       "version_minor": 0
      },
      "text/plain": [
       "HBox(children=(IntProgress(value=0, max=26650), HTML(value='')))"
      ]
     },
     "metadata": {},
     "output_type": "display_data"
    },
    {
     "name": "stdout",
     "output_type": "stream",
     "text": [
      "\n",
      "15998015 tokens copiados com sucesso\n",
      "preparando documentos para extração do vocabulário:\n"
     ]
    },
    {
     "data": {
      "application/vnd.jupyter.widget-view+json": {
       "model_id": "1c5299e5e4bb42f190bb11bad9b0f8d8",
       "version_major": 2,
       "version_minor": 0
      },
      "text/plain": [
       "HBox(children=(IntProgress(value=0, max=26650), HTML(value='')))"
      ]
     },
     "metadata": {},
     "output_type": "display_data"
    },
    {
     "name": "stdout",
     "output_type": "stream",
     "text": [
      "\n",
      "extraindo termos com base no ICA\n"
     ]
    },
    {
     "data": {
      "application/vnd.jupyter.widget-view+json": {
       "model_id": "d522b7ab4abd487bbf54a0bfd945c6ff",
       "version_major": 2,
       "version_minor": 0
      },
      "text/plain": [
       "HBox(children=(IntProgress(value=0, max=125), HTML(value='')))"
      ]
     },
     "metadata": {},
     "output_type": "display_data"
    },
    {
     "name": "stdout",
     "output_type": "stream",
     "text": [
      "\n",
      "-processando strings do corpus\n",
      "-treinando vetorizador\n",
      "-ICA processado\n",
      "extraindo termos com base na frequência - geralmente leva menos de 4 minutos\n",
      "extraindo termos do tesauro\n",
      "extração de vocabulário concluída!\n",
      "treinando modelo word2vec\n"
     ]
    },
    {
     "name": "stderr",
     "output_type": "stream",
     "text": [
      "2021-02-25 00:58:45,741 : INFO : collecting all words and their counts\n",
      "2021-02-25 00:58:45,751 : INFO : PROGRESS: at sentence #0, processed 0 words, keeping 0 word types\n",
      "2021-02-25 00:58:45,819 : INFO : PROGRESS: at sentence #10000, processed 247468 words, keeping 13545 word types\n",
      "2021-02-25 00:58:45,886 : INFO : PROGRESS: at sentence #20000, processed 493121 words, keeping 18876 word types\n",
      "2021-02-25 00:58:45,955 : INFO : PROGRESS: at sentence #30000, processed 737445 words, keeping 22923 word types\n",
      "2021-02-25 00:58:46,022 : INFO : PROGRESS: at sentence #40000, processed 982488 words, keeping 25696 word types\n",
      "2021-02-25 00:58:46,088 : INFO : PROGRESS: at sentence #50000, processed 1226391 words, keeping 28086 word types\n",
      "2021-02-25 00:58:46,153 : INFO : PROGRESS: at sentence #60000, processed 1466797 words, keeping 30282 word types\n",
      "2021-02-25 00:58:46,225 : INFO : PROGRESS: at sentence #70000, processed 1713332 words, keeping 32455 word types\n",
      "2021-02-25 00:58:46,294 : INFO : PROGRESS: at sentence #80000, processed 1951218 words, keeping 34341 word types\n",
      "2021-02-25 00:58:46,361 : INFO : PROGRESS: at sentence #90000, processed 2189213 words, keeping 35937 word types\n",
      "2021-02-25 00:58:46,431 : INFO : PROGRESS: at sentence #100000, processed 2431912 words, keeping 37480 word types\n",
      "2021-02-25 00:58:46,496 : INFO : PROGRESS: at sentence #110000, processed 2672667 words, keeping 39096 word types\n",
      "2021-02-25 00:58:46,563 : INFO : PROGRESS: at sentence #120000, processed 2914949 words, keeping 40680 word types\n",
      "2021-02-25 00:58:46,630 : INFO : PROGRESS: at sentence #130000, processed 3153077 words, keeping 42037 word types\n",
      "2021-02-25 00:58:46,697 : INFO : PROGRESS: at sentence #140000, processed 3393565 words, keeping 43458 word types\n",
      "2021-02-25 00:58:46,763 : INFO : PROGRESS: at sentence #150000, processed 3629027 words, keeping 44680 word types\n",
      "2021-02-25 00:58:46,828 : INFO : PROGRESS: at sentence #160000, processed 3866568 words, keeping 45918 word types\n",
      "2021-02-25 00:58:46,893 : INFO : PROGRESS: at sentence #170000, processed 4108018 words, keeping 47010 word types\n",
      "2021-02-25 00:58:46,960 : INFO : PROGRESS: at sentence #180000, processed 4350785 words, keeping 48062 word types\n",
      "2021-02-25 00:58:47,027 : INFO : PROGRESS: at sentence #190000, processed 4591921 words, keeping 49118 word types\n",
      "2021-02-25 00:58:47,095 : INFO : PROGRESS: at sentence #200000, processed 4835675 words, keeping 50245 word types\n",
      "2021-02-25 00:58:47,161 : INFO : PROGRESS: at sentence #210000, processed 5079889 words, keeping 51265 word types\n",
      "2021-02-25 00:58:47,228 : INFO : PROGRESS: at sentence #220000, processed 5325727 words, keeping 52207 word types\n",
      "2021-02-25 00:58:47,293 : INFO : PROGRESS: at sentence #230000, processed 5563914 words, keeping 53186 word types\n",
      "2021-02-25 00:58:47,362 : INFO : PROGRESS: at sentence #240000, processed 5811977 words, keeping 54084 word types\n",
      "2021-02-25 00:58:47,427 : INFO : PROGRESS: at sentence #250000, processed 6050229 words, keeping 54972 word types\n",
      "2021-02-25 00:58:47,495 : INFO : PROGRESS: at sentence #260000, processed 6291200 words, keeping 55856 word types\n",
      "2021-02-25 00:58:47,563 : INFO : PROGRESS: at sentence #270000, processed 6535587 words, keeping 56549 word types\n",
      "2021-02-25 00:58:47,634 : INFO : PROGRESS: at sentence #280000, processed 6783479 words, keeping 57465 word types\n",
      "2021-02-25 00:58:47,709 : INFO : PROGRESS: at sentence #290000, processed 7031424 words, keeping 58343 word types\n",
      "2021-02-25 00:58:47,783 : INFO : PROGRESS: at sentence #300000, processed 7272545 words, keeping 59331 word types\n",
      "2021-02-25 00:58:47,858 : INFO : PROGRESS: at sentence #310000, processed 7523820 words, keeping 60262 word types\n",
      "2021-02-25 00:58:47,933 : INFO : PROGRESS: at sentence #320000, processed 7768516 words, keeping 61028 word types\n",
      "2021-02-25 00:58:48,002 : INFO : PROGRESS: at sentence #330000, processed 8012432 words, keeping 61806 word types\n",
      "2021-02-25 00:58:48,071 : INFO : PROGRESS: at sentence #340000, processed 8249865 words, keeping 62627 word types\n",
      "2021-02-25 00:58:48,143 : INFO : PROGRESS: at sentence #350000, processed 8492490 words, keeping 63588 word types\n",
      "2021-02-25 00:58:48,219 : INFO : PROGRESS: at sentence #360000, processed 8741112 words, keeping 64424 word types\n",
      "2021-02-25 00:58:48,290 : INFO : PROGRESS: at sentence #370000, processed 8981088 words, keeping 65218 word types\n",
      "2021-02-25 00:58:48,360 : INFO : PROGRESS: at sentence #380000, processed 9219360 words, keeping 65838 word types\n",
      "2021-02-25 00:58:48,433 : INFO : PROGRESS: at sentence #390000, processed 9463954 words, keeping 66516 word types\n",
      "2021-02-25 00:58:48,504 : INFO : PROGRESS: at sentence #400000, processed 9702904 words, keeping 67231 word types\n",
      "2021-02-25 00:58:48,577 : INFO : PROGRESS: at sentence #410000, processed 9950501 words, keeping 67940 word types\n",
      "2021-02-25 00:58:48,654 : INFO : PROGRESS: at sentence #420000, processed 10195033 words, keeping 68646 word types\n",
      "2021-02-25 00:58:48,726 : INFO : PROGRESS: at sentence #430000, processed 10442167 words, keeping 69295 word types\n",
      "2021-02-25 00:58:48,796 : INFO : PROGRESS: at sentence #440000, processed 10686039 words, keeping 69937 word types\n",
      "2021-02-25 00:58:48,862 : INFO : PROGRESS: at sentence #450000, processed 10921779 words, keeping 70509 word types\n",
      "2021-02-25 00:58:48,929 : INFO : PROGRESS: at sentence #460000, processed 11161089 words, keeping 71124 word types\n",
      "2021-02-25 00:58:48,997 : INFO : PROGRESS: at sentence #470000, processed 11405840 words, keeping 71682 word types\n",
      "2021-02-25 00:58:49,065 : INFO : PROGRESS: at sentence #480000, processed 11648634 words, keeping 72425 word types\n",
      "2021-02-25 00:58:49,134 : INFO : PROGRESS: at sentence #490000, processed 11895490 words, keeping 73106 word types\n",
      "2021-02-25 00:58:49,202 : INFO : PROGRESS: at sentence #500000, processed 12135954 words, keeping 73659 word types\n",
      "2021-02-25 00:58:49,271 : INFO : PROGRESS: at sentence #510000, processed 12380100 words, keeping 74266 word types\n",
      "2021-02-25 00:58:49,339 : INFO : PROGRESS: at sentence #520000, processed 12627939 words, keeping 74851 word types\n",
      "2021-02-25 00:58:49,406 : INFO : PROGRESS: at sentence #530000, processed 12865724 words, keeping 75417 word types\n",
      "2021-02-25 00:58:49,474 : INFO : PROGRESS: at sentence #540000, processed 13117705 words, keeping 76020 word types\n",
      "2021-02-25 00:58:49,541 : INFO : PROGRESS: at sentence #550000, processed 13364684 words, keeping 76561 word types\n",
      "2021-02-25 00:58:49,609 : INFO : PROGRESS: at sentence #560000, processed 13603988 words, keeping 77259 word types\n",
      "2021-02-25 00:58:49,680 : INFO : PROGRESS: at sentence #570000, processed 13849342 words, keeping 77788 word types\n",
      "2021-02-25 00:58:49,751 : INFO : PROGRESS: at sentence #580000, processed 14094120 words, keeping 78414 word types\n",
      "2021-02-25 00:58:49,821 : INFO : PROGRESS: at sentence #590000, processed 14337580 words, keeping 78926 word types\n",
      "2021-02-25 00:58:49,889 : INFO : PROGRESS: at sentence #600000, processed 14575617 words, keeping 79451 word types\n",
      "2021-02-25 00:58:49,959 : INFO : PROGRESS: at sentence #610000, processed 14817286 words, keeping 80051 word types\n",
      "2021-02-25 00:58:50,029 : INFO : PROGRESS: at sentence #620000, processed 15060165 words, keeping 80510 word types\n",
      "2021-02-25 00:58:50,101 : INFO : PROGRESS: at sentence #630000, processed 15300609 words, keeping 81049 word types\n",
      "2021-02-25 00:58:50,116 : INFO : collected 81153 word types from a corpus of 15346357 raw words and 631937 sentences\n",
      "2021-02-25 00:58:50,117 : INFO : Loading a fresh vocabulary\n",
      "2021-02-25 00:58:50,174 : INFO : effective_min_count=5 retains 32579 unique words (40% of original 81153, drops 48574)\n",
      "2021-02-25 00:58:50,175 : INFO : effective_min_count=5 leaves 15264861 word corpus (99% of original 15346357, drops 81496)\n",
      "2021-02-25 00:58:50,261 : INFO : deleting the raw counts dictionary of 81153 items\n",
      "2021-02-25 00:58:50,264 : INFO : sample=1e-05 downsamples 3223 most-common words\n",
      "2021-02-25 00:58:50,265 : INFO : downsampling leaves estimated 3691057 word corpus (24.2% of prior 15264861)\n",
      "2021-02-25 00:58:50,289 : INFO : constructing a huffman tree from 32579 words\n",
      "2021-02-25 00:58:51,017 : INFO : built huffman tree with maximum node depth 22\n"
     ]
    },
    {
     "name": "stderr",
     "output_type": "stream",
     "text": [
      "2021-02-25 00:58:51,084 : INFO : estimated required memory for 32579 words and 100 dimensions: 61900100 bytes\n",
      "2021-02-25 00:58:51,085 : INFO : resetting layer weights\n",
      "2021-02-25 00:58:51,408 : INFO : training model with 12 workers on 32579 vocabulary and 100 features, using sg=1 hs=1 sample=1e-05 negative=5 window=5\n",
      "2021-02-25 00:58:52,432 : INFO : EPOCH 1 - PROGRESS: at 8.44% examples, 305864 words/s, in_qsize 4, out_qsize 3\n",
      "2021-02-25 00:58:53,437 : INFO : EPOCH 1 - PROGRESS: at 18.59% examples, 338726 words/s, in_qsize 0, out_qsize 0\n",
      "2021-02-25 00:58:54,445 : INFO : EPOCH 1 - PROGRESS: at 26.27% examples, 318473 words/s, in_qsize 0, out_qsize 1\n",
      "2021-02-25 00:58:55,446 : INFO : EPOCH 1 - PROGRESS: at 34.50% examples, 314996 words/s, in_qsize 0, out_qsize 0\n",
      "2021-02-25 00:58:56,505 : INFO : EPOCH 1 - PROGRESS: at 41.92% examples, 302755 words/s, in_qsize 1, out_qsize 1\n",
      "2021-02-25 00:58:57,506 : INFO : EPOCH 1 - PROGRESS: at 50.23% examples, 303983 words/s, in_qsize 0, out_qsize 0\n",
      "2021-02-25 00:58:58,526 : INFO : EPOCH 1 - PROGRESS: at 57.89% examples, 300452 words/s, in_qsize 0, out_qsize 0\n",
      "2021-02-25 00:58:59,540 : INFO : EPOCH 1 - PROGRESS: at 66.36% examples, 301131 words/s, in_qsize 1, out_qsize 0\n",
      "2021-02-25 00:59:00,551 : INFO : EPOCH 1 - PROGRESS: at 74.11% examples, 299173 words/s, in_qsize 0, out_qsize 0\n",
      "2021-02-25 00:59:01,559 : INFO : EPOCH 1 - PROGRESS: at 82.32% examples, 299665 words/s, in_qsize 0, out_qsize 0\n",
      "2021-02-25 00:59:02,567 : INFO : EPOCH 1 - PROGRESS: at 89.69% examples, 297196 words/s, in_qsize 0, out_qsize 0\n",
      "2021-02-25 00:59:03,572 : INFO : EPOCH 1 - PROGRESS: at 97.31% examples, 295595 words/s, in_qsize 0, out_qsize 1\n",
      "2021-02-25 00:59:03,833 : INFO : worker thread finished; awaiting finish of 11 more threads\n",
      "2021-02-25 00:59:03,835 : INFO : worker thread finished; awaiting finish of 10 more threads\n",
      "2021-02-25 00:59:03,836 : INFO : worker thread finished; awaiting finish of 9 more threads\n",
      "2021-02-25 00:59:03,838 : INFO : worker thread finished; awaiting finish of 8 more threads\n",
      "2021-02-25 00:59:03,840 : INFO : worker thread finished; awaiting finish of 7 more threads\n",
      "2021-02-25 00:59:03,842 : INFO : worker thread finished; awaiting finish of 6 more threads\n",
      "2021-02-25 00:59:03,844 : INFO : worker thread finished; awaiting finish of 5 more threads\n",
      "2021-02-25 00:59:03,845 : INFO : worker thread finished; awaiting finish of 4 more threads\n",
      "2021-02-25 00:59:03,849 : INFO : worker thread finished; awaiting finish of 3 more threads\n",
      "2021-02-25 00:59:03,857 : INFO : worker thread finished; awaiting finish of 2 more threads\n",
      "2021-02-25 00:59:03,859 : INFO : worker thread finished; awaiting finish of 1 more threads\n",
      "2021-02-25 00:59:03,864 : INFO : worker thread finished; awaiting finish of 0 more threads\n",
      "2021-02-25 00:59:03,866 : INFO : EPOCH - 1 : training on 15346357 raw words (3691282 effective words) took 12.5s, 296438 effective words/s\n",
      "2021-02-25 00:59:04,873 : INFO : EPOCH 2 - PROGRESS: at 6.84% examples, 251945 words/s, in_qsize 0, out_qsize 0\n",
      "2021-02-25 00:59:05,882 : INFO : EPOCH 2 - PROGRESS: at 15.01% examples, 274503 words/s, in_qsize 0, out_qsize 0\n",
      "2021-02-25 00:59:06,890 : INFO : EPOCH 2 - PROGRESS: at 22.76% examples, 278104 words/s, in_qsize 0, out_qsize 0\n",
      "2021-02-25 00:59:07,898 : INFO : EPOCH 2 - PROGRESS: at 31.31% examples, 285629 words/s, in_qsize 0, out_qsize 1\n",
      "2021-02-25 00:59:08,899 : INFO : EPOCH 2 - PROGRESS: at 38.79% examples, 284396 words/s, in_qsize 0, out_qsize 0\n",
      "2021-02-25 00:59:09,902 : INFO : EPOCH 2 - PROGRESS: at 46.04% examples, 281331 words/s, in_qsize 0, out_qsize 0\n",
      "2021-02-25 00:59:10,912 : INFO : EPOCH 2 - PROGRESS: at 53.67% examples, 281073 words/s, in_qsize 0, out_qsize 2\n",
      "2021-02-25 00:59:11,917 : INFO : EPOCH 2 - PROGRESS: at 62.67% examples, 287118 words/s, in_qsize 0, out_qsize 0\n",
      "2021-02-25 00:59:12,931 : INFO : EPOCH 2 - PROGRESS: at 70.73% examples, 287969 words/s, in_qsize 0, out_qsize 0\n",
      "2021-02-25 00:59:13,938 : INFO : EPOCH 2 - PROGRESS: at 79.42% examples, 291282 words/s, in_qsize 0, out_qsize 1\n",
      "2021-02-25 00:59:14,939 : INFO : EPOCH 2 - PROGRESS: at 86.65% examples, 289386 words/s, in_qsize 1, out_qsize 0\n",
      "2021-02-25 00:59:15,946 : INFO : EPOCH 2 - PROGRESS: at 94.29% examples, 288528 words/s, in_qsize 1, out_qsize 0\n",
      "2021-02-25 00:59:16,715 : INFO : worker thread finished; awaiting finish of 11 more threads\n",
      "2021-02-25 00:59:16,727 : INFO : worker thread finished; awaiting finish of 10 more threads\n",
      "2021-02-25 00:59:16,730 : INFO : worker thread finished; awaiting finish of 9 more threads\n",
      "2021-02-25 00:59:16,733 : INFO : worker thread finished; awaiting finish of 8 more threads\n",
      "2021-02-25 00:59:16,735 : INFO : worker thread finished; awaiting finish of 7 more threads\n",
      "2021-02-25 00:59:16,736 : INFO : worker thread finished; awaiting finish of 6 more threads\n",
      "2021-02-25 00:59:16,741 : INFO : worker thread finished; awaiting finish of 5 more threads\n",
      "2021-02-25 00:59:16,744 : INFO : worker thread finished; awaiting finish of 4 more threads\n",
      "2021-02-25 00:59:16,761 : INFO : worker thread finished; awaiting finish of 3 more threads\n",
      "2021-02-25 00:59:16,762 : INFO : worker thread finished; awaiting finish of 2 more threads\n",
      "2021-02-25 00:59:16,764 : INFO : worker thread finished; awaiting finish of 1 more threads\n",
      "2021-02-25 00:59:16,766 : INFO : worker thread finished; awaiting finish of 0 more threads\n",
      "2021-02-25 00:59:16,767 : INFO : EPOCH - 2 : training on 15346357 raw words (3691252 effective words) took 12.9s, 286224 effective words/s\n",
      "2021-02-25 00:59:17,773 : INFO : EPOCH 3 - PROGRESS: at 8.25% examples, 304175 words/s, in_qsize 1, out_qsize 0\n",
      "2021-02-25 00:59:18,775 : INFO : EPOCH 3 - PROGRESS: at 15.65% examples, 287366 words/s, in_qsize 1, out_qsize 0\n",
      "2021-02-25 00:59:19,786 : INFO : EPOCH 3 - PROGRESS: at 23.82% examples, 290978 words/s, in_qsize 0, out_qsize 0\n",
      "2021-02-25 00:59:20,791 : INFO : EPOCH 3 - PROGRESS: at 30.63% examples, 279950 words/s, in_qsize 0, out_qsize 1\n",
      "2021-02-25 00:59:21,791 : INFO : EPOCH 3 - PROGRESS: at 38.47% examples, 282319 words/s, in_qsize 0, out_qsize 0\n",
      "2021-02-25 00:59:22,797 : INFO : EPOCH 3 - PROGRESS: at 45.79% examples, 279575 words/s, in_qsize 0, out_qsize 0\n",
      "2021-02-25 00:59:23,806 : INFO : EPOCH 3 - PROGRESS: at 52.28% examples, 273919 words/s, in_qsize 0, out_qsize 0\n",
      "2021-02-25 00:59:24,809 : INFO : EPOCH 3 - PROGRESS: at 59.09% examples, 270913 words/s, in_qsize 0, out_qsize 0\n",
      "2021-02-25 00:59:25,811 : INFO : EPOCH 3 - PROGRESS: at 64.80% examples, 263921 words/s, in_qsize 0, out_qsize 0\n",
      "2021-02-25 00:59:26,822 : INFO : EPOCH 3 - PROGRESS: at 71.97% examples, 263834 words/s, in_qsize 0, out_qsize 0\n",
      "2021-02-25 00:59:27,829 : INFO : EPOCH 3 - PROGRESS: at 78.72% examples, 262534 words/s, in_qsize 0, out_qsize 0\n",
      "2021-02-25 00:59:28,830 : INFO : EPOCH 3 - PROGRESS: at 86.48% examples, 265001 words/s, in_qsize 0, out_qsize 0\n",
      "2021-02-25 00:59:29,832 : INFO : EPOCH 3 - PROGRESS: at 94.15% examples, 266183 words/s, in_qsize 0, out_qsize 0\n",
      "2021-02-25 00:59:30,492 : INFO : worker thread finished; awaiting finish of 11 more threads\n",
      "2021-02-25 00:59:30,494 : INFO : worker thread finished; awaiting finish of 10 more threads\n",
      "2021-02-25 00:59:30,496 : INFO : worker thread finished; awaiting finish of 9 more threads\n",
      "2021-02-25 00:59:30,497 : INFO : worker thread finished; awaiting finish of 8 more threads\n",
      "2021-02-25 00:59:30,499 : INFO : worker thread finished; awaiting finish of 7 more threads\n",
      "2021-02-25 00:59:30,501 : INFO : worker thread finished; awaiting finish of 6 more threads\n",
      "2021-02-25 00:59:30,502 : INFO : worker thread finished; awaiting finish of 5 more threads\n",
      "2021-02-25 00:59:30,508 : INFO : worker thread finished; awaiting finish of 4 more threads\n",
      "2021-02-25 00:59:30,511 : INFO : worker thread finished; awaiting finish of 3 more threads\n",
      "2021-02-25 00:59:30,514 : INFO : worker thread finished; awaiting finish of 2 more threads\n",
      "2021-02-25 00:59:30,520 : INFO : worker thread finished; awaiting finish of 1 more threads\n",
      "2021-02-25 00:59:30,521 : INFO : worker thread finished; awaiting finish of 0 more threads\n",
      "2021-02-25 00:59:30,523 : INFO : EPOCH - 3 : training on 15346357 raw words (3689126 effective words) took 13.8s, 268279 effective words/s\n"
     ]
    },
    {
     "name": "stderr",
     "output_type": "stream",
     "text": [
      "2021-02-25 00:59:31,540 : INFO : EPOCH 4 - PROGRESS: at 6.84% examples, 248443 words/s, in_qsize 0, out_qsize 0\n",
      "2021-02-25 00:59:32,541 : INFO : EPOCH 4 - PROGRESS: at 13.87% examples, 253825 words/s, in_qsize 0, out_qsize 0\n",
      "2021-02-25 00:59:33,557 : INFO : EPOCH 4 - PROGRESS: at 21.64% examples, 264105 words/s, in_qsize 0, out_qsize 0\n",
      "2021-02-25 00:59:34,567 : INFO : EPOCH 4 - PROGRESS: at 29.66% examples, 269456 words/s, in_qsize 0, out_qsize 0\n",
      "2021-02-25 00:59:35,578 : INFO : EPOCH 4 - PROGRESS: at 37.33% examples, 271889 words/s, in_qsize 0, out_qsize 0\n",
      "2021-02-25 00:59:36,585 : INFO : EPOCH 4 - PROGRESS: at 44.77% examples, 272159 words/s, in_qsize 0, out_qsize 0\n",
      "2021-02-25 00:59:37,586 : INFO : EPOCH 4 - PROGRESS: at 52.09% examples, 272158 words/s, in_qsize 0, out_qsize 1\n",
      "2021-02-25 00:59:38,601 : INFO : EPOCH 4 - PROGRESS: at 60.08% examples, 274285 words/s, in_qsize 0, out_qsize 2\n",
      "2021-02-25 00:59:39,604 : INFO : EPOCH 4 - PROGRESS: at 67.57% examples, 274587 words/s, in_qsize 0, out_qsize 0\n",
      "2021-02-25 00:59:40,626 : INFO : EPOCH 4 - PROGRESS: at 75.02% examples, 273878 words/s, in_qsize 0, out_qsize 0\n",
      "2021-02-25 00:59:41,642 : INFO : EPOCH 4 - PROGRESS: at 82.83% examples, 275219 words/s, in_qsize 0, out_qsize 0\n",
      "2021-02-25 00:59:42,648 : INFO : EPOCH 4 - PROGRESS: at 90.39% examples, 275608 words/s, in_qsize 0, out_qsize 1\n",
      "2021-02-25 00:59:43,650 : INFO : EPOCH 4 - PROGRESS: at 98.08% examples, 276001 words/s, in_qsize 0, out_qsize 0\n",
      "2021-02-25 00:59:43,834 : INFO : worker thread finished; awaiting finish of 11 more threads\n",
      "2021-02-25 00:59:43,836 : INFO : worker thread finished; awaiting finish of 10 more threads\n",
      "2021-02-25 00:59:43,837 : INFO : worker thread finished; awaiting finish of 9 more threads\n",
      "2021-02-25 00:59:43,839 : INFO : worker thread finished; awaiting finish of 8 more threads\n",
      "2021-02-25 00:59:43,840 : INFO : worker thread finished; awaiting finish of 7 more threads\n",
      "2021-02-25 00:59:43,842 : INFO : worker thread finished; awaiting finish of 6 more threads\n",
      "2021-02-25 00:59:43,844 : INFO : worker thread finished; awaiting finish of 5 more threads\n",
      "2021-02-25 00:59:43,851 : INFO : worker thread finished; awaiting finish of 4 more threads\n",
      "2021-02-25 00:59:43,853 : INFO : worker thread finished; awaiting finish of 3 more threads\n",
      "2021-02-25 00:59:43,855 : INFO : worker thread finished; awaiting finish of 2 more threads\n",
      "2021-02-25 00:59:43,857 : INFO : worker thread finished; awaiting finish of 1 more threads\n",
      "2021-02-25 00:59:43,866 : INFO : worker thread finished; awaiting finish of 0 more threads\n",
      "2021-02-25 00:59:43,868 : INFO : EPOCH - 4 : training on 15346357 raw words (3690531 effective words) took 13.3s, 276647 effective words/s\n",
      "2021-02-25 00:59:44,874 : INFO : EPOCH 5 - PROGRESS: at 7.41% examples, 273635 words/s, in_qsize 0, out_qsize 0\n",
      "2021-02-25 00:59:45,893 : INFO : EPOCH 5 - PROGRESS: at 15.28% examples, 277756 words/s, in_qsize 0, out_qsize 1\n",
      "2021-02-25 00:59:46,899 : INFO : EPOCH 5 - PROGRESS: at 23.10% examples, 281062 words/s, in_qsize 0, out_qsize 0\n",
      "2021-02-25 00:59:47,902 : INFO : EPOCH 5 - PROGRESS: at 30.58% examples, 278660 words/s, in_qsize 15, out_qsize 1\n",
      "2021-02-25 00:59:48,907 : INFO : EPOCH 5 - PROGRESS: at 38.72% examples, 283612 words/s, in_qsize 0, out_qsize 1\n",
      "2021-02-25 00:59:49,912 : INFO : EPOCH 5 - PROGRESS: at 46.30% examples, 282432 words/s, in_qsize 0, out_qsize 0\n",
      "2021-02-25 00:59:50,915 : INFO : EPOCH 5 - PROGRESS: at 54.00% examples, 282735 words/s, in_qsize 0, out_qsize 0\n",
      "2021-02-25 00:59:51,925 : INFO : EPOCH 5 - PROGRESS: at 61.09% examples, 279724 words/s, in_qsize 21, out_qsize 0\n",
      "2021-02-25 00:59:52,928 : INFO : EPOCH 5 - PROGRESS: at 68.80% examples, 280366 words/s, in_qsize 0, out_qsize 0\n",
      "2021-02-25 00:59:53,931 : INFO : EPOCH 5 - PROGRESS: at 76.31% examples, 279905 words/s, in_qsize 0, out_qsize 0\n",
      "2021-02-25 00:59:54,931 : INFO : EPOCH 5 - PROGRESS: at 83.75% examples, 279646 words/s, in_qsize 0, out_qsize 0\n",
      "2021-02-25 00:59:55,940 : INFO : EPOCH 5 - PROGRESS: at 91.16% examples, 279296 words/s, in_qsize 0, out_qsize 0\n",
      "2021-02-25 00:59:56,943 : INFO : EPOCH 5 - PROGRESS: at 98.75% examples, 278945 words/s, in_qsize 0, out_qsize 0\n",
      "2021-02-25 00:59:57,066 : INFO : worker thread finished; awaiting finish of 11 more threads\n",
      "2021-02-25 00:59:57,068 : INFO : worker thread finished; awaiting finish of 10 more threads\n",
      "2021-02-25 00:59:57,069 : INFO : worker thread finished; awaiting finish of 9 more threads\n",
      "2021-02-25 00:59:57,070 : INFO : worker thread finished; awaiting finish of 8 more threads\n",
      "2021-02-25 00:59:57,071 : INFO : worker thread finished; awaiting finish of 7 more threads\n",
      "2021-02-25 00:59:57,074 : INFO : worker thread finished; awaiting finish of 6 more threads\n",
      "2021-02-25 00:59:57,077 : INFO : worker thread finished; awaiting finish of 5 more threads\n",
      "2021-02-25 00:59:57,080 : INFO : worker thread finished; awaiting finish of 4 more threads\n",
      "2021-02-25 00:59:57,085 : INFO : worker thread finished; awaiting finish of 3 more threads\n",
      "2021-02-25 00:59:57,090 : INFO : worker thread finished; awaiting finish of 2 more threads\n",
      "2021-02-25 00:59:57,097 : INFO : worker thread finished; awaiting finish of 1 more threads\n",
      "2021-02-25 00:59:57,100 : INFO : worker thread finished; awaiting finish of 0 more threads\n",
      "2021-02-25 00:59:57,101 : INFO : EPOCH - 5 : training on 15346357 raw words (3691212 effective words) took 13.2s, 279038 effective words/s\n",
      "2021-02-25 00:59:58,110 : INFO : EPOCH 6 - PROGRESS: at 7.39% examples, 273665 words/s, in_qsize 0, out_qsize 1\n",
      "2021-02-25 00:59:59,111 : INFO : EPOCH 6 - PROGRESS: at 15.80% examples, 289747 words/s, in_qsize 23, out_qsize 0\n",
      "2021-02-25 01:00:00,128 : INFO : EPOCH 6 - PROGRESS: at 24.16% examples, 294196 words/s, in_qsize 0, out_qsize 1\n",
      "2021-02-25 01:00:01,152 : INFO : EPOCH 6 - PROGRESS: at 32.12% examples, 291949 words/s, in_qsize 18, out_qsize 3\n",
      "2021-02-25 01:00:02,158 : INFO : EPOCH 6 - PROGRESS: at 42.00% examples, 305786 words/s, in_qsize 0, out_qsize 0\n",
      "2021-02-25 01:00:03,167 : INFO : EPOCH 6 - PROGRESS: at 50.29% examples, 306099 words/s, in_qsize 0, out_qsize 0\n",
      "2021-02-25 01:00:04,190 : INFO : EPOCH 6 - PROGRESS: at 57.89% examples, 301756 words/s, in_qsize 0, out_qsize 1\n",
      "2021-02-25 01:00:05,203 : INFO : EPOCH 6 - PROGRESS: at 65.51% examples, 298380 words/s, in_qsize 0, out_qsize 1\n",
      "2021-02-25 01:00:06,210 : INFO : EPOCH 6 - PROGRESS: at 73.12% examples, 296420 words/s, in_qsize 0, out_qsize 0\n",
      "2021-02-25 01:00:07,216 : INFO : EPOCH 6 - PROGRESS: at 80.86% examples, 295424 words/s, in_qsize 0, out_qsize 0\n",
      "2021-02-25 01:00:08,224 : INFO : EPOCH 6 - PROGRESS: at 88.86% examples, 295468 words/s, in_qsize 7, out_qsize 3\n",
      "2021-02-25 01:00:09,237 : INFO : EPOCH 6 - PROGRESS: at 97.64% examples, 297320 words/s, in_qsize 0, out_qsize 1\n",
      "2021-02-25 01:00:09,452 : INFO : worker thread finished; awaiting finish of 11 more threads\n",
      "2021-02-25 01:00:09,454 : INFO : worker thread finished; awaiting finish of 10 more threads\n",
      "2021-02-25 01:00:09,455 : INFO : worker thread finished; awaiting finish of 9 more threads\n",
      "2021-02-25 01:00:09,457 : INFO : worker thread finished; awaiting finish of 8 more threads\n",
      "2021-02-25 01:00:09,458 : INFO : worker thread finished; awaiting finish of 7 more threads\n",
      "2021-02-25 01:00:09,459 : INFO : worker thread finished; awaiting finish of 6 more threads\n",
      "2021-02-25 01:00:09,461 : INFO : worker thread finished; awaiting finish of 5 more threads\n",
      "2021-02-25 01:00:09,462 : INFO : worker thread finished; awaiting finish of 4 more threads\n",
      "2021-02-25 01:00:09,465 : INFO : worker thread finished; awaiting finish of 3 more threads\n",
      "2021-02-25 01:00:09,472 : INFO : worker thread finished; awaiting finish of 2 more threads\n",
      "2021-02-25 01:00:09,475 : INFO : worker thread finished; awaiting finish of 1 more threads\n",
      "2021-02-25 01:00:09,478 : INFO : worker thread finished; awaiting finish of 0 more threads\n",
      "2021-02-25 01:00:09,479 : INFO : EPOCH - 6 : training on 15346357 raw words (3691784 effective words) took 12.4s, 298387 effective words/s\n",
      "2021-02-25 01:00:10,512 : INFO : EPOCH 7 - PROGRESS: at 8.51% examples, 305612 words/s, in_qsize 0, out_qsize 0\n",
      "2021-02-25 01:00:11,515 : INFO : EPOCH 7 - PROGRESS: at 16.05% examples, 290981 words/s, in_qsize 0, out_qsize 0\n"
     ]
    },
    {
     "name": "stderr",
     "output_type": "stream",
     "text": [
      "2021-02-25 01:00:12,523 : INFO : EPOCH 7 - PROGRESS: at 23.63% examples, 286238 words/s, in_qsize 0, out_qsize 0\n",
      "2021-02-25 01:00:13,532 : INFO : EPOCH 7 - PROGRESS: at 31.43% examples, 285280 words/s, in_qsize 0, out_qsize 0\n",
      "2021-02-25 01:00:14,532 : INFO : EPOCH 7 - PROGRESS: at 38.92% examples, 284088 words/s, in_qsize 0, out_qsize 0\n",
      "2021-02-25 01:00:15,543 : INFO : EPOCH 7 - PROGRESS: at 46.43% examples, 282345 words/s, in_qsize 1, out_qsize 0\n",
      "2021-02-25 01:00:16,558 : INFO : EPOCH 7 - PROGRESS: at 54.14% examples, 282189 words/s, in_qsize 0, out_qsize 0\n",
      "2021-02-25 01:00:17,559 : INFO : EPOCH 7 - PROGRESS: at 61.42% examples, 280399 words/s, in_qsize 0, out_qsize 0\n",
      "2021-02-25 01:00:18,561 : INFO : EPOCH 7 - PROGRESS: at 68.99% examples, 280535 words/s, in_qsize 0, out_qsize 0\n",
      "2021-02-25 01:00:19,566 : INFO : EPOCH 7 - PROGRESS: at 76.44% examples, 279768 words/s, in_qsize 0, out_qsize 0\n",
      "2021-02-25 01:00:20,568 : INFO : EPOCH 7 - PROGRESS: at 83.97% examples, 279748 words/s, in_qsize 0, out_qsize 0\n",
      "2021-02-25 01:00:21,575 : INFO : EPOCH 7 - PROGRESS: at 91.35% examples, 279419 words/s, in_qsize 0, out_qsize 0\n",
      "2021-02-25 01:00:22,527 : INFO : worker thread finished; awaiting finish of 11 more threads\n",
      "2021-02-25 01:00:22,529 : INFO : worker thread finished; awaiting finish of 10 more threads\n",
      "2021-02-25 01:00:22,530 : INFO : worker thread finished; awaiting finish of 9 more threads\n",
      "2021-02-25 01:00:22,531 : INFO : worker thread finished; awaiting finish of 8 more threads\n",
      "2021-02-25 01:00:22,533 : INFO : worker thread finished; awaiting finish of 7 more threads\n",
      "2021-02-25 01:00:22,534 : INFO : worker thread finished; awaiting finish of 6 more threads\n",
      "2021-02-25 01:00:22,535 : INFO : worker thread finished; awaiting finish of 5 more threads\n",
      "2021-02-25 01:00:22,536 : INFO : worker thread finished; awaiting finish of 4 more threads\n",
      "2021-02-25 01:00:22,547 : INFO : worker thread finished; awaiting finish of 3 more threads\n",
      "2021-02-25 01:00:22,555 : INFO : worker thread finished; awaiting finish of 2 more threads\n",
      "2021-02-25 01:00:22,557 : INFO : worker thread finished; awaiting finish of 1 more threads\n",
      "2021-02-25 01:00:22,558 : INFO : worker thread finished; awaiting finish of 0 more threads\n",
      "2021-02-25 01:00:22,559 : INFO : EPOCH - 7 : training on 15346357 raw words (3691799 effective words) took 13.1s, 282349 effective words/s\n",
      "2021-02-25 01:00:23,565 : INFO : EPOCH 8 - PROGRESS: at 8.37% examples, 309281 words/s, in_qsize 0, out_qsize 0\n",
      "2021-02-25 01:00:24,571 : INFO : EPOCH 8 - PROGRESS: at 16.96% examples, 311887 words/s, in_qsize 0, out_qsize 0\n",
      "2021-02-25 01:00:25,579 : INFO : EPOCH 8 - PROGRESS: at 25.83% examples, 314714 words/s, in_qsize 0, out_qsize 0\n",
      "2021-02-25 01:00:26,591 : INFO : EPOCH 8 - PROGRESS: at 34.84% examples, 318530 words/s, in_qsize 1, out_qsize 0\n",
      "2021-02-25 01:00:27,594 : INFO : EPOCH 8 - PROGRESS: at 43.50% examples, 318372 words/s, in_qsize 0, out_qsize 0\n",
      "2021-02-25 01:00:28,627 : INFO : EPOCH 8 - PROGRESS: at 51.39% examples, 312720 words/s, in_qsize 23, out_qsize 0\n",
      "2021-02-25 01:00:29,630 : INFO : EPOCH 8 - PROGRESS: at 60.50% examples, 315871 words/s, in_qsize 15, out_qsize 0\n",
      "2021-02-25 01:00:30,638 : INFO : EPOCH 8 - PROGRESS: at 69.24% examples, 316546 words/s, in_qsize 0, out_qsize 0\n",
      "2021-02-25 01:00:31,645 : INFO : EPOCH 8 - PROGRESS: at 77.59% examples, 315642 words/s, in_qsize 1, out_qsize 1\n",
      "2021-02-25 01:00:32,647 : INFO : EPOCH 8 - PROGRESS: at 86.29% examples, 316492 words/s, in_qsize 5, out_qsize 0\n",
      "2021-02-25 01:00:33,647 : INFO : EPOCH 8 - PROGRESS: at 94.69% examples, 315620 words/s, in_qsize 15, out_qsize 3\n",
      "2021-02-25 01:00:34,126 : INFO : worker thread finished; awaiting finish of 11 more threads\n",
      "2021-02-25 01:00:34,129 : INFO : worker thread finished; awaiting finish of 10 more threads\n",
      "2021-02-25 01:00:34,134 : INFO : worker thread finished; awaiting finish of 9 more threads\n",
      "2021-02-25 01:00:34,136 : INFO : worker thread finished; awaiting finish of 8 more threads\n",
      "2021-02-25 01:00:34,149 : INFO : worker thread finished; awaiting finish of 7 more threads\n",
      "2021-02-25 01:00:34,151 : INFO : worker thread finished; awaiting finish of 6 more threads\n",
      "2021-02-25 01:00:34,161 : INFO : worker thread finished; awaiting finish of 5 more threads\n",
      "2021-02-25 01:00:34,163 : INFO : worker thread finished; awaiting finish of 4 more threads\n",
      "2021-02-25 01:00:34,164 : INFO : worker thread finished; awaiting finish of 3 more threads\n",
      "2021-02-25 01:00:34,166 : INFO : worker thread finished; awaiting finish of 2 more threads\n",
      "2021-02-25 01:00:34,168 : INFO : worker thread finished; awaiting finish of 1 more threads\n",
      "2021-02-25 01:00:34,169 : INFO : worker thread finished; awaiting finish of 0 more threads\n",
      "2021-02-25 01:00:34,171 : INFO : EPOCH - 8 : training on 15346357 raw words (3692449 effective words) took 11.6s, 318143 effective words/s\n",
      "2021-02-25 01:00:35,195 : INFO : EPOCH 9 - PROGRESS: at 9.05% examples, 327354 words/s, in_qsize 1, out_qsize 0\n",
      "2021-02-25 01:00:36,200 : INFO : EPOCH 9 - PROGRESS: at 18.33% examples, 333754 words/s, in_qsize 0, out_qsize 0\n",
      "2021-02-25 01:00:37,201 : INFO : EPOCH 9 - PROGRESS: at 26.39% examples, 320616 words/s, in_qsize 15, out_qsize 0\n",
      "2021-02-25 01:00:38,210 : INFO : EPOCH 9 - PROGRESS: at 35.18% examples, 320624 words/s, in_qsize 0, out_qsize 0\n",
      "2021-02-25 01:00:39,233 : INFO : EPOCH 9 - PROGRESS: at 43.88% examples, 319178 words/s, in_qsize 8, out_qsize 0\n",
      "2021-02-25 01:00:40,236 : INFO : EPOCH 9 - PROGRESS: at 52.88% examples, 321825 words/s, in_qsize 16, out_qsize 0\n",
      "2021-02-25 01:00:41,278 : INFO : EPOCH 9 - PROGRESS: at 61.42% examples, 318630 words/s, in_qsize 7, out_qsize 3\n",
      "2021-02-25 01:00:42,282 : INFO : EPOCH 9 - PROGRESS: at 70.25% examples, 319529 words/s, in_qsize 0, out_qsize 0\n",
      "2021-02-25 01:00:43,283 : INFO : EPOCH 9 - PROGRESS: at 78.19% examples, 316665 words/s, in_qsize 0, out_qsize 0\n",
      "2021-02-25 01:00:44,292 : INFO : EPOCH 9 - PROGRESS: at 86.16% examples, 314656 words/s, in_qsize 0, out_qsize 2\n",
      "2021-02-25 01:00:45,294 : INFO : EPOCH 9 - PROGRESS: at 94.03% examples, 312236 words/s, in_qsize 0, out_qsize 0\n",
      "2021-02-25 01:00:46,004 : INFO : worker thread finished; awaiting finish of 11 more threads\n",
      "2021-02-25 01:00:46,026 : INFO : worker thread finished; awaiting finish of 10 more threads\n",
      "2021-02-25 01:00:46,029 : INFO : worker thread finished; awaiting finish of 9 more threads\n",
      "2021-02-25 01:00:46,031 : INFO : worker thread finished; awaiting finish of 8 more threads\n",
      "2021-02-25 01:00:46,032 : INFO : worker thread finished; awaiting finish of 7 more threads\n",
      "2021-02-25 01:00:46,034 : INFO : worker thread finished; awaiting finish of 6 more threads\n",
      "2021-02-25 01:00:46,053 : INFO : worker thread finished; awaiting finish of 5 more threads\n",
      "2021-02-25 01:00:46,060 : INFO : worker thread finished; awaiting finish of 4 more threads\n",
      "2021-02-25 01:00:46,065 : INFO : worker thread finished; awaiting finish of 3 more threads\n",
      "2021-02-25 01:00:46,067 : INFO : worker thread finished; awaiting finish of 2 more threads\n",
      "2021-02-25 01:00:46,068 : INFO : worker thread finished; awaiting finish of 1 more threads\n",
      "2021-02-25 01:00:46,074 : INFO : worker thread finished; awaiting finish of 0 more threads\n",
      "2021-02-25 01:00:46,077 : INFO : EPOCH - 9 : training on 15346357 raw words (3688753 effective words) took 11.9s, 309961 effective words/s\n",
      "2021-02-25 01:00:47,090 : INFO : EPOCH 10 - PROGRESS: at 7.53% examples, 276661 words/s, in_qsize 0, out_qsize 0\n",
      "2021-02-25 01:00:48,090 : INFO : EPOCH 10 - PROGRESS: at 15.14% examples, 277171 words/s, in_qsize 3, out_qsize 0\n",
      "2021-02-25 01:00:49,098 : INFO : EPOCH 10 - PROGRESS: at 22.97% examples, 280471 words/s, in_qsize 0, out_qsize 0\n",
      "2021-02-25 01:00:50,098 : INFO : EPOCH 10 - PROGRESS: at 30.26% examples, 276542 words/s, in_qsize 0, out_qsize 1\n",
      "2021-02-25 01:00:51,102 : INFO : EPOCH 10 - PROGRESS: at 37.95% examples, 278532 words/s, in_qsize 0, out_qsize 1\n",
      "2021-02-25 01:00:52,102 : INFO : EPOCH 10 - PROGRESS: at 45.52% examples, 278454 words/s, in_qsize 0, out_qsize 0\n",
      "2021-02-25 01:00:53,109 : INFO : EPOCH 10 - PROGRESS: at 52.94% examples, 277895 words/s, in_qsize 0, out_qsize 0\n",
      "2021-02-25 01:00:54,118 : INFO : EPOCH 10 - PROGRESS: at 60.50% examples, 277625 words/s, in_qsize 0, out_qsize 1\n"
     ]
    },
    {
     "name": "stderr",
     "output_type": "stream",
     "text": [
      "2021-02-25 01:00:55,129 : INFO : EPOCH 10 - PROGRESS: at 69.43% examples, 283246 words/s, in_qsize 0, out_qsize 0\n",
      "2021-02-25 01:00:56,136 : INFO : EPOCH 10 - PROGRESS: at 77.99% examples, 286342 words/s, in_qsize 0, out_qsize 2\n",
      "2021-02-25 01:00:57,139 : INFO : EPOCH 10 - PROGRESS: at 85.85% examples, 286960 words/s, in_qsize 0, out_qsize 0\n",
      "2021-02-25 01:00:58,148 : INFO : EPOCH 10 - PROGRESS: at 94.28% examples, 288686 words/s, in_qsize 19, out_qsize 3\n",
      "2021-02-25 01:00:58,645 : INFO : worker thread finished; awaiting finish of 11 more threads\n",
      "2021-02-25 01:00:58,649 : INFO : worker thread finished; awaiting finish of 10 more threads\n",
      "2021-02-25 01:00:58,651 : INFO : worker thread finished; awaiting finish of 9 more threads\n",
      "2021-02-25 01:00:58,652 : INFO : worker thread finished; awaiting finish of 8 more threads\n",
      "2021-02-25 01:00:58,654 : INFO : worker thread finished; awaiting finish of 7 more threads\n",
      "2021-02-25 01:00:58,656 : INFO : worker thread finished; awaiting finish of 6 more threads\n",
      "2021-02-25 01:00:58,657 : INFO : worker thread finished; awaiting finish of 5 more threads\n",
      "2021-02-25 01:00:58,661 : INFO : worker thread finished; awaiting finish of 4 more threads\n",
      "2021-02-25 01:00:58,671 : INFO : worker thread finished; awaiting finish of 3 more threads\n",
      "2021-02-25 01:00:58,675 : INFO : worker thread finished; awaiting finish of 2 more threads\n",
      "2021-02-25 01:00:58,679 : INFO : worker thread finished; awaiting finish of 1 more threads\n",
      "2021-02-25 01:00:58,681 : INFO : worker thread finished; awaiting finish of 0 more threads\n",
      "2021-02-25 01:00:58,682 : INFO : EPOCH - 10 : training on 15346357 raw words (3690650 effective words) took 12.6s, 292908 effective words/s\n",
      "2021-02-25 01:00:58,683 : INFO : training on a 153463570 raw words (36908838 effective words) took 127.3s, 289993 effective words/s\n",
      "2021-02-25 01:00:58,684 : INFO : saving Word2Vec object under dados/experimento_9/w2v_jur.model, separately None\n",
      "2021-02-25 01:00:58,686 : INFO : not storing attribute vectors_norm\n",
      "2021-02-25 01:00:58,687 : INFO : not storing attribute cum_table\n",
      "2021-02-25 01:00:59,419 : INFO : saved dados/experimento_9/w2v_jur.model\n"
     ]
    },
    {
     "name": "stdout",
     "output_type": "stream",
     "text": [
      "treinando modelo word2vec\n"
     ]
    },
    {
     "name": "stderr",
     "output_type": "stream",
     "text": [
      "2021-02-25 01:00:59,422 : INFO : resetting layer weights\n",
      "2021-02-25 01:01:04,579 : INFO : collecting all words and their counts\n",
      "2021-02-25 01:01:04,580 : INFO : PROGRESS: at sentence #0, processed 0 words, keeping 0 word types\n",
      "2021-02-25 01:01:04,661 : INFO : PROGRESS: at sentence #10000, processed 247468 words, keeping 13545 word types\n",
      "2021-02-25 01:01:04,741 : INFO : PROGRESS: at sentence #20000, processed 493121 words, keeping 18876 word types\n",
      "2021-02-25 01:01:04,821 : INFO : PROGRESS: at sentence #30000, processed 737445 words, keeping 22923 word types\n",
      "2021-02-25 01:01:04,898 : INFO : PROGRESS: at sentence #40000, processed 982488 words, keeping 25696 word types\n",
      "2021-02-25 01:01:04,978 : INFO : PROGRESS: at sentence #50000, processed 1226391 words, keeping 28086 word types\n",
      "2021-02-25 01:01:05,058 : INFO : PROGRESS: at sentence #60000, processed 1466797 words, keeping 30282 word types\n",
      "2021-02-25 01:01:05,139 : INFO : PROGRESS: at sentence #70000, processed 1713332 words, keeping 32455 word types\n",
      "2021-02-25 01:01:05,211 : INFO : PROGRESS: at sentence #80000, processed 1951218 words, keeping 34341 word types\n",
      "2021-02-25 01:01:05,282 : INFO : PROGRESS: at sentence #90000, processed 2189213 words, keeping 35937 word types\n",
      "2021-02-25 01:01:05,358 : INFO : PROGRESS: at sentence #100000, processed 2431912 words, keeping 37480 word types\n",
      "2021-02-25 01:01:05,431 : INFO : PROGRESS: at sentence #110000, processed 2672667 words, keeping 39096 word types\n",
      "2021-02-25 01:01:05,507 : INFO : PROGRESS: at sentence #120000, processed 2914949 words, keeping 40680 word types\n",
      "2021-02-25 01:01:05,579 : INFO : PROGRESS: at sentence #130000, processed 3153077 words, keeping 42037 word types\n",
      "2021-02-25 01:01:05,653 : INFO : PROGRESS: at sentence #140000, processed 3393565 words, keeping 43458 word types\n",
      "2021-02-25 01:01:05,725 : INFO : PROGRESS: at sentence #150000, processed 3629027 words, keeping 44680 word types\n",
      "2021-02-25 01:01:05,792 : INFO : PROGRESS: at sentence #160000, processed 3866568 words, keeping 45918 word types\n",
      "2021-02-25 01:01:05,863 : INFO : PROGRESS: at sentence #170000, processed 4108018 words, keeping 47010 word types\n",
      "2021-02-25 01:01:05,934 : INFO : PROGRESS: at sentence #180000, processed 4350785 words, keeping 48062 word types\n",
      "2021-02-25 01:01:06,006 : INFO : PROGRESS: at sentence #190000, processed 4591921 words, keeping 49118 word types\n",
      "2021-02-25 01:01:06,084 : INFO : PROGRESS: at sentence #200000, processed 4835675 words, keeping 50245 word types\n",
      "2021-02-25 01:01:06,157 : INFO : PROGRESS: at sentence #210000, processed 5079889 words, keeping 51265 word types\n",
      "2021-02-25 01:01:06,232 : INFO : PROGRESS: at sentence #220000, processed 5325727 words, keeping 52207 word types\n",
      "2021-02-25 01:01:06,304 : INFO : PROGRESS: at sentence #230000, processed 5563914 words, keeping 53186 word types\n",
      "2021-02-25 01:01:06,381 : INFO : PROGRESS: at sentence #240000, processed 5811977 words, keeping 54084 word types\n",
      "2021-02-25 01:01:06,455 : INFO : PROGRESS: at sentence #250000, processed 6050229 words, keeping 54972 word types\n",
      "2021-02-25 01:01:06,529 : INFO : PROGRESS: at sentence #260000, processed 6291200 words, keeping 55856 word types\n",
      "2021-02-25 01:01:06,606 : INFO : PROGRESS: at sentence #270000, processed 6535587 words, keeping 56549 word types\n",
      "2021-02-25 01:01:06,681 : INFO : PROGRESS: at sentence #280000, processed 6783479 words, keeping 57465 word types\n",
      "2021-02-25 01:01:06,754 : INFO : PROGRESS: at sentence #290000, processed 7031424 words, keeping 58343 word types\n",
      "2021-02-25 01:01:06,822 : INFO : PROGRESS: at sentence #300000, processed 7272545 words, keeping 59331 word types\n",
      "2021-02-25 01:01:06,899 : INFO : PROGRESS: at sentence #310000, processed 7523820 words, keeping 60262 word types\n",
      "2021-02-25 01:01:06,974 : INFO : PROGRESS: at sentence #320000, processed 7768516 words, keeping 61028 word types\n",
      "2021-02-25 01:01:07,048 : INFO : PROGRESS: at sentence #330000, processed 8012432 words, keeping 61806 word types\n",
      "2021-02-25 01:01:07,125 : INFO : PROGRESS: at sentence #340000, processed 8249865 words, keeping 62627 word types\n",
      "2021-02-25 01:01:07,203 : INFO : PROGRESS: at sentence #350000, processed 8492490 words, keeping 63588 word types\n",
      "2021-02-25 01:01:07,279 : INFO : PROGRESS: at sentence #360000, processed 8741112 words, keeping 64424 word types\n",
      "2021-02-25 01:01:07,353 : INFO : PROGRESS: at sentence #370000, processed 8981088 words, keeping 65218 word types\n",
      "2021-02-25 01:01:07,425 : INFO : PROGRESS: at sentence #380000, processed 9219360 words, keeping 65838 word types\n",
      "2021-02-25 01:01:07,496 : INFO : PROGRESS: at sentence #390000, processed 9463954 words, keeping 66516 word types\n",
      "2021-02-25 01:01:07,567 : INFO : PROGRESS: at sentence #400000, processed 9702904 words, keeping 67231 word types\n",
      "2021-02-25 01:01:07,635 : INFO : PROGRESS: at sentence #410000, processed 9950501 words, keeping 67940 word types\n",
      "2021-02-25 01:01:07,707 : INFO : PROGRESS: at sentence #420000, processed 10195033 words, keeping 68646 word types\n",
      "2021-02-25 01:01:07,784 : INFO : PROGRESS: at sentence #430000, processed 10442167 words, keeping 69295 word types\n",
      "2021-02-25 01:01:07,859 : INFO : PROGRESS: at sentence #440000, processed 10686039 words, keeping 69937 word types\n",
      "2021-02-25 01:01:07,928 : INFO : PROGRESS: at sentence #450000, processed 10921779 words, keeping 70509 word types\n",
      "2021-02-25 01:01:08,001 : INFO : PROGRESS: at sentence #460000, processed 11161089 words, keeping 71124 word types\n",
      "2021-02-25 01:01:08,078 : INFO : PROGRESS: at sentence #470000, processed 11405840 words, keeping 71682 word types\n",
      "2021-02-25 01:01:08,150 : INFO : PROGRESS: at sentence #480000, processed 11648634 words, keeping 72425 word types\n",
      "2021-02-25 01:01:08,220 : INFO : PROGRESS: at sentence #490000, processed 11895490 words, keeping 73106 word types\n",
      "2021-02-25 01:01:08,290 : INFO : PROGRESS: at sentence #500000, processed 12135954 words, keeping 73659 word types\n",
      "2021-02-25 01:01:08,362 : INFO : PROGRESS: at sentence #510000, processed 12380100 words, keeping 74266 word types\n",
      "2021-02-25 01:01:08,437 : INFO : PROGRESS: at sentence #520000, processed 12627939 words, keeping 74851 word types\n",
      "2021-02-25 01:01:08,505 : INFO : PROGRESS: at sentence #530000, processed 12865724 words, keeping 75417 word types\n",
      "2021-02-25 01:01:08,575 : INFO : PROGRESS: at sentence #540000, processed 13117705 words, keeping 76020 word types\n",
      "2021-02-25 01:01:08,647 : INFO : PROGRESS: at sentence #550000, processed 13364684 words, keeping 76561 word types\n",
      "2021-02-25 01:01:08,718 : INFO : PROGRESS: at sentence #560000, processed 13603988 words, keeping 77259 word types\n",
      "2021-02-25 01:01:08,790 : INFO : PROGRESS: at sentence #570000, processed 13849342 words, keeping 77788 word types\n",
      "2021-02-25 01:01:08,865 : INFO : PROGRESS: at sentence #580000, processed 14094120 words, keeping 78414 word types\n",
      "2021-02-25 01:01:08,939 : INFO : PROGRESS: at sentence #590000, processed 14337580 words, keeping 78926 word types\n",
      "2021-02-25 01:01:09,011 : INFO : PROGRESS: at sentence #600000, processed 14575617 words, keeping 79451 word types\n",
      "2021-02-25 01:01:09,083 : INFO : PROGRESS: at sentence #610000, processed 14817286 words, keeping 80051 word types\n",
      "2021-02-25 01:01:09,152 : INFO : PROGRESS: at sentence #620000, processed 15060165 words, keeping 80510 word types\n",
      "2021-02-25 01:01:09,220 : INFO : PROGRESS: at sentence #630000, processed 15300609 words, keeping 81049 word types\n",
      "2021-02-25 01:01:09,234 : INFO : collected 81153 word types from a corpus of 15346357 raw words and 631937 sentences\n",
      "2021-02-25 01:01:09,235 : INFO : Loading a fresh vocabulary\n",
      "2021-02-25 01:01:09,286 : INFO : effective_min_count=5 retains 32579 unique words (40% of original 81153, drops 48574)\n",
      "2021-02-25 01:01:09,287 : INFO : effective_min_count=5 leaves 15264861 word corpus (99% of original 15346357, drops 81496)\n",
      "2021-02-25 01:01:09,363 : INFO : deleting the raw counts dictionary of 81153 items\n",
      "2021-02-25 01:01:09,366 : INFO : sample=0.001 downsamples 36 most-common words\n",
      "2021-02-25 01:01:09,367 : INFO : downsampling leaves estimated 11050001 word corpus (72.4% of prior 15264861)\n",
      "2021-02-25 01:01:09,389 : INFO : constructing a huffman tree from 32579 words\n",
      "2021-02-25 01:01:10,137 : INFO : built huffman tree with maximum node depth 22\n"
     ]
    },
    {
     "name": "stderr",
     "output_type": "stream",
     "text": [
      "2021-02-25 01:01:10,520 : INFO : estimated required memory for 32579 words, 137886 buckets and 100 dimensions: 125837396 bytes\n",
      "2021-02-25 01:01:10,525 : INFO : resetting layer weights\n",
      "2021-02-25 01:01:14,004 : INFO : training model with 12 workers on 32579 vocabulary and 100 features, using sg=1 hs=1 sample=0.001 negative=5 window=5\n",
      "2021-02-25 01:02:08,194 : INFO : EPOCH 1 - PROGRESS: at 8.36% words, 17080 words/s, in_qsize -1, out_qsize 1\n",
      "2021-02-25 01:02:08,197 : INFO : worker thread finished; awaiting finish of 11 more threads\n",
      "2021-02-25 01:02:08,225 : INFO : worker thread finished; awaiting finish of 10 more threads\n",
      "2021-02-25 01:02:08,352 : INFO : worker thread finished; awaiting finish of 9 more threads\n",
      "2021-02-25 01:02:08,369 : INFO : worker thread finished; awaiting finish of 8 more threads\n",
      "2021-02-25 01:02:08,818 : INFO : worker thread finished; awaiting finish of 7 more threads\n",
      "2021-02-25 01:02:08,956 : INFO : worker thread finished; awaiting finish of 6 more threads\n",
      "2021-02-25 01:02:08,962 : INFO : worker thread finished; awaiting finish of 5 more threads\n",
      "2021-02-25 01:02:09,119 : INFO : worker thread finished; awaiting finish of 4 more threads\n",
      "2021-02-25 01:02:09,985 : INFO : EPOCH 1 - PROGRESS: at 75.24% words, 148607 words/s, in_qsize -1, out_qsize 1\n",
      "2021-02-25 01:02:09,987 : INFO : worker thread finished; awaiting finish of 3 more threads\n",
      "2021-02-25 01:02:10,212 : INFO : worker thread finished; awaiting finish of 2 more threads\n",
      "2021-02-25 01:02:10,221 : INFO : worker thread finished; awaiting finish of 1 more threads\n",
      "2021-02-25 01:02:10,681 : INFO : worker thread finished; awaiting finish of 0 more threads\n",
      "2021-02-25 01:02:10,682 : INFO : EPOCH - 1 : training on 15394600 raw words (11082601 effective words) took 56.6s, 195701 effective words/s\n",
      "2021-02-25 01:03:03,646 : INFO : EPOCH 2 - PROGRESS: at 8.36% words, 17452 words/s, in_qsize -1, out_qsize 1\n",
      "2021-02-25 01:03:03,647 : INFO : worker thread finished; awaiting finish of 11 more threads\n",
      "2021-02-25 01:03:03,668 : INFO : worker thread finished; awaiting finish of 10 more threads\n",
      "2021-02-25 01:03:03,708 : INFO : worker thread finished; awaiting finish of 9 more threads\n",
      "2021-02-25 01:03:03,828 : INFO : worker thread finished; awaiting finish of 8 more threads\n",
      "2021-02-25 01:03:03,921 : INFO : worker thread finished; awaiting finish of 7 more threads\n",
      "2021-02-25 01:03:03,964 : INFO : worker thread finished; awaiting finish of 6 more threads\n",
      "2021-02-25 01:03:03,967 : INFO : worker thread finished; awaiting finish of 5 more threads\n",
      "2021-02-25 01:03:04,129 : INFO : worker thread finished; awaiting finish of 4 more threads\n",
      "2021-02-25 01:03:04,910 : INFO : EPOCH 2 - PROGRESS: at 75.24% words, 153446 words/s, in_qsize -1, out_qsize 1\n",
      "2021-02-25 01:03:04,912 : INFO : worker thread finished; awaiting finish of 3 more threads\n",
      "2021-02-25 01:03:05,105 : INFO : worker thread finished; awaiting finish of 2 more threads\n",
      "2021-02-25 01:03:05,116 : INFO : worker thread finished; awaiting finish of 1 more threads\n",
      "2021-02-25 01:03:05,633 : INFO : worker thread finished; awaiting finish of 0 more threads\n",
      "2021-02-25 01:03:05,638 : INFO : EPOCH - 2 : training on 15394600 raw words (11085405 effective words) took 54.9s, 201877 effective words/s\n",
      "2021-02-25 01:04:58,871 : INFO : EPOCH 3 - PROGRESS: at 8.36% words, 8175 words/s, in_qsize -1, out_qsize 1\n",
      "2021-02-25 01:04:58,874 : INFO : worker thread finished; awaiting finish of 11 more threads\n",
      "2021-02-25 01:04:59,146 : INFO : worker thread finished; awaiting finish of 10 more threads\n",
      "2021-02-25 01:04:59,178 : INFO : worker thread finished; awaiting finish of 9 more threads\n",
      "2021-02-25 01:04:59,233 : INFO : worker thread finished; awaiting finish of 8 more threads\n",
      "2021-02-25 01:04:59,569 : INFO : worker thread finished; awaiting finish of 7 more threads\n",
      "2021-02-25 01:05:00,139 : INFO : EPOCH 3 - PROGRESS: at 50.16% words, 48518 words/s, in_qsize -1, out_qsize 1\n",
      "2021-02-25 01:05:00,144 : INFO : worker thread finished; awaiting finish of 6 more threads\n",
      "2021-02-25 01:05:00,261 : INFO : worker thread finished; awaiting finish of 5 more threads\n",
      "2021-02-25 01:05:00,436 : INFO : worker thread finished; awaiting finish of 4 more threads\n",
      "2021-02-25 01:05:04,274 : INFO : EPOCH 3 - PROGRESS: at 75.24% words, 70214 words/s, in_qsize -1, out_qsize 1\n",
      "2021-02-25 01:05:04,277 : INFO : worker thread finished; awaiting finish of 3 more threads\n",
      "2021-02-25 01:05:04,682 : INFO : worker thread finished; awaiting finish of 2 more threads\n",
      "2021-02-25 01:05:04,921 : INFO : worker thread finished; awaiting finish of 1 more threads\n",
      "2021-02-25 01:05:04,935 : INFO : worker thread finished; awaiting finish of 0 more threads\n",
      "2021-02-25 01:05:04,938 : INFO : EPOCH - 3 : training on 15394600 raw words (11086897 effective words) took 119.1s, 93088 effective words/s\n",
      "2021-02-25 01:07:01,939 : INFO : EPOCH 4 - PROGRESS: at 8.36% words, 7910 words/s, in_qsize -1, out_qsize 1\n",
      "2021-02-25 01:07:01,943 : INFO : worker thread finished; awaiting finish of 11 more threads\n",
      "2021-02-25 01:07:02,127 : INFO : worker thread finished; awaiting finish of 10 more threads\n",
      "2021-02-25 01:07:02,300 : INFO : worker thread finished; awaiting finish of 9 more threads\n",
      "2021-02-25 01:07:02,359 : INFO : worker thread finished; awaiting finish of 8 more threads\n",
      "2021-02-25 01:07:10,638 : INFO : EPOCH 4 - PROGRESS: at 41.80% words, 36766 words/s, in_qsize -1, out_qsize 1\n",
      "2021-02-25 01:07:10,641 : INFO : worker thread finished; awaiting finish of 7 more threads\n",
      "2021-02-25 01:07:11,649 : INFO : EPOCH 4 - PROGRESS: at 50.16% words, 43776 words/s, in_qsize -1, out_qsize 1\n",
      "2021-02-25 01:07:11,652 : INFO : worker thread finished; awaiting finish of 6 more threads\n",
      "2021-02-25 01:07:11,797 : INFO : worker thread finished; awaiting finish of 5 more threads\n",
      "2021-02-25 01:07:11,875 : INFO : worker thread finished; awaiting finish of 4 more threads\n",
      "2021-02-25 01:07:19,799 : INFO : EPOCH 4 - PROGRESS: at 75.24% words, 61700 words/s, in_qsize -1, out_qsize 1\n",
      "2021-02-25 01:07:19,804 : INFO : worker thread finished; awaiting finish of 3 more threads\n",
      "2021-02-25 01:07:19,873 : INFO : worker thread finished; awaiting finish of 2 more threads\n",
      "2021-02-25 01:07:19,910 : INFO : worker thread finished; awaiting finish of 1 more threads\n",
      "2021-02-25 01:07:20,788 : INFO : worker thread finished; awaiting finish of 0 more threads\n",
      "2021-02-25 01:07:20,791 : INFO : EPOCH - 4 : training on 15394600 raw words (11084586 effective words) took 135.7s, 81671 effective words/s\n",
      "2021-02-25 01:08:39,226 : INFO : EPOCH 5 - PROGRESS: at 8.36% words, 11809 words/s, in_qsize -1, out_qsize 1\n",
      "2021-02-25 01:08:39,228 : INFO : worker thread finished; awaiting finish of 11 more threads\n",
      "2021-02-25 01:08:39,427 : INFO : worker thread finished; awaiting finish of 10 more threads\n",
      "2021-02-25 01:08:39,571 : INFO : worker thread finished; awaiting finish of 9 more threads\n",
      "2021-02-25 01:08:39,610 : INFO : worker thread finished; awaiting finish of 8 more threads\n",
      "2021-02-25 01:08:45,445 : INFO : EPOCH 5 - PROGRESS: at 41.81% words, 54663 words/s, in_qsize -1, out_qsize 1\n",
      "2021-02-25 01:08:45,446 : INFO : worker thread finished; awaiting finish of 7 more threads\n",
      "2021-02-25 01:08:45,732 : INFO : worker thread finished; awaiting finish of 6 more threads\n",
      "2021-02-25 01:08:45,868 : INFO : worker thread finished; awaiting finish of 5 more threads\n",
      "2021-02-25 01:08:46,206 : INFO : worker thread finished; awaiting finish of 4 more threads\n",
      "2021-02-25 01:08:46,227 : INFO : worker thread finished; awaiting finish of 3 more threads\n",
      "2021-02-25 01:08:46,312 : INFO : worker thread finished; awaiting finish of 2 more threads\n",
      "2021-02-25 01:08:46,332 : INFO : worker thread finished; awaiting finish of 1 more threads\n",
      "2021-02-25 01:08:46,588 : INFO : EPOCH 5 - PROGRESS: at 100.31% words, 129363 words/s, in_qsize -1, out_qsize 1\n",
      "2021-02-25 01:08:46,589 : INFO : worker thread finished; awaiting finish of 0 more threads\n",
      "2021-02-25 01:08:46,590 : INFO : EPOCH - 5 : training on 15394600 raw words (11081069 effective words) took 85.7s, 129360 effective words/s\n",
      "2021-02-25 01:08:46,593 : INFO : training on a 76973000 raw words (55420558 effective words) took 452.6s, 122453 effective words/s\n",
      "2021-02-25 01:08:46,594 : WARNING : under 10 jobs per worker: consider setting a smaller `batch_words' for smoother alpha decay\n"
     ]
    },
    {
     "name": "stderr",
     "output_type": "stream",
     "text": [
      "2021-02-25 01:08:48,281 : INFO : saving FastText object under dados/experimento_9/ftt_jur.model, separately None\n",
      "2021-02-25 01:08:48,282 : INFO : storing np array 'vectors_ngrams' to dados/experimento_9/ftt_jur.model.wv.vectors_ngrams.npy\n",
      "2021-02-25 01:08:55,758 : INFO : not storing attribute vectors_norm\n",
      "2021-02-25 01:08:55,760 : INFO : not storing attribute vectors_vocab_norm\n",
      "2021-02-25 01:08:55,761 : INFO : not storing attribute vectors_ngrams_norm\n",
      "2021-02-25 01:08:55,762 : INFO : not storing attribute buckets_word\n",
      "2021-02-25 01:08:55,763 : INFO : storing np array 'vectors_ngrams_lockf' to dados/experimento_9/ftt_jur.model.trainables.vectors_ngrams_lockf.npy\n",
      "2021-02-25 01:09:03,740 : INFO : saved dados/experimento_9/ftt_jur.model\n"
     ]
    },
    {
     "name": "stdout",
     "output_type": "stream",
     "text": [
      "treinando modelo glove\n",
      "mkdir -p build\n",
      "tokenizando corpus\n",
      "$ build/vocab_count -min-count 5 -verbose 2 < ../mestrado/experimentos_mestrado/dados/experimento_9/base_treino_glv.txt > ../mestrado/experimentos_mestrado/dados/experimento_9/glove_vocab.txt\n",
      "criando matriz de coocorrencia\n",
      "$ build/cooccur -memory 4.0 -vocab-file ../mestrado/experimentos_mestrado/dados/experimento_9/glove_vocab.txt -verbose 2 -window-size 15 < ../mestrado/experimentos_mestrado/dados/experimento_9/base_treino_glv.txt > ../mestrado/experimentos_mestrado/dados/experimento_9/glv_concurrence.bin\n",
      "$ build/shuffle -memory 4.0 -verbose 2 < ../mestrado/experimentos_mestrado/dados/experimento_9/glv_concurrence.bin > ../mestrado/experimentos_mestrado/dados/experimento_9/glv_concurrence_shuf.bin\n",
      "$ build/glove -save-file ../mestrado/experimentos_mestrado/dados/experimento_9/glv_jur -threads 8 -input-file ../mestrado/experimentos_mestrado/dados/experimento_9/glv_concurrence_shuf.bin -x-max 10 -iter 15 -vector-size 100 -binary 2 -vocab-file ../mestrado/experimentos_mestrado/dados/experimento_9/glove_vocab.txt -verbose 2\n",
      "\n",
      "BUILDING VOCABULARY\n",
      "Processed 0 tokens.100000 tokens.200000 tokens.300000 tokens.400000 tokens.500000 tokens.600000 tokens.700000 tokens.800000 tokens.900000 tokens.1000000 tokens.1100000 tokens.1200000 tokens.1300000 tokens.1400000 tokens.1500000 tokens.1600000 tokens.1700000 tokens.1800000 tokens.1900000 tokens.2000000 tokens.2100000 tokens.2200000 tokens.2300000 tokens.2400000 tokens.2500000 tokens.2600000 tokens.2700000 tokens.2800000 tokens.2900000 tokens.3000000 tokens.3100000 tokens.3200000 tokens.3300000 tokens.3400000 tokens.3500000 tokens.3600000 tokens.3700000 tokens.3800000 tokens.3900000 tokens.4000000 tokens.4100000 tokens.4200000 tokens.4300000 tokens.4400000 tokens.4500000 tokens.4600000 tokens.4700000 tokens.4800000 tokens.4900000 tokens.5000000 tokens.5100000 tokens.5200000 tokens.5300000 tokens.5400000 tokens.5500000 tokens.5600000 tokens.5700000 tokens.5800000 tokens.5900000 tokens.6000000 tokens.6100000 tokens.6200000 tokens.6300000 tokens.6400000 tokens.6500000 tokens.6600000 tokens.6700000 tokens.6800000 tokens.6900000 tokens.7000000 tokens.7100000 tokens.7200000 tokens.7300000 tokens.7400000 tokens.7500000 tokens.7600000 tokens.7700000 tokens.7800000 tokens.7900000 tokens.8000000 tokens.8100000 tokens.8200000 tokens.8300000 tokens.8400000 tokens.8500000 tokens.8600000 tokens.8700000 tokens.8800000 tokens.8900000 tokens.9000000 tokens.9100000 tokens.9200000 tokens.9300000 tokens.9400000 tokens.9500000 tokens.9600000 tokens.Processed 9661353 tokens.\n",
      "Counted 80973 unique words.\n",
      "Truncating vocabulary at min count 5.\n",
      "Using vocabulary of size 32412.\n",
      "\n",
      "COUNTING COOCCURRENCES\n",
      "window size: 15\n",
      "context: symmetric\n",
      "max product: 13752509\n",
      "overflow length: 38028356\n",
      "Reading vocab from file \"../mestrado/experimentos_mestrado/dados/experimento_9/glove_vocab.txt\"...loaded 32412 words.\n",
      "Building lookup table...table contains 73349153 elements.\n",
      "Processing token: 0100000200000300000400000500000600000700000800000900000100000011000001200000130000014000001500000160000017000001800000190000020000002100000220000023000002400000250000026000002700000280000029000003000000310000032000003300000340000035000003600000370000038000003900000400000041000004200000430000044000004500000460000047000004800000490000050000005100000520000053000005400000550000056000005700000580000059000006000000610000062000006300000640000065000006600000670000068000006900000700000071000007200000730000074000007500000760000077000007800000790000080000008100000820000083000008400000850000086000008700000880000089000009000000910000092000009300000940000095000009600000Processed 9661353 tokens.\n",
      "Writing cooccurrences to disk........2 files in total.\n"
     ]
    },
    {
     "name": "stdout",
     "output_type": "stream",
     "text": [
      "Merging cooccurrence files: processed 0 lines.100000 lines.200000 lines.300000 lines.400000 lines.500000 lines.600000 lines.700000 lines.800000 lines.900000 lines.1000000 lines.1100000 lines.1200000 lines.1300000 lines.1400000 lines.1500000 lines.1600000 lines.1700000 lines.1800000 lines.1900000 lines.2000000 lines.2100000 lines.2200000 lines.2300000 lines.2400000 lines.2500000 lines.2600000 lines.2700000 lines.2800000 lines.2900000 lines.3000000 lines.3100000 lines.3200000 lines.3300000 lines.3400000 lines.3500000 lines.3600000 lines.3700000 lines.3800000 lines.3900000 lines.4000000 lines.4100000 lines.4200000 lines.4300000 lines.4400000 lines.4500000 lines.4600000 lines.4700000 lines.4800000 lines.4900000 lines.5000000 lines.5100000 lines.5200000 lines.5300000 lines.5400000 lines.5500000 lines.5600000 lines.5700000 lines.5800000 lines.5900000 lines.6000000 lines.6100000 lines.6200000 lines.6300000 lines.6400000 lines.6500000 lines.6600000 lines.6700000 lines.6800000 lines.6900000 lines.7000000 lines.7100000 lines.7200000 lines.7300000 lines.7400000 lines.7500000 lines.7600000 lines.7700000 lines.7800000 lines.7900000 lines.8000000 lines.8100000 lines.8200000 lines.8300000 lines.8400000 lines.8500000 lines.8600000 lines.8700000 lines.8800000 lines.8900000 lines.9000000 lines.9100000 lines.9200000 lines.9300000 lines.9400000 lines.9500000 lines.9600000 lines.9700000 lines.9800000 lines.9900000 lines.10000000 lines.10100000 lines.10200000 lines.10300000 lines.10400000 lines.10500000 lines.10600000 lines.10700000 lines.10800000 lines.10900000 lines.11000000 lines.11100000 lines.11200000 lines.11300000 lines.11400000 lines.11500000 lines.11600000 lines.11700000 lines.11800000 lines.11900000 lines.12000000 lines.12100000 lines.12200000 lines.12300000 lines.12400000 lines.12500000 lines.12600000 lines.12700000 lines.12800000 lines.12900000 lines.13000000 lines.13100000 lines.13200000 lines.13300000 lines.13400000 lines.13500000 lines.13600000 lines.13700000 lines.13800000 lines.13900000 lines.14000000 lines.14100000 lines.14200000 lines.14300000 lines.14400000 lines.14500000 lines.14600000 lines.14700000 lines.14800000 lines.14900000 lines.15000000 lines.15100000 lines.15200000 lines.15300000 lines.15400000 lines.15500000 lines.15600000 lines.15700000 lines.15800000 lines.15900000 lines.16000000 lines.16100000 lines.16200000 lines.16300000 lines.16400000 lines.16500000 lines.16600000 lines.16700000 lines.16800000 lines.16900000 lines.17000000 lines.17100000 lines.17200000 lines.17300000 lines.17400000 lines.17500000 lines.17600000 lines.17700000 lines.17800000 lines.17900000 lines.18000000 lines.18100000 lines.18200000 lines.18300000 lines.18400000 lines.18500000 lines.18600000 lines.18700000 lines.18800000 lines.18900000 lines.19000000 lines.19100000 lines.19200000 lines.19300000 lines.19400000 lines.19500000 lines.19600000 lines.19700000 lines.19800000 lines.19900000 lines.20000000 lines.20100000 lines.20200000 lines.20300000 lines.20400000 lines.20500000 lines.20600000 lines.20700000 lines.20800000 lines.20900000 lines.21000000 lines.21100000 lines.21200000 lines.21300000 lines.21400000 lines.21500000 lines.21600000 lines.21700000 lines.21800000 lines.21900000 lines.22000000 lines.22100000 lines.22200000 lines.22300000 lines.22400000 lines.22500000 lines.22600000 lines.22700000 lines.22800000 lines.22900000 lines.23000000 lines.23100000 lines.23200000 lines.23300000 lines.23400000 lines.23500000 lines.23600000 lines.23700000 lines.23800000 lines.23900000 lines.24000000 lines.24100000 lines.24200000 lines.24300000 lines.24400000 lines.24500000 lines.24600000 lines.24700000 lines.24800000 lines.24900000 lines.25000000 lines.25100000 lines.25200000 lines.25300000 lines.25400000 lines.25500000 lines.25600000 lines.25700000 lines.25800000 lines.25900000 lines.26000000 lines.26100000 lines.26200000 lines.26300000 lines.26400000 lines.26500000 lines.26600000 lines.26700000 lines.26800000 lines.26900000 lines.27000000 lines.27100000 lines.27200000 lines.27300000 lines.27400000 lines.27500000 lines.27600000 lines.27700000 lines.27800000 lines.27900000 lines.28000000 lines.28100000 lines.28200000 lines.28300000 lines.28400000 lines.28500000 lines.28600000 lines.28700000 lines.28800000 lines.28900000 lines.29000000 lines.29100000 lines.29200000 lines.29300000 lines.29400000 lines.29500000 lines.29600000 lines.29700000 lines.29800000 lines.29900000 lines.30000000 lines.30100000 lines.30200000 lines.30300000 lines.30400000 lines.30500000 lines.30600000 lines.30700000 lines.30800000 lines.30900000 lines.31000000 lines.31100000 lines.31200000 lines.31300000 lines.31400000 lines.31500000 lines.Merging cooccurrence files: processed 31546014 lines.\n",
      "\n",
      "Using random seed 1614226161\n",
      "SHUFFLING COOCCURRENCES\n",
      "array size: 255013683\n",
      "Shuffling by chunks: processed 0 lines.processed 31546014 lines.\n",
      "Wrote 1 temporary file(s).\n",
      "Merging temp files: processed 0 lines.31546014 lines.Merging temp files: processed 31546014 lines.\n",
      "\n",
      "TRAINING MODEL\n",
      "Read 31546014 lines.\n",
      "Initializing parameters...Using random seed 1614226172\n",
      "done.\n",
      "vector size: 100\n",
      "vocab size: 32412\n",
      "x_max: 10.000000\n",
      "alpha: 0.750000\n",
      "02/25/21 - 01:09.44AM, iter: 001, cost: 0.109452\n",
      "02/25/21 - 01:09.57AM, iter: 002, cost: 0.079647\n",
      "02/25/21 - 01:10.09AM, iter: 003, cost: 0.066752\n",
      "02/25/21 - 01:10.20AM, iter: 004, cost: 0.059028\n",
      "02/25/21 - 01:10.32AM, iter: 005, cost: 0.054653\n",
      "02/25/21 - 01:10.43AM, iter: 006, cost: 0.052032\n",
      "02/25/21 - 01:10.55AM, iter: 007, cost: 0.050314\n",
      "02/25/21 - 01:11.06AM, iter: 008, cost: 0.049081\n",
      "02/25/21 - 01:11.17AM, iter: 009, cost: 0.048163\n",
      "02/25/21 - 01:11.28AM, iter: 010, cost: 0.047423\n",
      "02/25/21 - 01:11.40AM, iter: 011, cost: 0.046833\n",
      "02/25/21 - 01:11.51AM, iter: 012, cost: 0.046327\n",
      "02/25/21 - 01:12.03AM, iter: 013, cost: 0.045907\n",
      "02/25/21 - 01:12.14AM, iter: 014, cost: 0.045532\n",
      "02/25/21 - 01:12.25AM, iter: 015, cost: 0.045215\n",
      "\n",
      "treinamento concluído\n"
     ]
    },
    {
     "name": "stderr",
     "output_type": "stream",
     "text": [
      "2021-02-25 01:12:27,445 : INFO : converting 32413 vectors from dados/experimento_9/glv_jur.txt to C:\\Users\\CRISTI~1\\AppData\\Local\\Temp\\test_word2vec.txt\n",
      "2021-02-25 01:12:27,523 : INFO : loading projection weights from C:\\Users\\CRISTI~1\\AppData\\Local\\Temp\\test_word2vec.txt\n",
      "2021-02-25 01:12:30,350 : INFO : loaded (32413, 100) matrix from C:\\Users\\CRISTI~1\\AppData\\Local\\Temp\\test_word2vec.txt\n",
      "2021-02-25 01:12:30,351 : INFO : loading projection weights from modelos/w2v_skip_nilc.txt\n",
      "2021-02-25 01:13:49,338 : INFO : loaded (929606, 100) matrix from modelos/w2v_skip_nilc.txt\n",
      "2021-02-25 01:13:49,339 : INFO : loading projection weights from modelos/ftt_skip_nilc.txt\n",
      "2021-02-25 01:15:10,622 : INFO : loaded (929605, 100) matrix from modelos/ftt_skip_nilc.txt\n",
      "2021-02-25 01:15:10,623 : INFO : loading projection weights from modelos/glove_nilc.txt\n",
      "2021-02-25 01:16:31,095 : INFO : loaded (929605, 100) matrix from modelos/glove_nilc.txt\n"
     ]
    },
    {
     "name": "stdout",
     "output_type": "stream",
     "text": [
      "recuperando teores da base de teste\n"
     ]
    },
    {
     "data": {
      "application/vnd.jupyter.widget-view+json": {
       "model_id": "5b8deefd4f924e898673a972824149ec",
       "version_major": 2,
       "version_minor": 0
      },
      "text/plain": [
       "HBox(children=(IntProgress(value=0, max=6663), HTML(value='')))"
      ]
     },
     "metadata": {},
     "output_type": "display_data"
    },
    {
     "name": "stdout",
     "output_type": "stream",
     "text": [
      "\n",
      "criando representações word2vec geral\n"
     ]
    },
    {
     "data": {
      "application/vnd.jupyter.widget-view+json": {
       "model_id": "b39d32e93965401fadcd6420b22b09b3",
       "version_major": 2,
       "version_minor": 0
      },
      "text/plain": [
       "HBox(children=(IntProgress(value=0, max=6663), HTML(value='')))"
      ]
     },
     "metadata": {},
     "output_type": "display_data"
    },
    {
     "name": "stdout",
     "output_type": "stream",
     "text": [
      "\n",
      "criando representações fasttext geral\n"
     ]
    },
    {
     "data": {
      "application/vnd.jupyter.widget-view+json": {
       "model_id": "27e3282997ba4c6a9aa9a4baacff6cf0",
       "version_major": 2,
       "version_minor": 0
      },
      "text/plain": [
       "HBox(children=(IntProgress(value=0, max=6663), HTML(value='')))"
      ]
     },
     "metadata": {},
     "output_type": "display_data"
    },
    {
     "name": "stdout",
     "output_type": "stream",
     "text": [
      "\n",
      "criando representações glove geral\n"
     ]
    },
    {
     "data": {
      "application/vnd.jupyter.widget-view+json": {
       "model_id": "be0684e661974cd89b5b05efe891fd31",
       "version_major": 2,
       "version_minor": 0
      },
      "text/plain": [
       "HBox(children=(IntProgress(value=0, max=6663), HTML(value='')))"
      ]
     },
     "metadata": {},
     "output_type": "display_data"
    },
    {
     "name": "stdout",
     "output_type": "stream",
     "text": [
      "\n",
      "criando representações word2vec juridico\n"
     ]
    },
    {
     "data": {
      "application/vnd.jupyter.widget-view+json": {
       "model_id": "1d837358980643c1992a4b85081db39d",
       "version_major": 2,
       "version_minor": 0
      },
      "text/plain": [
       "HBox(children=(IntProgress(value=0, max=6663), HTML(value='')))"
      ]
     },
     "metadata": {},
     "output_type": "display_data"
    },
    {
     "name": "stdout",
     "output_type": "stream",
     "text": [
      "\n",
      "criando representações fasttext juridico\n"
     ]
    },
    {
     "data": {
      "application/vnd.jupyter.widget-view+json": {
       "model_id": "9fdc56edf4cd453e98c25384ba7bc51c",
       "version_major": 2,
       "version_minor": 0
      },
      "text/plain": [
       "HBox(children=(IntProgress(value=0, max=6663), HTML(value='')))"
      ]
     },
     "metadata": {},
     "output_type": "display_data"
    },
    {
     "name": "stdout",
     "output_type": "stream",
     "text": [
      "\n",
      "criando representações glove juridico\n"
     ]
    },
    {
     "data": {
      "application/vnd.jupyter.widget-view+json": {
       "model_id": "b67fcf45afbc4b4897a448ca954ce41c",
       "version_major": 2,
       "version_minor": 0
      },
      "text/plain": [
       "HBox(children=(IntProgress(value=0, max=6663), HTML(value='')))"
      ]
     },
     "metadata": {},
     "output_type": "display_data"
    },
    {
     "name": "stdout",
     "output_type": "stream",
     "text": [
      "\n",
      "----------- EXPERIMENTO 9 CONCLUIDO -----------\n",
      "tempo do experimento: 25.785284690062205 minutos\n",
      "----------------------- EXPERIMENTO 10 -----------------------\n",
      "criando base de treino para o experimento 10\n"
     ]
    },
    {
     "data": {
      "application/vnd.jupyter.widget-view+json": {
       "model_id": "fe517546c608462a869ed1b050f10d62",
       "version_major": 2,
       "version_minor": 0
      },
      "text/plain": [
       "HBox(children=(IntProgress(value=0, max=26650), HTML(value='')))"
      ]
     },
     "metadata": {},
     "output_type": "display_data"
    },
    {
     "name": "stdout",
     "output_type": "stream",
     "text": [
      "\n",
      "15988886 tokens copiados com sucesso\n",
      "preparando documentos para extração do vocabulário:\n"
     ]
    },
    {
     "data": {
      "application/vnd.jupyter.widget-view+json": {
       "model_id": "e77972064b64471cae403483ababa805",
       "version_major": 2,
       "version_minor": 0
      },
      "text/plain": [
       "HBox(children=(IntProgress(value=0, max=26650), HTML(value='')))"
      ]
     },
     "metadata": {},
     "output_type": "display_data"
    },
    {
     "name": "stdout",
     "output_type": "stream",
     "text": [
      "\n",
      "extraindo termos com base no ICA\n"
     ]
    },
    {
     "data": {
      "application/vnd.jupyter.widget-view+json": {
       "model_id": "845b5e7e58c444da81ea061aac508192",
       "version_major": 2,
       "version_minor": 0
      },
      "text/plain": [
       "HBox(children=(IntProgress(value=0, max=125), HTML(value='')))"
      ]
     },
     "metadata": {},
     "output_type": "display_data"
    },
    {
     "name": "stdout",
     "output_type": "stream",
     "text": [
      "\n",
      "-processando strings do corpus\n",
      "-treinando vetorizador\n",
      "-ICA processado\n",
      "extraindo termos com base na frequência - geralmente leva menos de 4 minutos\n",
      "extraindo termos do tesauro\n",
      "extração de vocabulário concluída!\n",
      "treinando modelo word2vec\n"
     ]
    },
    {
     "name": "stderr",
     "output_type": "stream",
     "text": [
      "2021-02-25 01:24:52,115 : INFO : collecting all words and their counts\n",
      "2021-02-25 01:24:52,121 : INFO : PROGRESS: at sentence #0, processed 0 words, keeping 0 word types\n",
      "2021-02-25 01:24:52,187 : INFO : PROGRESS: at sentence #10000, processed 243127 words, keeping 13265 word types\n",
      "2021-02-25 01:24:52,259 : INFO : PROGRESS: at sentence #20000, processed 483821 words, keeping 18744 word types\n",
      "2021-02-25 01:24:52,332 : INFO : PROGRESS: at sentence #30000, processed 730851 words, keeping 22439 word types\n",
      "2021-02-25 01:24:52,402 : INFO : PROGRESS: at sentence #40000, processed 975505 words, keeping 25537 word types\n",
      "2021-02-25 01:24:52,478 : INFO : PROGRESS: at sentence #50000, processed 1223617 words, keeping 28280 word types\n",
      "2021-02-25 01:24:52,547 : INFO : PROGRESS: at sentence #60000, processed 1466899 words, keeping 30437 word types\n",
      "2021-02-25 01:24:52,623 : INFO : PROGRESS: at sentence #70000, processed 1713511 words, keeping 32503 word types\n",
      "2021-02-25 01:24:52,695 : INFO : PROGRESS: at sentence #80000, processed 1956386 words, keeping 34438 word types\n",
      "2021-02-25 01:24:52,766 : INFO : PROGRESS: at sentence #90000, processed 2197079 words, keeping 35981 word types\n",
      "2021-02-25 01:24:52,837 : INFO : PROGRESS: at sentence #100000, processed 2438804 words, keeping 37450 word types\n",
      "2021-02-25 01:24:52,909 : INFO : PROGRESS: at sentence #110000, processed 2688938 words, keeping 38969 word types\n",
      "2021-02-25 01:24:52,979 : INFO : PROGRESS: at sentence #120000, processed 2930414 words, keeping 40345 word types\n",
      "2021-02-25 01:24:53,052 : INFO : PROGRESS: at sentence #130000, processed 3168991 words, keeping 41777 word types\n",
      "2021-02-25 01:24:53,126 : INFO : PROGRESS: at sentence #140000, processed 3403026 words, keeping 43123 word types\n",
      "2021-02-25 01:24:53,202 : INFO : PROGRESS: at sentence #150000, processed 3651491 words, keeping 44586 word types\n",
      "2021-02-25 01:24:53,279 : INFO : PROGRESS: at sentence #160000, processed 3897835 words, keeping 45881 word types\n",
      "2021-02-25 01:24:53,350 : INFO : PROGRESS: at sentence #170000, processed 4143862 words, keeping 47035 word types\n",
      "2021-02-25 01:24:53,420 : INFO : PROGRESS: at sentence #180000, processed 4385794 words, keeping 48317 word types\n",
      "2021-02-25 01:24:53,491 : INFO : PROGRESS: at sentence #190000, processed 4628964 words, keeping 49359 word types\n",
      "2021-02-25 01:24:53,560 : INFO : PROGRESS: at sentence #200000, processed 4876547 words, keeping 50298 word types\n",
      "2021-02-25 01:24:53,628 : INFO : PROGRESS: at sentence #210000, processed 5117113 words, keeping 51370 word types\n",
      "2021-02-25 01:24:53,697 : INFO : PROGRESS: at sentence #220000, processed 5366735 words, keeping 52373 word types\n",
      "2021-02-25 01:24:53,761 : INFO : PROGRESS: at sentence #230000, processed 5599871 words, keeping 53278 word types\n",
      "2021-02-25 01:24:53,828 : INFO : PROGRESS: at sentence #240000, processed 5844813 words, keeping 54294 word types\n",
      "2021-02-25 01:24:53,896 : INFO : PROGRESS: at sentence #250000, processed 6096254 words, keeping 55137 word types\n",
      "2021-02-25 01:24:53,962 : INFO : PROGRESS: at sentence #260000, processed 6334856 words, keeping 55938 word types\n",
      "2021-02-25 01:24:54,028 : INFO : PROGRESS: at sentence #270000, processed 6576806 words, keeping 56843 word types\n",
      "2021-02-25 01:24:54,094 : INFO : PROGRESS: at sentence #280000, processed 6813511 words, keeping 57631 word types\n",
      "2021-02-25 01:24:54,164 : INFO : PROGRESS: at sentence #290000, processed 7065821 words, keeping 58481 word types\n",
      "2021-02-25 01:24:54,233 : INFO : PROGRESS: at sentence #300000, processed 7319423 words, keeping 59388 word types\n",
      "2021-02-25 01:24:54,304 : INFO : PROGRESS: at sentence #310000, processed 7574253 words, keeping 60196 word types\n",
      "2021-02-25 01:24:54,372 : INFO : PROGRESS: at sentence #320000, processed 7811702 words, keeping 60917 word types\n",
      "2021-02-25 01:24:54,438 : INFO : PROGRESS: at sentence #330000, processed 8053411 words, keeping 61752 word types\n",
      "2021-02-25 01:24:54,506 : INFO : PROGRESS: at sentence #340000, processed 8297188 words, keeping 62508 word types\n",
      "2021-02-25 01:24:54,571 : INFO : PROGRESS: at sentence #350000, processed 8530548 words, keeping 63310 word types\n",
      "2021-02-25 01:24:54,642 : INFO : PROGRESS: at sentence #360000, processed 8775159 words, keeping 63978 word types\n",
      "2021-02-25 01:24:54,713 : INFO : PROGRESS: at sentence #370000, processed 9024874 words, keeping 64785 word types\n",
      "2021-02-25 01:24:54,781 : INFO : PROGRESS: at sentence #380000, processed 9268743 words, keeping 65589 word types\n",
      "2021-02-25 01:24:54,846 : INFO : PROGRESS: at sentence #390000, processed 9506305 words, keeping 66273 word types\n",
      "2021-02-25 01:24:54,913 : INFO : PROGRESS: at sentence #400000, processed 9744977 words, keeping 67041 word types\n",
      "2021-02-25 01:24:54,980 : INFO : PROGRESS: at sentence #410000, processed 9987759 words, keeping 67837 word types\n",
      "2021-02-25 01:24:55,049 : INFO : PROGRESS: at sentence #420000, processed 10234305 words, keeping 68552 word types\n",
      "2021-02-25 01:24:55,115 : INFO : PROGRESS: at sentence #430000, processed 10475226 words, keeping 69181 word types\n",
      "2021-02-25 01:24:55,181 : INFO : PROGRESS: at sentence #440000, processed 10719473 words, keeping 69844 word types\n",
      "2021-02-25 01:24:55,248 : INFO : PROGRESS: at sentence #450000, processed 10964027 words, keeping 70569 word types\n",
      "2021-02-25 01:24:55,315 : INFO : PROGRESS: at sentence #460000, processed 11210907 words, keeping 71194 word types\n",
      "2021-02-25 01:24:55,384 : INFO : PROGRESS: at sentence #470000, processed 11458127 words, keeping 71762 word types\n",
      "2021-02-25 01:24:55,451 : INFO : PROGRESS: at sentence #480000, processed 11701670 words, keeping 72299 word types\n",
      "2021-02-25 01:24:55,519 : INFO : PROGRESS: at sentence #490000, processed 11943654 words, keeping 72863 word types\n",
      "2021-02-25 01:24:55,588 : INFO : PROGRESS: at sentence #500000, processed 12189444 words, keeping 73469 word types\n",
      "2021-02-25 01:24:55,663 : INFO : PROGRESS: at sentence #510000, processed 12432391 words, keeping 73987 word types\n",
      "2021-02-25 01:24:55,731 : INFO : PROGRESS: at sentence #520000, processed 12671954 words, keeping 74502 word types\n",
      "2021-02-25 01:24:55,796 : INFO : PROGRESS: at sentence #530000, processed 12906524 words, keeping 75059 word types\n",
      "2021-02-25 01:24:55,866 : INFO : PROGRESS: at sentence #540000, processed 13160463 words, keeping 75699 word types\n",
      "2021-02-25 01:24:55,933 : INFO : PROGRESS: at sentence #550000, processed 13401226 words, keeping 76316 word types\n",
      "2021-02-25 01:24:56,001 : INFO : PROGRESS: at sentence #560000, processed 13646146 words, keeping 77022 word types\n",
      "2021-02-25 01:24:56,072 : INFO : PROGRESS: at sentence #570000, processed 13890201 words, keeping 77544 word types\n",
      "2021-02-25 01:24:56,136 : INFO : PROGRESS: at sentence #580000, processed 14122294 words, keeping 78123 word types\n",
      "2021-02-25 01:24:56,210 : INFO : PROGRESS: at sentence #590000, processed 14359653 words, keeping 78720 word types\n",
      "2021-02-25 01:24:56,282 : INFO : PROGRESS: at sentence #600000, processed 14603733 words, keeping 79356 word types\n",
      "2021-02-25 01:24:56,353 : INFO : PROGRESS: at sentence #610000, processed 14846339 words, keeping 79972 word types\n",
      "2021-02-25 01:24:56,425 : INFO : PROGRESS: at sentence #620000, processed 15084621 words, keeping 80497 word types\n",
      "2021-02-25 01:24:56,498 : INFO : PROGRESS: at sentence #630000, processed 15333157 words, keeping 80958 word types\n",
      "2021-02-25 01:24:56,501 : INFO : collected 80965 word types from a corpus of 15339231 raw words and 630236 sentences\n",
      "2021-02-25 01:24:56,502 : INFO : Loading a fresh vocabulary\n",
      "2021-02-25 01:24:56,558 : INFO : effective_min_count=5 retains 32527 unique words (40% of original 80965, drops 48438)\n",
      "2021-02-25 01:24:56,559 : INFO : effective_min_count=5 leaves 15257606 word corpus (99% of original 15339231, drops 81625)\n",
      "2021-02-25 01:24:56,643 : INFO : deleting the raw counts dictionary of 80965 items\n",
      "2021-02-25 01:24:56,645 : INFO : sample=1e-05 downsamples 3229 most-common words\n",
      "2021-02-25 01:24:56,646 : INFO : downsampling leaves estimated 3690283 word corpus (24.2% of prior 15257606)\n",
      "2021-02-25 01:24:56,675 : INFO : constructing a huffman tree from 32527 words\n",
      "2021-02-25 01:24:57,539 : INFO : built huffman tree with maximum node depth 22\n"
     ]
    },
    {
     "name": "stderr",
     "output_type": "stream",
     "text": [
      "2021-02-25 01:24:57,590 : INFO : estimated required memory for 32527 words and 100 dimensions: 61801300 bytes\n",
      "2021-02-25 01:24:57,592 : INFO : resetting layer weights\n",
      "2021-02-25 01:24:57,913 : INFO : training model with 12 workers on 32527 vocabulary and 100 features, using sg=1 hs=1 sample=1e-05 negative=5 window=5\n",
      "2021-02-25 01:24:58,920 : INFO : EPOCH 1 - PROGRESS: at 8.29% examples, 306970 words/s, in_qsize 20, out_qsize 0\n",
      "2021-02-25 01:24:59,937 : INFO : EPOCH 1 - PROGRESS: at 16.92% examples, 309276 words/s, in_qsize 23, out_qsize 0\n",
      "2021-02-25 01:25:00,938 : INFO : EPOCH 1 - PROGRESS: at 25.67% examples, 313927 words/s, in_qsize 22, out_qsize 1\n",
      "2021-02-25 01:25:01,943 : INFO : EPOCH 1 - PROGRESS: at 34.55% examples, 317359 words/s, in_qsize 23, out_qsize 0\n",
      "2021-02-25 01:25:02,951 : INFO : EPOCH 1 - PROGRESS: at 42.84% examples, 314399 words/s, in_qsize 23, out_qsize 0\n",
      "2021-02-25 01:25:03,973 : INFO : EPOCH 1 - PROGRESS: at 51.62% examples, 315667 words/s, in_qsize 24, out_qsize 0\n",
      "2021-02-25 01:25:04,973 : INFO : EPOCH 1 - PROGRESS: at 59.78% examples, 313686 words/s, in_qsize 23, out_qsize 0\n",
      "2021-02-25 01:25:05,976 : INFO : EPOCH 1 - PROGRESS: at 67.01% examples, 307211 words/s, in_qsize 9, out_qsize 0\n",
      "2021-02-25 01:25:06,991 : INFO : EPOCH 1 - PROGRESS: at 73.55% examples, 299518 words/s, in_qsize 14, out_qsize 3\n",
      "2021-02-25 01:25:07,998 : INFO : EPOCH 1 - PROGRESS: at 81.05% examples, 297116 words/s, in_qsize 1, out_qsize 1\n",
      "2021-02-25 01:25:09,001 : INFO : EPOCH 1 - PROGRESS: at 88.37% examples, 294493 words/s, in_qsize 0, out_qsize 0\n",
      "2021-02-25 01:25:10,015 : INFO : EPOCH 1 - PROGRESS: at 95.05% examples, 289828 words/s, in_qsize 18, out_qsize 2\n",
      "2021-02-25 01:25:10,602 : INFO : worker thread finished; awaiting finish of 11 more threads\n",
      "2021-02-25 01:25:10,627 : INFO : worker thread finished; awaiting finish of 10 more threads\n",
      "2021-02-25 01:25:10,630 : INFO : worker thread finished; awaiting finish of 9 more threads\n",
      "2021-02-25 01:25:10,643 : INFO : worker thread finished; awaiting finish of 8 more threads\n",
      "2021-02-25 01:25:10,647 : INFO : worker thread finished; awaiting finish of 7 more threads\n",
      "2021-02-25 01:25:10,651 : INFO : worker thread finished; awaiting finish of 6 more threads\n",
      "2021-02-25 01:25:10,654 : INFO : worker thread finished; awaiting finish of 5 more threads\n",
      "2021-02-25 01:25:10,660 : INFO : worker thread finished; awaiting finish of 4 more threads\n",
      "2021-02-25 01:25:10,674 : INFO : worker thread finished; awaiting finish of 3 more threads\n",
      "2021-02-25 01:25:10,676 : INFO : worker thread finished; awaiting finish of 2 more threads\n",
      "2021-02-25 01:25:10,677 : INFO : worker thread finished; awaiting finish of 1 more threads\n",
      "2021-02-25 01:25:10,680 : INFO : worker thread finished; awaiting finish of 0 more threads\n",
      "2021-02-25 01:25:10,681 : INFO : EPOCH - 1 : training on 15339231 raw words (3689481 effective words) took 12.8s, 289086 effective words/s\n",
      "2021-02-25 01:25:11,691 : INFO : EPOCH 2 - PROGRESS: at 6.47% examples, 239250 words/s, in_qsize 0, out_qsize 0\n",
      "2021-02-25 01:25:12,701 : INFO : EPOCH 2 - PROGRESS: at 12.82% examples, 235752 words/s, in_qsize 15, out_qsize 1\n",
      "2021-02-25 01:25:13,738 : INFO : EPOCH 2 - PROGRESS: at 19.35% examples, 233538 words/s, in_qsize 22, out_qsize 1\n",
      "2021-02-25 01:25:14,743 : INFO : EPOCH 2 - PROGRESS: at 26.18% examples, 238458 words/s, in_qsize 17, out_qsize 0\n",
      "2021-02-25 01:25:15,748 : INFO : EPOCH 2 - PROGRESS: at 33.52% examples, 244949 words/s, in_qsize 0, out_qsize 0\n",
      "2021-02-25 01:25:16,763 : INFO : EPOCH 2 - PROGRESS: at 40.34% examples, 245543 words/s, in_qsize 18, out_qsize 0\n",
      "2021-02-25 01:25:17,767 : INFO : EPOCH 2 - PROGRESS: at 47.62% examples, 248791 words/s, in_qsize 1, out_qsize 0\n",
      "2021-02-25 01:25:18,770 : INFO : EPOCH 2 - PROGRESS: at 54.73% examples, 250655 words/s, in_qsize 11, out_qsize 0\n",
      "2021-02-25 01:25:19,794 : INFO : EPOCH 2 - PROGRESS: at 61.65% examples, 250306 words/s, in_qsize 23, out_qsize 0\n",
      "2021-02-25 01:25:20,805 : INFO : EPOCH 2 - PROGRESS: at 69.02% examples, 251995 words/s, in_qsize 22, out_qsize 1\n",
      "2021-02-25 01:25:21,815 : INFO : EPOCH 2 - PROGRESS: at 76.24% examples, 253395 words/s, in_qsize 23, out_qsize 1\n",
      "2021-02-25 01:25:22,815 : INFO : EPOCH 2 - PROGRESS: at 84.54% examples, 257366 words/s, in_qsize 0, out_qsize 0\n",
      "2021-02-25 01:25:23,820 : INFO : EPOCH 2 - PROGRESS: at 91.26% examples, 256549 words/s, in_qsize 5, out_qsize 0\n",
      "2021-02-25 01:25:24,822 : INFO : EPOCH 2 - PROGRESS: at 98.71% examples, 257568 words/s, in_qsize 21, out_qsize 0\n",
      "2021-02-25 01:25:24,865 : INFO : worker thread finished; awaiting finish of 11 more threads\n",
      "2021-02-25 01:25:24,886 : INFO : worker thread finished; awaiting finish of 10 more threads\n",
      "2021-02-25 01:25:24,888 : INFO : worker thread finished; awaiting finish of 9 more threads\n",
      "2021-02-25 01:25:24,891 : INFO : worker thread finished; awaiting finish of 8 more threads\n",
      "2021-02-25 01:25:24,894 : INFO : worker thread finished; awaiting finish of 7 more threads\n",
      "2021-02-25 01:25:24,898 : INFO : worker thread finished; awaiting finish of 6 more threads\n",
      "2021-02-25 01:25:24,901 : INFO : worker thread finished; awaiting finish of 5 more threads\n",
      "2021-02-25 01:25:24,918 : INFO : worker thread finished; awaiting finish of 4 more threads\n",
      "2021-02-25 01:25:24,922 : INFO : worker thread finished; awaiting finish of 3 more threads\n",
      "2021-02-25 01:25:24,926 : INFO : worker thread finished; awaiting finish of 2 more threads\n",
      "2021-02-25 01:25:24,930 : INFO : worker thread finished; awaiting finish of 1 more threads\n",
      "2021-02-25 01:25:24,937 : INFO : worker thread finished; awaiting finish of 0 more threads\n",
      "2021-02-25 01:25:24,939 : INFO : EPOCH - 2 : training on 15339231 raw words (3689189 effective words) took 14.3s, 258853 effective words/s\n",
      "2021-02-25 01:25:25,955 : INFO : EPOCH 3 - PROGRESS: at 6.54% examples, 240546 words/s, in_qsize 21, out_qsize 0\n",
      "2021-02-25 01:25:26,957 : INFO : EPOCH 3 - PROGRESS: at 13.60% examples, 250004 words/s, in_qsize 23, out_qsize 0\n",
      "2021-02-25 01:25:27,960 : INFO : EPOCH 3 - PROGRESS: at 21.76% examples, 265422 words/s, in_qsize 0, out_qsize 0\n",
      "2021-02-25 01:25:28,967 : INFO : EPOCH 3 - PROGRESS: at 28.60% examples, 262798 words/s, in_qsize 0, out_qsize 0\n",
      "2021-02-25 01:25:29,975 : INFO : EPOCH 3 - PROGRESS: at 35.48% examples, 260541 words/s, in_qsize 19, out_qsize 1\n",
      "2021-02-25 01:25:30,983 : INFO : EPOCH 3 - PROGRESS: at 43.31% examples, 264932 words/s, in_qsize 0, out_qsize 0\n",
      "2021-02-25 01:25:31,985 : INFO : EPOCH 3 - PROGRESS: at 49.54% examples, 260811 words/s, in_qsize 23, out_qsize 0\n",
      "2021-02-25 01:25:32,989 : INFO : EPOCH 3 - PROGRESS: at 57.04% examples, 262136 words/s, in_qsize 23, out_qsize 1\n",
      "2021-02-25 01:25:34,007 : INFO : EPOCH 3 - PROGRESS: at 64.68% examples, 263906 words/s, in_qsize 14, out_qsize 4\n",
      "2021-02-25 01:25:35,033 : INFO : EPOCH 3 - PROGRESS: at 71.74% examples, 262719 words/s, in_qsize 23, out_qsize 1\n",
      "2021-02-25 01:25:36,048 : INFO : EPOCH 3 - PROGRESS: at 79.23% examples, 263759 words/s, in_qsize 22, out_qsize 2\n",
      "2021-02-25 01:25:37,056 : INFO : EPOCH 3 - PROGRESS: at 86.93% examples, 265110 words/s, in_qsize 20, out_qsize 0\n",
      "2021-02-25 01:25:38,059 : INFO : EPOCH 3 - PROGRESS: at 94.15% examples, 264844 words/s, in_qsize 16, out_qsize 0\n",
      "2021-02-25 01:25:38,743 : INFO : worker thread finished; awaiting finish of 11 more threads\n",
      "2021-02-25 01:25:38,753 : INFO : worker thread finished; awaiting finish of 10 more threads\n",
      "2021-02-25 01:25:38,763 : INFO : worker thread finished; awaiting finish of 9 more threads\n",
      "2021-02-25 01:25:38,766 : INFO : worker thread finished; awaiting finish of 8 more threads\n",
      "2021-02-25 01:25:38,781 : INFO : worker thread finished; awaiting finish of 7 more threads\n",
      "2021-02-25 01:25:38,784 : INFO : worker thread finished; awaiting finish of 6 more threads\n",
      "2021-02-25 01:25:38,788 : INFO : worker thread finished; awaiting finish of 5 more threads\n",
      "2021-02-25 01:25:38,792 : INFO : worker thread finished; awaiting finish of 4 more threads\n",
      "2021-02-25 01:25:38,794 : INFO : worker thread finished; awaiting finish of 3 more threads\n",
      "2021-02-25 01:25:38,795 : INFO : worker thread finished; awaiting finish of 2 more threads\n",
      "2021-02-25 01:25:38,799 : INFO : worker thread finished; awaiting finish of 1 more threads\n"
     ]
    },
    {
     "name": "stderr",
     "output_type": "stream",
     "text": [
      "2021-02-25 01:25:38,802 : INFO : worker thread finished; awaiting finish of 0 more threads\n",
      "2021-02-25 01:25:38,803 : INFO : EPOCH - 3 : training on 15339231 raw words (3690137 effective words) took 13.9s, 266279 effective words/s\n",
      "2021-02-25 01:25:39,814 : INFO : EPOCH 4 - PROGRESS: at 6.72% examples, 248836 words/s, in_qsize 20, out_qsize 0\n",
      "2021-02-25 01:25:40,818 : INFO : EPOCH 4 - PROGRESS: at 14.27% examples, 262077 words/s, in_qsize 14, out_qsize 3\n",
      "2021-02-25 01:25:41,847 : INFO : EPOCH 4 - PROGRESS: at 20.80% examples, 252140 words/s, in_qsize 22, out_qsize 1\n",
      "2021-02-25 01:25:42,848 : INFO : EPOCH 4 - PROGRESS: at 28.39% examples, 259986 words/s, in_qsize 16, out_qsize 0\n",
      "2021-02-25 01:25:43,852 : INFO : EPOCH 4 - PROGRESS: at 35.60% examples, 260746 words/s, in_qsize 23, out_qsize 0\n",
      "2021-02-25 01:25:44,859 : INFO : EPOCH 4 - PROGRESS: at 42.99% examples, 262430 words/s, in_qsize 0, out_qsize 0\n",
      "2021-02-25 01:25:45,861 : INFO : EPOCH 4 - PROGRESS: at 48.93% examples, 257107 words/s, in_qsize 24, out_qsize 0\n",
      "2021-02-25 01:25:46,877 : INFO : EPOCH 4 - PROGRESS: at 56.21% examples, 257550 words/s, in_qsize 21, out_qsize 1\n",
      "2021-02-25 01:25:47,887 : INFO : EPOCH 4 - PROGRESS: at 63.91% examples, 260249 words/s, in_qsize 0, out_qsize 1\n",
      "2021-02-25 01:25:48,888 : INFO : EPOCH 4 - PROGRESS: at 70.63% examples, 258935 words/s, in_qsize 14, out_qsize 0\n",
      "2021-02-25 01:25:49,897 : INFO : EPOCH 4 - PROGRESS: at 77.38% examples, 257868 words/s, in_qsize 23, out_qsize 0\n",
      "2021-02-25 01:25:50,909 : INFO : EPOCH 4 - PROGRESS: at 84.66% examples, 258389 words/s, in_qsize 16, out_qsize 4\n",
      "2021-02-25 01:25:51,935 : INFO : EPOCH 4 - PROGRESS: at 92.49% examples, 260022 words/s, in_qsize 14, out_qsize 1\n",
      "2021-02-25 01:25:52,857 : INFO : worker thread finished; awaiting finish of 11 more threads\n",
      "2021-02-25 01:25:52,875 : INFO : worker thread finished; awaiting finish of 10 more threads\n",
      "2021-02-25 01:25:52,877 : INFO : worker thread finished; awaiting finish of 9 more threads\n",
      "2021-02-25 01:25:52,880 : INFO : worker thread finished; awaiting finish of 8 more threads\n",
      "2021-02-25 01:25:52,882 : INFO : worker thread finished; awaiting finish of 7 more threads\n",
      "2021-02-25 01:25:52,885 : INFO : worker thread finished; awaiting finish of 6 more threads\n",
      "2021-02-25 01:25:52,887 : INFO : worker thread finished; awaiting finish of 5 more threads\n",
      "2021-02-25 01:25:52,888 : INFO : worker thread finished; awaiting finish of 4 more threads\n",
      "2021-02-25 01:25:52,893 : INFO : worker thread finished; awaiting finish of 3 more threads\n",
      "2021-02-25 01:25:52,907 : INFO : worker thread finished; awaiting finish of 2 more threads\n",
      "2021-02-25 01:25:52,924 : INFO : worker thread finished; awaiting finish of 1 more threads\n",
      "2021-02-25 01:25:52,926 : INFO : worker thread finished; awaiting finish of 0 more threads\n",
      "2021-02-25 01:25:52,928 : INFO : EPOCH - 4 : training on 15339231 raw words (3689254 effective words) took 14.1s, 261324 effective words/s\n",
      "2021-02-25 01:25:53,936 : INFO : EPOCH 5 - PROGRESS: at 6.04% examples, 223179 words/s, in_qsize 22, out_qsize 1\n",
      "2021-02-25 01:25:54,943 : INFO : EPOCH 5 - PROGRESS: at 13.54% examples, 249617 words/s, in_qsize 15, out_qsize 1\n",
      "2021-02-25 01:25:55,947 : INFO : EPOCH 5 - PROGRESS: at 20.72% examples, 253298 words/s, in_qsize 23, out_qsize 0\n",
      "2021-02-25 01:25:56,969 : INFO : EPOCH 5 - PROGRESS: at 27.94% examples, 255915 words/s, in_qsize 20, out_qsize 2\n",
      "2021-02-25 01:25:57,972 : INFO : EPOCH 5 - PROGRESS: at 35.06% examples, 257353 words/s, in_qsize 0, out_qsize 0\n",
      "2021-02-25 01:25:58,989 : INFO : EPOCH 5 - PROGRESS: at 41.99% examples, 256278 words/s, in_qsize 15, out_qsize 0\n",
      "2021-02-25 01:26:00,004 : INFO : EPOCH 5 - PROGRESS: at 49.05% examples, 257145 words/s, in_qsize 24, out_qsize 0\n",
      "2021-02-25 01:26:01,011 : INFO : EPOCH 5 - PROGRESS: at 56.47% examples, 258458 words/s, in_qsize 0, out_qsize 0\n",
      "2021-02-25 01:26:02,015 : INFO : EPOCH 5 - PROGRESS: at 62.90% examples, 256037 words/s, in_qsize 20, out_qsize 1\n",
      "2021-02-25 01:26:03,024 : INFO : EPOCH 5 - PROGRESS: at 70.06% examples, 256504 words/s, in_qsize 21, out_qsize 2\n",
      "2021-02-25 01:26:04,041 : INFO : EPOCH 5 - PROGRESS: at 77.31% examples, 257257 words/s, in_qsize 18, out_qsize 0\n",
      "2021-02-25 01:26:05,043 : INFO : EPOCH 5 - PROGRESS: at 84.60% examples, 258030 words/s, in_qsize 15, out_qsize 0\n",
      "2021-02-25 01:26:06,065 : INFO : EPOCH 5 - PROGRESS: at 91.88% examples, 258302 words/s, in_qsize 18, out_qsize 0\n",
      "2021-02-25 01:26:07,072 : INFO : EPOCH 5 - PROGRESS: at 98.60% examples, 257177 words/s, in_qsize 23, out_qsize 0\n",
      "2021-02-25 01:26:07,136 : INFO : worker thread finished; awaiting finish of 11 more threads\n",
      "2021-02-25 01:26:07,159 : INFO : worker thread finished; awaiting finish of 10 more threads\n",
      "2021-02-25 01:26:07,161 : INFO : worker thread finished; awaiting finish of 9 more threads\n",
      "2021-02-25 01:26:07,164 : INFO : worker thread finished; awaiting finish of 8 more threads\n",
      "2021-02-25 01:26:07,173 : INFO : worker thread finished; awaiting finish of 7 more threads\n",
      "2021-02-25 01:26:07,176 : INFO : worker thread finished; awaiting finish of 6 more threads\n",
      "2021-02-25 01:26:07,185 : INFO : worker thread finished; awaiting finish of 5 more threads\n",
      "2021-02-25 01:26:07,187 : INFO : worker thread finished; awaiting finish of 4 more threads\n",
      "2021-02-25 01:26:07,189 : INFO : worker thread finished; awaiting finish of 3 more threads\n",
      "2021-02-25 01:26:07,207 : INFO : worker thread finished; awaiting finish of 2 more threads\n",
      "2021-02-25 01:26:07,209 : INFO : worker thread finished; awaiting finish of 1 more threads\n",
      "2021-02-25 01:26:07,214 : INFO : worker thread finished; awaiting finish of 0 more threads\n",
      "2021-02-25 01:26:07,216 : INFO : EPOCH - 5 : training on 15339231 raw words (3689746 effective words) took 14.3s, 258335 effective words/s\n",
      "2021-02-25 01:26:08,251 : INFO : EPOCH 6 - PROGRESS: at 6.60% examples, 238174 words/s, in_qsize 20, out_qsize 4\n",
      "2021-02-25 01:26:09,266 : INFO : EPOCH 6 - PROGRESS: at 13.94% examples, 251798 words/s, in_qsize 13, out_qsize 4\n",
      "2021-02-25 01:26:10,270 : INFO : EPOCH 6 - PROGRESS: at 20.59% examples, 248743 words/s, in_qsize 22, out_qsize 1\n",
      "2021-02-25 01:26:11,315 : INFO : EPOCH 6 - PROGRESS: at 27.92% examples, 252205 words/s, in_qsize 20, out_qsize 1\n",
      "2021-02-25 01:26:12,317 : INFO : EPOCH 6 - PROGRESS: at 35.14% examples, 254915 words/s, in_qsize 23, out_qsize 0\n",
      "2021-02-25 01:26:13,325 : INFO : EPOCH 6 - PROGRESS: at 42.44% examples, 256955 words/s, in_qsize 15, out_qsize 2\n",
      "2021-02-25 01:26:14,329 : INFO : EPOCH 6 - PROGRESS: at 48.99% examples, 255433 words/s, in_qsize 24, out_qsize 0\n",
      "2021-02-25 01:26:15,335 : INFO : EPOCH 6 - PROGRESS: at 56.06% examples, 255513 words/s, in_qsize 23, out_qsize 0\n",
      "2021-02-25 01:26:16,337 : INFO : EPOCH 6 - PROGRESS: at 63.37% examples, 257060 words/s, in_qsize 22, out_qsize 0\n",
      "2021-02-25 01:26:17,340 : INFO : EPOCH 6 - PROGRESS: at 70.37% examples, 257084 words/s, in_qsize 0, out_qsize 0\n",
      "2021-02-25 01:26:18,356 : INFO : EPOCH 6 - PROGRESS: at 77.19% examples, 256232 words/s, in_qsize 22, out_qsize 0\n",
      "2021-02-25 01:26:19,364 : INFO : EPOCH 6 - PROGRESS: at 83.37% examples, 253617 words/s, in_qsize 20, out_qsize 2\n",
      "2021-02-25 01:26:20,375 : INFO : EPOCH 6 - PROGRESS: at 90.38% examples, 253861 words/s, in_qsize 23, out_qsize 1\n",
      "2021-02-25 01:26:21,374 : INFO : EPOCH 6 - PROGRESS: at 97.71% examples, 254777 words/s, in_qsize 24, out_qsize 0\n",
      "2021-02-25 01:26:21,573 : INFO : worker thread finished; awaiting finish of 11 more threads\n",
      "2021-02-25 01:26:21,578 : INFO : worker thread finished; awaiting finish of 10 more threads\n",
      "2021-02-25 01:26:21,584 : INFO : worker thread finished; awaiting finish of 9 more threads\n",
      "2021-02-25 01:26:21,587 : INFO : worker thread finished; awaiting finish of 8 more threads\n",
      "2021-02-25 01:26:21,589 : INFO : worker thread finished; awaiting finish of 7 more threads\n",
      "2021-02-25 01:26:21,592 : INFO : worker thread finished; awaiting finish of 6 more threads\n",
      "2021-02-25 01:26:21,601 : INFO : worker thread finished; awaiting finish of 5 more threads\n",
      "2021-02-25 01:26:21,609 : INFO : worker thread finished; awaiting finish of 4 more threads\n",
      "2021-02-25 01:26:21,612 : INFO : worker thread finished; awaiting finish of 3 more threads\n",
      "2021-02-25 01:26:21,621 : INFO : worker thread finished; awaiting finish of 2 more threads\n"
     ]
    },
    {
     "name": "stderr",
     "output_type": "stream",
     "text": [
      "2021-02-25 01:26:21,627 : INFO : worker thread finished; awaiting finish of 1 more threads\n",
      "2021-02-25 01:26:21,632 : INFO : worker thread finished; awaiting finish of 0 more threads\n",
      "2021-02-25 01:26:21,633 : INFO : EPOCH - 6 : training on 15339231 raw words (3690654 effective words) took 14.4s, 256087 effective words/s\n",
      "2021-02-25 01:26:22,654 : INFO : EPOCH 7 - PROGRESS: at 6.43% examples, 234127 words/s, in_qsize 3, out_qsize 2\n",
      "2021-02-25 01:26:23,656 : INFO : EPOCH 7 - PROGRESS: at 13.27% examples, 243478 words/s, in_qsize 23, out_qsize 0\n",
      "2021-02-25 01:26:24,658 : INFO : EPOCH 7 - PROGRESS: at 20.59% examples, 251272 words/s, in_qsize 23, out_qsize 0\n",
      "2021-02-25 01:26:25,747 : INFO : EPOCH 7 - PROGRESS: at 27.66% examples, 248946 words/s, in_qsize 23, out_qsize 0\n",
      "2021-02-25 01:26:26,767 : INFO : EPOCH 7 - PROGRESS: at 35.48% examples, 255541 words/s, in_qsize 13, out_qsize 0\n",
      "2021-02-25 01:26:27,788 : INFO : EPOCH 7 - PROGRESS: at 42.57% examples, 255840 words/s, in_qsize 24, out_qsize 2\n",
      "2021-02-25 01:26:28,800 : INFO : EPOCH 7 - PROGRESS: at 50.38% examples, 260599 words/s, in_qsize 0, out_qsize 0\n",
      "2021-02-25 01:26:29,823 : INFO : EPOCH 7 - PROGRESS: at 56.71% examples, 256212 words/s, in_qsize 23, out_qsize 1\n",
      "2021-02-25 01:26:30,831 : INFO : EPOCH 7 - PROGRESS: at 64.10% examples, 257703 words/s, in_qsize 20, out_qsize 0\n",
      "2021-02-25 01:26:31,850 : INFO : EPOCH 7 - PROGRESS: at 71.68% examples, 259217 words/s, in_qsize 6, out_qsize 0\n",
      "2021-02-25 01:26:32,858 : INFO : EPOCH 7 - PROGRESS: at 78.79% examples, 259479 words/s, in_qsize 0, out_qsize 1\n",
      "2021-02-25 01:26:33,858 : INFO : EPOCH 7 - PROGRESS: at 85.70% examples, 258954 words/s, in_qsize 14, out_qsize 1\n",
      "2021-02-25 01:26:34,869 : INFO : EPOCH 7 - PROGRESS: at 92.75% examples, 258595 words/s, in_qsize 24, out_qsize 0\n",
      "2021-02-25 01:26:35,780 : INFO : worker thread finished; awaiting finish of 11 more threads\n",
      "2021-02-25 01:26:35,783 : INFO : worker thread finished; awaiting finish of 10 more threads\n",
      "2021-02-25 01:26:35,784 : INFO : worker thread finished; awaiting finish of 9 more threads\n",
      "2021-02-25 01:26:35,788 : INFO : worker thread finished; awaiting finish of 8 more threads\n",
      "2021-02-25 01:26:35,790 : INFO : worker thread finished; awaiting finish of 7 more threads\n",
      "2021-02-25 01:26:35,792 : INFO : worker thread finished; awaiting finish of 6 more threads\n",
      "2021-02-25 01:26:35,795 : INFO : worker thread finished; awaiting finish of 5 more threads\n",
      "2021-02-25 01:26:35,796 : INFO : worker thread finished; awaiting finish of 4 more threads\n",
      "2021-02-25 01:26:35,798 : INFO : worker thread finished; awaiting finish of 3 more threads\n",
      "2021-02-25 01:26:35,808 : INFO : worker thread finished; awaiting finish of 2 more threads\n",
      "2021-02-25 01:26:35,814 : INFO : worker thread finished; awaiting finish of 1 more threads\n",
      "2021-02-25 01:26:35,822 : INFO : worker thread finished; awaiting finish of 0 more threads\n",
      "2021-02-25 01:26:35,823 : INFO : EPOCH - 7 : training on 15339231 raw words (3689151 effective words) took 14.2s, 260076 effective words/s\n",
      "2021-02-25 01:26:36,832 : INFO : EPOCH 8 - PROGRESS: at 6.53% examples, 242434 words/s, in_qsize 20, out_qsize 0\n",
      "2021-02-25 01:26:37,884 : INFO : EPOCH 8 - PROGRESS: at 14.13% examples, 254104 words/s, in_qsize 19, out_qsize 1\n",
      "2021-02-25 01:26:38,919 : INFO : EPOCH 8 - PROGRESS: at 22.53% examples, 268324 words/s, in_qsize 23, out_qsize 9\n",
      "2021-02-25 01:26:39,930 : INFO : EPOCH 8 - PROGRESS: at 30.81% examples, 277782 words/s, in_qsize 5, out_qsize 0\n",
      "2021-02-25 01:26:40,934 : INFO : EPOCH 8 - PROGRESS: at 39.05% examples, 282912 words/s, in_qsize 23, out_qsize 0\n",
      "2021-02-25 01:26:41,935 : INFO : EPOCH 8 - PROGRESS: at 47.11% examples, 285575 words/s, in_qsize 18, out_qsize 2\n",
      "2021-02-25 01:26:42,955 : INFO : EPOCH 8 - PROGRESS: at 55.35% examples, 287476 words/s, in_qsize 24, out_qsize 0\n",
      "2021-02-25 01:26:43,984 : INFO : EPOCH 8 - PROGRESS: at 63.44% examples, 287635 words/s, in_qsize 24, out_qsize 0\n",
      "2021-02-25 01:26:45,009 : INFO : EPOCH 8 - PROGRESS: at 71.04% examples, 286005 words/s, in_qsize 22, out_qsize 2\n",
      "2021-02-25 01:26:46,013 : INFO : EPOCH 8 - PROGRESS: at 78.92% examples, 286538 words/s, in_qsize 23, out_qsize 0\n",
      "2021-02-25 01:26:47,029 : INFO : EPOCH 8 - PROGRESS: at 86.26% examples, 284728 words/s, in_qsize 22, out_qsize 0\n",
      "2021-02-25 01:26:48,039 : INFO : EPOCH 8 - PROGRESS: at 93.49% examples, 282531 words/s, in_qsize 20, out_qsize 0\n",
      "2021-02-25 01:26:48,893 : INFO : worker thread finished; awaiting finish of 11 more threads\n",
      "2021-02-25 01:26:48,913 : INFO : worker thread finished; awaiting finish of 10 more threads\n",
      "2021-02-25 01:26:48,916 : INFO : worker thread finished; awaiting finish of 9 more threads\n",
      "2021-02-25 01:26:48,919 : INFO : worker thread finished; awaiting finish of 8 more threads\n",
      "2021-02-25 01:26:48,920 : INFO : worker thread finished; awaiting finish of 7 more threads\n",
      "2021-02-25 01:26:48,930 : INFO : worker thread finished; awaiting finish of 6 more threads\n",
      "2021-02-25 01:26:48,935 : INFO : worker thread finished; awaiting finish of 5 more threads\n",
      "2021-02-25 01:26:48,944 : INFO : worker thread finished; awaiting finish of 4 more threads\n",
      "2021-02-25 01:26:48,947 : INFO : worker thread finished; awaiting finish of 3 more threads\n",
      "2021-02-25 01:26:48,957 : INFO : worker thread finished; awaiting finish of 2 more threads\n",
      "2021-02-25 01:26:48,959 : INFO : worker thread finished; awaiting finish of 1 more threads\n",
      "2021-02-25 01:26:48,962 : INFO : worker thread finished; awaiting finish of 0 more threads\n",
      "2021-02-25 01:26:48,964 : INFO : EPOCH - 8 : training on 15339231 raw words (3690671 effective words) took 13.1s, 280992 effective words/s\n",
      "2021-02-25 01:26:49,985 : INFO : EPOCH 9 - PROGRESS: at 6.47% examples, 236876 words/s, in_qsize 18, out_qsize 0\n",
      "2021-02-25 01:26:50,990 : INFO : EPOCH 9 - PROGRESS: at 14.00% examples, 256044 words/s, in_qsize 6, out_qsize 1\n",
      "2021-02-25 01:26:51,997 : INFO : EPOCH 9 - PROGRESS: at 20.60% examples, 250647 words/s, in_qsize 14, out_qsize 1\n",
      "2021-02-25 01:26:53,025 : INFO : EPOCH 9 - PROGRESS: at 27.73% examples, 252901 words/s, in_qsize 23, out_qsize 0\n",
      "2021-02-25 01:26:54,053 : INFO : EPOCH 9 - PROGRESS: at 35.12% examples, 255737 words/s, in_qsize 17, out_qsize 1\n",
      "2021-02-25 01:26:55,053 : INFO : EPOCH 9 - PROGRESS: at 42.30% examples, 257146 words/s, in_qsize 18, out_qsize 0\n",
      "2021-02-25 01:26:56,054 : INFO : EPOCH 9 - PROGRESS: at 48.74% examples, 255046 words/s, in_qsize 23, out_qsize 0\n",
      "2021-02-25 01:26:57,069 : INFO : EPOCH 9 - PROGRESS: at 56.00% examples, 255854 words/s, in_qsize 22, out_qsize 3\n",
      "2021-02-25 01:26:58,086 : INFO : EPOCH 9 - PROGRESS: at 63.64% examples, 258181 words/s, in_qsize 13, out_qsize 4\n",
      "2021-02-25 01:26:59,093 : INFO : EPOCH 9 - PROGRESS: at 71.24% examples, 260122 words/s, in_qsize 23, out_qsize 0\n",
      "2021-02-25 01:27:00,107 : INFO : EPOCH 9 - PROGRESS: at 79.97% examples, 265511 words/s, in_qsize 24, out_qsize 2\n",
      "2021-02-25 01:27:01,113 : INFO : EPOCH 9 - PROGRESS: at 88.58% examples, 269549 words/s, in_qsize 19, out_qsize 1\n",
      "2021-02-25 01:27:02,150 : INFO : EPOCH 9 - PROGRESS: at 96.75% examples, 270877 words/s, in_qsize 23, out_qsize 0\n",
      "2021-02-25 01:27:02,383 : INFO : worker thread finished; awaiting finish of 11 more threads\n",
      "2021-02-25 01:27:02,395 : INFO : worker thread finished; awaiting finish of 10 more threads\n",
      "2021-02-25 01:27:02,397 : INFO : worker thread finished; awaiting finish of 9 more threads\n",
      "2021-02-25 01:27:02,398 : INFO : worker thread finished; awaiting finish of 8 more threads\n",
      "2021-02-25 01:27:02,401 : INFO : worker thread finished; awaiting finish of 7 more threads\n",
      "2021-02-25 01:27:02,407 : INFO : worker thread finished; awaiting finish of 6 more threads\n",
      "2021-02-25 01:27:02,409 : INFO : worker thread finished; awaiting finish of 5 more threads\n",
      "2021-02-25 01:27:02,425 : INFO : worker thread finished; awaiting finish of 4 more threads\n",
      "2021-02-25 01:27:02,426 : INFO : worker thread finished; awaiting finish of 3 more threads\n",
      "2021-02-25 01:27:02,428 : INFO : worker thread finished; awaiting finish of 2 more threads\n",
      "2021-02-25 01:27:02,434 : INFO : worker thread finished; awaiting finish of 1 more threads\n",
      "2021-02-25 01:27:02,436 : INFO : worker thread finished; awaiting finish of 0 more threads\n"
     ]
    },
    {
     "name": "stderr",
     "output_type": "stream",
     "text": [
      "2021-02-25 01:27:02,438 : INFO : EPOCH - 9 : training on 15339231 raw words (3690965 effective words) took 13.5s, 274081 effective words/s\n",
      "2021-02-25 01:27:03,454 : INFO : EPOCH 10 - PROGRESS: at 7.64% examples, 280796 words/s, in_qsize 23, out_qsize 0\n",
      "2021-02-25 01:27:04,508 : INFO : EPOCH 10 - PROGRESS: at 15.77% examples, 281454 words/s, in_qsize 17, out_qsize 5\n",
      "2021-02-25 01:27:05,547 : INFO : EPOCH 10 - PROGRESS: at 23.09% examples, 274086 words/s, in_qsize 17, out_qsize 0\n",
      "2021-02-25 01:27:06,559 : INFO : EPOCH 10 - PROGRESS: at 30.24% examples, 271333 words/s, in_qsize 19, out_qsize 0\n",
      "2021-02-25 01:27:07,578 : INFO : EPOCH 10 - PROGRESS: at 37.52% examples, 269656 words/s, in_qsize 23, out_qsize 0\n",
      "2021-02-25 01:27:08,596 : INFO : EPOCH 10 - PROGRESS: at 45.43% examples, 272681 words/s, in_qsize 23, out_qsize 0\n",
      "2021-02-25 01:27:09,600 : INFO : EPOCH 10 - PROGRESS: at 54.06% examples, 279802 words/s, in_qsize 18, out_qsize 2\n",
      "2021-02-25 01:27:10,600 : INFO : EPOCH 10 - PROGRESS: at 62.50% examples, 283228 words/s, in_qsize 17, out_qsize 4\n",
      "2021-02-25 01:27:11,619 : INFO : EPOCH 10 - PROGRESS: at 70.70% examples, 284583 words/s, in_qsize 23, out_qsize 0\n",
      "2021-02-25 01:27:12,631 : INFO : EPOCH 10 - PROGRESS: at 79.31% examples, 287707 words/s, in_qsize 22, out_qsize 1\n",
      "2021-02-25 01:27:13,674 : INFO : EPOCH 10 - PROGRESS: at 87.67% examples, 288172 words/s, in_qsize 23, out_qsize 0\n",
      "2021-02-25 01:27:14,678 : INFO : EPOCH 10 - PROGRESS: at 95.96% examples, 289337 words/s, in_qsize 23, out_qsize 1\n",
      "2021-02-25 01:27:15,062 : INFO : worker thread finished; awaiting finish of 11 more threads\n",
      "2021-02-25 01:27:15,066 : INFO : worker thread finished; awaiting finish of 10 more threads\n",
      "2021-02-25 01:27:15,069 : INFO : worker thread finished; awaiting finish of 9 more threads\n",
      "2021-02-25 01:27:15,071 : INFO : worker thread finished; awaiting finish of 8 more threads\n",
      "2021-02-25 01:27:15,074 : INFO : worker thread finished; awaiting finish of 7 more threads\n",
      "2021-02-25 01:27:15,081 : INFO : worker thread finished; awaiting finish of 6 more threads\n",
      "2021-02-25 01:27:15,085 : INFO : worker thread finished; awaiting finish of 5 more threads\n",
      "2021-02-25 01:27:15,097 : INFO : worker thread finished; awaiting finish of 4 more threads\n",
      "2021-02-25 01:27:15,099 : INFO : worker thread finished; awaiting finish of 3 more threads\n",
      "2021-02-25 01:27:15,104 : INFO : worker thread finished; awaiting finish of 2 more threads\n",
      "2021-02-25 01:27:15,107 : INFO : worker thread finished; awaiting finish of 1 more threads\n",
      "2021-02-25 01:27:15,109 : INFO : worker thread finished; awaiting finish of 0 more threads\n",
      "2021-02-25 01:27:15,110 : INFO : EPOCH - 10 : training on 15339231 raw words (3688641 effective words) took 12.7s, 291241 effective words/s\n",
      "2021-02-25 01:27:15,111 : INFO : training on a 153392310 raw words (36897889 effective words) took 137.2s, 268941 effective words/s\n",
      "2021-02-25 01:27:15,112 : INFO : saving Word2Vec object under dados/experimento_10/w2v_jur.model, separately None\n",
      "2021-02-25 01:27:15,114 : INFO : not storing attribute vectors_norm\n",
      "2021-02-25 01:27:15,115 : INFO : not storing attribute cum_table\n",
      "2021-02-25 01:27:16,029 : INFO : saved dados/experimento_10/w2v_jur.model\n"
     ]
    },
    {
     "name": "stdout",
     "output_type": "stream",
     "text": [
      "treinando modelo word2vec\n"
     ]
    },
    {
     "name": "stderr",
     "output_type": "stream",
     "text": [
      "2021-02-25 01:27:16,032 : INFO : resetting layer weights\n",
      "2021-02-25 01:27:21,219 : INFO : collecting all words and their counts\n",
      "2021-02-25 01:27:21,221 : INFO : PROGRESS: at sentence #0, processed 0 words, keeping 0 word types\n",
      "2021-02-25 01:27:21,293 : INFO : PROGRESS: at sentence #10000, processed 243127 words, keeping 13265 word types\n",
      "2021-02-25 01:27:21,364 : INFO : PROGRESS: at sentence #20000, processed 483821 words, keeping 18744 word types\n",
      "2021-02-25 01:27:21,435 : INFO : PROGRESS: at sentence #30000, processed 730851 words, keeping 22439 word types\n",
      "2021-02-25 01:27:21,505 : INFO : PROGRESS: at sentence #40000, processed 975505 words, keeping 25537 word types\n",
      "2021-02-25 01:27:21,577 : INFO : PROGRESS: at sentence #50000, processed 1223617 words, keeping 28280 word types\n",
      "2021-02-25 01:27:21,649 : INFO : PROGRESS: at sentence #60000, processed 1466899 words, keeping 30437 word types\n",
      "2021-02-25 01:27:21,721 : INFO : PROGRESS: at sentence #70000, processed 1713511 words, keeping 32503 word types\n",
      "2021-02-25 01:27:21,793 : INFO : PROGRESS: at sentence #80000, processed 1956386 words, keeping 34438 word types\n",
      "2021-02-25 01:27:21,861 : INFO : PROGRESS: at sentence #90000, processed 2197079 words, keeping 35981 word types\n",
      "2021-02-25 01:27:21,933 : INFO : PROGRESS: at sentence #100000, processed 2438804 words, keeping 37450 word types\n",
      "2021-02-25 01:27:22,006 : INFO : PROGRESS: at sentence #110000, processed 2688938 words, keeping 38969 word types\n",
      "2021-02-25 01:27:22,076 : INFO : PROGRESS: at sentence #120000, processed 2930414 words, keeping 40345 word types\n",
      "2021-02-25 01:27:22,144 : INFO : PROGRESS: at sentence #130000, processed 3168991 words, keeping 41777 word types\n",
      "2021-02-25 01:27:22,214 : INFO : PROGRESS: at sentence #140000, processed 3403026 words, keeping 43123 word types\n",
      "2021-02-25 01:27:22,287 : INFO : PROGRESS: at sentence #150000, processed 3651491 words, keeping 44586 word types\n",
      "2021-02-25 01:27:22,358 : INFO : PROGRESS: at sentence #160000, processed 3897835 words, keeping 45881 word types\n",
      "2021-02-25 01:27:22,428 : INFO : PROGRESS: at sentence #170000, processed 4143862 words, keeping 47035 word types\n",
      "2021-02-25 01:27:22,500 : INFO : PROGRESS: at sentence #180000, processed 4385794 words, keeping 48317 word types\n",
      "2021-02-25 01:27:22,573 : INFO : PROGRESS: at sentence #190000, processed 4628964 words, keeping 49359 word types\n",
      "2021-02-25 01:27:22,649 : INFO : PROGRESS: at sentence #200000, processed 4876547 words, keeping 50298 word types\n",
      "2021-02-25 01:27:22,717 : INFO : PROGRESS: at sentence #210000, processed 5117113 words, keeping 51370 word types\n",
      "2021-02-25 01:27:22,789 : INFO : PROGRESS: at sentence #220000, processed 5366735 words, keeping 52373 word types\n",
      "2021-02-25 01:27:22,865 : INFO : PROGRESS: at sentence #230000, processed 5599871 words, keeping 53278 word types\n",
      "2021-02-25 01:27:22,941 : INFO : PROGRESS: at sentence #240000, processed 5844813 words, keeping 54294 word types\n",
      "2021-02-25 01:27:23,014 : INFO : PROGRESS: at sentence #250000, processed 6096254 words, keeping 55137 word types\n",
      "2021-02-25 01:27:23,082 : INFO : PROGRESS: at sentence #260000, processed 6334856 words, keeping 55938 word types\n",
      "2021-02-25 01:27:23,150 : INFO : PROGRESS: at sentence #270000, processed 6576806 words, keeping 56843 word types\n",
      "2021-02-25 01:27:23,219 : INFO : PROGRESS: at sentence #280000, processed 6813511 words, keeping 57631 word types\n",
      "2021-02-25 01:27:23,292 : INFO : PROGRESS: at sentence #290000, processed 7065821 words, keeping 58481 word types\n",
      "2021-02-25 01:27:23,366 : INFO : PROGRESS: at sentence #300000, processed 7319423 words, keeping 59388 word types\n",
      "2021-02-25 01:27:23,441 : INFO : PROGRESS: at sentence #310000, processed 7574253 words, keeping 60196 word types\n",
      "2021-02-25 01:27:23,509 : INFO : PROGRESS: at sentence #320000, processed 7811702 words, keeping 60917 word types\n",
      "2021-02-25 01:27:23,577 : INFO : PROGRESS: at sentence #330000, processed 8053411 words, keeping 61752 word types\n",
      "2021-02-25 01:27:23,647 : INFO : PROGRESS: at sentence #340000, processed 8297188 words, keeping 62508 word types\n",
      "2021-02-25 01:27:23,714 : INFO : PROGRESS: at sentence #350000, processed 8530548 words, keeping 63310 word types\n",
      "2021-02-25 01:27:23,783 : INFO : PROGRESS: at sentence #360000, processed 8775159 words, keeping 63978 word types\n",
      "2021-02-25 01:27:23,851 : INFO : PROGRESS: at sentence #370000, processed 9024874 words, keeping 64785 word types\n",
      "2021-02-25 01:27:23,921 : INFO : PROGRESS: at sentence #380000, processed 9268743 words, keeping 65589 word types\n",
      "2021-02-25 01:27:23,991 : INFO : PROGRESS: at sentence #390000, processed 9506305 words, keeping 66273 word types\n",
      "2021-02-25 01:27:24,063 : INFO : PROGRESS: at sentence #400000, processed 9744977 words, keeping 67041 word types\n",
      "2021-02-25 01:27:24,135 : INFO : PROGRESS: at sentence #410000, processed 9987759 words, keeping 67837 word types\n",
      "2021-02-25 01:27:24,205 : INFO : PROGRESS: at sentence #420000, processed 10234305 words, keeping 68552 word types\n",
      "2021-02-25 01:27:24,274 : INFO : PROGRESS: at sentence #430000, processed 10475226 words, keeping 69181 word types\n",
      "2021-02-25 01:27:24,344 : INFO : PROGRESS: at sentence #440000, processed 10719473 words, keeping 69844 word types\n",
      "2021-02-25 01:27:24,416 : INFO : PROGRESS: at sentence #450000, processed 10964027 words, keeping 70569 word types\n",
      "2021-02-25 01:27:24,485 : INFO : PROGRESS: at sentence #460000, processed 11210907 words, keeping 71194 word types\n",
      "2021-02-25 01:27:24,555 : INFO : PROGRESS: at sentence #470000, processed 11458127 words, keeping 71762 word types\n",
      "2021-02-25 01:27:24,624 : INFO : PROGRESS: at sentence #480000, processed 11701670 words, keeping 72299 word types\n",
      "2021-02-25 01:27:24,691 : INFO : PROGRESS: at sentence #490000, processed 11943654 words, keeping 72863 word types\n",
      "2021-02-25 01:27:24,761 : INFO : PROGRESS: at sentence #500000, processed 12189444 words, keeping 73469 word types\n",
      "2021-02-25 01:27:24,830 : INFO : PROGRESS: at sentence #510000, processed 12432391 words, keeping 73987 word types\n",
      "2021-02-25 01:27:24,900 : INFO : PROGRESS: at sentence #520000, processed 12671954 words, keeping 74502 word types\n",
      "2021-02-25 01:27:24,967 : INFO : PROGRESS: at sentence #530000, processed 12906524 words, keeping 75059 word types\n",
      "2021-02-25 01:27:25,039 : INFO : PROGRESS: at sentence #540000, processed 13160463 words, keeping 75699 word types\n",
      "2021-02-25 01:27:25,110 : INFO : PROGRESS: at sentence #550000, processed 13401226 words, keeping 76316 word types\n",
      "2021-02-25 01:27:25,179 : INFO : PROGRESS: at sentence #560000, processed 13646146 words, keeping 77022 word types\n",
      "2021-02-25 01:27:25,249 : INFO : PROGRESS: at sentence #570000, processed 13890201 words, keeping 77544 word types\n",
      "2021-02-25 01:27:25,321 : INFO : PROGRESS: at sentence #580000, processed 14122294 words, keeping 78123 word types\n",
      "2021-02-25 01:27:25,395 : INFO : PROGRESS: at sentence #590000, processed 14359653 words, keeping 78720 word types\n",
      "2021-02-25 01:27:25,470 : INFO : PROGRESS: at sentence #600000, processed 14603733 words, keeping 79356 word types\n",
      "2021-02-25 01:27:25,540 : INFO : PROGRESS: at sentence #610000, processed 14846339 words, keeping 79972 word types\n",
      "2021-02-25 01:27:25,609 : INFO : PROGRESS: at sentence #620000, processed 15084621 words, keeping 80497 word types\n",
      "2021-02-25 01:27:25,681 : INFO : PROGRESS: at sentence #630000, processed 15333157 words, keeping 80958 word types\n",
      "2021-02-25 01:27:25,684 : INFO : collected 80965 word types from a corpus of 15339231 raw words and 630236 sentences\n",
      "2021-02-25 01:27:25,686 : INFO : Loading a fresh vocabulary\n",
      "2021-02-25 01:27:25,784 : INFO : effective_min_count=5 retains 32527 unique words (40% of original 80965, drops 48438)\n",
      "2021-02-25 01:27:25,785 : INFO : effective_min_count=5 leaves 15257606 word corpus (99% of original 15339231, drops 81625)\n",
      "2021-02-25 01:27:25,862 : INFO : deleting the raw counts dictionary of 80965 items\n",
      "2021-02-25 01:27:25,865 : INFO : sample=0.001 downsamples 37 most-common words\n",
      "2021-02-25 01:27:25,866 : INFO : downsampling leaves estimated 11044924 word corpus (72.4% of prior 15257606)\n",
      "2021-02-25 01:27:25,889 : INFO : constructing a huffman tree from 32527 words\n",
      "2021-02-25 01:27:26,610 : INFO : built huffman tree with maximum node depth 22\n"
     ]
    },
    {
     "name": "stderr",
     "output_type": "stream",
     "text": [
      "2021-02-25 01:27:27,008 : INFO : estimated required memory for 32527 words, 137788 buckets and 100 dimensions: 125683724 bytes\n",
      "2021-02-25 01:27:27,012 : INFO : resetting layer weights\n",
      "2021-02-25 01:27:30,493 : INFO : training model with 12 workers on 32527 vocabulary and 100 features, using sg=1 hs=1 sample=0.001 negative=5 window=5\n",
      "2021-02-25 01:28:23,790 : INFO : EPOCH 1 - PROGRESS: at 8.37% words, 17353 words/s, in_qsize -1, out_qsize 1\n",
      "2021-02-25 01:28:23,792 : INFO : worker thread finished; awaiting finish of 11 more threads\n",
      "2021-02-25 01:28:23,908 : INFO : worker thread finished; awaiting finish of 10 more threads\n",
      "2021-02-25 01:28:23,910 : INFO : worker thread finished; awaiting finish of 9 more threads\n",
      "2021-02-25 01:28:23,925 : INFO : worker thread finished; awaiting finish of 8 more threads\n",
      "2021-02-25 01:28:24,191 : INFO : worker thread finished; awaiting finish of 7 more threads\n",
      "2021-02-25 01:28:24,212 : INFO : worker thread finished; awaiting finish of 6 more threads\n",
      "2021-02-25 01:28:24,284 : INFO : worker thread finished; awaiting finish of 5 more threads\n",
      "2021-02-25 01:28:24,450 : INFO : worker thread finished; awaiting finish of 4 more threads\n",
      "2021-02-25 01:28:25,349 : INFO : EPOCH 1 - PROGRESS: at 75.24% words, 151635 words/s, in_qsize -1, out_qsize 1\n",
      "2021-02-25 01:28:25,351 : INFO : worker thread finished; awaiting finish of 3 more threads\n",
      "2021-02-25 01:28:25,560 : INFO : worker thread finished; awaiting finish of 2 more threads\n",
      "2021-02-25 01:28:25,618 : INFO : worker thread finished; awaiting finish of 1 more threads\n",
      "2021-02-25 01:28:25,749 : INFO : worker thread finished; awaiting finish of 0 more threads\n",
      "2021-02-25 01:28:25,751 : INFO : EPOCH - 1 : training on 15391031 raw words (11082122 effective words) took 55.2s, 200721 effective words/s\n",
      "2021-02-25 01:29:19,228 : INFO : EPOCH 2 - PROGRESS: at 8.36% words, 17295 words/s, in_qsize -1, out_qsize 1\n",
      "2021-02-25 01:29:19,230 : INFO : worker thread finished; awaiting finish of 11 more threads\n",
      "2021-02-25 01:29:19,287 : INFO : worker thread finished; awaiting finish of 10 more threads\n",
      "2021-02-25 01:29:19,339 : INFO : worker thread finished; awaiting finish of 9 more threads\n",
      "2021-02-25 01:29:19,860 : INFO : worker thread finished; awaiting finish of 8 more threads\n",
      "2021-02-25 01:29:21,119 : INFO : EPOCH 2 - PROGRESS: at 41.79% words, 83423 words/s, in_qsize -1, out_qsize 1\n",
      "2021-02-25 01:29:21,121 : INFO : worker thread finished; awaiting finish of 7 more threads\n",
      "2021-02-25 01:29:21,123 : INFO : worker thread finished; awaiting finish of 6 more threads\n",
      "2021-02-25 01:29:21,197 : INFO : worker thread finished; awaiting finish of 5 more threads\n",
      "2021-02-25 01:29:21,358 : INFO : worker thread finished; awaiting finish of 4 more threads\n",
      "2021-02-25 01:29:22,290 : INFO : EPOCH 2 - PROGRESS: at 75.24% words, 147097 words/s, in_qsize -1, out_qsize 1\n",
      "2021-02-25 01:29:22,292 : INFO : worker thread finished; awaiting finish of 3 more threads\n",
      "2021-02-25 01:29:22,315 : INFO : worker thread finished; awaiting finish of 2 more threads\n",
      "2021-02-25 01:29:22,388 : INFO : worker thread finished; awaiting finish of 1 more threads\n",
      "2021-02-25 01:29:22,419 : INFO : worker thread finished; awaiting finish of 0 more threads\n",
      "2021-02-25 01:29:22,421 : INFO : EPOCH - 2 : training on 15391031 raw words (11081153 effective words) took 56.6s, 195691 effective words/s\n",
      "2021-02-25 01:30:18,078 : INFO : EPOCH 3 - PROGRESS: at 8.33% words, 16552 words/s, in_qsize -1, out_qsize 1\n",
      "2021-02-25 01:30:18,079 : INFO : worker thread finished; awaiting finish of 11 more threads\n",
      "2021-02-25 01:30:18,166 : INFO : worker thread finished; awaiting finish of 10 more threads\n",
      "2021-02-25 01:30:18,184 : INFO : worker thread finished; awaiting finish of 9 more threads\n",
      "2021-02-25 01:30:18,399 : INFO : worker thread finished; awaiting finish of 8 more threads\n",
      "2021-02-25 01:30:18,507 : INFO : worker thread finished; awaiting finish of 7 more threads\n",
      "2021-02-25 01:30:18,565 : INFO : worker thread finished; awaiting finish of 6 more threads\n",
      "2021-02-25 01:30:18,767 : INFO : worker thread finished; awaiting finish of 5 more threads\n",
      "2021-02-25 01:30:19,339 : INFO : EPOCH 3 - PROGRESS: at 66.88% words, 129912 words/s, in_qsize -1, out_qsize 1\n",
      "2021-02-25 01:30:19,340 : INFO : worker thread finished; awaiting finish of 4 more threads\n",
      "2021-02-25 01:30:20,843 : INFO : EPOCH 3 - PROGRESS: at 75.24% words, 142401 words/s, in_qsize -1, out_qsize 1\n",
      "2021-02-25 01:30:20,844 : INFO : worker thread finished; awaiting finish of 3 more threads\n",
      "2021-02-25 01:30:21,011 : INFO : worker thread finished; awaiting finish of 2 more threads\n",
      "2021-02-25 01:30:21,204 : INFO : worker thread finished; awaiting finish of 1 more threads\n",
      "2021-02-25 01:30:21,360 : INFO : worker thread finished; awaiting finish of 0 more threads\n",
      "2021-02-25 01:30:21,361 : INFO : EPOCH - 3 : training on 15391031 raw words (11083820 effective words) took 58.9s, 188215 effective words/s\n",
      "2021-02-25 01:31:13,355 : INFO : EPOCH 4 - PROGRESS: at 8.33% words, 17734 words/s, in_qsize -1, out_qsize 1\n",
      "2021-02-25 01:31:13,357 : INFO : worker thread finished; awaiting finish of 11 more threads\n",
      "2021-02-25 01:31:13,612 : INFO : worker thread finished; awaiting finish of 10 more threads\n",
      "2021-02-25 01:31:13,678 : INFO : worker thread finished; awaiting finish of 9 more threads\n",
      "2021-02-25 01:31:13,778 : INFO : worker thread finished; awaiting finish of 8 more threads\n",
      "2021-02-25 01:31:15,227 : INFO : EPOCH 4 - PROGRESS: at 41.79% words, 85753 words/s, in_qsize -1, out_qsize 1\n",
      "2021-02-25 01:31:15,229 : INFO : worker thread finished; awaiting finish of 7 more threads\n",
      "2021-02-25 01:31:15,347 : INFO : worker thread finished; awaiting finish of 6 more threads\n",
      "2021-02-25 01:31:15,538 : INFO : worker thread finished; awaiting finish of 5 more threads\n",
      "2021-02-25 01:31:15,568 : INFO : worker thread finished; awaiting finish of 4 more threads\n",
      "2021-02-25 01:31:15,670 : INFO : worker thread finished; awaiting finish of 3 more threads\n",
      "2021-02-25 01:31:15,710 : INFO : worker thread finished; awaiting finish of 2 more threads\n",
      "2021-02-25 01:31:15,820 : INFO : worker thread finished; awaiting finish of 1 more threads\n",
      "2021-02-25 01:31:15,943 : INFO : worker thread finished; awaiting finish of 0 more threads\n",
      "2021-02-25 01:31:15,945 : INFO : EPOCH - 4 : training on 15391031 raw words (11084328 effective words) took 54.5s, 203234 effective words/s\n",
      "2021-02-25 01:32:12,218 : INFO : EPOCH 5 - PROGRESS: at 8.33% words, 16372 words/s, in_qsize -1, out_qsize 1\n",
      "2021-02-25 01:32:12,220 : INFO : worker thread finished; awaiting finish of 11 more threads\n",
      "2021-02-25 01:32:12,458 : INFO : worker thread finished; awaiting finish of 10 more threads\n",
      "2021-02-25 01:32:12,487 : INFO : worker thread finished; awaiting finish of 9 more threads\n",
      "2021-02-25 01:32:12,549 : INFO : worker thread finished; awaiting finish of 8 more threads\n",
      "2021-02-25 01:32:17,626 : INFO : EPOCH 5 - PROGRESS: at 41.79% words, 74856 words/s, in_qsize -1, out_qsize 1\n",
      "2021-02-25 01:32:17,628 : INFO : worker thread finished; awaiting finish of 7 more threads\n",
      "2021-02-25 01:32:17,631 : INFO : worker thread finished; awaiting finish of 6 more threads\n",
      "2021-02-25 01:32:17,664 : INFO : worker thread finished; awaiting finish of 5 more threads\n",
      "2021-02-25 01:32:17,782 : INFO : worker thread finished; awaiting finish of 4 more threads\n",
      "2021-02-25 01:32:19,723 : INFO : EPOCH 5 - PROGRESS: at 75.25% words, 130384 words/s, in_qsize -1, out_qsize 1\n",
      "2021-02-25 01:32:19,725 : INFO : worker thread finished; awaiting finish of 3 more threads\n",
      "2021-02-25 01:32:19,879 : INFO : worker thread finished; awaiting finish of 2 more threads\n",
      "2021-02-25 01:32:19,989 : INFO : worker thread finished; awaiting finish of 1 more threads\n",
      "2021-02-25 01:32:20,201 : INFO : worker thread finished; awaiting finish of 0 more threads\n",
      "2021-02-25 01:32:20,205 : INFO : EPOCH - 5 : training on 15391031 raw words (11081755 effective words) took 64.2s, 172575 effective words/s\n",
      "2021-02-25 01:32:20,209 : INFO : training on a 76955155 raw words (55413178 effective words) took 289.7s, 191268 effective words/s\n",
      "2021-02-25 01:32:20,210 : WARNING : under 10 jobs per worker: consider setting a smaller `batch_words' for smoother alpha decay\n"
     ]
    },
    {
     "name": "stderr",
     "output_type": "stream",
     "text": [
      "2021-02-25 01:32:22,021 : INFO : saving FastText object under dados/experimento_10/ftt_jur.model, separately None\n",
      "2021-02-25 01:32:22,022 : INFO : storing np array 'vectors_ngrams' to dados/experimento_10/ftt_jur.model.wv.vectors_ngrams.npy\n",
      "2021-02-25 01:32:29,065 : INFO : not storing attribute vectors_norm\n",
      "2021-02-25 01:32:29,066 : INFO : not storing attribute vectors_vocab_norm\n",
      "2021-02-25 01:32:29,068 : INFO : not storing attribute vectors_ngrams_norm\n",
      "2021-02-25 01:32:29,070 : INFO : not storing attribute buckets_word\n",
      "2021-02-25 01:32:29,071 : INFO : storing np array 'vectors_ngrams_lockf' to dados/experimento_10/ftt_jur.model.trainables.vectors_ngrams_lockf.npy\n",
      "2021-02-25 01:32:37,073 : INFO : saved dados/experimento_10/ftt_jur.model\n"
     ]
    },
    {
     "name": "stdout",
     "output_type": "stream",
     "text": [
      "treinando modelo glove\n",
      "mkdir -p build\n",
      "tokenizando corpus\n",
      "$ build/vocab_count -min-count 5 -verbose 2 < ../mestrado/experimentos_mestrado/dados/experimento_10/base_treino_glv.txt > ../mestrado/experimentos_mestrado/dados/experimento_10/glove_vocab.txt\n",
      "criando matriz de coocorrencia\n",
      "$ build/cooccur -memory 4.0 -vocab-file ../mestrado/experimentos_mestrado/dados/experimento_10/glove_vocab.txt -verbose 2 -window-size 15 < ../mestrado/experimentos_mestrado/dados/experimento_10/base_treino_glv.txt > ../mestrado/experimentos_mestrado/dados/experimento_10/glv_concurrence.bin\n",
      "$ build/shuffle -memory 4.0 -verbose 2 < ../mestrado/experimentos_mestrado/dados/experimento_10/glv_concurrence.bin > ../mestrado/experimentos_mestrado/dados/experimento_10/glv_concurrence_shuf.bin\n",
      "$ build/glove -save-file ../mestrado/experimentos_mestrado/dados/experimento_10/glv_jur -threads 8 -input-file ../mestrado/experimentos_mestrado/dados/experimento_10/glv_concurrence_shuf.bin -x-max 10 -iter 15 -vector-size 100 -binary 2 -vocab-file ../mestrado/experimentos_mestrado/dados/experimento_10/glove_vocab.txt -verbose 2\n",
      "\n",
      "BUILDING VOCABULARY\n",
      "Processed 0 tokens.100000 tokens.200000 tokens.300000 tokens.400000 tokens.500000 tokens.600000 tokens.700000 tokens.800000 tokens.900000 tokens.1000000 tokens.1100000 tokens.1200000 tokens.1300000 tokens.1400000 tokens.1500000 tokens.1600000 tokens.1700000 tokens.1800000 tokens.1900000 tokens.2000000 tokens.2100000 tokens.2200000 tokens.2300000 tokens.2400000 tokens.2500000 tokens.2600000 tokens.2700000 tokens.2800000 tokens.2900000 tokens.3000000 tokens.3100000 tokens.3200000 tokens.3300000 tokens.3400000 tokens.3500000 tokens.3600000 tokens.3700000 tokens.3800000 tokens.3900000 tokens.4000000 tokens.4100000 tokens.4200000 tokens.4300000 tokens.4400000 tokens.4500000 tokens.4600000 tokens.4700000 tokens.4800000 tokens.4900000 tokens.5000000 tokens.5100000 tokens.5200000 tokens.5300000 tokens.5400000 tokens.5500000 tokens.5600000 tokens.5700000 tokens.5800000 tokens.5900000 tokens.6000000 tokens.6100000 tokens.6200000 tokens.6300000 tokens.6400000 tokens.6500000 tokens.6600000 tokens.6700000 tokens.6800000 tokens.6900000 tokens.7000000 tokens.7100000 tokens.7200000 tokens.7300000 tokens.7400000 tokens.7500000 tokens.7600000 tokens.7700000 tokens.7800000 tokens.7900000 tokens.8000000 tokens.8100000 tokens.8200000 tokens.8300000 tokens.8400000 tokens.8500000 tokens.8600000 tokens.8700000 tokens.8800000 tokens.8900000 tokens.9000000 tokens.9100000 tokens.9200000 tokens.9300000 tokens.9400000 tokens.9500000 tokens.9600000 tokens.Processed 9653400 tokens.\n",
      "Counted 80787 unique words.\n",
      "Truncating vocabulary at min count 5.\n",
      "Using vocabulary of size 32361.\n",
      "\n",
      "COUNTING COOCCURRENCES\n",
      "window size: 15\n",
      "context: symmetric\n",
      "max product: 13752509\n",
      "overflow length: 38028356\n",
      "Reading vocab from file \"../mestrado/experimentos_mestrado/dados/experimento_10/glove_vocab.txt\"...loaded 32361 words.\n",
      "Building lookup table...table contains 73305905 elements.\n",
      "Processing token: 0100000200000300000400000500000600000700000800000900000100000011000001200000130000014000001500000160000017000001800000190000020000002100000220000023000002400000250000026000002700000280000029000003000000310000032000003300000340000035000003600000370000038000003900000400000041000004200000430000044000004500000460000047000004800000490000050000005100000520000053000005400000550000056000005700000580000059000006000000610000062000006300000640000065000006600000670000068000006900000700000071000007200000730000074000007500000760000077000007800000790000080000008100000820000083000008400000850000086000008700000880000089000009000000910000092000009300000940000095000009600000Processed 9653400 tokens.\n",
      "Writing cooccurrences to disk........2 files in total.\n"
     ]
    },
    {
     "name": "stdout",
     "output_type": "stream",
     "text": [
      "Merging cooccurrence files: processed 0 lines.100000 lines.200000 lines.300000 lines.400000 lines.500000 lines.600000 lines.700000 lines.800000 lines.900000 lines.1000000 lines.1100000 lines.1200000 lines.1300000 lines.1400000 lines.1500000 lines.1600000 lines.1700000 lines.1800000 lines.1900000 lines.2000000 lines.2100000 lines.2200000 lines.2300000 lines.2400000 lines.2500000 lines.2600000 lines.2700000 lines.2800000 lines.2900000 lines.3000000 lines.3100000 lines.3200000 lines.3300000 lines.3400000 lines.3500000 lines.3600000 lines.3700000 lines.3800000 lines.3900000 lines.4000000 lines.4100000 lines.4200000 lines.4300000 lines.4400000 lines.4500000 lines.4600000 lines.4700000 lines.4800000 lines.4900000 lines.5000000 lines.5100000 lines.5200000 lines.5300000 lines.5400000 lines.5500000 lines.5600000 lines.5700000 lines.5800000 lines.5900000 lines.6000000 lines.6100000 lines.6200000 lines.6300000 lines.6400000 lines.6500000 lines.6600000 lines.6700000 lines.6800000 lines.6900000 lines.7000000 lines.7100000 lines.7200000 lines.7300000 lines.7400000 lines.7500000 lines.7600000 lines.7700000 lines.7800000 lines.7900000 lines.8000000 lines.8100000 lines.8200000 lines.8300000 lines.8400000 lines.8500000 lines.8600000 lines.8700000 lines.8800000 lines.8900000 lines.9000000 lines.9100000 lines.9200000 lines.9300000 lines.9400000 lines.9500000 lines.9600000 lines.9700000 lines.9800000 lines.9900000 lines.10000000 lines.10100000 lines.10200000 lines.10300000 lines.10400000 lines.10500000 lines.10600000 lines.10700000 lines.10800000 lines.10900000 lines.11000000 lines.11100000 lines.11200000 lines.11300000 lines.11400000 lines.11500000 lines.11600000 lines.11700000 lines.11800000 lines.11900000 lines.12000000 lines.12100000 lines.12200000 lines.12300000 lines.12400000 lines.12500000 lines.12600000 lines.12700000 lines.12800000 lines.12900000 lines.13000000 lines.13100000 lines.13200000 lines.13300000 lines.13400000 lines.13500000 lines.13600000 lines.13700000 lines.13800000 lines.13900000 lines.14000000 lines.14100000 lines.14200000 lines.14300000 lines.14400000 lines.14500000 lines.14600000 lines.14700000 lines.14800000 lines.14900000 lines.15000000 lines.15100000 lines.15200000 lines.15300000 lines.15400000 lines.15500000 lines.15600000 lines.15700000 lines.15800000 lines.15900000 lines.16000000 lines.16100000 lines.16200000 lines.16300000 lines.16400000 lines.16500000 lines.16600000 lines.16700000 lines.16800000 lines.16900000 lines.17000000 lines.17100000 lines.17200000 lines.17300000 lines.17400000 lines.17500000 lines.17600000 lines.17700000 lines.17800000 lines.17900000 lines.18000000 lines.18100000 lines.18200000 lines.18300000 lines.18400000 lines.18500000 lines.18600000 lines.18700000 lines.18800000 lines.18900000 lines.19000000 lines.19100000 lines.19200000 lines.19300000 lines.19400000 lines.19500000 lines.19600000 lines.19700000 lines.19800000 lines.19900000 lines.20000000 lines.20100000 lines.20200000 lines.20300000 lines.20400000 lines.20500000 lines.20600000 lines.20700000 lines.20800000 lines.20900000 lines.21000000 lines.21100000 lines.21200000 lines.21300000 lines.21400000 lines.21500000 lines.21600000 lines.21700000 lines.21800000 lines.21900000 lines.22000000 lines.22100000 lines.22200000 lines.22300000 lines.22400000 lines.22500000 lines.22600000 lines.22700000 lines.22800000 lines.22900000 lines.23000000 lines.23100000 lines.23200000 lines.23300000 lines.23400000 lines.23500000 lines.23600000 lines.23700000 lines.23800000 lines.23900000 lines.24000000 lines.24100000 lines.24200000 lines.24300000 lines.24400000 lines.24500000 lines.24600000 lines.24700000 lines.24800000 lines.24900000 lines.25000000 lines.25100000 lines.25200000 lines.25300000 lines.25400000 lines.25500000 lines.25600000 lines.25700000 lines.25800000 lines.25900000 lines.26000000 lines.26100000 lines.26200000 lines.26300000 lines.26400000 lines.26500000 lines.26600000 lines.26700000 lines.26800000 lines.26900000 lines.27000000 lines.27100000 lines.27200000 lines.27300000 lines.27400000 lines.27500000 lines.27600000 lines.27700000 lines.27800000 lines.27900000 lines.28000000 lines.28100000 lines.28200000 lines.28300000 lines.28400000 lines.28500000 lines.28600000 lines.28700000 lines.28800000 lines.28900000 lines.29000000 lines.29100000 lines.29200000 lines.29300000 lines.29400000 lines.29500000 lines.29600000 lines.29700000 lines.29800000 lines.29900000 lines.30000000 lines.30100000 lines.30200000 lines.30300000 lines.30400000 lines.30500000 lines.30600000 lines.30700000 lines.30800000 lines.30900000 lines.31000000 lines.31100000 lines.31200000 lines.31300000 lines.31400000 lines.31500000 lines.Merging cooccurrence files: processed 31596232 lines.\n",
      "\n",
      "Using random seed 1614227574\n",
      "SHUFFLING COOCCURRENCES\n",
      "array size: 255013683\n",
      "Shuffling by chunks: processed 0 lines.processed 31596232 lines.\n",
      "Wrote 1 temporary file(s).\n",
      "Merging temp files: processed 0 lines.31596232 lines.Merging temp files: processed 31596232 lines.\n",
      "\n",
      "TRAINING MODEL\n",
      "Read 31596232 lines.\n",
      "Initializing parameters...Using random seed 1614227585\n",
      "done.\n",
      "vector size: 100\n",
      "vocab size: 32361\n",
      "x_max: 10.000000\n",
      "alpha: 0.750000\n",
      "02/25/21 - 01:33.17AM, iter: 001, cost: 0.109277\n",
      "02/25/21 - 01:33.29AM, iter: 002, cost: 0.079350\n",
      "02/25/21 - 01:33.40AM, iter: 003, cost: 0.066568\n",
      "02/25/21 - 01:33.51AM, iter: 004, cost: 0.058930\n",
      "02/25/21 - 01:34.02AM, iter: 005, cost: 0.054532\n",
      "02/25/21 - 01:34.12AM, iter: 006, cost: 0.051899\n",
      "02/25/21 - 01:34.24AM, iter: 007, cost: 0.050186\n",
      "02/25/21 - 01:34.34AM, iter: 008, cost: 0.048943\n",
      "02/25/21 - 01:34.45AM, iter: 009, cost: 0.048027\n",
      "02/25/21 - 01:34.56AM, iter: 010, cost: 0.047286\n",
      "02/25/21 - 01:35.07AM, iter: 011, cost: 0.046690\n",
      "02/25/21 - 01:35.18AM, iter: 012, cost: 0.046194\n",
      "02/25/21 - 01:35.29AM, iter: 013, cost: 0.045776\n",
      "02/25/21 - 01:35.39AM, iter: 014, cost: 0.045404\n",
      "02/25/21 - 01:35.50AM, iter: 015, cost: 0.045078\n",
      "\n",
      "treinamento concluído\n"
     ]
    },
    {
     "name": "stderr",
     "output_type": "stream",
     "text": [
      "2021-02-25 01:35:52,276 : INFO : converting 32362 vectors from dados/experimento_10/glv_jur.txt to C:\\Users\\CRISTI~1\\AppData\\Local\\Temp\\test_word2vec.txt\n",
      "2021-02-25 01:35:52,356 : INFO : loading projection weights from C:\\Users\\CRISTI~1\\AppData\\Local\\Temp\\test_word2vec.txt\n",
      "2021-02-25 01:35:55,066 : INFO : loaded (32362, 100) matrix from C:\\Users\\CRISTI~1\\AppData\\Local\\Temp\\test_word2vec.txt\n",
      "2021-02-25 01:35:55,067 : INFO : loading projection weights from modelos/w2v_skip_nilc.txt\n",
      "2021-02-25 01:37:14,613 : INFO : loaded (929606, 100) matrix from modelos/w2v_skip_nilc.txt\n",
      "2021-02-25 01:37:14,614 : INFO : loading projection weights from modelos/ftt_skip_nilc.txt\n",
      "2021-02-25 01:38:31,730 : INFO : loaded (929605, 100) matrix from modelos/ftt_skip_nilc.txt\n",
      "2021-02-25 01:38:31,731 : INFO : loading projection weights from modelos/glove_nilc.txt\n",
      "2021-02-25 01:39:49,478 : INFO : loaded (929605, 100) matrix from modelos/glove_nilc.txt\n"
     ]
    },
    {
     "name": "stdout",
     "output_type": "stream",
     "text": [
      "recuperando teores da base de teste\n"
     ]
    },
    {
     "data": {
      "application/vnd.jupyter.widget-view+json": {
       "model_id": "95d1b8422d4a4718a4dcf1ca74ece65f",
       "version_major": 2,
       "version_minor": 0
      },
      "text/plain": [
       "HBox(children=(IntProgress(value=0, max=6663), HTML(value='')))"
      ]
     },
     "metadata": {},
     "output_type": "display_data"
    },
    {
     "name": "stdout",
     "output_type": "stream",
     "text": [
      "\n",
      "criando representações word2vec geral\n"
     ]
    },
    {
     "data": {
      "application/vnd.jupyter.widget-view+json": {
       "model_id": "f5030143f9cd4482940f06d94b47b0f9",
       "version_major": 2,
       "version_minor": 0
      },
      "text/plain": [
       "HBox(children=(IntProgress(value=0, max=6663), HTML(value='')))"
      ]
     },
     "metadata": {},
     "output_type": "display_data"
    },
    {
     "name": "stdout",
     "output_type": "stream",
     "text": [
      "\n",
      "criando representações fasttext geral\n"
     ]
    },
    {
     "data": {
      "application/vnd.jupyter.widget-view+json": {
       "model_id": "b56ba857de0f4e41b5b11d4ccb518e2c",
       "version_major": 2,
       "version_minor": 0
      },
      "text/plain": [
       "HBox(children=(IntProgress(value=0, max=6663), HTML(value='')))"
      ]
     },
     "metadata": {},
     "output_type": "display_data"
    },
    {
     "name": "stdout",
     "output_type": "stream",
     "text": [
      "\n",
      "criando representações glove geral\n"
     ]
    },
    {
     "data": {
      "application/vnd.jupyter.widget-view+json": {
       "model_id": "da833f2600c74283ab5331421a956ce7",
       "version_major": 2,
       "version_minor": 0
      },
      "text/plain": [
       "HBox(children=(IntProgress(value=0, max=6663), HTML(value='')))"
      ]
     },
     "metadata": {},
     "output_type": "display_data"
    },
    {
     "name": "stdout",
     "output_type": "stream",
     "text": [
      "\n",
      "criando representações word2vec juridico\n"
     ]
    },
    {
     "data": {
      "application/vnd.jupyter.widget-view+json": {
       "model_id": "1732b4e29b424ab2ac72eccdbbdfd469",
       "version_major": 2,
       "version_minor": 0
      },
      "text/plain": [
       "HBox(children=(IntProgress(value=0, max=6663), HTML(value='')))"
      ]
     },
     "metadata": {},
     "output_type": "display_data"
    },
    {
     "name": "stdout",
     "output_type": "stream",
     "text": [
      "\n",
      "criando representações fasttext juridico\n"
     ]
    },
    {
     "data": {
      "application/vnd.jupyter.widget-view+json": {
       "model_id": "f2d7461991564d70b637775d0a41be84",
       "version_major": 2,
       "version_minor": 0
      },
      "text/plain": [
       "HBox(children=(IntProgress(value=0, max=6663), HTML(value='')))"
      ]
     },
     "metadata": {},
     "output_type": "display_data"
    },
    {
     "name": "stdout",
     "output_type": "stream",
     "text": [
      "\n",
      "criando representações glove juridico\n"
     ]
    },
    {
     "data": {
      "application/vnd.jupyter.widget-view+json": {
       "model_id": "3e453e4ad366441d85f7cc04c5e8b741",
       "version_major": 2,
       "version_minor": 0
      },
      "text/plain": [
       "HBox(children=(IntProgress(value=0, max=6663), HTML(value='')))"
      ]
     },
     "metadata": {},
     "output_type": "display_data"
    },
    {
     "name": "stdout",
     "output_type": "stream",
     "text": [
      "\n",
      "----------- EXPERIMENTO 10 CONCLUIDO -----------\n",
      "tempo do experimento: 23.180916305383047 minutos\n"
     ]
    }
   ],
   "source": [
    "n_experimentos = 10\n",
    "df = transformer.transform(documentos_validos, n_experimentos)"
   ]
  },
  {
   "cell_type": "code",
   "execution_count": null,
   "metadata": {},
   "outputs": [],
   "source": []
  }
 ],
 "metadata": {
  "kernelspec": {
   "display_name": "Python 3",
   "language": "python",
   "name": "python3"
  },
  "language_info": {
   "codemirror_mode": {
    "name": "ipython",
    "version": 3
   },
   "file_extension": ".py",
   "mimetype": "text/x-python",
   "name": "python",
   "nbconvert_exporter": "python",
   "pygments_lexer": "ipython3",
   "version": "3.7.4"
  }
 },
 "nbformat": 4,
 "nbformat_minor": 2
}
