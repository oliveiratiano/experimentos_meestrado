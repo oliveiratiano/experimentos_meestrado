{
 "cells": [
  {
   "cell_type": "code",
   "execution_count": 56,
   "metadata": {},
   "outputs": [
    {
     "name": "stdout",
     "output_type": "stream",
     "text": [
      "The autoreload extension is already loaded. To reload it, use:\n",
      "  %reload_ext autoreload\n"
     ]
    }
   ],
   "source": [
    "%load_ext autoreload\n",
    "%autoreload 2\n",
    "import pandas as pd\n",
    "import numpy as np\n",
    "from sklearn.metrics.pairwise import cosine_similarity\n",
    "from src import analyzer\n",
    "from matplotlib import pyplot as plt"
   ]
  },
  {
   "cell_type": "code",
   "execution_count": null,
   "metadata": {
    "scrolled": true
   },
   "outputs": [
    {
     "name": "stdout",
     "output_type": "stream",
     "text": [
      "--------- executando analyzer para experimento 1 ---------\n",
      "calculando matriz de similaridade nos vetores vec_w2v_ger_soma\n"
     ]
    },
    {
     "data": {
      "application/vnd.jupyter.widget-view+json": {
       "model_id": "6e6aa8b3136447afb7dd5735e1a3ca17",
       "version_major": 2,
       "version_minor": 0
      },
      "text/plain": [
       "HBox(children=(IntProgress(value=0, max=6663), HTML(value='')))"
      ]
     },
     "metadata": {},
     "output_type": "display_data"
    }
   ],
   "source": [
    "lista_experimentos = np.arange(0,1)\n",
    "for i in lista_experimentos:\n",
    "    exp = i+1\n",
    "    print('--------- executando analyzer para experimento '+ str(exp)+' ---------')    \n",
    "    dir_experimento = 'experimento_'+str(exp)\n",
    "    df = pd.read_csv('dados/'+dir_experimento+'/vetores_teste.csv')\n",
    "    for modelo in df.iloc[:,3:]:\n",
    "        df[modelo] = df[modelo].apply(lambda x: analyzer.converter_string_array(x))        \n",
    "        sim_m = analyzer.calc_matriz_sim(df[modelo], dir_experimento)\n",
    "        pivot = analyzer.calcular_sim_assuntos(df['assunto'], sim_m, df[modelo].name, dir_experimento)\n",
    "        plt.close()"
   ]
  },
  {
   "cell_type": "code",
   "execution_count": null,
   "metadata": {},
   "outputs": [],
   "source": [
    "Criare estatísticas por exeprimento e globais. As por experimento: média dentre docs do mesmo assunto, média para outros assuntos, para cada modelo"
   ]
  }
 ],
 "metadata": {
  "kernelspec": {
   "display_name": "Python 3",
   "language": "python",
   "name": "python3"
  },
  "language_info": {
   "codemirror_mode": {
    "name": "ipython",
    "version": 3
   },
   "file_extension": ".py",
   "mimetype": "text/x-python",
   "name": "python",
   "nbconvert_exporter": "python",
   "pygments_lexer": "ipython3",
   "version": "3.7.4"
  }
 },
 "nbformat": 4,
 "nbformat_minor": 2
}
