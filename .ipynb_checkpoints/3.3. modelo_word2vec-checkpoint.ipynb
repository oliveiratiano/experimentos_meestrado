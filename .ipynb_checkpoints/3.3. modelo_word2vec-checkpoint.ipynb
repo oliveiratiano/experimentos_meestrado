{
 "cells": [
  {
   "cell_type": "code",
   "execution_count": 26,
   "metadata": {},
   "outputs": [
    {
     "name": "stderr",
     "output_type": "stream",
     "text": [
      "C:\\ProgramData\\Anaconda3\\lib\\site-packages\\tqdm\\std.py:648: FutureWarning: The Panel class is removed from pandas. Accessing it from the top-level namespace will also be removed in the next version\n",
      "  from pandas import Panel\n"
     ]
    }
   ],
   "source": [
    "from gensim.models import Word2Vec\n",
    "from gensim.models.word2vec import LineSentence\n",
    "import multiprocessing\n",
    "import pandas as pd\n",
    "import numpy as np\n",
    "from sklearn.decomposition import PCA\n",
    "import matplotlib.pyplot as plt\n",
    "from os import listdir\n",
    "from tqdm.auto import tqdm\n",
    "tqdm.pandas()\n",
    "from nltk.corpus import stopwords as stopwords"
   ]
  },
  {
   "cell_type": "code",
   "execution_count": 15,
   "metadata": {},
   "outputs": [],
   "source": [
    "corpus = \"dados/corpus_txt/corpus_pre_no_punkt.txt\"\n",
    "model = Word2Vec(LineSentence(corpus), size=100, window=5,                 \n",
    "                 min_count=1, sg=1, hs=1, iter=10, workers=multiprocessing.cpu_count(), sample = 0.00001)"
   ]
  },
  {
   "cell_type": "code",
   "execution_count": 16,
   "metadata": {},
   "outputs": [
    {
     "name": "stdout",
     "output_type": "stream",
     "text": [
      "Word2Vec(vocab=11718, size=100, alpha=0.025)\n"
     ]
    }
   ],
   "source": [
    "print(model)"
   ]
  },
  {
   "cell_type": "code",
   "execution_count": 6,
   "metadata": {},
   "outputs": [],
   "source": [
    "words = list(model.wv.vocab)\n",
    "model.save(\"word2vec_no_stemming_no_punkt.model\")"
   ]
  },
  {
   "cell_type": "code",
   "execution_count": 17,
   "metadata": {},
   "outputs": [
    {
     "name": "stderr",
     "output_type": "stream",
     "text": [
      "C:\\ProgramData\\Anaconda3\\lib\\site-packages\\ipykernel_launcher.py:2: DeprecationWarning: Call to deprecated `__getitem__` (Method will be removed in 4.0.0, use self.wv.__getitem__() instead).\n",
      "  \n"
     ]
    },
    {
     "data": {
      "text/plain": [
       "{'pagamento': <gensim.models.keyedvectors.Vocab at 0x2eb2ab40388>,\n",
       " 'mulher': <gensim.models.keyedvectors.Vocab at 0x2eb2aacdc08>,\n",
       " 'desembargadora': <gensim.models.keyedvectors.Vocab at 0x2eb2c7ae288>,\n",
       " 'salário': <gensim.models.keyedvectors.Vocab at 0x2eb2bf98088>,\n",
       " 'dinheiro': <gensim.models.keyedvectors.Vocab at 0x2eb2bcbca08>,\n",
       " 'homem': <gensim.models.keyedvectors.Vocab at 0x2eb2aacdbc8>,\n",
       " 'desembargador': <gensim.models.keyedvectors.Vocab at 0x2eb2c7b9108>}"
      ]
     },
     "execution_count": 17,
     "metadata": {},
     "output_type": "execute_result"
    }
   ],
   "source": [
    "l = ['homem', 'mulher', 'desembargador', 'desembargadora', 'salário', 'pagamento', 'dinheiro']\n",
    "X = model[l]\n",
    "dic = {k:model.wv.vocab[k] for k in set(model.wv.vocab).intersection(l)}\n",
    "dic"
   ]
  },
  {
   "cell_type": "code",
   "execution_count": 18,
   "metadata": {},
   "outputs": [
    {
     "data": {
      "image/png": "[encoded data removed]",
      "text/plain": [
       "<Figure size 432x288 with 1 Axes>"
      ]
     },
     "metadata": {
      "needs_background": "light"
     },
     "output_type": "display_data"
    }
   ],
   "source": [
    "pca = PCA(n_components=2)\n",
    "result = pca.fit_transform(X)\n",
    "plt.scatter(result[:, 0], result[:, 1])\n",
    "for i, word in enumerate(l):\n",
    "    plt.annotate(word, xy=(result[i, 0], result[i, 1]))\n",
    "plt.show()"
   ]
  },
  {
   "cell_type": "code",
   "execution_count": 11,
   "metadata": {},
   "outputs": [
    {
     "data": {
      "text/plain": [
       "[('produza', 0.6077821254730225)]"
      ]
     },
     "execution_count": 11,
     "metadata": {},
     "output_type": "execute_result"
    }
   ],
   "source": [
    "model.wv.most_similar(positive=['homologo', 'desembargador'], negative=['julgo'], topn=1)"
   ]
  },
  {
   "cell_type": "code",
   "execution_count": 22,
   "metadata": {},
   "outputs": [
    {
     "data": {
      "text/plain": [
       "[('do', 0.7105323076248169),\n",
       " ('o', 0.6958673000335693),\n",
       " ('em', 0.6803529858589172),\n",
       " ('e', 0.6795469522476196),\n",
       " ('valor', 0.6783725023269653),\n",
       " ('a', 0.6712608337402344),\n",
       " ('da', 0.6472278833389282),\n",
       " ('ao', 0.6460527181625366),\n",
       " ('de', 0.6441711187362671),\n",
       " ('no', 0.6234778165817261),\n",
       " ('por', 0.6204211711883545),\n",
       " ('r', 0.6192500591278076),\n",
       " ('os', 0.6180649995803833),\n",
       " ('requerida', 0.6161926984786987),\n",
       " ('pela', 0.6148549914360046),\n",
       " ('com', 0.6134529709815979),\n",
       " ('à', 0.6064026951789856),\n",
       " ('parte', 0.6055783629417419),\n",
       " ('ré', 0.6014561653137207),\n",
       " ('sobre', 0.5948925018310547),\n",
       " ('nos', 0.5919431447982788),\n",
       " ('artigo', 0.5915354490280151),\n",
       " ('000', 0.5910266637802124),\n",
       " ('i', 0.5874074697494507),\n",
       " ('faço', 0.5865776538848877),\n",
       " ('na', 0.5833486318588257),\n",
       " ('exposto', 0.571839451789856),\n",
       " ('das', 0.5707154273986816),\n",
       " ('como', 0.5686972141265869),\n",
       " ('dos', 0.5641465187072754),\n",
       " ('dívida', 0.5638669729232788),\n",
       " ('autora', 0.5604689121246338),\n",
       " ('código', 0.5597323179244995),\n",
       " ('sucumbência', 0.5580480694770813),\n",
       " ('condenação', 0.5558298230171204),\n",
       " ('civil', 0.555615246295929),\n",
       " ('00', 0.5545979738235474),\n",
       " ('termos', 0.5496846437454224),\n",
       " ('conforme', 0.5490061640739441),\n",
       " ('diante', 0.547407865524292),\n",
       " ('mil', 0.5450217723846436),\n",
       " ('reais', 0.5440065264701843),\n",
       " ('seu', 0.5426844358444214),\n",
       " ('condeno', 0.539850115776062),\n",
       " ('contar', 0.5341693758964539),\n",
       " ('advocatícios', 0.5305399298667908),\n",
       " ('quais', 0.527587890625),\n",
       " ('causa', 0.5274662971496582),\n",
       " ('ser', 0.5270758867263794),\n",
       " ('ante', 0.5256408452987671),\n",
       " ('processuais', 0.5218610763549805),\n",
       " ('inciso', 0.5198309421539307),\n",
       " ('partir', 0.5193898677825928),\n",
       " ('qual', 0.5167865753173828),\n",
       " ('autos', 0.5112290978431702),\n",
       " ('declarar', 0.505933940410614),\n",
       " ('referente', 0.5054557919502258),\n",
       " ('honorários', 0.5039082169532776),\n",
       " ('execução', 0.5014694333076477),\n",
       " ('monetária', 0.5009486079216003),\n",
       " ('se', 0.5004441738128662),\n",
       " ('pagar', 0.5003207325935364),\n",
       " ('valores', 0.4994676113128662),\n",
       " ('pelo', 0.4986186921596527),\n",
       " ('custas', 0.49466925859451294),\n",
       " ('procedente', 0.4944589138031006),\n",
       " ('julgo', 0.49112850427627563),\n",
       " ('que', 0.4908035695552826),\n",
       " ('bem', 0.488004207611084),\n",
       " ('condenar', 0.48464256525039673),\n",
       " ('executada', 0.48358139395713806),\n",
       " ('não', 0.4813299775123596),\n",
       " ('presente', 0.4800108075141907),\n",
       " ('noventa', 0.4791501760482788),\n",
       " ('sem', 0.47900089621543884),\n",
       " ('mês', 0.4788340628147125),\n",
       " ('cpc', 0.4764176607131958),\n",
       " ('correspondente', 0.4739508628845215),\n",
       " ('mostrou-se', 0.47281038761138916),\n",
       " ('cada', 0.4726942777633667),\n",
       " ('corrigido', 0.4726704955101013),\n",
       " ('face', 0.47118693590164185),\n",
       " ('para', 0.4706783890724182),\n",
       " ('dias', 0.47059303522109985),\n",
       " ('0', 0.4675271511077881),\n",
       " ('vencidas', 0.4675050973892212),\n",
       " ('art', 0.4662382900714874),\n",
       " ('município', 0.4656945466995239),\n",
       " ('despesas', 0.46553030610084534),\n",
       " ('relação', 0.46391892433166504),\n",
       " ('proveito', 0.4638672471046448),\n",
       " ('processo', 0.46289217472076416),\n",
       " ('tabela', 0.459356427192688),\n",
       " ('paga', 0.4592902958393097),\n",
       " ('vi', 0.45797044038772583),\n",
       " ('decaimento', 0.4563335180282593),\n",
       " ('obrigação', 0.4535966217517853),\n",
       " ('0000', 0.4531281590461731),\n",
       " ('princípio', 0.4522301256656647),\n",
       " ('movida', 0.45175403356552124)]"
      ]
     },
     "execution_count": 22,
     "metadata": {},
     "output_type": "execute_result"
    }
   ],
   "source": [
    "model.wv.similar_by_word('pagamento', topn=100, restrict_vocab=None)"
   ]
  },
  {
   "cell_type": "code",
   "execution_count": null,
   "metadata": {},
   "outputs": [],
   "source": []
  }
 ],
 "metadata": {
  "kernelspec": {
   "display_name": "Python 3",
   "language": "python",
   "name": "python3"
  },
  "language_info": {
   "codemirror_mode": {
    "name": "ipython",
    "version": 3
   },
   "file_extension": ".py",
   "mimetype": "text/x-python",
   "name": "python",
   "nbconvert_exporter": "python",
   "pygments_lexer": "ipython3",
   "version": "3.7.4"
  }
 },
 "nbformat": 4,
 "nbformat_minor": 2
}
