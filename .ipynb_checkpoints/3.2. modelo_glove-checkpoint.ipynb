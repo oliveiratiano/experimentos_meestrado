{
 "cells": [
  {
   "cell_type": "code",
   "execution_count": 6,
   "metadata": {},
   "outputs": [],
   "source": [
    "from gensim.models import FastText\n",
    "import multiprocessing\n",
    "import pandas as pd\n",
    "import numpy as np\n",
    "from sklearn.decomposition import PCA\n",
    "import matplotlib.pyplot as plt\n",
    "from os import listdir\n",
    "from tqdm.auto import tqdm\n",
    "tqdm.pandas()"
   ]
  },
  {
   "cell_type": "code",
   "execution_count": 11,
   "metadata": {},
   "outputs": [],
   "source": [
    "corpus = \"dados/corpus_tratado/single/corpus_tratado.txt\"\n",
    "model = FastText(size=100, window=5,                 \n",
    "                 min_count=1, sg=1, hs=1, iter=10, workers=multiprocessing.cpu_count())\n",
    "model.build_vocab(corpus_file=corpus)\n",
    "total_words = model.corpus_total_words\n",
    "model.train(corpus_file=corpus, total_words=total_words, epochs=5)"
   ]
  },
  {
   "cell_type": "code",
   "execution_count": 12,
   "metadata": {
    "scrolled": true
   },
   "outputs": [
    {
     "name": "stdout",
     "output_type": "stream",
     "text": [
      "FastText(vocab=99810, size=100, alpha=0.025)\n"
     ]
    }
   ],
   "source": [
    "print(model)"
   ]
  },
  {
   "cell_type": "code",
   "execution_count": 13,
   "metadata": {},
   "outputs": [],
   "source": [
    "words = list(model.wv.vocab)\n",
    "model.save(\"modelos/ftt_jur.model\")"
   ]
  },
  {
   "cell_type": "code",
   "execution_count": 14,
   "metadata": {},
   "outputs": [
    {
     "name": "stderr",
     "output_type": "stream",
     "text": [
      "C:\\ProgramData\\Anaconda3\\lib\\site-packages\\ipykernel_launcher.py:2: DeprecationWarning: Call to deprecated `__getitem__` (Method will be removed in 4.0.0, use self.wv.__getitem__() instead).\n",
      "  \n"
     ]
    },
    {
     "data": {
      "text/plain": [
       "{'desembargadora': <gensim.models.keyedvectors.Vocab at 0x24ff8dc7cc8>,\n",
       " 'dinheiro': <gensim.models.keyedvectors.Vocab at 0x24ff84e64c8>,\n",
       " 'salário': <gensim.models.keyedvectors.Vocab at 0x24ff849ee08>,\n",
       " 'homem': <gensim.models.keyedvectors.Vocab at 0x24ff8588ac8>,\n",
       " 'pagamento': <gensim.models.keyedvectors.Vocab at 0x24ff8458e48>,\n",
       " 'mulher': <gensim.models.keyedvectors.Vocab at 0x24ff8588b08>,\n",
       " 'desembargador': <gensim.models.keyedvectors.Vocab at 0x24ff851eb08>}"
      ]
     },
     "execution_count": 14,
     "metadata": {},
     "output_type": "execute_result"
    }
   ],
   "source": [
    "l = ['homem', 'mulher', 'desembargador', 'desembargadora', 'salário', 'pagamento', 'dinheiro']\n",
    "X = model[l]\n",
    "dic = {k:model.wv.vocab[k] for k in set(model.wv.vocab).intersection(l)}\n",
    "dic"
   ]
  },
  {
   "cell_type": "code",
   "execution_count": 15,
   "metadata": {},
   "outputs": [
    {
     "data": {
      "image/png": "[encoded data removed]",
      "text/plain": [
       "<Figure size 432x288 with 1 Axes>"
      ]
     },
     "metadata": {
      "needs_background": "light"
     },
     "output_type": "display_data"
    }
   ],
   "source": [
    "pca = PCA(n_components=2)\n",
    "result = pca.fit_transform(X)\n",
    "plt.scatter(result[:, 0], result[:, 1])\n",
    "for i, word in enumerate(l):\n",
    "    plt.annotate(word, xy=(result[i, 0], result[i, 1]))\n",
    "plt.show()"
   ]
  },
  {
   "cell_type": "code",
   "execution_count": 16,
   "metadata": {
    "scrolled": true
   },
   "outputs": [
    {
     "data": {
      "text/plain": [
       "[('tbanco', 0.8860689401626587),\n",
       " ('bicbanco', 0.8005344867706299),\n",
       " ('brasil', 0.7896093130111694),\n",
       " ('tribanco', 0.7561020255088806),\n",
       " ('santander', 0.7535784244537354),\n",
       " ('debanco', 0.7445893287658691),\n",
       " ('banc', 0.7335347533226013),\n",
       " ('bndes-banco', 0.732943594455719),\n",
       " ('hsbc', 0.7303286790847778),\n",
       " ('itaú', 0.7269953489303589),\n",
       " ('bank', 0.7266700267791748),\n",
       " ('andbank', 0.7245835065841675),\n",
       " ('citibank', 0.7068968415260315),\n",
       " ('bancoob', 0.7066442966461182),\n",
       " ('brasil-bacen', 0.6941511034965515),\n",
       " ('bmg', 0.6861335039138794),\n",
       " ('daycoval', 0.6836869716644287),\n",
       " ('cetelém', 0.6802658438682556),\n",
       " ('asbrasil', 0.6779168844223022),\n",
       " ('pan', 0.6772714853286743),\n",
       " ('bancorbrás', 0.6695022583007812),\n",
       " ('unibanco', 0.6684654951095581),\n",
       " ('itauleasing', 0.6582689881324768),\n",
       " ('agibank', 0.6574978828430176),\n",
       " ('bradescard', 0.6568219065666199),\n",
       " ('cetelem', 0.6560626029968262),\n",
       " ('bradesco', 0.6556691527366638),\n",
       " ('itaúcard', 0.6511232852935791),\n",
       " ('s⁄a', 0.6401373147964478),\n",
       " ('bradescar', 0.6370031833648682),\n",
       " ('sobrasil', 0.6331468820571899),\n",
       " ('sa', 0.6322546005249023),\n",
       " ('cartões', 0.6311302185058594),\n",
       " ('bradesco-s', 0.627460241317749),\n",
       " ('correntista', 0.62648606300354),\n",
       " ('ccb', 0.6263400316238403),\n",
       " ('brasils', 0.6241451501846313),\n",
       " ('agiplan', 0.6238670349121094),\n",
       " ('banco-réu', 0.6232666969299316),\n",
       " ('bancrédito', 0.621168851852417),\n",
       " ('leilaobrasil', 0.6191400289535522),\n",
       " ('libofio', 0.6182820200920105),\n",
       " ('bmc', 0.6143040657043457),\n",
       " ('brasdesco', 0.6135157346725464),\n",
       " ('itaucard', 0.6130467653274536),\n",
       " ('banco-ré', 0.6116653680801392),\n",
       " ('serikyaku', 0.6113888025283813),\n",
       " ('dmcard', 0.611366868019104),\n",
       " ('csf', 0.6100126504898071),\n",
       " ('brasilcap', 0.6055909395217896),\n",
       " ('brasilseg', 0.6052167415618896),\n",
       " ('gmca', 0.6051793098449707),\n",
       " ('itauleasin', 0.6044964790344238),\n",
       " ('ibicard', 0.604212760925293),\n",
       " ('brasilwagem', 0.5994899272918701),\n",
       " ('losango', 0.5990254878997803),\n",
       " ('pefisa', 0.5980302095413208),\n",
       " ('crefisul', 0.5977133512496948),\n",
       " ('mobibrasil', 0.5962245464324951),\n",
       " ('brasilprev', 0.5957932472229004),\n",
       " ('finasa', 0.5929832458496094),\n",
       " ('central', 0.5924254059791565),\n",
       " ('credito', 0.5905563831329346),\n",
       " ('sacado', 0.5897619724273682),\n",
       " ('panamericano', 0.5893872976303101),\n",
       " ('bmf', 0.589148759841919),\n",
       " ('itáu', 0.5888141393661499),\n",
       " ('itau', 0.588443398475647),\n",
       " ('sofisa', 0.587441086769104),\n",
       " ('sisbacen', 0.5870741605758667),\n",
       " ('bmd', 0.5850163698196411),\n",
       " ('apelado', 0.5818194150924683),\n",
       " ('pan-americano', 0.5816071033477783),\n",
       " ('divulgada', 0.5808250904083252),\n",
       " ('banco-executado', 0.5796298384666443),\n",
       " ('multiplo', 0.5794476270675659),\n",
       " ('crefisa', 0.5790722966194153),\n",
       " ('gmac', 0.578630805015564),\n",
       " ('bonsucesso', 0.5785131454467773),\n",
       " ('cobranded', 0.5784186720848083),\n",
       " ('finance', 0.5781068801879883),\n",
       " ('stander', 0.5771277546882629),\n",
       " ('bgm', 0.5771170854568481),\n",
       " ('banking', 0.5739148855209351),\n",
       " ('financiamentos', 0.5737483501434326),\n",
       " ('card', 0.572147786617279),\n",
       " ('financiaments', 0.5717130303382874),\n",
       " ('correquerido', 0.5685182213783264),\n",
       " ('orasil', 0.5682550668716431),\n",
       " ('abn', 0.5672469735145569),\n",
       " ('bancária', 0.5667232275009155),\n",
       " ('bradescos', 0.5663378834724426),\n",
       " ('bankline', 0.5662180781364441),\n",
       " ('carrefour', 0.5660810470581055),\n",
       " ('crédito', 0.5648146867752075),\n",
       " ('libancell', 0.564231276512146),\n",
       " ('brasilpark', 0.5637179017066956),\n",
       " ('banespa', 0.5632531642913818),\n",
       " ('bancári', 0.5617461800575256),\n",
       " ('creditou', 0.561338484287262)]"
      ]
     },
     "execution_count": 16,
     "metadata": {},
     "output_type": "execute_result"
    }
   ],
   "source": [
    "model.wv.similar_by_word('banco', topn=100)"
   ]
  },
  {
   "cell_type": "code",
   "execution_count": null,
   "metadata": {},
   "outputs": [],
   "source": [
    "model.wv.similar_by_vector((model['inquérito'] + model['administrativo'])/2, topn=100)"
   ]
  },
  {
   "cell_type": "code",
   "execution_count": null,
   "metadata": {},
   "outputs": [],
   "source": [
    "stopwords.words('portuguese')"
   ]
  },
  {
   "cell_type": "code",
   "execution_count": 42,
   "metadata": {},
   "outputs": [
    {
     "name": "stderr",
     "output_type": "stream",
     "text": [
      "C:\\ProgramData\\Anaconda3\\lib\\site-packages\\ipykernel_launcher.py:1: DeprecationWarning: Call to deprecated `__getitem__` (Method will be removed in 4.0.0, use self.wv.__getitem__() instead).\n",
      "  \"\"\"Entry point for launching an IPython kernel.\n"
     ]
    },
    {
     "data": {
      "text/plain": [
       "array([-0.22440654,  0.02982402, -0.11136705, -0.06795362, -0.06224841,\n",
       "       -0.37790564,  0.12705891, -0.21431443, -0.16176209,  0.12632868,\n",
       "        0.02940534,  0.40972397, -0.18543856, -0.12650499,  0.301375  ,\n",
       "        0.07625581, -0.12886643,  0.24217989, -0.18078662, -0.0371567 ,\n",
       "        0.24038248,  0.04001826,  0.18705499, -0.07399853,  0.3324826 ,\n",
       "       -0.14357741, -0.05287638,  0.42629462, -0.38504136,  0.01041055,\n",
       "       -0.03255651, -0.12201974,  0.41604468, -0.00956087,  0.27033526,\n",
       "       -0.04832914, -0.04318316, -0.1495626 , -0.53328645, -0.07166006,\n",
       "       -0.07311621, -0.02621359, -0.20827189,  0.134988  , -0.30662256,\n",
       "       -0.01503565, -0.09069635,  0.21374694,  0.15086295,  0.6915364 ,\n",
       "       -0.06190272,  0.20597172, -0.27286518, -0.15512179,  0.05176589,\n",
       "       -0.09029895,  0.15876578, -0.1642959 , -0.24876095,  0.16428964,\n",
       "       -0.046267  ,  0.22962663, -0.3111919 , -0.01826023, -0.27253157,\n",
       "        0.11262142, -0.3207784 , -0.5082788 , -0.18593879,  0.22434264,\n",
       "        0.10162587,  0.30065522,  0.079743  , -0.04731196,  0.25087595,\n",
       "        0.39535496,  0.36110938, -0.30386737, -0.01409589,  0.24033175,\n",
       "       -0.01900991,  0.05854103,  0.11569137,  0.10848206,  0.17523086,\n",
       "       -0.01246752,  0.01656428,  0.00189905,  0.3099192 , -0.00242815,\n",
       "       -0.39168033, -0.3412264 ,  0.35711214, -0.12865368, -0.09368017,\n",
       "        0.20023331, -0.20629722,  0.10209727, -0.12687497,  0.1841676 ],\n",
       "      dtype=float32)"
      ]
     },
     "execution_count": 42,
     "metadata": {},
     "output_type": "execute_result"
    }
   ],
   "source": [
    "(model['juiz'] + model['administrativa'])/2"
   ]
  },
  {
   "cell_type": "code",
   "execution_count": null,
   "metadata": {},
   "outputs": [],
   "source": []
  }
 ],
 "metadata": {
  "kernelspec": {
   "display_name": "Python 3",
   "language": "python",
   "name": "python3"
  },
  "language_info": {
   "codemirror_mode": {
    "name": "ipython",
    "version": 3
   },
   "file_extension": ".py",
   "mimetype": "text/x-python",
   "name": "python",
   "nbconvert_exporter": "python",
   "pygments_lexer": "ipython3",
   "version": "3.7.4"
  }
 },
 "nbformat": 4,
 "nbformat_minor": 2
}
