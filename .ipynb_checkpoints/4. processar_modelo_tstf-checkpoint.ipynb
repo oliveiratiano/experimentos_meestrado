{
 "cells": [
  {
   "cell_type": "code",
   "execution_count": 14,
   "metadata": {},
   "outputs": [
    {
     "name": "stdout",
     "output_type": "stream",
     "text": [
      "The autoreload extension is already loaded. To reload it, use:\n",
      "  %reload_ext autoreload\n"
     ]
    }
   ],
   "source": [
    "%load_ext autoreload\n",
    "%autoreload 2\n",
    "from src import quali\n",
    "from gensim.models import Word2Vec\n",
    "from gensim.models import FastText\n",
    "from gensim.test.utils import datapath, get_tmpfile\n",
    "from gensim.models import KeyedVectors\n",
    "from gensim.scripts.glove2word2vec import glove2word2vec\n",
    "from gensim.models import KeyedVectors\n",
    "from matplotlib import pyplot as plt\n",
    "import seaborn as sns\n",
    "import pandas as pd\n",
    "import numpy as np\n",
    "\n",
    "import statistics"
   ]
  },
  {
   "cell_type": "markdown",
   "metadata": {},
   "source": [
    "### Captura do vocabulário dos modelos jurídicos"
   ]
  },
  {
   "cell_type": "code",
   "execution_count": 3,
   "metadata": {},
   "outputs": [
    {
     "data": {
      "text/plain": [
       "<gensim.models.word2vec.Word2Vec at 0x186f12c0488>"
      ]
     },
     "metadata": {},
     "output_type": "display_data"
    },
    {
     "data": {
      "text/plain": [
       "(15795, 8)"
      ]
     },
     "metadata": {},
     "output_type": "display_data"
    },
    {
     "data": {
      "text/plain": [
       "39717"
      ]
     },
     "metadata": {},
     "output_type": "display_data"
    }
   ],
   "source": [
    "w2v_jur = Word2Vec.load(\"modelos/w2v_jur.model\")\n",
    "tesauro = pd.read_csv(\"tesauro_stf.csv\")\n",
    "display(w2v_jur)\n",
    "display(tesauro.shape)\n",
    "restricted_word_set = set([c for c, v in w2v_jur.wv.vocab.items()])\n",
    "display(len(w2v_jur.wv.vocab))"
   ]
  },
  {
   "cell_type": "markdown",
   "metadata": {},
   "source": [
    "### W2V SKIPGRAM 100 NILC"
   ]
  },
  {
   "cell_type": "code",
   "execution_count": 4,
   "metadata": {},
   "outputs": [
    {
     "data": {
      "text/plain": [
       "<gensim.models.keyedvectors.Word2VecKeyedVectors at 0x186f234f688>"
      ]
     },
     "metadata": {},
     "output_type": "display_data"
    },
    {
     "data": {
      "text/plain": [
       "(15795, 8)"
      ]
     },
     "metadata": {},
     "output_type": "display_data"
    },
    {
     "name": "stderr",
     "output_type": "stream",
     "text": [
      "C:\\ProgramData\\Anaconda3\\lib\\site-packages\\ipykernel_launcher.py:10: DeprecationWarning: Call to deprecated `wv` (Attribute will be removed in 4.0.0, use self instead).\n",
      "  # Remove the CWD from sys.path while we load stuff.\n"
     ]
    },
    {
     "data": {
      "text/plain": [
       "37163"
      ]
     },
     "metadata": {},
     "output_type": "display_data"
    },
    {
     "data": {
      "text/plain": [
       "'Rank TSTF Word2Vec SKIP NILC:'"
      ]
     },
     "metadata": {},
     "output_type": "display_data"
    },
    {
     "data": {
      "text/plain": [
       "'rank médio use: 1305.171717171717 - rank mediano use: 33 - desvio padrão use: 3986.4232882971214 - total: 99'"
      ]
     },
     "metadata": {},
     "output_type": "display_data"
    },
    {
     "data": {
      "text/plain": [
       "'rank médio up: 1294.5757575757575 - rank mediano up: 48 - desvio padrão up: 4224.5999474673345 - total: 99'"
      ]
     },
     "metadata": {},
     "output_type": "display_data"
    },
    {
     "data": {
      "text/plain": [
       "'rank médio te: 2361.5774647887324 - rank mediano te: 145 - desvio padrão te: 4874.782227112369 - total: 71'"
      ]
     },
     "metadata": {},
     "output_type": "display_data"
    },
    {
     "data": {
      "text/plain": [
       "'rank médio tr: 3025.607881773399 - rank mediano tr: 520.0 - desvio padrão tr: 5719.181354627059 - total: 2030'"
      ]
     },
     "metadata": {},
     "output_type": "display_data"
    },
    {
     "data": {
      "text/plain": [
       "'rank médio tg: 2458.450704225352 - rank mediano tg: 153 - desvio padrão tg: 4731.069165749603 - total: 71'"
      ]
     },
     "metadata": {},
     "output_type": "display_data"
    },
    {
     "data": {
      "text/plain": [
       "'rank médio podenrado Word2Vec SKIP NILC: 2844.548945147679'"
      ]
     },
     "metadata": {},
     "output_type": "display_data"
    }
   ],
   "source": [
    "model = KeyedVectors.load_word2vec_format('modelos/w2v_skip_nilc.txt')\n",
    "tesauro = pd.read_csv(\"tesauro_stf.csv\")\n",
    "display(model)\n",
    "display(tesauro.shape)\n",
    "\n",
    "#removendo os vetores que não estão no vocabulário dos modelos juridicos\n",
    "model.init_sims()\n",
    "quali.restrict_w2v(model, restricted_word_set)\n",
    "\n",
    "display(len(model.wv.vocab))\n",
    "dfs_w2v_nilc = quali.calcular_desempenho(tesauro, model, 'Word2Vec SKIP NILC')"
   ]
  },
  {
   "cell_type": "markdown",
   "metadata": {},
   "source": [
    "### FTT SKIPGRAM 100 NILC"
   ]
  },
  {
   "cell_type": "code",
   "execution_count": 5,
   "metadata": {
    "scrolled": false
   },
   "outputs": [
    {
     "data": {
      "text/plain": [
       "<gensim.models.keyedvectors.Word2VecKeyedVectors at 0x1869d533208>"
      ]
     },
     "metadata": {},
     "output_type": "display_data"
    },
    {
     "data": {
      "text/plain": [
       "(15795, 8)"
      ]
     },
     "metadata": {},
     "output_type": "display_data"
    },
    {
     "name": "stderr",
     "output_type": "stream",
     "text": [
      "C:\\ProgramData\\Anaconda3\\lib\\site-packages\\ipykernel_launcher.py:11: DeprecationWarning: Call to deprecated `wv` (Attribute will be removed in 4.0.0, use self instead).\n",
      "  # This is added back by InteractiveShellApp.init_path()\n"
     ]
    },
    {
     "data": {
      "text/plain": [
       "37163"
      ]
     },
     "metadata": {},
     "output_type": "display_data"
    },
    {
     "data": {
      "text/plain": [
       "'Rank TSTF FastText SKIPGRAM NILC:'"
      ]
     },
     "metadata": {},
     "output_type": "display_data"
    },
    {
     "data": {
      "text/plain": [
       "'rank médio use: 1200.111111111111 - rank mediano use: 15 - desvio padrão use: 4196.176519819862 - total: 99'"
      ]
     },
     "metadata": {},
     "output_type": "display_data"
    },
    {
     "data": {
      "text/plain": [
       "'rank médio up: 960.1818181818181 - rank mediano up: 23 - desvio padrão up: 3575.766249732674 - total: 99'"
      ]
     },
     "metadata": {},
     "output_type": "display_data"
    },
    {
     "data": {
      "text/plain": [
       "'rank médio te: 2731.3661971830984 - rank mediano te: 123 - desvio padrão te: 5941.5280363590855 - total: 71'"
      ]
     },
     "metadata": {},
     "output_type": "display_data"
    },
    {
     "data": {
      "text/plain": [
       "'rank médio tr: 2239.8556650246305 - rank mediano tr: 202.0 - desvio padrão tr: 4745.637704630701 - total: 2030'"
      ]
     },
     "metadata": {},
     "output_type": "display_data"
    },
    {
     "data": {
      "text/plain": [
       "'rank médio tg: 1958.7323943661972 - rank mediano tg: 68 - desvio padrão tg: 3931.718838798647 - total: 71'"
      ]
     },
     "metadata": {},
     "output_type": "display_data"
    },
    {
     "data": {
      "text/plain": [
       "'rank médio podenrado FastText SKIPGRAM NILC: 2149.271308016878'"
      ]
     },
     "metadata": {},
     "output_type": "display_data"
    }
   ],
   "source": [
    "model = KeyedVectors.load_word2vec_format('modelos/ftt_skip_nilc.txt')\n",
    "tesauro = pd.read_csv(\"tesauro_stf.csv\")\n",
    "display(model)\n",
    "display(tesauro.shape)\n",
    "\n",
    "#removendo os vetores que não estão no vocabulário dos modelos juridicos\n",
    "restricted_word_set = set([c for c, v in w2v_jur.wv.vocab.items()])\n",
    "model.init_sims()\n",
    "quali.restrict_w2v(model, restricted_word_set)\n",
    "\n",
    "display(len(model.wv.vocab))\n",
    "dfs_ftt_nilc = quali.calcular_desempenho(tesauro, model, 'FastText SKIPGRAM NILC')"
   ]
  },
  {
   "cell_type": "markdown",
   "metadata": {},
   "source": [
    "### GloVe 100 NILC"
   ]
  },
  {
   "cell_type": "code",
   "execution_count": 6,
   "metadata": {},
   "outputs": [
    {
     "data": {
      "text/plain": [
       "<gensim.models.keyedvectors.Word2VecKeyedVectors at 0x186a964c048>"
      ]
     },
     "metadata": {},
     "output_type": "display_data"
    },
    {
     "data": {
      "text/plain": [
       "(15795, 8)"
      ]
     },
     "metadata": {},
     "output_type": "display_data"
    },
    {
     "name": "stderr",
     "output_type": "stream",
     "text": [
      "C:\\ProgramData\\Anaconda3\\lib\\site-packages\\ipykernel_launcher.py:11: DeprecationWarning: Call to deprecated `wv` (Attribute will be removed in 4.0.0, use self instead).\n",
      "  # This is added back by InteractiveShellApp.init_path()\n"
     ]
    },
    {
     "data": {
      "text/plain": [
       "37163"
      ]
     },
     "metadata": {},
     "output_type": "display_data"
    },
    {
     "data": {
      "text/plain": [
       "'Rank TSTF GloVe NILC:'"
      ]
     },
     "metadata": {},
     "output_type": "display_data"
    },
    {
     "data": {
      "text/plain": [
       "'rank médio use: 2092.2727272727275 - rank mediano use: 15 - desvio padrão use: 5130.7896452733785 - total: 99'"
      ]
     },
     "metadata": {},
     "output_type": "display_data"
    },
    {
     "data": {
      "text/plain": [
       "'rank médio up: 2467.6969696969695 - rank mediano up: 53 - desvio padrão up: 5662.120323721216 - total: 99'"
      ]
     },
     "metadata": {},
     "output_type": "display_data"
    },
    {
     "data": {
      "text/plain": [
       "'rank médio te: 2609.2957746478874 - rank mediano te: 351 - desvio padrão te: 4726.101946770467 - total: 71'"
      ]
     },
     "metadata": {},
     "output_type": "display_data"
    },
    {
     "data": {
      "text/plain": [
       "'rank médio tr: 3130.285714285714 - rank mediano tr: 353.0 - desvio padrão tr: 6192.1857075279495 - total: 2030'"
      ]
     },
     "metadata": {},
     "output_type": "display_data"
    },
    {
     "data": {
      "text/plain": [
       "'rank médio tg: 2213.9718309859154 - rank mediano tg: 185 - desvio padrão tg: 4558.3224168917695 - total: 71'"
      ]
     },
     "metadata": {},
     "output_type": "display_data"
    },
    {
     "data": {
      "text/plain": [
       "'rank médio podenrado GloVe NILC: 3016.1894514767932'"
      ]
     },
     "metadata": {},
     "output_type": "display_data"
    }
   ],
   "source": [
    "model = KeyedVectors.load_word2vec_format('modelos/glove_nilc.txt')\n",
    "tesauro = pd.read_csv(\"tesauro_stf.csv\")\n",
    "display(model)\n",
    "display(tesauro.shape)\n",
    "\n",
    "#removendo os vetores que não estão no vocabulário dos modelos juridicos\n",
    "restricted_word_set = set([c for c, v in w2v_jur.wv.vocab.items()])\n",
    "model.init_sims()\n",
    "quali.restrict_w2v(model, restricted_word_set)\n",
    "\n",
    "display(len(model.wv.vocab))\n",
    "dfs_glv_nilc = quali.calcular_desempenho(tesauro, model, 'GloVe NILC')"
   ]
  },
  {
   "cell_type": "markdown",
   "metadata": {},
   "source": [
    "## Agora com equivalência no número de termos"
   ]
  },
  {
   "cell_type": "markdown",
   "metadata": {},
   "source": [
    "#### Word2Vec_jur com vocabulário equivalente"
   ]
  },
  {
   "cell_type": "code",
   "execution_count": 7,
   "metadata": {},
   "outputs": [
    {
     "data": {
      "text/plain": [
       "<gensim.models.word2vec.Word2Vec at 0x186a28691c8>"
      ]
     },
     "metadata": {},
     "output_type": "display_data"
    },
    {
     "data": {
      "text/plain": [
       "(15795, 8)"
      ]
     },
     "metadata": {},
     "output_type": "display_data"
    },
    {
     "name": "stderr",
     "output_type": "stream",
     "text": [
      "C:\\ProgramData\\Anaconda3\\lib\\site-packages\\ipykernel_launcher.py:10: DeprecationWarning: Call to deprecated `wv` (Attribute will be removed in 4.0.0, use self instead).\n",
      "  # Remove the CWD from sys.path while we load stuff.\n",
      "C:\\ProgramData\\Anaconda3\\lib\\site-packages\\ipykernel_launcher.py:13: DeprecationWarning: Call to deprecated `wv` (Attribute will be removed in 4.0.0, use self instead).\n",
      "  del sys.path[0]\n"
     ]
    },
    {
     "data": {
      "text/plain": [
       "37163"
      ]
     },
     "metadata": {},
     "output_type": "display_data"
    },
    {
     "data": {
      "text/plain": [
       "'Rank TSTF Word2Vec Jur:'"
      ]
     },
     "metadata": {},
     "output_type": "display_data"
    },
    {
     "data": {
      "text/plain": [
       "'rank médio use: 3179.373737373737 - rank mediano use: 118 - desvio padrão use: 7056.138126259594 - total: 99'"
      ]
     },
     "metadata": {},
     "output_type": "display_data"
    },
    {
     "data": {
      "text/plain": [
       "'rank médio up: 3198.191919191919 - rank mediano up: 122 - desvio padrão up: 6826.777707744294 - total: 99'"
      ]
     },
     "metadata": {},
     "output_type": "display_data"
    },
    {
     "data": {
      "text/plain": [
       "'rank médio te: 3398.3802816901407 - rank mediano te: 170 - desvio padrão te: 8192.293417537863 - total: 71'"
      ]
     },
     "metadata": {},
     "output_type": "display_data"
    },
    {
     "data": {
      "text/plain": [
       "'rank médio tr: 4057.214778325123 - rank mediano tr: 438.0 - desvio padrão tr: 7387.052818726279 - total: 2030'"
      ]
     },
     "metadata": {},
     "output_type": "display_data"
    },
    {
     "data": {
      "text/plain": [
       "'rank médio tg: 3495.0 - rank mediano tg: 281 - desvio padrão tg: 7771.814073946957 - total: 71'"
      ]
     },
     "metadata": {},
     "output_type": "display_data"
    },
    {
     "data": {
      "text/plain": [
       "'rank médio podenrado Word2Vec Jur: 3948.0822784810125'"
      ]
     },
     "metadata": {},
     "output_type": "display_data"
    }
   ],
   "source": [
    "w2v_jur = Word2Vec.load(\"modelos/w2v_jur.model\")\n",
    "tesauro = pd.read_csv(\"tesauro_stf.csv\")\n",
    "display(w2v_jur)\n",
    "display(tesauro.shape)\n",
    "\n",
    "w2v_jur.wv.save_word2vec_format(\"modelos/w2v_jur_fmt.model\")\n",
    "w2v_jur = KeyedVectors.load_word2vec_format(\"modelos/w2v_jur_fmt.model\")\n",
    "\n",
    "w2v_jur.init_sims()\n",
    "restricted_word_set = set([c for c, v in model.wv.vocab.items()])\n",
    "quali.restrict_w2v(w2v_jur, restricted_word_set)\n",
    "\n",
    "display(len(w2v_jur.wv.vocab))\n",
    "dfs_w2v_jur = quali.calcular_desempenho(tesauro, w2v_jur, 'Word2Vec Jur')"
   ]
  },
  {
   "cell_type": "markdown",
   "metadata": {},
   "source": [
    "#### FastText_Jur com vocabulário equivalente"
   ]
  },
  {
   "cell_type": "code",
   "execution_count": 8,
   "metadata": {
    "scrolled": false
   },
   "outputs": [
    {
     "data": {
      "text/plain": [
       "<gensim.models.fasttext.FastText at 0x1869d56f1c8>"
      ]
     },
     "metadata": {},
     "output_type": "display_data"
    },
    {
     "data": {
      "text/plain": [
       "(15795, 8)"
      ]
     },
     "metadata": {},
     "output_type": "display_data"
    },
    {
     "name": "stderr",
     "output_type": "stream",
     "text": [
      "C:\\ProgramData\\Anaconda3\\lib\\site-packages\\ipykernel_launcher.py:10: DeprecationWarning: Call to deprecated `wv` (Attribute will be removed in 4.0.0, use self instead).\n",
      "  # Remove the CWD from sys.path while we load stuff.\n",
      "C:\\ProgramData\\Anaconda3\\lib\\site-packages\\ipykernel_launcher.py:13: DeprecationWarning: Call to deprecated `wv` (Attribute will be removed in 4.0.0, use self instead).\n",
      "  del sys.path[0]\n"
     ]
    },
    {
     "data": {
      "text/plain": [
       "37163"
      ]
     },
     "metadata": {},
     "output_type": "display_data"
    },
    {
     "data": {
      "text/plain": [
       "'Rank TSTF FastText Jur:'"
      ]
     },
     "metadata": {},
     "output_type": "display_data"
    },
    {
     "data": {
      "text/plain": [
       "'rank médio use: 2174.89898989899 - rank mediano use: 29 - desvio padrão use: 5526.072088236519 - total: 99'"
      ]
     },
     "metadata": {},
     "output_type": "display_data"
    },
    {
     "data": {
      "text/plain": [
       "'rank médio up: 1770.5656565656566 - rank mediano up: 27 - desvio padrão up: 4452.715248579337 - total: 99'"
      ]
     },
     "metadata": {},
     "output_type": "display_data"
    },
    {
     "data": {
      "text/plain": [
       "'rank médio te: 2408.8028169014083 - rank mediano te: 309 - desvio padrão te: 5249.03066866287 - total: 71'"
      ]
     },
     "metadata": {},
     "output_type": "display_data"
    },
    {
     "data": {
      "text/plain": [
       "'rank médio tr: 3983.981280788177 - rank mediano tr: 519.5 - desvio padrão tr: 7149.2906075271985 - total: 2030'"
      ]
     },
     "metadata": {},
     "output_type": "display_data"
    },
    {
     "data": {
      "text/plain": [
       "'rank médio tg: 2908.6901408450703 - rank mediano tg: 539 - desvio padrão tg: 5609.015461333017 - total: 71'"
      ]
     },
     "metadata": {},
     "output_type": "display_data"
    },
    {
     "data": {
      "text/plain": [
       "'rank médio podenrado FastText Jur: 3736.5506329113923'"
      ]
     },
     "metadata": {},
     "output_type": "display_data"
    }
   ],
   "source": [
    "ftt_jur = KeyedVectors.load(\"modelos/ftt_jur.model\")\n",
    "tesauro = pd.read_csv(\"tesauro_stf.csv\")\n",
    "display(ftt_jur)\n",
    "display(tesauro.shape)\n",
    "\n",
    "ftt_jur.wv.save_word2vec_format(\"modelos/ftt_jur_fmt.model\")\n",
    "ftt_jur = KeyedVectors.load_word2vec_format(\"modelos/ftt_jur_fmt.model\")\n",
    "\n",
    "ftt_jur.init_sims()\n",
    "restricted_word_set = set([c for c, v in model.wv.vocab.items()])\n",
    "quali.restrict_w2v(ftt_jur, restricted_word_set)\n",
    "\n",
    "display(len(ftt_jur.wv.vocab))\n",
    "dfs_ftt_jur = quali.calcular_desempenho(tesauro, ftt_jur, 'FastText Jur')"
   ]
  },
  {
   "cell_type": "markdown",
   "metadata": {},
   "source": [
    "#### GLoVe_Jur com vocabulário equivalente"
   ]
  },
  {
   "cell_type": "code",
   "execution_count": 9,
   "metadata": {},
   "outputs": [
    {
     "data": {
      "text/plain": [
       "<gensim.models.keyedvectors.Word2VecKeyedVectors at 0x186f2895408>"
      ]
     },
     "metadata": {},
     "output_type": "display_data"
    },
    {
     "data": {
      "text/plain": [
       "(15795, 8)"
      ]
     },
     "metadata": {},
     "output_type": "display_data"
    },
    {
     "name": "stderr",
     "output_type": "stream",
     "text": [
      "C:\\ProgramData\\Anaconda3\\lib\\site-packages\\ipykernel_launcher.py:10: DeprecationWarning: Call to deprecated `wv` (Attribute will be removed in 4.0.0, use self instead).\n",
      "  # Remove the CWD from sys.path while we load stuff.\n",
      "C:\\ProgramData\\Anaconda3\\lib\\site-packages\\ipykernel_launcher.py:13: DeprecationWarning: Call to deprecated `wv` (Attribute will be removed in 4.0.0, use self instead).\n",
      "  del sys.path[0]\n"
     ]
    },
    {
     "data": {
      "text/plain": [
       "37163"
      ]
     },
     "metadata": {},
     "output_type": "display_data"
    },
    {
     "data": {
      "text/plain": [
       "'Rank TSTF GloVe Jur:'"
      ]
     },
     "metadata": {},
     "output_type": "display_data"
    },
    {
     "data": {
      "text/plain": [
       "'rank médio use: 7931.767676767677 - rank mediano use: 1774 - desvio padrão use: 10927.13471492542 - total: 99'"
      ]
     },
     "metadata": {},
     "output_type": "display_data"
    },
    {
     "data": {
      "text/plain": [
       "'rank médio up: 4846.070707070707 - rank mediano up: 499 - desvio padrão up: 8313.96021362413 - total: 99'"
      ]
     },
     "metadata": {},
     "output_type": "display_data"
    },
    {
     "data": {
      "text/plain": [
       "'rank médio te: 4865.507042253521 - rank mediano te: 514 - desvio padrão te: 8915.779214200982 - total: 71'"
      ]
     },
     "metadata": {},
     "output_type": "display_data"
    },
    {
     "data": {
      "text/plain": [
       "'rank médio tr: 8802.20197044335 - rank mediano tr: 3454.0 - desvio padrão tr: 10824.729714975023 - total: 2030'"
      ]
     },
     "metadata": {},
     "output_type": "display_data"
    },
    {
     "data": {
      "text/plain": [
       "'rank médio tg: 8879.633802816901 - rank mediano tg: 2784 - desvio padrão tg: 11946.832601440477 - total: 71'"
      ]
     },
     "metadata": {},
     "output_type": "display_data"
    },
    {
     "data": {
      "text/plain": [
       "'rank médio podenrado GloVe Jur: 8484.97088607595'"
      ]
     },
     "metadata": {},
     "output_type": "display_data"
    }
   ],
   "source": [
    "glove_file = 'modelos/glove_jur.txt'\n",
    "tmp_file = get_tmpfile(\"test_word2vec.txt\")\n",
    "_ = glove2word2vec(glove_file, tmp_file)\n",
    "glv_jur = KeyedVectors.load_word2vec_format(tmp_file)\n",
    "tesauro = pd.read_csv(\"tesauro_stf.csv\")\n",
    "display(glv_jur)\n",
    "display(tesauro.shape)\n",
    "\n",
    "glv_jur.init_sims()\n",
    "restricted_word_set = set([c for c, v in model.wv.vocab.items()])\n",
    "quali.restrict_w2v(glv_jur, restricted_word_set)\n",
    "\n",
    "display(len(glv_jur.wv.vocab))\n",
    "dfs_glv_jur = quali.calcular_desempenho(tesauro, glv_jur, 'GloVe Jur')"
   ]
  },
  {
   "cell_type": "markdown",
   "metadata": {},
   "source": [
    "### Estudo das distribuições de distâncias"
   ]
  },
  {
   "cell_type": "code",
   "execution_count": 10,
   "metadata": {},
   "outputs": [],
   "source": [
    "#[df_use, df_up, df_te, df_tr, df_tg]"
   ]
  },
  {
   "cell_type": "code",
   "execution_count": 39,
   "metadata": {},
   "outputs": [
    {
     "data": {
      "image/png": "[encoded data removed]",
      "text/plain": [
       "<Figure size 432x288 with 1 Axes>"
      ]
     },
     "metadata": {
      "needs_background": "light"
     },
     "output_type": "display_data"
    },
    {
     "data": {
      "image/png": "[encoded data removed]",
      "text/plain": [
       "<Figure size 432x288 with 1 Axes>"
      ]
     },
     "metadata": {
      "needs_background": "light"
     },
     "output_type": "display_data"
    },
    {
     "data": {
      "image/png": "[encoded data removed]",
      "text/plain": [
       "<Figure size 432x288 with 1 Axes>"
      ]
     },
     "metadata": {
      "needs_background": "light"
     },
     "output_type": "display_data"
    },
    {
     "data": {
      "image/png": "[encoded data removed]",
      "text/plain": [
       "<Figure size 432x288 with 1 Axes>"
      ]
     },
     "metadata": {
      "needs_background": "light"
     },
     "output_type": "display_data"
    },
    {
     "data": {
      "image/png": "[encoded data removed]",
      "text/plain": [
       "<Figure size 432x288 with 1 Axes>"
      ]
     },
     "metadata": {
      "needs_background": "light"
     },
     "output_type": "display_data"
    }
   ],
   "source": [
    "lista_manipulos = [dfs_glv_jur[0], dfs_glv_jur[1],dfs_glv_jur[2],dfs_glv_jur[3],dfs_glv_jur[4]]\n",
    "lista_rotulos = ['Distribuição de distâncias USE', \n",
    "                'Distribuição de distâncias UP'\n",
    "                'Distribuição de distâncias TE'\n",
    "                'Distribuição de distâncias TR'\n",
    "                'Distribuição de distâncias TG']\n",
    "\n",
    "for manipulo in lista_manipulos:\n",
    "    _, ax = plt.subplots()\n",
    "    sns.distplot(manipulo.lista_dist.sum(), ax=ax).set(xlim=(-1,1))\n",
    "    mean = np.mean(manipulo.lista_dist.sum())\n",
    "    ax.axvline(mean, color='r', linestyle='--')\n",
    "    ax.text(mean+0.03,0.2,str(round(mean, 2)),rotation=0, color = 'r')\n",
    "    plt.show()"
   ]
  },
  {
   "cell_type": "code",
   "execution_count": 18,
   "metadata": {},
   "outputs": [
    {
     "ename": "AttributeError",
     "evalue": "'list' object has no attribute 'lines'",
     "output_type": "error",
     "traceback": [
      "\u001b[1;31m---------------------------------------------------------------------------\u001b[0m",
      "\u001b[1;31mAttributeError\u001b[0m                            Traceback (most recent call last)",
      "\u001b[1;32m<ipython-input-18-58ec14de19c5>\u001b[0m in \u001b[0;36m<module>\u001b[1;34m\u001b[0m\n\u001b[0;32m      1\u001b[0m \u001b[0max\u001b[0m \u001b[1;33m=\u001b[0m \u001b[0msns\u001b[0m\u001b[1;33m.\u001b[0m\u001b[0mdistplot\u001b[0m\u001b[1;33m(\u001b[0m\u001b[0mdfs_glv_jur\u001b[0m\u001b[1;33m[\u001b[0m\u001b[1;36m0\u001b[0m\u001b[1;33m]\u001b[0m\u001b[1;33m.\u001b[0m\u001b[0mlista_dist\u001b[0m\u001b[1;33m.\u001b[0m\u001b[0msum\u001b[0m\u001b[1;33m(\u001b[0m\u001b[1;33m)\u001b[0m\u001b[1;33m)\u001b[0m\u001b[1;33m.\u001b[0m\u001b[0mset\u001b[0m\u001b[1;33m(\u001b[0m\u001b[0mxlim\u001b[0m\u001b[1;33m=\u001b[0m\u001b[1;33m(\u001b[0m\u001b[1;33m-\u001b[0m\u001b[1;36m1\u001b[0m\u001b[1;33m,\u001b[0m\u001b[1;36m1\u001b[0m\u001b[1;33m)\u001b[0m\u001b[1;33m)\u001b[0m\u001b[1;33m\u001b[0m\u001b[1;33m\u001b[0m\u001b[0m\n\u001b[1;32m----> 2\u001b[1;33m \u001b[0mkdeline\u001b[0m \u001b[1;33m=\u001b[0m \u001b[0max\u001b[0m\u001b[1;33m.\u001b[0m\u001b[0mlines\u001b[0m\u001b[1;33m[\u001b[0m\u001b[1;36m0\u001b[0m\u001b[1;33m]\u001b[0m\u001b[1;33m\u001b[0m\u001b[1;33m\u001b[0m\u001b[0m\n\u001b[0m\u001b[0;32m      3\u001b[0m \u001b[0mmean\u001b[0m \u001b[1;33m=\u001b[0m \u001b[0mnp\u001b[0m\u001b[1;33m.\u001b[0m\u001b[0mmean\u001b[0m\u001b[1;33m(\u001b[0m\u001b[0mdfs_glv_jur\u001b[0m\u001b[1;33m[\u001b[0m\u001b[1;36m0\u001b[0m\u001b[1;33m]\u001b[0m\u001b[1;33m.\u001b[0m\u001b[0mlista_dist\u001b[0m\u001b[1;33m.\u001b[0m\u001b[0msum\u001b[0m\u001b[1;33m(\u001b[0m\u001b[1;33m)\u001b[0m\u001b[1;33m)\u001b[0m\u001b[1;33m\u001b[0m\u001b[1;33m\u001b[0m\u001b[0m\n\u001b[0;32m      4\u001b[0m \u001b[0mheight\u001b[0m \u001b[1;33m=\u001b[0m \u001b[0mnp\u001b[0m\u001b[1;33m.\u001b[0m\u001b[0minterp\u001b[0m\u001b[1;33m(\u001b[0m\u001b[0mmean\u001b[0m\u001b[1;33m,\u001b[0m \u001b[0mkdeline\u001b[0m\u001b[1;33m.\u001b[0m\u001b[0mget_xdata\u001b[0m\u001b[1;33m(\u001b[0m\u001b[1;33m)\u001b[0m\u001b[1;33m,\u001b[0m \u001b[0mkdeline\u001b[0m\u001b[1;33m.\u001b[0m\u001b[0mget_ydata\u001b[0m\u001b[1;33m(\u001b[0m\u001b[1;33m)\u001b[0m\u001b[1;33m)\u001b[0m\u001b[1;33m\u001b[0m\u001b[1;33m\u001b[0m\u001b[0m\n\u001b[0;32m      5\u001b[0m \u001b[0max\u001b[0m\u001b[1;33m.\u001b[0m\u001b[0mvlines\u001b[0m\u001b[1;33m(\u001b[0m\u001b[0mmean\u001b[0m\u001b[1;33m,\u001b[0m \u001b[1;36m0\u001b[0m\u001b[1;33m,\u001b[0m \u001b[0mheight\u001b[0m\u001b[1;33m,\u001b[0m \u001b[0mcolor\u001b[0m\u001b[1;33m=\u001b[0m\u001b[1;34m'crimson'\u001b[0m\u001b[1;33m,\u001b[0m \u001b[0mls\u001b[0m\u001b[1;33m=\u001b[0m\u001b[1;34m':'\u001b[0m\u001b[1;33m)\u001b[0m\u001b[1;33m\u001b[0m\u001b[1;33m\u001b[0m\u001b[0m\n",
      "\u001b[1;31mAttributeError\u001b[0m: 'list' object has no attribute 'lines'"
     ]
    },
    {
     "data": {
      "image/png": "[encoded data removed]",
      "text/plain": [
       "<Figure size 432x288 with 1 Axes>"
      ]
     },
     "metadata": {
      "needs_background": "light"
     },
     "output_type": "display_data"
    }
   ],
   "source": [
    "ax = sns.distplot(dfs_glv_jur[0].lista_dist.sum()).set(xlim=(-1,1))\n",
    "kdeline = ax.lines[0]\n",
    "\n",
    "height = np.interp(mean, kdeline.get_xdata(), kdeline.get_ydata())\n",
    "ax.vlines(mean, 0, height, color='crimson', ls=':')\n",
    "ax.set_ylim(ymin=0)\n",
    "plt.show()"
   ]
  },
  {
   "cell_type": "code",
   "execution_count": null,
   "metadata": {},
   "outputs": [],
   "source": []
  }
 ],
 "metadata": {
  "kernelspec": {
   "display_name": "Python 3",
   "language": "python",
   "name": "python3"
  },
  "language_info": {
   "codemirror_mode": {
    "name": "ipython",
    "version": 3
   },
   "file_extension": ".py",
   "mimetype": "text/x-python",
   "name": "python",
   "nbconvert_exporter": "python",
   "pygments_lexer": "ipython3",
   "version": "3.7.4"
  }
 },
 "nbformat": 4,
 "nbformat_minor": 2
}
