{
 "cells": [
  {
   "cell_type": "markdown",
   "metadata": {},
   "source": [
    "### Importação dos metadados"
   ]
  },
  {
   "cell_type": "code",
   "execution_count": 1,
   "metadata": {},
   "outputs": [],
   "source": [
    "from src import grouper\n",
    "import pandas as pd\n",
    "import nltk\n",
    "%load_ext autoreload\n",
    "%autoreload 2\n",
    "df = pd.read_csv(\"dados/corpus_tratado/metadados.csv\")"
   ]
  },
  {
   "cell_type": "markdown",
   "metadata": {},
   "source": [
    "### Filtrando os ids por assuntos"
   ]
  },
  {
   "cell_type": "code",
   "execution_count": 2,
   "metadata": {},
   "outputs": [
    {
     "data": {
      "text/plain": [
       "35027"
      ]
     },
     "metadata": {},
     "output_type": "display_data"
    },
    {
     "data": {
      "text/plain": [
       "125"
      ]
     },
     "metadata": {},
     "output_type": "display_data"
    },
    {
     "data": {
      "text/html": [
       "<div>\n",
       "<style scoped>\n",
       "    .dataframe tbody tr th:only-of-type {\n",
       "        vertical-align: middle;\n",
       "    }\n",
       "\n",
       "    .dataframe tbody tr th {\n",
       "        vertical-align: top;\n",
       "    }\n",
       "\n",
       "    .dataframe thead th {\n",
       "        text-align: right;\n",
       "    }\n",
       "</style>\n",
       "<table border=\"1\" class=\"dataframe\">\n",
       "  <thead>\n",
       "    <tr style=\"text-align: right;\">\n",
       "      <th></th>\n",
       "      <th>id</th>\n",
       "      <th>Assunto</th>\n",
       "    </tr>\n",
       "  </thead>\n",
       "  <tbody>\n",
       "    <tr>\n",
       "      <td>0</td>\n",
       "      <td>1500075-43.2019.8.26.0569</td>\n",
       "      <td>Tráfico de Drogas e Condutas Afins</td>\n",
       "    </tr>\n",
       "    <tr>\n",
       "      <td>1</td>\n",
       "      <td>1019468-32.2019.8.26.0562</td>\n",
       "      <td>Alienação Fiduciária</td>\n",
       "    </tr>\n",
       "    <tr>\n",
       "      <td>2</td>\n",
       "      <td>0000043-68.2019.8.26.0616</td>\n",
       "      <td>Furto</td>\n",
       "    </tr>\n",
       "    <tr>\n",
       "      <td>3</td>\n",
       "      <td>1007259-02.2018.8.26.0292</td>\n",
       "      <td>DIREITO PREVIDENCIÁRIO</td>\n",
       "    </tr>\n",
       "    <tr>\n",
       "      <td>4</td>\n",
       "      <td>1000425-53.2019.8.26.0128</td>\n",
       "      <td>Rural (Art. 48/51)</td>\n",
       "    </tr>\n",
       "    <tr>\n",
       "      <td>...</td>\n",
       "      <td>...</td>\n",
       "      <td>...</td>\n",
       "    </tr>\n",
       "    <tr>\n",
       "      <td>35022</td>\n",
       "      <td>0001233-88.2018.8.26.0426</td>\n",
       "      <td>Cheque</td>\n",
       "    </tr>\n",
       "    <tr>\n",
       "      <td>35023</td>\n",
       "      <td>1514316-66.2019.8.26.0037</td>\n",
       "      <td>Impostos</td>\n",
       "    </tr>\n",
       "    <tr>\n",
       "      <td>35024</td>\n",
       "      <td>1008737-24.2019.8.26.0320</td>\n",
       "      <td>Indenização por Dano Material</td>\n",
       "    </tr>\n",
       "    <tr>\n",
       "      <td>35025</td>\n",
       "      <td>0000206-22.2019.8.26.0075</td>\n",
       "      <td>IPTU/ Imposto Predial e Territorial Urbano</td>\n",
       "    </tr>\n",
       "    <tr>\n",
       "      <td>35026</td>\n",
       "      <td>1002580-07.2019.8.26.0297</td>\n",
       "      <td>Indenização por Dano Moral</td>\n",
       "    </tr>\n",
       "  </tbody>\n",
       "</table>\n",
       "<p>35027 rows × 2 columns</p>\n",
       "</div>"
      ],
      "text/plain": [
       "                              id                                     Assunto\n",
       "0      1500075-43.2019.8.26.0569          Tráfico de Drogas e Condutas Afins\n",
       "1      1019468-32.2019.8.26.0562                        Alienação Fiduciária\n",
       "2      0000043-68.2019.8.26.0616                                       Furto\n",
       "3      1007259-02.2018.8.26.0292                      DIREITO PREVIDENCIÁRIO\n",
       "4      1000425-53.2019.8.26.0128                          Rural (Art. 48/51)\n",
       "...                          ...                                         ...\n",
       "35022  0001233-88.2018.8.26.0426                                      Cheque\n",
       "35023  1514316-66.2019.8.26.0037                                    Impostos\n",
       "35024  1008737-24.2019.8.26.0320               Indenização por Dano Material\n",
       "35025  0000206-22.2019.8.26.0075  IPTU/ Imposto Predial e Territorial Urbano\n",
       "35026  1002580-07.2019.8.26.0297                  Indenização por Dano Moral\n",
       "\n",
       "[35027 rows x 2 columns]"
      ]
     },
     "execution_count": 2,
     "metadata": {},
     "output_type": "execute_result"
    }
   ],
   "source": [
    "corte = 50\n",
    "df_validos = pd.DataFrame(df.groupby(\"Assunto\").size()).reset_index()\n",
    "df_validos.columns = [\"assunto\", \"quant\"]\n",
    "df_validos = df_validos.loc[df_validos.quant >= corte]\n",
    "display(df_validos.quant.sum())\n",
    "display(df_validos.assunto.nunique())\n",
    "documentos_validos = df[df.Assunto.isin(df_validos.assunto)][[\"id\", \"Assunto\"]].reset_index().drop('index', axis = 1)\n",
    "documentos_validos"
   ]
  },
  {
   "cell_type": "markdown",
   "metadata": {},
   "source": [
    "### Separando grupos de treino e teste de maneira que as distribuições de assuntos permaneçam similares"
   ]
  },
  {
   "cell_type": "code",
   "execution_count": 3,
   "metadata": {},
   "outputs": [],
   "source": [
    "from sklearn.model_selection import StratifiedShuffleSplit\n",
    "sss = StratifiedShuffleSplit(n_splits=1, test_size=0.2, random_state=0)\n",
    "X = documentos_validos.id\n",
    "y = documentos_validos.Assunto\n",
    "caminho_corpus = \"dados/corpus_tratado/\"\n",
    "\n",
    "#index[0] são os indices de treino, e index[1] são os de teste\n",
    "#i é o código do experimento\n",
    "for i, index in enumerate(sss.split(X, y)):    \n",
    "    exp = i+1\n",
    "    X_treino, X_teste = X[index[0]], X[index[1]]\n",
    "    y_treino, y_teste = y[index[0]], y[index[1]]    "
   ]
  },
  {
   "cell_type": "markdown",
   "metadata": {},
   "source": [
    "### Instanciando o corpus do conjunto de treinamento"
   ]
  },
  {
   "cell_type": "code",
   "execution_count": 4,
   "metadata": {},
   "outputs": [
    {
     "name": "stdout",
     "output_type": "stream",
     "text": [
      "criando base de treino para o experimento 1\n"
     ]
    },
    {
     "data": {
      "application/vnd.jupyter.widget-view+json": {
       "model_id": "c70ac3a9c66d4c1c933fc438e2dd62a4",
       "version_major": 2,
       "version_minor": 0
      },
      "text/plain": [
       "HBox(children=(IntProgress(value=0, max=28021), HTML(value='')))"
      ]
     },
     "metadata": {},
     "output_type": "display_data"
    },
    {
     "name": "stdout",
     "output_type": "stream",
     "text": [
      "\n",
      "16042036 tokens copiados com sucesso\n",
      "preparando documentos para extração do vocabulário:\n"
     ]
    },
    {
     "data": {
      "application/vnd.jupyter.widget-view+json": {
       "model_id": "f1a1cf22519c413da9081dbb71f9a691",
       "version_major": 2,
       "version_minor": 0
      },
      "text/plain": [
       "HBox(children=(IntProgress(value=0, max=28021), HTML(value='')))"
      ]
     },
     "metadata": {},
     "output_type": "display_data"
    },
    {
     "name": "stdout",
     "output_type": "stream",
     "text": [
      "\n"
     ]
    },
    {
     "data": {
      "text/plain": [
       "(28021, 3)"
      ]
     },
     "execution_count": 4,
     "metadata": {},
     "output_type": "execute_result"
    }
   ],
   "source": [
    "from tqdm.notebook import tqdm\n",
    "import os\n",
    "diretorio = \"dados/corpus_tratado/\"\n",
    "X_treino = pd.DataFrame(X_treino)\n",
    "X_treino['id'] = X_treino.id + '.txt'\n",
    "\n",
    "print(\"criando base de treino para o experimento \"+str(exp))\n",
    "if not os.path.exists('dados/experimento_'+str(exp)):\n",
    "    os.makedirs('dados/experimento_'+str(exp))\n",
    "\n",
    "#a base de treino para o word2vec e fasttext deve ter uma frase por linha\n",
    "#a base de treino para o glove deve ter um documento por linha\n",
    "base_treino = open('dados/experimento_'+str(exp)+'/base_treino.txt', 'w+', encoding='utf8')\n",
    "base_treino_glv = open('dados/experimento_'+str(exp)+'/base_treino_glv.txt', 'w+', encoding='utf8')\n",
    "tokens = 0\n",
    "for documento in tqdm(X_treino.id.values):\n",
    "    doc = open(diretorio + documento, 'r', encoding='utf8')\n",
    "    for frase in doc:\n",
    "        base_treino.write(frase)\n",
    "        tokens += len(frase.split(\" \"))\n",
    "    doc.close()\n",
    "    \n",
    "    doc = open(diretorio + documento, 'r', encoding='utf8')\n",
    "    teor_completo = doc.read().replace('\\n', '')\n",
    "    base_treino_glv.write(teor_completo + '\\n')\n",
    "    \n",
    "base_treino.close()\n",
    "base_treino_glv.close()\n",
    "print(str(tokens)+ \" tokens copiados com sucesso\")\n",
    "print(\"preparando documentos para extração do vocabulário:\")\n",
    "X_treino['teores'] = [grouper.recuperar_teor(x, diretorio) for x in tqdm(X_treino.id)]\n",
    "X_treino['assunto'] = y_treino\n",
    "X_treino.shape"
   ]
  },
  {
   "cell_type": "markdown",
   "metadata": {},
   "source": [
    "### Vocabulário"
   ]
  },
  {
   "cell_type": "code",
   "execution_count": 5,
   "metadata": {
    "scrolled": false
   },
   "outputs": [
    {
     "name": "stdout",
     "output_type": "stream",
     "text": [
      "extraindo termos com base no ICA\n"
     ]
    },
    {
     "name": "stderr",
     "output_type": "stream",
     "text": [
      "100%|██████████| 125/125 [00:00<00:00, 321.23it/s]\n"
     ]
    },
    {
     "name": "stdout",
     "output_type": "stream",
     "text": [
      "-processando strings do corpus\n",
      "-treinando vetorizador\n",
      "-ICA processado\n",
      "extraindo termos com base na frequência - geralmente leva menos de 4 minutos\n",
      "extraindo termos do tesauro\n",
      "extração de vocabulário concluída!\n"
     ]
    }
   ],
   "source": [
    "freq_min = 100\n",
    "stopwords = nltk.corpus.stopwords.words('portuguese')\n",
    "vocab = grouper.extrair_vocabulario(X_treino, freq_min, stopwords)"
   ]
  },
  {
   "cell_type": "markdown",
   "metadata": {},
   "source": [
    "### Treinamento dos modelos"
   ]
  },
  {
   "cell_type": "code",
   "execution_count": 6,
   "metadata": {
    "scrolled": true
   },
   "outputs": [
    {
     "name": "stdout",
     "output_type": "stream",
     "text": [
      "treinando modelo word2vec\n"
     ]
    },
    {
     "name": "stderr",
     "output_type": "stream",
     "text": [
      "2021-02-23 20:17:49,660 : INFO : collecting all words and their counts\n",
      "2021-02-23 20:17:49,666 : INFO : PROGRESS: at sentence #0, processed 0 words, keeping 0 word types\n",
      "2021-02-23 20:17:49,733 : INFO : PROGRESS: at sentence #10000, processed 235769 words, keeping 13479 word types\n",
      "2021-02-23 20:17:49,803 : INFO : PROGRESS: at sentence #20000, processed 478506 words, keeping 18827 word types\n",
      "2021-02-23 20:17:49,870 : INFO : PROGRESS: at sentence #30000, processed 716990 words, keeping 22433 word types\n",
      "2021-02-23 20:17:49,938 : INFO : PROGRESS: at sentence #40000, processed 956912 words, keeping 25453 word types\n",
      "2021-02-23 20:17:50,005 : INFO : PROGRESS: at sentence #50000, processed 1198453 words, keeping 27868 word types\n",
      "2021-02-23 20:17:50,074 : INFO : PROGRESS: at sentence #60000, processed 1434600 words, keeping 30340 word types\n",
      "2021-02-23 20:17:50,143 : INFO : PROGRESS: at sentence #70000, processed 1678430 words, keeping 32461 word types\n",
      "2021-02-23 20:17:50,212 : INFO : PROGRESS: at sentence #80000, processed 1918098 words, keeping 34310 word types\n",
      "2021-02-23 20:17:50,281 : INFO : PROGRESS: at sentence #90000, processed 2156336 words, keeping 36035 word types\n",
      "2021-02-23 20:17:50,348 : INFO : PROGRESS: at sentence #100000, processed 2398940 words, keeping 37617 word types\n",
      "2021-02-23 20:17:50,416 : INFO : PROGRESS: at sentence #110000, processed 2637175 words, keeping 39115 word types\n",
      "2021-02-23 20:17:50,491 : INFO : PROGRESS: at sentence #120000, processed 2877198 words, keeping 40535 word types\n",
      "2021-02-23 20:17:50,562 : INFO : PROGRESS: at sentence #130000, processed 3116326 words, keeping 41914 word types\n",
      "2021-02-23 20:17:50,636 : INFO : PROGRESS: at sentence #140000, processed 3366816 words, keeping 43473 word types\n",
      "2021-02-23 20:17:50,712 : INFO : PROGRESS: at sentence #150000, processed 3614701 words, keeping 44786 word types\n",
      "2021-02-23 20:17:50,790 : INFO : PROGRESS: at sentence #160000, processed 3855422 words, keeping 46007 word types\n",
      "2021-02-23 20:17:50,871 : INFO : PROGRESS: at sentence #170000, processed 4094891 words, keeping 47124 word types\n",
      "2021-02-23 20:17:50,946 : INFO : PROGRESS: at sentence #180000, processed 4334237 words, keeping 48340 word types\n",
      "2021-02-23 20:17:51,021 : INFO : PROGRESS: at sentence #190000, processed 4576252 words, keeping 49342 word types\n",
      "2021-02-23 20:17:51,096 : INFO : PROGRESS: at sentence #200000, processed 4824132 words, keeping 50480 word types\n",
      "2021-02-23 20:17:51,167 : INFO : PROGRESS: at sentence #210000, processed 5062126 words, keeping 51483 word types\n",
      "2021-02-23 20:17:51,240 : INFO : PROGRESS: at sentence #220000, processed 5305266 words, keeping 52429 word types\n",
      "2021-02-23 20:17:51,319 : INFO : PROGRESS: at sentence #230000, processed 5550723 words, keeping 53444 word types\n",
      "2021-02-23 20:17:51,389 : INFO : PROGRESS: at sentence #240000, processed 5800318 words, keeping 54412 word types\n",
      "2021-02-23 20:17:51,461 : INFO : PROGRESS: at sentence #250000, processed 6049857 words, keeping 55457 word types\n",
      "2021-02-23 20:17:51,530 : INFO : PROGRESS: at sentence #260000, processed 6288867 words, keeping 56253 word types\n",
      "2021-02-23 20:17:51,602 : INFO : PROGRESS: at sentence #270000, processed 6539964 words, keeping 57133 word types\n",
      "2021-02-23 20:17:51,672 : INFO : PROGRESS: at sentence #280000, processed 6783410 words, keeping 57987 word types\n",
      "2021-02-23 20:17:51,740 : INFO : PROGRESS: at sentence #290000, processed 7025570 words, keeping 58857 word types\n",
      "2021-02-23 20:17:51,810 : INFO : PROGRESS: at sentence #300000, processed 7272182 words, keeping 59616 word types\n",
      "2021-02-23 20:17:51,878 : INFO : PROGRESS: at sentence #310000, processed 7515122 words, keeping 60294 word types\n",
      "2021-02-23 20:17:51,947 : INFO : PROGRESS: at sentence #320000, processed 7760803 words, keeping 61115 word types\n",
      "2021-02-23 20:17:52,016 : INFO : PROGRESS: at sentence #330000, processed 8007403 words, keeping 61972 word types\n",
      "2021-02-23 20:17:52,085 : INFO : PROGRESS: at sentence #340000, processed 8245032 words, keeping 62740 word types\n",
      "2021-02-23 20:17:52,155 : INFO : PROGRESS: at sentence #350000, processed 8486427 words, keeping 63495 word types\n",
      "2021-02-23 20:17:52,224 : INFO : PROGRESS: at sentence #360000, processed 8726848 words, keeping 64225 word types\n",
      "2021-02-23 20:17:52,294 : INFO : PROGRESS: at sentence #370000, processed 8973299 words, keeping 64913 word types\n",
      "2021-02-23 20:17:52,363 : INFO : PROGRESS: at sentence #380000, processed 9213292 words, keeping 65645 word types\n",
      "2021-02-23 20:17:52,431 : INFO : PROGRESS: at sentence #390000, processed 9460659 words, keeping 66427 word types\n",
      "2021-02-23 20:17:52,501 : INFO : PROGRESS: at sentence #400000, processed 9704171 words, keeping 67037 word types\n",
      "2021-02-23 20:17:52,570 : INFO : PROGRESS: at sentence #410000, processed 9944273 words, keeping 67717 word types\n",
      "2021-02-23 20:17:52,639 : INFO : PROGRESS: at sentence #420000, processed 10186493 words, keeping 68483 word types\n",
      "2021-02-23 20:17:52,715 : INFO : PROGRESS: at sentence #430000, processed 10430824 words, keeping 69260 word types\n",
      "2021-02-23 20:17:52,785 : INFO : PROGRESS: at sentence #440000, processed 10675104 words, keeping 69962 word types\n",
      "2021-02-23 20:17:52,858 : INFO : PROGRESS: at sentence #450000, processed 10916543 words, keeping 70624 word types\n",
      "2021-02-23 20:17:52,929 : INFO : PROGRESS: at sentence #460000, processed 11153599 words, keeping 71178 word types\n",
      "2021-02-23 20:17:53,003 : INFO : PROGRESS: at sentence #470000, processed 11400246 words, keeping 71873 word types\n",
      "2021-02-23 20:17:53,074 : INFO : PROGRESS: at sentence #480000, processed 11641081 words, keeping 72449 word types\n",
      "2021-02-23 20:17:53,142 : INFO : PROGRESS: at sentence #490000, processed 11879460 words, keeping 73023 word types\n",
      "2021-02-23 20:17:53,211 : INFO : PROGRESS: at sentence #500000, processed 12122776 words, keeping 73581 word types\n",
      "2021-02-23 20:17:53,283 : INFO : PROGRESS: at sentence #510000, processed 12367121 words, keeping 74255 word types\n",
      "2021-02-23 20:17:53,351 : INFO : PROGRESS: at sentence #520000, processed 12607611 words, keeping 74782 word types\n",
      "2021-02-23 20:17:53,421 : INFO : PROGRESS: at sentence #530000, processed 12851530 words, keeping 75319 word types\n",
      "2021-02-23 20:17:53,495 : INFO : PROGRESS: at sentence #540000, processed 13089923 words, keeping 75959 word types\n",
      "2021-02-23 20:17:53,565 : INFO : PROGRESS: at sentence #550000, processed 13327324 words, keeping 76489 word types\n",
      "2021-02-23 20:17:53,637 : INFO : PROGRESS: at sentence #560000, processed 13575962 words, keeping 77031 word types\n",
      "2021-02-23 20:17:53,706 : INFO : PROGRESS: at sentence #570000, processed 13817112 words, keeping 77602 word types\n",
      "2021-02-23 20:17:53,774 : INFO : PROGRESS: at sentence #580000, processed 14052857 words, keeping 78189 word types\n",
      "2021-02-23 20:17:53,845 : INFO : PROGRESS: at sentence #590000, processed 14300517 words, keeping 78737 word types\n",
      "2021-02-23 20:17:53,916 : INFO : PROGRESS: at sentence #600000, processed 14545068 words, keeping 79300 word types\n",
      "2021-02-23 20:17:53,987 : INFO : PROGRESS: at sentence #610000, processed 14792482 words, keeping 79812 word types\n",
      "2021-02-23 20:17:54,055 : INFO : PROGRESS: at sentence #620000, processed 15030477 words, keeping 80319 word types\n",
      "2021-02-23 20:17:54,127 : INFO : PROGRESS: at sentence #630000, processed 15269440 words, keeping 80955 word types\n",
      "2021-02-23 20:17:54,163 : INFO : collected 81218 word types from a corpus of 15387847 raw words and 634862 sentences\n",
      "2021-02-23 20:17:54,164 : INFO : Loading a fresh vocabulary\n",
      "2021-02-23 20:17:54,217 : INFO : effective_min_count=5 retains 32596 unique words (40% of original 81218, drops 48622)\n",
      "2021-02-23 20:17:54,218 : INFO : effective_min_count=5 leaves 15306026 word corpus (99% of original 15387847, drops 81821)\n",
      "2021-02-23 20:17:54,302 : INFO : deleting the raw counts dictionary of 81218 items\n",
      "2021-02-23 20:17:54,305 : INFO : sample=1e-05 downsamples 3206 most-common words\n",
      "2021-02-23 20:17:54,305 : INFO : downsampling leaves estimated 3697094 word corpus (24.2% of prior 15306026)\n",
      "2021-02-23 20:17:54,329 : INFO : constructing a huffman tree from 32596 words\n",
      "2021-02-23 20:17:55,020 : INFO : built huffman tree with maximum node depth 22\n"
     ]
    },
    {
     "name": "stderr",
     "output_type": "stream",
     "text": [
      "2021-02-23 20:17:55,077 : INFO : estimated required memory for 32596 words and 100 dimensions: 61932400 bytes\n",
      "2021-02-23 20:17:55,078 : INFO : resetting layer weights\n",
      "2021-02-23 20:17:55,405 : INFO : training model with 12 workers on 32596 vocabulary and 100 features, using sg=1 hs=1 sample=1e-05 negative=5 window=5\n",
      "2021-02-23 20:17:56,415 : INFO : EPOCH 1 - PROGRESS: at 9.26% examples, 335491 words/s, in_qsize 0, out_qsize 0\n",
      "2021-02-23 20:17:57,421 : INFO : EPOCH 1 - PROGRESS: at 18.15% examples, 329441 words/s, in_qsize 0, out_qsize 1\n",
      "2021-02-23 20:17:58,439 : INFO : EPOCH 1 - PROGRESS: at 25.93% examples, 315058 words/s, in_qsize 5, out_qsize 1\n",
      "2021-02-23 20:17:59,445 : INFO : EPOCH 1 - PROGRESS: at 34.48% examples, 314471 words/s, in_qsize 1, out_qsize 1\n",
      "2021-02-23 20:18:00,453 : INFO : EPOCH 1 - PROGRESS: at 42.64% examples, 312703 words/s, in_qsize 0, out_qsize 0\n",
      "2021-02-23 20:18:01,463 : INFO : EPOCH 1 - PROGRESS: at 50.89% examples, 311287 words/s, in_qsize 7, out_qsize 0\n",
      "2021-02-23 20:18:02,470 : INFO : EPOCH 1 - PROGRESS: at 59.25% examples, 310386 words/s, in_qsize 0, out_qsize 1\n",
      "2021-02-23 20:18:03,483 : INFO : EPOCH 1 - PROGRESS: at 67.45% examples, 309448 words/s, in_qsize 0, out_qsize 1\n",
      "2021-02-23 20:18:04,488 : INFO : EPOCH 1 - PROGRESS: at 75.82% examples, 309209 words/s, in_qsize 0, out_qsize 0\n",
      "2021-02-23 20:18:05,490 : INFO : EPOCH 1 - PROGRESS: at 84.61% examples, 310362 words/s, in_qsize 10, out_qsize 0\n",
      "2021-02-23 20:18:06,522 : INFO : EPOCH 1 - PROGRESS: at 92.78% examples, 308697 words/s, in_qsize 24, out_qsize 0\n",
      "2021-02-23 20:18:07,360 : INFO : worker thread finished; awaiting finish of 11 more threads\n",
      "2021-02-23 20:18:07,363 : INFO : worker thread finished; awaiting finish of 10 more threads\n",
      "2021-02-23 20:18:07,364 : INFO : worker thread finished; awaiting finish of 9 more threads\n",
      "2021-02-23 20:18:07,366 : INFO : worker thread finished; awaiting finish of 8 more threads\n",
      "2021-02-23 20:18:07,367 : INFO : worker thread finished; awaiting finish of 7 more threads\n",
      "2021-02-23 20:18:07,368 : INFO : worker thread finished; awaiting finish of 6 more threads\n",
      "2021-02-23 20:18:07,370 : INFO : worker thread finished; awaiting finish of 5 more threads\n",
      "2021-02-23 20:18:07,376 : INFO : worker thread finished; awaiting finish of 4 more threads\n",
      "2021-02-23 20:18:07,378 : INFO : worker thread finished; awaiting finish of 3 more threads\n",
      "2021-02-23 20:18:07,391 : INFO : worker thread finished; awaiting finish of 2 more threads\n",
      "2021-02-23 20:18:07,398 : INFO : worker thread finished; awaiting finish of 1 more threads\n",
      "2021-02-23 20:18:07,400 : INFO : worker thread finished; awaiting finish of 0 more threads\n",
      "2021-02-23 20:18:07,401 : INFO : EPOCH - 1 : training on 15387847 raw words (3696503 effective words) took 12.0s, 308334 effective words/s\n",
      "2021-02-23 20:18:08,406 : INFO : EPOCH 2 - PROGRESS: at 7.73% examples, 281674 words/s, in_qsize 0, out_qsize 0\n",
      "2021-02-23 20:18:09,412 : INFO : EPOCH 2 - PROGRESS: at 16.11% examples, 293273 words/s, in_qsize 0, out_qsize 0\n",
      "2021-02-23 20:18:10,415 : INFO : EPOCH 2 - PROGRESS: at 23.68% examples, 289699 words/s, in_qsize 5, out_qsize 0\n",
      "2021-02-23 20:18:11,419 : INFO : EPOCH 2 - PROGRESS: at 30.97% examples, 284064 words/s, in_qsize 22, out_qsize 2\n",
      "2021-02-23 20:18:12,422 : INFO : EPOCH 2 - PROGRESS: at 38.87% examples, 286156 words/s, in_qsize 0, out_qsize 1\n",
      "2021-02-23 20:18:13,438 : INFO : EPOCH 2 - PROGRESS: at 47.53% examples, 291747 words/s, in_qsize 0, out_qsize 0\n",
      "2021-02-23 20:18:14,448 : INFO : EPOCH 2 - PROGRESS: at 55.75% examples, 293082 words/s, in_qsize 0, out_qsize 2\n",
      "2021-02-23 20:18:15,452 : INFO : EPOCH 2 - PROGRESS: at 64.16% examples, 295180 words/s, in_qsize 18, out_qsize 0\n",
      "2021-02-23 20:18:16,452 : INFO : EPOCH 2 - PROGRESS: at 72.46% examples, 296605 words/s, in_qsize 10, out_qsize 2\n",
      "2021-02-23 20:18:17,460 : INFO : EPOCH 2 - PROGRESS: at 80.44% examples, 296106 words/s, in_qsize 22, out_qsize 1\n",
      "2021-02-23 20:18:18,465 : INFO : EPOCH 2 - PROGRESS: at 89.95% examples, 300612 words/s, in_qsize 0, out_qsize 0\n",
      "2021-02-23 20:18:19,466 : INFO : EPOCH 2 - PROGRESS: at 97.88% examples, 300074 words/s, in_qsize 0, out_qsize 1\n",
      "2021-02-23 20:18:19,666 : INFO : worker thread finished; awaiting finish of 11 more threads\n",
      "2021-02-23 20:18:19,677 : INFO : worker thread finished; awaiting finish of 10 more threads\n",
      "2021-02-23 20:18:19,679 : INFO : worker thread finished; awaiting finish of 9 more threads\n",
      "2021-02-23 20:18:19,680 : INFO : worker thread finished; awaiting finish of 8 more threads\n",
      "2021-02-23 20:18:19,682 : INFO : worker thread finished; awaiting finish of 7 more threads\n",
      "2021-02-23 20:18:19,683 : INFO : worker thread finished; awaiting finish of 6 more threads\n",
      "2021-02-23 20:18:19,685 : INFO : worker thread finished; awaiting finish of 5 more threads\n",
      "2021-02-23 20:18:19,693 : INFO : worker thread finished; awaiting finish of 4 more threads\n",
      "2021-02-23 20:18:19,702 : INFO : worker thread finished; awaiting finish of 3 more threads\n",
      "2021-02-23 20:18:19,709 : INFO : worker thread finished; awaiting finish of 2 more threads\n",
      "2021-02-23 20:18:19,718 : INFO : worker thread finished; awaiting finish of 1 more threads\n",
      "2021-02-23 20:18:19,720 : INFO : worker thread finished; awaiting finish of 0 more threads\n",
      "2021-02-23 20:18:19,721 : INFO : EPOCH - 2 : training on 15387847 raw words (3698164 effective words) took 12.3s, 300287 effective words/s\n",
      "2021-02-23 20:18:20,746 : INFO : EPOCH 3 - PROGRESS: at 8.53% examples, 303401 words/s, in_qsize 1, out_qsize 1\n",
      "2021-02-23 20:18:21,782 : INFO : EPOCH 3 - PROGRESS: at 16.70% examples, 296426 words/s, in_qsize 7, out_qsize 1\n",
      "2021-02-23 20:18:22,784 : INFO : EPOCH 3 - PROGRESS: at 25.04% examples, 301140 words/s, in_qsize 0, out_qsize 0\n",
      "2021-02-23 20:18:23,796 : INFO : EPOCH 3 - PROGRESS: at 33.13% examples, 299525 words/s, in_qsize 24, out_qsize 0\n",
      "2021-02-23 20:18:24,807 : INFO : EPOCH 3 - PROGRESS: at 41.69% examples, 303129 words/s, in_qsize 22, out_qsize 0\n",
      "2021-02-23 20:18:25,821 : INFO : EPOCH 3 - PROGRESS: at 50.69% examples, 307815 words/s, in_qsize 3, out_qsize 3\n",
      "2021-02-23 20:18:26,848 : INFO : EPOCH 3 - PROGRESS: at 59.19% examples, 307313 words/s, in_qsize 2, out_qsize 2\n",
      "2021-02-23 20:18:27,859 : INFO : EPOCH 3 - PROGRESS: at 66.82% examples, 304133 words/s, in_qsize 1, out_qsize 0\n",
      "2021-02-23 20:18:28,869 : INFO : EPOCH 3 - PROGRESS: at 75.13% examples, 304133 words/s, in_qsize 8, out_qsize 1\n",
      "2021-02-23 20:18:29,871 : INFO : EPOCH 3 - PROGRESS: at 83.80% examples, 305454 words/s, in_qsize 0, out_qsize 1\n",
      "2021-02-23 20:18:30,873 : INFO : EPOCH 3 - PROGRESS: at 91.41% examples, 302914 words/s, in_qsize 22, out_qsize 1\n",
      "2021-02-23 20:18:31,766 : INFO : worker thread finished; awaiting finish of 11 more threads\n",
      "2021-02-23 20:18:31,769 : INFO : worker thread finished; awaiting finish of 10 more threads\n",
      "2021-02-23 20:18:31,770 : INFO : worker thread finished; awaiting finish of 9 more threads\n",
      "2021-02-23 20:18:31,772 : INFO : worker thread finished; awaiting finish of 8 more threads\n",
      "2021-02-23 20:18:31,773 : INFO : worker thread finished; awaiting finish of 7 more threads\n",
      "2021-02-23 20:18:31,774 : INFO : worker thread finished; awaiting finish of 6 more threads\n",
      "2021-02-23 20:18:31,776 : INFO : worker thread finished; awaiting finish of 5 more threads\n",
      "2021-02-23 20:18:31,780 : INFO : worker thread finished; awaiting finish of 4 more threads\n",
      "2021-02-23 20:18:31,783 : INFO : worker thread finished; awaiting finish of 3 more threads\n",
      "2021-02-23 20:18:31,790 : INFO : worker thread finished; awaiting finish of 2 more threads\n",
      "2021-02-23 20:18:31,800 : INFO : worker thread finished; awaiting finish of 1 more threads\n",
      "2021-02-23 20:18:31,803 : INFO : worker thread finished; awaiting finish of 0 more threads\n",
      "2021-02-23 20:18:31,804 : INFO : EPOCH - 3 : training on 15387847 raw words (3696724 effective words) took 12.1s, 306050 effective words/s\n",
      "2021-02-23 20:18:32,812 : INFO : EPOCH 4 - PROGRESS: at 9.13% examples, 330540 words/s, in_qsize 0, out_qsize 0\n",
      "2021-02-23 20:18:33,822 : INFO : EPOCH 4 - PROGRESS: at 17.31% examples, 313134 words/s, in_qsize 0, out_qsize 0\n",
      "2021-02-23 20:18:34,825 : INFO : EPOCH 4 - PROGRESS: at 24.91% examples, 303415 words/s, in_qsize 0, out_qsize 0\n"
     ]
    },
    {
     "name": "stderr",
     "output_type": "stream",
     "text": [
      "2021-02-23 20:18:35,825 : INFO : EPOCH 4 - PROGRESS: at 32.25% examples, 295302 words/s, in_qsize 14, out_qsize 2\n",
      "2021-02-23 20:18:36,837 : INFO : EPOCH 4 - PROGRESS: at 41.19% examples, 302191 words/s, in_qsize 0, out_qsize 1\n",
      "2021-02-23 20:18:37,862 : INFO : EPOCH 4 - PROGRESS: at 49.45% examples, 302112 words/s, in_qsize 23, out_qsize 0\n",
      "2021-02-23 20:18:38,871 : INFO : EPOCH 4 - PROGRESS: at 58.72% examples, 307469 words/s, in_qsize 1, out_qsize 0\n",
      "2021-02-23 20:18:39,885 : INFO : EPOCH 4 - PROGRESS: at 67.64% examples, 310138 words/s, in_qsize 0, out_qsize 1\n",
      "2021-02-23 20:18:40,899 : INFO : EPOCH 4 - PROGRESS: at 76.53% examples, 311657 words/s, in_qsize 0, out_qsize 4\n",
      "2021-02-23 20:18:41,906 : INFO : EPOCH 4 - PROGRESS: at 85.59% examples, 313313 words/s, in_qsize 0, out_qsize 0\n",
      "2021-02-23 20:18:42,967 : INFO : EPOCH 4 - PROGRESS: at 94.40% examples, 312761 words/s, in_qsize 14, out_qsize 1\n",
      "2021-02-23 20:18:43,486 : INFO : worker thread finished; awaiting finish of 11 more threads\n",
      "2021-02-23 20:18:43,492 : INFO : worker thread finished; awaiting finish of 10 more threads\n",
      "2021-02-23 20:18:43,494 : INFO : worker thread finished; awaiting finish of 9 more threads\n",
      "2021-02-23 20:18:43,502 : INFO : worker thread finished; awaiting finish of 8 more threads\n",
      "2021-02-23 20:18:43,504 : INFO : worker thread finished; awaiting finish of 7 more threads\n",
      "2021-02-23 20:18:43,509 : INFO : worker thread finished; awaiting finish of 6 more threads\n",
      "2021-02-23 20:18:43,513 : INFO : worker thread finished; awaiting finish of 5 more threads\n",
      "2021-02-23 20:18:43,519 : INFO : worker thread finished; awaiting finish of 4 more threads\n",
      "2021-02-23 20:18:43,531 : INFO : worker thread finished; awaiting finish of 3 more threads\n",
      "2021-02-23 20:18:43,535 : INFO : worker thread finished; awaiting finish of 2 more threads\n",
      "2021-02-23 20:18:43,537 : INFO : worker thread finished; awaiting finish of 1 more threads\n",
      "2021-02-23 20:18:43,538 : INFO : worker thread finished; awaiting finish of 0 more threads\n",
      "2021-02-23 20:18:43,539 : INFO : EPOCH - 4 : training on 15387847 raw words (3697622 effective words) took 11.7s, 315219 effective words/s\n",
      "2021-02-23 20:18:44,548 : INFO : EPOCH 5 - PROGRESS: at 8.93% examples, 323261 words/s, in_qsize 0, out_qsize 0\n",
      "2021-02-23 20:18:45,552 : INFO : EPOCH 5 - PROGRESS: at 17.18% examples, 311888 words/s, in_qsize 17, out_qsize 0\n",
      "2021-02-23 20:18:46,559 : INFO : EPOCH 5 - PROGRESS: at 26.01% examples, 317398 words/s, in_qsize 24, out_qsize 0\n",
      "2021-02-23 20:18:47,562 : INFO : EPOCH 5 - PROGRESS: at 35.38% examples, 324158 words/s, in_qsize 0, out_qsize 0\n",
      "2021-02-23 20:18:48,574 : INFO : EPOCH 5 - PROGRESS: at 43.86% examples, 322917 words/s, in_qsize 1, out_qsize 2\n",
      "2021-02-23 20:18:49,596 : INFO : EPOCH 5 - PROGRESS: at 52.08% examples, 318997 words/s, in_qsize 23, out_qsize 0\n",
      "2021-02-23 20:18:50,606 : INFO : EPOCH 5 - PROGRESS: at 61.17% examples, 320796 words/s, in_qsize 0, out_qsize 0\n",
      "2021-02-23 20:18:51,618 : INFO : EPOCH 5 - PROGRESS: at 69.56% examples, 319305 words/s, in_qsize 17, out_qsize 1\n",
      "2021-02-23 20:18:52,620 : INFO : EPOCH 5 - PROGRESS: at 78.96% examples, 321962 words/s, in_qsize 1, out_qsize 0\n",
      "2021-02-23 20:18:53,624 : INFO : EPOCH 5 - PROGRESS: at 87.51% examples, 321040 words/s, in_qsize 0, out_qsize 1\n",
      "2021-02-23 20:18:54,637 : INFO : EPOCH 5 - PROGRESS: at 96.38% examples, 321289 words/s, in_qsize 0, out_qsize 0\n",
      "2021-02-23 20:18:54,991 : INFO : worker thread finished; awaiting finish of 11 more threads\n",
      "2021-02-23 20:18:55,004 : INFO : worker thread finished; awaiting finish of 10 more threads\n",
      "2021-02-23 20:18:55,005 : INFO : worker thread finished; awaiting finish of 9 more threads\n",
      "2021-02-23 20:18:55,006 : INFO : worker thread finished; awaiting finish of 8 more threads\n",
      "2021-02-23 20:18:55,007 : INFO : worker thread finished; awaiting finish of 7 more threads\n",
      "2021-02-23 20:18:55,009 : INFO : worker thread finished; awaiting finish of 6 more threads\n",
      "2021-02-23 20:18:55,022 : INFO : worker thread finished; awaiting finish of 5 more threads\n",
      "2021-02-23 20:18:55,026 : INFO : worker thread finished; awaiting finish of 4 more threads\n",
      "2021-02-23 20:18:55,028 : INFO : worker thread finished; awaiting finish of 3 more threads\n",
      "2021-02-23 20:18:55,031 : INFO : worker thread finished; awaiting finish of 2 more threads\n",
      "2021-02-23 20:18:55,037 : INFO : worker thread finished; awaiting finish of 1 more threads\n",
      "2021-02-23 20:18:55,045 : INFO : worker thread finished; awaiting finish of 0 more threads\n",
      "2021-02-23 20:18:55,047 : INFO : EPOCH - 5 : training on 15387847 raw words (3697956 effective words) took 11.5s, 321500 effective words/s\n",
      "2021-02-23 20:18:56,053 : INFO : EPOCH 6 - PROGRESS: at 8.27% examples, 300257 words/s, in_qsize 0, out_qsize 1\n",
      "2021-02-23 20:18:57,062 : INFO : EPOCH 6 - PROGRESS: at 17.10% examples, 310853 words/s, in_qsize 0, out_qsize 0\n",
      "2021-02-23 20:18:58,072 : INFO : EPOCH 6 - PROGRESS: at 24.33% examples, 296491 words/s, in_qsize 22, out_qsize 0\n",
      "2021-02-23 20:18:59,075 : INFO : EPOCH 6 - PROGRESS: at 32.66% examples, 299140 words/s, in_qsize 0, out_qsize 0\n",
      "2021-02-23 20:19:00,075 : INFO : EPOCH 6 - PROGRESS: at 40.81% examples, 300118 words/s, in_qsize 0, out_qsize 0\n",
      "2021-02-23 20:19:01,088 : INFO : EPOCH 6 - PROGRESS: at 48.51% examples, 297613 words/s, in_qsize 21, out_qsize 0\n",
      "2021-02-23 20:19:02,098 : INFO : EPOCH 6 - PROGRESS: at 57.63% examples, 302832 words/s, in_qsize 0, out_qsize 0\n",
      "2021-02-23 20:19:03,115 : INFO : EPOCH 6 - PROGRESS: at 66.09% examples, 303699 words/s, in_qsize 17, out_qsize 1\n",
      "2021-02-23 20:19:04,121 : INFO : EPOCH 6 - PROGRESS: at 75.18% examples, 307034 words/s, in_qsize 1, out_qsize 0\n",
      "2021-02-23 20:19:05,124 : INFO : EPOCH 6 - PROGRESS: at 83.73% examples, 307688 words/s, in_qsize 14, out_qsize 0\n",
      "2021-02-23 20:19:06,134 : INFO : EPOCH 6 - PROGRESS: at 92.43% examples, 308355 words/s, in_qsize 0, out_qsize 0\n",
      "2021-02-23 20:19:06,980 : INFO : worker thread finished; awaiting finish of 11 more threads\n",
      "2021-02-23 20:19:06,982 : INFO : worker thread finished; awaiting finish of 10 more threads\n",
      "2021-02-23 20:19:06,983 : INFO : worker thread finished; awaiting finish of 9 more threads\n",
      "2021-02-23 20:19:06,984 : INFO : worker thread finished; awaiting finish of 8 more threads\n",
      "2021-02-23 20:19:06,986 : INFO : worker thread finished; awaiting finish of 7 more threads\n",
      "2021-02-23 20:19:06,986 : INFO : worker thread finished; awaiting finish of 6 more threads\n",
      "2021-02-23 20:19:06,987 : INFO : worker thread finished; awaiting finish of 5 more threads\n",
      "2021-02-23 20:19:06,989 : INFO : worker thread finished; awaiting finish of 4 more threads\n",
      "2021-02-23 20:19:06,995 : INFO : worker thread finished; awaiting finish of 3 more threads\n",
      "2021-02-23 20:19:07,004 : INFO : worker thread finished; awaiting finish of 2 more threads\n",
      "2021-02-23 20:19:07,011 : INFO : worker thread finished; awaiting finish of 1 more threads\n",
      "2021-02-23 20:19:07,012 : INFO : worker thread finished; awaiting finish of 0 more threads\n",
      "2021-02-23 20:19:07,014 : INFO : EPOCH - 6 : training on 15387847 raw words (3698555 effective words) took 12.0s, 309203 effective words/s\n",
      "2021-02-23 20:19:08,020 : INFO : EPOCH 7 - PROGRESS: at 8.80% examples, 319580 words/s, in_qsize 0, out_qsize 0\n",
      "2021-02-23 20:19:09,035 : INFO : EPOCH 7 - PROGRESS: at 16.63% examples, 301327 words/s, in_qsize 18, out_qsize 3\n",
      "2021-02-23 20:19:10,042 : INFO : EPOCH 7 - PROGRESS: at 25.93% examples, 316167 words/s, in_qsize 0, out_qsize 1\n",
      "2021-02-23 20:19:11,050 : INFO : EPOCH 7 - PROGRESS: at 34.99% examples, 319713 words/s, in_qsize 1, out_qsize 2\n",
      "2021-02-23 20:19:12,052 : INFO : EPOCH 7 - PROGRESS: at 44.18% examples, 324937 words/s, in_qsize 0, out_qsize 0\n",
      "2021-02-23 20:19:13,079 : INFO : EPOCH 7 - PROGRESS: at 52.81% examples, 322790 words/s, in_qsize 7, out_qsize 1\n",
      "2021-02-23 20:19:14,100 : INFO : EPOCH 7 - PROGRESS: at 61.29% examples, 320493 words/s, in_qsize 14, out_qsize 3\n",
      "2021-02-23 20:19:15,101 : INFO : EPOCH 7 - PROGRESS: at 70.10% examples, 321149 words/s, in_qsize 17, out_qsize 1\n",
      "2021-02-23 20:19:16,107 : INFO : EPOCH 7 - PROGRESS: at 79.85% examples, 325200 words/s, in_qsize 0, out_qsize 0\n",
      "2021-02-23 20:19:17,114 : INFO : EPOCH 7 - PROGRESS: at 88.80% examples, 325044 words/s, in_qsize 4, out_qsize 1\n"
     ]
    },
    {
     "name": "stderr",
     "output_type": "stream",
     "text": [
      "2021-02-23 20:19:18,119 : INFO : EPOCH 7 - PROGRESS: at 97.89% examples, 325988 words/s, in_qsize 0, out_qsize 0\n",
      "2021-02-23 20:19:18,303 : INFO : worker thread finished; awaiting finish of 11 more threads\n",
      "2021-02-23 20:19:18,319 : INFO : worker thread finished; awaiting finish of 10 more threads\n",
      "2021-02-23 20:19:18,328 : INFO : worker thread finished; awaiting finish of 9 more threads\n",
      "2021-02-23 20:19:18,329 : INFO : worker thread finished; awaiting finish of 8 more threads\n",
      "2021-02-23 20:19:18,331 : INFO : worker thread finished; awaiting finish of 7 more threads\n",
      "2021-02-23 20:19:18,341 : INFO : worker thread finished; awaiting finish of 6 more threads\n",
      "2021-02-23 20:19:18,343 : INFO : worker thread finished; awaiting finish of 5 more threads\n",
      "2021-02-23 20:19:18,354 : INFO : worker thread finished; awaiting finish of 4 more threads\n",
      "2021-02-23 20:19:18,357 : INFO : worker thread finished; awaiting finish of 3 more threads\n",
      "2021-02-23 20:19:18,359 : INFO : worker thread finished; awaiting finish of 2 more threads\n",
      "2021-02-23 20:19:18,369 : INFO : worker thread finished; awaiting finish of 1 more threads\n",
      "2021-02-23 20:19:18,372 : INFO : worker thread finished; awaiting finish of 0 more threads\n",
      "2021-02-23 20:19:18,373 : INFO : EPOCH - 7 : training on 15387847 raw words (3697381 effective words) took 11.4s, 325635 effective words/s\n",
      "2021-02-23 20:19:19,395 : INFO : EPOCH 8 - PROGRESS: at 8.40% examples, 299985 words/s, in_qsize 0, out_qsize 0\n",
      "2021-02-23 20:19:20,397 : INFO : EPOCH 8 - PROGRESS: at 17.77% examples, 321132 words/s, in_qsize 0, out_qsize 0\n",
      "2021-02-23 20:19:21,404 : INFO : EPOCH 8 - PROGRESS: at 26.67% examples, 323766 words/s, in_qsize 4, out_qsize 0\n",
      "2021-02-23 20:19:22,405 : INFO : EPOCH 8 - PROGRESS: at 35.12% examples, 320946 words/s, in_qsize 0, out_qsize 0\n",
      "2021-02-23 20:19:23,414 : INFO : EPOCH 8 - PROGRESS: at 42.77% examples, 314026 words/s, in_qsize 23, out_qsize 0\n",
      "2021-02-23 20:19:24,421 : INFO : EPOCH 8 - PROGRESS: at 52.29% examples, 320390 words/s, in_qsize 0, out_qsize 2\n",
      "2021-02-23 20:19:25,440 : INFO : EPOCH 8 - PROGRESS: at 61.36% examples, 321688 words/s, in_qsize 0, out_qsize 2\n",
      "2021-02-23 20:19:26,443 : INFO : EPOCH 8 - PROGRESS: at 70.63% examples, 324212 words/s, in_qsize 0, out_qsize 0\n",
      "2021-02-23 20:19:27,475 : INFO : EPOCH 8 - PROGRESS: at 78.76% examples, 320289 words/s, in_qsize 23, out_qsize 1\n",
      "2021-02-23 20:19:28,510 : INFO : EPOCH 8 - PROGRESS: at 88.32% examples, 322154 words/s, in_qsize 19, out_qsize 1\n",
      "2021-02-23 20:19:29,515 : INFO : EPOCH 8 - PROGRESS: at 97.77% examples, 324446 words/s, in_qsize 0, out_qsize 0\n",
      "2021-02-23 20:19:29,713 : INFO : worker thread finished; awaiting finish of 11 more threads\n",
      "2021-02-23 20:19:29,719 : INFO : worker thread finished; awaiting finish of 10 more threads\n",
      "2021-02-23 20:19:29,720 : INFO : worker thread finished; awaiting finish of 9 more threads\n",
      "2021-02-23 20:19:29,722 : INFO : worker thread finished; awaiting finish of 8 more threads\n",
      "2021-02-23 20:19:29,724 : INFO : worker thread finished; awaiting finish of 7 more threads\n",
      "2021-02-23 20:19:29,725 : INFO : worker thread finished; awaiting finish of 6 more threads\n",
      "2021-02-23 20:19:29,727 : INFO : worker thread finished; awaiting finish of 5 more threads\n",
      "2021-02-23 20:19:29,748 : INFO : worker thread finished; awaiting finish of 4 more threads\n",
      "2021-02-23 20:19:29,751 : INFO : worker thread finished; awaiting finish of 3 more threads\n",
      "2021-02-23 20:19:29,753 : INFO : worker thread finished; awaiting finish of 2 more threads\n",
      "2021-02-23 20:19:29,756 : INFO : worker thread finished; awaiting finish of 1 more threads\n",
      "2021-02-23 20:19:29,761 : INFO : worker thread finished; awaiting finish of 0 more threads\n",
      "2021-02-23 20:19:29,762 : INFO : EPOCH - 8 : training on 15387847 raw words (3696898 effective words) took 11.4s, 324724 effective words/s\n",
      "2021-02-23 20:19:30,770 : INFO : EPOCH 9 - PROGRESS: at 7.74% examples, 280513 words/s, in_qsize 16, out_qsize 0\n",
      "2021-02-23 20:19:31,772 : INFO : EPOCH 9 - PROGRESS: at 16.97% examples, 309241 words/s, in_qsize 16, out_qsize 0\n",
      "2021-02-23 20:19:32,773 : INFO : EPOCH 9 - PROGRESS: at 25.74% examples, 315354 words/s, in_qsize 15, out_qsize 1\n",
      "2021-02-23 20:19:33,782 : INFO : EPOCH 9 - PROGRESS: at 34.93% examples, 320422 words/s, in_qsize 17, out_qsize 1\n",
      "2021-02-23 20:19:34,782 : INFO : EPOCH 9 - PROGRESS: at 43.46% examples, 320961 words/s, in_qsize 0, out_qsize 1\n",
      "2021-02-23 20:19:35,799 : INFO : EPOCH 9 - PROGRESS: at 52.49% examples, 322443 words/s, in_qsize 7, out_qsize 0\n",
      "2021-02-23 20:19:36,812 : INFO : EPOCH 9 - PROGRESS: at 61.49% examples, 323373 words/s, in_qsize 5, out_qsize 2\n",
      "2021-02-23 20:19:37,850 : INFO : EPOCH 9 - PROGRESS: at 70.69% examples, 324023 words/s, in_qsize 0, out_qsize 4\n",
      "2021-02-23 20:19:38,858 : INFO : EPOCH 9 - PROGRESS: at 79.10% examples, 322053 words/s, in_qsize 0, out_qsize 0\n",
      "2021-02-23 20:19:39,862 : INFO : EPOCH 9 - PROGRESS: at 88.04% examples, 322534 words/s, in_qsize 0, out_qsize 1\n",
      "2021-02-23 20:19:40,886 : INFO : EPOCH 9 - PROGRESS: at 96.66% examples, 321520 words/s, in_qsize 23, out_qsize 0\n",
      "2021-02-23 20:19:41,166 : INFO : worker thread finished; awaiting finish of 11 more threads\n",
      "2021-02-23 20:19:41,176 : INFO : worker thread finished; awaiting finish of 10 more threads\n",
      "2021-02-23 20:19:41,178 : INFO : worker thread finished; awaiting finish of 9 more threads\n",
      "2021-02-23 20:19:41,180 : INFO : worker thread finished; awaiting finish of 8 more threads\n",
      "2021-02-23 20:19:41,182 : INFO : worker thread finished; awaiting finish of 7 more threads\n",
      "2021-02-23 20:19:41,187 : INFO : worker thread finished; awaiting finish of 6 more threads\n",
      "2021-02-23 20:19:41,190 : INFO : worker thread finished; awaiting finish of 5 more threads\n",
      "2021-02-23 20:19:41,192 : INFO : worker thread finished; awaiting finish of 4 more threads\n",
      "2021-02-23 20:19:41,199 : INFO : worker thread finished; awaiting finish of 3 more threads\n",
      "2021-02-23 20:19:41,212 : INFO : worker thread finished; awaiting finish of 2 more threads\n",
      "2021-02-23 20:19:41,213 : INFO : worker thread finished; awaiting finish of 1 more threads\n",
      "2021-02-23 20:19:41,216 : INFO : worker thread finished; awaiting finish of 0 more threads\n",
      "2021-02-23 20:19:41,218 : INFO : EPOCH - 9 : training on 15387847 raw words (3698904 effective words) took 11.5s, 323031 effective words/s\n",
      "2021-02-23 20:19:42,223 : INFO : EPOCH 10 - PROGRESS: at 8.00% examples, 290729 words/s, in_qsize 19, out_qsize 0\n",
      "2021-02-23 20:19:43,229 : INFO : EPOCH 10 - PROGRESS: at 17.78% examples, 323124 words/s, in_qsize 0, out_qsize 0\n",
      "2021-02-23 20:19:44,245 : INFO : EPOCH 10 - PROGRESS: at 26.07% examples, 317528 words/s, in_qsize 10, out_qsize 2\n",
      "2021-02-23 20:19:45,249 : INFO : EPOCH 10 - PROGRESS: at 35.38% examples, 323656 words/s, in_qsize 1, out_qsize 0\n",
      "2021-02-23 20:19:46,256 : INFO : EPOCH 10 - PROGRESS: at 43.80% examples, 322332 words/s, in_qsize 12, out_qsize 0\n",
      "2021-02-23 20:19:47,263 : INFO : EPOCH 10 - PROGRESS: at 52.76% examples, 323652 words/s, in_qsize 9, out_qsize 0\n",
      "2021-02-23 20:19:48,279 : INFO : EPOCH 10 - PROGRESS: at 61.43% examples, 322548 words/s, in_qsize 24, out_qsize 0\n",
      "2021-02-23 20:19:49,283 : INFO : EPOCH 10 - PROGRESS: at 70.63% examples, 324585 words/s, in_qsize 5, out_qsize 2\n",
      "2021-02-23 20:19:50,292 : INFO : EPOCH 10 - PROGRESS: at 79.22% examples, 323313 words/s, in_qsize 23, out_qsize 0\n",
      "2021-02-23 20:19:51,302 : INFO : EPOCH 10 - PROGRESS: at 88.73% examples, 325450 words/s, in_qsize 0, out_qsize 0\n",
      "2021-02-23 20:19:52,314 : INFO : EPOCH 10 - PROGRESS: at 97.25% examples, 324163 words/s, in_qsize 23, out_qsize 1\n",
      "2021-02-23 20:19:52,516 : INFO : worker thread finished; awaiting finish of 11 more threads\n",
      "2021-02-23 20:19:52,517 : INFO : worker thread finished; awaiting finish of 10 more threads\n",
      "2021-02-23 20:19:52,519 : INFO : worker thread finished; awaiting finish of 9 more threads\n",
      "2021-02-23 20:19:52,520 : INFO : worker thread finished; awaiting finish of 8 more threads\n",
      "2021-02-23 20:19:52,530 : INFO : worker thread finished; awaiting finish of 7 more threads\n",
      "2021-02-23 20:19:52,532 : INFO : worker thread finished; awaiting finish of 6 more threads\n",
      "2021-02-23 20:19:52,534 : INFO : worker thread finished; awaiting finish of 5 more threads\n"
     ]
    },
    {
     "name": "stderr",
     "output_type": "stream",
     "text": [
      "2021-02-23 20:19:52,536 : INFO : worker thread finished; awaiting finish of 4 more threads\n",
      "2021-02-23 20:19:52,543 : INFO : worker thread finished; awaiting finish of 3 more threads\n",
      "2021-02-23 20:19:52,550 : INFO : worker thread finished; awaiting finish of 2 more threads\n",
      "2021-02-23 20:19:52,554 : INFO : worker thread finished; awaiting finish of 1 more threads\n",
      "2021-02-23 20:19:52,556 : INFO : worker thread finished; awaiting finish of 0 more threads\n",
      "2021-02-23 20:19:52,556 : INFO : EPOCH - 10 : training on 15387847 raw words (3698278 effective words) took 11.3s, 326325 effective words/s\n",
      "2021-02-23 20:19:52,558 : INFO : training on a 153878470 raw words (36976985 effective words) took 117.2s, 315635 effective words/s\n",
      "2021-02-23 20:19:52,559 : INFO : saving Word2Vec object under dados/experimento_1/w2v_jur.model, separately None\n",
      "2021-02-23 20:19:52,560 : INFO : not storing attribute vectors_norm\n",
      "2021-02-23 20:19:52,561 : INFO : not storing attribute cum_table\n",
      "2021-02-23 20:19:53,631 : INFO : saved dados/experimento_1/w2v_jur.model\n"
     ]
    }
   ],
   "source": [
    "w2v_jur = grouper.treinar_word2vec('dados/experimento_'+str(exp)+'/base_treino.txt', exp)"
   ]
  },
  {
   "cell_type": "code",
   "execution_count": 7,
   "metadata": {
    "scrolled": true
   },
   "outputs": [
    {
     "name": "stdout",
     "output_type": "stream",
     "text": [
      "treinando modelo word2vec\n"
     ]
    },
    {
     "name": "stderr",
     "output_type": "stream",
     "text": [
      "2021-02-23 20:19:53,710 : INFO : resetting layer weights\n",
      "2021-02-23 20:19:58,709 : INFO : collecting all words and their counts\n",
      "2021-02-23 20:19:58,710 : INFO : PROGRESS: at sentence #0, processed 0 words, keeping 0 word types\n",
      "2021-02-23 20:19:58,776 : INFO : PROGRESS: at sentence #10000, processed 235769 words, keeping 13479 word types\n",
      "2021-02-23 20:19:58,848 : INFO : PROGRESS: at sentence #20000, processed 478506 words, keeping 18827 word types\n",
      "2021-02-23 20:19:58,917 : INFO : PROGRESS: at sentence #30000, processed 716990 words, keeping 22433 word types\n",
      "2021-02-23 20:19:58,986 : INFO : PROGRESS: at sentence #40000, processed 956912 words, keeping 25453 word types\n",
      "2021-02-23 20:19:59,054 : INFO : PROGRESS: at sentence #50000, processed 1198453 words, keeping 27868 word types\n",
      "2021-02-23 20:19:59,125 : INFO : PROGRESS: at sentence #60000, processed 1434600 words, keeping 30340 word types\n",
      "2021-02-23 20:19:59,194 : INFO : PROGRESS: at sentence #70000, processed 1678430 words, keeping 32461 word types\n",
      "2021-02-23 20:19:59,261 : INFO : PROGRESS: at sentence #80000, processed 1918098 words, keeping 34310 word types\n",
      "2021-02-23 20:19:59,327 : INFO : PROGRESS: at sentence #90000, processed 2156336 words, keeping 36035 word types\n",
      "2021-02-23 20:19:59,395 : INFO : PROGRESS: at sentence #100000, processed 2398940 words, keeping 37617 word types\n",
      "2021-02-23 20:19:59,460 : INFO : PROGRESS: at sentence #110000, processed 2637175 words, keeping 39115 word types\n",
      "2021-02-23 20:19:59,526 : INFO : PROGRESS: at sentence #120000, processed 2877198 words, keeping 40535 word types\n",
      "2021-02-23 20:19:59,592 : INFO : PROGRESS: at sentence #130000, processed 3116326 words, keeping 41914 word types\n",
      "2021-02-23 20:19:59,660 : INFO : PROGRESS: at sentence #140000, processed 3366816 words, keeping 43473 word types\n",
      "2021-02-23 20:19:59,730 : INFO : PROGRESS: at sentence #150000, processed 3614701 words, keeping 44786 word types\n",
      "2021-02-23 20:19:59,796 : INFO : PROGRESS: at sentence #160000, processed 3855422 words, keeping 46007 word types\n",
      "2021-02-23 20:19:59,861 : INFO : PROGRESS: at sentence #170000, processed 4094891 words, keeping 47124 word types\n",
      "2021-02-23 20:19:59,927 : INFO : PROGRESS: at sentence #180000, processed 4334237 words, keeping 48340 word types\n",
      "2021-02-23 20:19:59,993 : INFO : PROGRESS: at sentence #190000, processed 4576252 words, keeping 49342 word types\n",
      "2021-02-23 20:20:00,065 : INFO : PROGRESS: at sentence #200000, processed 4824132 words, keeping 50480 word types\n",
      "2021-02-23 20:20:00,134 : INFO : PROGRESS: at sentence #210000, processed 5062126 words, keeping 51483 word types\n",
      "2021-02-23 20:20:00,202 : INFO : PROGRESS: at sentence #220000, processed 5305266 words, keeping 52429 word types\n",
      "2021-02-23 20:20:00,269 : INFO : PROGRESS: at sentence #230000, processed 5550723 words, keeping 53444 word types\n",
      "2021-02-23 20:20:00,338 : INFO : PROGRESS: at sentence #240000, processed 5800318 words, keeping 54412 word types\n",
      "2021-02-23 20:20:00,406 : INFO : PROGRESS: at sentence #250000, processed 6049857 words, keeping 55457 word types\n",
      "2021-02-23 20:20:00,473 : INFO : PROGRESS: at sentence #260000, processed 6288867 words, keeping 56253 word types\n",
      "2021-02-23 20:20:00,541 : INFO : PROGRESS: at sentence #270000, processed 6539964 words, keeping 57133 word types\n",
      "2021-02-23 20:20:00,609 : INFO : PROGRESS: at sentence #280000, processed 6783410 words, keeping 57987 word types\n",
      "2021-02-23 20:20:00,674 : INFO : PROGRESS: at sentence #290000, processed 7025570 words, keeping 58857 word types\n",
      "2021-02-23 20:20:00,742 : INFO : PROGRESS: at sentence #300000, processed 7272182 words, keeping 59616 word types\n",
      "2021-02-23 20:20:00,810 : INFO : PROGRESS: at sentence #310000, processed 7515122 words, keeping 60294 word types\n",
      "2021-02-23 20:20:00,880 : INFO : PROGRESS: at sentence #320000, processed 7760803 words, keeping 61115 word types\n",
      "2021-02-23 20:20:00,950 : INFO : PROGRESS: at sentence #330000, processed 8007403 words, keeping 61972 word types\n",
      "2021-02-23 20:20:01,018 : INFO : PROGRESS: at sentence #340000, processed 8245032 words, keeping 62740 word types\n",
      "2021-02-23 20:20:01,086 : INFO : PROGRESS: at sentence #350000, processed 8486427 words, keeping 63495 word types\n",
      "2021-02-23 20:20:01,154 : INFO : PROGRESS: at sentence #360000, processed 8726848 words, keeping 64225 word types\n",
      "2021-02-23 20:20:01,223 : INFO : PROGRESS: at sentence #370000, processed 8973299 words, keeping 64913 word types\n",
      "2021-02-23 20:20:01,290 : INFO : PROGRESS: at sentence #380000, processed 9213292 words, keeping 65645 word types\n",
      "2021-02-23 20:20:01,358 : INFO : PROGRESS: at sentence #390000, processed 9460659 words, keeping 66427 word types\n",
      "2021-02-23 20:20:01,425 : INFO : PROGRESS: at sentence #400000, processed 9704171 words, keeping 67037 word types\n",
      "2021-02-23 20:20:01,491 : INFO : PROGRESS: at sentence #410000, processed 9944273 words, keeping 67717 word types\n",
      "2021-02-23 20:20:01,558 : INFO : PROGRESS: at sentence #420000, processed 10186493 words, keeping 68483 word types\n",
      "2021-02-23 20:20:01,626 : INFO : PROGRESS: at sentence #430000, processed 10430824 words, keeping 69260 word types\n",
      "2021-02-23 20:20:01,692 : INFO : PROGRESS: at sentence #440000, processed 10675104 words, keeping 69962 word types\n",
      "2021-02-23 20:20:01,758 : INFO : PROGRESS: at sentence #450000, processed 10916543 words, keeping 70624 word types\n",
      "2021-02-23 20:20:01,822 : INFO : PROGRESS: at sentence #460000, processed 11153599 words, keeping 71178 word types\n",
      "2021-02-23 20:20:01,890 : INFO : PROGRESS: at sentence #470000, processed 11400246 words, keeping 71873 word types\n",
      "2021-02-23 20:20:01,955 : INFO : PROGRESS: at sentence #480000, processed 11641081 words, keeping 72449 word types\n",
      "2021-02-23 20:20:02,020 : INFO : PROGRESS: at sentence #490000, processed 11879460 words, keeping 73023 word types\n",
      "2021-02-23 20:20:02,089 : INFO : PROGRESS: at sentence #500000, processed 12122776 words, keeping 73581 word types\n",
      "2021-02-23 20:20:02,157 : INFO : PROGRESS: at sentence #510000, processed 12367121 words, keeping 74255 word types\n",
      "2021-02-23 20:20:02,225 : INFO : PROGRESS: at sentence #520000, processed 12607611 words, keeping 74782 word types\n",
      "2021-02-23 20:20:02,291 : INFO : PROGRESS: at sentence #530000, processed 12851530 words, keeping 75319 word types\n",
      "2021-02-23 20:20:02,358 : INFO : PROGRESS: at sentence #540000, processed 13089923 words, keeping 75959 word types\n",
      "2021-02-23 20:20:02,423 : INFO : PROGRESS: at sentence #550000, processed 13327324 words, keeping 76489 word types\n",
      "2021-02-23 20:20:02,492 : INFO : PROGRESS: at sentence #560000, processed 13575962 words, keeping 77031 word types\n",
      "2021-02-23 20:20:02,557 : INFO : PROGRESS: at sentence #570000, processed 13817112 words, keeping 77602 word types\n",
      "2021-02-23 20:20:02,621 : INFO : PROGRESS: at sentence #580000, processed 14052857 words, keeping 78189 word types\n",
      "2021-02-23 20:20:02,689 : INFO : PROGRESS: at sentence #590000, processed 14300517 words, keeping 78737 word types\n",
      "2021-02-23 20:20:02,757 : INFO : PROGRESS: at sentence #600000, processed 14545068 words, keeping 79300 word types\n",
      "2021-02-23 20:20:02,825 : INFO : PROGRESS: at sentence #610000, processed 14792482 words, keeping 79812 word types\n",
      "2021-02-23 20:20:02,892 : INFO : PROGRESS: at sentence #620000, processed 15030477 words, keeping 80319 word types\n",
      "2021-02-23 20:20:02,958 : INFO : PROGRESS: at sentence #630000, processed 15269440 words, keeping 80955 word types\n",
      "2021-02-23 20:20:02,992 : INFO : collected 81218 word types from a corpus of 15387847 raw words and 634862 sentences\n",
      "2021-02-23 20:20:02,992 : INFO : Loading a fresh vocabulary\n",
      "2021-02-23 20:20:03,041 : INFO : effective_min_count=5 retains 32596 unique words (40% of original 81218, drops 48622)\n",
      "2021-02-23 20:20:03,042 : INFO : effective_min_count=5 leaves 15306026 word corpus (99% of original 15387847, drops 81821)\n",
      "2021-02-23 20:20:03,122 : INFO : deleting the raw counts dictionary of 81218 items\n",
      "2021-02-23 20:20:03,125 : INFO : sample=0.001 downsamples 37 most-common words\n",
      "2021-02-23 20:20:03,126 : INFO : downsampling leaves estimated 11075722 word corpus (72.4% of prior 15306026)\n",
      "2021-02-23 20:20:03,147 : INFO : constructing a huffman tree from 32596 words\n",
      "2021-02-23 20:20:03,837 : INFO : built huffman tree with maximum node depth 22\n"
     ]
    },
    {
     "name": "stderr",
     "output_type": "stream",
     "text": [
      "2021-02-23 20:20:04,192 : INFO : estimated required memory for 32596 words, 138020 buckets and 100 dimensions: 125922344 bytes\n",
      "2021-02-23 20:20:04,197 : INFO : resetting layer weights\n",
      "2021-02-23 20:20:07,706 : INFO : training model with 12 workers on 32596 vocabulary and 100 features, using sg=1 hs=1 sample=0.001 negative=5 window=5\n",
      "2021-02-23 20:21:01,488 : INFO : EPOCH 1 - PROGRESS: at 8.33% words, 17192 words/s, in_qsize -1, out_qsize 1\n",
      "2021-02-23 20:21:01,490 : INFO : worker thread finished; awaiting finish of 11 more threads\n",
      "2021-02-23 20:21:01,648 : INFO : worker thread finished; awaiting finish of 10 more threads\n",
      "2021-02-23 20:21:01,891 : INFO : worker thread finished; awaiting finish of 9 more threads\n",
      "2021-02-23 20:21:02,085 : INFO : worker thread finished; awaiting finish of 8 more threads\n",
      "2021-02-23 20:21:02,162 : INFO : worker thread finished; awaiting finish of 7 more threads\n",
      "2021-02-23 20:21:02,235 : INFO : worker thread finished; awaiting finish of 6 more threads\n",
      "2021-02-23 20:21:02,625 : INFO : EPOCH 1 - PROGRESS: at 58.36% words, 117837 words/s, in_qsize -1, out_qsize 1\n",
      "2021-02-23 20:21:02,627 : INFO : worker thread finished; awaiting finish of 5 more threads\n",
      "2021-02-23 20:21:02,853 : INFO : worker thread finished; awaiting finish of 4 more threads\n",
      "2021-02-23 20:21:02,985 : INFO : worker thread finished; awaiting finish of 3 more threads\n",
      "2021-02-23 20:21:03,111 : INFO : worker thread finished; awaiting finish of 2 more threads\n",
      "2021-02-23 20:21:03,425 : INFO : worker thread finished; awaiting finish of 1 more threads\n",
      "2021-02-23 20:21:03,731 : INFO : EPOCH 1 - PROGRESS: at 100.04% words, 197959 words/s, in_qsize -1, out_qsize 1\n",
      "2021-02-23 20:21:03,735 : INFO : worker thread finished; awaiting finish of 0 more threads\n",
      "2021-02-23 20:21:03,735 : INFO : EPOCH - 1 : training on 15394371 raw words (11081995 effective words) took 56.0s, 197943 effective words/s\n",
      "2021-02-23 20:21:56,364 : INFO : EPOCH 2 - PROGRESS: at 8.34% words, 17565 words/s, in_qsize -1, out_qsize 1\n",
      "2021-02-23 20:21:56,366 : INFO : worker thread finished; awaiting finish of 11 more threads\n",
      "2021-02-23 20:21:56,430 : INFO : worker thread finished; awaiting finish of 10 more threads\n",
      "2021-02-23 20:21:56,477 : INFO : worker thread finished; awaiting finish of 9 more threads\n",
      "2021-02-23 20:21:56,495 : INFO : worker thread finished; awaiting finish of 8 more threads\n",
      "2021-02-23 20:21:57,184 : INFO : worker thread finished; awaiting finish of 7 more threads\n",
      "2021-02-23 20:21:57,269 : INFO : worker thread finished; awaiting finish of 6 more threads\n",
      "2021-02-23 20:21:57,358 : INFO : worker thread finished; awaiting finish of 5 more threads\n",
      "2021-02-23 20:21:57,414 : INFO : EPOCH 2 - PROGRESS: at 66.69% words, 137752 words/s, in_qsize -1, out_qsize 1\n",
      "2021-02-23 20:21:57,415 : INFO : worker thread finished; awaiting finish of 4 more threads\n",
      "2021-02-23 20:21:59,904 : INFO : EPOCH 2 - PROGRESS: at 75.03% words, 148080 words/s, in_qsize -1, out_qsize 1\n",
      "2021-02-23 20:21:59,905 : INFO : worker thread finished; awaiting finish of 3 more threads\n",
      "2021-02-23 20:21:59,980 : INFO : worker thread finished; awaiting finish of 2 more threads\n",
      "2021-02-23 20:22:00,019 : INFO : worker thread finished; awaiting finish of 1 more threads\n",
      "2021-02-23 20:22:00,054 : INFO : worker thread finished; awaiting finish of 0 more threads\n",
      "2021-02-23 20:22:00,055 : INFO : EPOCH - 2 : training on 15394371 raw words (11079956 effective words) took 56.3s, 196894 effective words/s\n",
      "2021-02-23 20:22:53,319 : INFO : EPOCH 3 - PROGRESS: at 8.34% words, 17344 words/s, in_qsize -1, out_qsize 1\n",
      "2021-02-23 20:22:53,320 : INFO : worker thread finished; awaiting finish of 11 more threads\n",
      "2021-02-23 20:22:53,364 : INFO : worker thread finished; awaiting finish of 10 more threads\n",
      "2021-02-23 20:22:53,614 : INFO : worker thread finished; awaiting finish of 9 more threads\n",
      "2021-02-23 20:22:53,762 : INFO : worker thread finished; awaiting finish of 8 more threads\n",
      "2021-02-23 20:22:53,981 : INFO : worker thread finished; awaiting finish of 7 more threads\n",
      "2021-02-23 20:22:54,071 : INFO : worker thread finished; awaiting finish of 6 more threads\n",
      "2021-02-23 20:22:54,203 : INFO : worker thread finished; awaiting finish of 5 more threads\n",
      "2021-02-23 20:22:54,376 : INFO : EPOCH 3 - PROGRESS: at 66.70% words, 136130 words/s, in_qsize -1, out_qsize 1\n",
      "2021-02-23 20:22:54,378 : INFO : worker thread finished; awaiting finish of 4 more threads\n",
      "2021-02-23 20:22:54,714 : INFO : worker thread finished; awaiting finish of 3 more threads\n",
      "2021-02-23 20:22:54,800 : INFO : worker thread finished; awaiting finish of 2 more threads\n",
      "2021-02-23 20:22:54,816 : INFO : worker thread finished; awaiting finish of 1 more threads\n",
      "2021-02-23 20:22:54,869 : INFO : worker thread finished; awaiting finish of 0 more threads\n",
      "2021-02-23 20:22:54,870 : INFO : EPOCH - 3 : training on 15394371 raw words (11081885 effective words) took 54.8s, 202352 effective words/s\n",
      "2021-02-23 20:23:48,082 : INFO : EPOCH 4 - PROGRESS: at 8.34% words, 17375 words/s, in_qsize -1, out_qsize 1\n",
      "2021-02-23 20:23:48,085 : INFO : worker thread finished; awaiting finish of 11 more threads\n",
      "2021-02-23 20:23:48,659 : INFO : worker thread finished; awaiting finish of 10 more threads\n",
      "2021-02-23 20:23:48,762 : INFO : worker thread finished; awaiting finish of 9 more threads\n",
      "2021-02-23 20:23:48,790 : INFO : worker thread finished; awaiting finish of 8 more threads\n",
      "2021-02-23 20:23:50,103 : INFO : EPOCH 4 - PROGRESS: at 41.68% words, 83660 words/s, in_qsize -1, out_qsize 1\n",
      "2021-02-23 20:23:50,105 : INFO : worker thread finished; awaiting finish of 7 more threads\n",
      "2021-02-23 20:23:50,413 : INFO : worker thread finished; awaiting finish of 6 more threads\n",
      "2021-02-23 20:23:50,433 : INFO : worker thread finished; awaiting finish of 5 more threads\n",
      "2021-02-23 20:23:50,484 : INFO : worker thread finished; awaiting finish of 4 more threads\n",
      "2021-02-23 20:23:51,144 : INFO : EPOCH 4 - PROGRESS: at 75.03% words, 147833 words/s, in_qsize -1, out_qsize 1\n",
      "2021-02-23 20:23:51,146 : INFO : worker thread finished; awaiting finish of 3 more threads\n",
      "2021-02-23 20:23:51,183 : INFO : worker thread finished; awaiting finish of 2 more threads\n",
      "2021-02-23 20:23:51,334 : INFO : worker thread finished; awaiting finish of 1 more threads\n",
      "2021-02-23 20:23:51,769 : INFO : worker thread finished; awaiting finish of 0 more threads\n",
      "2021-02-23 20:23:51,771 : INFO : EPOCH - 4 : training on 15394371 raw words (11081172 effective words) took 56.9s, 194914 effective words/s\n",
      "2021-02-23 20:24:46,297 : INFO : EPOCH 5 - PROGRESS: at 8.34% words, 16933 words/s, in_qsize -1, out_qsize 1\n",
      "2021-02-23 20:24:46,298 : INFO : worker thread finished; awaiting finish of 11 more threads\n",
      "2021-02-23 20:24:46,402 : INFO : worker thread finished; awaiting finish of 10 more threads\n",
      "2021-02-23 20:24:46,449 : INFO : worker thread finished; awaiting finish of 9 more threads\n",
      "2021-02-23 20:24:46,614 : INFO : worker thread finished; awaiting finish of 8 more threads\n",
      "2021-02-23 20:24:46,804 : INFO : worker thread finished; awaiting finish of 7 more threads\n",
      "2021-02-23 20:24:46,808 : INFO : worker thread finished; awaiting finish of 6 more threads\n",
      "2021-02-23 20:24:46,812 : INFO : worker thread finished; awaiting finish of 5 more threads\n",
      "2021-02-23 20:24:46,875 : INFO : worker thread finished; awaiting finish of 4 more threads\n",
      "2021-02-23 20:24:47,839 : INFO : EPOCH 5 - PROGRESS: at 75.03% words, 148320 words/s, in_qsize -1, out_qsize 1\n",
      "2021-02-23 20:24:47,841 : INFO : worker thread finished; awaiting finish of 3 more threads\n",
      "2021-02-23 20:24:47,843 : INFO : worker thread finished; awaiting finish of 2 more threads\n",
      "2021-02-23 20:24:47,877 : INFO : worker thread finished; awaiting finish of 1 more threads\n",
      "2021-02-23 20:24:47,886 : INFO : worker thread finished; awaiting finish of 0 more threads\n",
      "2021-02-23 20:24:47,887 : INFO : EPOCH - 5 : training on 15394371 raw words (11080062 effective words) took 56.1s, 197617 effective words/s\n",
      "2021-02-23 20:24:47,894 : INFO : training on a 76971855 raw words (55405070 effective words) took 280.2s, 197744 effective words/s\n",
      "2021-02-23 20:24:47,895 : WARNING : under 10 jobs per worker: consider setting a smaller `batch_words' for smoother alpha decay\n"
     ]
    },
    {
     "name": "stderr",
     "output_type": "stream",
     "text": [
      "2021-02-23 20:24:49,400 : INFO : saving FastText object under dados/experimento_1/ftt_jur.model, separately None\n",
      "2021-02-23 20:24:49,402 : INFO : storing np array 'vectors_ngrams' to dados/experimento_1/ftt_jur.model.wv.vectors_ngrams.npy\n",
      "2021-02-23 20:24:56,570 : INFO : not storing attribute vectors_norm\n",
      "2021-02-23 20:24:56,571 : INFO : not storing attribute vectors_vocab_norm\n",
      "2021-02-23 20:24:56,572 : INFO : not storing attribute vectors_ngrams_norm\n",
      "2021-02-23 20:24:56,573 : INFO : not storing attribute buckets_word\n",
      "2021-02-23 20:24:56,573 : INFO : storing np array 'vectors_ngrams_lockf' to dados/experimento_1/ftt_jur.model.trainables.vectors_ngrams_lockf.npy\n",
      "2021-02-23 20:25:04,309 : INFO : saved dados/experimento_1/ftt_jur.model\n"
     ]
    }
   ],
   "source": [
    "ftt_jur = grouper.treinar_fasttext('dados/experimento_'+str(exp)+'/base_treino.txt', exp)"
   ]
  },
  {
   "cell_type": "code",
   "execution_count": 50,
   "metadata": {},
   "outputs": [],
   "source": [
    "import subprocess\n",
    "shellscript = subprocess.Popen([\"src/glove.sh\"], stdin=subprocess.PIPE, stdout=subprocess.PIPE, shell=True, text=True)\n",
    "shellscript.wait()\n",
    "returncode = shellscript.returncode"
   ]
  },
  {
   "cell_type": "code",
   "execution_count": 52,
   "metadata": {},
   "outputs": [
    {
     "data": {
      "text/plain": [
       "''"
      ]
     },
     "execution_count": 52,
     "metadata": {},
     "output_type": "execute_result"
    }
   ],
   "source": [
    "stdout"
   ]
  },
  {
   "cell_type": "code",
   "execution_count": 51,
   "metadata": {},
   "outputs": [
    {
     "data": {
      "text/plain": [
       "1"
      ]
     },
     "execution_count": 51,
     "metadata": {},
     "output_type": "execute_result"
    }
   ],
   "source": [
    "returncode"
   ]
  },
  {
   "cell_type": "code",
   "execution_count": 77,
   "metadata": {},
   "outputs": [],
   "source": [
    "corpus=\"D:\\\\projetos\\\\mestrado\\\\experimentos_mestrado\\\\dados\\\\experimento_\"+str(exp)+\"\\\\base_treino_glv.txt\"\n",
    "vocab_file=\"D:\\\\projetos\\\\mestrado\\\\experimentos_mestrado\\\\dados\\\\experimento_\"+str(exp)+\"\\\\glove_vocab.txt\"\n",
    "coocurrence_file=\"D:\\\\projetos\\\\mestrado\\\\experimentos_mestrado\\\\dados\\\\experimento_\"+str(exp)+\"\\\\glv_concurrence.bin\"\n",
    "coocurrence_shuf_file=\"D:\\\\projetos\\\\mestrado\\\\experimentos_mestrado\\\\dados\\\\experimento_\"+str(exp)+\"\\\\glv_concurrence_shuf.bin\"\n",
    "bulddir=\"D:\\\\projetos\\\\gl\\\\GloVe-master\\\\GloVe-master\\\\build\\\\\"\n",
    "save_file=\"D:\\\\projetos\\\\mestrado\\\\experimentos_mestrado\\\\dados\\\\experimento_\"+str(exp)+\"\\\\glv_jur.model\"\n",
    "verbose=2\n",
    "memory=4.0\n",
    "vocab_min_count=5\n",
    "vector_size=100\n",
    "max_iter=15\n",
    "window_size=15\n",
    "binary=2\n",
    "num_threads=8\n",
    "x_max=10\n",
    "shsc_vocabulario = \"echo $BUILDDIR/vocab_count -min-count $VOCAB_MIN_COUNT -verbose $VERBOSE < $CORPUS > $VOCAB_FILE\""
   ]
  },
  {
   "cell_type": "code",
   "execution_count": 89,
   "metadata": {
    "scrolled": true
   },
   "outputs": [
    {
     "name": "stdout",
     "output_type": "stream",
     "text": [
      "echo D:\\projetos\\gl\\GloVe-master\\GloVe-master\\build\\vocab_count.exe -min-count 5 -verbose 2 D:\\projetos\\mestrado\\experimentos_mestrado\\dados\\experimento_1\\base_treino_glv.txt D:\\projetos\\mestrado\\experimentos_mestrado\\dados\\experimento_1\\glove_vocab.txt\n"
     ]
    }
   ],
   "source": [
    "print(\"echo \"+ bulddir+\"vocab_count.exe \"+\"-min-count \"+str(vocab_min_count)+\" -verbose \"+str(verbose)+\" \"+corpus+\" \"+vocab_file)"
   ]
  },
  {
   "cell_type": "code",
   "execution_count": 109,
   "metadata": {},
   "outputs": [
    {
     "name": "stdout",
     "output_type": "stream",
     "text": [
      "mkdir -p build\n",
      "\n",
      "$ build/vocab_count -min-count 5 -verbose 2 < text8 > vocab.txt\n",
      "\n",
      "src/glove.sh: line 29: text8: No such file or directory\n",
      "\n"
     ]
    }
   ],
   "source": [
    "useless_cat_call = subprocess.Popen([\"bash\", \"src/glove.sh\", corpus], \n",
    "                                    stdin=subprocess.PIPE, stdout=subprocess.PIPE, stderr=subprocess.PIPE, text=True, shell=True)\n",
    "output, errors = useless_cat_call.communicate()\n",
    "useless_cat_call.wait()\n",
    "print(output)\n",
    "print(errors)"
   ]
  },
  {
   "cell_type": "code",
   "execution_count": 84,
   "metadata": {},
   "outputs": [
    {
     "name": "stdout",
     "output_type": "stream",
     "text": [
      "\n",
      "O sistema não pode encontrar o caminho especificado.\n",
      "\n"
     ]
    }
   ],
   "source": [
    "useless_cat_call = subprocess.Popen([\"bash src/glove.sh\"], stdin=subprocess.PIPE, stdout=subprocess.PIPE, stderr=subprocess.PIPE, text=True,shell = True)\n",
    "output, errors = useless_cat_call.communicate(input=\"Hello from the other side!\")\n",
    "useless_cat_call.wait()\n",
    "print(output)\n",
    "print(errors)"
   ]
  },
  {
   "cell_type": "code",
   "execution_count": 66,
   "metadata": {},
   "outputs": [
    {
     "name": "stdout",
     "output_type": "stream",
     "text": [
      "\n"
     ]
    }
   ],
   "source": [
    "useless_cat_call = subprocess.run([\"cat\"], stdout=subprocess.PIPE, text=True, input=\"Hello from the other side\", shell=True)\n",
    "print(useless_cat_call.stdout)  # Hello from the other side"
   ]
  },
  {
   "cell_type": "code",
   "execution_count": null,
   "metadata": {},
   "outputs": [],
   "source": []
  }
 ],
 "metadata": {
  "kernelspec": {
   "display_name": "Python 3",
   "language": "python",
   "name": "python3"
  },
  "language_info": {
   "codemirror_mode": {
    "name": "ipython",
    "version": 3
   },
   "file_extension": ".py",
   "mimetype": "text/x-python",
   "name": "python",
   "nbconvert_exporter": "python",
   "pygments_lexer": "ipython3",
   "version": "3.7.4"
  }
 },
 "nbformat": 4,
 "nbformat_minor": 2
}
