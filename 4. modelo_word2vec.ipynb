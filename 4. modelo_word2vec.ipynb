{
 "cells": [
  {
   "cell_type": "code",
   "execution_count": 6,
   "metadata": {},
   "outputs": [],
   "source": [
    "from gensim.models import Word2Vec\n",
    "from gensim.models.word2vec import LineSentence\n",
    "import multiprocessing\n",
    "import pandas as pd\n",
    "import numpy as np\n",
    "from sklearn.decomposition import PCA\n",
    "import matplotlib.pyplot as plt\n",
    "from os import listdir\n",
    "from tqdm.auto import tqdm\n",
    "tqdm.pandas()"
   ]
  },
  {
   "cell_type": "markdown",
   "metadata": {},
   "source": [
    "### Separa conteúdo textual do resto do arquivo estruturado:"
   ]
  },
  {
   "cell_type": "code",
   "execution_count": 28,
   "metadata": {},
   "outputs": [
    {
     "data": {
      "application/vnd.jupyter.widget-view+json": {
       "model_id": "90100cc1c49848f8ab8894c4d65e4d38",
       "version_major": 2,
       "version_minor": 0
      },
      "text/plain": [
       "HBox(children=(IntProgress(value=0, max=435), HTML(value='')))"
      ]
     },
     "metadata": {},
     "output_type": "display_data"
    },
    {
     "name": "stdout",
     "output_type": "stream",
     "text": [
      "\n"
     ]
    }
   ],
   "source": [
    "caminho = \"dados/raw_data/\"\n",
    "\n",
    "corpus = open(\"dados/corpus_txt/corpus_txt.txt\", mode=\"a+\",encoding=\"utf-8\")\n",
    "for arquivo in tqdm(listdir(caminho)):\n",
    "    dados = pd.read_csv(caminho + arquivo, usecols=['T'])\n",
    "    for i, dado in enumerate(dados.values):\n",
    "            corpus.writelines(dados.values[i][0])\n",
    "            corpus.writelines(\"\\n\")\n",
    "corpus.close()"
   ]
  },
  {
   "cell_type": "code",
   "execution_count": 7,
   "metadata": {},
   "outputs": [],
   "source": [
    "corpus = \"dados/corpus_txt/corpus_txt.txt\"\n",
    "model = Word2Vec(LineSentence(corpus), size=100, window=5,\n",
    "                 \n",
    "                 min_count=1, sg=1, hs=1, iter=10, workers=multiprocessing.cpu_count())"
   ]
  },
  {
   "cell_type": "code",
   "execution_count": 8,
   "metadata": {},
   "outputs": [
    {
     "name": "stdout",
     "output_type": "stream",
     "text": [
      "Word2Vec(vocab=74252, size=100, alpha=0.025)\n"
     ]
    }
   ],
   "source": [
    "print(model)"
   ]
  },
  {
   "cell_type": "code",
   "execution_count": 9,
   "metadata": {},
   "outputs": [],
   "source": [
    "words = list(model.wv.vocab)\n",
    "model.save(\"word2vec_stemming.model\")"
   ]
  },
  {
   "cell_type": "code",
   "execution_count": 68,
   "metadata": {},
   "outputs": [
    {
     "data": {
      "text/plain": [
       "{'mulh': <gensim.models.keyedvectors.Vocab at 0x2dc529eb348>,\n",
       " 'julg': <gensim.models.keyedvectors.Vocab at 0x2dc52898cc8>,\n",
       " 'decid': <gensim.models.keyedvectors.Vocab at 0x2dc529225c8>,\n",
       " 'acus': <gensim.models.keyedvectors.Vocab at 0x2dc529222c8>,\n",
       " 'cidada': <gensim.models.keyedvectors.Vocab at 0x2dc52939ec8>,\n",
       " 'hom': <gensim.models.keyedvectors.Vocab at 0x2dc529eb488>,\n",
       " 'prova': <gensim.models.keyedvectors.Vocab at 0x2dc52852388>,\n",
       " 'homolog': <gensim.models.keyedvectors.Vocab at 0x2dc52894848>,\n",
       " 'evidencia': <gensim.models.keyedvectors.Vocab at 0x2dc5301bdc8>}"
      ]
     },
     "execution_count": 68,
     "metadata": {},
     "output_type": "execute_result"
    }
   ],
   "source": [
    "l = ['cidada', 'prova', 'evidencia', 'julg', 'homolog', 'decid', 'hom', 'mulh', 'acus']\n",
    "dic = {k:model.wv.vocab[k] for k in set(model.wv.vocab).intersection(l)}\n",
    "dic"
   ]
  },
  {
   "cell_type": "code",
   "execution_count": 69,
   "metadata": {
    "scrolled": true
   },
   "outputs": [
    {
     "name": "stderr",
     "output_type": "stream",
     "text": [
      "C:\\ProgramData\\Anaconda3\\lib\\site-packages\\ipykernel_launcher.py:1: DeprecationWarning: Call to deprecated `__getitem__` (Method will be removed in 4.0.0, use self.wv.__getitem__() instead).\n",
      "  \"\"\"Entry point for launching an IPython kernel.\n"
     ]
    },
    {
     "data": {
      "text/plain": [
       "array([[-2.60003924e-01, -2.98908979e-01, -1.79425374e-01,\n",
       "        -2.78656036e-01,  8.42788219e-02,  1.72130540e-01,\n",
       "        -3.43813419e-01, -1.09010555e-01,  1.75609048e-02,\n",
       "         8.33742559e-01, -2.66445249e-01, -8.42128601e-03,\n",
       "         1.74767032e-01,  4.07010794e-01, -4.41007733e-01,\n",
       "         6.40245080e-01, -4.71416712e-02, -6.87626079e-02,\n",
       "        -1.45120472e-01, -2.11284682e-01, -7.07493842e-01,\n",
       "         6.02100432e-01, -2.53073182e-02,  5.50550409e-02,\n",
       "        -1.05789833e-01,  3.48939419e-01, -3.40175629e-01,\n",
       "        -2.68245131e-01, -1.40233144e-01, -3.13267589e-01,\n",
       "         1.85906902e-01,  3.84822428e-01, -4.62318987e-01,\n",
       "        -2.65910089e-01, -2.77093146e-02,  1.72204092e-01,\n",
       "         1.73933119e-01, -7.25694358e-01, -3.72990757e-01,\n",
       "        -2.66311020e-01,  5.43234944e-01, -5.77212334e-01,\n",
       "        -7.71694541e-01, -4.37489748e-01, -8.25894773e-02,\n",
       "        -4.38822210e-01, -2.59425938e-01,  4.07148987e-01,\n",
       "        -3.70468378e-01,  4.01631206e-01,  1.29016593e-01,\n",
       "         1.87124208e-01, -7.20758587e-02, -4.91674632e-01,\n",
       "         2.10587252e-02,  2.04457402e-01,  1.18177228e-01,\n",
       "        -1.77237093e-01, -1.02277901e-02,  4.97836322e-02,\n",
       "        -1.12008698e-01,  2.02756360e-01, -5.50218105e-01,\n",
       "        -3.70257169e-01,  2.47560032e-02, -3.68005335e-01,\n",
       "         2.89541900e-01, -5.25612161e-02, -7.31689513e-01,\n",
       "         5.21969616e-01, -2.32382238e-01,  3.63545805e-01,\n",
       "         4.25358452e-02, -1.16325344e-03,  2.44272277e-02,\n",
       "         6.58388317e-01, -3.32761437e-01, -1.06236272e-01,\n",
       "         1.17073029e-01,  3.03820521e-02,  5.53544819e-01,\n",
       "         3.64197403e-01,  1.05793387e-01, -3.73830050e-01,\n",
       "         6.18495140e-03,  2.27369457e-01, -3.69256228e-01,\n",
       "        -4.47370082e-01, -3.16564441e-01, -2.04080567e-01,\n",
       "        -4.46790420e-02,  4.22373623e-01,  3.18223864e-01,\n",
       "        -3.79942171e-03,  8.41550052e-01,  1.35150194e-01,\n",
       "        -5.42221427e-01, -3.76797616e-01,  3.76011319e-02,\n",
       "        -9.79149565e-02],\n",
       "       [ 3.69141042e-01,  4.04547900e-01, -3.90289873e-01,\n",
       "         2.65904099e-01, -2.79394805e-01,  2.89714366e-01,\n",
       "        -7.03313947e-03,  2.37353161e-01, -4.33992557e-02,\n",
       "         8.81493315e-02,  1.47663906e-01, -4.89372276e-02,\n",
       "        -1.64819479e-01,  2.03117639e-01, -4.27342892e-01,\n",
       "         1.13070309e-01,  3.21219802e-01, -2.19964325e-01,\n",
       "        -5.58606200e-02, -3.40787619e-01,  2.12046131e-01,\n",
       "         1.97267115e-01, -1.50187850e-01, -2.20507696e-01,\n",
       "         2.49750882e-01, -1.10918313e-01, -3.32343310e-01,\n",
       "         1.58675954e-01,  2.14245304e-01,  4.26480062e-02,\n",
       "         1.28620833e-01,  2.43562788e-01,  3.44339311e-02,\n",
       "         3.86028737e-02, -3.06249261e-01,  4.33746070e-01,\n",
       "        -3.79544020e-01, -1.45026684e-01, -9.47364643e-02,\n",
       "        -4.08426188e-02,  6.88734651e-02, -3.31906468e-01,\n",
       "        -1.35299712e-01, -1.66886061e-01, -1.44396529e-01,\n",
       "        -1.14805847e-01,  3.79119694e-01,  7.83986151e-02,\n",
       "         2.32156232e-01,  2.66764551e-01,  8.04594234e-02,\n",
       "        -6.37516528e-02,  2.84409106e-01,  8.12806014e-04,\n",
       "        -4.09078635e-02,  3.38282973e-01,  1.18069448e-01,\n",
       "         7.02054128e-02,  1.12833731e-01, -3.37469071e-01,\n",
       "         7.31107667e-02,  4.34173271e-02,  2.85412930e-03,\n",
       "         2.01102138e-01, -9.31924731e-02, -1.98215023e-02,\n",
       "        -1.16193011e-01,  1.25737160e-01, -2.16250390e-01,\n",
       "         2.76745744e-02,  1.33105084e-01, -6.49845421e-01,\n",
       "        -9.84556600e-03, -7.45392516e-02,  2.54522562e-01,\n",
       "        -2.15553492e-01,  1.49011493e-01,  2.10512400e-01,\n",
       "         1.87016614e-02,  8.91445577e-02, -1.94304928e-01,\n",
       "        -3.10293734e-01,  2.04050437e-01,  2.14706808e-01,\n",
       "        -2.38731503e-01, -2.75729924e-01, -1.11144960e-01,\n",
       "        -7.24430233e-02,  4.38660592e-01,  2.70031728e-02,\n",
       "        -6.40248284e-02, -6.15828857e-02, -1.09119087e-01,\n",
       "        -8.03363174e-02,  9.93984863e-02, -1.08775698e-01,\n",
       "         2.29394495e-01, -1.04285322e-01, -3.99749354e-02,\n",
       "        -3.80320102e-01],\n",
       "       [ 5.44307172e-01,  4.23726946e-01, -1.44630373e-01,\n",
       "         4.13779914e-01, -2.78901905e-01, -6.97234273e-02,\n",
       "        -1.51341092e-02,  1.44270122e-01,  2.80074865e-01,\n",
       "         1.72524843e-02,  2.43256450e-01,  1.79840177e-02,\n",
       "        -3.29549193e-01, -3.12069595e-01, -3.79259109e-01,\n",
       "         1.26686290e-01, -2.65344948e-01, -1.26033202e-01,\n",
       "         2.37661093e-01, -1.53091282e-01, -6.76281080e-02,\n",
       "        -1.44981429e-01,  3.73812914e-01,  2.44266331e-01,\n",
       "        -3.17443669e-01, -7.02328086e-02,  4.07017767e-02,\n",
       "         1.38065502e-01,  1.67897925e-01, -1.50801167e-02,\n",
       "         6.48732409e-02,  3.16963226e-01,  5.83510458e-01,\n",
       "        -2.52658695e-01, -2.36817464e-01,  3.31220068e-02,\n",
       "        -4.09450084e-02, -5.93322702e-02,  4.39819247e-02,\n",
       "        -1.47144943e-01, -1.69663981e-01, -2.23517418e-01,\n",
       "        -2.19844535e-01, -3.34213860e-02,  2.95783463e-03,\n",
       "         6.78188130e-02, -2.69527644e-01,  3.47941637e-01,\n",
       "         2.33728494e-02, -2.72004783e-01,  4.98978615e-01,\n",
       "         2.51232415e-01,  1.49959326e-01,  2.02212572e-01,\n",
       "         3.56415093e-01, -5.85206635e-02,  1.91966861e-01,\n",
       "         1.75831825e-01, -1.88003078e-01, -3.84021193e-01,\n",
       "        -4.60168347e-02, -2.84543723e-01, -5.26031494e-01,\n",
       "         4.99529541e-01,  6.56989217e-02, -2.85433084e-01,\n",
       "        -3.24909419e-01,  9.81453154e-03, -1.70500115e-01,\n",
       "         1.32152217e-03, -1.98811311e-02, -4.09665734e-01,\n",
       "         1.27053350e-01, -3.77004594e-01,  3.62340473e-02,\n",
       "        -3.18365484e-01,  2.96765894e-01,  1.09490296e-02,\n",
       "        -1.52098849e-01,  2.92708337e-01,  3.25268686e-01,\n",
       "        -2.78200418e-01, -1.08449217e-02,  9.50455964e-02,\n",
       "        -3.27156246e-01,  1.60847679e-01,  1.15516625e-01,\n",
       "         1.81735698e-02,  2.71289021e-01, -3.17422390e-01,\n",
       "         1.93920452e-03,  9.87109765e-02, -1.16106808e-01,\n",
       "         8.64390433e-02,  6.39557779e-01, -5.98646760e-01,\n",
       "         1.26435995e-01,  1.75532047e-03, -2.11412720e-02,\n",
       "        -2.55164921e-01],\n",
       "       [-1.48844510e-01, -1.81049872e-02, -1.10255376e-01,\n",
       "         2.34094843e-01,  1.03107527e-01, -1.35162368e-01,\n",
       "         5.49198806e-01, -2.60215640e-01,  3.16793591e-01,\n",
       "        -5.11629105e-01,  1.69705376e-01,  3.27867955e-01,\n",
       "         1.15549445e-01,  1.31898358e-01, -2.36558601e-01,\n",
       "         1.29653469e-01, -4.41379882e-02,  1.67311206e-02,\n",
       "         4.07330722e-01, -4.35687572e-01,  8.46458972e-02,\n",
       "         1.94990307e-01,  5.57400361e-02, -1.83786184e-01,\n",
       "         4.73676741e-01,  2.52100267e-02, -1.43764362e-01,\n",
       "        -1.72819763e-01, -3.81799549e-01,  1.07127428e-01,\n",
       "         1.40364496e-02, -2.03610249e-02, -2.61317909e-01,\n",
       "         2.44464979e-01,  7.78570250e-02,  3.44463736e-01,\n",
       "         6.75619245e-02, -1.42792910e-01, -9.66434479e-02,\n",
       "        -3.75536501e-01,  3.63162696e-01,  1.81136474e-01,\n",
       "        -1.29549667e-01, -2.86706924e-01, -1.59394145e-01,\n",
       "         9.41996742e-03, -8.61268193e-02,  1.17305800e-01,\n",
       "         6.86116666e-02, -2.29433134e-01, -1.18900329e-01,\n",
       "        -4.20490913e-02, -1.08387321e-01, -2.40906253e-01,\n",
       "        -7.80989230e-02,  1.12795480e-01, -3.42375308e-01,\n",
       "         1.08401075e-01,  3.50144207e-02,  2.44058412e-03,\n",
       "         1.94370046e-01,  4.94007953e-02, -5.37240766e-02,\n",
       "         7.27749839e-02,  1.72121421e-01,  1.28736168e-01,\n",
       "         1.97573289e-01,  1.97043225e-01, -1.60845965e-01,\n",
       "         4.75443661e-01,  2.20925547e-03,  5.46219647e-01,\n",
       "         4.89624172e-01,  1.95325196e-01, -8.53334516e-02,\n",
       "         1.18785799e-01,  2.62507826e-01, -1.35812357e-01,\n",
       "         4.02690992e-02,  1.88234318e-02, -3.40794563e-01,\n",
       "        -6.61666766e-02,  2.03984752e-01,  7.25785568e-02,\n",
       "        -3.36297601e-01,  7.42479041e-02,  8.04462843e-03,\n",
       "        -2.51272649e-01,  2.41697147e-01, -3.50584239e-02,\n",
       "        -6.48735166e-02,  3.41438651e-01,  4.14986573e-02,\n",
       "         4.29925323e-01,  5.57013750e-01, -4.31327432e-01,\n",
       "         1.14938326e-01,  1.70658827e-01, -2.35246733e-01,\n",
       "        -8.56612697e-02],\n",
       "       [-5.55539429e-01, -9.41319093e-02,  2.07172871e-01,\n",
       "        -4.43826973e-01,  4.65042353e-01,  1.87838599e-01,\n",
       "         1.98826939e-01, -1.65098950e-01,  3.01698387e-01,\n",
       "         1.05178850e-02, -5.02348900e-01, -8.87818076e-03,\n",
       "         4.07179981e-01, -1.03494391e-01,  9.32524726e-03,\n",
       "         1.27009466e-01, -1.89527735e-01, -2.07846567e-01,\n",
       "        -6.57477826e-02,  4.36903507e-01,  2.56213784e-01,\n",
       "         2.65798271e-01, -4.31982487e-01,  6.66940361e-02,\n",
       "         7.54017904e-02, -6.71316922e-01, -2.23464787e-01,\n",
       "        -3.45588148e-01,  2.26616021e-02, -1.93905041e-01,\n",
       "        -3.97792190e-01,  1.93368569e-01,  3.79375875e-01,\n",
       "        -4.48608175e-02,  2.52131820e-01, -9.99451503e-02,\n",
       "         2.93829918e-01,  1.73817784e-01,  2.37422541e-01,\n",
       "        -1.60735428e-01, -7.09237829e-02,  2.14126617e-01,\n",
       "        -6.10497952e-01, -1.84177056e-01, -3.53756309e-01,\n",
       "        -5.95291555e-01, -1.02719307e-01,  2.29408324e-01,\n",
       "         4.85670753e-03, -1.45784929e-01, -3.13011050e-01,\n",
       "        -6.06207371e-01, -5.57621457e-02, -2.40694255e-01,\n",
       "         4.98987436e-01,  2.43388265e-01, -2.46465147e-01,\n",
       "         3.51062790e-02,  4.49383445e-02, -5.35391569e-02,\n",
       "        -1.20593235e-02, -3.02714169e-01,  2.87471265e-01,\n",
       "         4.08002324e-02,  1.30104229e-01,  3.29684079e-01,\n",
       "        -3.39437686e-02,  1.03338823e-01,  3.16793859e-01,\n",
       "         1.44546870e-02, -5.20921052e-01,  4.41277653e-01,\n",
       "        -5.42527139e-02,  1.42959997e-01, -1.01501592e-01,\n",
       "         1.97617728e-02,  3.18407297e-01,  9.38390940e-02,\n",
       "         1.64663985e-01, -6.07454218e-02,  4.62151051e-01,\n",
       "        -2.77239472e-01,  2.99059421e-01,  1.65740684e-01,\n",
       "        -1.46481574e-01, -2.37107370e-02,  2.99651742e-01,\n",
       "        -3.60250831e-01,  4.82466780e-02,  9.25239846e-02,\n",
       "        -2.37515882e-01,  2.69364208e-01,  1.79632723e-01,\n",
       "         3.11909854e-01,  4.94773626e-01, -3.86458665e-01,\n",
       "        -3.75883281e-02, -3.54738608e-02,  4.75420430e-02,\n",
       "        -1.53231665e-01],\n",
       "       [-1.70377597e-01, -1.07987346e-02, -4.13309306e-01,\n",
       "        -9.67514515e-02,  5.56078553e-01,  1.40108585e-01,\n",
       "        -3.67830813e-01,  5.43077886e-01,  1.93755507e-01,\n",
       "         6.48736119e-01, -2.68338263e-01,  2.33832095e-02,\n",
       "         6.58177361e-02,  2.10128695e-01, -3.65193665e-01,\n",
       "        -2.51138449e-01,  2.49036878e-01, -2.82449633e-01,\n",
       "         9.85984784e-03,  5.04235849e-02,  5.47475182e-02,\n",
       "         5.25148451e-01, -7.66882718e-01,  3.98332149e-01,\n",
       "         2.42802218e-01, -3.02036613e-01, -7.46336877e-02,\n",
       "        -2.49991000e-01, -1.47881553e-01,  8.29102006e-03,\n",
       "         1.09772176e-01,  2.30835363e-01, -1.69972181e-01,\n",
       "         1.19849414e-01,  4.06148016e-01, -4.09296108e-03,\n",
       "         7.30801284e-01, -2.44919315e-01, -1.30150720e-01,\n",
       "        -2.25854991e-03,  3.03724140e-01, -5.43513000e-01,\n",
       "        -7.23465145e-01, -4.36586350e-01, -4.30732630e-02,\n",
       "        -7.28925526e-01,  7.88299888e-02, -6.07235990e-02,\n",
       "        -4.99607891e-01, -6.29617929e-01, -2.20296204e-01,\n",
       "        -1.90638527e-01,  1.34390667e-01, -3.88583153e-01,\n",
       "        -1.58164516e-01,  6.19342566e-01,  2.70618320e-01,\n",
       "        -1.42625466e-01, -1.82595477e-02,  1.08787566e-01,\n",
       "        -3.50470334e-01,  2.21701935e-01,  3.00275117e-01,\n",
       "         6.29687548e-01,  5.09292006e-01,  3.82180475e-02,\n",
       "        -1.71513662e-01,  8.86303112e-02,  1.75909340e-01,\n",
       "         2.36130785e-02, -3.24661016e-01,  1.05646752e-01,\n",
       "        -1.76830024e-01, -2.30890378e-01,  3.49298492e-02,\n",
       "         3.26165080e-01,  2.94256061e-01,  4.74390298e-01,\n",
       "         1.60657227e-01, -1.37668336e-02,  5.02839267e-01,\n",
       "        -1.28008723e-01,  5.68215072e-01,  1.15435012e-01,\n",
       "         2.08699703e-01, -2.81968676e-02, -1.33266086e-02,\n",
       "        -2.45501056e-01, -5.22428453e-01, -3.07919830e-01,\n",
       "         3.98961484e-01,  9.03137103e-02,  4.24085073e-02,\n",
       "        -1.61358461e-01,  7.12044835e-01, -1.45559654e-01,\n",
       "        -2.18826130e-01,  2.42067296e-02, -3.70569319e-01,\n",
       "         2.17530876e-02],\n",
       "       [ 2.09213838e-01,  8.90876502e-02, -3.46262902e-01,\n",
       "         3.00827116e-01,  1.58166662e-01,  1.24273874e-01,\n",
       "        -9.87687856e-02, -3.18147168e-02, -2.51330346e-01,\n",
       "         9.45105553e-02,  1.38246104e-01, -8.26784223e-03,\n",
       "         2.33089909e-01,  1.75820693e-01, -6.66280538e-02,\n",
       "         3.20370078e-01,  3.61563593e-01, -2.77720094e-01,\n",
       "        -5.77742271e-02, -5.00271209e-02,  2.91128010e-01,\n",
       "        -4.64422256e-02, -5.41560709e-01,  1.70431122e-01,\n",
       "         2.38372818e-01, -8.50431621e-03,  1.48582131e-01,\n",
       "        -5.43153770e-02, -3.64292234e-01,  3.31115931e-01,\n",
       "         1.53928921e-01, -7.29175704e-03,  2.54436284e-01,\n",
       "         3.26234519e-01, -1.15761548e-01, -2.53359079e-01,\n",
       "         4.16308522e-01, -2.96560556e-01, -5.54085732e-01,\n",
       "        -2.41965026e-01,  3.38714004e-01, -2.01887086e-01,\n",
       "        -5.78381062e-01,  7.34003112e-02, -2.25489676e-01,\n",
       "        -2.09089160e-01,  3.40804309e-01, -4.89142478e-01,\n",
       "         3.58151913e-01, -2.65359855e-03, -3.87133211e-01,\n",
       "         2.57666290e-01, -1.29740953e-01,  3.39530587e-01,\n",
       "         1.51944458e-01,  4.76254195e-01,  6.28519878e-02,\n",
       "         1.32100701e-01,  4.54814322e-02, -1.60932779e-01,\n",
       "         2.94165701e-01, -3.64692688e-01, -2.29092926e-01,\n",
       "        -3.13244194e-01,  2.02699617e-01,  9.36442092e-02,\n",
       "        -6.00143485e-02,  1.57877132e-01,  8.97239000e-02,\n",
       "         1.44183084e-01,  1.39102757e-01,  2.03248754e-01,\n",
       "        -2.06396095e-02, -3.31509896e-02, -1.21616237e-01,\n",
       "        -1.89292267e-01,  5.29755913e-02,  7.81143308e-02,\n",
       "        -6.11473382e-01,  2.65203953e-01, -3.59093457e-01,\n",
       "        -3.60295117e-01, -7.16218591e-01,  8.55056271e-02,\n",
       "        -3.55964392e-01,  1.26741817e-02, -1.79328118e-02,\n",
       "        -3.60225230e-01, -4.09191161e-01, -4.03441638e-01,\n",
       "         3.22953224e-01,  4.58122015e-01, -4.01733965e-02,\n",
       "         8.10925439e-02,  5.64722791e-02, -4.12524603e-02,\n",
       "         2.91855335e-01,  4.32003111e-01,  2.33845472e-01,\n",
       "        -2.87792653e-01],\n",
       "       [ 3.87768418e-01,  4.03909415e-01,  3.56326878e-01,\n",
       "         3.69822353e-01,  6.18952960e-02,  4.51056249e-02,\n",
       "         1.55196667e-01,  2.71228254e-01, -9.03388560e-02,\n",
       "         1.94000766e-01,  2.57720426e-02, -2.49565721e-01,\n",
       "        -1.75097317e-01, -2.26798490e-01, -7.38069043e-02,\n",
       "        -2.93833623e-03,  4.44925368e-01, -2.36962259e-01,\n",
       "        -7.24967360e-01, -8.36695910e-01, -5.61629117e-01,\n",
       "         1.98866844e-01, -3.59217465e-01,  2.89245788e-03,\n",
       "         2.04534724e-01,  3.25196773e-01,  3.46985936e-01,\n",
       "         3.96873690e-02,  8.60648230e-03, -4.18860376e-01,\n",
       "        -4.72970039e-01, -1.61554158e-01, -3.15840930e-01,\n",
       "        -2.73427576e-01,  3.82202268e-01,  2.42311493e-01,\n",
       "        -5.14451146e-01,  2.16840029e-01,  2.44453639e-01,\n",
       "        -9.81189758e-02, -5.46412542e-02,  9.37369931e-03,\n",
       "        -1.21437758e-01, -4.83408928e-01, -7.09602773e-01,\n",
       "        -4.67814744e-01,  1.49337143e-01,  8.65824819e-01,\n",
       "         1.83907803e-02,  3.28167677e-01, -1.77901506e-01,\n",
       "         6.30280137e-01, -4.38297689e-02, -8.41456279e-02,\n",
       "         1.83374569e-01,  4.12597030e-01, -7.92223454e-01,\n",
       "         4.92739707e-01, -2.55878985e-01, -2.29405791e-01,\n",
       "        -3.88422310e-01, -5.60228154e-02,  7.50019588e-03,\n",
       "         3.72152865e-01, -5.68149053e-02, -1.81270421e-01,\n",
       "        -4.47585315e-01,  9.26156566e-02, -3.43942076e-01,\n",
       "         1.41039595e-01,  4.79596518e-02, -3.18551570e-01,\n",
       "         4.96323593e-02,  2.20590994e-01, -1.10189132e-01,\n",
       "         2.11758450e-01,  3.23537558e-01,  2.31302634e-01,\n",
       "        -6.18929230e-02,  7.55531549e-01,  6.62870258e-02,\n",
       "         3.28577191e-01, -8.23360920e-01, -1.13412827e-01,\n",
       "        -3.80852446e-02,  9.13161635e-02, -6.58621550e-01,\n",
       "         1.92139372e-01,  5.02854764e-01,  2.58605350e-02,\n",
       "         1.78571075e-01,  3.20785701e-01,  2.60593370e-02,\n",
       "        -6.99237585e-01,  2.28039846e-01,  1.14099324e-01,\n",
       "         3.68133128e-01,  7.86927700e-01,  1.80139497e-01,\n",
       "        -3.99518609e-01],\n",
       "       [ 3.34888071e-01, -6.76299453e-01, -6.81340024e-02,\n",
       "         9.10145998e-01,  2.82806624e-02,  3.09919953e-01,\n",
       "        -4.59815830e-01, -3.59053463e-01,  3.35720554e-02,\n",
       "         7.28755832e-01,  2.94882149e-01, -2.45957479e-01,\n",
       "         9.24960077e-01,  1.04195736e-01, -2.09083557e-01,\n",
       "         6.98685527e-01,  1.81684160e+00, -1.53576446e+00,\n",
       "        -2.60852307e-01, -5.67513525e-01, -5.05151629e-01,\n",
       "        -1.24524593e+00,  2.04069585e-01, -7.98117220e-02,\n",
       "         1.29039660e-01, -1.18408598e-01,  3.78788382e-01,\n",
       "        -5.47157526e-01,  7.31954694e-01,  3.42471093e-01,\n",
       "        -2.45452332e+00,  2.35097602e-01, -4.54028577e-01,\n",
       "         4.85941052e-01,  2.97990233e-01,  2.59520829e-01,\n",
       "        -1.84814259e-01,  8.69436622e-01,  2.79022753e-01,\n",
       "        -1.62267715e-01,  1.20658731e+00, -1.02562809e+00,\n",
       "        -2.07068786e-01, -1.23168275e-01,  6.76643848e-01,\n",
       "        -1.08742881e+00,  1.42703855e+00, -6.14792645e-01,\n",
       "        -6.34969652e-01, -7.47753680e-01, -1.99691033e+00,\n",
       "        -2.77228296e-01,  4.83511180e-01, -6.74250722e-01,\n",
       "         4.13613856e-01,  4.04128104e-01, -5.17412245e-01,\n",
       "        -3.55470240e-01,  1.81100175e-01,  6.58910334e-01,\n",
       "        -9.64561462e-01,  1.96939230e-01, -1.76283315e-01,\n",
       "        -2.91650832e-01,  1.08798361e+00, -9.97644365e-01,\n",
       "        -4.59734112e-01,  1.58037856e-01,  6.72397733e-01,\n",
       "         2.92292982e-01, -5.52668810e-01,  7.53319740e-01,\n",
       "         4.73397493e-01, -4.39932972e-01,  9.43291903e-01,\n",
       "         6.50834680e-01,  2.83822000e-01,  7.89001465e-01,\n",
       "        -1.52845991e+00,  5.46459734e-01,  7.23243833e-01,\n",
       "        -1.81581363e-01, -4.41049159e-01, -2.43986905e-01,\n",
       "         1.27669418e+00,  4.28739578e-01,  3.81672233e-01,\n",
       "        -4.71261978e-01,  2.15047032e-01, -1.74265933e+00,\n",
       "         1.45224988e+00,  9.59229827e-01,  5.24911523e-01,\n",
       "        -7.11392105e-01,  1.46773255e+00, -6.79508150e-01,\n",
       "         1.63471448e+00,  4.14040349e-02,  2.55001807e+00,\n",
       "         6.24562263e-01]], dtype=float32)"
      ]
     },
     "execution_count": 69,
     "metadata": {},
     "output_type": "execute_result"
    }
   ],
   "source": [
    "X = model[dic]\n",
    "X"
   ]
  },
  {
   "cell_type": "code",
   "execution_count": 70,
   "metadata": {},
   "outputs": [
    {
     "data": {
      "image/png": "[encoded data removed]",
      "text/plain": [
       "<Figure size 432x288 with 1 Axes>"
      ]
     },
     "metadata": {
      "needs_background": "light"
     },
     "output_type": "display_data"
    }
   ],
   "source": [
    "pca = PCA(n_components=2)\n",
    "result = pca.fit_transform(X)\n",
    "plt.scatter(result[:, 0], result[:, 1])\n",
    "for i, word in enumerate(l):\n",
    "    plt.annotate(word, xy=(result[i, 0], result[i, 1]))\n",
    "plt.show()"
   ]
  },
  {
   "cell_type": "code",
   "execution_count": 18,
   "metadata": {},
   "outputs": [
    {
     "data": {
      "text/plain": [
       "[('cidada', 0.46550628542900085)]"
      ]
     },
     "execution_count": 18,
     "metadata": {},
     "output_type": "execute_result"
    }
   ],
   "source": [
    "model.wv.most_similar(positive=['juiz', 'hom'], negative=['julg'], topn=1)"
   ]
  },
  {
   "cell_type": "code",
   "execution_count": 57,
   "metadata": {},
   "outputs": [
    {
     "data": {
      "text/plain": [
       "[('br', 0.6438158750534058),\n",
       " ('produz', 0.6436952948570251),\n",
       " ('gov', 0.6112778782844543),\n",
       " ('efeit', 0.6020599603652954),\n",
       " ('surt', 0.6015852093696594),\n",
       " ('desistenc', 0.5660452246665955),\n",
       " ('transaca', 0.5197044014930725),\n",
       " ('transa', 0.5108782649040222),\n",
       " ('www', 0.49094200134277344),\n",
       " ('renunc', 0.4873109459877014),\n",
       " ('galin', 0.4806278944015503),\n",
       " ('homologaca', 0.46710607409477234),\n",
       " ('consum', 0.4648081064224243),\n",
       " ('legal', 0.45830559730529785),\n",
       " ('zit', 0.45110487937927246),\n",
       " ('polastr', 0.4492359757423401),\n",
       " ('autor/exequ', 0.4474542737007141),\n",
       " ('kes', 0.44032472372055054),\n",
       " ('salvaran', 0.4353826642036438),\n",
       " ('restain', 0.43337929248809814)]"
      ]
     },
     "execution_count": 57,
     "metadata": {},
     "output_type": "execute_result"
    }
   ],
   "source": [
    "model.wv.similar_by_word('homolog', topn=20, restrict_vocab=None)"
   ]
  },
  {
   "cell_type": "code",
   "execution_count": null,
   "metadata": {},
   "outputs": [],
   "source": []
  }
 ],
 "metadata": {
  "kernelspec": {
   "display_name": "Python 3",
   "language": "python",
   "name": "python3"
  },
  "language_info": {
   "codemirror_mode": {
    "name": "ipython",
    "version": 3
   },
   "file_extension": ".py",
   "mimetype": "text/x-python",
   "name": "python",
   "nbconvert_exporter": "python",
   "pygments_lexer": "ipython3",
   "version": "3.7.4"
  }
 },
 "nbformat": 4,
 "nbformat_minor": 2
}
